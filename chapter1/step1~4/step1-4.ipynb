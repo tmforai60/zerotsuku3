{
 "cells": [
  {
   "cell_type": "markdown",
   "metadata": {},
   "source": [
    "# はじめに"
   ]
  },
  {
   "cell_type": "markdown",
   "metadata": {},
   "source": [
    "以下のキーワードはpythonの基礎的な使い方に関する内容であるため、今回は既知として扱います。\n",
    "\n",
    "キーワード:<br>\n",
    "クラス、インスタンス、メソッド、フィールド<br>\n",
    "クラス継承、親クラス（スーパークラス）、子クラス（サブクラス）\n",
    "\n",
    "\n",
    "※クラス、インスタンス、メソッド、フィールドという単語をご存知でない方はこちらを参照してください<br>\n",
    "参考：[Python入門 クラスの仕組みとサンプル](https://itsakura.com/python-class)\n",
    "\n",
    "※クラス継承、親クラス（スーパークラス）、子クラス（サブクラス）という単語をご存知でない方はこちらを参照してください<br>\n",
    "参考：[【Python入門】クラスの継承についてやさしく解説](https://blog.codecamp.jp/python-class-2)\n"
   ]
  },
  {
   "cell_type": "markdown",
   "metadata": {},
   "source": [
    "# Step1 変数クラス"
   ]
  },
  {
   "cell_type": "markdown",
   "metadata": {},
   "source": [
    "Pythonは動的型付け言語なので普段はあまり意識しないが、変数はすべては何らかの型をもつ。<br>\n",
    "※より正確には変数はすべて何らかのクラス（型）から生成されたインスタンスである。\n",
    "\n",
    "例を見てみよう。"
   ]
  },
  {
   "cell_type": "code",
   "execution_count": 33,
   "metadata": {},
   "outputs": [
    {
     "name": "stdout",
     "output_type": "stream",
     "text": [
      "<class 'int'>\n",
      "<class 'str'>\n"
     ]
    }
   ],
   "source": [
    "x = 1\n",
    "print(type(x))\n",
    "\n",
    "y = '1'\n",
    "print(type(y))"
   ]
  },
  {
   "cell_type": "markdown",
   "metadata": {},
   "source": [
    "それそれのクラスは独自のメソッドをもつ。<br>\n",
    "これらを利用することで様々な操作を手軽に行うことができる。\n",
    "\n",
    "以下はstrクラスがもつrepleceメソッドを使用している例である。"
   ]
  },
  {
   "cell_type": "code",
   "execution_count": 34,
   "metadata": {},
   "outputs": [
    {
     "name": "stdout",
     "output_type": "stream",
     "text": [
      "2\n"
     ]
    }
   ],
   "source": [
    "y = y.replace('1', '2')  # 1→2に置換\n",
    "print(y)"
   ]
  },
  {
   "cell_type": "markdown",
   "metadata": {},
   "source": [
    "ちなみにreplaceメソッドはstrクラスの独自メソッドなので、<br>\n",
    "intクラスでreplaceを使用しようとしてもメソッドが存在せずエラーになる。"
   ]
  },
  {
   "cell_type": "code",
   "execution_count": 35,
   "metadata": {},
   "outputs": [],
   "source": [
    "# x = x.replace(1, 2)  # メソッドが存在せずエラー\n",
    "# print(x)"
   ]
  },
  {
   "cell_type": "markdown",
   "metadata": {},
   "source": [
    "また、クラスによっては独自のフィールド(インスタンス変数?)に値を保持するものがある。<br>\n",
    "例として配列型のデータ構造をもつlistとnumpy.arrayを比較しよう。"
   ]
  },
  {
   "cell_type": "code",
   "execution_count": 36,
   "metadata": {},
   "outputs": [
    {
     "data": {
      "text/plain": [
       "(3,)"
      ]
     },
     "execution_count": 36,
     "metadata": {},
     "output_type": "execute_result"
    }
   ],
   "source": [
    "import numpy as np\n",
    "np.array([1,2,3]).shape  # 配列の形状を保持するフィールド"
   ]
  },
  {
   "cell_type": "code",
   "execution_count": 37,
   "metadata": {},
   "outputs": [],
   "source": [
    "# list([1,2,3]).shape  # shapeをもたないのでエラー"
   ]
  },
  {
   "cell_type": "markdown",
   "metadata": {},
   "source": [
    "既存のクラスを使用してDeZEROを作り上げることもできるが、独自に作成したクラスに便利なフィールドやメソッドを追加して今後の実装が楽にすることもできる。<br>\n",
    "この考え方のもと、今回はデータを格納するクラスから作成してみよう。\n"
   ]
  },
  {
   "cell_type": "code",
   "execution_count": 38,
   "metadata": {},
   "outputs": [],
   "source": [
    "class Variable:\n",
    "    def __init__(self, data):\n",
    "        self.data = data"
   ]
  },
  {
   "cell_type": "markdown",
   "metadata": {},
   "source": [
    "データを格納するVariableクラスを作成した。<br>\n",
    "今はまだデータを保持するフィールドしか持たないが、今後様々なフィールドやメソッドを追加していく。\n",
    "\n",
    "ちなみに__init__は変数の初期化の際に呼ばれる特別なメソッドである。<br>\n",
    "ここに初期化時に渡したい引数や実行したい処理を書く。"
   ]
  },
  {
   "cell_type": "markdown",
   "metadata": {},
   "source": [
    "## 演習問題"
   ]
  },
  {
   "cell_type": "code",
   "execution_count": 39,
   "metadata": {},
   "outputs": [
    {
     "name": "stdout",
     "output_type": "stream",
     "text": [
      "1.0\n"
     ]
    }
   ],
   "source": [
    "'''\n",
    "演習1-1\n",
    "Variable型の変数を生成してみましょう。\n",
    "data_1をdataに保持するVariable型の変数を作成してください。\n",
    "'''\n",
    "import numpy as np\n",
    "\n",
    "class Variable:\n",
    "    def __init__(self, data):\n",
    "        self.data = data\n",
    "\n",
    "data_1 = np.array(1.0)\n",
    "\n",
    "### ↓ここに実装する↓ ###\n",
    "var = Variable(data_1)\n",
    "### ↑ここに実装する↑ ###\n",
    "\n",
    "\n",
    "'''\n",
    "演習1-2\n",
    "1-1で作成したVariable型の変数から値をとりだし、data_2に渡してください。\n",
    "'''\n",
    "\n",
    "### ↓ここに実装する↓ ###\n",
    "data_2 = var.data\n",
    "### ↑ここに実装する↑ ###\n",
    "\n",
    "print(data_2)  # 想定値：1.0"
   ]
  },
  {
   "cell_type": "markdown",
   "metadata": {},
   "source": [
    "# Step2 関数を作成する"
   ]
  },
  {
   "cell_type": "markdown",
   "metadata": {},
   "source": [
    "Step1で作成したVariableクラスを使って計算をするにはVariable用の関数を作成する必要がある。<br>\n",
    "\n",
    "\n",
    "Variableを使って（numpyと同様の）計算が行えるようにいくつか関数を定義する"
   ]
  },
  {
   "cell_type": "code",
   "execution_count": 40,
   "metadata": {},
   "outputs": [
    {
     "name": "stdout",
     "output_type": "stream",
     "text": [
      "5.0\n"
     ]
    }
   ],
   "source": [
    "# 足し算\n",
    "class Add:\n",
    "    def __call__(self, input_x, input_y):\n",
    "        x = input_x.data  # 1つ目のデータを取り出す\n",
    "        y = input_y.data  # 2つ目のデータを取り出す\n",
    "        z = x + y  # 実際の計算\n",
    "        output = Variable(z)\n",
    "        return output  # Variable型を返す\n",
    "\n",
    "x = Variable(np.array(2.0))\n",
    "y = Variable(np.array(3.0))\n",
    "add = Add()\n",
    "z = add(x,y)\n",
    "print(z.data)"
   ]
  },
  {
   "cell_type": "code",
   "execution_count": 41,
   "metadata": {},
   "outputs": [
    {
     "name": "stdout",
     "output_type": "stream",
     "text": [
      "6.0\n"
     ]
    }
   ],
   "source": [
    "# 掛け算\n",
    "class Multiple:\n",
    "    def __call__(self, input_x, input_y):\n",
    "        x = input_x.data  # 1つ目のデータを取り出す\n",
    "        y = input_y.data  # 2つ目のデータを取り出す\n",
    "        z = x * y  # 実際の計算\n",
    "        output = Variable(z)\n",
    "        return output  # Variable型を返す\n",
    "\n",
    "x = Variable(np.array(2.0))\n",
    "y = Variable(np.array(3.0))\n",
    "multiple = Multiple()\n",
    "z = multiple(x,y)\n",
    "print(z.data)"
   ]
  },
  {
   "cell_type": "markdown",
   "metadata": {},
   "source": [
    "AddとMultipleを見比べると、実際の計算をおこなう行以外は共通していることが分かる。<br>\n",
    "共通処理を関数毎で実装するのは無駄が多い。\n",
    "そこで、親クラスとしてFunctionクラスを作成して共通処理をその中に集約する。"
   ]
  },
  {
   "cell_type": "code",
   "execution_count": 42,
   "metadata": {},
   "outputs": [
    {
     "name": "stdout",
     "output_type": "stream",
     "text": [
      "5.0\n",
      "6.0\n"
     ]
    }
   ],
   "source": [
    "# 親クラス\n",
    "class Function:\n",
    "    def __call__(self, *inputs):\n",
    "        xs = [x.data for x in inputs]   # 引数を可変長のタプル形式で受取る\n",
    "        y = self.forward(*xs)  # 具体的な計算はforwardメソッドで行う\n",
    "        output = Variable(y)\n",
    "        return output\n",
    "\n",
    "    def forward(self, x):\n",
    "        raise NotImplementedError()\n",
    "\n",
    "# 足し算\n",
    "class Add(Function):\n",
    "    def forward(self, x, y):\n",
    "        return x + y\n",
    "\n",
    "# 掛け算\n",
    "class Multiple(Function):\n",
    "    def forward(self, x, y):\n",
    "        return x * y\n",
    "\n",
    "\n",
    "x = Variable(np.array(2.0))\n",
    "y = Variable(np.array(3.0))\n",
    "\n",
    "add = Add()\n",
    "z = add(x,y)\n",
    "print(z.data)  # 5.0\n",
    "\n",
    "multiple = Multiple()\n",
    "v = multiple(x,y)\n",
    "print(v.data)"
   ]
  },
  {
   "cell_type": "markdown",
   "metadata": {},
   "source": [
    "## 演習問題"
   ]
  },
  {
   "cell_type": "code",
   "execution_count": 49,
   "metadata": {},
   "outputs": [
    {
     "name": "stdout",
     "output_type": "stream",
     "text": [
      "9.0\n",
      "7.4\n"
     ]
    }
   ],
   "source": [
    "import numpy as np\n",
    "\n",
    "class Variable:\n",
    "    def __init__(self, data):\n",
    "        self.data = data\n",
    "\n",
    "# 親クラス\n",
    "class Function:\n",
    "    def __call__(self, *inputs):\n",
    "        xs = [x.data for x in inputs]   # 引数を可変長のタプル形式で受取る\n",
    "        y = self.forward(*xs)  # 具体的な計算はforwardメソッドで行う\n",
    "        output = Variable(y)\n",
    "        return output\n",
    "\n",
    "    def forward(self, x):\n",
    "        raise NotImplementedError()\n",
    "\n",
    "'''\n",
    "演習2-1\n",
    "入力値の2乗を出力するSquareクラスを実装し、変数xの2乗を出力してください。\n",
    "その際以下に従ってください。\n",
    "* Functionクラスを継承する\n",
    "* 入力はnumpy.arrayを想定する\n",
    "'''\n",
    "\n",
    "x = Variable(np.array(3.0))\n",
    "\n",
    "### ↓ここに実装する↓ ###\n",
    "class Square(Function):\n",
    "    def forward(self, x):\n",
    "        return x**2\n",
    "square = Square()\n",
    "\n",
    "output = square(x)# 出力値をここに渡す\n",
    "### ↑ここに実装する↑ ###\n",
    "\n",
    "print(output.data)  # 想定値:9.0\n",
    "\n",
    "\n",
    "'''\n",
    "演習2-2  ★発展問題★\n",
    "Variable型用の計算用の関数をお手軽に生成できるようにします。\n",
    "\n",
    "FunctionFactoryは戻り値にVariable型用の関数を返します。\n",
    "この関数を使って入力値のe^xを出力するexp関数を作成し、変数xのe^xを出力してください。\n",
    "\n",
    "なお、入力値はnumpy.arrayを想定します。\n",
    "'''\n",
    "import numpy as np\n",
    "\n",
    "def functionFactory(function):\n",
    "    \"\"\"\n",
    "    # Abstract\n",
    "    Variable型の変数を扱える関数を生成する\n",
    "\n",
    "    # Params\n",
    "    * function : object \\n\n",
    "    \\t 実際の計算を行う関数\n",
    "    \n",
    "    # Return\n",
    "    VariableFunctionのインスタンス\n",
    "    \"\"\"\n",
    "    class VariableFuntion(Function):\n",
    "        def __init__(self, function):\n",
    "            self.function = function\n",
    "            \n",
    "        def forward(self, *inputs):\n",
    "                y = self.function(*inputs)  # 具体的な計算はfunctionメソッドで行う\n",
    "                return y\n",
    "    \n",
    "    variableFuntion = VariableFuntion(function)\n",
    "    \n",
    "    return variableFuntion\n",
    "\n",
    "\n",
    "x = Variable(np.array(2.0))\n",
    "\n",
    "### ↓ここに実装する↓ ###\n",
    "exp = functionFactory(np.exp)\n",
    "output = exp(x)# ここに出力値を渡す\n",
    "\n",
    "### ↑ここに実装する↑ ###\n",
    "\n",
    "print(np.round(output.data, 1))  # 想定値:7.4"
   ]
  },
  {
   "cell_type": "markdown",
   "metadata": {},
   "source": [
    "# Step3 関数の連結"
   ]
  },
  {
   "cell_type": "markdown",
   "metadata": {},
   "source": [
    "Variable型用の関数は入力も出力もVariable型の変数で統一している。<br>\n",
    "これにより、関数の出力値をそのまま次の関数の入力値二することが出来る。\n",
    "\n",
    "これ以上の説明は無いので早速演習問題を解いてみよう。"
   ]
  },
  {
   "cell_type": "markdown",
   "metadata": {},
   "source": [
    "## 演習問題"
   ]
  },
  {
   "cell_type": "code",
   "execution_count": 44,
   "metadata": {},
   "outputs": [
    {
     "name": "stdout",
     "output_type": "stream",
     "text": [
      "40.2\n"
     ]
    }
   ],
   "source": [
    "\n",
    "import numpy as np\n",
    "'''\n",
    "演習3-1\n",
    "以下を1行で計算してください\n",
    "e^(x+y)*y\n",
    "'''\n",
    "\n",
    "# 親クラス\n",
    "class Function:\n",
    "    def __call__(self, *inputs):\n",
    "        xs = [x.data for x in inputs]   # 引数を可変長のタプル形式で受取る\n",
    "        y = self.forward(*xs)  # 具体的な計算はforwardメソッドで行う\n",
    "        output = Variable(y)\n",
    "        return output\n",
    "\n",
    "    def forward(self, x):\n",
    "        raise NotImplementedError()\n",
    "\n",
    "# 足し算\n",
    "class Add(Function):\n",
    "    def forward(self, x, y):\n",
    "        return x + y\n",
    "\n",
    "# 掛け算\n",
    "class Multiple(Function):\n",
    "    def forward(self, x, y):\n",
    "        return x * y\n",
    "\n",
    "# 指数\n",
    "class Exp(Function):\n",
    "    def forward(self, x):\n",
    "        return np.exp(x)\n",
    "\n",
    "x = Variable(np.array(1.0))\n",
    "y = Variable(np.array(2.0))\n",
    "\n",
    "add = Add()\n",
    "multiple = Multiple()\n",
    "exp = Exp()\n",
    "\n",
    "### ↓ここに実装する↓ ###\n",
    "output = multiple(exp(add(x, y)), y) # ここに1行で実装する\n",
    "\n",
    "### ↑ここに実装する↑ ###\n",
    "\n",
    "print(np.round(output.data, 1))  # 想定値:40.2"
   ]
  },
  {
   "cell_type": "markdown",
   "metadata": {},
   "source": [
    "# Step4 数値微分"
   ]
  },
  {
   "cell_type": "markdown",
   "metadata": {},
   "source": [
    "※数値微分自体の細かい説明は以下の回を参照：<br>\n",
    "* 【機械学習勉強会】第３７回 ゼロから作るDeepLearning #4 3.1-4.6（前半） 発表者：Ryuichi\n",
    "* 【機械学習勉強会】第３７回 ゼロから作るDeepLearning #4 3.1-4.6（後半） 発表者：Ryuichi\n",
    "\n",
    "今回は数値微分自体の説明は復習程度にとどめる。"
   ]
  },
  {
   "cell_type": "markdown",
   "metadata": {},
   "source": [
    "関数$f(x)$の$x$における微分の定義は以下である。\n",
    "$$ f^′(x) = \\lim_{h→0} \\frac{f(x + h) − f(x)}{h} $$\n",
    "\n",
    "これをプログラムで実装しよう。<br>\n",
    "ただしコンピュータは極限を計算できないため$h$をできる限り近似して（0に近づけて）微分値を求める。<br>\n",
    "このように微小区間の変化量を求める手法を**数値微分**という。"
   ]
  },
  {
   "cell_type": "markdown",
   "metadata": {},
   "source": [
    "本来極限を求めるところ、微小区間で近似した値を計算するため誤差が含まれる。<br>\n",
    "その誤差を減らす工夫に**中央差分近似**というテクニックがある。\n",
    "\n",
    "![numerical_diff](./step1-4_fig/numerical_diff.png)\n",
    "\n",
    "ちなみにテイラー展開により前方差分よりも中央差分の方が誤差が小さいことが証明できるそう。<br>\n",
    "参考：[前進差分近似と中心差分近似の誤差](https://mochablog.org/diff-forward-central/)\n",
    "\n",
    "今回は中央差分近似で実装する。"
   ]
  },
  {
   "cell_type": "code",
   "execution_count": 45,
   "metadata": {},
   "outputs": [
    {
     "name": "stdout",
     "output_type": "stream",
     "text": [
      "f(3)=9.0\n",
      "f'(3)=6.000000000012662\n"
     ]
    }
   ],
   "source": [
    "# 数値微分\n",
    "def numerical_diff(f, x, eps=1e-4):\n",
    "    x0 = Variable(x.data - eps)\n",
    "    x1 = Variable(x.data + eps)\n",
    "    y0 = f(x0)\n",
    "    y1 = f(x1)\n",
    "    return (y1.data - y0.data) / (2 * eps)\n",
    "\n",
    "# 2乗を出力する関数squareのx=2における微分を計算する\n",
    "x = Variable(np.array(3.0))\n",
    "square = functionFactory(lambda x : x**2)\n",
    "y = square(x)\n",
    "print(f'f(3)={y.data}')\n",
    "\n",
    "print(f'f\\'(3)={numerical_diff(square, x)}')"
   ]
  },
  {
   "cell_type": "markdown",
   "metadata": {},
   "source": [
    "## 演習問題"
   ]
  },
  {
   "cell_type": "code",
   "execution_count": 47,
   "metadata": {},
   "outputs": [
    {
     "name": "stdout",
     "output_type": "stream",
     "text": [
      "491.4\n"
     ]
    }
   ],
   "source": [
    "import numpy as np\n",
    "'''\n",
    "演習4-1\n",
    "以下の関数のx=2における微分を求めてください\n",
    "x*e^(x^2)\n",
    "'''\n",
    "\n",
    "# 親クラス\n",
    "class Function:\n",
    "    def __call__(self, *inputs):\n",
    "        xs = [x.data for x in inputs]   # 引数を可変長のタプル形式で受取る\n",
    "        y = self.forward(*xs)  # 具体的な計算はforwardメソッドで行う\n",
    "        output = Variable(y)\n",
    "        return output\n",
    "\n",
    "    def forward(self, x):\n",
    "        raise NotImplementedError()\n",
    "\n",
    "# 掛け算\n",
    "class Multiple(Function):\n",
    "    def forward(self, x, y):\n",
    "        return x * y\n",
    "\n",
    "# 2乗\n",
    "class Square(Function):\n",
    "    def forward(self, x):\n",
    "        return x**2\n",
    "\n",
    "# 指数\n",
    "class Exp(Function):\n",
    "    def forward(self, x):\n",
    "        return np.exp(x)\n",
    "\n",
    "x = Variable(np.array(2.0))\n",
    "\n",
    "multiple = Multiple()\n",
    "exp = Exp()\n",
    "square = Square()\n",
    "\n",
    "### ↓ここに実装する↓ ###\n",
    "# shiki = functionFactory(lambda x : multiple(x, exp(square(x))))\n",
    "def fnc(x):\n",
    "    return multiple(x, exp(square(x)))\n",
    "\n",
    "output = numerical_diff(fnc, x)# ここに出力結果を渡す\n",
    "\n",
    "### ↑ここに実装する↑ ###\n",
    "\n",
    "print(np.round(output.data, 1))  # 想定値:491.4"
   ]
  }
 ],
 "metadata": {
  "kernelspec": {
   "display_name": "Python 3.9.7 ('.kaggle_')",
   "language": "python",
   "name": "python3"
  },
  "language_info": {
   "codemirror_mode": {
    "name": "ipython",
    "version": 3
   },
   "file_extension": ".py",
   "mimetype": "text/x-python",
   "name": "python",
   "nbconvert_exporter": "python",
   "pygments_lexer": "ipython3",
   "version": "3.9.7"
  },
  "orig_nbformat": 4,
  "vscode": {
   "interpreter": {
    "hash": "2267c7f86544334f90fd828bd0d523f9563b963bbe28c7d2d8efd515b9a10ad6"
   }
  }
 },
 "nbformat": 4,
 "nbformat_minor": 2
}
