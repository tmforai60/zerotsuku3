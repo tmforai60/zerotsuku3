{
 "cells": [
  {
   "cell_type": "code",
   "execution_count": 1,
   "id": "882cad50-9d11-411c-b1ac-fb1cb823bf18",
   "metadata": {},
   "outputs": [
    {
     "name": "stdout",
     "output_type": "stream",
     "text": [
      "/Users/naokimaruoka/Dropbox/00.Self-Dev/Programming/GitHub/Python\n"
     ]
    }
   ],
   "source": [
    "import pandas as pd\n",
    "\n",
    "import os\n",
    "working_directory=os.getcwd()\n",
    "print(working_directory)"
   ]
  },
  {
   "cell_type": "code",
   "execution_count": 2,
   "id": "0bcd8de9-62a6-45da-b33f-d5522f6c8fc6",
   "metadata": {},
   "outputs": [],
   "source": [
    "path=working_directory+'/Sample3.csv'\n",
    "df_sample_data=pd.read_csv(path)"
   ]
  },
  {
   "cell_type": "code",
   "execution_count": 3,
   "id": "6014b3e5-8cb7-46a6-83a5-43b6d76d550b",
   "metadata": {},
   "outputs": [
    {
     "data": {
      "text/html": [
       "<div>\n",
       "<style scoped>\n",
       "    .dataframe tbody tr th:only-of-type {\n",
       "        vertical-align: middle;\n",
       "    }\n",
       "\n",
       "    .dataframe tbody tr th {\n",
       "        vertical-align: top;\n",
       "    }\n",
       "\n",
       "    .dataframe thead th {\n",
       "        text-align: right;\n",
       "    }\n",
       "</style>\n",
       "<table border=\"1\" class=\"dataframe\">\n",
       "  <thead>\n",
       "    <tr style=\"text-align: right;\">\n",
       "      <th></th>\n",
       "      <th>No.</th>\n",
       "      <th>Name</th>\n",
       "      <th>Address</th>\n",
       "      <th>Group</th>\n",
       "      <th>Money</th>\n",
       "      <th>Saving</th>\n",
       "    </tr>\n",
       "  </thead>\n",
       "  <tbody>\n",
       "    <tr>\n",
       "      <th>0</th>\n",
       "      <td>1</td>\n",
       "      <td>Nae</td>\n",
       "      <td>11-222</td>\n",
       "      <td>A</td>\n",
       "      <td>999</td>\n",
       "      <td>350.568508</td>\n",
       "    </tr>\n",
       "    <tr>\n",
       "      <th>1</th>\n",
       "      <td>2</td>\n",
       "      <td>Ao</td>\n",
       "      <td>11-223</td>\n",
       "      <td>C</td>\n",
       "      <td>2010</td>\n",
       "      <td>668.471732</td>\n",
       "    </tr>\n",
       "    <tr>\n",
       "      <th>2</th>\n",
       "      <td>3</td>\n",
       "      <td>Tu</td>\n",
       "      <td>11-224</td>\n",
       "      <td>C</td>\n",
       "      <td>32</td>\n",
       "      <td>4.125161</td>\n",
       "    </tr>\n",
       "    <tr>\n",
       "      <th>3</th>\n",
       "      <td>4</td>\n",
       "      <td>He</td>\n",
       "      <td>11-225</td>\n",
       "      <td>D</td>\n",
       "      <td>23231</td>\n",
       "      <td>18007.280190</td>\n",
       "    </tr>\n",
       "    <tr>\n",
       "      <th>4</th>\n",
       "      <td>5</td>\n",
       "      <td>Xo</td>\n",
       "      <td>11-226</td>\n",
       "      <td>E</td>\n",
       "      <td>-4</td>\n",
       "      <td>-0.416160</td>\n",
       "    </tr>\n",
       "    <tr>\n",
       "      <th>5</th>\n",
       "      <td>6</td>\n",
       "      <td>Ym</td>\n",
       "      <td>11-227</td>\n",
       "      <td>D</td>\n",
       "      <td>4444</td>\n",
       "      <td>3731.755639</td>\n",
       "    </tr>\n",
       "    <tr>\n",
       "      <th>6</th>\n",
       "      <td>7</td>\n",
       "      <td>Qw</td>\n",
       "      <td>11-228</td>\n",
       "      <td>B</td>\n",
       "      <td>2213</td>\n",
       "      <td>479.569192</td>\n",
       "    </tr>\n",
       "    <tr>\n",
       "      <th>7</th>\n",
       "      <td>8</td>\n",
       "      <td>Tc</td>\n",
       "      <td>11-229</td>\n",
       "      <td>B</td>\n",
       "      <td>22222</td>\n",
       "      <td>6884.967804</td>\n",
       "    </tr>\n",
       "    <tr>\n",
       "      <th>8</th>\n",
       "      <td>9</td>\n",
       "      <td>Yb</td>\n",
       "      <td>11-229</td>\n",
       "      <td>E</td>\n",
       "      <td>432532</td>\n",
       "      <td>186280.648000</td>\n",
       "    </tr>\n",
       "    <tr>\n",
       "      <th>9</th>\n",
       "      <td>10</td>\n",
       "      <td>Nv</td>\n",
       "      <td>11-229</td>\n",
       "      <td>C</td>\n",
       "      <td>654</td>\n",
       "      <td>392.156668</td>\n",
       "    </tr>\n",
       "    <tr>\n",
       "      <th>10</th>\n",
       "      <td>11</td>\n",
       "      <td>Cd</td>\n",
       "      <td>11-229</td>\n",
       "      <td>D</td>\n",
       "      <td>4</td>\n",
       "      <td>0.613156</td>\n",
       "    </tr>\n",
       "    <tr>\n",
       "      <th>11</th>\n",
       "      <td>12</td>\n",
       "      <td>fed</td>\n",
       "      <td>11-230</td>\n",
       "      <td>C</td>\n",
       "      <td>-900</td>\n",
       "      <td>-541.388539</td>\n",
       "    </tr>\n",
       "    <tr>\n",
       "      <th>12</th>\n",
       "      <td>13</td>\n",
       "      <td>das</td>\n",
       "      <td>11-231</td>\n",
       "      <td>A</td>\n",
       "      <td>500</td>\n",
       "      <td>171.481983</td>\n",
       "    </tr>\n",
       "    <tr>\n",
       "      <th>13</th>\n",
       "      <td>14</td>\n",
       "      <td>gfh</td>\n",
       "      <td>11-232</td>\n",
       "      <td>A</td>\n",
       "      <td>432</td>\n",
       "      <td>10.473988</td>\n",
       "    </tr>\n",
       "    <tr>\n",
       "      <th>14</th>\n",
       "      <td>15</td>\n",
       "      <td>jydh</td>\n",
       "      <td>11-233</td>\n",
       "      <td>E</td>\n",
       "      <td>333</td>\n",
       "      <td>169.732171</td>\n",
       "    </tr>\n",
       "    <tr>\n",
       "      <th>15</th>\n",
       "      <td>16</td>\n",
       "      <td>kfgs</td>\n",
       "      <td>11-234</td>\n",
       "      <td>C</td>\n",
       "      <td>21</td>\n",
       "      <td>8.719998</td>\n",
       "    </tr>\n",
       "    <tr>\n",
       "      <th>16</th>\n",
       "      <td>17</td>\n",
       "      <td>kfgs</td>\n",
       "      <td>11-235</td>\n",
       "      <td>B</td>\n",
       "      <td>344</td>\n",
       "      <td>222.678301</td>\n",
       "    </tr>\n",
       "  </tbody>\n",
       "</table>\n",
       "</div>"
      ],
      "text/plain": [
       "    No.  Name Address Group   Money         Saving\n",
       "0     1   Nae  11-222     A     999     350.568508\n",
       "1     2    Ao  11-223     C    2010     668.471732\n",
       "2     3    Tu  11-224     C      32       4.125161\n",
       "3     4    He  11-225     D   23231   18007.280190\n",
       "4     5    Xo  11-226     E      -4      -0.416160\n",
       "5     6    Ym  11-227     D    4444    3731.755639\n",
       "6     7    Qw  11-228     B    2213     479.569192\n",
       "7     8    Tc  11-229     B   22222    6884.967804\n",
       "8     9    Yb  11-229     E  432532  186280.648000\n",
       "9    10    Nv  11-229     C     654     392.156668\n",
       "10   11    Cd  11-229     D       4       0.613156\n",
       "11   12   fed  11-230     C    -900    -541.388539\n",
       "12   13   das  11-231     A     500     171.481983\n",
       "13   14   gfh  11-232     A     432      10.473988\n",
       "14   15  jydh  11-233     E     333     169.732171\n",
       "15   16  kfgs  11-234     C      21       8.719998\n",
       "16   17  kfgs  11-235     B     344     222.678301"
      ]
     },
     "execution_count": 3,
     "metadata": {},
     "output_type": "execute_result"
    }
   ],
   "source": [
    "df_sample_data"
   ]
  },
  {
   "cell_type": "code",
   "execution_count": 4,
   "id": "473b023a-a438-49f3-a688-ea3cd4e930c0",
   "metadata": {},
   "outputs": [],
   "source": [
    "%matplotlib inline\n",
    "import matplotlib\n",
    "matplotlib.rcParams['font.family']='Arial Unicode MS'"
   ]
  },
  {
   "cell_type": "code",
   "execution_count": 5,
   "id": "aed0c0c6-a57f-49c8-a0d2-2a1e58d12a51",
   "metadata": {},
   "outputs": [
    {
     "data": {
      "text/plain": [
       "<AxesSubplot:>"
      ]
     },
     "execution_count": 5,
     "metadata": {},
     "output_type": "execute_result"
    },
    {
     "data": {
      "image/png": "[encoded data removed]",
      "text/plain": [
       "<Figure size 432x288 with 1 Axes>"
      ]
     },
     "metadata": {
      "needs_background": "light"
     },
     "output_type": "display_data"
    }
   ],
   "source": [
    "df_sample_data[df_sample_data['Group']=='A'][['Money','Saving']].plot(color=['skyblue'])"
   ]
  },
  {
   "cell_type": "code",
   "execution_count": 6,
   "id": "271ff0a4-2c7b-46b9-8ace-365bbdeb55fa",
   "metadata": {},
   "outputs": [
    {
     "data": {
      "text/plain": [
       "<AxesSubplot:>"
      ]
     },
     "execution_count": 6,
     "metadata": {},
     "output_type": "execute_result"
    },
    {
     "data": {
      "image/png": "[encoded data removed]",
      "text/plain": [
       "<Figure size 432x288 with 1 Axes>"
      ]
     },
     "metadata": {
      "needs_background": "light"
     },
     "output_type": "display_data"
    }
   ],
   "source": [
    "df_sample_data[['Money','Saving']].plot(color=['skyblue'])"
   ]
  },
  {
   "cell_type": "code",
   "execution_count": 11,
   "id": "c44db5d6-9710-48c2-963f-02dc6ad6f235",
   "metadata": {},
   "outputs": [],
   "source": [
    "import numpy as np\n",
    "import matplotlib.pyplot as plt\n",
    "\n",
    "x=np.arange(-5,5,0.1)\n",
    "y=np.sin(x)"
   ]
  },
  {
   "cell_type": "code",
   "execution_count": 12,
   "id": "fc060e71-d803-4419-a622-d65b373fac0f",
   "metadata": {},
   "outputs": [
    {
     "data": {
      "text/plain": [
       "[<matplotlib.lines.Line2D at 0x7fcc04e24eb0>]"
      ]
     },
     "execution_count": 12,
     "metadata": {},
     "output_type": "execute_result"
    },
    {
     "data": {
      "image/png": "[encoded data removed]",
      "text/plain": [
       "<Figure size 432x288 with 1 Axes>"
      ]
     },
     "metadata": {
      "needs_background": "light"
     },
     "output_type": "display_data"
    }
   ],
   "source": [
    "plt.plot(x,y)"
   ]
  },
  {
   "cell_type": "code",
   "execution_count": null,
   "id": "43044908-f323-4bb3-a0a8-e8357c6c9dc1",
   "metadata": {},
   "outputs": [],
   "source": []
  }
 ],
 "metadata": {
  "kernelspec": {
   "display_name": "Python 3",
   "language": "python",
   "name": "python3"
  },
  "language_info": {
   "codemirror_mode": {
    "name": "ipython",
    "version": 3
   },
   "file_extension": ".py",
   "mimetype": "text/x-python",
   "name": "python",
   "nbconvert_exporter": "python",
   "pygments_lexer": "ipython3",
   "version": "3.8.8"
  }
 },
 "nbformat": 4,
 "nbformat_minor": 5
}
