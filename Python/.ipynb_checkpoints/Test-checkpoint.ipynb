{
 "cells": [
  {
   "cell_type": "code",
   "execution_count": 7,
   "id": "94681102-16ab-47c0-a376-f6c73f040379",
   "metadata": {},
   "outputs": [
    {
     "name": "stdout",
     "output_type": "stream",
     "text": [
      "4\n"
     ]
    }
   ],
   "source": [
    "print(1+3)"
   ]
  },
  {
   "cell_type": "code",
   "execution_count": 8,
   "id": "ec39c733-da7d-4bd4-8ccb-883d4d44ac26",
   "metadata": {},
   "outputs": [
    {
     "name": "stdout",
     "output_type": "stream",
     "text": [
      "hello,world\n"
     ]
    }
   ],
   "source": [
    "print('hello,world')"
   ]
  },
  {
   "cell_type": "markdown",
   "id": "3411b7fb-0714-43ac-87e1-be53ee6d3d6b",
   "metadata": {},
   "source": [
    "# こんにちは"
   ]
  },
  {
   "cell_type": "markdown",
   "id": "2135914e-2c44-4ce8-9c47-e74a11a6afbd",
   "metadata": {},
   "source": [
    "## こんにちは"
   ]
  },
  {
   "cell_type": "code",
   "execution_count": 9,
   "id": "a42a5e9e-9d9a-4bdf-9802-d1c8a6597455",
   "metadata": {},
   "outputs": [
    {
     "data": {
      "text/plain": [
       "3"
      ]
     },
     "execution_count": 9,
     "metadata": {},
     "output_type": "execute_result"
    }
   ],
   "source": [
    "# comment out\n",
    "1+2"
   ]
  },
  {
   "cell_type": "code",
   "execution_count": 10,
   "id": "8f9c955b-9dd7-4863-99b8-18bf4936302f",
   "metadata": {},
   "outputs": [
    {
     "name": "stdout",
     "output_type": "stream",
     "text": [
      "tamai : Congratulations!\n"
     ]
    }
   ],
   "source": [
    "class Student5:\n",
    "\n",
    "    def __init__(self,name):\n",
    "        self.name = name\n",
    "\n",
    "    def calculateAvg(self,data):\n",
    "        sum =0\n",
    "\n",
    "        for num in data:\n",
    "            sum+=num\n",
    "\n",
    "        avg=sum/len(data) #lenはdataのリストの要素数を算出\n",
    "        return avg\n",
    "\n",
    "    def judge(self,avg):\n",
    "        if avg >60:\n",
    "            result=\"Congratulations!\"\n",
    "        else:\n",
    "            result=\"Make more effort\"\n",
    "        return result\n",
    "\n",
    "d001=Student5(\"tamai\")\n",
    "data=[70,40,80,60,90]\n",
    "avg=d001.calculateAvg(data)\n",
    "result=d001.judge(avg)\n",
    "print(d001.name+\" : \"+result)"
   ]
  },
  {
   "cell_type": "code",
   "execution_count": null,
   "id": "4c7287eb-c2fb-44f2-ba6c-8d9bfec7fa5f",
   "metadata": {},
   "outputs": [],
   "source": [
    "Student5"
   ]
  },
  {
   "cell_type": "code",
   "execution_count": null,
   "id": "68b4b99e-faeb-4330-815d-cc03cc916bc0",
   "metadata": {},
   "outputs": [],
   "source": []
  },
  {
   "cell_type": "code",
   "execution_count": null,
   "id": "875d6522-24e0-48fe-8c6a-b41e3d213030",
   "metadata": {},
   "outputs": [],
   "source": []
  }
 ],
 "metadata": {
  "kernelspec": {
   "display_name": "Python 3",
   "language": "python",
   "name": "python3"
  },
  "language_info": {
   "codemirror_mode": {
    "name": "ipython",
    "version": 3
   },
   "file_extension": ".py",
   "mimetype": "text/x-python",
   "name": "python",
   "nbconvert_exporter": "python",
   "pygments_lexer": "ipython3",
   "version": "3.8.8"
  }
 },
 "nbformat": 4,
 "nbformat_minor": 5
}
