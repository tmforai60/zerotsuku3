{
 "cells": [
  {
   "cell_type": "markdown",
   "id": "e5481a1c-1e40-44e5-a333-90c358a071dc",
   "metadata": {},
   "source": [
    "#　ライブラリ・データのインポート"
   ]
  },
  {
   "cell_type": "code",
   "execution_count": 14,
   "id": "c706ee1d-0cbf-404f-8ac9-6c6e49ad5105",
   "metadata": {},
   "outputs": [],
   "source": [
    "#時間測定\n",
    "import time\n",
    "#データ処理\n",
    "import numpy as np\n",
    "#データ処理\n",
    "import pandas as pd\n",
    "#データ可視化\n",
    "import matplotlib.pyplot as plt\n",
    "#データ可視化\n",
    "#import japanize_matplotlib\n",
    "#データ可視化\n",
    "import seaborn as sns\n",
    "#データ標準化\n",
    "from sklearn.preprocessing import StandardScaler\n",
    "#モデル\n",
    "from sklearn import svm\n",
    "#モデル学習・検証\n",
    "from sklearn.model_selection import StratifiedKFold\n",
    "#モデル評価\n",
    "from sklearn import metrics\n",
    "#モデル評価\n",
    "from sklearn.metrics import confusion_matrix\n",
    "#モデル評価\n",
    "from sklearn.metrics import classification_report"
   ]
  },
  {
   "cell_type": "code",
   "execution_count": 15,
   "id": "932e66d9-09ee-4992-a410-ca62f73c87b2",
   "metadata": {},
   "outputs": [
    {
     "name": "stdout",
     "output_type": "stream",
     "text": [
      "/Users/naokimaruoka/Dropbox/00.Self-Dev/Programming/GitHub/Python\n"
     ]
    }
   ],
   "source": [
    "import os\n",
    "working_directory=os.getcwd()\n",
    "print(working_directory)"
   ]
  },
  {
   "cell_type": "code",
   "execution_count": 16,
   "id": "03362b47-055a-4140-b356-1f65c513e086",
   "metadata": {},
   "outputs": [],
   "source": [
    "path_train=working_directory+'/train.csv'\n",
    "path_test=working_directory+'/test.csv'\n",
    "path_submit=working_directory+'/submit.csv'\n",
    "df_train=pd.read_csv(path_train)\n",
    "df_test=pd.read_csv(path_test)\n",
    "df_submit=pd.read_csv(path_submit)"
   ]
  },
  {
   "cell_type": "markdown",
   "id": "9b303a11-9b3b-43bf-88b5-4f9d7ad52fb8",
   "metadata": {},
   "source": [
    "# 2.データの前処理"
   ]
  },
  {
   "cell_type": "markdown",
   "id": "f1b920d7-46e9-4070-8a24-3a157e3d1845",
   "metadata": {},
   "source": [
    "##  2-1-1.欠損値データの確認"
   ]
  },
  {
   "cell_type": "code",
   "execution_count": 31,
   "id": "98b7ee81-e239-43d2-9c81-651f72a1f665",
   "metadata": {},
   "outputs": [
    {
     "name": "stdout",
     "output_type": "stream",
     "text": [
      "欠損データ確認(df_train)\n",
      "ID            0\n",
      "survived      0\n",
      "pclass        0\n",
      "sex           0\n",
      "age         133\n",
      "sibsp         0\n",
      "parch         0\n",
      "fare          0\n",
      "embarked      2\n",
      "dtype: int64\n",
      "\n",
      "欠損データを確認(df_test)\n",
      "ID           0\n",
      "pclass       0\n",
      "sex          0\n",
      "age         44\n",
      "sibsp        0\n",
      "parch        0\n",
      "fare         0\n",
      "embarked     0\n",
      "dtype: int64\n",
      "\n"
     ]
    }
   ],
   "source": [
    "print(f'欠損データ確認(df_train)\\n{df_train.isnull().sum()}\\n')\n",
    "print(f'欠損データを確認(df_test)\\n{df_test.isnull().sum()}\\n')"
   ]
  },
  {
   "cell_type": "markdown",
   "id": "096ef050-8350-45a1-8c6b-910a955b8bfb",
   "metadata": {},
   "source": [
    "## 2-1-2 欠損値データの補填"
   ]
  },
  {
   "cell_type": "markdown",
   "id": "4e277323-ef7b-4899-a896-7c888750a700",
   "metadata": {},
   "source": [
    "## 2-2-1 外れ値・異常値除去"
   ]
  },
  {
   "cell_type": "code",
   "execution_count": 34,
   "id": "b73dba03-e515-41ee-b494-3da0bb96eb6d",
   "metadata": {},
   "outputs": [
    {
     "ename": "TypeError",
     "evalue": "boxplot() got multiple values for argument 'data'",
     "output_type": "error",
     "traceback": [
      "\u001b[0;31m---------------------------------------------------------------------------\u001b[0m",
      "\u001b[0;31mTypeError\u001b[0m                                 Traceback (most recent call last)",
      "\u001b[0;32m<ipython-input-34-5788ba9a0987>\u001b[0m in \u001b[0;36m<module>\u001b[0;34m\u001b[0m\n\u001b[0;32m----> 1\u001b[0;31m \u001b[0mdf_train\u001b[0m\u001b[0;34m.\u001b[0m\u001b[0mboxplot\u001b[0m\u001b[0;34m(\u001b[0m\u001b[0my\u001b[0m\u001b[0;34m=\u001b[0m\u001b[0;34m\"duration\"\u001b[0m\u001b[0;34m,\u001b[0m\u001b[0mdata\u001b[0m\u001b[0;34m=\u001b[0m\u001b[0mdf_train\u001b[0m\u001b[0;34m)\u001b[0m\u001b[0;34m\u001b[0m\u001b[0;34m\u001b[0m\u001b[0m\n\u001b[0m",
      "\u001b[0;32m~/opt/anaconda3/lib/python3.8/site-packages/pandas/plotting/_core.py\u001b[0m in \u001b[0;36mboxplot_frame\u001b[0;34m(self, column, by, ax, fontsize, rot, grid, figsize, layout, return_type, backend, **kwargs)\u001b[0m\n\u001b[1;32m    492\u001b[0m ):\n\u001b[1;32m    493\u001b[0m     \u001b[0mplot_backend\u001b[0m \u001b[0;34m=\u001b[0m \u001b[0m_get_plot_backend\u001b[0m\u001b[0;34m(\u001b[0m\u001b[0mbackend\u001b[0m\u001b[0;34m)\u001b[0m\u001b[0;34m\u001b[0m\u001b[0;34m\u001b[0m\u001b[0m\n\u001b[0;32m--> 494\u001b[0;31m     return plot_backend.boxplot_frame(\n\u001b[0m\u001b[1;32m    495\u001b[0m         \u001b[0mself\u001b[0m\u001b[0;34m,\u001b[0m\u001b[0;34m\u001b[0m\u001b[0;34m\u001b[0m\u001b[0m\n\u001b[1;32m    496\u001b[0m         \u001b[0mcolumn\u001b[0m\u001b[0;34m=\u001b[0m\u001b[0mcolumn\u001b[0m\u001b[0;34m,\u001b[0m\u001b[0;34m\u001b[0m\u001b[0;34m\u001b[0m\u001b[0m\n",
      "\u001b[0;32m~/opt/anaconda3/lib/python3.8/site-packages/pandas/plotting/_matplotlib/boxplot.py\u001b[0m in \u001b[0;36mboxplot_frame\u001b[0;34m(self, column, by, ax, fontsize, rot, grid, figsize, layout, return_type, **kwds)\u001b[0m\n\u001b[1;32m    383\u001b[0m     \u001b[0;32mimport\u001b[0m \u001b[0mmatplotlib\u001b[0m\u001b[0;34m.\u001b[0m\u001b[0mpyplot\u001b[0m \u001b[0;32mas\u001b[0m \u001b[0mplt\u001b[0m\u001b[0;34m\u001b[0m\u001b[0;34m\u001b[0m\u001b[0m\n\u001b[1;32m    384\u001b[0m \u001b[0;34m\u001b[0m\u001b[0m\n\u001b[0;32m--> 385\u001b[0;31m     ax = boxplot(\n\u001b[0m\u001b[1;32m    386\u001b[0m         \u001b[0mself\u001b[0m\u001b[0;34m,\u001b[0m\u001b[0;34m\u001b[0m\u001b[0;34m\u001b[0m\u001b[0m\n\u001b[1;32m    387\u001b[0m         \u001b[0mcolumn\u001b[0m\u001b[0;34m=\u001b[0m\u001b[0mcolumn\u001b[0m\u001b[0;34m,\u001b[0m\u001b[0;34m\u001b[0m\u001b[0;34m\u001b[0m\u001b[0m\n",
      "\u001b[0;31mTypeError\u001b[0m: boxplot() got multiple values for argument 'data'"
     ]
    }
   ],
   "source": [
    "df_train.boxplot(y=\"duration\",data=df_train)"
   ]
  },
  {
   "cell_type": "code",
   "execution_count": null,
   "id": "07834598-372c-4b50-a5ff-ceb48018ff6a",
   "metadata": {},
   "outputs": [],
   "source": []
  }
 ],
 "metadata": {
  "kernelspec": {
   "display_name": "Python 3",
   "language": "python",
   "name": "python3"
  },
  "language_info": {
   "codemirror_mode": {
    "name": "ipython",
    "version": 3
   },
   "file_extension": ".py",
   "mimetype": "text/x-python",
   "name": "python",
   "nbconvert_exporter": "python",
   "pygments_lexer": "ipython3",
   "version": "3.8.8"
  }
 },
 "nbformat": 4,
 "nbformat_minor": 5
}
