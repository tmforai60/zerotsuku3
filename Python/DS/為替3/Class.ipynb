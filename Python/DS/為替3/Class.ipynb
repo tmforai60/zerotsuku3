{
 "cells": [
  {
   "cell_type": "code",
   "execution_count": 14,
   "id": "7e4d20b8-f060-455e-b78a-d5f4e27413fe",
   "metadata": {},
   "outputs": [],
   "source": [
    "# ライブラリの取得\n",
    "import pandas as pd\n",
    "import numpy as np\n",
    "%matplotlib inline\n",
    "import matplotlib.pyplot as plt\n",
    "import seaborn as sns\n",
    "# sns.set(font=\"IPAexGothic\",style=\"white\")　多分いらなそう\n",
    "# import oandapy\n",
    "import configparser\n",
    "import datetime\n",
    "from datetime import datetime, timedelta\n",
    "\n",
    "import warnings\n",
    "warnings.simplefilter('ignore')\n",
    "\n",
    "# CSVデータの読み込み\n",
    "import os\n",
    "working_directory=os.getcwd()"
   ]
  },
  {
   "cell_type": "code",
   "execution_count": null,
   "id": "22c7d29a-94da-457f-bcd3-7947e6b869b5",
   "metadata": {},
   "outputs": [],
   "source": []
  },
  {
   "cell_type": "markdown",
   "id": "620b2e30-5dea-4872-b33d-df2695c5c24a",
   "metadata": {},
   "source": [
    "### 継承"
   ]
  },
  {
   "cell_type": "code",
   "execution_count": 65,
   "id": "561a1f39-aa9e-420f-85cb-5723df079a32",
   "metadata": {},
   "outputs": [],
   "source": [
    "class Car():\n",
    "    def exclaim(self):\n",
    "        print(\"I'm a Car!\")\n",
    "\n",
    "class Yugo(Car):\n",
    "    pass"
   ]
  },
  {
   "cell_type": "code",
   "execution_count": 66,
   "id": "c5650cab-1064-4b4d-88af-a498bf9fd5cc",
   "metadata": {},
   "outputs": [],
   "source": [
    "give_me_a_car=Car()\n",
    "give_me_a_Yugo=Yugo()"
   ]
  },
  {
   "cell_type": "code",
   "execution_count": 67,
   "id": "fae1ddfc-89ed-46a2-b09b-647368c63323",
   "metadata": {},
   "outputs": [
    {
     "name": "stdout",
     "output_type": "stream",
     "text": [
      "I'm a Car!\n"
     ]
    }
   ],
   "source": [
    "give_me_a_car.exclaim()"
   ]
  },
  {
   "cell_type": "code",
   "execution_count": 68,
   "id": "3d282576-344e-40f4-bc0e-343b16be0f26",
   "metadata": {},
   "outputs": [
    {
     "name": "stdout",
     "output_type": "stream",
     "text": [
      "I'm a Car!\n"
     ]
    }
   ],
   "source": [
    "give_me_a_Yugo.exclaim()"
   ]
  },
  {
   "cell_type": "markdown",
   "id": "f58f149c-f9b8-43d7-90b3-e6f2e4cccb55",
   "metadata": {},
   "source": [
    "### メソッドのオーバーライド"
   ]
  },
  {
   "cell_type": "code",
   "execution_count": 69,
   "id": "863f5648-a8a5-4246-8524-a896cfb4033f",
   "metadata": {},
   "outputs": [],
   "source": [
    "class Car():\n",
    "    def exclaim(self):\n",
    "        print(\"I'm a Car!\")\n",
    "\n",
    "class Yugo(Car):\n",
    "    def exclaim(self):\n",
    "        print(\"I'm a Yugo! Much like a car, but more Yugo-ish.\")"
   ]
  },
  {
   "cell_type": "code",
   "execution_count": 70,
   "id": "5a651637-0148-48b9-94ce-2057b1221b81",
   "metadata": {},
   "outputs": [],
   "source": [
    "give_me_a_car=Car()\n",
    "give_me_a_Yugo=Yugo()"
   ]
  },
  {
   "cell_type": "code",
   "execution_count": 71,
   "id": "1171fdf5-c8d3-4f59-9be0-13892194a50d",
   "metadata": {},
   "outputs": [
    {
     "name": "stdout",
     "output_type": "stream",
     "text": [
      "I'm a Car!\n"
     ]
    }
   ],
   "source": [
    "give_me_a_car.exclaim()"
   ]
  },
  {
   "cell_type": "code",
   "execution_count": 72,
   "id": "4cf01718-9602-4321-a5ed-7f4408fd6465",
   "metadata": {},
   "outputs": [
    {
     "name": "stdout",
     "output_type": "stream",
     "text": [
      "I'm a Yugo! Much like a car, but more Yugo-ish.\n"
     ]
    }
   ],
   "source": [
    "give_me_a_Yugo.exclaim()"
   ]
  },
  {
   "cell_type": "code",
   "execution_count": null,
   "id": "ad5bba2c-a73b-44fe-b0a3-69c24ce1cf15",
   "metadata": {},
   "outputs": [],
   "source": []
  },
  {
   "cell_type": "code",
   "execution_count": 73,
   "id": "7a46c38f-bbd3-4429-b29c-d70c652dc019",
   "metadata": {},
   "outputs": [],
   "source": [
    "class Person():\n",
    "    def __init__(self,name):\n",
    "        self.name=name\n",
    "\n",
    "class MDPerson(Person):\n",
    "    def __init__(self,name):\n",
    "        self.name=\"Doctor \"+name\n",
    "        \n",
    "class JDPerson(Person):\n",
    "    def __init__(self,name):\n",
    "        self.name=name+\", Esquire\""
   ]
  },
  {
   "cell_type": "code",
   "execution_count": 74,
   "id": "522a0699-b1ea-4e52-8602-7cf28e69ca6e",
   "metadata": {},
   "outputs": [
    {
     "data": {
      "text/plain": [
       "'Fudd'"
      ]
     },
     "execution_count": 74,
     "metadata": {},
     "output_type": "execute_result"
    }
   ],
   "source": [
    "person=Person('Fudd')\n",
    "person.name"
   ]
  },
  {
   "cell_type": "code",
   "execution_count": 75,
   "id": "eef517bd-750b-44eb-aa7c-6ef2de4bf657",
   "metadata": {},
   "outputs": [
    {
     "data": {
      "text/plain": [
       "'Doctor Fudd'"
      ]
     },
     "execution_count": 75,
     "metadata": {},
     "output_type": "execute_result"
    }
   ],
   "source": [
    "doctor=MDPerson('Fudd')\n",
    "doctor.name"
   ]
  },
  {
   "cell_type": "code",
   "execution_count": 76,
   "id": "a6fe2bcc-eec4-4654-a93c-33188048dfb3",
   "metadata": {},
   "outputs": [
    {
     "data": {
      "text/plain": [
       "'Fudd, Esquire'"
      ]
     },
     "execution_count": 76,
     "metadata": {},
     "output_type": "execute_result"
    }
   ],
   "source": [
    "Lawyer=JDPerson('Fudd')\n",
    "Lawyer.name"
   ]
  },
  {
   "cell_type": "code",
   "execution_count": null,
   "id": "a53c9a46-1228-4d39-94dc-83fd62e1f7e3",
   "metadata": {},
   "outputs": [],
   "source": []
  },
  {
   "cell_type": "markdown",
   "id": "5bdc4fc3-9ec7-4fbb-8270-cf26b8eca872",
   "metadata": {},
   "source": [
    "### メソッドの追加"
   ]
  },
  {
   "cell_type": "code",
   "execution_count": 82,
   "id": "3c0e0989-07f5-493e-bb3b-1d5615bc2417",
   "metadata": {},
   "outputs": [],
   "source": [
    "class Car():\n",
    "    def exclaim(self):\n",
    "        print(\"I'm a Car!\")\n",
    "    def test(self):\n",
    "        print(\"test\")\n",
    "\n",
    "class Yugo(Car):\n",
    "    def exclaim(self):\n",
    "        print(\"I'm a Yugo! Much like a car, but more Yugo-ish.\")\n",
    "    def need_a_puch(self):\n",
    "        print(\"A little help here?\")"
   ]
  },
  {
   "cell_type": "code",
   "execution_count": 83,
   "id": "1cd024eb-7b52-4409-b0c4-b863ae8e372d",
   "metadata": {},
   "outputs": [],
   "source": [
    "give_me_a_car=Car()\n",
    "give_me_a_Yugo=Yugo()"
   ]
  },
  {
   "cell_type": "code",
   "execution_count": 80,
   "id": "bd229f64-fbc3-4903-b3b9-daa65f7d0971",
   "metadata": {},
   "outputs": [
    {
     "name": "stdout",
     "output_type": "stream",
     "text": [
      "A little help here?\n"
     ]
    }
   ],
   "source": [
    "give_me_a_Yugo.need_a_puch()"
   ]
  },
  {
   "cell_type": "code",
   "execution_count": 84,
   "id": "44fe7656-02f8-4bb9-a110-e276fc4b8fb9",
   "metadata": {},
   "outputs": [
    {
     "name": "stdout",
     "output_type": "stream",
     "text": [
      "test\n"
     ]
    }
   ],
   "source": [
    "give_me_a_Yugo.test()"
   ]
  },
  {
   "cell_type": "code",
   "execution_count": 81,
   "id": "52388d68-f9de-482e-b95d-f753c96640a1",
   "metadata": {},
   "outputs": [
    {
     "ename": "AttributeError",
     "evalue": "'Car' object has no attribute 'need_a_puch'",
     "output_type": "error",
     "traceback": [
      "\u001b[0;31m---------------------------------------------------------------------------\u001b[0m",
      "\u001b[0;31mAttributeError\u001b[0m                            Traceback (most recent call last)",
      "\u001b[0;32m<ipython-input-81-3614651c542b>\u001b[0m in \u001b[0;36m<module>\u001b[0;34m\u001b[0m\n\u001b[0;32m----> 1\u001b[0;31m \u001b[0mgive_me_a_car\u001b[0m\u001b[0;34m.\u001b[0m\u001b[0mneed_a_puch\u001b[0m\u001b[0;34m(\u001b[0m\u001b[0;34m)\u001b[0m\u001b[0;34m\u001b[0m\u001b[0;34m\u001b[0m\u001b[0m\n\u001b[0m",
      "\u001b[0;31mAttributeError\u001b[0m: 'Car' object has no attribute 'need_a_puch'"
     ]
    }
   ],
   "source": [
    "give_me_a_car.need_a_puch()"
   ]
  },
  {
   "cell_type": "code",
   "execution_count": null,
   "id": "0b36be45-2b52-43ae-bc8a-258691966037",
   "metadata": {},
   "outputs": [],
   "source": []
  },
  {
   "cell_type": "code",
   "execution_count": 91,
   "id": "fe3b9b99-66d9-470b-9056-414fe63c84f3",
   "metadata": {},
   "outputs": [],
   "source": [
    "class Person():\n",
    "    def __init__(self,name):\n",
    "        self.name=name\n",
    "\n",
    "class EmailPerson(Person):\n",
    "    def __init__(self,name,email):\n",
    "        super().__init__(name)\n",
    "        self.email=email\n",
    "\n",
    "# 以下のようにすることもできるが、将来Personの定義が変わっても、super()を使っていればEmailPersonがPersonから\n",
    "# 継承している属性やメソッドは、その変更を反映したものになる\n",
    "class EmailPerson2(Person):\n",
    "    def __init__(self,name,email):\n",
    "        self.name=name\n",
    "        self.email=email"
   ]
  },
  {
   "cell_type": "code",
   "execution_count": 92,
   "id": "dbf0fed4-6d7a-41b3-aed2-96182dc92455",
   "metadata": {},
   "outputs": [],
   "source": [
    "bob= EmailPerson('Bob Frapples','bob@frapples.com')\n",
    "bob2= EmailPerson2('Bob Frapples','bob@frapples.com')"
   ]
  },
  {
   "cell_type": "code",
   "execution_count": 98,
   "id": "3ee1dffe-3843-4e3d-8634-8546439a5621",
   "metadata": {},
   "outputs": [
    {
     "data": {
      "text/plain": [
       "'Bob Frapples'"
      ]
     },
     "execution_count": 98,
     "metadata": {},
     "output_type": "execute_result"
    }
   ],
   "source": [
    "bob.name"
   ]
  },
  {
   "cell_type": "code",
   "execution_count": 97,
   "id": "71e71dbd-d3fa-481b-82ac-0da2de987740",
   "metadata": {},
   "outputs": [
    {
     "data": {
      "text/plain": [
       "'bob@frapples.com'"
      ]
     },
     "execution_count": 97,
     "metadata": {},
     "output_type": "execute_result"
    }
   ],
   "source": [
    "bob.email"
   ]
  },
  {
   "cell_type": "code",
   "execution_count": 95,
   "id": "7b8d54c3-6f1c-4bf7-be0c-3b9af37ab6b9",
   "metadata": {},
   "outputs": [
    {
     "data": {
      "text/plain": [
       "'Bob Frapples'"
      ]
     },
     "execution_count": 95,
     "metadata": {},
     "output_type": "execute_result"
    }
   ],
   "source": [
    "bob2.name"
   ]
  },
  {
   "cell_type": "code",
   "execution_count": null,
   "id": "85163af1-1e87-4869-97bf-72a8031eb38b",
   "metadata": {},
   "outputs": [],
   "source": []
  },
  {
   "cell_type": "markdown",
   "id": "d9bb1944-0fa5-4fab-aa28-ea9f75ec3d5e",
   "metadata": {},
   "source": [
    "### selfの自己弁護"
   ]
  },
  {
   "cell_type": "code",
   "execution_count": 99,
   "id": "55118fb9-e27e-4b07-933f-5ff6e86c1daf",
   "metadata": {},
   "outputs": [],
   "source": [
    "class Car():\n",
    "    def exclaim(self):\n",
    "        print(\"I'm a Car!\")\n",
    "    def test(self):\n",
    "        print(\"test\")\n",
    "\n",
    "class Yugo(Car):\n",
    "    def exclaim(self):\n",
    "        print(\"I'm a Yugo! Much like a car, but more Yugo-ish.\")\n",
    "    def need_a_puch(self):\n",
    "        print(\"A little help here?\")"
   ]
  },
  {
   "cell_type": "code",
   "execution_count": 103,
   "id": "32b086c3-15bd-4d01-8619-2b56b24cfe3d",
   "metadata": {},
   "outputs": [
    {
     "name": "stdout",
     "output_type": "stream",
     "text": [
      "I'm a Car!\n"
     ]
    }
   ],
   "source": [
    "car=Car()\n",
    "\n",
    "car.exclaim()\n",
    "# ● carオブジェクトのクラス（Car）を探し出す。\n",
    "# ● Carクラスのexclaim()メソッドにself引数としてcarオブジェクトを渡す。"
   ]
  },
  {
   "cell_type": "code",
   "execution_count": null,
   "id": "7a8fa7b4-33f9-40df-92b1-2b66b45f6d56",
   "metadata": {},
   "outputs": [],
   "source": []
  },
  {
   "cell_type": "code",
   "execution_count": null,
   "id": "c3054309-c5b1-4ae1-a5df-10483a8f1cd4",
   "metadata": {},
   "outputs": [],
   "source": []
  },
  {
   "cell_type": "markdown",
   "id": "95fe27c6-72e2-496f-924b-f3f8882fee59",
   "metadata": {},
   "source": [
    "### プロパティによる属性値の取得、設定"
   ]
  },
  {
   "cell_type": "markdown",
   "id": "f84ae4cd-9d6d-4640-86fa-0f8a7be2b550",
   "metadata": {},
   "source": [
    "デコレータによるプロパティの設定"
   ]
  },
  {
   "cell_type": "code",
   "execution_count": 109,
   "id": "85bf4b26-593d-40fd-b543-8eed0f010b42",
   "metadata": {},
   "outputs": [],
   "source": [
    "class Duck():\n",
    "    def __init__(self,input_name):\n",
    "        self.hidden_name=input_name\n",
    "    @property #ゲッターメソッドの前に付けるデコレータ\n",
    "    def name(self):\n",
    "        print('inside the getter')\n",
    "        return self.hidden_name\n",
    "    @name.setter #セッターメソッドの前に付けるデコレータ\n",
    "    def name(self,input_name):\n",
    "        print('inside the setter')\n",
    "        self.hidden_name=input_name"
   ]
  },
  {
   "cell_type": "code",
   "execution_count": 110,
   "id": "b094e561-92ab-4980-a69d-8124b359aca0",
   "metadata": {},
   "outputs": [
    {
     "name": "stdout",
     "output_type": "stream",
     "text": [
      "inside the getter\n"
     ]
    },
    {
     "data": {
      "text/plain": [
       "'Howard'"
      ]
     },
     "execution_count": 110,
     "metadata": {},
     "output_type": "execute_result"
    }
   ],
   "source": [
    "fowl=Duck('Howard')\n",
    "fowl.name"
   ]
  },
  {
   "cell_type": "code",
   "execution_count": 111,
   "id": "00698bc3-f622-420b-8355-6ad6be13cf86",
   "metadata": {},
   "outputs": [
    {
     "name": "stdout",
     "output_type": "stream",
     "text": [
      "inside the setter\n"
     ]
    }
   ],
   "source": [
    "fowl.name='Donald'"
   ]
  },
  {
   "cell_type": "code",
   "execution_count": 112,
   "id": "63ece6d8-abc1-44ec-b19f-f67b08791614",
   "metadata": {},
   "outputs": [
    {
     "name": "stdout",
     "output_type": "stream",
     "text": [
      "inside the getter\n"
     ]
    },
    {
     "data": {
      "text/plain": [
       "'Donald'"
      ]
     },
     "execution_count": 112,
     "metadata": {},
     "output_type": "execute_result"
    }
   ],
   "source": [
    "fowl.name"
   ]
  },
  {
   "cell_type": "markdown",
   "id": "f9e766cd-cda6-4a0f-a132-ba5ff317f5d2",
   "metadata": {},
   "source": [
    "プロパティによるゲッター、セッターの設定"
   ]
  },
  {
   "cell_type": "code",
   "execution_count": 114,
   "id": "9ca1f7df-ef81-4a5d-8376-f388923d1dc6",
   "metadata": {},
   "outputs": [],
   "source": [
    "class Duck():\n",
    "    def __init__(self,input_name):\n",
    "        self.hidden_name=input_name\n",
    "    def get_name(self):\n",
    "        print('inside the getter')\n",
    "        return self.hidden_name\n",
    "    def set_name(self,input_name):\n",
    "        print('inside the setter')\n",
    "        self.hidden_name=input_name\n",
    "    name=property(get_name,set_name)"
   ]
  },
  {
   "cell_type": "code",
   "execution_count": 116,
   "id": "0ebb3f7f-200b-46ca-813d-b45cfdc31643",
   "metadata": {},
   "outputs": [
    {
     "name": "stdout",
     "output_type": "stream",
     "text": [
      "inside the getter\n"
     ]
    },
    {
     "data": {
      "text/plain": [
       "'Howard'"
      ]
     },
     "execution_count": 116,
     "metadata": {},
     "output_type": "execute_result"
    }
   ],
   "source": [
    "fowl=Duck('Howard')\n",
    "fowl.name"
   ]
  },
  {
   "cell_type": "code",
   "execution_count": 117,
   "id": "70f6abff-f125-45df-bd14-c2e321638998",
   "metadata": {},
   "outputs": [
    {
     "name": "stdout",
     "output_type": "stream",
     "text": [
      "inside the getter\n"
     ]
    },
    {
     "data": {
      "text/plain": [
       "'Howard'"
      ]
     },
     "execution_count": 117,
     "metadata": {},
     "output_type": "execute_result"
    }
   ],
   "source": [
    "fowl.get_name()"
   ]
  },
  {
   "cell_type": "code",
   "execution_count": 118,
   "id": "66b031c0-e05c-4009-97d5-02341ee2c01e",
   "metadata": {},
   "outputs": [
    {
     "name": "stdout",
     "output_type": "stream",
     "text": [
      "inside the setter\n"
     ]
    }
   ],
   "source": [
    "fowl.name='Dafft'"
   ]
  },
  {
   "cell_type": "code",
   "execution_count": 119,
   "id": "ef13b37f-b3b4-4a36-a785-a02f5f8ad2ec",
   "metadata": {},
   "outputs": [
    {
     "name": "stdout",
     "output_type": "stream",
     "text": [
      "inside the getter\n"
     ]
    },
    {
     "data": {
      "text/plain": [
       "'Dafft'"
      ]
     },
     "execution_count": 119,
     "metadata": {},
     "output_type": "execute_result"
    }
   ],
   "source": [
    "fowl.name"
   ]
  },
  {
   "cell_type": "code",
   "execution_count": null,
   "id": "d595e212-8125-4a77-81b3-0723731ca95a",
   "metadata": {},
   "outputs": [],
   "source": []
  },
  {
   "cell_type": "code",
   "execution_count": null,
   "id": "3fba04a6-27fa-407a-a96f-cca4b5521bb0",
   "metadata": {},
   "outputs": [],
   "source": []
  },
  {
   "cell_type": "code",
   "execution_count": 120,
   "id": "3385eefb-87a6-4736-84c7-e03c0ebfcc40",
   "metadata": {},
   "outputs": [],
   "source": [
    "class Circle():\n",
    "    def __init__(self,radius):\n",
    "        self.radius=radius\n",
    "    @property\n",
    "    def diameter(self):\n",
    "        return 2*self.radius"
   ]
  },
  {
   "cell_type": "code",
   "execution_count": 121,
   "id": "45108c89-2227-419b-840f-d0ab21f16df4",
   "metadata": {},
   "outputs": [],
   "source": [
    "c=Circle(5)"
   ]
  },
  {
   "cell_type": "code",
   "execution_count": 122,
   "id": "9fa66516-c749-4e83-999d-ee667f6e54e0",
   "metadata": {},
   "outputs": [
    {
     "data": {
      "text/plain": [
       "5"
      ]
     },
     "execution_count": 122,
     "metadata": {},
     "output_type": "execute_result"
    }
   ],
   "source": [
    "c.radius"
   ]
  },
  {
   "cell_type": "code",
   "execution_count": 123,
   "id": "76836b47-82db-4da7-b46e-313615241b57",
   "metadata": {},
   "outputs": [
    {
     "data": {
      "text/plain": [
       "10"
      ]
     },
     "execution_count": 123,
     "metadata": {},
     "output_type": "execute_result"
    }
   ],
   "source": [
    "c.diameter"
   ]
  },
  {
   "cell_type": "code",
   "execution_count": 124,
   "id": "856954bb-022d-4c1a-af2b-6ba47758129f",
   "metadata": {},
   "outputs": [],
   "source": [
    "c.radius=7"
   ]
  },
  {
   "cell_type": "code",
   "execution_count": 125,
   "id": "a4c3ff04-fa70-4392-89bb-27e93e3c12cd",
   "metadata": {},
   "outputs": [
    {
     "data": {
      "text/plain": [
       "14"
      ]
     },
     "execution_count": 125,
     "metadata": {},
     "output_type": "execute_result"
    }
   ],
   "source": [
    "c.diameter"
   ]
  },
  {
   "cell_type": "code",
   "execution_count": null,
   "id": "50c341cd-dbb4-4799-aea3-2ec132f9b300",
   "metadata": {},
   "outputs": [],
   "source": []
  },
  {
   "cell_type": "markdown",
   "id": "9a34fe05-8341-4889-a93f-b1fc4ff07c75",
   "metadata": {},
   "source": [
    "### 非公開属性のための名前のマングリング"
   ]
  },
  {
   "cell_type": "code",
   "execution_count": 126,
   "id": "44b7d1e4-d152-4b3c-b2e4-6f711b690f83",
   "metadata": {},
   "outputs": [],
   "source": [
    "class Duck():\n",
    "    def __init__(self,input_name):\n",
    "        self.__name=input_name\n",
    "    @property\n",
    "    def name(self):\n",
    "        print('inside the getter')\n",
    "        return self.__name\n",
    "    @name.setter\n",
    "    def name(self,input_name):\n",
    "        print('inside the setter')\n",
    "        self.__name=input_name"
   ]
  },
  {
   "cell_type": "code",
   "execution_count": 127,
   "id": "c6912ba7-60c4-473f-a230-dfbaa4c974ae",
   "metadata": {},
   "outputs": [
    {
     "name": "stdout",
     "output_type": "stream",
     "text": [
      "inside the getter\n"
     ]
    },
    {
     "data": {
      "text/plain": [
       "'Howard'"
      ]
     },
     "execution_count": 127,
     "metadata": {},
     "output_type": "execute_result"
    }
   ],
   "source": [
    "fowl=Duck('Howard')\n",
    "fowl.name"
   ]
  },
  {
   "cell_type": "code",
   "execution_count": 128,
   "id": "d92265d4-aff9-43de-a61e-60ed8bee0c05",
   "metadata": {},
   "outputs": [
    {
     "name": "stdout",
     "output_type": "stream",
     "text": [
      "inside the setter\n"
     ]
    }
   ],
   "source": [
    "fowl.name='Donald'"
   ]
  },
  {
   "cell_type": "code",
   "execution_count": 129,
   "id": "63dcb7c3-cd06-4b08-9b25-ec862111eb54",
   "metadata": {},
   "outputs": [
    {
     "name": "stdout",
     "output_type": "stream",
     "text": [
      "inside the getter\n"
     ]
    },
    {
     "data": {
      "text/plain": [
       "'Donald'"
      ]
     },
     "execution_count": 129,
     "metadata": {},
     "output_type": "execute_result"
    }
   ],
   "source": [
    "fowl.name"
   ]
  },
  {
   "cell_type": "code",
   "execution_count": 130,
   "id": "57d6ffc4-b83c-494c-bfaa-e0bb903fc390",
   "metadata": {},
   "outputs": [
    {
     "ename": "AttributeError",
     "evalue": "'Duck' object has no attribute '__name'",
     "output_type": "error",
     "traceback": [
      "\u001b[0;31m---------------------------------------------------------------------------\u001b[0m",
      "\u001b[0;31mAttributeError\u001b[0m                            Traceback (most recent call last)",
      "\u001b[0;32m<ipython-input-130-39d081ea2ef8>\u001b[0m in \u001b[0;36m<module>\u001b[0;34m\u001b[0m\n\u001b[0;32m----> 1\u001b[0;31m \u001b[0mfowl\u001b[0m\u001b[0;34m.\u001b[0m\u001b[0m__name\u001b[0m\u001b[0;34m\u001b[0m\u001b[0;34m\u001b[0m\u001b[0m\n\u001b[0m",
      "\u001b[0;31mAttributeError\u001b[0m: 'Duck' object has no attribute '__name'"
     ]
    }
   ],
   "source": [
    "fowl.__name"
   ]
  },
  {
   "cell_type": "code",
   "execution_count": 132,
   "id": "9c16c009-2b45-405f-9d97-b5c6538a14bf",
   "metadata": {},
   "outputs": [
    {
     "data": {
      "text/plain": [
       "'Donald'"
      ]
     },
     "execution_count": 132,
     "metadata": {},
     "output_type": "execute_result"
    }
   ],
   "source": [
    "fowl._Duck__name\n",
    "# マングリングによって__name属性にDuckが付与され外からの意図しないアクセスを防ぐ"
   ]
  },
  {
   "cell_type": "code",
   "execution_count": null,
   "id": "e7b2f170-7481-462b-bb23-16fd164e0809",
   "metadata": {},
   "outputs": [],
   "source": []
  },
  {
   "cell_type": "markdown",
   "id": "28baac3e-ed20-44fa-b3a8-53490fd45be2",
   "metadata": {},
   "source": [
    "### メソッドのタイプ"
   ]
  },
  {
   "cell_type": "code",
   "execution_count": 133,
   "id": "1910fe10-63de-47fa-b423-4a2495fef126",
   "metadata": {},
   "outputs": [],
   "source": [
    "class A():\n",
    "    count=0\n",
    "    def __init__(self):\n",
    "        A.count +=1\n",
    "    def exclaim(self):\n",
    "        print(\"I'm an A!\")\n",
    "    @classmethod\n",
    "    def kids(cls):\n",
    "        print(\"A has\",cls.count,\"little objects.\")"
   ]
  },
  {
   "cell_type": "code",
   "execution_count": 134,
   "id": "a6027700-8d9b-46eb-b855-b6fae3389e16",
   "metadata": {},
   "outputs": [],
   "source": [
    "easy_a=A()\n",
    "breezy_a=A()\n",
    "wheezy_a=A()"
   ]
  },
  {
   "cell_type": "code",
   "execution_count": 135,
   "id": "c548e1ca-8faf-4a0e-a2ee-78941240119a",
   "metadata": {},
   "outputs": [
    {
     "name": "stdout",
     "output_type": "stream",
     "text": [
      "A has 3 little objects.\n"
     ]
    }
   ],
   "source": [
    "A.kids()"
   ]
  },
  {
   "cell_type": "code",
   "execution_count": null,
   "id": "d13a3606-e257-4110-b558-0a50be79accc",
   "metadata": {},
   "outputs": [],
   "source": []
  },
  {
   "cell_type": "code",
   "execution_count": 136,
   "id": "9f6de286-327c-49f4-9e20-deb700f4c9d8",
   "metadata": {},
   "outputs": [],
   "source": [
    "class CoyoteWeapon():\n",
    "    @staticmethod\n",
    "    def commercial():\n",
    "        print(\"This CoyoteWeapon has been brought to you by Acme\")"
   ]
  },
  {
   "cell_type": "code",
   "execution_count": 137,
   "id": "208e3291-15d1-4bc3-aac5-ca3340b237e4",
   "metadata": {},
   "outputs": [
    {
     "name": "stdout",
     "output_type": "stream",
     "text": [
      "This CoyoteWeapon has been brought to you by Acme\n"
     ]
    }
   ],
   "source": [
    "CoyoteWeapon.commercial()"
   ]
  },
  {
   "cell_type": "code",
   "execution_count": null,
   "id": "203dfbb5-b232-4ab2-b579-9c0b5fdebc69",
   "metadata": {},
   "outputs": [],
   "source": []
  },
  {
   "cell_type": "markdown",
   "id": "5b4f898e-6110-4c0a-bc09-a2cfbe25daeb",
   "metadata": {},
   "source": [
    "### ダックタイピング"
   ]
  },
  {
   "cell_type": "code",
   "execution_count": 181,
   "id": "3829da3f-d5e6-41d9-8bed-5d03842949ad",
   "metadata": {},
   "outputs": [],
   "source": [
    "class Quote():\n",
    "    def __init__(self,person,words):\n",
    "        self.person=person\n",
    "        self.words=words\n",
    "    def who(self):\n",
    "        return self.person\n",
    "    def says(self):\n",
    "        return self.words + '.'\n",
    "\n",
    "class QuestionQuote(Quote):\n",
    "    def says(self):\n",
    "        return self.words + 'y'\n",
    "\n",
    "class ExclamationQuote(Quote):\n",
    "    def says(self):\n",
    "        return self.words + '!'"
   ]
  },
  {
   "cell_type": "code",
   "execution_count": 182,
   "id": "3848f0d8-f3ae-4d63-bf18-3268fcabddd5",
   "metadata": {},
   "outputs": [],
   "source": [
    "hunter = Quote('Elmer Fudd', \"I'm hunting wabbits\")"
   ]
  },
  {
   "cell_type": "code",
   "execution_count": 183,
   "id": "5fd60324-c046-43d8-8f9a-0d78d4585f03",
   "metadata": {},
   "outputs": [
    {
     "name": "stdout",
     "output_type": "stream",
     "text": [
      "Elmer Fudd says: I'm hunting wabbits.\n"
     ]
    }
   ],
   "source": [
    "print(hunter.who(), 'says:', hunter.says())"
   ]
  },
  {
   "cell_type": "code",
   "execution_count": 184,
   "id": "0eae1959-781b-4986-8355-55b5bcd3a4c0",
   "metadata": {},
   "outputs": [],
   "source": [
    "hunted1 = QuestionQuote('Bugs Bunny', \"What's up, doc\")"
   ]
  },
  {
   "cell_type": "code",
   "execution_count": 185,
   "id": "8559eb82-9a4a-4cd3-a6da-0dee0258d71e",
   "metadata": {},
   "outputs": [
    {
     "name": "stdout",
     "output_type": "stream",
     "text": [
      "Bugs Bunny says: What's up, docy\n"
     ]
    }
   ],
   "source": [
    "print(hunted1.who(), 'says:', hunted1.says())"
   ]
  },
  {
   "cell_type": "code",
   "execution_count": 186,
   "id": "b1504aa4-db11-45c3-9a38-eae95317a962",
   "metadata": {},
   "outputs": [],
   "source": [
    "hunted2 = ExclamationQuote('Daffy Duck', \"It's rabbit season\")"
   ]
  },
  {
   "cell_type": "code",
   "execution_count": 187,
   "id": "98923cfc-92a8-48f5-a2f5-619c38a6dcb8",
   "metadata": {},
   "outputs": [
    {
     "name": "stdout",
     "output_type": "stream",
     "text": [
      "Daffy Duck says: It's rabbit season!\n"
     ]
    }
   ],
   "source": [
    "print(hunted2.who(), 'says:', hunted2.says())"
   ]
  },
  {
   "cell_type": "code",
   "execution_count": 188,
   "id": "8bf8445d-fe5d-42de-ba80-4e2d93916416",
   "metadata": {},
   "outputs": [],
   "source": [
    "class BabblingBrook():\n",
    "    def who(self):\n",
    "        return 'Brook'\n",
    "    def says(self):\n",
    "        return 'Babble'"
   ]
  },
  {
   "cell_type": "code",
   "execution_count": 189,
   "id": "ed3de240-27fe-46a2-8f6d-b95a26b39309",
   "metadata": {},
   "outputs": [],
   "source": [
    "brook=BabblingBrook()"
   ]
  },
  {
   "cell_type": "code",
   "execution_count": 190,
   "id": "ec338dcb-ada5-40c5-ab39-1de5dd4e21c0",
   "metadata": {},
   "outputs": [],
   "source": [
    "def who_says(obj):\n",
    "    print(obj.who(),'says',obj.says())"
   ]
  },
  {
   "cell_type": "code",
   "execution_count": 191,
   "id": "7ad4a064-423b-4326-9400-15d83e5f8fcd",
   "metadata": {},
   "outputs": [
    {
     "name": "stdout",
     "output_type": "stream",
     "text": [
      "Elmer Fudd says I'm hunting wabbits.\n"
     ]
    }
   ],
   "source": [
    "who_says(hunter)"
   ]
  },
  {
   "cell_type": "code",
   "execution_count": 192,
   "id": "f6e5ae01-7fd5-4387-9379-1a4965da11b6",
   "metadata": {},
   "outputs": [
    {
     "name": "stdout",
     "output_type": "stream",
     "text": [
      "Bugs Bunny says What's up, docy\n"
     ]
    }
   ],
   "source": [
    "who_says(hunted1)"
   ]
  },
  {
   "cell_type": "code",
   "execution_count": 193,
   "id": "3b7578ce-f8e6-4859-b9df-df0441447dd0",
   "metadata": {},
   "outputs": [
    {
     "name": "stdout",
     "output_type": "stream",
     "text": [
      "Daffy Duck says It's rabbit season!\n"
     ]
    }
   ],
   "source": [
    "who_says(hunted2)"
   ]
  },
  {
   "cell_type": "code",
   "execution_count": 194,
   "id": "81b7d92f-bc2c-43ca-be49-e99d6c4f04b6",
   "metadata": {},
   "outputs": [
    {
     "name": "stdout",
     "output_type": "stream",
     "text": [
      "Brook says Babble\n"
     ]
    }
   ],
   "source": [
    "who_says(brook)"
   ]
  },
  {
   "cell_type": "code",
   "execution_count": null,
   "id": "f1a6b34c-a097-4d96-96b6-c3293dce38a1",
   "metadata": {},
   "outputs": [],
   "source": []
  },
  {
   "cell_type": "code",
   "execution_count": null,
   "id": "ac527d6c-7d1e-4be5-a06e-d47c82ff26be",
   "metadata": {},
   "outputs": [],
   "source": []
  },
  {
   "cell_type": "markdown",
   "id": "2066f062-b46b-44aa-92c7-27a41f3a0a96",
   "metadata": {},
   "source": [
    "### 特殊メソッド"
   ]
  },
  {
   "cell_type": "code",
   "execution_count": 198,
   "id": "69393f5a-c654-4bd7-bde4-420b5da2124e",
   "metadata": {},
   "outputs": [],
   "source": [
    "class Word():\n",
    "    def __init__(self,text):\n",
    "        self.text=text\n",
    "    def equals(self,word2):\n",
    "        return self.text.lower()==word2.text.lower()"
   ]
  },
  {
   "cell_type": "code",
   "execution_count": 199,
   "id": "ee519bc1-29d2-4c19-b647-6e22b6983897",
   "metadata": {},
   "outputs": [],
   "source": [
    "first=Word('ha')\n",
    "second=Word('HA')\n",
    "third=Word('eh')"
   ]
  },
  {
   "cell_type": "code",
   "execution_count": 200,
   "id": "4d0d2d61-281e-4900-a833-cbdd99ce408f",
   "metadata": {},
   "outputs": [
    {
     "data": {
      "text/plain": [
       "True"
      ]
     },
     "execution_count": 200,
     "metadata": {},
     "output_type": "execute_result"
    }
   ],
   "source": [
    "first.equals(second)"
   ]
  },
  {
   "cell_type": "code",
   "execution_count": 201,
   "id": "6891e94a-e082-45c1-88be-bbaa19f8e58f",
   "metadata": {},
   "outputs": [
    {
     "data": {
      "text/plain": [
       "False"
      ]
     },
     "execution_count": 201,
     "metadata": {},
     "output_type": "execute_result"
    }
   ],
   "source": [
    "first.equals(third)"
   ]
  },
  {
   "cell_type": "code",
   "execution_count": 203,
   "id": "a460d689-24e8-4d9f-b151-8339e470bf68",
   "metadata": {},
   "outputs": [],
   "source": [
    "class Word():\n",
    "    def __init__(self,text):\n",
    "        self.text=text\n",
    "    def __eq__(self,word2):\n",
    "        return self.text.lower()==word2.text.lower()"
   ]
  },
  {
   "cell_type": "code",
   "execution_count": 204,
   "id": "501760f5-f37b-4fb4-a4c3-49a57fd50600",
   "metadata": {},
   "outputs": [],
   "source": [
    "first=Word('ha')\n",
    "second=Word('HA')\n",
    "third=Word('eh')"
   ]
  },
  {
   "cell_type": "code",
   "execution_count": 205,
   "id": "df3315c5-e7aa-4a48-8dc3-5ff463c35369",
   "metadata": {},
   "outputs": [
    {
     "data": {
      "text/plain": [
       "True"
      ]
     },
     "execution_count": 205,
     "metadata": {},
     "output_type": "execute_result"
    }
   ],
   "source": [
    "first==second"
   ]
  },
  {
   "cell_type": "code",
   "execution_count": 206,
   "id": "88af5985-d7b0-4bcd-9a9e-cc54ebb5ffcf",
   "metadata": {},
   "outputs": [
    {
     "data": {
      "text/plain": [
       "False"
      ]
     },
     "execution_count": 206,
     "metadata": {},
     "output_type": "execute_result"
    }
   ],
   "source": [
    "first==third"
   ]
  },
  {
   "cell_type": "code",
   "execution_count": null,
   "id": "6ad47ae6-8d38-42e4-8ea6-832517ce6df4",
   "metadata": {},
   "outputs": [],
   "source": []
  },
  {
   "cell_type": "markdown",
   "id": "4e6cd0f9-309c-4aac-8867-4477a0c2a481",
   "metadata": {},
   "source": [
    "### コンポジション (classの入子構造っぽい。継承との使い分け判断が必要)"
   ]
  },
  {
   "cell_type": "code",
   "execution_count": 207,
   "id": "578cb98a-6d3c-4e85-a1e2-a3a11ab4ef00",
   "metadata": {},
   "outputs": [],
   "source": [
    "class Bill():\n",
    "    def __init__(self,description):\n",
    "        self.description=description\n",
    "\n",
    "class Tail():\n",
    "    def __init__(self,length):\n",
    "        self.length=length\n",
    "\n",
    "class Duck():\n",
    "    def __init__(self,bill,tail):\n",
    "        self.bill=bill\n",
    "        self.tail=tail\n",
    "    def about(self):\n",
    "        print(\"This duck has a\", self.bill.description, \"bill and a\",self.tail.length,'tail')"
   ]
  },
  {
   "cell_type": "code",
   "execution_count": 209,
   "id": "e2faf9a4-b17c-436f-b58e-2257edcd3693",
   "metadata": {},
   "outputs": [],
   "source": [
    "tail=Tail(\"long\")\n",
    "bill=Bill(\"wide orange\")\n",
    "duck=Duck(bill,tail)"
   ]
  },
  {
   "cell_type": "code",
   "execution_count": 210,
   "id": "ccc0c2c7-7f95-455b-ace6-2352c1569b0f",
   "metadata": {},
   "outputs": [
    {
     "name": "stdout",
     "output_type": "stream",
     "text": [
      "This duck has a wide orange bill and a long tail\n"
     ]
    }
   ],
   "source": [
    "duck.about()"
   ]
  },
  {
   "cell_type": "code",
   "execution_count": null,
   "id": "7036e7ec-ddb9-4a3a-a4aa-1934084a6b3f",
   "metadata": {},
   "outputs": [],
   "source": []
  },
  {
   "cell_type": "code",
   "execution_count": null,
   "id": "069b173e-6f7e-4bc0-8e60-b42e25ab7031",
   "metadata": {},
   "outputs": [],
   "source": []
  },
  {
   "cell_type": "markdown",
   "id": "97cf35de-bafa-483b-ad08-5e866492123a",
   "metadata": {},
   "source": [
    "カウンター"
   ]
  },
  {
   "cell_type": "code",
   "execution_count": null,
   "id": "93bdbf36-abea-45ba-8e3d-6e4380a80c86",
   "metadata": {},
   "outputs": [],
   "source": [
    "class Foo(object):\n",
    "  # Class variable, shared by all instances of this class\n",
    "    counter = 0\n",
    "    def __call__(self):\n",
    "        Foo.counter += 1\n",
    "        print (Foo.counter)"
   ]
  },
  {
   "cell_type": "code",
   "execution_count": null,
   "id": "35a6d81a-91f1-4c61-b7c3-bef3968f4e0d",
   "metadata": {},
   "outputs": [],
   "source": [
    "foo=Foo()"
   ]
  },
  {
   "cell_type": "code",
   "execution_count": null,
   "id": "68dcb99e-940f-41d5-b937-c893ce464ecf",
   "metadata": {},
   "outputs": [],
   "source": [
    "foo()"
   ]
  }
 ],
 "metadata": {
  "kernelspec": {
   "display_name": "Python 3",
   "language": "python",
   "name": "python3"
  },
  "language_info": {
   "codemirror_mode": {
    "name": "ipython",
    "version": 3
   },
   "file_extension": ".py",
   "mimetype": "text/x-python",
   "name": "python",
   "nbconvert_exporter": "python",
   "pygments_lexer": "ipython3",
   "version": "3.8.8"
  }
 },
 "nbformat": 4,
 "nbformat_minor": 5
}
