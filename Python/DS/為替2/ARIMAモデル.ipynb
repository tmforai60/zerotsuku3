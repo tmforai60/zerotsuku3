{
 "cells": [
  {
   "cell_type": "code",
   "execution_count": 3,
   "id": "bd0569aa-3791-4118-9ca3-afd4bd744e8d",
   "metadata": {},
   "outputs": [],
   "source": [
    "# ライブラリの取得\n",
    "import pandas as pd\n",
    "import numpy as np\n",
    "%matplotlib inline\n",
    "import matplotlib.pyplot as plt\n",
    "import seaborn as sns\n",
    "# sns.set(font=\"IPAexGothic\",style=\"white\")　多分いらなそう\n",
    "# import oandapy\n",
    "import configparser\n",
    "import datetime\n",
    "from datetime import datetime, timedelta\n",
    "\n",
    "import warnings\n",
    "warnings.simplefilter('ignore')\n",
    "\n",
    "# CSVデータの読み込み\n",
    "import os\n",
    "working_directory=os.getcwd()\n",
    "#print(working_directory)\n",
    "path_train=working_directory+'/finance2_train.csv'\n",
    "path_test=working_directory+'/finance2_test.csv'\n",
    "path_submit=working_directory+'/finance2_submit.csv'\n",
    "\n",
    "#データフレームの生成\n",
    "df_train=pd.read_csv(path_train)\n",
    "df_test=pd.read_csv(path_test)\n",
    "df_submit=pd.read_csv(path_submit)"
   ]
  },
  {
   "cell_type": "code",
   "execution_count": 4,
   "id": "30c16a8c-0eee-438b-b300-97be95f1dd52",
   "metadata": {},
   "outputs": [],
   "source": [
    "# Dateがobject型になっているので日付型に変換\n",
    "df_train['Date']=pd.to_datetime(df_train['Date'],format='%Y/%m/%d')\n",
    "df_test['Date']=pd.to_datetime(df_test['Date'],format='%Y/%m/%d')"
   ]
  },
  {
   "cell_type": "code",
   "execution_count": 5,
   "id": "9bebaccd-9634-4737-b4e9-3356a9b9f605",
   "metadata": {},
   "outputs": [],
   "source": [
    "# Dateをインデックスに指定\n",
    "df_train.set_index('Date',inplace=True)\n",
    "df_test.set_index('Date',inplace=True)"
   ]
  },
  {
   "cell_type": "code",
   "execution_count": 10,
   "id": "7d946ea5-9285-4d1d-bbe0-ee9c5eb38d76",
   "metadata": {},
   "outputs": [],
   "source": [
    "# # mean/std削除＋1日目を取り合えす終値で埋める\n",
    "# drop = ['upper', 'lower', 'PP','R1','S1','R2','S2','R3','S3','GC','SMA25','SMA10']\n",
    "# drop = ['upper', 'lower', 'PP','R1','S1','R2','S2','R3','S3','GC','SMA25','SMA10','SMA05','EMA05']\n",
    "drop = ['High', 'Low', 'Open']\n",
    "\n",
    "df_train = df_train.drop(columns=drop,axis=1) \n",
    "df_test = df_test.drop(columns=drop,axis=1) "
   ]
  },
  {
   "cell_type": "code",
   "execution_count": null,
   "id": "4f48276b-af60-49e2-aeed-7f687fd66988",
   "metadata": {},
   "outputs": [],
   "source": []
  },
  {
   "cell_type": "code",
   "execution_count": null,
   "id": "54e46855-5569-4439-a386-7ea5f98d6f9a",
   "metadata": {},
   "outputs": [],
   "source": []
  },
  {
   "cell_type": "code",
   "execution_count": 11,
   "id": "f55013f2-b1d7-44b2-9d36-f59e42794cdc",
   "metadata": {},
   "outputs": [
    {
     "name": "stdout",
     "output_type": "stream",
     "text": [
      "train\n",
      "                 Close\n",
      "Date                  \n",
      "2003-01-23  100.235198\n",
      "2003-01-24  100.717098\n",
      "2003-01-27  101.467602\n",
      "2003-01-28  101.491301\n",
      "2003-01-29  101.341199\n",
      "...                ...\n",
      "2011-07-07   92.193787\n",
      "2011-07-10   90.492917\n",
      "2011-07-11   89.074079\n",
      "2011-07-12   87.530417\n",
      "2011-07-13   88.732800\n",
      "\n",
      "[2187 rows x 1 columns]\n",
      "\n",
      "test\n",
      "                Close\n",
      "Date                 \n",
      "2011-07-14  88.551097\n",
      "2011-07-17  88.266703\n",
      "2011-07-18  88.116601\n",
      "2011-07-19  88.590600\n",
      "2011-07-20  88.784152\n",
      "...               ...\n",
      "2019-12-25  95.771703\n",
      "2019-12-26  95.860182\n",
      "2019-12-27  96.127200\n",
      "2019-12-30  96.693633\n",
      "2019-12-31  96.372098\n",
      "\n",
      "[1314 rows x 1 columns]\n",
      "\n"
     ]
    }
   ],
   "source": [
    "# \n",
    "print(f'train\\n{df_train}\\n')\n",
    "print(f'test\\n{df_test}\\n')"
   ]
  },
  {
   "cell_type": "code",
   "execution_count": 12,
   "id": "05bfd990-fce6-4281-b6ba-b93ede09b169",
   "metadata": {},
   "outputs": [],
   "source": [
    "import pmdarima as pm"
   ]
  },
  {
   "cell_type": "code",
   "execution_count": 13,
   "id": "e8537df7-e1a6-4567-a378-822790293b90",
   "metadata": {},
   "outputs": [],
   "source": [
    "from pmdarima import datasets\n",
    "from pmdarima import utils\n",
    "from pmdarima import arima\n",
    "from pmdarima import model_selection\n",
    "from sklearn.metrics import mean_absolute_error\n",
    "from statistics import mean \n",
    "from matplotlib import pyplot as plt\n",
    "# グラフのスタイルとサイズ\n",
    "plt.style.use('ggplot')\n",
    "plt.rcParams['figure.figsize'] = [12, 9]"
   ]
  },
  {
   "cell_type": "code",
   "execution_count": 15,
   "id": "0a0e9220-cda6-4780-9c16-b79a75f654a4",
   "metadata": {},
   "outputs": [
    {
     "data": {
      "image/png": "[encoded data removed]",
      "text/plain": [
       "<Figure size 864x216 with 1 Axes>"
      ]
     },
     "metadata": {},
     "output_type": "display_data"
    },
    {
     "data": {
      "image/png": "[encoded data removed]",
      "text/plain": [
       "<Figure size 864x216 with 1 Axes>"
      ]
     },
     "metadata": {},
     "output_type": "display_data"
    }
   ],
   "source": [
    "# グラフのサイズ変更\n",
    "plt.rcParams['figure.figsize'] = [12, 3]\n",
    "# 自己相関と偏自己相関\n",
    "utils.plot_acf(df_test)\n",
    "utils.plot_pacf(df_test)"
   ]
  },
  {
   "cell_type": "code",
   "execution_count": null,
   "id": "02ad1217-73bd-46b3-a2e0-ebca31e19f01",
   "metadata": {},
   "outputs": [],
   "source": []
  },
  {
   "cell_type": "code",
   "execution_count": null,
   "id": "690d34dc-4486-4651-bc4b-e53ff504ecd9",
   "metadata": {},
   "outputs": [],
   "source": []
  },
  {
   "cell_type": "code",
   "execution_count": null,
   "id": "d270cb09-63c1-4171-bae5-6040c3073e14",
   "metadata": {},
   "outputs": [],
   "source": []
  },
  {
   "cell_type": "code",
   "execution_count": 163,
   "id": "837f1878-01df-4412-9fc6-dfe04b4a728c",
   "metadata": {},
   "outputs": [],
   "source": [
    "X_train=df_train.copy()"
   ]
  },
  {
   "cell_type": "code",
   "execution_count": 164,
   "id": "e4d4f0d2-0c0f-4b14-ba9a-f754de19e368",
   "metadata": {},
   "outputs": [],
   "source": [
    "from sklearn.preprocessing import StandardScaler"
   ]
  },
  {
   "cell_type": "code",
   "execution_count": 165,
   "id": "9ed4266f-875c-4a46-8c97-8df2641874fa",
   "metadata": {},
   "outputs": [
    {
     "data": {
      "text/plain": [
       "StandardScaler()"
      ]
     },
     "execution_count": 165,
     "metadata": {},
     "output_type": "execute_result"
    }
   ],
   "source": [
    "scaler = StandardScaler()\n",
    "scaler.fit(X_train)"
   ]
  },
  {
   "cell_type": "code",
   "execution_count": 166,
   "id": "80d91929-ccd6-4dd3-aa3c-4638efdf5a58",
   "metadata": {},
   "outputs": [],
   "source": [
    "#　標準化時の情報\n",
    "X_train_mean=scaler.mean_\n",
    "X_train_scale=scaler.scale_\n",
    "X_train_var=scaler.var_\n",
    "Xtrain_seen=scaler.n_samples_seen_"
   ]
  },
  {
   "cell_type": "code",
   "execution_count": 167,
   "id": "af941b81-a89b-46dc-b441-4362e25a1e59",
   "metadata": {},
   "outputs": [
    {
     "name": "stdout",
     "output_type": "stream",
     "text": [
      "X_train_mean : [108.73433021 107.61034712 108.20329868 108.20490455]\n",
      "\n",
      "X_train_scale\n",
      "[12.23031177 12.29683146 12.25710705 12.26895736]\n",
      "\n",
      "X_train_var\n",
      "[149.58052597 151.212064   150.23667333 150.5273148 ]\n",
      "\n",
      "Xtrain_seen\n",
      "2187\n",
      "\n"
     ]
    }
   ],
   "source": [
    "# 配列抜粋\n",
    "print(f'X_train_mean : {X_train_mean}\\n')\n",
    "print(f'X_train_scale\\n{X_train_scale}\\n')\n",
    "print(f'X_train_var\\n{X_train_var}\\n')\n",
    "print(f'Xtrain_seen\\n{Xtrain_seen}\\n')"
   ]
  },
  {
   "cell_type": "code",
   "execution_count": 168,
   "id": "de22bf74-9085-4cd8-bd43-077fbd34197f",
   "metadata": {},
   "outputs": [
    {
     "data": {
      "text/plain": [
       "array([[-0.68006686, -0.62288808, -0.64363442, -0.64958305],\n",
       "       [-0.63808091, -0.6048993 , -0.64879073, -0.61030502],\n",
       "       [-0.56186043, -0.56057114, -0.60431891, -0.54913408],\n",
       "       ...,\n",
       "       [-1.60330329, -1.71092752, -1.56079233, -1.55928698],\n",
       "       [-1.65426775, -1.63280637, -1.68647432, -1.68510548],\n",
       "       [-1.59839441, -1.57864886, -1.5917297 , -1.58710347]])"
      ]
     },
     "execution_count": 168,
     "metadata": {},
     "output_type": "execute_result"
    }
   ],
   "source": [
    "train = scaler.transform(X_train)\n",
    "train"
   ]
  },
  {
   "cell_type": "code",
   "execution_count": 169,
   "id": "9727eef0-baca-4b82-b2a6-de2b30155980",
   "metadata": {},
   "outputs": [
    {
     "data": {
      "text/plain": [
       "array([[-1.6356001 , -1.59599457, -1.60461998, -1.60191342],\n",
       "       [-1.67545464, -1.64135105, -1.62846755, -1.62509342],\n",
       "       [-1.63689225, -1.610321  , -1.63890851, -1.63732771],\n",
       "       ...,\n",
       "       [-0.97991029, -0.94507267, -0.98297678, -0.98441163],\n",
       "       [-0.97997485, -0.9202101 , -0.93876213, -0.93824371],\n",
       "       [-1.00464985, -0.93190249, -0.96602576, -0.96445084]])"
      ]
     },
     "execution_count": 169,
     "metadata": {},
     "output_type": "execute_result"
    }
   ],
   "source": [
    "test = scaler.transform(df_test)\n",
    "test"
   ]
  },
  {
   "cell_type": "code",
   "execution_count": 170,
   "id": "138a1f4f-467d-4c7c-8827-790389190fb4",
   "metadata": {},
   "outputs": [],
   "source": [
    "X_train_mean=scaler.mean_\n",
    "X_train_scale=scaler.scale_\n",
    "X_train_var=scaler.var_\n",
    "Xtrain_seen=scaler.n_samples_seen_"
   ]
  },
  {
   "cell_type": "code",
   "execution_count": 171,
   "id": "40a48b89-cff1-4cb5-85f8-4da97d040564",
   "metadata": {},
   "outputs": [
    {
     "name": "stdout",
     "output_type": "stream",
     "text": [
      "X_train_mean : [108.73433021 107.61034712 108.20329868 108.20490455]\n",
      "\n",
      "X_train_scale\n",
      "[12.23031177 12.29683146 12.25710705 12.26895736]\n",
      "\n",
      "X_train_var\n",
      "[149.58052597 151.212064   150.23667333 150.5273148 ]\n",
      "\n",
      "Xtrain_seen\n",
      "2187\n",
      "\n"
     ]
    }
   ],
   "source": [
    "# 配列抜粋\n",
    "print(f'X_train_mean : {X_train_mean}\\n')\n",
    "print(f'X_train_scale\\n{X_train_scale}\\n')\n",
    "print(f'X_train_var\\n{X_train_var}\\n')\n",
    "print(f'Xtrain_seen\\n{Xtrain_seen}\\n')"
   ]
  },
  {
   "cell_type": "code",
   "execution_count": 172,
   "id": "bca239a6-547e-48e8-860c-18af1187f418",
   "metadata": {},
   "outputs": [
    {
     "data": {
      "text/plain": [
       "array([[100.41690048,  99.95079735, 100.31420265, 100.23519783],\n",
       "       [100.93040169, 100.17200241, 100.25100121, 100.71709831],\n",
       "       [101.86260193, 100.71709831, 100.79609711, 101.46760193],\n",
       "       ...,\n",
       "       [ 89.12543106,  86.57135971,  89.0725    ,  89.07407913],\n",
       "       [ 88.5021199 ,  87.53200241,  87.53200241,  87.53041725],\n",
       "       [ 89.18546822,  88.19796822,  88.69329735,  88.73279976]])"
      ]
     },
     "execution_count": 172,
     "metadata": {},
     "output_type": "execute_result"
    }
   ],
   "source": [
    "scaler.inverse_transform(train)"
   ]
  },
  {
   "cell_type": "code",
   "execution_count": 173,
   "id": "3c6bd0e2-79a5-4cb2-a31e-8c10f93c3ac2",
   "metadata": {},
   "outputs": [
    {
     "data": {
      "text/plain": [
       "array([[88.73043106, 87.98467087, 88.53529976, 88.55109711],\n",
       "       [88.24299759, 87.42692986, 88.24299759, 88.26670265],\n",
       "       [88.71462769, 87.80850121, 88.11502159, 88.11660072],\n",
       "       ...,\n",
       "       [96.74972183, 95.98894783, 96.15484711, 96.12720024],\n",
       "       [96.74893227, 96.29467865, 96.69679077, 96.69363251],\n",
       "       [96.44714928, 96.15089928, 96.36261749, 96.37209831]])"
      ]
     },
     "execution_count": 173,
     "metadata": {},
     "output_type": "execute_result"
    }
   ],
   "source": [
    "scaler.inverse_transform(test)"
   ]
  },
  {
   "cell_type": "code",
   "execution_count": 174,
   "id": "bdc8831e-d85e-4fee-95e6-61ceda00e58a",
   "metadata": {},
   "outputs": [],
   "source": [
    "Close_Col=3"
   ]
  },
  {
   "cell_type": "code",
   "execution_count": 175,
   "id": "0307df24-df51-4cd1-aa61-13665244d095",
   "metadata": {},
   "outputs": [],
   "source": [
    "scaler_mean=scaler.mean_[Close_Col]\n",
    "scaler_scale=scaler.scale_[Close_Col]"
   ]
  },
  {
   "cell_type": "code",
   "execution_count": 176,
   "id": "b70b947f-ee70-47ac-a604-682de1fddec9",
   "metadata": {},
   "outputs": [
    {
     "name": "stdout",
     "output_type": "stream",
     "text": [
      "scaler_mean : 108.20490454776242\n",
      "\n",
      "scaler_scale\n",
      "12.268957364174673\n",
      "\n"
     ]
    }
   ],
   "source": [
    "# \n",
    "print(f'scaler_mean : {scaler_mean}\\n')\n",
    "print(f'scaler_scale\\n{scaler_scale}\\n')"
   ]
  },
  {
   "cell_type": "code",
   "execution_count": 177,
   "id": "a4998a0e-3f81-4d0d-9412-df5cf122bf90",
   "metadata": {},
   "outputs": [
    {
     "data": {
      "text/plain": [
       "array([[88.13779666, 88.6237152 , 88.51789038, 88.55109711],\n",
       "       [87.64882299, 88.06723846, 88.22530561, 88.26670265],\n",
       "       [88.12194335, 88.44794487, 88.09720589, 88.11660072],\n",
       "       ...,\n",
       "       [96.18242696, 96.6098483 , 96.1448044 , 96.12720024],\n",
       "       [96.1816349 , 96.9148861 , 96.68727202, 96.69363251],\n",
       "       [95.87889833, 96.77143264, 96.35277566, 96.37209831]])"
      ]
     },
     "execution_count": 177,
     "metadata": {},
     "output_type": "execute_result"
    }
   ],
   "source": [
    "# Closeを戻すことに成功\n",
    "test*scaler_scale+scaler_mean"
   ]
  },
  {
   "cell_type": "code",
   "execution_count": 178,
   "id": "821e31ec-fef5-4c65-b0b9-1e20aac2496c",
   "metadata": {},
   "outputs": [],
   "source": [
    "# 変数名をそのままprint関数内で表示させる関数\n",
    "def chkprint(*args):\n",
    "    for obj in args:\n",
    "        for k, v in globals().items():\n",
    "            if id(v) == id(obj):\n",
    "                target = k\n",
    "                break          \n",
    "    return target\n",
    "\n",
    "# データがどのデータ型か、列数、行数を表示する関数\n",
    "def typeInfo(targetData):\n",
    "    if (type(targetData) is pd.core.frame.DataFrame):\n",
    "        print(\"{} は DataFrame型\".format(chkprint(targetData)))\n",
    "        print(\"{} の行数, 列数・・・{}\\n\".format(chkprint(targetData), targetData.shape))     # shapeの表示内容は、(行数, 列数)となる\n",
    "    if (type(targetData) is list):\n",
    "        print(\"{} は list型\".format(chkprint(targetData)))\n",
    "        print(\"{} の行数, 列数・・・{}\\n\".format(chkprint(targetData), pd.DataFrame(targetData).shape))    # shapeの表示内容は、(行数, 列数)となる\n",
    "    if (type(targetData) is np.ndarray):\n",
    "        print(\"{} は ndarray型\".format(chkprint(targetData)))\n",
    "        print(\"{} の行数, 列数・・・{}\\n\".format(chkprint(targetData), targetData.shape))     # shapeの表示内容は、(行数, 列数)となる\n",
    "    if (type(targetData) is pd.core.series.Series):\n",
    "        print(\"{} は Series型\".format(chkprint(targetData)))\n",
    "        print(\"{} の行数, 列数・・・{}\\n\".format(chkprint(targetData), targetData.shape))     # shapeの表示内容は、(行数, 列数)となる"
   ]
  },
  {
   "cell_type": "code",
   "execution_count": 179,
   "id": "1dc6ad24-42bd-4701-947d-a6598cbd332e",
   "metadata": {},
   "outputs": [],
   "source": [
    "# windowを設定\n",
    "window_len=6"
   ]
  },
  {
   "cell_type": "code",
   "execution_count": null,
   "id": "a3970785-1613-46fa-a568-93fdd3f97e71",
   "metadata": {},
   "outputs": [],
   "source": []
  },
  {
   "cell_type": "code",
   "execution_count": 180,
   "id": "364c8b0a-e8f9-473b-9651-44891863345f",
   "metadata": {},
   "outputs": [],
   "source": [
    "# データの標準化\n",
    "def get_standardized_t(X, num_date):\n",
    "    X = np.array(X)\n",
    "    X_t_list = []\n",
    "    for i in range(0, len(X) - num_date): # len(X) - num_date, 6　とすると6日毎の値を得られる\n",
    "        X_t = X[i:i+num_date]\n",
    "        X_standardized = scaler.transform(X_t)\n",
    "        X_t_list.append(X_standardized)\n",
    "    return np.array(X_t_list)"
   ]
  },
  {
   "cell_type": "code",
   "execution_count": 181,
   "id": "ac0f95a3-0615-4b63-9d7a-22a611b45279",
   "metadata": {},
   "outputs": [],
   "source": [
    "# 期間の設定\n",
    "num_date = 6\n",
    "# 関数get_standardized_tの呼び出し\n",
    "X_array_data = get_standardized_t(X=df_train, num_date=num_date)"
   ]
  },
  {
   "cell_type": "code",
   "execution_count": 182,
   "id": "bf6c8434-ab0a-4c57-98fc-2b3c8090e5f6",
   "metadata": {},
   "outputs": [
    {
     "name": "stdout",
     "output_type": "stream",
     "text": [
      "X_array_data_配列数 : 2181\n",
      "\n",
      "X_array_data[0]\n",
      "[[-0.68006686 -0.62288808 -0.64363442 -0.64958305]\n",
      " [-0.63808091 -0.6048993  -0.64879073 -0.61030502]\n",
      " [-0.56186043 -0.56057114 -0.60431891 -0.54913408]\n",
      " [-0.57607111 -0.5265213  -0.54824465 -0.54720245]\n",
      " [-0.58253086 -0.53487336 -0.54824465 -0.55943674]\n",
      " [-0.56638246 -0.54579476 -0.56242426 -0.52724167]]\n",
      "\n",
      "X_array_data[1]\n",
      "[[-0.63808091 -0.6048993  -0.64879073 -0.61030502]\n",
      " [-0.56186043 -0.56057114 -0.60431891 -0.54913408]\n",
      " [-0.57607111 -0.5265213  -0.54824465 -0.54720245]\n",
      " [-0.58253086 -0.53487336 -0.54824465 -0.55943674]\n",
      " [-0.56638246 -0.54579476 -0.56242426 -0.52724167]\n",
      " [-0.53408565 -0.48861747 -0.52697622 -0.5059928 ]]\n",
      "\n",
      "X_array_data[-1]\n",
      "[[-1.33033083 -1.32828904 -1.28951219 -1.2896208 ]\n",
      " [-1.34731898 -1.32854587 -1.35067736 -1.35079174]\n",
      " [-1.34660835 -1.38559474 -1.30775204 -1.30501044]\n",
      " [-1.47909    -1.53033729 -1.4451648  -1.44364242]\n",
      " [-1.60330329 -1.71092752 -1.56079233 -1.55928698]\n",
      " [-1.65426775 -1.63280637 -1.68647432 -1.68510548]]\n",
      "\n"
     ]
    }
   ],
   "source": [
    "# 配列抜粋\n",
    "print(f'X_array_data_配列数 : {len(X_array_data)}\\n')\n",
    "print(f'X_array_data[0]\\n{X_array_data[0]}\\n')\n",
    "print(f'X_array_data[1]\\n{X_array_data[1]}\\n')\n",
    "print(f'X_array_data[-1]\\n{X_array_data[-1]}\\n')"
   ]
  },
  {
   "cell_type": "code",
   "execution_count": null,
   "id": "c3525303-937d-4f23-81fd-79374bcb5c7a",
   "metadata": {},
   "outputs": [],
   "source": []
  },
  {
   "cell_type": "code",
   "execution_count": 183,
   "id": "d0286c21-263b-4eb7-88fa-6c3e513c3d4e",
   "metadata": {},
   "outputs": [],
   "source": [
    "train_out=df_train['Close'][window_len:]"
   ]
  },
  {
   "cell_type": "code",
   "execution_count": 184,
   "id": "43f73b7a-b7c7-4794-a178-c37a1e6e2191",
   "metadata": {},
   "outputs": [],
   "source": [
    "train_out = [np.array(train_out_data) for train_out_data in train_out]\n",
    "train_out = np.array(train_out)"
   ]
  },
  {
   "cell_type": "code",
   "execution_count": 185,
   "id": "4acde773-d07c-4799-9dc6-51fb1d84b85f",
   "metadata": {},
   "outputs": [
    {
     "data": {
      "text/plain": [
       "array([101.99690048, 102.52619904, 103.00809952, ...,  89.07407913,\n",
       "        87.53041725,  88.73279976])"
      ]
     },
     "execution_count": 185,
     "metadata": {},
     "output_type": "execute_result"
    }
   ],
   "source": [
    "train_out"
   ]
  },
  {
   "cell_type": "code",
   "execution_count": 186,
   "id": "66a4b4f8-c858-45b6-b12d-a057385827aa",
   "metadata": {},
   "outputs": [
    {
     "data": {
      "text/plain": [
       "array([-0.5059928 , -0.46285152, -0.42357349, ..., -1.55928698,\n",
       "       -1.68510548, -1.58710347])"
      ]
     },
     "execution_count": 186,
     "metadata": {},
     "output_type": "execute_result"
    }
   ],
   "source": [
    "std_train_out = (train_out-scaler_mean)/scaler_scale\n",
    "std_train_out"
   ]
  },
  {
   "cell_type": "code",
   "execution_count": 187,
   "id": "ad346f12-55f9-4a4c-98e8-01c1054809d1",
   "metadata": {},
   "outputs": [
    {
     "data": {
      "text/plain": [
       "array([101.99690048, 102.52619904, 103.00809952, ...,  89.07407913,\n",
       "        87.53041725,  88.73279976])"
      ]
     },
     "execution_count": 187,
     "metadata": {},
     "output_type": "execute_result"
    }
   ],
   "source": [
    "std_train_out*scaler_scale+scaler_mean"
   ]
  },
  {
   "cell_type": "code",
   "execution_count": 188,
   "id": "54e53413-a8f6-493a-9425-18cb5936c7ce",
   "metadata": {},
   "outputs": [
    {
     "data": {
      "text/plain": [
       "2181"
      ]
     },
     "execution_count": 188,
     "metadata": {},
     "output_type": "execute_result"
    }
   ],
   "source": [
    "len(std_train_out)"
   ]
  },
  {
   "cell_type": "code",
   "execution_count": 189,
   "id": "9de90237-797c-45f0-bf17-d7185e83fd67",
   "metadata": {},
   "outputs": [
    {
     "name": "stdout",
     "output_type": "stream",
     "text": [
      "test は ndarray型\n",
      "test の行数, 列数・・・(1314, 4)\n",
      "\n"
     ]
    }
   ],
   "source": [
    "typeInfo(test)"
   ]
  },
  {
   "cell_type": "code",
   "execution_count": null,
   "id": "fa3d1f28-56ba-49ee-bc8b-2a237d6a00e9",
   "metadata": {},
   "outputs": [],
   "source": []
  },
  {
   "cell_type": "code",
   "execution_count": 190,
   "id": "4e292ad2-5489-4c61-8008-234afb65474c",
   "metadata": {},
   "outputs": [],
   "source": [
    "# モデルの定義\n",
    "from keras.models import Sequential\n",
    "from keras.layers import Activation, Dense\n",
    "from keras.layers import LSTM\n",
    "from keras.layers import Dropout"
   ]
  },
  {
   "cell_type": "code",
   "execution_count": 191,
   "id": "bec4609e-413d-41d1-99e1-64f2537d6df9",
   "metadata": {},
   "outputs": [],
   "source": [
    "# LSTMのモデルを設定\n",
    "def build_model(inputs, output_size, neurons, activ_func=\"linear\",\n",
    "                dropout=0.25, loss=\"mae\", optimizer=\"adam\"):\n",
    "    model = Sequential()\n",
    " \n",
    "    model.add(LSTM(neurons, input_shape=(inputs.shape[1], inputs.shape[2]))) #バッチ数、時系列データ数、特徴量数\n",
    "    model.add(Dropout(dropout)) \n",
    "    model.add(Dense(units=output_size))\n",
    "    model.add(Activation(activ_func))\n",
    " \n",
    "    model.compile(loss=loss, optimizer=optimizer)\n",
    "    return model"
   ]
  },
  {
   "cell_type": "code",
   "execution_count": 193,
   "id": "3bbd475a-54fd-4206-b4cb-b87e220c3b96",
   "metadata": {},
   "outputs": [
    {
     "name": "stdout",
     "output_type": "stream",
     "text": [
      "Epoch 1/25\n",
      "2181/2181 - 4s - loss: 0.1410\n",
      "Epoch 2/25\n",
      "2181/2181 - 3s - loss: 0.1230\n",
      "Epoch 3/25\n",
      "2181/2181 - 3s - loss: 0.1183\n",
      "Epoch 4/25\n",
      "2181/2181 - 3s - loss: 0.1166\n",
      "Epoch 5/25\n",
      "2181/2181 - 3s - loss: 0.1142\n",
      "Epoch 6/25\n",
      "2181/2181 - 3s - loss: 0.1105\n",
      "Epoch 7/25\n",
      "2181/2181 - 3s - loss: 0.1110\n",
      "Epoch 8/25\n",
      "2181/2181 - 3s - loss: 0.1082\n",
      "Epoch 9/25\n",
      "2181/2181 - 3s - loss: 0.1090\n",
      "Epoch 10/25\n",
      "2181/2181 - 3s - loss: 0.1111\n",
      "Epoch 11/25\n",
      "2181/2181 - 3s - loss: 0.1096\n",
      "Epoch 12/25\n",
      "2181/2181 - 3s - loss: 0.1086\n",
      "Epoch 13/25\n",
      "2181/2181 - 3s - loss: 0.1119\n",
      "Epoch 14/25\n",
      "2181/2181 - 3s - loss: 0.1064\n",
      "Epoch 15/25\n",
      "2181/2181 - 3s - loss: 0.1083\n",
      "Epoch 16/25\n",
      "2181/2181 - 3s - loss: 0.1085\n",
      "Epoch 17/25\n",
      "2181/2181 - 3s - loss: 0.1143\n",
      "Epoch 18/25\n",
      "2181/2181 - 3s - loss: 0.1079\n",
      "Epoch 19/25\n",
      "2181/2181 - 3s - loss: 0.1083\n",
      "Epoch 20/25\n",
      "2181/2181 - 3s - loss: 0.1072\n",
      "Epoch 21/25\n",
      "2181/2181 - 3s - loss: 0.1116\n",
      "Epoch 22/25\n",
      "2181/2181 - 3s - loss: 0.1074\n",
      "Epoch 23/25\n",
      "2181/2181 - 3s - loss: 0.1080\n",
      "Epoch 24/25\n",
      "2181/2181 - 3s - loss: 0.1070\n",
      "Epoch 25/25\n",
      "2181/2181 - 3s - loss: 0.1088\n"
     ]
    }
   ],
   "source": [
    "np.random.seed(202)\n",
    " \n",
    "# 初期モデルの構築\n",
    "yen_model = build_model(X_array_data, output_size=1, neurons = 20)\n",
    "\n",
    "# データを流してフィッティングさせる\n",
    "yen_history = yen_model.fit(X_array_data, std_train_out, \n",
    "                            epochs=25, batch_size=1, verbose=2, shuffle=False)\n",
    "# 11/5 epochs=50からepochs=10に変更\n",
    "# 11/5 shuffle=TrueからFalseに変更"
   ]
  },
  {
   "cell_type": "code",
   "execution_count": 194,
   "id": "f4599eda-30fe-4e3d-bc42-29f52870162d",
   "metadata": {},
   "outputs": [
    {
     "data": {
      "image/png": "[encoded data removed]",
      "text/plain": [
       "<Figure size 432x288 with 1 Axes>"
      ]
     },
     "metadata": {
      "needs_background": "light"
     },
     "output_type": "display_data"
    }
   ],
   "source": [
    "# MAEをプロットしてみよう\n",
    "fig, ax1 = plt.subplots(1,1)\n",
    " \n",
    "ax1.plot(yen_history.epoch, yen_history.history['loss'])\n",
    "ax1.set_title('TrainingError')\n",
    " \n",
    "if yen_model.loss == 'mae':\n",
    "    ax1.set_ylabel('Mean Absolute Error (MAE)',fontsize=12)\n",
    "else:\n",
    "    ax1.set_ylabel('Model Loss',fontsize=12)\n",
    "ax1.set_xlabel('# Epochs',fontsize=12)\n",
    "plt.show()"
   ]
  },
  {
   "cell_type": "code",
   "execution_count": 195,
   "id": "0871889c-17ab-4802-b04f-68db595bf616",
   "metadata": {},
   "outputs": [
    {
     "ename": "NameError",
     "evalue": "name 'test_array_data' is not defined",
     "output_type": "error",
     "traceback": [
      "\u001b[0;31m---------------------------------------------------------------------------\u001b[0m",
      "\u001b[0;31mNameError\u001b[0m                                 Traceback (most recent call last)",
      "\u001b[0;32m<ipython-input-195-75b9993609b5>\u001b[0m in \u001b[0;36m<module>\u001b[0;34m\u001b[0m\n\u001b[1;32m      1\u001b[0m \u001b[0;31m#作成したモデルを使用し予測。\u001b[0m\u001b[0;34m\u001b[0m\u001b[0;34m\u001b[0m\u001b[0;34m\u001b[0m\u001b[0m\n\u001b[0;32m----> 2\u001b[0;31m \u001b[0mtrain_pred\u001b[0m \u001b[0;34m=\u001b[0m \u001b[0myen_model\u001b[0m\u001b[0;34m.\u001b[0m\u001b[0mpredict\u001b[0m\u001b[0;34m(\u001b[0m\u001b[0mtest_array_data\u001b[0m\u001b[0;34m)\u001b[0m\u001b[0;34m\u001b[0m\u001b[0;34m\u001b[0m\u001b[0m\n\u001b[0m",
      "\u001b[0;31mNameError\u001b[0m: name 'test_array_data' is not defined"
     ]
    }
   ],
   "source": [
    "#作成したモデルを使用し予測。\n",
    "train_pred = yen_model.predict(test_array_data)"
   ]
  },
  {
   "cell_type": "code",
   "execution_count": null,
   "id": "ef5183d6-4c19-4dc3-bca0-371d9c268e9e",
   "metadata": {},
   "outputs": [],
   "source": []
  }
 ],
 "metadata": {
  "kernelspec": {
   "display_name": "Python 3",
   "language": "python",
   "name": "python3"
  },
  "language_info": {
   "codemirror_mode": {
    "name": "ipython",
    "version": 3
   },
   "file_extension": ".py",
   "mimetype": "text/x-python",
   "name": "python",
   "nbconvert_exporter": "python",
   "pygments_lexer": "ipython3",
   "version": "3.8.8"
  }
 },
 "nbformat": 4,
 "nbformat_minor": 5
}
