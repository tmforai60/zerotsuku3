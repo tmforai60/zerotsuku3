{
 "cells": [
  {
   "cell_type": "code",
   "execution_count": 1,
   "id": "4864a99e-110a-495c-a9f0-684fca0c97ce",
   "metadata": {},
   "outputs": [],
   "source": [
    "# ライブラリの取得\n",
    "import pandas as pd\n",
    "import numpy as np\n",
    "%matplotlib inline\n",
    "import matplotlib.pyplot as plt\n",
    "import seaborn as sns\n",
    "# sns.set(font=\"IPAexGothic\",style=\"white\")　多分いらなそう\n",
    "# import oandapy\n",
    "import configparser\n",
    "import datetime\n",
    "from datetime import datetime, timedelta\n",
    "\n",
    "import warnings\n",
    "warnings.simplefilter('ignore')\n",
    "\n",
    "# CSVデータの読み込み\n",
    "import os\n",
    "working_directory=os.getcwd()\n",
    "#print(working_directory)\n",
    "path_train=working_directory+'/finance2_train.csv'\n",
    "path_test=working_directory+'/finance2_test.csv'\n",
    "path_submit=working_directory+'/finance2_submit.csv'\n",
    "\n",
    "#データフレームの生成\n",
    "df_train=pd.read_csv(path_train)\n",
    "df_test=pd.read_csv(path_test)\n",
    "df_submit=pd.read_csv(path_submit)\n",
    "df_submit2=pd.read_csv(path_submit)\n",
    "df_submit3=pd.read_csv(path_submit)\n",
    "df_submit4=pd.read_csv(path_submit)"
   ]
  },
  {
   "cell_type": "code",
   "execution_count": 2,
   "id": "8ea6a89a-4d2b-4ed9-8e79-5fd8744dc710",
   "metadata": {},
   "outputs": [],
   "source": [
    "# Dateがobject型になっているので日付型に変換\n",
    "df_train['Date']=pd.to_datetime(df_train['Date'],format='%Y/%m/%d')\n",
    "df_test['Date']=pd.to_datetime(df_test['Date'],format='%Y/%m/%d')"
   ]
  },
  {
   "cell_type": "markdown",
   "id": "de448434-fef7-4a69-b2ea-038baf52c032",
   "metadata": {},
   "source": [
    "## 単純移動平均の追加"
   ]
  },
  {
   "cell_type": "code",
   "execution_count": 3,
   "id": "574165e7-65e5-42a9-ac80-7ccf0b9182bb",
   "metadata": {},
   "outputs": [],
   "source": [
    "#　移動平均の期間\n",
    "span05=5\n",
    "span10=10\n",
    "span25=25"
   ]
  },
  {
   "cell_type": "code",
   "execution_count": 4,
   "id": "bda26016-a71c-4e9d-8047-10ff5f5ecbab",
   "metadata": {},
   "outputs": [],
   "source": [
    "df_train['SMA05']=df_train['Close'].rolling(window=span05).mean()\n",
    "df_test['SMA05']=df_test['Close'].rolling(window=span05).mean()\n",
    "\n",
    "df_train['SMA10']=df_train['Close'].rolling(window=span10).mean()\n",
    "df_test['SMA10']=df_test['Close'].rolling(window=span10).mean()\n",
    "\n",
    "df_train['SMA25']=df_train['Close'].rolling(window=span25).mean()\n",
    "df_test['SMA25']=df_test['Close'].rolling(window=span25).mean()"
   ]
  },
  {
   "cell_type": "code",
   "execution_count": null,
   "id": "bd10db65-db4c-4b3c-bb69-37a419b4c8c1",
   "metadata": {},
   "outputs": [],
   "source": []
  },
  {
   "cell_type": "code",
   "execution_count": 5,
   "id": "236ea96e-c66e-425d-9492-7804c865b819",
   "metadata": {},
   "outputs": [
    {
     "name": "stdout",
     "output_type": "stream",
     "text": [
      "train\n",
      "           Date        High         Low        Open       Close       SMA05  \\\n",
      "0    2003-01-23  100.416900   99.950797  100.314203  100.235198         NaN   \n",
      "1    2003-01-24  100.930402  100.172002  100.251001  100.717098         NaN   \n",
      "2    2003-01-27  101.862602  100.717098  100.796097  101.467602         NaN   \n",
      "3    2003-01-28  101.688801  101.135803  101.483405  101.491301         NaN   \n",
      "4    2003-01-29  101.609796  101.033100  101.483405  101.341199  101.050480   \n",
      "...         ...         ...         ...         ...         ...         ...   \n",
      "2182 2011-07-07   92.264890   90.571922   92.174042   92.193787   92.381019   \n",
      "2183 2011-07-10   90.644598   88.792047   90.489759   90.492917   91.900383   \n",
      "2184 2011-07-11   89.125431   86.571360   89.072500   89.074079   91.155097   \n",
      "2185 2011-07-12   88.502120   87.532002   87.532002   87.530417   90.184660   \n",
      "2186 2011-07-13   89.185468   88.197968   88.693297   88.732800   89.604800   \n",
      "\n",
      "          SMA10      SMA25  \n",
      "0           NaN        NaN  \n",
      "1           NaN        NaN  \n",
      "2           NaN        NaN  \n",
      "3           NaN        NaN  \n",
      "4           NaN        NaN  \n",
      "...         ...        ...  \n",
      "2182  92.000161  91.660887  \n",
      "2183  92.041477  91.566214  \n",
      "2184  91.806374  91.437349  \n",
      "2185  91.364131  91.217634  \n",
      "2186  91.004681  91.080237  \n",
      "\n",
      "[2187 rows x 8 columns]\n",
      "\n",
      "test\n",
      "           Date       High        Low       Open      Close      SMA05  \\\n",
      "0    2011-07-14  88.730431  87.984671  88.535300  88.551097        NaN   \n",
      "1    2011-07-17  88.242998  87.426930  88.242998  88.266703        NaN   \n",
      "2    2011-07-18  88.714628  87.808501  88.115022  88.116601        NaN   \n",
      "3    2011-07-19  88.736748  88.195600  88.604818  88.590600        NaN   \n",
      "4    2011-07-20  89.372698  88.092902  88.772302  88.784152  88.461830   \n",
      "...         ...        ...        ...        ...        ...        ...   \n",
      "1309 2019-12-25  96.308939  95.580519  95.771703  95.771703  96.165754   \n",
      "1310 2019-12-26  96.193560  95.853860  95.859393  95.860182  96.001276   \n",
      "1311 2019-12-27  96.749722  95.988948  96.154847  96.127200  95.999064   \n",
      "1312 2019-12-30  96.748932  96.294679  96.696791  96.693633  96.056102   \n",
      "1313 2019-12-31  96.447149  96.150899  96.362617  96.372098  96.164963   \n",
      "\n",
      "          SMA10      SMA25  \n",
      "0           NaN        NaN  \n",
      "1           NaN        NaN  \n",
      "2           NaN        NaN  \n",
      "3           NaN        NaN  \n",
      "4           NaN        NaN  \n",
      "...         ...        ...  \n",
      "1309  95.725012  95.356097  \n",
      "1310  95.776836  95.367536  \n",
      "1311  95.849990  95.378849  \n",
      "1312  96.028530  95.438921  \n",
      "1313  96.134864  95.475355  \n",
      "\n",
      "[1314 rows x 8 columns]\n",
      "\n"
     ]
    }
   ],
   "source": [
    "# \n",
    "print(f'train\\n{df_train}\\n')\n",
    "print(f'test\\n{df_test}\\n')"
   ]
  },
  {
   "cell_type": "code",
   "execution_count": 6,
   "id": "ae9c8e51-1da9-42da-ab69-939fcabd98b6",
   "metadata": {},
   "outputs": [],
   "source": [
    "# 移動平均1日目を取り合えす終値で埋める\n",
    "df_train['SMA05'][0]=df_train['Close'][0]\n",
    "df_test['SMA05'][0]=df_test['Close'][0]\n",
    "\n",
    "df_train['SMA25'][0]=df_train['Close'][0]\n",
    "df_test['SMA25'][0]=df_test['Close'][0]\n",
    "\n",
    "df_train['SMA10'][0]=df_train['Close'][0]\n",
    "df_test['SMA10'][0]=df_test['Close'][0]"
   ]
  },
  {
   "cell_type": "code",
   "execution_count": 7,
   "id": "5cdf214f-a636-4b2b-8144-7748b2206ee9",
   "metadata": {},
   "outputs": [
    {
     "name": "stdout",
     "output_type": "stream",
     "text": [
      "train\n",
      "           Date        High         Low        Open       Close       SMA05  \\\n",
      "0    2003-01-23  100.416900   99.950797  100.314203  100.235198  100.235198   \n",
      "1    2003-01-24  100.930402  100.172002  100.251001  100.717098         NaN   \n",
      "2    2003-01-27  101.862602  100.717098  100.796097  101.467602         NaN   \n",
      "3    2003-01-28  101.688801  101.135803  101.483405  101.491301         NaN   \n",
      "4    2003-01-29  101.609796  101.033100  101.483405  101.341199  101.050480   \n",
      "...         ...         ...         ...         ...         ...         ...   \n",
      "2182 2011-07-07   92.264890   90.571922   92.174042   92.193787   92.381019   \n",
      "2183 2011-07-10   90.644598   88.792047   90.489759   90.492917   91.900383   \n",
      "2184 2011-07-11   89.125431   86.571360   89.072500   89.074079   91.155097   \n",
      "2185 2011-07-12   88.502120   87.532002   87.532002   87.530417   90.184660   \n",
      "2186 2011-07-13   89.185468   88.197968   88.693297   88.732800   89.604800   \n",
      "\n",
      "           SMA10       SMA25  \n",
      "0     100.235198  100.235198  \n",
      "1            NaN         NaN  \n",
      "2            NaN         NaN  \n",
      "3            NaN         NaN  \n",
      "4            NaN         NaN  \n",
      "...          ...         ...  \n",
      "2182   92.000161   91.660887  \n",
      "2183   92.041477   91.566214  \n",
      "2184   91.806374   91.437349  \n",
      "2185   91.364131   91.217634  \n",
      "2186   91.004681   91.080237  \n",
      "\n",
      "[2187 rows x 8 columns]\n",
      "\n",
      "test\n",
      "           Date       High        Low       Open      Close      SMA05  \\\n",
      "0    2011-07-14  88.730431  87.984671  88.535300  88.551097  88.551097   \n",
      "1    2011-07-17  88.242998  87.426930  88.242998  88.266703        NaN   \n",
      "2    2011-07-18  88.714628  87.808501  88.115022  88.116601        NaN   \n",
      "3    2011-07-19  88.736748  88.195600  88.604818  88.590600        NaN   \n",
      "4    2011-07-20  89.372698  88.092902  88.772302  88.784152  88.461830   \n",
      "...         ...        ...        ...        ...        ...        ...   \n",
      "1309 2019-12-25  96.308939  95.580519  95.771703  95.771703  96.165754   \n",
      "1310 2019-12-26  96.193560  95.853860  95.859393  95.860182  96.001276   \n",
      "1311 2019-12-27  96.749722  95.988948  96.154847  96.127200  95.999064   \n",
      "1312 2019-12-30  96.748932  96.294679  96.696791  96.693633  96.056102   \n",
      "1313 2019-12-31  96.447149  96.150899  96.362617  96.372098  96.164963   \n",
      "\n",
      "          SMA10      SMA25  \n",
      "0     88.551097  88.551097  \n",
      "1           NaN        NaN  \n",
      "2           NaN        NaN  \n",
      "3           NaN        NaN  \n",
      "4           NaN        NaN  \n",
      "...         ...        ...  \n",
      "1309  95.725012  95.356097  \n",
      "1310  95.776836  95.367536  \n",
      "1311  95.849990  95.378849  \n",
      "1312  96.028530  95.438921  \n",
      "1313  96.134864  95.475355  \n",
      "\n",
      "[1314 rows x 8 columns]\n",
      "\n"
     ]
    }
   ],
   "source": [
    "# 結果\n",
    "print(f'train\\n{df_train}\\n')\n",
    "print(f'test\\n{df_test}\\n')"
   ]
  },
  {
   "cell_type": "code",
   "execution_count": 8,
   "id": "79d2d0c2-e21f-4267-b4cd-52ed44579ceb",
   "metadata": {},
   "outputs": [],
   "source": [
    "#線形補間\n",
    "df_train=df_train.interpolate()\n",
    "df_test=df_test.interpolate()"
   ]
  },
  {
   "cell_type": "code",
   "execution_count": 9,
   "id": "77821a81-14fa-49b4-bfe0-b347a203ada9",
   "metadata": {},
   "outputs": [
    {
     "name": "stdout",
     "output_type": "stream",
     "text": [
      "train\n",
      "           Date        High         Low        Open       Close       SMA05  \\\n",
      "0    2003-01-23  100.416900   99.950797  100.314203  100.235198  100.235198   \n",
      "1    2003-01-24  100.930402  100.172002  100.251001  100.717098  100.439018   \n",
      "2    2003-01-27  101.862602  100.717098  100.796097  101.467602  100.642839   \n",
      "3    2003-01-28  101.688801  101.135803  101.483405  101.491301  100.846659   \n",
      "4    2003-01-29  101.609796  101.033100  101.483405  101.341199  101.050480   \n",
      "...         ...         ...         ...         ...         ...         ...   \n",
      "2182 2011-07-07   92.264890   90.571922   92.174042   92.193787   92.381019   \n",
      "2183 2011-07-10   90.644598   88.792047   90.489759   90.492917   91.900383   \n",
      "2184 2011-07-11   89.125431   86.571360   89.072500   89.074079   91.155097   \n",
      "2185 2011-07-12   88.502120   87.532002   87.532002   87.530417   90.184660   \n",
      "2186 2011-07-13   89.185468   88.197968   88.693297   88.732800   89.604800   \n",
      "\n",
      "           SMA10       SMA25  \n",
      "0     100.235198  100.235198  \n",
      "1     100.395392  100.294040  \n",
      "2     100.555587  100.352882  \n",
      "3     100.715782  100.411724  \n",
      "4     100.875976  100.470565  \n",
      "...          ...         ...  \n",
      "2182   92.000161   91.660887  \n",
      "2183   92.041477   91.566214  \n",
      "2184   91.806374   91.437349  \n",
      "2185   91.364131   91.217634  \n",
      "2186   91.004681   91.080237  \n",
      "\n",
      "[2187 rows x 8 columns]\n",
      "\n",
      "test\n",
      "           Date       High        Low       Open      Close      SMA05  \\\n",
      "0    2011-07-14  88.730431  87.984671  88.535300  88.551097  88.551097   \n",
      "1    2011-07-17  88.242998  87.426930  88.242998  88.266703  88.528780   \n",
      "2    2011-07-18  88.714628  87.808501  88.115022  88.116601  88.506464   \n",
      "3    2011-07-19  88.736748  88.195600  88.604818  88.590600  88.484147   \n",
      "4    2011-07-20  89.372698  88.092902  88.772302  88.784152  88.461830   \n",
      "...         ...        ...        ...        ...        ...        ...   \n",
      "1309 2019-12-25  96.308939  95.580519  95.771703  95.771703  96.165754   \n",
      "1310 2019-12-26  96.193560  95.853860  95.859393  95.860182  96.001276   \n",
      "1311 2019-12-27  96.749722  95.988948  96.154847  96.127200  95.999064   \n",
      "1312 2019-12-30  96.748932  96.294679  96.696791  96.693633  96.056102   \n",
      "1313 2019-12-31  96.447149  96.150899  96.362617  96.372098  96.164963   \n",
      "\n",
      "          SMA10      SMA25  \n",
      "0     88.551097  88.551097  \n",
      "1     88.504786  88.509703  \n",
      "2     88.458475  88.468308  \n",
      "3     88.412163  88.426913  \n",
      "4     88.365852  88.385519  \n",
      "...         ...        ...  \n",
      "1309  95.725012  95.356097  \n",
      "1310  95.776836  95.367536  \n",
      "1311  95.849990  95.378849  \n",
      "1312  96.028530  95.438921  \n",
      "1313  96.134864  95.475355  \n",
      "\n",
      "[1314 rows x 8 columns]\n",
      "\n"
     ]
    }
   ],
   "source": [
    "# 結果\n",
    "print(f'train\\n{df_train}\\n')\n",
    "print(f'test\\n{df_test}\\n')"
   ]
  },
  {
   "cell_type": "code",
   "execution_count": null,
   "id": "d7e82d95-0fe2-46f3-bd21-4923745adca1",
   "metadata": {},
   "outputs": [],
   "source": []
  },
  {
   "cell_type": "markdown",
   "id": "d794b185-bb38-48be-b1df-13460fade9a3",
   "metadata": {},
   "source": [
    "## ゴールデンクロス"
   ]
  },
  {
   "cell_type": "code",
   "execution_count": 10,
   "id": "ecb76d95-7a1d-4e92-bf6e-781d97db6533",
   "metadata": {},
   "outputs": [],
   "source": [
    "# # golden Cross, sma5がsma25を上抜いたとき\n",
    "# df['GC'] = 0\n",
    "# for i in range(len(df)-1):\n",
    "#     if ((df['sma5'][i] - df['sma25'][i]) > 0) & ((df['sma5'][i-1] - df['sma25'][i-1]) < 0):\n",
    "#         df.iloc[i, len(df.columns)-1] = 1\n",
    "#     else:\n",
    "#         df.iloc[i,len(df.columns)-1] = 0"
   ]
  },
  {
   "cell_type": "code",
   "execution_count": 11,
   "id": "7119f949-c4cb-41a2-bc95-bc12731f5c7d",
   "metadata": {},
   "outputs": [],
   "source": [
    "def Golden(sma05,sma25):\n",
    "    dfGC=sma05.copy()\n",
    "    dfGC[0]=1\n",
    "    for i in range(1,len(sma05)):\n",
    "        if ((sma05[i] - sma25[i]) > 0) & ((sma05[i-1] - sma25[i-1]) < 0):\n",
    "            dfGC[i] = 2\n",
    "        else:\n",
    "            dfGC[i] = 1\n",
    "    return dfGC"
   ]
  },
  {
   "cell_type": "code",
   "execution_count": 12,
   "id": "bc9d1402-311d-4612-8cd3-a8cc67747caf",
   "metadata": {},
   "outputs": [],
   "source": [
    "df_train['GC']=Golden(df_train['SMA05'],df_train['SMA25'])\n",
    "df_test['GC']=Golden(df_test['SMA05'],df_test['SMA25'])\n",
    "# df_test['RSI01']=RSI(df_test['Close'],span01)"
   ]
  },
  {
   "cell_type": "code",
   "execution_count": 13,
   "id": "20deb0d3-af14-455a-ad34-c9ceffd3a269",
   "metadata": {},
   "outputs": [],
   "source": [
    "# GC確認\n",
    "df_train.to_csv('GC.csv')"
   ]
  },
  {
   "cell_type": "code",
   "execution_count": 14,
   "id": "6fae8347-0c6c-4377-8587-0891bac3b6f3",
   "metadata": {},
   "outputs": [
    {
     "name": "stdout",
     "output_type": "stream",
     "text": [
      "train\n",
      "           Date        High         Low        Open       Close       SMA05  \\\n",
      "0    2003-01-23  100.416900   99.950797  100.314203  100.235198  100.235198   \n",
      "1    2003-01-24  100.930402  100.172002  100.251001  100.717098  100.439018   \n",
      "2    2003-01-27  101.862602  100.717098  100.796097  101.467602  100.642839   \n",
      "3    2003-01-28  101.688801  101.135803  101.483405  101.491301  100.846659   \n",
      "4    2003-01-29  101.609796  101.033100  101.483405  101.341199  101.050480   \n",
      "...         ...         ...         ...         ...         ...         ...   \n",
      "2182 2011-07-07   92.264890   90.571922   92.174042   92.193787   92.381019   \n",
      "2183 2011-07-10   90.644598   88.792047   90.489759   90.492917   91.900383   \n",
      "2184 2011-07-11   89.125431   86.571360   89.072500   89.074079   91.155097   \n",
      "2185 2011-07-12   88.502120   87.532002   87.532002   87.530417   90.184660   \n",
      "2186 2011-07-13   89.185468   88.197968   88.693297   88.732800   89.604800   \n",
      "\n",
      "           SMA10       SMA25   GC  \n",
      "0     100.235198  100.235198  1.0  \n",
      "1     100.395392  100.294040  1.0  \n",
      "2     100.555587  100.352882  1.0  \n",
      "3     100.715782  100.411724  1.0  \n",
      "4     100.875976  100.470565  1.0  \n",
      "...          ...         ...  ...  \n",
      "2182   92.000161   91.660887  1.0  \n",
      "2183   92.041477   91.566214  1.0  \n",
      "2184   91.806374   91.437349  1.0  \n",
      "2185   91.364131   91.217634  1.0  \n",
      "2186   91.004681   91.080237  1.0  \n",
      "\n",
      "[2187 rows x 9 columns]\n",
      "\n",
      "test\n",
      "           Date       High        Low       Open      Close      SMA05  \\\n",
      "0    2011-07-14  88.730431  87.984671  88.535300  88.551097  88.551097   \n",
      "1    2011-07-17  88.242998  87.426930  88.242998  88.266703  88.528780   \n",
      "2    2011-07-18  88.714628  87.808501  88.115022  88.116601  88.506464   \n",
      "3    2011-07-19  88.736748  88.195600  88.604818  88.590600  88.484147   \n",
      "4    2011-07-20  89.372698  88.092902  88.772302  88.784152  88.461830   \n",
      "...         ...        ...        ...        ...        ...        ...   \n",
      "1309 2019-12-25  96.308939  95.580519  95.771703  95.771703  96.165754   \n",
      "1310 2019-12-26  96.193560  95.853860  95.859393  95.860182  96.001276   \n",
      "1311 2019-12-27  96.749722  95.988948  96.154847  96.127200  95.999064   \n",
      "1312 2019-12-30  96.748932  96.294679  96.696791  96.693633  96.056102   \n",
      "1313 2019-12-31  96.447149  96.150899  96.362617  96.372098  96.164963   \n",
      "\n",
      "          SMA10      SMA25   GC  \n",
      "0     88.551097  88.551097  1.0  \n",
      "1     88.504786  88.509703  1.0  \n",
      "2     88.458475  88.468308  1.0  \n",
      "3     88.412163  88.426913  1.0  \n",
      "4     88.365852  88.385519  1.0  \n",
      "...         ...        ...  ...  \n",
      "1309  95.725012  95.356097  1.0  \n",
      "1310  95.776836  95.367536  1.0  \n",
      "1311  95.849990  95.378849  1.0  \n",
      "1312  96.028530  95.438921  1.0  \n",
      "1313  96.134864  95.475355  1.0  \n",
      "\n",
      "[1314 rows x 9 columns]\n",
      "\n"
     ]
    }
   ],
   "source": [
    "# 結果\n",
    "print(f'train\\n{df_train}\\n')\n",
    "print(f'test\\n{df_test}\\n')"
   ]
  },
  {
   "cell_type": "code",
   "execution_count": null,
   "id": "a4af7213-1240-45fb-94b8-9254c0327059",
   "metadata": {},
   "outputs": [],
   "source": []
  },
  {
   "cell_type": "code",
   "execution_count": 15,
   "id": "1cca0511-5d93-4321-86b6-2646cd67cfc6",
   "metadata": {},
   "outputs": [],
   "source": [
    "# df_train.to_csv('IdoHeikin.csv')"
   ]
  },
  {
   "cell_type": "code",
   "execution_count": 16,
   "id": "12999b90-4656-47c2-b516-9cbf59fe2621",
   "metadata": {},
   "outputs": [],
   "source": [
    "# # RSI関数\n",
    "# def RSI(df,span):\n",
    "#     #　終値の差分\n",
    "#     df_diff=df.diff()\n",
    "    \n",
    "#     # 値上幅と値下幅\n",
    "#     df_up, df_down = df_diff.copy(), df_diff.copy()\n",
    "#     df_up[df_up < 0] = 0\n",
    "#     df_down[df_down > 0] = 0\n",
    "#     df_down = df_down * -1\n",
    "    \n",
    "#     # 移動平均\n",
    "#     up_sma_01 = df_up.rolling(window=span01, center=False).mean()\n",
    "#     down_sma_01 = df_down.abs().rolling(window=span01, center=False).mean()\n",
    "\n",
    "#     # RSI\n",
    "#     df = up_sma_01 / (up_sma_01 + down_sma_01) * 100\n",
    "\n",
    "#     return df"
   ]
  },
  {
   "cell_type": "code",
   "execution_count": 17,
   "id": "63693775-69b6-442c-9b9c-82934d83964a",
   "metadata": {},
   "outputs": [],
   "source": [
    "# df_train['RSI01']=RSI(df_train['Close'],span01)\n",
    "# df_test['RSI01']=RSI(df_test['Close'],span01)"
   ]
  },
  {
   "cell_type": "markdown",
   "id": "654067ef-9793-41d9-be50-353bdbc2996d",
   "metadata": {},
   "source": [
    "## ボリンジャーバンド"
   ]
  },
  {
   "cell_type": "code",
   "execution_count": 18,
   "id": "07925b56-e2ad-47c0-a30c-daca98bf653c",
   "metadata": {},
   "outputs": [],
   "source": [
    "df_train['mean'] = df_train['Close'].rolling(window=span05).mean()\n",
    "df_train['std'] = df_train['Close'].rolling(window=span05).std()\n",
    "df_train['upper'] = df_train['mean'] + (df_train['std'] * 2)\n",
    "df_train['lower'] = df_train['mean'] - (df_train['std'] * 2)\n",
    "\n",
    "df_test['mean'] = df_test['Close'].rolling(window=span05).mean()\n",
    "df_test['std'] = df_test['Close'].rolling(window=span05).std()\n",
    "df_test['upper'] = df_test['mean'] + (df_test['std'] * 2)\n",
    "df_test['lower'] = df_test['mean'] - (df_test['std'] * 2)"
   ]
  },
  {
   "cell_type": "code",
   "execution_count": 19,
   "id": "fe88c473-c7a7-46cf-a6bc-5b3ac9de8130",
   "metadata": {},
   "outputs": [],
   "source": [
    "# bband = pd.DataFrame()\n",
    "# bband['Close'] = df_train['Close']\n",
    "# bband['mean'] = df_train['Close'].rolling(window=span01).mean()\n",
    "# bband['std'] = df_train['Close'].rolling(window=span01).std()\n",
    "# bband['upper'] = bband['mean'] + (bband['std'] * 2)\n",
    "# bband['lower'] = bband['mean'] - (bband['std'] * 2)"
   ]
  },
  {
   "cell_type": "code",
   "execution_count": 20,
   "id": "8b8c40cf-4ea9-4f53-b768-d5558c192718",
   "metadata": {},
   "outputs": [
    {
     "data": {
      "text/html": [
       "<div>\n",
       "<style scoped>\n",
       "    .dataframe tbody tr th:only-of-type {\n",
       "        vertical-align: middle;\n",
       "    }\n",
       "\n",
       "    .dataframe tbody tr th {\n",
       "        vertical-align: top;\n",
       "    }\n",
       "\n",
       "    .dataframe thead th {\n",
       "        text-align: right;\n",
       "    }\n",
       "</style>\n",
       "<table border=\"1\" class=\"dataframe\">\n",
       "  <thead>\n",
       "    <tr style=\"text-align: right;\">\n",
       "      <th></th>\n",
       "      <th>Date</th>\n",
       "      <th>High</th>\n",
       "      <th>Low</th>\n",
       "      <th>Open</th>\n",
       "      <th>Close</th>\n",
       "      <th>SMA05</th>\n",
       "      <th>SMA10</th>\n",
       "      <th>SMA25</th>\n",
       "      <th>GC</th>\n",
       "      <th>mean</th>\n",
       "      <th>std</th>\n",
       "      <th>upper</th>\n",
       "      <th>lower</th>\n",
       "    </tr>\n",
       "  </thead>\n",
       "  <tbody>\n",
       "    <tr>\n",
       "      <th>18</th>\n",
       "      <td>2003-02-18</td>\n",
       "      <td>101.799400</td>\n",
       "      <td>100.251001</td>\n",
       "      <td>101.799400</td>\n",
       "      <td>100.416900</td>\n",
       "      <td>102.096439</td>\n",
       "      <td>102.342920</td>\n",
       "      <td>101.294352</td>\n",
       "      <td>1.0</td>\n",
       "      <td>102.096439</td>\n",
       "      <td>1.036023</td>\n",
       "      <td>104.168486</td>\n",
       "      <td>100.024392</td>\n",
       "    </tr>\n",
       "    <tr>\n",
       "      <th>19</th>\n",
       "      <td>2003-02-19</td>\n",
       "      <td>100.962002</td>\n",
       "      <td>100.235198</td>\n",
       "      <td>100.424802</td>\n",
       "      <td>100.748699</td>\n",
       "      <td>101.721980</td>\n",
       "      <td>102.192820</td>\n",
       "      <td>101.353194</td>\n",
       "      <td>1.0</td>\n",
       "      <td>101.721980</td>\n",
       "      <td>1.132864</td>\n",
       "      <td>103.987708</td>\n",
       "      <td>99.456252</td>\n",
       "    </tr>\n",
       "    <tr>\n",
       "      <th>20</th>\n",
       "      <td>2003-02-20</td>\n",
       "      <td>101.285905</td>\n",
       "      <td>100.717098</td>\n",
       "      <td>100.717098</td>\n",
       "      <td>101.151595</td>\n",
       "      <td>101.338038</td>\n",
       "      <td>102.049829</td>\n",
       "      <td>101.412036</td>\n",
       "      <td>1.0</td>\n",
       "      <td>101.338038</td>\n",
       "      <td>0.851637</td>\n",
       "      <td>103.041312</td>\n",
       "      <td>99.634765</td>\n",
       "    </tr>\n",
       "    <tr>\n",
       "      <th>21</th>\n",
       "      <td>2003-02-21</td>\n",
       "      <td>101.688801</td>\n",
       "      <td>100.756601</td>\n",
       "      <td>101.135803</td>\n",
       "      <td>100.969898</td>\n",
       "      <td>101.026778</td>\n",
       "      <td>101.861809</td>\n",
       "      <td>101.470878</td>\n",
       "      <td>1.0</td>\n",
       "      <td>101.026778</td>\n",
       "      <td>0.533977</td>\n",
       "      <td>102.094733</td>\n",
       "      <td>99.958824</td>\n",
       "    </tr>\n",
       "    <tr>\n",
       "      <th>22</th>\n",
       "      <td>2003-02-24</td>\n",
       "      <td>100.827698</td>\n",
       "      <td>99.729598</td>\n",
       "      <td>100.330000</td>\n",
       "      <td>100.827698</td>\n",
       "      <td>100.822958</td>\n",
       "      <td>101.688008</td>\n",
       "      <td>101.529720</td>\n",
       "      <td>1.0</td>\n",
       "      <td>100.822958</td>\n",
       "      <td>0.273867</td>\n",
       "      <td>101.370692</td>\n",
       "      <td>100.275224</td>\n",
       "    </tr>\n",
       "    <tr>\n",
       "      <th>23</th>\n",
       "      <td>2003-02-25</td>\n",
       "      <td>100.890899</td>\n",
       "      <td>99.555797</td>\n",
       "      <td>100.811900</td>\n",
       "      <td>99.705899</td>\n",
       "      <td>100.680758</td>\n",
       "      <td>101.388598</td>\n",
       "      <td>101.588561</td>\n",
       "      <td>1.0</td>\n",
       "      <td>100.680758</td>\n",
       "      <td>0.566093</td>\n",
       "      <td>101.812944</td>\n",
       "      <td>99.548571</td>\n",
       "    </tr>\n",
       "    <tr>\n",
       "      <th>24</th>\n",
       "      <td>2003-02-26</td>\n",
       "      <td>100.006097</td>\n",
       "      <td>99.555797</td>\n",
       "      <td>99.713801</td>\n",
       "      <td>99.832302</td>\n",
       "      <td>100.497478</td>\n",
       "      <td>101.109729</td>\n",
       "      <td>101.647403</td>\n",
       "      <td>1.0</td>\n",
       "      <td>100.497478</td>\n",
       "      <td>0.676230</td>\n",
       "      <td>101.849939</td>\n",
       "      <td>99.145018</td>\n",
       "    </tr>\n",
       "  </tbody>\n",
       "</table>\n",
       "</div>"
      ],
      "text/plain": [
       "         Date        High         Low        Open       Close       SMA05  \\\n",
       "18 2003-02-18  101.799400  100.251001  101.799400  100.416900  102.096439   \n",
       "19 2003-02-19  100.962002  100.235198  100.424802  100.748699  101.721980   \n",
       "20 2003-02-20  101.285905  100.717098  100.717098  101.151595  101.338038   \n",
       "21 2003-02-21  101.688801  100.756601  101.135803  100.969898  101.026778   \n",
       "22 2003-02-24  100.827698   99.729598  100.330000  100.827698  100.822958   \n",
       "23 2003-02-25  100.890899   99.555797  100.811900   99.705899  100.680758   \n",
       "24 2003-02-26  100.006097   99.555797   99.713801   99.832302  100.497478   \n",
       "\n",
       "         SMA10       SMA25   GC        mean       std       upper       lower  \n",
       "18  102.342920  101.294352  1.0  102.096439  1.036023  104.168486  100.024392  \n",
       "19  102.192820  101.353194  1.0  101.721980  1.132864  103.987708   99.456252  \n",
       "20  102.049829  101.412036  1.0  101.338038  0.851637  103.041312   99.634765  \n",
       "21  101.861809  101.470878  1.0  101.026778  0.533977  102.094733   99.958824  \n",
       "22  101.688008  101.529720  1.0  100.822958  0.273867  101.370692  100.275224  \n",
       "23  101.388598  101.588561  1.0  100.680758  0.566093  101.812944   99.548571  \n",
       "24  101.109729  101.647403  1.0  100.497478  0.676230  101.849939   99.145018  "
      ]
     },
     "execution_count": 20,
     "metadata": {},
     "output_type": "execute_result"
    }
   ],
   "source": [
    "df_train[18:25]"
   ]
  },
  {
   "cell_type": "code",
   "execution_count": 21,
   "id": "0daa1328-912f-42c3-bef8-458c7bb6341a",
   "metadata": {},
   "outputs": [
    {
     "data": {
      "text/plain": [
       "[<matplotlib.lines.Line2D at 0x7f913f9e7970>,\n",
       " <matplotlib.lines.Line2D at 0x7f91401a8c70>,\n",
       " <matplotlib.lines.Line2D at 0x7f91401a8d30>,\n",
       " <matplotlib.lines.Line2D at 0x7f91401a8df0>,\n",
       " <matplotlib.lines.Line2D at 0x7f91401a8eb0>,\n",
       " <matplotlib.lines.Line2D at 0x7f91401a8f70>]"
      ]
     },
     "execution_count": 21,
     "metadata": {},
     "output_type": "execute_result"
    },
    {
     "data": {
      "image/png": "[encoded data removed]",
      "text/plain": [
       "<Figure size 2160x720 with 1 Axes>"
      ]
     },
     "metadata": {
      "needs_background": "light"
     },
     "output_type": "display_data"
    }
   ],
   "source": [
    "bband=df_train\n",
    "drop = ['Date', 'High','Low', 'Open', 'SMA05','SMA25', 'std',]\n",
    "bband = df_train.drop(columns=drop,axis=1) \n",
    "\n",
    "fig = plt.subplots(figsize=(30,10))\n",
    "# plt.title('Bollinger Band')\n",
    "# plt.ylabel('USD/JPY')\n",
    "plt.plot(bband)\n",
    "# plt.legend()"
   ]
  },
  {
   "cell_type": "code",
   "execution_count": 22,
   "id": "fb179fb7-f225-425e-83ab-9c189cdd6ff7",
   "metadata": {},
   "outputs": [
    {
     "data": {
      "text/html": [
       "<div>\n",
       "<style scoped>\n",
       "    .dataframe tbody tr th:only-of-type {\n",
       "        vertical-align: middle;\n",
       "    }\n",
       "\n",
       "    .dataframe tbody tr th {\n",
       "        vertical-align: top;\n",
       "    }\n",
       "\n",
       "    .dataframe thead th {\n",
       "        text-align: right;\n",
       "    }\n",
       "</style>\n",
       "<table border=\"1\" class=\"dataframe\">\n",
       "  <thead>\n",
       "    <tr style=\"text-align: right;\">\n",
       "      <th></th>\n",
       "      <th>Date</th>\n",
       "      <th>High</th>\n",
       "      <th>Low</th>\n",
       "      <th>Open</th>\n",
       "      <th>Close</th>\n",
       "      <th>SMA05</th>\n",
       "      <th>SMA10</th>\n",
       "      <th>SMA25</th>\n",
       "      <th>GC</th>\n",
       "      <th>mean</th>\n",
       "      <th>std</th>\n",
       "      <th>upper</th>\n",
       "      <th>lower</th>\n",
       "    </tr>\n",
       "  </thead>\n",
       "  <tbody>\n",
       "    <tr>\n",
       "      <th>0</th>\n",
       "      <td>2003-01-23</td>\n",
       "      <td>100.416900</td>\n",
       "      <td>99.950797</td>\n",
       "      <td>100.314203</td>\n",
       "      <td>100.235198</td>\n",
       "      <td>100.235198</td>\n",
       "      <td>100.235198</td>\n",
       "      <td>100.235198</td>\n",
       "      <td>1.0</td>\n",
       "      <td>NaN</td>\n",
       "      <td>NaN</td>\n",
       "      <td>NaN</td>\n",
       "      <td>NaN</td>\n",
       "    </tr>\n",
       "    <tr>\n",
       "      <th>1</th>\n",
       "      <td>2003-01-24</td>\n",
       "      <td>100.930402</td>\n",
       "      <td>100.172002</td>\n",
       "      <td>100.251001</td>\n",
       "      <td>100.717098</td>\n",
       "      <td>100.439018</td>\n",
       "      <td>100.395392</td>\n",
       "      <td>100.294040</td>\n",
       "      <td>1.0</td>\n",
       "      <td>NaN</td>\n",
       "      <td>NaN</td>\n",
       "      <td>NaN</td>\n",
       "      <td>NaN</td>\n",
       "    </tr>\n",
       "    <tr>\n",
       "      <th>2</th>\n",
       "      <td>2003-01-27</td>\n",
       "      <td>101.862602</td>\n",
       "      <td>100.717098</td>\n",
       "      <td>100.796097</td>\n",
       "      <td>101.467602</td>\n",
       "      <td>100.642839</td>\n",
       "      <td>100.555587</td>\n",
       "      <td>100.352882</td>\n",
       "      <td>1.0</td>\n",
       "      <td>NaN</td>\n",
       "      <td>NaN</td>\n",
       "      <td>NaN</td>\n",
       "      <td>NaN</td>\n",
       "    </tr>\n",
       "    <tr>\n",
       "      <th>3</th>\n",
       "      <td>2003-01-28</td>\n",
       "      <td>101.688801</td>\n",
       "      <td>101.135803</td>\n",
       "      <td>101.483405</td>\n",
       "      <td>101.491301</td>\n",
       "      <td>100.846659</td>\n",
       "      <td>100.715782</td>\n",
       "      <td>100.411724</td>\n",
       "      <td>1.0</td>\n",
       "      <td>NaN</td>\n",
       "      <td>NaN</td>\n",
       "      <td>NaN</td>\n",
       "      <td>NaN</td>\n",
       "    </tr>\n",
       "    <tr>\n",
       "      <th>4</th>\n",
       "      <td>2003-01-29</td>\n",
       "      <td>101.609796</td>\n",
       "      <td>101.033100</td>\n",
       "      <td>101.483405</td>\n",
       "      <td>101.341199</td>\n",
       "      <td>101.050480</td>\n",
       "      <td>100.875976</td>\n",
       "      <td>100.470565</td>\n",
       "      <td>1.0</td>\n",
       "      <td>101.050480</td>\n",
       "      <td>0.554225</td>\n",
       "      <td>102.158929</td>\n",
       "      <td>99.942030</td>\n",
       "    </tr>\n",
       "    <tr>\n",
       "      <th>...</th>\n",
       "      <td>...</td>\n",
       "      <td>...</td>\n",
       "      <td>...</td>\n",
       "      <td>...</td>\n",
       "      <td>...</td>\n",
       "      <td>...</td>\n",
       "      <td>...</td>\n",
       "      <td>...</td>\n",
       "      <td>...</td>\n",
       "      <td>...</td>\n",
       "      <td>...</td>\n",
       "      <td>...</td>\n",
       "      <td>...</td>\n",
       "    </tr>\n",
       "    <tr>\n",
       "      <th>2182</th>\n",
       "      <td>2011-07-07</td>\n",
       "      <td>92.264890</td>\n",
       "      <td>90.571922</td>\n",
       "      <td>92.174042</td>\n",
       "      <td>92.193787</td>\n",
       "      <td>92.381019</td>\n",
       "      <td>92.000161</td>\n",
       "      <td>91.660887</td>\n",
       "      <td>1.0</td>\n",
       "      <td>92.381019</td>\n",
       "      <td>0.509220</td>\n",
       "      <td>93.399459</td>\n",
       "      <td>91.362579</td>\n",
       "    </tr>\n",
       "    <tr>\n",
       "      <th>2183</th>\n",
       "      <td>2011-07-10</td>\n",
       "      <td>90.644598</td>\n",
       "      <td>88.792047</td>\n",
       "      <td>90.489759</td>\n",
       "      <td>90.492917</td>\n",
       "      <td>91.900383</td>\n",
       "      <td>92.041477</td>\n",
       "      <td>91.566214</td>\n",
       "      <td>1.0</td>\n",
       "      <td>91.900383</td>\n",
       "      <td>0.891878</td>\n",
       "      <td>93.684140</td>\n",
       "      <td>90.116626</td>\n",
       "    </tr>\n",
       "    <tr>\n",
       "      <th>2184</th>\n",
       "      <td>2011-07-11</td>\n",
       "      <td>89.125431</td>\n",
       "      <td>86.571360</td>\n",
       "      <td>89.072500</td>\n",
       "      <td>89.074079</td>\n",
       "      <td>91.155097</td>\n",
       "      <td>91.806374</td>\n",
       "      <td>91.437349</td>\n",
       "      <td>1.0</td>\n",
       "      <td>91.155097</td>\n",
       "      <td>1.376798</td>\n",
       "      <td>93.908693</td>\n",
       "      <td>88.401500</td>\n",
       "    </tr>\n",
       "    <tr>\n",
       "      <th>2185</th>\n",
       "      <td>2011-07-12</td>\n",
       "      <td>88.502120</td>\n",
       "      <td>87.532002</td>\n",
       "      <td>87.532002</td>\n",
       "      <td>87.530417</td>\n",
       "      <td>90.184660</td>\n",
       "      <td>91.364131</td>\n",
       "      <td>91.217634</td>\n",
       "      <td>1.0</td>\n",
       "      <td>90.184660</td>\n",
       "      <td>1.904277</td>\n",
       "      <td>93.993214</td>\n",
       "      <td>86.376105</td>\n",
       "    </tr>\n",
       "    <tr>\n",
       "      <th>2186</th>\n",
       "      <td>2011-07-13</td>\n",
       "      <td>89.185468</td>\n",
       "      <td>88.197968</td>\n",
       "      <td>88.693297</td>\n",
       "      <td>88.732800</td>\n",
       "      <td>89.604800</td>\n",
       "      <td>91.004681</td>\n",
       "      <td>91.080237</td>\n",
       "      <td>1.0</td>\n",
       "      <td>89.604800</td>\n",
       "      <td>1.791418</td>\n",
       "      <td>93.187637</td>\n",
       "      <td>86.021963</td>\n",
       "    </tr>\n",
       "  </tbody>\n",
       "</table>\n",
       "<p>2187 rows × 13 columns</p>\n",
       "</div>"
      ],
      "text/plain": [
       "           Date        High         Low        Open       Close       SMA05  \\\n",
       "0    2003-01-23  100.416900   99.950797  100.314203  100.235198  100.235198   \n",
       "1    2003-01-24  100.930402  100.172002  100.251001  100.717098  100.439018   \n",
       "2    2003-01-27  101.862602  100.717098  100.796097  101.467602  100.642839   \n",
       "3    2003-01-28  101.688801  101.135803  101.483405  101.491301  100.846659   \n",
       "4    2003-01-29  101.609796  101.033100  101.483405  101.341199  101.050480   \n",
       "...         ...         ...         ...         ...         ...         ...   \n",
       "2182 2011-07-07   92.264890   90.571922   92.174042   92.193787   92.381019   \n",
       "2183 2011-07-10   90.644598   88.792047   90.489759   90.492917   91.900383   \n",
       "2184 2011-07-11   89.125431   86.571360   89.072500   89.074079   91.155097   \n",
       "2185 2011-07-12   88.502120   87.532002   87.532002   87.530417   90.184660   \n",
       "2186 2011-07-13   89.185468   88.197968   88.693297   88.732800   89.604800   \n",
       "\n",
       "           SMA10       SMA25   GC        mean       std       upper      lower  \n",
       "0     100.235198  100.235198  1.0         NaN       NaN         NaN        NaN  \n",
       "1     100.395392  100.294040  1.0         NaN       NaN         NaN        NaN  \n",
       "2     100.555587  100.352882  1.0         NaN       NaN         NaN        NaN  \n",
       "3     100.715782  100.411724  1.0         NaN       NaN         NaN        NaN  \n",
       "4     100.875976  100.470565  1.0  101.050480  0.554225  102.158929  99.942030  \n",
       "...          ...         ...  ...         ...       ...         ...        ...  \n",
       "2182   92.000161   91.660887  1.0   92.381019  0.509220   93.399459  91.362579  \n",
       "2183   92.041477   91.566214  1.0   91.900383  0.891878   93.684140  90.116626  \n",
       "2184   91.806374   91.437349  1.0   91.155097  1.376798   93.908693  88.401500  \n",
       "2185   91.364131   91.217634  1.0   90.184660  1.904277   93.993214  86.376105  \n",
       "2186   91.004681   91.080237  1.0   89.604800  1.791418   93.187637  86.021963  \n",
       "\n",
       "[2187 rows x 13 columns]"
      ]
     },
     "execution_count": 22,
     "metadata": {},
     "output_type": "execute_result"
    }
   ],
   "source": [
    "df_train"
   ]
  },
  {
   "cell_type": "code",
   "execution_count": 23,
   "id": "8b2efeca-89c3-451c-859f-cde1172b310f",
   "metadata": {},
   "outputs": [],
   "source": [
    "# mean/std削除＋1日目を取り合えす終値で埋める\n",
    "drop = ['mean', 'std',]\n",
    "df_train = df_train.drop(columns=drop,axis=1) \n",
    "df_train['lower'][0]=df_train['Close'][0]\n",
    "df_train['upper'][0]=df_train['Close'][0]\n",
    "\n",
    "df_test = df_test.drop(columns=drop,axis=1) \n",
    "df_test['lower'][0]=df_test['Close'][0]\n",
    "df_test['upper'][0]=df_test['Close'][0]"
   ]
  },
  {
   "cell_type": "code",
   "execution_count": 24,
   "id": "e917d695-0f0f-48ca-ae0a-525287b2fe5f",
   "metadata": {},
   "outputs": [],
   "source": [
    "#線形補間\n",
    "df_train=df_train.interpolate()\n",
    "df_test=df_test.interpolate()"
   ]
  },
  {
   "cell_type": "code",
   "execution_count": 25,
   "id": "523eab18-9a03-4378-a2c8-78b20418419d",
   "metadata": {},
   "outputs": [
    {
     "name": "stdout",
     "output_type": "stream",
     "text": [
      "train\n",
      "           Date        High         Low        Open       Close       SMA05  \\\n",
      "0    2003-01-23  100.416900   99.950797  100.314203  100.235198  100.235198   \n",
      "1    2003-01-24  100.930402  100.172002  100.251001  100.717098  100.439018   \n",
      "2    2003-01-27  101.862602  100.717098  100.796097  101.467602  100.642839   \n",
      "3    2003-01-28  101.688801  101.135803  101.483405  101.491301  100.846659   \n",
      "4    2003-01-29  101.609796  101.033100  101.483405  101.341199  101.050480   \n",
      "...         ...         ...         ...         ...         ...         ...   \n",
      "2182 2011-07-07   92.264890   90.571922   92.174042   92.193787   92.381019   \n",
      "2183 2011-07-10   90.644598   88.792047   90.489759   90.492917   91.900383   \n",
      "2184 2011-07-11   89.125431   86.571360   89.072500   89.074079   91.155097   \n",
      "2185 2011-07-12   88.502120   87.532002   87.532002   87.530417   90.184660   \n",
      "2186 2011-07-13   89.185468   88.197968   88.693297   88.732800   89.604800   \n",
      "\n",
      "           SMA10       SMA25   GC       upper       lower  \n",
      "0     100.235198  100.235198  1.0  100.235198  100.235198  \n",
      "1     100.395392  100.294040  1.0  100.716131  100.161906  \n",
      "2     100.555587  100.352882  1.0  101.197063  100.088614  \n",
      "3     100.715782  100.411724  1.0  101.677996  100.015322  \n",
      "4     100.875976  100.470565  1.0  102.158929   99.942030  \n",
      "...          ...         ...  ...         ...         ...  \n",
      "2182   92.000161   91.660887  1.0   93.399459   91.362579  \n",
      "2183   92.041477   91.566214  1.0   93.684140   90.116626  \n",
      "2184   91.806374   91.437349  1.0   93.908693   88.401500  \n",
      "2185   91.364131   91.217634  1.0   93.993214   86.376105  \n",
      "2186   91.004681   91.080237  1.0   93.187637   86.021963  \n",
      "\n",
      "[2187 rows x 11 columns]\n",
      "\n",
      "test\n",
      "           Date       High        Low       Open      Close      SMA05  \\\n",
      "0    2011-07-14  88.730431  87.984671  88.535300  88.551097  88.551097   \n",
      "1    2011-07-17  88.242998  87.426930  88.242998  88.266703  88.528780   \n",
      "2    2011-07-18  88.714628  87.808501  88.115022  88.116601  88.506464   \n",
      "3    2011-07-19  88.736748  88.195600  88.604818  88.590600  88.484147   \n",
      "4    2011-07-20  89.372698  88.092902  88.772302  88.784152  88.461830   \n",
      "...         ...        ...        ...        ...        ...        ...   \n",
      "1309 2019-12-25  96.308939  95.580519  95.771703  95.771703  96.165754   \n",
      "1310 2019-12-26  96.193560  95.853860  95.859393  95.860182  96.001276   \n",
      "1311 2019-12-27  96.749722  95.988948  96.154847  96.127200  95.999064   \n",
      "1312 2019-12-30  96.748932  96.294679  96.696791  96.693633  96.056102   \n",
      "1313 2019-12-31  96.447149  96.150899  96.362617  96.372098  96.164963   \n",
      "\n",
      "          SMA10      SMA25   GC      upper      lower  \n",
      "0     88.551097  88.551097  1.0  88.551097  88.551097  \n",
      "1     88.504786  88.509703  1.0  88.662408  88.395153  \n",
      "2     88.458475  88.468308  1.0  88.773718  88.239209  \n",
      "3     88.412163  88.426913  1.0  88.885028  88.083266  \n",
      "4     88.365852  88.385519  1.0  88.996339  87.927322  \n",
      "...         ...        ...  ...        ...        ...  \n",
      "1309  95.725012  95.356097  1.0  96.937926  95.393582  \n",
      "1310  95.776836  95.367536  1.0  96.537240  95.465312  \n",
      "1311  95.849990  95.378849  1.0  96.532285  95.465843  \n",
      "1312  96.028530  95.438921  1.0  96.819576  95.292628  \n",
      "1313  96.134864  95.475355  1.0  96.920852  95.409075  \n",
      "\n",
      "[1314 rows x 11 columns]\n",
      "\n"
     ]
    }
   ],
   "source": [
    "# 結果\n",
    "print(f'train\\n{df_train}\\n')\n",
    "print(f'test\\n{df_test}\\n')"
   ]
  },
  {
   "cell_type": "code",
   "execution_count": null,
   "id": "9a9bf7e3-8e8a-4501-bd3e-0529d186658c",
   "metadata": {},
   "outputs": [],
   "source": []
  },
  {
   "cell_type": "code",
   "execution_count": null,
   "id": "5e1d9108-152a-4e39-b371-5e07767f783a",
   "metadata": {},
   "outputs": [],
   "source": []
  },
  {
   "cell_type": "markdown",
   "id": "9ae40957-fb61-41b4-91f0-1d9a927c3a9c",
   "metadata": {},
   "source": [
    "## 指数移動平滑平均(EMA)の追加"
   ]
  },
  {
   "cell_type": "code",
   "execution_count": 26,
   "id": "5a3b9ef6-60b3-4369-89b9-cffe0967221f",
   "metadata": {},
   "outputs": [],
   "source": [
    "# # EMA関数\n",
    "# def EMA(df,span):\n",
    "#     df[\"EMA\"] = df[\"Close\"].ewm(span=span).mean()\n",
    "#     return df"
   ]
  },
  {
   "cell_type": "code",
   "execution_count": 27,
   "id": "9d10678b-e4d6-4bc4-9680-1a1cf65725b3",
   "metadata": {},
   "outputs": [],
   "source": [
    "# EMAを計算する\n",
    "# df_train = EMA(df_train,span01)\n",
    "# df_test = EMA(df_test,span01)"
   ]
  },
  {
   "cell_type": "code",
   "execution_count": 28,
   "id": "6700a257-fa97-4fba-b76d-1bd4cf8c9b84",
   "metadata": {},
   "outputs": [],
   "source": [
    "df_train['EMA05']=df_train['Close'].ewm(span=span05, adjust=False).mean()\n",
    "df_test['EMA05']=df_test['Close'].ewm(span=span05, adjust=False).mean()\n",
    "\n",
    "# df_train['EMA02']=df_train['Close'].ewm(span=span02, adjust=False).mean()\n",
    "# df_test['EMA02']=df_test['Close'].ewm(span=span02, adjust=False).mean()\n",
    "\n",
    "# df_train['EMA03']=df_train['Close'].ewm(span=span03, adjust=False).mean()\n",
    "# df_test['EMA03']=df_test['Close'].ewm(span=span03, adjust=False).mean()"
   ]
  },
  {
   "cell_type": "code",
   "execution_count": null,
   "id": "cc47b9cf-180c-4b9c-8261-d3cf2f9349b5",
   "metadata": {},
   "outputs": [],
   "source": []
  },
  {
   "cell_type": "code",
   "execution_count": 29,
   "id": "6638bd50-61a9-4a31-aa5c-f6a897bb7ccd",
   "metadata": {},
   "outputs": [
    {
     "name": "stdout",
     "output_type": "stream",
     "text": [
      "train\n",
      "           Date        High         Low        Open       Close       SMA05  \\\n",
      "0    2003-01-23  100.416900   99.950797  100.314203  100.235198  100.235198   \n",
      "1    2003-01-24  100.930402  100.172002  100.251001  100.717098  100.439018   \n",
      "2    2003-01-27  101.862602  100.717098  100.796097  101.467602  100.642839   \n",
      "3    2003-01-28  101.688801  101.135803  101.483405  101.491301  100.846659   \n",
      "4    2003-01-29  101.609796  101.033100  101.483405  101.341199  101.050480   \n",
      "...         ...         ...         ...         ...         ...         ...   \n",
      "2182 2011-07-07   92.264890   90.571922   92.174042   92.193787   92.381019   \n",
      "2183 2011-07-10   90.644598   88.792047   90.489759   90.492917   91.900383   \n",
      "2184 2011-07-11   89.125431   86.571360   89.072500   89.074079   91.155097   \n",
      "2185 2011-07-12   88.502120   87.532002   87.532002   87.530417   90.184660   \n",
      "2186 2011-07-13   89.185468   88.197968   88.693297   88.732800   89.604800   \n",
      "\n",
      "           SMA10       SMA25   GC       upper       lower       EMA05  \n",
      "0     100.235198  100.235198  1.0  100.235198  100.235198  100.235198  \n",
      "1     100.395392  100.294040  1.0  100.716131  100.161906  100.395831  \n",
      "2     100.555587  100.352882  1.0  101.197063  100.088614  100.753088  \n",
      "3     100.715782  100.411724  1.0  101.677996  100.015322  100.999159  \n",
      "4     100.875976  100.470565  1.0  102.158929   99.942030  101.113172  \n",
      "...          ...         ...  ...         ...         ...         ...  \n",
      "2182   92.000161   91.660887  1.0   93.399459   91.362579   92.155712  \n",
      "2183   92.041477   91.566214  1.0   93.684140   90.116626   91.601447  \n",
      "2184   91.806374   91.437349  1.0   93.908693   88.401500   90.758991  \n",
      "2185   91.364131   91.217634  1.0   93.993214   86.376105   89.682800  \n",
      "2186   91.004681   91.080237  1.0   93.187637   86.021963   89.366133  \n",
      "\n",
      "[2187 rows x 12 columns]\n",
      "\n",
      "test\n",
      "           Date       High        Low       Open      Close      SMA05  \\\n",
      "0    2011-07-14  88.730431  87.984671  88.535300  88.551097  88.551097   \n",
      "1    2011-07-17  88.242998  87.426930  88.242998  88.266703  88.528780   \n",
      "2    2011-07-18  88.714628  87.808501  88.115022  88.116601  88.506464   \n",
      "3    2011-07-19  88.736748  88.195600  88.604818  88.590600  88.484147   \n",
      "4    2011-07-20  89.372698  88.092902  88.772302  88.784152  88.461830   \n",
      "...         ...        ...        ...        ...        ...        ...   \n",
      "1309 2019-12-25  96.308939  95.580519  95.771703  95.771703  96.165754   \n",
      "1310 2019-12-26  96.193560  95.853860  95.859393  95.860182  96.001276   \n",
      "1311 2019-12-27  96.749722  95.988948  96.154847  96.127200  95.999064   \n",
      "1312 2019-12-30  96.748932  96.294679  96.696791  96.693633  96.056102   \n",
      "1313 2019-12-31  96.447149  96.150899  96.362617  96.372098  96.164963   \n",
      "\n",
      "          SMA10      SMA25   GC      upper      lower      EMA05  \n",
      "0     88.551097  88.551097  1.0  88.551097  88.551097  88.551097  \n",
      "1     88.504786  88.509703  1.0  88.662408  88.395153  88.456299  \n",
      "2     88.458475  88.468308  1.0  88.773718  88.239209  88.343066  \n",
      "3     88.412163  88.426913  1.0  88.885028  88.083266  88.425577  \n",
      "4     88.365852  88.385519  1.0  88.996339  87.927322  88.545102  \n",
      "...         ...        ...  ...        ...        ...        ...  \n",
      "1309  95.725012  95.356097  1.0  96.937926  95.393582  95.910048  \n",
      "1310  95.776836  95.367536  1.0  96.537240  95.465312  95.893426  \n",
      "1311  95.849990  95.378849  1.0  96.532285  95.465843  95.971351  \n",
      "1312  96.028530  95.438921  1.0  96.819576  95.292628  96.212111  \n",
      "1313  96.134864  95.475355  1.0  96.920852  95.409075  96.265440  \n",
      "\n",
      "[1314 rows x 12 columns]\n",
      "\n"
     ]
    }
   ],
   "source": [
    "# 結果\n",
    "print(f'train\\n{df_train}\\n')\n",
    "print(f'test\\n{df_test}\\n')"
   ]
  },
  {
   "cell_type": "markdown",
   "id": "b542333f-a397-4df5-993c-37f64d2fd8a3",
   "metadata": {},
   "source": [
    "##　ピボットポイント"
   ]
  },
  {
   "cell_type": "code",
   "execution_count": 30,
   "id": "f7f58fb3-4347-4aa7-b24d-4458e6626585",
   "metadata": {},
   "outputs": [],
   "source": [
    "## PPをShiftしてるが使い方合ってるか不明\n",
    "df_train['PP'] = ((df_train['High'].shift(1) + df_train['Low'].shift(1) + df_train['Close'].shift(1)) / 3)\n",
    "df_train['R1'] = (2 * df_train['PP'] - df_train['Low'])\n",
    "df_train['S1'] = (2 * df_train['PP'] - df_train['High'])\n",
    "df_train['R2'] = (df_train['PP'] + df_train['High'] - df_train['Low'])\n",
    "df_train['S2'] = (df_train['PP'] - df_train['High'] + df_train['Low'])\n",
    "df_train['R3'] = (df_train['High'] + 2 * (df_train['PP'] -df_train['Low']))\n",
    "df_train['S3'] = (df_train['Low'] - 2 * (df_train['High'] - df_train['PP']))\n",
    "\n",
    "## PPをShiftしてるが使い方合ってるか不明\n",
    "df_test['PP'] = ((df_test['High'].shift(1) + df_test['Low'].shift(1) + df_test['Close'].shift(1)) / 3)\n",
    "df_test['R1'] = (2 * df_test['PP'] - df_test['Low'])\n",
    "df_test['S1'] = (2 * df_test['PP'] - df_test['High'])\n",
    "df_test['R2'] = (df_test['PP'] + df_test['High'] - df_test['Low'])\n",
    "df_test['S2'] = (df_test['PP'] - df_train['High'] + df_test['Low'])\n",
    "df_test['R3'] = (df_test['High'] + 2 * (df_test['PP'] -df_test['Low']))\n",
    "df_test['S3'] = (df_test['Low'] - 2 * (df_test['High'] - df_test['PP']))"
   ]
  },
  {
   "cell_type": "code",
   "execution_count": 31,
   "id": "0a2c147d-ee22-4dc5-aa5a-150e19991297",
   "metadata": {},
   "outputs": [],
   "source": [
    "# df_train['Close'].shift(1)"
   ]
  },
  {
   "cell_type": "code",
   "execution_count": 32,
   "id": "73073b34-079b-45b0-a302-913ec493e55e",
   "metadata": {},
   "outputs": [],
   "source": [
    "# 1日目を取り合えす終値で埋める\n",
    "df_train['PP'][0]=df_train['Close'][0]\n",
    "df_train['R1'][0]=df_train['Close'][0]\n",
    "df_train['S1'][0]=df_train['Close'][0]\n",
    "df_train['R2'][0]=df_train['Close'][0]\n",
    "df_train['S2'][0]=df_train['Close'][0]\n",
    "df_train['R3'][0]=df_train['Close'][0]\n",
    "df_train['S3'][0]=df_train['Close'][0]\n",
    "\n",
    "\n",
    "df_test['PP'][0]=df_test['Close'][0]\n",
    "df_test['R1'][0]=df_test['Close'][0]\n",
    "df_test['S1'][0]=df_test['Close'][0]\n",
    "df_test['R2'][0]=df_test['Close'][0]\n",
    "df_test['S2'][0]=df_test['Close'][0]\n",
    "df_test['R3'][0]=df_test['Close'][0]\n",
    "df_test['S3'][0]=df_test['Close'][0]"
   ]
  },
  {
   "cell_type": "code",
   "execution_count": 33,
   "id": "bd791bb3-ac11-46c3-a55e-7b0619ca8186",
   "metadata": {},
   "outputs": [],
   "source": [
    "#線形補間\n",
    "df_train=df_train.interpolate()\n",
    "df_test=df_test.interpolate()"
   ]
  },
  {
   "cell_type": "code",
   "execution_count": 34,
   "id": "ca81d2b0-3a57-42da-b502-07dc32c96f5a",
   "metadata": {},
   "outputs": [
    {
     "name": "stdout",
     "output_type": "stream",
     "text": [
      "train\n",
      "           Date        High         Low        Open       Close       SMA05  \\\n",
      "0    2003-01-23  100.416900   99.950797  100.314203  100.235198  100.235198   \n",
      "1    2003-01-24  100.930402  100.172002  100.251001  100.717098  100.439018   \n",
      "2    2003-01-27  101.862602  100.717098  100.796097  101.467602  100.642839   \n",
      "3    2003-01-28  101.688801  101.135803  101.483405  101.491301  100.846659   \n",
      "4    2003-01-29  101.609796  101.033100  101.483405  101.341199  101.050480   \n",
      "...         ...         ...         ...         ...         ...         ...   \n",
      "2182 2011-07-07   92.264890   90.571922   92.174042   92.193787   92.381019   \n",
      "2183 2011-07-10   90.644598   88.792047   90.489759   90.492917   91.900383   \n",
      "2184 2011-07-11   89.125431   86.571360   89.072500   89.074079   91.155097   \n",
      "2185 2011-07-12   88.502120   87.532002   87.532002   87.530417   90.184660   \n",
      "2186 2011-07-13   89.185468   88.197968   88.693297   88.732800   89.604800   \n",
      "\n",
      "           SMA10       SMA25   GC       upper       lower       EMA05  \\\n",
      "0     100.235198  100.235198  1.0  100.235198  100.235198  100.235198   \n",
      "1     100.395392  100.294040  1.0  100.716131  100.161906  100.395831   \n",
      "2     100.555587  100.352882  1.0  101.197063  100.088614  100.753088   \n",
      "3     100.715782  100.411724  1.0  101.677996  100.015322  100.999159   \n",
      "4     100.875976  100.470565  1.0  102.158929   99.942030  101.113172   \n",
      "...          ...         ...  ...         ...         ...         ...   \n",
      "2182   92.000161   91.660887  1.0   93.399459   91.362579   92.155712   \n",
      "2183   92.041477   91.566214  1.0   93.684140   90.116626   91.601447   \n",
      "2184   91.806374   91.437349  1.0   93.908693   88.401500   90.758991   \n",
      "2185   91.364131   91.217634  1.0   93.993214   86.376105   89.682800   \n",
      "2186   91.004681   91.080237  1.0   93.187637   86.021963   89.366133   \n",
      "\n",
      "              PP          R1          S1          R2          S2          R3  \\\n",
      "0     100.235198  100.235198  100.235198  100.235198  100.235198  100.235198   \n",
      "1     100.200965  100.229928   99.471529  100.959364   99.442566  100.988327   \n",
      "2     100.606501  100.495903   99.350400  101.752004   99.460997  101.641407   \n",
      "3     101.349101  101.562398  101.009400  101.902098  100.796103  102.115396   \n",
      "4     101.438635  101.844171  101.267474  102.015332  100.861938  102.420867   \n",
      "...          ...         ...         ...         ...         ...         ...   \n",
      "2182   91.720580   92.869238   91.176270   93.413548   90.027612   94.562206   \n",
      "2183   91.676867   94.561686   92.709135   93.529417   89.824316   96.414237   \n",
      "2184   89.976521   93.381682   90.827611   92.530592   87.422450   95.935754   \n",
      "2185   88.256957   88.981911   88.011793   89.227074   87.286839   89.952028   \n",
      "2186   87.854847   87.511725   86.524225   88.842347   86.867347   88.499225   \n",
      "\n",
      "              S3  \n",
      "0     100.235198  \n",
      "1      98.713129  \n",
      "2      98.204896  \n",
      "3     100.456403  \n",
      "4     100.690777  \n",
      "...          ...  \n",
      "2182   89.483301  \n",
      "2183   90.856584  \n",
      "2184   88.273540  \n",
      "2185   87.041676  \n",
      "2186   85.536725  \n",
      "\n",
      "[2187 rows x 19 columns]\n",
      "\n",
      "test\n",
      "           Date       High        Low       Open      Close      SMA05  \\\n",
      "0    2011-07-14  88.730431  87.984671  88.535300  88.551097  88.551097   \n",
      "1    2011-07-17  88.242998  87.426930  88.242998  88.266703  88.528780   \n",
      "2    2011-07-18  88.714628  87.808501  88.115022  88.116601  88.506464   \n",
      "3    2011-07-19  88.736748  88.195600  88.604818  88.590600  88.484147   \n",
      "4    2011-07-20  89.372698  88.092902  88.772302  88.784152  88.461830   \n",
      "...         ...        ...        ...        ...        ...        ...   \n",
      "1309 2019-12-25  96.308939  95.580519  95.771703  95.771703  96.165754   \n",
      "1310 2019-12-26  96.193560  95.853860  95.859393  95.860182  96.001276   \n",
      "1311 2019-12-27  96.749722  95.988948  96.154847  96.127200  95.999064   \n",
      "1312 2019-12-30  96.748932  96.294679  96.696791  96.693633  96.056102   \n",
      "1313 2019-12-31  96.447149  96.150899  96.362617  96.372098  96.164963   \n",
      "\n",
      "          SMA10      SMA25   GC      upper      lower      EMA05         PP  \\\n",
      "0     88.551097  88.551097  1.0  88.551097  88.551097  88.551097  88.551097   \n",
      "1     88.504786  88.509703  1.0  88.662408  88.395153  88.456299  88.422066   \n",
      "2     88.458475  88.468308  1.0  88.773718  88.239209  88.343066  87.978877   \n",
      "3     88.412163  88.426913  1.0  88.885028  88.083266  88.425577  88.213243   \n",
      "4     88.365852  88.385519  1.0  88.996339  87.927322  88.545102  88.507649   \n",
      "...         ...        ...  ...        ...        ...        ...        ...   \n",
      "1309  95.725012  95.356097  1.0  96.937926  95.393582  95.910048  95.783813   \n",
      "1310  95.776836  95.367536  1.0  96.537240  95.465312  95.893426  95.887054   \n",
      "1311  95.849990  95.378849  1.0  96.532285  95.465843  95.971351  95.969201   \n",
      "1312  96.028530  95.438921  1.0  96.819576  95.292628  96.212111  96.288623   \n",
      "1313  96.134864  95.475355  1.0  96.920852  95.409075  96.265440  96.579081   \n",
      "\n",
      "             R1         S1         R2         S2         R3         S3  \n",
      "0     88.551097  88.551097  88.551097  88.551097  88.551097  88.551097  \n",
      "1     89.417203  88.601135  89.238134  74.918595  90.233271  87.785067  \n",
      "2     88.149252  87.243126  88.885003  73.924776  89.055379  86.336999  \n",
      "3     88.230887  87.689739  88.754391  74.720042  88.772035  87.148591  \n",
      "4     88.922396  87.642600  89.787445  74.990754  90.202192  86.362804  \n",
      "...         ...        ...        ...        ...        ...        ...  \n",
      "1309  95.987108  95.258688  96.512233  66.007138  96.715527  94.530268  \n",
      "1310  95.920248  95.580547  96.226754  66.525913  96.259948  95.240847  \n",
      "1311  95.949453  95.188679  96.729975  68.378454  96.710227  94.427905  \n",
      "1312  96.282568  95.828314  96.742877  69.264297  96.736822  95.374061  \n",
      "1313  97.007263  96.711013  96.875331  69.426779  97.303513  96.414763  \n",
      "\n",
      "[1314 rows x 19 columns]\n",
      "\n"
     ]
    }
   ],
   "source": [
    "# 結果\n",
    "print(f'train\\n{df_train}\\n')\n",
    "print(f'test\\n{df_test}\\n')"
   ]
  },
  {
   "cell_type": "code",
   "execution_count": null,
   "id": "31a93742-af71-4f13-829f-17d2d847ddeb",
   "metadata": {},
   "outputs": [],
   "source": []
  },
  {
   "cell_type": "markdown",
   "id": "3c1128de-a2e9-400b-a2c3-fb3335831407",
   "metadata": {},
   "source": [
    "## RSIの追加"
   ]
  },
  {
   "cell_type": "code",
   "execution_count": 35,
   "id": "e433eab3-432b-46cf-b467-b17188ccbacb",
   "metadata": {},
   "outputs": [],
   "source": [
    "# # RSI関数\n",
    "# def RSI(df,span):\n",
    "#     #　終値の差分\n",
    "#     df_diff=df.diff()\n",
    "    \n",
    "#     # 値上幅と値下幅\n",
    "#     df_up, df_down = df_diff.copy(), df_diff.copy()\n",
    "#     df_up[df_up < 0] = 0\n",
    "#     df_down[df_down > 0] = 0\n",
    "#     df_down = df_down * -1\n",
    "    \n",
    "#     # 移動平均\n",
    "#     up_sma_01 = df_up.rolling(window=span01, center=False).mean()\n",
    "#     down_sma_01 = df_down.abs().rolling(window=span01, center=False).mean()\n",
    "\n",
    "#     # RSI\n",
    "#     df = up_sma_01 / (up_sma_01 + down_sma_01) * 100\n",
    "\n",
    "#     return df"
   ]
  },
  {
   "cell_type": "code",
   "execution_count": 36,
   "id": "6a7e14f7-ffde-4b59-adc8-cec09a7ea0bb",
   "metadata": {},
   "outputs": [],
   "source": [
    "# df_train['RSI01']=RSI(df_train['Close'],span01)\n",
    "# df_test['RSI01']=RSI(df_test['Close'],span01)"
   ]
  },
  {
   "cell_type": "code",
   "execution_count": null,
   "id": "745a6f04-d08b-4561-9824-74e7ae799d13",
   "metadata": {},
   "outputs": [],
   "source": []
  },
  {
   "cell_type": "code",
   "execution_count": 37,
   "id": "7e8ef28a-a0a8-404e-9016-906fa3000f60",
   "metadata": {},
   "outputs": [],
   "source": [
    "# df_train.to_csv('IdoHeikin.csv')"
   ]
  },
  {
   "cell_type": "code",
   "execution_count": null,
   "id": "a36fc9a7-40c2-41a7-b8d4-72ed11e6fb50",
   "metadata": {},
   "outputs": [],
   "source": []
  },
  {
   "cell_type": "code",
   "execution_count": null,
   "id": "78f260d0-4cba-4cbc-8252-64faa7d0eb85",
   "metadata": {},
   "outputs": [],
   "source": []
  },
  {
   "cell_type": "code",
   "execution_count": 38,
   "id": "e3dab164-6135-42d2-a68d-76a118a7c96b",
   "metadata": {},
   "outputs": [],
   "source": [
    "# # 結果\n",
    "# print(f'train\\n{df_train}\\n')\n",
    "# print(f'test\\n{df_test}\\n')"
   ]
  },
  {
   "cell_type": "code",
   "execution_count": 39,
   "id": "9232e7a4-1381-4f5e-80b6-6cd44fb985e9",
   "metadata": {},
   "outputs": [],
   "source": [
    "# #ブランクは取り敢えず50で埋める\n",
    "# df_train['RSI01']=df_train['RSI01'].fillna(50)\n",
    "# df_test['RSI01']=df_test['RSI01'].fillna(50)"
   ]
  },
  {
   "cell_type": "code",
   "execution_count": 40,
   "id": "5e5c49cd-d90d-4b34-be94-0624eae9da42",
   "metadata": {},
   "outputs": [],
   "source": [
    "# # 最初の行除外\n",
    "# df_train=df_train[span01:]"
   ]
  },
  {
   "cell_type": "code",
   "execution_count": 41,
   "id": "9723401c-eb7f-4287-ab91-961b5d4e872a",
   "metadata": {},
   "outputs": [],
   "source": [
    "# # 結果\n",
    "# print(f'train\\n{df_train}\\n')\n",
    "# print(f'test\\n{df_test}\\n')"
   ]
  },
  {
   "cell_type": "code",
   "execution_count": 42,
   "id": "c04dd78e-fa7b-454a-bdc9-f5cbe5a5acb4",
   "metadata": {},
   "outputs": [],
   "source": [
    "#  df_train.to_csv('IdoHeikin.csv')"
   ]
  },
  {
   "cell_type": "code",
   "execution_count": 43,
   "id": "178a5a39-49cb-4a89-8f40-296f70cb05cc",
   "metadata": {},
   "outputs": [],
   "source": [
    "# del df_train['RSI01']\n",
    "# del df_test['RSI01']"
   ]
  },
  {
   "cell_type": "code",
   "execution_count": null,
   "id": "10fa73cf-f11a-4acb-9147-97e1e5d3ece7",
   "metadata": {},
   "outputs": [],
   "source": []
  },
  {
   "cell_type": "markdown",
   "id": "607678fa-c337-4bfb-8d54-1f747835c56b",
   "metadata": {},
   "source": [
    "## MACEの追加"
   ]
  },
  {
   "cell_type": "code",
   "execution_count": 44,
   "id": "bd2eb2ae-b357-4e60-9a39-4683d8cbdb0a",
   "metadata": {},
   "outputs": [],
   "source": [
    "# # MACE関数\n",
    "# def macd(df):\n",
    "#     FastEMA_period = 12  # 短期EMAの期間\n",
    "#     SlowEMA_period = 26  # 長期EMAの期間\n",
    "# #     SignalSMA_period = 9  # SMAを取る期間\n",
    "#     SignalSMA_period = span01  # SMAを取る期間\n",
    "    \n",
    "#     df[\"MACD\"] = df[\"Close\"].ewm(span=FastEMA_period).mean() - df[\"Close\"].ewm(span=SlowEMA_period).mean()\n",
    "#     df[\"Signal\"] = df[\"MACD\"].rolling(SignalSMA_period).mean()\n",
    "#     return df"
   ]
  },
  {
   "cell_type": "code",
   "execution_count": 45,
   "id": "184a7b0d-e2a5-4ac7-97b3-982ea0a39d0c",
   "metadata": {},
   "outputs": [],
   "source": [
    "# # MACDを計算する\n",
    "# df_train = macd(df_train)\n",
    "# df_test = macd(df_test)"
   ]
  },
  {
   "cell_type": "code",
   "execution_count": 46,
   "id": "8213bf35-f90d-4985-bf2e-dd6f31d637eb",
   "metadata": {},
   "outputs": [],
   "source": [
    "# df_train.head(20)"
   ]
  },
  {
   "cell_type": "code",
   "execution_count": null,
   "id": "0c3d474b-d1c1-4c65-a0b7-2003d6f44aa7",
   "metadata": {},
   "outputs": [],
   "source": []
  },
  {
   "cell_type": "code",
   "execution_count": 47,
   "id": "b7579017-8a74-44e6-85be-c0ddb36fb9aa",
   "metadata": {},
   "outputs": [],
   "source": [
    "# df_test"
   ]
  },
  {
   "cell_type": "code",
   "execution_count": 48,
   "id": "ebd76287-e784-4aed-b17d-7aedadc857fc",
   "metadata": {},
   "outputs": [],
   "source": [
    "# import mpl_finance as mpf\n",
    "# # import mplfinance as mpf\n",
    "# # import matplotlib.finance\n",
    "# # from matplotlib.finance import candlestick_ohlc\n",
    " \n",
    "# # チャート定義\n",
    "# fig, ax = plt.subplots(2, figsize=(20, 10), sharex=True, gridspec_kw={'height_ratios': [3, 1]})\n",
    " \n",
    "# # ローソク足チャートをプロット\n",
    "# mpl_finance.candlestick_ohlc(ax[0], df.values, width=0.5, colorup='r', colordown='b')\n",
    " \n",
    "# # MACDをプロット\n",
    "# ax[1].plot(df_train[\"index\"], df_train[\"MACD\"], label=\"MACD\")\n",
    "# ax[1].plot(df_train[\"index\"], df_train[\"Signal\"], label=\"Signal\")\n",
    " \n",
    "# # X軸を調整\n",
    "# plt.xticks([x for x in range(len(df))], [x.strftime('%Y-%m-%d') for x in df.index])\n",
    "# fig.autofmt_xdate()\n",
    " \n",
    "# # 凡例表示, グリッド表示\n",
    "# for a in ax:\n",
    "#     a.legend()\n",
    "#     a.grid()\n",
    " \n",
    "# # グラフを表示\n",
    "# plt.show()"
   ]
  },
  {
   "cell_type": "code",
   "execution_count": null,
   "id": "e396b5ef-5ea3-46ea-8b4e-40ace98272c3",
   "metadata": {},
   "outputs": [],
   "source": []
  },
  {
   "cell_type": "markdown",
   "id": "895b782e-2396-4d4b-a646-73c30c6b5275",
   "metadata": {},
   "source": [
    "## 特徴量調整用"
   ]
  },
  {
   "cell_type": "code",
   "execution_count": 49,
   "id": "56d17a36-7fcc-4798-aa47-aee4d46475a3",
   "metadata": {},
   "outputs": [],
   "source": [
    "# # mean/std削除＋1日目を取り合えす終値で埋める\n",
    "# drop = ['upper', 'lower', 'PP','R1','S1','R2','S2','R3','S3','GC','SMA25','SMA10']\n",
    "# drop = ['upper', 'lower', 'PP','R1','S1','R2','S2','R3','S3','GC','SMA25','SMA10','SMA05','EMA05']\n",
    "drop = ['upper', 'lower', 'PP','R1','S1','R2','S2','R3','S3','SMA25','SMA10','GC']\n",
    "\n",
    "df_train = df_train.drop(columns=drop,axis=1) \n",
    "df_test = df_test.drop(columns=drop,axis=1) "
   ]
  },
  {
   "cell_type": "code",
   "execution_count": null,
   "id": "7cda016d-40af-46e8-94e3-018c456b468e",
   "metadata": {},
   "outputs": [],
   "source": []
  },
  {
   "cell_type": "code",
   "execution_count": null,
   "id": "2ed9e802-1a83-4ef5-9b2a-82a86a842346",
   "metadata": {},
   "outputs": [],
   "source": []
  },
  {
   "cell_type": "markdown",
   "id": "add20621-0022-4f3a-8e70-63e157bc847c",
   "metadata": {},
   "source": [
    "## 多項式特徴量/多項式回帰/交互作用特徴量"
   ]
  },
  {
   "cell_type": "code",
   "execution_count": 50,
   "id": "795c7acc-a443-4867-9498-021b45c02c2b",
   "metadata": {},
   "outputs": [],
   "source": [
    "# EMAに多項式特徴量を適用してみる\n",
    "# df_train[\"EMA\"] = df_train[\"EMA\"] **2\n",
    "# df_test[\"EMA\"] = df_test[\"EMA\"] **2"
   ]
  },
  {
   "cell_type": "code",
   "execution_count": null,
   "id": "c73663be-7efe-4b99-847a-b3b0eb22bbdf",
   "metadata": {},
   "outputs": [],
   "source": []
  },
  {
   "cell_type": "markdown",
   "id": "bb1d6d20-44c1-4117-b827-daacdf15c766",
   "metadata": {},
   "source": [
    "##　配列の型などを調べるための関数"
   ]
  },
  {
   "cell_type": "code",
   "execution_count": 51,
   "id": "d174b86d-c0f8-4ea9-9670-ab083c337a2a",
   "metadata": {},
   "outputs": [],
   "source": [
    "# 変数名をそのままprint関数内で表示させる関数\n",
    "def chkprint(*args):\n",
    "    for obj in args:\n",
    "        for k, v in globals().items():\n",
    "            if id(v) == id(obj):\n",
    "                target = k\n",
    "                break          \n",
    "    return target\n",
    "\n",
    "# データがどのデータ型か、列数、行数を表示する関数\n",
    "def typeInfo(targetData):\n",
    "    if (type(targetData) is pd.core.frame.DataFrame):\n",
    "        print(\"{} は DataFrame型\".format(chkprint(targetData)))\n",
    "        print(\"{} の行数, 列数・・・{}\\n\".format(chkprint(targetData), targetData.shape))     # shapeの表示内容は、(行数, 列数)となる\n",
    "    if (type(targetData) is list):\n",
    "        print(\"{} は list型\".format(chkprint(targetData)))\n",
    "        print(\"{} の行数, 列数・・・{}\\n\".format(chkprint(targetData), pd.DataFrame(targetData).shape))    # shapeの表示内容は、(行数, 列数)となる\n",
    "    if (type(targetData) is np.ndarray): \n",
    "        print(\"{} は ndarray型\".format(chkprint(targetData)))\n",
    "        print(\"{} の行数, 列数・・・{}\\n\".format(chkprint(targetData), targetData.shape))     # shapeの表示内容は、(行数, 列数)となる\n",
    "    if (type(targetData) is pd.core.series.Series):\n",
    "        print(\"{} は Series型\".format(chkprint(targetData)))\n",
    "        print(\"{} の行数, 列数・・・{}\\n\".format(chkprint(targetData), targetData.shape))     # shapeの表示内容は、(行数, 列数)となる"
   ]
  },
  {
   "cell_type": "markdown",
   "id": "b8daff79-41e9-4b9e-9c3b-cb6856a3d546",
   "metadata": {},
   "source": [
    "## Trainデータを学習用と検証用に分割\n",
    "#### (train:2003/12/1-2011/12/14 →これを8:2に分割する| test:2011/12/15-2019/12/31)"
   ]
  },
  {
   "cell_type": "code",
   "execution_count": 52,
   "id": "3d7b24b3-74fa-45be-a4a9-6e746c33313d",
   "metadata": {},
   "outputs": [],
   "source": [
    "# 不要\n",
    "# Trainデータを学習用と検証用に分割\n",
    "# 今回は①学習用：8割、②検証用：2割にTrainデータを分割して、①の予測モデルで\n",
    "# ②が正しく評価できるのかを確認した上で、testデータへの予測モデルの適用を行う"
   ]
  },
  {
   "cell_type": "code",
   "execution_count": 53,
   "id": "bc0c2e46-645b-4ae4-bb7e-56594743302d",
   "metadata": {},
   "outputs": [],
   "source": [
    "# 不要\n",
    "# train_test_splitというDataFrameを分けてくれる関数がsklearnにあるのでそれを使う\n",
    "# from sklearn.model_selection import train_test_split\n",
    "\n",
    "# df_train, df_validation = train_test_split(df_train, train_size=0.8, test_size=0.2, shuffle=False)"
   ]
  },
  {
   "cell_type": "code",
   "execution_count": 54,
   "id": "4369f120-d765-4eda-b9a0-c05d5e42ba7d",
   "metadata": {},
   "outputs": [],
   "source": [
    "# 不要\n",
    "# # 分割後のサイズ\n",
    "# print(f'①学習用データのサイズ(df_train)：{len(df_train)}')\n",
    "# print(f'②検証用データのサイズ(df_validation)：{len(df_validation)}')\n",
    "# print(f'元々のdf_trainのサイズが8:2に分割された\\n')\n",
    "\n",
    "# # 分割後の詳細\n",
    "# print(f'分割後のサマリ(df_train)\\n{df_train.describe()}\\n')\n",
    "# print(f'分割後のサマリ(df_validation)\\n{df_validation.describe()}\\n')"
   ]
  },
  {
   "cell_type": "markdown",
   "id": "d7dfd235-6e7e-4edf-9c77-57c361aaa484",
   "metadata": {},
   "source": [
    "## *Train/test/latestデータの縦結合(直接今回の課題とは関係なし)"
   ]
  },
  {
   "cell_type": "code",
   "execution_count": 55,
   "id": "c795d972-8f7f-42bc-80cd-8e20d17ff5cf",
   "metadata": {},
   "outputs": [],
   "source": [
    "# # df_Merged=pd.concat([df_train,df_test,df_latest])\n",
    "# df_Merged = pd.DataFrame(np.concatenate([df_train.values, df_test.values, df_latest.values]), columns=df_train.columns)"
   ]
  },
  {
   "cell_type": "code",
   "execution_count": 56,
   "id": "4149f652-b151-4388-86ac-d2f5f136d350",
   "metadata": {},
   "outputs": [],
   "source": [
    "# df_Merged"
   ]
  },
  {
   "cell_type": "code",
   "execution_count": 57,
   "id": "6a29bd61-a43a-45fd-a1db-1e76783b8215",
   "metadata": {},
   "outputs": [],
   "source": [
    "# df_Merged.info()"
   ]
  },
  {
   "cell_type": "markdown",
   "id": "98046edc-d7e6-4ebe-99b5-aba997bf9928",
   "metadata": {},
   "source": [
    "##　前処理"
   ]
  },
  {
   "cell_type": "code",
   "execution_count": 58,
   "id": "a85e43d5-3358-4cc6-96c5-3b6f0c93a5ba",
   "metadata": {},
   "outputs": [],
   "source": [
    "# Dateをインデックスに指定\n",
    "df_train.set_index('Date',inplace=True)\n",
    "df_test.set_index('Date',inplace=True)"
   ]
  },
  {
   "cell_type": "code",
   "execution_count": 59,
   "id": "0695a4ff-f7a4-410d-a11d-17dfe011099a",
   "metadata": {},
   "outputs": [
    {
     "name": "stdout",
     "output_type": "stream",
     "text": [
      "単価抽出後のサマリ(df_train)\n",
      "              High          Low         Open        Close        SMA05  \\\n",
      "count  2187.000000  2187.000000  2187.000000  2187.000000  2187.000000   \n",
      "mean    108.734330   107.610347   108.203299   108.204905   108.215617   \n",
      "std      12.233109    12.299644    12.259910    12.271763    12.235718   \n",
      "min      84.473121    83.287332    83.858501    83.856133    84.442784   \n",
      "25%     101.661148   100.460351   101.119997   101.143699   101.099144   \n",
      "50%     107.226697   106.286595   106.839604   106.823801   106.796936   \n",
      "75%     116.785701   116.031250   116.363049   116.402551   116.315254   \n",
      "max     134.251806   133.604796   133.868656   133.944502   133.681115   \n",
      "\n",
      "             EMA05  \n",
      "count  2187.000000  \n",
      "mean    108.214844  \n",
      "std      12.225896  \n",
      "min      84.550230  \n",
      "25%     101.208942  \n",
      "50%     106.789187  \n",
      "75%     116.344633  \n",
      "max     133.546218  \n",
      "\n",
      "単価抽出後のサマリ(df_test)\n",
      "              High          Low         Open        Close        SMA05  \\\n",
      "count  1314.000000  1314.000000  1314.000000  1314.000000  1314.000000   \n",
      "mean     98.975436    98.190527    98.601504    98.601355    98.589610   \n",
      "std       9.542734     9.561047     9.547183     9.547930     9.531123   \n",
      "min      76.054883    74.994700    75.256981    75.253033    75.765425   \n",
      "25%      94.195055    93.259893    93.721649    93.714540    93.623413   \n",
      "50%     101.439159   100.675230   101.005450   101.024408   101.109017   \n",
      "75%     105.625167   104.833196   105.288237   105.281326   105.214885   \n",
      "max     118.108954   117.149095   117.196505   117.228100   116.760737   \n",
      "\n",
      "             EMA05  \n",
      "count  1314.000000  \n",
      "mean     98.589613  \n",
      "std       9.518327  \n",
      "min      75.724978  \n",
      "25%      93.642432  \n",
      "50%     101.175544  \n",
      "75%     105.278039  \n",
      "max     116.743341  \n",
      "\n"
     ]
    }
   ],
   "source": [
    "# 分割後の詳細\n",
    "print(f'単価抽出後のサマリ(df_train)\\n{df_train.describe()}\\n')\n",
    "print(f'単価抽出後のサマリ(df_test)\\n{df_test.describe()}\\n')\n",
    "# print(f'単価抽出後のサマリ(df_latest)\\n{df_latest.describe()}\\n')"
   ]
  },
  {
   "cell_type": "code",
   "execution_count": 60,
   "id": "43d7c278-9c16-4ea4-8d13-d171074f9e5e",
   "metadata": {},
   "outputs": [],
   "source": [
    "# windowを設定\n",
    "window_len=6"
   ]
  },
  {
   "cell_type": "code",
   "execution_count": null,
   "id": "02001e23-c5df-4fd4-9754-70cf9c4e57f0",
   "metadata": {},
   "outputs": [],
   "source": []
  },
  {
   "cell_type": "markdown",
   "id": "c405597b-68e3-4048-8b72-77492ef42831",
   "metadata": {},
   "source": [
    "## LSTMの為の前処理"
   ]
  },
  {
   "cell_type": "markdown",
   "id": "1a2b0e41-78cc-44f6-8fba-7a5214893c01",
   "metadata": {},
   "source": [
    "### 変化量によるスケーリングの方法"
   ]
  },
  {
   "cell_type": "code",
   "execution_count": null,
   "id": "84c0eae1-36f0-40be-aaad-d2876b8b8fd0",
   "metadata": {},
   "outputs": [],
   "source": []
  },
  {
   "cell_type": "code",
   "execution_count": 61,
   "id": "ff4ffc71-da95-4b5b-ae19-5d6d12e20204",
   "metadata": {},
   "outputs": [],
   "source": [
    "# LSTMへの入力用に処理の関数\n",
    "# trainはデータの最後から2番目の配列のセットと最終行が正解となるが、testは最終行までがインプットとなる為、\n",
    "# Adjustmentの引数で両方に対応できるようにする。\n",
    "def data_maker(data,adjustment1):\n",
    "  data_lstm_in=[]\n",
    "  if len(data)==window_len:\n",
    "    temp = data[:window_len].copy()\n",
    "    temp = temp / temp.iloc[0] - 1\n",
    "    data_lstm_in.append(temp)\n",
    "  for i in range(len(data) - window_len+adjustment1): #今回のLSTMで生成する時系列データ数(train総数-6個のモデル)    \n",
    "#   for i in range(ArrayAmt): #今回のLSTMで生成する時系列データ数(train総数-10個のモデル)\n",
    "      temp = data[i:(i + window_len)].copy() #windowの単位で行を取得。参照渡しでなく値渡し。\n",
    "      temp = temp / temp.iloc[0] - 1\n",
    "      data_lstm_in.append(temp)\n",
    "  return data_lstm_in"
   ]
  },
  {
   "cell_type": "code",
   "execution_count": 62,
   "id": "51d3588b-01c5-447c-96bb-1e54ca4cbe64",
   "metadata": {},
   "outputs": [],
   "source": [
    "#関数の実行(Trainデータ)\n",
    "train_lstm_in = data_maker(data=df_train,adjustment1=0)"
   ]
  },
  {
   "cell_type": "code",
   "execution_count": 63,
   "id": "ba2c6512-656c-4c30-a186-40f7d4cb2806",
   "metadata": {},
   "outputs": [
    {
     "name": "stdout",
     "output_type": "stream",
     "text": [
      "train_lstm_in_配列数 : 2181\n",
      "\n",
      "train_lstm_in[0]\n",
      "                High       Low      Open     Close     SMA05     EMA05\n",
      "Date                                                                  \n",
      "2003-01-23  0.000000  0.000000  0.000000  0.000000  0.000000  0.000000\n",
      "2003-01-24  0.005114  0.002213 -0.000630  0.004808  0.002033  0.001603\n",
      "2003-01-27  0.014397  0.007667  0.004804  0.012295  0.004067  0.005167\n",
      "2003-01-28  0.012666  0.011856  0.011655  0.012532  0.006100  0.007622\n",
      "2003-01-29  0.011879  0.010828  0.011655  0.011034  0.008134  0.008759\n",
      "2003-01-30  0.013846  0.009485  0.009923  0.014975  0.011129  0.010831\n",
      "\n",
      "train_lstm_in[1]\n",
      "                High       Low      Open     Close     SMA05     EMA05\n",
      "Date                                                                  \n",
      "2003-01-24  0.000000  0.000000  0.000000  0.000000  0.000000  0.000000\n",
      "2003-01-27  0.009236  0.005442  0.005437  0.007452  0.002029  0.003558\n",
      "2003-01-28  0.007514  0.009621  0.012293  0.007687  0.004059  0.006009\n",
      "2003-01-29  0.006731  0.008596  0.012293  0.006197  0.006088  0.007145\n",
      "2003-01-30  0.008688  0.007256  0.010560  0.010118  0.009077  0.009214\n",
      "2003-01-31  0.012602  0.014274  0.014894  0.012707  0.011625  0.011458\n",
      "\n",
      "train_lstm_in[-1]\n",
      "                High       Low      Open     Close     SMA05     EMA05\n",
      "Date                                                                  \n",
      "2011-07-05  0.000000  0.000000  0.000000  0.000000  0.000000  0.000000\n",
      "2011-07-06 -0.002247 -0.000035 -0.008114 -0.008124 -0.001502 -0.002731\n",
      "2011-07-07 -0.002153 -0.007720 -0.002420 -0.002044 -0.001757 -0.002525\n",
      "2011-07-10 -0.019677 -0.027220 -0.020648 -0.020455 -0.006950 -0.008524\n",
      "2011-07-11 -0.036106 -0.051549 -0.035987 -0.035813 -0.015004 -0.017642\n",
      "2011-07-12 -0.042847 -0.041025 -0.052659 -0.052523 -0.025490 -0.029291\n",
      "\n"
     ]
    }
   ],
   "source": [
    "# 配列抜粋\n",
    "print(f'train_lstm_in_配列数 : {len(train_lstm_in)}\\n')\n",
    "print(f'train_lstm_in[0]\\n{train_lstm_in[0]}\\n')\n",
    "print(f'train_lstm_in[1]\\n{train_lstm_in[1]}\\n')\n",
    "print(f'train_lstm_in[-1]\\n{train_lstm_in[-1]}\\n')"
   ]
  },
  {
   "cell_type": "code",
   "execution_count": 64,
   "id": "7170b76f-5829-4554-9535-62d5b5b16c45",
   "metadata": {},
   "outputs": [],
   "source": [
    "lstm_train_out = (df_train['Close'][window_len:].values / df_train['Close'][:-window_len].values)-1"
   ]
  },
  {
   "cell_type": "code",
   "execution_count": 65,
   "id": "971ed3b8-56ab-444e-9349-215c2b1576b6",
   "metadata": {},
   "outputs": [
    {
     "data": {
      "text/plain": [
       "2181"
      ]
     },
     "execution_count": 65,
     "metadata": {},
     "output_type": "execute_result"
    }
   ],
   "source": [
    "len(lstm_train_out)"
   ]
  },
  {
   "cell_type": "code",
   "execution_count": 66,
   "id": "95e40aa7-684b-426b-9961-0117f9b03970",
   "metadata": {},
   "outputs": [
    {
     "data": {
      "text/plain": [
       "array([ 0.01757569,  0.0179622 ,  0.01518216, ..., -0.04114293,\n",
       "       -0.05678949, -0.03950746])"
      ]
     },
     "execution_count": 66,
     "metadata": {},
     "output_type": "execute_result"
    }
   ],
   "source": [
    "lstm_train_out"
   ]
  },
  {
   "cell_type": "code",
   "execution_count": null,
   "id": "afe1e153-a5e5-428b-948d-2227dcf13671",
   "metadata": {},
   "outputs": [],
   "source": []
  },
  {
   "cell_type": "code",
   "execution_count": 67,
   "id": "d2e58329-224a-4784-b46d-fe1cac235725",
   "metadata": {},
   "outputs": [],
   "source": [
    "#関数の実行(Testデータ)\n",
    "test_lstm_in = data_maker(data=df_test,adjustment1=1)"
   ]
  },
  {
   "cell_type": "code",
   "execution_count": 68,
   "id": "b76e3681-6591-44c0-82ff-fdcc8107c1a3",
   "metadata": {},
   "outputs": [
    {
     "name": "stdout",
     "output_type": "stream",
     "text": [
      "test_lstm_in_配列数 : 1309\n",
      "\n",
      "test_lstm_in[0]\n",
      "                High       Low      Open     Close     SMA05     EMA05\n",
      "Date                                                                  \n",
      "2011-07-14  0.000000  0.000000  0.000000  0.000000  0.000000  0.000000\n",
      "2011-07-17 -0.005493 -0.006339 -0.003302 -0.003212 -0.000252 -0.001071\n",
      "2011-07-18 -0.000178 -0.002002 -0.004747 -0.004907 -0.000504 -0.002349\n",
      "2011-07-19  0.000071  0.002397  0.000785  0.000446 -0.000756 -0.001417\n",
      "2011-07-20  0.007238  0.001230  0.002677  0.002632 -0.001008 -0.000068\n",
      "2011-07-21  0.010889  0.007874  0.010101  0.010527  0.001097  0.003464\n",
      "\n",
      "test_lstm_in[1]\n",
      "                High       Low      Open     Close     SMA05     EMA05\n",
      "Date                                                                  \n",
      "2011-07-17  0.000000  0.000000  0.000000  0.000000  0.000000  0.000000\n",
      "2011-07-18  0.005345  0.004364 -0.001450 -0.001701 -0.000252 -0.001280\n",
      "2011-07-19  0.005595  0.008792  0.004100  0.003670 -0.000504 -0.000347\n",
      "2011-07-20  0.012802  0.007617  0.005998  0.005862 -0.000756  0.001004\n",
      "2011-07-21  0.016473  0.014304  0.013447  0.013783  0.001350  0.004539\n",
      "2011-07-28 -0.001522 -0.002404 -0.002390 -0.002587  0.000834  0.001451\n",
      "\n",
      "test_lstm_in[-1]\n",
      "                High       Low      Open     Close     SMA05     EMA05\n",
      "Date                                                                  \n",
      "2019-12-24  0.000000  0.000000  0.000000  0.000000  0.000000  0.000000\n",
      "2019-12-25  0.004408 -0.000595 -0.000643 -0.000585  0.000635 -0.000721\n",
      "2019-12-26  0.003205  0.002263  0.000272  0.000338 -0.001077 -0.000894\n",
      "2019-12-27  0.009005  0.003676  0.003355  0.003124 -0.001100 -0.000082\n",
      "2019-12-30  0.008997  0.006873  0.009010  0.009035 -0.000506  0.002426\n",
      "2019-12-31  0.005850  0.005369  0.005523  0.005680  0.000626  0.002982\n",
      "\n"
     ]
    }
   ],
   "source": [
    "# 配列抜粋(Testデータ)\n",
    "print(f'test_lstm_in_配列数 : {len(test_lstm_in)}\\n')\n",
    "print(f'test_lstm_in[0]\\n{test_lstm_in[0]}\\n')\n",
    "print(f'test_lstm_in[1]\\n{test_lstm_in[1]}\\n')\n",
    "print(f'test_lstm_in[-1]\\n{test_lstm_in[-1]}\\n')"
   ]
  },
  {
   "cell_type": "code",
   "execution_count": 69,
   "id": "e4fe251e-edaa-4fb7-a3a4-cec17f355c3f",
   "metadata": {},
   "outputs": [],
   "source": [
    "lstm_test_out = (df_test['Close'][window_len:].values / df_test['Close'][:-window_len].values)-1"
   ]
  },
  {
   "cell_type": "code",
   "execution_count": 70,
   "id": "8c545549-2377-4fe9-a15b-f8a56958c30a",
   "metadata": {},
   "outputs": [
    {
     "data": {
      "text/plain": [
       "array([-0.00578994, -0.0074018 , -0.0093509 , ..., -0.00574429,\n",
       "        0.00577681, -0.00037698])"
      ]
     },
     "execution_count": 70,
     "metadata": {},
     "output_type": "execute_result"
    }
   ],
   "source": [
    "lstm_test_out"
   ]
  },
  {
   "cell_type": "code",
   "execution_count": 71,
   "id": "2d1a9d83-322b-4050-a0bf-c474bc6bc89f",
   "metadata": {},
   "outputs": [
    {
     "data": {
      "text/plain": [
       "1308"
      ]
     },
     "execution_count": 71,
     "metadata": {},
     "output_type": "execute_result"
    }
   ],
   "source": [
    "len(lstm_test_out)"
   ]
  },
  {
   "cell_type": "code",
   "execution_count": 72,
   "id": "9086466a-a5b8-407f-aa11-8f8f4ab3933f",
   "metadata": {},
   "outputs": [],
   "source": [
    "# #関数の実行(Latestデータ)\n",
    "# latest_lstm_in = data_maker(df_latest)"
   ]
  },
  {
   "cell_type": "code",
   "execution_count": 73,
   "id": "278b4092-6140-40f6-b923-00acad181de3",
   "metadata": {},
   "outputs": [],
   "source": [
    "# # 配列抜粋\n",
    "# print(f'latest_lstm_in_配列数 : {len(latest_lstm_in)}\\n')\n",
    "# print(f'latest_lstm_in\\n{latest_lstm_in[0]}\\n')\n",
    "# #print(f'latest_lstm_in\\n{latest_lstm_in[1]}\\n')\n",
    "# # print(f'latest_lstm_in\\n{latest_lstm_in[-1]}\\n')"
   ]
  },
  {
   "cell_type": "markdown",
   "id": "0e5cb290-36cb-43f4-8516-b931e725a7b0",
   "metadata": {},
   "source": [
    "#### Numpy配列への変換"
   ]
  },
  {
   "cell_type": "code",
   "execution_count": 74,
   "id": "b61cbcb6-4597-49ac-9c01-38ba5056fe68",
   "metadata": {},
   "outputs": [],
   "source": [
    "# PandasのデータフレームからNumpy配列へ変換。リスト内包表記という記法がここでは使われている。\n",
    "train_lstm_in = [np.array(train_lstm_input) for train_lstm_input in train_lstm_in]\n",
    "train_lstm_in = np.array(train_lstm_in)\n",
    "\n",
    "test_lstm_in = [np.array(test_lstm_input) for test_lstm_input in test_lstm_in]\n",
    "test_lstm_in = np.array(test_lstm_in)"
   ]
  },
  {
   "cell_type": "code",
   "execution_count": 75,
   "id": "c25996dd-34e9-482f-ab14-f7ad4df8a9cb",
   "metadata": {},
   "outputs": [],
   "source": [
    "# # 11/6 latestデータのnumpyへの置き換え\n",
    "# latest_lstm_in = [np.array(test_lstm_input) for test_lstm_input in latest_lstm_in]\n",
    "# latest_lstm_in = np.array(latest_lstm_in)"
   ]
  },
  {
   "cell_type": "code",
   "execution_count": 76,
   "id": "f2118607-ee45-47ac-8d13-b1420ff3486f",
   "metadata": {},
   "outputs": [
    {
     "name": "stdout",
     "output_type": "stream",
     "text": [
      "train_lstm_in.shape[0] : 2181\n",
      "train_lstm_in.shape[1] : 6\n",
      "train_lstm_in.shape[2] : 6\n"
     ]
    }
   ],
   "source": [
    "print(f'train_lstm_in.shape[0] : {train_lstm_in.shape[0]}')\n",
    "print(f'train_lstm_in.shape[1] : {train_lstm_in.shape[1]}')\n",
    "print(f'train_lstm_in.shape[2] : {train_lstm_in.shape[2]}')"
   ]
  },
  {
   "cell_type": "code",
   "execution_count": 77,
   "id": "7b7619ca-9825-4f40-9815-9831338ea3b2",
   "metadata": {},
   "outputs": [
    {
     "data": {
      "text/plain": [
       "array([[[ 0.00000000e+00,  0.00000000e+00,  0.00000000e+00,\n",
       "          0.00000000e+00,  0.00000000e+00,  0.00000000e+00],\n",
       "        [ 5.11369304e-03,  2.21313955e-03, -6.30034879e-04,\n",
       "          4.80769722e-03,  2.03342190e-03,  1.60256574e-03],\n",
       "        [ 1.43969933e-02,  7.66678190e-03,  4.80385072e-03,\n",
       "          1.22951231e-02,  4.06684379e-03,  5.16675153e-03],\n",
       "        [ 1.26661994e-02,  1.18558937e-02,  1.16554049e-02,\n",
       "          1.25315574e-02,  6.10026569e-03,  7.62168682e-03],\n",
       "        [ 1.18794312e-02,  1.08283495e-02,  1.16554049e-02,\n",
       "          1.10340602e-02,  8.13368758e-03,  8.75914461e-03],\n",
       "        [ 1.38462316e-02,  9.48470289e-03,  9.92283905e-03,\n",
       "          1.49747917e-02,  1.11286459e-02,  1.08310270e-02]],\n",
       "\n",
       "       [[ 0.00000000e+00,  0.00000000e+00,  0.00000000e+00,\n",
       "          0.00000000e+00,  0.00000000e+00,  0.00000000e+00],\n",
       "        [ 9.23606986e-03,  5.44159933e-03,  5.43731130e-03,\n",
       "          7.45160086e-03,  2.02929548e-03,  3.55848309e-03],\n",
       "        [ 7.51408163e-03,  9.62146050e-03,  1.22931849e-02,\n",
       "          7.68690386e-03,  4.05859096e-03,  6.00949048e-03],\n",
       "        [ 6.73131627e-03,  8.59618542e-03,  1.22931849e-02,\n",
       "          6.19657172e-03,  6.08788645e-03,  7.14512833e-03],\n",
       "        [ 8.68811023e-03,  7.25550589e-03,  1.05595268e-02,\n",
       "          1.01184480e-02,  9.07676712e-03,  9.21369567e-03],\n",
       "        [ 1.26016981e-02,  1.42744284e-02,  1.48935519e-02,\n",
       "          1.27069007e-02,  1.16251835e-02,  1.14583192e-02]],\n",
       "\n",
       "       [[ 0.00000000e+00,  0.00000000e+00,  0.00000000e+00,\n",
       "          0.00000000e+00,  0.00000000e+00,  0.00000000e+00],\n",
       "        [-1.70622938e-03,  4.15723914e-03,  6.81879772e-03,\n",
       "          2.33562587e-04,  2.02518578e-03,  2.44231644e-03],\n",
       "        [-2.48183123e-03,  3.13751300e-03,  6.81879772e-03,\n",
       "         -1.24574633e-03,  4.05037156e-03,  3.57392748e-03],\n",
       "        [-5.42944958e-04,  1.80408942e-03,  5.09451504e-03,\n",
       "          2.64712186e-03,  7.03319920e-03,  5.63515996e-03],\n",
       "        [ 3.33482758e-03,  8.78502444e-03,  9.40510215e-03,\n",
       "          5.21642912e-03,  9.57645451e-03,  7.87182431e-03],\n",
       "        [ 6.66977349e-03,  9.25563044e-03,  1.23834303e-02,\n",
       "          1.04328582e-02,  1.16801255e-02,  1.11140748e-02]],\n",
       "\n",
       "       ...,\n",
       "\n",
       "       [[ 0.00000000e+00,  0.00000000e+00,  0.00000000e+00,\n",
       "          0.00000000e+00,  0.00000000e+00,  0.00000000e+00],\n",
       "        [-1.16368839e-03,  4.35719537e-04, -1.20724260e-03,\n",
       "         -1.02895290e-03,  2.98406495e-03,  2.21487236e-03],\n",
       "        [-5.83542062e-03, -1.27824102e-02, -5.63671766e-03,\n",
       "         -5.52762919e-03,  3.91647328e-03,  2.18037635e-03],\n",
       "        [-8.06934979e-03, -1.28165689e-02, -1.37049148e-02,\n",
       "         -1.36065866e-02,  2.40815377e-03, -5.56292906e-04],\n",
       "        [-7.97590218e-03, -2.04039819e-02, -8.04270572e-03,\n",
       "         -7.56016640e-03,  2.15276571e-03, -3.49783856e-04],\n",
       "        [-2.53971410e-02, -3.96545195e-02, -2.61685984e-02,\n",
       "         -2.58695460e-02, -3.06119136e-03, -6.36211869e-03]],\n",
       "\n",
       "       [[ 0.00000000e+00,  0.00000000e+00,  0.00000000e+00,\n",
       "          0.00000000e+00,  0.00000000e+00,  0.00000000e+00],\n",
       "        [-4.67717501e-03, -1.32123728e-02, -4.43482898e-03,\n",
       "         -4.50330999e-03,  9.29634238e-04, -3.44197747e-05],\n",
       "        [-6.91370680e-03, -1.32465167e-02, -1.25127782e-02,\n",
       "         -1.25905889e-02, -5.74197741e-04, -2.76504106e-03],\n",
       "        [-6.82015033e-03, -2.08306251e-02, -6.84372516e-03,\n",
       "         -6.53794073e-03, -8.28825970e-04, -2.55898839e-03],\n",
       "        [-2.42616856e-02, -4.00727786e-02, -2.49915267e-02,\n",
       "         -2.48661792e-02, -6.02727054e-03, -8.55803609e-03],\n",
       "        [-4.06146699e-02, -6.40805425e-02, -4.02621997e-02,\n",
       "         -4.01552988e-02, -1.40881119e-02, -1.76763002e-02]],\n",
       "\n",
       "       [[ 0.00000000e+00,  0.00000000e+00,  0.00000000e+00,\n",
       "          0.00000000e+00,  0.00000000e+00,  0.00000000e+00],\n",
       "        [-2.24704160e-03, -3.46010274e-05, -8.11393309e-03,\n",
       "         -8.12386316e-03, -1.50243526e-03, -2.73071527e-03],\n",
       "        [-2.15304549e-03, -7.72025518e-03, -2.41962681e-03,\n",
       "         -2.04383477e-03, -1.75682700e-03, -2.52465551e-03],\n",
       "        [-1.96765413e-02, -2.72200471e-02, -2.06482692e-02,\n",
       "         -2.04549844e-02, -6.95044341e-03, -8.52390971e-03],\n",
       "        [-3.61063707e-02, -5.15492577e-02, -3.59869668e-02,\n",
       "         -3.58132671e-02, -1.50037981e-02, -1.76424877e-02],\n",
       "        [-4.28474955e-02, -4.10247345e-02, -5.26594499e-02,\n",
       "         -5.25227107e-02, -2.54900652e-02, -2.92909707e-02]]])"
      ]
     },
     "execution_count": 77,
     "metadata": {},
     "output_type": "execute_result"
    }
   ],
   "source": [
    "train_lstm_in"
   ]
  },
  {
   "cell_type": "markdown",
   "id": "1b61a346-8a99-40b5-be5b-aee09eb4d0bd",
   "metadata": {},
   "source": [
    "### 標準化によるスケーリング"
   ]
  },
  {
   "cell_type": "markdown",
   "id": "fddbfe1d-b9f2-499f-aad4-dbcb3588178f",
   "metadata": {},
   "source": [
    "#### train"
   ]
  },
  {
   "cell_type": "code",
   "execution_count": 78,
   "id": "947e30be-1f5f-4234-a0b3-6365ddd01b39",
   "metadata": {},
   "outputs": [],
   "source": [
    "from sklearn.preprocessing import StandardScaler"
   ]
  },
  {
   "cell_type": "code",
   "execution_count": 79,
   "id": "dc4aa119-39e0-4f71-85f6-35c65aee4b26",
   "metadata": {},
   "outputs": [
    {
     "data": {
      "text/plain": [
       "StandardScaler()"
      ]
     },
     "execution_count": 79,
     "metadata": {},
     "output_type": "execute_result"
    }
   ],
   "source": [
    "scaler = StandardScaler()\n",
    "scaler.fit(df_train)"
   ]
  },
  {
   "cell_type": "code",
   "execution_count": 80,
   "id": "9853aa92-a2e8-4660-97fb-3681be604364",
   "metadata": {},
   "outputs": [],
   "source": [
    "#　標準化時の情報\n",
    "df_train_mean=scaler.mean_\n",
    "df_train_scale=scaler.scale_\n",
    "df_train_var=scaler.var_\n",
    "df_train_seen=scaler.n_samples_seen_"
   ]
  },
  {
   "cell_type": "code",
   "execution_count": 81,
   "id": "e84c480d-d7e3-420b-9713-dd3e0e37fec2",
   "metadata": {},
   "outputs": [
    {
     "name": "stdout",
     "output_type": "stream",
     "text": [
      "df_train_mean : [108.73433021 107.61034712 108.20329868 108.20490455 108.21561661\n",
      " 108.21484425]\n",
      "\n",
      "df_train_scale\n",
      "[12.23031177 12.29683146 12.25710705 12.26895736 12.23292042 12.22310035]\n",
      "\n",
      "df_train_var\n",
      "[149.58052597 151.212064   150.23667333 150.5273148  149.64434204\n",
      " 149.40418218]\n",
      "\n",
      "df_train_seen\n",
      "2187\n",
      "\n"
     ]
    }
   ],
   "source": [
    "# 配列抜粋\n",
    "print(f'df_train_mean : {df_train_mean}\\n')\n",
    "print(f'df_train_scale\\n{df_train_scale}\\n')\n",
    "print(f'df_train_var\\n{df_train_var}\\n')\n",
    "print(f'df_train_seen\\n{df_train_seen}\\n')"
   ]
  },
  {
   "cell_type": "code",
   "execution_count": 82,
   "id": "40e9a6a9-4fc3-4b34-9c17-30277387ec1c",
   "metadata": {},
   "outputs": [],
   "source": [
    "# Closeの標準偏差・平均を保持しLSTMでの学習後に元の値に戻す為に使う\n",
    "Close_Col=3\n",
    "scaler_mean=scaler.mean_[Close_Col]\n",
    "scaler_scale=scaler.scale_[Close_Col]"
   ]
  },
  {
   "cell_type": "code",
   "execution_count": 83,
   "id": "a0288b1c-c3a1-4122-ab11-f41f5626e8b9",
   "metadata": {},
   "outputs": [
    {
     "name": "stdout",
     "output_type": "stream",
     "text": [
      "scaler_mean : 108.20490454776242\n",
      "\n",
      "scaler_scale\n",
      "12.268957364174673\n",
      "\n"
     ]
    }
   ],
   "source": [
    "# \n",
    "print(f'scaler_mean : {scaler_mean}\\n')\n",
    "print(f'scaler_scale\\n{scaler_scale}\\n')"
   ]
  },
  {
   "cell_type": "code",
   "execution_count": 84,
   "id": "f59f7bcf-a691-4e6e-97df-ddc7f17ae03f",
   "metadata": {},
   "outputs": [],
   "source": [
    "# train標準化時の標準偏差・平均を用いた変換\n",
    "# trainはデータの最後から2番目の配列のセットと最終行が正解となるが、testは最終行までがインプットとなる為、\n",
    "# Adjustmentの引数で両方に対応できるようにする。\n",
    "def get_standardized_t(X, num_date,adjustmet):\n",
    "    X = np.array(X)\n",
    "    X_t_list = []\n",
    "    for i in range(0, len(X) - num_date + adjustmet): # 0 , len(X) - num_date, 6　とすると6日毎の値を得られる\n",
    "        X_t = X[i:i+num_date]\n",
    "        X_standardized = scaler.transform(X_t)\n",
    "        X_t_list.append(X_standardized)\n",
    "    return np.array(X_t_list)"
   ]
  },
  {
   "cell_type": "code",
   "execution_count": 85,
   "id": "cd4283fe-ddb1-4c84-b1a7-156d4e90a11a",
   "metadata": {},
   "outputs": [],
   "source": [
    "# 期間の設定\n",
    "num_date = 6\n",
    "# 関数get_standardized_tの呼び出し\n",
    "train_lstm_in_std = get_standardized_t(X=df_train, num_date=num_date,adjustmet=0)"
   ]
  },
  {
   "cell_type": "code",
   "execution_count": 86,
   "id": "d7c016a5-c59a-4c2c-9285-90a18959be2b",
   "metadata": {},
   "outputs": [
    {
     "name": "stdout",
     "output_type": "stream",
     "text": [
      "train_lstm_in_std配列数 : 2181\n",
      "\n",
      "train_lstm_in_std[0]\n",
      "[[-0.68006686 -0.62288808 -0.64363442 -0.64958305 -0.65237233 -0.65283326]\n",
      " [-0.63808091 -0.6048993  -0.64879073 -0.61030502 -0.63571069 -0.63969146]\n",
      " [-0.56186043 -0.56057114 -0.60431891 -0.54913408 -0.61904906 -0.61046345]\n",
      " [-0.57607111 -0.5265213  -0.54824465 -0.54720245 -0.60238743 -0.59033182]\n",
      " [-0.58253086 -0.53487336 -0.54824465 -0.55943674 -0.58572579 -0.58100413]\n",
      " [-0.56638246 -0.54579476 -0.56242426 -0.52724167 -0.56118543 -0.56401372]]\n",
      "\n",
      "train_lstm_in_std[1]\n",
      "[[-0.63808091 -0.6048993  -0.64879073 -0.61030502 -0.63571069 -0.63969146]\n",
      " [-0.56186043 -0.56057114 -0.60431891 -0.54913408 -0.61904906 -0.61046345]\n",
      " [-0.57607111 -0.5265213  -0.54824465 -0.54720245 -0.60238743 -0.59033182]\n",
      " [-0.58253086 -0.53487336 -0.54824465 -0.55943674 -0.58572579 -0.58100413]\n",
      " [-0.56638246 -0.54579476 -0.56242426 -0.52724167 -0.56118543 -0.56401372]\n",
      " [-0.53408565 -0.48861747 -0.52697622 -0.5059928  -0.54026153 -0.54557725]]\n",
      "\n",
      "train_lstm_in_std[-1]\n",
      "[[-1.33033083 -1.32828904 -1.28951219 -1.2896208  -1.28113433 -1.29475187]\n",
      " [-1.34731898 -1.32854587 -1.35067736 -1.35079174 -1.29250045 -1.31539213]\n",
      " [-1.34660835 -1.38559474 -1.30775204 -1.30501044 -1.29442495 -1.31383462]\n",
      " [-1.47909    -1.53033729 -1.4451648  -1.44364242 -1.33371532 -1.3591803 ]\n",
      " [-1.60330329 -1.71092752 -1.56079233 -1.55928698 -1.39463998 -1.42810357]\n",
      " [-1.65426775 -1.63280637 -1.68647432 -1.68510548 -1.47396992 -1.51614925]]\n",
      "\n"
     ]
    }
   ],
   "source": [
    "# 配列抜粋\n",
    "print(f'train_lstm_in_std配列数 : {len(train_lstm_in_std)}\\n')\n",
    "print(f'train_lstm_in_std[0]\\n{train_lstm_in_std[0]}\\n')\n",
    "print(f'train_lstm_in_std[1]\\n{train_lstm_in_std[1]}\\n')\n",
    "print(f'train_lstm_in_std[-1]\\n{train_lstm_in_std[-1]}\\n')"
   ]
  },
  {
   "cell_type": "code",
   "execution_count": 87,
   "id": "a6499322-9529-4fb8-b937-e8490e627a7a",
   "metadata": {},
   "outputs": [
    {
     "name": "stdout",
     "output_type": "stream",
     "text": [
      "train_lstm_in_std は ndarray型\n",
      "train_lstm_in_std の行数, 列数・・・(2181, 6, 6)\n",
      "\n"
     ]
    }
   ],
   "source": [
    "typeInfo(train_lstm_in_std)"
   ]
  },
  {
   "cell_type": "code",
   "execution_count": 88,
   "id": "73e08a2e-c2cb-4ee1-b5c1-56150e723d26",
   "metadata": {},
   "outputs": [],
   "source": [
    "train_out=df_train['Close'][window_len:]"
   ]
  },
  {
   "cell_type": "code",
   "execution_count": 89,
   "id": "96265411-866f-4fd1-a8bb-ea0c5c11bab1",
   "metadata": {},
   "outputs": [],
   "source": [
    "train_out = [np.array(train_out_data) for train_out_data in train_out]\n",
    "train_out = np.array(train_out)"
   ]
  },
  {
   "cell_type": "code",
   "execution_count": 90,
   "id": "41f6c1ea-0afd-4156-a416-11063caa9fea",
   "metadata": {},
   "outputs": [
    {
     "data": {
      "text/plain": [
       "array([101.99690048, 102.52619904, 103.00809952, ...,  89.07407913,\n",
       "        87.53041725,  88.73279976])"
      ]
     },
     "execution_count": 90,
     "metadata": {},
     "output_type": "execute_result"
    }
   ],
   "source": [
    "train_out"
   ]
  },
  {
   "cell_type": "code",
   "execution_count": 91,
   "id": "62c50269-40d3-489b-8e45-283ad5647300",
   "metadata": {},
   "outputs": [
    {
     "data": {
      "text/plain": [
       "array([-0.5059928 , -0.46285152, -0.42357349, ..., -1.55928698,\n",
       "       -1.68510548, -1.58710347])"
      ]
     },
     "execution_count": 91,
     "metadata": {},
     "output_type": "execute_result"
    }
   ],
   "source": [
    "lstm_train_out_std = (train_out-scaler_mean)/scaler_scale\n",
    "lstm_train_out_std"
   ]
  },
  {
   "cell_type": "code",
   "execution_count": 92,
   "id": "2b4c9811-ccf6-4b77-aead-1107c2b50eed",
   "metadata": {},
   "outputs": [
    {
     "data": {
      "text/plain": [
       "2181"
      ]
     },
     "execution_count": 92,
     "metadata": {},
     "output_type": "execute_result"
    }
   ],
   "source": [
    "len(lstm_train_out_std)"
   ]
  },
  {
   "cell_type": "code",
   "execution_count": 93,
   "id": "a2b0860f-86dd-4a94-b0cc-76788228d36a",
   "metadata": {},
   "outputs": [
    {
     "data": {
      "text/plain": [
       "array([101.99690048, 102.52619904, 103.00809952, ...,  89.07407913,\n",
       "        87.53041725,  88.73279976])"
      ]
     },
     "execution_count": 93,
     "metadata": {},
     "output_type": "execute_result"
    }
   ],
   "source": [
    "lstm_train_out_std*scaler_scale+scaler_mean"
   ]
  },
  {
   "cell_type": "code",
   "execution_count": null,
   "id": "6202541a-e42c-40e7-beba-6d15d21d8005",
   "metadata": {},
   "outputs": [],
   "source": []
  },
  {
   "cell_type": "markdown",
   "id": "071652f7-9ae5-4ce8-9e10-740a69a8655b",
   "metadata": {},
   "source": [
    "#### test"
   ]
  },
  {
   "cell_type": "code",
   "execution_count": 94,
   "id": "6b1b39d9-734f-4f9c-abbd-19b844c4b971",
   "metadata": {},
   "outputs": [],
   "source": [
    "# 期間の設定\n",
    "num_date = 6\n",
    "# 関数get_standardized_tの呼び出し\n",
    "test_lstm_in_std = get_standardized_t(X=df_test, num_date=num_date,adjustmet=1)"
   ]
  },
  {
   "cell_type": "code",
   "execution_count": 95,
   "id": "0096712f-13c5-435f-93cf-9d8becfac5c5",
   "metadata": {},
   "outputs": [
    {
     "name": "stdout",
     "output_type": "stream",
     "text": [
      "test_lstm_in_std配列数 : 1309\n",
      "\n",
      "test_lstm_in_std[0]\n",
      "[[-1.6356001  -1.59599457 -1.60461998 -1.60191342 -1.60750817 -1.60873646]\n",
      " [-1.67545464 -1.64135105 -1.62846755 -1.62509342 -1.60933248 -1.61649211]\n",
      " [-1.63689225 -1.610321   -1.63890851 -1.63732771 -1.6111568  -1.62575594]\n",
      " [-1.63508363 -1.57884148 -1.59894834 -1.59869372 -1.61298111 -1.61900552]\n",
      " [-1.58308576 -1.58719305 -1.58528407 -1.58291795 -1.61480543 -1.60922692]\n",
      " [-1.55660214 -1.53965249 -1.53165962 -1.52593302 -1.59956458 -1.58364162]]\n",
      "\n",
      "test_lstm_in_std[1]\n",
      "[[-1.67545464 -1.64135105 -1.62846755 -1.62509342 -1.60933248 -1.61649211]\n",
      " [-1.63689225 -1.610321   -1.63890851 -1.63732771 -1.6111568  -1.62575594]\n",
      " [-1.63508363 -1.57884148 -1.59894834 -1.59869372 -1.61298111 -1.61900552]\n",
      " [-1.58308576 -1.58719305 -1.58528407 -1.58291795 -1.61480543 -1.60922692]\n",
      " [-1.55660214 -1.53965249 -1.53165962 -1.52593302 -1.59956458 -1.58364162]\n",
      " [-1.68643544 -1.65843993 -1.64567623 -1.64370227 -1.60329731 -1.60598844]]\n",
      "\n",
      "test_lstm_in_std[-1]\n",
      "[[-1.05051126 -0.97366131 -1.00920875 -1.00881535 -0.99002123 -1.00102452]\n",
      " [-1.01595048 -0.9782868  -1.01423574 -1.013387   -0.98503564 -1.00668371]\n",
      " [-1.02538435 -0.95605827 -1.00708152 -1.00617533 -0.99848117 -1.00804359]\n",
      " [-0.97991029 -0.94507267 -0.98297678 -0.98441163 -0.99866199 -1.0016684 ]\n",
      " [-0.97997485 -0.9202101  -0.93876213 -0.93824371 -0.99399933 -0.98197122]\n",
      " [-1.00464985 -0.93190249 -0.96602576 -0.96445084 -0.98510029 -0.97760826]]\n",
      "\n"
     ]
    }
   ],
   "source": [
    "# 配列抜粋\n",
    "print(f'test_lstm_in_std配列数 : {len(test_lstm_in_std)}\\n')\n",
    "print(f'test_lstm_in_std[0]\\n{test_lstm_in_std[0]}\\n')\n",
    "print(f'test_lstm_in_std[1]\\n{test_lstm_in_std[1]}\\n')\n",
    "print(f'test_lstm_in_std[-1]\\n{test_lstm_in_std[-1]}\\n')"
   ]
  },
  {
   "cell_type": "code",
   "execution_count": 96,
   "id": "d1e5c95a-4c66-447b-a69c-549af4946803",
   "metadata": {},
   "outputs": [],
   "source": [
    "test_out=df_test['Close'][window_len:]"
   ]
  },
  {
   "cell_type": "code",
   "execution_count": 97,
   "id": "deaa8f2f-6caa-45fe-8657-cc3cfbb35ac7",
   "metadata": {},
   "outputs": [],
   "source": [
    "test_out = [np.array(test_out_data) for test_out_data in test_out]\n",
    "test_out = np.array(test_out)"
   ]
  },
  {
   "cell_type": "code",
   "execution_count": 98,
   "id": "28171d91-d849-45ea-9028-c1410b2fce19",
   "metadata": {},
   "outputs": [
    {
     "data": {
      "text/plain": [
       "array([88.03839149, 87.6133699 , 87.2926313 , ..., 96.12720024,\n",
       "       96.69363251, 96.37209831])"
      ]
     },
     "execution_count": 98,
     "metadata": {},
     "output_type": "execute_result"
    }
   ],
   "source": [
    "test_out"
   ]
  },
  {
   "cell_type": "code",
   "execution_count": 99,
   "id": "19f97d23-a280-4618-947d-cba4772236a8",
   "metadata": {},
   "outputs": [
    {
     "data": {
      "text/plain": [
       "1308"
      ]
     },
     "execution_count": 99,
     "metadata": {},
     "output_type": "execute_result"
    }
   ],
   "source": [
    "len(test_out)"
   ]
  },
  {
   "cell_type": "code",
   "execution_count": null,
   "id": "188250c7-44a5-4099-b33b-9d00906a4beb",
   "metadata": {},
   "outputs": [],
   "source": []
  },
  {
   "cell_type": "markdown",
   "id": "0ca66618-c070-43be-8322-331c76e9b096",
   "metadata": {},
   "source": [
    "## GBDTの為の前処理"
   ]
  },
  {
   "cell_type": "code",
   "execution_count": 100,
   "id": "412c9ee1-a765-4318-9954-61a268709aa4",
   "metadata": {},
   "outputs": [],
   "source": [
    "# Shift/Diff/Up作成用関数\n",
    "def Diff(data_from,data_to):\n",
    "    shift=data_to.shift(-1)\n",
    "    diff=shift-data_from\n",
    "    diff2=diff.interpolate()\n",
    "    shift=shift.interpolate()\n",
    "    updown=diff2.apply(lambda x:1 if x>=0 else 0)\n",
    "    return shift,diff2,updown"
   ]
  },
  {
   "cell_type": "code",
   "execution_count": 101,
   "id": "792445e6-687d-40e2-b0ff-d4e407e3575b",
   "metadata": {},
   "outputs": [],
   "source": [
    "#翌日終値と当日終値の差のカラム（Diff）を作成\n",
    "df_train[\"Shift\"],df_train[\"Diff\"],df_train[\"Up\"] = Diff(df_train[\"Close\"],df_train[\"Close\"])\n",
    "df_test[\"Shift\"],df_test[\"Diff\"],df_test[\"Up\"] = Diff(df_test[\"Close\"],df_test[\"Close\"])"
   ]
  },
  {
   "cell_type": "code",
   "execution_count": 102,
   "id": "78eebc2f-9028-4589-b3fa-53b6ac1e7d5f",
   "metadata": {},
   "outputs": [
    {
     "name": "stdout",
     "output_type": "stream",
     "text": [
      "train\n",
      "                  High         Low        Open       Close       SMA05  \\\n",
      "Date                                                                     \n",
      "2003-01-23  100.416900   99.950797  100.314203  100.235198  100.235198   \n",
      "2003-01-24  100.930402  100.172002  100.251001  100.717098  100.439018   \n",
      "2003-01-27  101.862602  100.717098  100.796097  101.467602  100.642839   \n",
      "2003-01-28  101.688801  101.135803  101.483405  101.491301  100.846659   \n",
      "2003-01-29  101.609796  101.033100  101.483405  101.341199  101.050480   \n",
      "...                ...         ...         ...         ...         ...   \n",
      "2011-07-07   92.264890   90.571922   92.174042   92.193787   92.381019   \n",
      "2011-07-10   90.644598   88.792047   90.489759   90.492917   91.900383   \n",
      "2011-07-11   89.125431   86.571360   89.072500   89.074079   91.155097   \n",
      "2011-07-12   88.502120   87.532002   87.532002   87.530417   90.184660   \n",
      "2011-07-13   89.185468   88.197968   88.693297   88.732800   89.604800   \n",
      "\n",
      "                 EMA05       Shift      Diff  Up  \n",
      "Date                                              \n",
      "2003-01-23  100.235198  100.717098  0.481900   1  \n",
      "2003-01-24  100.395831  101.467602  0.750504   1  \n",
      "2003-01-27  100.753088  101.491301  0.023699   1  \n",
      "2003-01-28  100.999159  101.341199 -0.150102   0  \n",
      "2003-01-29  101.113172  101.736199  0.395000   1  \n",
      "...                ...         ...       ...  ..  \n",
      "2011-07-07   92.155712   90.492917 -1.700870   0  \n",
      "2011-07-10   91.601447   89.074079 -1.418838   0  \n",
      "2011-07-11   90.758991   87.530417 -1.543662   0  \n",
      "2011-07-12   89.682800   88.732800  1.202383   1  \n",
      "2011-07-13   89.366133   88.732800  1.202383   1  \n",
      "\n",
      "[2187 rows x 9 columns]\n",
      "\n",
      "test\n",
      "                 High        Low       Open      Close      SMA05      EMA05  \\\n",
      "Date                                                                           \n",
      "2011-07-14  88.730431  87.984671  88.535300  88.551097  88.551097  88.551097   \n",
      "2011-07-17  88.242998  87.426930  88.242998  88.266703  88.528780  88.456299   \n",
      "2011-07-18  88.714628  87.808501  88.115022  88.116601  88.506464  88.343066   \n",
      "2011-07-19  88.736748  88.195600  88.604818  88.590600  88.484147  88.425577   \n",
      "2011-07-20  89.372698  88.092902  88.772302  88.784152  88.461830  88.545102   \n",
      "...               ...        ...        ...        ...        ...        ...   \n",
      "2019-12-25  96.308939  95.580519  95.771703  95.771703  96.165754  95.910048   \n",
      "2019-12-26  96.193560  95.853860  95.859393  95.860182  96.001276  95.893426   \n",
      "2019-12-27  96.749722  95.988948  96.154847  96.127200  95.999064  95.971351   \n",
      "2019-12-30  96.748932  96.294679  96.696791  96.693633  96.056102  96.212111   \n",
      "2019-12-31  96.447149  96.150899  96.362617  96.372098  96.164963  96.265440   \n",
      "\n",
      "                Shift      Diff  Up  \n",
      "Date                                 \n",
      "2011-07-14  88.266703 -0.284394   0  \n",
      "2011-07-17  88.116601 -0.150102   0  \n",
      "2011-07-18  88.590600  0.473999   1  \n",
      "2011-07-19  88.784152  0.193552   1  \n",
      "2011-07-20  89.483297  0.699146   1  \n",
      "...               ...       ...  ..  \n",
      "2019-12-25  95.860182  0.088480   1  \n",
      "2019-12-26  96.127200  0.267018   1  \n",
      "2019-12-27  96.693633  0.566432   1  \n",
      "2019-12-30  96.372098 -0.321534   0  \n",
      "2019-12-31  96.372098 -0.321534   0  \n",
      "\n",
      "[1314 rows x 9 columns]\n",
      "\n"
     ]
    }
   ],
   "source": [
    "# \n",
    "print(f'train\\n{df_train}\\n')\n",
    "print(f'test\\n{df_test}\\n')"
   ]
  },
  {
   "cell_type": "code",
   "execution_count": 103,
   "id": "51a4aa3b-6853-450d-8d49-ad65ea7160b2",
   "metadata": {},
   "outputs": [],
   "source": [
    "# drop = ['Diff','Up','Shift']\n",
    "drop = ['Shift','Up']\n",
    "\n",
    "df_train2 = df_train.drop(columns=drop,axis=1) \n",
    "df_test2 = df_test.drop(columns=drop,axis=1) "
   ]
  },
  {
   "cell_type": "code",
   "execution_count": 104,
   "id": "d2431c22-4602-401c-93e0-198e6c305454",
   "metadata": {},
   "outputs": [
    {
     "data": {
      "text/html": [
       "<div>\n",
       "<style scoped>\n",
       "    .dataframe tbody tr th:only-of-type {\n",
       "        vertical-align: middle;\n",
       "    }\n",
       "\n",
       "    .dataframe tbody tr th {\n",
       "        vertical-align: top;\n",
       "    }\n",
       "\n",
       "    .dataframe thead th {\n",
       "        text-align: right;\n",
       "    }\n",
       "</style>\n",
       "<table border=\"1\" class=\"dataframe\">\n",
       "  <thead>\n",
       "    <tr style=\"text-align: right;\">\n",
       "      <th></th>\n",
       "      <th>High</th>\n",
       "      <th>Low</th>\n",
       "      <th>Open</th>\n",
       "      <th>Close</th>\n",
       "      <th>SMA05</th>\n",
       "      <th>EMA05</th>\n",
       "      <th>Diff</th>\n",
       "    </tr>\n",
       "  </thead>\n",
       "  <tbody>\n",
       "    <tr>\n",
       "      <th>High</th>\n",
       "      <td>1.000000</td>\n",
       "      <td>0.997980</td>\n",
       "      <td>0.998923</td>\n",
       "      <td>0.998813</td>\n",
       "      <td>0.998099</td>\n",
       "      <td>0.998761</td>\n",
       "      <td>-0.027457</td>\n",
       "    </tr>\n",
       "    <tr>\n",
       "      <th>Low</th>\n",
       "      <td>0.997980</td>\n",
       "      <td>1.000000</td>\n",
       "      <td>0.998451</td>\n",
       "      <td>0.998895</td>\n",
       "      <td>0.996880</td>\n",
       "      <td>0.997636</td>\n",
       "      <td>-0.025648</td>\n",
       "    </tr>\n",
       "    <tr>\n",
       "      <th>Open</th>\n",
       "      <td>0.998923</td>\n",
       "      <td>0.998451</td>\n",
       "      <td>1.000000</td>\n",
       "      <td>0.997825</td>\n",
       "      <td>0.998252</td>\n",
       "      <td>0.998675</td>\n",
       "      <td>-0.027667</td>\n",
       "    </tr>\n",
       "    <tr>\n",
       "      <th>Close</th>\n",
       "      <td>0.998813</td>\n",
       "      <td>0.998895</td>\n",
       "      <td>0.997825</td>\n",
       "      <td>1.000000</td>\n",
       "      <td>0.997146</td>\n",
       "      <td>0.998103</td>\n",
       "      <td>-0.030519</td>\n",
       "    </tr>\n",
       "    <tr>\n",
       "      <th>SMA05</th>\n",
       "      <td>0.998099</td>\n",
       "      <td>0.996880</td>\n",
       "      <td>0.998252</td>\n",
       "      <td>0.997146</td>\n",
       "      <td>1.000000</td>\n",
       "      <td>0.999800</td>\n",
       "      <td>-0.026675</td>\n",
       "    </tr>\n",
       "    <tr>\n",
       "      <th>EMA05</th>\n",
       "      <td>0.998761</td>\n",
       "      <td>0.997636</td>\n",
       "      <td>0.998675</td>\n",
       "      <td>0.998103</td>\n",
       "      <td>0.999800</td>\n",
       "      <td>1.000000</td>\n",
       "      <td>-0.027191</td>\n",
       "    </tr>\n",
       "    <tr>\n",
       "      <th>Diff</th>\n",
       "      <td>-0.027457</td>\n",
       "      <td>-0.025648</td>\n",
       "      <td>-0.027667</td>\n",
       "      <td>-0.030519</td>\n",
       "      <td>-0.026675</td>\n",
       "      <td>-0.027191</td>\n",
       "      <td>1.000000</td>\n",
       "    </tr>\n",
       "  </tbody>\n",
       "</table>\n",
       "</div>"
      ],
      "text/plain": [
       "           High       Low      Open     Close     SMA05     EMA05      Diff\n",
       "High   1.000000  0.997980  0.998923  0.998813  0.998099  0.998761 -0.027457\n",
       "Low    0.997980  1.000000  0.998451  0.998895  0.996880  0.997636 -0.025648\n",
       "Open   0.998923  0.998451  1.000000  0.997825  0.998252  0.998675 -0.027667\n",
       "Close  0.998813  0.998895  0.997825  1.000000  0.997146  0.998103 -0.030519\n",
       "SMA05  0.998099  0.996880  0.998252  0.997146  1.000000  0.999800 -0.026675\n",
       "EMA05  0.998761  0.997636  0.998675  0.998103  0.999800  1.000000 -0.027191\n",
       "Diff  -0.027457 -0.025648 -0.027667 -0.030519 -0.026675 -0.027191  1.000000"
      ]
     },
     "execution_count": 104,
     "metadata": {},
     "output_type": "execute_result"
    }
   ],
   "source": [
    "Coor=df_train2.corr()\n",
    "Coor"
   ]
  },
  {
   "cell_type": "code",
   "execution_count": 105,
   "id": "36902729-b990-4832-bc1b-176960eb7651",
   "metadata": {},
   "outputs": [],
   "source": [
    "# fig, ax = plt.subplots(figsize=(12, 9)) \n",
    "# sns.heatmap(Coor, square=True, vmax=1, vmin=-0.05,)\n",
    "# # plt.savefig('data/dst/seaborn_heatmap_house_price.png')"
   ]
  },
  {
   "cell_type": "markdown",
   "id": "17e72c88-2b21-49bd-b2cd-f9a550117fe5",
   "metadata": {},
   "source": [
    "## LightGBMによる予測"
   ]
  },
  {
   "cell_type": "code",
   "execution_count": 106,
   "id": "e31767ee-ac73-4262-8c85-1193c82f87ee",
   "metadata": {},
   "outputs": [],
   "source": [
    "#学習データ、検証データ、テストデータの作成\n",
    "drop = ['Diff']\n",
    "\n",
    "X=df_train2.drop(drop,1)\n",
    "y=df_train2[drop]\n",
    "\n",
    "X_test=df_test2.drop(drop,1)"
   ]
  },
  {
   "cell_type": "code",
   "execution_count": 107,
   "id": "126ba8e9-c8e4-4d19-a4e6-3fe22a63a901",
   "metadata": {},
   "outputs": [
    {
     "name": "stdout",
     "output_type": "stream",
     "text": [
      "X\n",
      "                  High         Low        Open       Close       SMA05  \\\n",
      "Date                                                                     \n",
      "2003-01-23  100.416900   99.950797  100.314203  100.235198  100.235198   \n",
      "2003-01-24  100.930402  100.172002  100.251001  100.717098  100.439018   \n",
      "2003-01-27  101.862602  100.717098  100.796097  101.467602  100.642839   \n",
      "2003-01-28  101.688801  101.135803  101.483405  101.491301  100.846659   \n",
      "2003-01-29  101.609796  101.033100  101.483405  101.341199  101.050480   \n",
      "...                ...         ...         ...         ...         ...   \n",
      "2011-07-07   92.264890   90.571922   92.174042   92.193787   92.381019   \n",
      "2011-07-10   90.644598   88.792047   90.489759   90.492917   91.900383   \n",
      "2011-07-11   89.125431   86.571360   89.072500   89.074079   91.155097   \n",
      "2011-07-12   88.502120   87.532002   87.532002   87.530417   90.184660   \n",
      "2011-07-13   89.185468   88.197968   88.693297   88.732800   89.604800   \n",
      "\n",
      "                 EMA05  \n",
      "Date                    \n",
      "2003-01-23  100.235198  \n",
      "2003-01-24  100.395831  \n",
      "2003-01-27  100.753088  \n",
      "2003-01-28  100.999159  \n",
      "2003-01-29  101.113172  \n",
      "...                ...  \n",
      "2011-07-07   92.155712  \n",
      "2011-07-10   91.601447  \n",
      "2011-07-11   90.758991  \n",
      "2011-07-12   89.682800  \n",
      "2011-07-13   89.366133  \n",
      "\n",
      "[2187 rows x 6 columns]\n",
      "\n",
      "Y\n",
      "                Diff\n",
      "Date                \n",
      "2003-01-23  0.481900\n",
      "2003-01-24  0.750504\n",
      "2003-01-27  0.023699\n",
      "2003-01-28 -0.150102\n",
      "2003-01-29  0.395000\n",
      "...              ...\n",
      "2011-07-07 -1.700870\n",
      "2011-07-10 -1.418838\n",
      "2011-07-11 -1.543662\n",
      "2011-07-12  1.202383\n",
      "2011-07-13  1.202383\n",
      "\n",
      "[2187 rows x 1 columns]\n",
      "\n",
      "X_test\n",
      "                 High        Low       Open      Close      SMA05      EMA05\n",
      "Date                                                                        \n",
      "2011-07-14  88.730431  87.984671  88.535300  88.551097  88.551097  88.551097\n",
      "2011-07-17  88.242998  87.426930  88.242998  88.266703  88.528780  88.456299\n",
      "2011-07-18  88.714628  87.808501  88.115022  88.116601  88.506464  88.343066\n",
      "2011-07-19  88.736748  88.195600  88.604818  88.590600  88.484147  88.425577\n",
      "2011-07-20  89.372698  88.092902  88.772302  88.784152  88.461830  88.545102\n",
      "...               ...        ...        ...        ...        ...        ...\n",
      "2019-12-25  96.308939  95.580519  95.771703  95.771703  96.165754  95.910048\n",
      "2019-12-26  96.193560  95.853860  95.859393  95.860182  96.001276  95.893426\n",
      "2019-12-27  96.749722  95.988948  96.154847  96.127200  95.999064  95.971351\n",
      "2019-12-30  96.748932  96.294679  96.696791  96.693633  96.056102  96.212111\n",
      "2019-12-31  96.447149  96.150899  96.362617  96.372098  96.164963  96.265440\n",
      "\n",
      "[1314 rows x 6 columns]\n",
      "\n"
     ]
    }
   ],
   "source": [
    "# \n",
    "print(f'X\\n{X}\\n')\n",
    "print(f'Y\\n{y}\\n')\n",
    "print(f'X_test\\n{X_test}\\n')"
   ]
  },
  {
   "cell_type": "code",
   "execution_count": 108,
   "id": "be70fa26-5786-4418-91e5-89674e98850e",
   "metadata": {},
   "outputs": [
    {
     "data": {
      "text/html": [
       "<div>\n",
       "<style scoped>\n",
       "    .dataframe tbody tr th:only-of-type {\n",
       "        vertical-align: middle;\n",
       "    }\n",
       "\n",
       "    .dataframe tbody tr th {\n",
       "        vertical-align: top;\n",
       "    }\n",
       "\n",
       "    .dataframe thead th {\n",
       "        text-align: right;\n",
       "    }\n",
       "</style>\n",
       "<table border=\"1\" class=\"dataframe\">\n",
       "  <thead>\n",
       "    <tr style=\"text-align: right;\">\n",
       "      <th></th>\n",
       "      <th>High</th>\n",
       "      <th>Low</th>\n",
       "      <th>Open</th>\n",
       "      <th>Close</th>\n",
       "      <th>SMA05</th>\n",
       "      <th>EMA05</th>\n",
       "    </tr>\n",
       "    <tr>\n",
       "      <th>Date</th>\n",
       "      <th></th>\n",
       "      <th></th>\n",
       "      <th></th>\n",
       "      <th></th>\n",
       "      <th></th>\n",
       "      <th></th>\n",
       "    </tr>\n",
       "  </thead>\n",
       "  <tbody>\n",
       "    <tr>\n",
       "      <th>2003-01-23</th>\n",
       "      <td>100.416900</td>\n",
       "      <td>99.950797</td>\n",
       "      <td>100.314203</td>\n",
       "      <td>100.235198</td>\n",
       "      <td>100.235198</td>\n",
       "      <td>100.235198</td>\n",
       "    </tr>\n",
       "    <tr>\n",
       "      <th>2003-01-24</th>\n",
       "      <td>100.930402</td>\n",
       "      <td>100.172002</td>\n",
       "      <td>100.251001</td>\n",
       "      <td>100.717098</td>\n",
       "      <td>100.439018</td>\n",
       "      <td>100.395831</td>\n",
       "    </tr>\n",
       "    <tr>\n",
       "      <th>2003-01-27</th>\n",
       "      <td>101.862602</td>\n",
       "      <td>100.717098</td>\n",
       "      <td>100.796097</td>\n",
       "      <td>101.467602</td>\n",
       "      <td>100.642839</td>\n",
       "      <td>100.753088</td>\n",
       "    </tr>\n",
       "    <tr>\n",
       "      <th>2003-01-28</th>\n",
       "      <td>101.688801</td>\n",
       "      <td>101.135803</td>\n",
       "      <td>101.483405</td>\n",
       "      <td>101.491301</td>\n",
       "      <td>100.846659</td>\n",
       "      <td>100.999159</td>\n",
       "    </tr>\n",
       "    <tr>\n",
       "      <th>2003-01-29</th>\n",
       "      <td>101.609796</td>\n",
       "      <td>101.033100</td>\n",
       "      <td>101.483405</td>\n",
       "      <td>101.341199</td>\n",
       "      <td>101.050480</td>\n",
       "      <td>101.113172</td>\n",
       "    </tr>\n",
       "    <tr>\n",
       "      <th>...</th>\n",
       "      <td>...</td>\n",
       "      <td>...</td>\n",
       "      <td>...</td>\n",
       "      <td>...</td>\n",
       "      <td>...</td>\n",
       "      <td>...</td>\n",
       "    </tr>\n",
       "    <tr>\n",
       "      <th>2009-11-02</th>\n",
       "      <td>106.199694</td>\n",
       "      <td>104.276842</td>\n",
       "      <td>104.276842</td>\n",
       "      <td>105.495811</td>\n",
       "      <td>106.036487</td>\n",
       "      <td>106.056963</td>\n",
       "    </tr>\n",
       "    <tr>\n",
       "      <th>2009-11-03</th>\n",
       "      <td>105.814181</td>\n",
       "      <td>104.066697</td>\n",
       "      <td>105.489495</td>\n",
       "      <td>105.180600</td>\n",
       "      <td>105.620946</td>\n",
       "      <td>105.764842</td>\n",
       "    </tr>\n",
       "    <tr>\n",
       "      <th>2009-11-04</th>\n",
       "      <td>107.202998</td>\n",
       "      <td>104.698699</td>\n",
       "      <td>105.164796</td>\n",
       "      <td>106.522814</td>\n",
       "      <td>105.858105</td>\n",
       "      <td>106.017499</td>\n",
       "    </tr>\n",
       "    <tr>\n",
       "      <th>2009-11-05</th>\n",
       "      <td>106.720314</td>\n",
       "      <td>105.412069</td>\n",
       "      <td>106.428801</td>\n",
       "      <td>106.689502</td>\n",
       "      <td>105.742766</td>\n",
       "      <td>106.241500</td>\n",
       "    </tr>\n",
       "    <tr>\n",
       "      <th>2009-11-06</th>\n",
       "      <td>106.657896</td>\n",
       "      <td>105.235905</td>\n",
       "      <td>106.657896</td>\n",
       "      <td>105.385995</td>\n",
       "      <td>105.854944</td>\n",
       "      <td>105.956332</td>\n",
       "    </tr>\n",
       "  </tbody>\n",
       "</table>\n",
       "<p>1749 rows × 6 columns</p>\n",
       "</div>"
      ],
      "text/plain": [
       "                  High         Low        Open       Close       SMA05  \\\n",
       "Date                                                                     \n",
       "2003-01-23  100.416900   99.950797  100.314203  100.235198  100.235198   \n",
       "2003-01-24  100.930402  100.172002  100.251001  100.717098  100.439018   \n",
       "2003-01-27  101.862602  100.717098  100.796097  101.467602  100.642839   \n",
       "2003-01-28  101.688801  101.135803  101.483405  101.491301  100.846659   \n",
       "2003-01-29  101.609796  101.033100  101.483405  101.341199  101.050480   \n",
       "...                ...         ...         ...         ...         ...   \n",
       "2009-11-02  106.199694  104.276842  104.276842  105.495811  106.036487   \n",
       "2009-11-03  105.814181  104.066697  105.489495  105.180600  105.620946   \n",
       "2009-11-04  107.202998  104.698699  105.164796  106.522814  105.858105   \n",
       "2009-11-05  106.720314  105.412069  106.428801  106.689502  105.742766   \n",
       "2009-11-06  106.657896  105.235905  106.657896  105.385995  105.854944   \n",
       "\n",
       "                 EMA05  \n",
       "Date                    \n",
       "2003-01-23  100.235198  \n",
       "2003-01-24  100.395831  \n",
       "2003-01-27  100.753088  \n",
       "2003-01-28  100.999159  \n",
       "2003-01-29  101.113172  \n",
       "...                ...  \n",
       "2009-11-02  106.056963  \n",
       "2009-11-03  105.764842  \n",
       "2009-11-04  106.017499  \n",
       "2009-11-05  106.241500  \n",
       "2009-11-06  105.956332  \n",
       "\n",
       "[1749 rows x 6 columns]"
      ]
     },
     "execution_count": 108,
     "metadata": {},
     "output_type": "execute_result"
    }
   ],
   "source": [
    "# 学習データと検証データに80:20の割合で2分割する\n",
    "from sklearn.model_selection import train_test_split\n",
    "X_train,X_val,y_train,y_val=train_test_split(X, y, test_size=0.20, shuffle=False)\n",
    "X_train"
   ]
  },
  {
   "cell_type": "code",
   "execution_count": 109,
   "id": "634bfbd9-578f-4bef-8b56-643cbdde306c",
   "metadata": {},
   "outputs": [
    {
     "data": {
      "text/html": [
       "<div>\n",
       "<style scoped>\n",
       "    .dataframe tbody tr th:only-of-type {\n",
       "        vertical-align: middle;\n",
       "    }\n",
       "\n",
       "    .dataframe tbody tr th {\n",
       "        vertical-align: top;\n",
       "    }\n",
       "\n",
       "    .dataframe thead th {\n",
       "        text-align: right;\n",
       "    }\n",
       "</style>\n",
       "<table border=\"1\" class=\"dataframe\">\n",
       "  <thead>\n",
       "    <tr style=\"text-align: right;\">\n",
       "      <th></th>\n",
       "      <th>Diff</th>\n",
       "    </tr>\n",
       "    <tr>\n",
       "      <th>Date</th>\n",
       "      <th></th>\n",
       "    </tr>\n",
       "  </thead>\n",
       "  <tbody>\n",
       "    <tr>\n",
       "      <th>2003-01-23</th>\n",
       "      <td>0.481900</td>\n",
       "    </tr>\n",
       "    <tr>\n",
       "      <th>2003-01-24</th>\n",
       "      <td>0.750504</td>\n",
       "    </tr>\n",
       "    <tr>\n",
       "      <th>2003-01-27</th>\n",
       "      <td>0.023699</td>\n",
       "    </tr>\n",
       "    <tr>\n",
       "      <th>2003-01-28</th>\n",
       "      <td>-0.150102</td>\n",
       "    </tr>\n",
       "    <tr>\n",
       "      <th>2003-01-29</th>\n",
       "      <td>0.395000</td>\n",
       "    </tr>\n",
       "    <tr>\n",
       "      <th>...</th>\n",
       "      <td>...</td>\n",
       "    </tr>\n",
       "    <tr>\n",
       "      <th>2009-11-02</th>\n",
       "      <td>-0.315212</td>\n",
       "    </tr>\n",
       "    <tr>\n",
       "      <th>2009-11-03</th>\n",
       "      <td>1.342214</td>\n",
       "    </tr>\n",
       "    <tr>\n",
       "      <th>2009-11-04</th>\n",
       "      <td>0.166689</td>\n",
       "    </tr>\n",
       "    <tr>\n",
       "      <th>2009-11-05</th>\n",
       "      <td>-1.303507</td>\n",
       "    </tr>\n",
       "    <tr>\n",
       "      <th>2009-11-06</th>\n",
       "      <td>1.109949</td>\n",
       "    </tr>\n",
       "  </tbody>\n",
       "</table>\n",
       "<p>1749 rows × 1 columns</p>\n",
       "</div>"
      ],
      "text/plain": [
       "                Diff\n",
       "Date                \n",
       "2003-01-23  0.481900\n",
       "2003-01-24  0.750504\n",
       "2003-01-27  0.023699\n",
       "2003-01-28 -0.150102\n",
       "2003-01-29  0.395000\n",
       "...              ...\n",
       "2009-11-02 -0.315212\n",
       "2009-11-03  1.342214\n",
       "2009-11-04  0.166689\n",
       "2009-11-05 -1.303507\n",
       "2009-11-06  1.109949\n",
       "\n",
       "[1749 rows x 1 columns]"
      ]
     },
     "execution_count": 109,
     "metadata": {},
     "output_type": "execute_result"
    }
   ],
   "source": [
    "y_train"
   ]
  },
  {
   "cell_type": "code",
   "execution_count": 110,
   "id": "85478696-5011-4b0c-bcd6-a0ce611f428c",
   "metadata": {},
   "outputs": [
    {
     "name": "stdout",
     "output_type": "stream",
     "text": [
      "[LightGBM] [Warning] Auto-choosing col-wise multi-threading, the overhead of testing was 0.000568 seconds.\n",
      "You can set `force_col_wise=true` to remove the overhead.\n",
      "[LightGBM] [Info] Total Bins 1530\n",
      "[LightGBM] [Info] Number of data points in the train set: 1749, number of used features: 6\n",
      "[LightGBM] [Info] Start training from score 0.003580\n",
      "Training until validation scores don't improve for 20 rounds\n",
      "[10]\ttraining's rmse: 0.8927\tvalid_1's rmse: 0.86919\n",
      "[20]\ttraining's rmse: 0.89269\tvalid_1's rmse: 0.869189\n",
      "[30]\ttraining's rmse: 0.89268\tvalid_1's rmse: 0.869189\n",
      "[40]\ttraining's rmse: 0.892669\tvalid_1's rmse: 0.869189\n",
      "[50]\ttraining's rmse: 0.892659\tvalid_1's rmse: 0.869188\n",
      "[60]\ttraining's rmse: 0.892649\tvalid_1's rmse: 0.869188\n",
      "[70]\ttraining's rmse: 0.892639\tvalid_1's rmse: 0.869188\n",
      "[80]\ttraining's rmse: 0.892629\tvalid_1's rmse: 0.869188\n",
      "[90]\ttraining's rmse: 0.892619\tvalid_1's rmse: 0.869187\n",
      "[100]\ttraining's rmse: 0.892609\tvalid_1's rmse: 0.869187\n",
      "[110]\ttraining's rmse: 0.892599\tvalid_1's rmse: 0.869187\n",
      "[120]\ttraining's rmse: 0.892589\tvalid_1's rmse: 0.869187\n",
      "[130]\ttraining's rmse: 0.892579\tvalid_1's rmse: 0.869186\n",
      "[140]\ttraining's rmse: 0.89257\tvalid_1's rmse: 0.869186\n",
      "[150]\ttraining's rmse: 0.89256\tvalid_1's rmse: 0.869186\n",
      "[160]\ttraining's rmse: 0.89255\tvalid_1's rmse: 0.869186\n",
      "[170]\ttraining's rmse: 0.89254\tvalid_1's rmse: 0.869186\n",
      "[180]\ttraining's rmse: 0.89253\tvalid_1's rmse: 0.869185\n",
      "[190]\ttraining's rmse: 0.89252\tvalid_1's rmse: 0.869185\n",
      "[200]\ttraining's rmse: 0.89251\tvalid_1's rmse: 0.869185\n",
      "Did not meet early stopping. Best iteration is:\n",
      "[200]\ttraining's rmse: 0.89251\tvalid_1's rmse: 0.869185\n",
      "RMSE= 0.8691849299596262\n",
      "{'objective': 'regression', 'metrics': 'rmse', 'boosting_type': 'gbdt', 'num_leaves': 31, 'learning_rate': 1e-05, 'min_data_in_leaf': 20, 'num_iterations': 200, 'early_stopping_round': 20}\n"
     ]
    },
    {
     "data": {
      "image/png": "[encoded data removed]",
      "text/plain": [
       "<Figure size 576x1152 with 1 Axes>"
      ]
     },
     "metadata": {
      "needs_background": "light"
     },
     "output_type": "display_data"
    }
   ],
   "source": [
    "#lightGBM\n",
    "import lightgbm as lgb\n",
    "from sklearn.metrics import mean_squared_error\n",
    "lgb_train = lgb.Dataset(X_train, y_train)\n",
    "lgb_eval = lgb.Dataset(X_val, y_val, reference=lgb_train)\n",
    "params={\"objective\":\"regression\",\"metrics\":\"rmse\",\"boosting_type\": \"gbdt\",\"num_leaves\": 31,\"learning_rate\":0.00001,\"min_data_in_leaf\":20}\n",
    "model=lgb.train(params,lgb_train,valid_sets=[lgb_train,lgb_eval],num_boost_round=200,early_stopping_rounds=20,verbose_eval=10)\n",
    "y_pred = model.predict(X_val, num_iteration=model.best_iteration)\n",
    "print(\"RMSE=\",np.sqrt(mean_squared_error(y_val,y_pred)))\n",
    "lgb.plot_importance(model, importance_type=\"gain\", height=0.5, figsize=(8,16))\n",
    "print(model.params)"
   ]
  },
  {
   "cell_type": "code",
   "execution_count": 111,
   "id": "8e5919ad-2f23-465a-bbaf-0e59c021d645",
   "metadata": {},
   "outputs": [],
   "source": [
    "#submitデータ作成\n",
    "#lightGBM\n",
    "y_pred_gbdt = model.predict(X_test, num_iteration=model.best_iteration)"
   ]
  },
  {
   "cell_type": "code",
   "execution_count": 112,
   "id": "13a922d8-d441-4da2-9fc8-e7e0f0c28986",
   "metadata": {},
   "outputs": [
    {
     "name": "stdout",
     "output_type": "stream",
     "text": [
      "y_pred_gbdt は ndarray型\n",
      "y_pred_gbdt の行数, 列数・・・(1314,)\n",
      "\n"
     ]
    }
   ],
   "source": [
    "typeInfo(y_pred_gbdt)"
   ]
  },
  {
   "cell_type": "code",
   "execution_count": 113,
   "id": "329a9d86-796c-4720-859b-28e7c133a076",
   "metadata": {},
   "outputs": [
    {
     "data": {
      "text/plain": [
       "array([0.00532339, 0.00532339, 0.00532339, ..., 0.00384786, 0.00384786,\n",
       "       0.00384786])"
      ]
     },
     "execution_count": 113,
     "metadata": {},
     "output_type": "execute_result"
    }
   ],
   "source": [
    "y_pred_gbdt"
   ]
  },
  {
   "cell_type": "code",
   "execution_count": 114,
   "id": "3c401154-3bd7-4391-bb96-749e55b1d038",
   "metadata": {},
   "outputs": [],
   "source": [
    "test_out_gbdt=df_test['Close']"
   ]
  },
  {
   "cell_type": "code",
   "execution_count": 115,
   "id": "77845ece-06b2-4a79-b7b1-dc8b7e5ab2bf",
   "metadata": {},
   "outputs": [],
   "source": [
    "test_out_gbdt = [np.array(test_out_data) for test_out_data in test_out_gbdt]\n",
    "test_out_gbdt = np.array(test_out_gbdt)"
   ]
  },
  {
   "cell_type": "code",
   "execution_count": 116,
   "id": "6444757a-f2d9-4794-94d5-ae1584b3adf8",
   "metadata": {},
   "outputs": [
    {
     "data": {
      "text/plain": [
       "array([88.55109711, 88.26670265, 88.11660072, ..., 96.12720024,\n",
       "       96.69363251, 96.37209831])"
      ]
     },
     "execution_count": 116,
     "metadata": {},
     "output_type": "execute_result"
    }
   ],
   "source": [
    "test_out_gbdt"
   ]
  },
  {
   "cell_type": "code",
   "execution_count": 117,
   "id": "38956e0f-e1fe-45ca-893b-85733db90378",
   "metadata": {},
   "outputs": [],
   "source": [
    "y_pred3_close_gbdt = y_pred_gbdt+test_out_gbdt"
   ]
  },
  {
   "cell_type": "code",
   "execution_count": 118,
   "id": "04417334-aa54-496b-ade3-76ae4dc2a971",
   "metadata": {},
   "outputs": [
    {
     "data": {
      "text/plain": [
       "array([ 89.48862074,  88.07531561,  86.69518431,  86.59722387,\n",
       "        84.05658117,  82.37072508,  83.42932219,  85.03302122,\n",
       "        83.49252363,  81.27262556,  81.89672628,  80.61692411,\n",
       "        77.98385397,  78.92553503,  79.0448258 ,  81.74978262,\n",
       "        85.34902243,  86.25515493,  86.53876585,  84.33150084,\n",
       "        84.46817411,  81.6123258 ,  78.89946127,  79.1238246 ,\n",
       "        79.31263334,  78.16239233,  76.36909498,  75.25835638,\n",
       "        77.37002363,  77.60702604,  79.70052122,  79.17596609,\n",
       "        80.09868551,  82.0073258 ,  80.01336416,  83.76665373,\n",
       "        84.40734137,  88.2799217 ,  90.27072508,  94.88680052,\n",
       "        98.6147905 ,  98.0578399 ,  95.53301512,  98.65192421,\n",
       "        95.35843061, 103.21327748, 102.06136618, 103.76014571,\n",
       "       104.54459132, 101.81962637, 101.56434803, 102.19961859,\n",
       "       104.1148477 , 103.76330397, 102.37104483, 102.79142018,\n",
       "       104.61748003, 105.38457658, 104.93269167, 106.19290459,\n",
       "       103.99159373, 107.82740273, 109.86094243, 112.48848561,\n",
       "       113.17657735, 112.18274877, 110.06317983, 110.41394002,\n",
       "       110.56404195, 111.47412831, 110.89110311, 111.22763906,\n",
       "       111.78933995, 111.10598561, 109.77010015, 110.54034291,\n",
       "       109.59154973, 109.86885015, 108.10319966, 108.70131329,\n",
       "       108.1946184 , 108.00610943, 109.34191301, 109.45173024,\n",
       "       108.08589779, 108.08968331, 112.63385015, 117.17002156,\n",
       "       117.23164388, 115.47073079, 114.49823857, 106.76098561,\n",
       "       105.89516128, 107.13221093, 105.65026321, 101.8259429 ,\n",
       "       102.48717734, 101.5786701 , 102.15902355, 106.34536919,\n",
       "       106.24266534, 110.13111867, 110.49057012, 107.76564898,\n",
       "       106.74510659, 107.23174447, 109.6302686 , 107.51157589,\n",
       "       107.52641534, 106.18025948, 106.90863717, 105.80036514,\n",
       "       104.62379656, 104.14171706, 105.7719287 , 104.88745585,\n",
       "       103.18799931, 101.3830418 , 102.73572017, 100.57508084,\n",
       "        98.49075715,  99.65551968,  99.52753765,  97.39898019,\n",
       "        97.60911927,  96.63741662,  97.25124696,  95.89797898,\n",
       "        93.1463246 ,  90.42951223,  92.30102484,  91.71721609,\n",
       "        89.5889559 ,  89.67111296,  91.07652243,  89.29191633,\n",
       "        91.33327604,  89.89231199,  90.36868551,  92.50958479,\n",
       "        95.94539762,  97.30101975,  97.11379014,  96.15314744,\n",
       "        96.59240782,  95.51169081,  94.22003912,  96.22268598,\n",
       "        94.56605589,  93.25218069,  92.58858358,  97.63123917,\n",
       "        97.80425057,  98.71986306,  97.70154672, 101.22504421,\n",
       "       101.89200557, 102.55353705, 102.0234429 , 103.24093038,\n",
       "       102.75113423, 105.94493408, 104.40734697, 105.89595687,\n",
       "       104.75019945, 104.36447382, 105.47383974, 104.79839311,\n",
       "       107.00107064, 107.17249688, 106.54049447, 105.64132417,\n",
       "       104.17329035, 103.58554915, 103.82650542, 103.91498503,\n",
       "       104.89951784, 102.70600165, 103.36969594, 101.64618527,\n",
       "       101.19265392, 101.9664481 , 103.94973799, 102.65780798,\n",
       "        99.67369175, 102.58167644, 101.80115123, 104.71860475,\n",
       "       102.69336859, 102.1269303 , 102.05631969, 101.75473591,\n",
       "       101.88805171, 101.16500103,  99.52833325,  98.10997537,\n",
       "        98.63612084,  98.37541939,  99.70687161,  99.03744339,\n",
       "        98.37541939,  99.11011963,  99.55410286,  98.04914864,\n",
       "        97.10904672,  95.97462965,  96.25031831,  96.6279358 ,\n",
       "        95.99200613,  95.83163984,  93.35962194,  92.94329161,\n",
       "        93.68362844,  95.67126753,  95.55276632,  95.04085028,\n",
       "        95.39950613,  96.41229032,  96.37594618])"
      ]
     },
     "execution_count": 118,
     "metadata": {},
     "output_type": "execute_result"
    }
   ],
   "source": [
    "y_pred_6_gbdt=y_pred3_close_gbdt[5::6]\n",
    "y_pred_6_gbdt"
   ]
  },
  {
   "cell_type": "code",
   "execution_count": 119,
   "id": "775554af-4d7d-4385-8182-1d9237f5d2a6",
   "metadata": {},
   "outputs": [
    {
     "data": {
      "text/plain": [
       "219"
      ]
     },
     "execution_count": 119,
     "metadata": {},
     "output_type": "execute_result"
    }
   ],
   "source": [
    "len(y_pred_6_gbdt)"
   ]
  },
  {
   "cell_type": "code",
   "execution_count": 120,
   "id": "20cc36af-1342-4194-a6a4-eaa1f210f6fc",
   "metadata": {},
   "outputs": [
    {
     "data": {
      "text/plain": [
       "0      89.488621\n",
       "1      88.075316\n",
       "2      86.695184\n",
       "3      86.597224\n",
       "4      84.056581\n",
       "         ...    \n",
       "214    95.552766\n",
       "215    95.040850\n",
       "216    95.399506\n",
       "217    96.412290\n",
       "218    96.375946\n",
       "Length: 219, dtype: float64"
      ]
     },
     "execution_count": 120,
     "metadata": {},
     "output_type": "execute_result"
    }
   ],
   "source": [
    "Df_Pred_Array_gbdt = pd.Series(y_pred_6_gbdt)\n",
    "Df_Pred_Array_gbdt"
   ]
  },
  {
   "cell_type": "code",
   "execution_count": 121,
   "id": "683dd18f-cbd0-4b61-b0bd-75da1c28a6fa",
   "metadata": {},
   "outputs": [
    {
     "data": {
      "text/html": [
       "<div>\n",
       "<style scoped>\n",
       "    .dataframe tbody tr th:only-of-type {\n",
       "        vertical-align: middle;\n",
       "    }\n",
       "\n",
       "    .dataframe tbody tr th {\n",
       "        vertical-align: top;\n",
       "    }\n",
       "\n",
       "    .dataframe thead th {\n",
       "        text-align: right;\n",
       "    }\n",
       "</style>\n",
       "<table border=\"1\" class=\"dataframe\">\n",
       "  <thead>\n",
       "    <tr style=\"text-align: right;\">\n",
       "      <th></th>\n",
       "      <th>Date</th>\n",
       "      <th>1</th>\n",
       "    </tr>\n",
       "  </thead>\n",
       "  <tbody>\n",
       "    <tr>\n",
       "      <th>0</th>\n",
       "      <td>2011-07-24</td>\n",
       "      <td>89.488621</td>\n",
       "    </tr>\n",
       "    <tr>\n",
       "      <th>1</th>\n",
       "      <td>2011-08-07</td>\n",
       "      <td>88.075316</td>\n",
       "    </tr>\n",
       "    <tr>\n",
       "      <th>2</th>\n",
       "      <td>2011-08-21</td>\n",
       "      <td>86.695184</td>\n",
       "    </tr>\n",
       "    <tr>\n",
       "      <th>3</th>\n",
       "      <td>2011-09-04</td>\n",
       "      <td>86.597224</td>\n",
       "    </tr>\n",
       "    <tr>\n",
       "      <th>4</th>\n",
       "      <td>2011-09-18</td>\n",
       "      <td>84.056581</td>\n",
       "    </tr>\n",
       "    <tr>\n",
       "      <th>...</th>\n",
       "      <td>...</td>\n",
       "      <td>...</td>\n",
       "    </tr>\n",
       "    <tr>\n",
       "      <th>214</th>\n",
       "      <td>2019-11-06</td>\n",
       "      <td>95.552766</td>\n",
       "    </tr>\n",
       "    <tr>\n",
       "      <th>215</th>\n",
       "      <td>2019-11-20</td>\n",
       "      <td>95.040850</td>\n",
       "    </tr>\n",
       "    <tr>\n",
       "      <th>216</th>\n",
       "      <td>2019-12-04</td>\n",
       "      <td>95.399506</td>\n",
       "    </tr>\n",
       "    <tr>\n",
       "      <th>217</th>\n",
       "      <td>2019-12-18</td>\n",
       "      <td>96.412290</td>\n",
       "    </tr>\n",
       "    <tr>\n",
       "      <th>218</th>\n",
       "      <td>2020-01-01</td>\n",
       "      <td>96.375946</td>\n",
       "    </tr>\n",
       "  </tbody>\n",
       "</table>\n",
       "<p>219 rows × 2 columns</p>\n",
       "</div>"
      ],
      "text/plain": [
       "           Date          1\n",
       "0    2011-07-24  89.488621\n",
       "1    2011-08-07  88.075316\n",
       "2    2011-08-21  86.695184\n",
       "3    2011-09-04  86.597224\n",
       "4    2011-09-18  84.056581\n",
       "..          ...        ...\n",
       "214  2019-11-06  95.552766\n",
       "215  2019-11-20  95.040850\n",
       "216  2019-12-04  95.399506\n",
       "217  2019-12-18  96.412290\n",
       "218  2020-01-01  96.375946\n",
       "\n",
       "[219 rows x 2 columns]"
      ]
     },
     "execution_count": 121,
     "metadata": {},
     "output_type": "execute_result"
    }
   ],
   "source": [
    "df_submit3[1]=Df_Pred_Array_gbdt\n",
    "df_submit3"
   ]
  },
  {
   "cell_type": "code",
   "execution_count": 122,
   "id": "42905acf-bf53-4c77-94a2-7cfabf542c34",
   "metadata": {},
   "outputs": [],
   "source": [
    "# 線形補間\n",
    "df_submit3=df_submit3.interpolate()"
   ]
  },
  {
   "cell_type": "code",
   "execution_count": 123,
   "id": "0e4edccd-df81-4ecd-ab88-ef6a80a3fff2",
   "metadata": {},
   "outputs": [],
   "source": [
    "df_submit3 = df_submit3.set_index(\"Date\") #indexにDateを指定する。"
   ]
  },
  {
   "cell_type": "code",
   "execution_count": 124,
   "id": "dadf8d38-6c3b-499f-b226-635699d6fac3",
   "metadata": {},
   "outputs": [
    {
     "data": {
      "text/html": [
       "<div>\n",
       "<style scoped>\n",
       "    .dataframe tbody tr th:only-of-type {\n",
       "        vertical-align: middle;\n",
       "    }\n",
       "\n",
       "    .dataframe tbody tr th {\n",
       "        vertical-align: top;\n",
       "    }\n",
       "\n",
       "    .dataframe thead th {\n",
       "        text-align: right;\n",
       "    }\n",
       "</style>\n",
       "<table border=\"1\" class=\"dataframe\">\n",
       "  <thead>\n",
       "    <tr style=\"text-align: right;\">\n",
       "      <th></th>\n",
       "      <th>y</th>\n",
       "    </tr>\n",
       "    <tr>\n",
       "      <th>Date</th>\n",
       "      <th></th>\n",
       "    </tr>\n",
       "  </thead>\n",
       "  <tbody>\n",
       "    <tr>\n",
       "      <th>2011-07-24</th>\n",
       "      <td>89.488621</td>\n",
       "    </tr>\n",
       "    <tr>\n",
       "      <th>2011-08-07</th>\n",
       "      <td>88.075316</td>\n",
       "    </tr>\n",
       "    <tr>\n",
       "      <th>2011-08-21</th>\n",
       "      <td>86.695184</td>\n",
       "    </tr>\n",
       "    <tr>\n",
       "      <th>2011-09-04</th>\n",
       "      <td>86.597224</td>\n",
       "    </tr>\n",
       "    <tr>\n",
       "      <th>2011-09-18</th>\n",
       "      <td>84.056581</td>\n",
       "    </tr>\n",
       "    <tr>\n",
       "      <th>...</th>\n",
       "      <td>...</td>\n",
       "    </tr>\n",
       "    <tr>\n",
       "      <th>2019-11-06</th>\n",
       "      <td>95.552766</td>\n",
       "    </tr>\n",
       "    <tr>\n",
       "      <th>2019-11-20</th>\n",
       "      <td>95.040850</td>\n",
       "    </tr>\n",
       "    <tr>\n",
       "      <th>2019-12-04</th>\n",
       "      <td>95.399506</td>\n",
       "    </tr>\n",
       "    <tr>\n",
       "      <th>2019-12-18</th>\n",
       "      <td>96.412290</td>\n",
       "    </tr>\n",
       "    <tr>\n",
       "      <th>2020-01-01</th>\n",
       "      <td>96.375946</td>\n",
       "    </tr>\n",
       "  </tbody>\n",
       "</table>\n",
       "<p>219 rows × 1 columns</p>\n",
       "</div>"
      ],
      "text/plain": [
       "                    y\n",
       "Date                 \n",
       "2011-07-24  89.488621\n",
       "2011-08-07  88.075316\n",
       "2011-08-21  86.695184\n",
       "2011-09-04  86.597224\n",
       "2011-09-18  84.056581\n",
       "...               ...\n",
       "2019-11-06  95.552766\n",
       "2019-11-20  95.040850\n",
       "2019-12-04  95.399506\n",
       "2019-12-18  96.412290\n",
       "2020-01-01  96.375946\n",
       "\n",
       "[219 rows x 1 columns]"
      ]
     },
     "execution_count": 124,
     "metadata": {},
     "output_type": "execute_result"
    }
   ],
   "source": [
    "# 指定の様式（インデックスはDate、カラム名は「y」のみ）をお守りください。\n",
    "df_submit3 = df_submit3.rename(columns={1: 'y'}) #カラム名「1」を「y」に変更する。\n",
    "df_submit3.to_csv('y_submit_gbdt.csv') #投稿するファイルを書き出す。\n",
    "df_submit3 #投稿する中身を確認する。"
   ]
  },
  {
   "cell_type": "code",
   "execution_count": null,
   "id": "57ddb863-6057-4a0b-95e5-2cd47efea6c7",
   "metadata": {},
   "outputs": [],
   "source": []
  },
  {
   "cell_type": "markdown",
   "id": "8e920fb1-738b-4a2e-adae-22277451439c",
   "metadata": {},
   "source": [
    "## LSTMモデルの定義"
   ]
  },
  {
   "cell_type": "code",
   "execution_count": 125,
   "id": "f72edeeb-f600-4470-b058-9fec754d6d63",
   "metadata": {},
   "outputs": [],
   "source": [
    "# モデルの定義\n",
    "from keras.models import Sequential\n",
    "from keras.layers import Activation, Dense\n",
    "from keras.layers import LSTM\n",
    "from keras.layers import Dropout"
   ]
  },
  {
   "cell_type": "code",
   "execution_count": 126,
   "id": "c60224ae-815e-45cf-84de-66bc7610cb75",
   "metadata": {},
   "outputs": [],
   "source": [
    "# LSTMのモデルを設定\n",
    "def build_model(inputs, output_size, neurons, activ_func=\"linear\",\n",
    "                dropout=0.25, loss=\"mae\", optimizer=\"adam\"):\n",
    "    model = Sequential()\n",
    " \n",
    "    model.add(LSTM(neurons, input_shape=(inputs.shape[1], inputs.shape[2]))) #バッチ数、時系列データ数、特徴量数\n",
    "    model.add(Dropout(dropout)) \n",
    "    model.add(Dense(units=output_size))\n",
    "    model.add(Activation(activ_func))\n",
    " \n",
    "    model.compile(loss=loss, optimizer=optimizer)\n",
    "    return model"
   ]
  },
  {
   "cell_type": "code",
   "execution_count": null,
   "id": "334500b5-270c-41b8-9349-4a1697674a01",
   "metadata": {},
   "outputs": [],
   "source": []
  },
  {
   "cell_type": "markdown",
   "id": "8725a249-19e4-48ed-86af-adccc81492c3",
   "metadata": {},
   "source": [
    "## データの学習と予測"
   ]
  },
  {
   "cell_type": "markdown",
   "id": "3c00a539-8175-4541-95d9-9f07005302d1",
   "metadata": {},
   "source": [
    "### 標準化されたデータによる予測"
   ]
  },
  {
   "cell_type": "code",
   "execution_count": 127,
   "id": "594bde70-7740-41d8-a5d0-1aca36932b9d",
   "metadata": {},
   "outputs": [
    {
     "name": "stdout",
     "output_type": "stream",
     "text": [
      "Epoch 1/20\n",
      "2181/2181 - 4s - loss: 0.1462\n",
      "Epoch 2/20\n",
      "2181/2181 - 3s - loss: 0.1290\n",
      "Epoch 3/20\n",
      "2181/2181 - 3s - loss: 0.1244\n",
      "Epoch 4/20\n",
      "2181/2181 - 3s - loss: 0.1184\n",
      "Epoch 5/20\n",
      "2181/2181 - 3s - loss: 0.1170\n",
      "Epoch 6/20\n",
      "2181/2181 - 3s - loss: 0.1140\n",
      "Epoch 7/20\n",
      "2181/2181 - 3s - loss: 0.1116\n",
      "Epoch 8/20\n",
      "2181/2181 - 3s - loss: 0.1118\n",
      "Epoch 9/20\n",
      "2181/2181 - 3s - loss: 0.1096\n",
      "Epoch 10/20\n",
      "2181/2181 - 3s - loss: 0.1110\n",
      "Epoch 11/20\n",
      "2181/2181 - 3s - loss: 0.1106\n",
      "Epoch 12/20\n",
      "2181/2181 - 3s - loss: 0.1098\n",
      "Epoch 13/20\n",
      "2181/2181 - 3s - loss: 0.1108\n",
      "Epoch 14/20\n",
      "2181/2181 - 3s - loss: 0.1075\n",
      "Epoch 15/20\n",
      "2181/2181 - 3s - loss: 0.1104\n",
      "Epoch 16/20\n",
      "2181/2181 - 3s - loss: 0.1111\n",
      "Epoch 17/20\n",
      "2181/2181 - 3s - loss: 0.1131\n",
      "Epoch 18/20\n",
      "2181/2181 - 3s - loss: 0.1107\n",
      "Epoch 19/20\n",
      "2181/2181 - 3s - loss: 0.1065\n",
      "Epoch 20/20\n",
      "2181/2181 - 3s - loss: 0.1113\n"
     ]
    }
   ],
   "source": [
    "np.random.seed(202)\n",
    " \n",
    "# 初期モデルの構築\n",
    "yen_model = build_model(train_lstm_in_std, output_size=1, neurons = 20)\n",
    "\n",
    "# データを流してフィッティングさせる\n",
    "yen_history = yen_model.fit(train_lstm_in_std, lstm_train_out_std, \n",
    "                            epochs=20, batch_size=1, verbose=2, shuffle=False)"
   ]
  },
  {
   "cell_type": "code",
   "execution_count": null,
   "id": "04032435-074f-4f6f-a445-ff5a8091b69a",
   "metadata": {},
   "outputs": [],
   "source": []
  },
  {
   "cell_type": "code",
   "execution_count": null,
   "id": "9824c90f-06da-469e-af04-8f2c78069ce1",
   "metadata": {},
   "outputs": [],
   "source": []
  },
  {
   "cell_type": "code",
   "execution_count": 128,
   "id": "bebaf562-4cb9-4198-9c69-496fe3c5bd1a",
   "metadata": {},
   "outputs": [
    {
     "data": {
      "image/png": "[encoded data removed]",
      "text/plain": [
       "<Figure size 432x288 with 1 Axes>"
      ]
     },
     "metadata": {
      "needs_background": "light"
     },
     "output_type": "display_data"
    }
   ],
   "source": [
    "# MAEをプロットしてみよう\n",
    "fig, ax1 = plt.subplots(1,1)\n",
    " \n",
    "ax1.plot(yen_history.epoch, yen_history.history['loss'])\n",
    "ax1.set_title('TrainingError')\n",
    " \n",
    "if yen_model.loss == 'mae':\n",
    "    ax1.set_ylabel('Mean Absolute Error (MAE)',fontsize=12)\n",
    "else:\n",
    "    ax1.set_ylabel('Model Loss',fontsize=12)\n",
    "ax1.set_xlabel('# Epochs',fontsize=12)\n",
    "plt.show()"
   ]
  },
  {
   "cell_type": "code",
   "execution_count": 129,
   "id": "f7c884a5-18b1-4e31-9e7f-41211e808936",
   "metadata": {},
   "outputs": [
    {
     "data": {
      "text/plain": [
       "0.11129451543092728"
      ]
     },
     "execution_count": 129,
     "metadata": {},
     "output_type": "execute_result"
    }
   ],
   "source": [
    "yen_history.history['loss'][-1]"
   ]
  },
  {
   "cell_type": "code",
   "execution_count": 130,
   "id": "89066f10-c271-4741-ae73-d23defe765b1",
   "metadata": {},
   "outputs": [
    {
     "data": {
      "text/plain": [
       "0.33360832638129295"
      ]
     },
     "execution_count": 130,
     "metadata": {},
     "output_type": "execute_result"
    }
   ],
   "source": [
    "import math\n",
    "RMSE=math.sqrt(yen_history.history['loss'][-1])\n",
    "RMSE"
   ]
  },
  {
   "cell_type": "code",
   "execution_count": 131,
   "id": "98ce79ba-88b9-493a-9eef-cc962cd94e1b",
   "metadata": {},
   "outputs": [],
   "source": [
    "#作成したモデルを使用し予測。\n",
    "train_pred = yen_model.predict(train_lstm_in_std)"
   ]
  },
  {
   "cell_type": "code",
   "execution_count": 132,
   "id": "eba0c9ab-ba91-4634-9d21-8cf07bd24368",
   "metadata": {},
   "outputs": [
    {
     "data": {
      "text/plain": [
       "array([[-0.54783195],\n",
       "       [-0.51038665],\n",
       "       [-0.49037382],\n",
       "       ...,\n",
       "       [-1.3772215 ],\n",
       "       [-1.4568508 ],\n",
       "       [-1.4728647 ]], dtype=float32)"
      ]
     },
     "execution_count": 132,
     "metadata": {},
     "output_type": "execute_result"
    }
   ],
   "source": [
    "train_pred"
   ]
  },
  {
   "cell_type": "code",
   "execution_count": 133,
   "id": "588b1076-6e12-41ec-b576-86f801bd743e",
   "metadata": {},
   "outputs": [
    {
     "data": {
      "text/plain": [
       "2181"
      ]
     },
     "execution_count": 133,
     "metadata": {},
     "output_type": "execute_result"
    }
   ],
   "source": [
    "len(train_pred)"
   ]
  },
  {
   "cell_type": "code",
   "execution_count": 134,
   "id": "b7f55b2b-b057-44a4-ad04-4091c8de819f",
   "metadata": {},
   "outputs": [
    {
     "data": {
      "text/plain": [
       "array([101.483574, 101.94299 , 102.18853 , ...,  91.30783 ,  90.330864,\n",
       "        90.134384], dtype=float32)"
      ]
     },
     "execution_count": 134,
     "metadata": {},
     "output_type": "execute_result"
    }
   ],
   "source": [
    "# 予測データ\n",
    "Pred_Train_Price_Array = (np.transpose(train_pred)*scaler_scale+scaler_mean)[0]\n",
    "Pred_Train_Price_Array"
   ]
  },
  {
   "cell_type": "code",
   "execution_count": 135,
   "id": "282ef8ef-a6f4-415a-a4ee-64abea43b02e",
   "metadata": {},
   "outputs": [
    {
     "data": {
      "text/plain": [
       "array([101.99690048, 102.52619904, 103.00809952, ...,  89.07407913,\n",
       "        87.53041725,  88.73279976])"
      ]
     },
     "execution_count": 135,
     "metadata": {},
     "output_type": "execute_result"
    }
   ],
   "source": [
    "# 正解データ\n",
    "Actual_Train_Price_Array = lstm_train_out_std*scaler_scale+scaler_mean\n",
    "Actual_Train_Price_Array"
   ]
  },
  {
   "cell_type": "code",
   "execution_count": null,
   "id": "dcd090c6-0868-4f66-88d7-ec1f59c14d07",
   "metadata": {},
   "outputs": [],
   "source": []
  },
  {
   "cell_type": "code",
   "execution_count": 136,
   "id": "aa9874a5-0aa1-4ef4-af36-50c17bc198e2",
   "metadata": {},
   "outputs": [
    {
     "data": {
      "image/png": "[encoded data removed]",
      "text/plain": [
       "<Figure size 2160x720 with 1 Axes>"
      ]
     },
     "metadata": {
      "needs_background": "light"
     },
     "output_type": "display_data"
    }
   ],
   "source": [
    "fig,ax = plt.subplots(figsize=(30,10))\n",
    "\n",
    "# 予測データと正解データの併記\n",
    "ax.plot(Pred_Train_Price_Array)\n",
    "ax.plot(Actual_Train_Price_Array)\n",
    "plt.show()"
   ]
  },
  {
   "cell_type": "code",
   "execution_count": null,
   "id": "82867c5b-5eee-4c37-926a-e7bdc37d6124",
   "metadata": {},
   "outputs": [],
   "source": []
  },
  {
   "cell_type": "markdown",
   "id": "b341f864-7cad-4b95-8817-2040d0cc2de7",
   "metadata": {},
   "source": [
    "### テストデータへの転用"
   ]
  },
  {
   "cell_type": "code",
   "execution_count": 137,
   "id": "e61a3a4e-946d-4fd3-85a0-a33ef4f0c2e5",
   "metadata": {},
   "outputs": [],
   "source": [
    "#作成したモデルを使用し予測。\n",
    "test_pred = yen_model.predict(test_lstm_in_std)"
   ]
  },
  {
   "cell_type": "code",
   "execution_count": 138,
   "id": "8dd576cc-3737-490d-9510-f09bdb5df116",
   "metadata": {},
   "outputs": [
    {
     "data": {
      "text/plain": [
       "array([[-1.3850213 ],\n",
       "       [-1.4965765 ],\n",
       "       [-1.4936224 ],\n",
       "       ...,\n",
       "       [-0.94011   ],\n",
       "       [-0.9168696 ],\n",
       "       [-0.94828606]], dtype=float32)"
      ]
     },
     "execution_count": 138,
     "metadata": {},
     "output_type": "execute_result"
    }
   ],
   "source": [
    "test_pred"
   ]
  },
  {
   "cell_type": "code",
   "execution_count": 139,
   "id": "e5b06e6d-c952-4281-85e4-2a2394863a94",
   "metadata": {},
   "outputs": [
    {
     "data": {
      "text/plain": [
       "1309"
      ]
     },
     "execution_count": 139,
     "metadata": {},
     "output_type": "execute_result"
    }
   ],
   "source": [
    "len(test_pred)"
   ]
  },
  {
   "cell_type": "code",
   "execution_count": 140,
   "id": "362d8aed-dd41-4b78-a1a9-26ce61dded67",
   "metadata": {},
   "outputs": [
    {
     "data": {
      "text/plain": [
       "array([91.212135, 89.84347 , 89.879715, ..., 96.67073 , 96.95587 ,\n",
       "       96.57042 ], dtype=float32)"
      ]
     },
     "execution_count": 140,
     "metadata": {},
     "output_type": "execute_result"
    }
   ],
   "source": [
    "# 予測データ\n",
    "Pred_Price_Array = (np.transpose(test_pred)*scaler_scale+scaler_mean)[0]\n",
    "Pred_Price_Array"
   ]
  },
  {
   "cell_type": "code",
   "execution_count": 141,
   "id": "9cbeca74-850f-4782-8731-af75b54fa616",
   "metadata": {},
   "outputs": [
    {
     "data": {
      "text/plain": [
       "array([88.03839149, 87.6133699 , 87.2926313 , ..., 96.12720024,\n",
       "       96.69363251, 96.37209831])"
      ]
     },
     "execution_count": 141,
     "metadata": {},
     "output_type": "execute_result"
    }
   ],
   "source": [
    "# 正解データ\n",
    "Actual_Price_Array = test_out\n",
    "Actual_Price_Array"
   ]
  },
  {
   "cell_type": "code",
   "execution_count": 142,
   "id": "68d86ef9-a3d8-45fe-a8da-706e2f0f8835",
   "metadata": {},
   "outputs": [
    {
     "data": {
      "text/plain": [
       "1308"
      ]
     },
     "execution_count": 142,
     "metadata": {},
     "output_type": "execute_result"
    }
   ],
   "source": [
    "len(test_out)"
   ]
  },
  {
   "cell_type": "code",
   "execution_count": 143,
   "id": "5a03921f-4810-476f-8afb-0f0430ec3918",
   "metadata": {},
   "outputs": [
    {
     "data": {
      "image/png": "[encoded data removed]",
      "text/plain": [
       "<Figure size 2160x720 with 1 Axes>"
      ]
     },
     "metadata": {
      "needs_background": "light"
     },
     "output_type": "display_data"
    }
   ],
   "source": [
    "fig,ax = plt.subplots(figsize=(30,10))\n",
    "# fig,ax = plt.subplots()\n",
    "\n",
    "# 正解データと予測データの併記\n",
    "ax.plot(Pred_Price_Array)\n",
    "ax.plot(Actual_Price_Array)\n",
    "plt.show()"
   ]
  },
  {
   "cell_type": "code",
   "execution_count": 144,
   "id": "84c966a2-1f3c-4c23-b88b-c0c6b659a219",
   "metadata": {},
   "outputs": [
    {
     "data": {
      "text/plain": [
       "array([ 91.212135,  90.00455 ,  89.35037 ,  89.26454 ,  87.8267  ,\n",
       "        86.99742 ,  87.80277 ,  88.599976,  87.75981 ,  86.59355 ,\n",
       "        86.91103 ,  86.34391 ,  85.20482 ,  85.76164 ,  85.76469 ,\n",
       "        87.14395 ,  88.721466,  89.270355,  89.32905 ,  87.969536,\n",
       "        88.105385,  86.732346,  85.6449  ,  85.60421 ,  85.87873 ,\n",
       "        85.229095,  84.67244 ,  84.57251 ,  85.2363  ,  85.250755,\n",
       "        86.27567 ,  85.784515,  86.21552 ,  86.826675,  85.96486 ,\n",
       "        87.84894 ,  88.01199 ,  90.3826  ,  91.86479 ,  95.7131  ,\n",
       "        99.254906,  97.89042 ,  95.742035,  98.91356 ,  95.964325,\n",
       "       102.67729 , 101.311874, 104.028244, 103.96752 , 100.887215,\n",
       "       101.34094 , 101.90206 , 104.02416 , 103.84562 , 102.41242 ,\n",
       "       102.40507 , 104.24205 , 105.07103 , 105.08482 , 105.860535,\n",
       "       103.443924, 107.943634, 109.56276 , 111.587234, 111.61609 ,\n",
       "       111.171844, 108.8978  , 109.785805, 109.95771 , 110.06933 ,\n",
       "       110.30184 , 110.377045, 110.945045, 109.92032 , 109.100845,\n",
       "       109.935875, 109.06265 , 109.11691 , 107.597725, 108.200134,\n",
       "       107.81694 , 107.579895, 108.99537 , 108.7117  , 107.12348 ,\n",
       "       107.95011 , 111.72491 , 114.96507 , 116.13702 , 114.24895 ,\n",
       "       113.38518 , 105.67422 , 105.47075 , 106.70991 , 105.12416 ,\n",
       "       101.46712 , 101.9569  , 101.087395, 102.24739 , 105.80669 ,\n",
       "       105.74327 , 109.40007 , 109.36315 , 107.2816  , 106.2288  ,\n",
       "       107.038124, 108.92069 , 107.00515 , 107.427826, 105.83207 ,\n",
       "       106.94058 , 105.07365 , 104.31928 , 103.647   , 106.1161  ,\n",
       "       104.19053 , 102.88914 , 101.22594 , 102.99806 , 100.6674  ,\n",
       "        98.700005,  99.99429 ,  99.780815,  97.76501 ,  97.95969 ,\n",
       "        96.67373 ,  97.58755 ,  96.21348 ,  93.82266 ,  91.67873 ,\n",
       "        93.65388 ,  92.34106 ,  91.3685  ,  91.43327 ,  92.5441  ,\n",
       "        91.3023  ,  92.415085,  91.32568 ,  91.94513 ,  93.65027 ,\n",
       "        96.12485 ,  97.460205,  97.75146 ,  96.73827 ,  97.18899 ,\n",
       "        96.137024,  94.73422 ,  96.89791 ,  95.22581 ,  94.06348 ,\n",
       "        93.396255,  97.80431 ,  98.27133 ,  98.74394 ,  98.35083 ,\n",
       "       100.927055, 101.80434 , 102.5597  , 102.24458 , 103.206116,\n",
       "       102.79804 , 105.05294 , 104.21505 , 105.58566 , 104.39003 ,\n",
       "       104.27448 , 105.12432 , 104.72976 , 106.55687 , 106.640945,\n",
       "       106.09974 , 105.066414, 103.9903  , 103.5482  , 103.90408 ,\n",
       "       103.949265, 104.89563 , 102.29532 , 103.3386  , 101.34994 ,\n",
       "       100.73244 , 101.77586 , 103.9296  , 102.806564, 100.002525,\n",
       "       102.54795 , 102.03032 , 104.72875 , 102.29096 , 101.56021 ,\n",
       "       102.02147 , 101.51458 , 101.5918  , 101.06213 ,  99.6709  ,\n",
       "        98.309975,  98.70906 ,  98.64494 ,  99.75153 ,  99.26554 ,\n",
       "        98.7952  ,  99.21957 ,  99.4471  ,  98.216095,  97.41862 ,\n",
       "        96.54896 ,  96.47052 ,  96.726585,  96.3734  ,  96.2495  ,\n",
       "        94.38045 ,  93.93942 ,  94.513695,  96.04673 ,  95.9864  ,\n",
       "        95.47432 ,  95.78641 ,  96.92915 ,  96.57042 ], dtype=float32)"
      ]
     },
     "execution_count": 144,
     "metadata": {},
     "output_type": "execute_result"
    }
   ],
   "source": [
    "Pred_Price_Array_6=Pred_Price_Array[::6]\n",
    "Pred_Price_Array_6"
   ]
  },
  {
   "cell_type": "code",
   "execution_count": 145,
   "id": "f88e4932-c97e-47bc-a91b-4ba98426c75f",
   "metadata": {},
   "outputs": [
    {
     "data": {
      "text/plain": [
       "219"
      ]
     },
     "execution_count": 145,
     "metadata": {},
     "output_type": "execute_result"
    }
   ],
   "source": [
    "len(Pred_Price_Array_6)"
   ]
  },
  {
   "cell_type": "code",
   "execution_count": 146,
   "id": "83c77a3f-3623-4a82-8bbb-319010ce0247",
   "metadata": {},
   "outputs": [
    {
     "data": {
      "text/plain": [
       "0      91.212135\n",
       "1      90.004547\n",
       "2      89.350372\n",
       "3      89.264542\n",
       "4      87.826698\n",
       "         ...    \n",
       "214    95.986397\n",
       "215    95.474319\n",
       "216    95.786407\n",
       "217    96.929153\n",
       "218    96.570419\n",
       "Length: 219, dtype: float32"
      ]
     },
     "execution_count": 146,
     "metadata": {},
     "output_type": "execute_result"
    }
   ],
   "source": [
    "Df_Pred_Array = pd.Series(Pred_Price_Array_6)\n",
    "Df_Pred_Array"
   ]
  },
  {
   "cell_type": "code",
   "execution_count": 147,
   "id": "59b264af-5562-4d4d-a130-8a8bc965847e",
   "metadata": {},
   "outputs": [
    {
     "data": {
      "text/html": [
       "<div>\n",
       "<style scoped>\n",
       "    .dataframe tbody tr th:only-of-type {\n",
       "        vertical-align: middle;\n",
       "    }\n",
       "\n",
       "    .dataframe tbody tr th {\n",
       "        vertical-align: top;\n",
       "    }\n",
       "\n",
       "    .dataframe thead th {\n",
       "        text-align: right;\n",
       "    }\n",
       "</style>\n",
       "<table border=\"1\" class=\"dataframe\">\n",
       "  <thead>\n",
       "    <tr style=\"text-align: right;\">\n",
       "      <th></th>\n",
       "      <th>Date</th>\n",
       "      <th>1</th>\n",
       "    </tr>\n",
       "  </thead>\n",
       "  <tbody>\n",
       "    <tr>\n",
       "      <th>0</th>\n",
       "      <td>2011-07-24</td>\n",
       "      <td>91.212135</td>\n",
       "    </tr>\n",
       "    <tr>\n",
       "      <th>1</th>\n",
       "      <td>2011-08-07</td>\n",
       "      <td>90.004547</td>\n",
       "    </tr>\n",
       "    <tr>\n",
       "      <th>2</th>\n",
       "      <td>2011-08-21</td>\n",
       "      <td>89.350372</td>\n",
       "    </tr>\n",
       "    <tr>\n",
       "      <th>3</th>\n",
       "      <td>2011-09-04</td>\n",
       "      <td>89.264542</td>\n",
       "    </tr>\n",
       "    <tr>\n",
       "      <th>4</th>\n",
       "      <td>2011-09-18</td>\n",
       "      <td>87.826698</td>\n",
       "    </tr>\n",
       "    <tr>\n",
       "      <th>...</th>\n",
       "      <td>...</td>\n",
       "      <td>...</td>\n",
       "    </tr>\n",
       "    <tr>\n",
       "      <th>214</th>\n",
       "      <td>2019-11-06</td>\n",
       "      <td>95.986397</td>\n",
       "    </tr>\n",
       "    <tr>\n",
       "      <th>215</th>\n",
       "      <td>2019-11-20</td>\n",
       "      <td>95.474319</td>\n",
       "    </tr>\n",
       "    <tr>\n",
       "      <th>216</th>\n",
       "      <td>2019-12-04</td>\n",
       "      <td>95.786407</td>\n",
       "    </tr>\n",
       "    <tr>\n",
       "      <th>217</th>\n",
       "      <td>2019-12-18</td>\n",
       "      <td>96.929153</td>\n",
       "    </tr>\n",
       "    <tr>\n",
       "      <th>218</th>\n",
       "      <td>2020-01-01</td>\n",
       "      <td>96.570419</td>\n",
       "    </tr>\n",
       "  </tbody>\n",
       "</table>\n",
       "<p>219 rows × 2 columns</p>\n",
       "</div>"
      ],
      "text/plain": [
       "           Date          1\n",
       "0    2011-07-24  91.212135\n",
       "1    2011-08-07  90.004547\n",
       "2    2011-08-21  89.350372\n",
       "3    2011-09-04  89.264542\n",
       "4    2011-09-18  87.826698\n",
       "..          ...        ...\n",
       "214  2019-11-06  95.986397\n",
       "215  2019-11-20  95.474319\n",
       "216  2019-12-04  95.786407\n",
       "217  2019-12-18  96.929153\n",
       "218  2020-01-01  96.570419\n",
       "\n",
       "[219 rows x 2 columns]"
      ]
     },
     "execution_count": 147,
     "metadata": {},
     "output_type": "execute_result"
    }
   ],
   "source": [
    "df_submit[1]=Df_Pred_Array\n",
    "df_submit"
   ]
  },
  {
   "cell_type": "code",
   "execution_count": 148,
   "id": "8a5951c6-8898-4819-99c6-a23d2d390b70",
   "metadata": {},
   "outputs": [],
   "source": [
    "df_submit = df_submit.set_index(\"Date\") #indexにDateを指定する。"
   ]
  },
  {
   "cell_type": "code",
   "execution_count": 149,
   "id": "c42b0bea-161c-47ab-a80a-764b32a1f854",
   "metadata": {},
   "outputs": [
    {
     "data": {
      "text/html": [
       "<div>\n",
       "<style scoped>\n",
       "    .dataframe tbody tr th:only-of-type {\n",
       "        vertical-align: middle;\n",
       "    }\n",
       "\n",
       "    .dataframe tbody tr th {\n",
       "        vertical-align: top;\n",
       "    }\n",
       "\n",
       "    .dataframe thead th {\n",
       "        text-align: right;\n",
       "    }\n",
       "</style>\n",
       "<table border=\"1\" class=\"dataframe\">\n",
       "  <thead>\n",
       "    <tr style=\"text-align: right;\">\n",
       "      <th></th>\n",
       "      <th>y</th>\n",
       "    </tr>\n",
       "    <tr>\n",
       "      <th>Date</th>\n",
       "      <th></th>\n",
       "    </tr>\n",
       "  </thead>\n",
       "  <tbody>\n",
       "    <tr>\n",
       "      <th>2011-07-24</th>\n",
       "      <td>91.212135</td>\n",
       "    </tr>\n",
       "    <tr>\n",
       "      <th>2011-08-07</th>\n",
       "      <td>90.004547</td>\n",
       "    </tr>\n",
       "    <tr>\n",
       "      <th>2011-08-21</th>\n",
       "      <td>89.350372</td>\n",
       "    </tr>\n",
       "    <tr>\n",
       "      <th>2011-09-04</th>\n",
       "      <td>89.264542</td>\n",
       "    </tr>\n",
       "    <tr>\n",
       "      <th>2011-09-18</th>\n",
       "      <td>87.826698</td>\n",
       "    </tr>\n",
       "    <tr>\n",
       "      <th>...</th>\n",
       "      <td>...</td>\n",
       "    </tr>\n",
       "    <tr>\n",
       "      <th>2019-11-06</th>\n",
       "      <td>95.986397</td>\n",
       "    </tr>\n",
       "    <tr>\n",
       "      <th>2019-11-20</th>\n",
       "      <td>95.474319</td>\n",
       "    </tr>\n",
       "    <tr>\n",
       "      <th>2019-12-04</th>\n",
       "      <td>95.786407</td>\n",
       "    </tr>\n",
       "    <tr>\n",
       "      <th>2019-12-18</th>\n",
       "      <td>96.929153</td>\n",
       "    </tr>\n",
       "    <tr>\n",
       "      <th>2020-01-01</th>\n",
       "      <td>96.570419</td>\n",
       "    </tr>\n",
       "  </tbody>\n",
       "</table>\n",
       "<p>219 rows × 1 columns</p>\n",
       "</div>"
      ],
      "text/plain": [
       "                    y\n",
       "Date                 \n",
       "2011-07-24  91.212135\n",
       "2011-08-07  90.004547\n",
       "2011-08-21  89.350372\n",
       "2011-09-04  89.264542\n",
       "2011-09-18  87.826698\n",
       "...               ...\n",
       "2019-11-06  95.986397\n",
       "2019-11-20  95.474319\n",
       "2019-12-04  95.786407\n",
       "2019-12-18  96.929153\n",
       "2020-01-01  96.570419\n",
       "\n",
       "[219 rows x 1 columns]"
      ]
     },
     "execution_count": 149,
     "metadata": {},
     "output_type": "execute_result"
    }
   ],
   "source": [
    "# 指定の様式（インデックスはDate、カラム名は「y」のみ）をお守りください。\n",
    "df_submit = df_submit.rename(columns={1: 'y'}) #カラム名「1」を「y」に変更する。\n",
    "df_submit.to_csv('y_submit_std.csv') #投稿するファイルを書き出す。\n",
    "df_submit #投稿する中身を確認する。"
   ]
  },
  {
   "cell_type": "code",
   "execution_count": null,
   "id": "898fc8e2-dbfa-4fd2-8d5c-15aab8d96b54",
   "metadata": {},
   "outputs": [],
   "source": []
  },
  {
   "cell_type": "markdown",
   "id": "3839a775-a087-4d6a-830a-ec97c683d54d",
   "metadata": {},
   "source": [
    "### 変化量による予測"
   ]
  },
  {
   "cell_type": "code",
   "execution_count": 150,
   "id": "8a6cadd2-3760-44ed-8770-dd1ebf01330e",
   "metadata": {},
   "outputs": [
    {
     "name": "stdout",
     "output_type": "stream",
     "text": [
      "Epoch 1/25\n",
      "2181/2181 - 4s - loss: 0.0091\n",
      "Epoch 2/25\n",
      "2181/2181 - 3s - loss: 0.0075\n",
      "Epoch 3/25\n",
      "2181/2181 - 3s - loss: 0.0073\n",
      "Epoch 4/25\n",
      "2181/2181 - 3s - loss: 0.0069\n",
      "Epoch 5/25\n",
      "2181/2181 - 3s - loss: 0.0069\n",
      "Epoch 6/25\n",
      "2181/2181 - 3s - loss: 0.0068\n",
      "Epoch 7/25\n",
      "2181/2181 - 3s - loss: 0.0068\n",
      "Epoch 8/25\n",
      "2181/2181 - 3s - loss: 0.0068\n",
      "Epoch 9/25\n",
      "2181/2181 - 3s - loss: 0.0068\n",
      "Epoch 10/25\n",
      "2181/2181 - 3s - loss: 0.0067\n",
      "Epoch 11/25\n",
      "2181/2181 - 3s - loss: 0.0066\n",
      "Epoch 12/25\n",
      "2181/2181 - 3s - loss: 0.0066\n",
      "Epoch 13/25\n",
      "2181/2181 - 3s - loss: 0.0067\n",
      "Epoch 14/25\n",
      "2181/2181 - 3s - loss: 0.0067\n",
      "Epoch 15/25\n",
      "2181/2181 - 3s - loss: 0.0067\n",
      "Epoch 16/25\n",
      "2181/2181 - 3s - loss: 0.0067\n",
      "Epoch 17/25\n",
      "2181/2181 - 3s - loss: 0.0066\n",
      "Epoch 18/25\n",
      "2181/2181 - 3s - loss: 0.0066\n",
      "Epoch 19/25\n",
      "2181/2181 - 3s - loss: 0.0066\n",
      "Epoch 20/25\n",
      "2181/2181 - 3s - loss: 0.0066\n",
      "Epoch 21/25\n",
      "2181/2181 - 3s - loss: 0.0066\n",
      "Epoch 22/25\n",
      "2181/2181 - 3s - loss: 0.0066\n",
      "Epoch 23/25\n",
      "2181/2181 - 3s - loss: 0.0065\n",
      "Epoch 24/25\n",
      "2181/2181 - 3s - loss: 0.0065\n",
      "Epoch 25/25\n",
      "2181/2181 - 3s - loss: 0.0065\n"
     ]
    }
   ],
   "source": [
    "np.random.seed(202)\n",
    " \n",
    "# 初期モデルの構築\n",
    "yen_model = build_model(train_lstm_in, output_size=1, neurons = 20)\n",
    "\n",
    "# データを流してフィッティングさせる\n",
    "yen_history = yen_model.fit(train_lstm_in, lstm_train_out, \n",
    "                            epochs=25, batch_size=1, verbose=2, shuffle=False)"
   ]
  },
  {
   "cell_type": "code",
   "execution_count": 151,
   "id": "a3457ec5-1a28-4b3b-a8cb-94b54f0fb806",
   "metadata": {},
   "outputs": [],
   "source": [
    "#作成したモデルを使用し予測。\n",
    "train_pred = yen_model.predict(train_lstm_in)\n",
    "# test_pred = yen_model.predict(X_test)"
   ]
  },
  {
   "cell_type": "code",
   "execution_count": 152,
   "id": "a277c3e2-e59c-4c36-bb3d-3e9edd5df5a3",
   "metadata": {},
   "outputs": [
    {
     "data": {
      "text/plain": [
       "array([[ 0.01470628],\n",
       "       [ 0.0132698 ],\n",
       "       [ 0.0090318 ],\n",
       "       ...,\n",
       "       [-0.03077501],\n",
       "       [-0.04574333],\n",
       "       [-0.04589216]], dtype=float32)"
      ]
     },
     "execution_count": 152,
     "metadata": {},
     "output_type": "execute_result"
    }
   ],
   "source": [
    "train_pred"
   ]
  },
  {
   "cell_type": "code",
   "execution_count": 153,
   "id": "7052f331-66f7-4d7d-a408-07152a513a1a",
   "metadata": {},
   "outputs": [
    {
     "data": {
      "text/plain": [
       "array([[ 0.01470628,  0.0132698 ,  0.0090318 , ..., -0.03077501,\n",
       "        -0.04574333, -0.04589216]], dtype=float32)"
      ]
     },
     "execution_count": 153,
     "metadata": {},
     "output_type": "execute_result"
    }
   ],
   "source": [
    "np.transpose(train_pred)"
   ]
  },
  {
   "cell_type": "code",
   "execution_count": 154,
   "id": "616523f3-4f40-4f70-9b9a-0c58b4e05bb5",
   "metadata": {},
   "outputs": [
    {
     "data": {
      "text/plain": [
       "2181"
      ]
     },
     "execution_count": 154,
     "metadata": {},
     "output_type": "execute_result"
    }
   ],
   "source": [
    "len(train_pred)"
   ]
  },
  {
   "cell_type": "code",
   "execution_count": 155,
   "id": "9669d2c4-68b3-498d-a2db-1cb102c11d9a",
   "metadata": {},
   "outputs": [
    {
     "data": {
      "text/plain": [
       "array([ 0.01757569,  0.0179622 ,  0.01518216, ..., -0.04114293,\n",
       "       -0.05678949, -0.03950746])"
      ]
     },
     "execution_count": 155,
     "metadata": {},
     "output_type": "execute_result"
    }
   ],
   "source": [
    "lstm_train_out"
   ]
  },
  {
   "cell_type": "code",
   "execution_count": 156,
   "id": "134e2a7a-ab10-4218-afbc-2c19bd861c78",
   "metadata": {},
   "outputs": [
    {
     "data": {
      "text/plain": [
       "2181"
      ]
     },
     "execution_count": 156,
     "metadata": {},
     "output_type": "execute_result"
    }
   ],
   "source": [
    "len(lstm_train_out)"
   ]
  },
  {
   "cell_type": "code",
   "execution_count": 157,
   "id": "a74f04e9-605a-4aa8-8f7b-d92a954dd203",
   "metadata": {},
   "outputs": [
    {
     "data": {
      "text/plain": [
       "array([[1.0147063 , 1.0132698 , 1.0090318 , ..., 0.969225  , 0.95425665,\n",
       "        0.9541078 ]], dtype=float32)"
      ]
     },
     "execution_count": 157,
     "metadata": {},
     "output_type": "execute_result"
    }
   ],
   "source": [
    "# 配列には変化量が入っているので１００倍\n",
    "np.transpose(train_pred+1)"
   ]
  },
  {
   "cell_type": "code",
   "execution_count": 158,
   "id": "da440ce9-7ee9-4895-82a7-84352ae991de",
   "metadata": {},
   "outputs": [
    {
     "data": {
      "text/plain": [
       "array([101.70928211, 102.05359226, 102.38403424, ...,  90.03721874,\n",
       "        88.55550548,  88.14296302])"
      ]
     },
     "execution_count": 158,
     "metadata": {},
     "output_type": "execute_result"
    }
   ],
   "source": [
    "#予測データ(変化量)を単価に直したもの\n",
    "Pred_Train_Price_Array=(np.transpose(train_pred+1)* df_train['Close'].values[:-window_len])[0]\n",
    "(np.transpose(train_pred+1)* df_train['Close'].values[:-window_len])[0]"
   ]
  },
  {
   "cell_type": "code",
   "execution_count": 159,
   "id": "fe2c95ca-ea22-42b7-b1b2-db6887790b28",
   "metadata": {},
   "outputs": [
    {
     "data": {
      "text/plain": [
       "array([101.99690048, 102.52619904, 103.00809952, ...,  89.07407913,\n",
       "        87.53041725,  88.73279976])"
      ]
     },
     "execution_count": 159,
     "metadata": {},
     "output_type": "execute_result"
    }
   ],
   "source": [
    "#正解データ(変化量)を単価に直したもの\n",
    "Actual_Train_Price_Array=(1+lstm_train_out)* df_train['Close'].values[:-window_len]\n",
    "(1+lstm_train_out)* df_train['Close'].values[:-window_len]"
   ]
  },
  {
   "cell_type": "code",
   "execution_count": 160,
   "id": "3527a580-2a30-41c9-8ca9-806d0a22f327",
   "metadata": {},
   "outputs": [
    {
     "data": {
      "image/png": "[encoded data removed]",
      "text/plain": [
       "<Figure size 2160x720 with 1 Axes>"
      ]
     },
     "metadata": {
      "needs_background": "light"
     },
     "output_type": "display_data"
    }
   ],
   "source": [
    "fig,ax = plt.subplots(figsize=(30,10))\n",
    "\n",
    "# 予測データと正解データの併記\n",
    "ax.plot(Pred_Train_Price_Array)\n",
    "ax.plot(Actual_Train_Price_Array)\n",
    "plt.show()"
   ]
  },
  {
   "cell_type": "code",
   "execution_count": 161,
   "id": "f7e7b139-9992-4764-9f2a-9f3db775515e",
   "metadata": {},
   "outputs": [],
   "source": [
    "from sklearn.metrics import mean_squared_error\n",
    "import math\n",
    "mse=mean_squared_error(Pred_Train_Price_Array,Actual_Train_Price_Array)\n",
    "rmse=math.sqrt(mse)"
   ]
  },
  {
   "cell_type": "code",
   "execution_count": 162,
   "id": "a033383a-8534-48a0-a939-b08a8fe9aaef",
   "metadata": {},
   "outputs": [
    {
     "name": "stdout",
     "output_type": "stream",
     "text": [
      "mse\n",
      "0.801290173733506\n",
      "\n",
      "rmse\n",
      "0.8951481294922679\n",
      "\n"
     ]
    }
   ],
   "source": [
    "print(f'mse\\n{mse}\\n')\n",
    "print(f'rmse\\n{rmse}\\n')"
   ]
  },
  {
   "cell_type": "markdown",
   "id": "206c3561-5dcd-48ac-afb9-5f3050f3322c",
   "metadata": {},
   "source": [
    "## テストデータへの転用"
   ]
  },
  {
   "cell_type": "code",
   "execution_count": 163,
   "id": "a548ab85-b6fe-4278-a3ac-7107d1f3792b",
   "metadata": {},
   "outputs": [],
   "source": [
    "#作成したモデルを使用し予測。\n",
    "test_pred = yen_model.predict(test_lstm_in)"
   ]
  },
  {
   "cell_type": "code",
   "execution_count": 164,
   "id": "30284cdb-ec75-463e-9421-254ae3ef0ae6",
   "metadata": {},
   "outputs": [
    {
     "data": {
      "text/plain": [
       "array([[ 1.1074270e-02],\n",
       "       [-3.3748883e-03],\n",
       "       [-8.2454942e-03],\n",
       "       ...,\n",
       "       [ 3.1778894e-05],\n",
       "       [ 1.6702716e-03],\n",
       "       [ 5.9450236e-03]], dtype=float32)"
      ]
     },
     "execution_count": 164,
     "metadata": {},
     "output_type": "execute_result"
    }
   ],
   "source": [
    "test_pred"
   ]
  },
  {
   "cell_type": "code",
   "execution_count": 165,
   "id": "be52a5ac-4dc3-4a04-8db2-527cb75e24fe",
   "metadata": {},
   "outputs": [
    {
     "data": {
      "text/plain": [
       "1309"
      ]
     },
     "execution_count": 165,
     "metadata": {},
     "output_type": "execute_result"
    }
   ],
   "source": [
    "len(test_pred)"
   ]
  },
  {
   "cell_type": "code",
   "execution_count": 166,
   "id": "ba262037-c353-4795-bd62-78ab751869af",
   "metadata": {},
   "outputs": [
    {
     "data": {
      "text/plain": [
       "array([[ 1.1074270e-02, -3.3748883e-03, -8.2454942e-03, ...,\n",
       "         3.1778894e-05,  1.6702716e-03,  5.9450236e-03]], dtype=float32)"
      ]
     },
     "execution_count": 166,
     "metadata": {},
     "output_type": "execute_result"
    }
   ],
   "source": [
    "np.transpose(test_pred)"
   ]
  },
  {
   "cell_type": "code",
   "execution_count": 167,
   "id": "b2d6c45a-b1ac-4324-a5ae-0a53ea435f8c",
   "metadata": {},
   "outputs": [
    {
     "data": {
      "text/plain": [
       "1308"
      ]
     },
     "execution_count": 167,
     "metadata": {},
     "output_type": "execute_result"
    }
   ],
   "source": [
    "len(lstm_test_out)"
   ]
  },
  {
   "cell_type": "code",
   "execution_count": 168,
   "id": "8190ea62-8b31-437f-a964-443296e8f1a6",
   "metadata": {},
   "outputs": [],
   "source": [
    "adjustment1=1"
   ]
  },
  {
   "cell_type": "code",
   "execution_count": 169,
   "id": "c54f3c61-cba3-44f6-b4bb-5ac823cb5c3f",
   "metadata": {},
   "outputs": [
    {
     "data": {
      "text/plain": [
       "array([89.53173893, 87.9688136 , 87.3900381 , ..., 96.14132017,\n",
       "       96.56946783, 96.39748506])"
      ]
     },
     "execution_count": 169,
     "metadata": {},
     "output_type": "execute_result"
    }
   ],
   "source": [
    "# 予測データ(変化量)を単価に直したもの\n",
    "Pred_Price_Array=(np.transpose(test_pred+1)* df_test['Close'].values[:-window_len+adjustment1])[0]\n",
    "(np.transpose(test_pred+1)* df_test['Close'].values[:-window_len+adjustment1])[0]"
   ]
  },
  {
   "cell_type": "code",
   "execution_count": 170,
   "id": "89bbf46d-32f4-4a34-a238-f192918bfe9f",
   "metadata": {},
   "outputs": [
    {
     "name": "stdout",
     "output_type": "stream",
     "text": [
      "Pred_Price_Array は ndarray型\n",
      "Pred_Price_Array の行数, 列数・・・(1309,)\n",
      "\n"
     ]
    }
   ],
   "source": [
    "typeInfo(Pred_Price_Array)"
   ]
  },
  {
   "cell_type": "code",
   "execution_count": 171,
   "id": "0db18c71-1de7-4c41-930c-18d7b5c3250f",
   "metadata": {},
   "outputs": [
    {
     "data": {
      "text/plain": [
       "array([88.03839149, 87.6133699 , 87.2926313 , ..., 96.12720024,\n",
       "       96.69363251, 96.37209831])"
      ]
     },
     "execution_count": 171,
     "metadata": {},
     "output_type": "execute_result"
    }
   ],
   "source": [
    "# 正解データ(変化量)を単価に直したもの\n",
    "Actual_Price_Array=(1+lstm_test_out)* df_test['Close'].values[:-window_len]\n",
    "(1+lstm_test_out)* df_test['Close'].values[:-window_len]"
   ]
  },
  {
   "cell_type": "code",
   "execution_count": 172,
   "id": "36871558-98fa-4db0-8553-b00087ee6b67",
   "metadata": {},
   "outputs": [
    {
     "name": "stdout",
     "output_type": "stream",
     "text": [
      "Actual_Price_Array は ndarray型\n",
      "Actual_Price_Array の行数, 列数・・・(1308,)\n",
      "\n"
     ]
    }
   ],
   "source": [
    "typeInfo(Actual_Price_Array)"
   ]
  },
  {
   "cell_type": "code",
   "execution_count": 173,
   "id": "40704368-bd00-416b-b49f-4db67235e3dd",
   "metadata": {},
   "outputs": [
    {
     "data": {
      "image/png": "[encoded data removed]",
      "text/plain": [
       "<Figure size 2160x720 with 1 Axes>"
      ]
     },
     "metadata": {
      "needs_background": "light"
     },
     "output_type": "display_data"
    }
   ],
   "source": [
    "fig,ax = plt.subplots(figsize=(30,10))\n",
    "# fig,ax = plt.subplots()\n",
    "\n",
    "# 正解データと予測データの併記\n",
    "ax.plot(Pred_Price_Array)\n",
    "ax.plot(Actual_Price_Array)\n",
    "plt.show()"
   ]
  },
  {
   "cell_type": "code",
   "execution_count": null,
   "id": "cb7405fe-39ea-4f2a-bba5-a083adde1360",
   "metadata": {},
   "outputs": [],
   "source": []
  },
  {
   "cell_type": "code",
   "execution_count": 174,
   "id": "3ad85ed4-e7ed-4d03-a8c2-0b37af2aa980",
   "metadata": {},
   "outputs": [],
   "source": [
    "# Actual_Price_Array[::12]"
   ]
  },
  {
   "cell_type": "code",
   "execution_count": 175,
   "id": "fbbba25f-0dbc-4eda-8053-e5720231a137",
   "metadata": {},
   "outputs": [
    {
     "data": {
      "text/plain": [
       "1309"
      ]
     },
     "execution_count": 175,
     "metadata": {},
     "output_type": "execute_result"
    }
   ],
   "source": [
    "len(Pred_Price_Array)"
   ]
  },
  {
   "cell_type": "code",
   "execution_count": 176,
   "id": "d578c6b3-7e67-4f19-a8b6-e03f8ac33895",
   "metadata": {},
   "outputs": [
    {
     "data": {
      "text/plain": [
       "array([ 89.53173893,  88.20638487,  86.81203425,  86.582449  ,\n",
       "        84.55348635,  82.39829935,  83.80189871,  85.17968879,\n",
       "        83.49290738,  81.29606698,  81.72017338,  80.72078943,\n",
       "        78.04230416,  79.28010529,  79.11926708,  82.05314709,\n",
       "        84.73255998,  86.42855053,  86.38779239,  84.46177935,\n",
       "        84.27528526,  81.93236833,  79.16706699,  79.3754124 ,\n",
       "        79.60628064,  77.53871236,  76.29415251,  75.52314783,\n",
       "        77.62575306,  77.73045091,  79.97107687,  79.07368129,\n",
       "        80.04428303,  81.69661084,  80.02537836,  83.94398589,\n",
       "        84.00315325,  87.98680816,  90.40506028,  94.77615558,\n",
       "        98.84462794,  98.15378896,  95.52419673,  98.32960518,\n",
       "        95.49743968, 102.79710989, 101.36886966, 103.75245273,\n",
       "       104.09060076, 101.61475454, 102.17573348, 101.84917889,\n",
       "       104.32505206, 104.16896699, 102.79239781, 102.49542884,\n",
       "       104.763194  , 105.23643983, 105.31479581, 106.0258009 ,\n",
       "       104.1804629 , 107.84506399, 109.87936413, 112.41036861,\n",
       "       112.39071261, 112.22029616, 110.08762608, 110.4406882 ,\n",
       "       110.43761554, 111.01107775, 111.21735272, 111.401235  ,\n",
       "       111.72350748, 110.85115093, 109.90144556, 110.51580712,\n",
       "       109.60302553, 109.86262177, 108.20320029, 108.85661853,\n",
       "       108.43279726, 108.09415376, 109.72131647, 109.36381778,\n",
       "       108.01965898, 108.23231828, 112.216881  , 116.45696942,\n",
       "       117.29254106, 115.52929169, 114.51277427, 107.26462614,\n",
       "       106.63349957, 107.18769108, 105.92074765, 101.95038944,\n",
       "       102.0944727 , 101.19068219, 102.33615464, 105.77726028,\n",
       "       106.03474394, 110.33623114, 110.41680885, 107.99239516,\n",
       "       106.32644874, 107.54009383, 109.66528218, 107.52455499,\n",
       "       108.21949803, 106.31777979, 107.15910413, 105.63167669,\n",
       "       104.72089721, 104.17778239, 106.27314074, 104.55667587,\n",
       "       103.26285539, 101.44767367, 103.26275812, 100.53612481,\n",
       "        98.81150875,  99.83951179,  99.67919202,  97.55658442,\n",
       "        98.0755528 ,  96.69215078,  97.52824071,  95.88659887,\n",
       "        93.23093482,  92.20454618,  93.29651572,  91.15302727,\n",
       "        89.83445617,  89.69796553,  90.93126179,  89.5222939 ,\n",
       "        91.37621422,  89.66003803,  90.23947654,  92.67296983,\n",
       "        95.760305  ,  97.25993218,  97.33203983,  96.10831109,\n",
       "        96.78000536,  95.59812372,  94.27692964,  96.36129343,\n",
       "        94.76819839,  93.23199553,  92.74152658,  97.25466814,\n",
       "        97.9058243 ,  98.8472519 ,  97.85859986, 101.16198409,\n",
       "       101.61437836, 102.75950898, 102.03058296, 103.41079443,\n",
       "       102.81837591, 105.31789709, 104.60511873, 105.95825603,\n",
       "       104.85166426, 104.44413617, 105.52872388, 105.0442585 ,\n",
       "       106.90880243, 107.39292354, 106.51480068, 105.46123161,\n",
       "       104.23841301, 103.79466291, 103.81541087, 104.03084239,\n",
       "       105.00014796, 102.68846173, 103.48508432, 102.18535148,\n",
       "       100.85400593, 102.10330588, 104.00449442, 103.04210805,\n",
       "        99.81697623, 102.66620802, 102.1024076 , 104.58417033,\n",
       "       102.79119061, 101.84219031, 102.08794252, 101.53099651,\n",
       "       101.75288146, 101.10131418,  99.82675648,  98.30786959,\n",
       "        98.79079695,  98.47410085,  99.64246442,  99.04478098,\n",
       "        98.38149276,  99.21858402,  99.37029699,  98.07016231,\n",
       "        97.17453597,  96.10241589,  95.94943308,  96.66650558,\n",
       "        95.95706449,  95.90827249,  93.49592673,  93.0069897 ,\n",
       "        93.97424443,  95.52500955,  95.59928782,  95.0295462 ,\n",
       "        95.33390382,  96.51137125,  96.39748506])"
      ]
     },
     "execution_count": 176,
     "metadata": {},
     "output_type": "execute_result"
    }
   ],
   "source": [
    "Pred_Price_Array_7=Pred_Price_Array[::6]\n",
    "Pred_Price_Array_7"
   ]
  },
  {
   "cell_type": "code",
   "execution_count": 177,
   "id": "b0a0a581-eaec-4898-a51f-478a0cef9e52",
   "metadata": {},
   "outputs": [
    {
     "data": {
      "text/plain": [
       "219"
      ]
     },
     "execution_count": 177,
     "metadata": {},
     "output_type": "execute_result"
    }
   ],
   "source": [
    "len(Pred_Price_Array_7)"
   ]
  },
  {
   "cell_type": "code",
   "execution_count": 178,
   "id": "327db071-6d2f-46c7-a893-1aed99e70490",
   "metadata": {},
   "outputs": [
    {
     "data": {
      "text/plain": [
       "0      89.531739\n",
       "1      88.206385\n",
       "2      86.812034\n",
       "3      86.582449\n",
       "4      84.553486\n",
       "         ...    \n",
       "214    95.599288\n",
       "215    95.029546\n",
       "216    95.333904\n",
       "217    96.511371\n",
       "218    96.397485\n",
       "Length: 219, dtype: float64"
      ]
     },
     "execution_count": 178,
     "metadata": {},
     "output_type": "execute_result"
    }
   ],
   "source": [
    "Df_Pred_Array = pd.Series(Pred_Price_Array_7)\n",
    "Df_Pred_Array"
   ]
  },
  {
   "cell_type": "code",
   "execution_count": 179,
   "id": "4bfde59e-44e5-4f91-a911-47404443cc11",
   "metadata": {},
   "outputs": [
    {
     "data": {
      "text/plain": [
       "count    219.000000\n",
       "mean      98.697086\n",
       "std        9.503567\n",
       "min       75.523148\n",
       "25%       93.735086\n",
       "50%      101.161984\n",
       "75%      105.389564\n",
       "max      117.292541\n",
       "dtype: float64"
      ]
     },
     "execution_count": 179,
     "metadata": {},
     "output_type": "execute_result"
    }
   ],
   "source": [
    "Df_Pred_Array.describe()"
   ]
  },
  {
   "cell_type": "code",
   "execution_count": null,
   "id": "79426667-71e2-4a7b-ad31-3a141bce6f9f",
   "metadata": {},
   "outputs": [],
   "source": []
  },
  {
   "cell_type": "code",
   "execution_count": null,
   "id": "e7e146c1-9e8a-47e7-98c4-9751682c0024",
   "metadata": {},
   "outputs": [],
   "source": []
  },
  {
   "cell_type": "code",
   "execution_count": 180,
   "id": "6a84fa74-d585-4f61-9240-f419f0ab5080",
   "metadata": {},
   "outputs": [
    {
     "data": {
      "text/html": [
       "<div>\n",
       "<style scoped>\n",
       "    .dataframe tbody tr th:only-of-type {\n",
       "        vertical-align: middle;\n",
       "    }\n",
       "\n",
       "    .dataframe tbody tr th {\n",
       "        vertical-align: top;\n",
       "    }\n",
       "\n",
       "    .dataframe thead th {\n",
       "        text-align: right;\n",
       "    }\n",
       "</style>\n",
       "<table border=\"1\" class=\"dataframe\">\n",
       "  <thead>\n",
       "    <tr style=\"text-align: right;\">\n",
       "      <th></th>\n",
       "      <th>Date</th>\n",
       "      <th>1</th>\n",
       "    </tr>\n",
       "  </thead>\n",
       "  <tbody>\n",
       "    <tr>\n",
       "      <th>0</th>\n",
       "      <td>2011-07-24</td>\n",
       "      <td>89.531739</td>\n",
       "    </tr>\n",
       "    <tr>\n",
       "      <th>1</th>\n",
       "      <td>2011-08-07</td>\n",
       "      <td>88.206385</td>\n",
       "    </tr>\n",
       "    <tr>\n",
       "      <th>2</th>\n",
       "      <td>2011-08-21</td>\n",
       "      <td>86.812034</td>\n",
       "    </tr>\n",
       "    <tr>\n",
       "      <th>3</th>\n",
       "      <td>2011-09-04</td>\n",
       "      <td>86.582449</td>\n",
       "    </tr>\n",
       "    <tr>\n",
       "      <th>4</th>\n",
       "      <td>2011-09-18</td>\n",
       "      <td>84.553486</td>\n",
       "    </tr>\n",
       "    <tr>\n",
       "      <th>...</th>\n",
       "      <td>...</td>\n",
       "      <td>...</td>\n",
       "    </tr>\n",
       "    <tr>\n",
       "      <th>214</th>\n",
       "      <td>2019-11-06</td>\n",
       "      <td>95.599288</td>\n",
       "    </tr>\n",
       "    <tr>\n",
       "      <th>215</th>\n",
       "      <td>2019-11-20</td>\n",
       "      <td>95.029546</td>\n",
       "    </tr>\n",
       "    <tr>\n",
       "      <th>216</th>\n",
       "      <td>2019-12-04</td>\n",
       "      <td>95.333904</td>\n",
       "    </tr>\n",
       "    <tr>\n",
       "      <th>217</th>\n",
       "      <td>2019-12-18</td>\n",
       "      <td>96.511371</td>\n",
       "    </tr>\n",
       "    <tr>\n",
       "      <th>218</th>\n",
       "      <td>2020-01-01</td>\n",
       "      <td>96.397485</td>\n",
       "    </tr>\n",
       "  </tbody>\n",
       "</table>\n",
       "<p>219 rows × 2 columns</p>\n",
       "</div>"
      ],
      "text/plain": [
       "           Date          1\n",
       "0    2011-07-24  89.531739\n",
       "1    2011-08-07  88.206385\n",
       "2    2011-08-21  86.812034\n",
       "3    2011-09-04  86.582449\n",
       "4    2011-09-18  84.553486\n",
       "..          ...        ...\n",
       "214  2019-11-06  95.599288\n",
       "215  2019-11-20  95.029546\n",
       "216  2019-12-04  95.333904\n",
       "217  2019-12-18  96.511371\n",
       "218  2020-01-01  96.397485\n",
       "\n",
       "[219 rows x 2 columns]"
      ]
     },
     "execution_count": 180,
     "metadata": {},
     "output_type": "execute_result"
    }
   ],
   "source": [
    "df_submit2[1]=Df_Pred_Array\n",
    "df_submit2"
   ]
  },
  {
   "cell_type": "code",
   "execution_count": 181,
   "id": "2a8ba835-aba8-461d-95e1-d50a3af6823c",
   "metadata": {},
   "outputs": [],
   "source": [
    "#線形補間\n",
    "# df_submit2=df_submit2.interpolate()"
   ]
  },
  {
   "cell_type": "code",
   "execution_count": 182,
   "id": "cf344d91-9ec9-4035-ac58-a6671a546422",
   "metadata": {},
   "outputs": [],
   "source": [
    "df_submit2 = df_submit2.set_index(\"Date\") #indexにDateを指定する。"
   ]
  },
  {
   "cell_type": "code",
   "execution_count": 183,
   "id": "4625f1a4-6988-44e0-9dc3-a3f5fbfd6e0f",
   "metadata": {},
   "outputs": [
    {
     "data": {
      "text/html": [
       "<div>\n",
       "<style scoped>\n",
       "    .dataframe tbody tr th:only-of-type {\n",
       "        vertical-align: middle;\n",
       "    }\n",
       "\n",
       "    .dataframe tbody tr th {\n",
       "        vertical-align: top;\n",
       "    }\n",
       "\n",
       "    .dataframe thead th {\n",
       "        text-align: right;\n",
       "    }\n",
       "</style>\n",
       "<table border=\"1\" class=\"dataframe\">\n",
       "  <thead>\n",
       "    <tr style=\"text-align: right;\">\n",
       "      <th></th>\n",
       "      <th>y</th>\n",
       "    </tr>\n",
       "    <tr>\n",
       "      <th>Date</th>\n",
       "      <th></th>\n",
       "    </tr>\n",
       "  </thead>\n",
       "  <tbody>\n",
       "    <tr>\n",
       "      <th>2011-07-24</th>\n",
       "      <td>89.531739</td>\n",
       "    </tr>\n",
       "    <tr>\n",
       "      <th>2011-08-07</th>\n",
       "      <td>88.206385</td>\n",
       "    </tr>\n",
       "    <tr>\n",
       "      <th>2011-08-21</th>\n",
       "      <td>86.812034</td>\n",
       "    </tr>\n",
       "    <tr>\n",
       "      <th>2011-09-04</th>\n",
       "      <td>86.582449</td>\n",
       "    </tr>\n",
       "    <tr>\n",
       "      <th>2011-09-18</th>\n",
       "      <td>84.553486</td>\n",
       "    </tr>\n",
       "    <tr>\n",
       "      <th>...</th>\n",
       "      <td>...</td>\n",
       "    </tr>\n",
       "    <tr>\n",
       "      <th>2019-11-06</th>\n",
       "      <td>95.599288</td>\n",
       "    </tr>\n",
       "    <tr>\n",
       "      <th>2019-11-20</th>\n",
       "      <td>95.029546</td>\n",
       "    </tr>\n",
       "    <tr>\n",
       "      <th>2019-12-04</th>\n",
       "      <td>95.333904</td>\n",
       "    </tr>\n",
       "    <tr>\n",
       "      <th>2019-12-18</th>\n",
       "      <td>96.511371</td>\n",
       "    </tr>\n",
       "    <tr>\n",
       "      <th>2020-01-01</th>\n",
       "      <td>96.397485</td>\n",
       "    </tr>\n",
       "  </tbody>\n",
       "</table>\n",
       "<p>219 rows × 1 columns</p>\n",
       "</div>"
      ],
      "text/plain": [
       "                    y\n",
       "Date                 \n",
       "2011-07-24  89.531739\n",
       "2011-08-07  88.206385\n",
       "2011-08-21  86.812034\n",
       "2011-09-04  86.582449\n",
       "2011-09-18  84.553486\n",
       "...               ...\n",
       "2019-11-06  95.599288\n",
       "2019-11-20  95.029546\n",
       "2019-12-04  95.333904\n",
       "2019-12-18  96.511371\n",
       "2020-01-01  96.397485\n",
       "\n",
       "[219 rows x 1 columns]"
      ]
     },
     "execution_count": 183,
     "metadata": {},
     "output_type": "execute_result"
    }
   ],
   "source": [
    "# 指定の様式（インデックスはDate、カラム名は「y」のみ）をお守りください。\n",
    "df_submit2 = df_submit2.rename(columns={1: 'y'}) #カラム名「1」を「y」に変更する。\n",
    "df_submit2.to_csv('y_submit_lstm_fluc.csv') #投稿するファイルを書き出す。\n",
    "df_submit2 #投稿する中身を確認する。"
   ]
  },
  {
   "cell_type": "code",
   "execution_count": null,
   "id": "e9a924c6-5f52-4955-b02d-35d0f367ac19",
   "metadata": {},
   "outputs": [],
   "source": []
  },
  {
   "cell_type": "code",
   "execution_count": null,
   "id": "96e6e676-2c86-4794-8550-570192e34a23",
   "metadata": {},
   "outputs": [],
   "source": []
  },
  {
   "cell_type": "markdown",
   "id": "d02930d9-7868-473e-80df-43132fbd0c4d",
   "metadata": {},
   "source": [
    "## LSTMとGBDTのアンサンブル"
   ]
  },
  {
   "cell_type": "code",
   "execution_count": null,
   "id": "4d80ba13-987f-4789-bb10-9244f1db6753",
   "metadata": {},
   "outputs": [],
   "source": []
  },
  {
   "cell_type": "code",
   "execution_count": 184,
   "id": "dd4b0595-d2a6-4a36-a1c7-1b9b2b09fc48",
   "metadata": {},
   "outputs": [
    {
     "data": {
      "text/plain": [
       "0      89.510180\n",
       "1      88.140850\n",
       "2      86.753609\n",
       "3      86.589836\n",
       "4      84.305034\n",
       "         ...    \n",
       "214    95.576027\n",
       "215    95.035198\n",
       "216    95.366705\n",
       "217    96.461831\n",
       "218    96.386716\n",
       "Length: 219, dtype: float64"
      ]
     },
     "execution_count": 184,
     "metadata": {},
     "output_type": "execute_result"
    }
   ],
   "source": [
    "Average_Array=(Pred_Price_Array_7+Df_Pred_Array_gbdt)/2\n",
    "Average_Array"
   ]
  },
  {
   "cell_type": "code",
   "execution_count": 185,
   "id": "49970f25-1d4c-4dcc-bfef-0470f0d53758",
   "metadata": {},
   "outputs": [
    {
     "data": {
      "text/plain": [
       "0      89.510180\n",
       "1      88.140850\n",
       "2      86.753609\n",
       "3      86.589836\n",
       "4      84.305034\n",
       "         ...    \n",
       "214    95.576027\n",
       "215    95.035198\n",
       "216    95.366705\n",
       "217    96.461831\n",
       "218    96.386716\n",
       "Length: 219, dtype: float64"
      ]
     },
     "execution_count": 185,
     "metadata": {},
     "output_type": "execute_result"
    }
   ],
   "source": [
    "Df_Pred_Ave_Array = pd.Series(Average_Array)\n",
    "Df_Pred_Ave_Array"
   ]
  },
  {
   "cell_type": "code",
   "execution_count": 186,
   "id": "d9fe93e0-b992-42a8-a3e7-bda0c913388a",
   "metadata": {},
   "outputs": [
    {
     "data": {
      "text/html": [
       "<div>\n",
       "<style scoped>\n",
       "    .dataframe tbody tr th:only-of-type {\n",
       "        vertical-align: middle;\n",
       "    }\n",
       "\n",
       "    .dataframe tbody tr th {\n",
       "        vertical-align: top;\n",
       "    }\n",
       "\n",
       "    .dataframe thead th {\n",
       "        text-align: right;\n",
       "    }\n",
       "</style>\n",
       "<table border=\"1\" class=\"dataframe\">\n",
       "  <thead>\n",
       "    <tr style=\"text-align: right;\">\n",
       "      <th></th>\n",
       "      <th>Date</th>\n",
       "      <th>1</th>\n",
       "    </tr>\n",
       "  </thead>\n",
       "  <tbody>\n",
       "    <tr>\n",
       "      <th>0</th>\n",
       "      <td>2011-07-24</td>\n",
       "      <td>89.510180</td>\n",
       "    </tr>\n",
       "    <tr>\n",
       "      <th>1</th>\n",
       "      <td>2011-08-07</td>\n",
       "      <td>88.140850</td>\n",
       "    </tr>\n",
       "    <tr>\n",
       "      <th>2</th>\n",
       "      <td>2011-08-21</td>\n",
       "      <td>86.753609</td>\n",
       "    </tr>\n",
       "    <tr>\n",
       "      <th>3</th>\n",
       "      <td>2011-09-04</td>\n",
       "      <td>86.589836</td>\n",
       "    </tr>\n",
       "    <tr>\n",
       "      <th>4</th>\n",
       "      <td>2011-09-18</td>\n",
       "      <td>84.305034</td>\n",
       "    </tr>\n",
       "    <tr>\n",
       "      <th>...</th>\n",
       "      <td>...</td>\n",
       "      <td>...</td>\n",
       "    </tr>\n",
       "    <tr>\n",
       "      <th>214</th>\n",
       "      <td>2019-11-06</td>\n",
       "      <td>95.576027</td>\n",
       "    </tr>\n",
       "    <tr>\n",
       "      <th>215</th>\n",
       "      <td>2019-11-20</td>\n",
       "      <td>95.035198</td>\n",
       "    </tr>\n",
       "    <tr>\n",
       "      <th>216</th>\n",
       "      <td>2019-12-04</td>\n",
       "      <td>95.366705</td>\n",
       "    </tr>\n",
       "    <tr>\n",
       "      <th>217</th>\n",
       "      <td>2019-12-18</td>\n",
       "      <td>96.461831</td>\n",
       "    </tr>\n",
       "    <tr>\n",
       "      <th>218</th>\n",
       "      <td>2020-01-01</td>\n",
       "      <td>96.386716</td>\n",
       "    </tr>\n",
       "  </tbody>\n",
       "</table>\n",
       "<p>219 rows × 2 columns</p>\n",
       "</div>"
      ],
      "text/plain": [
       "           Date          1\n",
       "0    2011-07-24  89.510180\n",
       "1    2011-08-07  88.140850\n",
       "2    2011-08-21  86.753609\n",
       "3    2011-09-04  86.589836\n",
       "4    2011-09-18  84.305034\n",
       "..          ...        ...\n",
       "214  2019-11-06  95.576027\n",
       "215  2019-11-20  95.035198\n",
       "216  2019-12-04  95.366705\n",
       "217  2019-12-18  96.461831\n",
       "218  2020-01-01  96.386716\n",
       "\n",
       "[219 rows x 2 columns]"
      ]
     },
     "execution_count": 186,
     "metadata": {},
     "output_type": "execute_result"
    }
   ],
   "source": [
    "df_submit4[1]=Df_Pred_Ave_Array\n",
    "df_submit4"
   ]
  },
  {
   "cell_type": "code",
   "execution_count": 187,
   "id": "903a86e6-1601-44ec-b153-8b8eaafe7f74",
   "metadata": {},
   "outputs": [],
   "source": [
    "df_submit4 = df_submit4.set_index(\"Date\") #indexにDateを指定する。"
   ]
  },
  {
   "cell_type": "code",
   "execution_count": 188,
   "id": "56f13c74-f3f0-43a1-9683-dff200d448d5",
   "metadata": {},
   "outputs": [
    {
     "data": {
      "text/html": [
       "<div>\n",
       "<style scoped>\n",
       "    .dataframe tbody tr th:only-of-type {\n",
       "        vertical-align: middle;\n",
       "    }\n",
       "\n",
       "    .dataframe tbody tr th {\n",
       "        vertical-align: top;\n",
       "    }\n",
       "\n",
       "    .dataframe thead th {\n",
       "        text-align: right;\n",
       "    }\n",
       "</style>\n",
       "<table border=\"1\" class=\"dataframe\">\n",
       "  <thead>\n",
       "    <tr style=\"text-align: right;\">\n",
       "      <th></th>\n",
       "      <th>y</th>\n",
       "    </tr>\n",
       "    <tr>\n",
       "      <th>Date</th>\n",
       "      <th></th>\n",
       "    </tr>\n",
       "  </thead>\n",
       "  <tbody>\n",
       "    <tr>\n",
       "      <th>2011-07-24</th>\n",
       "      <td>89.510180</td>\n",
       "    </tr>\n",
       "    <tr>\n",
       "      <th>2011-08-07</th>\n",
       "      <td>88.140850</td>\n",
       "    </tr>\n",
       "    <tr>\n",
       "      <th>2011-08-21</th>\n",
       "      <td>86.753609</td>\n",
       "    </tr>\n",
       "    <tr>\n",
       "      <th>2011-09-04</th>\n",
       "      <td>86.589836</td>\n",
       "    </tr>\n",
       "    <tr>\n",
       "      <th>2011-09-18</th>\n",
       "      <td>84.305034</td>\n",
       "    </tr>\n",
       "    <tr>\n",
       "      <th>...</th>\n",
       "      <td>...</td>\n",
       "    </tr>\n",
       "    <tr>\n",
       "      <th>2019-11-06</th>\n",
       "      <td>95.576027</td>\n",
       "    </tr>\n",
       "    <tr>\n",
       "      <th>2019-11-20</th>\n",
       "      <td>95.035198</td>\n",
       "    </tr>\n",
       "    <tr>\n",
       "      <th>2019-12-04</th>\n",
       "      <td>95.366705</td>\n",
       "    </tr>\n",
       "    <tr>\n",
       "      <th>2019-12-18</th>\n",
       "      <td>96.461831</td>\n",
       "    </tr>\n",
       "    <tr>\n",
       "      <th>2020-01-01</th>\n",
       "      <td>96.386716</td>\n",
       "    </tr>\n",
       "  </tbody>\n",
       "</table>\n",
       "<p>219 rows × 1 columns</p>\n",
       "</div>"
      ],
      "text/plain": [
       "                    y\n",
       "Date                 \n",
       "2011-07-24  89.510180\n",
       "2011-08-07  88.140850\n",
       "2011-08-21  86.753609\n",
       "2011-09-04  86.589836\n",
       "2011-09-18  84.305034\n",
       "...               ...\n",
       "2019-11-06  95.576027\n",
       "2019-11-20  95.035198\n",
       "2019-12-04  95.366705\n",
       "2019-12-18  96.461831\n",
       "2020-01-01  96.386716\n",
       "\n",
       "[219 rows x 1 columns]"
      ]
     },
     "execution_count": 188,
     "metadata": {},
     "output_type": "execute_result"
    }
   ],
   "source": [
    "# 指定の様式（インデックスはDate、カラム名は「y」のみ）をお守りください。\n",
    "df_submit4 = df_submit4.rename(columns={1: 'y'}) #カラム名「1」を「y」に変更する。\n",
    "df_submit4.to_csv('y_submit_ensemble.csv') #投稿するファイルを書き出す。\n",
    "df_submit4 #投稿する中身を確認する。"
   ]
  },
  {
   "cell_type": "code",
   "execution_count": null,
   "id": "57a35a8c-0607-4d6a-a80f-21e659496cd5",
   "metadata": {},
   "outputs": [],
   "source": []
  },
  {
   "cell_type": "code",
   "execution_count": null,
   "id": "c69d0f7b-4f26-47be-b15f-2b4e3806caa6",
   "metadata": {},
   "outputs": [],
   "source": []
  },
  {
   "cell_type": "code",
   "execution_count": null,
   "id": "1457bcbf-7777-485c-b25d-2437971ad917",
   "metadata": {},
   "outputs": [],
   "source": []
  },
  {
   "cell_type": "code",
   "execution_count": null,
   "id": "877d8c54-efcd-4f78-bd8e-e2bea3dc356f",
   "metadata": {},
   "outputs": [],
   "source": []
  },
  {
   "cell_type": "code",
   "execution_count": null,
   "id": "3c964f06-bb16-48b0-b35a-b975180744c6",
   "metadata": {},
   "outputs": [],
   "source": []
  },
  {
   "cell_type": "code",
   "execution_count": null,
   "id": "119713a2-2448-4796-8231-35e96a564359",
   "metadata": {},
   "outputs": [],
   "source": []
  },
  {
   "cell_type": "code",
   "execution_count": null,
   "id": "78969735-4213-47ec-b94d-2bbb0a97afa0",
   "metadata": {},
   "outputs": [],
   "source": []
  },
  {
   "cell_type": "code",
   "execution_count": null,
   "id": "363e7464-9af3-4b80-b3c3-06fe395ec6fa",
   "metadata": {},
   "outputs": [],
   "source": []
  },
  {
   "cell_type": "code",
   "execution_count": null,
   "id": "c9756564-244f-4058-a0b8-981616872280",
   "metadata": {},
   "outputs": [],
   "source": []
  },
  {
   "cell_type": "code",
   "execution_count": null,
   "id": "c5aa9467-e5e4-4d63-80b2-9769f1217368",
   "metadata": {},
   "outputs": [],
   "source": []
  },
  {
   "cell_type": "code",
   "execution_count": null,
   "id": "a2607a1f-898a-4d35-8c4a-6a92670ddf99",
   "metadata": {},
   "outputs": [],
   "source": []
  },
  {
   "cell_type": "code",
   "execution_count": null,
   "id": "8bd4e73a-da01-4ea7-9c54-076c4c5ac7a1",
   "metadata": {},
   "outputs": [],
   "source": []
  },
  {
   "cell_type": "code",
   "execution_count": null,
   "id": "fec9e916-ab1f-415c-8c92-317e725691e3",
   "metadata": {},
   "outputs": [],
   "source": []
  },
  {
   "cell_type": "code",
   "execution_count": null,
   "id": "f0387e63-9011-46a5-b118-55e292115d44",
   "metadata": {},
   "outputs": [],
   "source": []
  },
  {
   "cell_type": "code",
   "execution_count": null,
   "id": "569b91f1-6b32-4b5d-80fa-8df700e83652",
   "metadata": {},
   "outputs": [],
   "source": []
  },
  {
   "cell_type": "code",
   "execution_count": null,
   "id": "f921dbe4-9973-487f-b726-4f6a3a3d9afe",
   "metadata": {},
   "outputs": [],
   "source": []
  },
  {
   "cell_type": "code",
   "execution_count": null,
   "id": "fd06341e-a7a2-4673-9e95-5084c4c995a7",
   "metadata": {},
   "outputs": [],
   "source": []
  },
  {
   "cell_type": "code",
   "execution_count": null,
   "id": "ed5ddaa1-cf22-4d16-8361-62285069e01f",
   "metadata": {},
   "outputs": [],
   "source": []
  },
  {
   "cell_type": "code",
   "execution_count": null,
   "id": "cc112a6c-3593-40cb-933e-057418fe80ef",
   "metadata": {},
   "outputs": [],
   "source": []
  },
  {
   "cell_type": "code",
   "execution_count": null,
   "id": "a0076e6b-3402-49b7-ad48-25a1a42ff636",
   "metadata": {},
   "outputs": [],
   "source": []
  },
  {
   "cell_type": "code",
   "execution_count": null,
   "id": "6268f0c4-49ad-47c2-84b7-a5b372638ba7",
   "metadata": {},
   "outputs": [],
   "source": []
  },
  {
   "cell_type": "code",
   "execution_count": null,
   "id": "81e9fe38-183e-4e93-b73f-14f76192fe6f",
   "metadata": {},
   "outputs": [],
   "source": []
  },
  {
   "cell_type": "code",
   "execution_count": null,
   "id": "b9412c22-bb3e-49c5-85c3-57931bb14deb",
   "metadata": {},
   "outputs": [],
   "source": []
  },
  {
   "cell_type": "code",
   "execution_count": null,
   "id": "d76e989e-2052-4e9d-bdbb-770704d825c8",
   "metadata": {},
   "outputs": [],
   "source": []
  },
  {
   "cell_type": "code",
   "execution_count": null,
   "id": "acd52a24-15ce-4f0a-9c5d-d28990e7ccf3",
   "metadata": {},
   "outputs": [],
   "source": []
  },
  {
   "cell_type": "code",
   "execution_count": null,
   "id": "088c718b-3ef2-4109-af86-de17f2b5e5d3",
   "metadata": {},
   "outputs": [],
   "source": []
  },
  {
   "cell_type": "code",
   "execution_count": null,
   "id": "0e7cbbb0-2791-46f9-b765-a37298fe3ef6",
   "metadata": {},
   "outputs": [],
   "source": []
  },
  {
   "cell_type": "code",
   "execution_count": null,
   "id": "6d620642-5344-470a-8e53-e6d3206c66d6",
   "metadata": {},
   "outputs": [],
   "source": []
  },
  {
   "cell_type": "code",
   "execution_count": null,
   "id": "533adbe7-7806-4e6a-9c5a-3fb8a45c7028",
   "metadata": {},
   "outputs": [],
   "source": []
  }
 ],
 "metadata": {
  "kernelspec": {
   "display_name": "Python 3",
   "language": "python",
   "name": "python3"
  },
  "language_info": {
   "codemirror_mode": {
    "name": "ipython",
    "version": 3
   },
   "file_extension": ".py",
   "mimetype": "text/x-python",
   "name": "python",
   "nbconvert_exporter": "python",
   "pygments_lexer": "ipython3",
   "version": "3.8.8"
  }
 },
 "nbformat": 4,
 "nbformat_minor": 5
}
