{
 "cells": [
  {
   "cell_type": "code",
   "execution_count": 1011,
   "id": "4864a99e-110a-495c-a9f0-684fca0c97ce",
   "metadata": {},
   "outputs": [],
   "source": [
    "# ライブラリの取得\n",
    "import pandas as pd\n",
    "import numpy as np\n",
    "%matplotlib inline\n",
    "import matplotlib.pyplot as plt\n",
    "import seaborn as sns\n",
    "# sns.set(font=\"IPAexGothic\",style=\"white\")　多分いらなそう\n",
    "# import oandapy\n",
    "import configparser\n",
    "import datetime\n",
    "from datetime import datetime, timedelta\n",
    "\n",
    "import warnings\n",
    "warnings.simplefilter('ignore')\n",
    "\n",
    "# CSVデータの読み込み\n",
    "import os\n",
    "working_directory=os.getcwd()\n",
    "#print(working_directory)\n",
    "path_train=working_directory+'/finance2_train.csv'\n",
    "path_test=working_directory+'/finance2_test.csv'\n",
    "path_submit=working_directory+'/finance2_submit.csv'\n",
    "\n",
    "#データフレームの生成\n",
    "df_train=pd.read_csv(path_train)\n",
    "df_test=pd.read_csv(path_test)\n",
    "df_submit=pd.read_csv(path_submit)\n",
    "df_submit2=pd.read_csv(path_submit)"
   ]
  },
  {
   "cell_type": "code",
   "execution_count": 1012,
   "id": "8ea6a89a-4d2b-4ed9-8e79-5fd8744dc710",
   "metadata": {},
   "outputs": [],
   "source": [
    "# Dateがobject型になっているので日付型に変換\n",
    "df_train['Date']=pd.to_datetime(df_train['Date'],format='%Y/%m/%d')\n",
    "df_test['Date']=pd.to_datetime(df_test['Date'],format='%Y/%m/%d')"
   ]
  },
  {
   "cell_type": "markdown",
   "id": "de448434-fef7-4a69-b2ea-038baf52c032",
   "metadata": {},
   "source": [
    "## 単純移動平均の追加"
   ]
  },
  {
   "cell_type": "code",
   "execution_count": 1013,
   "id": "574165e7-65e5-42a9-ac80-7ccf0b9182bb",
   "metadata": {},
   "outputs": [],
   "source": [
    "#　移動平均の期間\n",
    "span05=5\n",
    "span10=10\n",
    "span25=25"
   ]
  },
  {
   "cell_type": "code",
   "execution_count": 1014,
   "id": "bda26016-a71c-4e9d-8047-10ff5f5ecbab",
   "metadata": {},
   "outputs": [],
   "source": [
    "df_train['SMA05']=df_train['Close'].rolling(window=span05).mean()\n",
    "df_test['SMA05']=df_test['Close'].rolling(window=span05).mean()\n",
    "\n",
    "df_train['SMA10']=df_train['Close'].rolling(window=span10).mean()\n",
    "df_test['SMA10']=df_test['Close'].rolling(window=span10).mean()\n",
    "\n",
    "df_train['SMA25']=df_train['Close'].rolling(window=span25).mean()\n",
    "df_test['SMA25']=df_test['Close'].rolling(window=span25).mean()"
   ]
  },
  {
   "cell_type": "code",
   "execution_count": null,
   "id": "bd10db65-db4c-4b3c-bb69-37a419b4c8c1",
   "metadata": {},
   "outputs": [],
   "source": []
  },
  {
   "cell_type": "code",
   "execution_count": 1015,
   "id": "236ea96e-c66e-425d-9492-7804c865b819",
   "metadata": {},
   "outputs": [
    {
     "name": "stdout",
     "output_type": "stream",
     "text": [
      "train\n",
      "           Date        High         Low        Open       Close       SMA05  \\\n",
      "0    2003-01-23  100.416900   99.950797  100.314203  100.235198         NaN   \n",
      "1    2003-01-24  100.930402  100.172002  100.251001  100.717098         NaN   \n",
      "2    2003-01-27  101.862602  100.717098  100.796097  101.467602         NaN   \n",
      "3    2003-01-28  101.688801  101.135803  101.483405  101.491301         NaN   \n",
      "4    2003-01-29  101.609796  101.033100  101.483405  101.341199  101.050480   \n",
      "...         ...         ...         ...         ...         ...         ...   \n",
      "2182 2011-07-07   92.264890   90.571922   92.174042   92.193787   92.381019   \n",
      "2183 2011-07-10   90.644598   88.792047   90.489759   90.492917   91.900383   \n",
      "2184 2011-07-11   89.125431   86.571360   89.072500   89.074079   91.155097   \n",
      "2185 2011-07-12   88.502120   87.532002   87.532002   87.530417   90.184660   \n",
      "2186 2011-07-13   89.185468   88.197968   88.693297   88.732800   89.604800   \n",
      "\n",
      "          SMA10      SMA25  \n",
      "0           NaN        NaN  \n",
      "1           NaN        NaN  \n",
      "2           NaN        NaN  \n",
      "3           NaN        NaN  \n",
      "4           NaN        NaN  \n",
      "...         ...        ...  \n",
      "2182  92.000161  91.660887  \n",
      "2183  92.041477  91.566214  \n",
      "2184  91.806374  91.437349  \n",
      "2185  91.364131  91.217634  \n",
      "2186  91.004681  91.080237  \n",
      "\n",
      "[2187 rows x 8 columns]\n",
      "\n",
      "test\n",
      "           Date       High        Low       Open      Close      SMA05  \\\n",
      "0    2011-07-14  88.730431  87.984671  88.535300  88.551097        NaN   \n",
      "1    2011-07-17  88.242998  87.426930  88.242998  88.266703        NaN   \n",
      "2    2011-07-18  88.714628  87.808501  88.115022  88.116601        NaN   \n",
      "3    2011-07-19  88.736748  88.195600  88.604818  88.590600        NaN   \n",
      "4    2011-07-20  89.372698  88.092902  88.772302  88.784152  88.461830   \n",
      "...         ...        ...        ...        ...        ...        ...   \n",
      "1309 2019-12-25  96.308939  95.580519  95.771703  95.771703  96.165754   \n",
      "1310 2019-12-26  96.193560  95.853860  95.859393  95.860182  96.001276   \n",
      "1311 2019-12-27  96.749722  95.988948  96.154847  96.127200  95.999064   \n",
      "1312 2019-12-30  96.748932  96.294679  96.696791  96.693633  96.056102   \n",
      "1313 2019-12-31  96.447149  96.150899  96.362617  96.372098  96.164963   \n",
      "\n",
      "          SMA10      SMA25  \n",
      "0           NaN        NaN  \n",
      "1           NaN        NaN  \n",
      "2           NaN        NaN  \n",
      "3           NaN        NaN  \n",
      "4           NaN        NaN  \n",
      "...         ...        ...  \n",
      "1309  95.725012  95.356097  \n",
      "1310  95.776836  95.367536  \n",
      "1311  95.849990  95.378849  \n",
      "1312  96.028530  95.438921  \n",
      "1313  96.134864  95.475355  \n",
      "\n",
      "[1314 rows x 8 columns]\n",
      "\n"
     ]
    }
   ],
   "source": [
    "# \n",
    "print(f'train\\n{df_train}\\n')\n",
    "print(f'test\\n{df_test}\\n')"
   ]
  },
  {
   "cell_type": "code",
   "execution_count": 1016,
   "id": "ae9c8e51-1da9-42da-ab69-939fcabd98b6",
   "metadata": {},
   "outputs": [],
   "source": [
    "# 移動平均1日目を取り合えす終値で埋める\n",
    "df_train['SMA05'][0]=df_train['Close'][0]\n",
    "df_test['SMA05'][0]=df_test['Close'][0]\n",
    "\n",
    "df_train['SMA25'][0]=df_train['Close'][0]\n",
    "df_test['SMA25'][0]=df_test['Close'][0]\n",
    "\n",
    "df_train['SMA10'][0]=df_train['Close'][0]\n",
    "df_test['SMA10'][0]=df_test['Close'][0]"
   ]
  },
  {
   "cell_type": "code",
   "execution_count": 1017,
   "id": "5cdf214f-a636-4b2b-8144-7748b2206ee9",
   "metadata": {},
   "outputs": [
    {
     "name": "stdout",
     "output_type": "stream",
     "text": [
      "train\n",
      "           Date        High         Low        Open       Close       SMA05  \\\n",
      "0    2003-01-23  100.416900   99.950797  100.314203  100.235198  100.235198   \n",
      "1    2003-01-24  100.930402  100.172002  100.251001  100.717098         NaN   \n",
      "2    2003-01-27  101.862602  100.717098  100.796097  101.467602         NaN   \n",
      "3    2003-01-28  101.688801  101.135803  101.483405  101.491301         NaN   \n",
      "4    2003-01-29  101.609796  101.033100  101.483405  101.341199  101.050480   \n",
      "...         ...         ...         ...         ...         ...         ...   \n",
      "2182 2011-07-07   92.264890   90.571922   92.174042   92.193787   92.381019   \n",
      "2183 2011-07-10   90.644598   88.792047   90.489759   90.492917   91.900383   \n",
      "2184 2011-07-11   89.125431   86.571360   89.072500   89.074079   91.155097   \n",
      "2185 2011-07-12   88.502120   87.532002   87.532002   87.530417   90.184660   \n",
      "2186 2011-07-13   89.185468   88.197968   88.693297   88.732800   89.604800   \n",
      "\n",
      "           SMA10       SMA25  \n",
      "0     100.235198  100.235198  \n",
      "1            NaN         NaN  \n",
      "2            NaN         NaN  \n",
      "3            NaN         NaN  \n",
      "4            NaN         NaN  \n",
      "...          ...         ...  \n",
      "2182   92.000161   91.660887  \n",
      "2183   92.041477   91.566214  \n",
      "2184   91.806374   91.437349  \n",
      "2185   91.364131   91.217634  \n",
      "2186   91.004681   91.080237  \n",
      "\n",
      "[2187 rows x 8 columns]\n",
      "\n",
      "test\n",
      "           Date       High        Low       Open      Close      SMA05  \\\n",
      "0    2011-07-14  88.730431  87.984671  88.535300  88.551097  88.551097   \n",
      "1    2011-07-17  88.242998  87.426930  88.242998  88.266703        NaN   \n",
      "2    2011-07-18  88.714628  87.808501  88.115022  88.116601        NaN   \n",
      "3    2011-07-19  88.736748  88.195600  88.604818  88.590600        NaN   \n",
      "4    2011-07-20  89.372698  88.092902  88.772302  88.784152  88.461830   \n",
      "...         ...        ...        ...        ...        ...        ...   \n",
      "1309 2019-12-25  96.308939  95.580519  95.771703  95.771703  96.165754   \n",
      "1310 2019-12-26  96.193560  95.853860  95.859393  95.860182  96.001276   \n",
      "1311 2019-12-27  96.749722  95.988948  96.154847  96.127200  95.999064   \n",
      "1312 2019-12-30  96.748932  96.294679  96.696791  96.693633  96.056102   \n",
      "1313 2019-12-31  96.447149  96.150899  96.362617  96.372098  96.164963   \n",
      "\n",
      "          SMA10      SMA25  \n",
      "0     88.551097  88.551097  \n",
      "1           NaN        NaN  \n",
      "2           NaN        NaN  \n",
      "3           NaN        NaN  \n",
      "4           NaN        NaN  \n",
      "...         ...        ...  \n",
      "1309  95.725012  95.356097  \n",
      "1310  95.776836  95.367536  \n",
      "1311  95.849990  95.378849  \n",
      "1312  96.028530  95.438921  \n",
      "1313  96.134864  95.475355  \n",
      "\n",
      "[1314 rows x 8 columns]\n",
      "\n"
     ]
    }
   ],
   "source": [
    "# 結果\n",
    "print(f'train\\n{df_train}\\n')\n",
    "print(f'test\\n{df_test}\\n')"
   ]
  },
  {
   "cell_type": "code",
   "execution_count": 1018,
   "id": "79d2d0c2-e21f-4267-b4cd-52ed44579ceb",
   "metadata": {},
   "outputs": [],
   "source": [
    "#線形補間\n",
    "df_train=df_train.interpolate()\n",
    "df_test=df_test.interpolate()"
   ]
  },
  {
   "cell_type": "code",
   "execution_count": 1019,
   "id": "77821a81-14fa-49b4-bfe0-b347a203ada9",
   "metadata": {},
   "outputs": [
    {
     "name": "stdout",
     "output_type": "stream",
     "text": [
      "train\n",
      "           Date        High         Low        Open       Close       SMA05  \\\n",
      "0    2003-01-23  100.416900   99.950797  100.314203  100.235198  100.235198   \n",
      "1    2003-01-24  100.930402  100.172002  100.251001  100.717098  100.439018   \n",
      "2    2003-01-27  101.862602  100.717098  100.796097  101.467602  100.642839   \n",
      "3    2003-01-28  101.688801  101.135803  101.483405  101.491301  100.846659   \n",
      "4    2003-01-29  101.609796  101.033100  101.483405  101.341199  101.050480   \n",
      "...         ...         ...         ...         ...         ...         ...   \n",
      "2182 2011-07-07   92.264890   90.571922   92.174042   92.193787   92.381019   \n",
      "2183 2011-07-10   90.644598   88.792047   90.489759   90.492917   91.900383   \n",
      "2184 2011-07-11   89.125431   86.571360   89.072500   89.074079   91.155097   \n",
      "2185 2011-07-12   88.502120   87.532002   87.532002   87.530417   90.184660   \n",
      "2186 2011-07-13   89.185468   88.197968   88.693297   88.732800   89.604800   \n",
      "\n",
      "           SMA10       SMA25  \n",
      "0     100.235198  100.235198  \n",
      "1     100.395392  100.294040  \n",
      "2     100.555587  100.352882  \n",
      "3     100.715782  100.411724  \n",
      "4     100.875976  100.470565  \n",
      "...          ...         ...  \n",
      "2182   92.000161   91.660887  \n",
      "2183   92.041477   91.566214  \n",
      "2184   91.806374   91.437349  \n",
      "2185   91.364131   91.217634  \n",
      "2186   91.004681   91.080237  \n",
      "\n",
      "[2187 rows x 8 columns]\n",
      "\n",
      "test\n",
      "           Date       High        Low       Open      Close      SMA05  \\\n",
      "0    2011-07-14  88.730431  87.984671  88.535300  88.551097  88.551097   \n",
      "1    2011-07-17  88.242998  87.426930  88.242998  88.266703  88.528780   \n",
      "2    2011-07-18  88.714628  87.808501  88.115022  88.116601  88.506464   \n",
      "3    2011-07-19  88.736748  88.195600  88.604818  88.590600  88.484147   \n",
      "4    2011-07-20  89.372698  88.092902  88.772302  88.784152  88.461830   \n",
      "...         ...        ...        ...        ...        ...        ...   \n",
      "1309 2019-12-25  96.308939  95.580519  95.771703  95.771703  96.165754   \n",
      "1310 2019-12-26  96.193560  95.853860  95.859393  95.860182  96.001276   \n",
      "1311 2019-12-27  96.749722  95.988948  96.154847  96.127200  95.999064   \n",
      "1312 2019-12-30  96.748932  96.294679  96.696791  96.693633  96.056102   \n",
      "1313 2019-12-31  96.447149  96.150899  96.362617  96.372098  96.164963   \n",
      "\n",
      "          SMA10      SMA25  \n",
      "0     88.551097  88.551097  \n",
      "1     88.504786  88.509703  \n",
      "2     88.458475  88.468308  \n",
      "3     88.412163  88.426913  \n",
      "4     88.365852  88.385519  \n",
      "...         ...        ...  \n",
      "1309  95.725012  95.356097  \n",
      "1310  95.776836  95.367536  \n",
      "1311  95.849990  95.378849  \n",
      "1312  96.028530  95.438921  \n",
      "1313  96.134864  95.475355  \n",
      "\n",
      "[1314 rows x 8 columns]\n",
      "\n"
     ]
    }
   ],
   "source": [
    "# 結果\n",
    "print(f'train\\n{df_train}\\n')\n",
    "print(f'test\\n{df_test}\\n')"
   ]
  },
  {
   "cell_type": "code",
   "execution_count": null,
   "id": "d7e82d95-0fe2-46f3-bd21-4923745adca1",
   "metadata": {},
   "outputs": [],
   "source": []
  },
  {
   "cell_type": "markdown",
   "id": "d794b185-bb38-48be-b1df-13460fade9a3",
   "metadata": {},
   "source": [
    "## ゴールデンクロス"
   ]
  },
  {
   "cell_type": "code",
   "execution_count": 1020,
   "id": "ecb76d95-7a1d-4e92-bf6e-781d97db6533",
   "metadata": {},
   "outputs": [],
   "source": [
    "# # golden Cross, sma5がsma25を上抜いたとき\n",
    "# df['GC'] = 0\n",
    "# for i in range(len(df)-1):\n",
    "#     if ((df['sma5'][i] - df['sma25'][i]) > 0) & ((df['sma5'][i-1] - df['sma25'][i-1]) < 0):\n",
    "#         df.iloc[i, len(df.columns)-1] = 1\n",
    "#     else:\n",
    "#         df.iloc[i,len(df.columns)-1] = 0"
   ]
  },
  {
   "cell_type": "code",
   "execution_count": 1021,
   "id": "7119f949-c4cb-41a2-bc95-bc12731f5c7d",
   "metadata": {},
   "outputs": [],
   "source": [
    "def Golden(sma05,sma25):\n",
    "    dfGC=sma05.copy()\n",
    "    dfGC[0]=1\n",
    "    for i in range(1,len(sma05)):\n",
    "        if ((sma05[i] - sma25[i]) > 0) & ((sma05[i-1] - sma25[i-1]) < 0):\n",
    "            dfGC[i] = 2\n",
    "        else:\n",
    "            dfGC[i] = 1\n",
    "    return dfGC"
   ]
  },
  {
   "cell_type": "code",
   "execution_count": 1022,
   "id": "bc9d1402-311d-4612-8cd3-a8cc67747caf",
   "metadata": {},
   "outputs": [],
   "source": [
    "df_train['GC']=Golden(df_train['SMA05'],df_train['SMA25'])\n",
    "df_test['GC']=Golden(df_test['SMA05'],df_test['SMA25'])\n",
    "# df_test['RSI01']=RSI(df_test['Close'],span01)"
   ]
  },
  {
   "cell_type": "code",
   "execution_count": 1023,
   "id": "20deb0d3-af14-455a-ad34-c9ceffd3a269",
   "metadata": {},
   "outputs": [],
   "source": [
    "# GC確認\n",
    "df_train.to_csv('GC.csv')"
   ]
  },
  {
   "cell_type": "code",
   "execution_count": 1024,
   "id": "6fae8347-0c6c-4377-8587-0891bac3b6f3",
   "metadata": {},
   "outputs": [
    {
     "name": "stdout",
     "output_type": "stream",
     "text": [
      "train\n",
      "           Date        High         Low        Open       Close       SMA05  \\\n",
      "0    2003-01-23  100.416900   99.950797  100.314203  100.235198  100.235198   \n",
      "1    2003-01-24  100.930402  100.172002  100.251001  100.717098  100.439018   \n",
      "2    2003-01-27  101.862602  100.717098  100.796097  101.467602  100.642839   \n",
      "3    2003-01-28  101.688801  101.135803  101.483405  101.491301  100.846659   \n",
      "4    2003-01-29  101.609796  101.033100  101.483405  101.341199  101.050480   \n",
      "...         ...         ...         ...         ...         ...         ...   \n",
      "2182 2011-07-07   92.264890   90.571922   92.174042   92.193787   92.381019   \n",
      "2183 2011-07-10   90.644598   88.792047   90.489759   90.492917   91.900383   \n",
      "2184 2011-07-11   89.125431   86.571360   89.072500   89.074079   91.155097   \n",
      "2185 2011-07-12   88.502120   87.532002   87.532002   87.530417   90.184660   \n",
      "2186 2011-07-13   89.185468   88.197968   88.693297   88.732800   89.604800   \n",
      "\n",
      "           SMA10       SMA25   GC  \n",
      "0     100.235198  100.235198  1.0  \n",
      "1     100.395392  100.294040  1.0  \n",
      "2     100.555587  100.352882  1.0  \n",
      "3     100.715782  100.411724  1.0  \n",
      "4     100.875976  100.470565  1.0  \n",
      "...          ...         ...  ...  \n",
      "2182   92.000161   91.660887  1.0  \n",
      "2183   92.041477   91.566214  1.0  \n",
      "2184   91.806374   91.437349  1.0  \n",
      "2185   91.364131   91.217634  1.0  \n",
      "2186   91.004681   91.080237  1.0  \n",
      "\n",
      "[2187 rows x 9 columns]\n",
      "\n",
      "test\n",
      "           Date       High        Low       Open      Close      SMA05  \\\n",
      "0    2011-07-14  88.730431  87.984671  88.535300  88.551097  88.551097   \n",
      "1    2011-07-17  88.242998  87.426930  88.242998  88.266703  88.528780   \n",
      "2    2011-07-18  88.714628  87.808501  88.115022  88.116601  88.506464   \n",
      "3    2011-07-19  88.736748  88.195600  88.604818  88.590600  88.484147   \n",
      "4    2011-07-20  89.372698  88.092902  88.772302  88.784152  88.461830   \n",
      "...         ...        ...        ...        ...        ...        ...   \n",
      "1309 2019-12-25  96.308939  95.580519  95.771703  95.771703  96.165754   \n",
      "1310 2019-12-26  96.193560  95.853860  95.859393  95.860182  96.001276   \n",
      "1311 2019-12-27  96.749722  95.988948  96.154847  96.127200  95.999064   \n",
      "1312 2019-12-30  96.748932  96.294679  96.696791  96.693633  96.056102   \n",
      "1313 2019-12-31  96.447149  96.150899  96.362617  96.372098  96.164963   \n",
      "\n",
      "          SMA10      SMA25   GC  \n",
      "0     88.551097  88.551097  1.0  \n",
      "1     88.504786  88.509703  1.0  \n",
      "2     88.458475  88.468308  1.0  \n",
      "3     88.412163  88.426913  1.0  \n",
      "4     88.365852  88.385519  1.0  \n",
      "...         ...        ...  ...  \n",
      "1309  95.725012  95.356097  1.0  \n",
      "1310  95.776836  95.367536  1.0  \n",
      "1311  95.849990  95.378849  1.0  \n",
      "1312  96.028530  95.438921  1.0  \n",
      "1313  96.134864  95.475355  1.0  \n",
      "\n",
      "[1314 rows x 9 columns]\n",
      "\n"
     ]
    }
   ],
   "source": [
    "# 結果\n",
    "print(f'train\\n{df_train}\\n')\n",
    "print(f'test\\n{df_test}\\n')"
   ]
  },
  {
   "cell_type": "code",
   "execution_count": null,
   "id": "a4af7213-1240-45fb-94b8-9254c0327059",
   "metadata": {},
   "outputs": [],
   "source": []
  },
  {
   "cell_type": "code",
   "execution_count": 1025,
   "id": "1cca0511-5d93-4321-86b6-2646cd67cfc6",
   "metadata": {},
   "outputs": [],
   "source": [
    "# df_train.to_csv('IdoHeikin.csv')"
   ]
  },
  {
   "cell_type": "code",
   "execution_count": 1026,
   "id": "12999b90-4656-47c2-b516-9cbf59fe2621",
   "metadata": {},
   "outputs": [],
   "source": [
    "# # RSI関数\n",
    "# def RSI(df,span):\n",
    "#     #　終値の差分\n",
    "#     df_diff=df.diff()\n",
    "    \n",
    "#     # 値上幅と値下幅\n",
    "#     df_up, df_down = df_diff.copy(), df_diff.copy()\n",
    "#     df_up[df_up < 0] = 0\n",
    "#     df_down[df_down > 0] = 0\n",
    "#     df_down = df_down * -1\n",
    "    \n",
    "#     # 移動平均\n",
    "#     up_sma_01 = df_up.rolling(window=span01, center=False).mean()\n",
    "#     down_sma_01 = df_down.abs().rolling(window=span01, center=False).mean()\n",
    "\n",
    "#     # RSI\n",
    "#     df = up_sma_01 / (up_sma_01 + down_sma_01) * 100\n",
    "\n",
    "#     return df"
   ]
  },
  {
   "cell_type": "code",
   "execution_count": 1027,
   "id": "63693775-69b6-442c-9b9c-82934d83964a",
   "metadata": {},
   "outputs": [],
   "source": [
    "# df_train['RSI01']=RSI(df_train['Close'],span01)\n",
    "# df_test['RSI01']=RSI(df_test['Close'],span01)"
   ]
  },
  {
   "cell_type": "markdown",
   "id": "654067ef-9793-41d9-be50-353bdbc2996d",
   "metadata": {},
   "source": [
    "## ボリンジャーバンド"
   ]
  },
  {
   "cell_type": "code",
   "execution_count": 1028,
   "id": "07925b56-e2ad-47c0-a30c-daca98bf653c",
   "metadata": {},
   "outputs": [],
   "source": [
    "df_train['mean'] = df_train['Close'].rolling(window=span05).mean()\n",
    "df_train['std'] = df_train['Close'].rolling(window=span05).std()\n",
    "df_train['upper'] = df_train['mean'] + (df_train['std'] * 2)\n",
    "df_train['lower'] = df_train['mean'] - (df_train['std'] * 2)\n",
    "\n",
    "df_test['mean'] = df_test['Close'].rolling(window=span05).mean()\n",
    "df_test['std'] = df_test['Close'].rolling(window=span05).std()\n",
    "df_test['upper'] = df_test['mean'] + (df_test['std'] * 2)\n",
    "df_test['lower'] = df_test['mean'] - (df_test['std'] * 2)"
   ]
  },
  {
   "cell_type": "code",
   "execution_count": 1029,
   "id": "fe88c473-c7a7-46cf-a6bc-5b3ac9de8130",
   "metadata": {},
   "outputs": [],
   "source": [
    "# bband = pd.DataFrame()\n",
    "# bband['Close'] = df_train['Close']\n",
    "# bband['mean'] = df_train['Close'].rolling(window=span01).mean()\n",
    "# bband['std'] = df_train['Close'].rolling(window=span01).std()\n",
    "# bband['upper'] = bband['mean'] + (bband['std'] * 2)\n",
    "# bband['lower'] = bband['mean'] - (bband['std'] * 2)"
   ]
  },
  {
   "cell_type": "code",
   "execution_count": 1030,
   "id": "8b8c40cf-4ea9-4f53-b768-d5558c192718",
   "metadata": {},
   "outputs": [
    {
     "data": {
      "text/html": [
       "<div>\n",
       "<style scoped>\n",
       "    .dataframe tbody tr th:only-of-type {\n",
       "        vertical-align: middle;\n",
       "    }\n",
       "\n",
       "    .dataframe tbody tr th {\n",
       "        vertical-align: top;\n",
       "    }\n",
       "\n",
       "    .dataframe thead th {\n",
       "        text-align: right;\n",
       "    }\n",
       "</style>\n",
       "<table border=\"1\" class=\"dataframe\">\n",
       "  <thead>\n",
       "    <tr style=\"text-align: right;\">\n",
       "      <th></th>\n",
       "      <th>Date</th>\n",
       "      <th>High</th>\n",
       "      <th>Low</th>\n",
       "      <th>Open</th>\n",
       "      <th>Close</th>\n",
       "      <th>SMA05</th>\n",
       "      <th>SMA10</th>\n",
       "      <th>SMA25</th>\n",
       "      <th>GC</th>\n",
       "      <th>mean</th>\n",
       "      <th>std</th>\n",
       "      <th>upper</th>\n",
       "      <th>lower</th>\n",
       "    </tr>\n",
       "  </thead>\n",
       "  <tbody>\n",
       "    <tr>\n",
       "      <th>18</th>\n",
       "      <td>2003-02-18</td>\n",
       "      <td>101.799400</td>\n",
       "      <td>100.251001</td>\n",
       "      <td>101.799400</td>\n",
       "      <td>100.416900</td>\n",
       "      <td>102.096439</td>\n",
       "      <td>102.342920</td>\n",
       "      <td>101.294352</td>\n",
       "      <td>1.0</td>\n",
       "      <td>102.096439</td>\n",
       "      <td>1.036023</td>\n",
       "      <td>104.168486</td>\n",
       "      <td>100.024392</td>\n",
       "    </tr>\n",
       "    <tr>\n",
       "      <th>19</th>\n",
       "      <td>2003-02-19</td>\n",
       "      <td>100.962002</td>\n",
       "      <td>100.235198</td>\n",
       "      <td>100.424802</td>\n",
       "      <td>100.748699</td>\n",
       "      <td>101.721980</td>\n",
       "      <td>102.192820</td>\n",
       "      <td>101.353194</td>\n",
       "      <td>1.0</td>\n",
       "      <td>101.721980</td>\n",
       "      <td>1.132864</td>\n",
       "      <td>103.987708</td>\n",
       "      <td>99.456252</td>\n",
       "    </tr>\n",
       "    <tr>\n",
       "      <th>20</th>\n",
       "      <td>2003-02-20</td>\n",
       "      <td>101.285905</td>\n",
       "      <td>100.717098</td>\n",
       "      <td>100.717098</td>\n",
       "      <td>101.151595</td>\n",
       "      <td>101.338038</td>\n",
       "      <td>102.049829</td>\n",
       "      <td>101.412036</td>\n",
       "      <td>1.0</td>\n",
       "      <td>101.338038</td>\n",
       "      <td>0.851637</td>\n",
       "      <td>103.041312</td>\n",
       "      <td>99.634765</td>\n",
       "    </tr>\n",
       "    <tr>\n",
       "      <th>21</th>\n",
       "      <td>2003-02-21</td>\n",
       "      <td>101.688801</td>\n",
       "      <td>100.756601</td>\n",
       "      <td>101.135803</td>\n",
       "      <td>100.969898</td>\n",
       "      <td>101.026778</td>\n",
       "      <td>101.861809</td>\n",
       "      <td>101.470878</td>\n",
       "      <td>1.0</td>\n",
       "      <td>101.026778</td>\n",
       "      <td>0.533977</td>\n",
       "      <td>102.094733</td>\n",
       "      <td>99.958824</td>\n",
       "    </tr>\n",
       "    <tr>\n",
       "      <th>22</th>\n",
       "      <td>2003-02-24</td>\n",
       "      <td>100.827698</td>\n",
       "      <td>99.729598</td>\n",
       "      <td>100.330000</td>\n",
       "      <td>100.827698</td>\n",
       "      <td>100.822958</td>\n",
       "      <td>101.688008</td>\n",
       "      <td>101.529720</td>\n",
       "      <td>1.0</td>\n",
       "      <td>100.822958</td>\n",
       "      <td>0.273867</td>\n",
       "      <td>101.370692</td>\n",
       "      <td>100.275224</td>\n",
       "    </tr>\n",
       "    <tr>\n",
       "      <th>23</th>\n",
       "      <td>2003-02-25</td>\n",
       "      <td>100.890899</td>\n",
       "      <td>99.555797</td>\n",
       "      <td>100.811900</td>\n",
       "      <td>99.705899</td>\n",
       "      <td>100.680758</td>\n",
       "      <td>101.388598</td>\n",
       "      <td>101.588561</td>\n",
       "      <td>1.0</td>\n",
       "      <td>100.680758</td>\n",
       "      <td>0.566093</td>\n",
       "      <td>101.812944</td>\n",
       "      <td>99.548571</td>\n",
       "    </tr>\n",
       "    <tr>\n",
       "      <th>24</th>\n",
       "      <td>2003-02-26</td>\n",
       "      <td>100.006097</td>\n",
       "      <td>99.555797</td>\n",
       "      <td>99.713801</td>\n",
       "      <td>99.832302</td>\n",
       "      <td>100.497478</td>\n",
       "      <td>101.109729</td>\n",
       "      <td>101.647403</td>\n",
       "      <td>1.0</td>\n",
       "      <td>100.497478</td>\n",
       "      <td>0.676230</td>\n",
       "      <td>101.849939</td>\n",
       "      <td>99.145018</td>\n",
       "    </tr>\n",
       "  </tbody>\n",
       "</table>\n",
       "</div>"
      ],
      "text/plain": [
       "         Date        High         Low        Open       Close       SMA05  \\\n",
       "18 2003-02-18  101.799400  100.251001  101.799400  100.416900  102.096439   \n",
       "19 2003-02-19  100.962002  100.235198  100.424802  100.748699  101.721980   \n",
       "20 2003-02-20  101.285905  100.717098  100.717098  101.151595  101.338038   \n",
       "21 2003-02-21  101.688801  100.756601  101.135803  100.969898  101.026778   \n",
       "22 2003-02-24  100.827698   99.729598  100.330000  100.827698  100.822958   \n",
       "23 2003-02-25  100.890899   99.555797  100.811900   99.705899  100.680758   \n",
       "24 2003-02-26  100.006097   99.555797   99.713801   99.832302  100.497478   \n",
       "\n",
       "         SMA10       SMA25   GC        mean       std       upper       lower  \n",
       "18  102.342920  101.294352  1.0  102.096439  1.036023  104.168486  100.024392  \n",
       "19  102.192820  101.353194  1.0  101.721980  1.132864  103.987708   99.456252  \n",
       "20  102.049829  101.412036  1.0  101.338038  0.851637  103.041312   99.634765  \n",
       "21  101.861809  101.470878  1.0  101.026778  0.533977  102.094733   99.958824  \n",
       "22  101.688008  101.529720  1.0  100.822958  0.273867  101.370692  100.275224  \n",
       "23  101.388598  101.588561  1.0  100.680758  0.566093  101.812944   99.548571  \n",
       "24  101.109729  101.647403  1.0  100.497478  0.676230  101.849939   99.145018  "
      ]
     },
     "execution_count": 1030,
     "metadata": {},
     "output_type": "execute_result"
    }
   ],
   "source": [
    "df_train[18:25]"
   ]
  },
  {
   "cell_type": "code",
   "execution_count": 1031,
   "id": "0daa1328-912f-42c3-bef8-458c7bb6341a",
   "metadata": {},
   "outputs": [
    {
     "data": {
      "text/plain": [
       "[<matplotlib.lines.Line2D at 0x7fa5f393f2e0>,\n",
       " <matplotlib.lines.Line2D at 0x7fa5f393f3d0>,\n",
       " <matplotlib.lines.Line2D at 0x7fa5f393f490>,\n",
       " <matplotlib.lines.Line2D at 0x7fa5f393f550>,\n",
       " <matplotlib.lines.Line2D at 0x7fa5f393f610>,\n",
       " <matplotlib.lines.Line2D at 0x7fa5f393f6d0>]"
      ]
     },
     "execution_count": 1031,
     "metadata": {},
     "output_type": "execute_result"
    },
    {
     "data": {
      "image/png": "[encoded data removed]",
      "text/plain": [
       "<Figure size 2160x720 with 1 Axes>"
      ]
     },
     "metadata": {
      "needs_background": "light"
     },
     "output_type": "display_data"
    }
   ],
   "source": [
    "bband=df_train\n",
    "drop = ['Date', 'High','Low', 'Open', 'SMA05','SMA25', 'std',]\n",
    "bband = df_train.drop(columns=drop,axis=1) \n",
    "\n",
    "fig = plt.subplots(figsize=(30,10))\n",
    "# plt.title('Bollinger Band')\n",
    "# plt.ylabel('USD/JPY')\n",
    "plt.plot(bband)\n",
    "# plt.legend()"
   ]
  },
  {
   "cell_type": "code",
   "execution_count": 1032,
   "id": "fb179fb7-f225-425e-83ab-9c189cdd6ff7",
   "metadata": {},
   "outputs": [
    {
     "data": {
      "text/html": [
       "<div>\n",
       "<style scoped>\n",
       "    .dataframe tbody tr th:only-of-type {\n",
       "        vertical-align: middle;\n",
       "    }\n",
       "\n",
       "    .dataframe tbody tr th {\n",
       "        vertical-align: top;\n",
       "    }\n",
       "\n",
       "    .dataframe thead th {\n",
       "        text-align: right;\n",
       "    }\n",
       "</style>\n",
       "<table border=\"1\" class=\"dataframe\">\n",
       "  <thead>\n",
       "    <tr style=\"text-align: right;\">\n",
       "      <th></th>\n",
       "      <th>Date</th>\n",
       "      <th>High</th>\n",
       "      <th>Low</th>\n",
       "      <th>Open</th>\n",
       "      <th>Close</th>\n",
       "      <th>SMA05</th>\n",
       "      <th>SMA10</th>\n",
       "      <th>SMA25</th>\n",
       "      <th>GC</th>\n",
       "      <th>mean</th>\n",
       "      <th>std</th>\n",
       "      <th>upper</th>\n",
       "      <th>lower</th>\n",
       "    </tr>\n",
       "  </thead>\n",
       "  <tbody>\n",
       "    <tr>\n",
       "      <th>0</th>\n",
       "      <td>2003-01-23</td>\n",
       "      <td>100.416900</td>\n",
       "      <td>99.950797</td>\n",
       "      <td>100.314203</td>\n",
       "      <td>100.235198</td>\n",
       "      <td>100.235198</td>\n",
       "      <td>100.235198</td>\n",
       "      <td>100.235198</td>\n",
       "      <td>1.0</td>\n",
       "      <td>NaN</td>\n",
       "      <td>NaN</td>\n",
       "      <td>NaN</td>\n",
       "      <td>NaN</td>\n",
       "    </tr>\n",
       "    <tr>\n",
       "      <th>1</th>\n",
       "      <td>2003-01-24</td>\n",
       "      <td>100.930402</td>\n",
       "      <td>100.172002</td>\n",
       "      <td>100.251001</td>\n",
       "      <td>100.717098</td>\n",
       "      <td>100.439018</td>\n",
       "      <td>100.395392</td>\n",
       "      <td>100.294040</td>\n",
       "      <td>1.0</td>\n",
       "      <td>NaN</td>\n",
       "      <td>NaN</td>\n",
       "      <td>NaN</td>\n",
       "      <td>NaN</td>\n",
       "    </tr>\n",
       "    <tr>\n",
       "      <th>2</th>\n",
       "      <td>2003-01-27</td>\n",
       "      <td>101.862602</td>\n",
       "      <td>100.717098</td>\n",
       "      <td>100.796097</td>\n",
       "      <td>101.467602</td>\n",
       "      <td>100.642839</td>\n",
       "      <td>100.555587</td>\n",
       "      <td>100.352882</td>\n",
       "      <td>1.0</td>\n",
       "      <td>NaN</td>\n",
       "      <td>NaN</td>\n",
       "      <td>NaN</td>\n",
       "      <td>NaN</td>\n",
       "    </tr>\n",
       "    <tr>\n",
       "      <th>3</th>\n",
       "      <td>2003-01-28</td>\n",
       "      <td>101.688801</td>\n",
       "      <td>101.135803</td>\n",
       "      <td>101.483405</td>\n",
       "      <td>101.491301</td>\n",
       "      <td>100.846659</td>\n",
       "      <td>100.715782</td>\n",
       "      <td>100.411724</td>\n",
       "      <td>1.0</td>\n",
       "      <td>NaN</td>\n",
       "      <td>NaN</td>\n",
       "      <td>NaN</td>\n",
       "      <td>NaN</td>\n",
       "    </tr>\n",
       "    <tr>\n",
       "      <th>4</th>\n",
       "      <td>2003-01-29</td>\n",
       "      <td>101.609796</td>\n",
       "      <td>101.033100</td>\n",
       "      <td>101.483405</td>\n",
       "      <td>101.341199</td>\n",
       "      <td>101.050480</td>\n",
       "      <td>100.875976</td>\n",
       "      <td>100.470565</td>\n",
       "      <td>1.0</td>\n",
       "      <td>101.050480</td>\n",
       "      <td>0.554225</td>\n",
       "      <td>102.158929</td>\n",
       "      <td>99.942030</td>\n",
       "    </tr>\n",
       "    <tr>\n",
       "      <th>...</th>\n",
       "      <td>...</td>\n",
       "      <td>...</td>\n",
       "      <td>...</td>\n",
       "      <td>...</td>\n",
       "      <td>...</td>\n",
       "      <td>...</td>\n",
       "      <td>...</td>\n",
       "      <td>...</td>\n",
       "      <td>...</td>\n",
       "      <td>...</td>\n",
       "      <td>...</td>\n",
       "      <td>...</td>\n",
       "      <td>...</td>\n",
       "    </tr>\n",
       "    <tr>\n",
       "      <th>2182</th>\n",
       "      <td>2011-07-07</td>\n",
       "      <td>92.264890</td>\n",
       "      <td>90.571922</td>\n",
       "      <td>92.174042</td>\n",
       "      <td>92.193787</td>\n",
       "      <td>92.381019</td>\n",
       "      <td>92.000161</td>\n",
       "      <td>91.660887</td>\n",
       "      <td>1.0</td>\n",
       "      <td>92.381019</td>\n",
       "      <td>0.509220</td>\n",
       "      <td>93.399459</td>\n",
       "      <td>91.362579</td>\n",
       "    </tr>\n",
       "    <tr>\n",
       "      <th>2183</th>\n",
       "      <td>2011-07-10</td>\n",
       "      <td>90.644598</td>\n",
       "      <td>88.792047</td>\n",
       "      <td>90.489759</td>\n",
       "      <td>90.492917</td>\n",
       "      <td>91.900383</td>\n",
       "      <td>92.041477</td>\n",
       "      <td>91.566214</td>\n",
       "      <td>1.0</td>\n",
       "      <td>91.900383</td>\n",
       "      <td>0.891878</td>\n",
       "      <td>93.684140</td>\n",
       "      <td>90.116626</td>\n",
       "    </tr>\n",
       "    <tr>\n",
       "      <th>2184</th>\n",
       "      <td>2011-07-11</td>\n",
       "      <td>89.125431</td>\n",
       "      <td>86.571360</td>\n",
       "      <td>89.072500</td>\n",
       "      <td>89.074079</td>\n",
       "      <td>91.155097</td>\n",
       "      <td>91.806374</td>\n",
       "      <td>91.437349</td>\n",
       "      <td>1.0</td>\n",
       "      <td>91.155097</td>\n",
       "      <td>1.376798</td>\n",
       "      <td>93.908693</td>\n",
       "      <td>88.401500</td>\n",
       "    </tr>\n",
       "    <tr>\n",
       "      <th>2185</th>\n",
       "      <td>2011-07-12</td>\n",
       "      <td>88.502120</td>\n",
       "      <td>87.532002</td>\n",
       "      <td>87.532002</td>\n",
       "      <td>87.530417</td>\n",
       "      <td>90.184660</td>\n",
       "      <td>91.364131</td>\n",
       "      <td>91.217634</td>\n",
       "      <td>1.0</td>\n",
       "      <td>90.184660</td>\n",
       "      <td>1.904277</td>\n",
       "      <td>93.993214</td>\n",
       "      <td>86.376105</td>\n",
       "    </tr>\n",
       "    <tr>\n",
       "      <th>2186</th>\n",
       "      <td>2011-07-13</td>\n",
       "      <td>89.185468</td>\n",
       "      <td>88.197968</td>\n",
       "      <td>88.693297</td>\n",
       "      <td>88.732800</td>\n",
       "      <td>89.604800</td>\n",
       "      <td>91.004681</td>\n",
       "      <td>91.080237</td>\n",
       "      <td>1.0</td>\n",
       "      <td>89.604800</td>\n",
       "      <td>1.791418</td>\n",
       "      <td>93.187637</td>\n",
       "      <td>86.021963</td>\n",
       "    </tr>\n",
       "  </tbody>\n",
       "</table>\n",
       "<p>2187 rows × 13 columns</p>\n",
       "</div>"
      ],
      "text/plain": [
       "           Date        High         Low        Open       Close       SMA05  \\\n",
       "0    2003-01-23  100.416900   99.950797  100.314203  100.235198  100.235198   \n",
       "1    2003-01-24  100.930402  100.172002  100.251001  100.717098  100.439018   \n",
       "2    2003-01-27  101.862602  100.717098  100.796097  101.467602  100.642839   \n",
       "3    2003-01-28  101.688801  101.135803  101.483405  101.491301  100.846659   \n",
       "4    2003-01-29  101.609796  101.033100  101.483405  101.341199  101.050480   \n",
       "...         ...         ...         ...         ...         ...         ...   \n",
       "2182 2011-07-07   92.264890   90.571922   92.174042   92.193787   92.381019   \n",
       "2183 2011-07-10   90.644598   88.792047   90.489759   90.492917   91.900383   \n",
       "2184 2011-07-11   89.125431   86.571360   89.072500   89.074079   91.155097   \n",
       "2185 2011-07-12   88.502120   87.532002   87.532002   87.530417   90.184660   \n",
       "2186 2011-07-13   89.185468   88.197968   88.693297   88.732800   89.604800   \n",
       "\n",
       "           SMA10       SMA25   GC        mean       std       upper      lower  \n",
       "0     100.235198  100.235198  1.0         NaN       NaN         NaN        NaN  \n",
       "1     100.395392  100.294040  1.0         NaN       NaN         NaN        NaN  \n",
       "2     100.555587  100.352882  1.0         NaN       NaN         NaN        NaN  \n",
       "3     100.715782  100.411724  1.0         NaN       NaN         NaN        NaN  \n",
       "4     100.875976  100.470565  1.0  101.050480  0.554225  102.158929  99.942030  \n",
       "...          ...         ...  ...         ...       ...         ...        ...  \n",
       "2182   92.000161   91.660887  1.0   92.381019  0.509220   93.399459  91.362579  \n",
       "2183   92.041477   91.566214  1.0   91.900383  0.891878   93.684140  90.116626  \n",
       "2184   91.806374   91.437349  1.0   91.155097  1.376798   93.908693  88.401500  \n",
       "2185   91.364131   91.217634  1.0   90.184660  1.904277   93.993214  86.376105  \n",
       "2186   91.004681   91.080237  1.0   89.604800  1.791418   93.187637  86.021963  \n",
       "\n",
       "[2187 rows x 13 columns]"
      ]
     },
     "execution_count": 1032,
     "metadata": {},
     "output_type": "execute_result"
    }
   ],
   "source": [
    "df_train"
   ]
  },
  {
   "cell_type": "code",
   "execution_count": 1033,
   "id": "8b2efeca-89c3-451c-859f-cde1172b310f",
   "metadata": {},
   "outputs": [],
   "source": [
    "# mean/std削除＋1日目を取り合えす終値で埋める\n",
    "drop = ['mean', 'std',]\n",
    "df_train = df_train.drop(columns=drop,axis=1) \n",
    "df_train['lower'][0]=df_train['Close'][0]\n",
    "df_train['upper'][0]=df_train['Close'][0]\n",
    "\n",
    "df_test = df_test.drop(columns=drop,axis=1) \n",
    "df_test['lower'][0]=df_test['Close'][0]\n",
    "df_test['upper'][0]=df_test['Close'][0]"
   ]
  },
  {
   "cell_type": "code",
   "execution_count": 1034,
   "id": "e917d695-0f0f-48ca-ae0a-525287b2fe5f",
   "metadata": {},
   "outputs": [],
   "source": [
    "#線形補間\n",
    "df_train=df_train.interpolate()\n",
    "df_test=df_test.interpolate()"
   ]
  },
  {
   "cell_type": "code",
   "execution_count": 1035,
   "id": "523eab18-9a03-4378-a2c8-78b20418419d",
   "metadata": {},
   "outputs": [
    {
     "name": "stdout",
     "output_type": "stream",
     "text": [
      "train\n",
      "           Date        High         Low        Open       Close       SMA05  \\\n",
      "0    2003-01-23  100.416900   99.950797  100.314203  100.235198  100.235198   \n",
      "1    2003-01-24  100.930402  100.172002  100.251001  100.717098  100.439018   \n",
      "2    2003-01-27  101.862602  100.717098  100.796097  101.467602  100.642839   \n",
      "3    2003-01-28  101.688801  101.135803  101.483405  101.491301  100.846659   \n",
      "4    2003-01-29  101.609796  101.033100  101.483405  101.341199  101.050480   \n",
      "...         ...         ...         ...         ...         ...         ...   \n",
      "2182 2011-07-07   92.264890   90.571922   92.174042   92.193787   92.381019   \n",
      "2183 2011-07-10   90.644598   88.792047   90.489759   90.492917   91.900383   \n",
      "2184 2011-07-11   89.125431   86.571360   89.072500   89.074079   91.155097   \n",
      "2185 2011-07-12   88.502120   87.532002   87.532002   87.530417   90.184660   \n",
      "2186 2011-07-13   89.185468   88.197968   88.693297   88.732800   89.604800   \n",
      "\n",
      "           SMA10       SMA25   GC       upper       lower  \n",
      "0     100.235198  100.235198  1.0  100.235198  100.235198  \n",
      "1     100.395392  100.294040  1.0  100.716131  100.161906  \n",
      "2     100.555587  100.352882  1.0  101.197063  100.088614  \n",
      "3     100.715782  100.411724  1.0  101.677996  100.015322  \n",
      "4     100.875976  100.470565  1.0  102.158929   99.942030  \n",
      "...          ...         ...  ...         ...         ...  \n",
      "2182   92.000161   91.660887  1.0   93.399459   91.362579  \n",
      "2183   92.041477   91.566214  1.0   93.684140   90.116626  \n",
      "2184   91.806374   91.437349  1.0   93.908693   88.401500  \n",
      "2185   91.364131   91.217634  1.0   93.993214   86.376105  \n",
      "2186   91.004681   91.080237  1.0   93.187637   86.021963  \n",
      "\n",
      "[2187 rows x 11 columns]\n",
      "\n",
      "test\n",
      "           Date       High        Low       Open      Close      SMA05  \\\n",
      "0    2011-07-14  88.730431  87.984671  88.535300  88.551097  88.551097   \n",
      "1    2011-07-17  88.242998  87.426930  88.242998  88.266703  88.528780   \n",
      "2    2011-07-18  88.714628  87.808501  88.115022  88.116601  88.506464   \n",
      "3    2011-07-19  88.736748  88.195600  88.604818  88.590600  88.484147   \n",
      "4    2011-07-20  89.372698  88.092902  88.772302  88.784152  88.461830   \n",
      "...         ...        ...        ...        ...        ...        ...   \n",
      "1309 2019-12-25  96.308939  95.580519  95.771703  95.771703  96.165754   \n",
      "1310 2019-12-26  96.193560  95.853860  95.859393  95.860182  96.001276   \n",
      "1311 2019-12-27  96.749722  95.988948  96.154847  96.127200  95.999064   \n",
      "1312 2019-12-30  96.748932  96.294679  96.696791  96.693633  96.056102   \n",
      "1313 2019-12-31  96.447149  96.150899  96.362617  96.372098  96.164963   \n",
      "\n",
      "          SMA10      SMA25   GC      upper      lower  \n",
      "0     88.551097  88.551097  1.0  88.551097  88.551097  \n",
      "1     88.504786  88.509703  1.0  88.662408  88.395153  \n",
      "2     88.458475  88.468308  1.0  88.773718  88.239209  \n",
      "3     88.412163  88.426913  1.0  88.885028  88.083266  \n",
      "4     88.365852  88.385519  1.0  88.996339  87.927322  \n",
      "...         ...        ...  ...        ...        ...  \n",
      "1309  95.725012  95.356097  1.0  96.937926  95.393582  \n",
      "1310  95.776836  95.367536  1.0  96.537240  95.465312  \n",
      "1311  95.849990  95.378849  1.0  96.532285  95.465843  \n",
      "1312  96.028530  95.438921  1.0  96.819576  95.292628  \n",
      "1313  96.134864  95.475355  1.0  96.920852  95.409075  \n",
      "\n",
      "[1314 rows x 11 columns]\n",
      "\n"
     ]
    }
   ],
   "source": [
    "# 結果\n",
    "print(f'train\\n{df_train}\\n')\n",
    "print(f'test\\n{df_test}\\n')"
   ]
  },
  {
   "cell_type": "code",
   "execution_count": null,
   "id": "9a9bf7e3-8e8a-4501-bd3e-0529d186658c",
   "metadata": {},
   "outputs": [],
   "source": []
  },
  {
   "cell_type": "code",
   "execution_count": null,
   "id": "5e1d9108-152a-4e39-b371-5e07767f783a",
   "metadata": {},
   "outputs": [],
   "source": []
  },
  {
   "cell_type": "markdown",
   "id": "9ae40957-fb61-41b4-91f0-1d9a927c3a9c",
   "metadata": {},
   "source": [
    "## 指数移動平滑平均(EMA)の追加"
   ]
  },
  {
   "cell_type": "code",
   "execution_count": 1036,
   "id": "5a3b9ef6-60b3-4369-89b9-cffe0967221f",
   "metadata": {},
   "outputs": [],
   "source": [
    "# # EMA関数\n",
    "# def EMA(df,span):\n",
    "#     df[\"EMA\"] = df[\"Close\"].ewm(span=span).mean()\n",
    "#     return df"
   ]
  },
  {
   "cell_type": "code",
   "execution_count": 1037,
   "id": "9d10678b-e4d6-4bc4-9680-1a1cf65725b3",
   "metadata": {},
   "outputs": [],
   "source": [
    "# EMAを計算する\n",
    "# df_train = EMA(df_train,span01)\n",
    "# df_test = EMA(df_test,span01)"
   ]
  },
  {
   "cell_type": "code",
   "execution_count": 1038,
   "id": "6700a257-fa97-4fba-b76d-1bd4cf8c9b84",
   "metadata": {},
   "outputs": [],
   "source": [
    "df_train['EMA05']=df_train['Close'].ewm(span=span05, adjust=False).mean()\n",
    "df_test['EMA05']=df_test['Close'].ewm(span=span05, adjust=False).mean()\n",
    "\n",
    "# df_train['EMA02']=df_train['Close'].ewm(span=span02, adjust=False).mean()\n",
    "# df_test['EMA02']=df_test['Close'].ewm(span=span02, adjust=False).mean()\n",
    "\n",
    "# df_train['EMA03']=df_train['Close'].ewm(span=span03, adjust=False).mean()\n",
    "# df_test['EMA03']=df_test['Close'].ewm(span=span03, adjust=False).mean()"
   ]
  },
  {
   "cell_type": "code",
   "execution_count": null,
   "id": "cc47b9cf-180c-4b9c-8261-d3cf2f9349b5",
   "metadata": {},
   "outputs": [],
   "source": []
  },
  {
   "cell_type": "code",
   "execution_count": 1039,
   "id": "6638bd50-61a9-4a31-aa5c-f6a897bb7ccd",
   "metadata": {},
   "outputs": [
    {
     "name": "stdout",
     "output_type": "stream",
     "text": [
      "train\n",
      "           Date        High         Low        Open       Close       SMA05  \\\n",
      "0    2003-01-23  100.416900   99.950797  100.314203  100.235198  100.235198   \n",
      "1    2003-01-24  100.930402  100.172002  100.251001  100.717098  100.439018   \n",
      "2    2003-01-27  101.862602  100.717098  100.796097  101.467602  100.642839   \n",
      "3    2003-01-28  101.688801  101.135803  101.483405  101.491301  100.846659   \n",
      "4    2003-01-29  101.609796  101.033100  101.483405  101.341199  101.050480   \n",
      "...         ...         ...         ...         ...         ...         ...   \n",
      "2182 2011-07-07   92.264890   90.571922   92.174042   92.193787   92.381019   \n",
      "2183 2011-07-10   90.644598   88.792047   90.489759   90.492917   91.900383   \n",
      "2184 2011-07-11   89.125431   86.571360   89.072500   89.074079   91.155097   \n",
      "2185 2011-07-12   88.502120   87.532002   87.532002   87.530417   90.184660   \n",
      "2186 2011-07-13   89.185468   88.197968   88.693297   88.732800   89.604800   \n",
      "\n",
      "           SMA10       SMA25   GC       upper       lower       EMA05  \n",
      "0     100.235198  100.235198  1.0  100.235198  100.235198  100.235198  \n",
      "1     100.395392  100.294040  1.0  100.716131  100.161906  100.395831  \n",
      "2     100.555587  100.352882  1.0  101.197063  100.088614  100.753088  \n",
      "3     100.715782  100.411724  1.0  101.677996  100.015322  100.999159  \n",
      "4     100.875976  100.470565  1.0  102.158929   99.942030  101.113172  \n",
      "...          ...         ...  ...         ...         ...         ...  \n",
      "2182   92.000161   91.660887  1.0   93.399459   91.362579   92.155712  \n",
      "2183   92.041477   91.566214  1.0   93.684140   90.116626   91.601447  \n",
      "2184   91.806374   91.437349  1.0   93.908693   88.401500   90.758991  \n",
      "2185   91.364131   91.217634  1.0   93.993214   86.376105   89.682800  \n",
      "2186   91.004681   91.080237  1.0   93.187637   86.021963   89.366133  \n",
      "\n",
      "[2187 rows x 12 columns]\n",
      "\n",
      "test\n",
      "           Date       High        Low       Open      Close      SMA05  \\\n",
      "0    2011-07-14  88.730431  87.984671  88.535300  88.551097  88.551097   \n",
      "1    2011-07-17  88.242998  87.426930  88.242998  88.266703  88.528780   \n",
      "2    2011-07-18  88.714628  87.808501  88.115022  88.116601  88.506464   \n",
      "3    2011-07-19  88.736748  88.195600  88.604818  88.590600  88.484147   \n",
      "4    2011-07-20  89.372698  88.092902  88.772302  88.784152  88.461830   \n",
      "...         ...        ...        ...        ...        ...        ...   \n",
      "1309 2019-12-25  96.308939  95.580519  95.771703  95.771703  96.165754   \n",
      "1310 2019-12-26  96.193560  95.853860  95.859393  95.860182  96.001276   \n",
      "1311 2019-12-27  96.749722  95.988948  96.154847  96.127200  95.999064   \n",
      "1312 2019-12-30  96.748932  96.294679  96.696791  96.693633  96.056102   \n",
      "1313 2019-12-31  96.447149  96.150899  96.362617  96.372098  96.164963   \n",
      "\n",
      "          SMA10      SMA25   GC      upper      lower      EMA05  \n",
      "0     88.551097  88.551097  1.0  88.551097  88.551097  88.551097  \n",
      "1     88.504786  88.509703  1.0  88.662408  88.395153  88.456299  \n",
      "2     88.458475  88.468308  1.0  88.773718  88.239209  88.343066  \n",
      "3     88.412163  88.426913  1.0  88.885028  88.083266  88.425577  \n",
      "4     88.365852  88.385519  1.0  88.996339  87.927322  88.545102  \n",
      "...         ...        ...  ...        ...        ...        ...  \n",
      "1309  95.725012  95.356097  1.0  96.937926  95.393582  95.910048  \n",
      "1310  95.776836  95.367536  1.0  96.537240  95.465312  95.893426  \n",
      "1311  95.849990  95.378849  1.0  96.532285  95.465843  95.971351  \n",
      "1312  96.028530  95.438921  1.0  96.819576  95.292628  96.212111  \n",
      "1313  96.134864  95.475355  1.0  96.920852  95.409075  96.265440  \n",
      "\n",
      "[1314 rows x 12 columns]\n",
      "\n"
     ]
    }
   ],
   "source": [
    "# 結果\n",
    "print(f'train\\n{df_train}\\n')\n",
    "print(f'test\\n{df_test}\\n')"
   ]
  },
  {
   "cell_type": "markdown",
   "id": "b542333f-a397-4df5-993c-37f64d2fd8a3",
   "metadata": {},
   "source": [
    "##　ピボットポイント"
   ]
  },
  {
   "cell_type": "code",
   "execution_count": 1040,
   "id": "f7f58fb3-4347-4aa7-b24d-4458e6626585",
   "metadata": {},
   "outputs": [],
   "source": [
    "## PPをShiftしてるが使い方合ってるか不明\n",
    "df_train['PP'] = ((df_train['High'].shift(1) + df_train['Low'].shift(1) + df_train['Close'].shift(1)) / 3)\n",
    "df_train['R1'] = (2 * df_train['PP'] - df_train['Low'])\n",
    "df_train['S1'] = (2 * df_train['PP'] - df_train['High'])\n",
    "df_train['R2'] = (df_train['PP'] + df_train['High'] - df_train['Low'])\n",
    "df_train['S2'] = (df_train['PP'] - df_train['High'] + df_train['Low'])\n",
    "df_train['R3'] = (df_train['High'] + 2 * (df_train['PP'] -df_train['Low']))\n",
    "df_train['S3'] = (df_train['Low'] - 2 * (df_train['High'] - df_train['PP']))\n",
    "\n",
    "## PPをShiftしてるが使い方合ってるか不明\n",
    "df_test['PP'] = ((df_test['High'].shift(1) + df_test['Low'].shift(1) + df_test['Close'].shift(1)) / 3)\n",
    "df_test['R1'] = (2 * df_test['PP'] - df_test['Low'])\n",
    "df_test['S1'] = (2 * df_test['PP'] - df_test['High'])\n",
    "df_test['R2'] = (df_test['PP'] + df_test['High'] - df_test['Low'])\n",
    "df_test['S2'] = (df_test['PP'] - df_train['High'] + df_test['Low'])\n",
    "df_test['R3'] = (df_test['High'] + 2 * (df_test['PP'] -df_test['Low']))\n",
    "df_test['S3'] = (df_test['Low'] - 2 * (df_test['High'] - df_test['PP']))"
   ]
  },
  {
   "cell_type": "code",
   "execution_count": 1041,
   "id": "0a2c147d-ee22-4dc5-aa5a-150e19991297",
   "metadata": {},
   "outputs": [],
   "source": [
    "# df_train['Close'].shift(1)"
   ]
  },
  {
   "cell_type": "code",
   "execution_count": 1042,
   "id": "73073b34-079b-45b0-a302-913ec493e55e",
   "metadata": {},
   "outputs": [],
   "source": [
    "# 1日目を取り合えす終値で埋める\n",
    "df_train['PP'][0]=df_train['Close'][0]\n",
    "df_train['R1'][0]=df_train['Close'][0]\n",
    "df_train['S1'][0]=df_train['Close'][0]\n",
    "df_train['R2'][0]=df_train['Close'][0]\n",
    "df_train['S2'][0]=df_train['Close'][0]\n",
    "df_train['R3'][0]=df_train['Close'][0]\n",
    "df_train['S3'][0]=df_train['Close'][0]\n",
    "\n",
    "\n",
    "df_test['PP'][0]=df_test['Close'][0]\n",
    "df_test['R1'][0]=df_test['Close'][0]\n",
    "df_test['S1'][0]=df_test['Close'][0]\n",
    "df_test['R2'][0]=df_test['Close'][0]\n",
    "df_test['S2'][0]=df_test['Close'][0]\n",
    "df_test['R3'][0]=df_test['Close'][0]\n",
    "df_test['S3'][0]=df_test['Close'][0]"
   ]
  },
  {
   "cell_type": "code",
   "execution_count": 1043,
   "id": "bd791bb3-ac11-46c3-a55e-7b0619ca8186",
   "metadata": {},
   "outputs": [],
   "source": [
    "#線形補間\n",
    "df_train=df_train.interpolate()\n",
    "df_test=df_test.interpolate()"
   ]
  },
  {
   "cell_type": "code",
   "execution_count": 1044,
   "id": "ca81d2b0-3a57-42da-b502-07dc32c96f5a",
   "metadata": {},
   "outputs": [
    {
     "name": "stdout",
     "output_type": "stream",
     "text": [
      "train\n",
      "           Date        High         Low        Open       Close       SMA05  \\\n",
      "0    2003-01-23  100.416900   99.950797  100.314203  100.235198  100.235198   \n",
      "1    2003-01-24  100.930402  100.172002  100.251001  100.717098  100.439018   \n",
      "2    2003-01-27  101.862602  100.717098  100.796097  101.467602  100.642839   \n",
      "3    2003-01-28  101.688801  101.135803  101.483405  101.491301  100.846659   \n",
      "4    2003-01-29  101.609796  101.033100  101.483405  101.341199  101.050480   \n",
      "...         ...         ...         ...         ...         ...         ...   \n",
      "2182 2011-07-07   92.264890   90.571922   92.174042   92.193787   92.381019   \n",
      "2183 2011-07-10   90.644598   88.792047   90.489759   90.492917   91.900383   \n",
      "2184 2011-07-11   89.125431   86.571360   89.072500   89.074079   91.155097   \n",
      "2185 2011-07-12   88.502120   87.532002   87.532002   87.530417   90.184660   \n",
      "2186 2011-07-13   89.185468   88.197968   88.693297   88.732800   89.604800   \n",
      "\n",
      "           SMA10       SMA25   GC       upper       lower       EMA05  \\\n",
      "0     100.235198  100.235198  1.0  100.235198  100.235198  100.235198   \n",
      "1     100.395392  100.294040  1.0  100.716131  100.161906  100.395831   \n",
      "2     100.555587  100.352882  1.0  101.197063  100.088614  100.753088   \n",
      "3     100.715782  100.411724  1.0  101.677996  100.015322  100.999159   \n",
      "4     100.875976  100.470565  1.0  102.158929   99.942030  101.113172   \n",
      "...          ...         ...  ...         ...         ...         ...   \n",
      "2182   92.000161   91.660887  1.0   93.399459   91.362579   92.155712   \n",
      "2183   92.041477   91.566214  1.0   93.684140   90.116626   91.601447   \n",
      "2184   91.806374   91.437349  1.0   93.908693   88.401500   90.758991   \n",
      "2185   91.364131   91.217634  1.0   93.993214   86.376105   89.682800   \n",
      "2186   91.004681   91.080237  1.0   93.187637   86.021963   89.366133   \n",
      "\n",
      "              PP          R1          S1          R2          S2          R3  \\\n",
      "0     100.235198  100.235198  100.235198  100.235198  100.235198  100.235198   \n",
      "1     100.200965  100.229928   99.471529  100.959364   99.442566  100.988327   \n",
      "2     100.606501  100.495903   99.350400  101.752004   99.460997  101.641407   \n",
      "3     101.349101  101.562398  101.009400  101.902098  100.796103  102.115396   \n",
      "4     101.438635  101.844171  101.267474  102.015332  100.861938  102.420867   \n",
      "...          ...         ...         ...         ...         ...         ...   \n",
      "2182   91.720580   92.869238   91.176270   93.413548   90.027612   94.562206   \n",
      "2183   91.676867   94.561686   92.709135   93.529417   89.824316   96.414237   \n",
      "2184   89.976521   93.381682   90.827611   92.530592   87.422450   95.935754   \n",
      "2185   88.256957   88.981911   88.011793   89.227074   87.286839   89.952028   \n",
      "2186   87.854847   87.511725   86.524225   88.842347   86.867347   88.499225   \n",
      "\n",
      "              S3  \n",
      "0     100.235198  \n",
      "1      98.713129  \n",
      "2      98.204896  \n",
      "3     100.456403  \n",
      "4     100.690777  \n",
      "...          ...  \n",
      "2182   89.483301  \n",
      "2183   90.856584  \n",
      "2184   88.273540  \n",
      "2185   87.041676  \n",
      "2186   85.536725  \n",
      "\n",
      "[2187 rows x 19 columns]\n",
      "\n",
      "test\n",
      "           Date       High        Low       Open      Close      SMA05  \\\n",
      "0    2011-07-14  88.730431  87.984671  88.535300  88.551097  88.551097   \n",
      "1    2011-07-17  88.242998  87.426930  88.242998  88.266703  88.528780   \n",
      "2    2011-07-18  88.714628  87.808501  88.115022  88.116601  88.506464   \n",
      "3    2011-07-19  88.736748  88.195600  88.604818  88.590600  88.484147   \n",
      "4    2011-07-20  89.372698  88.092902  88.772302  88.784152  88.461830   \n",
      "...         ...        ...        ...        ...        ...        ...   \n",
      "1309 2019-12-25  96.308939  95.580519  95.771703  95.771703  96.165754   \n",
      "1310 2019-12-26  96.193560  95.853860  95.859393  95.860182  96.001276   \n",
      "1311 2019-12-27  96.749722  95.988948  96.154847  96.127200  95.999064   \n",
      "1312 2019-12-30  96.748932  96.294679  96.696791  96.693633  96.056102   \n",
      "1313 2019-12-31  96.447149  96.150899  96.362617  96.372098  96.164963   \n",
      "\n",
      "          SMA10      SMA25   GC      upper      lower      EMA05         PP  \\\n",
      "0     88.551097  88.551097  1.0  88.551097  88.551097  88.551097  88.551097   \n",
      "1     88.504786  88.509703  1.0  88.662408  88.395153  88.456299  88.422066   \n",
      "2     88.458475  88.468308  1.0  88.773718  88.239209  88.343066  87.978877   \n",
      "3     88.412163  88.426913  1.0  88.885028  88.083266  88.425577  88.213243   \n",
      "4     88.365852  88.385519  1.0  88.996339  87.927322  88.545102  88.507649   \n",
      "...         ...        ...  ...        ...        ...        ...        ...   \n",
      "1309  95.725012  95.356097  1.0  96.937926  95.393582  95.910048  95.783813   \n",
      "1310  95.776836  95.367536  1.0  96.537240  95.465312  95.893426  95.887054   \n",
      "1311  95.849990  95.378849  1.0  96.532285  95.465843  95.971351  95.969201   \n",
      "1312  96.028530  95.438921  1.0  96.819576  95.292628  96.212111  96.288623   \n",
      "1313  96.134864  95.475355  1.0  96.920852  95.409075  96.265440  96.579081   \n",
      "\n",
      "             R1         S1         R2         S2         R3         S3  \n",
      "0     88.551097  88.551097  88.551097  88.551097  88.551097  88.551097  \n",
      "1     89.417203  88.601135  89.238134  74.918595  90.233271  87.785067  \n",
      "2     88.149252  87.243126  88.885003  73.924776  89.055379  86.336999  \n",
      "3     88.230887  87.689739  88.754391  74.720042  88.772035  87.148591  \n",
      "4     88.922396  87.642600  89.787445  74.990754  90.202192  86.362804  \n",
      "...         ...        ...        ...        ...        ...        ...  \n",
      "1309  95.987108  95.258688  96.512233  66.007138  96.715527  94.530268  \n",
      "1310  95.920248  95.580547  96.226754  66.525913  96.259948  95.240847  \n",
      "1311  95.949453  95.188679  96.729975  68.378454  96.710227  94.427905  \n",
      "1312  96.282568  95.828314  96.742877  69.264297  96.736822  95.374061  \n",
      "1313  97.007263  96.711013  96.875331  69.426779  97.303513  96.414763  \n",
      "\n",
      "[1314 rows x 19 columns]\n",
      "\n"
     ]
    }
   ],
   "source": [
    "# 結果\n",
    "print(f'train\\n{df_train}\\n')\n",
    "print(f'test\\n{df_test}\\n')"
   ]
  },
  {
   "cell_type": "code",
   "execution_count": null,
   "id": "31a93742-af71-4f13-829f-17d2d847ddeb",
   "metadata": {},
   "outputs": [],
   "source": []
  },
  {
   "cell_type": "markdown",
   "id": "3c1128de-a2e9-400b-a2c3-fb3335831407",
   "metadata": {},
   "source": [
    "## RSIの追加"
   ]
  },
  {
   "cell_type": "code",
   "execution_count": 1045,
   "id": "e433eab3-432b-46cf-b467-b17188ccbacb",
   "metadata": {},
   "outputs": [],
   "source": [
    "# # RSI関数\n",
    "# def RSI(df,span):\n",
    "#     #　終値の差分\n",
    "#     df_diff=df.diff()\n",
    "    \n",
    "#     # 値上幅と値下幅\n",
    "#     df_up, df_down = df_diff.copy(), df_diff.copy()\n",
    "#     df_up[df_up < 0] = 0\n",
    "#     df_down[df_down > 0] = 0\n",
    "#     df_down = df_down * -1\n",
    "    \n",
    "#     # 移動平均\n",
    "#     up_sma_01 = df_up.rolling(window=span01, center=False).mean()\n",
    "#     down_sma_01 = df_down.abs().rolling(window=span01, center=False).mean()\n",
    "\n",
    "#     # RSI\n",
    "#     df = up_sma_01 / (up_sma_01 + down_sma_01) * 100\n",
    "\n",
    "#     return df"
   ]
  },
  {
   "cell_type": "code",
   "execution_count": 1046,
   "id": "6a7e14f7-ffde-4b59-adc8-cec09a7ea0bb",
   "metadata": {},
   "outputs": [],
   "source": [
    "# df_train['RSI01']=RSI(df_train['Close'],span01)\n",
    "# df_test['RSI01']=RSI(df_test['Close'],span01)"
   ]
  },
  {
   "cell_type": "code",
   "execution_count": null,
   "id": "745a6f04-d08b-4561-9824-74e7ae799d13",
   "metadata": {},
   "outputs": [],
   "source": []
  },
  {
   "cell_type": "code",
   "execution_count": 1047,
   "id": "7e8ef28a-a0a8-404e-9016-906fa3000f60",
   "metadata": {},
   "outputs": [],
   "source": [
    "# df_train.to_csv('IdoHeikin.csv')"
   ]
  },
  {
   "cell_type": "code",
   "execution_count": null,
   "id": "a36fc9a7-40c2-41a7-b8d4-72ed11e6fb50",
   "metadata": {},
   "outputs": [],
   "source": []
  },
  {
   "cell_type": "code",
   "execution_count": null,
   "id": "78f260d0-4cba-4cbc-8252-64faa7d0eb85",
   "metadata": {},
   "outputs": [],
   "source": []
  },
  {
   "cell_type": "code",
   "execution_count": 1048,
   "id": "e3dab164-6135-42d2-a68d-76a118a7c96b",
   "metadata": {},
   "outputs": [],
   "source": [
    "# # 結果\n",
    "# print(f'train\\n{df_train}\\n')\n",
    "# print(f'test\\n{df_test}\\n')"
   ]
  },
  {
   "cell_type": "code",
   "execution_count": 1049,
   "id": "9232e7a4-1381-4f5e-80b6-6cd44fb985e9",
   "metadata": {},
   "outputs": [],
   "source": [
    "# #ブランクは取り敢えず50で埋める\n",
    "# df_train['RSI01']=df_train['RSI01'].fillna(50)\n",
    "# df_test['RSI01']=df_test['RSI01'].fillna(50)"
   ]
  },
  {
   "cell_type": "code",
   "execution_count": 1050,
   "id": "5e5c49cd-d90d-4b34-be94-0624eae9da42",
   "metadata": {},
   "outputs": [],
   "source": [
    "# # 最初の行除外\n",
    "# df_train=df_train[span01:]"
   ]
  },
  {
   "cell_type": "code",
   "execution_count": 1051,
   "id": "9723401c-eb7f-4287-ab91-961b5d4e872a",
   "metadata": {},
   "outputs": [],
   "source": [
    "# # 結果\n",
    "# print(f'train\\n{df_train}\\n')\n",
    "# print(f'test\\n{df_test}\\n')"
   ]
  },
  {
   "cell_type": "code",
   "execution_count": 1052,
   "id": "c04dd78e-fa7b-454a-bdc9-f5cbe5a5acb4",
   "metadata": {},
   "outputs": [],
   "source": [
    "#  df_train.to_csv('IdoHeikin.csv')"
   ]
  },
  {
   "cell_type": "code",
   "execution_count": 1053,
   "id": "178a5a39-49cb-4a89-8f40-296f70cb05cc",
   "metadata": {},
   "outputs": [],
   "source": [
    "# del df_train['RSI01']\n",
    "# del df_test['RSI01']"
   ]
  },
  {
   "cell_type": "code",
   "execution_count": null,
   "id": "10fa73cf-f11a-4acb-9147-97e1e5d3ece7",
   "metadata": {},
   "outputs": [],
   "source": []
  },
  {
   "cell_type": "markdown",
   "id": "607678fa-c337-4bfb-8d54-1f747835c56b",
   "metadata": {},
   "source": [
    "## MACEの追加"
   ]
  },
  {
   "cell_type": "code",
   "execution_count": 1054,
   "id": "bd2eb2ae-b357-4e60-9a39-4683d8cbdb0a",
   "metadata": {},
   "outputs": [],
   "source": [
    "# # MACE関数\n",
    "# def macd(df):\n",
    "#     FastEMA_period = 12  # 短期EMAの期間\n",
    "#     SlowEMA_period = 26  # 長期EMAの期間\n",
    "# #     SignalSMA_period = 9  # SMAを取る期間\n",
    "#     SignalSMA_period = span01  # SMAを取る期間\n",
    "    \n",
    "#     df[\"MACD\"] = df[\"Close\"].ewm(span=FastEMA_period).mean() - df[\"Close\"].ewm(span=SlowEMA_period).mean()\n",
    "#     df[\"Signal\"] = df[\"MACD\"].rolling(SignalSMA_period).mean()\n",
    "#     return df"
   ]
  },
  {
   "cell_type": "code",
   "execution_count": 1055,
   "id": "184a7b0d-e2a5-4ac7-97b3-982ea0a39d0c",
   "metadata": {},
   "outputs": [],
   "source": [
    "# # MACDを計算する\n",
    "# df_train = macd(df_train)\n",
    "# df_test = macd(df_test)"
   ]
  },
  {
   "cell_type": "code",
   "execution_count": 1056,
   "id": "8213bf35-f90d-4985-bf2e-dd6f31d637eb",
   "metadata": {},
   "outputs": [],
   "source": [
    "# df_train.head(20)"
   ]
  },
  {
   "cell_type": "code",
   "execution_count": null,
   "id": "0c3d474b-d1c1-4c65-a0b7-2003d6f44aa7",
   "metadata": {},
   "outputs": [],
   "source": []
  },
  {
   "cell_type": "code",
   "execution_count": 1057,
   "id": "b7579017-8a74-44e6-85be-c0ddb36fb9aa",
   "metadata": {},
   "outputs": [],
   "source": [
    "# df_test"
   ]
  },
  {
   "cell_type": "code",
   "execution_count": 1058,
   "id": "ebd76287-e784-4aed-b17d-7aedadc857fc",
   "metadata": {},
   "outputs": [],
   "source": [
    "# import mpl_finance as mpf\n",
    "# # import mplfinance as mpf\n",
    "# # import matplotlib.finance\n",
    "# # from matplotlib.finance import candlestick_ohlc\n",
    " \n",
    "# # チャート定義\n",
    "# fig, ax = plt.subplots(2, figsize=(20, 10), sharex=True, gridspec_kw={'height_ratios': [3, 1]})\n",
    " \n",
    "# # ローソク足チャートをプロット\n",
    "# mpl_finance.candlestick_ohlc(ax[0], df.values, width=0.5, colorup='r', colordown='b')\n",
    " \n",
    "# # MACDをプロット\n",
    "# ax[1].plot(df_train[\"index\"], df_train[\"MACD\"], label=\"MACD\")\n",
    "# ax[1].plot(df_train[\"index\"], df_train[\"Signal\"], label=\"Signal\")\n",
    " \n",
    "# # X軸を調整\n",
    "# plt.xticks([x for x in range(len(df))], [x.strftime('%Y-%m-%d') for x in df.index])\n",
    "# fig.autofmt_xdate()\n",
    " \n",
    "# # 凡例表示, グリッド表示\n",
    "# for a in ax:\n",
    "#     a.legend()\n",
    "#     a.grid()\n",
    " \n",
    "# # グラフを表示\n",
    "# plt.show()"
   ]
  },
  {
   "cell_type": "code",
   "execution_count": null,
   "id": "e396b5ef-5ea3-46ea-8b4e-40ace98272c3",
   "metadata": {},
   "outputs": [],
   "source": []
  },
  {
   "cell_type": "markdown",
   "id": "895b782e-2396-4d4b-a646-73c30c6b5275",
   "metadata": {},
   "source": [
    "## 特徴量調整用"
   ]
  },
  {
   "cell_type": "code",
   "execution_count": 1059,
   "id": "56d17a36-7fcc-4798-aa47-aee4d46475a3",
   "metadata": {},
   "outputs": [],
   "source": [
    "# # mean/std削除＋1日目を取り合えす終値で埋める\n",
    "# drop = ['upper', 'lower', 'PP','R1','S1','R2','S2','R3','S3','GC','SMA25','SMA10']\n",
    "# drop = ['upper', 'lower', 'PP','R1','S1','R2','S2','R3','S3','GC','SMA25','SMA10','SMA05','EMA05']\n",
    "drop = ['upper', 'lower', 'PP','R1','S1','R2','S2','R3','S3','SMA25','SMA10']\n",
    "\n",
    "df_train = df_train.drop(columns=drop,axis=1) \n",
    "df_test = df_test.drop(columns=drop,axis=1) "
   ]
  },
  {
   "cell_type": "code",
   "execution_count": null,
   "id": "7cda016d-40af-46e8-94e3-018c456b468e",
   "metadata": {},
   "outputs": [],
   "source": []
  },
  {
   "cell_type": "code",
   "execution_count": null,
   "id": "07a74119-b129-49d1-b3ee-665cacbe82ca",
   "metadata": {},
   "outputs": [],
   "source": []
  },
  {
   "cell_type": "markdown",
   "id": "14731667-b3ed-4ec0-8704-d056ffbfcba9",
   "metadata": {},
   "source": []
  },
  {
   "cell_type": "code",
   "execution_count": 1060,
   "id": "c210c666-4596-4414-baca-964da2549928",
   "metadata": {},
   "outputs": [],
   "source": [
    "# df_train=df_train[span01-1:]\n",
    "# df_train"
   ]
  },
  {
   "cell_type": "markdown",
   "id": "add20621-0022-4f3a-8e70-63e157bc847c",
   "metadata": {},
   "source": [
    "## 多項式特徴量/多項式回帰/交互作用特徴量"
   ]
  },
  {
   "cell_type": "code",
   "execution_count": 1061,
   "id": "795c7acc-a443-4867-9498-021b45c02c2b",
   "metadata": {},
   "outputs": [],
   "source": [
    "# EMAに多項式特徴量を適用してみる\n",
    "# df_train[\"EMA\"] = df_train[\"EMA\"] **2\n",
    "# df_test[\"EMA\"] = df_test[\"EMA\"] **2"
   ]
  },
  {
   "cell_type": "code",
   "execution_count": null,
   "id": "b57a0eb0-073d-4293-bc9d-e378b28f250f",
   "metadata": {},
   "outputs": [],
   "source": []
  },
  {
   "cell_type": "markdown",
   "id": "bb1d6d20-44c1-4117-b827-daacdf15c766",
   "metadata": {},
   "source": [
    "##　配列の型などを調べるための関数"
   ]
  },
  {
   "cell_type": "code",
   "execution_count": 1062,
   "id": "d174b86d-c0f8-4ea9-9670-ab083c337a2a",
   "metadata": {},
   "outputs": [],
   "source": [
    "# 変数名をそのままprint関数内で表示させる関数\n",
    "def chkprint(*args):\n",
    "    for obj in args:\n",
    "        for k, v in globals().items():\n",
    "            if id(v) == id(obj):\n",
    "                target = k\n",
    "                break          \n",
    "    return target\n",
    "\n",
    "# データがどのデータ型か、列数、行数を表示する関数\n",
    "def typeInfo(targetData):\n",
    "    if (type(targetData) is pd.core.frame.DataFrame):\n",
    "        print(\"{} は DataFrame型\".format(chkprint(targetData)))\n",
    "        print(\"{} の行数, 列数・・・{}\\n\".format(chkprint(targetData), targetData.shape))     # shapeの表示内容は、(行数, 列数)となる\n",
    "    if (type(targetData) is list):\n",
    "        print(\"{} は list型\".format(chkprint(targetData)))\n",
    "        print(\"{} の行数, 列数・・・{}\\n\".format(chkprint(targetData), pd.DataFrame(targetData).shape))    # shapeの表示内容は、(行数, 列数)となる\n",
    "    if (type(targetData) is np.ndarray):\n",
    "        print(\"{} は ndarray型\".format(chkprint(targetData)))\n",
    "        print(\"{} の行数, 列数・・・{}\\n\".format(chkprint(targetData), targetData.shape))     # shapeの表示内容は、(行数, 列数)となる\n",
    "    if (type(targetData) is pd.core.series.Series):\n",
    "        print(\"{} は Series型\".format(chkprint(targetData)))\n",
    "        print(\"{} の行数, 列数・・・{}\\n\".format(chkprint(targetData), targetData.shape))     # shapeの表示内容は、(行数, 列数)となる"
   ]
  },
  {
   "cell_type": "markdown",
   "id": "b8daff79-41e9-4b9e-9c3b-cb6856a3d546",
   "metadata": {},
   "source": [
    "## Trainデータを学習用と検証用に分割\n",
    "#### (train:2003/12/1-2011/12/14 →これを8:2に分割する| test:2011/12/15-2019/12/31)"
   ]
  },
  {
   "cell_type": "code",
   "execution_count": 1063,
   "id": "3d7b24b3-74fa-45be-a4a9-6e746c33313d",
   "metadata": {},
   "outputs": [],
   "source": [
    "# 不要\n",
    "# Trainデータを学習用と検証用に分割\n",
    "# 今回は①学習用：8割、②検証用：2割にTrainデータを分割して、①の予測モデルで\n",
    "# ②が正しく評価できるのかを確認した上で、testデータへの予測モデルの適用を行う"
   ]
  },
  {
   "cell_type": "code",
   "execution_count": 1064,
   "id": "bc0c2e46-645b-4ae4-bb7e-56594743302d",
   "metadata": {},
   "outputs": [],
   "source": [
    "# 不要\n",
    "# train_test_splitというDataFrameを分けてくれる関数がsklearnにあるのでそれを使う\n",
    "# from sklearn.model_selection import train_test_split\n",
    "\n",
    "# df_train, df_validation = train_test_split(df_train, train_size=0.8, test_size=0.2, shuffle=False)"
   ]
  },
  {
   "cell_type": "code",
   "execution_count": 1065,
   "id": "4369f120-d765-4eda-b9a0-c05d5e42ba7d",
   "metadata": {},
   "outputs": [],
   "source": [
    "# 不要\n",
    "# # 分割後のサイズ\n",
    "# print(f'①学習用データのサイズ(df_train)：{len(df_train)}')\n",
    "# print(f'②検証用データのサイズ(df_validation)：{len(df_validation)}')\n",
    "# print(f'元々のdf_trainのサイズが8:2に分割された\\n')\n",
    "\n",
    "# # 分割後の詳細\n",
    "# print(f'分割後のサマリ(df_train)\\n{df_train.describe()}\\n')\n",
    "# print(f'分割後のサマリ(df_validation)\\n{df_validation.describe()}\\n')"
   ]
  },
  {
   "cell_type": "markdown",
   "id": "d7dfd235-6e7e-4edf-9c77-57c361aaa484",
   "metadata": {},
   "source": [
    "## *Train/test/latestデータの縦結合(直接今回の課題とは関係なし)"
   ]
  },
  {
   "cell_type": "code",
   "execution_count": 1066,
   "id": "c795d972-8f7f-42bc-80cd-8e20d17ff5cf",
   "metadata": {},
   "outputs": [],
   "source": [
    "# # df_Merged=pd.concat([df_train,df_test,df_latest])\n",
    "# df_Merged = pd.DataFrame(np.concatenate([df_train.values, df_test.values, df_latest.values]), columns=df_train.columns)"
   ]
  },
  {
   "cell_type": "code",
   "execution_count": 1067,
   "id": "4149f652-b151-4388-86ac-d2f5f136d350",
   "metadata": {},
   "outputs": [],
   "source": [
    "# df_Merged"
   ]
  },
  {
   "cell_type": "code",
   "execution_count": 1068,
   "id": "6a29bd61-a43a-45fd-a1db-1e76783b8215",
   "metadata": {},
   "outputs": [],
   "source": [
    "# df_Merged.info()"
   ]
  },
  {
   "cell_type": "markdown",
   "id": "98046edc-d7e6-4ebe-99b5-aba997bf9928",
   "metadata": {},
   "source": [
    "##　LSTMモデルへ訓練させるための前処理"
   ]
  },
  {
   "cell_type": "code",
   "execution_count": 1069,
   "id": "6ab9e7c4-fadc-4428-b3d8-73d1f845386d",
   "metadata": {},
   "outputs": [],
   "source": [
    "##　LSTMモデルへ訓練させるための前処理"
   ]
  },
  {
   "cell_type": "code",
   "execution_count": 1070,
   "id": "490de5d6-ec84-4808-ba49-a198c1d9523e",
   "metadata": {},
   "outputs": [],
   "source": [
    "# windowを設定\n",
    "window_len=6"
   ]
  },
  {
   "cell_type": "code",
   "execution_count": 1071,
   "id": "a85e43d5-3358-4cc6-96c5-3b6f0c93a5ba",
   "metadata": {},
   "outputs": [],
   "source": [
    "# Dateをインデックスに指定\n",
    "df_train.set_index('Date',inplace=True)\n",
    "df_test.set_index('Date',inplace=True)"
   ]
  },
  {
   "cell_type": "code",
   "execution_count": 1072,
   "id": "4ff1869f-149e-4bc3-b6e7-e80e712c7507",
   "metadata": {},
   "outputs": [
    {
     "data": {
      "text/plain": [
       "[<matplotlib.lines.Line2D at 0x7fa5f3571850>,\n",
       " <matplotlib.lines.Line2D at 0x7fa5f3568640>,\n",
       " <matplotlib.lines.Line2D at 0x7fa5f3568580>,\n",
       " <matplotlib.lines.Line2D at 0x7fa5f35684c0>,\n",
       " <matplotlib.lines.Line2D at 0x7fa5f35686d0>,\n",
       " <matplotlib.lines.Line2D at 0x7fa5f3568790>,\n",
       " <matplotlib.lines.Line2D at 0x7fa5f3568850>]"
      ]
     },
     "execution_count": 1072,
     "metadata": {},
     "output_type": "execute_result"
    },
    {
     "data": {
      "image/png": "[encoded data removed]",
      "text/plain": [
       "<Figure size 2160x720 with 1 Axes>"
      ]
     },
     "metadata": {
      "needs_background": "light"
     },
     "output_type": "display_data"
    }
   ],
   "source": [
    "fig = plt.subplots(figsize=(30,10))\n",
    "plt.plot(df_train)"
   ]
  },
  {
   "cell_type": "code",
   "execution_count": 1073,
   "id": "2ac77b07-dc2a-4da9-a91a-4b911d541a25",
   "metadata": {},
   "outputs": [
    {
     "data": {
      "text/plain": [
       "[<matplotlib.lines.Line2D at 0x7fa5f30656d0>,\n",
       " <matplotlib.lines.Line2D at 0x7fa5f419ff70>,\n",
       " <matplotlib.lines.Line2D at 0x7fa5f418e160>,\n",
       " <matplotlib.lines.Line2D at 0x7fa5f418e0d0>,\n",
       " <matplotlib.lines.Line2D at 0x7fa5f418e220>,\n",
       " <matplotlib.lines.Line2D at 0x7fa5f418e2e0>,\n",
       " <matplotlib.lines.Line2D at 0x7fa5f418e3a0>]"
      ]
     },
     "execution_count": 1073,
     "metadata": {},
     "output_type": "execute_result"
    },
    {
     "data": {
      "image/png": "[encoded data removed]",
      "text/plain": [
       "<Figure size 2160x720 with 1 Axes>"
      ]
     },
     "metadata": {
      "needs_background": "light"
     },
     "output_type": "display_data"
    }
   ],
   "source": [
    "fig = plt.subplots(figsize=(30,10))\n",
    "plt.plot(df_test)"
   ]
  },
  {
   "cell_type": "code",
   "execution_count": 1074,
   "id": "0695a4ff-f7a4-410d-a11d-17dfe011099a",
   "metadata": {},
   "outputs": [
    {
     "name": "stdout",
     "output_type": "stream",
     "text": [
      "単価抽出後のサマリ(df_train)\n",
      "              High          Low         Open        Close        SMA05  \\\n",
      "count  2187.000000  2187.000000  2187.000000  2187.000000  2187.000000   \n",
      "mean    108.734330   107.610347   108.203299   108.204905   108.215617   \n",
      "std      12.233109    12.299644    12.259910    12.271763    12.235718   \n",
      "min      84.473121    83.287332    83.858501    83.856133    84.442784   \n",
      "25%     101.661148   100.460351   101.119997   101.143699   101.099144   \n",
      "50%     107.226697   106.286595   106.839604   106.823801   106.796936   \n",
      "75%     116.785701   116.031250   116.363049   116.402551   116.315254   \n",
      "max     134.251806   133.604796   133.868656   133.944502   133.681115   \n",
      "\n",
      "                GC        EMA05  \n",
      "count  2187.000000  2187.000000  \n",
      "mean      1.028807   108.214844  \n",
      "std       0.167301    12.225896  \n",
      "min       1.000000    84.550230  \n",
      "25%       1.000000   101.208942  \n",
      "50%       1.000000   106.789187  \n",
      "75%       1.000000   116.344633  \n",
      "max       2.000000   133.546218  \n",
      "\n",
      "単価抽出後のサマリ(df_test)\n",
      "              High          Low         Open        Close        SMA05  \\\n",
      "count  1314.000000  1314.000000  1314.000000  1314.000000  1314.000000   \n",
      "mean     98.975436    98.190527    98.601504    98.601355    98.589610   \n",
      "std       9.542734     9.561047     9.547183     9.547930     9.531123   \n",
      "min      76.054883    74.994700    75.256981    75.253033    75.765425   \n",
      "25%      94.195055    93.259893    93.721649    93.714540    93.623413   \n",
      "50%     101.439159   100.675230   101.005450   101.024408   101.109017   \n",
      "75%     105.625167   104.833196   105.288237   105.281326   105.214885   \n",
      "max     118.108954   117.149095   117.196505   117.228100   116.760737   \n",
      "\n",
      "                GC        EMA05  \n",
      "count  1314.000000  1314.000000  \n",
      "mean      1.030441    98.589613  \n",
      "std       0.171864     9.518327  \n",
      "min       1.000000    75.724978  \n",
      "25%       1.000000    93.642432  \n",
      "50%       1.000000   101.175544  \n",
      "75%       1.000000   105.278039  \n",
      "max       2.000000   116.743341  \n",
      "\n"
     ]
    }
   ],
   "source": [
    "# 分割後の詳細\n",
    "print(f'単価抽出後のサマリ(df_train)\\n{df_train.describe()}\\n')\n",
    "print(f'単価抽出後のサマリ(df_test)\\n{df_test.describe()}\\n')\n",
    "# print(f'単価抽出後のサマリ(df_latest)\\n{df_latest.describe()}\\n')"
   ]
  },
  {
   "cell_type": "code",
   "execution_count": 1075,
   "id": "20fc0bc9-af10-42be-907d-5a109e96fbe7",
   "metadata": {},
   "outputs": [
    {
     "data": {
      "text/html": [
       "<div>\n",
       "<style scoped>\n",
       "    .dataframe tbody tr th:only-of-type {\n",
       "        vertical-align: middle;\n",
       "    }\n",
       "\n",
       "    .dataframe tbody tr th {\n",
       "        vertical-align: top;\n",
       "    }\n",
       "\n",
       "    .dataframe thead th {\n",
       "        text-align: right;\n",
       "    }\n",
       "</style>\n",
       "<table border=\"1\" class=\"dataframe\">\n",
       "  <thead>\n",
       "    <tr style=\"text-align: right;\">\n",
       "      <th></th>\n",
       "      <th>High</th>\n",
       "      <th>Low</th>\n",
       "      <th>Open</th>\n",
       "      <th>Close</th>\n",
       "      <th>SMA05</th>\n",
       "      <th>GC</th>\n",
       "      <th>EMA05</th>\n",
       "    </tr>\n",
       "    <tr>\n",
       "      <th>Date</th>\n",
       "      <th></th>\n",
       "      <th></th>\n",
       "      <th></th>\n",
       "      <th></th>\n",
       "      <th></th>\n",
       "      <th></th>\n",
       "      <th></th>\n",
       "    </tr>\n",
       "  </thead>\n",
       "  <tbody>\n",
       "    <tr>\n",
       "      <th>2003-01-23</th>\n",
       "      <td>100.416900</td>\n",
       "      <td>99.950797</td>\n",
       "      <td>100.314203</td>\n",
       "      <td>100.235198</td>\n",
       "      <td>100.235198</td>\n",
       "      <td>1.0</td>\n",
       "      <td>100.235198</td>\n",
       "    </tr>\n",
       "    <tr>\n",
       "      <th>2003-01-24</th>\n",
       "      <td>100.930402</td>\n",
       "      <td>100.172002</td>\n",
       "      <td>100.251001</td>\n",
       "      <td>100.717098</td>\n",
       "      <td>100.439018</td>\n",
       "      <td>1.0</td>\n",
       "      <td>100.395831</td>\n",
       "    </tr>\n",
       "    <tr>\n",
       "      <th>2003-01-27</th>\n",
       "      <td>101.862602</td>\n",
       "      <td>100.717098</td>\n",
       "      <td>100.796097</td>\n",
       "      <td>101.467602</td>\n",
       "      <td>100.642839</td>\n",
       "      <td>1.0</td>\n",
       "      <td>100.753088</td>\n",
       "    </tr>\n",
       "    <tr>\n",
       "      <th>2003-01-28</th>\n",
       "      <td>101.688801</td>\n",
       "      <td>101.135803</td>\n",
       "      <td>101.483405</td>\n",
       "      <td>101.491301</td>\n",
       "      <td>100.846659</td>\n",
       "      <td>1.0</td>\n",
       "      <td>100.999159</td>\n",
       "    </tr>\n",
       "    <tr>\n",
       "      <th>2003-01-29</th>\n",
       "      <td>101.609796</td>\n",
       "      <td>101.033100</td>\n",
       "      <td>101.483405</td>\n",
       "      <td>101.341199</td>\n",
       "      <td>101.050480</td>\n",
       "      <td>1.0</td>\n",
       "      <td>101.113172</td>\n",
       "    </tr>\n",
       "  </tbody>\n",
       "</table>\n",
       "</div>"
      ],
      "text/plain": [
       "                  High         Low        Open       Close       SMA05   GC  \\\n",
       "Date                                                                          \n",
       "2003-01-23  100.416900   99.950797  100.314203  100.235198  100.235198  1.0   \n",
       "2003-01-24  100.930402  100.172002  100.251001  100.717098  100.439018  1.0   \n",
       "2003-01-27  101.862602  100.717098  100.796097  101.467602  100.642839  1.0   \n",
       "2003-01-28  101.688801  101.135803  101.483405  101.491301  100.846659  1.0   \n",
       "2003-01-29  101.609796  101.033100  101.483405  101.341199  101.050480  1.0   \n",
       "\n",
       "                 EMA05  \n",
       "Date                    \n",
       "2003-01-23  100.235198  \n",
       "2003-01-24  100.395831  \n",
       "2003-01-27  100.753088  \n",
       "2003-01-28  100.999159  \n",
       "2003-01-29  101.113172  "
      ]
     },
     "execution_count": 1075,
     "metadata": {},
     "output_type": "execute_result"
    }
   ],
   "source": [
    "df_train.head()"
   ]
  },
  {
   "cell_type": "code",
   "execution_count": 1076,
   "id": "ff4ffc71-da95-4b5b-ae19-5d6d12e20204",
   "metadata": {},
   "outputs": [],
   "source": [
    "# LSTMへの入力用に処理の関数\n",
    "# trainはデータの最後から2番目の配列のセットと最終行が正解となるが、testは最終行までがインプットとなる為、\n",
    "# Adjustmentの引数で両方に対応できるようにする。\n",
    "def data_maker(data,adjustment1):\n",
    "  data_lstm_in=[]\n",
    "  if len(data)==window_len:\n",
    "    temp = data[:window_len].copy()\n",
    "    temp = temp / temp.iloc[0] - 1\n",
    "    data_lstm_in.append(temp)\n",
    "  for i in range(len(data) - window_len+adjustment1): #今回のLSTMで生成する時系列データ数(train総数-6個のモデル)    \n",
    "#   for i in range(ArrayAmt): #今回のLSTMで生成する時系列データ数(train総数-10個のモデル)\n",
    "      temp = data[i:(i + window_len)].copy() #windowの単位で行を取得。参照渡しでなく値渡し。\n",
    "      temp = temp / temp.iloc[0] - 1\n",
    "      data_lstm_in.append(temp)\n",
    "  return data_lstm_in"
   ]
  },
  {
   "cell_type": "code",
   "execution_count": 1077,
   "id": "51d3588b-01c5-447c-96bb-1e54ca4cbe64",
   "metadata": {},
   "outputs": [],
   "source": [
    "#関数の実行(Trainデータ)\n",
    "train_lstm_in = data_maker(data=df_train,adjustment1=0)"
   ]
  },
  {
   "cell_type": "code",
   "execution_count": 1078,
   "id": "ba2c6512-656c-4c30-a186-40f7d4cb2806",
   "metadata": {},
   "outputs": [
    {
     "name": "stdout",
     "output_type": "stream",
     "text": [
      "train_lstm_in_配列数 : 2181\n",
      "\n",
      "train_lstm_in[0]\n",
      "                High       Low      Open     Close     SMA05   GC     EMA05\n",
      "Date                                                                       \n",
      "2003-01-23  0.000000  0.000000  0.000000  0.000000  0.000000  0.0  0.000000\n",
      "2003-01-24  0.005114  0.002213 -0.000630  0.004808  0.002033  0.0  0.001603\n",
      "2003-01-27  0.014397  0.007667  0.004804  0.012295  0.004067  0.0  0.005167\n",
      "2003-01-28  0.012666  0.011856  0.011655  0.012532  0.006100  0.0  0.007622\n",
      "2003-01-29  0.011879  0.010828  0.011655  0.011034  0.008134  0.0  0.008759\n",
      "2003-01-30  0.013846  0.009485  0.009923  0.014975  0.011129  0.0  0.010831\n",
      "\n",
      "train_lstm_in[1]\n",
      "                High       Low      Open     Close     SMA05   GC     EMA05\n",
      "Date                                                                       \n",
      "2003-01-24  0.000000  0.000000  0.000000  0.000000  0.000000  0.0  0.000000\n",
      "2003-01-27  0.009236  0.005442  0.005437  0.007452  0.002029  0.0  0.003558\n",
      "2003-01-28  0.007514  0.009621  0.012293  0.007687  0.004059  0.0  0.006009\n",
      "2003-01-29  0.006731  0.008596  0.012293  0.006197  0.006088  0.0  0.007145\n",
      "2003-01-30  0.008688  0.007256  0.010560  0.010118  0.009077  0.0  0.009214\n",
      "2003-01-31  0.012602  0.014274  0.014894  0.012707  0.011625  0.0  0.011458\n",
      "\n",
      "train_lstm_in[-1]\n",
      "                High       Low      Open     Close     SMA05   GC     EMA05\n",
      "Date                                                                       \n",
      "2011-07-05  0.000000  0.000000  0.000000  0.000000  0.000000  0.0  0.000000\n",
      "2011-07-06 -0.002247 -0.000035 -0.008114 -0.008124 -0.001502  0.0 -0.002731\n",
      "2011-07-07 -0.002153 -0.007720 -0.002420 -0.002044 -0.001757  0.0 -0.002525\n",
      "2011-07-10 -0.019677 -0.027220 -0.020648 -0.020455 -0.006950  0.0 -0.008524\n",
      "2011-07-11 -0.036106 -0.051549 -0.035987 -0.035813 -0.015004  0.0 -0.017642\n",
      "2011-07-12 -0.042847 -0.041025 -0.052659 -0.052523 -0.025490  0.0 -0.029291\n",
      "\n"
     ]
    }
   ],
   "source": [
    "# 配列抜粋\n",
    "print(f'train_lstm_in_配列数 : {len(train_lstm_in)}\\n')\n",
    "print(f'train_lstm_in[0]\\n{train_lstm_in[0]}\\n')\n",
    "print(f'train_lstm_in[1]\\n{train_lstm_in[1]}\\n')\n",
    "print(f'train_lstm_in[-1]\\n{train_lstm_in[-1]}\\n')"
   ]
  },
  {
   "cell_type": "code",
   "execution_count": 1079,
   "id": "7170b76f-5829-4554-9535-62d5b5b16c45",
   "metadata": {},
   "outputs": [],
   "source": [
    "lstm_train_out = (df_train['Close'][window_len:].values / df_train['Close'][:-window_len].values)-1"
   ]
  },
  {
   "cell_type": "code",
   "execution_count": 1080,
   "id": "971ed3b8-56ab-444e-9349-215c2b1576b6",
   "metadata": {},
   "outputs": [
    {
     "data": {
      "text/plain": [
       "2181"
      ]
     },
     "execution_count": 1080,
     "metadata": {},
     "output_type": "execute_result"
    }
   ],
   "source": [
    "len(lstm_train_out)"
   ]
  },
  {
   "cell_type": "code",
   "execution_count": 1081,
   "id": "95e40aa7-684b-426b-9961-0117f9b03970",
   "metadata": {},
   "outputs": [
    {
     "data": {
      "text/plain": [
       "array([ 0.01757569,  0.0179622 ,  0.01518216, ..., -0.04114293,\n",
       "       -0.05678949, -0.03950746])"
      ]
     },
     "execution_count": 1081,
     "metadata": {},
     "output_type": "execute_result"
    }
   ],
   "source": [
    "lstm_train_out"
   ]
  },
  {
   "cell_type": "code",
   "execution_count": null,
   "id": "afe1e153-a5e5-428b-948d-2227dcf13671",
   "metadata": {},
   "outputs": [],
   "source": []
  },
  {
   "cell_type": "code",
   "execution_count": 1082,
   "id": "d2e58329-224a-4784-b46d-fe1cac235725",
   "metadata": {},
   "outputs": [],
   "source": [
    "#関数の実行(Testデータ)\n",
    "test_lstm_in = data_maker(data=df_test,adjustment1=1)"
   ]
  },
  {
   "cell_type": "code",
   "execution_count": 1083,
   "id": "b76e3681-6591-44c0-82ff-fdcc8107c1a3",
   "metadata": {},
   "outputs": [
    {
     "name": "stdout",
     "output_type": "stream",
     "text": [
      "test_lstm_in_配列数 : 1309\n",
      "\n",
      "test_lstm_in[0]\n",
      "                High       Low      Open     Close     SMA05   GC     EMA05\n",
      "Date                                                                       \n",
      "2011-07-14  0.000000  0.000000  0.000000  0.000000  0.000000  0.0  0.000000\n",
      "2011-07-17 -0.005493 -0.006339 -0.003302 -0.003212 -0.000252  0.0 -0.001071\n",
      "2011-07-18 -0.000178 -0.002002 -0.004747 -0.004907 -0.000504  0.0 -0.002349\n",
      "2011-07-19  0.000071  0.002397  0.000785  0.000446 -0.000756  0.0 -0.001417\n",
      "2011-07-20  0.007238  0.001230  0.002677  0.002632 -0.001008  0.0 -0.000068\n",
      "2011-07-21  0.010889  0.007874  0.010101  0.010527  0.001097  0.0  0.003464\n",
      "\n",
      "test_lstm_in[1]\n",
      "                High       Low      Open     Close     SMA05   GC     EMA05\n",
      "Date                                                                       \n",
      "2011-07-17  0.000000  0.000000  0.000000  0.000000  0.000000  0.0  0.000000\n",
      "2011-07-18  0.005345  0.004364 -0.001450 -0.001701 -0.000252  0.0 -0.001280\n",
      "2011-07-19  0.005595  0.008792  0.004100  0.003670 -0.000504  0.0 -0.000347\n",
      "2011-07-20  0.012802  0.007617  0.005998  0.005862 -0.000756  0.0  0.001004\n",
      "2011-07-21  0.016473  0.014304  0.013447  0.013783  0.001350  0.0  0.004539\n",
      "2011-07-28 -0.001522 -0.002404 -0.002390 -0.002587  0.000834  0.0  0.001451\n",
      "\n",
      "test_lstm_in[-1]\n",
      "                High       Low      Open     Close     SMA05   GC     EMA05\n",
      "Date                                                                       \n",
      "2019-12-24  0.000000  0.000000  0.000000  0.000000  0.000000  0.0  0.000000\n",
      "2019-12-25  0.004408 -0.000595 -0.000643 -0.000585  0.000635  0.0 -0.000721\n",
      "2019-12-26  0.003205  0.002263  0.000272  0.000338 -0.001077  0.0 -0.000894\n",
      "2019-12-27  0.009005  0.003676  0.003355  0.003124 -0.001100  0.0 -0.000082\n",
      "2019-12-30  0.008997  0.006873  0.009010  0.009035 -0.000506  0.0  0.002426\n",
      "2019-12-31  0.005850  0.005369  0.005523  0.005680  0.000626  0.0  0.002982\n",
      "\n"
     ]
    }
   ],
   "source": [
    "# 配列抜粋(Testデータ)\n",
    "print(f'test_lstm_in_配列数 : {len(test_lstm_in)}\\n')\n",
    "print(f'test_lstm_in[0]\\n{test_lstm_in[0]}\\n')\n",
    "print(f'test_lstm_in[1]\\n{test_lstm_in[1]}\\n')\n",
    "print(f'test_lstm_in[-1]\\n{test_lstm_in[-1]}\\n')"
   ]
  },
  {
   "cell_type": "code",
   "execution_count": 1084,
   "id": "e4fe251e-edaa-4fb7-a3a4-cec17f355c3f",
   "metadata": {},
   "outputs": [],
   "source": [
    "lstm_test_out = (df_test['Close'][window_len:].values / df_test['Close'][:-window_len].values)-1"
   ]
  },
  {
   "cell_type": "code",
   "execution_count": 1085,
   "id": "8c545549-2377-4fe9-a15b-f8a56958c30a",
   "metadata": {},
   "outputs": [
    {
     "data": {
      "text/plain": [
       "array([-0.00578994, -0.0074018 , -0.0093509 , ..., -0.00574429,\n",
       "        0.00577681, -0.00037698])"
      ]
     },
     "execution_count": 1085,
     "metadata": {},
     "output_type": "execute_result"
    }
   ],
   "source": [
    "lstm_test_out"
   ]
  },
  {
   "cell_type": "code",
   "execution_count": null,
   "id": "2d1a9d83-322b-4050-a0bf-c474bc6bc89f",
   "metadata": {},
   "outputs": [],
   "source": [
    "len(lstm_test_out)"
   ]
  },
  {
   "cell_type": "code",
   "execution_count": null,
   "id": "9086466a-a5b8-407f-aa11-8f8f4ab3933f",
   "metadata": {},
   "outputs": [],
   "source": [
    "# #関数の実行(Latestデータ)\n",
    "# latest_lstm_in = data_maker(df_latest)"
   ]
  },
  {
   "cell_type": "code",
   "execution_count": null,
   "id": "278b4092-6140-40f6-b923-00acad181de3",
   "metadata": {},
   "outputs": [],
   "source": [
    "# # 配列抜粋\n",
    "# print(f'latest_lstm_in_配列数 : {len(latest_lstm_in)}\\n')\n",
    "# print(f'latest_lstm_in\\n{latest_lstm_in[0]}\\n')\n",
    "# #print(f'latest_lstm_in\\n{latest_lstm_in[1]}\\n')\n",
    "# # print(f'latest_lstm_in\\n{latest_lstm_in[-1]}\\n')"
   ]
  },
  {
   "cell_type": "markdown",
   "id": "0e5cb290-36cb-43f4-8516-b931e725a7b0",
   "metadata": {},
   "source": [
    "## Numpy配列への変換"
   ]
  },
  {
   "cell_type": "code",
   "execution_count": null,
   "id": "b61cbcb6-4597-49ac-9c01-38ba5056fe68",
   "metadata": {},
   "outputs": [],
   "source": [
    "# PandasのデータフレームからNumpy配列へ変換。リスト内包表記という記法がここでは使われている。\n",
    "train_lstm_in = [np.array(train_lstm_input) for train_lstm_input in train_lstm_in]\n",
    "train_lstm_in = np.array(train_lstm_in)\n",
    "\n",
    "test_lstm_in = [np.array(test_lstm_input) for test_lstm_input in test_lstm_in]\n",
    "test_lstm_in = np.array(test_lstm_in)"
   ]
  },
  {
   "cell_type": "code",
   "execution_count": null,
   "id": "c25996dd-34e9-482f-ab14-f7ad4df8a9cb",
   "metadata": {},
   "outputs": [],
   "source": [
    "# # 11/6 latestデータのnumpyへの置き換え\n",
    "# latest_lstm_in = [np.array(test_lstm_input) for test_lstm_input in latest_lstm_in]\n",
    "# latest_lstm_in = np.array(latest_lstm_in)"
   ]
  },
  {
   "cell_type": "code",
   "execution_count": null,
   "id": "f2118607-ee45-47ac-8d13-b1420ff3486f",
   "metadata": {},
   "outputs": [],
   "source": [
    "print(f'train_lstm_in.shape[0] : {train_lstm_in.shape[0]}')\n",
    "print(f'train_lstm_in.shape[1] : {train_lstm_in.shape[1]}')\n",
    "print(f'train_lstm_in.shape[2] : {train_lstm_in.shape[2]}')"
   ]
  },
  {
   "cell_type": "code",
   "execution_count": null,
   "id": "7b7619ca-9825-4f40-9815-9831338ea3b2",
   "metadata": {},
   "outputs": [],
   "source": [
    "train_lstm_in"
   ]
  },
  {
   "cell_type": "markdown",
   "id": "1b61a346-8a99-40b5-be5b-aee09eb4d0bd",
   "metadata": {},
   "source": [
    "##　標準化データ"
   ]
  },
  {
   "cell_type": "markdown",
   "id": "fddbfe1d-b9f2-499f-aad4-dbcb3588178f",
   "metadata": {},
   "source": [
    "### train"
   ]
  },
  {
   "cell_type": "code",
   "execution_count": null,
   "id": "947e30be-1f5f-4234-a0b3-6365ddd01b39",
   "metadata": {},
   "outputs": [],
   "source": [
    "from sklearn.preprocessing import StandardScaler"
   ]
  },
  {
   "cell_type": "code",
   "execution_count": null,
   "id": "dc4aa119-39e0-4f71-85f6-35c65aee4b26",
   "metadata": {},
   "outputs": [],
   "source": [
    "scaler = StandardScaler()\n",
    "scaler.fit(df_train)"
   ]
  },
  {
   "cell_type": "code",
   "execution_count": null,
   "id": "9853aa92-a2e8-4660-97fb-3681be604364",
   "metadata": {},
   "outputs": [],
   "source": [
    "#　標準化時の情報\n",
    "df_train_mean=scaler.mean_\n",
    "df_train_scale=scaler.scale_\n",
    "df_train_var=scaler.var_\n",
    "df_train_seen=scaler.n_samples_seen_"
   ]
  },
  {
   "cell_type": "code",
   "execution_count": null,
   "id": "e84c480d-d7e3-420b-9713-dd3e0e37fec2",
   "metadata": {},
   "outputs": [],
   "source": [
    "# 配列抜粋\n",
    "print(f'df_train_mean : {df_train_mean}\\n')\n",
    "print(f'df_train_scale\\n{df_train_scale}\\n')\n",
    "print(f'df_train_var\\n{df_train_var}\\n')\n",
    "print(f'df_train_seen\\n{df_train_seen}\\n')"
   ]
  },
  {
   "cell_type": "code",
   "execution_count": null,
   "id": "40e9a6a9-4fc3-4b34-9c17-30277387ec1c",
   "metadata": {},
   "outputs": [],
   "source": [
    "# Closeの標準偏差・平均を保持しLSTMでの学習後に元の値に戻す為に使う\n",
    "Close_Col=3\n",
    "scaler_mean=scaler.mean_[Close_Col]\n",
    "scaler_scale=scaler.scale_[Close_Col]"
   ]
  },
  {
   "cell_type": "code",
   "execution_count": null,
   "id": "a0288b1c-c3a1-4122-ab11-f41f5626e8b9",
   "metadata": {},
   "outputs": [],
   "source": [
    "# \n",
    "print(f'scaler_mean : {scaler_mean}\\n')\n",
    "print(f'scaler_scale\\n{scaler_scale}\\n')"
   ]
  },
  {
   "cell_type": "code",
   "execution_count": null,
   "id": "f59f7bcf-a691-4e6e-97df-ddc7f17ae03f",
   "metadata": {},
   "outputs": [],
   "source": [
    "# train標準化時の標準偏差・平均を用いた変換\n",
    "# trainはデータの最後から2番目の配列のセットと最終行が正解となるが、testは最終行までがインプットとなる為、\n",
    "# Adjustmentの引数で両方に対応できるようにする。\n",
    "def get_standardized_t(X, num_date,adjustmet):\n",
    "    X = np.array(X)\n",
    "    X_t_list = []\n",
    "    for i in range(0, len(X) - num_date + adjustmet): # 0 , len(X) - num_date, 6　とすると6日毎の値を得られる\n",
    "        X_t = X[i:i+num_date]\n",
    "        X_standardized = scaler.transform(X_t)\n",
    "        X_t_list.append(X_standardized)\n",
    "    return np.array(X_t_list)"
   ]
  },
  {
   "cell_type": "code",
   "execution_count": null,
   "id": "cd4283fe-ddb1-4c84-b1a7-156d4e90a11a",
   "metadata": {},
   "outputs": [],
   "source": [
    "# 期間の設定\n",
    "num_date = 6\n",
    "# 関数get_standardized_tの呼び出し\n",
    "train_lstm_in_std = get_standardized_t(X=df_train, num_date=num_date,adjustmet=0)"
   ]
  },
  {
   "cell_type": "code",
   "execution_count": null,
   "id": "d7c016a5-c59a-4c2c-9285-90a18959be2b",
   "metadata": {},
   "outputs": [],
   "source": [
    "# 配列抜粋\n",
    "print(f'train_lstm_in_std配列数 : {len(train_lstm_in_std)}\\n')\n",
    "print(f'train_lstm_in_std[0]\\n{train_lstm_in_std[0]}\\n')\n",
    "print(f'train_lstm_in_std[1]\\n{train_lstm_in_std[1]}\\n')\n",
    "print(f'train_lstm_in_std[-1]\\n{train_lstm_in_std[-1]}\\n')"
   ]
  },
  {
   "cell_type": "code",
   "execution_count": null,
   "id": "a6499322-9529-4fb8-b937-e8490e627a7a",
   "metadata": {},
   "outputs": [],
   "source": [
    "typeInfo(train_lstm_in_std)"
   ]
  },
  {
   "cell_type": "code",
   "execution_count": null,
   "id": "73e08a2e-c2cb-4ee1-b5c1-56150e723d26",
   "metadata": {},
   "outputs": [],
   "source": [
    "train_out=df_train['Close'][window_len:]"
   ]
  },
  {
   "cell_type": "code",
   "execution_count": null,
   "id": "96265411-866f-4fd1-a8bb-ea0c5c11bab1",
   "metadata": {},
   "outputs": [],
   "source": [
    "train_out = [np.array(train_out_data) for train_out_data in train_out]\n",
    "train_out = np.array(train_out)"
   ]
  },
  {
   "cell_type": "code",
   "execution_count": null,
   "id": "41f6c1ea-0afd-4156-a416-11063caa9fea",
   "metadata": {},
   "outputs": [],
   "source": [
    "train_out"
   ]
  },
  {
   "cell_type": "code",
   "execution_count": null,
   "id": "62c50269-40d3-489b-8e45-283ad5647300",
   "metadata": {},
   "outputs": [],
   "source": [
    "lstm_train_out_std = (train_out-scaler_mean)/scaler_scale\n",
    "lstm_train_out_std"
   ]
  },
  {
   "cell_type": "code",
   "execution_count": null,
   "id": "2b4c9811-ccf6-4b77-aead-1107c2b50eed",
   "metadata": {},
   "outputs": [],
   "source": [
    "len(lstm_train_out_std)"
   ]
  },
  {
   "cell_type": "code",
   "execution_count": null,
   "id": "a2b0860f-86dd-4a94-b0cc-76788228d36a",
   "metadata": {},
   "outputs": [],
   "source": [
    "lstm_train_out_std*scaler_scale+scaler_mean"
   ]
  },
  {
   "cell_type": "code",
   "execution_count": null,
   "id": "6202541a-e42c-40e7-beba-6d15d21d8005",
   "metadata": {},
   "outputs": [],
   "source": []
  },
  {
   "cell_type": "markdown",
   "id": "071652f7-9ae5-4ce8-9e10-740a69a8655b",
   "metadata": {},
   "source": [
    "### test"
   ]
  },
  {
   "cell_type": "code",
   "execution_count": null,
   "id": "6b1b39d9-734f-4f9c-abbd-19b844c4b971",
   "metadata": {},
   "outputs": [],
   "source": [
    "# 期間の設定\n",
    "num_date = 6\n",
    "# 関数get_standardized_tの呼び出し\n",
    "test_lstm_in_std = get_standardized_t(X=df_test, num_date=num_date,adjustmet=1)"
   ]
  },
  {
   "cell_type": "code",
   "execution_count": null,
   "id": "0096712f-13c5-435f-93cf-9d8becfac5c5",
   "metadata": {},
   "outputs": [],
   "source": [
    "# 配列抜粋\n",
    "print(f'test_lstm_in_std配列数 : {len(test_lstm_in_std)}\\n')\n",
    "print(f'test_lstm_in_std[0]\\n{test_lstm_in_std[0]}\\n')\n",
    "print(f'test_lstm_in_std[1]\\n{test_lstm_in_std[1]}\\n')\n",
    "print(f'test_lstm_in_std[-1]\\n{test_lstm_in_std[-1]}\\n')"
   ]
  },
  {
   "cell_type": "code",
   "execution_count": null,
   "id": "d1e5c95a-4c66-447b-a69c-549af4946803",
   "metadata": {},
   "outputs": [],
   "source": [
    "test_out=df_test['Close'][window_len:]"
   ]
  },
  {
   "cell_type": "code",
   "execution_count": null,
   "id": "deaa8f2f-6caa-45fe-8657-cc3cfbb35ac7",
   "metadata": {},
   "outputs": [],
   "source": [
    "test_out = [np.array(test_out_data) for test_out_data in test_out]\n",
    "test_out = np.array(test_out)"
   ]
  },
  {
   "cell_type": "code",
   "execution_count": null,
   "id": "28171d91-d849-45ea-9028-c1410b2fce19",
   "metadata": {},
   "outputs": [],
   "source": [
    "test_out"
   ]
  },
  {
   "cell_type": "code",
   "execution_count": null,
   "id": "19f97d23-a280-4618-947d-cba4772236a8",
   "metadata": {},
   "outputs": [],
   "source": [
    "len(test_out)"
   ]
  },
  {
   "cell_type": "code",
   "execution_count": null,
   "id": "188250c7-44a5-4099-b33b-9d00906a4beb",
   "metadata": {},
   "outputs": [],
   "source": []
  },
  {
   "cell_type": "code",
   "execution_count": null,
   "id": "38956e0f-e1fe-45ca-893b-85733db90378",
   "metadata": {},
   "outputs": [],
   "source": []
  },
  {
   "cell_type": "markdown",
   "id": "8e920fb1-738b-4a2e-adae-22277451439c",
   "metadata": {},
   "source": [
    "## モデルの定義"
   ]
  },
  {
   "cell_type": "code",
   "execution_count": null,
   "id": "f72edeeb-f600-4470-b058-9fec754d6d63",
   "metadata": {},
   "outputs": [],
   "source": [
    "# モデルの定義\n",
    "from keras.models import Sequential\n",
    "from keras.layers import Activation, Dense\n",
    "from keras.layers import LSTM\n",
    "from keras.layers import Dropout"
   ]
  },
  {
   "cell_type": "code",
   "execution_count": null,
   "id": "c60224ae-815e-45cf-84de-66bc7610cb75",
   "metadata": {},
   "outputs": [],
   "source": [
    "# LSTMのモデルを設定\n",
    "def build_model(inputs, output_size, neurons, activ_func=\"linear\",\n",
    "                dropout=0.25, loss=\"mae\", optimizer=\"adam\"):\n",
    "    model = Sequential()\n",
    " \n",
    "    model.add(LSTM(neurons, input_shape=(inputs.shape[1], inputs.shape[2]))) #バッチ数、時系列データ数、特徴量数\n",
    "    model.add(Dropout(dropout)) \n",
    "    model.add(Dense(units=output_size))\n",
    "    model.add(Activation(activ_func))\n",
    " \n",
    "    model.compile(loss=loss, optimizer=optimizer)\n",
    "    return model"
   ]
  },
  {
   "cell_type": "code",
   "execution_count": null,
   "id": "334500b5-270c-41b8-9349-4a1697674a01",
   "metadata": {},
   "outputs": [],
   "source": []
  },
  {
   "cell_type": "markdown",
   "id": "8725a249-19e4-48ed-86af-adccc81492c3",
   "metadata": {},
   "source": [
    "## データの学習と予測"
   ]
  },
  {
   "cell_type": "markdown",
   "id": "3c00a539-8175-4541-95d9-9f07005302d1",
   "metadata": {},
   "source": [
    "### 標準化されたデータによる予測"
   ]
  },
  {
   "cell_type": "code",
   "execution_count": null,
   "id": "594bde70-7740-41d8-a5d0-1aca36932b9d",
   "metadata": {},
   "outputs": [],
   "source": [
    "np.random.seed(202)\n",
    " \n",
    "# 初期モデルの構築\n",
    "yen_model = build_model(train_lstm_in_std, output_size=1, neurons = 20)\n",
    "\n",
    "# データを流してフィッティングさせる\n",
    "yen_history = yen_model.fit(train_lstm_in_std, lstm_train_out_std, \n",
    "                            epochs=20, batch_size=1, verbose=2, shuffle=False)"
   ]
  },
  {
   "cell_type": "code",
   "execution_count": null,
   "id": "04032435-074f-4f6f-a445-ff5a8091b69a",
   "metadata": {},
   "outputs": [],
   "source": []
  },
  {
   "cell_type": "code",
   "execution_count": null,
   "id": "9824c90f-06da-469e-af04-8f2c78069ce1",
   "metadata": {},
   "outputs": [],
   "source": []
  },
  {
   "cell_type": "code",
   "execution_count": null,
   "id": "bebaf562-4cb9-4198-9c69-496fe3c5bd1a",
   "metadata": {},
   "outputs": [],
   "source": [
    "# MAEをプロットしてみよう\n",
    "fig, ax1 = plt.subplots(1,1)\n",
    " \n",
    "ax1.plot(yen_history.epoch, yen_history.history['loss'])\n",
    "ax1.set_title('TrainingError')\n",
    " \n",
    "if yen_model.loss == 'mae':\n",
    "    ax1.set_ylabel('Mean Absolute Error (MAE)',fontsize=12)\n",
    "else:\n",
    "    ax1.set_ylabel('Model Loss',fontsize=12)\n",
    "ax1.set_xlabel('# Epochs',fontsize=12)\n",
    "plt.show()"
   ]
  },
  {
   "cell_type": "code",
   "execution_count": null,
   "id": "98ce79ba-88b9-493a-9eef-cc962cd94e1b",
   "metadata": {},
   "outputs": [],
   "source": [
    "#作成したモデルを使用し予測。\n",
    "train_pred = yen_model.predict(train_lstm_in_std)"
   ]
  },
  {
   "cell_type": "code",
   "execution_count": null,
   "id": "eba0c9ab-ba91-4634-9d21-8cf07bd24368",
   "metadata": {},
   "outputs": [],
   "source": [
    "train_pred"
   ]
  },
  {
   "cell_type": "code",
   "execution_count": null,
   "id": "588b1076-6e12-41ec-b576-86f801bd743e",
   "metadata": {},
   "outputs": [],
   "source": [
    "len(train_pred)"
   ]
  },
  {
   "cell_type": "code",
   "execution_count": null,
   "id": "b7f55b2b-b057-44a4-ad04-4091c8de819f",
   "metadata": {},
   "outputs": [],
   "source": [
    "# 予測データ\n",
    "Pred_Train_Price_Array = (np.transpose(train_pred)*scaler_scale+scaler_mean)[0]\n",
    "Pred_Train_Price_Array"
   ]
  },
  {
   "cell_type": "code",
   "execution_count": null,
   "id": "282ef8ef-a6f4-415a-a4ee-64abea43b02e",
   "metadata": {},
   "outputs": [],
   "source": [
    "# 正解データ\n",
    "Actual_Train_Price_Array = lstm_train_out_std*scaler_scale+scaler_mean\n",
    "Actual_Train_Price_Array"
   ]
  },
  {
   "cell_type": "code",
   "execution_count": null,
   "id": "dcd090c6-0868-4f66-88d7-ec1f59c14d07",
   "metadata": {},
   "outputs": [],
   "source": []
  },
  {
   "cell_type": "code",
   "execution_count": null,
   "id": "aa9874a5-0aa1-4ef4-af36-50c17bc198e2",
   "metadata": {},
   "outputs": [],
   "source": [
    "fig,ax = plt.subplots(figsize=(30,10))\n",
    "\n",
    "# 予測データと正解データの併記\n",
    "ax.plot(Pred_Train_Price_Array)\n",
    "ax.plot(Actual_Train_Price_Array)\n",
    "plt.show()"
   ]
  },
  {
   "cell_type": "code",
   "execution_count": null,
   "id": "82867c5b-5eee-4c37-926a-e7bdc37d6124",
   "metadata": {},
   "outputs": [],
   "source": []
  },
  {
   "cell_type": "markdown",
   "id": "b341f864-7cad-4b95-8817-2040d0cc2de7",
   "metadata": {},
   "source": [
    "### テストデータへの転用"
   ]
  },
  {
   "cell_type": "code",
   "execution_count": null,
   "id": "e61a3a4e-946d-4fd3-85a0-a33ef4f0c2e5",
   "metadata": {},
   "outputs": [],
   "source": [
    "#作成したモデルを使用し予測。\n",
    "test_pred = yen_model.predict(test_lstm_in_std)"
   ]
  },
  {
   "cell_type": "code",
   "execution_count": null,
   "id": "8dd576cc-3737-490d-9510-f09bdb5df116",
   "metadata": {},
   "outputs": [],
   "source": [
    "test_pred"
   ]
  },
  {
   "cell_type": "code",
   "execution_count": null,
   "id": "e5b06e6d-c952-4281-85e4-2a2394863a94",
   "metadata": {},
   "outputs": [],
   "source": [
    "len(test_pred)"
   ]
  },
  {
   "cell_type": "code",
   "execution_count": null,
   "id": "362d8aed-dd41-4b78-a1a9-26ce61dded67",
   "metadata": {},
   "outputs": [],
   "source": [
    "# 予測データ\n",
    "Pred_Price_Array = (np.transpose(test_pred)*scaler_scale+scaler_mean)[0]\n",
    "Pred_Price_Array"
   ]
  },
  {
   "cell_type": "code",
   "execution_count": null,
   "id": "9cbeca74-850f-4782-8731-af75b54fa616",
   "metadata": {},
   "outputs": [],
   "source": [
    "# 正解データ\n",
    "Actual_Price_Array = test_out\n",
    "Actual_Price_Array"
   ]
  },
  {
   "cell_type": "code",
   "execution_count": null,
   "id": "68d86ef9-a3d8-45fe-a8da-706e2f0f8835",
   "metadata": {},
   "outputs": [],
   "source": [
    "len(test_out)"
   ]
  },
  {
   "cell_type": "code",
   "execution_count": null,
   "id": "5a03921f-4810-476f-8afb-0f0430ec3918",
   "metadata": {},
   "outputs": [],
   "source": [
    "fig,ax = plt.subplots(figsize=(30,10))\n",
    "# fig,ax = plt.subplots()\n",
    "\n",
    "# 正解データと予測データの併記\n",
    "ax.plot(Pred_Price_Array)\n",
    "ax.plot(Actual_Price_Array)\n",
    "plt.show()"
   ]
  },
  {
   "cell_type": "code",
   "execution_count": null,
   "id": "84c966a2-1f3c-4c23-b88b-c0c6b659a219",
   "metadata": {},
   "outputs": [],
   "source": [
    "Pred_Price_Array_6=Pred_Price_Array[::6]\n",
    "Pred_Price_Array_6"
   ]
  },
  {
   "cell_type": "code",
   "execution_count": null,
   "id": "f88e4932-c97e-47bc-a91b-4ba98426c75f",
   "metadata": {},
   "outputs": [],
   "source": [
    "len(Pred_Price_Array_6)"
   ]
  },
  {
   "cell_type": "code",
   "execution_count": null,
   "id": "83c77a3f-3623-4a82-8bbb-319010ce0247",
   "metadata": {},
   "outputs": [],
   "source": [
    "Df_Pred_Array = pd.Series(Pred_Price_Array_6)\n",
    "Df_Pred_Array"
   ]
  },
  {
   "cell_type": "code",
   "execution_count": null,
   "id": "59b264af-5562-4d4d-a130-8a8bc965847e",
   "metadata": {},
   "outputs": [],
   "source": [
    "df_submit[1]=Df_Pred_Array\n",
    "df_submit"
   ]
  },
  {
   "cell_type": "code",
   "execution_count": null,
   "id": "8a5951c6-8898-4819-99c6-a23d2d390b70",
   "metadata": {},
   "outputs": [],
   "source": [
    "df_submit = df_submit.set_index(\"Date\") #indexにDateを指定する。"
   ]
  },
  {
   "cell_type": "code",
   "execution_count": null,
   "id": "c42b0bea-161c-47ab-a80a-764b32a1f854",
   "metadata": {},
   "outputs": [],
   "source": [
    "# 指定の様式（インデックスはDate、カラム名は「y」のみ）をお守りください。\n",
    "df_submit = df_submit.rename(columns={1: 'y'}) #カラム名「1」を「y」に変更する。\n",
    "df_submit.to_csv('y_submit.csv') #投稿するファイルを書き出す。\n",
    "df_submit #投稿する中身を確認する。"
   ]
  },
  {
   "cell_type": "code",
   "execution_count": null,
   "id": "898fc8e2-dbfa-4fd2-8d5c-15aab8d96b54",
   "metadata": {},
   "outputs": [],
   "source": []
  },
  {
   "cell_type": "markdown",
   "id": "3839a775-a087-4d6a-830a-ec97c683d54d",
   "metadata": {},
   "source": [
    "### 変化量による予測"
   ]
  },
  {
   "cell_type": "code",
   "execution_count": null,
   "id": "8a6cadd2-3760-44ed-8770-dd1ebf01330e",
   "metadata": {},
   "outputs": [],
   "source": [
    "np.random.seed(202)\n",
    " \n",
    "# 初期モデルの構築\n",
    "yen_model = build_model(train_lstm_in, output_size=1, neurons = 20)\n",
    "\n",
    "# データを流してフィッティングさせる\n",
    "yen_history = yen_model.fit(train_lstm_in, lstm_train_out, \n",
    "                            epochs=35, batch_size=1, verbose=2, shuffle=False)"
   ]
  },
  {
   "cell_type": "code",
   "execution_count": null,
   "id": "a3457ec5-1a28-4b3b-a8cb-94b54f0fb806",
   "metadata": {},
   "outputs": [],
   "source": [
    "#作成したモデルを使用し予測。\n",
    "train_pred = yen_model.predict(train_lstm_in)\n",
    "# test_pred = yen_model.predict(X_test)"
   ]
  },
  {
   "cell_type": "code",
   "execution_count": null,
   "id": "a277c3e2-e59c-4c36-bb3d-3e9edd5df5a3",
   "metadata": {},
   "outputs": [],
   "source": [
    "train_pred"
   ]
  },
  {
   "cell_type": "code",
   "execution_count": null,
   "id": "7052f331-66f7-4d7d-a408-07152a513a1a",
   "metadata": {},
   "outputs": [],
   "source": [
    "np.transpose(train_pred)"
   ]
  },
  {
   "cell_type": "code",
   "execution_count": null,
   "id": "616523f3-4f40-4f70-9b9a-0c58b4e05bb5",
   "metadata": {},
   "outputs": [],
   "source": [
    "len(train_pred)"
   ]
  },
  {
   "cell_type": "code",
   "execution_count": null,
   "id": "9669d2c4-68b3-498d-a2db-1cb102c11d9a",
   "metadata": {},
   "outputs": [],
   "source": [
    "lstm_train_out"
   ]
  },
  {
   "cell_type": "code",
   "execution_count": null,
   "id": "134e2a7a-ab10-4218-afbc-2c19bd861c78",
   "metadata": {},
   "outputs": [],
   "source": [
    "len(lstm_train_out)"
   ]
  },
  {
   "cell_type": "code",
   "execution_count": null,
   "id": "a74f04e9-605a-4aa8-8f7b-d92a954dd203",
   "metadata": {},
   "outputs": [],
   "source": [
    "# 配列には変化量が入っているので１００倍\n",
    "np.transpose(train_pred+1)"
   ]
  },
  {
   "cell_type": "code",
   "execution_count": null,
   "id": "da440ce9-7ee9-4895-82a7-84352ae991de",
   "metadata": {},
   "outputs": [],
   "source": [
    "#予測データ(変化量)を単価に直したもの\n",
    "Pred_Train_Price_Array=(np.transpose(train_pred+1)* df_train['Close'].values[:-window_len])[0]\n",
    "(np.transpose(train_pred+1)* df_train['Close'].values[:-window_len])[0]"
   ]
  },
  {
   "cell_type": "code",
   "execution_count": null,
   "id": "fe2c95ca-ea22-42b7-b1b2-db6887790b28",
   "metadata": {},
   "outputs": [],
   "source": [
    "#正解データ(変化量)を単価に直したもの\n",
    "Actual_Train_Price_Array=(1+lstm_train_out)* df_train['Close'].values[:-window_len]\n",
    "(1+lstm_train_out)* df_train['Close'].values[:-window_len]"
   ]
  },
  {
   "cell_type": "code",
   "execution_count": null,
   "id": "3527a580-2a30-41c9-8ca9-806d0a22f327",
   "metadata": {},
   "outputs": [],
   "source": [
    "fig,ax = plt.subplots(figsize=(30,10))\n",
    "\n",
    "# 予測データと正解データの併記\n",
    "ax.plot(Pred_Train_Price_Array)\n",
    "ax.plot(Actual_Train_Price_Array)\n",
    "plt.show()"
   ]
  },
  {
   "cell_type": "code",
   "execution_count": null,
   "id": "f7e7b139-9992-4764-9f2a-9f3db775515e",
   "metadata": {},
   "outputs": [],
   "source": []
  },
  {
   "cell_type": "markdown",
   "id": "206c3561-5dcd-48ac-afb9-5f3050f3322c",
   "metadata": {},
   "source": [
    "## テストデータへの転用"
   ]
  },
  {
   "cell_type": "code",
   "execution_count": null,
   "id": "a548ab85-b6fe-4278-a3ac-7107d1f3792b",
   "metadata": {},
   "outputs": [],
   "source": [
    "#作成したモデルを使用し予測。\n",
    "test_pred = yen_model.predict(test_lstm_in)"
   ]
  },
  {
   "cell_type": "code",
   "execution_count": null,
   "id": "30284cdb-ec75-463e-9421-254ae3ef0ae6",
   "metadata": {},
   "outputs": [],
   "source": [
    "test_pred"
   ]
  },
  {
   "cell_type": "code",
   "execution_count": null,
   "id": "be52a5ac-4dc3-4a04-8db2-527cb75e24fe",
   "metadata": {},
   "outputs": [],
   "source": [
    "len(test_pred)"
   ]
  },
  {
   "cell_type": "code",
   "execution_count": null,
   "id": "ba262037-c353-4795-bd62-78ab751869af",
   "metadata": {},
   "outputs": [],
   "source": [
    "np.transpose(test_pred)"
   ]
  },
  {
   "cell_type": "code",
   "execution_count": null,
   "id": "b2d6c45a-b1ac-4324-a5ae-0a53ea435f8c",
   "metadata": {},
   "outputs": [],
   "source": [
    "len(lstm_test_out)"
   ]
  },
  {
   "cell_type": "code",
   "execution_count": null,
   "id": "c54f3c61-cba3-44f6-b4bb-5ac823cb5c3f",
   "metadata": {},
   "outputs": [],
   "source": [
    "# 予測データ(変化量)を単価に直したもの\n",
    "Pred_Price_Array=(np.transpose(test_pred+1)* df_test['Close'].values[:-window_len+adjustment1])[0]\n",
    "(np.transpose(test_pred+1)* df_test['Close'].values[:-window_len+1])[0]"
   ]
  },
  {
   "cell_type": "code",
   "execution_count": null,
   "id": "89bbf46d-32f4-4a34-a238-f192918bfe9f",
   "metadata": {},
   "outputs": [],
   "source": [
    "typeInfo(Pred_Price_Array)"
   ]
  },
  {
   "cell_type": "code",
   "execution_count": null,
   "id": "0db18c71-1de7-4c41-930c-18d7b5c3250f",
   "metadata": {},
   "outputs": [],
   "source": [
    "# 正解データ(変化量)を単価に直したもの\n",
    "Actual_Price_Array=(1+lstm_test_out)* df_test['Close'].values[:-window_len]\n",
    "(1+lstm_test_out)* df_test['Close'].values[:-window_len]"
   ]
  },
  {
   "cell_type": "code",
   "execution_count": null,
   "id": "36871558-98fa-4db0-8553-b00087ee6b67",
   "metadata": {},
   "outputs": [],
   "source": [
    "typeInfo(Actual_Price_Array)"
   ]
  },
  {
   "cell_type": "code",
   "execution_count": null,
   "id": "40704368-bd00-416b-b49f-4db67235e3dd",
   "metadata": {},
   "outputs": [],
   "source": [
    "fig,ax = plt.subplots(figsize=(30,10))\n",
    "# fig,ax = plt.subplots()\n",
    "\n",
    "# 正解データと予測データの併記\n",
    "ax.plot(Pred_Price_Array)\n",
    "ax.plot(Actual_Price_Array)\n",
    "plt.show()"
   ]
  },
  {
   "cell_type": "code",
   "execution_count": null,
   "id": "cb7405fe-39ea-4f2a-bba5-a083adde1360",
   "metadata": {},
   "outputs": [],
   "source": []
  },
  {
   "cell_type": "code",
   "execution_count": null,
   "id": "3ad85ed4-e7ed-4d03-a8c2-0b37af2aa980",
   "metadata": {},
   "outputs": [],
   "source": [
    "# Actual_Price_Array[::12]"
   ]
  },
  {
   "cell_type": "code",
   "execution_count": null,
   "id": "fbbba25f-0dbc-4eda-8053-e5720231a137",
   "metadata": {},
   "outputs": [],
   "source": [
    "len(Pred_Price_Array)"
   ]
  },
  {
   "cell_type": "code",
   "execution_count": null,
   "id": "d578c6b3-7e67-4f19-a8b6-e03f8ac33895",
   "metadata": {},
   "outputs": [],
   "source": [
    "Pred_Price_Array_7=Pred_Price_Array[::6]\n",
    "Pred_Price_Array_7"
   ]
  },
  {
   "cell_type": "code",
   "execution_count": null,
   "id": "b0a0a581-eaec-4898-a51f-478a0cef9e52",
   "metadata": {},
   "outputs": [],
   "source": [
    "len(Pred_Price_Array_7)"
   ]
  },
  {
   "cell_type": "code",
   "execution_count": null,
   "id": "327db071-6d2f-46c7-a893-1aed99e70490",
   "metadata": {},
   "outputs": [],
   "source": [
    "Df_Pred_Array = pd.Series(Pred_Price_Array_7)\n",
    "Df_Pred_Array"
   ]
  },
  {
   "cell_type": "code",
   "execution_count": null,
   "id": "4bfde59e-44e5-4f91-a911-47404443cc11",
   "metadata": {},
   "outputs": [],
   "source": [
    "Df_Pred_Array.describe()"
   ]
  },
  {
   "cell_type": "code",
   "execution_count": null,
   "id": "79426667-71e2-4a7b-ad31-3a141bce6f9f",
   "metadata": {},
   "outputs": [],
   "source": []
  },
  {
   "cell_type": "code",
   "execution_count": null,
   "id": "e7e146c1-9e8a-47e7-98c4-9751682c0024",
   "metadata": {},
   "outputs": [],
   "source": []
  },
  {
   "cell_type": "code",
   "execution_count": null,
   "id": "6a84fa74-d585-4f61-9240-f419f0ab5080",
   "metadata": {},
   "outputs": [],
   "source": [
    "df_submit2[1]=Df_Pred_Array\n",
    "df_submit2"
   ]
  },
  {
   "cell_type": "code",
   "execution_count": null,
   "id": "2a8ba835-aba8-461d-95e1-d50a3af6823c",
   "metadata": {},
   "outputs": [],
   "source": [
    "#線形補間\n",
    "df_submit2=df_submit2.interpolate()"
   ]
  },
  {
   "cell_type": "code",
   "execution_count": null,
   "id": "cf344d91-9ec9-4035-ac58-a6671a546422",
   "metadata": {},
   "outputs": [],
   "source": [
    "df_submit2 = df_submit2.set_index(\"Date\") #indexにDateを指定する。"
   ]
  },
  {
   "cell_type": "code",
   "execution_count": null,
   "id": "4625f1a4-6988-44e0-9dc3-a3f5fbfd6e0f",
   "metadata": {},
   "outputs": [],
   "source": [
    "# 指定の様式（インデックスはDate、カラム名は「y」のみ）をお守りください。\n",
    "df_submit2 = df_submit2.rename(columns={1: 'y'}) #カラム名「1」を「y」に変更する。\n",
    "df_submit2.to_csv('y_submit2.csv') #投稿するファイルを書き出す。\n",
    "df_submit2 #投稿する中身を確認する。"
   ]
  },
  {
   "cell_type": "code",
   "execution_count": null,
   "id": "e9a924c6-5f52-4955-b02d-35d0f367ac19",
   "metadata": {},
   "outputs": [],
   "source": []
  },
  {
   "cell_type": "code",
   "execution_count": null,
   "id": "96e6e676-2c86-4794-8550-570192e34a23",
   "metadata": {},
   "outputs": [],
   "source": []
  },
  {
   "cell_type": "code",
   "execution_count": null,
   "id": "b1a89e95-f847-4cde-a42e-caed08734224",
   "metadata": {},
   "outputs": [],
   "source": []
  },
  {
   "cell_type": "code",
   "execution_count": null,
   "id": "4d80ba13-987f-4789-bb10-9244f1db6753",
   "metadata": {},
   "outputs": [],
   "source": []
  },
  {
   "cell_type": "code",
   "execution_count": null,
   "id": "dd4b0595-d2a6-4a36-a1c7-1b9b2b09fc48",
   "metadata": {},
   "outputs": [],
   "source": []
  },
  {
   "cell_type": "code",
   "execution_count": null,
   "id": "49970f25-1d4c-4dcc-bfef-0470f0d53758",
   "metadata": {},
   "outputs": [],
   "source": []
  },
  {
   "cell_type": "code",
   "execution_count": null,
   "id": "d9fe93e0-b992-42a8-a3e7-bda0c913388a",
   "metadata": {},
   "outputs": [],
   "source": []
  },
  {
   "cell_type": "code",
   "execution_count": null,
   "id": "903a86e6-1601-44ec-b153-8b8eaafe7f74",
   "metadata": {},
   "outputs": [],
   "source": []
  },
  {
   "cell_type": "code",
   "execution_count": null,
   "id": "56f13c74-f3f0-43a1-9683-dff200d448d5",
   "metadata": {},
   "outputs": [],
   "source": []
  },
  {
   "cell_type": "code",
   "execution_count": null,
   "id": "57a35a8c-0607-4d6a-a80f-21e659496cd5",
   "metadata": {},
   "outputs": [],
   "source": []
  },
  {
   "cell_type": "code",
   "execution_count": null,
   "id": "c69d0f7b-4f26-47be-b15f-2b4e3806caa6",
   "metadata": {},
   "outputs": [],
   "source": []
  },
  {
   "cell_type": "code",
   "execution_count": null,
   "id": "1457bcbf-7777-485c-b25d-2437971ad917",
   "metadata": {},
   "outputs": [],
   "source": []
  },
  {
   "cell_type": "code",
   "execution_count": null,
   "id": "877d8c54-efcd-4f78-bd8e-e2bea3dc356f",
   "metadata": {},
   "outputs": [],
   "source": []
  },
  {
   "cell_type": "code",
   "execution_count": null,
   "id": "3c964f06-bb16-48b0-b35a-b975180744c6",
   "metadata": {},
   "outputs": [],
   "source": []
  },
  {
   "cell_type": "code",
   "execution_count": null,
   "id": "119713a2-2448-4796-8231-35e96a564359",
   "metadata": {},
   "outputs": [],
   "source": []
  },
  {
   "cell_type": "code",
   "execution_count": null,
   "id": "78969735-4213-47ec-b94d-2bbb0a97afa0",
   "metadata": {},
   "outputs": [],
   "source": []
  },
  {
   "cell_type": "code",
   "execution_count": null,
   "id": "363e7464-9af3-4b80-b3c3-06fe395ec6fa",
   "metadata": {},
   "outputs": [],
   "source": []
  },
  {
   "cell_type": "code",
   "execution_count": null,
   "id": "c9756564-244f-4058-a0b8-981616872280",
   "metadata": {},
   "outputs": [],
   "source": []
  },
  {
   "cell_type": "code",
   "execution_count": null,
   "id": "c5aa9467-e5e4-4d63-80b2-9769f1217368",
   "metadata": {},
   "outputs": [],
   "source": []
  },
  {
   "cell_type": "code",
   "execution_count": null,
   "id": "a2607a1f-898a-4d35-8c4a-6a92670ddf99",
   "metadata": {},
   "outputs": [],
   "source": []
  },
  {
   "cell_type": "code",
   "execution_count": null,
   "id": "8bd4e73a-da01-4ea7-9c54-076c4c5ac7a1",
   "metadata": {},
   "outputs": [],
   "source": []
  },
  {
   "cell_type": "code",
   "execution_count": null,
   "id": "fec9e916-ab1f-415c-8c92-317e725691e3",
   "metadata": {},
   "outputs": [],
   "source": []
  },
  {
   "cell_type": "code",
   "execution_count": null,
   "id": "f0387e63-9011-46a5-b118-55e292115d44",
   "metadata": {},
   "outputs": [],
   "source": []
  },
  {
   "cell_type": "code",
   "execution_count": null,
   "id": "569b91f1-6b32-4b5d-80fa-8df700e83652",
   "metadata": {},
   "outputs": [],
   "source": []
  },
  {
   "cell_type": "code",
   "execution_count": null,
   "id": "f921dbe4-9973-487f-b726-4f6a3a3d9afe",
   "metadata": {},
   "outputs": [],
   "source": []
  },
  {
   "cell_type": "code",
   "execution_count": null,
   "id": "fd06341e-a7a2-4673-9e95-5084c4c995a7",
   "metadata": {},
   "outputs": [],
   "source": []
  },
  {
   "cell_type": "code",
   "execution_count": null,
   "id": "ed5ddaa1-cf22-4d16-8361-62285069e01f",
   "metadata": {},
   "outputs": [],
   "source": []
  },
  {
   "cell_type": "code",
   "execution_count": null,
   "id": "cc112a6c-3593-40cb-933e-057418fe80ef",
   "metadata": {},
   "outputs": [],
   "source": []
  },
  {
   "cell_type": "code",
   "execution_count": null,
   "id": "a0076e6b-3402-49b7-ad48-25a1a42ff636",
   "metadata": {},
   "outputs": [],
   "source": []
  },
  {
   "cell_type": "code",
   "execution_count": null,
   "id": "6268f0c4-49ad-47c2-84b7-a5b372638ba7",
   "metadata": {},
   "outputs": [],
   "source": []
  },
  {
   "cell_type": "code",
   "execution_count": null,
   "id": "81e9fe38-183e-4e93-b73f-14f76192fe6f",
   "metadata": {},
   "outputs": [],
   "source": []
  },
  {
   "cell_type": "code",
   "execution_count": null,
   "id": "b9412c22-bb3e-49c5-85c3-57931bb14deb",
   "metadata": {},
   "outputs": [],
   "source": []
  },
  {
   "cell_type": "code",
   "execution_count": null,
   "id": "d76e989e-2052-4e9d-bdbb-770704d825c8",
   "metadata": {},
   "outputs": [],
   "source": []
  },
  {
   "cell_type": "code",
   "execution_count": null,
   "id": "acd52a24-15ce-4f0a-9c5d-d28990e7ccf3",
   "metadata": {},
   "outputs": [],
   "source": []
  },
  {
   "cell_type": "code",
   "execution_count": null,
   "id": "088c718b-3ef2-4109-af86-de17f2b5e5d3",
   "metadata": {},
   "outputs": [],
   "source": []
  },
  {
   "cell_type": "code",
   "execution_count": null,
   "id": "0e7cbbb0-2791-46f9-b765-a37298fe3ef6",
   "metadata": {},
   "outputs": [],
   "source": []
  },
  {
   "cell_type": "code",
   "execution_count": null,
   "id": "6d620642-5344-470a-8e53-e6d3206c66d6",
   "metadata": {},
   "outputs": [],
   "source": []
  },
  {
   "cell_type": "code",
   "execution_count": null,
   "id": "533adbe7-7806-4e6a-9c5a-3fb8a45c7028",
   "metadata": {},
   "outputs": [],
   "source": []
  }
 ],
 "metadata": {
  "kernelspec": {
   "display_name": "Python 3",
   "language": "python",
   "name": "python3"
  },
  "language_info": {
   "codemirror_mode": {
    "name": "ipython",
    "version": 3
   },
   "file_extension": ".py",
   "mimetype": "text/x-python",
   "name": "python",
   "nbconvert_exporter": "python",
   "pygments_lexer": "ipython3",
   "version": "3.8.8"
  }
 },
 "nbformat": 4,
 "nbformat_minor": 5
}
