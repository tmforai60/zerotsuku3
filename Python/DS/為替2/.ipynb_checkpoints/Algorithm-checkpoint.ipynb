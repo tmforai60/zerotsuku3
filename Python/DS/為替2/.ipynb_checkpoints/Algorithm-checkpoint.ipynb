{
 "cells": [
  {
   "cell_type": "code",
   "execution_count": 1,
   "id": "d31ccb49-5869-4869-bd7b-20dbe2c1dfce",
   "metadata": {},
   "outputs": [],
   "source": [
    "# ライブラリの取得\n",
    "import pandas as pd\n",
    "import numpy as np\n",
    "%matplotlib inline\n",
    "import matplotlib.pyplot as plt\n",
    "import seaborn as sns\n",
    "# sns.set(font=\"IPAexGothic\",style=\"white\")　多分いらなそう\n",
    "# import oandapy\n",
    "import configparser\n",
    "import datetime\n",
    "from datetime import datetime, timedelta\n",
    "\n",
    "import warnings\n",
    "warnings.simplefilter('ignore')\n",
    "\n",
    "# CSVデータの読み込み\n",
    "import os\n",
    "working_directory=os.getcwd()\n",
    "#print(working_directory)\n",
    "path_train=working_directory+'/finance2_train.csv'\n",
    "path_test=working_directory+'/finance2_test.csv'\n",
    "path_submit=working_directory+'/finance2_submit.csv'\n",
    "\n",
    "#データフレームの生成\n",
    "df_train=pd.read_csv(path_train)\n",
    "df_test=pd.read_csv(path_test)\n",
    "df_submit=pd.read_csv(path_submit)"
   ]
  },
  {
   "cell_type": "code",
   "execution_count": null,
   "id": "c0921fd3-ecd7-4b9f-9428-07a7faa26b0f",
   "metadata": {},
   "outputs": [],
   "source": []
  },
  {
   "cell_type": "code",
   "execution_count": null,
   "id": "9d2dc221-3265-4a03-a0ee-e1649a51cff2",
   "metadata": {},
   "outputs": [],
   "source": []
  },
  {
   "cell_type": "markdown",
   "id": "082ee764-4a00-46bf-862d-e7ebf9526377",
   "metadata": {},
   "source": [
    "◆Box1.1 P.22\n",
    "　終値が移動平均を上回ったら買え"
   ]
  },
  {
   "cell_type": "markdown",
   "id": "e7e8fdca-7a17-4a7c-b406-1d616a9126b6",
   "metadata": {},
   "source": [
    "moving average(type, price, length)"
   ]
  },
  {
   "cell_type": "markdown",
   "id": "177ce1df-d76f-46cd-9bab-c252a27b9101",
   "metadata": {},
   "source": [
    "→moving average(simple,close,21)"
   ]
  },
  {
   "cell_type": "code",
   "execution_count": null,
   "id": "5958eef9-1689-43f0-9063-bf0a9d2cb54c",
   "metadata": {},
   "outputs": [],
   "source": []
  },
  {
   "cell_type": "code",
   "execution_count": null,
   "id": "6f3e258d-5911-4e3e-ad20-e7c59fdef653",
   "metadata": {},
   "outputs": [],
   "source": []
  },
  {
   "cell_type": "markdown",
   "id": "87bad72b-9b39-4ca1-a9a1-b148223dec18",
   "metadata": {},
   "source": [
    "◆やりたいこと\n",
    "市場が200日移動平均を上回って引け、その後下落トレンドに転じ、RSIが20を下回って底を付け、その後上昇し始めたら買え。売りは逆。"
   ]
  },
  {
   "cell_type": "markdown",
   "id": "9b1715a5-6904-4b15-96eb-e773a48dcd7f",
   "metadata": {},
   "source": [
    "今日の終値が終値の200日移動平均を上回り、今日の終値が昨日の終値を下回り、昨日の終値がその前日の終値を下回り、その前日の終値がそのまた前日の終値を下回り、昨日の14日RSIが20を下回り、昨日の14日RSIが今日の14日RSI を下回ったとき、成り行きで買う。"
   ]
  },
  {
   "cell_type": "markdown",
   "id": "66ddf0a7-c560-47e7-a9d3-b912c372003f",
   "metadata": {},
   "source": [
    "if close> 200 day moving average and\n",
    "close くclose[1] and close [1] < close [2] and\n",
    "close[2］くclose[3] and yesterday’s 14 day RSI ＜ 20 and\n",
    "yesterday’s 14 day RSI くtoday’s 14 day RSI then BUY"
   ]
  },
  {
   "cell_type": "markdown",
   "id": "ccd729f3-a982-4c7c-8901-8c2b281b72e8",
   "metadata": {},
   "source": [
    "P27:最初の不等号が逆な気がする"
   ]
  },
  {
   "cell_type": "code",
   "execution_count": null,
   "id": "a6c91043-92b3-48fe-8e3a-d1877393be31",
   "metadata": {},
   "outputs": [],
   "source": [
    "if myClose[DO] < sAverage(myClose,200,DO,1) and \n",
    "myClose[DO]<myClose[D1] and myClose[D2]くmyClose[D3] and\n",
    "myClose[D1]<myClose[D2] and \n",
    "rsiVal[D1] < 20 and rsiVal[D1]<rsiVal[DO]:\n",
    "\n",
    "buyEntryName: 'rsiBuy'\n",
    "entryPrice = myOpen"
   ]
  },
  {
   "cell_type": "code",
   "execution_count": null,
   "id": "ce3d87af-295e-4d89-86e0-f5bb4f34f538",
   "metadata": {},
   "outputs": [],
   "source": []
  },
  {
   "cell_type": "code",
   "execution_count": null,
   "id": "4323b404-cf5c-4cdf-a997-508eaacf162b",
   "metadata": {},
   "outputs": [],
   "source": []
  },
  {
   "cell_type": "code",
   "execution_count": null,
   "id": "3184b324-9c10-4d0b-b83d-5020b29b7c5a",
   "metadata": {},
   "outputs": [],
   "source": []
  },
  {
   "cell_type": "code",
   "execution_count": null,
   "id": "c046d0cd-a508-4b6e-ba19-224e34667bbc",
   "metadata": {},
   "outputs": [],
   "source": []
  },
  {
   "cell_type": "code",
   "execution_count": null,
   "id": "4e383ca6-0be9-4d17-bc35-1048a8426564",
   "metadata": {},
   "outputs": [],
   "source": []
  },
  {
   "cell_type": "code",
   "execution_count": null,
   "id": "6ecf1371-cc85-441d-a901-36691b9014ac",
   "metadata": {},
   "outputs": [],
   "source": []
  },
  {
   "cell_type": "code",
   "execution_count": null,
   "id": "1b13fd4a-5fc2-40b5-ba16-3020dd822c76",
   "metadata": {},
   "outputs": [],
   "source": []
  },
  {
   "cell_type": "code",
   "execution_count": null,
   "id": "6e0be37c-e83a-4968-b511-9ebdfa5684bb",
   "metadata": {},
   "outputs": [],
   "source": []
  }
 ],
 "metadata": {
  "kernelspec": {
   "display_name": "Python 3",
   "language": "python",
   "name": "python3"
  },
  "language_info": {
   "codemirror_mode": {
    "name": "ipython",
    "version": 3
   },
   "file_extension": ".py",
   "mimetype": "text/x-python",
   "name": "python",
   "nbconvert_exporter": "python",
   "pygments_lexer": "ipython3",
   "version": "3.8.8"
  }
 },
 "nbformat": 4,
 "nbformat_minor": 5
}
