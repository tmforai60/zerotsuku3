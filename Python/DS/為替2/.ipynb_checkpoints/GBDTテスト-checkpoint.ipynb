{
 "cells": [
  {
   "cell_type": "code",
   "execution_count": 203,
   "id": "bd0569aa-3791-4118-9ca3-afd4bd744e8d",
   "metadata": {},
   "outputs": [],
   "source": [
    "# ライブラリの取得\n",
    "import pandas as pd\n",
    "import numpy as np\n",
    "%matplotlib inline\n",
    "import matplotlib.pyplot as plt\n",
    "import seaborn as sns\n",
    "# sns.set(font=\"IPAexGothic\",style=\"white\")　多分いらなそう\n",
    "# import oandapy\n",
    "import configparser\n",
    "import datetime\n",
    "from datetime import datetime, timedelta\n",
    "\n",
    "import warnings\n",
    "warnings.simplefilter('ignore')\n",
    "\n",
    "# CSVデータの読み込み\n",
    "import os\n",
    "working_directory=os.getcwd()\n",
    "#print(working_directory)\n",
    "path_train=working_directory+'/finance2_train.csv'\n",
    "path_test=working_directory+'/finance2_test.csv'\n",
    "path_submit=working_directory+'/finance2_submit.csv'\n",
    "\n",
    "#データフレームの生成\n",
    "df_train=pd.read_csv(path_train)\n",
    "df_test=pd.read_csv(path_test)\n",
    "df_submit=pd.read_csv(path_submit)"
   ]
  },
  {
   "cell_type": "code",
   "execution_count": 204,
   "id": "30ce2089-9fae-408c-9734-b6e515002b9d",
   "metadata": {},
   "outputs": [],
   "source": [
    "# 変数名をそのままprint関数内で表示させる関数\n",
    "def chkprint(*args):\n",
    "    for obj in args:\n",
    "        for k, v in globals().items():\n",
    "            if id(v) == id(obj):\n",
    "                target = k\n",
    "                break          \n",
    "    return target\n",
    "\n",
    "# データがどのデータ型か、列数、行数を表示する関数\n",
    "def typeInfo(targetData):\n",
    "    if (type(targetData) is pd.core.frame.DataFrame):\n",
    "        print(\"{} は DataFrame型\".format(chkprint(targetData)))\n",
    "        print(\"{} の行数, 列数・・・{}\\n\".format(chkprint(targetData), targetData.shape))     # shapeの表示内容は、(行数, 列数)となる\n",
    "    if (type(targetData) is list):\n",
    "        print(\"{} は list型\".format(chkprint(targetData)))\n",
    "        print(\"{} の行数, 列数・・・{}\\n\".format(chkprint(targetData), pd.DataFrame(targetData).shape))    # shapeの表示内容は、(行数, 列数)となる\n",
    "    if (type(targetData) is np.ndarray):\n",
    "        print(\"{} は ndarray型\".format(chkprint(targetData)))\n",
    "        print(\"{} の行数, 列数・・・{}\\n\".format(chkprint(targetData), targetData.shape))     # shapeの表示内容は、(行数, 列数)となる\n",
    "    if (type(targetData) is pd.core.series.Series):\n",
    "        print(\"{} は Series型\".format(chkprint(targetData)))\n",
    "        print(\"{} の行数, 列数・・・{}\\n\".format(chkprint(targetData), targetData.shape))     # shapeの表示内容は、(行数, 列数)となる"
   ]
  },
  {
   "cell_type": "code",
   "execution_count": 205,
   "id": "30c16a8c-0eee-438b-b300-97be95f1dd52",
   "metadata": {},
   "outputs": [],
   "source": [
    "# Dateがobject型になっているので日付型に変換\n",
    "df_train['Date']=pd.to_datetime(df_train['Date'],format='%Y/%m/%d')\n",
    "df_test['Date']=pd.to_datetime(df_test['Date'],format='%Y/%m/%d')"
   ]
  },
  {
   "cell_type": "code",
   "execution_count": 206,
   "id": "9bebaccd-9634-4737-b4e9-3356a9b9f605",
   "metadata": {},
   "outputs": [],
   "source": [
    "# Dateをインデックスに指定\n",
    "df_train.set_index('Date',inplace=True)\n",
    "df_test.set_index('Date',inplace=True)"
   ]
  },
  {
   "cell_type": "code",
   "execution_count": 207,
   "id": "cecd68b0-471b-4f0e-a285-1f98a8aa846f",
   "metadata": {},
   "outputs": [
    {
     "data": {
      "text/plain": [
       "<bound method NDFrame.tail of                   High         Low        Open       Close\n",
       "Date                                                      \n",
       "2003-01-23  100.416900   99.950797  100.314203  100.235198\n",
       "2003-01-24  100.930402  100.172002  100.251001  100.717098\n",
       "2003-01-27  101.862602  100.717098  100.796097  101.467602\n",
       "2003-01-28  101.688801  101.135803  101.483405  101.491301\n",
       "2003-01-29  101.609796  101.033100  101.483405  101.341199\n",
       "...                ...         ...         ...         ...\n",
       "2011-07-07   92.264890   90.571922   92.174042   92.193787\n",
       "2011-07-10   90.644598   88.792047   90.489759   90.492917\n",
       "2011-07-11   89.125431   86.571360   89.072500   89.074079\n",
       "2011-07-12   88.502120   87.532002   87.532002   87.530417\n",
       "2011-07-13   89.185468   88.197968   88.693297   88.732800\n",
       "\n",
       "[2187 rows x 4 columns]>"
      ]
     },
     "execution_count": 207,
     "metadata": {},
     "output_type": "execute_result"
    }
   ],
   "source": [
    "df_train.tail"
   ]
  },
  {
   "cell_type": "code",
   "execution_count": null,
   "id": "a19d0d8a-5473-4ef0-94dd-f9d9acbbede6",
   "metadata": {},
   "outputs": [],
   "source": []
  },
  {
   "cell_type": "code",
   "execution_count": 208,
   "id": "87ca6482-68a6-4b00-9d86-8ba08fa877fb",
   "metadata": {},
   "outputs": [],
   "source": [
    "# Shift/Diff/Up作成用関数\n",
    "def Diff(data_from,data_to):\n",
    "    shift=data_to.shift(-1)\n",
    "    diff=shift-data_from\n",
    "    diff2=diff.interpolate()\n",
    "    shift=shift.interpolate()\n",
    "    updown=diff2.apply(lambda x:1 if x>=0 else 0)\n",
    "    return shift,diff2,updown"
   ]
  },
  {
   "cell_type": "code",
   "execution_count": 209,
   "id": "dce359be-e1a1-443d-9bc7-29b8477dd16f",
   "metadata": {},
   "outputs": [],
   "source": [
    "#翌日終値と当日終値の差のカラム（Diff）を作成\n",
    "df_train[\"Shift\"],df_train[\"Diff\"],df_train[\"Up\"] = Diff(df_train[\"Close\"],df_train[\"Close\"])\n",
    "df_test[\"Shift\"],df_test[\"Diff\"],df_test[\"Up\"] = Diff(df_test[\"Close\"],df_test[\"Close\"])"
   ]
  },
  {
   "cell_type": "code",
   "execution_count": 210,
   "id": "d35c1c76-6f0c-48a5-8ad0-ffedbf9180e3",
   "metadata": {},
   "outputs": [
    {
     "name": "stdout",
     "output_type": "stream",
     "text": [
      "train\n",
      "                  High         Low        Open       Close       Shift  \\\n",
      "Date                                                                     \n",
      "2003-01-23  100.416900   99.950797  100.314203  100.235198  100.717098   \n",
      "2003-01-24  100.930402  100.172002  100.251001  100.717098  101.467602   \n",
      "2003-01-27  101.862602  100.717098  100.796097  101.467602  101.491301   \n",
      "2003-01-28  101.688801  101.135803  101.483405  101.491301  101.341199   \n",
      "2003-01-29  101.609796  101.033100  101.483405  101.341199  101.736199   \n",
      "...                ...         ...         ...         ...         ...   \n",
      "2011-07-07   92.264890   90.571922   92.174042   92.193787   90.492917   \n",
      "2011-07-10   90.644598   88.792047   90.489759   90.492917   89.074079   \n",
      "2011-07-11   89.125431   86.571360   89.072500   89.074079   87.530417   \n",
      "2011-07-12   88.502120   87.532002   87.532002   87.530417   88.732800   \n",
      "2011-07-13   89.185468   88.197968   88.693297   88.732800   88.732800   \n",
      "\n",
      "                Diff  Up  \n",
      "Date                      \n",
      "2003-01-23  0.481900   1  \n",
      "2003-01-24  0.750504   1  \n",
      "2003-01-27  0.023699   1  \n",
      "2003-01-28 -0.150102   0  \n",
      "2003-01-29  0.395000   1  \n",
      "...              ...  ..  \n",
      "2011-07-07 -1.700870   0  \n",
      "2011-07-10 -1.418838   0  \n",
      "2011-07-11 -1.543662   0  \n",
      "2011-07-12  1.202383   1  \n",
      "2011-07-13  1.202383   1  \n",
      "\n",
      "[2187 rows x 7 columns]\n",
      "\n",
      "test\n",
      "                 High        Low       Open      Close      Shift      Diff  \\\n",
      "Date                                                                          \n",
      "2011-07-14  88.730431  87.984671  88.535300  88.551097  88.266703 -0.284394   \n",
      "2011-07-17  88.242998  87.426930  88.242998  88.266703  88.116601 -0.150102   \n",
      "2011-07-18  88.714628  87.808501  88.115022  88.116601  88.590600  0.473999   \n",
      "2011-07-19  88.736748  88.195600  88.604818  88.590600  88.784152  0.193552   \n",
      "2011-07-20  89.372698  88.092902  88.772302  88.784152  89.483297  0.699146   \n",
      "...               ...        ...        ...        ...        ...       ...   \n",
      "2019-12-25  96.308939  95.580519  95.771703  95.771703  95.860182  0.088480   \n",
      "2019-12-26  96.193560  95.853860  95.859393  95.860182  96.127200  0.267018   \n",
      "2019-12-27  96.749722  95.988948  96.154847  96.127200  96.693633  0.566432   \n",
      "2019-12-30  96.748932  96.294679  96.696791  96.693633  96.372098 -0.321534   \n",
      "2019-12-31  96.447149  96.150899  96.362617  96.372098  96.372098 -0.321534   \n",
      "\n",
      "            Up  \n",
      "Date            \n",
      "2011-07-14   0  \n",
      "2011-07-17   0  \n",
      "2011-07-18   1  \n",
      "2011-07-19   1  \n",
      "2011-07-20   1  \n",
      "...         ..  \n",
      "2019-12-25   1  \n",
      "2019-12-26   1  \n",
      "2019-12-27   1  \n",
      "2019-12-30   0  \n",
      "2019-12-31   0  \n",
      "\n",
      "[1314 rows x 7 columns]\n",
      "\n"
     ]
    }
   ],
   "source": [
    "# \n",
    "print(f'train\\n{df_train}\\n')\n",
    "print(f'test\\n{df_test}\\n')"
   ]
  },
  {
   "cell_type": "code",
   "execution_count": null,
   "id": "e355f025-b5f2-4399-9b20-f071f76e9d17",
   "metadata": {},
   "outputs": [],
   "source": []
  },
  {
   "cell_type": "code",
   "execution_count": 211,
   "id": "2434edb7-8091-4ab0-93d3-241ccf95ce72",
   "metadata": {},
   "outputs": [],
   "source": [
    "# drop = ['Diff','Up','Shift']\n",
    "drop = ['Shift','Up']\n",
    "\n",
    "df_train = df_train.drop(columns=drop,axis=1) \n",
    "df_test = df_test.drop(columns=drop,axis=1) "
   ]
  },
  {
   "cell_type": "code",
   "execution_count": 212,
   "id": "243493b5-064b-47fe-8c30-c5b93688e85b",
   "metadata": {},
   "outputs": [
    {
     "name": "stdout",
     "output_type": "stream",
     "text": [
      "train\n",
      "                  High         Low        Open       Close      Diff\n",
      "Date                                                                \n",
      "2003-01-23  100.416900   99.950797  100.314203  100.235198  0.481900\n",
      "2003-01-24  100.930402  100.172002  100.251001  100.717098  0.750504\n",
      "2003-01-27  101.862602  100.717098  100.796097  101.467602  0.023699\n",
      "2003-01-28  101.688801  101.135803  101.483405  101.491301 -0.150102\n",
      "2003-01-29  101.609796  101.033100  101.483405  101.341199  0.395000\n",
      "...                ...         ...         ...         ...       ...\n",
      "2011-07-07   92.264890   90.571922   92.174042   92.193787 -1.700870\n",
      "2011-07-10   90.644598   88.792047   90.489759   90.492917 -1.418838\n",
      "2011-07-11   89.125431   86.571360   89.072500   89.074079 -1.543662\n",
      "2011-07-12   88.502120   87.532002   87.532002   87.530417  1.202383\n",
      "2011-07-13   89.185468   88.197968   88.693297   88.732800  1.202383\n",
      "\n",
      "[2187 rows x 5 columns]\n",
      "\n",
      "test\n",
      "                 High        Low       Open      Close      Diff\n",
      "Date                                                            \n",
      "2011-07-14  88.730431  87.984671  88.535300  88.551097 -0.284394\n",
      "2011-07-17  88.242998  87.426930  88.242998  88.266703 -0.150102\n",
      "2011-07-18  88.714628  87.808501  88.115022  88.116601  0.473999\n",
      "2011-07-19  88.736748  88.195600  88.604818  88.590600  0.193552\n",
      "2011-07-20  89.372698  88.092902  88.772302  88.784152  0.699146\n",
      "...               ...        ...        ...        ...       ...\n",
      "2019-12-25  96.308939  95.580519  95.771703  95.771703  0.088480\n",
      "2019-12-26  96.193560  95.853860  95.859393  95.860182  0.267018\n",
      "2019-12-27  96.749722  95.988948  96.154847  96.127200  0.566432\n",
      "2019-12-30  96.748932  96.294679  96.696791  96.693633 -0.321534\n",
      "2019-12-31  96.447149  96.150899  96.362617  96.372098 -0.321534\n",
      "\n",
      "[1314 rows x 5 columns]\n",
      "\n"
     ]
    }
   ],
   "source": [
    "# \n",
    "print(f'train\\n{df_train}\\n')\n",
    "print(f'test\\n{df_test}\\n')"
   ]
  },
  {
   "cell_type": "code",
   "execution_count": 213,
   "id": "5c830064-a764-4423-bcf3-a97fd2ae12e3",
   "metadata": {},
   "outputs": [],
   "source": [
    "#学習データ、検証データ、テストデータの作成\n",
    "drop = ['Diff']\n",
    "\n",
    "X=df_train.drop(drop,1)\n",
    "y=df_train[drop]\n",
    "\n",
    "X_test=df_test.drop(drop,1)"
   ]
  },
  {
   "cell_type": "code",
   "execution_count": 214,
   "id": "92897838-1506-4356-a9d9-2c7c34007560",
   "metadata": {},
   "outputs": [
    {
     "name": "stdout",
     "output_type": "stream",
     "text": [
      "X\n",
      "                  High         Low        Open       Close\n",
      "Date                                                      \n",
      "2003-01-23  100.416900   99.950797  100.314203  100.235198\n",
      "2003-01-24  100.930402  100.172002  100.251001  100.717098\n",
      "2003-01-27  101.862602  100.717098  100.796097  101.467602\n",
      "2003-01-28  101.688801  101.135803  101.483405  101.491301\n",
      "2003-01-29  101.609796  101.033100  101.483405  101.341199\n",
      "...                ...         ...         ...         ...\n",
      "2011-07-07   92.264890   90.571922   92.174042   92.193787\n",
      "2011-07-10   90.644598   88.792047   90.489759   90.492917\n",
      "2011-07-11   89.125431   86.571360   89.072500   89.074079\n",
      "2011-07-12   88.502120   87.532002   87.532002   87.530417\n",
      "2011-07-13   89.185468   88.197968   88.693297   88.732800\n",
      "\n",
      "[2187 rows x 4 columns]\n",
      "\n",
      "Y\n",
      "                Diff\n",
      "Date                \n",
      "2003-01-23  0.481900\n",
      "2003-01-24  0.750504\n",
      "2003-01-27  0.023699\n",
      "2003-01-28 -0.150102\n",
      "2003-01-29  0.395000\n",
      "...              ...\n",
      "2011-07-07 -1.700870\n",
      "2011-07-10 -1.418838\n",
      "2011-07-11 -1.543662\n",
      "2011-07-12  1.202383\n",
      "2011-07-13  1.202383\n",
      "\n",
      "[2187 rows x 1 columns]\n",
      "\n",
      "X_test\n",
      "                 High        Low       Open      Close\n",
      "Date                                                  \n",
      "2011-07-14  88.730431  87.984671  88.535300  88.551097\n",
      "2011-07-17  88.242998  87.426930  88.242998  88.266703\n",
      "2011-07-18  88.714628  87.808501  88.115022  88.116601\n",
      "2011-07-19  88.736748  88.195600  88.604818  88.590600\n",
      "2011-07-20  89.372698  88.092902  88.772302  88.784152\n",
      "...               ...        ...        ...        ...\n",
      "2019-12-25  96.308939  95.580519  95.771703  95.771703\n",
      "2019-12-26  96.193560  95.853860  95.859393  95.860182\n",
      "2019-12-27  96.749722  95.988948  96.154847  96.127200\n",
      "2019-12-30  96.748932  96.294679  96.696791  96.693633\n",
      "2019-12-31  96.447149  96.150899  96.362617  96.372098\n",
      "\n",
      "[1314 rows x 4 columns]\n",
      "\n"
     ]
    }
   ],
   "source": [
    "# \n",
    "print(f'X\\n{X}\\n')\n",
    "print(f'Y\\n{y}\\n')\n",
    "print(f'X_test\\n{X_test}\\n')"
   ]
  },
  {
   "cell_type": "code",
   "execution_count": 215,
   "id": "a7ce7b19-d33a-4fff-b749-c454f92a0612",
   "metadata": {},
   "outputs": [
    {
     "data": {
      "text/html": [
       "<div>\n",
       "<style scoped>\n",
       "    .dataframe tbody tr th:only-of-type {\n",
       "        vertical-align: middle;\n",
       "    }\n",
       "\n",
       "    .dataframe tbody tr th {\n",
       "        vertical-align: top;\n",
       "    }\n",
       "\n",
       "    .dataframe thead th {\n",
       "        text-align: right;\n",
       "    }\n",
       "</style>\n",
       "<table border=\"1\" class=\"dataframe\">\n",
       "  <thead>\n",
       "    <tr style=\"text-align: right;\">\n",
       "      <th></th>\n",
       "      <th>High</th>\n",
       "      <th>Low</th>\n",
       "      <th>Open</th>\n",
       "      <th>Close</th>\n",
       "    </tr>\n",
       "    <tr>\n",
       "      <th>Date</th>\n",
       "      <th></th>\n",
       "      <th></th>\n",
       "      <th></th>\n",
       "      <th></th>\n",
       "    </tr>\n",
       "  </thead>\n",
       "  <tbody>\n",
       "    <tr>\n",
       "      <th>2003-01-23</th>\n",
       "      <td>100.416900</td>\n",
       "      <td>99.950797</td>\n",
       "      <td>100.314203</td>\n",
       "      <td>100.235198</td>\n",
       "    </tr>\n",
       "    <tr>\n",
       "      <th>2003-01-24</th>\n",
       "      <td>100.930402</td>\n",
       "      <td>100.172002</td>\n",
       "      <td>100.251001</td>\n",
       "      <td>100.717098</td>\n",
       "    </tr>\n",
       "    <tr>\n",
       "      <th>2003-01-27</th>\n",
       "      <td>101.862602</td>\n",
       "      <td>100.717098</td>\n",
       "      <td>100.796097</td>\n",
       "      <td>101.467602</td>\n",
       "    </tr>\n",
       "    <tr>\n",
       "      <th>2003-01-28</th>\n",
       "      <td>101.688801</td>\n",
       "      <td>101.135803</td>\n",
       "      <td>101.483405</td>\n",
       "      <td>101.491301</td>\n",
       "    </tr>\n",
       "    <tr>\n",
       "      <th>2003-01-29</th>\n",
       "      <td>101.609796</td>\n",
       "      <td>101.033100</td>\n",
       "      <td>101.483405</td>\n",
       "      <td>101.341199</td>\n",
       "    </tr>\n",
       "    <tr>\n",
       "      <th>...</th>\n",
       "      <td>...</td>\n",
       "      <td>...</td>\n",
       "      <td>...</td>\n",
       "      <td>...</td>\n",
       "    </tr>\n",
       "    <tr>\n",
       "      <th>2009-11-02</th>\n",
       "      <td>106.199694</td>\n",
       "      <td>104.276842</td>\n",
       "      <td>104.276842</td>\n",
       "      <td>105.495811</td>\n",
       "    </tr>\n",
       "    <tr>\n",
       "      <th>2009-11-03</th>\n",
       "      <td>105.814181</td>\n",
       "      <td>104.066697</td>\n",
       "      <td>105.489495</td>\n",
       "      <td>105.180600</td>\n",
       "    </tr>\n",
       "    <tr>\n",
       "      <th>2009-11-04</th>\n",
       "      <td>107.202998</td>\n",
       "      <td>104.698699</td>\n",
       "      <td>105.164796</td>\n",
       "      <td>106.522814</td>\n",
       "    </tr>\n",
       "    <tr>\n",
       "      <th>2009-11-05</th>\n",
       "      <td>106.720314</td>\n",
       "      <td>105.412069</td>\n",
       "      <td>106.428801</td>\n",
       "      <td>106.689502</td>\n",
       "    </tr>\n",
       "    <tr>\n",
       "      <th>2009-11-06</th>\n",
       "      <td>106.657896</td>\n",
       "      <td>105.235905</td>\n",
       "      <td>106.657896</td>\n",
       "      <td>105.385995</td>\n",
       "    </tr>\n",
       "  </tbody>\n",
       "</table>\n",
       "<p>1749 rows × 4 columns</p>\n",
       "</div>"
      ],
      "text/plain": [
       "                  High         Low        Open       Close\n",
       "Date                                                      \n",
       "2003-01-23  100.416900   99.950797  100.314203  100.235198\n",
       "2003-01-24  100.930402  100.172002  100.251001  100.717098\n",
       "2003-01-27  101.862602  100.717098  100.796097  101.467602\n",
       "2003-01-28  101.688801  101.135803  101.483405  101.491301\n",
       "2003-01-29  101.609796  101.033100  101.483405  101.341199\n",
       "...                ...         ...         ...         ...\n",
       "2009-11-02  106.199694  104.276842  104.276842  105.495811\n",
       "2009-11-03  105.814181  104.066697  105.489495  105.180600\n",
       "2009-11-04  107.202998  104.698699  105.164796  106.522814\n",
       "2009-11-05  106.720314  105.412069  106.428801  106.689502\n",
       "2009-11-06  106.657896  105.235905  106.657896  105.385995\n",
       "\n",
       "[1749 rows x 4 columns]"
      ]
     },
     "execution_count": 215,
     "metadata": {},
     "output_type": "execute_result"
    }
   ],
   "source": [
    "# 学習データと検証データに80:20の割合で2分割する\n",
    "from sklearn.model_selection import train_test_split\n",
    "X_train,X_val,y_train,y_val=train_test_split(X, y, test_size=0.20, shuffle=False)\n",
    "X_train"
   ]
  },
  {
   "cell_type": "code",
   "execution_count": 216,
   "id": "1e9f51a6-9b26-49d2-bcc0-a6e1219d1ef1",
   "metadata": {},
   "outputs": [
    {
     "data": {
      "text/html": [
       "<div>\n",
       "<style scoped>\n",
       "    .dataframe tbody tr th:only-of-type {\n",
       "        vertical-align: middle;\n",
       "    }\n",
       "\n",
       "    .dataframe tbody tr th {\n",
       "        vertical-align: top;\n",
       "    }\n",
       "\n",
       "    .dataframe thead th {\n",
       "        text-align: right;\n",
       "    }\n",
       "</style>\n",
       "<table border=\"1\" class=\"dataframe\">\n",
       "  <thead>\n",
       "    <tr style=\"text-align: right;\">\n",
       "      <th></th>\n",
       "      <th>Diff</th>\n",
       "    </tr>\n",
       "    <tr>\n",
       "      <th>Date</th>\n",
       "      <th></th>\n",
       "    </tr>\n",
       "  </thead>\n",
       "  <tbody>\n",
       "    <tr>\n",
       "      <th>2003-01-23</th>\n",
       "      <td>0.481900</td>\n",
       "    </tr>\n",
       "    <tr>\n",
       "      <th>2003-01-24</th>\n",
       "      <td>0.750504</td>\n",
       "    </tr>\n",
       "    <tr>\n",
       "      <th>2003-01-27</th>\n",
       "      <td>0.023699</td>\n",
       "    </tr>\n",
       "    <tr>\n",
       "      <th>2003-01-28</th>\n",
       "      <td>-0.150102</td>\n",
       "    </tr>\n",
       "    <tr>\n",
       "      <th>2003-01-29</th>\n",
       "      <td>0.395000</td>\n",
       "    </tr>\n",
       "    <tr>\n",
       "      <th>...</th>\n",
       "      <td>...</td>\n",
       "    </tr>\n",
       "    <tr>\n",
       "      <th>2009-11-02</th>\n",
       "      <td>-0.315212</td>\n",
       "    </tr>\n",
       "    <tr>\n",
       "      <th>2009-11-03</th>\n",
       "      <td>1.342214</td>\n",
       "    </tr>\n",
       "    <tr>\n",
       "      <th>2009-11-04</th>\n",
       "      <td>0.166689</td>\n",
       "    </tr>\n",
       "    <tr>\n",
       "      <th>2009-11-05</th>\n",
       "      <td>-1.303507</td>\n",
       "    </tr>\n",
       "    <tr>\n",
       "      <th>2009-11-06</th>\n",
       "      <td>1.109949</td>\n",
       "    </tr>\n",
       "  </tbody>\n",
       "</table>\n",
       "<p>1749 rows × 1 columns</p>\n",
       "</div>"
      ],
      "text/plain": [
       "                Diff\n",
       "Date                \n",
       "2003-01-23  0.481900\n",
       "2003-01-24  0.750504\n",
       "2003-01-27  0.023699\n",
       "2003-01-28 -0.150102\n",
       "2003-01-29  0.395000\n",
       "...              ...\n",
       "2009-11-02 -0.315212\n",
       "2009-11-03  1.342214\n",
       "2009-11-04  0.166689\n",
       "2009-11-05 -1.303507\n",
       "2009-11-06  1.109949\n",
       "\n",
       "[1749 rows x 1 columns]"
      ]
     },
     "execution_count": 216,
     "metadata": {},
     "output_type": "execute_result"
    }
   ],
   "source": [
    "y_train"
   ]
  },
  {
   "cell_type": "code",
   "execution_count": 217,
   "id": "e4aa4a6c-6db7-486d-9202-ab0c87f4b579",
   "metadata": {},
   "outputs": [
    {
     "name": "stdout",
     "output_type": "stream",
     "text": [
      "[LightGBM] [Warning] Auto-choosing col-wise multi-threading, the overhead of testing was 0.000468 seconds.\n",
      "You can set `force_col_wise=true` to remove the overhead.\n",
      "[LightGBM] [Info] Total Bins 1020\n",
      "[LightGBM] [Info] Number of data points in the train set: 1749, number of used features: 4\n",
      "[LightGBM] [Info] Start training from score 0.003580\n",
      "Training until validation scores don't improve for 20 rounds\n",
      "[10]\ttraining's rmse: 0.892701\tvalid_1's rmse: 0.86919\n",
      "[20]\ttraining's rmse: 0.892692\tvalid_1's rmse: 0.86919\n",
      "[30]\ttraining's rmse: 0.892683\tvalid_1's rmse: 0.86919\n",
      "[40]\ttraining's rmse: 0.892674\tvalid_1's rmse: 0.869189\n",
      "[50]\ttraining's rmse: 0.892665\tvalid_1's rmse: 0.869189\n",
      "[60]\ttraining's rmse: 0.892655\tvalid_1's rmse: 0.869189\n",
      "[70]\ttraining's rmse: 0.892646\tvalid_1's rmse: 0.869189\n",
      "[80]\ttraining's rmse: 0.892637\tvalid_1's rmse: 0.869189\n",
      "[90]\ttraining's rmse: 0.892628\tvalid_1's rmse: 0.869189\n",
      "[100]\ttraining's rmse: 0.892619\tvalid_1's rmse: 0.869189\n",
      "[110]\ttraining's rmse: 0.89261\tvalid_1's rmse: 0.869189\n",
      "[120]\ttraining's rmse: 0.892601\tvalid_1's rmse: 0.869189\n",
      "[130]\ttraining's rmse: 0.892592\tvalid_1's rmse: 0.869189\n",
      "[140]\ttraining's rmse: 0.892583\tvalid_1's rmse: 0.869189\n",
      "[150]\ttraining's rmse: 0.892574\tvalid_1's rmse: 0.869189\n",
      "[160]\ttraining's rmse: 0.892565\tvalid_1's rmse: 0.869189\n",
      "[170]\ttraining's rmse: 0.892556\tvalid_1's rmse: 0.869189\n",
      "Early stopping, best iteration is:\n",
      "[152]\ttraining's rmse: 0.892572\tvalid_1's rmse: 0.869189\n",
      "RMSE= 0.8691888632204137\n",
      "{'objective': 'regression', 'metrics': 'rmse', 'boosting_type': 'gbdt', 'num_leaves': 31, 'learning_rate': 1e-05, 'min_data_in_leaf': 20, 'num_iterations': 200, 'early_stopping_round': 20}\n"
     ]
    },
    {
     "data": {
      "image/png": "[encoded data removed]",
      "text/plain": [
       "<Figure size 576x1152 with 1 Axes>"
      ]
     },
     "metadata": {
      "needs_background": "light"
     },
     "output_type": "display_data"
    }
   ],
   "source": [
    "#lightGBM\n",
    "import lightgbm as lgb\n",
    "from sklearn.metrics import mean_squared_error\n",
    "lgb_train = lgb.Dataset(X_train, y_train)\n",
    "lgb_eval = lgb.Dataset(X_val, y_val, reference=lgb_train)\n",
    "params={\"objective\":\"regression\",\"metrics\":\"rmse\",\"boosting_type\": \"gbdt\",\"num_leaves\": 31,\"learning_rate\":0.00001,\"min_data_in_leaf\":20}\n",
    "model=lgb.train(params,lgb_train,valid_sets=[lgb_train,lgb_eval],num_boost_round=200,early_stopping_rounds=20,verbose_eval=10)\n",
    "y_pred = model.predict(X_val, num_iteration=model.best_iteration)\n",
    "print(\"RMSE=\",np.sqrt(mean_squared_error(y_val,y_pred)))\n",
    "lgb.plot_importance(model, importance_type=\"gain\", height=0.5, figsize=(8,16))\n",
    "print(model.params)"
   ]
  },
  {
   "cell_type": "code",
   "execution_count": 218,
   "id": "965f79a1-5a1e-4301-aa18-879cd187f740",
   "metadata": {},
   "outputs": [],
   "source": [
    "#submitデータ作成\n",
    "#lightGBM\n",
    "y_pred2 = model.predict(X_test, num_iteration=model.best_iteration)"
   ]
  },
  {
   "cell_type": "code",
   "execution_count": 219,
   "id": "ab8cfce6-3062-4baa-a453-2112f1361d45",
   "metadata": {},
   "outputs": [
    {
     "name": "stdout",
     "output_type": "stream",
     "text": [
      "y_pred2 は ndarray型\n",
      "y_pred2 の行数, 列数・・・(1314,)\n",
      "\n"
     ]
    }
   ],
   "source": [
    "typeInfo(y_pred2)"
   ]
  },
  {
   "cell_type": "code",
   "execution_count": 220,
   "id": "d410a99f-3b70-4aac-ac0b-e7ba709c235f",
   "metadata": {},
   "outputs": [
    {
     "data": {
      "text/plain": [
       "array([0.0049052 , 0.0049052 , 0.0049052 , ..., 0.00346502, 0.00346502,\n",
       "       0.00346502])"
      ]
     },
     "execution_count": 220,
     "metadata": {},
     "output_type": "execute_result"
    }
   ],
   "source": [
    "y_pred2"
   ]
  },
  {
   "cell_type": "code",
   "execution_count": 221,
   "id": "98b1e7ea-a673-40a2-9003-73cea4111f64",
   "metadata": {},
   "outputs": [],
   "source": [
    "test_out=df_test['Close']"
   ]
  },
  {
   "cell_type": "code",
   "execution_count": 222,
   "id": "038b5d56-bc19-4747-8249-ae91f279f13a",
   "metadata": {},
   "outputs": [],
   "source": [
    "test_out = [np.array(test_out_data) for test_out_data in test_out]\n",
    "test_out = np.array(test_out)"
   ]
  },
  {
   "cell_type": "code",
   "execution_count": 223,
   "id": "d8210ba8-9a60-4752-9946-4b9fafa863aa",
   "metadata": {},
   "outputs": [
    {
     "data": {
      "text/plain": [
       "array([88.55109711, 88.26670265, 88.11660072, ..., 96.12720024,\n",
       "       96.69363251, 96.37209831])"
      ]
     },
     "execution_count": 223,
     "metadata": {},
     "output_type": "execute_result"
    }
   ],
   "source": [
    "test_out"
   ]
  },
  {
   "cell_type": "code",
   "execution_count": 224,
   "id": "60daa2f5-550a-415a-86e6-cbdb8ef9bd5a",
   "metadata": {},
   "outputs": [],
   "source": [
    "y_pred2_close = y_pred2+test_out"
   ]
  },
  {
   "cell_type": "code",
   "execution_count": 225,
   "id": "b06fbb5d-0ee8-4e85-be04-f75d7d36cc93",
   "metadata": {},
   "outputs": [
    {
     "data": {
      "text/plain": [
       "array([88.55600231, 88.27160786, 88.12150593, ..., 96.13066527,\n",
       "       96.69709753, 96.37556334])"
      ]
     },
     "execution_count": 225,
     "metadata": {},
     "output_type": "execute_result"
    }
   ],
   "source": [
    "y_pred2_close"
   ]
  },
  {
   "cell_type": "code",
   "execution_count": null,
   "id": "4aa4bc0a-4e25-48df-8925-57e146778922",
   "metadata": {},
   "outputs": [],
   "source": []
  },
  {
   "cell_type": "code",
   "execution_count": 226,
   "id": "9a7ab3d0-1d77-49dd-973a-fa144f43a285",
   "metadata": {},
   "outputs": [
    {
     "data": {
      "text/plain": [
       "array([ 89.48820255,  88.07489742,  86.69476612,  86.59680569,\n",
       "        84.05616299,  82.37030689,  83.428904  ,  85.03260303,\n",
       "        83.49210544,  81.27220737,  81.8963081 ,  80.61650593,\n",
       "        77.98343578,  78.92511684,  79.04440761,  81.74936443,\n",
       "        85.34860424,  86.25473675,  86.53834766,  84.33108265,\n",
       "        84.46775593,  81.61190761,  78.89904308,  79.12340641,\n",
       "        79.31221516,  78.16197414,  76.36867679,  75.25793819,\n",
       "        77.36960544,  77.60660786,  79.70010303,  79.1755479 ,\n",
       "        80.09826732,  82.00690761,  80.01294597,  83.76623554,\n",
       "        84.40692318,  88.27950352,  90.27030689,  94.88641768,\n",
       "        98.61454051,  98.05905676,  95.53263228,  98.65167422,\n",
       "        95.35804777, 103.21305203, 102.06180921, 103.75975579,\n",
       "       104.54500633, 101.8200694 , 101.56490094, 102.20006162,\n",
       "       104.11445778, 103.76291405, 102.37148786, 102.79119473,\n",
       "       104.61735467, 105.38445123, 104.93256631, 106.19316614,\n",
       "       103.99200875, 107.8273983 , 109.86086236, 112.48840554,\n",
       "       113.17649727, 112.18266869, 110.06309975, 110.41385994,\n",
       "       110.56396187, 111.47404824, 110.89102303, 111.22755898,\n",
       "       111.78925988, 111.10590554, 109.77002007, 110.54026284,\n",
       "       109.59146965, 109.86877007, 108.10311959, 108.70193612,\n",
       "       108.19396187, 108.00673226, 109.34341332, 109.45165017,\n",
       "       108.08652062, 108.08967888, 112.63377007, 117.17010875,\n",
       "       117.23173106, 115.47081798, 114.4976186 , 106.76090554,\n",
       "       105.8951644 , 107.1322065 , 105.65026633, 101.82638593,\n",
       "       102.48762037, 101.57957076, 102.15818448, 106.34536477,\n",
       "       106.24292688, 110.13103859, 110.49049004, 107.76499245,\n",
       "       106.74510216, 107.23174004, 109.63018853, 107.51219872,\n",
       "       107.52641091, 106.18052103, 106.90863274, 105.80036826,\n",
       "       104.6236712 , 104.14132714, 105.77193183, 104.88787087,\n",
       "       103.18777387, 101.3836499 , 102.73488111, 100.57469428,\n",
       "        98.49197401,  99.65513313,  99.5271511 ,  97.40019705,\n",
       "        97.60932279,  96.63863348,  97.25246382,  95.89919584,\n",
       "        93.14590641,  90.42909405,  92.30060665,  91.7167979 ,\n",
       "        89.58853771,  89.67069477,  91.07610424,  89.29149814,\n",
       "        91.33285786,  89.8918938 ,  90.36826732,  92.5091666 ,\n",
       "        95.94501478,  97.30223662,  97.115007  ,  96.1543643 ,\n",
       "        96.59202498,  95.51130797,  94.21965628,  96.22230314,\n",
       "        94.56567305,  93.2517625 ,  92.5881654 ,  97.63245604,\n",
       "        97.80546743,  98.71961306,  97.70276358, 101.22565231,\n",
       "       101.89116651, 102.55398008, 102.02388593, 103.24070493,\n",
       "       102.75090878, 105.9449372 , 104.40722161, 105.89596   ,\n",
       "       104.75007409, 104.36488884, 105.47371438, 104.79826775,\n",
       "       107.00106621, 107.17249245, 106.54049004, 105.64119881,\n",
       "       104.17370537, 103.58515923, 103.8261155 , 103.91459511,\n",
       "       104.89939248, 102.70644468, 103.36947049, 101.64593047,\n",
       "       101.19326202, 101.96700101, 103.94934807, 102.65825101,\n",
       "        99.6733052 , 102.58083738, 101.80031217, 104.71847939,\n",
       "       102.69381162, 102.12737333, 102.05548063, 101.75528882,\n",
       "       101.88721265, 101.16560912,  99.52794669,  98.11119223,\n",
       "        98.63587085,  98.3751694 ,  99.70648506,  99.0371934 ,\n",
       "        98.3751694 ,  99.10986964,  99.55385287,  98.05036551,\n",
       "        97.11026358,  95.97424681,  96.25153517,  96.62915266,\n",
       "        95.99162329,  95.831257  ,  93.35920376,  92.94287342,\n",
       "        93.6832456 ,  95.67088469,  95.55238348,  95.04046743,\n",
       "        95.39912329,  96.41190748,  96.37556334])"
      ]
     },
     "execution_count": 226,
     "metadata": {},
     "output_type": "execute_result"
    }
   ],
   "source": [
    "y_pred_6=y_pred2_close[5::6]\n",
    "y_pred_6"
   ]
  },
  {
   "cell_type": "code",
   "execution_count": 227,
   "id": "a9862561-1207-441e-8395-251ae5a07fe6",
   "metadata": {},
   "outputs": [
    {
     "data": {
      "text/plain": [
       "219"
      ]
     },
     "execution_count": 227,
     "metadata": {},
     "output_type": "execute_result"
    }
   ],
   "source": [
    "len(y_pred_6)"
   ]
  },
  {
   "cell_type": "code",
   "execution_count": 228,
   "id": "504a40e5-1561-436c-994e-3c998b39b120",
   "metadata": {},
   "outputs": [
    {
     "data": {
      "text/plain": [
       "0      89.488203\n",
       "1      88.074897\n",
       "2      86.694766\n",
       "3      86.596806\n",
       "4      84.056163\n",
       "         ...    \n",
       "214    95.552383\n",
       "215    95.040467\n",
       "216    95.399123\n",
       "217    96.411907\n",
       "218    96.375563\n",
       "Length: 219, dtype: float64"
      ]
     },
     "execution_count": 228,
     "metadata": {},
     "output_type": "execute_result"
    }
   ],
   "source": [
    "Df_Pred_Array = pd.Series(y_pred_6)\n",
    "Df_Pred_Array"
   ]
  },
  {
   "cell_type": "code",
   "execution_count": null,
   "id": "e574ea7e-15b7-4df2-8f66-48d9827a7283",
   "metadata": {},
   "outputs": [],
   "source": []
  },
  {
   "cell_type": "code",
   "execution_count": 229,
   "id": "23f08733-525a-44b9-84c5-64a1ed83470f",
   "metadata": {},
   "outputs": [
    {
     "data": {
      "text/html": [
       "<div>\n",
       "<style scoped>\n",
       "    .dataframe tbody tr th:only-of-type {\n",
       "        vertical-align: middle;\n",
       "    }\n",
       "\n",
       "    .dataframe tbody tr th {\n",
       "        vertical-align: top;\n",
       "    }\n",
       "\n",
       "    .dataframe thead th {\n",
       "        text-align: right;\n",
       "    }\n",
       "</style>\n",
       "<table border=\"1\" class=\"dataframe\">\n",
       "  <thead>\n",
       "    <tr style=\"text-align: right;\">\n",
       "      <th></th>\n",
       "      <th>Date</th>\n",
       "      <th>1</th>\n",
       "    </tr>\n",
       "  </thead>\n",
       "  <tbody>\n",
       "    <tr>\n",
       "      <th>0</th>\n",
       "      <td>2011-07-24</td>\n",
       "      <td>89.488203</td>\n",
       "    </tr>\n",
       "    <tr>\n",
       "      <th>1</th>\n",
       "      <td>2011-08-07</td>\n",
       "      <td>88.074897</td>\n",
       "    </tr>\n",
       "    <tr>\n",
       "      <th>2</th>\n",
       "      <td>2011-08-21</td>\n",
       "      <td>86.694766</td>\n",
       "    </tr>\n",
       "    <tr>\n",
       "      <th>3</th>\n",
       "      <td>2011-09-04</td>\n",
       "      <td>86.596806</td>\n",
       "    </tr>\n",
       "    <tr>\n",
       "      <th>4</th>\n",
       "      <td>2011-09-18</td>\n",
       "      <td>84.056163</td>\n",
       "    </tr>\n",
       "    <tr>\n",
       "      <th>...</th>\n",
       "      <td>...</td>\n",
       "      <td>...</td>\n",
       "    </tr>\n",
       "    <tr>\n",
       "      <th>214</th>\n",
       "      <td>2019-11-06</td>\n",
       "      <td>95.552383</td>\n",
       "    </tr>\n",
       "    <tr>\n",
       "      <th>215</th>\n",
       "      <td>2019-11-20</td>\n",
       "      <td>95.040467</td>\n",
       "    </tr>\n",
       "    <tr>\n",
       "      <th>216</th>\n",
       "      <td>2019-12-04</td>\n",
       "      <td>95.399123</td>\n",
       "    </tr>\n",
       "    <tr>\n",
       "      <th>217</th>\n",
       "      <td>2019-12-18</td>\n",
       "      <td>96.411907</td>\n",
       "    </tr>\n",
       "    <tr>\n",
       "      <th>218</th>\n",
       "      <td>2020-01-01</td>\n",
       "      <td>96.375563</td>\n",
       "    </tr>\n",
       "  </tbody>\n",
       "</table>\n",
       "<p>219 rows × 2 columns</p>\n",
       "</div>"
      ],
      "text/plain": [
       "           Date          1\n",
       "0    2011-07-24  89.488203\n",
       "1    2011-08-07  88.074897\n",
       "2    2011-08-21  86.694766\n",
       "3    2011-09-04  86.596806\n",
       "4    2011-09-18  84.056163\n",
       "..          ...        ...\n",
       "214  2019-11-06  95.552383\n",
       "215  2019-11-20  95.040467\n",
       "216  2019-12-04  95.399123\n",
       "217  2019-12-18  96.411907\n",
       "218  2020-01-01  96.375563\n",
       "\n",
       "[219 rows x 2 columns]"
      ]
     },
     "execution_count": 229,
     "metadata": {},
     "output_type": "execute_result"
    }
   ],
   "source": [
    "df_submit[1]=Df_Pred_Array\n",
    "df_submit"
   ]
  },
  {
   "cell_type": "code",
   "execution_count": 230,
   "id": "a21d52b7-2d60-46df-a011-a0c0b62868e8",
   "metadata": {},
   "outputs": [],
   "source": [
    "# 線形補間\n",
    "df_submit=df_submit.interpolate()"
   ]
  },
  {
   "cell_type": "code",
   "execution_count": 231,
   "id": "b21861a4-6dc4-4c1f-8296-56d4981d28a1",
   "metadata": {},
   "outputs": [],
   "source": [
    "df_submit = df_submit.set_index(\"Date\") #indexにDateを指定する。"
   ]
  },
  {
   "cell_type": "code",
   "execution_count": 232,
   "id": "5713e54e-b989-4b35-96f5-5afd7a464b09",
   "metadata": {},
   "outputs": [
    {
     "data": {
      "text/html": [
       "<div>\n",
       "<style scoped>\n",
       "    .dataframe tbody tr th:only-of-type {\n",
       "        vertical-align: middle;\n",
       "    }\n",
       "\n",
       "    .dataframe tbody tr th {\n",
       "        vertical-align: top;\n",
       "    }\n",
       "\n",
       "    .dataframe thead th {\n",
       "        text-align: right;\n",
       "    }\n",
       "</style>\n",
       "<table border=\"1\" class=\"dataframe\">\n",
       "  <thead>\n",
       "    <tr style=\"text-align: right;\">\n",
       "      <th></th>\n",
       "      <th>y</th>\n",
       "    </tr>\n",
       "    <tr>\n",
       "      <th>Date</th>\n",
       "      <th></th>\n",
       "    </tr>\n",
       "  </thead>\n",
       "  <tbody>\n",
       "    <tr>\n",
       "      <th>2011-07-24</th>\n",
       "      <td>89.488203</td>\n",
       "    </tr>\n",
       "    <tr>\n",
       "      <th>2011-08-07</th>\n",
       "      <td>88.074897</td>\n",
       "    </tr>\n",
       "    <tr>\n",
       "      <th>2011-08-21</th>\n",
       "      <td>86.694766</td>\n",
       "    </tr>\n",
       "    <tr>\n",
       "      <th>2011-09-04</th>\n",
       "      <td>86.596806</td>\n",
       "    </tr>\n",
       "    <tr>\n",
       "      <th>2011-09-18</th>\n",
       "      <td>84.056163</td>\n",
       "    </tr>\n",
       "    <tr>\n",
       "      <th>...</th>\n",
       "      <td>...</td>\n",
       "    </tr>\n",
       "    <tr>\n",
       "      <th>2019-11-06</th>\n",
       "      <td>95.552383</td>\n",
       "    </tr>\n",
       "    <tr>\n",
       "      <th>2019-11-20</th>\n",
       "      <td>95.040467</td>\n",
       "    </tr>\n",
       "    <tr>\n",
       "      <th>2019-12-04</th>\n",
       "      <td>95.399123</td>\n",
       "    </tr>\n",
       "    <tr>\n",
       "      <th>2019-12-18</th>\n",
       "      <td>96.411907</td>\n",
       "    </tr>\n",
       "    <tr>\n",
       "      <th>2020-01-01</th>\n",
       "      <td>96.375563</td>\n",
       "    </tr>\n",
       "  </tbody>\n",
       "</table>\n",
       "<p>219 rows × 1 columns</p>\n",
       "</div>"
      ],
      "text/plain": [
       "                    y\n",
       "Date                 \n",
       "2011-07-24  89.488203\n",
       "2011-08-07  88.074897\n",
       "2011-08-21  86.694766\n",
       "2011-09-04  86.596806\n",
       "2011-09-18  84.056163\n",
       "...               ...\n",
       "2019-11-06  95.552383\n",
       "2019-11-20  95.040467\n",
       "2019-12-04  95.399123\n",
       "2019-12-18  96.411907\n",
       "2020-01-01  96.375563\n",
       "\n",
       "[219 rows x 1 columns]"
      ]
     },
     "execution_count": 232,
     "metadata": {},
     "output_type": "execute_result"
    }
   ],
   "source": [
    "# 指定の様式（インデックスはDate、カラム名は「y」のみ）をお守りください。\n",
    "df_submit = df_submit.rename(columns={1: 'y'}) #カラム名「1」を「y」に変更する。\n",
    "df_submit.to_csv('y_submit.csv') #投稿するファイルを書き出す。\n",
    "df_submit #投稿する中身を確認する。"
   ]
  },
  {
   "cell_type": "code",
   "execution_count": null,
   "id": "346797e8-8009-467d-bb8d-ccd39a189f77",
   "metadata": {},
   "outputs": [],
   "source": []
  },
  {
   "cell_type": "code",
   "execution_count": null,
   "id": "0f8ee32c-d43c-4d0f-815c-a3f2a5a5f5c6",
   "metadata": {},
   "outputs": [],
   "source": []
  },
  {
   "cell_type": "code",
   "execution_count": null,
   "id": "0075a52e-5acf-49fb-a6ef-308526f0759f",
   "metadata": {},
   "outputs": [],
   "source": []
  },
  {
   "cell_type": "code",
   "execution_count": null,
   "id": "777c0ebd-c4dd-414d-9d5e-ebb7d4c3549f",
   "metadata": {},
   "outputs": [],
   "source": []
  },
  {
   "cell_type": "code",
   "execution_count": null,
   "id": "e3282bd6-08fd-48e1-9f42-45076d35711a",
   "metadata": {},
   "outputs": [],
   "source": []
  },
  {
   "cell_type": "code",
   "execution_count": 60,
   "id": "e16f1b85-8d17-485a-a195-2c0cc5bfb446",
   "metadata": {},
   "outputs": [],
   "source": []
  },
  {
   "cell_type": "code",
   "execution_count": null,
   "id": "68da4480-fa5d-457f-a0dc-f34011533dd3",
   "metadata": {},
   "outputs": [],
   "source": []
  },
  {
   "cell_type": "code",
   "execution_count": null,
   "id": "393aaa33-527f-4fac-ac25-e346e99f7564",
   "metadata": {},
   "outputs": [],
   "source": []
  },
  {
   "cell_type": "code",
   "execution_count": null,
   "id": "371be3d0-ec00-4ae0-b7cd-56744d7f161f",
   "metadata": {},
   "outputs": [],
   "source": []
  }
 ],
 "metadata": {
  "kernelspec": {
   "display_name": "Python 3",
   "language": "python",
   "name": "python3"
  },
  "language_info": {
   "codemirror_mode": {
    "name": "ipython",
    "version": 3
   },
   "file_extension": ".py",
   "mimetype": "text/x-python",
   "name": "python",
   "nbconvert_exporter": "python",
   "pygments_lexer": "ipython3",
   "version": "3.8.8"
  }
 },
 "nbformat": 4,
 "nbformat_minor": 5
}
