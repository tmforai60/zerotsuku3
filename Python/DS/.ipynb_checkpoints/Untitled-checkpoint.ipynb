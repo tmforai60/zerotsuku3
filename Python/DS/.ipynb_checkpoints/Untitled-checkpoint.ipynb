{
 "cells": [
  {
   "cell_type": "code",
   "execution_count": 1,
   "id": "27c3e784-311a-4997-8f3c-4571d331e2d0",
   "metadata": {},
   "outputs": [
    {
     "name": "stdout",
     "output_type": "stream",
     "text": [
      "['/Users/naokimaruoka/Dropbox/00.Self-Dev/Programming/GitHub/Python',\n",
      " '/Users/naokimaruoka/opt/anaconda3/lib/python38.zip',\n",
      " '/Users/naokimaruoka/opt/anaconda3/lib/python3.8',\n",
      " '/Users/naokimaruoka/opt/anaconda3/lib/python3.8/lib-dynload',\n",
      " '',\n",
      " '/Users/naokimaruoka/opt/anaconda3/lib/python3.8/site-packages',\n",
      " '/Users/naokimaruoka/opt/anaconda3/lib/python3.8/site-packages/aeosa',\n",
      " '/Users/naokimaruoka/opt/anaconda3/lib/python3.8/site-packages/locket-0.2.1-py3.8.egg',\n",
      " '/Users/naokimaruoka/opt/anaconda3/lib/python3.8/site-packages/IPython/extensions',\n",
      " '/Users/naokimaruoka/.ipython']\n"
     ]
    }
   ],
   "source": [
    "import sys\n",
    "import pprint\n",
    "pprint.pprint(sys.path)"
   ]
  },
  {
   "cell_type": "code",
   "execution_count": 2,
   "id": "902b86db-3e7d-4736-8e85-1ecce3693a56",
   "metadata": {},
   "outputs": [
    {
     "name": "stdout",
     "output_type": "stream",
     "text": [
      "Name: pandas\n",
      "Version: 1.2.4\n",
      "Summary: Powerful data structures for data analysis, time series, and statistics\n",
      "Home-page: https://pandas.pydata.org\n",
      "Author: None\n",
      "Author-email: None\n",
      "License: BSD\n",
      "Location: /Users/naokimaruoka/opt/anaconda3/lib/python3.8/site-packages\n",
      "Requires: python-dateutil, pytz, numpy\n",
      "Required-by: statsmodels, seaborn\n",
      "Note: you may need to restart the kernel to use updated packages.\n"
     ]
    }
   ],
   "source": [
    "pip show pandas"
   ]
  },
  {
   "cell_type": "code",
   "execution_count": null,
   "id": "07b9db2a-93c6-4e91-9fb5-bc3d490ebeaa",
   "metadata": {},
   "outputs": [],
   "source": []
  }
 ],
 "metadata": {
  "kernelspec": {
   "display_name": "Python 3",
   "language": "python",
   "name": "python3"
  },
  "language_info": {
   "codemirror_mode": {
    "name": "ipython",
    "version": 3
   },
   "file_extension": ".py",
   "mimetype": "text/x-python",
   "name": "python",
   "nbconvert_exporter": "python",
   "pygments_lexer": "ipython3",
   "version": "3.8.8"
  }
 },
 "nbformat": 4,
 "nbformat_minor": 5
}
