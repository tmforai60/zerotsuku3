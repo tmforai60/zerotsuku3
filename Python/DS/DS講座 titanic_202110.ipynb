{
 "cells": [
  {
   "cell_type": "code",
   "execution_count": 5,
   "metadata": {
    "id": "-8tEhhjoO5vC"
   },
   "outputs": [
    {
     "name": "stdout",
     "output_type": "stream",
     "text": [
      "/Users/naokimaruoka/Dropbox/00.Self-Dev/Programming/GitHub/Python\n"
     ]
    }
   ],
   "source": [
    "import pandas as pd\n",
    "import numpy as np\n",
    "import matplotlib.pyplot as plt\n",
    "%matplotlib inline\n",
    "# import seaborn as sns\n",
    "# sns.set(font=\"IPAexGothic\",style=\"white\")\n",
    "\n",
    "import os\n",
    "working_directory=os.getcwd()\n",
    "print(working_directory)"
   ]
  },
  {
   "cell_type": "code",
   "execution_count": 23,
   "metadata": {},
   "outputs": [],
   "source": [
    "path_train=working_directory+'/train.csv'\n",
    "path_test=working_directory+'/test.csv'\n",
    "path_submit=working_directory+'/submit.csv'\n",
    "train=pd.read_csv(path_train)\n",
    "test=pd.read_csv(path_test)\n",
    "submit=pd.read_csv(path_submit)"
   ]
  },
  {
   "cell_type": "code",
   "execution_count": 24,
   "metadata": {},
   "outputs": [],
   "source": [
    "#インポートとデータ取得\n",
    "import matplotlib.pyplot as plt\n",
    "%matplotlib inline\n",
    "# import seaborn as sns\n",
    "import pandas as pd\n",
    "import numpy as np\n",
    "# sns.set(font=\"IPAexGothic\",style=\"white\")\n",
    "# sns.set(font=\"Meirio\",style=\"white\")\n",
    "\n",
    "# train=pd.read_csv(\"/content/drive/MyDrive/data/titanic_train.csv\")\n",
    "# test=pd.read_csv(\"/content/drive/MyDrive/data/titanic_test.csv\")"
   ]
  },
  {
   "cell_type": "code",
   "execution_count": 25,
   "metadata": {
    "colab": {
     "base_uri": "https://localhost:8080/",
     "height": 203
    },
    "id": "3MGBeO3_QEzd",
    "outputId": "80a2521f-e641-443d-96a1-34de4e110c4a"
   },
   "outputs": [
    {
     "data": {
      "text/html": [
       "<div>\n",
       "<style scoped>\n",
       "    .dataframe tbody tr th:only-of-type {\n",
       "        vertical-align: middle;\n",
       "    }\n",
       "\n",
       "    .dataframe tbody tr th {\n",
       "        vertical-align: top;\n",
       "    }\n",
       "\n",
       "    .dataframe thead th {\n",
       "        text-align: right;\n",
       "    }\n",
       "</style>\n",
       "<table border=\"1\" class=\"dataframe\">\n",
       "  <thead>\n",
       "    <tr style=\"text-align: right;\">\n",
       "      <th></th>\n",
       "      <th>ID</th>\n",
       "      <th>survived</th>\n",
       "      <th>pclass</th>\n",
       "      <th>sex</th>\n",
       "      <th>age</th>\n",
       "      <th>sibsp</th>\n",
       "      <th>parch</th>\n",
       "      <th>fare</th>\n",
       "      <th>embarked</th>\n",
       "    </tr>\n",
       "  </thead>\n",
       "  <tbody>\n",
       "    <tr>\n",
       "      <th>0</th>\n",
       "      <td>1</td>\n",
       "      <td>0</td>\n",
       "      <td>3</td>\n",
       "      <td>male</td>\n",
       "      <td>22.0</td>\n",
       "      <td>1</td>\n",
       "      <td>0</td>\n",
       "      <td>7.2500</td>\n",
       "      <td>S</td>\n",
       "    </tr>\n",
       "    <tr>\n",
       "      <th>1</th>\n",
       "      <td>3</td>\n",
       "      <td>1</td>\n",
       "      <td>3</td>\n",
       "      <td>female</td>\n",
       "      <td>26.0</td>\n",
       "      <td>0</td>\n",
       "      <td>0</td>\n",
       "      <td>7.9250</td>\n",
       "      <td>S</td>\n",
       "    </tr>\n",
       "    <tr>\n",
       "      <th>2</th>\n",
       "      <td>4</td>\n",
       "      <td>1</td>\n",
       "      <td>1</td>\n",
       "      <td>female</td>\n",
       "      <td>35.0</td>\n",
       "      <td>1</td>\n",
       "      <td>0</td>\n",
       "      <td>53.1000</td>\n",
       "      <td>S</td>\n",
       "    </tr>\n",
       "    <tr>\n",
       "      <th>3</th>\n",
       "      <td>5</td>\n",
       "      <td>0</td>\n",
       "      <td>3</td>\n",
       "      <td>male</td>\n",
       "      <td>35.0</td>\n",
       "      <td>0</td>\n",
       "      <td>0</td>\n",
       "      <td>8.0500</td>\n",
       "      <td>S</td>\n",
       "    </tr>\n",
       "    <tr>\n",
       "      <th>4</th>\n",
       "      <td>7</td>\n",
       "      <td>0</td>\n",
       "      <td>1</td>\n",
       "      <td>male</td>\n",
       "      <td>54.0</td>\n",
       "      <td>0</td>\n",
       "      <td>0</td>\n",
       "      <td>51.8625</td>\n",
       "      <td>S</td>\n",
       "    </tr>\n",
       "  </tbody>\n",
       "</table>\n",
       "</div>"
      ],
      "text/plain": [
       "   ID  survived  pclass     sex   age  sibsp  parch     fare embarked\n",
       "0   1         0       3    male  22.0      1      0   7.2500        S\n",
       "1   3         1       3  female  26.0      0      0   7.9250        S\n",
       "2   4         1       1  female  35.0      1      0  53.1000        S\n",
       "3   5         0       3    male  35.0      0      0   8.0500        S\n",
       "4   7         0       1    male  54.0      0      0  51.8625        S"
      ]
     },
     "execution_count": 25,
     "metadata": {},
     "output_type": "execute_result"
    }
   ],
   "source": [
    "#データの確認\n",
    "train.head()"
   ]
  },
  {
   "cell_type": "code",
   "execution_count": 26,
   "metadata": {
    "colab": {
     "base_uri": "https://localhost:8080/",
     "height": 203
    },
    "id": "qvmrqto5QK5L",
    "outputId": "08422680-8b19-4fa8-daa7-d47fe19c3a0b"
   },
   "outputs": [
    {
     "data": {
      "text/html": [
       "<div>\n",
       "<style scoped>\n",
       "    .dataframe tbody tr th:only-of-type {\n",
       "        vertical-align: middle;\n",
       "    }\n",
       "\n",
       "    .dataframe tbody tr th {\n",
       "        vertical-align: top;\n",
       "    }\n",
       "\n",
       "    .dataframe thead th {\n",
       "        text-align: right;\n",
       "    }\n",
       "</style>\n",
       "<table border=\"1\" class=\"dataframe\">\n",
       "  <thead>\n",
       "    <tr style=\"text-align: right;\">\n",
       "      <th></th>\n",
       "      <th>ID</th>\n",
       "      <th>pclass</th>\n",
       "      <th>sex</th>\n",
       "      <th>age</th>\n",
       "      <th>sibsp</th>\n",
       "      <th>parch</th>\n",
       "      <th>fare</th>\n",
       "      <th>embarked</th>\n",
       "    </tr>\n",
       "  </thead>\n",
       "  <tbody>\n",
       "    <tr>\n",
       "      <th>0</th>\n",
       "      <td>2</td>\n",
       "      <td>1</td>\n",
       "      <td>female</td>\n",
       "      <td>38.0</td>\n",
       "      <td>1</td>\n",
       "      <td>0</td>\n",
       "      <td>71.2833</td>\n",
       "      <td>C</td>\n",
       "    </tr>\n",
       "    <tr>\n",
       "      <th>1</th>\n",
       "      <td>6</td>\n",
       "      <td>3</td>\n",
       "      <td>male</td>\n",
       "      <td>NaN</td>\n",
       "      <td>0</td>\n",
       "      <td>0</td>\n",
       "      <td>8.4583</td>\n",
       "      <td>Q</td>\n",
       "    </tr>\n",
       "    <tr>\n",
       "      <th>2</th>\n",
       "      <td>9</td>\n",
       "      <td>3</td>\n",
       "      <td>female</td>\n",
       "      <td>27.0</td>\n",
       "      <td>0</td>\n",
       "      <td>2</td>\n",
       "      <td>11.1333</td>\n",
       "      <td>S</td>\n",
       "    </tr>\n",
       "    <tr>\n",
       "      <th>3</th>\n",
       "      <td>11</td>\n",
       "      <td>3</td>\n",
       "      <td>female</td>\n",
       "      <td>4.0</td>\n",
       "      <td>1</td>\n",
       "      <td>1</td>\n",
       "      <td>16.7000</td>\n",
       "      <td>S</td>\n",
       "    </tr>\n",
       "    <tr>\n",
       "      <th>4</th>\n",
       "      <td>15</td>\n",
       "      <td>3</td>\n",
       "      <td>female</td>\n",
       "      <td>14.0</td>\n",
       "      <td>0</td>\n",
       "      <td>0</td>\n",
       "      <td>7.8542</td>\n",
       "      <td>S</td>\n",
       "    </tr>\n",
       "  </tbody>\n",
       "</table>\n",
       "</div>"
      ],
      "text/plain": [
       "   ID  pclass     sex   age  sibsp  parch     fare embarked\n",
       "0   2       1  female  38.0      1      0  71.2833        C\n",
       "1   6       3    male   NaN      0      0   8.4583        Q\n",
       "2   9       3  female  27.0      0      2  11.1333        S\n",
       "3  11       3  female   4.0      1      1  16.7000        S\n",
       "4  15       3  female  14.0      0      0   7.8542        S"
      ]
     },
     "execution_count": 26,
     "metadata": {},
     "output_type": "execute_result"
    }
   ],
   "source": [
    "test.head()"
   ]
  },
  {
   "cell_type": "code",
   "execution_count": 27,
   "metadata": {
    "colab": {
     "base_uri": "https://localhost:8080/",
     "height": 388
    },
    "id": "QqhAZQR2QLwe",
    "outputId": "6e4fd369-12ad-43a3-d7e3-849ef20d57a6"
   },
   "outputs": [
    {
     "data": {
      "text/html": [
       "<div>\n",
       "<style scoped>\n",
       "    .dataframe tbody tr th:only-of-type {\n",
       "        vertical-align: middle;\n",
       "    }\n",
       "\n",
       "    .dataframe tbody tr th {\n",
       "        vertical-align: top;\n",
       "    }\n",
       "\n",
       "    .dataframe thead th {\n",
       "        text-align: right;\n",
       "    }\n",
       "</style>\n",
       "<table border=\"1\" class=\"dataframe\">\n",
       "  <thead>\n",
       "    <tr style=\"text-align: right;\">\n",
       "      <th></th>\n",
       "      <th>ID</th>\n",
       "      <th>survived</th>\n",
       "      <th>pclass</th>\n",
       "      <th>sex</th>\n",
       "      <th>age</th>\n",
       "      <th>sibsp</th>\n",
       "      <th>parch</th>\n",
       "      <th>fare</th>\n",
       "      <th>embarked</th>\n",
       "    </tr>\n",
       "  </thead>\n",
       "  <tbody>\n",
       "    <tr>\n",
       "      <th>count</th>\n",
       "      <td>668.000000</td>\n",
       "      <td>668.000000</td>\n",
       "      <td>668.000000</td>\n",
       "      <td>668</td>\n",
       "      <td>535.000000</td>\n",
       "      <td>668.000000</td>\n",
       "      <td>668.000000</td>\n",
       "      <td>668.000000</td>\n",
       "      <td>666</td>\n",
       "    </tr>\n",
       "    <tr>\n",
       "      <th>unique</th>\n",
       "      <td>NaN</td>\n",
       "      <td>NaN</td>\n",
       "      <td>NaN</td>\n",
       "      <td>2</td>\n",
       "      <td>NaN</td>\n",
       "      <td>NaN</td>\n",
       "      <td>NaN</td>\n",
       "      <td>NaN</td>\n",
       "      <td>3</td>\n",
       "    </tr>\n",
       "    <tr>\n",
       "      <th>top</th>\n",
       "      <td>NaN</td>\n",
       "      <td>NaN</td>\n",
       "      <td>NaN</td>\n",
       "      <td>male</td>\n",
       "      <td>NaN</td>\n",
       "      <td>NaN</td>\n",
       "      <td>NaN</td>\n",
       "      <td>NaN</td>\n",
       "      <td>S</td>\n",
       "    </tr>\n",
       "    <tr>\n",
       "      <th>freq</th>\n",
       "      <td>NaN</td>\n",
       "      <td>NaN</td>\n",
       "      <td>NaN</td>\n",
       "      <td>437</td>\n",
       "      <td>NaN</td>\n",
       "      <td>NaN</td>\n",
       "      <td>NaN</td>\n",
       "      <td>NaN</td>\n",
       "      <td>490</td>\n",
       "    </tr>\n",
       "    <tr>\n",
       "      <th>mean</th>\n",
       "      <td>445.911677</td>\n",
       "      <td>0.386228</td>\n",
       "      <td>2.305389</td>\n",
       "      <td>NaN</td>\n",
       "      <td>29.900000</td>\n",
       "      <td>0.534431</td>\n",
       "      <td>0.392216</td>\n",
       "      <td>32.373621</td>\n",
       "      <td>NaN</td>\n",
       "    </tr>\n",
       "    <tr>\n",
       "      <th>std</th>\n",
       "      <td>259.966783</td>\n",
       "      <td>0.487249</td>\n",
       "      <td>0.837377</td>\n",
       "      <td>NaN</td>\n",
       "      <td>14.487993</td>\n",
       "      <td>1.161739</td>\n",
       "      <td>0.822509</td>\n",
       "      <td>50.632021</td>\n",
       "      <td>NaN</td>\n",
       "    </tr>\n",
       "    <tr>\n",
       "      <th>min</th>\n",
       "      <td>1.000000</td>\n",
       "      <td>0.000000</td>\n",
       "      <td>1.000000</td>\n",
       "      <td>NaN</td>\n",
       "      <td>0.670000</td>\n",
       "      <td>0.000000</td>\n",
       "      <td>0.000000</td>\n",
       "      <td>0.000000</td>\n",
       "      <td>NaN</td>\n",
       "    </tr>\n",
       "    <tr>\n",
       "      <th>25%</th>\n",
       "      <td>216.250000</td>\n",
       "      <td>0.000000</td>\n",
       "      <td>2.000000</td>\n",
       "      <td>NaN</td>\n",
       "      <td>21.000000</td>\n",
       "      <td>0.000000</td>\n",
       "      <td>0.000000</td>\n",
       "      <td>7.925000</td>\n",
       "      <td>NaN</td>\n",
       "    </tr>\n",
       "    <tr>\n",
       "      <th>50%</th>\n",
       "      <td>445.500000</td>\n",
       "      <td>0.000000</td>\n",
       "      <td>3.000000</td>\n",
       "      <td>NaN</td>\n",
       "      <td>29.000000</td>\n",
       "      <td>0.000000</td>\n",
       "      <td>0.000000</td>\n",
       "      <td>14.500000</td>\n",
       "      <td>NaN</td>\n",
       "    </tr>\n",
       "    <tr>\n",
       "      <th>75%</th>\n",
       "      <td>674.500000</td>\n",
       "      <td>1.000000</td>\n",
       "      <td>3.000000</td>\n",
       "      <td>NaN</td>\n",
       "      <td>38.000000</td>\n",
       "      <td>1.000000</td>\n",
       "      <td>0.000000</td>\n",
       "      <td>31.275000</td>\n",
       "      <td>NaN</td>\n",
       "    </tr>\n",
       "    <tr>\n",
       "      <th>max</th>\n",
       "      <td>890.000000</td>\n",
       "      <td>1.000000</td>\n",
       "      <td>3.000000</td>\n",
       "      <td>NaN</td>\n",
       "      <td>80.000000</td>\n",
       "      <td>8.000000</td>\n",
       "      <td>6.000000</td>\n",
       "      <td>512.329200</td>\n",
       "      <td>NaN</td>\n",
       "    </tr>\n",
       "  </tbody>\n",
       "</table>\n",
       "</div>"
      ],
      "text/plain": [
       "                ID    survived      pclass   sex         age       sibsp  \\\n",
       "count   668.000000  668.000000  668.000000   668  535.000000  668.000000   \n",
       "unique         NaN         NaN         NaN     2         NaN         NaN   \n",
       "top            NaN         NaN         NaN  male         NaN         NaN   \n",
       "freq           NaN         NaN         NaN   437         NaN         NaN   \n",
       "mean    445.911677    0.386228    2.305389   NaN   29.900000    0.534431   \n",
       "std     259.966783    0.487249    0.837377   NaN   14.487993    1.161739   \n",
       "min       1.000000    0.000000    1.000000   NaN    0.670000    0.000000   \n",
       "25%     216.250000    0.000000    2.000000   NaN   21.000000    0.000000   \n",
       "50%     445.500000    0.000000    3.000000   NaN   29.000000    0.000000   \n",
       "75%     674.500000    1.000000    3.000000   NaN   38.000000    1.000000   \n",
       "max     890.000000    1.000000    3.000000   NaN   80.000000    8.000000   \n",
       "\n",
       "             parch        fare embarked  \n",
       "count   668.000000  668.000000      666  \n",
       "unique         NaN         NaN        3  \n",
       "top            NaN         NaN        S  \n",
       "freq           NaN         NaN      490  \n",
       "mean      0.392216   32.373621      NaN  \n",
       "std       0.822509   50.632021      NaN  \n",
       "min       0.000000    0.000000      NaN  \n",
       "25%       0.000000    7.925000      NaN  \n",
       "50%       0.000000   14.500000      NaN  \n",
       "75%       0.000000   31.275000      NaN  \n",
       "max       6.000000  512.329200      NaN  "
      ]
     },
     "execution_count": 27,
     "metadata": {},
     "output_type": "execute_result"
    }
   ],
   "source": [
    "#データの要約\n",
    "train.describe(include=\"all\")"
   ]
  },
  {
   "cell_type": "code",
   "execution_count": 28,
   "metadata": {
    "colab": {
     "base_uri": "https://localhost:8080/",
     "height": 388
    },
    "id": "PTLyFpaURIHF",
    "outputId": "5fbad748-3809-4e02-e0ed-b1caf97144d8"
   },
   "outputs": [
    {
     "data": {
      "text/html": [
       "<div>\n",
       "<style scoped>\n",
       "    .dataframe tbody tr th:only-of-type {\n",
       "        vertical-align: middle;\n",
       "    }\n",
       "\n",
       "    .dataframe tbody tr th {\n",
       "        vertical-align: top;\n",
       "    }\n",
       "\n",
       "    .dataframe thead th {\n",
       "        text-align: right;\n",
       "    }\n",
       "</style>\n",
       "<table border=\"1\" class=\"dataframe\">\n",
       "  <thead>\n",
       "    <tr style=\"text-align: right;\">\n",
       "      <th></th>\n",
       "      <th>ID</th>\n",
       "      <th>pclass</th>\n",
       "      <th>sex</th>\n",
       "      <th>age</th>\n",
       "      <th>sibsp</th>\n",
       "      <th>parch</th>\n",
       "      <th>fare</th>\n",
       "      <th>embarked</th>\n",
       "    </tr>\n",
       "  </thead>\n",
       "  <tbody>\n",
       "    <tr>\n",
       "      <th>count</th>\n",
       "      <td>223.000000</td>\n",
       "      <td>223.000000</td>\n",
       "      <td>223</td>\n",
       "      <td>179.000000</td>\n",
       "      <td>223.000000</td>\n",
       "      <td>223.000000</td>\n",
       "      <td>223.000000</td>\n",
       "      <td>223</td>\n",
       "    </tr>\n",
       "    <tr>\n",
       "      <th>unique</th>\n",
       "      <td>NaN</td>\n",
       "      <td>NaN</td>\n",
       "      <td>2</td>\n",
       "      <td>NaN</td>\n",
       "      <td>NaN</td>\n",
       "      <td>NaN</td>\n",
       "      <td>NaN</td>\n",
       "      <td>3</td>\n",
       "    </tr>\n",
       "    <tr>\n",
       "      <th>top</th>\n",
       "      <td>NaN</td>\n",
       "      <td>NaN</td>\n",
       "      <td>male</td>\n",
       "      <td>NaN</td>\n",
       "      <td>NaN</td>\n",
       "      <td>NaN</td>\n",
       "      <td>NaN</td>\n",
       "      <td>S</td>\n",
       "    </tr>\n",
       "    <tr>\n",
       "      <th>freq</th>\n",
       "      <td>NaN</td>\n",
       "      <td>NaN</td>\n",
       "      <td>140</td>\n",
       "      <td>NaN</td>\n",
       "      <td>NaN</td>\n",
       "      <td>NaN</td>\n",
       "      <td>NaN</td>\n",
       "      <td>154</td>\n",
       "    </tr>\n",
       "    <tr>\n",
       "      <th>mean</th>\n",
       "      <td>446.264574</td>\n",
       "      <td>2.318386</td>\n",
       "      <td>NaN</td>\n",
       "      <td>29.098715</td>\n",
       "      <td>0.488789</td>\n",
       "      <td>0.349776</td>\n",
       "      <td>31.696729</td>\n",
       "      <td>NaN</td>\n",
       "    </tr>\n",
       "    <tr>\n",
       "      <th>std</th>\n",
       "      <td>249.935932</td>\n",
       "      <td>0.833949</td>\n",
       "      <td>NaN</td>\n",
       "      <td>14.665346</td>\n",
       "      <td>0.904747</td>\n",
       "      <td>0.755513</td>\n",
       "      <td>46.875335</td>\n",
       "      <td>NaN</td>\n",
       "    </tr>\n",
       "    <tr>\n",
       "      <th>min</th>\n",
       "      <td>2.000000</td>\n",
       "      <td>1.000000</td>\n",
       "      <td>NaN</td>\n",
       "      <td>0.420000</td>\n",
       "      <td>0.000000</td>\n",
       "      <td>0.000000</td>\n",
       "      <td>0.000000</td>\n",
       "      <td>NaN</td>\n",
       "    </tr>\n",
       "    <tr>\n",
       "      <th>25%</th>\n",
       "      <td>249.000000</td>\n",
       "      <td>2.000000</td>\n",
       "      <td>NaN</td>\n",
       "      <td>19.000000</td>\n",
       "      <td>0.000000</td>\n",
       "      <td>0.000000</td>\n",
       "      <td>7.895800</td>\n",
       "      <td>NaN</td>\n",
       "    </tr>\n",
       "    <tr>\n",
       "      <th>50%</th>\n",
       "      <td>448.000000</td>\n",
       "      <td>3.000000</td>\n",
       "      <td>NaN</td>\n",
       "      <td>26.000000</td>\n",
       "      <td>0.000000</td>\n",
       "      <td>0.000000</td>\n",
       "      <td>13.000000</td>\n",
       "      <td>NaN</td>\n",
       "    </tr>\n",
       "    <tr>\n",
       "      <th>75%</th>\n",
       "      <td>655.500000</td>\n",
       "      <td>3.000000</td>\n",
       "      <td>NaN</td>\n",
       "      <td>38.000000</td>\n",
       "      <td>1.000000</td>\n",
       "      <td>0.000000</td>\n",
       "      <td>30.000000</td>\n",
       "      <td>NaN</td>\n",
       "    </tr>\n",
       "    <tr>\n",
       "      <th>max</th>\n",
       "      <td>891.000000</td>\n",
       "      <td>3.000000</td>\n",
       "      <td>NaN</td>\n",
       "      <td>70.000000</td>\n",
       "      <td>5.000000</td>\n",
       "      <td>5.000000</td>\n",
       "      <td>263.000000</td>\n",
       "      <td>NaN</td>\n",
       "    </tr>\n",
       "  </tbody>\n",
       "</table>\n",
       "</div>"
      ],
      "text/plain": [
       "                ID      pclass   sex         age       sibsp       parch  \\\n",
       "count   223.000000  223.000000   223  179.000000  223.000000  223.000000   \n",
       "unique         NaN         NaN     2         NaN         NaN         NaN   \n",
       "top            NaN         NaN  male         NaN         NaN         NaN   \n",
       "freq           NaN         NaN   140         NaN         NaN         NaN   \n",
       "mean    446.264574    2.318386   NaN   29.098715    0.488789    0.349776   \n",
       "std     249.935932    0.833949   NaN   14.665346    0.904747    0.755513   \n",
       "min       2.000000    1.000000   NaN    0.420000    0.000000    0.000000   \n",
       "25%     249.000000    2.000000   NaN   19.000000    0.000000    0.000000   \n",
       "50%     448.000000    3.000000   NaN   26.000000    0.000000    0.000000   \n",
       "75%     655.500000    3.000000   NaN   38.000000    1.000000    0.000000   \n",
       "max     891.000000    3.000000   NaN   70.000000    5.000000    5.000000   \n",
       "\n",
       "              fare embarked  \n",
       "count   223.000000      223  \n",
       "unique         NaN        3  \n",
       "top            NaN        S  \n",
       "freq           NaN      154  \n",
       "mean     31.696729      NaN  \n",
       "std      46.875335      NaN  \n",
       "min       0.000000      NaN  \n",
       "25%       7.895800      NaN  \n",
       "50%      13.000000      NaN  \n",
       "75%      30.000000      NaN  \n",
       "max     263.000000      NaN  "
      ]
     },
     "execution_count": 28,
     "metadata": {},
     "output_type": "execute_result"
    }
   ],
   "source": [
    "test.describe(include=\"all\")"
   ]
  },
  {
   "cell_type": "code",
   "execution_count": 29,
   "metadata": {
    "colab": {
     "base_uri": "https://localhost:8080/"
    },
    "id": "qx2PWc9FTHKT",
    "outputId": "4b43ae90-18b2-4e21-e928-7fdcd3ac95dd"
   },
   "outputs": [
    {
     "data": {
      "text/plain": [
       "ID            0\n",
       "survived      0\n",
       "pclass        0\n",
       "sex           0\n",
       "age         133\n",
       "sibsp         0\n",
       "parch         0\n",
       "fare          0\n",
       "embarked      2\n",
       "dtype: int64"
      ]
     },
     "execution_count": 29,
     "metadata": {},
     "output_type": "execute_result"
    }
   ],
   "source": [
    "#欠損値の確認\n",
    "train.isnull().sum()"
   ]
  },
  {
   "cell_type": "code",
   "execution_count": 30,
   "metadata": {
    "colab": {
     "base_uri": "https://localhost:8080/"
    },
    "id": "tyFtRWjXTHWd",
    "outputId": "748b3d46-5803-47df-8421-e26914e4a271"
   },
   "outputs": [
    {
     "data": {
      "text/plain": [
       "ID           0\n",
       "pclass       0\n",
       "sex          0\n",
       "age         44\n",
       "sibsp        0\n",
       "parch        0\n",
       "fare         0\n",
       "embarked     0\n",
       "dtype: int64"
      ]
     },
     "execution_count": 30,
     "metadata": {},
     "output_type": "execute_result"
    }
   ],
   "source": [
    "test.isnull().sum()"
   ]
  },
  {
   "cell_type": "markdown",
   "metadata": {
    "id": "BOFNjFCtTjbY"
   },
   "source": [
    "# グラフ化して異常値や外れ値を確認しながら、Survivedに影響しそうな変数を探索\n",
    "\n",
    "\n"
   ]
  },
  {
   "cell_type": "code",
   "execution_count": 31,
   "metadata": {
    "colab": {
     "base_uri": "https://localhost:8080/",
     "height": 285
    },
    "id": "XfpJsKzXRO8j",
    "outputId": "b1397154-1a41-4cde-9277-5ffe6be50c05"
   },
   "outputs": [
    {
     "data": {
      "image/png": "[encoded data removed]",
      "text/plain": [
       "<Figure size 432x288 with 1 Axes>"
      ]
     },
     "metadata": {
      "needs_background": "light"
     },
     "output_type": "display_data"
    }
   ],
   "source": [
    "#Pclass\n",
    "sns.countplot(x=\"pclass\",hue=\"survived\",data=train);"
   ]
  },
  {
   "cell_type": "code",
   "execution_count": 32,
   "metadata": {
    "colab": {
     "base_uri": "https://localhost:8080/",
     "height": 285
    },
    "id": "AA6YXNb4SwzE",
    "outputId": "fd8f9509-7784-4668-cfaf-12633c1e40e1"
   },
   "outputs": [
    {
     "data": {
      "image/png": "[encoded data removed]",
      "text/plain": [
       "<Figure size 432x288 with 1 Axes>"
      ]
     },
     "metadata": {
      "needs_background": "light"
     },
     "output_type": "display_data"
    }
   ],
   "source": [
    "#Sex\n",
    "sns.countplot(x=\"sex\",hue=\"survived\",data=train);\n",
    "train[\"sex\"]=train[\"sex\"].apply(lambda x:1 if x==\"female\" else 0)\n",
    "test[\"sex\"]=test[\"sex\"].apply(lambda x:1 if x==\"female\" else 0)"
   ]
  },
  {
   "cell_type": "code",
   "execution_count": 33,
   "metadata": {
    "colab": {
     "base_uri": "https://localhost:8080/",
     "height": 377
    },
    "id": "HAjvW5W-TBM_",
    "outputId": "117e4782-6ee6-4075-c8c6-ade3f9b0e3f3"
   },
   "outputs": [
    {
     "name": "stderr",
     "output_type": "stream",
     "text": [
      "/Users/naokimaruoka/opt/anaconda3/lib/python3.8/site-packages/seaborn/distributions.py:2557: FutureWarning: `distplot` is a deprecated function and will be removed in a future version. Please adapt your code to use either `displot` (a figure-level function with similar flexibility) or `histplot` (an axes-level function for histograms).\n",
      "  warnings.warn(msg, FutureWarning)\n",
      "/Users/naokimaruoka/opt/anaconda3/lib/python3.8/site-packages/seaborn/distributions.py:2557: FutureWarning: `distplot` is a deprecated function and will be removed in a future version. Please adapt your code to use either `displot` (a figure-level function with similar flexibility) or `histplot` (an axes-level function for histograms).\n",
      "  warnings.warn(msg, FutureWarning)\n"
     ]
    },
    {
     "data": {
      "image/png": "[encoded data removed]",
      "text/plain": [
       "<Figure size 432x288 with 1 Axes>"
      ]
     },
     "metadata": {
      "needs_background": "light"
     },
     "output_type": "display_data"
    }
   ],
   "source": [
    "#Age\n",
    "sns.distplot(train[train[\"survived\"]==1][\"age\"],kde=False,label=\"Survived\",color=\"orange\")\n",
    "sns.distplot(train[train[\"survived\"]==0][\"age\"],kde=False,label=\"Dead\",color=\"b\")\n",
    "plt.legend();"
   ]
  },
  {
   "cell_type": "code",
   "execution_count": null,
   "metadata": {
    "colab": {
     "base_uri": "https://localhost:8080/",
     "height": 285
    },
    "id": "zwN1BvNYToTW",
    "outputId": "647b1a2b-e56b-46a8-9157-59017ab9f495"
   },
   "outputs": [
    {
     "data": {
      "image/png": "[encoded data removed]",
      "text/plain": [
       "<Figure size 432x288 with 1 Axes>"
      ]
     },
     "metadata": {},
     "output_type": "display_data"
    }
   ],
   "source": [
    "#SibSp\n",
    "sns.countplot(x=\"sibsp\",hue=\"survived\",data=train);"
   ]
  },
  {
   "cell_type": "code",
   "execution_count": null,
   "metadata": {
    "colab": {
     "base_uri": "https://localhost:8080/",
     "height": 285
    },
    "id": "XKujEOBcUOwq",
    "outputId": "eca3935c-4875-42fc-853c-1ecc92f96b9b"
   },
   "outputs": [
    {
     "data": {
      "image/png": "[encoded data removed]",
      "text/plain": [
       "<Figure size 432x288 with 1 Axes>"
      ]
     },
     "metadata": {},
     "output_type": "display_data"
    }
   ],
   "source": [
    "#Parch\n",
    "sns.countplot(x=\"parch\",hue=\"survived\",data=train);"
   ]
  },
  {
   "cell_type": "code",
   "execution_count": null,
   "metadata": {
    "colab": {
     "base_uri": "https://localhost:8080/",
     "height": 268
    },
    "id": "m2G8AJ7jeS1o",
    "outputId": "e1134a8d-344c-4cb9-d258-13f94db496b1"
   },
   "outputs": [
    {
     "data": {
      "image/png": "[encoded data removed]",
      "text/plain": [
       "<Figure size 432x288 with 1 Axes>"
      ]
     },
     "metadata": {},
     "output_type": "display_data"
    }
   ],
   "source": [
    "#sibsp+parch\n",
    "sns.countplot(x=train[\"sibsp\"]+train[\"parch\"],hue=train[\"survived\"]);"
   ]
  },
  {
   "cell_type": "code",
   "execution_count": null,
   "metadata": {
    "colab": {
     "base_uri": "https://localhost:8080/",
     "height": 375
    },
    "id": "kmyAKuniUO1j",
    "outputId": "b4b15888-db72-4962-ae55-2ee40195f5bc"
   },
   "outputs": [
    {
     "name": "stderr",
     "output_type": "stream",
     "text": [
      "/usr/local/lib/python3.7/dist-packages/seaborn/distributions.py:2619: FutureWarning: `distplot` is a deprecated function and will be removed in a future version. Please adapt your code to use either `displot` (a figure-level function with similar flexibility) or `histplot` (an axes-level function for histograms).\n",
      "  warnings.warn(msg, FutureWarning)\n",
      "/usr/local/lib/python3.7/dist-packages/seaborn/distributions.py:2619: FutureWarning: `distplot` is a deprecated function and will be removed in a future version. Please adapt your code to use either `displot` (a figure-level function with similar flexibility) or `histplot` (an axes-level function for histograms).\n",
      "  warnings.warn(msg, FutureWarning)\n"
     ]
    },
    {
     "data": {
      "image/png": "[encoded data removed]",
      "text/plain": [
       "<Figure size 432x288 with 1 Axes>"
      ]
     },
     "metadata": {},
     "output_type": "display_data"
    }
   ],
   "source": [
    "#Fare\n",
    "sns.distplot(train[train[\"survived\"]==1][\"fare\"],kde=False,label=\"Survived\",color=\"orange\")\n",
    "sns.distplot(train[train[\"survived\"]==0][\"fare\"],kde=False,label=\"Dead\",color=\"b\")\n",
    "plt.legend();"
   ]
  },
  {
   "cell_type": "code",
   "execution_count": null,
   "metadata": {
    "colab": {
     "base_uri": "https://localhost:8080/",
     "height": 375
    },
    "id": "HvCtBNTxVyyH",
    "outputId": "858122b9-7c0b-4bc0-9f6c-6b1c38342d26"
   },
   "outputs": [
    {
     "name": "stderr",
     "output_type": "stream",
     "text": [
      "/usr/local/lib/python3.7/dist-packages/seaborn/distributions.py:2619: FutureWarning: `distplot` is a deprecated function and will be removed in a future version. Please adapt your code to use either `displot` (a figure-level function with similar flexibility) or `histplot` (an axes-level function for histograms).\n",
      "  warnings.warn(msg, FutureWarning)\n",
      "/usr/local/lib/python3.7/dist-packages/seaborn/distributions.py:2619: FutureWarning: `distplot` is a deprecated function and will be removed in a future version. Please adapt your code to use either `displot` (a figure-level function with similar flexibility) or `histplot` (an axes-level function for histograms).\n",
      "  warnings.warn(msg, FutureWarning)\n"
     ]
    },
    {
     "data": {
      "image/png": "[encoded data removed]",
      "text/plain": [
       "<Figure size 432x288 with 1 Axes>"
      ]
     },
     "metadata": {},
     "output_type": "display_data"
    }
   ],
   "source": [
    "#Fareを対数変換するとグラフの偏りが少なくなる\n",
    "sns.distplot(np.log(train[train[\"survived\"]==1][\"fare\"]+1),kde=False,label=\"Survived\",color=\"orange\")\n",
    "sns.distplot(np.log(train[train[\"survived\"]==0][\"fare\"]+1),kde=False,label=\"Dead\",color=\"b\")\n",
    "plt.legend();\n",
    "train[\"fare_log\"]=np.log(train[\"fare\"]+1)\n",
    "test[\"fare_log\"]=np.log(test[\"fare\"]+1)"
   ]
  },
  {
   "cell_type": "code",
   "execution_count": null,
   "metadata": {
    "colab": {
     "base_uri": "https://localhost:8080/",
     "height": 375
    },
    "id": "1sxGd86AiVaR",
    "outputId": "f4dac623-6484-4e13-8a37-9cdab88bca1b"
   },
   "outputs": [
    {
     "name": "stderr",
     "output_type": "stream",
     "text": [
      "/usr/local/lib/python3.7/dist-packages/seaborn/distributions.py:2619: FutureWarning: `distplot` is a deprecated function and will be removed in a future version. Please adapt your code to use either `displot` (a figure-level function with similar flexibility) or `histplot` (an axes-level function for histograms).\n",
      "  warnings.warn(msg, FutureWarning)\n",
      "/usr/local/lib/python3.7/dist-packages/seaborn/distributions.py:2619: FutureWarning: `distplot` is a deprecated function and will be removed in a future version. Please adapt your code to use either `displot` (a figure-level function with similar flexibility) or `histplot` (an axes-level function for histograms).\n",
      "  warnings.warn(msg, FutureWarning)\n"
     ]
    },
    {
     "data": {
      "image/png": "[encoded data removed]",
      "text/plain": [
       "<Figure size 432x288 with 1 Axes>"
      ]
     },
     "metadata": {},
     "output_type": "display_data"
    }
   ],
   "source": [
    "#Fareをカテゴリー別に分けてみる\n",
    "train[\"fare_category\"]=pd.cut(x=train[\"fare_log\"],bins=[-1,2.5,3,3.5,4,4.5,10],labels=[1,2,3,4,5,6])\n",
    "test[\"fare_category\"]=pd.cut(x=test[\"fare_log\"],bins=[-1,2.5,3,3.5,4,4.5,10],labels=[1,2,3,4,5,6])\n",
    "sns.distplot(train[train[\"survived\"]==1][\"fare_category\"],kde=False,label=\"Survived\",color=\"orange\")\n",
    "sns.distplot(train[train[\"survived\"]==0][\"fare_category\"],kde=False,label=\"Dead\",color=\"b\")\n",
    "plt.legend();"
   ]
  },
  {
   "cell_type": "code",
   "execution_count": null,
   "metadata": {
    "colab": {
     "base_uri": "https://localhost:8080/",
     "height": 285
    },
    "id": "kjkuvAESlr2a",
    "outputId": "356de756-ae53-42b8-c916-dec961a6b617"
   },
   "outputs": [
    {
     "data": {
      "image/png": "[encoded data removed]",
      "text/plain": [
       "<Figure size 432x288 with 1 Axes>"
      ]
     },
     "metadata": {},
     "output_type": "display_data"
    }
   ],
   "source": [
    "sns.countplot(x=\"fare_category\",data=train);"
   ]
  },
  {
   "cell_type": "code",
   "execution_count": null,
   "metadata": {
    "colab": {
     "base_uri": "https://localhost:8080/",
     "height": 285
    },
    "id": "cqfOWW2MUUyf",
    "outputId": "955d3c21-a293-48d3-e352-18780d8e56e6"
   },
   "outputs": [
    {
     "data": {
      "image/png": "[encoded data removed]",
      "text/plain": [
       "<Figure size 432x288 with 1 Axes>"
      ]
     },
     "metadata": {},
     "output_type": "display_data"
    }
   ],
   "source": [
    "#Embarked\n",
    "sns.countplot(x=\"embarked\",hue=\"survived\",data=train);"
   ]
  },
  {
   "cell_type": "code",
   "execution_count": null,
   "metadata": {
    "colab": {
     "base_uri": "https://localhost:8080/",
     "height": 326
    },
    "id": "_6fXT0KzgoA7",
    "outputId": "a3648644-7183-40bd-a14e-392a37b8510f"
   },
   "outputs": [
    {
     "data": {
      "text/plain": [
       "<matplotlib.axes._subplots.AxesSubplot at 0x7f5abe3de8d0>"
      ]
     },
     "execution_count": 49,
     "metadata": {},
     "output_type": "execute_result"
    },
    {
     "data": {
      "image/png": "[encoded data removed]",
      "text/plain": [
       "<Figure size 432x288 with 2 Axes>"
      ]
     },
     "metadata": {},
     "output_type": "display_data"
    }
   ],
   "source": [
    "sns.heatmap(train.corr(),cmap=\"bwr\",annot=True,vmax=1,vmin=-1,center=0)"
   ]
  },
  {
   "cell_type": "markdown",
   "metadata": {
    "id": "Yh805FXVZuqw"
   },
   "source": [
    "\n",
    "*  lightGBMはカテゴリーのLabel Encodingのみ実施\n",
    "*  ロジスティックモデルは欠損値補完+カテゴリー変数のダミー変数化+Fareの対数変換などの処理が必要"
   ]
  },
  {
   "cell_type": "code",
   "execution_count": null,
   "metadata": {
    "colab": {
     "base_uri": "https://localhost:8080/",
     "height": 203
    },
    "id": "wtyunmXw_vqH",
    "outputId": "917f1984-497d-4744-e417-bf5fc43de8b1"
   },
   "outputs": [
    {
     "data": {
      "text/html": [
       "<div>\n",
       "<style scoped>\n",
       "    .dataframe tbody tr th:only-of-type {\n",
       "        vertical-align: middle;\n",
       "    }\n",
       "\n",
       "    .dataframe tbody tr th {\n",
       "        vertical-align: top;\n",
       "    }\n",
       "\n",
       "    .dataframe thead th {\n",
       "        text-align: right;\n",
       "    }\n",
       "</style>\n",
       "<table border=\"1\" class=\"dataframe\">\n",
       "  <thead>\n",
       "    <tr style=\"text-align: right;\">\n",
       "      <th></th>\n",
       "      <th>ID</th>\n",
       "      <th>survived</th>\n",
       "      <th>pclass</th>\n",
       "      <th>sex</th>\n",
       "      <th>age</th>\n",
       "      <th>sibsp</th>\n",
       "      <th>parch</th>\n",
       "      <th>fare</th>\n",
       "      <th>embarked</th>\n",
       "      <th>fare_log</th>\n",
       "      <th>fare_category</th>\n",
       "    </tr>\n",
       "  </thead>\n",
       "  <tbody>\n",
       "    <tr>\n",
       "      <th>0</th>\n",
       "      <td>1</td>\n",
       "      <td>0</td>\n",
       "      <td>3</td>\n",
       "      <td>0</td>\n",
       "      <td>22.0</td>\n",
       "      <td>1</td>\n",
       "      <td>0</td>\n",
       "      <td>7.2500</td>\n",
       "      <td>S</td>\n",
       "      <td>2.110213</td>\n",
       "      <td>1</td>\n",
       "    </tr>\n",
       "    <tr>\n",
       "      <th>1</th>\n",
       "      <td>3</td>\n",
       "      <td>1</td>\n",
       "      <td>3</td>\n",
       "      <td>1</td>\n",
       "      <td>26.0</td>\n",
       "      <td>0</td>\n",
       "      <td>0</td>\n",
       "      <td>7.9250</td>\n",
       "      <td>S</td>\n",
       "      <td>2.188856</td>\n",
       "      <td>1</td>\n",
       "    </tr>\n",
       "    <tr>\n",
       "      <th>2</th>\n",
       "      <td>4</td>\n",
       "      <td>1</td>\n",
       "      <td>1</td>\n",
       "      <td>1</td>\n",
       "      <td>35.0</td>\n",
       "      <td>1</td>\n",
       "      <td>0</td>\n",
       "      <td>53.1000</td>\n",
       "      <td>S</td>\n",
       "      <td>3.990834</td>\n",
       "      <td>4</td>\n",
       "    </tr>\n",
       "    <tr>\n",
       "      <th>3</th>\n",
       "      <td>5</td>\n",
       "      <td>0</td>\n",
       "      <td>3</td>\n",
       "      <td>0</td>\n",
       "      <td>35.0</td>\n",
       "      <td>0</td>\n",
       "      <td>0</td>\n",
       "      <td>8.0500</td>\n",
       "      <td>S</td>\n",
       "      <td>2.202765</td>\n",
       "      <td>1</td>\n",
       "    </tr>\n",
       "    <tr>\n",
       "      <th>4</th>\n",
       "      <td>7</td>\n",
       "      <td>0</td>\n",
       "      <td>1</td>\n",
       "      <td>0</td>\n",
       "      <td>54.0</td>\n",
       "      <td>0</td>\n",
       "      <td>0</td>\n",
       "      <td>51.8625</td>\n",
       "      <td>S</td>\n",
       "      <td>3.967694</td>\n",
       "      <td>4</td>\n",
       "    </tr>\n",
       "  </tbody>\n",
       "</table>\n",
       "</div>"
      ],
      "text/plain": [
       "   ID  survived  pclass  sex  ...     fare  embarked  fare_log  fare_category\n",
       "0   1         0       3    0  ...   7.2500         S  2.110213              1\n",
       "1   3         1       3    1  ...   7.9250         S  2.188856              1\n",
       "2   4         1       1    1  ...  53.1000         S  3.990834              4\n",
       "3   5         0       3    0  ...   8.0500         S  2.202765              1\n",
       "4   7         0       1    0  ...  51.8625         S  3.967694              4\n",
       "\n",
       "[5 rows x 11 columns]"
      ]
     },
     "execution_count": 50,
     "metadata": {},
     "output_type": "execute_result"
    }
   ],
   "source": [
    "train.head()"
   ]
  },
  {
   "cell_type": "markdown",
   "metadata": {
    "id": "Xc6gT254m3yy"
   },
   "source": [
    "#LightGBM実装"
   ]
  },
  {
   "cell_type": "code",
   "execution_count": null,
   "metadata": {
    "colab": {
     "base_uri": "https://localhost:8080/",
     "height": 1000
    },
    "id": "uP8tt2xY4UcR",
    "outputId": "5011631b-df9d-4b04-afa1-0ad376a83615"
   },
   "outputs": [
    {
     "name": "stdout",
     "output_type": "stream",
     "text": [
      "Training until validation scores don't improve for 100 rounds.\n",
      "[50]\ttraining's binary_logloss: 0.50759\tvalid_1's binary_logloss: 0.521555\n",
      "[100]\ttraining's binary_logloss: 0.432905\tvalid_1's binary_logloss: 0.465717\n",
      "[150]\ttraining's binary_logloss: 0.388662\tvalid_1's binary_logloss: 0.439657\n",
      "[200]\ttraining's binary_logloss: 0.355896\tvalid_1's binary_logloss: 0.426069\n",
      "[250]\ttraining's binary_logloss: 0.332387\tvalid_1's binary_logloss: 0.427675\n",
      "[300]\ttraining's binary_logloss: 0.313042\tvalid_1's binary_logloss: 0.433221\n",
      "Early stopping, best iteration is:\n",
      "[214]\ttraining's binary_logloss: 0.348339\tvalid_1's binary_logloss: 0.425124\n",
      "accuracy 0.8208955223880597\n"
     ]
    },
    {
     "data": {
      "text/plain": [
       "<matplotlib.axes._subplots.AxesSubplot at 0x7f5abe2c1550>"
      ]
     },
     "execution_count": 51,
     "metadata": {},
     "output_type": "execute_result"
    },
    {
     "data": {
      "image/png": "[encoded data removed]",
      "text/plain": [
       "<Figure size 576x1152 with 1 Axes>"
      ]
     },
     "metadata": {},
     "output_type": "display_data"
    }
   ],
   "source": [
    "#lightGBM実装\n",
    "train_GBM=train.drop([\"fare_log\",\"fare_category\"],1)\n",
    "test_GBM=test.drop([\"fare_log\",\"fare_category\"],1)\n",
    "#label encoding\n",
    "train_GBM[\"embarked\"]=train_GBM[\"embarked\"].fillna(\"unknown\")\n",
    "from sklearn.preprocessing import LabelEncoder\n",
    "for i in train_GBM.columns:\n",
    "  if train_GBM[i].dtypes==object:\n",
    "    le=LabelEncoder()\n",
    "    le.fit(train_GBM[i])\n",
    "    train_GBM[i]=le.transform(train_GBM[i])\n",
    "#lightGBM\n",
    "X=train_GBM.drop([\"ID\",\"survived\"],1)\n",
    "y=train_GBM[\"survived\"]\n",
    "import lightgbm as lgb\n",
    "from sklearn.metrics import accuracy_score\n",
    "from sklearn.model_selection import train_test_split\n",
    "X_train, X_val, y_train, y_val = train_test_split(X,y,test_size=0.2,random_state=1)\n",
    "lgb_train = lgb.Dataset(X_train, y_train)\n",
    "lgb_eval = lgb.Dataset(X_val, y_val, reference=lgb_train)\n",
    "params={\"objective\":\"binary\",\"metrics\":\"binary_logloss\",\"boosting_type\": \"gbdt\",\"num_leaves\":23,\"learning_rate\":0.01,\"feature_fraction\":1.0,\"min_data_in_leaf\":20}\n",
    "model=lgb.train(params,lgb_train,valid_sets=[lgb_train,lgb_eval],num_boost_round=2000,early_stopping_rounds=100,verbose_eval=50)\n",
    "y_pred = model.predict(X_val, num_iteration=model.best_iteration)\n",
    "y_pred=np.where(y_pred>0.5,1,0)\n",
    "print(\"accuracy\",accuracy_score(y_val,y_pred))\n",
    "lgb.plot_importance(model, height=0.5, figsize=(8,16))"
   ]
  },
  {
   "cell_type": "code",
   "execution_count": null,
   "metadata": {
    "colab": {
     "base_uri": "https://localhost:8080/",
     "height": 203
    },
    "id": "wBVoUMDcAjsi",
    "outputId": "ed4d6d4f-0572-4355-9916-1f463eb1d163"
   },
   "outputs": [
    {
     "data": {
      "text/html": [
       "<div>\n",
       "<style scoped>\n",
       "    .dataframe tbody tr th:only-of-type {\n",
       "        vertical-align: middle;\n",
       "    }\n",
       "\n",
       "    .dataframe tbody tr th {\n",
       "        vertical-align: top;\n",
       "    }\n",
       "\n",
       "    .dataframe thead th {\n",
       "        text-align: right;\n",
       "    }\n",
       "</style>\n",
       "<table border=\"1\" class=\"dataframe\">\n",
       "  <thead>\n",
       "    <tr style=\"text-align: right;\">\n",
       "      <th></th>\n",
       "      <th>pclass</th>\n",
       "      <th>sex</th>\n",
       "      <th>age</th>\n",
       "      <th>sibsp</th>\n",
       "      <th>parch</th>\n",
       "      <th>fare</th>\n",
       "      <th>embarked</th>\n",
       "      <th>survived</th>\n",
       "    </tr>\n",
       "  </thead>\n",
       "  <tbody>\n",
       "    <tr>\n",
       "      <th>0</th>\n",
       "      <td>1</td>\n",
       "      <td>1</td>\n",
       "      <td>38.0</td>\n",
       "      <td>1</td>\n",
       "      <td>0</td>\n",
       "      <td>71.2833</td>\n",
       "      <td>0</td>\n",
       "      <td>1</td>\n",
       "    </tr>\n",
       "    <tr>\n",
       "      <th>1</th>\n",
       "      <td>3</td>\n",
       "      <td>0</td>\n",
       "      <td>NaN</td>\n",
       "      <td>0</td>\n",
       "      <td>0</td>\n",
       "      <td>8.4583</td>\n",
       "      <td>1</td>\n",
       "      <td>0</td>\n",
       "    </tr>\n",
       "    <tr>\n",
       "      <th>2</th>\n",
       "      <td>3</td>\n",
       "      <td>1</td>\n",
       "      <td>27.0</td>\n",
       "      <td>0</td>\n",
       "      <td>2</td>\n",
       "      <td>11.1333</td>\n",
       "      <td>2</td>\n",
       "      <td>1</td>\n",
       "    </tr>\n",
       "    <tr>\n",
       "      <th>3</th>\n",
       "      <td>3</td>\n",
       "      <td>1</td>\n",
       "      <td>4.0</td>\n",
       "      <td>1</td>\n",
       "      <td>1</td>\n",
       "      <td>16.7000</td>\n",
       "      <td>2</td>\n",
       "      <td>1</td>\n",
       "    </tr>\n",
       "    <tr>\n",
       "      <th>4</th>\n",
       "      <td>3</td>\n",
       "      <td>1</td>\n",
       "      <td>14.0</td>\n",
       "      <td>0</td>\n",
       "      <td>0</td>\n",
       "      <td>7.8542</td>\n",
       "      <td>2</td>\n",
       "      <td>1</td>\n",
       "    </tr>\n",
       "  </tbody>\n",
       "</table>\n",
       "</div>"
      ],
      "text/plain": [
       "   pclass  sex   age  sibsp  parch     fare  embarked  survived\n",
       "0       1    1  38.0      1      0  71.2833         0         1\n",
       "1       3    0   NaN      0      0   8.4583         1         0\n",
       "2       3    1  27.0      0      2  11.1333         2         1\n",
       "3       3    1   4.0      1      1  16.7000         2         1\n",
       "4       3    1  14.0      0      0   7.8542         2         1"
      ]
     },
     "metadata": {},
     "output_type": "display_data"
    }
   ],
   "source": [
    "#予測値作成\n",
    "df_submit=test_GBM.copy()\n",
    "test_GBM=test_GBM.drop(\"ID\",1)\n",
    "test_GBM[\"embarked\"]=test_GBM[\"embarked\"].fillna(\"unknown\")\n",
    "from sklearn.preprocessing import LabelEncoder\n",
    "for i in test_GBM.columns:\n",
    "  if test_GBM[i].dtypes==object:\n",
    "    le=LabelEncoder()\n",
    "    le.fit(test_GBM[i])\n",
    "    test_GBM[i]=le.transform(test_GBM[i])\n",
    "test_GBM[\"survived\"] = model.predict(test_GBM, num_iteration=model.best_iteration)\n",
    "test_GBM[\"survived\"]=test_GBM[\"survived\"].apply(lambda x:1 if x>0.5 else 0)\n",
    "display(test_GBM.head())\n",
    "df_submit[\"y\"]=test_GBM[\"survived\"]\n",
    "df_submit=df_submit[[\"ID\",\"y\"]]\n",
    "df_submit.to_csv(\"titanic_submit.csv\",index=False)"
   ]
  },
  {
   "cell_type": "markdown",
   "metadata": {
    "id": "xZ_AQ0BbzqOB"
   },
   "source": [
    "#ロジスティック回帰モデル実装"
   ]
  },
  {
   "cell_type": "code",
   "execution_count": null,
   "metadata": {
    "colab": {
     "base_uri": "https://localhost:8080/",
     "height": 203
    },
    "id": "TC3xwcZSEcOh",
    "outputId": "ef757bd7-9f53-4c4b-d76e-cfdf9935f1ce"
   },
   "outputs": [
    {
     "data": {
      "text/html": [
       "<div>\n",
       "<style scoped>\n",
       "    .dataframe tbody tr th:only-of-type {\n",
       "        vertical-align: middle;\n",
       "    }\n",
       "\n",
       "    .dataframe tbody tr th {\n",
       "        vertical-align: top;\n",
       "    }\n",
       "\n",
       "    .dataframe thead th {\n",
       "        text-align: right;\n",
       "    }\n",
       "</style>\n",
       "<table border=\"1\" class=\"dataframe\">\n",
       "  <thead>\n",
       "    <tr style=\"text-align: right;\">\n",
       "      <th></th>\n",
       "      <th>ID</th>\n",
       "      <th>survived</th>\n",
       "      <th>pclass</th>\n",
       "      <th>sex</th>\n",
       "      <th>age</th>\n",
       "      <th>sibsp</th>\n",
       "      <th>parch</th>\n",
       "      <th>fare</th>\n",
       "      <th>embarked</th>\n",
       "      <th>fare_log</th>\n",
       "      <th>fare_category</th>\n",
       "    </tr>\n",
       "  </thead>\n",
       "  <tbody>\n",
       "    <tr>\n",
       "      <th>0</th>\n",
       "      <td>1</td>\n",
       "      <td>0</td>\n",
       "      <td>3</td>\n",
       "      <td>0</td>\n",
       "      <td>22.0</td>\n",
       "      <td>1</td>\n",
       "      <td>0</td>\n",
       "      <td>7.2500</td>\n",
       "      <td>S</td>\n",
       "      <td>2.110213</td>\n",
       "      <td>1</td>\n",
       "    </tr>\n",
       "    <tr>\n",
       "      <th>1</th>\n",
       "      <td>3</td>\n",
       "      <td>1</td>\n",
       "      <td>3</td>\n",
       "      <td>1</td>\n",
       "      <td>26.0</td>\n",
       "      <td>0</td>\n",
       "      <td>0</td>\n",
       "      <td>7.9250</td>\n",
       "      <td>S</td>\n",
       "      <td>2.188856</td>\n",
       "      <td>1</td>\n",
       "    </tr>\n",
       "    <tr>\n",
       "      <th>2</th>\n",
       "      <td>4</td>\n",
       "      <td>1</td>\n",
       "      <td>1</td>\n",
       "      <td>1</td>\n",
       "      <td>35.0</td>\n",
       "      <td>1</td>\n",
       "      <td>0</td>\n",
       "      <td>53.1000</td>\n",
       "      <td>S</td>\n",
       "      <td>3.990834</td>\n",
       "      <td>4</td>\n",
       "    </tr>\n",
       "    <tr>\n",
       "      <th>3</th>\n",
       "      <td>5</td>\n",
       "      <td>0</td>\n",
       "      <td>3</td>\n",
       "      <td>0</td>\n",
       "      <td>35.0</td>\n",
       "      <td>0</td>\n",
       "      <td>0</td>\n",
       "      <td>8.0500</td>\n",
       "      <td>S</td>\n",
       "      <td>2.202765</td>\n",
       "      <td>1</td>\n",
       "    </tr>\n",
       "    <tr>\n",
       "      <th>4</th>\n",
       "      <td>7</td>\n",
       "      <td>0</td>\n",
       "      <td>1</td>\n",
       "      <td>0</td>\n",
       "      <td>54.0</td>\n",
       "      <td>0</td>\n",
       "      <td>0</td>\n",
       "      <td>51.8625</td>\n",
       "      <td>S</td>\n",
       "      <td>3.967694</td>\n",
       "      <td>4</td>\n",
       "    </tr>\n",
       "  </tbody>\n",
       "</table>\n",
       "</div>"
      ],
      "text/plain": [
       "   ID  survived  pclass  sex  ...     fare  embarked  fare_log  fare_category\n",
       "0   1         0       3    0  ...   7.2500         S  2.110213              1\n",
       "1   3         1       3    1  ...   7.9250         S  2.188856              1\n",
       "2   4         1       1    1  ...  53.1000         S  3.990834              4\n",
       "3   5         0       3    0  ...   8.0500         S  2.202765              1\n",
       "4   7         0       1    0  ...  51.8625         S  3.967694              4\n",
       "\n",
       "[5 rows x 11 columns]"
      ]
     },
     "execution_count": 53,
     "metadata": {},
     "output_type": "execute_result"
    }
   ],
   "source": [
    "#データの再読み込み\n",
    "train.head()"
   ]
  },
  {
   "cell_type": "code",
   "execution_count": null,
   "metadata": {
    "colab": {
     "base_uri": "https://localhost:8080/"
    },
    "id": "CakzRaVJvq9j",
    "outputId": "49422921-eda1-47d0-8c06-fd577d44ce0d"
   },
   "outputs": [
    {
     "name": "stdout",
     "output_type": "stream",
     "text": [
      "Age欠損 0.2932330827067669\n",
      "Age有値 0.4093457943925234\n",
      "Embarked欠損 1.0\n",
      "Embarked有値 0.3843843843843844\n"
     ]
    }
   ],
   "source": [
    "#AgeとEmbarked欠損の方のの生存率\n",
    "Age_null=train[train[\"age\"].isnull()]\n",
    "Embarked_null=train[train[\"embarked\"].isnull()]\n",
    "print(\"Age欠損\",Age_null[\"survived\"].mean())\n",
    "print(\"Age有値\",train.dropna(subset=[\"age\"])[\"survived\"].mean())\n",
    "print(\"Embarked欠損\",Embarked_null[\"survived\"].mean())\n",
    "print(\"Embarked有値\",train.dropna(subset=[\"embarked\"])[\"survived\"].mean())"
   ]
  },
  {
   "cell_type": "code",
   "execution_count": null,
   "metadata": {
    "colab": {
     "base_uri": "https://localhost:8080/",
     "height": 203
    },
    "id": "Zla5iV-j6L0e",
    "outputId": "20e216b1-59d4-4d2a-d55d-3bb29d71bf71"
   },
   "outputs": [
    {
     "data": {
      "text/html": [
       "<div>\n",
       "<style scoped>\n",
       "    .dataframe tbody tr th:only-of-type {\n",
       "        vertical-align: middle;\n",
       "    }\n",
       "\n",
       "    .dataframe tbody tr th {\n",
       "        vertical-align: top;\n",
       "    }\n",
       "\n",
       "    .dataframe thead th {\n",
       "        text-align: right;\n",
       "    }\n",
       "</style>\n",
       "<table border=\"1\" class=\"dataframe\">\n",
       "  <thead>\n",
       "    <tr style=\"text-align: right;\">\n",
       "      <th></th>\n",
       "      <th>ID</th>\n",
       "      <th>survived</th>\n",
       "      <th>pclass</th>\n",
       "      <th>sex</th>\n",
       "      <th>age</th>\n",
       "      <th>sibsp</th>\n",
       "      <th>parch</th>\n",
       "      <th>fare_log</th>\n",
       "      <th>child</th>\n",
       "      <th>embarked_Q</th>\n",
       "      <th>embarked_S</th>\n",
       "    </tr>\n",
       "  </thead>\n",
       "  <tbody>\n",
       "    <tr>\n",
       "      <th>0</th>\n",
       "      <td>1</td>\n",
       "      <td>0</td>\n",
       "      <td>3</td>\n",
       "      <td>0</td>\n",
       "      <td>22.0</td>\n",
       "      <td>1</td>\n",
       "      <td>0</td>\n",
       "      <td>2.110213</td>\n",
       "      <td>0</td>\n",
       "      <td>0</td>\n",
       "      <td>1</td>\n",
       "    </tr>\n",
       "    <tr>\n",
       "      <th>1</th>\n",
       "      <td>3</td>\n",
       "      <td>1</td>\n",
       "      <td>3</td>\n",
       "      <td>1</td>\n",
       "      <td>26.0</td>\n",
       "      <td>0</td>\n",
       "      <td>0</td>\n",
       "      <td>2.188856</td>\n",
       "      <td>0</td>\n",
       "      <td>0</td>\n",
       "      <td>1</td>\n",
       "    </tr>\n",
       "    <tr>\n",
       "      <th>2</th>\n",
       "      <td>4</td>\n",
       "      <td>1</td>\n",
       "      <td>1</td>\n",
       "      <td>1</td>\n",
       "      <td>35.0</td>\n",
       "      <td>1</td>\n",
       "      <td>0</td>\n",
       "      <td>3.990834</td>\n",
       "      <td>0</td>\n",
       "      <td>0</td>\n",
       "      <td>1</td>\n",
       "    </tr>\n",
       "    <tr>\n",
       "      <th>3</th>\n",
       "      <td>5</td>\n",
       "      <td>0</td>\n",
       "      <td>3</td>\n",
       "      <td>0</td>\n",
       "      <td>35.0</td>\n",
       "      <td>0</td>\n",
       "      <td>0</td>\n",
       "      <td>2.202765</td>\n",
       "      <td>0</td>\n",
       "      <td>0</td>\n",
       "      <td>1</td>\n",
       "    </tr>\n",
       "    <tr>\n",
       "      <th>4</th>\n",
       "      <td>7</td>\n",
       "      <td>0</td>\n",
       "      <td>1</td>\n",
       "      <td>0</td>\n",
       "      <td>54.0</td>\n",
       "      <td>0</td>\n",
       "      <td>0</td>\n",
       "      <td>3.967694</td>\n",
       "      <td>0</td>\n",
       "      <td>0</td>\n",
       "      <td>1</td>\n",
       "    </tr>\n",
       "  </tbody>\n",
       "</table>\n",
       "</div>"
      ],
      "text/plain": [
       "   ID  survived  pclass  sex  ...  fare_log  child  embarked_Q  embarked_S\n",
       "0   1         0       3    0  ...  2.110213      0           0           1\n",
       "1   3         1       3    1  ...  2.188856      0           0           1\n",
       "2   4         1       1    1  ...  3.990834      0           0           1\n",
       "3   5         0       3    0  ...  2.202765      0           0           1\n",
       "4   7         0       1    0  ...  3.967694      0           0           1\n",
       "\n",
       "[5 rows x 11 columns]"
      ]
     },
     "execution_count": 55,
     "metadata": {},
     "output_type": "execute_result"
    }
   ],
   "source": [
    "#前処理\n",
    "train_lr=train.drop([\"fare\",\"fare_category\"],1)\n",
    "test_lr=test.drop([\"fare\",\"fare_category\"],1)\n",
    "#Age欠損値補完\n",
    "train_lr[\"age\"]=train_lr[\"age\"].fillna(train_lr[\"age\"].median())\n",
    "test_lr[\"age\"]=test_lr[\"age\"].fillna(train_lr[\"age\"].median())\n",
    "#Embarkedの欠損は削除\n",
    "train_lr=train_lr.dropna()\n",
    "#Age<=6(小学生以下)を新しい変数に追加\n",
    "train_lr[\"child\"]=train_lr[\"age\"].apply(lambda x:1 if x<=6 else 0)\n",
    "test_lr[\"child\"]=test_lr[\"age\"].apply(lambda x:1 if x<=6 else 0)\n",
    "#ParchとSibSpは0と1以上でダミー化\n",
    "train_lr[\"parch\"]=train_lr[\"parch\"].apply(lambda x:1 if x>=1 else 0)\n",
    "train_lr[\"sibsp\"]=train_lr[\"sibsp\"].apply(lambda x:1 if x>=1 else 0)\n",
    "test_lr[\"parch\"]=test_lr[\"parch\"].apply(lambda x:1 if x>=1 else 0)\n",
    "test_lr[\"sibsp\"]=test_lr[\"sibsp\"].apply(lambda x:1 if x>=1 else 0)\n",
    "#Embarkedはダミー化\n",
    "train_lr=pd.get_dummies(train_lr,columns=[\"embarked\"],drop_first=True)\n",
    "test_lr=pd.get_dummies(test_lr,columns=[\"embarked\"],drop_first=True)\n",
    "train_lr.head()"
   ]
  },
  {
   "cell_type": "code",
   "execution_count": null,
   "metadata": {
    "colab": {
     "base_uri": "https://localhost:8080/"
    },
    "id": "-3O90JKtFLQx",
    "outputId": "ec06cc65-6100-4790-ba58-8711e8809585"
   },
   "outputs": [
    {
     "name": "stdout",
     "output_type": "stream",
     "text": [
      "accuracy= 0.7987431264728986\n"
     ]
    },
    {
     "name": "stderr",
     "output_type": "stream",
     "text": [
      "/usr/local/lib/python3.7/dist-packages/sklearn/linear_model/_logistic.py:940: ConvergenceWarning: lbfgs failed to converge (status=1):\n",
      "STOP: TOTAL NO. of ITERATIONS REACHED LIMIT.\n",
      "\n",
      "Increase the number of iterations (max_iter) or scale the data as shown in:\n",
      "    https://scikit-learn.org/stable/modules/preprocessing.html\n",
      "Please also refer to the documentation for alternative solver options:\n",
      "    https://scikit-learn.org/stable/modules/linear_model.html#logistic-regression\n",
      "  extra_warning_msg=_LOGISTIC_SOLVER_CONVERGENCE_MSG)\n",
      "/usr/local/lib/python3.7/dist-packages/sklearn/linear_model/_logistic.py:940: ConvergenceWarning: lbfgs failed to converge (status=1):\n",
      "STOP: TOTAL NO. of ITERATIONS REACHED LIMIT.\n",
      "\n",
      "Increase the number of iterations (max_iter) or scale the data as shown in:\n",
      "    https://scikit-learn.org/stable/modules/preprocessing.html\n",
      "Please also refer to the documentation for alternative solver options:\n",
      "    https://scikit-learn.org/stable/modules/linear_model.html#logistic-regression\n",
      "  extra_warning_msg=_LOGISTIC_SOLVER_CONVERGENCE_MSG)\n",
      "/usr/local/lib/python3.7/dist-packages/sklearn/linear_model/_logistic.py:940: ConvergenceWarning: lbfgs failed to converge (status=1):\n",
      "STOP: TOTAL NO. of ITERATIONS REACHED LIMIT.\n",
      "\n",
      "Increase the number of iterations (max_iter) or scale the data as shown in:\n",
      "    https://scikit-learn.org/stable/modules/preprocessing.html\n",
      "Please also refer to the documentation for alternative solver options:\n",
      "    https://scikit-learn.org/stable/modules/linear_model.html#logistic-regression\n",
      "  extra_warning_msg=_LOGISTIC_SOLVER_CONVERGENCE_MSG)\n",
      "/usr/local/lib/python3.7/dist-packages/sklearn/linear_model/_logistic.py:940: ConvergenceWarning: lbfgs failed to converge (status=1):\n",
      "STOP: TOTAL NO. of ITERATIONS REACHED LIMIT.\n",
      "\n",
      "Increase the number of iterations (max_iter) or scale the data as shown in:\n",
      "    https://scikit-learn.org/stable/modules/preprocessing.html\n",
      "Please also refer to the documentation for alternative solver options:\n",
      "    https://scikit-learn.org/stable/modules/linear_model.html#logistic-regression\n",
      "  extra_warning_msg=_LOGISTIC_SOLVER_CONVERGENCE_MSG)\n",
      "/usr/local/lib/python3.7/dist-packages/sklearn/linear_model/_logistic.py:940: ConvergenceWarning: lbfgs failed to converge (status=1):\n",
      "STOP: TOTAL NO. of ITERATIONS REACHED LIMIT.\n",
      "\n",
      "Increase the number of iterations (max_iter) or scale the data as shown in:\n",
      "    https://scikit-learn.org/stable/modules/preprocessing.html\n",
      "Please also refer to the documentation for alternative solver options:\n",
      "    https://scikit-learn.org/stable/modules/linear_model.html#logistic-regression\n",
      "  extra_warning_msg=_LOGISTIC_SOLVER_CONVERGENCE_MSG)\n"
     ]
    }
   ],
   "source": [
    "#ロジスティックモデル構築\n",
    "X=train_lr.drop([\"ID\",\"survived\"],1)\n",
    "y=train_lr[\"survived\"]\n",
    "from sklearn.model_selection import cross_val_score\n",
    "from sklearn.model_selection import KFold\n",
    "from sklearn.linear_model import LogisticRegression\n",
    "lr=LogisticRegression()\n",
    "kf=KFold(n_splits=5,shuffle=True,random_state=1)\n",
    "result=cross_val_score(lr,X,y,cv=kf);\n",
    "print(\"accuracy=\",result.mean())"
   ]
  },
  {
   "cell_type": "code",
   "execution_count": null,
   "metadata": {
    "colab": {
     "base_uri": "https://localhost:8080/",
     "height": 344
    },
    "id": "8eAk9yuQ8jfj",
    "outputId": "ab3939f8-2571-4702-f382-de398d6088ee"
   },
   "outputs": [
    {
     "name": "stderr",
     "output_type": "stream",
     "text": [
      "/usr/local/lib/python3.7/dist-packages/sklearn/linear_model/_logistic.py:940: ConvergenceWarning: lbfgs failed to converge (status=1):\n",
      "STOP: TOTAL NO. of ITERATIONS REACHED LIMIT.\n",
      "\n",
      "Increase the number of iterations (max_iter) or scale the data as shown in:\n",
      "    https://scikit-learn.org/stable/modules/preprocessing.html\n",
      "Please also refer to the documentation for alternative solver options:\n",
      "    https://scikit-learn.org/stable/modules/linear_model.html#logistic-regression\n",
      "  extra_warning_msg=_LOGISTIC_SOLVER_CONVERGENCE_MSG)\n"
     ]
    },
    {
     "data": {
      "text/html": [
       "<div>\n",
       "<style scoped>\n",
       "    .dataframe tbody tr th:only-of-type {\n",
       "        vertical-align: middle;\n",
       "    }\n",
       "\n",
       "    .dataframe tbody tr th {\n",
       "        vertical-align: top;\n",
       "    }\n",
       "\n",
       "    .dataframe thead th {\n",
       "        text-align: right;\n",
       "    }\n",
       "</style>\n",
       "<table border=\"1\" class=\"dataframe\">\n",
       "  <thead>\n",
       "    <tr style=\"text-align: right;\">\n",
       "      <th></th>\n",
       "      <th>ID</th>\n",
       "      <th>pclass</th>\n",
       "      <th>sex</th>\n",
       "      <th>age</th>\n",
       "      <th>sibsp</th>\n",
       "      <th>parch</th>\n",
       "      <th>fare_log</th>\n",
       "      <th>child</th>\n",
       "      <th>embarked_Q</th>\n",
       "      <th>embarked_S</th>\n",
       "      <th>survived</th>\n",
       "    </tr>\n",
       "  </thead>\n",
       "  <tbody>\n",
       "    <tr>\n",
       "      <th>0</th>\n",
       "      <td>2</td>\n",
       "      <td>1</td>\n",
       "      <td>1</td>\n",
       "      <td>38.0</td>\n",
       "      <td>1</td>\n",
       "      <td>0</td>\n",
       "      <td>4.280593</td>\n",
       "      <td>0</td>\n",
       "      <td>0</td>\n",
       "      <td>0</td>\n",
       "      <td>1</td>\n",
       "    </tr>\n",
       "    <tr>\n",
       "      <th>1</th>\n",
       "      <td>6</td>\n",
       "      <td>3</td>\n",
       "      <td>0</td>\n",
       "      <td>29.0</td>\n",
       "      <td>0</td>\n",
       "      <td>0</td>\n",
       "      <td>2.246893</td>\n",
       "      <td>0</td>\n",
       "      <td>1</td>\n",
       "      <td>0</td>\n",
       "      <td>0</td>\n",
       "    </tr>\n",
       "    <tr>\n",
       "      <th>2</th>\n",
       "      <td>9</td>\n",
       "      <td>3</td>\n",
       "      <td>1</td>\n",
       "      <td>27.0</td>\n",
       "      <td>0</td>\n",
       "      <td>1</td>\n",
       "      <td>2.495954</td>\n",
       "      <td>0</td>\n",
       "      <td>0</td>\n",
       "      <td>1</td>\n",
       "      <td>1</td>\n",
       "    </tr>\n",
       "    <tr>\n",
       "      <th>3</th>\n",
       "      <td>11</td>\n",
       "      <td>3</td>\n",
       "      <td>1</td>\n",
       "      <td>4.0</td>\n",
       "      <td>1</td>\n",
       "      <td>1</td>\n",
       "      <td>2.873565</td>\n",
       "      <td>1</td>\n",
       "      <td>0</td>\n",
       "      <td>1</td>\n",
       "      <td>1</td>\n",
       "    </tr>\n",
       "    <tr>\n",
       "      <th>4</th>\n",
       "      <td>15</td>\n",
       "      <td>3</td>\n",
       "      <td>1</td>\n",
       "      <td>14.0</td>\n",
       "      <td>0</td>\n",
       "      <td>0</td>\n",
       "      <td>2.180892</td>\n",
       "      <td>0</td>\n",
       "      <td>0</td>\n",
       "      <td>1</td>\n",
       "      <td>1</td>\n",
       "    </tr>\n",
       "  </tbody>\n",
       "</table>\n",
       "</div>"
      ],
      "text/plain": [
       "   ID  pclass  sex   age  ...  child  embarked_Q  embarked_S  survived\n",
       "0   2       1    1  38.0  ...      0           0           0         1\n",
       "1   6       3    0  29.0  ...      0           1           0         0\n",
       "2   9       3    1  27.0  ...      0           0           1         1\n",
       "3  11       3    1   4.0  ...      1           0           1         1\n",
       "4  15       3    1  14.0  ...      0           0           1         1\n",
       "\n",
       "[5 rows x 11 columns]"
      ]
     },
     "metadata": {},
     "output_type": "display_data"
    }
   ],
   "source": [
    "#予測値作成\n",
    "test_X=test_lr.drop(\"ID\",1)\n",
    "lr=LogisticRegression()\n",
    "lr.fit(X,y)\n",
    "test_lr[\"survived\"]=lr.predict(test_X)\n",
    "display(test_lr.head())\n",
    "df_submit=test_lr[[\"ID\",\"survived\"]]\n",
    "df_submit.columns=[\"ID\",\"y\"]\n",
    "df_submit.to_csv(\"titanic_submit2.csv\",index=False)"
   ]
  },
  {
   "cell_type": "code",
   "execution_count": null,
   "metadata": {
    "colab": {
     "base_uri": "https://localhost:8080/",
     "height": 457
    },
    "id": "B4xbJZClo2no",
    "outputId": "cdbc5b3f-3332-451d-be8e-80c5c1f7bc07"
   },
   "outputs": [
    {
     "name": "stdout",
     "output_type": "stream",
     "text": [
      "Optimization terminated successfully.\n",
      "         Current function value: 0.449713\n",
      "         Iterations 6\n"
     ]
    },
    {
     "data": {
      "text/html": [
       "<table class=\"simpletable\">\n",
       "<caption>Logit Regression Results</caption>\n",
       "<tr>\n",
       "  <th>Dep. Variable:</th>       <td>survived</td>     <th>  No. Observations:  </th>  <td>   666</td>  \n",
       "</tr>\n",
       "<tr>\n",
       "  <th>Model:</th>                 <td>Logit</td>      <th>  Df Residuals:      </th>  <td>   656</td>  \n",
       "</tr>\n",
       "<tr>\n",
       "  <th>Method:</th>                 <td>MLE</td>       <th>  Df Model:          </th>  <td>     9</td>  \n",
       "</tr>\n",
       "<tr>\n",
       "  <th>Date:</th>            <td>Sat, 30 Oct 2021</td> <th>  Pseudo R-squ.:     </th>  <td>0.3249</td>  \n",
       "</tr>\n",
       "<tr>\n",
       "  <th>Time:</th>                <td>12:02:05</td>     <th>  Log-Likelihood:    </th> <td> -299.51</td> \n",
       "</tr>\n",
       "<tr>\n",
       "  <th>converged:</th>             <td>True</td>       <th>  LL-Null:           </th> <td> -443.67</td> \n",
       "</tr>\n",
       "<tr>\n",
       "  <th>Covariance Type:</th>     <td>nonrobust</td>    <th>  LLR p-value:       </th> <td>7.817e-57</td>\n",
       "</tr>\n",
       "</table>\n",
       "<table class=\"simpletable\">\n",
       "<tr>\n",
       "       <td></td>         <th>coef</th>     <th>std err</th>      <th>z</th>      <th>P>|z|</th>  <th>[0.025</th>    <th>0.975]</th>  \n",
       "</tr>\n",
       "<tr>\n",
       "  <th>const</th>      <td>    2.1997</td> <td>    0.923</td> <td>    2.383</td> <td> 0.017</td> <td>    0.390</td> <td>    4.009</td>\n",
       "</tr>\n",
       "<tr>\n",
       "  <th>pclass</th>     <td>   -1.0765</td> <td>    0.182</td> <td>   -5.919</td> <td> 0.000</td> <td>   -1.433</td> <td>   -0.720</td>\n",
       "</tr>\n",
       "<tr>\n",
       "  <th>sex</th>        <td>    2.7006</td> <td>    0.233</td> <td>   11.586</td> <td> 0.000</td> <td>    2.244</td> <td>    3.157</td>\n",
       "</tr>\n",
       "<tr>\n",
       "  <th>age</th>        <td>   -0.0224</td> <td>    0.010</td> <td>   -2.226</td> <td> 0.026</td> <td>   -0.042</td> <td>   -0.003</td>\n",
       "</tr>\n",
       "<tr>\n",
       "  <th>sibsp</th>      <td>   -0.1369</td> <td>    0.256</td> <td>   -0.535</td> <td> 0.593</td> <td>   -0.639</td> <td>    0.365</td>\n",
       "</tr>\n",
       "<tr>\n",
       "  <th>parch</th>      <td>   -0.3109</td> <td>    0.302</td> <td>   -1.031</td> <td> 0.303</td> <td>   -0.902</td> <td>    0.280</td>\n",
       "</tr>\n",
       "<tr>\n",
       "  <th>fare_log</th>   <td>   -0.0512</td> <td>    0.165</td> <td>   -0.310</td> <td> 0.757</td> <td>   -0.375</td> <td>    0.273</td>\n",
       "</tr>\n",
       "<tr>\n",
       "  <th>child</th>      <td>    1.4177</td> <td>    0.552</td> <td>    2.566</td> <td> 0.010</td> <td>    0.335</td> <td>    2.500</td>\n",
       "</tr>\n",
       "<tr>\n",
       "  <th>embarked_Q</th> <td>   -0.1273</td> <td>    0.436</td> <td>   -0.292</td> <td> 0.770</td> <td>   -0.981</td> <td>    0.726</td>\n",
       "</tr>\n",
       "<tr>\n",
       "  <th>embarked_S</th> <td>   -0.5618</td> <td>    0.283</td> <td>   -1.985</td> <td> 0.047</td> <td>   -1.117</td> <td>   -0.007</td>\n",
       "</tr>\n",
       "</table>"
      ],
      "text/plain": [
       "<class 'statsmodels.iolib.summary.Summary'>\n",
       "\"\"\"\n",
       "                           Logit Regression Results                           \n",
       "==============================================================================\n",
       "Dep. Variable:               survived   No. Observations:                  666\n",
       "Model:                          Logit   Df Residuals:                      656\n",
       "Method:                           MLE   Df Model:                            9\n",
       "Date:                Sat, 30 Oct 2021   Pseudo R-squ.:                  0.3249\n",
       "Time:                        12:02:05   Log-Likelihood:                -299.51\n",
       "converged:                       True   LL-Null:                       -443.67\n",
       "Covariance Type:            nonrobust   LLR p-value:                 7.817e-57\n",
       "==============================================================================\n",
       "                 coef    std err          z      P>|z|      [0.025      0.975]\n",
       "------------------------------------------------------------------------------\n",
       "const          2.1997      0.923      2.383      0.017       0.390       4.009\n",
       "pclass        -1.0765      0.182     -5.919      0.000      -1.433      -0.720\n",
       "sex            2.7006      0.233     11.586      0.000       2.244       3.157\n",
       "age           -0.0224      0.010     -2.226      0.026      -0.042      -0.003\n",
       "sibsp         -0.1369      0.256     -0.535      0.593      -0.639       0.365\n",
       "parch         -0.3109      0.302     -1.031      0.303      -0.902       0.280\n",
       "fare_log      -0.0512      0.165     -0.310      0.757      -0.375       0.273\n",
       "child          1.4177      0.552      2.566      0.010       0.335       2.500\n",
       "embarked_Q    -0.1273      0.436     -0.292      0.770      -0.981       0.726\n",
       "embarked_S    -0.5618      0.283     -1.985      0.047      -1.117      -0.007\n",
       "==============================================================================\n",
       "\"\"\""
      ]
     },
     "execution_count": 58,
     "metadata": {},
     "output_type": "execute_result"
    }
   ],
   "source": [
    "#回帰係数\n",
    "import statsmodels.api as sm\n",
    "X=X\n",
    "X2=sm.add_constant(X)\n",
    "y=y\n",
    "lr=sm.Logit(y,X2)\n",
    "result=lr.fit()\n",
    "result.summary()"
   ]
  },
  {
   "cell_type": "code",
   "execution_count": null,
   "metadata": {
    "colab": {
     "base_uri": "https://localhost:8080/"
    },
    "id": "Hm30kxLkppXB",
    "outputId": "cf3f4ae7-0fa6-40c5-e98d-c1e087c22f99"
   },
   "outputs": [
    {
     "data": {
      "text/plain": [
       "pclass         0.340795\n",
       "sex           14.888231\n",
       "age            0.977809\n",
       "sibsp          0.872046\n",
       "parch          0.732760\n",
       "fare_log       0.950092\n",
       "child          4.127617\n",
       "embarked_Q     0.880465\n",
       "embarked_S     0.570177\n",
       "dtype: float64"
      ]
     },
     "execution_count": 59,
     "metadata": {},
     "output_type": "execute_result"
    }
   ],
   "source": [
    "#オッズ比\n",
    "np.exp(result.params)[1:]"
   ]
  },
  {
   "cell_type": "code",
   "execution_count": null,
   "metadata": {
    "colab": {
     "base_uri": "https://localhost:8080/",
     "height": 457
    },
    "id": "B6S39UePqngY",
    "outputId": "d0c4d5a0-8f64-4502-acf9-b96083ecc0da"
   },
   "outputs": [
    {
     "name": "stdout",
     "output_type": "stream",
     "text": [
      "Optimization terminated successfully.\n",
      "         Current function value: 0.449713\n",
      "         Iterations 6\n"
     ]
    },
    {
     "data": {
      "text/html": [
       "<table class=\"simpletable\">\n",
       "<caption>Logit Regression Results</caption>\n",
       "<tr>\n",
       "  <th>Dep. Variable:</th>       <td>survived</td>     <th>  No. Observations:  </th>  <td>   666</td>  \n",
       "</tr>\n",
       "<tr>\n",
       "  <th>Model:</th>                 <td>Logit</td>      <th>  Df Residuals:      </th>  <td>   656</td>  \n",
       "</tr>\n",
       "<tr>\n",
       "  <th>Method:</th>                 <td>MLE</td>       <th>  Df Model:          </th>  <td>     9</td>  \n",
       "</tr>\n",
       "<tr>\n",
       "  <th>Date:</th>            <td>Sat, 30 Oct 2021</td> <th>  Pseudo R-squ.:     </th>  <td>0.3249</td>  \n",
       "</tr>\n",
       "<tr>\n",
       "  <th>Time:</th>                <td>12:02:05</td>     <th>  Log-Likelihood:    </th> <td> -299.51</td> \n",
       "</tr>\n",
       "<tr>\n",
       "  <th>converged:</th>             <td>True</td>       <th>  LL-Null:           </th> <td> -443.67</td> \n",
       "</tr>\n",
       "<tr>\n",
       "  <th>Covariance Type:</th>     <td>nonrobust</td>    <th>  LLR p-value:       </th> <td>7.817e-57</td>\n",
       "</tr>\n",
       "</table>\n",
       "<table class=\"simpletable\">\n",
       "<tr>\n",
       "       <td></td>         <th>coef</th>     <th>std err</th>      <th>z</th>      <th>P>|z|</th>  <th>[0.025</th>    <th>0.975]</th>  \n",
       "</tr>\n",
       "<tr>\n",
       "  <th>const</th>      <td>   -0.6377</td> <td>    0.105</td> <td>   -6.102</td> <td> 0.000</td> <td>   -0.843</td> <td>   -0.433</td>\n",
       "</tr>\n",
       "<tr>\n",
       "  <th>pclass</th>     <td>   -0.8995</td> <td>    0.152</td> <td>   -5.919</td> <td> 0.000</td> <td>   -1.197</td> <td>   -0.602</td>\n",
       "</tr>\n",
       "<tr>\n",
       "  <th>sex</th>        <td>    1.2837</td> <td>    0.111</td> <td>   11.586</td> <td> 0.000</td> <td>    1.067</td> <td>    1.501</td>\n",
       "</tr>\n",
       "<tr>\n",
       "  <th>age</th>        <td>   -0.2900</td> <td>    0.130</td> <td>   -2.226</td> <td> 0.026</td> <td>   -0.545</td> <td>   -0.035</td>\n",
       "</tr>\n",
       "<tr>\n",
       "  <th>sibsp</th>      <td>   -0.0637</td> <td>    0.119</td> <td>   -0.535</td> <td> 0.593</td> <td>   -0.297</td> <td>    0.170</td>\n",
       "</tr>\n",
       "<tr>\n",
       "  <th>parch</th>      <td>   -0.1332</td> <td>    0.129</td> <td>   -1.031</td> <td> 0.303</td> <td>   -0.387</td> <td>    0.120</td>\n",
       "</tr>\n",
       "<tr>\n",
       "  <th>fare_log</th>   <td>   -0.0489</td> <td>    0.158</td> <td>   -0.310</td> <td> 0.757</td> <td>   -0.358</td> <td>    0.261</td>\n",
       "</tr>\n",
       "<tr>\n",
       "  <th>child</th>      <td>    0.3291</td> <td>    0.128</td> <td>    2.566</td> <td> 0.010</td> <td>    0.078</td> <td>    0.580</td>\n",
       "</tr>\n",
       "<tr>\n",
       "  <th>embarked_Q</th> <td>   -0.0365</td> <td>    0.125</td> <td>   -0.292</td> <td> 0.770</td> <td>   -0.281</td> <td>    0.208</td>\n",
       "</tr>\n",
       "<tr>\n",
       "  <th>embarked_S</th> <td>   -0.2479</td> <td>    0.125</td> <td>   -1.985</td> <td> 0.047</td> <td>   -0.493</td> <td>   -0.003</td>\n",
       "</tr>\n",
       "</table>"
      ],
      "text/plain": [
       "<class 'statsmodels.iolib.summary.Summary'>\n",
       "\"\"\"\n",
       "                           Logit Regression Results                           \n",
       "==============================================================================\n",
       "Dep. Variable:               survived   No. Observations:                  666\n",
       "Model:                          Logit   Df Residuals:                      656\n",
       "Method:                           MLE   Df Model:                            9\n",
       "Date:                Sat, 30 Oct 2021   Pseudo R-squ.:                  0.3249\n",
       "Time:                        12:02:05   Log-Likelihood:                -299.51\n",
       "converged:                       True   LL-Null:                       -443.67\n",
       "Covariance Type:            nonrobust   LLR p-value:                 7.817e-57\n",
       "==============================================================================\n",
       "                 coef    std err          z      P>|z|      [0.025      0.975]\n",
       "------------------------------------------------------------------------------\n",
       "const         -0.6377      0.105     -6.102      0.000      -0.843      -0.433\n",
       "pclass        -0.8995      0.152     -5.919      0.000      -1.197      -0.602\n",
       "sex            1.2837      0.111     11.586      0.000       1.067       1.501\n",
       "age           -0.2900      0.130     -2.226      0.026      -0.545      -0.035\n",
       "sibsp         -0.0637      0.119     -0.535      0.593      -0.297       0.170\n",
       "parch         -0.1332      0.129     -1.031      0.303      -0.387       0.120\n",
       "fare_log      -0.0489      0.158     -0.310      0.757      -0.358       0.261\n",
       "child          0.3291      0.128      2.566      0.010       0.078       0.580\n",
       "embarked_Q    -0.0365      0.125     -0.292      0.770      -0.281       0.208\n",
       "embarked_S    -0.2479      0.125     -1.985      0.047      -0.493      -0.003\n",
       "==============================================================================\n",
       "\"\"\""
      ]
     },
     "execution_count": 60,
     "metadata": {},
     "output_type": "execute_result"
    }
   ],
   "source": [
    "#標準化回帰係数\n",
    "import statsmodels.api as sm\n",
    "X=(X-X.mean())/X.std()\n",
    "X=X\n",
    "X2=sm.add_constant(X)\n",
    "y=y\n",
    "lr=sm.Logit(y,X2)\n",
    "result=lr.fit()\n",
    "result.summary()"
   ]
  }
 ],
 "metadata": {
  "colab": {
   "collapsed_sections": [],
   "name": "Titanic.ipynb",
   "provenance": []
  },
  "kernelspec": {
   "display_name": "Python 3",
   "language": "python",
   "name": "python3"
  },
  "language_info": {
   "codemirror_mode": {
    "name": "ipython",
    "version": 3
   },
   "file_extension": ".py",
   "mimetype": "text/x-python",
   "name": "python",
   "nbconvert_exporter": "python",
   "pygments_lexer": "ipython3",
   "version": "3.8.8"
  }
 },
 "nbformat": 4,
 "nbformat_minor": 4
}
