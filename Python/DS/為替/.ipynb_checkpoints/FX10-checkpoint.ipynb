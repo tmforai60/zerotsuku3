{
 "cells": [
  {
   "cell_type": "code",
   "execution_count": 1301,
   "id": "4864a99e-110a-495c-a9f0-684fca0c97ce",
   "metadata": {},
   "outputs": [],
   "source": [
    "# ライブラリの取得\n",
    "import pandas as pd\n",
    "import numpy as np\n",
    "%matplotlib inline\n",
    "import matplotlib.pyplot as plt\n",
    "import seaborn as sns\n",
    "# sns.set(font=\"IPAexGothic\",style=\"white\")　多分いらなそう\n",
    "# import oandapy\n",
    "import configparser\n",
    "import datetime\n",
    "from datetime import datetime, timedelta\n",
    "\n",
    "import warnings\n",
    "warnings.simplefilter('ignore')\n",
    "\n",
    "# CSVデータの読み込み\n",
    "import os\n",
    "working_directory=os.getcwd()\n",
    "#print(working_directory)\n",
    "path_train=working_directory+'/train_finance.csv'\n",
    "path_test=working_directory+'/test_finance.csv'\n",
    "# path_test=working_directory+'/test_finance_last10elminate.csv'\n",
    "path_latest=working_directory+'/test_latest.csv'\n",
    "path_submit=working_directory+'/submit_finance.csv'\n",
    "\n",
    "#データフレームの生成\n",
    "df_train=pd.read_csv(path_train)\n",
    "df_test=pd.read_csv(path_test)\n",
    "df_latest=pd.read_csv(path_latest)\n",
    "df_submit=pd.read_csv(path_submit)"
   ]
  },
  {
   "cell_type": "code",
   "execution_count": 1302,
   "id": "cda3ee1f-2d6e-41d0-873b-b64a30a6b21c",
   "metadata": {},
   "outputs": [
    {
     "name": "stdout",
     "output_type": "stream",
     "text": [
      "<class 'pandas.core.frame.DataFrame'>\n",
      "RangeIndex: 2074 entries, 0 to 2073\n",
      "Data columns (total 5 columns):\n",
      " #   Column  Non-Null Count  Dtype  \n",
      "---  ------  --------------  -----  \n",
      " 0   Date    2074 non-null   object \n",
      " 1   High    2074 non-null   float64\n",
      " 2   Low     2074 non-null   float64\n",
      " 3   Open    2074 non-null   float64\n",
      " 4   Close   2074 non-null   float64\n",
      "dtypes: float64(4), object(1)\n",
      "memory usage: 81.1+ KB\n"
     ]
    }
   ],
   "source": [
    "#データの確認\n",
    "df_train.info()"
   ]
  },
  {
   "cell_type": "code",
   "execution_count": 1303,
   "id": "146a3528-e6c1-472b-8cd9-2e05a050fa99",
   "metadata": {},
   "outputs": [
    {
     "name": "stdout",
     "output_type": "stream",
     "text": [
      "<class 'pandas.core.frame.DataFrame'>\n",
      "RangeIndex: 1246 entries, 0 to 1245\n",
      "Data columns (total 5 columns):\n",
      " #   Column  Non-Null Count  Dtype  \n",
      "---  ------  --------------  -----  \n",
      " 0   Date    1246 non-null   object \n",
      " 1   High    1246 non-null   float64\n",
      " 2   Low     1246 non-null   float64\n",
      " 3   Open    1246 non-null   float64\n",
      " 4   Close   1246 non-null   float64\n",
      "dtypes: float64(4), object(1)\n",
      "memory usage: 48.8+ KB\n"
     ]
    }
   ],
   "source": [
    "#データの確認\n",
    "df_test.info()"
   ]
  },
  {
   "cell_type": "code",
   "execution_count": 1304,
   "id": "8ea6a89a-4d2b-4ed9-8e79-5fd8744dc710",
   "metadata": {},
   "outputs": [],
   "source": [
    "# Dateがobject型になっているので日付型に変換\n",
    "df_train['Date']=pd.to_datetime(df_train['Date'],format='%Y/%m/%d')\n",
    "df_test['Date']=pd.to_datetime(df_test['Date'],format='%Y/%m/%d')\n",
    "df_latest['Date']=pd.to_datetime(df_latest['Date'],format='%Y/%m/%d')"
   ]
  },
  {
   "cell_type": "code",
   "execution_count": 1305,
   "id": "ab2a3032-d16e-4b68-a754-37b4a23234e1",
   "metadata": {},
   "outputs": [],
   "source": [
    "# fig = plt.subplots(figsize=(30,10))\n",
    "# plt.plot(df_train)"
   ]
  },
  {
   "cell_type": "code",
   "execution_count": 1306,
   "id": "0256c483-4656-492b-b74c-4ba31d1417b5",
   "metadata": {},
   "outputs": [
    {
     "data": {
      "text/html": [
       "<div>\n",
       "<style scoped>\n",
       "    .dataframe tbody tr th:only-of-type {\n",
       "        vertical-align: middle;\n",
       "    }\n",
       "\n",
       "    .dataframe tbody tr th {\n",
       "        vertical-align: top;\n",
       "    }\n",
       "\n",
       "    .dataframe thead th {\n",
       "        text-align: right;\n",
       "    }\n",
       "</style>\n",
       "<table border=\"1\" class=\"dataframe\">\n",
       "  <thead>\n",
       "    <tr style=\"text-align: right;\">\n",
       "      <th></th>\n",
       "      <th>Date</th>\n",
       "      <th>High</th>\n",
       "      <th>Low</th>\n",
       "      <th>Open</th>\n",
       "      <th>Close</th>\n",
       "    </tr>\n",
       "  </thead>\n",
       "  <tbody>\n",
       "    <tr>\n",
       "      <th>0</th>\n",
       "      <td>2003-12-01</td>\n",
       "      <td>111.370639</td>\n",
       "      <td>110.482062</td>\n",
       "      <td>111.314347</td>\n",
       "      <td>110.676377</td>\n",
       "    </tr>\n",
       "    <tr>\n",
       "      <th>1</th>\n",
       "      <td>2003-12-02</td>\n",
       "      <td>112.008532</td>\n",
       "      <td>110.500532</td>\n",
       "      <td>110.639316</td>\n",
       "      <td>111.823016</td>\n",
       "    </tr>\n",
       "    <tr>\n",
       "      <th>2</th>\n",
       "      <td>2003-12-03</td>\n",
       "      <td>112.202814</td>\n",
       "      <td>111.712284</td>\n",
       "      <td>111.832477</td>\n",
       "      <td>112.137524</td>\n",
       "    </tr>\n",
       "    <tr>\n",
       "      <th>3</th>\n",
       "      <td>2003-12-04</td>\n",
       "      <td>112.332259</td>\n",
       "      <td>111.406851</td>\n",
       "      <td>112.110343</td>\n",
       "      <td>111.748717</td>\n",
       "    </tr>\n",
       "    <tr>\n",
       "      <th>4</th>\n",
       "      <td>2003-12-05</td>\n",
       "      <td>112.766375</td>\n",
       "      <td>111.609834</td>\n",
       "      <td>111.721723</td>\n",
       "      <td>112.729259</td>\n",
       "    </tr>\n",
       "    <tr>\n",
       "      <th>...</th>\n",
       "      <td>...</td>\n",
       "      <td>...</td>\n",
       "      <td>...</td>\n",
       "      <td>...</td>\n",
       "      <td>...</td>\n",
       "    </tr>\n",
       "    <tr>\n",
       "      <th>2069</th>\n",
       "      <td>2011-12-08</td>\n",
       "      <td>124.476855</td>\n",
       "      <td>123.126484</td>\n",
       "      <td>123.959751</td>\n",
       "      <td>123.984661</td>\n",
       "    </tr>\n",
       "    <tr>\n",
       "      <th>2070</th>\n",
       "      <td>2011-12-09</td>\n",
       "      <td>124.227770</td>\n",
       "      <td>122.895824</td>\n",
       "      <td>123.445260</td>\n",
       "      <td>123.445260</td>\n",
       "    </tr>\n",
       "    <tr>\n",
       "      <th>2071</th>\n",
       "      <td>2011-12-12</td>\n",
       "      <td>123.745819</td>\n",
       "      <td>122.202555</td>\n",
       "      <td>123.681290</td>\n",
       "      <td>123.687906</td>\n",
       "    </tr>\n",
       "    <tr>\n",
       "      <th>2072</th>\n",
       "      <td>2011-12-13</td>\n",
       "      <td>122.393352</td>\n",
       "      <td>121.174807</td>\n",
       "      <td>121.782641</td>\n",
       "      <td>121.832361</td>\n",
       "    </tr>\n",
       "    <tr>\n",
       "      <th>2073</th>\n",
       "      <td>2011-12-14</td>\n",
       "      <td>120.796608</td>\n",
       "      <td>119.824855</td>\n",
       "      <td>120.508620</td>\n",
       "      <td>120.427021</td>\n",
       "    </tr>\n",
       "  </tbody>\n",
       "</table>\n",
       "<p>2074 rows × 5 columns</p>\n",
       "</div>"
      ],
      "text/plain": [
       "           Date        High         Low        Open       Close\n",
       "0    2003-12-01  111.370639  110.482062  111.314347  110.676377\n",
       "1    2003-12-02  112.008532  110.500532  110.639316  111.823016\n",
       "2    2003-12-03  112.202814  111.712284  111.832477  112.137524\n",
       "3    2003-12-04  112.332259  111.406851  112.110343  111.748717\n",
       "4    2003-12-05  112.766375  111.609834  111.721723  112.729259\n",
       "...         ...         ...         ...         ...         ...\n",
       "2069 2011-12-08  124.476855  123.126484  123.959751  123.984661\n",
       "2070 2011-12-09  124.227770  122.895824  123.445260  123.445260\n",
       "2071 2011-12-12  123.745819  122.202555  123.681290  123.687906\n",
       "2072 2011-12-13  122.393352  121.174807  121.782641  121.832361\n",
       "2073 2011-12-14  120.796608  119.824855  120.508620  120.427021\n",
       "\n",
       "[2074 rows x 5 columns]"
      ]
     },
     "execution_count": 1306,
     "metadata": {},
     "output_type": "execute_result"
    }
   ],
   "source": [
    "df_train"
   ]
  },
  {
   "cell_type": "code",
   "execution_count": null,
   "id": "3bf2d0dd-71a4-49da-8934-99b28974a48a",
   "metadata": {},
   "outputs": [],
   "source": []
  },
  {
   "cell_type": "code",
   "execution_count": null,
   "id": "7da7faf8-1581-4d96-8407-3467430efc80",
   "metadata": {},
   "outputs": [],
   "source": []
  },
  {
   "cell_type": "code",
   "execution_count": 1307,
   "id": "471d0282-595c-43a4-8ca9-7c9c59bcff1f",
   "metadata": {},
   "outputs": [
    {
     "data": {
      "text/html": [
       "<div>\n",
       "<style scoped>\n",
       "    .dataframe tbody tr th:only-of-type {\n",
       "        vertical-align: middle;\n",
       "    }\n",
       "\n",
       "    .dataframe tbody tr th {\n",
       "        vertical-align: top;\n",
       "    }\n",
       "\n",
       "    .dataframe thead th {\n",
       "        text-align: right;\n",
       "    }\n",
       "</style>\n",
       "<table border=\"1\" class=\"dataframe\">\n",
       "  <thead>\n",
       "    <tr style=\"text-align: right;\">\n",
       "      <th></th>\n",
       "      <th>Date</th>\n",
       "      <th>High</th>\n",
       "      <th>Low</th>\n",
       "      <th>Open</th>\n",
       "      <th>Close</th>\n",
       "    </tr>\n",
       "  </thead>\n",
       "  <tbody>\n",
       "    <tr>\n",
       "      <th>0</th>\n",
       "      <td>2003-12-01</td>\n",
       "      <td>111.370639</td>\n",
       "      <td>110.482062</td>\n",
       "      <td>111.314347</td>\n",
       "      <td>110.676377</td>\n",
       "    </tr>\n",
       "    <tr>\n",
       "      <th>1</th>\n",
       "      <td>2003-12-02</td>\n",
       "      <td>112.008532</td>\n",
       "      <td>110.500532</td>\n",
       "      <td>110.639316</td>\n",
       "      <td>111.823016</td>\n",
       "    </tr>\n",
       "    <tr>\n",
       "      <th>2</th>\n",
       "      <td>2003-12-03</td>\n",
       "      <td>112.202814</td>\n",
       "      <td>111.712284</td>\n",
       "      <td>111.832477</td>\n",
       "      <td>112.137524</td>\n",
       "    </tr>\n",
       "    <tr>\n",
       "      <th>3</th>\n",
       "      <td>2003-12-04</td>\n",
       "      <td>112.332259</td>\n",
       "      <td>111.406851</td>\n",
       "      <td>112.110343</td>\n",
       "      <td>111.748717</td>\n",
       "    </tr>\n",
       "    <tr>\n",
       "      <th>4</th>\n",
       "      <td>2003-12-05</td>\n",
       "      <td>112.766375</td>\n",
       "      <td>111.609834</td>\n",
       "      <td>111.721723</td>\n",
       "      <td>112.729259</td>\n",
       "    </tr>\n",
       "    <tr>\n",
       "      <th>...</th>\n",
       "      <td>...</td>\n",
       "      <td>...</td>\n",
       "      <td>...</td>\n",
       "      <td>...</td>\n",
       "      <td>...</td>\n",
       "    </tr>\n",
       "    <tr>\n",
       "      <th>2069</th>\n",
       "      <td>2011-12-08</td>\n",
       "      <td>124.476855</td>\n",
       "      <td>123.126484</td>\n",
       "      <td>123.959751</td>\n",
       "      <td>123.984661</td>\n",
       "    </tr>\n",
       "    <tr>\n",
       "      <th>2070</th>\n",
       "      <td>2011-12-09</td>\n",
       "      <td>124.227770</td>\n",
       "      <td>122.895824</td>\n",
       "      <td>123.445260</td>\n",
       "      <td>123.445260</td>\n",
       "    </tr>\n",
       "    <tr>\n",
       "      <th>2071</th>\n",
       "      <td>2011-12-12</td>\n",
       "      <td>123.745819</td>\n",
       "      <td>122.202555</td>\n",
       "      <td>123.681290</td>\n",
       "      <td>123.687906</td>\n",
       "    </tr>\n",
       "    <tr>\n",
       "      <th>2072</th>\n",
       "      <td>2011-12-13</td>\n",
       "      <td>122.393352</td>\n",
       "      <td>121.174807</td>\n",
       "      <td>121.782641</td>\n",
       "      <td>121.832361</td>\n",
       "    </tr>\n",
       "    <tr>\n",
       "      <th>2073</th>\n",
       "      <td>2011-12-14</td>\n",
       "      <td>120.796608</td>\n",
       "      <td>119.824855</td>\n",
       "      <td>120.508620</td>\n",
       "      <td>120.427021</td>\n",
       "    </tr>\n",
       "  </tbody>\n",
       "</table>\n",
       "<p>2074 rows × 5 columns</p>\n",
       "</div>"
      ],
      "text/plain": [
       "           Date        High         Low        Open       Close\n",
       "0    2003-12-01  111.370639  110.482062  111.314347  110.676377\n",
       "1    2003-12-02  112.008532  110.500532  110.639316  111.823016\n",
       "2    2003-12-03  112.202814  111.712284  111.832477  112.137524\n",
       "3    2003-12-04  112.332259  111.406851  112.110343  111.748717\n",
       "4    2003-12-05  112.766375  111.609834  111.721723  112.729259\n",
       "...         ...         ...         ...         ...         ...\n",
       "2069 2011-12-08  124.476855  123.126484  123.959751  123.984661\n",
       "2070 2011-12-09  124.227770  122.895824  123.445260  123.445260\n",
       "2071 2011-12-12  123.745819  122.202555  123.681290  123.687906\n",
       "2072 2011-12-13  122.393352  121.174807  121.782641  121.832361\n",
       "2073 2011-12-14  120.796608  119.824855  120.508620  120.427021\n",
       "\n",
       "[2074 rows x 5 columns]"
      ]
     },
     "execution_count": 1307,
     "metadata": {},
     "output_type": "execute_result"
    }
   ],
   "source": [
    "df_train"
   ]
  },
  {
   "cell_type": "code",
   "execution_count": 1308,
   "id": "7b361acc-8505-4ed0-86e7-407131ef93a8",
   "metadata": {},
   "outputs": [
    {
     "name": "stdout",
     "output_type": "stream",
     "text": [
      "<class 'pandas.core.frame.DataFrame'>\n",
      "RangeIndex: 2074 entries, 0 to 2073\n",
      "Data columns (total 5 columns):\n",
      " #   Column  Non-Null Count  Dtype         \n",
      "---  ------  --------------  -----         \n",
      " 0   Date    2074 non-null   datetime64[ns]\n",
      " 1   High    2074 non-null   float64       \n",
      " 2   Low     2074 non-null   float64       \n",
      " 3   Open    2074 non-null   float64       \n",
      " 4   Close   2074 non-null   float64       \n",
      "dtypes: datetime64[ns](1), float64(4)\n",
      "memory usage: 81.1 KB\n"
     ]
    }
   ],
   "source": [
    "# Dateが日付型に変更されたかどうかの確認\n",
    "df_train.info()"
   ]
  },
  {
   "cell_type": "code",
   "execution_count": 1309,
   "id": "f971f30a-5bbb-42ba-bf00-b73a0e714957",
   "metadata": {},
   "outputs": [
    {
     "name": "stdout",
     "output_type": "stream",
     "text": [
      "<class 'pandas.core.frame.DataFrame'>\n",
      "RangeIndex: 1246 entries, 0 to 1245\n",
      "Data columns (total 5 columns):\n",
      " #   Column  Non-Null Count  Dtype         \n",
      "---  ------  --------------  -----         \n",
      " 0   Date    1246 non-null   datetime64[ns]\n",
      " 1   High    1246 non-null   float64       \n",
      " 2   Low     1246 non-null   float64       \n",
      " 3   Open    1246 non-null   float64       \n",
      " 4   Close   1246 non-null   float64       \n",
      "dtypes: datetime64[ns](1), float64(4)\n",
      "memory usage: 48.8 KB\n"
     ]
    }
   ],
   "source": [
    "# Dateが日付型に変更されたかどうかの確認\n",
    "df_test.info()"
   ]
  },
  {
   "cell_type": "code",
   "execution_count": 1310,
   "id": "c3d01ae3-29c4-4664-bf9c-f5d5487f5061",
   "metadata": {},
   "outputs": [
    {
     "name": "stdout",
     "output_type": "stream",
     "text": [
      "<class 'pandas.core.frame.DataFrame'>\n",
      "RangeIndex: 10 entries, 0 to 9\n",
      "Data columns (total 5 columns):\n",
      " #   Column  Non-Null Count  Dtype         \n",
      "---  ------  --------------  -----         \n",
      " 0   Date    10 non-null     datetime64[ns]\n",
      " 1   High    10 non-null     float64       \n",
      " 2   Low     10 non-null     float64       \n",
      " 3   Open    10 non-null     float64       \n",
      " 4   Close   10 non-null     float64       \n",
      "dtypes: datetime64[ns](1), float64(4)\n",
      "memory usage: 528.0 bytes\n"
     ]
    }
   ],
   "source": [
    "# Dateが日付型に変更されたかどうかの確認\n",
    "df_latest.info()"
   ]
  },
  {
   "cell_type": "code",
   "execution_count": 1311,
   "id": "0b70002f-c2d3-4590-84fe-02ca7555b0a7",
   "metadata": {},
   "outputs": [
    {
     "data": {
      "text/html": [
       "<div>\n",
       "<style scoped>\n",
       "    .dataframe tbody tr th:only-of-type {\n",
       "        vertical-align: middle;\n",
       "    }\n",
       "\n",
       "    .dataframe tbody tr th {\n",
       "        vertical-align: top;\n",
       "    }\n",
       "\n",
       "    .dataframe thead th {\n",
       "        text-align: right;\n",
       "    }\n",
       "</style>\n",
       "<table border=\"1\" class=\"dataframe\">\n",
       "  <thead>\n",
       "    <tr style=\"text-align: right;\">\n",
       "      <th></th>\n",
       "      <th>Date</th>\n",
       "      <th>High</th>\n",
       "      <th>Low</th>\n",
       "      <th>Open</th>\n",
       "      <th>Close</th>\n",
       "    </tr>\n",
       "  </thead>\n",
       "  <tbody>\n",
       "    <tr>\n",
       "      <th>0</th>\n",
       "      <td>2003-12-01</td>\n",
       "      <td>111.370639</td>\n",
       "      <td>110.482062</td>\n",
       "      <td>111.314347</td>\n",
       "      <td>110.676377</td>\n",
       "    </tr>\n",
       "    <tr>\n",
       "      <th>1</th>\n",
       "      <td>2003-12-02</td>\n",
       "      <td>112.008532</td>\n",
       "      <td>110.500532</td>\n",
       "      <td>110.639316</td>\n",
       "      <td>111.823016</td>\n",
       "    </tr>\n",
       "    <tr>\n",
       "      <th>2</th>\n",
       "      <td>2003-12-03</td>\n",
       "      <td>112.202814</td>\n",
       "      <td>111.712284</td>\n",
       "      <td>111.832477</td>\n",
       "      <td>112.137524</td>\n",
       "    </tr>\n",
       "    <tr>\n",
       "      <th>3</th>\n",
       "      <td>2003-12-04</td>\n",
       "      <td>112.332259</td>\n",
       "      <td>111.406851</td>\n",
       "      <td>112.110343</td>\n",
       "      <td>111.748717</td>\n",
       "    </tr>\n",
       "    <tr>\n",
       "      <th>4</th>\n",
       "      <td>2003-12-05</td>\n",
       "      <td>112.766375</td>\n",
       "      <td>111.609834</td>\n",
       "      <td>111.721723</td>\n",
       "      <td>112.729259</td>\n",
       "    </tr>\n",
       "  </tbody>\n",
       "</table>\n",
       "</div>"
      ],
      "text/plain": [
       "        Date        High         Low        Open       Close\n",
       "0 2003-12-01  111.370639  110.482062  111.314347  110.676377\n",
       "1 2003-12-02  112.008532  110.500532  110.639316  111.823016\n",
       "2 2003-12-03  112.202814  111.712284  111.832477  112.137524\n",
       "3 2003-12-04  112.332259  111.406851  112.110343  111.748717\n",
       "4 2003-12-05  112.766375  111.609834  111.721723  112.729259"
      ]
     },
     "execution_count": 1311,
     "metadata": {},
     "output_type": "execute_result"
    }
   ],
   "source": [
    "df_train.head()"
   ]
  },
  {
   "cell_type": "code",
   "execution_count": 1312,
   "id": "76b90fff-1164-4658-9e98-b04a27913fbb",
   "metadata": {},
   "outputs": [
    {
     "data": {
      "text/html": [
       "<div>\n",
       "<style scoped>\n",
       "    .dataframe tbody tr th:only-of-type {\n",
       "        vertical-align: middle;\n",
       "    }\n",
       "\n",
       "    .dataframe tbody tr th {\n",
       "        vertical-align: top;\n",
       "    }\n",
       "\n",
       "    .dataframe thead th {\n",
       "        text-align: right;\n",
       "    }\n",
       "</style>\n",
       "<table border=\"1\" class=\"dataframe\">\n",
       "  <thead>\n",
       "    <tr style=\"text-align: right;\">\n",
       "      <th></th>\n",
       "      <th>High</th>\n",
       "      <th>Low</th>\n",
       "      <th>Open</th>\n",
       "      <th>Close</th>\n",
       "    </tr>\n",
       "  </thead>\n",
       "  <tbody>\n",
       "    <tr>\n",
       "      <th>count</th>\n",
       "      <td>2074.000000</td>\n",
       "      <td>2074.000000</td>\n",
       "      <td>2074.000000</td>\n",
       "      <td>2074.000000</td>\n",
       "    </tr>\n",
       "    <tr>\n",
       "      <th>mean</th>\n",
       "      <td>124.078238</td>\n",
       "      <td>122.910559</td>\n",
       "      <td>123.526205</td>\n",
       "      <td>123.529490</td>\n",
       "    </tr>\n",
       "    <tr>\n",
       "      <th>std</th>\n",
       "      <td>9.210193</td>\n",
       "      <td>9.493319</td>\n",
       "      <td>9.188003</td>\n",
       "      <td>9.184970</td>\n",
       "    </tr>\n",
       "    <tr>\n",
       "      <th>min</th>\n",
       "      <td>108.520946</td>\n",
       "      <td>6.743457</td>\n",
       "      <td>107.993884</td>\n",
       "      <td>107.998923</td>\n",
       "    </tr>\n",
       "    <tr>\n",
       "      <th>25%</th>\n",
       "      <td>117.002707</td>\n",
       "      <td>115.863246</td>\n",
       "      <td>116.408944</td>\n",
       "      <td>116.427990</td>\n",
       "    </tr>\n",
       "    <tr>\n",
       "      <th>50%</th>\n",
       "      <td>123.242134</td>\n",
       "      <td>121.951219</td>\n",
       "      <td>122.590435</td>\n",
       "      <td>122.573382</td>\n",
       "    </tr>\n",
       "    <tr>\n",
       "      <th>75%</th>\n",
       "      <td>130.814157</td>\n",
       "      <td>129.393252</td>\n",
       "      <td>130.201913</td>\n",
       "      <td>130.179930</td>\n",
       "    </tr>\n",
       "    <tr>\n",
       "      <th>max</th>\n",
       "      <td>148.260942</td>\n",
       "      <td>146.834717</td>\n",
       "      <td>147.832063</td>\n",
       "      <td>147.888796</td>\n",
       "    </tr>\n",
       "  </tbody>\n",
       "</table>\n",
       "</div>"
      ],
      "text/plain": [
       "              High          Low         Open        Close\n",
       "count  2074.000000  2074.000000  2074.000000  2074.000000\n",
       "mean    124.078238   122.910559   123.526205   123.529490\n",
       "std       9.210193     9.493319     9.188003     9.184970\n",
       "min     108.520946     6.743457   107.993884   107.998923\n",
       "25%     117.002707   115.863246   116.408944   116.427990\n",
       "50%     123.242134   121.951219   122.590435   122.573382\n",
       "75%     130.814157   129.393252   130.201913   130.179930\n",
       "max     148.260942   146.834717   147.832063   147.888796"
      ]
     },
     "execution_count": 1312,
     "metadata": {},
     "output_type": "execute_result"
    }
   ],
   "source": [
    "#データの確認\n",
    "df_train.describe()"
   ]
  },
  {
   "cell_type": "markdown",
   "id": "096e0c85-d7f2-4b9d-aa4f-ef71af78fe6f",
   "metadata": {},
   "source": [
    "### Train異常値処理"
   ]
  },
  {
   "cell_type": "code",
   "execution_count": 1313,
   "id": "d13dadaa-240d-4506-b8fc-176a8606da83",
   "metadata": {},
   "outputs": [],
   "source": [
    "# Trainデータ異常値\n",
    "df_train[(df_train['Low']<10)]\n",
    "no=df_train[(df_train['Low']<10)].index\n",
    "# print(f'欠損データ確認(df_train)\\n{typeInfo(no)}\\n')"
   ]
  },
  {
   "cell_type": "code",
   "execution_count": 1314,
   "id": "a69a0e56-fefb-43da-9982-d1bcb698d7d0",
   "metadata": {},
   "outputs": [
    {
     "name": "stdout",
     "output_type": "stream",
     "text": [
      "異常値▲1日\n",
      "           Date        High         Low        Open       Close\n",
      "1114 2008-03-14  145.059359  143.736202  144.513188  144.465784\n",
      "\n",
      "異常値当日\n",
      "           Date        High       Low        Open       Close\n",
      "1115 2008-03-17  147.103265  6.743457  145.669288  145.669288\n",
      "\n",
      "異常値+1日\n",
      "           Date        High         Low        Open      Close\n",
      "1116 2008-03-18  146.409411  144.456764  145.660125  144.83676\n",
      "\n"
     ]
    }
   ],
   "source": [
    "# df_train.iloc[no:no+1] #インデックス指定されてるものでないとilocの範囲指定に使えない\n",
    "print(f'異常値▲1日\\n{df_train.iloc[no-1]}\\n')\n",
    "print(f'異常値当日\\n{df_train.iloc[no]}\\n')\n",
    "print(f'異常値+1日\\n{df_train.iloc[no+1]}\\n')"
   ]
  },
  {
   "cell_type": "code",
   "execution_count": 1315,
   "id": "4718b811-4d45-474b-9387-80d1b7730bed",
   "metadata": {},
   "outputs": [
    {
     "name": "stdout",
     "output_type": "stream",
     "text": [
      "1\n",
      "1115    6.743457\n",
      "Name: Low, dtype: float64\n",
      "\n",
      "1\n",
      "6.743457186967135\n",
      "\n"
     ]
    }
   ],
   "source": [
    "# 様々な記法一覧\n",
    "print(f'1\\n{df_train.iloc[no,2]}\\n')\n",
    "print(f'1\\n{df_train.iloc[1115].Low}\\n')\n",
    "# print(f'1\\n{df_train.at[df_train.index[1115],'Low']}\\n')"
   ]
  },
  {
   "cell_type": "code",
   "execution_count": 1316,
   "id": "8968ec2a-720a-4387-8e63-60eaba100838",
   "metadata": {},
   "outputs": [
    {
     "data": {
      "text/plain": [
       "144.09648299217224"
      ]
     },
     "execution_count": 1316,
     "metadata": {},
     "output_type": "execute_result"
    }
   ],
   "source": [
    "ave =(df_train['Low'][1114]+df_train['Low'][1116]) /2\n",
    "ave"
   ]
  },
  {
   "cell_type": "code",
   "execution_count": 1317,
   "id": "1e11d5a3-ad05-462a-a802-ef2e6bfdfcbc",
   "metadata": {},
   "outputs": [
    {
     "data": {
      "text/plain": [
       "144.09648299217224"
      ]
     },
     "execution_count": 1317,
     "metadata": {},
     "output_type": "execute_result"
    }
   ],
   "source": [
    "df_train['Low'][1115]=ave\n",
    "df_train['Low'][1115]"
   ]
  },
  {
   "cell_type": "code",
   "execution_count": 1318,
   "id": "27928e00-d8a3-487f-82d2-5a25f7bcbc98",
   "metadata": {},
   "outputs": [
    {
     "data": {
      "text/html": [
       "<div>\n",
       "<style scoped>\n",
       "    .dataframe tbody tr th:only-of-type {\n",
       "        vertical-align: middle;\n",
       "    }\n",
       "\n",
       "    .dataframe tbody tr th {\n",
       "        vertical-align: top;\n",
       "    }\n",
       "\n",
       "    .dataframe thead th {\n",
       "        text-align: right;\n",
       "    }\n",
       "</style>\n",
       "<table border=\"1\" class=\"dataframe\">\n",
       "  <thead>\n",
       "    <tr style=\"text-align: right;\">\n",
       "      <th></th>\n",
       "      <th>High</th>\n",
       "      <th>Low</th>\n",
       "      <th>Open</th>\n",
       "      <th>Close</th>\n",
       "    </tr>\n",
       "  </thead>\n",
       "  <tbody>\n",
       "    <tr>\n",
       "      <th>count</th>\n",
       "      <td>2074.000000</td>\n",
       "      <td>2074.000000</td>\n",
       "      <td>2074.000000</td>\n",
       "      <td>2074.000000</td>\n",
       "    </tr>\n",
       "    <tr>\n",
       "      <th>mean</th>\n",
       "      <td>124.078238</td>\n",
       "      <td>122.976785</td>\n",
       "      <td>123.526205</td>\n",
       "      <td>123.529490</td>\n",
       "    </tr>\n",
       "    <tr>\n",
       "      <th>std</th>\n",
       "      <td>9.210193</td>\n",
       "      <td>9.155624</td>\n",
       "      <td>9.188003</td>\n",
       "      <td>9.184970</td>\n",
       "    </tr>\n",
       "    <tr>\n",
       "      <th>min</th>\n",
       "      <td>108.520946</td>\n",
       "      <td>107.748581</td>\n",
       "      <td>107.993884</td>\n",
       "      <td>107.998923</td>\n",
       "    </tr>\n",
       "    <tr>\n",
       "      <th>25%</th>\n",
       "      <td>117.002707</td>\n",
       "      <td>115.876669</td>\n",
       "      <td>116.408944</td>\n",
       "      <td>116.427990</td>\n",
       "    </tr>\n",
       "    <tr>\n",
       "      <th>50%</th>\n",
       "      <td>123.242134</td>\n",
       "      <td>121.954434</td>\n",
       "      <td>122.590435</td>\n",
       "      <td>122.573382</td>\n",
       "    </tr>\n",
       "    <tr>\n",
       "      <th>75%</th>\n",
       "      <td>130.814157</td>\n",
       "      <td>129.426294</td>\n",
       "      <td>130.201913</td>\n",
       "      <td>130.179930</td>\n",
       "    </tr>\n",
       "    <tr>\n",
       "      <th>max</th>\n",
       "      <td>148.260942</td>\n",
       "      <td>146.834717</td>\n",
       "      <td>147.832063</td>\n",
       "      <td>147.888796</td>\n",
       "    </tr>\n",
       "  </tbody>\n",
       "</table>\n",
       "</div>"
      ],
      "text/plain": [
       "              High          Low         Open        Close\n",
       "count  2074.000000  2074.000000  2074.000000  2074.000000\n",
       "mean    124.078238   122.976785   123.526205   123.529490\n",
       "std       9.210193     9.155624     9.188003     9.184970\n",
       "min     108.520946   107.748581   107.993884   107.998923\n",
       "25%     117.002707   115.876669   116.408944   116.427990\n",
       "50%     123.242134   121.954434   122.590435   122.573382\n",
       "75%     130.814157   129.426294   130.201913   130.179930\n",
       "max     148.260942   146.834717   147.832063   147.888796"
      ]
     },
     "execution_count": 1318,
     "metadata": {},
     "output_type": "execute_result"
    }
   ],
   "source": [
    "df_train.describe()"
   ]
  },
  {
   "cell_type": "code",
   "execution_count": null,
   "id": "1b97e789-56ac-4d7f-b9ec-1cdf3bc81d64",
   "metadata": {},
   "outputs": [],
   "source": []
  },
  {
   "cell_type": "code",
   "execution_count": 1319,
   "id": "7cea939b-e54c-488b-9e8c-5b2ec3edfc5f",
   "metadata": {},
   "outputs": [
    {
     "data": {
      "text/html": [
       "<div>\n",
       "<style scoped>\n",
       "    .dataframe tbody tr th:only-of-type {\n",
       "        vertical-align: middle;\n",
       "    }\n",
       "\n",
       "    .dataframe tbody tr th {\n",
       "        vertical-align: top;\n",
       "    }\n",
       "\n",
       "    .dataframe thead th {\n",
       "        text-align: right;\n",
       "    }\n",
       "</style>\n",
       "<table border=\"1\" class=\"dataframe\">\n",
       "  <thead>\n",
       "    <tr style=\"text-align: right;\">\n",
       "      <th></th>\n",
       "      <th>High</th>\n",
       "      <th>Low</th>\n",
       "      <th>Open</th>\n",
       "      <th>Close</th>\n",
       "    </tr>\n",
       "  </thead>\n",
       "  <tbody>\n",
       "    <tr>\n",
       "      <th>count</th>\n",
       "      <td>1246.000000</td>\n",
       "      <td>1246.000000</td>\n",
       "      <td>1246.000000</td>\n",
       "      <td>1246.000000</td>\n",
       "    </tr>\n",
       "    <tr>\n",
       "      <th>mean</th>\n",
       "      <td>111.424603</td>\n",
       "      <td>110.675657</td>\n",
       "      <td>111.069958</td>\n",
       "      <td>111.070373</td>\n",
       "    </tr>\n",
       "    <tr>\n",
       "      <th>std</th>\n",
       "      <td>9.206534</td>\n",
       "      <td>9.270658</td>\n",
       "      <td>9.215541</td>\n",
       "      <td>9.214999</td>\n",
       "    </tr>\n",
       "    <tr>\n",
       "      <th>min</th>\n",
       "      <td>96.767439</td>\n",
       "      <td>70.352906</td>\n",
       "      <td>96.364197</td>\n",
       "      <td>96.357173</td>\n",
       "    </tr>\n",
       "    <tr>\n",
       "      <th>25%</th>\n",
       "      <td>103.722807</td>\n",
       "      <td>103.064503</td>\n",
       "      <td>103.422443</td>\n",
       "      <td>103.422154</td>\n",
       "    </tr>\n",
       "    <tr>\n",
       "      <th>50%</th>\n",
       "      <td>108.456692</td>\n",
       "      <td>107.796669</td>\n",
       "      <td>108.091687</td>\n",
       "      <td>108.082215</td>\n",
       "    </tr>\n",
       "    <tr>\n",
       "      <th>75%</th>\n",
       "      <td>120.690221</td>\n",
       "      <td>119.751722</td>\n",
       "      <td>120.218867</td>\n",
       "      <td>120.219641</td>\n",
       "    </tr>\n",
       "    <tr>\n",
       "      <th>max</th>\n",
       "      <td>129.417693</td>\n",
       "      <td>128.691531</td>\n",
       "      <td>128.851618</td>\n",
       "      <td>128.858797</td>\n",
       "    </tr>\n",
       "  </tbody>\n",
       "</table>\n",
       "</div>"
      ],
      "text/plain": [
       "              High          Low         Open        Close\n",
       "count  1246.000000  1246.000000  1246.000000  1246.000000\n",
       "mean    111.424603   110.675657   111.069958   111.070373\n",
       "std       9.206534     9.270658     9.215541     9.214999\n",
       "min      96.767439    70.352906    96.364197    96.357173\n",
       "25%     103.722807   103.064503   103.422443   103.422154\n",
       "50%     108.456692   107.796669   108.091687   108.082215\n",
       "75%     120.690221   119.751722   120.218867   120.219641\n",
       "max     129.417693   128.691531   128.851618   128.858797"
      ]
     },
     "execution_count": 1319,
     "metadata": {},
     "output_type": "execute_result"
    }
   ],
   "source": [
    "#データの確認\n",
    "df_test.describe()"
   ]
  },
  {
   "cell_type": "code",
   "execution_count": 1320,
   "id": "53a008b3-0eac-447d-bc02-653b63a9cb5b",
   "metadata": {},
   "outputs": [
    {
     "data": {
      "text/html": [
       "<div>\n",
       "<style scoped>\n",
       "    .dataframe tbody tr th:only-of-type {\n",
       "        vertical-align: middle;\n",
       "    }\n",
       "\n",
       "    .dataframe tbody tr th {\n",
       "        vertical-align: top;\n",
       "    }\n",
       "\n",
       "    .dataframe thead th {\n",
       "        text-align: right;\n",
       "    }\n",
       "</style>\n",
       "<table border=\"1\" class=\"dataframe\">\n",
       "  <thead>\n",
       "    <tr style=\"text-align: right;\">\n",
       "      <th></th>\n",
       "      <th>High</th>\n",
       "      <th>Low</th>\n",
       "      <th>Open</th>\n",
       "      <th>Close</th>\n",
       "    </tr>\n",
       "  </thead>\n",
       "  <tbody>\n",
       "    <tr>\n",
       "      <th>count</th>\n",
       "      <td>10.000000</td>\n",
       "      <td>10.000000</td>\n",
       "      <td>10.000000</td>\n",
       "      <td>10.000000</td>\n",
       "    </tr>\n",
       "    <tr>\n",
       "      <th>mean</th>\n",
       "      <td>103.334161</td>\n",
       "      <td>102.926054</td>\n",
       "      <td>103.071625</td>\n",
       "      <td>103.074446</td>\n",
       "    </tr>\n",
       "    <tr>\n",
       "      <th>std</th>\n",
       "      <td>0.361769</td>\n",
       "      <td>0.337125</td>\n",
       "      <td>0.340458</td>\n",
       "      <td>0.340053</td>\n",
       "    </tr>\n",
       "    <tr>\n",
       "      <th>min</th>\n",
       "      <td>102.720708</td>\n",
       "      <td>102.515795</td>\n",
       "      <td>102.629538</td>\n",
       "      <td>102.632956</td>\n",
       "    </tr>\n",
       "    <tr>\n",
       "      <th>25%</th>\n",
       "      <td>103.155731</td>\n",
       "      <td>102.769785</td>\n",
       "      <td>102.843781</td>\n",
       "      <td>102.842064</td>\n",
       "    </tr>\n",
       "    <tr>\n",
       "      <th>50%</th>\n",
       "      <td>103.281038</td>\n",
       "      <td>102.817198</td>\n",
       "      <td>103.000376</td>\n",
       "      <td>103.011844</td>\n",
       "    </tr>\n",
       "    <tr>\n",
       "      <th>75%</th>\n",
       "      <td>103.464673</td>\n",
       "      <td>102.943638</td>\n",
       "      <td>103.359891</td>\n",
       "      <td>103.364806</td>\n",
       "    </tr>\n",
       "    <tr>\n",
       "      <th>max</th>\n",
       "      <td>103.979324</td>\n",
       "      <td>103.606639</td>\n",
       "      <td>103.641461</td>\n",
       "      <td>103.621249</td>\n",
       "    </tr>\n",
       "  </tbody>\n",
       "</table>\n",
       "</div>"
      ],
      "text/plain": [
       "             High         Low        Open       Close\n",
       "count   10.000000   10.000000   10.000000   10.000000\n",
       "mean   103.334161  102.926054  103.071625  103.074446\n",
       "std      0.361769    0.337125    0.340458    0.340053\n",
       "min    102.720708  102.515795  102.629538  102.632956\n",
       "25%    103.155731  102.769785  102.843781  102.842064\n",
       "50%    103.281038  102.817198  103.000376  103.011844\n",
       "75%    103.464673  102.943638  103.359891  103.364806\n",
       "max    103.979324  103.606639  103.641461  103.621249"
      ]
     },
     "execution_count": 1320,
     "metadata": {},
     "output_type": "execute_result"
    }
   ],
   "source": [
    "#データの確認\n",
    "df_latest.describe()"
   ]
  },
  {
   "cell_type": "code",
   "execution_count": 1321,
   "id": "ff9f9180-63d6-439c-a3b6-9678dcd82ef9",
   "metadata": {},
   "outputs": [
    {
     "name": "stdout",
     "output_type": "stream",
     "text": [
      "欠損データ確認(df_train)\n",
      "Date     0\n",
      "High     0\n",
      "Low      0\n",
      "Open     0\n",
      "Close    0\n",
      "dtype: int64\n",
      "\n",
      "欠損データを確認(df_test)\n",
      "Date     0\n",
      "High     0\n",
      "Low      0\n",
      "Open     0\n",
      "Close    0\n",
      "dtype: int64\n",
      "\n"
     ]
    }
   ],
   "source": [
    "#欠損値の確認\n",
    "print(f'欠損データ確認(df_train)\\n{df_train.isnull().sum()}\\n')\n",
    "print(f'欠損データを確認(df_test)\\n{df_test.isnull().sum()}\\n')"
   ]
  },
  {
   "cell_type": "markdown",
   "id": "de448434-fef7-4a69-b2ea-038baf52c032",
   "metadata": {},
   "source": [
    "## 単純移動平均の追加"
   ]
  },
  {
   "cell_type": "code",
   "execution_count": 1322,
   "id": "574165e7-65e5-42a9-ac80-7ccf0b9182bb",
   "metadata": {},
   "outputs": [],
   "source": [
    "#　移動平均の期間\n",
    "span01=6"
   ]
  },
  {
   "cell_type": "code",
   "execution_count": 1323,
   "id": "bda26016-a71c-4e9d-8047-10ff5f5ecbab",
   "metadata": {},
   "outputs": [],
   "source": [
    "df_train['Close01']=df_train['Close'].rolling(window=span01).mean()\n",
    "df_test['Close01']=df_test['Close'].rolling(window=span01).mean()\n",
    "\n",
    "\n",
    "# df_train['High01']=df_train['High'].rolling(window=span01).mean()\n",
    "# df_test['High01']=df_test['High'].rolling(window=span01).mean()\n",
    "\n",
    "\n",
    "# df_train['Low01']=df_train['Low'].rolling(window=span01).mean()\n",
    "# df_test['Low01']=df_test['Low'].rolling(window=span01).mean()\n",
    "\n",
    "\n",
    "# df_train['Open01']=df_train['Open'].rolling(window=span01).mean()\n",
    "# df_test['Open01']=df_test['Open'].rolling(window=span01).mean()"
   ]
  },
  {
   "cell_type": "code",
   "execution_count": null,
   "id": "bd10db65-db4c-4b3c-bb69-37a419b4c8c1",
   "metadata": {},
   "outputs": [],
   "source": []
  },
  {
   "cell_type": "code",
   "execution_count": 1324,
   "id": "236ea96e-c66e-425d-9492-7804c865b819",
   "metadata": {},
   "outputs": [
    {
     "name": "stdout",
     "output_type": "stream",
     "text": [
      "train\n",
      "           Date        High         Low        Open       Close     Close01\n",
      "0    2003-12-01  111.370639  110.482062  111.314347  110.676377         NaN\n",
      "1    2003-12-02  112.008532  110.500532  110.639316  111.823016         NaN\n",
      "2    2003-12-03  112.202814  111.712284  111.832477  112.137524         NaN\n",
      "3    2003-12-04  112.332259  111.406851  112.110343  111.748717         NaN\n",
      "4    2003-12-05  112.766375  111.609834  111.721723  112.729259         NaN\n",
      "...         ...         ...         ...         ...         ...         ...\n",
      "2069 2011-12-08  124.476855  123.126484  123.959751  123.984661  124.154053\n",
      "2070 2011-12-09  124.227770  122.895824  123.445260  123.445260  124.002202\n",
      "2071 2011-12-12  123.745819  122.202555  123.681290  123.687906  123.855345\n",
      "2072 2011-12-13  122.393352  121.174807  121.782641  121.832361  123.473057\n",
      "2073 2011-12-14  120.796608  119.824855  120.508620  120.427021  122.906395\n",
      "\n",
      "[2074 rows x 6 columns]\n",
      "\n",
      "test\n",
      "           Date        High         Low        Open       Close     Close01\n",
      "0    2011-12-15  120.703596  119.907182  120.132990  120.139231         NaN\n",
      "1    2011-12-16  121.027367  120.314249  120.527453  120.524311         NaN\n",
      "2    2011-12-19  120.629617  120.111145  120.582444  120.591872         NaN\n",
      "3    2011-12-20  121.470779  120.221987  120.323633  120.322078         NaN\n",
      "4    2011-12-21  122.046150  120.513328  121.063789  121.063789         NaN\n",
      "...         ...         ...         ...         ...         ...         ...\n",
      "1241 2019-12-19  103.067513  102.766359  102.822331  102.822331  103.061430\n",
      "1242 2019-12-26  102.720708  102.515796  102.629538  102.632956  102.999143\n",
      "1243 2019-12-27  103.421288  102.674990  102.686502  102.685356  102.868197\n",
      "1244 2019-12-30  103.791471  103.429382  103.429382  103.436318  102.957373\n",
      "1245 2019-12-31  103.979324  103.606639  103.641461  103.621249  103.058080\n",
      "\n",
      "[1246 rows x 6 columns]\n",
      "\n"
     ]
    }
   ],
   "source": [
    "# \n",
    "print(f'train\\n{df_train}\\n')\n",
    "print(f'test\\n{df_test}\\n')"
   ]
  },
  {
   "cell_type": "code",
   "execution_count": 1325,
   "id": "ae9c8e51-1da9-42da-ab69-939fcabd98b6",
   "metadata": {},
   "outputs": [],
   "source": [
    "# 移動平均1日目を取り合えす終値で埋める\n",
    "df_train['Close01'][0]=df_train['Close'][0]\n",
    "df_test['Close01'][0]=df_test['Close'][0]"
   ]
  },
  {
   "cell_type": "code",
   "execution_count": 1326,
   "id": "5cdf214f-a636-4b2b-8144-7748b2206ee9",
   "metadata": {},
   "outputs": [
    {
     "name": "stdout",
     "output_type": "stream",
     "text": [
      "train\n",
      "           Date        High         Low        Open       Close     Close01\n",
      "0    2003-12-01  111.370639  110.482062  111.314347  110.676377  110.676377\n",
      "1    2003-12-02  112.008532  110.500532  110.639316  111.823016         NaN\n",
      "2    2003-12-03  112.202814  111.712284  111.832477  112.137524         NaN\n",
      "3    2003-12-04  112.332259  111.406851  112.110343  111.748717         NaN\n",
      "4    2003-12-05  112.766375  111.609834  111.721723  112.729259         NaN\n",
      "...         ...         ...         ...         ...         ...         ...\n",
      "2069 2011-12-08  124.476855  123.126484  123.959751  123.984661  124.154053\n",
      "2070 2011-12-09  124.227770  122.895824  123.445260  123.445260  124.002202\n",
      "2071 2011-12-12  123.745819  122.202555  123.681290  123.687906  123.855345\n",
      "2072 2011-12-13  122.393352  121.174807  121.782641  121.832361  123.473057\n",
      "2073 2011-12-14  120.796608  119.824855  120.508620  120.427021  122.906395\n",
      "\n",
      "[2074 rows x 6 columns]\n",
      "\n",
      "test\n",
      "           Date        High         Low        Open       Close     Close01\n",
      "0    2011-12-15  120.703596  119.907182  120.132990  120.139231  120.139231\n",
      "1    2011-12-16  121.027367  120.314249  120.527453  120.524311         NaN\n",
      "2    2011-12-19  120.629617  120.111145  120.582444  120.591872         NaN\n",
      "3    2011-12-20  121.470779  120.221987  120.323633  120.322078         NaN\n",
      "4    2011-12-21  122.046150  120.513328  121.063789  121.063789         NaN\n",
      "...         ...         ...         ...         ...         ...         ...\n",
      "1241 2019-12-19  103.067513  102.766359  102.822331  102.822331  103.061430\n",
      "1242 2019-12-26  102.720708  102.515796  102.629538  102.632956  102.999143\n",
      "1243 2019-12-27  103.421288  102.674990  102.686502  102.685356  102.868197\n",
      "1244 2019-12-30  103.791471  103.429382  103.429382  103.436318  102.957373\n",
      "1245 2019-12-31  103.979324  103.606639  103.641461  103.621249  103.058080\n",
      "\n",
      "[1246 rows x 6 columns]\n",
      "\n"
     ]
    }
   ],
   "source": [
    "# 結果\n",
    "print(f'train\\n{df_train}\\n')\n",
    "print(f'test\\n{df_test}\\n')"
   ]
  },
  {
   "cell_type": "code",
   "execution_count": 1327,
   "id": "79d2d0c2-e21f-4267-b4cd-52ed44579ceb",
   "metadata": {},
   "outputs": [],
   "source": [
    "#線形補間\n",
    "df_train=df_train.interpolate()\n",
    "df_test=df_test.interpolate()"
   ]
  },
  {
   "cell_type": "code",
   "execution_count": 1328,
   "id": "77821a81-14fa-49b4-bfe0-b347a203ada9",
   "metadata": {},
   "outputs": [
    {
     "name": "stdout",
     "output_type": "stream",
     "text": [
      "train\n",
      "           Date        High         Low        Open       Close     Close01\n",
      "0    2003-12-01  111.370639  110.482062  111.314347  110.676377  110.676377\n",
      "1    2003-12-02  112.008532  110.500532  110.639316  111.823016  110.946101\n",
      "2    2003-12-03  112.202814  111.712284  111.832477  112.137524  111.215825\n",
      "3    2003-12-04  112.332259  111.406851  112.110343  111.748717  111.485549\n",
      "4    2003-12-05  112.766375  111.609834  111.721723  112.729259  111.755273\n",
      "...         ...         ...         ...         ...         ...         ...\n",
      "2069 2011-12-08  124.476855  123.126484  123.959751  123.984661  124.154053\n",
      "2070 2011-12-09  124.227770  122.895824  123.445260  123.445260  124.002202\n",
      "2071 2011-12-12  123.745819  122.202555  123.681290  123.687906  123.855345\n",
      "2072 2011-12-13  122.393352  121.174807  121.782641  121.832361  123.473057\n",
      "2073 2011-12-14  120.796608  119.824855  120.508620  120.427021  122.906395\n",
      "\n",
      "[2074 rows x 6 columns]\n",
      "\n",
      "test\n",
      "           Date        High         Low        Open       Close     Close01\n",
      "0    2011-12-15  120.703596  119.907182  120.132990  120.139231  120.139231\n",
      "1    2011-12-16  121.027367  120.314249  120.527453  120.524311  120.220100\n",
      "2    2011-12-19  120.629617  120.111145  120.582444  120.591872  120.300969\n",
      "3    2011-12-20  121.470779  120.221987  120.323633  120.322078  120.381838\n",
      "4    2011-12-21  122.046150  120.513328  121.063789  121.063789  120.462707\n",
      "...         ...         ...         ...         ...         ...         ...\n",
      "1241 2019-12-19  103.067513  102.766359  102.822331  102.822331  103.061430\n",
      "1242 2019-12-26  102.720708  102.515796  102.629538  102.632956  102.999143\n",
      "1243 2019-12-27  103.421288  102.674990  102.686502  102.685356  102.868197\n",
      "1244 2019-12-30  103.791471  103.429382  103.429382  103.436318  102.957373\n",
      "1245 2019-12-31  103.979324  103.606639  103.641461  103.621249  103.058080\n",
      "\n",
      "[1246 rows x 6 columns]\n",
      "\n"
     ]
    }
   ],
   "source": [
    "# 結果\n",
    "print(f'train\\n{df_train}\\n')\n",
    "print(f'test\\n{df_test}\\n')"
   ]
  },
  {
   "cell_type": "code",
   "execution_count": null,
   "id": "0b7fee73-6aa1-4eba-8a4d-08960c8ba519",
   "metadata": {},
   "outputs": [],
   "source": []
  },
  {
   "cell_type": "code",
   "execution_count": 1329,
   "id": "30505276-3923-4964-beb1-197440142767",
   "metadata": {},
   "outputs": [],
   "source": [
    "# # LSTMへの入力用に処理の関数\n",
    "\n",
    "# def data_maker(data):\n",
    "#   data_lstm_in=[]\n",
    "#   if len(data)==window_len:\n",
    "#     temp = data[:window_len].copy()\n",
    "#     temp = temp / temp.iloc[0] - 1\n",
    "#     data_lstm_in.append(temp)\n",
    "#   for i in range(len(data) - window_len): #今回のLSTMで生成する時系列データ数(train総数-10個のモデル)\n",
    "#       temp = data[i:(i + window_len)].copy() #windowの単位で行を取得。参照渡しでなく値渡し。\n",
    "#       temp = temp / temp.iloc[0] - 1\n",
    "#       data_lstm_in.append(temp)\n",
    "#   return data_lstm_in"
   ]
  },
  {
   "cell_type": "code",
   "execution_count": null,
   "id": "0543dfd9-1910-432f-b1f6-09f6bd154dd7",
   "metadata": {},
   "outputs": [],
   "source": []
  },
  {
   "cell_type": "code",
   "execution_count": null,
   "id": "d3351d25-5cde-43a5-a962-7b727f2b9ee1",
   "metadata": {},
   "outputs": [],
   "source": []
  },
  {
   "cell_type": "code",
   "execution_count": null,
   "id": "07ab051b-aec9-4061-8ffe-bb1d14258fce",
   "metadata": {},
   "outputs": [],
   "source": []
  },
  {
   "cell_type": "markdown",
   "id": "9ae40957-fb61-41b4-91f0-1d9a927c3a9c",
   "metadata": {},
   "source": [
    "## 指数移動平滑平均(EMA)の追加"
   ]
  },
  {
   "cell_type": "code",
   "execution_count": 1330,
   "id": "48baffbb-93c7-4dc1-83a6-3e14d9af3f51",
   "metadata": {},
   "outputs": [],
   "source": [
    "# # EMA関数\n",
    "# def EMA(df):\n",
    "#     FastEMA_period = span01  # 短期EMAの期間\n",
    "#     df[\"EMA\"] = df[\"Close\"].ewm(span=FastEMA_period).mean()\n",
    "#     return df"
   ]
  },
  {
   "cell_type": "code",
   "execution_count": 1331,
   "id": "5a3b9ef6-60b3-4369-89b9-cffe0967221f",
   "metadata": {},
   "outputs": [],
   "source": [
    "# EMA関数\n",
    "def EMA(df,span):\n",
    "    df[\"EMA\"] = df[\"Close\"].ewm(span=span).mean()\n",
    "    return df"
   ]
  },
  {
   "cell_type": "code",
   "execution_count": 1332,
   "id": "9d10678b-e4d6-4bc4-9680-1a1cf65725b3",
   "metadata": {},
   "outputs": [],
   "source": [
    "# EMAを計算する\n",
    "df_train = EMA(df_train,span01)\n",
    "df_test = EMA(df_test,span01)"
   ]
  },
  {
   "cell_type": "code",
   "execution_count": 1333,
   "id": "6638bd50-61a9-4a31-aa5c-f6a897bb7ccd",
   "metadata": {},
   "outputs": [
    {
     "data": {
      "text/html": [
       "<div>\n",
       "<style scoped>\n",
       "    .dataframe tbody tr th:only-of-type {\n",
       "        vertical-align: middle;\n",
       "    }\n",
       "\n",
       "    .dataframe tbody tr th {\n",
       "        vertical-align: top;\n",
       "    }\n",
       "\n",
       "    .dataframe thead th {\n",
       "        text-align: right;\n",
       "    }\n",
       "</style>\n",
       "<table border=\"1\" class=\"dataframe\">\n",
       "  <thead>\n",
       "    <tr style=\"text-align: right;\">\n",
       "      <th></th>\n",
       "      <th>Date</th>\n",
       "      <th>High</th>\n",
       "      <th>Low</th>\n",
       "      <th>Open</th>\n",
       "      <th>Close</th>\n",
       "      <th>Close01</th>\n",
       "      <th>EMA</th>\n",
       "    </tr>\n",
       "  </thead>\n",
       "  <tbody>\n",
       "    <tr>\n",
       "      <th>0</th>\n",
       "      <td>2003-12-01</td>\n",
       "      <td>111.370639</td>\n",
       "      <td>110.482062</td>\n",
       "      <td>111.314347</td>\n",
       "      <td>110.676377</td>\n",
       "      <td>110.676377</td>\n",
       "      <td>110.676377</td>\n",
       "    </tr>\n",
       "    <tr>\n",
       "      <th>1</th>\n",
       "      <td>2003-12-02</td>\n",
       "      <td>112.008532</td>\n",
       "      <td>110.500532</td>\n",
       "      <td>110.639316</td>\n",
       "      <td>111.823016</td>\n",
       "      <td>110.946101</td>\n",
       "      <td>111.345250</td>\n",
       "    </tr>\n",
       "    <tr>\n",
       "      <th>2</th>\n",
       "      <td>2003-12-03</td>\n",
       "      <td>112.202814</td>\n",
       "      <td>111.712284</td>\n",
       "      <td>111.832477</td>\n",
       "      <td>112.137524</td>\n",
       "      <td>111.215825</td>\n",
       "      <td>111.701410</td>\n",
       "    </tr>\n",
       "    <tr>\n",
       "      <th>3</th>\n",
       "      <td>2003-12-04</td>\n",
       "      <td>112.332259</td>\n",
       "      <td>111.406851</td>\n",
       "      <td>112.110343</td>\n",
       "      <td>111.748717</td>\n",
       "      <td>111.485549</td>\n",
       "      <td>111.719683</td>\n",
       "    </tr>\n",
       "    <tr>\n",
       "      <th>4</th>\n",
       "      <td>2003-12-05</td>\n",
       "      <td>112.766375</td>\n",
       "      <td>111.609834</td>\n",
       "      <td>111.721723</td>\n",
       "      <td>112.729259</td>\n",
       "      <td>111.755273</td>\n",
       "      <td>112.074016</td>\n",
       "    </tr>\n",
       "    <tr>\n",
       "      <th>...</th>\n",
       "      <td>...</td>\n",
       "      <td>...</td>\n",
       "      <td>...</td>\n",
       "      <td>...</td>\n",
       "      <td>...</td>\n",
       "      <td>...</td>\n",
       "      <td>...</td>\n",
       "    </tr>\n",
       "    <tr>\n",
       "      <th>2069</th>\n",
       "      <td>2011-12-08</td>\n",
       "      <td>124.476855</td>\n",
       "      <td>123.126484</td>\n",
       "      <td>123.959751</td>\n",
       "      <td>123.984661</td>\n",
       "      <td>124.154053</td>\n",
       "      <td>124.002936</td>\n",
       "    </tr>\n",
       "    <tr>\n",
       "      <th>2070</th>\n",
       "      <td>2011-12-09</td>\n",
       "      <td>124.227770</td>\n",
       "      <td>122.895824</td>\n",
       "      <td>123.445260</td>\n",
       "      <td>123.445260</td>\n",
       "      <td>124.002202</td>\n",
       "      <td>123.843600</td>\n",
       "    </tr>\n",
       "    <tr>\n",
       "      <th>2071</th>\n",
       "      <td>2011-12-12</td>\n",
       "      <td>123.745819</td>\n",
       "      <td>122.202555</td>\n",
       "      <td>123.681290</td>\n",
       "      <td>123.687906</td>\n",
       "      <td>123.855345</td>\n",
       "      <td>123.799116</td>\n",
       "    </tr>\n",
       "    <tr>\n",
       "      <th>2072</th>\n",
       "      <td>2011-12-13</td>\n",
       "      <td>122.393352</td>\n",
       "      <td>121.174807</td>\n",
       "      <td>121.782641</td>\n",
       "      <td>121.832361</td>\n",
       "      <td>123.473057</td>\n",
       "      <td>123.237186</td>\n",
       "    </tr>\n",
       "    <tr>\n",
       "      <th>2073</th>\n",
       "      <td>2011-12-14</td>\n",
       "      <td>120.796608</td>\n",
       "      <td>119.824855</td>\n",
       "      <td>120.508620</td>\n",
       "      <td>120.427021</td>\n",
       "      <td>122.906395</td>\n",
       "      <td>122.434282</td>\n",
       "    </tr>\n",
       "  </tbody>\n",
       "</table>\n",
       "<p>2074 rows × 7 columns</p>\n",
       "</div>"
      ],
      "text/plain": [
       "           Date        High         Low        Open       Close     Close01  \\\n",
       "0    2003-12-01  111.370639  110.482062  111.314347  110.676377  110.676377   \n",
       "1    2003-12-02  112.008532  110.500532  110.639316  111.823016  110.946101   \n",
       "2    2003-12-03  112.202814  111.712284  111.832477  112.137524  111.215825   \n",
       "3    2003-12-04  112.332259  111.406851  112.110343  111.748717  111.485549   \n",
       "4    2003-12-05  112.766375  111.609834  111.721723  112.729259  111.755273   \n",
       "...         ...         ...         ...         ...         ...         ...   \n",
       "2069 2011-12-08  124.476855  123.126484  123.959751  123.984661  124.154053   \n",
       "2070 2011-12-09  124.227770  122.895824  123.445260  123.445260  124.002202   \n",
       "2071 2011-12-12  123.745819  122.202555  123.681290  123.687906  123.855345   \n",
       "2072 2011-12-13  122.393352  121.174807  121.782641  121.832361  123.473057   \n",
       "2073 2011-12-14  120.796608  119.824855  120.508620  120.427021  122.906395   \n",
       "\n",
       "             EMA  \n",
       "0     110.676377  \n",
       "1     111.345250  \n",
       "2     111.701410  \n",
       "3     111.719683  \n",
       "4     112.074016  \n",
       "...          ...  \n",
       "2069  124.002936  \n",
       "2070  123.843600  \n",
       "2071  123.799116  \n",
       "2072  123.237186  \n",
       "2073  122.434282  \n",
       "\n",
       "[2074 rows x 7 columns]"
      ]
     },
     "execution_count": 1333,
     "metadata": {},
     "output_type": "execute_result"
    }
   ],
   "source": [
    "df_train"
   ]
  },
  {
   "cell_type": "code",
   "execution_count": 1334,
   "id": "f558328f-7c56-4ca3-a6a2-30572ac31790",
   "metadata": {},
   "outputs": [
    {
     "data": {
      "text/html": [
       "<div>\n",
       "<style scoped>\n",
       "    .dataframe tbody tr th:only-of-type {\n",
       "        vertical-align: middle;\n",
       "    }\n",
       "\n",
       "    .dataframe tbody tr th {\n",
       "        vertical-align: top;\n",
       "    }\n",
       "\n",
       "    .dataframe thead th {\n",
       "        text-align: right;\n",
       "    }\n",
       "</style>\n",
       "<table border=\"1\" class=\"dataframe\">\n",
       "  <thead>\n",
       "    <tr style=\"text-align: right;\">\n",
       "      <th></th>\n",
       "      <th>Date</th>\n",
       "      <th>High</th>\n",
       "      <th>Low</th>\n",
       "      <th>Open</th>\n",
       "      <th>Close</th>\n",
       "      <th>Close01</th>\n",
       "      <th>EMA</th>\n",
       "    </tr>\n",
       "  </thead>\n",
       "  <tbody>\n",
       "    <tr>\n",
       "      <th>0</th>\n",
       "      <td>2011-12-15</td>\n",
       "      <td>120.703596</td>\n",
       "      <td>119.907182</td>\n",
       "      <td>120.132990</td>\n",
       "      <td>120.139231</td>\n",
       "      <td>120.139231</td>\n",
       "      <td>120.139231</td>\n",
       "    </tr>\n",
       "    <tr>\n",
       "      <th>1</th>\n",
       "      <td>2011-12-16</td>\n",
       "      <td>121.027367</td>\n",
       "      <td>120.314249</td>\n",
       "      <td>120.527453</td>\n",
       "      <td>120.524311</td>\n",
       "      <td>120.220100</td>\n",
       "      <td>120.363861</td>\n",
       "    </tr>\n",
       "    <tr>\n",
       "      <th>2</th>\n",
       "      <td>2011-12-19</td>\n",
       "      <td>120.629617</td>\n",
       "      <td>120.111145</td>\n",
       "      <td>120.582444</td>\n",
       "      <td>120.591872</td>\n",
       "      <td>120.300969</td>\n",
       "      <td>120.466361</td>\n",
       "    </tr>\n",
       "    <tr>\n",
       "      <th>3</th>\n",
       "      <td>2011-12-20</td>\n",
       "      <td>121.470779</td>\n",
       "      <td>120.221987</td>\n",
       "      <td>120.323633</td>\n",
       "      <td>120.322078</td>\n",
       "      <td>120.381838</td>\n",
       "      <td>120.410630</td>\n",
       "    </tr>\n",
       "    <tr>\n",
       "      <th>4</th>\n",
       "      <td>2011-12-21</td>\n",
       "      <td>122.046150</td>\n",
       "      <td>120.513328</td>\n",
       "      <td>121.063789</td>\n",
       "      <td>121.063789</td>\n",
       "      <td>120.462707</td>\n",
       "      <td>120.639871</td>\n",
       "    </tr>\n",
       "    <tr>\n",
       "      <th>...</th>\n",
       "      <td>...</td>\n",
       "      <td>...</td>\n",
       "      <td>...</td>\n",
       "      <td>...</td>\n",
       "      <td>...</td>\n",
       "      <td>...</td>\n",
       "      <td>...</td>\n",
       "    </tr>\n",
       "    <tr>\n",
       "      <th>1241</th>\n",
       "      <td>2019-12-19</td>\n",
       "      <td>103.067513</td>\n",
       "      <td>102.766359</td>\n",
       "      <td>102.822331</td>\n",
       "      <td>102.822331</td>\n",
       "      <td>103.061430</td>\n",
       "      <td>102.921666</td>\n",
       "    </tr>\n",
       "    <tr>\n",
       "      <th>1242</th>\n",
       "      <td>2019-12-26</td>\n",
       "      <td>102.720708</td>\n",
       "      <td>102.515796</td>\n",
       "      <td>102.629538</td>\n",
       "      <td>102.632956</td>\n",
       "      <td>102.999143</td>\n",
       "      <td>102.839178</td>\n",
       "    </tr>\n",
       "    <tr>\n",
       "      <th>1243</th>\n",
       "      <td>2019-12-27</td>\n",
       "      <td>103.421288</td>\n",
       "      <td>102.674990</td>\n",
       "      <td>102.686502</td>\n",
       "      <td>102.685356</td>\n",
       "      <td>102.868197</td>\n",
       "      <td>102.795228</td>\n",
       "    </tr>\n",
       "    <tr>\n",
       "      <th>1244</th>\n",
       "      <td>2019-12-30</td>\n",
       "      <td>103.791471</td>\n",
       "      <td>103.429382</td>\n",
       "      <td>103.429382</td>\n",
       "      <td>103.436318</td>\n",
       "      <td>102.957373</td>\n",
       "      <td>102.978397</td>\n",
       "    </tr>\n",
       "    <tr>\n",
       "      <th>1245</th>\n",
       "      <td>2019-12-31</td>\n",
       "      <td>103.979324</td>\n",
       "      <td>103.606639</td>\n",
       "      <td>103.641461</td>\n",
       "      <td>103.621249</td>\n",
       "      <td>103.058080</td>\n",
       "      <td>103.162069</td>\n",
       "    </tr>\n",
       "  </tbody>\n",
       "</table>\n",
       "<p>1246 rows × 7 columns</p>\n",
       "</div>"
      ],
      "text/plain": [
       "           Date        High         Low        Open       Close     Close01  \\\n",
       "0    2011-12-15  120.703596  119.907182  120.132990  120.139231  120.139231   \n",
       "1    2011-12-16  121.027367  120.314249  120.527453  120.524311  120.220100   \n",
       "2    2011-12-19  120.629617  120.111145  120.582444  120.591872  120.300969   \n",
       "3    2011-12-20  121.470779  120.221987  120.323633  120.322078  120.381838   \n",
       "4    2011-12-21  122.046150  120.513328  121.063789  121.063789  120.462707   \n",
       "...         ...         ...         ...         ...         ...         ...   \n",
       "1241 2019-12-19  103.067513  102.766359  102.822331  102.822331  103.061430   \n",
       "1242 2019-12-26  102.720708  102.515796  102.629538  102.632956  102.999143   \n",
       "1243 2019-12-27  103.421288  102.674990  102.686502  102.685356  102.868197   \n",
       "1244 2019-12-30  103.791471  103.429382  103.429382  103.436318  102.957373   \n",
       "1245 2019-12-31  103.979324  103.606639  103.641461  103.621249  103.058080   \n",
       "\n",
       "             EMA  \n",
       "0     120.139231  \n",
       "1     120.363861  \n",
       "2     120.466361  \n",
       "3     120.410630  \n",
       "4     120.639871  \n",
       "...          ...  \n",
       "1241  102.921666  \n",
       "1242  102.839178  \n",
       "1243  102.795228  \n",
       "1244  102.978397  \n",
       "1245  103.162069  \n",
       "\n",
       "[1246 rows x 7 columns]"
      ]
     },
     "execution_count": 1334,
     "metadata": {},
     "output_type": "execute_result"
    }
   ],
   "source": [
    "df_test"
   ]
  },
  {
   "cell_type": "code",
   "execution_count": 1335,
   "id": "f4d183cc-e4b4-486b-a8b6-aeb271a971dd",
   "metadata": {},
   "outputs": [
    {
     "data": {
      "text/html": [
       "<div>\n",
       "<style scoped>\n",
       "    .dataframe tbody tr th:only-of-type {\n",
       "        vertical-align: middle;\n",
       "    }\n",
       "\n",
       "    .dataframe tbody tr th {\n",
       "        vertical-align: top;\n",
       "    }\n",
       "\n",
       "    .dataframe thead th {\n",
       "        text-align: right;\n",
       "    }\n",
       "</style>\n",
       "<table border=\"1\" class=\"dataframe\">\n",
       "  <thead>\n",
       "    <tr style=\"text-align: right;\">\n",
       "      <th></th>\n",
       "      <th>Date</th>\n",
       "      <th>High</th>\n",
       "      <th>Low</th>\n",
       "      <th>Open</th>\n",
       "      <th>Close</th>\n",
       "      <th>Close01</th>\n",
       "      <th>EMA</th>\n",
       "    </tr>\n",
       "  </thead>\n",
       "  <tbody>\n",
       "    <tr>\n",
       "      <th>0</th>\n",
       "      <td>2003-12-01</td>\n",
       "      <td>111.370639</td>\n",
       "      <td>110.482062</td>\n",
       "      <td>111.314347</td>\n",
       "      <td>110.676377</td>\n",
       "      <td>110.676377</td>\n",
       "      <td>110.676377</td>\n",
       "    </tr>\n",
       "    <tr>\n",
       "      <th>1</th>\n",
       "      <td>2003-12-02</td>\n",
       "      <td>112.008532</td>\n",
       "      <td>110.500532</td>\n",
       "      <td>110.639316</td>\n",
       "      <td>111.823016</td>\n",
       "      <td>110.946101</td>\n",
       "      <td>111.345250</td>\n",
       "    </tr>\n",
       "    <tr>\n",
       "      <th>2</th>\n",
       "      <td>2003-12-03</td>\n",
       "      <td>112.202814</td>\n",
       "      <td>111.712284</td>\n",
       "      <td>111.832477</td>\n",
       "      <td>112.137524</td>\n",
       "      <td>111.215825</td>\n",
       "      <td>111.701410</td>\n",
       "    </tr>\n",
       "    <tr>\n",
       "      <th>3</th>\n",
       "      <td>2003-12-04</td>\n",
       "      <td>112.332259</td>\n",
       "      <td>111.406851</td>\n",
       "      <td>112.110343</td>\n",
       "      <td>111.748717</td>\n",
       "      <td>111.485549</td>\n",
       "      <td>111.719683</td>\n",
       "    </tr>\n",
       "    <tr>\n",
       "      <th>4</th>\n",
       "      <td>2003-12-05</td>\n",
       "      <td>112.766375</td>\n",
       "      <td>111.609834</td>\n",
       "      <td>111.721723</td>\n",
       "      <td>112.729259</td>\n",
       "      <td>111.755273</td>\n",
       "      <td>112.074016</td>\n",
       "    </tr>\n",
       "    <tr>\n",
       "      <th>...</th>\n",
       "      <td>...</td>\n",
       "      <td>...</td>\n",
       "      <td>...</td>\n",
       "      <td>...</td>\n",
       "      <td>...</td>\n",
       "      <td>...</td>\n",
       "      <td>...</td>\n",
       "    </tr>\n",
       "    <tr>\n",
       "      <th>2069</th>\n",
       "      <td>2011-12-08</td>\n",
       "      <td>124.476855</td>\n",
       "      <td>123.126484</td>\n",
       "      <td>123.959751</td>\n",
       "      <td>123.984661</td>\n",
       "      <td>124.154053</td>\n",
       "      <td>124.002936</td>\n",
       "    </tr>\n",
       "    <tr>\n",
       "      <th>2070</th>\n",
       "      <td>2011-12-09</td>\n",
       "      <td>124.227770</td>\n",
       "      <td>122.895824</td>\n",
       "      <td>123.445260</td>\n",
       "      <td>123.445260</td>\n",
       "      <td>124.002202</td>\n",
       "      <td>123.843600</td>\n",
       "    </tr>\n",
       "    <tr>\n",
       "      <th>2071</th>\n",
       "      <td>2011-12-12</td>\n",
       "      <td>123.745819</td>\n",
       "      <td>122.202555</td>\n",
       "      <td>123.681290</td>\n",
       "      <td>123.687906</td>\n",
       "      <td>123.855345</td>\n",
       "      <td>123.799116</td>\n",
       "    </tr>\n",
       "    <tr>\n",
       "      <th>2072</th>\n",
       "      <td>2011-12-13</td>\n",
       "      <td>122.393352</td>\n",
       "      <td>121.174807</td>\n",
       "      <td>121.782641</td>\n",
       "      <td>121.832361</td>\n",
       "      <td>123.473057</td>\n",
       "      <td>123.237186</td>\n",
       "    </tr>\n",
       "    <tr>\n",
       "      <th>2073</th>\n",
       "      <td>2011-12-14</td>\n",
       "      <td>120.796608</td>\n",
       "      <td>119.824855</td>\n",
       "      <td>120.508620</td>\n",
       "      <td>120.427021</td>\n",
       "      <td>122.906395</td>\n",
       "      <td>122.434282</td>\n",
       "    </tr>\n",
       "  </tbody>\n",
       "</table>\n",
       "<p>2074 rows × 7 columns</p>\n",
       "</div>"
      ],
      "text/plain": [
       "           Date        High         Low        Open       Close     Close01  \\\n",
       "0    2003-12-01  111.370639  110.482062  111.314347  110.676377  110.676377   \n",
       "1    2003-12-02  112.008532  110.500532  110.639316  111.823016  110.946101   \n",
       "2    2003-12-03  112.202814  111.712284  111.832477  112.137524  111.215825   \n",
       "3    2003-12-04  112.332259  111.406851  112.110343  111.748717  111.485549   \n",
       "4    2003-12-05  112.766375  111.609834  111.721723  112.729259  111.755273   \n",
       "...         ...         ...         ...         ...         ...         ...   \n",
       "2069 2011-12-08  124.476855  123.126484  123.959751  123.984661  124.154053   \n",
       "2070 2011-12-09  124.227770  122.895824  123.445260  123.445260  124.002202   \n",
       "2071 2011-12-12  123.745819  122.202555  123.681290  123.687906  123.855345   \n",
       "2072 2011-12-13  122.393352  121.174807  121.782641  121.832361  123.473057   \n",
       "2073 2011-12-14  120.796608  119.824855  120.508620  120.427021  122.906395   \n",
       "\n",
       "             EMA  \n",
       "0     110.676377  \n",
       "1     111.345250  \n",
       "2     111.701410  \n",
       "3     111.719683  \n",
       "4     112.074016  \n",
       "...          ...  \n",
       "2069  124.002936  \n",
       "2070  123.843600  \n",
       "2071  123.799116  \n",
       "2072  123.237186  \n",
       "2073  122.434282  \n",
       "\n",
       "[2074 rows x 7 columns]"
      ]
     },
     "execution_count": 1335,
     "metadata": {},
     "output_type": "execute_result"
    }
   ],
   "source": [
    "# df_train=df_train[span01-1:]\n",
    "df_train"
   ]
  },
  {
   "cell_type": "code",
   "execution_count": null,
   "id": "9232e7a4-1381-4f5e-80b6-6cd44fb985e9",
   "metadata": {},
   "outputs": [],
   "source": []
  },
  {
   "cell_type": "code",
   "execution_count": 1336,
   "id": "e3d240d4-6f47-4230-a20b-3fc2689b956e",
   "metadata": {},
   "outputs": [],
   "source": [
    "# df_train.to_csv('IdoHeikin.csv')"
   ]
  },
  {
   "cell_type": "code",
   "execution_count": null,
   "id": "178a5a39-49cb-4a89-8f40-296f70cb05cc",
   "metadata": {},
   "outputs": [],
   "source": []
  },
  {
   "cell_type": "markdown",
   "id": "607678fa-c337-4bfb-8d54-1f747835c56b",
   "metadata": {},
   "source": [
    "## MACEの追加"
   ]
  },
  {
   "cell_type": "code",
   "execution_count": 1337,
   "id": "bd2eb2ae-b357-4e60-9a39-4683d8cbdb0a",
   "metadata": {},
   "outputs": [],
   "source": [
    "# # MACE関数\n",
    "# def macd(df):\n",
    "#     FastEMA_period = 12  # 短期EMAの期間\n",
    "#     SlowEMA_period = 26  # 長期EMAの期間\n",
    "# #     SignalSMA_period = 9  # SMAを取る期間\n",
    "#     SignalSMA_period = span01  # SMAを取る期間\n",
    "    \n",
    "#     df[\"MACD\"] = df[\"Close\"].ewm(span=FastEMA_period).mean() - df[\"Close\"].ewm(span=SlowEMA_period).mean()\n",
    "#     df[\"Signal\"] = df[\"MACD\"].rolling(SignalSMA_period).mean()\n",
    "#     return df"
   ]
  },
  {
   "cell_type": "code",
   "execution_count": 1338,
   "id": "184a7b0d-e2a5-4ac7-97b3-982ea0a39d0c",
   "metadata": {},
   "outputs": [],
   "source": [
    "# # MACDを計算する\n",
    "# df_train = macd(df_train)\n",
    "# df_test = macd(df_test)"
   ]
  },
  {
   "cell_type": "code",
   "execution_count": 1339,
   "id": "8213bf35-f90d-4985-bf2e-dd6f31d637eb",
   "metadata": {},
   "outputs": [],
   "source": [
    "# df_train.head(20)"
   ]
  },
  {
   "cell_type": "code",
   "execution_count": null,
   "id": "0c3d474b-d1c1-4c65-a0b7-2003d6f44aa7",
   "metadata": {},
   "outputs": [],
   "source": []
  },
  {
   "cell_type": "code",
   "execution_count": 1340,
   "id": "b7579017-8a74-44e6-85be-c0ddb36fb9aa",
   "metadata": {},
   "outputs": [],
   "source": [
    "# df_test"
   ]
  },
  {
   "cell_type": "code",
   "execution_count": 1341,
   "id": "ebd76287-e784-4aed-b17d-7aedadc857fc",
   "metadata": {},
   "outputs": [],
   "source": [
    "# import mpl_finance as mpf\n",
    "# # import mplfinance as mpf\n",
    "# # import matplotlib.finance\n",
    "# # from matplotlib.finance import candlestick_ohlc\n",
    " \n",
    "# # チャート定義\n",
    "# fig, ax = plt.subplots(2, figsize=(20, 10), sharex=True, gridspec_kw={'height_ratios': [3, 1]})\n",
    " \n",
    "# # ローソク足チャートをプロット\n",
    "# mpl_finance.candlestick_ohlc(ax[0], df.values, width=0.5, colorup='r', colordown='b')\n",
    " \n",
    "# # MACDをプロット\n",
    "# ax[1].plot(df_train[\"index\"], df_train[\"MACD\"], label=\"MACD\")\n",
    "# ax[1].plot(df_train[\"index\"], df_train[\"Signal\"], label=\"Signal\")\n",
    " \n",
    "# # X軸を調整\n",
    "# plt.xticks([x for x in range(len(df))], [x.strftime('%Y-%m-%d') for x in df.index])\n",
    "# fig.autofmt_xdate()\n",
    " \n",
    "# # 凡例表示, グリッド表示\n",
    "# for a in ax:\n",
    "#     a.legend()\n",
    "#     a.grid()\n",
    " \n",
    "# # グラフを表示\n",
    "# plt.show()"
   ]
  },
  {
   "cell_type": "code",
   "execution_count": null,
   "id": "e396b5ef-5ea3-46ea-8b4e-40ace98272c3",
   "metadata": {},
   "outputs": [],
   "source": []
  },
  {
   "cell_type": "code",
   "execution_count": null,
   "id": "1baadd8a-419a-4fc7-8ba3-f30690b27a00",
   "metadata": {},
   "outputs": [],
   "source": []
  },
  {
   "cell_type": "markdown",
   "id": "dfb6e391-7d49-4d81-befc-07ebd47d6da1",
   "metadata": {},
   "source": [
    "## train最初の5日除外"
   ]
  },
  {
   "cell_type": "code",
   "execution_count": 1342,
   "id": "c210c666-4596-4414-baca-964da2549928",
   "metadata": {},
   "outputs": [],
   "source": [
    "# df_train=df_train[span01-1:]\n",
    "# df_train"
   ]
  },
  {
   "cell_type": "code",
   "execution_count": null,
   "id": "c3b1af93-b1e5-474d-9897-1c628365fcb0",
   "metadata": {},
   "outputs": [],
   "source": []
  },
  {
   "cell_type": "code",
   "execution_count": null,
   "id": "795c7acc-a443-4867-9498-021b45c02c2b",
   "metadata": {},
   "outputs": [],
   "source": []
  },
  {
   "cell_type": "code",
   "execution_count": null,
   "id": "b57a0eb0-073d-4293-bc9d-e378b28f250f",
   "metadata": {},
   "outputs": [],
   "source": []
  },
  {
   "cell_type": "markdown",
   "id": "bb1d6d20-44c1-4117-b827-daacdf15c766",
   "metadata": {},
   "source": [
    "##　配列の型などを調べるための関数"
   ]
  },
  {
   "cell_type": "code",
   "execution_count": 1343,
   "id": "d174b86d-c0f8-4ea9-9670-ab083c337a2a",
   "metadata": {},
   "outputs": [],
   "source": [
    "# 変数名をそのままprint関数内で表示させる関数\n",
    "def chkprint(*args):\n",
    "    for obj in args:\n",
    "        for k, v in globals().items():\n",
    "            if id(v) == id(obj):\n",
    "                target = k\n",
    "                break          \n",
    "    return target\n",
    "\n",
    "# データがどのデータ型か、列数、行数を表示する関数\n",
    "def typeInfo(targetData):\n",
    "    if (type(targetData) is pd.core.frame.DataFrame):\n",
    "        print(\"{} は DataFrame型\".format(chkprint(targetData)))\n",
    "        print(\"{} の行数, 列数・・・{}\\n\".format(chkprint(targetData), targetData.shape))     # shapeの表示内容は、(行数, 列数)となる\n",
    "    if (type(targetData) is list):\n",
    "        print(\"{} は list型\".format(chkprint(targetData)))\n",
    "        print(\"{} の行数, 列数・・・{}\\n\".format(chkprint(targetData), pd.DataFrame(targetData).shape))    # shapeの表示内容は、(行数, 列数)となる\n",
    "    if (type(targetData) is np.ndarray):\n",
    "        print(\"{} は ndarray型\".format(chkprint(targetData)))\n",
    "        print(\"{} の行数, 列数・・・{}\\n\".format(chkprint(targetData), targetData.shape))     # shapeの表示内容は、(行数, 列数)となる\n",
    "    if (type(targetData) is pd.core.series.Series):\n",
    "        print(\"{} は Series型\".format(chkprint(targetData)))\n",
    "        print(\"{} の行数, 列数・・・{}\\n\".format(chkprint(targetData), targetData.shape))     # shapeの表示内容は、(行数, 列数)となる"
   ]
  },
  {
   "cell_type": "markdown",
   "id": "b8daff79-41e9-4b9e-9c3b-cb6856a3d546",
   "metadata": {},
   "source": [
    "## Trainデータを学習用と検証用に分割\n",
    "#### (train:2003/12/1-2011/12/14 →これを8:2に分割する| test:2011/12/15-2019/12/31)"
   ]
  },
  {
   "cell_type": "code",
   "execution_count": 1344,
   "id": "3d7b24b3-74fa-45be-a4a9-6e746c33313d",
   "metadata": {},
   "outputs": [],
   "source": [
    "# 不要\n",
    "# Trainデータを学習用と検証用に分割\n",
    "# 今回は①学習用：8割、②検証用：2割にTrainデータを分割して、①の予測モデルで\n",
    "# ②が正しく評価できるのかを確認した上で、testデータへの予測モデルの適用を行う"
   ]
  },
  {
   "cell_type": "code",
   "execution_count": 1345,
   "id": "bc0c2e46-645b-4ae4-bb7e-56594743302d",
   "metadata": {},
   "outputs": [],
   "source": [
    "# 不要\n",
    "# train_test_splitというDataFrameを分けてくれる関数がsklearnにあるのでそれを使う\n",
    "# from sklearn.model_selection import train_test_split\n",
    "\n",
    "# df_train, df_validation = train_test_split(df_train, train_size=0.8, test_size=0.2, shuffle=False)"
   ]
  },
  {
   "cell_type": "code",
   "execution_count": 1346,
   "id": "4369f120-d765-4eda-b9a0-c05d5e42ba7d",
   "metadata": {},
   "outputs": [],
   "source": [
    "# 不要\n",
    "# # 分割後のサイズ\n",
    "# print(f'①学習用データのサイズ(df_train)：{len(df_train)}')\n",
    "# print(f'②検証用データのサイズ(df_validation)：{len(df_validation)}')\n",
    "# print(f'元々のdf_trainのサイズが8:2に分割された\\n')\n",
    "\n",
    "# # 分割後の詳細\n",
    "# print(f'分割後のサマリ(df_train)\\n{df_train.describe()}\\n')\n",
    "# print(f'分割後のサマリ(df_validation)\\n{df_validation.describe()}\\n')"
   ]
  },
  {
   "cell_type": "markdown",
   "id": "d7dfd235-6e7e-4edf-9c77-57c361aaa484",
   "metadata": {},
   "source": [
    "## *Train/test/latestデータの縦結合(直接今回の課題とは関係なし)"
   ]
  },
  {
   "cell_type": "code",
   "execution_count": 1347,
   "id": "c795d972-8f7f-42bc-80cd-8e20d17ff5cf",
   "metadata": {},
   "outputs": [
    {
     "ename": "ValueError",
     "evalue": "all the input array dimensions for the concatenation axis must match exactly, but along dimension 1, the array at index 0 has size 7 and the array at index 2 has size 5",
     "output_type": "error",
     "traceback": [
      "\u001b[0;31m---------------------------------------------------------------------------\u001b[0m",
      "\u001b[0;31mValueError\u001b[0m                                Traceback (most recent call last)",
      "\u001b[0;32m<ipython-input-1347-41fd1efab22c>\u001b[0m in \u001b[0;36m<module>\u001b[0;34m\u001b[0m\n\u001b[1;32m      1\u001b[0m \u001b[0;31m# df_Merged=pd.concat([df_train,df_test,df_latest])\u001b[0m\u001b[0;34m\u001b[0m\u001b[0;34m\u001b[0m\u001b[0;34m\u001b[0m\u001b[0m\n\u001b[0;32m----> 2\u001b[0;31m \u001b[0mdf_Merged\u001b[0m \u001b[0;34m=\u001b[0m \u001b[0mpd\u001b[0m\u001b[0;34m.\u001b[0m\u001b[0mDataFrame\u001b[0m\u001b[0;34m(\u001b[0m\u001b[0mnp\u001b[0m\u001b[0;34m.\u001b[0m\u001b[0mconcatenate\u001b[0m\u001b[0;34m(\u001b[0m\u001b[0;34m[\u001b[0m\u001b[0mdf_train\u001b[0m\u001b[0;34m.\u001b[0m\u001b[0mvalues\u001b[0m\u001b[0;34m,\u001b[0m \u001b[0mdf_test\u001b[0m\u001b[0;34m.\u001b[0m\u001b[0mvalues\u001b[0m\u001b[0;34m,\u001b[0m \u001b[0mdf_latest\u001b[0m\u001b[0;34m.\u001b[0m\u001b[0mvalues\u001b[0m\u001b[0;34m]\u001b[0m\u001b[0;34m)\u001b[0m\u001b[0;34m,\u001b[0m \u001b[0mcolumns\u001b[0m\u001b[0;34m=\u001b[0m\u001b[0mdf_train\u001b[0m\u001b[0;34m.\u001b[0m\u001b[0mcolumns\u001b[0m\u001b[0;34m)\u001b[0m\u001b[0;34m\u001b[0m\u001b[0;34m\u001b[0m\u001b[0m\n\u001b[0m",
      "\u001b[0;32m<__array_function__ internals>\u001b[0m in \u001b[0;36mconcatenate\u001b[0;34m(*args, **kwargs)\u001b[0m\n",
      "\u001b[0;31mValueError\u001b[0m: all the input array dimensions for the concatenation axis must match exactly, but along dimension 1, the array at index 0 has size 7 and the array at index 2 has size 5"
     ]
    }
   ],
   "source": [
    "# df_Merged=pd.concat([df_train,df_test,df_latest])\n",
    "df_Merged = pd.DataFrame(np.concatenate([df_train.values, df_test.values, df_latest.values]), columns=df_train.columns)"
   ]
  },
  {
   "cell_type": "code",
   "execution_count": 1348,
   "id": "4149f652-b151-4388-86ac-d2f5f136d350",
   "metadata": {},
   "outputs": [
    {
     "data": {
      "text/html": [
       "<div>\n",
       "<style scoped>\n",
       "    .dataframe tbody tr th:only-of-type {\n",
       "        vertical-align: middle;\n",
       "    }\n",
       "\n",
       "    .dataframe tbody tr th {\n",
       "        vertical-align: top;\n",
       "    }\n",
       "\n",
       "    .dataframe thead th {\n",
       "        text-align: right;\n",
       "    }\n",
       "</style>\n",
       "<table border=\"1\" class=\"dataframe\">\n",
       "  <thead>\n",
       "    <tr style=\"text-align: right;\">\n",
       "      <th></th>\n",
       "      <th>Date</th>\n",
       "      <th>High</th>\n",
       "      <th>Low</th>\n",
       "      <th>Open</th>\n",
       "      <th>Close</th>\n",
       "    </tr>\n",
       "  </thead>\n",
       "  <tbody>\n",
       "    <tr>\n",
       "      <th>0</th>\n",
       "      <td>2003-12-01</td>\n",
       "      <td>111.370639</td>\n",
       "      <td>110.482062</td>\n",
       "      <td>111.314347</td>\n",
       "      <td>110.676377</td>\n",
       "    </tr>\n",
       "    <tr>\n",
       "      <th>1</th>\n",
       "      <td>2003-12-02</td>\n",
       "      <td>112.008532</td>\n",
       "      <td>110.500532</td>\n",
       "      <td>110.639316</td>\n",
       "      <td>111.823016</td>\n",
       "    </tr>\n",
       "    <tr>\n",
       "      <th>2</th>\n",
       "      <td>2003-12-03</td>\n",
       "      <td>112.202814</td>\n",
       "      <td>111.712284</td>\n",
       "      <td>111.832477</td>\n",
       "      <td>112.137524</td>\n",
       "    </tr>\n",
       "    <tr>\n",
       "      <th>3</th>\n",
       "      <td>2003-12-04</td>\n",
       "      <td>112.332259</td>\n",
       "      <td>111.406851</td>\n",
       "      <td>112.110343</td>\n",
       "      <td>111.748717</td>\n",
       "    </tr>\n",
       "    <tr>\n",
       "      <th>4</th>\n",
       "      <td>2003-12-05</td>\n",
       "      <td>112.766375</td>\n",
       "      <td>111.609834</td>\n",
       "      <td>111.721723</td>\n",
       "      <td>112.729259</td>\n",
       "    </tr>\n",
       "    <tr>\n",
       "      <th>...</th>\n",
       "      <td>...</td>\n",
       "      <td>...</td>\n",
       "      <td>...</td>\n",
       "      <td>...</td>\n",
       "      <td>...</td>\n",
       "    </tr>\n",
       "    <tr>\n",
       "      <th>3325</th>\n",
       "      <td>2019-12-19</td>\n",
       "      <td>103.067513</td>\n",
       "      <td>102.766359</td>\n",
       "      <td>102.822331</td>\n",
       "      <td>102.822331</td>\n",
       "    </tr>\n",
       "    <tr>\n",
       "      <th>3326</th>\n",
       "      <td>2019-12-26</td>\n",
       "      <td>102.720708</td>\n",
       "      <td>102.515795</td>\n",
       "      <td>102.629538</td>\n",
       "      <td>102.632956</td>\n",
       "    </tr>\n",
       "    <tr>\n",
       "      <th>3327</th>\n",
       "      <td>2019-12-27</td>\n",
       "      <td>103.421288</td>\n",
       "      <td>102.67499</td>\n",
       "      <td>102.686502</td>\n",
       "      <td>102.685356</td>\n",
       "    </tr>\n",
       "    <tr>\n",
       "      <th>3328</th>\n",
       "      <td>2019-12-30</td>\n",
       "      <td>103.791471</td>\n",
       "      <td>103.429382</td>\n",
       "      <td>103.429382</td>\n",
       "      <td>103.436318</td>\n",
       "    </tr>\n",
       "    <tr>\n",
       "      <th>3329</th>\n",
       "      <td>2019-12-31</td>\n",
       "      <td>103.979324</td>\n",
       "      <td>103.606639</td>\n",
       "      <td>103.641461</td>\n",
       "      <td>103.621249</td>\n",
       "    </tr>\n",
       "  </tbody>\n",
       "</table>\n",
       "<p>3330 rows × 5 columns</p>\n",
       "</div>"
      ],
      "text/plain": [
       "           Date        High         Low        Open       Close\n",
       "0    2003-12-01  111.370639  110.482062  111.314347  110.676377\n",
       "1    2003-12-02  112.008532  110.500532  110.639316  111.823016\n",
       "2    2003-12-03  112.202814  111.712284  111.832477  112.137524\n",
       "3    2003-12-04  112.332259  111.406851  112.110343  111.748717\n",
       "4    2003-12-05  112.766375  111.609834  111.721723  112.729259\n",
       "...         ...         ...         ...         ...         ...\n",
       "3325 2019-12-19  103.067513  102.766359  102.822331  102.822331\n",
       "3326 2019-12-26  102.720708  102.515795  102.629538  102.632956\n",
       "3327 2019-12-27  103.421288   102.67499  102.686502  102.685356\n",
       "3328 2019-12-30  103.791471  103.429382  103.429382  103.436318\n",
       "3329 2019-12-31  103.979324  103.606639  103.641461  103.621249\n",
       "\n",
       "[3330 rows x 5 columns]"
      ]
     },
     "execution_count": 1348,
     "metadata": {},
     "output_type": "execute_result"
    }
   ],
   "source": [
    "df_Merged"
   ]
  },
  {
   "cell_type": "code",
   "execution_count": 1349,
   "id": "6a29bd61-a43a-45fd-a1db-1e76783b8215",
   "metadata": {},
   "outputs": [
    {
     "name": "stdout",
     "output_type": "stream",
     "text": [
      "<class 'pandas.core.frame.DataFrame'>\n",
      "RangeIndex: 3330 entries, 0 to 3329\n",
      "Data columns (total 5 columns):\n",
      " #   Column  Non-Null Count  Dtype         \n",
      "---  ------  --------------  -----         \n",
      " 0   Date    3330 non-null   datetime64[ns]\n",
      " 1   High    3330 non-null   object        \n",
      " 2   Low     3330 non-null   object        \n",
      " 3   Open    3330 non-null   object        \n",
      " 4   Close   3330 non-null   object        \n",
      "dtypes: datetime64[ns](1), object(4)\n",
      "memory usage: 130.2+ KB\n"
     ]
    }
   ],
   "source": [
    "df_Merged.info()"
   ]
  },
  {
   "cell_type": "markdown",
   "id": "98046edc-d7e6-4ebe-99b5-aba997bf9928",
   "metadata": {},
   "source": [
    "##　LSTMモデルへ訓練させるための前処理"
   ]
  },
  {
   "cell_type": "code",
   "execution_count": 1350,
   "id": "6ab9e7c4-fadc-4428-b3d8-73d1f845386d",
   "metadata": {},
   "outputs": [],
   "source": [
    "##　LSTMモデルへ訓練させるための前処理"
   ]
  },
  {
   "cell_type": "code",
   "execution_count": 1351,
   "id": "490de5d6-ec84-4808-ba49-a198c1d9523e",
   "metadata": {},
   "outputs": [],
   "source": [
    "# windowを設定\n",
    "window_len=6\n",
    "# window_len=6 #11/6の中間報告でのアドバイスを受け修正しようとしたが、後に出てくる未来予測のところでエラーが出るため一旦保留"
   ]
  },
  {
   "cell_type": "code",
   "execution_count": null,
   "id": "231909a5-3252-43c5-b43c-9efadcb299ee",
   "metadata": {},
   "outputs": [],
   "source": []
  },
  {
   "cell_type": "code",
   "execution_count": 1352,
   "id": "d9b2e854-58f3-4c35-bf80-f955ec00f65c",
   "metadata": {},
   "outputs": [],
   "source": [
    "# # Closeの単価だけ抽出\n",
    "# df_train=df_train['Close']\n",
    "# df_test=df_test['Close']\n",
    "# df_latest=df_latest['Close']"
   ]
  },
  {
   "cell_type": "code",
   "execution_count": 1353,
   "id": "c0a418ea-b9b7-42e0-a559-6e30a000acd9",
   "metadata": {},
   "outputs": [],
   "source": [
    "# Dateそぎ落とし\n",
    "# del df_train['High','Low','Open','Close']\n",
    "# del df_test['High','Low','Open','Close']\n",
    "# del df_latest['Date']"
   ]
  },
  {
   "cell_type": "code",
   "execution_count": 1354,
   "id": "a85e43d5-3358-4cc6-96c5-3b6f0c93a5ba",
   "metadata": {},
   "outputs": [],
   "source": [
    "# Dateをインデックスに指定\n",
    "df_train.set_index('Date',inplace=True)\n",
    "df_test.set_index('Date',inplace=True)\n",
    "df_latest.set_index('Date',inplace=True)"
   ]
  },
  {
   "cell_type": "code",
   "execution_count": 1355,
   "id": "4ff1869f-149e-4bc3-b6e7-e80e712c7507",
   "metadata": {},
   "outputs": [
    {
     "data": {
      "text/plain": [
       "[<matplotlib.lines.Line2D at 0x7fa6b1675fd0>,\n",
       " <matplotlib.lines.Line2D at 0x7fa6b1d12fa0>,\n",
       " <matplotlib.lines.Line2D at 0x7fa6abe0b430>,\n",
       " <matplotlib.lines.Line2D at 0x7fa6abe0bc10>,\n",
       " <matplotlib.lines.Line2D at 0x7fa6abe0ba30>,\n",
       " <matplotlib.lines.Line2D at 0x7fa6abe0bdc0>]"
      ]
     },
     "execution_count": 1355,
     "metadata": {},
     "output_type": "execute_result"
    },
    {
     "data": {
      "image/png": "[encoded data removed]",
      "text/plain": [
       "<Figure size 2160x720 with 1 Axes>"
      ]
     },
     "metadata": {
      "needs_background": "light"
     },
     "output_type": "display_data"
    }
   ],
   "source": [
    "fig = plt.subplots(figsize=(30,10))\n",
    "plt.plot(df_train)"
   ]
  },
  {
   "cell_type": "code",
   "execution_count": 1356,
   "id": "0695a4ff-f7a4-410d-a11d-17dfe011099a",
   "metadata": {},
   "outputs": [
    {
     "name": "stdout",
     "output_type": "stream",
     "text": [
      "単価抽出後のサマリ(df_train)\n",
      "              High          Low         Open        Close      Close01  \\\n",
      "count  2074.000000  2074.000000  2074.000000  2074.000000  2074.000000   \n",
      "mean    124.078238   122.976785   123.526205   123.529490   123.515970   \n",
      "std       9.210193     9.155624     9.188003     9.184970     9.141672   \n",
      "min     108.520946   107.748581   107.993884   107.998923   108.316820   \n",
      "25%     117.002707   115.876669   116.408944   116.427990   116.564712   \n",
      "50%     123.242134   121.954434   122.590435   122.573382   122.595971   \n",
      "75%     130.814157   129.426294   130.201913   130.179930   130.032894   \n",
      "max     148.260942   146.834717   147.832063   147.888796   147.025652   \n",
      "\n",
      "               EMA  \n",
      "count  2074.000000  \n",
      "mean    123.516408  \n",
      "std       9.122685  \n",
      "min     108.479788  \n",
      "25%     116.597826  \n",
      "50%     122.608192  \n",
      "75%     129.999944  \n",
      "max     146.934929  \n",
      "\n",
      "単価抽出後のサマリ(df_test)\n",
      "              High          Low         Open        Close      Close01  \\\n",
      "count  1246.000000  1246.000000  1246.000000  1246.000000  1246.000000   \n",
      "mean    111.424603   110.675657   111.069958   111.070373   111.104449   \n",
      "std       9.206534     9.270658     9.215541     9.214999     9.191832   \n",
      "min      96.767439    70.352906    96.364197    96.357173    96.600661   \n",
      "25%     103.722807   103.064503   103.422443   103.422154   103.506378   \n",
      "50%     108.456692   107.796669   108.091687   108.082215   108.085734   \n",
      "75%     120.690221   119.751722   120.218867   120.219641   120.219547   \n",
      "max     129.417693   128.691531   128.851618   128.858797   128.418676   \n",
      "\n",
      "               EMA  \n",
      "count  1246.000000  \n",
      "mean    111.104774  \n",
      "std       9.180953  \n",
      "min      96.768696  \n",
      "25%     103.455898  \n",
      "50%     108.081378  \n",
      "75%     120.243367  \n",
      "max     128.426946  \n",
      "\n",
      "単価抽出後のサマリ(df_latest)\n",
      "             High         Low        Open       Close\n",
      "count   10.000000   10.000000   10.000000   10.000000\n",
      "mean   103.334161  102.926054  103.071625  103.074446\n",
      "std      0.361769    0.337125    0.340458    0.340053\n",
      "min    102.720708  102.515795  102.629538  102.632956\n",
      "25%    103.155731  102.769785  102.843781  102.842064\n",
      "50%    103.281038  102.817198  103.000376  103.011844\n",
      "75%    103.464673  102.943638  103.359891  103.364806\n",
      "max    103.979324  103.606639  103.641461  103.621249\n",
      "\n"
     ]
    }
   ],
   "source": [
    "# 分割後の詳細\n",
    "print(f'単価抽出後のサマリ(df_train)\\n{df_train.describe()}\\n')\n",
    "print(f'単価抽出後のサマリ(df_test)\\n{df_test.describe()}\\n')\n",
    "print(f'単価抽出後のサマリ(df_latest)\\n{df_latest.describe()}\\n')"
   ]
  },
  {
   "cell_type": "code",
   "execution_count": 1357,
   "id": "20fc0bc9-af10-42be-907d-5a109e96fbe7",
   "metadata": {},
   "outputs": [
    {
     "data": {
      "text/html": [
       "<div>\n",
       "<style scoped>\n",
       "    .dataframe tbody tr th:only-of-type {\n",
       "        vertical-align: middle;\n",
       "    }\n",
       "\n",
       "    .dataframe tbody tr th {\n",
       "        vertical-align: top;\n",
       "    }\n",
       "\n",
       "    .dataframe thead th {\n",
       "        text-align: right;\n",
       "    }\n",
       "</style>\n",
       "<table border=\"1\" class=\"dataframe\">\n",
       "  <thead>\n",
       "    <tr style=\"text-align: right;\">\n",
       "      <th></th>\n",
       "      <th>High</th>\n",
       "      <th>Low</th>\n",
       "      <th>Open</th>\n",
       "      <th>Close</th>\n",
       "      <th>Close01</th>\n",
       "      <th>EMA</th>\n",
       "    </tr>\n",
       "    <tr>\n",
       "      <th>Date</th>\n",
       "      <th></th>\n",
       "      <th></th>\n",
       "      <th></th>\n",
       "      <th></th>\n",
       "      <th></th>\n",
       "      <th></th>\n",
       "    </tr>\n",
       "  </thead>\n",
       "  <tbody>\n",
       "    <tr>\n",
       "      <th>2003-12-01</th>\n",
       "      <td>111.370639</td>\n",
       "      <td>110.482062</td>\n",
       "      <td>111.314347</td>\n",
       "      <td>110.676377</td>\n",
       "      <td>110.676377</td>\n",
       "      <td>110.676377</td>\n",
       "    </tr>\n",
       "    <tr>\n",
       "      <th>2003-12-02</th>\n",
       "      <td>112.008532</td>\n",
       "      <td>110.500532</td>\n",
       "      <td>110.639316</td>\n",
       "      <td>111.823016</td>\n",
       "      <td>110.946101</td>\n",
       "      <td>111.345250</td>\n",
       "    </tr>\n",
       "    <tr>\n",
       "      <th>2003-12-03</th>\n",
       "      <td>112.202814</td>\n",
       "      <td>111.712284</td>\n",
       "      <td>111.832477</td>\n",
       "      <td>112.137524</td>\n",
       "      <td>111.215825</td>\n",
       "      <td>111.701410</td>\n",
       "    </tr>\n",
       "    <tr>\n",
       "      <th>2003-12-04</th>\n",
       "      <td>112.332259</td>\n",
       "      <td>111.406851</td>\n",
       "      <td>112.110343</td>\n",
       "      <td>111.748717</td>\n",
       "      <td>111.485549</td>\n",
       "      <td>111.719683</td>\n",
       "    </tr>\n",
       "    <tr>\n",
       "      <th>2003-12-05</th>\n",
       "      <td>112.766375</td>\n",
       "      <td>111.609834</td>\n",
       "      <td>111.721723</td>\n",
       "      <td>112.729259</td>\n",
       "      <td>111.755273</td>\n",
       "      <td>112.074016</td>\n",
       "    </tr>\n",
       "  </tbody>\n",
       "</table>\n",
       "</div>"
      ],
      "text/plain": [
       "                  High         Low        Open       Close     Close01  \\\n",
       "Date                                                                     \n",
       "2003-12-01  111.370639  110.482062  111.314347  110.676377  110.676377   \n",
       "2003-12-02  112.008532  110.500532  110.639316  111.823016  110.946101   \n",
       "2003-12-03  112.202814  111.712284  111.832477  112.137524  111.215825   \n",
       "2003-12-04  112.332259  111.406851  112.110343  111.748717  111.485549   \n",
       "2003-12-05  112.766375  111.609834  111.721723  112.729259  111.755273   \n",
       "\n",
       "                   EMA  \n",
       "Date                    \n",
       "2003-12-01  110.676377  \n",
       "2003-12-02  111.345250  \n",
       "2003-12-03  111.701410  \n",
       "2003-12-04  111.719683  \n",
       "2003-12-05  112.074016  "
      ]
     },
     "execution_count": 1357,
     "metadata": {},
     "output_type": "execute_result"
    }
   ],
   "source": [
    "df_train.head()"
   ]
  },
  {
   "cell_type": "code",
   "execution_count": 1358,
   "id": "ff4ffc71-da95-4b5b-ae19-5d6d12e20204",
   "metadata": {},
   "outputs": [],
   "source": [
    "# LSTMへの入力用に処理の関数\n",
    "\n",
    "def data_maker(data):\n",
    "  data_lstm_in=[]\n",
    "  if len(data)==window_len:\n",
    "    temp = data[:window_len].copy()\n",
    "    temp = temp / temp.iloc[0] - 1\n",
    "    data_lstm_in.append(temp)\n",
    "  for i in range(len(data) - window_len): #今回のLSTMで生成する時系列データ数(train総数-10個のモデル)\n",
    "      temp = data[i:(i + window_len)].copy() #windowの単位で行を取得。参照渡しでなく値渡し。\n",
    "      temp = temp / temp.iloc[0] - 1\n",
    "      data_lstm_in.append(temp)\n",
    "  return data_lstm_in"
   ]
  },
  {
   "cell_type": "code",
   "execution_count": 1359,
   "id": "51d3588b-01c5-447c-96bb-1e54ca4cbe64",
   "metadata": {},
   "outputs": [],
   "source": [
    "#関数の実行(Trainデータ)\n",
    "train_lstm_in = data_maker(df_train)"
   ]
  },
  {
   "cell_type": "code",
   "execution_count": 1360,
   "id": "ba2c6512-656c-4c30-a186-40f7d4cb2806",
   "metadata": {},
   "outputs": [
    {
     "name": "stdout",
     "output_type": "stream",
     "text": [
      "train_lstm_in_配列数 : 2068\n",
      "\n",
      "train_lstm_in[0]\n",
      "                High       Low      Open     Close   Close01       EMA\n",
      "Date                                                                  \n",
      "2003-12-01  0.000000  0.000000  0.000000  0.000000  0.000000  0.000000\n",
      "2003-12-02  0.005728  0.000167 -0.006064  0.010360  0.002437  0.006044\n",
      "2003-12-03  0.007472  0.011135  0.004655  0.013202  0.004874  0.009262\n",
      "2003-12-04  0.008634  0.008370  0.007151  0.009689  0.007311  0.009427\n",
      "2003-12-05  0.012532  0.010208  0.003660  0.018549  0.009748  0.012628\n",
      "2003-12-08  0.016610  0.017587  0.011134  0.021312  0.012185  0.015489\n",
      "\n",
      "train_lstm_in[1]\n",
      "                High       Low      Open     Close   Close01       EMA\n",
      "Date                                                                  \n",
      "2003-12-02  0.000000  0.000000  0.000000  0.000000  0.000000  0.000000\n",
      "2003-12-03  0.001735  0.010966  0.010784  0.002813  0.002431  0.003199\n",
      "2003-12-04  0.002890  0.008202  0.013296 -0.000664  0.004862  0.003363\n",
      "2003-12-05  0.006766  0.010039  0.009783  0.008104  0.007293  0.006545\n",
      "2003-12-08  0.010820  0.017417  0.017303  0.010839  0.009725  0.009389\n",
      "2003-12-09  0.013873  0.021090  0.021741  0.013316  0.013684  0.012001\n",
      "\n",
      "train_lstm_in[-1]\n",
      "                High       Low      Open     Close   Close01       EMA\n",
      "Date                                                                  \n",
      "2011-12-06  0.000000  0.000000  0.000000  0.000000  0.000000  0.000000\n",
      "2011-12-07  0.002058  0.001001  0.002039  0.001891  0.001182  0.000164\n",
      "2011-12-08  0.002382 -0.002196  0.001220  0.001273  0.002174  0.000105\n",
      "2011-12-09  0.000376 -0.004066 -0.002936 -0.003083  0.000948 -0.001180\n",
      "2011-12-12 -0.003505 -0.009684 -0.001030 -0.001123 -0.000237 -0.001539\n",
      "2011-12-13 -0.014396 -0.018012 -0.016365 -0.016108 -0.003323 -0.006071\n",
      "\n"
     ]
    }
   ],
   "source": [
    "# 配列抜粋\n",
    "print(f'train_lstm_in_配列数 : {len(train_lstm_in)}\\n')\n",
    "print(f'train_lstm_in[0]\\n{train_lstm_in[0]}\\n')\n",
    "print(f'train_lstm_in[1]\\n{train_lstm_in[1]}\\n')\n",
    "print(f'train_lstm_in[-1]\\n{train_lstm_in[-1]}\\n')"
   ]
  },
  {
   "cell_type": "code",
   "execution_count": 1361,
   "id": "7170b76f-5829-4554-9535-62d5b5b16c45",
   "metadata": {},
   "outputs": [],
   "source": [
    "lstm_train_out = (df_train['Open'][window_len:].values / df_train['Open'][:-window_len].values)-1"
   ]
  },
  {
   "cell_type": "code",
   "execution_count": 1362,
   "id": "95e40aa7-684b-426b-9961-0117f9b03970",
   "metadata": {},
   "outputs": [
    {
     "data": {
      "text/plain": [
       "array([ 0.01554517,  0.02408164,  0.00835086, ..., -0.00716682,\n",
       "       -0.01876104, -0.02665515])"
      ]
     },
     "execution_count": 1362,
     "metadata": {},
     "output_type": "execute_result"
    }
   ],
   "source": [
    "lstm_train_out"
   ]
  },
  {
   "cell_type": "code",
   "execution_count": 1363,
   "id": "d2e58329-224a-4784-b46d-fe1cac235725",
   "metadata": {},
   "outputs": [],
   "source": [
    "#関数の実行(Testデータ)\n",
    "test_lstm_in = data_maker(df_test)"
   ]
  },
  {
   "cell_type": "code",
   "execution_count": 1364,
   "id": "b76e3681-6591-44c0-82ff-fdcc8107c1a3",
   "metadata": {},
   "outputs": [
    {
     "name": "stdout",
     "output_type": "stream",
     "text": [
      "test_lstm_in_配列数 : 1240\n",
      "\n",
      "test_lstm_in[0]\n",
      "                High       Low      Open     Close   Close01       EMA\n",
      "Date                                                                  \n",
      "2011-12-15  0.000000  0.000000  0.000000  0.000000  0.000000  0.000000\n",
      "2011-12-16  0.002682  0.003395  0.003284  0.003205  0.000673  0.001870\n",
      "2011-12-19 -0.000613  0.001701  0.003741  0.003768  0.001346  0.002723\n",
      "2011-12-20  0.006356  0.002625  0.001587  0.001522  0.002019  0.002259\n",
      "2011-12-21  0.011123  0.005055  0.007748  0.007696  0.002693  0.004167\n",
      "2011-12-22  0.005366  0.004675  0.003898  0.004003  0.003366  0.004113\n",
      "\n",
      "test_lstm_in[1]\n",
      "                High       Low      Open     Close   Close01       EMA\n",
      "Date                                                                  \n",
      "2011-12-16  0.000000  0.000000  0.000000  0.000000  0.000000  0.000000\n",
      "2011-12-19 -0.003286 -0.001688  0.000456  0.000561  0.000673  0.000852\n",
      "2011-12-20  0.003664 -0.000767 -0.001691 -0.001678  0.001345  0.000389\n",
      "2011-12-21  0.008418  0.001655  0.004450  0.004476  0.002018  0.002293\n",
      "2011-12-22  0.002676  0.001276  0.000613  0.000795  0.002691  0.002239\n",
      "2011-12-29 -0.010705 -0.011202 -0.008001 -0.007860  0.001911 -0.000531\n",
      "\n",
      "test_lstm_in[-1]\n",
      "                High       Low      Open     Close   Close01       EMA\n",
      "Date                                                                  \n",
      "2019-12-17  0.000000  0.000000  0.000000  0.000000  0.000000  0.000000\n",
      "2019-12-18 -0.001940 -0.001756  0.001294  0.001294  0.000991  0.000734\n",
      "2019-12-19 -0.002752 -0.001889 -0.001901 -0.001890  0.001484  0.000348\n",
      "2019-12-26 -0.006108 -0.004322 -0.003772 -0.003728  0.000878 -0.000454\n",
      "2019-12-27  0.000671 -0.002776 -0.003219 -0.003219 -0.000394 -0.000881\n",
      "2019-12-30  0.004253  0.004551  0.003992  0.004070  0.000472  0.000899\n",
      "\n"
     ]
    }
   ],
   "source": [
    "# 配列抜粋(Testデータ)\n",
    "print(f'test_lstm_in_配列数 : {len(test_lstm_in)}\\n')\n",
    "print(f'test_lstm_in[0]\\n{test_lstm_in[0]}\\n')\n",
    "print(f'test_lstm_in[1]\\n{test_lstm_in[1]}\\n')\n",
    "print(f'test_lstm_in[-1]\\n{test_lstm_in[-1]}\\n')"
   ]
  },
  {
   "cell_type": "code",
   "execution_count": 1365,
   "id": "e4fe251e-edaa-4fb7-a3a4-cec17f355c3f",
   "metadata": {},
   "outputs": [],
   "source": [
    "lstm_test_out = (df_test['Open'][window_len:].values / df_test['Open'][:-window_len].values)-1"
   ]
  },
  {
   "cell_type": "code",
   "execution_count": 1366,
   "id": "8c545549-2377-4fe9-a15b-f8a56958c30a",
   "metadata": {},
   "outputs": [
    {
     "data": {
      "text/plain": [
       "array([-0.00474374, -0.00597099, -0.00581912, ..., -0.00734906,\n",
       "        0.0050652 ,  0.00605043])"
      ]
     },
     "execution_count": 1366,
     "metadata": {},
     "output_type": "execute_result"
    }
   ],
   "source": [
    "lstm_test_out"
   ]
  },
  {
   "cell_type": "code",
   "execution_count": null,
   "id": "2d1a9d83-322b-4050-a0bf-c474bc6bc89f",
   "metadata": {},
   "outputs": [],
   "source": []
  },
  {
   "cell_type": "code",
   "execution_count": 1367,
   "id": "9086466a-a5b8-407f-aa11-8f8f4ab3933f",
   "metadata": {},
   "outputs": [],
   "source": [
    "# #関数の実行(Latestデータ)\n",
    "# latest_lstm_in = data_maker(df_latest)"
   ]
  },
  {
   "cell_type": "code",
   "execution_count": 1368,
   "id": "278b4092-6140-40f6-b923-00acad181de3",
   "metadata": {},
   "outputs": [],
   "source": [
    "# # 配列抜粋\n",
    "# print(f'latest_lstm_in_配列数 : {len(latest_lstm_in)}\\n')\n",
    "# print(f'latest_lstm_in\\n{latest_lstm_in[0]}\\n')\n",
    "# #print(f'latest_lstm_in\\n{latest_lstm_in[1]}\\n')\n",
    "# # print(f'latest_lstm_in\\n{latest_lstm_in[-1]}\\n')"
   ]
  },
  {
   "cell_type": "markdown",
   "id": "0e5cb290-36cb-43f4-8516-b931e725a7b0",
   "metadata": {},
   "source": [
    "## Numpy配列への変換"
   ]
  },
  {
   "cell_type": "code",
   "execution_count": 1369,
   "id": "b61cbcb6-4597-49ac-9c01-38ba5056fe68",
   "metadata": {},
   "outputs": [],
   "source": [
    "# PandasのデータフレームからNumpy配列へ変換。リスト内包表記という記法がここでは使われている。\n",
    "train_lstm_in = [np.array(train_lstm_input) for train_lstm_input in train_lstm_in]\n",
    "train_lstm_in = np.array(train_lstm_in)\n",
    "\n",
    "test_lstm_in = [np.array(test_lstm_input) for test_lstm_input in test_lstm_in]\n",
    "test_lstm_in = np.array(test_lstm_in)"
   ]
  },
  {
   "cell_type": "code",
   "execution_count": 1370,
   "id": "c25996dd-34e9-482f-ab14-f7ad4df8a9cb",
   "metadata": {},
   "outputs": [],
   "source": [
    "# # 11/6 latestデータのnumpyへの置き換え\n",
    "# latest_lstm_in = [np.array(test_lstm_input) for test_lstm_input in latest_lstm_in]\n",
    "# latest_lstm_in = np.array(latest_lstm_in)"
   ]
  },
  {
   "cell_type": "code",
   "execution_count": 1371,
   "id": "f2118607-ee45-47ac-8d13-b1420ff3486f",
   "metadata": {},
   "outputs": [
    {
     "name": "stdout",
     "output_type": "stream",
     "text": [
      "train_lstm_in.shape[0] : 2068\n",
      "train_lstm_in.shape[1] : 6\n",
      "train_lstm_in.shape[2] : 6\n"
     ]
    }
   ],
   "source": [
    "print(f'train_lstm_in.shape[0] : {train_lstm_in.shape[0]}')\n",
    "print(f'train_lstm_in.shape[1] : {train_lstm_in.shape[1]}')\n",
    "print(f'train_lstm_in.shape[2] : {train_lstm_in.shape[2]}')"
   ]
  },
  {
   "cell_type": "code",
   "execution_count": null,
   "id": "ba83b6c2-aba9-4d3a-a57e-6a68cf46e62a",
   "metadata": {},
   "outputs": [],
   "source": [
    "\n"
   ]
  },
  {
   "cell_type": "code",
   "execution_count": 1372,
   "id": "7b7619ca-9825-4f40-9815-9831338ea3b2",
   "metadata": {},
   "outputs": [
    {
     "data": {
      "text/plain": [
       "array([[[ 0.        ,  0.        ,  0.        ,  0.        ,\n",
       "          0.        ,  0.        ],\n",
       "        [ 0.00572766,  0.00016718, -0.00606419,  0.01036029,\n",
       "          0.00243705,  0.0060435 ],\n",
       "        [ 0.00747212,  0.01113504,  0.00465466,  0.01320198,\n",
       "          0.0048741 ,  0.00926153],\n",
       "        [ 0.00863441,  0.0083705 ,  0.00715088,  0.00968897,\n",
       "          0.00731115,  0.00942663],\n",
       "        [ 0.01253235,  0.01020774,  0.00365969,  0.01854851,\n",
       "          0.0097482 ,  0.01262816],\n",
       "        [ 0.0166098 ,  0.01758695,  0.01113381,  0.02131179,\n",
       "          0.01218525,  0.01548917]],\n",
       "\n",
       "       [[ 0.        ,  0.        ,  0.        ,  0.        ,\n",
       "          0.        ,  0.        ],\n",
       "        [ 0.00173453,  0.01096603,  0.01078424,  0.00281255,\n",
       "          0.00243113,  0.0031987 ],\n",
       "        [ 0.0028902 ,  0.00820195,  0.0132957 , -0.00066443,\n",
       "          0.00486225,  0.00336281],\n",
       "        [ 0.00676594,  0.01003888,  0.00978321,  0.00810426,\n",
       "          0.00729338,  0.0065451 ],\n",
       "        [ 0.01082017,  0.01741687,  0.01730293,  0.0108392 ,\n",
       "          0.0097245 ,  0.00938892],\n",
       "        [ 0.0138729 ,  0.02109034,  0.02174121,  0.01331569,\n",
       "          0.01368384,  0.01200093]],\n",
       "\n",
       "       [[ 0.        ,  0.        ,  0.        ,  0.        ,\n",
       "          0.        ,  0.        ],\n",
       "        [ 0.00115366, -0.0027341 ,  0.00248466, -0.00346723,\n",
       "          0.00242523,  0.00016359],\n",
       "        [ 0.0050227 , -0.00091709, -0.00099035,  0.00527686,\n",
       "          0.00485046,  0.00333573],\n",
       "        [ 0.0090699 ,  0.00638086,  0.00644914,  0.00800414,\n",
       "          0.00727569,  0.00617049],\n",
       "        [ 0.01211735,  0.01001449,  0.01084006,  0.01047368,\n",
       "          0.01122543,  0.00877416],\n",
       "        [ 0.01121115,  0.00704181,  0.01315552,  0.00560785,\n",
       "          0.01263913,  0.00900705]],\n",
       "\n",
       "       ...,\n",
       "\n",
       "       [[ 0.        ,  0.        ,  0.        ,  0.        ,\n",
       "          0.        ,  0.        ],\n",
       "        [-0.00399136, -0.00136702, -0.00371663, -0.00355594,\n",
       "          0.00109749,  0.00022916],\n",
       "        [-0.00835044, -0.00592309, -0.00614357, -0.00595705,\n",
       "          0.00201086, -0.00029618],\n",
       "        [-0.00630941, -0.00492755, -0.00411743, -0.00407715,\n",
       "          0.00319571, -0.00013196],\n",
       "        [-0.00598845, -0.00810638, -0.00493152, -0.0046913 ,\n",
       "          0.00418892, -0.0001909 ],\n",
       "        [-0.00797753, -0.00996455, -0.00906152, -0.00902143,\n",
       "          0.00296071, -0.00147559]],\n",
       "\n",
       "       [[ 0.        ,  0.        ,  0.        ,  0.        ,\n",
       "          0.        ,  0.        ],\n",
       "        [-0.00437655, -0.0045623 , -0.002436  , -0.00240968,\n",
       "          0.00091237, -0.00052522],\n",
       "        [-0.00232734, -0.00356541, -0.0004023 , -0.00052307,\n",
       "          0.00209592, -0.00036104],\n",
       "        [-0.00200509, -0.00674858, -0.00121942, -0.00113941,\n",
       "          0.00308804, -0.00041997],\n",
       "        [-0.00400214, -0.0086093 , -0.00536483, -0.005485  ,\n",
       "          0.00186118, -0.00170437],\n",
       "        [-0.00786619, -0.01420185, -0.00346307, -0.00353016,\n",
       "          0.00067467, -0.00206295]],\n",
       "\n",
       "       [[ 0.        ,  0.        ,  0.        ,  0.        ,\n",
       "          0.        ,  0.        ],\n",
       "        [ 0.00205822,  0.00100146,  0.00203867,  0.00189117,\n",
       "          0.00118247,  0.00016427],\n",
       "        [ 0.00238188, -0.0021963 ,  0.00121955,  0.00127333,\n",
       "          0.00217369,  0.00010531],\n",
       "        [ 0.00037605, -0.00406554, -0.00293598, -0.00308275,\n",
       "          0.00094795, -0.00117976],\n",
       "        [-0.00350498, -0.00968373, -0.00102958, -0.00112319,\n",
       "         -0.00023749, -0.00153854],\n",
       "        [-0.01439606, -0.01801248, -0.01636491, -0.01610817,\n",
       "         -0.00332333, -0.0060706 ]]])"
      ]
     },
     "execution_count": 1372,
     "metadata": {},
     "output_type": "execute_result"
    }
   ],
   "source": [
    "train_lstm_in"
   ]
  },
  {
   "cell_type": "markdown",
   "id": "8e920fb1-738b-4a2e-adae-22277451439c",
   "metadata": {},
   "source": [
    "## モデルの定義"
   ]
  },
  {
   "cell_type": "code",
   "execution_count": 1373,
   "id": "f72edeeb-f600-4470-b058-9fec754d6d63",
   "metadata": {},
   "outputs": [],
   "source": [
    "# モデルの定義\n",
    "from keras.models import Sequential\n",
    "from keras.layers import Activation, Dense\n",
    "from keras.layers import LSTM\n",
    "from keras.layers import Dropout"
   ]
  },
  {
   "cell_type": "code",
   "execution_count": 1374,
   "id": "c60224ae-815e-45cf-84de-66bc7610cb75",
   "metadata": {},
   "outputs": [],
   "source": [
    "# LSTMのモデルを設定\n",
    "def build_model(inputs, output_size, neurons, activ_func=\"linear\",\n",
    "                dropout=0.25, loss=\"mae\", optimizer=\"adam\"):\n",
    "    model = Sequential()\n",
    " \n",
    "    model.add(LSTM(neurons, input_shape=(inputs.shape[1], inputs.shape[2]))) #バッチ数、時系列データ数、特徴量数\n",
    "    model.add(Dropout(dropout)) \n",
    "    model.add(Dense(units=output_size))\n",
    "    model.add(Activation(activ_func))\n",
    " \n",
    "    model.compile(loss=loss, optimizer=optimizer)\n",
    "    return model"
   ]
  },
  {
   "cell_type": "code",
   "execution_count": null,
   "id": "334500b5-270c-41b8-9349-4a1697674a01",
   "metadata": {},
   "outputs": [],
   "source": []
  },
  {
   "cell_type": "markdown",
   "id": "8725a249-19e4-48ed-86af-adccc81492c3",
   "metadata": {},
   "source": [
    "## データの学習と予測"
   ]
  },
  {
   "cell_type": "code",
   "execution_count": 1375,
   "id": "1e66be32-c774-435c-85e3-12f5166bee35",
   "metadata": {},
   "outputs": [
    {
     "name": "stdout",
     "output_type": "stream",
     "text": [
      "Epoch 1/50\n",
      "2068/2068 - 4s - loss: 0.0068\n",
      "Epoch 2/50\n",
      "2068/2068 - 3s - loss: 0.0055\n",
      "Epoch 3/50\n",
      "2068/2068 - 3s - loss: 0.0049\n",
      "Epoch 4/50\n",
      "2068/2068 - 3s - loss: 0.0045\n",
      "Epoch 5/50\n",
      "2068/2068 - 3s - loss: 0.0043\n",
      "Epoch 6/50\n",
      "2068/2068 - 3s - loss: 0.0042\n",
      "Epoch 7/50\n",
      "2068/2068 - 3s - loss: 0.0042\n",
      "Epoch 8/50\n",
      "2068/2068 - 3s - loss: 0.0040\n",
      "Epoch 9/50\n",
      "2068/2068 - 3s - loss: 0.0039\n",
      "Epoch 10/50\n",
      "2068/2068 - 3s - loss: 0.0038\n",
      "Epoch 11/50\n",
      "2068/2068 - 3s - loss: 0.0038\n",
      "Epoch 12/50\n",
      "2068/2068 - 3s - loss: 0.0038\n",
      "Epoch 13/50\n",
      "2068/2068 - 3s - loss: 0.0039\n",
      "Epoch 14/50\n",
      "2068/2068 - 3s - loss: 0.0037\n",
      "Epoch 15/50\n",
      "2068/2068 - 3s - loss: 0.0036\n",
      "Epoch 16/50\n",
      "2068/2068 - 3s - loss: 0.0038\n",
      "Epoch 17/50\n",
      "2068/2068 - 3s - loss: 0.0037\n",
      "Epoch 18/50\n",
      "2068/2068 - 3s - loss: 0.0038\n",
      "Epoch 19/50\n",
      "2068/2068 - 3s - loss: 0.0037\n",
      "Epoch 20/50\n",
      "2068/2068 - 3s - loss: 0.0036\n",
      "Epoch 21/50\n",
      "2068/2068 - 3s - loss: 0.0036\n",
      "Epoch 22/50\n",
      "2068/2068 - 3s - loss: 0.0036\n",
      "Epoch 23/50\n",
      "2068/2068 - 3s - loss: 0.0036\n",
      "Epoch 24/50\n",
      "2068/2068 - 3s - loss: 0.0036\n",
      "Epoch 25/50\n",
      "2068/2068 - 3s - loss: 0.0035\n",
      "Epoch 26/50\n",
      "2068/2068 - 3s - loss: 0.0036\n",
      "Epoch 27/50\n",
      "2068/2068 - 3s - loss: 0.0036\n",
      "Epoch 28/50\n",
      "2068/2068 - 3s - loss: 0.0036\n",
      "Epoch 29/50\n",
      "2068/2068 - 3s - loss: 0.0036\n",
      "Epoch 30/50\n",
      "2068/2068 - 3s - loss: 0.0035\n",
      "Epoch 31/50\n",
      "2068/2068 - 3s - loss: 0.0036\n",
      "Epoch 32/50\n",
      "2068/2068 - 3s - loss: 0.0035\n",
      "Epoch 33/50\n",
      "2068/2068 - 3s - loss: 0.0035\n",
      "Epoch 34/50\n",
      "2068/2068 - 3s - loss: 0.0035\n",
      "Epoch 35/50\n",
      "2068/2068 - 3s - loss: 0.0034\n",
      "Epoch 36/50\n",
      "2068/2068 - 3s - loss: 0.0035\n",
      "Epoch 37/50\n",
      "2068/2068 - 3s - loss: 0.0034\n",
      "Epoch 38/50\n",
      "2068/2068 - 3s - loss: 0.0035\n",
      "Epoch 39/50\n",
      "2068/2068 - 3s - loss: 0.0035\n",
      "Epoch 40/50\n",
      "2068/2068 - 3s - loss: 0.0035\n",
      "Epoch 41/50\n",
      "2068/2068 - 3s - loss: 0.0034\n",
      "Epoch 42/50\n",
      "2068/2068 - 3s - loss: 0.0035\n",
      "Epoch 43/50\n",
      "2068/2068 - 3s - loss: 0.0035\n",
      "Epoch 44/50\n",
      "2068/2068 - 3s - loss: 0.0034\n",
      "Epoch 45/50\n",
      "2068/2068 - 3s - loss: 0.0035\n",
      "Epoch 46/50\n",
      "2068/2068 - 3s - loss: 0.0034\n",
      "Epoch 47/50\n",
      "2068/2068 - 3s - loss: 0.0034\n",
      "Epoch 48/50\n",
      "2068/2068 - 3s - loss: 0.0035\n",
      "Epoch 49/50\n",
      "2068/2068 - 3s - loss: 0.0034\n",
      "Epoch 50/50\n",
      "2068/2068 - 3s - loss: 0.0035\n"
     ]
    }
   ],
   "source": [
    "np.random.seed(202)\n",
    " \n",
    "# 初期モデルの構築\n",
    "yen_model = build_model(train_lstm_in, output_size=1, neurons = 20)\n",
    "\n",
    "# データを流してフィッティングさせる\n",
    "yen_history = yen_model.fit(train_lstm_in, lstm_train_out, \n",
    "                            epochs=25, batch_size=1, verbose=2, shuffle=False)\n",
    "# 11/5 epochs=50からepochs=10に変更\n",
    "# 11/5 shuffle=TrueからFalseに変更"
   ]
  },
  {
   "cell_type": "code",
   "execution_count": 1376,
   "id": "bebaf562-4cb9-4198-9c69-496fe3c5bd1a",
   "metadata": {},
   "outputs": [
    {
     "data": {
      "image/png": "[encoded data removed]",
      "text/plain": [
       "<Figure size 432x288 with 1 Axes>"
      ]
     },
     "metadata": {
      "needs_background": "light"
     },
     "output_type": "display_data"
    }
   ],
   "source": [
    "# MAEをプロットしてみよう\n",
    "fig, ax1 = plt.subplots(1,1)\n",
    " \n",
    "ax1.plot(yen_history.epoch, yen_history.history['loss'])\n",
    "ax1.set_title('TrainingError')\n",
    " \n",
    "if yen_model.loss == 'mae':\n",
    "    ax1.set_ylabel('Mean Absolute Error (MAE)',fontsize=12)\n",
    "else:\n",
    "    ax1.set_ylabel('Model Loss',fontsize=12)\n",
    "ax1.set_xlabel('# Epochs',fontsize=12)\n",
    "plt.show()"
   ]
  },
  {
   "cell_type": "code",
   "execution_count": 1377,
   "id": "a3457ec5-1a28-4b3b-a8cb-94b54f0fb806",
   "metadata": {},
   "outputs": [],
   "source": [
    "#作成したモデルを使用し予測。\n",
    "train_pred = yen_model.predict(train_lstm_in)\n",
    "# test_pred = yen_model.predict(X_test)"
   ]
  },
  {
   "cell_type": "code",
   "execution_count": 1378,
   "id": "a277c3e2-e59c-4c36-bb3d-3e9edd5df5a3",
   "metadata": {},
   "outputs": [
    {
     "data": {
      "text/plain": [
       "array([[ 0.01297633],\n",
       "       [ 0.01976964],\n",
       "       [ 0.00519923],\n",
       "       ...,\n",
       "       [-0.00902561],\n",
       "       [-0.00773944],\n",
       "       [-0.01839018]], dtype=float32)"
      ]
     },
     "execution_count": 1378,
     "metadata": {},
     "output_type": "execute_result"
    }
   ],
   "source": [
    "train_pred"
   ]
  },
  {
   "cell_type": "code",
   "execution_count": 1379,
   "id": "7052f331-66f7-4d7d-a408-07152a513a1a",
   "metadata": {},
   "outputs": [
    {
     "data": {
      "text/plain": [
       "array([[ 0.01297633,  0.01976964,  0.00519923, ..., -0.00902561,\n",
       "        -0.00773944, -0.01839018]], dtype=float32)"
      ]
     },
     "execution_count": 1379,
     "metadata": {},
     "output_type": "execute_result"
    }
   ],
   "source": [
    "np.transpose(train_pred)"
   ]
  },
  {
   "cell_type": "code",
   "execution_count": 1380,
   "id": "616523f3-4f40-4f70-9b9a-0c58b4e05bb5",
   "metadata": {},
   "outputs": [
    {
     "data": {
      "text/plain": [
       "2068"
      ]
     },
     "execution_count": 1380,
     "metadata": {},
     "output_type": "execute_result"
    }
   ],
   "source": [
    "len(train_pred)"
   ]
  },
  {
   "cell_type": "code",
   "execution_count": 1381,
   "id": "9669d2c4-68b3-498d-a2db-1cb102c11d9a",
   "metadata": {},
   "outputs": [
    {
     "data": {
      "text/plain": [
       "array([ 0.01554517,  0.02408164,  0.00835086, ..., -0.00716682,\n",
       "       -0.01876104, -0.02665515])"
      ]
     },
     "execution_count": 1381,
     "metadata": {},
     "output_type": "execute_result"
    }
   ],
   "source": [
    "lstm_train_out"
   ]
  },
  {
   "cell_type": "code",
   "execution_count": 1382,
   "id": "134e2a7a-ab10-4218-afbc-2c19bd861c78",
   "metadata": {},
   "outputs": [
    {
     "data": {
      "text/plain": [
       "2068"
      ]
     },
     "execution_count": 1382,
     "metadata": {},
     "output_type": "execute_result"
    }
   ],
   "source": [
    "len(lstm_train_out)"
   ]
  },
  {
   "cell_type": "code",
   "execution_count": 1383,
   "id": "01c299f7-6b83-4a45-a482-d1573f5f6863",
   "metadata": {},
   "outputs": [],
   "source": [
    "# yen_model.score(train_pred, lstm_train_out) "
   ]
  },
  {
   "cell_type": "code",
   "execution_count": 1384,
   "id": "b6421859-81b3-49f8-b68a-c4f11585a77e",
   "metadata": {},
   "outputs": [
    {
     "data": {
      "image/png": "[encoded data removed]",
      "text/plain": [
       "<Figure size 2160x720 with 1 Axes>"
      ]
     },
     "metadata": {
      "needs_background": "light"
     },
     "output_type": "display_data"
    }
   ],
   "source": [
    "fig,ax = plt.subplots(figsize=(30,10))\n",
    "# plt.plot(train_pred)\n",
    "\n",
    "ax.plot(train_pred)\n",
    "ax.plot(lstm_train_out)\n",
    "plt.show()"
   ]
  },
  {
   "cell_type": "code",
   "execution_count": 1385,
   "id": "a74f04e9-605a-4aa8-8f7b-d92a954dd203",
   "metadata": {},
   "outputs": [
    {
     "data": {
      "text/plain": [
       "array([[1.0129763 , 1.0197697 , 1.0051992 , ..., 0.99097437, 0.9922606 ,\n",
       "        0.9816098 ]], dtype=float32)"
      ]
     },
     "execution_count": 1385,
     "metadata": {},
     "output_type": "execute_result"
    }
   ],
   "source": [
    "# 配列には変化量が入っているので１００倍\n",
    "np.transpose(train_pred+1)"
   ]
  },
  {
   "cell_type": "code",
   "execution_count": 1386,
   "id": "da440ce9-7ee9-4895-82a7-84352ae991de",
   "metadata": {},
   "outputs": [
    {
     "data": {
      "text/plain": [
       "array([112.7587942 , 112.82661845, 112.41391589, ..., 123.44973018,\n",
       "       123.150546  , 121.53189483])"
      ]
     },
     "execution_count": 1386,
     "metadata": {},
     "output_type": "execute_result"
    }
   ],
   "source": [
    "#予測データ(変化量)を単価に直したもの\n",
    "Pred_Train_Price_Array=(np.transpose(train_pred+1)* df_train['Open'].values[:-window_len])[0]\n",
    "(np.transpose(train_pred+1)* df_train['Open'].values[:-window_len])[0]"
   ]
  },
  {
   "cell_type": "code",
   "execution_count": 1387,
   "id": "fe2c95ca-ea22-42b7-b1b2-db6887790b28",
   "metadata": {},
   "outputs": [
    {
     "data": {
      "text/plain": [
       "array([113.04474801, 113.30369174, 112.76637495, ..., 123.68128955,\n",
       "       121.78264081, 120.50861955])"
      ]
     },
     "execution_count": 1387,
     "metadata": {},
     "output_type": "execute_result"
    }
   ],
   "source": [
    "#正解データ(変化量)を単価に直したもの\n",
    "Actual_Train_Price_Array=(1+lstm_train_out)* df_train['Open'].values[:-window_len]\n",
    "(1+lstm_train_out)* df_train['Open'].values[:-window_len]"
   ]
  },
  {
   "cell_type": "code",
   "execution_count": 1388,
   "id": "3527a580-2a30-41c9-8ca9-806d0a22f327",
   "metadata": {},
   "outputs": [
    {
     "data": {
      "image/png": "[encoded data removed]",
      "text/plain": [
       "<Figure size 2160x720 with 1 Axes>"
      ]
     },
     "metadata": {
      "needs_background": "light"
     },
     "output_type": "display_data"
    }
   ],
   "source": [
    "fig,ax = plt.subplots(figsize=(30,10))\n",
    "\n",
    "# 予測データと正解データの併記\n",
    "ax.plot(Pred_Train_Price_Array)\n",
    "ax.plot(Actual_Train_Price_Array)\n",
    "plt.show()"
   ]
  },
  {
   "cell_type": "code",
   "execution_count": 1389,
   "id": "e304df35-fe5a-4423-9f05-505634b48966",
   "metadata": {},
   "outputs": [],
   "source": [
    "# #元のdf_trainデータ\n",
    "# fig,ax = plt.subplots(figsize=(30,10))\n",
    "# # plt.plot(train_pred)\n",
    "\n",
    "# # ax.plot(np.transpose(train_pred+1)* df_train['Open'].values[:-window_len])\n",
    "# ax.plot(df_train['Open'])\n",
    "# # ax.set_xlim(datetime.datetime(2003,12,1), datetime.datetime(2011,12,14)) # 範囲指定\n",
    "# plt.show()"
   ]
  },
  {
   "cell_type": "code",
   "execution_count": null,
   "id": "f7e7b139-9992-4764-9f2a-9f3db775515e",
   "metadata": {},
   "outputs": [],
   "source": []
  },
  {
   "cell_type": "markdown",
   "id": "206c3561-5dcd-48ac-afb9-5f3050f3322c",
   "metadata": {},
   "source": [
    "## テストデータへの転用"
   ]
  },
  {
   "cell_type": "code",
   "execution_count": 1390,
   "id": "a548ab85-b6fe-4278-a3ac-7107d1f3792b",
   "metadata": {},
   "outputs": [],
   "source": [
    "#作成したモデルを使用し予測。\n",
    "test_pred = yen_model.predict(test_lstm_in)"
   ]
  },
  {
   "cell_type": "code",
   "execution_count": 1391,
   "id": "30284cdb-ec75-463e-9421-254ae3ef0ae6",
   "metadata": {},
   "outputs": [
    {
     "data": {
      "text/plain": [
       "array([[ 0.0036699 ],\n",
       "       [-0.01200479],\n",
       "       [-0.00686458],\n",
       "       ...,\n",
       "       [-0.00814636],\n",
       "       [-0.00126467],\n",
       "       [ 0.0036455 ]], dtype=float32)"
      ]
     },
     "execution_count": 1391,
     "metadata": {},
     "output_type": "execute_result"
    }
   ],
   "source": [
    "test_pred"
   ]
  },
  {
   "cell_type": "code",
   "execution_count": 1392,
   "id": "be52a5ac-4dc3-4a04-8db2-527cb75e24fe",
   "metadata": {},
   "outputs": [
    {
     "data": {
      "text/plain": [
       "1240"
      ]
     },
     "execution_count": 1392,
     "metadata": {},
     "output_type": "execute_result"
    }
   ],
   "source": [
    "len(test_pred)"
   ]
  },
  {
   "cell_type": "code",
   "execution_count": 1393,
   "id": "ba262037-c353-4795-bd62-78ab751869af",
   "metadata": {},
   "outputs": [
    {
     "data": {
      "text/plain": [
       "array([[ 0.0036699 , -0.01200479, -0.00686458, ..., -0.00814636,\n",
       "        -0.00126467,  0.0036455 ]], dtype=float32)"
      ]
     },
     "execution_count": 1393,
     "metadata": {},
     "output_type": "execute_result"
    }
   ],
   "source": [
    "np.transpose(test_pred)"
   ]
  },
  {
   "cell_type": "code",
   "execution_count": 1394,
   "id": "b2d6c45a-b1ac-4324-a5ae-0a53ea435f8c",
   "metadata": {},
   "outputs": [
    {
     "data": {
      "text/plain": [
       "1240"
      ]
     },
     "execution_count": 1394,
     "metadata": {},
     "output_type": "execute_result"
    }
   ],
   "source": [
    "len(lstm_test_out)"
   ]
  },
  {
   "cell_type": "code",
   "execution_count": 1395,
   "id": "c54f3c61-cba3-44f6-b4bb-5ac823cb5c3f",
   "metadata": {},
   "outputs": [
    {
     "data": {
      "text/plain": [
       "array([120.5738606 , 119.08054633, 119.75469324, ..., 102.60402524,\n",
       "       102.77798416, 103.39371392])"
      ]
     },
     "execution_count": 1395,
     "metadata": {},
     "output_type": "execute_result"
    }
   ],
   "source": [
    "# 予測データ(変化量)を単価に直したもの\n",
    "Pred_Price_Array=(np.transpose(test_pred+1)* df_test['Open'].values[:-window_len])[0]\n",
    "(np.transpose(test_pred+1)* df_test['Open'].values[:-window_len])[0]"
   ]
  },
  {
   "cell_type": "code",
   "execution_count": 1396,
   "id": "89bbf46d-32f4-4a34-a238-f192918bfe9f",
   "metadata": {},
   "outputs": [
    {
     "name": "stdout",
     "output_type": "stream",
     "text": [
      "Pred_Price_Array は ndarray型\n",
      "Pred_Price_Array の行数, 列数・・・(1240,)\n",
      "\n"
     ]
    }
   ],
   "source": [
    "typeInfo(Pred_Price_Array)"
   ]
  },
  {
   "cell_type": "code",
   "execution_count": 1397,
   "id": "0db18c71-1de7-4c41-930c-18d7b5c3250f",
   "metadata": {},
   "outputs": [
    {
     "data": {
      "text/plain": [
       "array([119.56311047, 119.80778545, 119.88076121, ..., 102.68650234,\n",
       "       103.42938185, 103.64146143])"
      ]
     },
     "execution_count": 1397,
     "metadata": {},
     "output_type": "execute_result"
    }
   ],
   "source": [
    "# 正解データ(変化量)を単価に直したもの\n",
    "Actual_Price_Array=(1+lstm_test_out)* df_test['Open'].values[:-window_len]\n",
    "(1+lstm_test_out)* df_test['Open'].values[:-window_len]"
   ]
  },
  {
   "cell_type": "code",
   "execution_count": 1398,
   "id": "36871558-98fa-4db0-8553-b00087ee6b67",
   "metadata": {},
   "outputs": [
    {
     "name": "stdout",
     "output_type": "stream",
     "text": [
      "Actual_Price_Array は ndarray型\n",
      "Actual_Price_Array の行数, 列数・・・(1240,)\n",
      "\n"
     ]
    }
   ],
   "source": [
    "typeInfo(Actual_Price_Array)"
   ]
  },
  {
   "cell_type": "code",
   "execution_count": 1399,
   "id": "40704368-bd00-416b-b49f-4db67235e3dd",
   "metadata": {},
   "outputs": [
    {
     "data": {
      "image/png": "[encoded data removed]",
      "text/plain": [
       "<Figure size 2160x720 with 1 Axes>"
      ]
     },
     "metadata": {
      "needs_background": "light"
     },
     "output_type": "display_data"
    }
   ],
   "source": [
    "fig,ax = plt.subplots(figsize=(30,10))\n",
    "# fig,ax = plt.subplots()\n",
    "\n",
    "# 正解データと予測データの併記\n",
    "ax.plot(Pred_Price_Array)\n",
    "ax.plot(Actual_Price_Array)\n",
    "plt.show()"
   ]
  },
  {
   "cell_type": "code",
   "execution_count": null,
   "id": "cb7405fe-39ea-4f2a-bba5-a083adde1360",
   "metadata": {},
   "outputs": [],
   "source": []
  },
  {
   "cell_type": "code",
   "execution_count": 1400,
   "id": "3ad85ed4-e7ed-4d03-a8c2-0b37af2aa980",
   "metadata": {},
   "outputs": [],
   "source": [
    "# Actual_Price_Array[::12]"
   ]
  },
  {
   "cell_type": "code",
   "execution_count": 1401,
   "id": "fbbba25f-0dbc-4eda-8053-e5720231a137",
   "metadata": {},
   "outputs": [
    {
     "data": {
      "text/plain": [
       "1240"
      ]
     },
     "execution_count": 1401,
     "metadata": {},
     "output_type": "execute_result"
    }
   ],
   "source": [
    "len(Pred_Price_Array)"
   ]
  },
  {
   "cell_type": "code",
   "execution_count": 1402,
   "id": "d578c6b3-7e67-4f19-a8b6-e03f8ac33895",
   "metadata": {},
   "outputs": [
    {
     "data": {
      "text/plain": [
       "array([120.5738606 , 119.10805387, 118.77305379, 124.90801764,\n",
       "       120.25610055, 123.09353356, 120.36001681, 123.24086937,\n",
       "       121.48743207, 122.34842605, 119.65106242, 116.26984044,\n",
       "       116.27024333, 116.95594307, 115.26264745, 113.62188335,\n",
       "       113.00278739, 113.87756779, 115.85676566, 119.23744201,\n",
       "       119.1776438 , 118.97375908, 120.15396342, 117.90127812,\n",
       "       118.9432976 , 119.54321112, 122.0260512 , 120.36466905,\n",
       "       123.46836088, 125.90078098, 123.30920966, 120.46431633,\n",
       "       120.83507408, 118.36253217, 121.01282739, 120.17437952,\n",
       "       120.08297242, 119.63323205, 122.4896034 , 122.11538831,\n",
       "       118.99169161, 121.49382865, 122.35966479, 123.58852317,\n",
       "       122.24771896, 122.82212218, 124.9192519 , 125.51007039,\n",
       "       127.64063775, 123.55480108, 125.15941325, 126.88261621,\n",
       "       126.44209514, 125.75490877, 125.13228912, 124.8795922 ,\n",
       "       126.68377412, 127.34085447, 128.62543085, 127.23288218,\n",
       "       127.91338478, 127.94984754, 127.17067305, 126.05801066,\n",
       "       126.14332297, 125.60824638, 125.59555439, 125.10364645,\n",
       "       124.11060116, 123.73351916, 121.33488408, 119.75223424,\n",
       "       117.22338542, 116.95392955, 117.24270532, 115.29367062,\n",
       "       114.61590981, 113.44666714, 113.21802083, 110.25220553,\n",
       "       107.43257063, 104.48822457, 105.49219642, 103.4811986 ,\n",
       "        97.14608416, 100.48021493,  97.94956876, 100.6700672 ,\n",
       "       103.37168149, 101.52262091, 103.05971723, 105.080239  ,\n",
       "       101.36190823, 100.36710394, 101.23036484, 102.49935328,\n",
       "       103.42845966, 104.86401085, 103.62670063, 105.1398991 ,\n",
       "       102.04336243,  99.43205301,  98.30137155, 100.49207274,\n",
       "       100.5442169 , 100.51743383, 100.94642689, 100.24841673,\n",
       "       103.58438217, 100.94856708, 103.24791555, 103.37770762,\n",
       "       105.55684974, 103.83483816, 105.28076218, 103.66257877,\n",
       "       104.81985345, 104.91578942, 102.81400174, 102.11373405,\n",
       "       103.16031457, 103.23174709, 103.3263213 , 103.85559246,\n",
       "       103.88743005, 103.47079775, 100.51868453, 102.59196079,\n",
       "        98.06604652,  98.22722198,  96.47850431,  97.26607999,\n",
       "        98.10341173,  98.81630455,  98.32603865,  97.76800328,\n",
       "        98.84089212, 100.4355104 ,  97.78388716, 100.27897362,\n",
       "       101.325639  , 103.47257929, 104.09805166, 103.43236307,\n",
       "       105.46659115, 106.31443672, 109.2695533 , 108.72242295,\n",
       "       110.99904649, 110.34867866, 109.19765425, 108.75685246,\n",
       "       108.85431618, 107.21831602, 108.44626277, 109.30591963,\n",
       "       109.45187854, 111.29982966, 113.26997287, 114.65141779,\n",
       "       114.26632345, 112.97972085, 114.58540862, 114.44141973,\n",
       "       114.28598831, 113.00701827, 109.74316349, 108.74538665,\n",
       "       108.38821609, 106.98008137, 107.92704265, 107.61440844,\n",
       "       107.97395767, 104.66996934, 108.14189489, 107.15205817,\n",
       "       108.67279827, 106.45123893, 105.93194669, 105.81701588,\n",
       "       105.22916677, 104.72265392, 105.27863609, 105.77269823,\n",
       "       105.3131304 , 105.64690186, 104.75430066, 105.30404676,\n",
       "       104.3589621 , 104.1279269 , 104.02706723, 103.64021244,\n",
       "       103.52962129, 103.06572274, 104.03309631, 104.13451521,\n",
       "       104.37941601, 103.82031807, 102.15727239, 102.98113893,\n",
       "       102.39953876, 101.66595442, 102.885097  , 102.30622984,\n",
       "       102.44072099, 102.45832124, 102.77423297])"
      ]
     },
     "execution_count": 1402,
     "metadata": {},
     "output_type": "execute_result"
    }
   ],
   "source": [
    "Pred_Price_Array_7=Pred_Price_Array[::6]\n",
    "Pred_Price_Array_7"
   ]
  },
  {
   "cell_type": "code",
   "execution_count": 1403,
   "id": "b0a0a581-eaec-4898-a51f-478a0cef9e52",
   "metadata": {},
   "outputs": [
    {
     "data": {
      "text/plain": [
       "207"
      ]
     },
     "execution_count": 1403,
     "metadata": {},
     "output_type": "execute_result"
    }
   ],
   "source": [
    "len(Pred_Price_Array_7)"
   ]
  },
  {
   "cell_type": "code",
   "execution_count": 1404,
   "id": "eb3dcd58-0983-436c-87c8-22e64159857c",
   "metadata": {},
   "outputs": [
    {
     "data": {
      "text/plain": [
       "array([120.13923079, 120.52431077, 120.59187233, ..., 102.68535554,\n",
       "       103.43631774, 103.6212492 ])"
      ]
     },
     "execution_count": 1404,
     "metadata": {},
     "output_type": "execute_result"
    }
   ],
   "source": [
    "df_test_Close_array=df_test['Close'].values\n",
    "df_test_Close_array"
   ]
  },
  {
   "cell_type": "code",
   "execution_count": 1405,
   "id": "19a4535f-6e01-4a1f-b2b8-439f97e247e5",
   "metadata": {},
   "outputs": [
    {
     "data": {
      "text/plain": [
       "array([120.62017828, 119.61567551, 119.0108633 , 121.82273448,\n",
       "       120.78713596, 123.21832687, 120.4583922 , 123.26759487,\n",
       "       121.35922045, 122.40306705, 119.66364235, 116.19142771,\n",
       "       116.30831242, 117.29647338, 115.77551663, 113.56660515,\n",
       "       113.23295444, 113.6782521 , 115.91478586, 119.35484618,\n",
       "       119.1549623 , 118.94046783, 119.92739379, 118.02985877,\n",
       "       119.00167793, 119.91185695, 122.44843155, 120.55258363,\n",
       "       123.69617581, 125.9017241 , 123.51448625, 120.80449224,\n",
       "       120.36435515, 118.54718387, 121.31147414, 120.3173697 ,\n",
       "       120.56829691, 119.55693543, 122.52141833, 122.4289912 ,\n",
       "       119.39642847, 121.27329916, 122.2106263 , 123.52438837,\n",
       "       122.43547499, 123.01513493, 124.74713475, 125.39992481,\n",
       "       127.69893676, 123.46831679, 125.35913646, 126.78527325,\n",
       "       126.52513862, 125.76307237, 125.13020784, 124.76564884,\n",
       "       126.72448218, 127.43679523, 128.69565457, 127.20721602,\n",
       "       128.07731241, 128.02591622, 127.28598088, 126.06645435,\n",
       "       126.19716674, 125.73572576, 125.69300771, 125.17253995,\n",
       "       124.21775728, 123.86181027, 121.43250495, 119.88076121,\n",
       "       117.2266072 , 116.91841751, 117.25930184, 115.26767462,\n",
       "       114.46886688, 113.72018725, 113.09036613, 110.50450146,\n",
       "       106.9858858 , 104.60842878, 105.45036256, 103.24813336,\n",
       "        96.95508271, 100.68575591,  98.14115375, 100.53800702,\n",
       "       103.54516387, 101.68523043, 102.75038093, 105.19971102,\n",
       "       101.70422971, 100.17977744, 101.46325976, 102.61018544,\n",
       "       103.72978657, 104.9323979 , 103.6159122 , 105.17219901,\n",
       "       101.93848431,  99.28407669,  98.42938483, 100.67697853,\n",
       "       100.54676235, 100.39942145, 101.01009995, 100.1396507 ,\n",
       "       103.84040803, 101.04651064, 103.30347717, 103.22969645,\n",
       "       105.47801793, 103.91507089, 105.33868253, 103.80079955,\n",
       "       104.99670655, 104.97883201, 102.96196431, 102.24157959,\n",
       "       103.30463499, 103.29424769, 103.59502733, 103.98048222,\n",
       "       103.96296054, 103.57182682, 100.66383451, 102.68650234,\n",
       "        97.90431887,  97.8835994 ,  96.66227549,  97.3745665 ,\n",
       "        98.31535608,  99.10431683,  98.23078007,  97.61296719,\n",
       "        98.88288647, 100.35803765,  97.8835994 , 100.58393389,\n",
       "       101.42766505, 103.64493489, 104.34763253, 103.67630631,\n",
       "       105.66356689, 106.13762259, 109.37296927, 108.92605066,\n",
       "       110.66579133, 110.62476039, 109.66472894, 108.61014217,\n",
       "       108.77234727, 107.41700292, 108.56935382, 109.45450187,\n",
       "       109.53226328, 111.5869531 , 113.50946397, 114.7884804 ,\n",
       "       114.27230209, 113.13047081, 114.62916434, 114.77281123,\n",
       "       114.358477  , 113.23295444, 109.77795273, 109.04418141,\n",
       "       108.46749872, 107.19418317, 107.84782231, 107.79253364,\n",
       "       108.12896311, 104.94786859, 108.14412504, 107.26378471,\n",
       "       108.80945265, 106.43928438, 106.1266619 , 105.80618829,\n",
       "       105.19492537, 104.92167979, 105.22244841, 106.02083713,\n",
       "       105.60566485, 105.77714354, 104.84556139, 105.38668245,\n",
       "       104.4088757 , 104.29233283, 104.21947837, 103.82525712,\n",
       "       103.51735413, 103.18823546, 103.8683942 , 103.95594746,\n",
       "       104.41358417, 103.8742274 , 102.4136427 , 103.07555199,\n",
       "       102.54420072, 101.63718641, 102.97456801, 102.40117133,\n",
       "       102.479451  , 102.51806706, 102.82233119])"
      ]
     },
     "execution_count": 1405,
     "metadata": {},
     "output_type": "execute_result"
    }
   ],
   "source": [
    "df_test_Close_array6=df_test_Close_array[5::6]\n",
    "df_test_Close_array6"
   ]
  },
  {
   "cell_type": "code",
   "execution_count": 1406,
   "id": "8b1fd3b2-010c-4d8f-9588-6242b80fe7d4",
   "metadata": {},
   "outputs": [
    {
     "data": {
      "text/plain": [
       "207"
      ]
     },
     "execution_count": 1406,
     "metadata": {},
     "output_type": "execute_result"
    }
   ],
   "source": [
    "len(df_test_Close_array6)"
   ]
  },
  {
   "cell_type": "code",
   "execution_count": 1407,
   "id": "bfb25300-baa0-49c9-84e7-8ca5b5bb0bb7",
   "metadata": {},
   "outputs": [
    {
     "data": {
      "text/plain": [
       "array([-4.63176865e-02, -5.07621637e-01, -2.37809509e-01,  3.08528317e+00,\n",
       "       -5.31035405e-01, -1.24793308e-01, -9.83753959e-02, -2.67255078e-02,\n",
       "        1.28211621e-01, -5.46410016e-02, -1.25799228e-02,  7.84127280e-02,\n",
       "       -3.80690876e-02, -3.40530315e-01, -5.12869182e-01,  5.52781986e-02,\n",
       "       -2.30167051e-01,  1.99315685e-01, -5.80201986e-02, -1.17404165e-01,\n",
       "        2.26814968e-02,  3.32912438e-02,  2.26569628e-01, -1.28580646e-01,\n",
       "       -5.83803315e-02, -3.68645832e-01, -4.22380352e-01, -1.87914587e-01,\n",
       "       -2.27814934e-01, -9.43118091e-04, -2.05276595e-01, -3.40175908e-01,\n",
       "        4.70718935e-01, -1.84651698e-01, -2.98646749e-01, -1.42990179e-01,\n",
       "       -4.85324494e-01,  7.62966234e-02, -3.18149297e-02, -3.13602887e-01,\n",
       "       -4.04736859e-01,  2.20529492e-01,  1.49038484e-01,  6.41347946e-02,\n",
       "       -1.87756029e-01, -1.93012754e-01,  1.72117156e-01,  1.10145577e-01,\n",
       "       -5.82990063e-02,  8.64842852e-02, -1.99723214e-01,  9.73429528e-02,\n",
       "       -8.30434763e-02, -8.16359650e-03,  2.08128388e-03,  1.13943357e-01,\n",
       "       -4.07080608e-02, -9.59407654e-02, -7.02237243e-02,  2.56661520e-02,\n",
       "       -1.63927634e-01, -7.60686752e-02, -1.15307832e-01, -8.44368686e-03,\n",
       "       -5.38437668e-02, -1.27479381e-01, -9.74533180e-02, -6.88935013e-02,\n",
       "       -1.07156125e-01, -1.28291107e-01, -9.76208759e-02, -1.28526962e-01,\n",
       "       -3.22177920e-03,  3.55120345e-02, -1.65965167e-02,  2.59959929e-02,\n",
       "        1.47042923e-01, -2.73520109e-01,  1.27654706e-01, -2.52295936e-01,\n",
       "        4.46684827e-01, -1.20204209e-01,  4.18338532e-02,  2.33065238e-01,\n",
       "        1.91001445e-01, -2.05540980e-01, -1.91584996e-01,  1.32060179e-01,\n",
       "       -1.73482379e-01, -1.62609521e-01,  3.09336294e-01, -1.19472027e-01,\n",
       "       -3.42321480e-01,  1.87326497e-01, -2.32894920e-01, -1.10832169e-01,\n",
       "       -3.01326912e-01, -6.83870548e-02,  1.07884303e-02, -3.22999061e-02,\n",
       "        1.04878121e-01,  1.47976322e-01, -1.28013281e-01, -1.84905785e-01,\n",
       "       -2.54544970e-03,  1.18012377e-01, -6.36730593e-02,  1.08766028e-01,\n",
       "       -2.56025855e-01, -9.79435577e-02, -5.55616135e-02,  1.48011169e-01,\n",
       "        7.88318123e-02, -8.02327354e-02, -5.79203527e-02, -1.38220782e-01,\n",
       "       -1.76853092e-01, -6.30425860e-02, -1.47962564e-01, -1.27845545e-01,\n",
       "       -1.44320417e-01, -6.25006010e-02, -2.68706031e-01, -1.24889763e-01,\n",
       "       -7.55304914e-02, -1.01029064e-01, -1.45149977e-01, -9.45415476e-02,\n",
       "        1.61727654e-01,  3.43622581e-01, -1.83771179e-01, -1.08486501e-01,\n",
       "       -2.11944348e-01, -2.88012280e-01,  9.52585885e-02,  1.55036090e-01,\n",
       "       -4.19943462e-02,  7.74727504e-02, -9.97122383e-02, -3.04960272e-01,\n",
       "       -1.02026059e-01, -1.72355607e-01, -2.49580870e-01, -2.43943239e-01,\n",
       "       -1.96975740e-01,  1.76814126e-01, -1.03415970e-01, -2.03627712e-01,\n",
       "        3.33255158e-01, -2.76081731e-01, -4.67074689e-01,  1.46710291e-01,\n",
       "        8.19689052e-02, -1.98686899e-01, -1.23091051e-01, -1.48582239e-01,\n",
       "       -8.03847427e-02, -2.87123443e-01, -2.39491100e-01, -1.37062606e-01,\n",
       "       -5.97863717e-03, -1.50749966e-01, -4.37557194e-02, -3.31391499e-01,\n",
       "       -7.24886849e-02, -2.25936177e-01, -3.47892371e-02, -2.98794755e-01,\n",
       "       -7.92826319e-02, -2.14101802e-01,  7.92203373e-02, -1.78125196e-01,\n",
       "       -1.55005445e-01, -2.77899243e-01, -2.23015886e-03, -1.11726538e-01,\n",
       "       -1.36654382e-01,  1.19545505e-02, -1.94715205e-01,  1.08275951e-02,\n",
       "        3.42413995e-02, -1.99025876e-01,  5.61876832e-02, -2.48138900e-01,\n",
       "       -2.92534452e-01, -1.30241679e-01, -9.12607225e-02, -8.26356922e-02,\n",
       "       -4.99136043e-02, -1.64405925e-01, -1.92411134e-01, -1.85044682e-01,\n",
       "        1.22671560e-02, -1.22512726e-01,  1.64702109e-01,  1.78567750e-01,\n",
       "       -3.41681603e-02, -5.39093352e-02, -2.56370314e-01, -9.44130572e-02,\n",
       "       -1.44661961e-01,  2.87680154e-02, -8.94710044e-02, -9.49414877e-02,\n",
       "       -3.87300108e-02, -5.97458240e-02, -4.80982188e-02])"
      ]
     },
     "execution_count": 1407,
     "metadata": {},
     "output_type": "execute_result"
    }
   ],
   "source": [
    "Dif_Array=Pred_Price_Array_7-df_test_Close_array6\n",
    "Dif_Array"
   ]
  },
  {
   "cell_type": "code",
   "execution_count": 1408,
   "id": "fc0b32c3-14c2-4147-8495-fb2f6438630c",
   "metadata": {},
   "outputs": [
    {
     "data": {
      "text/plain": [
       "0     -0.046318\n",
       "1     -0.507622\n",
       "2     -0.237810\n",
       "3      3.085283\n",
       "4     -0.531035\n",
       "         ...   \n",
       "202   -0.089471\n",
       "203   -0.094941\n",
       "204   -0.038730\n",
       "205   -0.059746\n",
       "206   -0.048098\n",
       "Length: 207, dtype: float64"
      ]
     },
     "execution_count": 1408,
     "metadata": {},
     "output_type": "execute_result"
    }
   ],
   "source": [
    "Df_Dif_Array = pd.Series(Dif_Array)\n",
    "Df_Dif_Array"
   ]
  },
  {
   "cell_type": "code",
   "execution_count": 1409,
   "id": "8411e60b-fb25-4c6c-95b9-36c2a4baa2f0",
   "metadata": {},
   "outputs": [],
   "source": [
    "def p_judge(x):\n",
    "    if x < 0:\n",
    "        return 0\n",
    "    else:\n",
    "        return 1"
   ]
  },
  {
   "cell_type": "code",
   "execution_count": null,
   "id": "ca0bbd59-92a5-4285-a4ec-40b96e49dc05",
   "metadata": {},
   "outputs": [],
   "source": []
  },
  {
   "cell_type": "code",
   "execution_count": 1410,
   "id": "e7650a64-ee92-46c1-8585-4f2856243a5c",
   "metadata": {},
   "outputs": [
    {
     "data": {
      "text/plain": [
       "0      0\n",
       "1      0\n",
       "2      0\n",
       "3      1\n",
       "4      0\n",
       "      ..\n",
       "202    0\n",
       "203    0\n",
       "204    0\n",
       "205    0\n",
       "206    0\n",
       "Length: 207, dtype: int64"
      ]
     },
     "execution_count": 1410,
     "metadata": {},
     "output_type": "execute_result"
    }
   ],
   "source": [
    "Df_sub=Df_Dif_Array.apply(p_judge)\n",
    "Df_sub"
   ]
  },
  {
   "cell_type": "code",
   "execution_count": 1411,
   "id": "745a78d1-24cf-45b3-9e3b-cc4e724d4788",
   "metadata": {},
   "outputs": [
    {
     "data": {
      "text/plain": [
       "count    207.000000\n",
       "mean       0.270531\n",
       "std        0.445311\n",
       "min        0.000000\n",
       "25%        0.000000\n",
       "50%        0.000000\n",
       "75%        1.000000\n",
       "max        1.000000\n",
       "dtype: float64"
      ]
     },
     "execution_count": 1411,
     "metadata": {},
     "output_type": "execute_result"
    }
   ],
   "source": [
    "Df_sub.describe()"
   ]
  },
  {
   "cell_type": "code",
   "execution_count": null,
   "id": "07446e81-fc1c-40bf-ac7a-0dcd71bfbaae",
   "metadata": {},
   "outputs": [],
   "source": []
  },
  {
   "cell_type": "code",
   "execution_count": 1412,
   "id": "358e708a-3ee2-412c-984c-5716a9f0a26b",
   "metadata": {},
   "outputs": [
    {
     "data": {
      "text/html": [
       "<div>\n",
       "<style scoped>\n",
       "    .dataframe tbody tr th:only-of-type {\n",
       "        vertical-align: middle;\n",
       "    }\n",
       "\n",
       "    .dataframe tbody tr th {\n",
       "        vertical-align: top;\n",
       "    }\n",
       "\n",
       "    .dataframe thead th {\n",
       "        text-align: right;\n",
       "    }\n",
       "</style>\n",
       "<table border=\"1\" class=\"dataframe\">\n",
       "  <thead>\n",
       "    <tr style=\"text-align: right;\">\n",
       "      <th></th>\n",
       "      <th>Date</th>\n",
       "      <th>1</th>\n",
       "    </tr>\n",
       "  </thead>\n",
       "  <tbody>\n",
       "    <tr>\n",
       "      <th>0</th>\n",
       "      <td>2011-12-22</td>\n",
       "      <td>0</td>\n",
       "    </tr>\n",
       "    <tr>\n",
       "      <th>1</th>\n",
       "      <td>2012-01-05</td>\n",
       "      <td>0</td>\n",
       "    </tr>\n",
       "    <tr>\n",
       "      <th>2</th>\n",
       "      <td>2012-01-19</td>\n",
       "      <td>0</td>\n",
       "    </tr>\n",
       "    <tr>\n",
       "      <th>3</th>\n",
       "      <td>2012-02-02</td>\n",
       "      <td>1</td>\n",
       "    </tr>\n",
       "    <tr>\n",
       "      <th>4</th>\n",
       "      <td>2012-02-16</td>\n",
       "      <td>0</td>\n",
       "    </tr>\n",
       "    <tr>\n",
       "      <th>...</th>\n",
       "      <td>...</td>\n",
       "      <td>...</td>\n",
       "    </tr>\n",
       "    <tr>\n",
       "      <th>202</th>\n",
       "      <td>2019-10-23</td>\n",
       "      <td>0</td>\n",
       "    </tr>\n",
       "    <tr>\n",
       "      <th>203</th>\n",
       "      <td>2019-11-07</td>\n",
       "      <td>0</td>\n",
       "    </tr>\n",
       "    <tr>\n",
       "      <th>204</th>\n",
       "      <td>2019-11-21</td>\n",
       "      <td>0</td>\n",
       "    </tr>\n",
       "    <tr>\n",
       "      <th>205</th>\n",
       "      <td>2019-12-05</td>\n",
       "      <td>0</td>\n",
       "    </tr>\n",
       "    <tr>\n",
       "      <th>206</th>\n",
       "      <td>2019-12-19</td>\n",
       "      <td>0</td>\n",
       "    </tr>\n",
       "  </tbody>\n",
       "</table>\n",
       "<p>207 rows × 2 columns</p>\n",
       "</div>"
      ],
      "text/plain": [
       "           Date  1\n",
       "0    2011-12-22  0\n",
       "1    2012-01-05  0\n",
       "2    2012-01-19  0\n",
       "3    2012-02-02  1\n",
       "4    2012-02-16  0\n",
       "..          ... ..\n",
       "202  2019-10-23  0\n",
       "203  2019-11-07  0\n",
       "204  2019-11-21  0\n",
       "205  2019-12-05  0\n",
       "206  2019-12-19  0\n",
       "\n",
       "[207 rows x 2 columns]"
      ]
     },
     "execution_count": 1412,
     "metadata": {},
     "output_type": "execute_result"
    }
   ],
   "source": [
    "df_submit[1]=Df_sub\n",
    "df_submit"
   ]
  },
  {
   "cell_type": "code",
   "execution_count": 1413,
   "id": "4629f9f9-bd52-40c1-8c9e-d46e3c3dcb11",
   "metadata": {},
   "outputs": [
    {
     "data": {
      "text/html": [
       "<div>\n",
       "<style scoped>\n",
       "    .dataframe tbody tr th:only-of-type {\n",
       "        vertical-align: middle;\n",
       "    }\n",
       "\n",
       "    .dataframe tbody tr th {\n",
       "        vertical-align: top;\n",
       "    }\n",
       "\n",
       "    .dataframe thead th {\n",
       "        text-align: right;\n",
       "    }\n",
       "</style>\n",
       "<table border=\"1\" class=\"dataframe\">\n",
       "  <thead>\n",
       "    <tr style=\"text-align: right;\">\n",
       "      <th></th>\n",
       "      <th>y</th>\n",
       "    </tr>\n",
       "    <tr>\n",
       "      <th>Date</th>\n",
       "      <th></th>\n",
       "    </tr>\n",
       "  </thead>\n",
       "  <tbody>\n",
       "    <tr>\n",
       "      <th>2011-12-22</th>\n",
       "      <td>0</td>\n",
       "    </tr>\n",
       "    <tr>\n",
       "      <th>2012-01-05</th>\n",
       "      <td>0</td>\n",
       "    </tr>\n",
       "    <tr>\n",
       "      <th>2012-01-19</th>\n",
       "      <td>0</td>\n",
       "    </tr>\n",
       "    <tr>\n",
       "      <th>2012-02-02</th>\n",
       "      <td>1</td>\n",
       "    </tr>\n",
       "    <tr>\n",
       "      <th>2012-02-16</th>\n",
       "      <td>0</td>\n",
       "    </tr>\n",
       "    <tr>\n",
       "      <th>...</th>\n",
       "      <td>...</td>\n",
       "    </tr>\n",
       "    <tr>\n",
       "      <th>2019-10-23</th>\n",
       "      <td>0</td>\n",
       "    </tr>\n",
       "    <tr>\n",
       "      <th>2019-11-07</th>\n",
       "      <td>0</td>\n",
       "    </tr>\n",
       "    <tr>\n",
       "      <th>2019-11-21</th>\n",
       "      <td>0</td>\n",
       "    </tr>\n",
       "    <tr>\n",
       "      <th>2019-12-05</th>\n",
       "      <td>0</td>\n",
       "    </tr>\n",
       "    <tr>\n",
       "      <th>2019-12-19</th>\n",
       "      <td>0</td>\n",
       "    </tr>\n",
       "  </tbody>\n",
       "</table>\n",
       "<p>207 rows × 1 columns</p>\n",
       "</div>"
      ],
      "text/plain": [
       "            y\n",
       "Date         \n",
       "2011-12-22  0\n",
       "2012-01-05  0\n",
       "2012-01-19  0\n",
       "2012-02-02  1\n",
       "2012-02-16  0\n",
       "...        ..\n",
       "2019-10-23  0\n",
       "2019-11-07  0\n",
       "2019-11-21  0\n",
       "2019-12-05  0\n",
       "2019-12-19  0\n",
       "\n",
       "[207 rows x 1 columns]"
      ]
     },
     "execution_count": 1413,
     "metadata": {},
     "output_type": "execute_result"
    }
   ],
   "source": [
    "# 指定の様式（インデックスはDate、カラム名は「y」のみ）をお守りください。\n",
    "df_submit = df_submit.set_index(\"Date\") #indexにDateを指定する。\n",
    "df_submit = df_submit.rename(columns={1: 'y'}) #カラム名「1」を「y」に変更する。\n",
    "df_submit.to_csv('y_submit.csv') #投稿するファイルを書き出す。\n",
    "df_submit #投稿する中身を確認する。"
   ]
  },
  {
   "cell_type": "code",
   "execution_count": null,
   "id": "acbbcb75-ba6a-420f-8197-2be9eb57d341",
   "metadata": {},
   "outputs": [],
   "source": []
  },
  {
   "cell_type": "code",
   "execution_count": null,
   "id": "3c964f06-bb16-48b0-b35a-b975180744c6",
   "metadata": {},
   "outputs": [],
   "source": []
  },
  {
   "cell_type": "code",
   "execution_count": null,
   "id": "150e2302-0a61-4ecd-bc93-1d9a4f1ad309",
   "metadata": {},
   "outputs": [],
   "source": []
  },
  {
   "cell_type": "code",
   "execution_count": null,
   "id": "7dd94eda-8f28-47f5-b3c1-7084259beee9",
   "metadata": {},
   "outputs": [],
   "source": []
  },
  {
   "cell_type": "code",
   "execution_count": null,
   "id": "119713a2-2448-4796-8231-35e96a564359",
   "metadata": {},
   "outputs": [],
   "source": []
  },
  {
   "cell_type": "code",
   "execution_count": null,
   "id": "97c2a0b5-874d-4dc9-9c80-c9d2e0c70857",
   "metadata": {},
   "outputs": [],
   "source": []
  },
  {
   "cell_type": "code",
   "execution_count": null,
   "id": "bdb25d5b-8d61-4352-961e-e2156100f487",
   "metadata": {},
   "outputs": [],
   "source": []
  },
  {
   "cell_type": "code",
   "execution_count": null,
   "id": "ff86ab65-6a26-45dd-8d79-23ab0b3b5985",
   "metadata": {},
   "outputs": [],
   "source": []
  },
  {
   "cell_type": "code",
   "execution_count": null,
   "id": "2fa80ba1-2caa-4a3e-80a1-c385a623ea39",
   "metadata": {},
   "outputs": [],
   "source": []
  },
  {
   "cell_type": "code",
   "execution_count": null,
   "id": "78969735-4213-47ec-b94d-2bbb0a97afa0",
   "metadata": {},
   "outputs": [],
   "source": []
  },
  {
   "cell_type": "code",
   "execution_count": null,
   "id": "363e7464-9af3-4b80-b3c3-06fe395ec6fa",
   "metadata": {},
   "outputs": [],
   "source": []
  },
  {
   "cell_type": "code",
   "execution_count": null,
   "id": "c9756564-244f-4058-a0b8-981616872280",
   "metadata": {},
   "outputs": [],
   "source": []
  },
  {
   "cell_type": "code",
   "execution_count": null,
   "id": "c5aa9467-e5e4-4d63-80b2-9769f1217368",
   "metadata": {},
   "outputs": [],
   "source": []
  },
  {
   "cell_type": "code",
   "execution_count": null,
   "id": "a2607a1f-898a-4d35-8c4a-6a92670ddf99",
   "metadata": {},
   "outputs": [],
   "source": []
  },
  {
   "cell_type": "code",
   "execution_count": null,
   "id": "8bd4e73a-da01-4ea7-9c54-076c4c5ac7a1",
   "metadata": {},
   "outputs": [],
   "source": []
  },
  {
   "cell_type": "code",
   "execution_count": null,
   "id": "fec9e916-ab1f-415c-8c92-317e725691e3",
   "metadata": {},
   "outputs": [],
   "source": []
  },
  {
   "cell_type": "code",
   "execution_count": null,
   "id": "f0387e63-9011-46a5-b118-55e292115d44",
   "metadata": {},
   "outputs": [],
   "source": []
  },
  {
   "cell_type": "code",
   "execution_count": null,
   "id": "569b91f1-6b32-4b5d-80fa-8df700e83652",
   "metadata": {},
   "outputs": [],
   "source": []
  },
  {
   "cell_type": "code",
   "execution_count": null,
   "id": "51e8fd92-406c-4554-90ff-92351f9564b0",
   "metadata": {},
   "outputs": [],
   "source": []
  },
  {
   "cell_type": "code",
   "execution_count": null,
   "id": "f921dbe4-9973-487f-b726-4f6a3a3d9afe",
   "metadata": {},
   "outputs": [],
   "source": []
  },
  {
   "cell_type": "code",
   "execution_count": null,
   "id": "fd06341e-a7a2-4673-9e95-5084c4c995a7",
   "metadata": {},
   "outputs": [],
   "source": []
  },
  {
   "cell_type": "code",
   "execution_count": null,
   "id": "ed5ddaa1-cf22-4d16-8361-62285069e01f",
   "metadata": {},
   "outputs": [],
   "source": []
  },
  {
   "cell_type": "code",
   "execution_count": null,
   "id": "cc112a6c-3593-40cb-933e-057418fe80ef",
   "metadata": {},
   "outputs": [],
   "source": []
  },
  {
   "cell_type": "code",
   "execution_count": null,
   "id": "a0076e6b-3402-49b7-ad48-25a1a42ff636",
   "metadata": {},
   "outputs": [],
   "source": []
  },
  {
   "cell_type": "code",
   "execution_count": null,
   "id": "196034a4-5ae2-4db5-8503-f8a3a9df1d9b",
   "metadata": {},
   "outputs": [],
   "source": []
  },
  {
   "cell_type": "code",
   "execution_count": null,
   "id": "b2dd4153-1e07-47d9-bdb7-8a6722ee6af9",
   "metadata": {},
   "outputs": [],
   "source": []
  },
  {
   "cell_type": "code",
   "execution_count": null,
   "id": "f5a14a27-436a-4491-af99-29fe86fa2cf0",
   "metadata": {},
   "outputs": [],
   "source": []
  },
  {
   "cell_type": "code",
   "execution_count": null,
   "id": "03edf4bd-69a0-472c-bd46-2aa316b10126",
   "metadata": {},
   "outputs": [],
   "source": []
  },
  {
   "cell_type": "code",
   "execution_count": null,
   "id": "836541f8-5673-44fa-8fae-0444dee0396e",
   "metadata": {},
   "outputs": [],
   "source": []
  },
  {
   "cell_type": "code",
   "execution_count": null,
   "id": "0aa173c7-801c-440b-a6a5-a856be4c8bcb",
   "metadata": {},
   "outputs": [],
   "source": []
  },
  {
   "cell_type": "code",
   "execution_count": null,
   "id": "bc59133a-ab65-494a-ae2e-466bdb863282",
   "metadata": {},
   "outputs": [],
   "source": []
  },
  {
   "cell_type": "code",
   "execution_count": null,
   "id": "748d61ba-b2a0-48df-80b2-da7c38fffa38",
   "metadata": {},
   "outputs": [],
   "source": []
  },
  {
   "cell_type": "code",
   "execution_count": null,
   "id": "cf7347a7-5bc8-4b7a-acaa-7bddc22ab8e7",
   "metadata": {},
   "outputs": [],
   "source": []
  },
  {
   "cell_type": "code",
   "execution_count": null,
   "id": "c2e0ad87-5891-4e75-936b-f257e58be504",
   "metadata": {},
   "outputs": [],
   "source": []
  },
  {
   "cell_type": "code",
   "execution_count": null,
   "id": "18152a24-b096-4b23-9fbe-1fa91ded685a",
   "metadata": {},
   "outputs": [],
   "source": []
  },
  {
   "cell_type": "code",
   "execution_count": null,
   "id": "c4e6c494-dfe4-47cd-a91a-4adef0dc7290",
   "metadata": {},
   "outputs": [],
   "source": []
  },
  {
   "cell_type": "code",
   "execution_count": null,
   "id": "90e680d8-3a63-4fe9-b6df-860fe27060bf",
   "metadata": {},
   "outputs": [],
   "source": []
  },
  {
   "cell_type": "code",
   "execution_count": null,
   "id": "5fd27ead-04af-45a7-a95e-3ab5ca0ec21e",
   "metadata": {},
   "outputs": [],
   "source": []
  },
  {
   "cell_type": "code",
   "execution_count": null,
   "id": "73c05802-84b3-454c-a1e5-7d680a7112d0",
   "metadata": {},
   "outputs": [],
   "source": []
  },
  {
   "cell_type": "code",
   "execution_count": null,
   "id": "8ad3b8c7-7e8a-42cc-90f6-ac6889bb221b",
   "metadata": {},
   "outputs": [],
   "source": []
  },
  {
   "cell_type": "code",
   "execution_count": null,
   "id": "67b90c1b-a26d-4448-bb21-67d99cf6534c",
   "metadata": {},
   "outputs": [],
   "source": []
  },
  {
   "cell_type": "code",
   "execution_count": null,
   "id": "fb800f80-ec1d-4f01-a87b-0b5c7c33dedc",
   "metadata": {},
   "outputs": [],
   "source": []
  },
  {
   "cell_type": "code",
   "execution_count": null,
   "id": "cc85d166-2fbc-4cc0-b4f6-f29c6b0d2c65",
   "metadata": {},
   "outputs": [],
   "source": []
  },
  {
   "cell_type": "code",
   "execution_count": null,
   "id": "40b7f064-6380-4245-ae3d-d0f101cee9d7",
   "metadata": {},
   "outputs": [],
   "source": []
  },
  {
   "cell_type": "code",
   "execution_count": null,
   "id": "1b167df4-c0fa-41e1-8ec9-243f8aba198f",
   "metadata": {},
   "outputs": [],
   "source": []
  },
  {
   "cell_type": "code",
   "execution_count": null,
   "id": "31a7f9ea-dd67-4ad0-9f53-ba5b412a69c3",
   "metadata": {},
   "outputs": [],
   "source": []
  },
  {
   "cell_type": "code",
   "execution_count": null,
   "id": "efe0e9c7-319a-49d6-ba2e-7bbb2b183ff6",
   "metadata": {},
   "outputs": [],
   "source": []
  },
  {
   "cell_type": "code",
   "execution_count": null,
   "id": "55d8a579-9e1d-49a5-8fb6-b79cd56f4555",
   "metadata": {},
   "outputs": [],
   "source": []
  },
  {
   "cell_type": "code",
   "execution_count": null,
   "id": "026067f8-21fb-4695-bcba-da8fb560f6ac",
   "metadata": {},
   "outputs": [],
   "source": []
  },
  {
   "cell_type": "code",
   "execution_count": null,
   "id": "6268f0c4-49ad-47c2-84b7-a5b372638ba7",
   "metadata": {},
   "outputs": [],
   "source": []
  },
  {
   "cell_type": "code",
   "execution_count": null,
   "id": "81e9fe38-183e-4e93-b73f-14f76192fe6f",
   "metadata": {},
   "outputs": [],
   "source": []
  },
  {
   "cell_type": "code",
   "execution_count": null,
   "id": "b9412c22-bb3e-49c5-85c3-57931bb14deb",
   "metadata": {},
   "outputs": [],
   "source": []
  },
  {
   "cell_type": "code",
   "execution_count": null,
   "id": "d76e989e-2052-4e9d-bdbb-770704d825c8",
   "metadata": {},
   "outputs": [],
   "source": []
  },
  {
   "cell_type": "code",
   "execution_count": null,
   "id": "acd52a24-15ce-4f0a-9c5d-d28990e7ccf3",
   "metadata": {},
   "outputs": [],
   "source": []
  }
 ],
 "metadata": {
  "kernelspec": {
   "display_name": "Python 3",
   "language": "python",
   "name": "python3"
  },
  "language_info": {
   "codemirror_mode": {
    "name": "ipython",
    "version": 3
   },
   "file_extension": ".py",
   "mimetype": "text/x-python",
   "name": "python",
   "nbconvert_exporter": "python",
   "pygments_lexer": "ipython3",
   "version": "3.8.8"
  }
 },
 "nbformat": 4,
 "nbformat_minor": 5
}
