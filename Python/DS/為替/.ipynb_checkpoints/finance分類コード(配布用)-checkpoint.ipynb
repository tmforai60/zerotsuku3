{
 "cells": [
  {
   "cell_type": "markdown",
   "metadata": {
    "id": "NNX9afYRU68X"
   },
   "source": [
    "## 全体の流れ\n",
    "<ol>\n",
    "<li>データを読み込んで確認する</li>\n",
    "<li>株価データの全体像をつかむ</li>\n",
    "<li>株価分析の精度を上げる特徴量を追加する</li>\n",
    "<li>分析のためにデータを整える</li>\n",
    "<li>株価予測モデルの生成</li>\n",
    "<li>CSVファイルで出力</li>\n",
    "</ol>"
   ]
  },
  {
   "cell_type": "markdown",
   "metadata": {
    "id": "8vcDCtk1bAqt"
   },
   "source": [
    "##ニューラルネット\n",
    "メリット：特徴量を自動で生成してくれるため、画像認識や音声処理など特徴量を人工的に作れない複雑なデータの予測に向いている。\n",
    "\n",
    "デメリット：ハイパーパラメータの調整がとにかく難しい。予測値を出力する過程が説明できない(ブラックボックス化)。数式も複雑なため、他の機械学習をマスターした後に学ぶほうが無難。"
   ]
  },
  {
   "cell_type": "markdown",
   "metadata": {
    "id": "jBagvtYYU68Y"
   },
   "source": [
    "## データを読み込んで確認する"
   ]
  },
  {
   "cell_type": "code",
   "execution_count": 1,
   "metadata": {
    "id": "6JP7Rjm0U68Y"
   },
   "outputs": [],
   "source": [
    "# pandasのインポート\n",
    "import pandas as pd\n",
    "# numpyのインポート\n",
    "import numpy as np\n",
    "# matplotlibのインポート\n",
    "from matplotlib import pyplot as plt"
   ]
  },
  {
   "cell_type": "code",
   "execution_count": 2,
   "metadata": {
    "id": "q092MCbMU68Y"
   },
   "outputs": [],
   "source": [
    "# データの読み込み\n",
    "df_train = pd.read_csv('train_finance2.csv')\n",
    "df_test = pd.read_csv('test_finance2.csv')\n",
    "df_sample = pd.read_csv('submit_finance.csv')"
   ]
  },
  {
   "cell_type": "code",
   "execution_count": 3,
   "metadata": {
    "colab": {
     "base_uri": "https://localhost:8080/",
     "height": 665
    },
    "id": "8VFALmjOU68Z",
    "outputId": "55b2f956-3778-4f87-98b0-b2254d2ad97c"
   },
   "outputs": [
    {
     "data": {
      "text/html": [
       "<div>\n",
       "<style scoped>\n",
       "    .dataframe tbody tr th:only-of-type {\n",
       "        vertical-align: middle;\n",
       "    }\n",
       "\n",
       "    .dataframe tbody tr th {\n",
       "        vertical-align: top;\n",
       "    }\n",
       "\n",
       "    .dataframe thead th {\n",
       "        text-align: right;\n",
       "    }\n",
       "</style>\n",
       "<table border=\"1\" class=\"dataframe\">\n",
       "  <thead>\n",
       "    <tr style=\"text-align: right;\">\n",
       "      <th></th>\n",
       "      <th>Date</th>\n",
       "      <th>High</th>\n",
       "      <th>Low</th>\n",
       "      <th>Open</th>\n",
       "      <th>Close</th>\n",
       "    </tr>\n",
       "  </thead>\n",
       "  <tbody>\n",
       "    <tr>\n",
       "      <th>0</th>\n",
       "      <td>2003-12-01</td>\n",
       "      <td>111.370639</td>\n",
       "      <td>110.482062</td>\n",
       "      <td>111.314347</td>\n",
       "      <td>110.676377</td>\n",
       "    </tr>\n",
       "    <tr>\n",
       "      <th>1</th>\n",
       "      <td>2003-12-02</td>\n",
       "      <td>112.008532</td>\n",
       "      <td>110.500532</td>\n",
       "      <td>110.639316</td>\n",
       "      <td>111.823016</td>\n",
       "    </tr>\n",
       "    <tr>\n",
       "      <th>2</th>\n",
       "      <td>2003-12-03</td>\n",
       "      <td>112.202814</td>\n",
       "      <td>111.712284</td>\n",
       "      <td>111.832477</td>\n",
       "      <td>112.137524</td>\n",
       "    </tr>\n",
       "    <tr>\n",
       "      <th>3</th>\n",
       "      <td>2003-12-04</td>\n",
       "      <td>112.332258</td>\n",
       "      <td>111.406851</td>\n",
       "      <td>112.110343</td>\n",
       "      <td>111.748717</td>\n",
       "    </tr>\n",
       "    <tr>\n",
       "      <th>4</th>\n",
       "      <td>2003-12-05</td>\n",
       "      <td>112.766375</td>\n",
       "      <td>111.609834</td>\n",
       "      <td>111.721723</td>\n",
       "      <td>112.729259</td>\n",
       "    </tr>\n",
       "    <tr>\n",
       "      <th>5</th>\n",
       "      <td>2003-12-08</td>\n",
       "      <td>113.220483</td>\n",
       "      <td>112.425105</td>\n",
       "      <td>112.553700</td>\n",
       "      <td>113.035089</td>\n",
       "    </tr>\n",
       "    <tr>\n",
       "      <th>6</th>\n",
       "      <td>2003-12-09</td>\n",
       "      <td>113.562415</td>\n",
       "      <td>112.831025</td>\n",
       "      <td>113.044748</td>\n",
       "      <td>113.312017</td>\n",
       "    </tr>\n",
       "    <tr>\n",
       "      <th>7</th>\n",
       "      <td>2003-12-10</td>\n",
       "      <td>113.460736</td>\n",
       "      <td>112.498941</td>\n",
       "      <td>113.303692</td>\n",
       "      <td>112.766375</td>\n",
       "    </tr>\n",
       "    <tr>\n",
       "      <th>8</th>\n",
       "      <td>2003-12-11</td>\n",
       "      <td>113.173376</td>\n",
       "      <td>112.137524</td>\n",
       "      <td>112.766375</td>\n",
       "      <td>113.072392</td>\n",
       "    </tr>\n",
       "    <tr>\n",
       "      <th>9</th>\n",
       "      <td>2003-12-12</td>\n",
       "      <td>113.830742</td>\n",
       "      <td>112.970206</td>\n",
       "      <td>113.100037</td>\n",
       "      <td>113.580543</td>\n",
       "    </tr>\n",
       "    <tr>\n",
       "      <th>10</th>\n",
       "      <td>2003-12-15</td>\n",
       "      <td>114.006114</td>\n",
       "      <td>112.646899</td>\n",
       "      <td>112.729259</td>\n",
       "      <td>113.959768</td>\n",
       "    </tr>\n",
       "    <tr>\n",
       "      <th>11</th>\n",
       "      <td>2003-12-16</td>\n",
       "      <td>114.320313</td>\n",
       "      <td>113.820940</td>\n",
       "      <td>113.905030</td>\n",
       "      <td>113.978017</td>\n",
       "    </tr>\n",
       "    <tr>\n",
       "      <th>12</th>\n",
       "      <td>2003-12-17</td>\n",
       "      <td>114.885428</td>\n",
       "      <td>113.774737</td>\n",
       "      <td>113.959768</td>\n",
       "      <td>114.718725</td>\n",
       "    </tr>\n",
       "    <tr>\n",
       "      <th>13</th>\n",
       "      <td>2003-12-18</td>\n",
       "      <td>115.088400</td>\n",
       "      <td>114.385350</td>\n",
       "      <td>114.718725</td>\n",
       "      <td>114.912544</td>\n",
       "    </tr>\n",
       "    <tr>\n",
       "      <th>14</th>\n",
       "      <td>2003-12-19</td>\n",
       "      <td>115.023992</td>\n",
       "      <td>114.246896</td>\n",
       "      <td>114.903976</td>\n",
       "      <td>114.561007</td>\n",
       "    </tr>\n",
       "    <tr>\n",
       "      <th>15</th>\n",
       "      <td>2003-12-22</td>\n",
       "      <td>115.125638</td>\n",
       "      <td>114.301953</td>\n",
       "      <td>114.301953</td>\n",
       "      <td>114.690275</td>\n",
       "    </tr>\n",
       "    <tr>\n",
       "      <th>16</th>\n",
       "      <td>2003-12-23</td>\n",
       "      <td>117.216209</td>\n",
       "      <td>114.589401</td>\n",
       "      <td>114.690275</td>\n",
       "      <td>114.700232</td>\n",
       "    </tr>\n",
       "    <tr>\n",
       "      <th>17</th>\n",
       "      <td>2003-12-24</td>\n",
       "      <td>115.365428</td>\n",
       "      <td>114.700232</td>\n",
       "      <td>114.708767</td>\n",
       "      <td>115.190156</td>\n",
       "    </tr>\n",
       "    <tr>\n",
       "      <th>18</th>\n",
       "      <td>2003-12-25</td>\n",
       "      <td>115.348160</td>\n",
       "      <td>115.098423</td>\n",
       "      <td>115.227460</td>\n",
       "      <td>115.144273</td>\n",
       "    </tr>\n",
       "    <tr>\n",
       "      <th>19</th>\n",
       "      <td>2003-12-26</td>\n",
       "      <td>115.356794</td>\n",
       "      <td>114.949671</td>\n",
       "      <td>115.162908</td>\n",
       "      <td>114.995399</td>\n",
       "    </tr>\n",
       "  </tbody>\n",
       "</table>\n",
       "</div>"
      ],
      "text/plain": [
       "          Date        High         Low        Open       Close\n",
       "0   2003-12-01  111.370639  110.482062  111.314347  110.676377\n",
       "1   2003-12-02  112.008532  110.500532  110.639316  111.823016\n",
       "2   2003-12-03  112.202814  111.712284  111.832477  112.137524\n",
       "3   2003-12-04  112.332258  111.406851  112.110343  111.748717\n",
       "4   2003-12-05  112.766375  111.609834  111.721723  112.729259\n",
       "5   2003-12-08  113.220483  112.425105  112.553700  113.035089\n",
       "6   2003-12-09  113.562415  112.831025  113.044748  113.312017\n",
       "7   2003-12-10  113.460736  112.498941  113.303692  112.766375\n",
       "8   2003-12-11  113.173376  112.137524  112.766375  113.072392\n",
       "9   2003-12-12  113.830742  112.970206  113.100037  113.580543\n",
       "10  2003-12-15  114.006114  112.646899  112.729259  113.959768\n",
       "11  2003-12-16  114.320313  113.820940  113.905030  113.978017\n",
       "12  2003-12-17  114.885428  113.774737  113.959768  114.718725\n",
       "13  2003-12-18  115.088400  114.385350  114.718725  114.912544\n",
       "14  2003-12-19  115.023992  114.246896  114.903976  114.561007\n",
       "15  2003-12-22  115.125638  114.301953  114.301953  114.690275\n",
       "16  2003-12-23  117.216209  114.589401  114.690275  114.700232\n",
       "17  2003-12-24  115.365428  114.700232  114.708767  115.190156\n",
       "18  2003-12-25  115.348160  115.098423  115.227460  115.144273\n",
       "19  2003-12-26  115.356794  114.949671  115.162908  114.995399"
      ]
     },
     "execution_count": 3,
     "metadata": {},
     "output_type": "execute_result"
    }
   ],
   "source": [
    "# データフレームの先頭20行の表示\n",
    "df_train.head(20)"
   ]
  },
  {
   "cell_type": "code",
   "execution_count": 4,
   "metadata": {
    "colab": {
     "base_uri": "https://localhost:8080/",
     "height": 203
    },
    "id": "BeMPGvzmU68Z",
    "outputId": "aafc2551-69ac-4574-ed23-6f9a30207725"
   },
   "outputs": [
    {
     "data": {
      "text/html": [
       "<div>\n",
       "<style scoped>\n",
       "    .dataframe tbody tr th:only-of-type {\n",
       "        vertical-align: middle;\n",
       "    }\n",
       "\n",
       "    .dataframe tbody tr th {\n",
       "        vertical-align: top;\n",
       "    }\n",
       "\n",
       "    .dataframe thead th {\n",
       "        text-align: right;\n",
       "    }\n",
       "</style>\n",
       "<table border=\"1\" class=\"dataframe\">\n",
       "  <thead>\n",
       "    <tr style=\"text-align: right;\">\n",
       "      <th></th>\n",
       "      <th>Date</th>\n",
       "      <th>High</th>\n",
       "      <th>Low</th>\n",
       "      <th>Open</th>\n",
       "      <th>Close</th>\n",
       "    </tr>\n",
       "  </thead>\n",
       "  <tbody>\n",
       "    <tr>\n",
       "      <th>2069</th>\n",
       "      <td>2011-12-08</td>\n",
       "      <td>124.476855</td>\n",
       "      <td>123.126484</td>\n",
       "      <td>123.959751</td>\n",
       "      <td>123.984661</td>\n",
       "    </tr>\n",
       "    <tr>\n",
       "      <th>2070</th>\n",
       "      <td>2011-12-09</td>\n",
       "      <td>124.227770</td>\n",
       "      <td>122.895824</td>\n",
       "      <td>123.445260</td>\n",
       "      <td>123.445260</td>\n",
       "    </tr>\n",
       "    <tr>\n",
       "      <th>2071</th>\n",
       "      <td>2011-12-12</td>\n",
       "      <td>123.745819</td>\n",
       "      <td>122.202555</td>\n",
       "      <td>123.681290</td>\n",
       "      <td>123.687906</td>\n",
       "    </tr>\n",
       "    <tr>\n",
       "      <th>2072</th>\n",
       "      <td>2011-12-13</td>\n",
       "      <td>122.393352</td>\n",
       "      <td>121.174807</td>\n",
       "      <td>121.782641</td>\n",
       "      <td>121.832361</td>\n",
       "    </tr>\n",
       "    <tr>\n",
       "      <th>2073</th>\n",
       "      <td>2011-12-14</td>\n",
       "      <td>120.796608</td>\n",
       "      <td>119.824855</td>\n",
       "      <td>120.508620</td>\n",
       "      <td>120.427021</td>\n",
       "    </tr>\n",
       "  </tbody>\n",
       "</table>\n",
       "</div>"
      ],
      "text/plain": [
       "            Date        High         Low        Open       Close\n",
       "2069  2011-12-08  124.476855  123.126484  123.959751  123.984661\n",
       "2070  2011-12-09  124.227770  122.895824  123.445260  123.445260\n",
       "2071  2011-12-12  123.745819  122.202555  123.681290  123.687906\n",
       "2072  2011-12-13  122.393352  121.174807  121.782641  121.832361\n",
       "2073  2011-12-14  120.796608  119.824855  120.508620  120.427021"
      ]
     },
     "execution_count": 4,
     "metadata": {},
     "output_type": "execute_result"
    }
   ],
   "source": [
    "df_train.tail()"
   ]
  },
  {
   "cell_type": "code",
   "execution_count": 5,
   "metadata": {
    "colab": {
     "base_uri": "https://localhost:8080/"
    },
    "id": "nqSCINrGU68Z",
    "outputId": "833286ea-643e-46d6-e772-ffba4e84992b"
   },
   "outputs": [
    {
     "data": {
      "text/plain": [
       "(2074, 5)"
      ]
     },
     "execution_count": 5,
     "metadata": {},
     "output_type": "execute_result"
    }
   ],
   "source": [
    "# データの行数とカラム数を調べる\n",
    "df_train.shape"
   ]
  },
  {
   "cell_type": "code",
   "execution_count": 6,
   "metadata": {
    "colab": {
     "base_uri": "https://localhost:8080/",
     "height": 357
    },
    "id": "isNBhbW_oQpE",
    "outputId": "6a8f8dd1-8323-4dee-fffc-b9e1e425f382"
   },
   "outputs": [
    {
     "data": {
      "text/html": [
       "<div>\n",
       "<style scoped>\n",
       "    .dataframe tbody tr th:only-of-type {\n",
       "        vertical-align: middle;\n",
       "    }\n",
       "\n",
       "    .dataframe tbody tr th {\n",
       "        vertical-align: top;\n",
       "    }\n",
       "\n",
       "    .dataframe thead th {\n",
       "        text-align: right;\n",
       "    }\n",
       "</style>\n",
       "<table border=\"1\" class=\"dataframe\">\n",
       "  <thead>\n",
       "    <tr style=\"text-align: right;\">\n",
       "      <th></th>\n",
       "      <th>Date</th>\n",
       "      <th>High</th>\n",
       "      <th>Low</th>\n",
       "      <th>Open</th>\n",
       "      <th>Close</th>\n",
       "      <th>Up</th>\n",
       "    </tr>\n",
       "  </thead>\n",
       "  <tbody>\n",
       "    <tr>\n",
       "      <th>0</th>\n",
       "      <td>2003-12-01</td>\n",
       "      <td>111.370639</td>\n",
       "      <td>110.482062</td>\n",
       "      <td>111.314347</td>\n",
       "      <td>110.676377</td>\n",
       "      <td>0</td>\n",
       "    </tr>\n",
       "    <tr>\n",
       "      <th>1</th>\n",
       "      <td>2003-12-02</td>\n",
       "      <td>112.008532</td>\n",
       "      <td>110.500532</td>\n",
       "      <td>110.639316</td>\n",
       "      <td>111.823016</td>\n",
       "      <td>1</td>\n",
       "    </tr>\n",
       "    <tr>\n",
       "      <th>2</th>\n",
       "      <td>2003-12-03</td>\n",
       "      <td>112.202814</td>\n",
       "      <td>111.712284</td>\n",
       "      <td>111.832477</td>\n",
       "      <td>112.137524</td>\n",
       "      <td>0</td>\n",
       "    </tr>\n",
       "    <tr>\n",
       "      <th>3</th>\n",
       "      <td>2003-12-04</td>\n",
       "      <td>112.332258</td>\n",
       "      <td>111.406851</td>\n",
       "      <td>112.110343</td>\n",
       "      <td>111.748717</td>\n",
       "      <td>0</td>\n",
       "    </tr>\n",
       "    <tr>\n",
       "      <th>4</th>\n",
       "      <td>2003-12-05</td>\n",
       "      <td>112.766375</td>\n",
       "      <td>111.609834</td>\n",
       "      <td>111.721723</td>\n",
       "      <td>112.729259</td>\n",
       "      <td>0</td>\n",
       "    </tr>\n",
       "    <tr>\n",
       "      <th>5</th>\n",
       "      <td>2003-12-08</td>\n",
       "      <td>113.220483</td>\n",
       "      <td>112.425105</td>\n",
       "      <td>112.553700</td>\n",
       "      <td>113.035089</td>\n",
       "      <td>1</td>\n",
       "    </tr>\n",
       "    <tr>\n",
       "      <th>6</th>\n",
       "      <td>2003-12-09</td>\n",
       "      <td>113.562415</td>\n",
       "      <td>112.831025</td>\n",
       "      <td>113.044748</td>\n",
       "      <td>113.312017</td>\n",
       "      <td>0</td>\n",
       "    </tr>\n",
       "    <tr>\n",
       "      <th>7</th>\n",
       "      <td>2003-12-10</td>\n",
       "      <td>113.460736</td>\n",
       "      <td>112.498941</td>\n",
       "      <td>113.303692</td>\n",
       "      <td>112.766375</td>\n",
       "      <td>1</td>\n",
       "    </tr>\n",
       "    <tr>\n",
       "      <th>8</th>\n",
       "      <td>2003-12-11</td>\n",
       "      <td>113.173376</td>\n",
       "      <td>112.137524</td>\n",
       "      <td>112.766375</td>\n",
       "      <td>113.072392</td>\n",
       "      <td>1</td>\n",
       "    </tr>\n",
       "    <tr>\n",
       "      <th>9</th>\n",
       "      <td>2003-12-12</td>\n",
       "      <td>113.830742</td>\n",
       "      <td>112.970206</td>\n",
       "      <td>113.100037</td>\n",
       "      <td>113.580543</td>\n",
       "      <td>0</td>\n",
       "    </tr>\n",
       "  </tbody>\n",
       "</table>\n",
       "</div>"
      ],
      "text/plain": [
       "         Date        High         Low        Open       Close  Up\n",
       "0  2003-12-01  111.370639  110.482062  111.314347  110.676377   0\n",
       "1  2003-12-02  112.008532  110.500532  110.639316  111.823016   1\n",
       "2  2003-12-03  112.202814  111.712284  111.832477  112.137524   0\n",
       "3  2003-12-04  112.332258  111.406851  112.110343  111.748717   0\n",
       "4  2003-12-05  112.766375  111.609834  111.721723  112.729259   0\n",
       "5  2003-12-08  113.220483  112.425105  112.553700  113.035089   1\n",
       "6  2003-12-09  113.562415  112.831025  113.044748  113.312017   0\n",
       "7  2003-12-10  113.460736  112.498941  113.303692  112.766375   1\n",
       "8  2003-12-11  113.173376  112.137524  112.766375  113.072392   1\n",
       "9  2003-12-12  113.830742  112.970206  113.100037  113.580543   0"
      ]
     },
     "execution_count": 6,
     "metadata": {},
     "output_type": "execute_result"
    }
   ],
   "source": [
    "#\"Up\"の追加\n",
    "df_train[\"Shift\"]=df_train[\"Open\"].shift(-1)\n",
    "df_train[\"Diff\"]=df_train[\"Shift\"]-df_train[\"Close\"]\n",
    "df_train[\"Up\"]=df_train[\"Diff\"].apply(lambda x:1 if x>=0 else 0)\n",
    "df_train=df_train.dropna()\n",
    "df_train=df_train[[\"Date\",\"High\",\"Low\",\"Open\",\"Close\",\"Up\"]]\n",
    "df_train.head(10)"
   ]
  },
  {
   "cell_type": "code",
   "execution_count": 7,
   "metadata": {
    "colab": {
     "base_uri": "https://localhost:8080/"
    },
    "id": "IXDCLAZmU68c",
    "outputId": "ad886a1e-e90e-4d2a-c211-ea983ad3637b"
   },
   "outputs": [
    {
     "name": "stdout",
     "output_type": "stream",
     "text": [
      "<class 'pandas.core.frame.DataFrame'>\n",
      "Int64Index: 2073 entries, 0 to 2072\n",
      "Data columns (total 6 columns):\n",
      " #   Column  Non-Null Count  Dtype  \n",
      "---  ------  --------------  -----  \n",
      " 0   Date    2073 non-null   object \n",
      " 1   High    2073 non-null   float64\n",
      " 2   Low     2073 non-null   float64\n",
      " 3   Open    2073 non-null   float64\n",
      " 4   Close   2073 non-null   float64\n",
      " 5   Up      2073 non-null   int64  \n",
      "dtypes: float64(4), int64(1), object(1)\n",
      "memory usage: 113.4+ KB\n"
     ]
    }
   ],
   "source": [
    "# 各カラムの詳細確認\n",
    "df_train.info()"
   ]
  },
  {
   "cell_type": "code",
   "execution_count": 8,
   "metadata": {
    "id": "eDHNabDQU68f"
   },
   "outputs": [],
   "source": [
    "# Dateのデータ型へ変更\n",
    "df_train['Date'] = pd.to_datetime(df_train['Date'])\n",
    "# データの並び替え\n",
    "df_train.sort_values(by='Date', ascending=True, inplace=True)\n",
    "# 日付をインデックスにセット\n",
    "df_train.set_index(keys='Date', inplace=True)"
   ]
  },
  {
   "cell_type": "markdown",
   "metadata": {
    "id": "lhE3Va4BU68f"
   },
   "source": [
    "## 株価データの全体像をつかむ"
   ]
  },
  {
   "cell_type": "code",
   "execution_count": 9,
   "metadata": {
    "colab": {
     "base_uri": "https://localhost:8080/",
     "height": 295
    },
    "id": "Uu1oGFG-U68f",
    "outputId": "29d6f7a8-9ed2-486d-efdf-9b331207f04f"
   },
   "outputs": [
    {
     "data": {
      "text/html": [
       "<div>\n",
       "<style scoped>\n",
       "    .dataframe tbody tr th:only-of-type {\n",
       "        vertical-align: middle;\n",
       "    }\n",
       "\n",
       "    .dataframe tbody tr th {\n",
       "        vertical-align: top;\n",
       "    }\n",
       "\n",
       "    .dataframe thead th {\n",
       "        text-align: right;\n",
       "    }\n",
       "</style>\n",
       "<table border=\"1\" class=\"dataframe\">\n",
       "  <thead>\n",
       "    <tr style=\"text-align: right;\">\n",
       "      <th></th>\n",
       "      <th>High</th>\n",
       "      <th>Low</th>\n",
       "      <th>Open</th>\n",
       "      <th>Close</th>\n",
       "      <th>Up</th>\n",
       "    </tr>\n",
       "  </thead>\n",
       "  <tbody>\n",
       "    <tr>\n",
       "      <th>count</th>\n",
       "      <td>2073.000000</td>\n",
       "      <td>2073.000000</td>\n",
       "      <td>2073.000000</td>\n",
       "      <td>2073.000000</td>\n",
       "      <td>2073.000000</td>\n",
       "    </tr>\n",
       "    <tr>\n",
       "      <th>mean</th>\n",
       "      <td>124.079821</td>\n",
       "      <td>122.978305</td>\n",
       "      <td>123.527660</td>\n",
       "      <td>123.530986</td>\n",
       "      <td>0.569706</td>\n",
       "    </tr>\n",
       "    <tr>\n",
       "      <th>std</th>\n",
       "      <td>9.212134</td>\n",
       "      <td>9.157571</td>\n",
       "      <td>9.189981</td>\n",
       "      <td>9.186933</td>\n",
       "      <td>0.495237</td>\n",
       "    </tr>\n",
       "    <tr>\n",
       "      <th>min</th>\n",
       "      <td>108.520946</td>\n",
       "      <td>107.748581</td>\n",
       "      <td>107.993884</td>\n",
       "      <td>107.998923</td>\n",
       "      <td>0.000000</td>\n",
       "    </tr>\n",
       "    <tr>\n",
       "      <th>25%</th>\n",
       "      <td>117.002707</td>\n",
       "      <td>115.874130</td>\n",
       "      <td>116.401986</td>\n",
       "      <td>116.421029</td>\n",
       "      <td>0.000000</td>\n",
       "    </tr>\n",
       "    <tr>\n",
       "      <th>50%</th>\n",
       "      <td>123.246236</td>\n",
       "      <td>121.957648</td>\n",
       "      <td>122.599367</td>\n",
       "      <td>122.575009</td>\n",
       "      <td>1.000000</td>\n",
       "    </tr>\n",
       "    <tr>\n",
       "      <th>75%</th>\n",
       "      <td>130.819703</td>\n",
       "      <td>129.435799</td>\n",
       "      <td>130.202828</td>\n",
       "      <td>130.184512</td>\n",
       "      <td>1.000000</td>\n",
       "    </tr>\n",
       "    <tr>\n",
       "      <th>max</th>\n",
       "      <td>148.260942</td>\n",
       "      <td>146.834717</td>\n",
       "      <td>147.832063</td>\n",
       "      <td>147.888796</td>\n",
       "      <td>1.000000</td>\n",
       "    </tr>\n",
       "  </tbody>\n",
       "</table>\n",
       "</div>"
      ],
      "text/plain": [
       "              High          Low         Open        Close           Up\n",
       "count  2073.000000  2073.000000  2073.000000  2073.000000  2073.000000\n",
       "mean    124.079821   122.978305   123.527660   123.530986     0.569706\n",
       "std       9.212134     9.157571     9.189981     9.186933     0.495237\n",
       "min     108.520946   107.748581   107.993884   107.998923     0.000000\n",
       "25%     117.002707   115.874130   116.401986   116.421029     0.000000\n",
       "50%     123.246236   121.957648   122.599367   122.575009     1.000000\n",
       "75%     130.819703   129.435799   130.202828   130.184512     1.000000\n",
       "max     148.260942   146.834717   147.832063   147.888796     1.000000"
      ]
     },
     "execution_count": 9,
     "metadata": {},
     "output_type": "execute_result"
    }
   ],
   "source": [
    "# 基本統計量の確認\n",
    "df_train.describe()"
   ]
  },
  {
   "cell_type": "code",
   "execution_count": 10,
   "metadata": {
    "colab": {
     "base_uri": "https://localhost:8080/",
     "height": 272
    },
    "id": "hrNU3r_CU68g",
    "outputId": "e9d763de-22c2-4f3d-e7ce-7c90f2319384"
   },
   "outputs": [
    {
     "data": {
      "image/png": "[encoded data removed]",
      "text/plain": [
       "<Figure size 432x288 with 1 Axes>"
      ]
     },
     "metadata": {
      "needs_background": "light"
     },
     "output_type": "display_data"
    }
   ],
   "source": [
    "# グラフ化したいので、特定のカラムの抽出\n",
    "df_new = df_train.loc[:, ['Open', 'High', 'Low', 'Close']]\n",
    "# 折れ線グラフの描画\n",
    "df_new.plot(kind='line')\n",
    "plt.show()"
   ]
  },
  {
   "cell_type": "markdown",
   "metadata": {
    "id": "MPqT0v71U68h"
   },
   "source": [
    "## 評価用データ（test.csv）も整えてグラフで見てみる"
   ]
  },
  {
   "cell_type": "code",
   "execution_count": 11,
   "metadata": {
    "id": "yXn8P26sU68h"
   },
   "outputs": [],
   "source": [
    "df_test['Date'] = pd.to_datetime(df_test['Date'])\n",
    "df_test.sort_values(by='Date', ascending=True, inplace=True)\n",
    "df_test.set_index(keys='Date', inplace=True)"
   ]
  },
  {
   "cell_type": "code",
   "execution_count": 12,
   "metadata": {
    "colab": {
     "base_uri": "https://localhost:8080/",
     "height": 696
    },
    "id": "nqOUH5PIU68h",
    "outputId": "5eae39bd-6a05-4f3f-a78b-1bea99a5ec16"
   },
   "outputs": [
    {
     "data": {
      "text/html": [
       "<div>\n",
       "<style scoped>\n",
       "    .dataframe tbody tr th:only-of-type {\n",
       "        vertical-align: middle;\n",
       "    }\n",
       "\n",
       "    .dataframe tbody tr th {\n",
       "        vertical-align: top;\n",
       "    }\n",
       "\n",
       "    .dataframe thead th {\n",
       "        text-align: right;\n",
       "    }\n",
       "</style>\n",
       "<table border=\"1\" class=\"dataframe\">\n",
       "  <thead>\n",
       "    <tr style=\"text-align: right;\">\n",
       "      <th></th>\n",
       "      <th>High</th>\n",
       "      <th>Low</th>\n",
       "      <th>Open</th>\n",
       "      <th>Close</th>\n",
       "    </tr>\n",
       "    <tr>\n",
       "      <th>Date</th>\n",
       "      <th></th>\n",
       "      <th></th>\n",
       "      <th></th>\n",
       "      <th></th>\n",
       "    </tr>\n",
       "  </thead>\n",
       "  <tbody>\n",
       "    <tr>\n",
       "      <th>2011-12-15</th>\n",
       "      <td>120.703597</td>\n",
       "      <td>119.907182</td>\n",
       "      <td>120.132990</td>\n",
       "      <td>120.139231</td>\n",
       "    </tr>\n",
       "    <tr>\n",
       "      <th>2011-12-16</th>\n",
       "      <td>121.027367</td>\n",
       "      <td>120.314249</td>\n",
       "      <td>120.527453</td>\n",
       "      <td>120.524311</td>\n",
       "    </tr>\n",
       "    <tr>\n",
       "      <th>2011-12-19</th>\n",
       "      <td>120.629617</td>\n",
       "      <td>120.111145</td>\n",
       "      <td>120.582444</td>\n",
       "      <td>120.591872</td>\n",
       "    </tr>\n",
       "    <tr>\n",
       "      <th>2011-12-20</th>\n",
       "      <td>121.470779</td>\n",
       "      <td>120.221987</td>\n",
       "      <td>120.323633</td>\n",
       "      <td>120.322078</td>\n",
       "    </tr>\n",
       "    <tr>\n",
       "      <th>2011-12-21</th>\n",
       "      <td>122.046150</td>\n",
       "      <td>120.513328</td>\n",
       "      <td>121.063789</td>\n",
       "      <td>121.063789</td>\n",
       "    </tr>\n",
       "    <tr>\n",
       "      <th>2011-12-22</th>\n",
       "      <td>121.351259</td>\n",
       "      <td>120.467798</td>\n",
       "      <td>120.601311</td>\n",
       "      <td>120.620178</td>\n",
       "    </tr>\n",
       "    <tr>\n",
       "      <th>2011-12-29</th>\n",
       "      <td>119.731799</td>\n",
       "      <td>118.966469</td>\n",
       "      <td>119.563110</td>\n",
       "      <td>119.577026</td>\n",
       "    </tr>\n",
       "    <tr>\n",
       "      <th>2011-12-30</th>\n",
       "      <td>120.212615</td>\n",
       "      <td>119.381024</td>\n",
       "      <td>119.807785</td>\n",
       "      <td>119.843490</td>\n",
       "    </tr>\n",
       "    <tr>\n",
       "      <th>2012-01-02</th>\n",
       "      <td>119.916510</td>\n",
       "      <td>119.533757</td>\n",
       "      <td>119.880761</td>\n",
       "      <td>119.880761</td>\n",
       "    </tr>\n",
       "    <tr>\n",
       "      <th>2012-01-03</th>\n",
       "      <td>120.859737</td>\n",
       "      <td>119.660544</td>\n",
       "      <td>119.660544</td>\n",
       "      <td>119.703912</td>\n",
       "    </tr>\n",
       "    <tr>\n",
       "      <th>2012-01-04</th>\n",
       "      <td>120.934003</td>\n",
       "      <td>119.344062</td>\n",
       "      <td>120.749303</td>\n",
       "      <td>120.768214</td>\n",
       "    </tr>\n",
       "    <tr>\n",
       "      <th>2012-01-05</th>\n",
       "      <td>119.722504</td>\n",
       "      <td>118.263761</td>\n",
       "      <td>119.611044</td>\n",
       "      <td>119.615675</td>\n",
       "    </tr>\n",
       "    <tr>\n",
       "      <th>2012-01-12</th>\n",
       "      <td>118.668854</td>\n",
       "      <td>117.484195</td>\n",
       "      <td>117.696451</td>\n",
       "      <td>117.696451</td>\n",
       "    </tr>\n",
       "    <tr>\n",
       "      <th>2012-01-13</th>\n",
       "      <td>119.093598</td>\n",
       "      <td>117.029348</td>\n",
       "      <td>118.635377</td>\n",
       "      <td>118.589748</td>\n",
       "    </tr>\n",
       "    <tr>\n",
       "      <th>2012-01-16</th>\n",
       "      <td>117.317303</td>\n",
       "      <td>116.815063</td>\n",
       "      <td>116.998263</td>\n",
       "      <td>116.984943</td>\n",
       "    </tr>\n",
       "    <tr>\n",
       "      <th>2012-01-17</th>\n",
       "      <td>118.433354</td>\n",
       "      <td>117.167205</td>\n",
       "      <td>117.173149</td>\n",
       "      <td>117.170183</td>\n",
       "    </tr>\n",
       "    <tr>\n",
       "      <th>2012-01-18</th>\n",
       "      <td>118.807561</td>\n",
       "      <td>117.819389</td>\n",
       "      <td>117.921520</td>\n",
       "      <td>117.900481</td>\n",
       "    </tr>\n",
       "    <tr>\n",
       "      <th>2012-01-19</th>\n",
       "      <td>119.519852</td>\n",
       "      <td>118.816713</td>\n",
       "      <td>118.983307</td>\n",
       "      <td>119.010863</td>\n",
       "    </tr>\n",
       "    <tr>\n",
       "      <th>2012-01-26</th>\n",
       "      <td>121.914257</td>\n",
       "      <td>121.127204</td>\n",
       "      <td>121.243108</td>\n",
       "      <td>121.243108</td>\n",
       "    </tr>\n",
       "    <tr>\n",
       "      <th>2012-01-27</th>\n",
       "      <td>121.729745</td>\n",
       "      <td>121.076492</td>\n",
       "      <td>121.074882</td>\n",
       "      <td>121.108172</td>\n",
       "    </tr>\n",
       "  </tbody>\n",
       "</table>\n",
       "</div>"
      ],
      "text/plain": [
       "                  High         Low        Open       Close\n",
       "Date                                                      \n",
       "2011-12-15  120.703597  119.907182  120.132990  120.139231\n",
       "2011-12-16  121.027367  120.314249  120.527453  120.524311\n",
       "2011-12-19  120.629617  120.111145  120.582444  120.591872\n",
       "2011-12-20  121.470779  120.221987  120.323633  120.322078\n",
       "2011-12-21  122.046150  120.513328  121.063789  121.063789\n",
       "2011-12-22  121.351259  120.467798  120.601311  120.620178\n",
       "2011-12-29  119.731799  118.966469  119.563110  119.577026\n",
       "2011-12-30  120.212615  119.381024  119.807785  119.843490\n",
       "2012-01-02  119.916510  119.533757  119.880761  119.880761\n",
       "2012-01-03  120.859737  119.660544  119.660544  119.703912\n",
       "2012-01-04  120.934003  119.344062  120.749303  120.768214\n",
       "2012-01-05  119.722504  118.263761  119.611044  119.615675\n",
       "2012-01-12  118.668854  117.484195  117.696451  117.696451\n",
       "2012-01-13  119.093598  117.029348  118.635377  118.589748\n",
       "2012-01-16  117.317303  116.815063  116.998263  116.984943\n",
       "2012-01-17  118.433354  117.167205  117.173149  117.170183\n",
       "2012-01-18  118.807561  117.819389  117.921520  117.900481\n",
       "2012-01-19  119.519852  118.816713  118.983307  119.010863\n",
       "2012-01-26  121.914257  121.127204  121.243108  121.243108\n",
       "2012-01-27  121.729745  121.076492  121.074882  121.108172"
      ]
     },
     "execution_count": 12,
     "metadata": {},
     "output_type": "execute_result"
    }
   ],
   "source": [
    "df_test.head(20)"
   ]
  },
  {
   "cell_type": "code",
   "execution_count": 13,
   "metadata": {
    "id": "yNr2cnO6U68i"
   },
   "outputs": [],
   "source": [
    "df_new2 = df_test.loc[:, ['Open', 'High', 'Low', 'Close']]"
   ]
  },
  {
   "cell_type": "code",
   "execution_count": 14,
   "metadata": {
    "colab": {
     "base_uri": "https://localhost:8080/",
     "height": 269
    },
    "id": "4Fs4K7EFU68i",
    "outputId": "3ab22fcc-d432-4455-8070-a8f86df5f3d6"
   },
   "outputs": [
    {
     "data": {
      "image/png": "[encoded data removed]",
      "text/plain": [
       "<Figure size 432x288 with 1 Axes>"
      ]
     },
     "metadata": {
      "needs_background": "light"
     },
     "output_type": "display_data"
    }
   ],
   "source": [
    "df_new2.plot(kind='line')\n",
    "plt.show()"
   ]
  },
  {
   "cell_type": "markdown",
   "metadata": {
    "id": "15Kl9h--U68j"
   },
   "source": [
    "## 株価分析の精度を上げる特徴量を追加する"
   ]
  },
  {
   "cell_type": "code",
   "execution_count": 15,
   "metadata": {
    "id": "6IDG5kgqU68j"
   },
   "outputs": [],
   "source": [
    "df_train['Body'] = df_train['Open'] - df_train['Close']\n",
    "df_test['Body'] = df_test['Open'] - df_test['Close']"
   ]
  },
  {
   "cell_type": "code",
   "execution_count": 16,
   "metadata": {
    "colab": {
     "base_uri": "https://localhost:8080/",
     "height": 234
    },
    "id": "DrTPkuc3U68k",
    "outputId": "5239a641-38e1-4b3b-8ca3-e3521a2f6ee0"
   },
   "outputs": [
    {
     "data": {
      "text/html": [
       "<div>\n",
       "<style scoped>\n",
       "    .dataframe tbody tr th:only-of-type {\n",
       "        vertical-align: middle;\n",
       "    }\n",
       "\n",
       "    .dataframe tbody tr th {\n",
       "        vertical-align: top;\n",
       "    }\n",
       "\n",
       "    .dataframe thead th {\n",
       "        text-align: right;\n",
       "    }\n",
       "</style>\n",
       "<table border=\"1\" class=\"dataframe\">\n",
       "  <thead>\n",
       "    <tr style=\"text-align: right;\">\n",
       "      <th></th>\n",
       "      <th>High</th>\n",
       "      <th>Low</th>\n",
       "      <th>Open</th>\n",
       "      <th>Close</th>\n",
       "      <th>Up</th>\n",
       "      <th>Body</th>\n",
       "    </tr>\n",
       "    <tr>\n",
       "      <th>Date</th>\n",
       "      <th></th>\n",
       "      <th></th>\n",
       "      <th></th>\n",
       "      <th></th>\n",
       "      <th></th>\n",
       "      <th></th>\n",
       "    </tr>\n",
       "  </thead>\n",
       "  <tbody>\n",
       "    <tr>\n",
       "      <th>2003-12-01</th>\n",
       "      <td>111.370639</td>\n",
       "      <td>110.482062</td>\n",
       "      <td>111.314347</td>\n",
       "      <td>110.676377</td>\n",
       "      <td>0</td>\n",
       "      <td>0.637970</td>\n",
       "    </tr>\n",
       "    <tr>\n",
       "      <th>2003-12-02</th>\n",
       "      <td>112.008532</td>\n",
       "      <td>110.500532</td>\n",
       "      <td>110.639316</td>\n",
       "      <td>111.823016</td>\n",
       "      <td>1</td>\n",
       "      <td>-1.183700</td>\n",
       "    </tr>\n",
       "    <tr>\n",
       "      <th>2003-12-03</th>\n",
       "      <td>112.202814</td>\n",
       "      <td>111.712284</td>\n",
       "      <td>111.832477</td>\n",
       "      <td>112.137524</td>\n",
       "      <td>0</td>\n",
       "      <td>-0.305047</td>\n",
       "    </tr>\n",
       "    <tr>\n",
       "      <th>2003-12-04</th>\n",
       "      <td>112.332258</td>\n",
       "      <td>111.406851</td>\n",
       "      <td>112.110343</td>\n",
       "      <td>111.748717</td>\n",
       "      <td>0</td>\n",
       "      <td>0.361626</td>\n",
       "    </tr>\n",
       "    <tr>\n",
       "      <th>2003-12-05</th>\n",
       "      <td>112.766375</td>\n",
       "      <td>111.609834</td>\n",
       "      <td>111.721723</td>\n",
       "      <td>112.729259</td>\n",
       "      <td>0</td>\n",
       "      <td>-1.007535</td>\n",
       "    </tr>\n",
       "  </tbody>\n",
       "</table>\n",
       "</div>"
      ],
      "text/plain": [
       "                  High         Low        Open       Close  Up      Body\n",
       "Date                                                                    \n",
       "2003-12-01  111.370639  110.482062  111.314347  110.676377   0  0.637970\n",
       "2003-12-02  112.008532  110.500532  110.639316  111.823016   1 -1.183700\n",
       "2003-12-03  112.202814  111.712284  111.832477  112.137524   0 -0.305047\n",
       "2003-12-04  112.332258  111.406851  112.110343  111.748717   0  0.361626\n",
       "2003-12-05  112.766375  111.609834  111.721723  112.729259   0 -1.007535"
      ]
     },
     "execution_count": 16,
     "metadata": {},
     "output_type": "execute_result"
    }
   ],
   "source": [
    "df_train.head()"
   ]
  },
  {
   "cell_type": "code",
   "execution_count": 17,
   "metadata": {
    "colab": {
     "base_uri": "https://localhost:8080/",
     "height": 234
    },
    "id": "SaJBR-L8U68k",
    "outputId": "78c2752b-ea7d-4385-db18-712412dad29e"
   },
   "outputs": [
    {
     "data": {
      "text/html": [
       "<div>\n",
       "<style scoped>\n",
       "    .dataframe tbody tr th:only-of-type {\n",
       "        vertical-align: middle;\n",
       "    }\n",
       "\n",
       "    .dataframe tbody tr th {\n",
       "        vertical-align: top;\n",
       "    }\n",
       "\n",
       "    .dataframe thead th {\n",
       "        text-align: right;\n",
       "    }\n",
       "</style>\n",
       "<table border=\"1\" class=\"dataframe\">\n",
       "  <thead>\n",
       "    <tr style=\"text-align: right;\">\n",
       "      <th></th>\n",
       "      <th>High</th>\n",
       "      <th>Low</th>\n",
       "      <th>Open</th>\n",
       "      <th>Close</th>\n",
       "      <th>Body</th>\n",
       "    </tr>\n",
       "    <tr>\n",
       "      <th>Date</th>\n",
       "      <th></th>\n",
       "      <th></th>\n",
       "      <th></th>\n",
       "      <th></th>\n",
       "      <th></th>\n",
       "    </tr>\n",
       "  </thead>\n",
       "  <tbody>\n",
       "    <tr>\n",
       "      <th>2011-12-15</th>\n",
       "      <td>120.703597</td>\n",
       "      <td>119.907182</td>\n",
       "      <td>120.132990</td>\n",
       "      <td>120.139231</td>\n",
       "      <td>-0.006241</td>\n",
       "    </tr>\n",
       "    <tr>\n",
       "      <th>2011-12-16</th>\n",
       "      <td>121.027367</td>\n",
       "      <td>120.314249</td>\n",
       "      <td>120.527453</td>\n",
       "      <td>120.524311</td>\n",
       "      <td>0.003143</td>\n",
       "    </tr>\n",
       "    <tr>\n",
       "      <th>2011-12-19</th>\n",
       "      <td>120.629617</td>\n",
       "      <td>120.111145</td>\n",
       "      <td>120.582444</td>\n",
       "      <td>120.591872</td>\n",
       "      <td>-0.009428</td>\n",
       "    </tr>\n",
       "    <tr>\n",
       "      <th>2011-12-20</th>\n",
       "      <td>121.470779</td>\n",
       "      <td>120.221987</td>\n",
       "      <td>120.323633</td>\n",
       "      <td>120.322078</td>\n",
       "      <td>0.001555</td>\n",
       "    </tr>\n",
       "    <tr>\n",
       "      <th>2011-12-21</th>\n",
       "      <td>122.046150</td>\n",
       "      <td>120.513328</td>\n",
       "      <td>121.063789</td>\n",
       "      <td>121.063789</td>\n",
       "      <td>0.000000</td>\n",
       "    </tr>\n",
       "  </tbody>\n",
       "</table>\n",
       "</div>"
      ],
      "text/plain": [
       "                  High         Low        Open       Close      Body\n",
       "Date                                                                \n",
       "2011-12-15  120.703597  119.907182  120.132990  120.139231 -0.006241\n",
       "2011-12-16  121.027367  120.314249  120.527453  120.524311  0.003143\n",
       "2011-12-19  120.629617  120.111145  120.582444  120.591872 -0.009428\n",
       "2011-12-20  121.470779  120.221987  120.323633  120.322078  0.001555\n",
       "2011-12-21  122.046150  120.513328  121.063789  121.063789  0.000000"
      ]
     },
     "execution_count": 17,
     "metadata": {},
     "output_type": "execute_result"
    }
   ],
   "source": [
    "df_test.head()"
   ]
  },
  {
   "cell_type": "markdown",
   "metadata": {
    "id": "cf556kHPU68l"
   },
   "source": [
    "## 説明変数（株価を上下させる原因）と目的変数（結果どうなるか）にデータを分割"
   ]
  },
  {
   "cell_type": "code",
   "execution_count": 18,
   "metadata": {
    "colab": {
     "base_uri": "https://localhost:8080/"
    },
    "id": "v2eRjiKpU68l",
    "outputId": "164f3a77-db90-4c9d-dc4f-929bc0431108"
   },
   "outputs": [
    {
     "name": "stdout",
     "output_type": "stream",
     "text": [
      "                  High         Low        Open       Close      Body\n",
      "Date                                                                \n",
      "2003-12-01  111.370639  110.482062  111.314347  110.676377  0.637970\n",
      "2003-12-02  112.008532  110.500532  110.639316  111.823016 -1.183700\n",
      "2003-12-03  112.202814  111.712284  111.832477  112.137524 -0.305047\n",
      "2003-12-04  112.332258  111.406851  112.110343  111.748717  0.361626\n",
      "2003-12-05  112.766375  111.609834  111.721723  112.729259 -1.007535\n",
      "Date\n",
      "2003-12-01    0\n",
      "2003-12-02    1\n",
      "2003-12-03    0\n",
      "2003-12-04    0\n",
      "2003-12-05    0\n",
      "Name: Up, dtype: int64\n"
     ]
    }
   ],
   "source": [
    "# 説明変数をX_dataに格納\n",
    "X_data = df_train.drop(columns=['Up'], inplace=False)\n",
    "\n",
    "# 目的変数をy_dataに格納\n",
    "y_data = df_train['Up']\n",
    "\n",
    "# X_dataとy_dataの先頭5行を確認\n",
    "print(X_data.head())\n",
    "print(y_data.head())"
   ]
  },
  {
   "cell_type": "code",
   "execution_count": 19,
   "metadata": {
    "colab": {
     "base_uri": "https://localhost:8080/"
    },
    "id": "SvuK0EcaU68l",
    "outputId": "183c229d-6175-46e5-d691-766b22876894"
   },
   "outputs": [
    {
     "name": "stdout",
     "output_type": "stream",
     "text": [
      "(2073, 5)\n",
      "(2073,)\n"
     ]
    }
   ],
   "source": [
    "print(X_data.shape)\n",
    "print(y_data.shape)"
   ]
  },
  {
   "cell_type": "code",
   "execution_count": 20,
   "metadata": {
    "colab": {
     "base_uri": "https://localhost:8080/"
    },
    "id": "XoEjs-4JU68m",
    "outputId": "76beebd3-62f7-48be-9374-c2a09fa6b7cc"
   },
   "outputs": [
    {
     "name": "stdout",
     "output_type": "stream",
     "text": [
      "                  High         Low        Open       Close      Body\n",
      "Date                                                                \n",
      "2011-12-15  120.703597  119.907182  120.132990  120.139231 -0.006241\n",
      "2011-12-16  121.027367  120.314249  120.527453  120.524311  0.003143\n",
      "2011-12-19  120.629617  120.111145  120.582444  120.591872 -0.009428\n",
      "2011-12-20  121.470779  120.221987  120.323633  120.322078  0.001555\n",
      "2011-12-21  122.046150  120.513328  121.063789  121.063789  0.000000\n",
      "(1246, 5)\n"
     ]
    }
   ],
   "source": [
    "# 評価用（Test)データ\n",
    "# 説明変数をX_testに格納\n",
    "X_test = df_test\n",
    "print(X_test.head())\n",
    "print(X_test.shape)"
   ]
  },
  {
   "cell_type": "markdown",
   "metadata": {
    "id": "oCZ1GfG8U68m"
   },
   "source": [
    "## 学習データ（train）と検証データ(val)にデータを分割"
   ]
  },
  {
   "cell_type": "code",
   "execution_count": 21,
   "metadata": {
    "id": "wl3IVR39U68m"
   },
   "outputs": [],
   "source": [
    "# train_test_splitのインポート\n",
    "from sklearn.model_selection import train_test_split\n",
    "# 学習データと検証データに75:25の割合で2分割する\n",
    "X_train, X_val, y_train, y_val = train_test_split(X_data, y_data, test_size=0.25, shuffle=False)"
   ]
  },
  {
   "cell_type": "code",
   "execution_count": 22,
   "metadata": {
    "colab": {
     "base_uri": "https://localhost:8080/",
     "height": 271
    },
    "id": "kGg1aXHqU68n",
    "outputId": "85f923f1-4faf-40b2-e47c-ef6b531945a4"
   },
   "outputs": [
    {
     "data": {
      "image/png": "[encoded data removed]",
      "text/plain": [
       "<Figure size 432x288 with 1 Axes>"
      ]
     },
     "metadata": {
      "needs_background": "light"
     },
     "output_type": "display_data"
    }
   ],
   "source": [
    "# 学習データのCloseの描画\n",
    "X_train['Close'].plot(kind='line')\n",
    "# 検証データのCloseの描画\n",
    "X_val['Close'].plot(kind='line')\n",
    "# 評価データのCloseの描画\n",
    "X_test['Close'].plot(kind='line')\n",
    "# 折れ線グラフの凡例を表示\n",
    "plt.legend(['Train', 'Val', 'Test'])\n",
    "# 描画の実行\n",
    "plt.show()"
   ]
  },
  {
   "cell_type": "markdown",
   "metadata": {
    "id": "aWfkqxfzU68n"
   },
   "source": [
    "## 6日分ごとにデータを抽出する"
   ]
  },
  {
   "cell_type": "code",
   "execution_count": 23,
   "metadata": {
    "colab": {
     "base_uri": "https://localhost:8080/"
    },
    "id": "yXXBXdabU68n",
    "outputId": "9af79372-728b-46be-bd2a-3fdfbfd556ce"
   },
   "outputs": [
    {
     "name": "stdout",
     "output_type": "stream",
     "text": [
      "                  High         Low        Open       Close      Body\n",
      "Date                                                                \n",
      "2003-12-01  111.370639  110.482062  111.314347  110.676377  0.637970\n",
      "2003-12-02  112.008532  110.500532  110.639316  111.823016 -1.183700\n",
      "2003-12-03  112.202814  111.712284  111.832477  112.137524 -0.305047\n",
      "2003-12-04  112.332258  111.406851  112.110343  111.748717  0.361626\n",
      "2003-12-05  112.766375  111.609834  111.721723  112.729259 -1.007535\n",
      "2003-12-08  113.220483  112.425105  112.553700  113.035089 -0.481389\n",
      "                  High         Low        Open       Close      Body\n",
      "Date                                                                \n",
      "2003-12-09  113.562415  112.831025  113.044748  113.312017 -0.267269\n",
      "2003-12-10  113.460736  112.498941  113.303692  112.766375  0.537317\n",
      "2003-12-11  113.173376  112.137524  112.766375  113.072392 -0.306017\n",
      "2003-12-12  113.830742  112.970206  113.100037  113.580543 -0.480506\n",
      "2003-12-15  114.006114  112.646899  112.729259  113.959768 -1.230509\n",
      "2003-12-16  114.320313  113.820940  113.905030  113.978017 -0.072987\n",
      "                  High         Low        Open       Close      Body\n",
      "Date                                                                \n",
      "2009-11-23  138.730571  137.566928  137.566928  138.398464 -0.831535\n",
      "2009-11-24  138.630778  137.732849  138.361204  138.441965 -0.080761\n",
      "2009-11-25  140.094207  138.398464  138.446111  139.933138 -1.487027\n",
      "2009-11-26  140.011495  138.334309  139.916201  138.500010  1.416190\n",
      "2009-11-27  138.730571  137.213881  138.510386  138.666108 -0.155721\n",
      "2009-11-30  139.527868  138.518678  138.757631  139.110292 -0.352661\n",
      "                  High         Low        Open       Close      Body\n",
      "Date                                                                \n",
      "2009-12-01  139.842166  138.526971  139.068478  139.582616 -0.514138\n",
      "2009-12-02  139.768220  139.064288  139.588924  139.395402  0.193521\n",
      "2009-12-03  140.024220  139.129125  139.370206  139.355496  0.014710\n",
      "2009-12-04  139.609996  137.122358  139.332417  137.427935  1.904482\n",
      "2009-12-07  137.862161  136.583774  137.591474  137.281090  0.310384\n",
      "2009-12-08  137.509655  135.765867  137.213881  135.947436  1.266446\n"
     ]
    }
   ],
   "source": [
    "# 関数get_tの定義\n",
    "def get_t(X, num_date):\n",
    "    X_t_list = []\n",
    "    for i in range(0, len(X) - num_date, 6):\n",
    "        X_t = X.iloc[i:i+num_date, :]\n",
    "        X_t_list.append(X_t)\n",
    "    return X_t_list\n",
    "\n",
    "# 期間の設定\n",
    "num_date = 6\n",
    "# 関数get_tの呼び出し\n",
    "X_t_list = get_t(X=X_train, num_date=num_date)\n",
    "# 学習データの1件目を表示\n",
    "print(X_t_list[0])\n",
    "# 学習データの2件目を表示\n",
    "print(X_t_list[1])\n",
    "# 学習データの最後から2件目を表示\n",
    "print(X_t_list[-2])\n",
    "# 学習データの最後から1件目を表示\n",
    "print(X_t_list[-1])"
   ]
  },
  {
   "cell_type": "code",
   "execution_count": 24,
   "metadata": {
    "colab": {
     "base_uri": "https://localhost:8080/"
    },
    "id": "084ORYf4U68o",
    "outputId": "4706ac10-812f-4f39-dd87-81f43b8a779e"
   },
   "outputs": [
    {
     "data": {
      "text/plain": [
       "258"
      ]
     },
     "execution_count": 24,
     "metadata": {},
     "output_type": "execute_result"
    }
   ],
   "source": [
    "len(X_t_list)"
   ]
  },
  {
   "cell_type": "code",
   "execution_count": 25,
   "metadata": {
    "colab": {
     "base_uri": "https://localhost:8080/"
    },
    "id": "QCJwugm6U68o",
    "outputId": "4d3aaae7-2665-48b0-8faf-39cfc50778eb"
   },
   "outputs": [
    {
     "name": "stdout",
     "output_type": "stream",
     "text": [
      "[[111.3706392 110.4820618 111.3143471 110.6763771   0.63797  ]\n",
      " [112.008532  110.5005318 110.6393158 111.8230161  -1.1837003]\n",
      " [112.2028142 111.7122844 111.8324772 112.1375242  -0.305047 ]\n",
      " [112.3322585 111.4068514 112.110343  111.7487171   0.3616259]\n",
      " [112.7663749 111.6098338 111.7217234 112.7292585  -1.0075351]\n",
      " [113.2204831 112.4251047 112.5536999 113.0350885  -0.4813886]]\n",
      "[[ 1.13562415e+02  1.12831025e+02  1.13044748e+02  1.13312017e+02\n",
      "  -2.67269000e-01]\n",
      " [ 1.13460736e+02  1.12498941e+02  1.13303692e+02  1.12766375e+02\n",
      "   5.37316800e-01]\n",
      " [ 1.13173376e+02  1.12137524e+02  1.12766375e+02  1.13072392e+02\n",
      "  -3.06017400e-01]\n",
      " [ 1.13830742e+02  1.12970206e+02  1.13100037e+02  1.13580543e+02\n",
      "  -4.80506400e-01]\n",
      " [ 1.14006114e+02  1.12646899e+02  1.12729259e+02  1.13959768e+02\n",
      "  -1.23050930e+00]\n",
      " [ 1.14320313e+02  1.13820940e+02  1.13905030e+02  1.13978017e+02\n",
      "  -7.29868000e-02]]\n",
      "[[ 1.38730571e+02  1.37566928e+02  1.37566928e+02  1.38398464e+02\n",
      "  -8.31535400e-01]\n",
      " [ 1.38630778e+02  1.37732849e+02  1.38361204e+02  1.38441965e+02\n",
      "  -8.07607000e-02]\n",
      " [ 1.40094207e+02  1.38398464e+02  1.38446111e+02  1.39933138e+02\n",
      "  -1.48702710e+00]\n",
      " [ 1.40011495e+02  1.38334309e+02  1.39916201e+02  1.38500010e+02\n",
      "   1.41619050e+00]\n",
      " [ 1.38730571e+02  1.37213881e+02  1.38510386e+02  1.38666108e+02\n",
      "  -1.55721400e-01]\n",
      " [ 1.39527868e+02  1.38518678e+02  1.38757631e+02  1.39110292e+02\n",
      "  -3.52661000e-01]]\n",
      "[[ 1.39842166e+02  1.38526971e+02  1.39068478e+02  1.39582616e+02\n",
      "  -5.14138400e-01]\n",
      " [ 1.39768220e+02  1.39064288e+02  1.39588924e+02  1.39395402e+02\n",
      "   1.93521400e-01]\n",
      " [ 1.40024220e+02  1.39129125e+02  1.39370206e+02  1.39355496e+02\n",
      "   1.47098000e-02]\n",
      " [ 1.39609996e+02  1.37122358e+02  1.39332417e+02  1.37427935e+02\n",
      "   1.90448200e+00]\n",
      " [ 1.37862161e+02  1.36583774e+02  1.37591474e+02  1.37281090e+02\n",
      "   3.10384100e-01]\n",
      " [ 1.37509655e+02  1.35765867e+02  1.37213881e+02  1.35947436e+02\n",
      "   1.26644580e+00]]\n"
     ]
    }
   ],
   "source": [
    "# NumPy配列にしてスピードアップ\n",
    "# 関数get_tの定義\n",
    "def get_t(X, num_date):\n",
    "    # 入力データをNumPy配列に変換\n",
    "    X = np.array(X)\n",
    "    X_t_list = []\n",
    "    for i in range(0, len(X) - num_date, 6):\n",
    "        X_t = X[i:i+num_date, :]\n",
    "        X_t_list.append(X_t)\n",
    "    # Numpy配列のreturn\n",
    "    return np.array(X_t_list)\n",
    "\n",
    "# 期間の設定\n",
    "num_date = 6\n",
    "# get_tの呼び出し\n",
    "X_array_data = get_t(X=X_train, num_date=num_date)\n",
    "# 学習データの1件目を表示\n",
    "print(X_array_data[0])\n",
    "# 学習データの2件目を表示\n",
    "print(X_array_data[1])\n",
    "# 学習データの最後から2件目を表示\n",
    "print(X_array_data[-2])\n",
    "# 学習データの最後から1件目を表示\n",
    "print(X_array_data[-1])"
   ]
  },
  {
   "cell_type": "code",
   "execution_count": 26,
   "metadata": {
    "colab": {
     "base_uri": "https://localhost:8080/"
    },
    "id": "q_oyyyL7U68o",
    "outputId": "f1c40fee-ca43-4d7f-810d-8c94a51849dc"
   },
   "outputs": [
    {
     "name": "stdout",
     "output_type": "stream",
     "text": [
      "[[-1.62984807 -1.27210819 -0.63075205 -1.77469591  1.46247154]\n",
      " [-0.53107811 -1.2452266  -1.74836411 -0.26579361 -1.29073801]\n",
      " [-0.19642714  0.51838104  0.22708736  0.14807858  0.03722823]\n",
      " [ 0.02654059  0.07384808  0.68713442 -0.36356626  1.04481462]\n",
      " [ 0.77430582  0.3692725   0.0437184   0.92676241 -1.02448801]\n",
      " [ 1.55650692  1.55583317  1.42117597  1.32921478 -0.22928837]]\n",
      "[[-0.43484017  0.02583135 -0.24567411 -0.29896304  0.06871929]\n",
      " [-0.70575689 -0.61260748  0.41168069 -1.5270034   1.60202618]\n",
      " [-1.47141092 -1.30743642 -0.95235239 -0.83827041 -0.00512391]\n",
      " [ 0.28010314  0.29340918 -0.10531814  0.30539078 -0.33764928]\n",
      " [ 0.74736952 -0.32815495 -1.04657613  1.15888657 -1.76693702]\n",
      " [ 1.58453531  1.92895832  1.93824009  1.19995951  0.43896474]]\n",
      "[[-0.90273073 -0.81338957 -1.47272538 -0.81663934 -0.65916886]\n",
      " [-1.06446243 -0.47078879 -0.33278314 -0.7364843   0.1897679 ]\n",
      " [ 1.30727432  0.90359926 -0.21092514  2.01115486 -1.4003646 ]\n",
      " [ 1.1732248   0.771131    1.89894358 -0.62952971  1.88244203]\n",
      " [-0.90273073 -1.54237567 -0.11867712 -0.32347789  0.10500626]\n",
      " [ 0.38942477  1.15182377  0.2361672   0.49497638 -0.11768274]]\n",
      "[[ 0.72899467  0.64452209  0.40153339  1.0383821  -1.28613136]\n",
      " [ 0.65609214  1.06265265  0.95992367  0.90125113 -0.41382215]\n",
      " [ 0.90847893  1.11310845  0.72525967  0.87202054 -0.63423739]\n",
      " [ 0.50010069 -0.44852268  0.68471556 -0.53988429  1.69522333]\n",
      " [-1.2230673  -0.86764005 -1.18315505 -0.64744546 -0.2697693 ]\n",
      " [-1.57059913 -1.50412046 -1.58827725 -1.62432402  0.90873686]]\n"
     ]
    }
   ],
   "source": [
    "# データの標準化\n",
    "from sklearn.preprocessing import StandardScaler\n",
    "# 関数get_standardized_tの定義\n",
    "def get_standardized_t(X, num_date):\n",
    "    X = np.array(X)\n",
    "    X_t_list = []\n",
    "    for i in range(0, len(X) - num_date, 6):\n",
    "        X_t = X[i:i+num_date]\n",
    "        scaler = StandardScaler()\n",
    "        X_standardized = scaler.fit_transform(X_t)\n",
    "        X_t_list.append(X_standardized)\n",
    "    return np.array(X_t_list)\n",
    "\n",
    "# 期間の設定\n",
    "num_date = 6\n",
    "# 関数get_standardized_tの呼び出し\n",
    "X_array_data = get_standardized_t(X=X_train, num_date=num_date)\n",
    "# 学習データの1件目を表示\n",
    "print(X_array_data[0])\n",
    "# 学習データの2件目を表示\n",
    "print(X_array_data[1])\n",
    "# 学習データの最後から2件目を表示\n",
    "print(X_array_data[-2])\n",
    "# 学習データの最後から1件目を表示\n",
    "print(X_array_data[-1])"
   ]
  },
  {
   "cell_type": "code",
   "execution_count": 27,
   "metadata": {
    "colab": {
     "base_uri": "https://localhost:8080/"
    },
    "id": "DrKG4vGhU68p",
    "outputId": "2e71f47f-385d-42f5-e328-60ec15f1c42b"
   },
   "outputs": [
    {
     "name": "stdout",
     "output_type": "stream",
     "text": [
      "(259, 6, 5)\n",
      "(86, 6, 5)\n",
      "(207, 6, 5)\n"
     ]
    }
   ],
   "source": [
    "# 学習データ、検証データ、評価データの説明変数の変形と変換\n",
    "# 関数get_standardized_tの定義\n",
    "def get_standardized_t(X, num_date):\n",
    "    X = np.array(X)\n",
    "    X_t_list = []\n",
    "    for i in range(0, len(X) - num_date + 1, 6):\n",
    "        X_t = X[i:i+num_date]\n",
    "        scaler = StandardScaler()\n",
    "        X_standardized = scaler.fit_transform(X_t)\n",
    "        X_t_list.append(X_standardized)\n",
    "    return np.array(X_t_list)\n",
    "\n",
    "# 期間の設定\n",
    "num_date = 6\n",
    "# 学習用、検証用、評価用データの加工\n",
    "X_train_t =  get_standardized_t(X=X_train, num_date=num_date)\n",
    "X_val_t = get_standardized_t(X=X_val, num_date=num_date)\n",
    "X_test_t = get_standardized_t(X=X_test, num_date=num_date)\n",
    "# 学習用、検証用、評価用データの形の表示\n",
    "print(X_train_t.shape)\n",
    "print(X_val_t.shape)\n",
    "print(X_test_t.shape)"
   ]
  },
  {
   "cell_type": "code",
   "execution_count": 28,
   "metadata": {
    "colab": {
     "base_uri": "https://localhost:8080/"
    },
    "id": "EUAGU49ZU68s",
    "outputId": "a73a947f-d194-47ff-dc66-7dcaf9030b7d"
   },
   "outputs": [
    {
     "name": "stdout",
     "output_type": "stream",
     "text": [
      "(259,)\n",
      "(86,)\n",
      "0.5366795366795367\n",
      "0.5581395348837209\n"
     ]
    },
    {
     "data": {
      "text/plain": [
       "Date\n",
       "2003-12-08    1\n",
       "2003-12-16    0\n",
       "2003-12-24    1\n",
       "2004-01-01    1\n",
       "2004-01-09    0\n",
       "Name: Up, dtype: int64"
      ]
     },
     "execution_count": 28,
     "metadata": {},
     "output_type": "execute_result"
    }
   ],
   "source": [
    "# 学習データ、検証データの目的変数の変形\n",
    "\n",
    "# 目的変数の変形\n",
    "y_train_t = y_train[5::6]\n",
    "y_val_t = y_val[5::6]\n",
    "# 目的変数の形の表示\n",
    "print(y_train_t.shape)\n",
    "print(y_val_t.shape)\n",
    "# 目的変数の平均値の表示\n",
    "print(y_train_t.mean())\n",
    "print(y_val_t.mean())\n",
    "y_train_t.head()"
   ]
  },
  {
   "cell_type": "markdown",
   "metadata": {
    "id": "JI7_XHTwU68t"
   },
   "source": [
    "## 株価予測モデルの生成"
   ]
  },
  {
   "cell_type": "code",
   "execution_count": 29,
   "metadata": {
    "colab": {
     "base_uri": "https://localhost:8080/"
    },
    "id": "vbBI0me1U68t",
    "outputId": "f0927557-f8db-4296-924a-f9db8fb60fe3"
   },
   "outputs": [
    {
     "name": "stdout",
     "output_type": "stream",
     "text": [
      "Requirement already satisfied: tensorflow in /usr/local/lib/python3.7/dist-packages (2.7.0)\n",
      "Requirement already satisfied: h5py>=2.9.0 in /usr/local/lib/python3.7/dist-packages (from tensorflow) (3.1.0)\n",
      "Requirement already satisfied: tensorflow-estimator<2.8,~=2.7.0rc0 in /usr/local/lib/python3.7/dist-packages (from tensorflow) (2.7.0)\n",
      "Requirement already satisfied: grpcio<2.0,>=1.24.3 in /usr/local/lib/python3.7/dist-packages (from tensorflow) (1.42.0)\n",
      "Requirement already satisfied: protobuf>=3.9.2 in /usr/local/lib/python3.7/dist-packages (from tensorflow) (3.17.3)\n",
      "Requirement already satisfied: typing-extensions>=3.6.6 in /usr/local/lib/python3.7/dist-packages (from tensorflow) (3.10.0.2)\n",
      "Requirement already satisfied: gast<0.5.0,>=0.2.1 in /usr/local/lib/python3.7/dist-packages (from tensorflow) (0.4.0)\n",
      "Requirement already satisfied: tensorboard~=2.6 in /usr/local/lib/python3.7/dist-packages (from tensorflow) (2.7.0)\n",
      "Requirement already satisfied: termcolor>=1.1.0 in /usr/local/lib/python3.7/dist-packages (from tensorflow) (1.1.0)\n",
      "Requirement already satisfied: astunparse>=1.6.0 in /usr/local/lib/python3.7/dist-packages (from tensorflow) (1.6.3)\n",
      "Requirement already satisfied: wheel<1.0,>=0.32.0 in /usr/local/lib/python3.7/dist-packages (from tensorflow) (0.37.0)\n",
      "Requirement already satisfied: google-pasta>=0.1.1 in /usr/local/lib/python3.7/dist-packages (from tensorflow) (0.2.0)\n",
      "Requirement already satisfied: absl-py>=0.4.0 in /usr/local/lib/python3.7/dist-packages (from tensorflow) (0.12.0)\n",
      "Requirement already satisfied: libclang>=9.0.1 in /usr/local/lib/python3.7/dist-packages (from tensorflow) (12.0.0)\n",
      "Requirement already satisfied: six>=1.12.0 in /usr/local/lib/python3.7/dist-packages (from tensorflow) (1.15.0)\n",
      "Requirement already satisfied: opt-einsum>=2.3.2 in /usr/local/lib/python3.7/dist-packages (from tensorflow) (3.3.0)\n",
      "Requirement already satisfied: keras<2.8,>=2.7.0rc0 in /usr/local/lib/python3.7/dist-packages (from tensorflow) (2.7.0)\n",
      "Requirement already satisfied: tensorflow-io-gcs-filesystem>=0.21.0 in /usr/local/lib/python3.7/dist-packages (from tensorflow) (0.22.0)\n",
      "Requirement already satisfied: numpy>=1.14.5 in /usr/local/lib/python3.7/dist-packages (from tensorflow) (1.19.5)\n",
      "Requirement already satisfied: wrapt>=1.11.0 in /usr/local/lib/python3.7/dist-packages (from tensorflow) (1.13.3)\n",
      "Requirement already satisfied: keras-preprocessing>=1.1.1 in /usr/local/lib/python3.7/dist-packages (from tensorflow) (1.1.2)\n",
      "Requirement already satisfied: flatbuffers<3.0,>=1.12 in /usr/local/lib/python3.7/dist-packages (from tensorflow) (2.0)\n",
      "Requirement already satisfied: cached-property in /usr/local/lib/python3.7/dist-packages (from h5py>=2.9.0->tensorflow) (1.5.2)\n",
      "Requirement already satisfied: tensorboard-plugin-wit>=1.6.0 in /usr/local/lib/python3.7/dist-packages (from tensorboard~=2.6->tensorflow) (1.8.0)\n",
      "Requirement already satisfied: tensorboard-data-server<0.7.0,>=0.6.0 in /usr/local/lib/python3.7/dist-packages (from tensorboard~=2.6->tensorflow) (0.6.1)\n",
      "Requirement already satisfied: google-auth<3,>=1.6.3 in /usr/local/lib/python3.7/dist-packages (from tensorboard~=2.6->tensorflow) (1.35.0)\n",
      "Requirement already satisfied: google-auth-oauthlib<0.5,>=0.4.1 in /usr/local/lib/python3.7/dist-packages (from tensorboard~=2.6->tensorflow) (0.4.6)\n",
      "Requirement already satisfied: markdown>=2.6.8 in /usr/local/lib/python3.7/dist-packages (from tensorboard~=2.6->tensorflow) (3.3.6)\n",
      "Requirement already satisfied: werkzeug>=0.11.15 in /usr/local/lib/python3.7/dist-packages (from tensorboard~=2.6->tensorflow) (1.0.1)\n",
      "Requirement already satisfied: requests<3,>=2.21.0 in /usr/local/lib/python3.7/dist-packages (from tensorboard~=2.6->tensorflow) (2.23.0)\n",
      "Requirement already satisfied: setuptools>=41.0.0 in /usr/local/lib/python3.7/dist-packages (from tensorboard~=2.6->tensorflow) (57.4.0)\n",
      "Requirement already satisfied: rsa<5,>=3.1.4 in /usr/local/lib/python3.7/dist-packages (from google-auth<3,>=1.6.3->tensorboard~=2.6->tensorflow) (4.7.2)\n",
      "Requirement already satisfied: cachetools<5.0,>=2.0.0 in /usr/local/lib/python3.7/dist-packages (from google-auth<3,>=1.6.3->tensorboard~=2.6->tensorflow) (4.2.4)\n",
      "Requirement already satisfied: pyasn1-modules>=0.2.1 in /usr/local/lib/python3.7/dist-packages (from google-auth<3,>=1.6.3->tensorboard~=2.6->tensorflow) (0.2.8)\n",
      "Requirement already satisfied: requests-oauthlib>=0.7.0 in /usr/local/lib/python3.7/dist-packages (from google-auth-oauthlib<0.5,>=0.4.1->tensorboard~=2.6->tensorflow) (1.3.0)\n",
      "Requirement already satisfied: importlib-metadata>=4.4 in /usr/local/lib/python3.7/dist-packages (from markdown>=2.6.8->tensorboard~=2.6->tensorflow) (4.8.2)\n",
      "Requirement already satisfied: zipp>=0.5 in /usr/local/lib/python3.7/dist-packages (from importlib-metadata>=4.4->markdown>=2.6.8->tensorboard~=2.6->tensorflow) (3.6.0)\n",
      "Requirement already satisfied: pyasn1<0.5.0,>=0.4.6 in /usr/local/lib/python3.7/dist-packages (from pyasn1-modules>=0.2.1->google-auth<3,>=1.6.3->tensorboard~=2.6->tensorflow) (0.4.8)\n",
      "Requirement already satisfied: certifi>=2017.4.17 in /usr/local/lib/python3.7/dist-packages (from requests<3,>=2.21.0->tensorboard~=2.6->tensorflow) (2021.10.8)\n",
      "Requirement already satisfied: urllib3!=1.25.0,!=1.25.1,<1.26,>=1.21.1 in /usr/local/lib/python3.7/dist-packages (from requests<3,>=2.21.0->tensorboard~=2.6->tensorflow) (1.24.3)\n",
      "Requirement already satisfied: chardet<4,>=3.0.2 in /usr/local/lib/python3.7/dist-packages (from requests<3,>=2.21.0->tensorboard~=2.6->tensorflow) (3.0.4)\n",
      "Requirement already satisfied: idna<3,>=2.5 in /usr/local/lib/python3.7/dist-packages (from requests<3,>=2.21.0->tensorboard~=2.6->tensorflow) (2.10)\n",
      "Requirement already satisfied: oauthlib>=3.0.0 in /usr/local/lib/python3.7/dist-packages (from requests-oauthlib>=0.7.0->google-auth-oauthlib<0.5,>=0.4.1->tensorboard~=2.6->tensorflow) (3.1.1)\n"
     ]
    }
   ],
   "source": [
    "!pip install tensorflow"
   ]
  },
  {
   "cell_type": "code",
   "execution_count": 30,
   "metadata": {
    "id": "cSCnZWmxU68t"
   },
   "outputs": [],
   "source": [
    "# Sequentialのインポート\n",
    "from keras.models import Sequential\n",
    "# Dense、LSTMのインポート\n",
    "from keras.layers import Dense, LSTM"
   ]
  },
  {
   "cell_type": "code",
   "execution_count": 56,
   "metadata": {
    "id": "vKdlHdXyU68u"
   },
   "outputs": [],
   "source": [
    "# ネットワークの各層のサイズの定義\n",
    "num_l1 = 100\n",
    "num_l2 = 20\n",
    "num_output = 1\n",
    "\n",
    "# 以下、ネットワークを構築\n",
    "model = Sequential()\n",
    "# 第1層\n",
    "model.add(LSTM(units=num_l1,\n",
    "                activation='tanh',\n",
    "                batch_input_shape=(None, X_train_t.shape[1], X_train_t.shape[2])))\n",
    "# 第2層\n",
    "model.add(Dense(num_l2, activation='relu'))\n",
    "# 出力層\n",
    "model.add(Dense(num_output, activation='sigmoid'))\n",
    "# ネットワークのコンパイル\n",
    "model.compile(loss='binary_crossentropy', optimizer='adam', metrics=['accuracy'])"
   ]
  },
  {
   "cell_type": "code",
   "execution_count": 52,
   "metadata": {
    "colab": {
     "base_uri": "https://localhost:8080/"
    },
    "id": "F0On89D_U68u",
    "outputId": "f9a0ce16-4492-4ff8-b7e7-1bb0e2f55585"
   },
   "outputs": [
    {
     "name": "stdout",
     "output_type": "stream",
     "text": [
      "Epoch 1/80\n",
      "11/11 [==============================] - 3s 65ms/step - loss: 0.6924 - accuracy: 0.5058 - val_loss: 0.6822 - val_accuracy: 0.5465\n",
      "Epoch 2/80\n",
      "11/11 [==============================] - 0s 12ms/step - loss: 0.6891 - accuracy: 0.5328 - val_loss: 0.6822 - val_accuracy: 0.5465\n",
      "Epoch 3/80\n",
      "11/11 [==============================] - 0s 12ms/step - loss: 0.6863 - accuracy: 0.5483 - val_loss: 0.6789 - val_accuracy: 0.5814\n",
      "Epoch 4/80\n",
      "11/11 [==============================] - 0s 11ms/step - loss: 0.6843 - accuracy: 0.5637 - val_loss: 0.6781 - val_accuracy: 0.6047\n",
      "Epoch 5/80\n",
      "11/11 [==============================] - 0s 10ms/step - loss: 0.6823 - accuracy: 0.5869 - val_loss: 0.6773 - val_accuracy: 0.6163\n",
      "Epoch 6/80\n",
      "11/11 [==============================] - 0s 10ms/step - loss: 0.6802 - accuracy: 0.5907 - val_loss: 0.6761 - val_accuracy: 0.6047\n",
      "Epoch 7/80\n",
      "11/11 [==============================] - 0s 10ms/step - loss: 0.6782 - accuracy: 0.6178 - val_loss: 0.6739 - val_accuracy: 0.5814\n",
      "Epoch 8/80\n",
      "11/11 [==============================] - 0s 12ms/step - loss: 0.6748 - accuracy: 0.6139 - val_loss: 0.6731 - val_accuracy: 0.6395\n",
      "Epoch 9/80\n",
      "11/11 [==============================] - 0s 10ms/step - loss: 0.6705 - accuracy: 0.6178 - val_loss: 0.6693 - val_accuracy: 0.6163\n",
      "Epoch 10/80\n",
      "11/11 [==============================] - 0s 10ms/step - loss: 0.6674 - accuracy: 0.5985 - val_loss: 0.6721 - val_accuracy: 0.5930\n",
      "Epoch 11/80\n",
      "11/11 [==============================] - 0s 11ms/step - loss: 0.6616 - accuracy: 0.6293 - val_loss: 0.6656 - val_accuracy: 0.5930\n",
      "Epoch 12/80\n",
      "11/11 [==============================] - 0s 10ms/step - loss: 0.6626 - accuracy: 0.6255 - val_loss: 0.6662 - val_accuracy: 0.5698\n",
      "Epoch 13/80\n",
      "11/11 [==============================] - 0s 11ms/step - loss: 0.6643 - accuracy: 0.6100 - val_loss: 0.6850 - val_accuracy: 0.5814\n",
      "Epoch 14/80\n",
      "11/11 [==============================] - 0s 10ms/step - loss: 0.6574 - accuracy: 0.6332 - val_loss: 0.6739 - val_accuracy: 0.5814\n",
      "Epoch 15/80\n",
      "11/11 [==============================] - 0s 11ms/step - loss: 0.6512 - accuracy: 0.6023 - val_loss: 0.6791 - val_accuracy: 0.5349\n",
      "Epoch 16/80\n",
      "11/11 [==============================] - 0s 9ms/step - loss: 0.6522 - accuracy: 0.6371 - val_loss: 0.6796 - val_accuracy: 0.5349\n",
      "Epoch 17/80\n",
      "11/11 [==============================] - 0s 10ms/step - loss: 0.6448 - accuracy: 0.6293 - val_loss: 0.6744 - val_accuracy: 0.6047\n",
      "Epoch 18/80\n",
      "11/11 [==============================] - 0s 10ms/step - loss: 0.6458 - accuracy: 0.6332 - val_loss: 0.6835 - val_accuracy: 0.5349\n",
      "Epoch 19/80\n",
      "11/11 [==============================] - 0s 10ms/step - loss: 0.6415 - accuracy: 0.6178 - val_loss: 0.6874 - val_accuracy: 0.5233\n",
      "Epoch 20/80\n",
      "11/11 [==============================] - 0s 11ms/step - loss: 0.6386 - accuracy: 0.6564 - val_loss: 0.6810 - val_accuracy: 0.5465\n",
      "Epoch 21/80\n",
      "11/11 [==============================] - 0s 10ms/step - loss: 0.6375 - accuracy: 0.6409 - val_loss: 0.6946 - val_accuracy: 0.5465\n",
      "Epoch 22/80\n",
      "11/11 [==============================] - 0s 12ms/step - loss: 0.6337 - accuracy: 0.6371 - val_loss: 0.6826 - val_accuracy: 0.5581\n",
      "Epoch 23/80\n",
      "11/11 [==============================] - 0s 10ms/step - loss: 0.6300 - accuracy: 0.6486 - val_loss: 0.6962 - val_accuracy: 0.5465\n",
      "Epoch 24/80\n",
      "11/11 [==============================] - 0s 11ms/step - loss: 0.6234 - accuracy: 0.6409 - val_loss: 0.6958 - val_accuracy: 0.5349\n",
      "Epoch 25/80\n",
      "11/11 [==============================] - 0s 11ms/step - loss: 0.6292 - accuracy: 0.6293 - val_loss: 0.7001 - val_accuracy: 0.5698\n",
      "Epoch 26/80\n",
      "11/11 [==============================] - 0s 10ms/step - loss: 0.6404 - accuracy: 0.6255 - val_loss: 0.7071 - val_accuracy: 0.5349\n",
      "Epoch 27/80\n",
      "11/11 [==============================] - 0s 10ms/step - loss: 0.6302 - accuracy: 0.6371 - val_loss: 0.7006 - val_accuracy: 0.5581\n",
      "Epoch 28/80\n",
      "11/11 [==============================] - 0s 10ms/step - loss: 0.6148 - accuracy: 0.6409 - val_loss: 0.7060 - val_accuracy: 0.5349\n",
      "Epoch 29/80\n",
      "11/11 [==============================] - 0s 11ms/step - loss: 0.6091 - accuracy: 0.6641 - val_loss: 0.7138 - val_accuracy: 0.5349\n",
      "Epoch 30/80\n",
      "11/11 [==============================] - 0s 10ms/step - loss: 0.6098 - accuracy: 0.6525 - val_loss: 0.7144 - val_accuracy: 0.5116\n",
      "Epoch 31/80\n",
      "11/11 [==============================] - 0s 11ms/step - loss: 0.6020 - accuracy: 0.6911 - val_loss: 0.7309 - val_accuracy: 0.5233\n",
      "Epoch 32/80\n",
      "11/11 [==============================] - 0s 12ms/step - loss: 0.5872 - accuracy: 0.6795 - val_loss: 0.7186 - val_accuracy: 0.5465\n",
      "Epoch 33/80\n",
      "11/11 [==============================] - 0s 11ms/step - loss: 0.5810 - accuracy: 0.6757 - val_loss: 0.7328 - val_accuracy: 0.5116\n",
      "Epoch 34/80\n",
      "11/11 [==============================] - 0s 12ms/step - loss: 0.5819 - accuracy: 0.6757 - val_loss: 0.7362 - val_accuracy: 0.5233\n",
      "Epoch 35/80\n",
      "11/11 [==============================] - 0s 13ms/step - loss: 0.5674 - accuracy: 0.7066 - val_loss: 0.7169 - val_accuracy: 0.5000\n",
      "Epoch 36/80\n",
      "11/11 [==============================] - 0s 10ms/step - loss: 0.5644 - accuracy: 0.6950 - val_loss: 0.7742 - val_accuracy: 0.4767\n",
      "Epoch 37/80\n",
      "11/11 [==============================] - 0s 11ms/step - loss: 0.5592 - accuracy: 0.6950 - val_loss: 0.7802 - val_accuracy: 0.5116\n",
      "Epoch 38/80\n",
      "11/11 [==============================] - 0s 12ms/step - loss: 0.5419 - accuracy: 0.7220 - val_loss: 0.7810 - val_accuracy: 0.4884\n",
      "Epoch 39/80\n",
      "11/11 [==============================] - 0s 10ms/step - loss: 0.5343 - accuracy: 0.7181 - val_loss: 0.7918 - val_accuracy: 0.5233\n",
      "Epoch 40/80\n",
      "11/11 [==============================] - 0s 11ms/step - loss: 0.5253 - accuracy: 0.7143 - val_loss: 0.8330 - val_accuracy: 0.5000\n",
      "Epoch 41/80\n",
      "11/11 [==============================] - 0s 11ms/step - loss: 0.5211 - accuracy: 0.7413 - val_loss: 0.8100 - val_accuracy: 0.4767\n",
      "Epoch 42/80\n",
      "11/11 [==============================] - 0s 10ms/step - loss: 0.5069 - accuracy: 0.7568 - val_loss: 0.8642 - val_accuracy: 0.4419\n",
      "Epoch 43/80\n",
      "11/11 [==============================] - 0s 11ms/step - loss: 0.5001 - accuracy: 0.7452 - val_loss: 0.8553 - val_accuracy: 0.5000\n",
      "Epoch 44/80\n",
      "11/11 [==============================] - 0s 11ms/step - loss: 0.4830 - accuracy: 0.7606 - val_loss: 0.8669 - val_accuracy: 0.4302\n",
      "Epoch 45/80\n",
      "11/11 [==============================] - 0s 10ms/step - loss: 0.4663 - accuracy: 0.7606 - val_loss: 0.9171 - val_accuracy: 0.4419\n",
      "Epoch 46/80\n",
      "11/11 [==============================] - 0s 11ms/step - loss: 0.4576 - accuracy: 0.7645 - val_loss: 0.9105 - val_accuracy: 0.4651\n",
      "Epoch 47/80\n",
      "11/11 [==============================] - 0s 10ms/step - loss: 0.4523 - accuracy: 0.7799 - val_loss: 0.9506 - val_accuracy: 0.5000\n",
      "Epoch 48/80\n",
      "11/11 [==============================] - 0s 10ms/step - loss: 0.4521 - accuracy: 0.7876 - val_loss: 0.9644 - val_accuracy: 0.4651\n",
      "Epoch 49/80\n",
      "11/11 [==============================] - 0s 11ms/step - loss: 0.4380 - accuracy: 0.7954 - val_loss: 0.9785 - val_accuracy: 0.5000\n",
      "Epoch 50/80\n",
      "11/11 [==============================] - 0s 10ms/step - loss: 0.4169 - accuracy: 0.7954 - val_loss: 1.0952 - val_accuracy: 0.4535\n",
      "Epoch 51/80\n",
      "11/11 [==============================] - 0s 11ms/step - loss: 0.4133 - accuracy: 0.8069 - val_loss: 1.0339 - val_accuracy: 0.4884\n",
      "Epoch 52/80\n",
      "11/11 [==============================] - 0s 10ms/step - loss: 0.4054 - accuracy: 0.7915 - val_loss: 1.0998 - val_accuracy: 0.4651\n",
      "Epoch 53/80\n",
      "11/11 [==============================] - 0s 11ms/step - loss: 0.4046 - accuracy: 0.8185 - val_loss: 1.0815 - val_accuracy: 0.4651\n",
      "Epoch 54/80\n",
      "11/11 [==============================] - 0s 10ms/step - loss: 0.4017 - accuracy: 0.8263 - val_loss: 1.1152 - val_accuracy: 0.5233\n",
      "Epoch 55/80\n",
      "11/11 [==============================] - 0s 11ms/step - loss: 0.3586 - accuracy: 0.8378 - val_loss: 1.2057 - val_accuracy: 0.4302\n",
      "Epoch 56/80\n",
      "11/11 [==============================] - 0s 11ms/step - loss: 0.3476 - accuracy: 0.8417 - val_loss: 1.1777 - val_accuracy: 0.5233\n",
      "Epoch 57/80\n",
      "11/11 [==============================] - 0s 11ms/step - loss: 0.3463 - accuracy: 0.8610 - val_loss: 1.2817 - val_accuracy: 0.4186\n",
      "Epoch 58/80\n",
      "11/11 [==============================] - 0s 10ms/step - loss: 0.3388 - accuracy: 0.8417 - val_loss: 1.3086 - val_accuracy: 0.4186\n",
      "Epoch 59/80\n",
      "11/11 [==============================] - 0s 10ms/step - loss: 0.3225 - accuracy: 0.8494 - val_loss: 1.2932 - val_accuracy: 0.4651\n",
      "Epoch 60/80\n",
      "11/11 [==============================] - 0s 11ms/step - loss: 0.3233 - accuracy: 0.8456 - val_loss: 1.4403 - val_accuracy: 0.4419\n",
      "Epoch 61/80\n",
      "11/11 [==============================] - 0s 11ms/step - loss: 0.2996 - accuracy: 0.8610 - val_loss: 1.3387 - val_accuracy: 0.4651\n",
      "Epoch 62/80\n",
      "11/11 [==============================] - 0s 9ms/step - loss: 0.2951 - accuracy: 0.8726 - val_loss: 1.4422 - val_accuracy: 0.4419\n",
      "Epoch 63/80\n",
      "11/11 [==============================] - 0s 9ms/step - loss: 0.2589 - accuracy: 0.8996 - val_loss: 1.4423 - val_accuracy: 0.4651\n",
      "Epoch 64/80\n",
      "11/11 [==============================] - 0s 11ms/step - loss: 0.2504 - accuracy: 0.8996 - val_loss: 1.5867 - val_accuracy: 0.4419\n",
      "Epoch 65/80\n",
      "11/11 [==============================] - 0s 11ms/step - loss: 0.2452 - accuracy: 0.8842 - val_loss: 1.5897 - val_accuracy: 0.4535\n",
      "Epoch 66/80\n",
      "11/11 [==============================] - 0s 10ms/step - loss: 0.2355 - accuracy: 0.9073 - val_loss: 1.6984 - val_accuracy: 0.4535\n",
      "Epoch 67/80\n",
      "11/11 [==============================] - 0s 12ms/step - loss: 0.2309 - accuracy: 0.8958 - val_loss: 1.6216 - val_accuracy: 0.4884\n",
      "Epoch 68/80\n",
      "11/11 [==============================] - 0s 10ms/step - loss: 0.2118 - accuracy: 0.9112 - val_loss: 1.8245 - val_accuracy: 0.4535\n",
      "Epoch 69/80\n",
      "11/11 [==============================] - 0s 9ms/step - loss: 0.2094 - accuracy: 0.9151 - val_loss: 1.7415 - val_accuracy: 0.4767\n",
      "Epoch 70/80\n",
      "11/11 [==============================] - 0s 10ms/step - loss: 0.1922 - accuracy: 0.9266 - val_loss: 2.0274 - val_accuracy: 0.4767\n",
      "Epoch 71/80\n",
      "11/11 [==============================] - 0s 9ms/step - loss: 0.1876 - accuracy: 0.9266 - val_loss: 1.9060 - val_accuracy: 0.4651\n",
      "Epoch 72/80\n",
      "11/11 [==============================] - 0s 11ms/step - loss: 0.1669 - accuracy: 0.9459 - val_loss: 1.9535 - val_accuracy: 0.4419\n",
      "Epoch 73/80\n",
      "11/11 [==============================] - 0s 10ms/step - loss: 0.1610 - accuracy: 0.9459 - val_loss: 2.0137 - val_accuracy: 0.4535\n",
      "Epoch 74/80\n",
      "11/11 [==============================] - 0s 10ms/step - loss: 0.1597 - accuracy: 0.9614 - val_loss: 1.9977 - val_accuracy: 0.4302\n",
      "Epoch 75/80\n",
      "11/11 [==============================] - 0s 11ms/step - loss: 0.1415 - accuracy: 0.9653 - val_loss: 2.1179 - val_accuracy: 0.4302\n",
      "Epoch 76/80\n",
      "11/11 [==============================] - 0s 11ms/step - loss: 0.1300 - accuracy: 0.9653 - val_loss: 2.2031 - val_accuracy: 0.4535\n",
      "Epoch 77/80\n",
      "11/11 [==============================] - 0s 11ms/step - loss: 0.1268 - accuracy: 0.9653 - val_loss: 2.2747 - val_accuracy: 0.4186\n",
      "Epoch 78/80\n",
      "11/11 [==============================] - 0s 10ms/step - loss: 0.1166 - accuracy: 0.9691 - val_loss: 2.2089 - val_accuracy: 0.4419\n",
      "Epoch 79/80\n",
      "11/11 [==============================] - 0s 11ms/step - loss: 0.1113 - accuracy: 0.9691 - val_loss: 2.4824 - val_accuracy: 0.4302\n",
      "Epoch 80/80\n",
      "11/11 [==============================] - 0s 12ms/step - loss: 0.1110 - accuracy: 0.9691 - val_loss: 2.5198 - val_accuracy: 0.4419\n"
     ]
    }
   ],
   "source": [
    "# モデルの学習の実行（学習の完了までには数秒から数十秒ほど時間がかかります。）\n",
    "result = model.fit(x=X_train_t, y=y_train_t, epochs=80, batch_size=24, validation_data=(X_val_t, y_val_t))"
   ]
  },
  {
   "cell_type": "code",
   "execution_count": 33,
   "metadata": {
    "colab": {
     "base_uri": "https://localhost:8080/",
     "height": 279
    },
    "id": "DgSLkqKDU68u",
    "outputId": "5ab06810-e6d3-43c7-a607-3f4dc8547165"
   },
   "outputs": [
    {
     "data": {
      "image/png": "[encoded data removed]",
      "text/plain": [
       "<Figure size 432x288 with 1 Axes>"
      ]
     },
     "metadata": {
      "needs_background": "light"
     },
     "output_type": "display_data"
    }
   ],
   "source": [
    "# matplotlibのインポート\n",
    "from matplotlib import pyplot as plt\n",
    "\n",
    "# 折れ線グラフによる学習データの損失の描画\n",
    "plt.plot(result.history['loss'])\n",
    "\n",
    "# 折れ線グラフによる検証データの損失の描画\n",
    "plt.plot(result.history['val_loss'])\n",
    "\n",
    "# 凡例の指定\n",
    "plt.legend(['Train', 'Val'])\n",
    "\n",
    "# グラフの軸タイトルの指定\n",
    "plt.xlabel('Epoch')\n",
    "plt.ylabel('Loss')\n",
    "\n",
    "# 描画の実行\n",
    "plt.show()"
   ]
  },
  {
   "cell_type": "code",
   "execution_count": 34,
   "metadata": {
    "colab": {
     "base_uri": "https://localhost:8080/",
     "height": 279
    },
    "id": "FOTs1PdHU68u",
    "outputId": "b584dff4-d634-48cd-cf5f-e0c9420fea2b"
   },
   "outputs": [
    {
     "data": {
      "image/png": "[encoded data removed]",
      "text/plain": [
       "<Figure size 432x288 with 1 Axes>"
      ]
     },
     "metadata": {
      "needs_background": "light"
     },
     "output_type": "display_data"
    }
   ],
   "source": [
    "# matplotlibのインポート\n",
    "from matplotlib import pyplot as plt\n",
    "\n",
    "# 折れ線グラフによる学習データの正解率の描画\n",
    "plt.plot(result.history['accuracy'])\n",
    "\n",
    "# 折れ線グラフによる検証データの正解率の描画\n",
    "plt.plot(result.history['val_accuracy'])\n",
    "\n",
    "# 凡例の指定\n",
    "plt.legend(['Train', 'Val'])\n",
    "\n",
    "# グラフの軸タイトルの指定\n",
    "plt.xlabel('Epoch')\n",
    "plt.ylabel('Accuracy')\n",
    "\n",
    "# 描画の実行\n",
    "plt.show()"
   ]
  },
  {
   "cell_type": "markdown",
   "metadata": {
    "id": "bxtB0dX_U68v"
   },
   "source": [
    "## 学習済みモデルを使って、評価（test）データの予測をする！"
   ]
  },
  {
   "cell_type": "code",
   "execution_count": 35,
   "metadata": {
    "colab": {
     "base_uri": "https://localhost:8080/"
    },
    "id": "WHWbeEkRU68v",
    "outputId": "811482a5-377f-4f7c-eed7-00e4d65a47c5"
   },
   "outputs": [
    {
     "name": "stdout",
     "output_type": "stream",
     "text": [
      "予測結果の先頭10件\n",
      "[[0.23523888]\n",
      " [0.19379857]\n",
      " [0.99343085]\n",
      " [0.27901566]\n",
      " [0.9986799 ]\n",
      " [0.878037  ]\n",
      " [0.04697174]\n",
      " [0.1978029 ]\n",
      " [0.9987897 ]\n",
      " [0.94508445]]\n"
     ]
    }
   ],
   "source": [
    "# 評価データの予測結果の算出\n",
    "pred_data = model.predict(X_test_t)\n",
    "\n",
    "# 予測結果の先頭10件を確認\n",
    "print('予測結果の先頭10件')\n",
    "print(pred_data[:10])"
   ]
  },
  {
   "cell_type": "code",
   "execution_count": 36,
   "metadata": {
    "colab": {
     "base_uri": "https://localhost:8080/"
    },
    "id": "o01LuL5OU68v",
    "outputId": "bfdadb7b-1277-4d79-eef2-6b7f691c52cc"
   },
   "outputs": [
    {
     "name": "stdout",
     "output_type": "stream",
     "text": [
      "丸め込んだ予測結果の先頭10件\n",
      "[[0]\n",
      " [0]\n",
      " [1]\n",
      " [0]\n",
      " [1]\n",
      " [1]\n",
      " [0]\n",
      " [0]\n",
      " [1]\n",
      " [1]]\n"
     ]
    }
   ],
   "source": [
    "# 評価データの予測結果を0もしくは1に丸め込み（0.5を境にして、1に近いほど株価が上昇、0に近いほど株価が上昇しない）\n",
    "predict = np.where(pred_data < 0.5, 0, 1)\n",
    "\n",
    "# 丸め込んだ予測結果の先頭10件を確認\n",
    "print('丸め込んだ予測結果の先頭10件')\n",
    "print(predict[:10])"
   ]
  },
  {
   "cell_type": "markdown",
   "metadata": {
    "id": "Pa7E2HvmU68v"
   },
   "source": [
    "## 提出用フォーマットのdf_sampleに予測結果を連結する"
   ]
  },
  {
   "cell_type": "code",
   "execution_count": 37,
   "metadata": {
    "colab": {
     "base_uri": "https://localhost:8080/",
     "height": 417
    },
    "id": "bvPl-GwtU68v",
    "outputId": "35998ab7-6048-43d6-f154-f01a0a0638cd"
   },
   "outputs": [
    {
     "data": {
      "text/html": [
       "<div>\n",
       "<style scoped>\n",
       "    .dataframe tbody tr th:only-of-type {\n",
       "        vertical-align: middle;\n",
       "    }\n",
       "\n",
       "    .dataframe tbody tr th {\n",
       "        vertical-align: top;\n",
       "    }\n",
       "\n",
       "    .dataframe thead th {\n",
       "        text-align: right;\n",
       "    }\n",
       "</style>\n",
       "<table border=\"1\" class=\"dataframe\">\n",
       "  <thead>\n",
       "    <tr style=\"text-align: right;\">\n",
       "      <th></th>\n",
       "      <th>Date</th>\n",
       "    </tr>\n",
       "  </thead>\n",
       "  <tbody>\n",
       "    <tr>\n",
       "      <th>0</th>\n",
       "      <td>2011-12-22</td>\n",
       "    </tr>\n",
       "    <tr>\n",
       "      <th>1</th>\n",
       "      <td>2012-01-05</td>\n",
       "    </tr>\n",
       "    <tr>\n",
       "      <th>2</th>\n",
       "      <td>2012-01-19</td>\n",
       "    </tr>\n",
       "    <tr>\n",
       "      <th>3</th>\n",
       "      <td>2012-02-02</td>\n",
       "    </tr>\n",
       "    <tr>\n",
       "      <th>4</th>\n",
       "      <td>2012-02-16</td>\n",
       "    </tr>\n",
       "    <tr>\n",
       "      <th>...</th>\n",
       "      <td>...</td>\n",
       "    </tr>\n",
       "    <tr>\n",
       "      <th>202</th>\n",
       "      <td>2019-10-23</td>\n",
       "    </tr>\n",
       "    <tr>\n",
       "      <th>203</th>\n",
       "      <td>2019-11-07</td>\n",
       "    </tr>\n",
       "    <tr>\n",
       "      <th>204</th>\n",
       "      <td>2019-11-21</td>\n",
       "    </tr>\n",
       "    <tr>\n",
       "      <th>205</th>\n",
       "      <td>2019-12-05</td>\n",
       "    </tr>\n",
       "    <tr>\n",
       "      <th>206</th>\n",
       "      <td>2019-12-19</td>\n",
       "    </tr>\n",
       "  </tbody>\n",
       "</table>\n",
       "<p>207 rows × 1 columns</p>\n",
       "</div>"
      ],
      "text/plain": [
       "           Date\n",
       "0    2011-12-22\n",
       "1    2012-01-05\n",
       "2    2012-01-19\n",
       "3    2012-02-02\n",
       "4    2012-02-16\n",
       "..          ...\n",
       "202  2019-10-23\n",
       "203  2019-11-07\n",
       "204  2019-11-21\n",
       "205  2019-12-05\n",
       "206  2019-12-19\n",
       "\n",
       "[207 rows x 1 columns]"
      ]
     },
     "execution_count": 37,
     "metadata": {},
     "output_type": "execute_result"
    }
   ],
   "source": [
    "df_sample"
   ]
  },
  {
   "cell_type": "code",
   "execution_count": 38,
   "metadata": {
    "id": "JOSfyza_U68w"
   },
   "outputs": [],
   "source": [
    "# データフレームに変換\n",
    "predict_df = pd.DataFrame(predict)"
   ]
  },
  {
   "cell_type": "code",
   "execution_count": 39,
   "metadata": {
    "id": "a5WMutvPU68w"
   },
   "outputs": [],
   "source": [
    "# 予測結果とdf_sampleを連結\n",
    "predict_data = pd.concat([df_sample , predict_df] , axis=1) "
   ]
  },
  {
   "cell_type": "code",
   "execution_count": 40,
   "metadata": {
    "colab": {
     "base_uri": "https://localhost:8080/",
     "height": 417
    },
    "id": "bCTX8EwIU68w",
    "outputId": "a6f132c3-ccda-498d-934a-78f07bcf3641"
   },
   "outputs": [
    {
     "data": {
      "text/html": [
       "<div>\n",
       "<style scoped>\n",
       "    .dataframe tbody tr th:only-of-type {\n",
       "        vertical-align: middle;\n",
       "    }\n",
       "\n",
       "    .dataframe tbody tr th {\n",
       "        vertical-align: top;\n",
       "    }\n",
       "\n",
       "    .dataframe thead th {\n",
       "        text-align: right;\n",
       "    }\n",
       "</style>\n",
       "<table border=\"1\" class=\"dataframe\">\n",
       "  <thead>\n",
       "    <tr style=\"text-align: right;\">\n",
       "      <th></th>\n",
       "      <th>Date</th>\n",
       "      <th>0</th>\n",
       "    </tr>\n",
       "  </thead>\n",
       "  <tbody>\n",
       "    <tr>\n",
       "      <th>0</th>\n",
       "      <td>2011-12-22</td>\n",
       "      <td>0</td>\n",
       "    </tr>\n",
       "    <tr>\n",
       "      <th>1</th>\n",
       "      <td>2012-01-05</td>\n",
       "      <td>0</td>\n",
       "    </tr>\n",
       "    <tr>\n",
       "      <th>2</th>\n",
       "      <td>2012-01-19</td>\n",
       "      <td>1</td>\n",
       "    </tr>\n",
       "    <tr>\n",
       "      <th>3</th>\n",
       "      <td>2012-02-02</td>\n",
       "      <td>0</td>\n",
       "    </tr>\n",
       "    <tr>\n",
       "      <th>4</th>\n",
       "      <td>2012-02-16</td>\n",
       "      <td>1</td>\n",
       "    </tr>\n",
       "    <tr>\n",
       "      <th>...</th>\n",
       "      <td>...</td>\n",
       "      <td>...</td>\n",
       "    </tr>\n",
       "    <tr>\n",
       "      <th>202</th>\n",
       "      <td>2019-10-23</td>\n",
       "      <td>1</td>\n",
       "    </tr>\n",
       "    <tr>\n",
       "      <th>203</th>\n",
       "      <td>2019-11-07</td>\n",
       "      <td>0</td>\n",
       "    </tr>\n",
       "    <tr>\n",
       "      <th>204</th>\n",
       "      <td>2019-11-21</td>\n",
       "      <td>1</td>\n",
       "    </tr>\n",
       "    <tr>\n",
       "      <th>205</th>\n",
       "      <td>2019-12-05</td>\n",
       "      <td>0</td>\n",
       "    </tr>\n",
       "    <tr>\n",
       "      <th>206</th>\n",
       "      <td>2019-12-19</td>\n",
       "      <td>0</td>\n",
       "    </tr>\n",
       "  </tbody>\n",
       "</table>\n",
       "<p>207 rows × 2 columns</p>\n",
       "</div>"
      ],
      "text/plain": [
       "           Date  0\n",
       "0    2011-12-22  0\n",
       "1    2012-01-05  0\n",
       "2    2012-01-19  1\n",
       "3    2012-02-02  0\n",
       "4    2012-02-16  1\n",
       "..          ... ..\n",
       "202  2019-10-23  1\n",
       "203  2019-11-07  0\n",
       "204  2019-11-21  1\n",
       "205  2019-12-05  0\n",
       "206  2019-12-19  0\n",
       "\n",
       "[207 rows x 2 columns]"
      ]
     },
     "execution_count": 40,
     "metadata": {},
     "output_type": "execute_result"
    }
   ],
   "source": [
    "predict_data"
   ]
  },
  {
   "cell_type": "code",
   "execution_count": 41,
   "metadata": {
    "id": "uNHcpChMU68w"
   },
   "outputs": [],
   "source": [
    "# CSVデータとして出力\n",
    "predict_data.to_csv(\"stock_price_result.csv\", index=False, header=False)"
   ]
  },
  {
   "cell_type": "code",
   "execution_count": 43,
   "metadata": {
    "colab": {
     "base_uri": "https://localhost:8080/"
    },
    "id": "3fprRZ5uU68x",
    "outputId": "d7e6d170-f724-4bdf-c58c-e2a46bc7e197"
   },
   "outputs": [
    {
     "name": "stdout",
     "output_type": "stream",
     "text": [
      "accuracy =  0.5458937198067633\n"
     ]
    }
   ],
   "source": [
    "#最終スコア確認\n",
    "ans=pd.read_csv(\"answer_finance.csv\")\n",
    "y_pred=predict_data[0]\n",
    "y_test=ans[\"Up\"]\n",
    "from sklearn.metrics import accuracy_score\n",
    "print('accuracy = ', accuracy_score(y_true=y_test, y_pred=y_pred))"
   ]
  },
  {
   "cell_type": "code",
   "execution_count": 44,
   "metadata": {
    "colab": {
     "base_uri": "https://localhost:8080/"
    },
    "id": "wGz212Fy6DV0",
    "outputId": "a265418c-1c33-473e-9cf5-f137ee80e84a"
   },
   "outputs": [
    {
     "name": "stdout",
     "output_type": "stream",
     "text": [
      "accuracy =  0.5169082125603864\n"
     ]
    }
   ],
   "source": [
    "#NULLモデルとの比較\n",
    "a=df_test.copy()\n",
    "a[\"Shift\"]=a[\"Open\"].shift(-1)\n",
    "a[\"Diff\"]=a[\"Shift\"]-a[\"Close\"]\n",
    "a[\"Up\"]=a[\"Diff\"].apply(lambda x:1 if x>=0 else 0)\n",
    "y_pred=a[\"Up\"].values[4::6]\n",
    "print('accuracy = ', accuracy_score(y_true=y_test, y_pred=y_pred))"
   ]
  },
  {
   "cell_type": "code",
   "execution_count": null,
   "metadata": {
    "id": "2w6Tl77UQNuA"
   },
   "outputs": [],
   "source": []
  }
 ],
 "metadata": {
  "colab": {
   "collapsed_sections": [],
   "name": "finance1.ipynb",
   "provenance": []
  },
  "kernelspec": {
   "display_name": "Python 3",
   "language": "python",
   "name": "python3"
  },
  "language_info": {
   "codemirror_mode": {
    "name": "ipython",
    "version": 3
   },
   "file_extension": ".py",
   "mimetype": "text/x-python",
   "name": "python",
   "nbconvert_exporter": "python",
   "pygments_lexer": "ipython3",
   "version": "3.8.8"
  }
 },
 "nbformat": 4,
 "nbformat_minor": 4
}
