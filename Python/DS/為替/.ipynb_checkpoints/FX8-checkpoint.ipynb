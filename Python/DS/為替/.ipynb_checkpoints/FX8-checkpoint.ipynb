{
 "cells": [
  {
   "cell_type": "code",
   "execution_count": 579,
   "id": "4864a99e-110a-495c-a9f0-684fca0c97ce",
   "metadata": {},
   "outputs": [],
   "source": [
    "# ライブラリの取得\n",
    "import pandas as pd\n",
    "import numpy as np\n",
    "%matplotlib inline\n",
    "import matplotlib.pyplot as plt\n",
    "import seaborn as sns\n",
    "# sns.set(font=\"IPAexGothic\",style=\"white\")　多分いらなそう\n",
    "# import oandapy\n",
    "import configparser\n",
    "import datetime\n",
    "from datetime import datetime, timedelta\n",
    "\n",
    "import warnings\n",
    "warnings.simplefilter('ignore')\n",
    "\n",
    "# CSVデータの読み込み\n",
    "import os\n",
    "working_directory=os.getcwd()\n",
    "#print(working_directory)\n",
    "path_train=working_directory+'/train_finance.csv'\n",
    "path_test=working_directory+'/test_finance.csv'\n",
    "# path_test=working_directory+'/test_finance_last10elminate.csv'\n",
    "path_latest=working_directory+'/test_latest.csv'\n",
    "path_submit=working_directory+'/submit_finance.csv'\n",
    "\n",
    "#データフレームの生成\n",
    "df_train=pd.read_csv(path_train)\n",
    "df_test=pd.read_csv(path_test)\n",
    "df_latest=pd.read_csv(path_latest)\n",
    "df_submit=pd.read_csv(path_submit)"
   ]
  },
  {
   "cell_type": "code",
   "execution_count": 580,
   "id": "cda3ee1f-2d6e-41d0-873b-b64a30a6b21c",
   "metadata": {},
   "outputs": [
    {
     "name": "stdout",
     "output_type": "stream",
     "text": [
      "<class 'pandas.core.frame.DataFrame'>\n",
      "RangeIndex: 2074 entries, 0 to 2073\n",
      "Data columns (total 5 columns):\n",
      " #   Column  Non-Null Count  Dtype  \n",
      "---  ------  --------------  -----  \n",
      " 0   Date    2074 non-null   object \n",
      " 1   High    2074 non-null   float64\n",
      " 2   Low     2074 non-null   float64\n",
      " 3   Open    2074 non-null   float64\n",
      " 4   Close   2074 non-null   float64\n",
      "dtypes: float64(4), object(1)\n",
      "memory usage: 81.1+ KB\n"
     ]
    }
   ],
   "source": [
    "#データの確認\n",
    "df_train.info()"
   ]
  },
  {
   "cell_type": "code",
   "execution_count": 581,
   "id": "146a3528-e6c1-472b-8cd9-2e05a050fa99",
   "metadata": {},
   "outputs": [
    {
     "name": "stdout",
     "output_type": "stream",
     "text": [
      "<class 'pandas.core.frame.DataFrame'>\n",
      "RangeIndex: 1246 entries, 0 to 1245\n",
      "Data columns (total 5 columns):\n",
      " #   Column  Non-Null Count  Dtype  \n",
      "---  ------  --------------  -----  \n",
      " 0   Date    1246 non-null   object \n",
      " 1   High    1246 non-null   float64\n",
      " 2   Low     1246 non-null   float64\n",
      " 3   Open    1246 non-null   float64\n",
      " 4   Close   1246 non-null   float64\n",
      "dtypes: float64(4), object(1)\n",
      "memory usage: 48.8+ KB\n"
     ]
    }
   ],
   "source": [
    "#データの確認\n",
    "df_test.info()"
   ]
  },
  {
   "cell_type": "code",
   "execution_count": 582,
   "id": "8ea6a89a-4d2b-4ed9-8e79-5fd8744dc710",
   "metadata": {},
   "outputs": [],
   "source": [
    "# Dateがobject型になっているので日付型に変換\n",
    "df_train['Date']=pd.to_datetime(df_train['Date'],format='%Y/%m/%d')\n",
    "df_test['Date']=pd.to_datetime(df_test['Date'],format='%Y/%m/%d')\n",
    "df_latest['Date']=pd.to_datetime(df_latest['Date'],format='%Y/%m/%d')"
   ]
  },
  {
   "cell_type": "code",
   "execution_count": 583,
   "id": "ab2a3032-d16e-4b68-a754-37b4a23234e1",
   "metadata": {},
   "outputs": [],
   "source": [
    "# fig = plt.subplots(figsize=(30,10))\n",
    "# plt.plot(df_train)"
   ]
  },
  {
   "cell_type": "code",
   "execution_count": 584,
   "id": "0256c483-4656-492b-b74c-4ba31d1417b5",
   "metadata": {},
   "outputs": [
    {
     "data": {
      "text/html": [
       "<div>\n",
       "<style scoped>\n",
       "    .dataframe tbody tr th:only-of-type {\n",
       "        vertical-align: middle;\n",
       "    }\n",
       "\n",
       "    .dataframe tbody tr th {\n",
       "        vertical-align: top;\n",
       "    }\n",
       "\n",
       "    .dataframe thead th {\n",
       "        text-align: right;\n",
       "    }\n",
       "</style>\n",
       "<table border=\"1\" class=\"dataframe\">\n",
       "  <thead>\n",
       "    <tr style=\"text-align: right;\">\n",
       "      <th></th>\n",
       "      <th>Date</th>\n",
       "      <th>High</th>\n",
       "      <th>Low</th>\n",
       "      <th>Open</th>\n",
       "      <th>Close</th>\n",
       "    </tr>\n",
       "  </thead>\n",
       "  <tbody>\n",
       "    <tr>\n",
       "      <th>0</th>\n",
       "      <td>2003-12-01</td>\n",
       "      <td>111.370639</td>\n",
       "      <td>110.482062</td>\n",
       "      <td>111.314347</td>\n",
       "      <td>110.676377</td>\n",
       "    </tr>\n",
       "    <tr>\n",
       "      <th>1</th>\n",
       "      <td>2003-12-02</td>\n",
       "      <td>112.008532</td>\n",
       "      <td>110.500532</td>\n",
       "      <td>110.639316</td>\n",
       "      <td>111.823016</td>\n",
       "    </tr>\n",
       "    <tr>\n",
       "      <th>2</th>\n",
       "      <td>2003-12-03</td>\n",
       "      <td>112.202814</td>\n",
       "      <td>111.712284</td>\n",
       "      <td>111.832477</td>\n",
       "      <td>112.137524</td>\n",
       "    </tr>\n",
       "    <tr>\n",
       "      <th>3</th>\n",
       "      <td>2003-12-04</td>\n",
       "      <td>112.332259</td>\n",
       "      <td>111.406851</td>\n",
       "      <td>112.110343</td>\n",
       "      <td>111.748717</td>\n",
       "    </tr>\n",
       "    <tr>\n",
       "      <th>4</th>\n",
       "      <td>2003-12-05</td>\n",
       "      <td>112.766375</td>\n",
       "      <td>111.609834</td>\n",
       "      <td>111.721723</td>\n",
       "      <td>112.729259</td>\n",
       "    </tr>\n",
       "    <tr>\n",
       "      <th>...</th>\n",
       "      <td>...</td>\n",
       "      <td>...</td>\n",
       "      <td>...</td>\n",
       "      <td>...</td>\n",
       "      <td>...</td>\n",
       "    </tr>\n",
       "    <tr>\n",
       "      <th>2069</th>\n",
       "      <td>2011-12-08</td>\n",
       "      <td>124.476855</td>\n",
       "      <td>123.126484</td>\n",
       "      <td>123.959751</td>\n",
       "      <td>123.984661</td>\n",
       "    </tr>\n",
       "    <tr>\n",
       "      <th>2070</th>\n",
       "      <td>2011-12-09</td>\n",
       "      <td>124.227770</td>\n",
       "      <td>122.895824</td>\n",
       "      <td>123.445260</td>\n",
       "      <td>123.445260</td>\n",
       "    </tr>\n",
       "    <tr>\n",
       "      <th>2071</th>\n",
       "      <td>2011-12-12</td>\n",
       "      <td>123.745819</td>\n",
       "      <td>122.202555</td>\n",
       "      <td>123.681290</td>\n",
       "      <td>123.687906</td>\n",
       "    </tr>\n",
       "    <tr>\n",
       "      <th>2072</th>\n",
       "      <td>2011-12-13</td>\n",
       "      <td>122.393352</td>\n",
       "      <td>121.174807</td>\n",
       "      <td>121.782641</td>\n",
       "      <td>121.832361</td>\n",
       "    </tr>\n",
       "    <tr>\n",
       "      <th>2073</th>\n",
       "      <td>2011-12-14</td>\n",
       "      <td>120.796608</td>\n",
       "      <td>119.824855</td>\n",
       "      <td>120.508620</td>\n",
       "      <td>120.427021</td>\n",
       "    </tr>\n",
       "  </tbody>\n",
       "</table>\n",
       "<p>2074 rows × 5 columns</p>\n",
       "</div>"
      ],
      "text/plain": [
       "           Date        High         Low        Open       Close\n",
       "0    2003-12-01  111.370639  110.482062  111.314347  110.676377\n",
       "1    2003-12-02  112.008532  110.500532  110.639316  111.823016\n",
       "2    2003-12-03  112.202814  111.712284  111.832477  112.137524\n",
       "3    2003-12-04  112.332259  111.406851  112.110343  111.748717\n",
       "4    2003-12-05  112.766375  111.609834  111.721723  112.729259\n",
       "...         ...         ...         ...         ...         ...\n",
       "2069 2011-12-08  124.476855  123.126484  123.959751  123.984661\n",
       "2070 2011-12-09  124.227770  122.895824  123.445260  123.445260\n",
       "2071 2011-12-12  123.745819  122.202555  123.681290  123.687906\n",
       "2072 2011-12-13  122.393352  121.174807  121.782641  121.832361\n",
       "2073 2011-12-14  120.796608  119.824855  120.508620  120.427021\n",
       "\n",
       "[2074 rows x 5 columns]"
      ]
     },
     "execution_count": 584,
     "metadata": {},
     "output_type": "execute_result"
    }
   ],
   "source": [
    "df_train"
   ]
  },
  {
   "cell_type": "code",
   "execution_count": null,
   "id": "3bf2d0dd-71a4-49da-8934-99b28974a48a",
   "metadata": {},
   "outputs": [],
   "source": []
  },
  {
   "cell_type": "code",
   "execution_count": null,
   "id": "7da7faf8-1581-4d96-8407-3467430efc80",
   "metadata": {},
   "outputs": [],
   "source": []
  },
  {
   "cell_type": "code",
   "execution_count": 585,
   "id": "471d0282-595c-43a4-8ca9-7c9c59bcff1f",
   "metadata": {},
   "outputs": [
    {
     "data": {
      "text/html": [
       "<div>\n",
       "<style scoped>\n",
       "    .dataframe tbody tr th:only-of-type {\n",
       "        vertical-align: middle;\n",
       "    }\n",
       "\n",
       "    .dataframe tbody tr th {\n",
       "        vertical-align: top;\n",
       "    }\n",
       "\n",
       "    .dataframe thead th {\n",
       "        text-align: right;\n",
       "    }\n",
       "</style>\n",
       "<table border=\"1\" class=\"dataframe\">\n",
       "  <thead>\n",
       "    <tr style=\"text-align: right;\">\n",
       "      <th></th>\n",
       "      <th>Date</th>\n",
       "      <th>High</th>\n",
       "      <th>Low</th>\n",
       "      <th>Open</th>\n",
       "      <th>Close</th>\n",
       "    </tr>\n",
       "  </thead>\n",
       "  <tbody>\n",
       "    <tr>\n",
       "      <th>0</th>\n",
       "      <td>2003-12-01</td>\n",
       "      <td>111.370639</td>\n",
       "      <td>110.482062</td>\n",
       "      <td>111.314347</td>\n",
       "      <td>110.676377</td>\n",
       "    </tr>\n",
       "    <tr>\n",
       "      <th>1</th>\n",
       "      <td>2003-12-02</td>\n",
       "      <td>112.008532</td>\n",
       "      <td>110.500532</td>\n",
       "      <td>110.639316</td>\n",
       "      <td>111.823016</td>\n",
       "    </tr>\n",
       "    <tr>\n",
       "      <th>2</th>\n",
       "      <td>2003-12-03</td>\n",
       "      <td>112.202814</td>\n",
       "      <td>111.712284</td>\n",
       "      <td>111.832477</td>\n",
       "      <td>112.137524</td>\n",
       "    </tr>\n",
       "    <tr>\n",
       "      <th>3</th>\n",
       "      <td>2003-12-04</td>\n",
       "      <td>112.332259</td>\n",
       "      <td>111.406851</td>\n",
       "      <td>112.110343</td>\n",
       "      <td>111.748717</td>\n",
       "    </tr>\n",
       "    <tr>\n",
       "      <th>4</th>\n",
       "      <td>2003-12-05</td>\n",
       "      <td>112.766375</td>\n",
       "      <td>111.609834</td>\n",
       "      <td>111.721723</td>\n",
       "      <td>112.729259</td>\n",
       "    </tr>\n",
       "    <tr>\n",
       "      <th>...</th>\n",
       "      <td>...</td>\n",
       "      <td>...</td>\n",
       "      <td>...</td>\n",
       "      <td>...</td>\n",
       "      <td>...</td>\n",
       "    </tr>\n",
       "    <tr>\n",
       "      <th>2069</th>\n",
       "      <td>2011-12-08</td>\n",
       "      <td>124.476855</td>\n",
       "      <td>123.126484</td>\n",
       "      <td>123.959751</td>\n",
       "      <td>123.984661</td>\n",
       "    </tr>\n",
       "    <tr>\n",
       "      <th>2070</th>\n",
       "      <td>2011-12-09</td>\n",
       "      <td>124.227770</td>\n",
       "      <td>122.895824</td>\n",
       "      <td>123.445260</td>\n",
       "      <td>123.445260</td>\n",
       "    </tr>\n",
       "    <tr>\n",
       "      <th>2071</th>\n",
       "      <td>2011-12-12</td>\n",
       "      <td>123.745819</td>\n",
       "      <td>122.202555</td>\n",
       "      <td>123.681290</td>\n",
       "      <td>123.687906</td>\n",
       "    </tr>\n",
       "    <tr>\n",
       "      <th>2072</th>\n",
       "      <td>2011-12-13</td>\n",
       "      <td>122.393352</td>\n",
       "      <td>121.174807</td>\n",
       "      <td>121.782641</td>\n",
       "      <td>121.832361</td>\n",
       "    </tr>\n",
       "    <tr>\n",
       "      <th>2073</th>\n",
       "      <td>2011-12-14</td>\n",
       "      <td>120.796608</td>\n",
       "      <td>119.824855</td>\n",
       "      <td>120.508620</td>\n",
       "      <td>120.427021</td>\n",
       "    </tr>\n",
       "  </tbody>\n",
       "</table>\n",
       "<p>2074 rows × 5 columns</p>\n",
       "</div>"
      ],
      "text/plain": [
       "           Date        High         Low        Open       Close\n",
       "0    2003-12-01  111.370639  110.482062  111.314347  110.676377\n",
       "1    2003-12-02  112.008532  110.500532  110.639316  111.823016\n",
       "2    2003-12-03  112.202814  111.712284  111.832477  112.137524\n",
       "3    2003-12-04  112.332259  111.406851  112.110343  111.748717\n",
       "4    2003-12-05  112.766375  111.609834  111.721723  112.729259\n",
       "...         ...         ...         ...         ...         ...\n",
       "2069 2011-12-08  124.476855  123.126484  123.959751  123.984661\n",
       "2070 2011-12-09  124.227770  122.895824  123.445260  123.445260\n",
       "2071 2011-12-12  123.745819  122.202555  123.681290  123.687906\n",
       "2072 2011-12-13  122.393352  121.174807  121.782641  121.832361\n",
       "2073 2011-12-14  120.796608  119.824855  120.508620  120.427021\n",
       "\n",
       "[2074 rows x 5 columns]"
      ]
     },
     "execution_count": 585,
     "metadata": {},
     "output_type": "execute_result"
    }
   ],
   "source": [
    "df_train"
   ]
  },
  {
   "cell_type": "code",
   "execution_count": 586,
   "id": "7b361acc-8505-4ed0-86e7-407131ef93a8",
   "metadata": {},
   "outputs": [
    {
     "name": "stdout",
     "output_type": "stream",
     "text": [
      "<class 'pandas.core.frame.DataFrame'>\n",
      "RangeIndex: 2074 entries, 0 to 2073\n",
      "Data columns (total 5 columns):\n",
      " #   Column  Non-Null Count  Dtype         \n",
      "---  ------  --------------  -----         \n",
      " 0   Date    2074 non-null   datetime64[ns]\n",
      " 1   High    2074 non-null   float64       \n",
      " 2   Low     2074 non-null   float64       \n",
      " 3   Open    2074 non-null   float64       \n",
      " 4   Close   2074 non-null   float64       \n",
      "dtypes: datetime64[ns](1), float64(4)\n",
      "memory usage: 81.1 KB\n"
     ]
    }
   ],
   "source": [
    "# Dateが日付型に変更されたかどうかの確認\n",
    "df_train.info()"
   ]
  },
  {
   "cell_type": "code",
   "execution_count": 587,
   "id": "f971f30a-5bbb-42ba-bf00-b73a0e714957",
   "metadata": {},
   "outputs": [
    {
     "name": "stdout",
     "output_type": "stream",
     "text": [
      "<class 'pandas.core.frame.DataFrame'>\n",
      "RangeIndex: 1246 entries, 0 to 1245\n",
      "Data columns (total 5 columns):\n",
      " #   Column  Non-Null Count  Dtype         \n",
      "---  ------  --------------  -----         \n",
      " 0   Date    1246 non-null   datetime64[ns]\n",
      " 1   High    1246 non-null   float64       \n",
      " 2   Low     1246 non-null   float64       \n",
      " 3   Open    1246 non-null   float64       \n",
      " 4   Close   1246 non-null   float64       \n",
      "dtypes: datetime64[ns](1), float64(4)\n",
      "memory usage: 48.8 KB\n"
     ]
    }
   ],
   "source": [
    "# Dateが日付型に変更されたかどうかの確認\n",
    "df_test.info()"
   ]
  },
  {
   "cell_type": "code",
   "execution_count": 588,
   "id": "c3d01ae3-29c4-4664-bf9c-f5d5487f5061",
   "metadata": {},
   "outputs": [
    {
     "name": "stdout",
     "output_type": "stream",
     "text": [
      "<class 'pandas.core.frame.DataFrame'>\n",
      "RangeIndex: 10 entries, 0 to 9\n",
      "Data columns (total 5 columns):\n",
      " #   Column  Non-Null Count  Dtype         \n",
      "---  ------  --------------  -----         \n",
      " 0   Date    10 non-null     datetime64[ns]\n",
      " 1   High    10 non-null     float64       \n",
      " 2   Low     10 non-null     float64       \n",
      " 3   Open    10 non-null     float64       \n",
      " 4   Close   10 non-null     float64       \n",
      "dtypes: datetime64[ns](1), float64(4)\n",
      "memory usage: 528.0 bytes\n"
     ]
    }
   ],
   "source": [
    "# Dateが日付型に変更されたかどうかの確認\n",
    "df_latest.info()"
   ]
  },
  {
   "cell_type": "code",
   "execution_count": 589,
   "id": "0b70002f-c2d3-4590-84fe-02ca7555b0a7",
   "metadata": {},
   "outputs": [
    {
     "data": {
      "text/html": [
       "<div>\n",
       "<style scoped>\n",
       "    .dataframe tbody tr th:only-of-type {\n",
       "        vertical-align: middle;\n",
       "    }\n",
       "\n",
       "    .dataframe tbody tr th {\n",
       "        vertical-align: top;\n",
       "    }\n",
       "\n",
       "    .dataframe thead th {\n",
       "        text-align: right;\n",
       "    }\n",
       "</style>\n",
       "<table border=\"1\" class=\"dataframe\">\n",
       "  <thead>\n",
       "    <tr style=\"text-align: right;\">\n",
       "      <th></th>\n",
       "      <th>Date</th>\n",
       "      <th>High</th>\n",
       "      <th>Low</th>\n",
       "      <th>Open</th>\n",
       "      <th>Close</th>\n",
       "    </tr>\n",
       "  </thead>\n",
       "  <tbody>\n",
       "    <tr>\n",
       "      <th>0</th>\n",
       "      <td>2003-12-01</td>\n",
       "      <td>111.370639</td>\n",
       "      <td>110.482062</td>\n",
       "      <td>111.314347</td>\n",
       "      <td>110.676377</td>\n",
       "    </tr>\n",
       "    <tr>\n",
       "      <th>1</th>\n",
       "      <td>2003-12-02</td>\n",
       "      <td>112.008532</td>\n",
       "      <td>110.500532</td>\n",
       "      <td>110.639316</td>\n",
       "      <td>111.823016</td>\n",
       "    </tr>\n",
       "    <tr>\n",
       "      <th>2</th>\n",
       "      <td>2003-12-03</td>\n",
       "      <td>112.202814</td>\n",
       "      <td>111.712284</td>\n",
       "      <td>111.832477</td>\n",
       "      <td>112.137524</td>\n",
       "    </tr>\n",
       "    <tr>\n",
       "      <th>3</th>\n",
       "      <td>2003-12-04</td>\n",
       "      <td>112.332259</td>\n",
       "      <td>111.406851</td>\n",
       "      <td>112.110343</td>\n",
       "      <td>111.748717</td>\n",
       "    </tr>\n",
       "    <tr>\n",
       "      <th>4</th>\n",
       "      <td>2003-12-05</td>\n",
       "      <td>112.766375</td>\n",
       "      <td>111.609834</td>\n",
       "      <td>111.721723</td>\n",
       "      <td>112.729259</td>\n",
       "    </tr>\n",
       "  </tbody>\n",
       "</table>\n",
       "</div>"
      ],
      "text/plain": [
       "        Date        High         Low        Open       Close\n",
       "0 2003-12-01  111.370639  110.482062  111.314347  110.676377\n",
       "1 2003-12-02  112.008532  110.500532  110.639316  111.823016\n",
       "2 2003-12-03  112.202814  111.712284  111.832477  112.137524\n",
       "3 2003-12-04  112.332259  111.406851  112.110343  111.748717\n",
       "4 2003-12-05  112.766375  111.609834  111.721723  112.729259"
      ]
     },
     "execution_count": 589,
     "metadata": {},
     "output_type": "execute_result"
    }
   ],
   "source": [
    "df_train.head()"
   ]
  },
  {
   "cell_type": "code",
   "execution_count": 590,
   "id": "76b90fff-1164-4658-9e98-b04a27913fbb",
   "metadata": {},
   "outputs": [
    {
     "data": {
      "text/html": [
       "<div>\n",
       "<style scoped>\n",
       "    .dataframe tbody tr th:only-of-type {\n",
       "        vertical-align: middle;\n",
       "    }\n",
       "\n",
       "    .dataframe tbody tr th {\n",
       "        vertical-align: top;\n",
       "    }\n",
       "\n",
       "    .dataframe thead th {\n",
       "        text-align: right;\n",
       "    }\n",
       "</style>\n",
       "<table border=\"1\" class=\"dataframe\">\n",
       "  <thead>\n",
       "    <tr style=\"text-align: right;\">\n",
       "      <th></th>\n",
       "      <th>High</th>\n",
       "      <th>Low</th>\n",
       "      <th>Open</th>\n",
       "      <th>Close</th>\n",
       "    </tr>\n",
       "  </thead>\n",
       "  <tbody>\n",
       "    <tr>\n",
       "      <th>count</th>\n",
       "      <td>2074.000000</td>\n",
       "      <td>2074.000000</td>\n",
       "      <td>2074.000000</td>\n",
       "      <td>2074.000000</td>\n",
       "    </tr>\n",
       "    <tr>\n",
       "      <th>mean</th>\n",
       "      <td>124.078238</td>\n",
       "      <td>122.910559</td>\n",
       "      <td>123.526205</td>\n",
       "      <td>123.529490</td>\n",
       "    </tr>\n",
       "    <tr>\n",
       "      <th>std</th>\n",
       "      <td>9.210193</td>\n",
       "      <td>9.493319</td>\n",
       "      <td>9.188003</td>\n",
       "      <td>9.184970</td>\n",
       "    </tr>\n",
       "    <tr>\n",
       "      <th>min</th>\n",
       "      <td>108.520946</td>\n",
       "      <td>6.743457</td>\n",
       "      <td>107.993884</td>\n",
       "      <td>107.998923</td>\n",
       "    </tr>\n",
       "    <tr>\n",
       "      <th>25%</th>\n",
       "      <td>117.002707</td>\n",
       "      <td>115.863246</td>\n",
       "      <td>116.408944</td>\n",
       "      <td>116.427990</td>\n",
       "    </tr>\n",
       "    <tr>\n",
       "      <th>50%</th>\n",
       "      <td>123.242134</td>\n",
       "      <td>121.951219</td>\n",
       "      <td>122.590435</td>\n",
       "      <td>122.573382</td>\n",
       "    </tr>\n",
       "    <tr>\n",
       "      <th>75%</th>\n",
       "      <td>130.814157</td>\n",
       "      <td>129.393252</td>\n",
       "      <td>130.201913</td>\n",
       "      <td>130.179930</td>\n",
       "    </tr>\n",
       "    <tr>\n",
       "      <th>max</th>\n",
       "      <td>148.260942</td>\n",
       "      <td>146.834717</td>\n",
       "      <td>147.832063</td>\n",
       "      <td>147.888796</td>\n",
       "    </tr>\n",
       "  </tbody>\n",
       "</table>\n",
       "</div>"
      ],
      "text/plain": [
       "              High          Low         Open        Close\n",
       "count  2074.000000  2074.000000  2074.000000  2074.000000\n",
       "mean    124.078238   122.910559   123.526205   123.529490\n",
       "std       9.210193     9.493319     9.188003     9.184970\n",
       "min     108.520946     6.743457   107.993884   107.998923\n",
       "25%     117.002707   115.863246   116.408944   116.427990\n",
       "50%     123.242134   121.951219   122.590435   122.573382\n",
       "75%     130.814157   129.393252   130.201913   130.179930\n",
       "max     148.260942   146.834717   147.832063   147.888796"
      ]
     },
     "execution_count": 590,
     "metadata": {},
     "output_type": "execute_result"
    }
   ],
   "source": [
    "#データの確認\n",
    "df_train.describe()"
   ]
  },
  {
   "cell_type": "code",
   "execution_count": 591,
   "id": "7cea939b-e54c-488b-9e8c-5b2ec3edfc5f",
   "metadata": {},
   "outputs": [
    {
     "data": {
      "text/html": [
       "<div>\n",
       "<style scoped>\n",
       "    .dataframe tbody tr th:only-of-type {\n",
       "        vertical-align: middle;\n",
       "    }\n",
       "\n",
       "    .dataframe tbody tr th {\n",
       "        vertical-align: top;\n",
       "    }\n",
       "\n",
       "    .dataframe thead th {\n",
       "        text-align: right;\n",
       "    }\n",
       "</style>\n",
       "<table border=\"1\" class=\"dataframe\">\n",
       "  <thead>\n",
       "    <tr style=\"text-align: right;\">\n",
       "      <th></th>\n",
       "      <th>High</th>\n",
       "      <th>Low</th>\n",
       "      <th>Open</th>\n",
       "      <th>Close</th>\n",
       "    </tr>\n",
       "  </thead>\n",
       "  <tbody>\n",
       "    <tr>\n",
       "      <th>count</th>\n",
       "      <td>1246.000000</td>\n",
       "      <td>1246.000000</td>\n",
       "      <td>1246.000000</td>\n",
       "      <td>1246.000000</td>\n",
       "    </tr>\n",
       "    <tr>\n",
       "      <th>mean</th>\n",
       "      <td>111.424603</td>\n",
       "      <td>110.675657</td>\n",
       "      <td>111.069958</td>\n",
       "      <td>111.070373</td>\n",
       "    </tr>\n",
       "    <tr>\n",
       "      <th>std</th>\n",
       "      <td>9.206534</td>\n",
       "      <td>9.270658</td>\n",
       "      <td>9.215541</td>\n",
       "      <td>9.214999</td>\n",
       "    </tr>\n",
       "    <tr>\n",
       "      <th>min</th>\n",
       "      <td>96.767439</td>\n",
       "      <td>70.352906</td>\n",
       "      <td>96.364197</td>\n",
       "      <td>96.357173</td>\n",
       "    </tr>\n",
       "    <tr>\n",
       "      <th>25%</th>\n",
       "      <td>103.722807</td>\n",
       "      <td>103.064503</td>\n",
       "      <td>103.422443</td>\n",
       "      <td>103.422154</td>\n",
       "    </tr>\n",
       "    <tr>\n",
       "      <th>50%</th>\n",
       "      <td>108.456692</td>\n",
       "      <td>107.796669</td>\n",
       "      <td>108.091687</td>\n",
       "      <td>108.082215</td>\n",
       "    </tr>\n",
       "    <tr>\n",
       "      <th>75%</th>\n",
       "      <td>120.690221</td>\n",
       "      <td>119.751722</td>\n",
       "      <td>120.218867</td>\n",
       "      <td>120.219641</td>\n",
       "    </tr>\n",
       "    <tr>\n",
       "      <th>max</th>\n",
       "      <td>129.417693</td>\n",
       "      <td>128.691531</td>\n",
       "      <td>128.851618</td>\n",
       "      <td>128.858797</td>\n",
       "    </tr>\n",
       "  </tbody>\n",
       "</table>\n",
       "</div>"
      ],
      "text/plain": [
       "              High          Low         Open        Close\n",
       "count  1246.000000  1246.000000  1246.000000  1246.000000\n",
       "mean    111.424603   110.675657   111.069958   111.070373\n",
       "std       9.206534     9.270658     9.215541     9.214999\n",
       "min      96.767439    70.352906    96.364197    96.357173\n",
       "25%     103.722807   103.064503   103.422443   103.422154\n",
       "50%     108.456692   107.796669   108.091687   108.082215\n",
       "75%     120.690221   119.751722   120.218867   120.219641\n",
       "max     129.417693   128.691531   128.851618   128.858797"
      ]
     },
     "execution_count": 591,
     "metadata": {},
     "output_type": "execute_result"
    }
   ],
   "source": [
    "#データの確認\n",
    "df_test.describe()"
   ]
  },
  {
   "cell_type": "code",
   "execution_count": 592,
   "id": "53a008b3-0eac-447d-bc02-653b63a9cb5b",
   "metadata": {},
   "outputs": [
    {
     "data": {
      "text/html": [
       "<div>\n",
       "<style scoped>\n",
       "    .dataframe tbody tr th:only-of-type {\n",
       "        vertical-align: middle;\n",
       "    }\n",
       "\n",
       "    .dataframe tbody tr th {\n",
       "        vertical-align: top;\n",
       "    }\n",
       "\n",
       "    .dataframe thead th {\n",
       "        text-align: right;\n",
       "    }\n",
       "</style>\n",
       "<table border=\"1\" class=\"dataframe\">\n",
       "  <thead>\n",
       "    <tr style=\"text-align: right;\">\n",
       "      <th></th>\n",
       "      <th>High</th>\n",
       "      <th>Low</th>\n",
       "      <th>Open</th>\n",
       "      <th>Close</th>\n",
       "    </tr>\n",
       "  </thead>\n",
       "  <tbody>\n",
       "    <tr>\n",
       "      <th>count</th>\n",
       "      <td>10.000000</td>\n",
       "      <td>10.000000</td>\n",
       "      <td>10.000000</td>\n",
       "      <td>10.000000</td>\n",
       "    </tr>\n",
       "    <tr>\n",
       "      <th>mean</th>\n",
       "      <td>103.334161</td>\n",
       "      <td>102.926054</td>\n",
       "      <td>103.071625</td>\n",
       "      <td>103.074446</td>\n",
       "    </tr>\n",
       "    <tr>\n",
       "      <th>std</th>\n",
       "      <td>0.361769</td>\n",
       "      <td>0.337125</td>\n",
       "      <td>0.340458</td>\n",
       "      <td>0.340053</td>\n",
       "    </tr>\n",
       "    <tr>\n",
       "      <th>min</th>\n",
       "      <td>102.720708</td>\n",
       "      <td>102.515795</td>\n",
       "      <td>102.629538</td>\n",
       "      <td>102.632956</td>\n",
       "    </tr>\n",
       "    <tr>\n",
       "      <th>25%</th>\n",
       "      <td>103.155731</td>\n",
       "      <td>102.769785</td>\n",
       "      <td>102.843781</td>\n",
       "      <td>102.842064</td>\n",
       "    </tr>\n",
       "    <tr>\n",
       "      <th>50%</th>\n",
       "      <td>103.281038</td>\n",
       "      <td>102.817198</td>\n",
       "      <td>103.000376</td>\n",
       "      <td>103.011844</td>\n",
       "    </tr>\n",
       "    <tr>\n",
       "      <th>75%</th>\n",
       "      <td>103.464673</td>\n",
       "      <td>102.943638</td>\n",
       "      <td>103.359891</td>\n",
       "      <td>103.364806</td>\n",
       "    </tr>\n",
       "    <tr>\n",
       "      <th>max</th>\n",
       "      <td>103.979324</td>\n",
       "      <td>103.606639</td>\n",
       "      <td>103.641461</td>\n",
       "      <td>103.621249</td>\n",
       "    </tr>\n",
       "  </tbody>\n",
       "</table>\n",
       "</div>"
      ],
      "text/plain": [
       "             High         Low        Open       Close\n",
       "count   10.000000   10.000000   10.000000   10.000000\n",
       "mean   103.334161  102.926054  103.071625  103.074446\n",
       "std      0.361769    0.337125    0.340458    0.340053\n",
       "min    102.720708  102.515795  102.629538  102.632956\n",
       "25%    103.155731  102.769785  102.843781  102.842064\n",
       "50%    103.281038  102.817198  103.000376  103.011844\n",
       "75%    103.464673  102.943638  103.359891  103.364806\n",
       "max    103.979324  103.606639  103.641461  103.621249"
      ]
     },
     "execution_count": 592,
     "metadata": {},
     "output_type": "execute_result"
    }
   ],
   "source": [
    "#データの確認\n",
    "df_latest.describe()"
   ]
  },
  {
   "cell_type": "code",
   "execution_count": 593,
   "id": "ff9f9180-63d6-439c-a3b6-9678dcd82ef9",
   "metadata": {},
   "outputs": [
    {
     "name": "stdout",
     "output_type": "stream",
     "text": [
      "欠損データ確認(df_train)\n",
      "Date     0\n",
      "High     0\n",
      "Low      0\n",
      "Open     0\n",
      "Close    0\n",
      "dtype: int64\n",
      "\n",
      "欠損データを確認(df_test)\n",
      "Date     0\n",
      "High     0\n",
      "Low      0\n",
      "Open     0\n",
      "Close    0\n",
      "dtype: int64\n",
      "\n"
     ]
    }
   ],
   "source": [
    "#欠損値の確認\n",
    "print(f'欠損データ確認(df_train)\\n{df_train.isnull().sum()}\\n')\n",
    "print(f'欠損データを確認(df_test)\\n{df_test.isnull().sum()}\\n')"
   ]
  },
  {
   "cell_type": "markdown",
   "id": "bb1d6d20-44c1-4117-b827-daacdf15c766",
   "metadata": {},
   "source": [
    "##　配列の型などを調べるための関数"
   ]
  },
  {
   "cell_type": "code",
   "execution_count": 594,
   "id": "d174b86d-c0f8-4ea9-9670-ab083c337a2a",
   "metadata": {},
   "outputs": [],
   "source": [
    "# 変数名をそのままprint関数内で表示させる関数\n",
    "def chkprint(*args):\n",
    "    for obj in args:\n",
    "        for k, v in globals().items():\n",
    "            if id(v) == id(obj):\n",
    "                target = k\n",
    "                break          \n",
    "    return target\n",
    "\n",
    "# データがどのデータ型か、列数、行数を表示する関数\n",
    "def typeInfo(targetData):\n",
    "    if (type(targetData) is pd.core.frame.DataFrame):\n",
    "        print(\"{} は DataFrame型\".format(chkprint(targetData)))\n",
    "        print(\"{} の行数, 列数・・・{}\\n\".format(chkprint(targetData), targetData.shape))     # shapeの表示内容は、(行数, 列数)となる\n",
    "    if (type(targetData) is list):\n",
    "        print(\"{} は list型\".format(chkprint(targetData)))\n",
    "        print(\"{} の行数, 列数・・・{}\\n\".format(chkprint(targetData), pd.DataFrame(targetData).shape))    # shapeの表示内容は、(行数, 列数)となる\n",
    "    if (type(targetData) is np.ndarray):\n",
    "        print(\"{} は ndarray型\".format(chkprint(targetData)))\n",
    "        print(\"{} の行数, 列数・・・{}\\n\".format(chkprint(targetData), targetData.shape))     # shapeの表示内容は、(行数, 列数)となる\n",
    "    if (type(targetData) is pd.core.series.Series):\n",
    "        print(\"{} は Series型\".format(chkprint(targetData)))\n",
    "        print(\"{} の行数, 列数・・・{}\\n\".format(chkprint(targetData), targetData.shape))     # shapeの表示内容は、(行数, 列数)となる"
   ]
  },
  {
   "cell_type": "markdown",
   "id": "b8daff79-41e9-4b9e-9c3b-cb6856a3d546",
   "metadata": {},
   "source": [
    "## Trainデータを学習用と検証用に分割\n",
    "#### (train:2003/12/1-2011/12/14 →これを8:2に分割する| test:2011/12/15-2019/12/31)"
   ]
  },
  {
   "cell_type": "code",
   "execution_count": 595,
   "id": "3d7b24b3-74fa-45be-a4a9-6e746c33313d",
   "metadata": {},
   "outputs": [],
   "source": [
    "# 不要\n",
    "# Trainデータを学習用と検証用に分割\n",
    "# 今回は①学習用：8割、②検証用：2割にTrainデータを分割して、①の予測モデルで\n",
    "# ②が正しく評価できるのかを確認した上で、testデータへの予測モデルの適用を行う"
   ]
  },
  {
   "cell_type": "code",
   "execution_count": 596,
   "id": "bc0c2e46-645b-4ae4-bb7e-56594743302d",
   "metadata": {},
   "outputs": [],
   "source": [
    "# 不要\n",
    "# train_test_splitというDataFrameを分けてくれる関数がsklearnにあるのでそれを使う\n",
    "# from sklearn.model_selection import train_test_split\n",
    "\n",
    "# df_train, df_validation = train_test_split(df_train, train_size=0.8, test_size=0.2, shuffle=False)"
   ]
  },
  {
   "cell_type": "code",
   "execution_count": 597,
   "id": "4369f120-d765-4eda-b9a0-c05d5e42ba7d",
   "metadata": {},
   "outputs": [],
   "source": [
    "# 不要\n",
    "# # 分割後のサイズ\n",
    "# print(f'①学習用データのサイズ(df_train)：{len(df_train)}')\n",
    "# print(f'②検証用データのサイズ(df_validation)：{len(df_validation)}')\n",
    "# print(f'元々のdf_trainのサイズが8:2に分割された\\n')\n",
    "\n",
    "# # 分割後の詳細\n",
    "# print(f'分割後のサマリ(df_train)\\n{df_train.describe()}\\n')\n",
    "# print(f'分割後のサマリ(df_validation)\\n{df_validation.describe()}\\n')"
   ]
  },
  {
   "cell_type": "markdown",
   "id": "d7dfd235-6e7e-4edf-9c77-57c361aaa484",
   "metadata": {},
   "source": [
    "## *Train/test/latestデータの縦結合(直接今回の課題とは関係なし)"
   ]
  },
  {
   "cell_type": "code",
   "execution_count": 598,
   "id": "c795d972-8f7f-42bc-80cd-8e20d17ff5cf",
   "metadata": {},
   "outputs": [],
   "source": [
    "# df_Merged=pd.concat([df_train,df_test,df_latest])\n",
    "df_Merged = pd.DataFrame(np.concatenate([df_train.values, df_test.values, df_latest.values]), columns=df_train.columns)"
   ]
  },
  {
   "cell_type": "code",
   "execution_count": 599,
   "id": "4149f652-b151-4388-86ac-d2f5f136d350",
   "metadata": {},
   "outputs": [
    {
     "data": {
      "text/html": [
       "<div>\n",
       "<style scoped>\n",
       "    .dataframe tbody tr th:only-of-type {\n",
       "        vertical-align: middle;\n",
       "    }\n",
       "\n",
       "    .dataframe tbody tr th {\n",
       "        vertical-align: top;\n",
       "    }\n",
       "\n",
       "    .dataframe thead th {\n",
       "        text-align: right;\n",
       "    }\n",
       "</style>\n",
       "<table border=\"1\" class=\"dataframe\">\n",
       "  <thead>\n",
       "    <tr style=\"text-align: right;\">\n",
       "      <th></th>\n",
       "      <th>Date</th>\n",
       "      <th>High</th>\n",
       "      <th>Low</th>\n",
       "      <th>Open</th>\n",
       "      <th>Close</th>\n",
       "    </tr>\n",
       "  </thead>\n",
       "  <tbody>\n",
       "    <tr>\n",
       "      <th>0</th>\n",
       "      <td>2003-12-01</td>\n",
       "      <td>111.370639</td>\n",
       "      <td>110.482062</td>\n",
       "      <td>111.314347</td>\n",
       "      <td>110.676377</td>\n",
       "    </tr>\n",
       "    <tr>\n",
       "      <th>1</th>\n",
       "      <td>2003-12-02</td>\n",
       "      <td>112.008532</td>\n",
       "      <td>110.500532</td>\n",
       "      <td>110.639316</td>\n",
       "      <td>111.823016</td>\n",
       "    </tr>\n",
       "    <tr>\n",
       "      <th>2</th>\n",
       "      <td>2003-12-03</td>\n",
       "      <td>112.202814</td>\n",
       "      <td>111.712284</td>\n",
       "      <td>111.832477</td>\n",
       "      <td>112.137524</td>\n",
       "    </tr>\n",
       "    <tr>\n",
       "      <th>3</th>\n",
       "      <td>2003-12-04</td>\n",
       "      <td>112.332259</td>\n",
       "      <td>111.406851</td>\n",
       "      <td>112.110343</td>\n",
       "      <td>111.748717</td>\n",
       "    </tr>\n",
       "    <tr>\n",
       "      <th>4</th>\n",
       "      <td>2003-12-05</td>\n",
       "      <td>112.766375</td>\n",
       "      <td>111.609834</td>\n",
       "      <td>111.721723</td>\n",
       "      <td>112.729259</td>\n",
       "    </tr>\n",
       "    <tr>\n",
       "      <th>...</th>\n",
       "      <td>...</td>\n",
       "      <td>...</td>\n",
       "      <td>...</td>\n",
       "      <td>...</td>\n",
       "      <td>...</td>\n",
       "    </tr>\n",
       "    <tr>\n",
       "      <th>3325</th>\n",
       "      <td>2019-12-19</td>\n",
       "      <td>103.067513</td>\n",
       "      <td>102.766359</td>\n",
       "      <td>102.822331</td>\n",
       "      <td>102.822331</td>\n",
       "    </tr>\n",
       "    <tr>\n",
       "      <th>3326</th>\n",
       "      <td>2019-12-26</td>\n",
       "      <td>102.720708</td>\n",
       "      <td>102.515795</td>\n",
       "      <td>102.629538</td>\n",
       "      <td>102.632956</td>\n",
       "    </tr>\n",
       "    <tr>\n",
       "      <th>3327</th>\n",
       "      <td>2019-12-27</td>\n",
       "      <td>103.421288</td>\n",
       "      <td>102.67499</td>\n",
       "      <td>102.686502</td>\n",
       "      <td>102.685356</td>\n",
       "    </tr>\n",
       "    <tr>\n",
       "      <th>3328</th>\n",
       "      <td>2019-12-30</td>\n",
       "      <td>103.791471</td>\n",
       "      <td>103.429382</td>\n",
       "      <td>103.429382</td>\n",
       "      <td>103.436318</td>\n",
       "    </tr>\n",
       "    <tr>\n",
       "      <th>3329</th>\n",
       "      <td>2019-12-31</td>\n",
       "      <td>103.979324</td>\n",
       "      <td>103.606639</td>\n",
       "      <td>103.641461</td>\n",
       "      <td>103.621249</td>\n",
       "    </tr>\n",
       "  </tbody>\n",
       "</table>\n",
       "<p>3330 rows × 5 columns</p>\n",
       "</div>"
      ],
      "text/plain": [
       "           Date        High         Low        Open       Close\n",
       "0    2003-12-01  111.370639  110.482062  111.314347  110.676377\n",
       "1    2003-12-02  112.008532  110.500532  110.639316  111.823016\n",
       "2    2003-12-03  112.202814  111.712284  111.832477  112.137524\n",
       "3    2003-12-04  112.332259  111.406851  112.110343  111.748717\n",
       "4    2003-12-05  112.766375  111.609834  111.721723  112.729259\n",
       "...         ...         ...         ...         ...         ...\n",
       "3325 2019-12-19  103.067513  102.766359  102.822331  102.822331\n",
       "3326 2019-12-26  102.720708  102.515795  102.629538  102.632956\n",
       "3327 2019-12-27  103.421288   102.67499  102.686502  102.685356\n",
       "3328 2019-12-30  103.791471  103.429382  103.429382  103.436318\n",
       "3329 2019-12-31  103.979324  103.606639  103.641461  103.621249\n",
       "\n",
       "[3330 rows x 5 columns]"
      ]
     },
     "execution_count": 599,
     "metadata": {},
     "output_type": "execute_result"
    }
   ],
   "source": [
    "df_Merged"
   ]
  },
  {
   "cell_type": "code",
   "execution_count": 600,
   "id": "6a29bd61-a43a-45fd-a1db-1e76783b8215",
   "metadata": {},
   "outputs": [
    {
     "name": "stdout",
     "output_type": "stream",
     "text": [
      "<class 'pandas.core.frame.DataFrame'>\n",
      "RangeIndex: 3330 entries, 0 to 3329\n",
      "Data columns (total 5 columns):\n",
      " #   Column  Non-Null Count  Dtype         \n",
      "---  ------  --------------  -----         \n",
      " 0   Date    3330 non-null   datetime64[ns]\n",
      " 1   High    3330 non-null   object        \n",
      " 2   Low     3330 non-null   object        \n",
      " 3   Open    3330 non-null   object        \n",
      " 4   Close   3330 non-null   object        \n",
      "dtypes: datetime64[ns](1), object(4)\n",
      "memory usage: 130.2+ KB\n"
     ]
    }
   ],
   "source": [
    "df_Merged.info()"
   ]
  },
  {
   "cell_type": "markdown",
   "id": "98046edc-d7e6-4ebe-99b5-aba997bf9928",
   "metadata": {},
   "source": [
    "##　LSTMモデルへ訓練させるための前処理"
   ]
  },
  {
   "cell_type": "code",
   "execution_count": 601,
   "id": "6ab9e7c4-fadc-4428-b3d8-73d1f845386d",
   "metadata": {},
   "outputs": [],
   "source": [
    "##　LSTMモデルへ訓練させるための前処理"
   ]
  },
  {
   "cell_type": "code",
   "execution_count": 602,
   "id": "490de5d6-ec84-4808-ba49-a198c1d9523e",
   "metadata": {},
   "outputs": [],
   "source": [
    "# windowを設定\n",
    "window_len=6\n",
    "# window_len=6 #11/6の中間報告でのアドバイスを受け修正しようとしたが、後に出てくる未来予測のところでエラーが出るため一旦保留"
   ]
  },
  {
   "cell_type": "code",
   "execution_count": null,
   "id": "231909a5-3252-43c5-b43c-9efadcb299ee",
   "metadata": {},
   "outputs": [],
   "source": []
  },
  {
   "cell_type": "code",
   "execution_count": 603,
   "id": "d9b2e854-58f3-4c35-bf80-f955ec00f65c",
   "metadata": {},
   "outputs": [],
   "source": [
    "# # Closeの単価だけ抽出\n",
    "# df_train=df_train['Close']\n",
    "# df_test=df_test['Close']\n",
    "# df_latest=df_latest['Close']"
   ]
  },
  {
   "cell_type": "code",
   "execution_count": 604,
   "id": "c0a418ea-b9b7-42e0-a559-6e30a000acd9",
   "metadata": {},
   "outputs": [],
   "source": [
    "# Dateそぎ落とし\n",
    "# del df_train['Date']\n",
    "# del df_test['Date']\n",
    "# del df_latest['Date']"
   ]
  },
  {
   "cell_type": "code",
   "execution_count": 605,
   "id": "a85e43d5-3358-4cc6-96c5-3b6f0c93a5ba",
   "metadata": {},
   "outputs": [],
   "source": [
    "# Dateをインデックスに指定\n",
    "df_train.set_index('Date',inplace=True)\n",
    "df_test.set_index('Date',inplace=True)\n",
    "df_latest.set_index('Date',inplace=True)"
   ]
  },
  {
   "cell_type": "code",
   "execution_count": 606,
   "id": "4ff1869f-149e-4bc3-b6e7-e80e712c7507",
   "metadata": {},
   "outputs": [
    {
     "data": {
      "text/plain": [
       "[<matplotlib.lines.Line2D at 0x7f890aafe790>,\n",
       " <matplotlib.lines.Line2D at 0x7f890a96e610>,\n",
       " <matplotlib.lines.Line2D at 0x7f890a96ea30>,\n",
       " <matplotlib.lines.Line2D at 0x7f890a96e790>]"
      ]
     },
     "execution_count": 606,
     "metadata": {},
     "output_type": "execute_result"
    },
    {
     "data": {
      "image/png": "[encoded data removed]",
      "text/plain": [
       "<Figure size 2160x720 with 1 Axes>"
      ]
     },
     "metadata": {
      "needs_background": "light"
     },
     "output_type": "display_data"
    }
   ],
   "source": [
    "fig = plt.subplots(figsize=(30,10))\n",
    "plt.plot(df_train)"
   ]
  },
  {
   "cell_type": "code",
   "execution_count": 607,
   "id": "0695a4ff-f7a4-410d-a11d-17dfe011099a",
   "metadata": {},
   "outputs": [
    {
     "name": "stdout",
     "output_type": "stream",
     "text": [
      "単価抽出後のサマリ(df_train)\n",
      "              High          Low         Open        Close\n",
      "count  2074.000000  2074.000000  2074.000000  2074.000000\n",
      "mean    124.078238   122.910559   123.526205   123.529490\n",
      "std       9.210193     9.493319     9.188003     9.184970\n",
      "min     108.520946     6.743457   107.993884   107.998923\n",
      "25%     117.002707   115.863246   116.408944   116.427990\n",
      "50%     123.242134   121.951219   122.590435   122.573382\n",
      "75%     130.814157   129.393252   130.201913   130.179930\n",
      "max     148.260942   146.834717   147.832063   147.888796\n",
      "\n",
      "単価抽出後のサマリ(df_test)\n",
      "              High          Low         Open        Close\n",
      "count  1246.000000  1246.000000  1246.000000  1246.000000\n",
      "mean    111.424603   110.675657   111.069958   111.070373\n",
      "std       9.206534     9.270658     9.215541     9.214999\n",
      "min      96.767439    70.352906    96.364197    96.357173\n",
      "25%     103.722807   103.064503   103.422443   103.422154\n",
      "50%     108.456692   107.796669   108.091687   108.082215\n",
      "75%     120.690221   119.751722   120.218867   120.219641\n",
      "max     129.417693   128.691531   128.851618   128.858797\n",
      "\n",
      "単価抽出後のサマリ(df_latest)\n",
      "             High         Low        Open       Close\n",
      "count   10.000000   10.000000   10.000000   10.000000\n",
      "mean   103.334161  102.926054  103.071625  103.074446\n",
      "std      0.361769    0.337125    0.340458    0.340053\n",
      "min    102.720708  102.515795  102.629538  102.632956\n",
      "25%    103.155731  102.769785  102.843781  102.842064\n",
      "50%    103.281038  102.817198  103.000376  103.011844\n",
      "75%    103.464673  102.943638  103.359891  103.364806\n",
      "max    103.979324  103.606639  103.641461  103.621249\n",
      "\n"
     ]
    }
   ],
   "source": [
    "# 分割後の詳細\n",
    "print(f'単価抽出後のサマリ(df_train)\\n{df_train.describe()}\\n')\n",
    "print(f'単価抽出後のサマリ(df_test)\\n{df_test.describe()}\\n')\n",
    "print(f'単価抽出後のサマリ(df_latest)\\n{df_latest.describe()}\\n')"
   ]
  },
  {
   "cell_type": "code",
   "execution_count": 608,
   "id": "20fc0bc9-af10-42be-907d-5a109e96fbe7",
   "metadata": {},
   "outputs": [
    {
     "data": {
      "text/html": [
       "<div>\n",
       "<style scoped>\n",
       "    .dataframe tbody tr th:only-of-type {\n",
       "        vertical-align: middle;\n",
       "    }\n",
       "\n",
       "    .dataframe tbody tr th {\n",
       "        vertical-align: top;\n",
       "    }\n",
       "\n",
       "    .dataframe thead th {\n",
       "        text-align: right;\n",
       "    }\n",
       "</style>\n",
       "<table border=\"1\" class=\"dataframe\">\n",
       "  <thead>\n",
       "    <tr style=\"text-align: right;\">\n",
       "      <th></th>\n",
       "      <th>High</th>\n",
       "      <th>Low</th>\n",
       "      <th>Open</th>\n",
       "      <th>Close</th>\n",
       "    </tr>\n",
       "    <tr>\n",
       "      <th>Date</th>\n",
       "      <th></th>\n",
       "      <th></th>\n",
       "      <th></th>\n",
       "      <th></th>\n",
       "    </tr>\n",
       "  </thead>\n",
       "  <tbody>\n",
       "    <tr>\n",
       "      <th>2003-12-01</th>\n",
       "      <td>111.370639</td>\n",
       "      <td>110.482062</td>\n",
       "      <td>111.314347</td>\n",
       "      <td>110.676377</td>\n",
       "    </tr>\n",
       "    <tr>\n",
       "      <th>2003-12-02</th>\n",
       "      <td>112.008532</td>\n",
       "      <td>110.500532</td>\n",
       "      <td>110.639316</td>\n",
       "      <td>111.823016</td>\n",
       "    </tr>\n",
       "    <tr>\n",
       "      <th>2003-12-03</th>\n",
       "      <td>112.202814</td>\n",
       "      <td>111.712284</td>\n",
       "      <td>111.832477</td>\n",
       "      <td>112.137524</td>\n",
       "    </tr>\n",
       "    <tr>\n",
       "      <th>2003-12-04</th>\n",
       "      <td>112.332259</td>\n",
       "      <td>111.406851</td>\n",
       "      <td>112.110343</td>\n",
       "      <td>111.748717</td>\n",
       "    </tr>\n",
       "    <tr>\n",
       "      <th>2003-12-05</th>\n",
       "      <td>112.766375</td>\n",
       "      <td>111.609834</td>\n",
       "      <td>111.721723</td>\n",
       "      <td>112.729259</td>\n",
       "    </tr>\n",
       "  </tbody>\n",
       "</table>\n",
       "</div>"
      ],
      "text/plain": [
       "                  High         Low        Open       Close\n",
       "Date                                                      \n",
       "2003-12-01  111.370639  110.482062  111.314347  110.676377\n",
       "2003-12-02  112.008532  110.500532  110.639316  111.823016\n",
       "2003-12-03  112.202814  111.712284  111.832477  112.137524\n",
       "2003-12-04  112.332259  111.406851  112.110343  111.748717\n",
       "2003-12-05  112.766375  111.609834  111.721723  112.729259"
      ]
     },
     "execution_count": 608,
     "metadata": {},
     "output_type": "execute_result"
    }
   ],
   "source": [
    "df_train.head()"
   ]
  },
  {
   "cell_type": "code",
   "execution_count": 609,
   "id": "ff4ffc71-da95-4b5b-ae19-5d6d12e20204",
   "metadata": {},
   "outputs": [],
   "source": [
    "# LSTMへの入力用に処理の関数\n",
    "\n",
    "def data_maker(data):\n",
    "  data_lstm_in=[]\n",
    "  if len(data)==window_len:\n",
    "    temp = data[:window_len].copy()\n",
    "    temp = temp / temp.iloc[0] - 1\n",
    "    data_lstm_in.append(temp)\n",
    "  for i in range(len(data) - window_len): #今回のLSTMで生成する時系列データ数(train総数-10個のモデル)\n",
    "      temp = data[i:(i + window_len)].copy() #windowの単位で行を取得。参照渡しでなく値渡し。\n",
    "      temp = temp / temp.iloc[0] - 1\n",
    "      data_lstm_in.append(temp)\n",
    "  return data_lstm_in"
   ]
  },
  {
   "cell_type": "code",
   "execution_count": 610,
   "id": "51d3588b-01c5-447c-96bb-1e54ca4cbe64",
   "metadata": {},
   "outputs": [],
   "source": [
    "#関数の実行(Trainデータ)\n",
    "train_lstm_in = data_maker(df_train)"
   ]
  },
  {
   "cell_type": "code",
   "execution_count": 611,
   "id": "ba2c6512-656c-4c30-a186-40f7d4cb2806",
   "metadata": {},
   "outputs": [
    {
     "name": "stdout",
     "output_type": "stream",
     "text": [
      "train_lstm_in_配列数 : 2068\n",
      "\n",
      "train_lstm_in[0]\n",
      "                High       Low      Open     Close\n",
      "Date                                              \n",
      "2003-12-01  0.000000  0.000000  0.000000  0.000000\n",
      "2003-12-02  0.005728  0.000167 -0.006064  0.010360\n",
      "2003-12-03  0.007472  0.011135  0.004655  0.013202\n",
      "2003-12-04  0.008634  0.008370  0.007151  0.009689\n",
      "2003-12-05  0.012532  0.010208  0.003660  0.018549\n",
      "2003-12-08  0.016610  0.017587  0.011134  0.021312\n",
      "\n",
      "train_lstm_in[1]\n",
      "                High       Low      Open     Close\n",
      "Date                                              \n",
      "2003-12-02  0.000000  0.000000  0.000000  0.000000\n",
      "2003-12-03  0.001735  0.010966  0.010784  0.002813\n",
      "2003-12-04  0.002890  0.008202  0.013296 -0.000664\n",
      "2003-12-05  0.006766  0.010039  0.009783  0.008104\n",
      "2003-12-08  0.010820  0.017417  0.017303  0.010839\n",
      "2003-12-09  0.013873  0.021090  0.021741  0.013316\n",
      "\n",
      "train_lstm_in[-1]\n",
      "                High       Low      Open     Close\n",
      "Date                                              \n",
      "2011-12-06  0.000000  0.000000  0.000000  0.000000\n",
      "2011-12-07  0.002058  0.001001  0.002039  0.001891\n",
      "2011-12-08  0.002382 -0.002196  0.001220  0.001273\n",
      "2011-12-09  0.000376 -0.004066 -0.002936 -0.003083\n",
      "2011-12-12 -0.003505 -0.009684 -0.001030 -0.001123\n",
      "2011-12-13 -0.014396 -0.018012 -0.016365 -0.016108\n",
      "\n"
     ]
    }
   ],
   "source": [
    "# 配列抜粋\n",
    "print(f'train_lstm_in_配列数 : {len(train_lstm_in)}\\n')\n",
    "print(f'train_lstm_in[0]\\n{train_lstm_in[0]}\\n')\n",
    "print(f'train_lstm_in[1]\\n{train_lstm_in[1]}\\n')\n",
    "print(f'train_lstm_in[-1]\\n{train_lstm_in[-1]}\\n')"
   ]
  },
  {
   "cell_type": "code",
   "execution_count": 612,
   "id": "7170b76f-5829-4554-9535-62d5b5b16c45",
   "metadata": {},
   "outputs": [],
   "source": [
    "lstm_train_out = (df_train['Open'][window_len:].values / df_train['Open'][:-window_len].values)-1"
   ]
  },
  {
   "cell_type": "code",
   "execution_count": 613,
   "id": "95e40aa7-684b-426b-9961-0117f9b03970",
   "metadata": {},
   "outputs": [
    {
     "data": {
      "text/plain": [
       "array([ 0.01554517,  0.02408164,  0.00835086, ..., -0.00716682,\n",
       "       -0.01876104, -0.02665515])"
      ]
     },
     "execution_count": 613,
     "metadata": {},
     "output_type": "execute_result"
    }
   ],
   "source": [
    "lstm_train_out"
   ]
  },
  {
   "cell_type": "code",
   "execution_count": 614,
   "id": "d2e58329-224a-4784-b46d-fe1cac235725",
   "metadata": {},
   "outputs": [],
   "source": [
    "#関数の実行(Testデータ)\n",
    "test_lstm_in = data_maker(df_test)"
   ]
  },
  {
   "cell_type": "code",
   "execution_count": 615,
   "id": "b76e3681-6591-44c0-82ff-fdcc8107c1a3",
   "metadata": {},
   "outputs": [
    {
     "name": "stdout",
     "output_type": "stream",
     "text": [
      "test_lstm_in_配列数 : 1240\n",
      "\n",
      "test_lstm_in[0]\n",
      "                High       Low      Open     Close\n",
      "Date                                              \n",
      "2011-12-15  0.000000  0.000000  0.000000  0.000000\n",
      "2011-12-16  0.002682  0.003395  0.003284  0.003205\n",
      "2011-12-19 -0.000613  0.001701  0.003741  0.003768\n",
      "2011-12-20  0.006356  0.002625  0.001587  0.001522\n",
      "2011-12-21  0.011123  0.005055  0.007748  0.007696\n",
      "2011-12-22  0.005366  0.004675  0.003898  0.004003\n",
      "\n",
      "test_lstm_in[1]\n",
      "                High       Low      Open     Close\n",
      "Date                                              \n",
      "2011-12-16  0.000000  0.000000  0.000000  0.000000\n",
      "2011-12-19 -0.003286 -0.001688  0.000456  0.000561\n",
      "2011-12-20  0.003664 -0.000767 -0.001691 -0.001678\n",
      "2011-12-21  0.008418  0.001655  0.004450  0.004476\n",
      "2011-12-22  0.002676  0.001276  0.000613  0.000795\n",
      "2011-12-29 -0.010705 -0.011202 -0.008001 -0.007860\n",
      "\n",
      "test_lstm_in[-1]\n",
      "                High       Low      Open     Close\n",
      "Date                                              \n",
      "2019-12-17  0.000000  0.000000  0.000000  0.000000\n",
      "2019-12-18 -0.001940 -0.001756  0.001294  0.001294\n",
      "2019-12-19 -0.002752 -0.001889 -0.001901 -0.001890\n",
      "2019-12-26 -0.006108 -0.004322 -0.003772 -0.003728\n",
      "2019-12-27  0.000671 -0.002776 -0.003219 -0.003219\n",
      "2019-12-30  0.004253  0.004551  0.003992  0.004070\n",
      "\n"
     ]
    }
   ],
   "source": [
    "# 配列抜粋(Testデータ)\n",
    "print(f'test_lstm_in_配列数 : {len(test_lstm_in)}\\n')\n",
    "print(f'test_lstm_in[0]\\n{test_lstm_in[0]}\\n')\n",
    "print(f'test_lstm_in[1]\\n{test_lstm_in[1]}\\n')\n",
    "print(f'test_lstm_in[-1]\\n{test_lstm_in[-1]}\\n')"
   ]
  },
  {
   "cell_type": "code",
   "execution_count": 616,
   "id": "e4fe251e-edaa-4fb7-a3a4-cec17f355c3f",
   "metadata": {},
   "outputs": [],
   "source": [
    "lstm_test_out = (df_test['Open'][window_len:].values / df_test['Open'][:-window_len].values)-1"
   ]
  },
  {
   "cell_type": "code",
   "execution_count": 617,
   "id": "8c545549-2377-4fe9-a15b-f8a56958c30a",
   "metadata": {},
   "outputs": [
    {
     "data": {
      "text/plain": [
       "array([-0.00474374, -0.00597099, -0.00581912, ..., -0.00734906,\n",
       "        0.0050652 ,  0.00605043])"
      ]
     },
     "execution_count": 617,
     "metadata": {},
     "output_type": "execute_result"
    }
   ],
   "source": [
    "lstm_test_out"
   ]
  },
  {
   "cell_type": "code",
   "execution_count": null,
   "id": "2d1a9d83-322b-4050-a0bf-c474bc6bc89f",
   "metadata": {},
   "outputs": [],
   "source": []
  },
  {
   "cell_type": "code",
   "execution_count": 618,
   "id": "9086466a-a5b8-407f-aa11-8f8f4ab3933f",
   "metadata": {},
   "outputs": [],
   "source": [
    "# #関数の実行(Latestデータ)\n",
    "# latest_lstm_in = data_maker(df_latest)"
   ]
  },
  {
   "cell_type": "code",
   "execution_count": 619,
   "id": "278b4092-6140-40f6-b923-00acad181de3",
   "metadata": {},
   "outputs": [],
   "source": [
    "# # 配列抜粋\n",
    "# print(f'latest_lstm_in_配列数 : {len(latest_lstm_in)}\\n')\n",
    "# print(f'latest_lstm_in\\n{latest_lstm_in[0]}\\n')\n",
    "# #print(f'latest_lstm_in\\n{latest_lstm_in[1]}\\n')\n",
    "# # print(f'latest_lstm_in\\n{latest_lstm_in[-1]}\\n')"
   ]
  },
  {
   "cell_type": "markdown",
   "id": "0e5cb290-36cb-43f4-8516-b931e725a7b0",
   "metadata": {},
   "source": [
    "## Numpy配列への変換"
   ]
  },
  {
   "cell_type": "code",
   "execution_count": 620,
   "id": "b61cbcb6-4597-49ac-9c01-38ba5056fe68",
   "metadata": {},
   "outputs": [],
   "source": [
    "# PandasのデータフレームからNumpy配列へ変換。リスト内包表記という記法がここでは使われている。\n",
    "train_lstm_in = [np.array(train_lstm_input) for train_lstm_input in train_lstm_in]\n",
    "train_lstm_in = np.array(train_lstm_in)\n",
    "\n",
    "test_lstm_in = [np.array(test_lstm_input) for test_lstm_input in test_lstm_in]\n",
    "test_lstm_in = np.array(test_lstm_in)"
   ]
  },
  {
   "cell_type": "code",
   "execution_count": 621,
   "id": "c25996dd-34e9-482f-ab14-f7ad4df8a9cb",
   "metadata": {},
   "outputs": [],
   "source": [
    "# # 11/6 latestデータのnumpyへの置き換え\n",
    "# latest_lstm_in = [np.array(test_lstm_input) for test_lstm_input in latest_lstm_in]\n",
    "# latest_lstm_in = np.array(latest_lstm_in)"
   ]
  },
  {
   "cell_type": "code",
   "execution_count": 622,
   "id": "f2118607-ee45-47ac-8d13-b1420ff3486f",
   "metadata": {},
   "outputs": [
    {
     "name": "stdout",
     "output_type": "stream",
     "text": [
      "train_lstm_in.shape[0] : 2068\n",
      "train_lstm_in.shape[1] : 6\n",
      "train_lstm_in.shape[2] : 4\n"
     ]
    }
   ],
   "source": [
    "print(f'train_lstm_in.shape[0] : {train_lstm_in.shape[0]}')\n",
    "print(f'train_lstm_in.shape[1] : {train_lstm_in.shape[1]}')\n",
    "print(f'train_lstm_in.shape[2] : {train_lstm_in.shape[2]}')"
   ]
  },
  {
   "cell_type": "code",
   "execution_count": null,
   "id": "ba83b6c2-aba9-4d3a-a57e-6a68cf46e62a",
   "metadata": {},
   "outputs": [],
   "source": [
    "\n"
   ]
  },
  {
   "cell_type": "code",
   "execution_count": 623,
   "id": "7b7619ca-9825-4f40-9815-9831338ea3b2",
   "metadata": {},
   "outputs": [
    {
     "data": {
      "text/plain": [
       "array([[[ 0.        ,  0.        ,  0.        ,  0.        ],\n",
       "        [ 0.00572766,  0.00016718, -0.00606419,  0.01036029],\n",
       "        [ 0.00747212,  0.01113504,  0.00465466,  0.01320198],\n",
       "        [ 0.00863441,  0.0083705 ,  0.00715088,  0.00968897],\n",
       "        [ 0.01253235,  0.01020774,  0.00365969,  0.01854851],\n",
       "        [ 0.0166098 ,  0.01758695,  0.01113381,  0.02131179]],\n",
       "\n",
       "       [[ 0.        ,  0.        ,  0.        ,  0.        ],\n",
       "        [ 0.00173453,  0.01096603,  0.01078424,  0.00281255],\n",
       "        [ 0.0028902 ,  0.00820195,  0.0132957 , -0.00066443],\n",
       "        [ 0.00676594,  0.01003888,  0.00978321,  0.00810426],\n",
       "        [ 0.01082017,  0.01741687,  0.01730293,  0.0108392 ],\n",
       "        [ 0.0138729 ,  0.02109034,  0.02174121,  0.01331569]],\n",
       "\n",
       "       [[ 0.        ,  0.        ,  0.        ,  0.        ],\n",
       "        [ 0.00115366, -0.0027341 ,  0.00248466, -0.00346723],\n",
       "        [ 0.0050227 , -0.00091709, -0.00099035,  0.00527686],\n",
       "        [ 0.0090699 ,  0.00638086,  0.00644914,  0.00800414],\n",
       "        [ 0.01211735,  0.01001449,  0.01084006,  0.01047368],\n",
       "        [ 0.01121115,  0.00704181,  0.01315552,  0.00560785]],\n",
       "\n",
       "       ...,\n",
       "\n",
       "       [[ 0.        ,  0.        ,  0.        ,  0.        ],\n",
       "        [-0.00399136, -0.00136702, -0.00371663, -0.00355594],\n",
       "        [-0.00835044, -0.00592309, -0.00614357, -0.00595705],\n",
       "        [-0.00630941, -0.00492755, -0.00411743, -0.00407715],\n",
       "        [-0.00598845, -0.00810638, -0.00493152, -0.0046913 ],\n",
       "        [-0.00797753, -0.00996455, -0.00906152, -0.00902143]],\n",
       "\n",
       "       [[ 0.        ,  0.        ,  0.        ,  0.        ],\n",
       "        [-0.00437655, -0.0045623 , -0.002436  , -0.00240968],\n",
       "        [-0.00232734, -0.00356541, -0.0004023 , -0.00052307],\n",
       "        [-0.00200509, -0.00674858, -0.00121942, -0.00113941],\n",
       "        [-0.00400214, -0.0086093 , -0.00536483, -0.005485  ],\n",
       "        [-0.00786619, -0.01420185, -0.00346307, -0.00353016]],\n",
       "\n",
       "       [[ 0.        ,  0.        ,  0.        ,  0.        ],\n",
       "        [ 0.00205822,  0.00100146,  0.00203867,  0.00189117],\n",
       "        [ 0.00238188, -0.0021963 ,  0.00121955,  0.00127333],\n",
       "        [ 0.00037605, -0.00406554, -0.00293598, -0.00308275],\n",
       "        [-0.00350498, -0.00968373, -0.00102958, -0.00112319],\n",
       "        [-0.01439606, -0.01801248, -0.01636491, -0.01610817]]])"
      ]
     },
     "execution_count": 623,
     "metadata": {},
     "output_type": "execute_result"
    }
   ],
   "source": [
    "train_lstm_in"
   ]
  },
  {
   "cell_type": "markdown",
   "id": "8e920fb1-738b-4a2e-adae-22277451439c",
   "metadata": {},
   "source": [
    "## モデルの定義"
   ]
  },
  {
   "cell_type": "code",
   "execution_count": 624,
   "id": "f72edeeb-f600-4470-b058-9fec754d6d63",
   "metadata": {},
   "outputs": [],
   "source": [
    "# モデルの定義\n",
    "from keras.models import Sequential\n",
    "from keras.layers import Activation, Dense\n",
    "from keras.layers import LSTM\n",
    "from keras.layers import Dropout"
   ]
  },
  {
   "cell_type": "code",
   "execution_count": 625,
   "id": "c60224ae-815e-45cf-84de-66bc7610cb75",
   "metadata": {},
   "outputs": [],
   "source": [
    "# LSTMのモデルを設定\n",
    "def build_model(inputs, output_size, neurons, activ_func=\"linear\",\n",
    "                dropout=0.25, loss=\"mae\", optimizer=\"adam\"):\n",
    "    model = Sequential()\n",
    " \n",
    "    model.add(LSTM(neurons, input_shape=(inputs.shape[1], inputs.shape[2]))) #バッチ数、時系列データ数、特徴量数\n",
    "    model.add(Dropout(dropout)) \n",
    "    model.add(Dense(units=output_size))\n",
    "    model.add(Activation(activ_func))\n",
    " \n",
    "    model.compile(loss=loss, optimizer=optimizer)\n",
    "    return model"
   ]
  },
  {
   "cell_type": "code",
   "execution_count": null,
   "id": "334500b5-270c-41b8-9349-4a1697674a01",
   "metadata": {},
   "outputs": [],
   "source": []
  },
  {
   "cell_type": "markdown",
   "id": "8725a249-19e4-48ed-86af-adccc81492c3",
   "metadata": {},
   "source": [
    "## データの学習と予測"
   ]
  },
  {
   "cell_type": "code",
   "execution_count": 626,
   "id": "1e66be32-c774-435c-85e3-12f5166bee35",
   "metadata": {},
   "outputs": [
    {
     "name": "stdout",
     "output_type": "stream",
     "text": [
      "Epoch 1/30\n",
      "2068/2068 - 4s - loss: 0.0073\n",
      "Epoch 2/30\n",
      "2068/2068 - 3s - loss: 0.0059\n",
      "Epoch 3/30\n",
      "2068/2068 - 3s - loss: 0.0053\n",
      "Epoch 4/30\n",
      "2068/2068 - 3s - loss: 0.0049\n",
      "Epoch 5/30\n",
      "2068/2068 - 3s - loss: 0.0048\n",
      "Epoch 6/30\n",
      "2068/2068 - 3s - loss: 0.0044\n",
      "Epoch 7/30\n",
      "2068/2068 - 3s - loss: 0.0043\n",
      "Epoch 8/30\n",
      "2068/2068 - 3s - loss: 0.0043\n",
      "Epoch 9/30\n",
      "2068/2068 - 3s - loss: 0.0041\n",
      "Epoch 10/30\n",
      "2068/2068 - 3s - loss: 0.0042\n",
      "Epoch 11/30\n",
      "2068/2068 - 3s - loss: 0.0040\n",
      "Epoch 12/30\n",
      "2068/2068 - 3s - loss: 0.0041\n",
      "Epoch 13/30\n",
      "2068/2068 - 3s - loss: 0.0042\n",
      "Epoch 14/30\n",
      "2068/2068 - 3s - loss: 0.0040\n",
      "Epoch 15/30\n",
      "2068/2068 - 3s - loss: 0.0039\n",
      "Epoch 16/30\n",
      "2068/2068 - 3s - loss: 0.0039\n",
      "Epoch 17/30\n",
      "2068/2068 - 3s - loss: 0.0040\n",
      "Epoch 18/30\n",
      "2068/2068 - 3s - loss: 0.0037\n",
      "Epoch 19/30\n",
      "2068/2068 - 3s - loss: 0.0039\n",
      "Epoch 20/30\n",
      "2068/2068 - 3s - loss: 0.0038\n",
      "Epoch 21/30\n",
      "2068/2068 - 3s - loss: 0.0038\n",
      "Epoch 22/30\n",
      "2068/2068 - 3s - loss: 0.0038\n",
      "Epoch 23/30\n",
      "2068/2068 - 3s - loss: 0.0037\n",
      "Epoch 24/30\n",
      "2068/2068 - 3s - loss: 0.0038\n",
      "Epoch 25/30\n",
      "2068/2068 - 3s - loss: 0.0038\n",
      "Epoch 26/30\n",
      "2068/2068 - 3s - loss: 0.0036\n",
      "Epoch 27/30\n",
      "2068/2068 - 3s - loss: 0.0037\n",
      "Epoch 28/30\n",
      "2068/2068 - 3s - loss: 0.0038\n",
      "Epoch 29/30\n",
      "2068/2068 - 3s - loss: 0.0038\n",
      "Epoch 30/30\n",
      "2068/2068 - 3s - loss: 0.0038\n"
     ]
    }
   ],
   "source": [
    "np.random.seed(202)\n",
    " \n",
    "# 初期モデルの構築\n",
    "yen_model = build_model(train_lstm_in, output_size=1, neurons = 20)\n",
    "\n",
    "# データを流してフィッティングさせる\n",
    "yen_history = yen_model.fit(train_lstm_in, lstm_train_out, \n",
    "                            epochs=30, batch_size=1, verbose=2, shuffle=False)\n",
    "# 11/5 epochs=50からepochs=10に変更\n",
    "# 11/5 shuffle=TrueからFalseに変更"
   ]
  },
  {
   "cell_type": "code",
   "execution_count": 627,
   "id": "bebaf562-4cb9-4198-9c69-496fe3c5bd1a",
   "metadata": {},
   "outputs": [
    {
     "data": {
      "image/png": "[encoded data removed]",
      "text/plain": [
       "<Figure size 432x288 with 1 Axes>"
      ]
     },
     "metadata": {
      "needs_background": "light"
     },
     "output_type": "display_data"
    }
   ],
   "source": [
    "# MAEをプロットしてみよう\n",
    "fig, ax1 = plt.subplots(1,1)\n",
    " \n",
    "ax1.plot(yen_history.epoch, yen_history.history['loss'])\n",
    "ax1.set_title('TrainingError')\n",
    " \n",
    "if yen_model.loss == 'mae':\n",
    "    ax1.set_ylabel('Mean Absolute Error (MAE)',fontsize=12)\n",
    "else:\n",
    "    ax1.set_ylabel('Model Loss',fontsize=12)\n",
    "ax1.set_xlabel('# Epochs',fontsize=12)\n",
    "plt.show()"
   ]
  },
  {
   "cell_type": "code",
   "execution_count": 628,
   "id": "a3457ec5-1a28-4b3b-a8cb-94b54f0fb806",
   "metadata": {},
   "outputs": [],
   "source": [
    "#作成したモデルを使用し予測。\n",
    "train_pred = yen_model.predict(train_lstm_in)\n",
    "# test_pred = yen_model.predict(X_test)"
   ]
  },
  {
   "cell_type": "code",
   "execution_count": 629,
   "id": "a277c3e2-e59c-4c36-bb3d-3e9edd5df5a3",
   "metadata": {},
   "outputs": [
    {
     "data": {
      "text/plain": [
       "array([[ 0.01179338],\n",
       "       [ 0.01575671],\n",
       "       [ 0.00335869],\n",
       "       ...,\n",
       "       [-0.01038654],\n",
       "       [-0.00755024],\n",
       "       [-0.01857638]], dtype=float32)"
      ]
     },
     "execution_count": 629,
     "metadata": {},
     "output_type": "execute_result"
    }
   ],
   "source": [
    "train_pred"
   ]
  },
  {
   "cell_type": "code",
   "execution_count": 630,
   "id": "7052f331-66f7-4d7d-a408-07152a513a1a",
   "metadata": {},
   "outputs": [
    {
     "data": {
      "text/plain": [
       "array([[ 0.01179338,  0.01575671,  0.00335869, ..., -0.01038654,\n",
       "        -0.00755024, -0.01857638]], dtype=float32)"
      ]
     },
     "execution_count": 630,
     "metadata": {},
     "output_type": "execute_result"
    }
   ],
   "source": [
    "np.transpose(train_pred)"
   ]
  },
  {
   "cell_type": "code",
   "execution_count": 631,
   "id": "616523f3-4f40-4f70-9b9a-0c58b4e05bb5",
   "metadata": {},
   "outputs": [
    {
     "data": {
      "text/plain": [
       "2068"
      ]
     },
     "execution_count": 631,
     "metadata": {},
     "output_type": "execute_result"
    }
   ],
   "source": [
    "len(train_pred)"
   ]
  },
  {
   "cell_type": "code",
   "execution_count": 632,
   "id": "9669d2c4-68b3-498d-a2db-1cb102c11d9a",
   "metadata": {},
   "outputs": [
    {
     "data": {
      "text/plain": [
       "array([ 0.01554517,  0.02408164,  0.00835086, ..., -0.00716682,\n",
       "       -0.01876104, -0.02665515])"
      ]
     },
     "execution_count": 632,
     "metadata": {},
     "output_type": "execute_result"
    }
   ],
   "source": [
    "lstm_train_out"
   ]
  },
  {
   "cell_type": "code",
   "execution_count": 633,
   "id": "134e2a7a-ab10-4218-afbc-2c19bd861c78",
   "metadata": {},
   "outputs": [
    {
     "data": {
      "text/plain": [
       "2068"
      ]
     },
     "execution_count": 633,
     "metadata": {},
     "output_type": "execute_result"
    }
   ],
   "source": [
    "len(lstm_train_out)"
   ]
  },
  {
   "cell_type": "code",
   "execution_count": 665,
   "id": "01c299f7-6b83-4a45-a482-d1573f5f6863",
   "metadata": {},
   "outputs": [
    {
     "ename": "AttributeError",
     "evalue": "'Sequential' object has no attribute 'score'",
     "output_type": "error",
     "traceback": [
      "\u001b[0;31m---------------------------------------------------------------------------\u001b[0m",
      "\u001b[0;31mAttributeError\u001b[0m                            Traceback (most recent call last)",
      "\u001b[0;32m<ipython-input-665-1fe816e23ae9>\u001b[0m in \u001b[0;36m<module>\u001b[0;34m\u001b[0m\n\u001b[0;32m----> 1\u001b[0;31m \u001b[0myen_model\u001b[0m\u001b[0;34m.\u001b[0m\u001b[0mscore\u001b[0m\u001b[0;34m(\u001b[0m\u001b[0mtrain_pred\u001b[0m\u001b[0;34m,\u001b[0m \u001b[0mlstm_train_out\u001b[0m\u001b[0;34m)\u001b[0m\u001b[0;34m\u001b[0m\u001b[0;34m\u001b[0m\u001b[0m\n\u001b[0m",
      "\u001b[0;31mAttributeError\u001b[0m: 'Sequential' object has no attribute 'score'"
     ]
    }
   ],
   "source": [
    "# yen_model.score(train_pred, lstm_train_out) "
   ]
  },
  {
   "cell_type": "code",
   "execution_count": 634,
   "id": "b6421859-81b3-49f8-b68a-c4f11585a77e",
   "metadata": {},
   "outputs": [
    {
     "data": {
      "image/png": "[encoded data removed]",
      "text/plain": [
       "<Figure size 2160x720 with 1 Axes>"
      ]
     },
     "metadata": {
      "needs_background": "light"
     },
     "output_type": "display_data"
    }
   ],
   "source": [
    "fig,ax = plt.subplots(figsize=(30,10))\n",
    "# plt.plot(train_pred)\n",
    "\n",
    "ax.plot(train_pred)\n",
    "ax.plot(lstm_train_out)\n",
    "plt.show()"
   ]
  },
  {
   "cell_type": "code",
   "execution_count": 635,
   "id": "a74f04e9-605a-4aa8-8f7b-d92a954dd203",
   "metadata": {},
   "outputs": [
    {
     "data": {
      "text/plain": [
       "array([[1.0117934 , 1.0157567 , 1.0033587 , ..., 0.9896135 , 0.99244976,\n",
       "        0.9814236 ]], dtype=float32)"
      ]
     },
     "execution_count": 635,
     "metadata": {},
     "output_type": "execute_result"
    }
   ],
   "source": [
    "# 配列には変化量が入っているので１００倍\n",
    "np.transpose(train_pred+1)"
   ]
  },
  {
   "cell_type": "code",
   "execution_count": 636,
   "id": "da440ce9-7ee9-4895-82a7-84352ae991de",
   "metadata": {},
   "outputs": [
    {
     "data": {
      "text/plain": [
       "array([112.62711893, 112.38262926, 112.20809132, ..., 123.28019814,\n",
       "       123.17402598, 121.50884103])"
      ]
     },
     "execution_count": 636,
     "metadata": {},
     "output_type": "execute_result"
    }
   ],
   "source": [
    "#予測データ(変化量)を単価に直したもの\n",
    "Pred_Train_Price_Array=(np.transpose(train_pred+1)* df_train['Open'].values[:-window_len])[0]\n",
    "(np.transpose(train_pred+1)* df_train['Open'].values[:-window_len])[0]"
   ]
  },
  {
   "cell_type": "code",
   "execution_count": 637,
   "id": "fe2c95ca-ea22-42b7-b1b2-db6887790b28",
   "metadata": {},
   "outputs": [
    {
     "data": {
      "text/plain": [
       "array([113.04474801, 113.30369174, 112.76637495, ..., 123.68128955,\n",
       "       121.78264081, 120.50861955])"
      ]
     },
     "execution_count": 637,
     "metadata": {},
     "output_type": "execute_result"
    }
   ],
   "source": [
    "#正解データ(変化量)を単価に直したもの\n",
    "Actual_Train_Price_Array=(1+lstm_train_out)* df_train['Open'].values[:-window_len]\n",
    "(1+lstm_train_out)* df_train['Open'].values[:-window_len]"
   ]
  },
  {
   "cell_type": "code",
   "execution_count": 638,
   "id": "3527a580-2a30-41c9-8ca9-806d0a22f327",
   "metadata": {},
   "outputs": [
    {
     "data": {
      "image/png": "[encoded data removed]",
      "text/plain": [
       "<Figure size 2160x720 with 1 Axes>"
      ]
     },
     "metadata": {
      "needs_background": "light"
     },
     "output_type": "display_data"
    }
   ],
   "source": [
    "fig,ax = plt.subplots(figsize=(30,10))\n",
    "\n",
    "# 予測データと正解データの併記\n",
    "ax.plot(Pred_Train_Price_Array)\n",
    "ax.plot(Actual_Train_Price_Array)\n",
    "plt.show()"
   ]
  },
  {
   "cell_type": "code",
   "execution_count": 639,
   "id": "e304df35-fe5a-4423-9f05-505634b48966",
   "metadata": {},
   "outputs": [],
   "source": [
    "# #元のdf_trainデータ\n",
    "# fig,ax = plt.subplots(figsize=(30,10))\n",
    "# # plt.plot(train_pred)\n",
    "\n",
    "# # ax.plot(np.transpose(train_pred+1)* df_train['Open'].values[:-window_len])\n",
    "# ax.plot(df_train['Open'])\n",
    "# # ax.set_xlim(datetime.datetime(2003,12,1), datetime.datetime(2011,12,14)) # 範囲指定\n",
    "# plt.show()"
   ]
  },
  {
   "cell_type": "code",
   "execution_count": null,
   "id": "f7e7b139-9992-4764-9f2a-9f3db775515e",
   "metadata": {},
   "outputs": [],
   "source": []
  },
  {
   "cell_type": "markdown",
   "id": "206c3561-5dcd-48ac-afb9-5f3050f3322c",
   "metadata": {},
   "source": [
    "## テストデータへの転用"
   ]
  },
  {
   "cell_type": "code",
   "execution_count": 640,
   "id": "a548ab85-b6fe-4278-a3ac-7107d1f3792b",
   "metadata": {},
   "outputs": [],
   "source": [
    "#作成したモデルを使用し予測。\n",
    "test_pred = yen_model.predict(test_lstm_in)"
   ]
  },
  {
   "cell_type": "code",
   "execution_count": 641,
   "id": "30284cdb-ec75-463e-9421-254ae3ef0ae6",
   "metadata": {},
   "outputs": [
    {
     "data": {
      "text/plain": [
       "array([[ 0.00163596],\n",
       "       [-0.01219052],\n",
       "       [-0.007638  ],\n",
       "       ...,\n",
       "       [-0.00937255],\n",
       "       [-0.0026789 ],\n",
       "       [ 0.00207029]], dtype=float32)"
      ]
     },
     "execution_count": 641,
     "metadata": {},
     "output_type": "execute_result"
    }
   ],
   "source": [
    "test_pred"
   ]
  },
  {
   "cell_type": "code",
   "execution_count": 642,
   "id": "be52a5ac-4dc3-4a04-8db2-527cb75e24fe",
   "metadata": {},
   "outputs": [
    {
     "data": {
      "text/plain": [
       "1240"
      ]
     },
     "execution_count": 642,
     "metadata": {},
     "output_type": "execute_result"
    }
   ],
   "source": [
    "len(test_pred)"
   ]
  },
  {
   "cell_type": "code",
   "execution_count": 643,
   "id": "ba262037-c353-4795-bd62-78ab751869af",
   "metadata": {},
   "outputs": [
    {
     "data": {
      "text/plain": [
       "array([[ 0.00163596, -0.01219052, -0.007638  , ..., -0.00937255,\n",
       "        -0.0026789 ,  0.00207029]], dtype=float32)"
      ]
     },
     "execution_count": 643,
     "metadata": {},
     "output_type": "execute_result"
    }
   ],
   "source": [
    "np.transpose(test_pred)"
   ]
  },
  {
   "cell_type": "code",
   "execution_count": 644,
   "id": "b2d6c45a-b1ac-4324-a5ae-0a53ea435f8c",
   "metadata": {},
   "outputs": [
    {
     "data": {
      "text/plain": [
       "1240"
      ]
     },
     "execution_count": 644,
     "metadata": {},
     "output_type": "execute_result"
    }
   ],
   "source": [
    "len(lstm_test_out)"
   ]
  },
  {
   "cell_type": "code",
   "execution_count": 645,
   "id": "c54f3c61-cba3-44f6-b4bb-5ac823cb5c3f",
   "metadata": {},
   "outputs": [
    {
     "data": {
      "text/plain": [
       "array([120.32951623, 119.058161  , 119.66143836, ..., 102.47718022,\n",
       "       102.63244742, 103.23143647])"
      ]
     },
     "execution_count": 645,
     "metadata": {},
     "output_type": "execute_result"
    }
   ],
   "source": [
    "# 予測データ(変化量)を単価に直したもの\n",
    "Pred_Price_Array=(np.transpose(test_pred+1)* df_test['Open'].values[:-window_len])[0]\n",
    "(np.transpose(test_pred+1)* df_test['Open'].values[:-window_len])[0]"
   ]
  },
  {
   "cell_type": "code",
   "execution_count": 646,
   "id": "89bbf46d-32f4-4a34-a238-f192918bfe9f",
   "metadata": {},
   "outputs": [
    {
     "name": "stdout",
     "output_type": "stream",
     "text": [
      "Pred_Price_Array は ndarray型\n",
      "Pred_Price_Array の行数, 列数・・・(1240,)\n",
      "\n"
     ]
    }
   ],
   "source": [
    "typeInfo(Pred_Price_Array)"
   ]
  },
  {
   "cell_type": "code",
   "execution_count": 647,
   "id": "0db18c71-1de7-4c41-930c-18d7b5c3250f",
   "metadata": {},
   "outputs": [
    {
     "data": {
      "text/plain": [
       "array([119.56311047, 119.80778545, 119.88076121, ..., 102.68650234,\n",
       "       103.42938185, 103.64146143])"
      ]
     },
     "execution_count": 647,
     "metadata": {},
     "output_type": "execute_result"
    }
   ],
   "source": [
    "# 正解データ(変化量)を単価に直したもの\n",
    "Actual_Price_Array=(1+lstm_test_out)* df_test['Open'].values[:-window_len]\n",
    "(1+lstm_test_out)* df_test['Open'].values[:-window_len]"
   ]
  },
  {
   "cell_type": "code",
   "execution_count": 648,
   "id": "36871558-98fa-4db0-8553-b00087ee6b67",
   "metadata": {},
   "outputs": [
    {
     "name": "stdout",
     "output_type": "stream",
     "text": [
      "Actual_Price_Array は ndarray型\n",
      "Actual_Price_Array の行数, 列数・・・(1240,)\n",
      "\n"
     ]
    }
   ],
   "source": [
    "typeInfo(Actual_Price_Array)"
   ]
  },
  {
   "cell_type": "code",
   "execution_count": 649,
   "id": "40704368-bd00-416b-b49f-4db67235e3dd",
   "metadata": {},
   "outputs": [
    {
     "data": {
      "image/png": "[encoded data removed]",
      "text/plain": [
       "<Figure size 2160x720 with 1 Axes>"
      ]
     },
     "metadata": {
      "needs_background": "light"
     },
     "output_type": "display_data"
    }
   ],
   "source": [
    "fig,ax = plt.subplots(figsize=(30,10))\n",
    "# fig,ax = plt.subplots()\n",
    "\n",
    "# 正解データと予測データの併記\n",
    "ax.plot(Pred_Price_Array)\n",
    "ax.plot(Actual_Price_Array)\n",
    "plt.show()"
   ]
  },
  {
   "cell_type": "code",
   "execution_count": null,
   "id": "cb7405fe-39ea-4f2a-bba5-a083adde1360",
   "metadata": {},
   "outputs": [],
   "source": []
  },
  {
   "cell_type": "code",
   "execution_count": 650,
   "id": "3ad85ed4-e7ed-4d03-a8c2-0b37af2aa980",
   "metadata": {},
   "outputs": [
    {
     "data": {
      "text/plain": [
       "array([119.56311047, 121.24310762, 122.63025343, 122.26716101,\n",
       "       121.35922045, 117.78788537, 116.3244006 , 113.28843057,\n",
       "       114.44478422, 116.57215208, 119.55538064, 119.92739379,\n",
       "       119.81864691, 122.54901856, 123.66309524, 122.04775959,\n",
       "       119.37023968, 120.7414186 , 119.17032272, 123.64987403,\n",
       "       121.15576386, 123.75575393, 121.35285795, 126.01836622,\n",
       "       124.81615186, 125.6759271 , 127.20547378, 126.61519498,\n",
       "       127.09534854, 127.62668878, 127.7906692 , 126.760948  ,\n",
       "       125.21659225, 125.83322525, 123.99630487, 119.80624169,\n",
       "       115.76391637, 115.65535694, 115.0511843 , 112.5687626 ,\n",
       "       103.05258304, 105.25956482, 100.14074236,  99.99459237,\n",
       "       105.85704416, 103.76585543, 102.94363767, 101.37097597,\n",
       "       103.220478  , 103.79846185, 101.98119134,  97.8929171 ,\n",
       "       101.43545002,  99.89092886, 102.8966853 , 104.30291861,\n",
       "       104.53394234, 104.68182355, 103.9793244 , 102.18511105,\n",
       "       102.56125927, 103.23659927, 103.93258154, 101.60369784,\n",
       "        98.15364718,  96.71685845,  99.08096194,  98.29759181,\n",
       "        99.36620474,  98.15364718, 101.08405709, 103.62172335,\n",
       "       105.50930113, 109.15226668, 110.02343267, 108.53240281,\n",
       "       107.76112914, 109.61013496, 109.71415132, 113.86437446,\n",
       "       114.10315007, 113.29536647, 114.45045203, 109.35874462,\n",
       "       108.66501182, 108.50567371, 107.33100444, 107.18921006,\n",
       "       106.84131265, 104.94905949, 104.49852407, 105.57432652,\n",
       "       105.11483729, 104.92285967, 105.01578301, 104.38766003,\n",
       "       103.63332361, 104.46075708, 104.16667074, 103.64493489,\n",
       "       102.09712774, 103.17672342, 101.80609584, 102.62953758])"
      ]
     },
     "execution_count": 650,
     "metadata": {},
     "output_type": "execute_result"
    }
   ],
   "source": [
    "Actual_Price_Array[::12]"
   ]
  },
  {
   "cell_type": "code",
   "execution_count": 651,
   "id": "fbbba25f-0dbc-4eda-8053-e5720231a137",
   "metadata": {},
   "outputs": [
    {
     "data": {
      "text/plain": [
       "1240"
      ]
     },
     "execution_count": 651,
     "metadata": {},
     "output_type": "execute_result"
    }
   ],
   "source": [
    "len(Pred_Price_Array)"
   ]
  },
  {
   "cell_type": "code",
   "execution_count": 652,
   "id": "d578c6b3-7e67-4f19-a8b6-e03f8ac33895",
   "metadata": {},
   "outputs": [
    {
     "data": {
      "text/plain": [
       "array([120.32951623, 119.14258185, 118.62172071, 120.78754668,\n",
       "       120.28616252, 122.75382501, 120.16430817, 122.90231241,\n",
       "       121.32552942, 122.07276904, 119.56049139, 116.05873486,\n",
       "       115.98199759, 116.82074031, 115.31170996, 113.43262381,\n",
       "       112.87751199, 113.67323835, 115.60499171, 118.90417655,\n",
       "       119.08129917, 118.77571173, 119.88197284, 117.78583421,\n",
       "       118.63605083, 119.44543345, 121.90911976, 120.32887704,\n",
       "       123.23672951, 125.55364132, 123.19810418, 120.51809027,\n",
       "       120.52442952, 118.19833173, 120.72355763, 119.997541  ,\n",
       "       120.02724745, 119.44335186, 122.19147019, 122.16274862,\n",
       "       118.94972895, 121.15348189, 122.11098074, 123.3634244 ,\n",
       "       122.09579423, 122.57102908, 124.66314303, 125.25340244,\n",
       "       127.34406075, 123.384523  , 124.89421615, 126.51827532,\n",
       "       126.25815762, 125.55935287, 124.92572302, 124.60770925,\n",
       "       126.36666556, 127.10978739, 128.40593117, 127.06728988,\n",
       "       127.64059576, 127.79584871, 126.99165714, 125.8366333 ,\n",
       "       125.93230145, 125.39561154, 125.39047173, 124.90681003,\n",
       "       123.90522007, 123.56536469, 121.18552397, 119.59144016,\n",
       "       117.05840803, 116.57326665, 117.06270596, 115.14402443,\n",
       "       114.31043198, 113.31104468, 113.0248728 , 110.18276766,\n",
       "       107.13178457, 104.16499853, 105.17998084, 103.3256797 ,\n",
       "        97.00075439, 100.20784421,  97.98917092, 100.34576394,\n",
       "       103.18122451, 101.50515602, 102.69276349, 104.89346657,\n",
       "       101.27329976, 100.14165801, 100.95690781, 102.23401694,\n",
       "       103.12988169, 104.61611754, 103.52375422, 104.83155786,\n",
       "       101.94131501,  99.16800068,  98.08915092, 100.17826163,\n",
       "       100.46870657, 100.39676728, 100.77197607,  99.99488506,\n",
       "       103.40134688, 100.94066149, 102.92807734, 103.20863176,\n",
       "       105.30312716, 103.7196822 , 105.07255431, 103.58343042,\n",
       "       104.59389111, 104.70666829, 102.66295904, 101.98829593,\n",
       "       102.93995641, 103.06326929, 103.25404047, 103.66606833,\n",
       "       103.72020577, 103.34909344, 100.40402551, 102.38180366,\n",
       "        97.97458578,  97.92861104,  96.41363052,  97.04308701,\n",
       "        97.94629669,  98.79359719,  98.18883164,  97.54988469,\n",
       "        98.65267923, 100.18463721,  97.69870683, 100.10274747,\n",
       "       101.1687481 , 103.26367774, 103.98418976, 103.37251437,\n",
       "       105.23384746, 106.13587127, 108.92461342, 108.65185907,\n",
       "       110.65085661, 110.24177165, 109.28297391, 108.53805675,\n",
       "       108.6168669 , 107.1457354 , 108.23756446, 109.14438445,\n",
       "       109.3157149 , 111.10448252, 113.03799669, 114.4952389 ,\n",
       "       114.1740029 , 112.84554238, 114.39604709, 114.29172078,\n",
       "       114.08576708, 112.9529011 , 109.56947209, 108.68762157,\n",
       "       108.10982519, 106.92397812, 107.65313404, 107.50215305,\n",
       "       107.81953524, 104.68445951, 107.77035445, 107.04946401,\n",
       "       108.44908019, 106.29943923, 105.88289687, 105.64770583,\n",
       "       105.00683274, 104.60710098, 105.01708887, 105.7269124 ,\n",
       "       105.2148209 , 105.45813992, 104.67701376, 105.10583598,\n",
       "       104.21626883, 104.00300123, 103.86330053, 103.52313949,\n",
       "       103.31832469, 102.96784774, 103.76696801, 103.9661299 ,\n",
       "       104.21225401, 103.66078871, 102.06906169, 102.82923498,\n",
       "       102.26284034, 101.50653355, 102.6834368 , 102.20592026,\n",
       "       102.24640927, 102.25594956, 102.61609347])"
      ]
     },
     "execution_count": 652,
     "metadata": {},
     "output_type": "execute_result"
    }
   ],
   "source": [
    "Pred_Price_Array_7=Pred_Price_Array[::6]\n",
    "Pred_Price_Array_7"
   ]
  },
  {
   "cell_type": "code",
   "execution_count": 653,
   "id": "b0a0a581-eaec-4898-a51f-478a0cef9e52",
   "metadata": {},
   "outputs": [
    {
     "data": {
      "text/plain": [
       "207"
      ]
     },
     "execution_count": 653,
     "metadata": {},
     "output_type": "execute_result"
    }
   ],
   "source": [
    "len(Pred_Price_Array_7)"
   ]
  },
  {
   "cell_type": "code",
   "execution_count": 654,
   "id": "eb3dcd58-0983-436c-87c8-22e64159857c",
   "metadata": {},
   "outputs": [
    {
     "data": {
      "text/plain": [
       "array([120.13923079, 120.52431077, 120.59187233, ..., 102.68535554,\n",
       "       103.43631774, 103.6212492 ])"
      ]
     },
     "execution_count": 654,
     "metadata": {},
     "output_type": "execute_result"
    }
   ],
   "source": [
    "df_test_Close_array=df_test['Close'].values\n",
    "df_test_Close_array"
   ]
  },
  {
   "cell_type": "code",
   "execution_count": 655,
   "id": "19a4535f-6e01-4a1f-b2b8-439f97e247e5",
   "metadata": {},
   "outputs": [
    {
     "data": {
      "text/plain": [
       "array([120.62017828, 119.61567551, 119.0108633 , 121.82273448,\n",
       "       120.78713596, 123.21832687, 120.4583922 , 123.26759487,\n",
       "       121.35922045, 122.40306705, 119.66364235, 116.19142771,\n",
       "       116.30831242, 117.29647338, 115.77551663, 113.56660515,\n",
       "       113.23295444, 113.6782521 , 115.91478586, 119.35484618,\n",
       "       119.1549623 , 118.94046783, 119.92739379, 118.02985877,\n",
       "       119.00167793, 119.91185695, 122.44843155, 120.55258363,\n",
       "       123.69617581, 125.9017241 , 123.51448625, 120.80449224,\n",
       "       120.36435515, 118.54718387, 121.31147414, 120.3173697 ,\n",
       "       120.56829691, 119.55693543, 122.52141833, 122.4289912 ,\n",
       "       119.39642847, 121.27329916, 122.2106263 , 123.52438837,\n",
       "       122.43547499, 123.01513493, 124.74713475, 125.39992481,\n",
       "       127.69893676, 123.46831679, 125.35913646, 126.78527325,\n",
       "       126.52513862, 125.76307237, 125.13020784, 124.76564884,\n",
       "       126.72448218, 127.43679523, 128.69565457, 127.20721602,\n",
       "       128.07731241, 128.02591622, 127.28598088, 126.06645435,\n",
       "       126.19716674, 125.73572576, 125.69300771, 125.17253995,\n",
       "       124.21775728, 123.86181027, 121.43250495, 119.88076121,\n",
       "       117.2266072 , 116.91841751, 117.25930184, 115.26767462,\n",
       "       114.46886688, 113.72018725, 113.09036613, 110.50450146,\n",
       "       106.9858858 , 104.60842878, 105.45036256, 103.24813336,\n",
       "        96.95508271, 100.68575591,  98.14115375, 100.53800702,\n",
       "       103.54516387, 101.68523043, 102.75038093, 105.19971102,\n",
       "       101.70422971, 100.17977744, 101.46325976, 102.61018544,\n",
       "       103.72978657, 104.9323979 , 103.6159122 , 105.17219901,\n",
       "       101.93848431,  99.28407669,  98.42938483, 100.67697853,\n",
       "       100.54676235, 100.39942145, 101.01009995, 100.1396507 ,\n",
       "       103.84040803, 101.04651064, 103.30347717, 103.22969645,\n",
       "       105.47801793, 103.91507089, 105.33868253, 103.80079955,\n",
       "       104.99670655, 104.97883201, 102.96196431, 102.24157959,\n",
       "       103.30463499, 103.29424769, 103.59502733, 103.98048222,\n",
       "       103.96296054, 103.57182682, 100.66383451, 102.68650234,\n",
       "        97.90431887,  97.8835994 ,  96.66227549,  97.3745665 ,\n",
       "        98.31535608,  99.10431683,  98.23078007,  97.61296719,\n",
       "        98.88288647, 100.35803765,  97.8835994 , 100.58393389,\n",
       "       101.42766505, 103.64493489, 104.34763253, 103.67630631,\n",
       "       105.66356689, 106.13762259, 109.37296927, 108.92605066,\n",
       "       110.66579133, 110.62476039, 109.66472894, 108.61014217,\n",
       "       108.77234727, 107.41700292, 108.56935382, 109.45450187,\n",
       "       109.53226328, 111.5869531 , 113.50946397, 114.7884804 ,\n",
       "       114.27230209, 113.13047081, 114.62916434, 114.77281123,\n",
       "       114.358477  , 113.23295444, 109.77795273, 109.04418141,\n",
       "       108.46749872, 107.19418317, 107.84782231, 107.79253364,\n",
       "       108.12896311, 104.94786859, 108.14412504, 107.26378471,\n",
       "       108.80945265, 106.43928438, 106.1266619 , 105.80618829,\n",
       "       105.19492537, 104.92167979, 105.22244841, 106.02083713,\n",
       "       105.60566485, 105.77714354, 104.84556139, 105.38668245,\n",
       "       104.4088757 , 104.29233283, 104.21947837, 103.82525712,\n",
       "       103.51735413, 103.18823546, 103.8683942 , 103.95594746,\n",
       "       104.41358417, 103.8742274 , 102.4136427 , 103.07555199,\n",
       "       102.54420072, 101.63718641, 102.97456801, 102.40117133,\n",
       "       102.479451  , 102.51806706, 102.82233119])"
      ]
     },
     "execution_count": 655,
     "metadata": {},
     "output_type": "execute_result"
    }
   ],
   "source": [
    "df_test_Close_array6=df_test_Close_array[5::6]\n",
    "df_test_Close_array6"
   ]
  },
  {
   "cell_type": "code",
   "execution_count": 656,
   "id": "8b1fd3b2-010c-4d8f-9588-6242b80fe7d4",
   "metadata": {},
   "outputs": [
    {
     "data": {
      "text/plain": [
       "207"
      ]
     },
     "execution_count": 656,
     "metadata": {},
     "output_type": "execute_result"
    }
   ],
   "source": [
    "len(df_test_Close_array6)"
   ]
  },
  {
   "cell_type": "code",
   "execution_count": 657,
   "id": "bfb25300-baa0-49c9-84e7-8ca5b5bb0bb7",
   "metadata": {},
   "outputs": [
    {
     "data": {
      "text/plain": [
       "array([-0.29066205, -0.47309366, -0.38914259, -1.0351878 , -0.50097344,\n",
       "       -0.46450185, -0.29408404, -0.36528247, -0.03369103, -0.33029801,\n",
       "       -0.10315096, -0.13269285, -0.32631482, -0.47573307, -0.46380667,\n",
       "       -0.13398134, -0.35544245, -0.00501375, -0.30979415, -0.45066963,\n",
       "       -0.07366313, -0.1647561 , -0.04542095, -0.24402456, -0.3656271 ,\n",
       "       -0.4664235 , -0.5393118 , -0.22370659, -0.45944631, -0.34808278,\n",
       "       -0.31638208, -0.28640197,  0.16007437, -0.34885215, -0.58791651,\n",
       "       -0.3198287 , -0.54104946, -0.11358357, -0.32994814, -0.26624258,\n",
       "       -0.44669952, -0.11981727, -0.09964556, -0.16096397, -0.33968077,\n",
       "       -0.44410585, -0.08399172, -0.14652237, -0.35487601, -0.08379379,\n",
       "       -0.46492032, -0.26699793, -0.266981  , -0.2037195 , -0.20448481,\n",
       "       -0.1579396 , -0.35781662, -0.32700785, -0.2897234 , -0.13992615,\n",
       "       -0.43671665, -0.23006751, -0.29432374, -0.22982105, -0.26486529,\n",
       "       -0.34011423, -0.30253597, -0.26572992, -0.31253721, -0.29644558,\n",
       "       -0.24698098, -0.28932105, -0.16819917, -0.34515087, -0.19659588,\n",
       "       -0.1236502 , -0.1584349 , -0.40914257, -0.06549332, -0.3217338 ,\n",
       "        0.14589878, -0.44343025, -0.27038172,  0.07754634,  0.04567168,\n",
       "       -0.4779117 , -0.15198283, -0.19224308, -0.36393936, -0.18007441,\n",
       "       -0.05761744, -0.30624445, -0.43092995, -0.03811944, -0.50635194,\n",
       "       -0.37616851, -0.59990488, -0.31628036, -0.09215798, -0.34064116,\n",
       "        0.00283069, -0.11607601, -0.3402339 , -0.4987169 , -0.07805578,\n",
       "       -0.00265417, -0.23812387, -0.14476564, -0.43906115, -0.10584915,\n",
       "       -0.37539982, -0.02106469, -0.17489077, -0.19538869, -0.26612823,\n",
       "       -0.21736913, -0.40281543, -0.27216372, -0.29900527, -0.25328366,\n",
       "       -0.36467858, -0.23097839, -0.34098686, -0.31441389, -0.24275477,\n",
       "       -0.22273337, -0.259809  , -0.30469868,  0.07026691,  0.04501164,\n",
       "       -0.24864497, -0.33147949, -0.36905938, -0.31071964, -0.04194843,\n",
       "       -0.0630825 , -0.23020724, -0.17340044, -0.18489257, -0.48118642,\n",
       "       -0.25891696, -0.38125716, -0.36344276, -0.30379194, -0.42971942,\n",
       "       -0.00175132, -0.44835585, -0.27419159, -0.01493472, -0.38298874,\n",
       "       -0.38175503, -0.07208542, -0.15548037, -0.27126752, -0.33178935,\n",
       "       -0.31011742, -0.21654838, -0.48247058, -0.47146727, -0.2932415 ,\n",
       "       -0.0982992 , -0.28492843, -0.23311725, -0.48109045, -0.27270992,\n",
       "       -0.28005335, -0.20848064, -0.35655983, -0.35767353, -0.27020505,\n",
       "       -0.19468827, -0.29038059, -0.30942787, -0.26340907, -0.37377059,\n",
       "       -0.21432069, -0.36037247, -0.13984515, -0.24376503, -0.15848245,\n",
       "       -0.18809263, -0.31457882, -0.20535954, -0.29392473, -0.39084395,\n",
       "       -0.31900362, -0.16854762, -0.28084647, -0.19260688, -0.2893316 ,\n",
       "       -0.35617784, -0.30211763, -0.19902944, -0.22038773, -0.10142618,\n",
       "        0.01018244, -0.20133016, -0.21343869, -0.34458101, -0.246317  ,\n",
       "       -0.28136038, -0.13065286, -0.29113121, -0.19525107, -0.23304173,\n",
       "       -0.2621175 , -0.20623772])"
      ]
     },
     "execution_count": 657,
     "metadata": {},
     "output_type": "execute_result"
    }
   ],
   "source": [
    "Dif_Array=Pred_Price_Array_7-df_test_Close_array6\n",
    "Dif_Array"
   ]
  },
  {
   "cell_type": "code",
   "execution_count": 658,
   "id": "fc0b32c3-14c2-4147-8495-fb2f6438630c",
   "metadata": {},
   "outputs": [
    {
     "data": {
      "text/plain": [
       "0     -0.290662\n",
       "1     -0.473094\n",
       "2     -0.389143\n",
       "3     -1.035188\n",
       "4     -0.500973\n",
       "         ...   \n",
       "202   -0.291131\n",
       "203   -0.195251\n",
       "204   -0.233042\n",
       "205   -0.262117\n",
       "206   -0.206238\n",
       "Length: 207, dtype: float64"
      ]
     },
     "execution_count": 658,
     "metadata": {},
     "output_type": "execute_result"
    }
   ],
   "source": [
    "Df_Dif_Array = pd.Series(Dif_Array)\n",
    "Df_Dif_Array"
   ]
  },
  {
   "cell_type": "code",
   "execution_count": 659,
   "id": "8411e60b-fb25-4c6c-95b9-36c2a4baa2f0",
   "metadata": {},
   "outputs": [],
   "source": [
    "def p_judge(x):\n",
    "    if x < 0:\n",
    "        return 0\n",
    "    else:\n",
    "        return 1"
   ]
  },
  {
   "cell_type": "code",
   "execution_count": null,
   "id": "ca0bbd59-92a5-4285-a4ec-40b96e49dc05",
   "metadata": {},
   "outputs": [],
   "source": []
  },
  {
   "cell_type": "code",
   "execution_count": 660,
   "id": "e7650a64-ee92-46c1-8585-4f2856243a5c",
   "metadata": {},
   "outputs": [
    {
     "data": {
      "text/plain": [
       "0      0\n",
       "1      0\n",
       "2      0\n",
       "3      0\n",
       "4      0\n",
       "      ..\n",
       "202    0\n",
       "203    0\n",
       "204    0\n",
       "205    0\n",
       "206    0\n",
       "Length: 207, dtype: int64"
      ]
     },
     "execution_count": 660,
     "metadata": {},
     "output_type": "execute_result"
    }
   ],
   "source": [
    "Df_sub=Df_Dif_Array.apply(p_judge)\n",
    "Df_sub"
   ]
  },
  {
   "cell_type": "code",
   "execution_count": 661,
   "id": "745a78d1-24cf-45b3-9e3b-cc4e724d4788",
   "metadata": {},
   "outputs": [
    {
     "data": {
      "text/plain": [
       "count    207.000000\n",
       "mean       0.038647\n",
       "std        0.193220\n",
       "min        0.000000\n",
       "25%        0.000000\n",
       "50%        0.000000\n",
       "75%        0.000000\n",
       "max        1.000000\n",
       "dtype: float64"
      ]
     },
     "execution_count": 661,
     "metadata": {},
     "output_type": "execute_result"
    }
   ],
   "source": [
    "Df_sub.describe()"
   ]
  },
  {
   "cell_type": "code",
   "execution_count": null,
   "id": "07446e81-fc1c-40bf-ac7a-0dcd71bfbaae",
   "metadata": {},
   "outputs": [],
   "source": []
  },
  {
   "cell_type": "code",
   "execution_count": 662,
   "id": "358e708a-3ee2-412c-984c-5716a9f0a26b",
   "metadata": {},
   "outputs": [
    {
     "data": {
      "text/html": [
       "<div>\n",
       "<style scoped>\n",
       "    .dataframe tbody tr th:only-of-type {\n",
       "        vertical-align: middle;\n",
       "    }\n",
       "\n",
       "    .dataframe tbody tr th {\n",
       "        vertical-align: top;\n",
       "    }\n",
       "\n",
       "    .dataframe thead th {\n",
       "        text-align: right;\n",
       "    }\n",
       "</style>\n",
       "<table border=\"1\" class=\"dataframe\">\n",
       "  <thead>\n",
       "    <tr style=\"text-align: right;\">\n",
       "      <th></th>\n",
       "      <th>Date</th>\n",
       "      <th>1</th>\n",
       "    </tr>\n",
       "  </thead>\n",
       "  <tbody>\n",
       "    <tr>\n",
       "      <th>0</th>\n",
       "      <td>2011-12-22</td>\n",
       "      <td>0</td>\n",
       "    </tr>\n",
       "    <tr>\n",
       "      <th>1</th>\n",
       "      <td>2012-01-05</td>\n",
       "      <td>0</td>\n",
       "    </tr>\n",
       "    <tr>\n",
       "      <th>2</th>\n",
       "      <td>2012-01-19</td>\n",
       "      <td>0</td>\n",
       "    </tr>\n",
       "    <tr>\n",
       "      <th>3</th>\n",
       "      <td>2012-02-02</td>\n",
       "      <td>0</td>\n",
       "    </tr>\n",
       "    <tr>\n",
       "      <th>4</th>\n",
       "      <td>2012-02-16</td>\n",
       "      <td>0</td>\n",
       "    </tr>\n",
       "    <tr>\n",
       "      <th>...</th>\n",
       "      <td>...</td>\n",
       "      <td>...</td>\n",
       "    </tr>\n",
       "    <tr>\n",
       "      <th>202</th>\n",
       "      <td>2019-10-23</td>\n",
       "      <td>0</td>\n",
       "    </tr>\n",
       "    <tr>\n",
       "      <th>203</th>\n",
       "      <td>2019-11-07</td>\n",
       "      <td>0</td>\n",
       "    </tr>\n",
       "    <tr>\n",
       "      <th>204</th>\n",
       "      <td>2019-11-21</td>\n",
       "      <td>0</td>\n",
       "    </tr>\n",
       "    <tr>\n",
       "      <th>205</th>\n",
       "      <td>2019-12-05</td>\n",
       "      <td>0</td>\n",
       "    </tr>\n",
       "    <tr>\n",
       "      <th>206</th>\n",
       "      <td>2019-12-19</td>\n",
       "      <td>0</td>\n",
       "    </tr>\n",
       "  </tbody>\n",
       "</table>\n",
       "<p>207 rows × 2 columns</p>\n",
       "</div>"
      ],
      "text/plain": [
       "           Date  1\n",
       "0    2011-12-22  0\n",
       "1    2012-01-05  0\n",
       "2    2012-01-19  0\n",
       "3    2012-02-02  0\n",
       "4    2012-02-16  0\n",
       "..          ... ..\n",
       "202  2019-10-23  0\n",
       "203  2019-11-07  0\n",
       "204  2019-11-21  0\n",
       "205  2019-12-05  0\n",
       "206  2019-12-19  0\n",
       "\n",
       "[207 rows x 2 columns]"
      ]
     },
     "execution_count": 662,
     "metadata": {},
     "output_type": "execute_result"
    }
   ],
   "source": [
    "df_submit[1]=Df_sub\n",
    "df_submit"
   ]
  },
  {
   "cell_type": "code",
   "execution_count": 663,
   "id": "4629f9f9-bd52-40c1-8c9e-d46e3c3dcb11",
   "metadata": {},
   "outputs": [
    {
     "data": {
      "text/html": [
       "<div>\n",
       "<style scoped>\n",
       "    .dataframe tbody tr th:only-of-type {\n",
       "        vertical-align: middle;\n",
       "    }\n",
       "\n",
       "    .dataframe tbody tr th {\n",
       "        vertical-align: top;\n",
       "    }\n",
       "\n",
       "    .dataframe thead th {\n",
       "        text-align: right;\n",
       "    }\n",
       "</style>\n",
       "<table border=\"1\" class=\"dataframe\">\n",
       "  <thead>\n",
       "    <tr style=\"text-align: right;\">\n",
       "      <th></th>\n",
       "      <th>y</th>\n",
       "    </tr>\n",
       "    <tr>\n",
       "      <th>Date</th>\n",
       "      <th></th>\n",
       "    </tr>\n",
       "  </thead>\n",
       "  <tbody>\n",
       "    <tr>\n",
       "      <th>2011-12-22</th>\n",
       "      <td>0</td>\n",
       "    </tr>\n",
       "    <tr>\n",
       "      <th>2012-01-05</th>\n",
       "      <td>0</td>\n",
       "    </tr>\n",
       "    <tr>\n",
       "      <th>2012-01-19</th>\n",
       "      <td>0</td>\n",
       "    </tr>\n",
       "    <tr>\n",
       "      <th>2012-02-02</th>\n",
       "      <td>0</td>\n",
       "    </tr>\n",
       "    <tr>\n",
       "      <th>2012-02-16</th>\n",
       "      <td>0</td>\n",
       "    </tr>\n",
       "    <tr>\n",
       "      <th>...</th>\n",
       "      <td>...</td>\n",
       "    </tr>\n",
       "    <tr>\n",
       "      <th>2019-10-23</th>\n",
       "      <td>0</td>\n",
       "    </tr>\n",
       "    <tr>\n",
       "      <th>2019-11-07</th>\n",
       "      <td>0</td>\n",
       "    </tr>\n",
       "    <tr>\n",
       "      <th>2019-11-21</th>\n",
       "      <td>0</td>\n",
       "    </tr>\n",
       "    <tr>\n",
       "      <th>2019-12-05</th>\n",
       "      <td>0</td>\n",
       "    </tr>\n",
       "    <tr>\n",
       "      <th>2019-12-19</th>\n",
       "      <td>0</td>\n",
       "    </tr>\n",
       "  </tbody>\n",
       "</table>\n",
       "<p>207 rows × 1 columns</p>\n",
       "</div>"
      ],
      "text/plain": [
       "            y\n",
       "Date         \n",
       "2011-12-22  0\n",
       "2012-01-05  0\n",
       "2012-01-19  0\n",
       "2012-02-02  0\n",
       "2012-02-16  0\n",
       "...        ..\n",
       "2019-10-23  0\n",
       "2019-11-07  0\n",
       "2019-11-21  0\n",
       "2019-12-05  0\n",
       "2019-12-19  0\n",
       "\n",
       "[207 rows x 1 columns]"
      ]
     },
     "execution_count": 663,
     "metadata": {},
     "output_type": "execute_result"
    }
   ],
   "source": [
    "# 指定の様式（インデックスはDate、カラム名は「y」のみ）をお守りください。\n",
    "df_submit = df_submit.set_index(\"Date\") #indexにDateを指定する。\n",
    "df_submit = df_submit.rename(columns={1: 'y'}) #カラム名「1」を「y」に変更する。\n",
    "df_submit.to_csv('y_submit.csv') #投稿するファイルを書き出す。\n",
    "df_submit #投稿する中身を確認する。"
   ]
  },
  {
   "cell_type": "code",
   "execution_count": null,
   "id": "acbbcb75-ba6a-420f-8197-2be9eb57d341",
   "metadata": {},
   "outputs": [],
   "source": []
  },
  {
   "cell_type": "code",
   "execution_count": null,
   "id": "3c964f06-bb16-48b0-b35a-b975180744c6",
   "metadata": {},
   "outputs": [],
   "source": []
  },
  {
   "cell_type": "code",
   "execution_count": null,
   "id": "150e2302-0a61-4ecd-bc93-1d9a4f1ad309",
   "metadata": {},
   "outputs": [],
   "source": []
  },
  {
   "cell_type": "code",
   "execution_count": null,
   "id": "7dd94eda-8f28-47f5-b3c1-7084259beee9",
   "metadata": {},
   "outputs": [],
   "source": []
  },
  {
   "cell_type": "code",
   "execution_count": null,
   "id": "119713a2-2448-4796-8231-35e96a564359",
   "metadata": {},
   "outputs": [],
   "source": []
  },
  {
   "cell_type": "code",
   "execution_count": null,
   "id": "97c2a0b5-874d-4dc9-9c80-c9d2e0c70857",
   "metadata": {},
   "outputs": [],
   "source": []
  },
  {
   "cell_type": "code",
   "execution_count": null,
   "id": "bdb25d5b-8d61-4352-961e-e2156100f487",
   "metadata": {},
   "outputs": [],
   "source": []
  },
  {
   "cell_type": "code",
   "execution_count": null,
   "id": "ff86ab65-6a26-45dd-8d79-23ab0b3b5985",
   "metadata": {},
   "outputs": [],
   "source": []
  },
  {
   "cell_type": "code",
   "execution_count": null,
   "id": "2fa80ba1-2caa-4a3e-80a1-c385a623ea39",
   "metadata": {},
   "outputs": [],
   "source": []
  },
  {
   "cell_type": "code",
   "execution_count": null,
   "id": "78969735-4213-47ec-b94d-2bbb0a97afa0",
   "metadata": {},
   "outputs": [],
   "source": []
  },
  {
   "cell_type": "code",
   "execution_count": null,
   "id": "363e7464-9af3-4b80-b3c3-06fe395ec6fa",
   "metadata": {},
   "outputs": [],
   "source": []
  },
  {
   "cell_type": "code",
   "execution_count": null,
   "id": "c9756564-244f-4058-a0b8-981616872280",
   "metadata": {},
   "outputs": [],
   "source": []
  },
  {
   "cell_type": "code",
   "execution_count": null,
   "id": "c5aa9467-e5e4-4d63-80b2-9769f1217368",
   "metadata": {},
   "outputs": [],
   "source": []
  },
  {
   "cell_type": "code",
   "execution_count": null,
   "id": "a2607a1f-898a-4d35-8c4a-6a92670ddf99",
   "metadata": {},
   "outputs": [],
   "source": []
  },
  {
   "cell_type": "code",
   "execution_count": null,
   "id": "8bd4e73a-da01-4ea7-9c54-076c4c5ac7a1",
   "metadata": {},
   "outputs": [],
   "source": []
  },
  {
   "cell_type": "code",
   "execution_count": null,
   "id": "fec9e916-ab1f-415c-8c92-317e725691e3",
   "metadata": {},
   "outputs": [],
   "source": []
  },
  {
   "cell_type": "code",
   "execution_count": null,
   "id": "f0387e63-9011-46a5-b118-55e292115d44",
   "metadata": {},
   "outputs": [],
   "source": []
  },
  {
   "cell_type": "code",
   "execution_count": null,
   "id": "569b91f1-6b32-4b5d-80fa-8df700e83652",
   "metadata": {},
   "outputs": [],
   "source": []
  },
  {
   "cell_type": "code",
   "execution_count": null,
   "id": "51e8fd92-406c-4554-90ff-92351f9564b0",
   "metadata": {},
   "outputs": [],
   "source": []
  },
  {
   "cell_type": "code",
   "execution_count": null,
   "id": "f921dbe4-9973-487f-b726-4f6a3a3d9afe",
   "metadata": {},
   "outputs": [],
   "source": []
  },
  {
   "cell_type": "code",
   "execution_count": null,
   "id": "fd06341e-a7a2-4673-9e95-5084c4c995a7",
   "metadata": {},
   "outputs": [],
   "source": []
  }
 ],
 "metadata": {
  "kernelspec": {
   "display_name": "Python 3",
   "language": "python",
   "name": "python3"
  },
  "language_info": {
   "codemirror_mode": {
    "name": "ipython",
    "version": 3
   },
   "file_extension": ".py",
   "mimetype": "text/x-python",
   "name": "python",
   "nbconvert_exporter": "python",
   "pygments_lexer": "ipython3",
   "version": "3.8.8"
  }
 },
 "nbformat": 4,
 "nbformat_minor": 5
}
