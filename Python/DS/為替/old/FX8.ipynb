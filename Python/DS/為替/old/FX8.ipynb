{
 "cells": [
  {
   "cell_type": "code",
   "execution_count": 753,
   "id": "4864a99e-110a-495c-a9f0-684fca0c97ce",
   "metadata": {},
   "outputs": [],
   "source": [
    "# ライブラリの取得\n",
    "import pandas as pd\n",
    "import numpy as np\n",
    "%matplotlib inline\n",
    "import matplotlib.pyplot as plt\n",
    "import seaborn as sns\n",
    "# sns.set(font=\"IPAexGothic\",style=\"white\")　多分いらなそう\n",
    "# import oandapy\n",
    "import configparser\n",
    "import datetime\n",
    "from datetime import datetime, timedelta\n",
    "\n",
    "import warnings\n",
    "warnings.simplefilter('ignore')\n",
    "\n",
    "# CSVデータの読み込み\n",
    "import os\n",
    "working_directory=os.getcwd()\n",
    "#print(working_directory)\n",
    "path_train=working_directory+'/train_finance.csv'\n",
    "path_test=working_directory+'/test_finance.csv'\n",
    "# path_test=working_directory+'/test_finance_last10elminate.csv'\n",
    "path_latest=working_directory+'/test_latest.csv'\n",
    "path_submit=working_directory+'/submit_finance.csv'\n",
    "\n",
    "#データフレームの生成\n",
    "df_train=pd.read_csv(path_train)\n",
    "df_test=pd.read_csv(path_test)\n",
    "df_latest=pd.read_csv(path_latest)\n",
    "df_submit=pd.read_csv(path_submit)"
   ]
  },
  {
   "cell_type": "code",
   "execution_count": 754,
   "id": "cda3ee1f-2d6e-41d0-873b-b64a30a6b21c",
   "metadata": {},
   "outputs": [
    {
     "name": "stdout",
     "output_type": "stream",
     "text": [
      "<class 'pandas.core.frame.DataFrame'>\n",
      "RangeIndex: 2074 entries, 0 to 2073\n",
      "Data columns (total 5 columns):\n",
      " #   Column  Non-Null Count  Dtype  \n",
      "---  ------  --------------  -----  \n",
      " 0   Date    2074 non-null   object \n",
      " 1   High    2074 non-null   float64\n",
      " 2   Low     2074 non-null   float64\n",
      " 3   Open    2074 non-null   float64\n",
      " 4   Close   2074 non-null   float64\n",
      "dtypes: float64(4), object(1)\n",
      "memory usage: 81.1+ KB\n"
     ]
    }
   ],
   "source": [
    "#データの確認\n",
    "df_train.info()"
   ]
  },
  {
   "cell_type": "code",
   "execution_count": 755,
   "id": "146a3528-e6c1-472b-8cd9-2e05a050fa99",
   "metadata": {},
   "outputs": [
    {
     "name": "stdout",
     "output_type": "stream",
     "text": [
      "<class 'pandas.core.frame.DataFrame'>\n",
      "RangeIndex: 1246 entries, 0 to 1245\n",
      "Data columns (total 5 columns):\n",
      " #   Column  Non-Null Count  Dtype  \n",
      "---  ------  --------------  -----  \n",
      " 0   Date    1246 non-null   object \n",
      " 1   High    1246 non-null   float64\n",
      " 2   Low     1246 non-null   float64\n",
      " 3   Open    1246 non-null   float64\n",
      " 4   Close   1246 non-null   float64\n",
      "dtypes: float64(4), object(1)\n",
      "memory usage: 48.8+ KB\n"
     ]
    }
   ],
   "source": [
    "#データの確認\n",
    "df_test.info()"
   ]
  },
  {
   "cell_type": "code",
   "execution_count": 756,
   "id": "8ea6a89a-4d2b-4ed9-8e79-5fd8744dc710",
   "metadata": {},
   "outputs": [],
   "source": [
    "# Dateがobject型になっているので日付型に変換\n",
    "df_train['Date']=pd.to_datetime(df_train['Date'],format='%Y/%m/%d')\n",
    "df_test['Date']=pd.to_datetime(df_test['Date'],format='%Y/%m/%d')\n",
    "df_latest['Date']=pd.to_datetime(df_latest['Date'],format='%Y/%m/%d')"
   ]
  },
  {
   "cell_type": "code",
   "execution_count": 757,
   "id": "ab2a3032-d16e-4b68-a754-37b4a23234e1",
   "metadata": {},
   "outputs": [],
   "source": [
    "# fig = plt.subplots(figsize=(30,10))\n",
    "# plt.plot(df_train)"
   ]
  },
  {
   "cell_type": "code",
   "execution_count": 758,
   "id": "0256c483-4656-492b-b74c-4ba31d1417b5",
   "metadata": {},
   "outputs": [
    {
     "data": {
      "text/html": [
       "<div>\n",
       "<style scoped>\n",
       "    .dataframe tbody tr th:only-of-type {\n",
       "        vertical-align: middle;\n",
       "    }\n",
       "\n",
       "    .dataframe tbody tr th {\n",
       "        vertical-align: top;\n",
       "    }\n",
       "\n",
       "    .dataframe thead th {\n",
       "        text-align: right;\n",
       "    }\n",
       "</style>\n",
       "<table border=\"1\" class=\"dataframe\">\n",
       "  <thead>\n",
       "    <tr style=\"text-align: right;\">\n",
       "      <th></th>\n",
       "      <th>Date</th>\n",
       "      <th>High</th>\n",
       "      <th>Low</th>\n",
       "      <th>Open</th>\n",
       "      <th>Close</th>\n",
       "    </tr>\n",
       "  </thead>\n",
       "  <tbody>\n",
       "    <tr>\n",
       "      <th>0</th>\n",
       "      <td>2003-12-01</td>\n",
       "      <td>111.370639</td>\n",
       "      <td>110.482062</td>\n",
       "      <td>111.314347</td>\n",
       "      <td>110.676377</td>\n",
       "    </tr>\n",
       "    <tr>\n",
       "      <th>1</th>\n",
       "      <td>2003-12-02</td>\n",
       "      <td>112.008532</td>\n",
       "      <td>110.500532</td>\n",
       "      <td>110.639316</td>\n",
       "      <td>111.823016</td>\n",
       "    </tr>\n",
       "    <tr>\n",
       "      <th>2</th>\n",
       "      <td>2003-12-03</td>\n",
       "      <td>112.202814</td>\n",
       "      <td>111.712284</td>\n",
       "      <td>111.832477</td>\n",
       "      <td>112.137524</td>\n",
       "    </tr>\n",
       "    <tr>\n",
       "      <th>3</th>\n",
       "      <td>2003-12-04</td>\n",
       "      <td>112.332259</td>\n",
       "      <td>111.406851</td>\n",
       "      <td>112.110343</td>\n",
       "      <td>111.748717</td>\n",
       "    </tr>\n",
       "    <tr>\n",
       "      <th>4</th>\n",
       "      <td>2003-12-05</td>\n",
       "      <td>112.766375</td>\n",
       "      <td>111.609834</td>\n",
       "      <td>111.721723</td>\n",
       "      <td>112.729259</td>\n",
       "    </tr>\n",
       "    <tr>\n",
       "      <th>...</th>\n",
       "      <td>...</td>\n",
       "      <td>...</td>\n",
       "      <td>...</td>\n",
       "      <td>...</td>\n",
       "      <td>...</td>\n",
       "    </tr>\n",
       "    <tr>\n",
       "      <th>2069</th>\n",
       "      <td>2011-12-08</td>\n",
       "      <td>124.476855</td>\n",
       "      <td>123.126484</td>\n",
       "      <td>123.959751</td>\n",
       "      <td>123.984661</td>\n",
       "    </tr>\n",
       "    <tr>\n",
       "      <th>2070</th>\n",
       "      <td>2011-12-09</td>\n",
       "      <td>124.227770</td>\n",
       "      <td>122.895824</td>\n",
       "      <td>123.445260</td>\n",
       "      <td>123.445260</td>\n",
       "    </tr>\n",
       "    <tr>\n",
       "      <th>2071</th>\n",
       "      <td>2011-12-12</td>\n",
       "      <td>123.745819</td>\n",
       "      <td>122.202555</td>\n",
       "      <td>123.681290</td>\n",
       "      <td>123.687906</td>\n",
       "    </tr>\n",
       "    <tr>\n",
       "      <th>2072</th>\n",
       "      <td>2011-12-13</td>\n",
       "      <td>122.393352</td>\n",
       "      <td>121.174807</td>\n",
       "      <td>121.782641</td>\n",
       "      <td>121.832361</td>\n",
       "    </tr>\n",
       "    <tr>\n",
       "      <th>2073</th>\n",
       "      <td>2011-12-14</td>\n",
       "      <td>120.796608</td>\n",
       "      <td>119.824855</td>\n",
       "      <td>120.508620</td>\n",
       "      <td>120.427021</td>\n",
       "    </tr>\n",
       "  </tbody>\n",
       "</table>\n",
       "<p>2074 rows × 5 columns</p>\n",
       "</div>"
      ],
      "text/plain": [
       "           Date        High         Low        Open       Close\n",
       "0    2003-12-01  111.370639  110.482062  111.314347  110.676377\n",
       "1    2003-12-02  112.008532  110.500532  110.639316  111.823016\n",
       "2    2003-12-03  112.202814  111.712284  111.832477  112.137524\n",
       "3    2003-12-04  112.332259  111.406851  112.110343  111.748717\n",
       "4    2003-12-05  112.766375  111.609834  111.721723  112.729259\n",
       "...         ...         ...         ...         ...         ...\n",
       "2069 2011-12-08  124.476855  123.126484  123.959751  123.984661\n",
       "2070 2011-12-09  124.227770  122.895824  123.445260  123.445260\n",
       "2071 2011-12-12  123.745819  122.202555  123.681290  123.687906\n",
       "2072 2011-12-13  122.393352  121.174807  121.782641  121.832361\n",
       "2073 2011-12-14  120.796608  119.824855  120.508620  120.427021\n",
       "\n",
       "[2074 rows x 5 columns]"
      ]
     },
     "execution_count": 758,
     "metadata": {},
     "output_type": "execute_result"
    }
   ],
   "source": [
    "df_train"
   ]
  },
  {
   "cell_type": "code",
   "execution_count": null,
   "id": "3bf2d0dd-71a4-49da-8934-99b28974a48a",
   "metadata": {},
   "outputs": [],
   "source": []
  },
  {
   "cell_type": "code",
   "execution_count": null,
   "id": "7da7faf8-1581-4d96-8407-3467430efc80",
   "metadata": {},
   "outputs": [],
   "source": []
  },
  {
   "cell_type": "code",
   "execution_count": 759,
   "id": "471d0282-595c-43a4-8ca9-7c9c59bcff1f",
   "metadata": {},
   "outputs": [
    {
     "data": {
      "text/html": [
       "<div>\n",
       "<style scoped>\n",
       "    .dataframe tbody tr th:only-of-type {\n",
       "        vertical-align: middle;\n",
       "    }\n",
       "\n",
       "    .dataframe tbody tr th {\n",
       "        vertical-align: top;\n",
       "    }\n",
       "\n",
       "    .dataframe thead th {\n",
       "        text-align: right;\n",
       "    }\n",
       "</style>\n",
       "<table border=\"1\" class=\"dataframe\">\n",
       "  <thead>\n",
       "    <tr style=\"text-align: right;\">\n",
       "      <th></th>\n",
       "      <th>Date</th>\n",
       "      <th>High</th>\n",
       "      <th>Low</th>\n",
       "      <th>Open</th>\n",
       "      <th>Close</th>\n",
       "    </tr>\n",
       "  </thead>\n",
       "  <tbody>\n",
       "    <tr>\n",
       "      <th>0</th>\n",
       "      <td>2003-12-01</td>\n",
       "      <td>111.370639</td>\n",
       "      <td>110.482062</td>\n",
       "      <td>111.314347</td>\n",
       "      <td>110.676377</td>\n",
       "    </tr>\n",
       "    <tr>\n",
       "      <th>1</th>\n",
       "      <td>2003-12-02</td>\n",
       "      <td>112.008532</td>\n",
       "      <td>110.500532</td>\n",
       "      <td>110.639316</td>\n",
       "      <td>111.823016</td>\n",
       "    </tr>\n",
       "    <tr>\n",
       "      <th>2</th>\n",
       "      <td>2003-12-03</td>\n",
       "      <td>112.202814</td>\n",
       "      <td>111.712284</td>\n",
       "      <td>111.832477</td>\n",
       "      <td>112.137524</td>\n",
       "    </tr>\n",
       "    <tr>\n",
       "      <th>3</th>\n",
       "      <td>2003-12-04</td>\n",
       "      <td>112.332259</td>\n",
       "      <td>111.406851</td>\n",
       "      <td>112.110343</td>\n",
       "      <td>111.748717</td>\n",
       "    </tr>\n",
       "    <tr>\n",
       "      <th>4</th>\n",
       "      <td>2003-12-05</td>\n",
       "      <td>112.766375</td>\n",
       "      <td>111.609834</td>\n",
       "      <td>111.721723</td>\n",
       "      <td>112.729259</td>\n",
       "    </tr>\n",
       "    <tr>\n",
       "      <th>...</th>\n",
       "      <td>...</td>\n",
       "      <td>...</td>\n",
       "      <td>...</td>\n",
       "      <td>...</td>\n",
       "      <td>...</td>\n",
       "    </tr>\n",
       "    <tr>\n",
       "      <th>2069</th>\n",
       "      <td>2011-12-08</td>\n",
       "      <td>124.476855</td>\n",
       "      <td>123.126484</td>\n",
       "      <td>123.959751</td>\n",
       "      <td>123.984661</td>\n",
       "    </tr>\n",
       "    <tr>\n",
       "      <th>2070</th>\n",
       "      <td>2011-12-09</td>\n",
       "      <td>124.227770</td>\n",
       "      <td>122.895824</td>\n",
       "      <td>123.445260</td>\n",
       "      <td>123.445260</td>\n",
       "    </tr>\n",
       "    <tr>\n",
       "      <th>2071</th>\n",
       "      <td>2011-12-12</td>\n",
       "      <td>123.745819</td>\n",
       "      <td>122.202555</td>\n",
       "      <td>123.681290</td>\n",
       "      <td>123.687906</td>\n",
       "    </tr>\n",
       "    <tr>\n",
       "      <th>2072</th>\n",
       "      <td>2011-12-13</td>\n",
       "      <td>122.393352</td>\n",
       "      <td>121.174807</td>\n",
       "      <td>121.782641</td>\n",
       "      <td>121.832361</td>\n",
       "    </tr>\n",
       "    <tr>\n",
       "      <th>2073</th>\n",
       "      <td>2011-12-14</td>\n",
       "      <td>120.796608</td>\n",
       "      <td>119.824855</td>\n",
       "      <td>120.508620</td>\n",
       "      <td>120.427021</td>\n",
       "    </tr>\n",
       "  </tbody>\n",
       "</table>\n",
       "<p>2074 rows × 5 columns</p>\n",
       "</div>"
      ],
      "text/plain": [
       "           Date        High         Low        Open       Close\n",
       "0    2003-12-01  111.370639  110.482062  111.314347  110.676377\n",
       "1    2003-12-02  112.008532  110.500532  110.639316  111.823016\n",
       "2    2003-12-03  112.202814  111.712284  111.832477  112.137524\n",
       "3    2003-12-04  112.332259  111.406851  112.110343  111.748717\n",
       "4    2003-12-05  112.766375  111.609834  111.721723  112.729259\n",
       "...         ...         ...         ...         ...         ...\n",
       "2069 2011-12-08  124.476855  123.126484  123.959751  123.984661\n",
       "2070 2011-12-09  124.227770  122.895824  123.445260  123.445260\n",
       "2071 2011-12-12  123.745819  122.202555  123.681290  123.687906\n",
       "2072 2011-12-13  122.393352  121.174807  121.782641  121.832361\n",
       "2073 2011-12-14  120.796608  119.824855  120.508620  120.427021\n",
       "\n",
       "[2074 rows x 5 columns]"
      ]
     },
     "execution_count": 759,
     "metadata": {},
     "output_type": "execute_result"
    }
   ],
   "source": [
    "df_train"
   ]
  },
  {
   "cell_type": "code",
   "execution_count": 760,
   "id": "7b361acc-8505-4ed0-86e7-407131ef93a8",
   "metadata": {},
   "outputs": [
    {
     "name": "stdout",
     "output_type": "stream",
     "text": [
      "<class 'pandas.core.frame.DataFrame'>\n",
      "RangeIndex: 2074 entries, 0 to 2073\n",
      "Data columns (total 5 columns):\n",
      " #   Column  Non-Null Count  Dtype         \n",
      "---  ------  --------------  -----         \n",
      " 0   Date    2074 non-null   datetime64[ns]\n",
      " 1   High    2074 non-null   float64       \n",
      " 2   Low     2074 non-null   float64       \n",
      " 3   Open    2074 non-null   float64       \n",
      " 4   Close   2074 non-null   float64       \n",
      "dtypes: datetime64[ns](1), float64(4)\n",
      "memory usage: 81.1 KB\n"
     ]
    }
   ],
   "source": [
    "# Dateが日付型に変更されたかどうかの確認\n",
    "df_train.info()"
   ]
  },
  {
   "cell_type": "code",
   "execution_count": 761,
   "id": "f971f30a-5bbb-42ba-bf00-b73a0e714957",
   "metadata": {},
   "outputs": [
    {
     "name": "stdout",
     "output_type": "stream",
     "text": [
      "<class 'pandas.core.frame.DataFrame'>\n",
      "RangeIndex: 1246 entries, 0 to 1245\n",
      "Data columns (total 5 columns):\n",
      " #   Column  Non-Null Count  Dtype         \n",
      "---  ------  --------------  -----         \n",
      " 0   Date    1246 non-null   datetime64[ns]\n",
      " 1   High    1246 non-null   float64       \n",
      " 2   Low     1246 non-null   float64       \n",
      " 3   Open    1246 non-null   float64       \n",
      " 4   Close   1246 non-null   float64       \n",
      "dtypes: datetime64[ns](1), float64(4)\n",
      "memory usage: 48.8 KB\n"
     ]
    }
   ],
   "source": [
    "# Dateが日付型に変更されたかどうかの確認\n",
    "df_test.info()"
   ]
  },
  {
   "cell_type": "code",
   "execution_count": 762,
   "id": "c3d01ae3-29c4-4664-bf9c-f5d5487f5061",
   "metadata": {},
   "outputs": [
    {
     "name": "stdout",
     "output_type": "stream",
     "text": [
      "<class 'pandas.core.frame.DataFrame'>\n",
      "RangeIndex: 10 entries, 0 to 9\n",
      "Data columns (total 5 columns):\n",
      " #   Column  Non-Null Count  Dtype         \n",
      "---  ------  --------------  -----         \n",
      " 0   Date    10 non-null     datetime64[ns]\n",
      " 1   High    10 non-null     float64       \n",
      " 2   Low     10 non-null     float64       \n",
      " 3   Open    10 non-null     float64       \n",
      " 4   Close   10 non-null     float64       \n",
      "dtypes: datetime64[ns](1), float64(4)\n",
      "memory usage: 528.0 bytes\n"
     ]
    }
   ],
   "source": [
    "# Dateが日付型に変更されたかどうかの確認\n",
    "df_latest.info()"
   ]
  },
  {
   "cell_type": "code",
   "execution_count": 763,
   "id": "0b70002f-c2d3-4590-84fe-02ca7555b0a7",
   "metadata": {},
   "outputs": [
    {
     "data": {
      "text/html": [
       "<div>\n",
       "<style scoped>\n",
       "    .dataframe tbody tr th:only-of-type {\n",
       "        vertical-align: middle;\n",
       "    }\n",
       "\n",
       "    .dataframe tbody tr th {\n",
       "        vertical-align: top;\n",
       "    }\n",
       "\n",
       "    .dataframe thead th {\n",
       "        text-align: right;\n",
       "    }\n",
       "</style>\n",
       "<table border=\"1\" class=\"dataframe\">\n",
       "  <thead>\n",
       "    <tr style=\"text-align: right;\">\n",
       "      <th></th>\n",
       "      <th>Date</th>\n",
       "      <th>High</th>\n",
       "      <th>Low</th>\n",
       "      <th>Open</th>\n",
       "      <th>Close</th>\n",
       "    </tr>\n",
       "  </thead>\n",
       "  <tbody>\n",
       "    <tr>\n",
       "      <th>0</th>\n",
       "      <td>2003-12-01</td>\n",
       "      <td>111.370639</td>\n",
       "      <td>110.482062</td>\n",
       "      <td>111.314347</td>\n",
       "      <td>110.676377</td>\n",
       "    </tr>\n",
       "    <tr>\n",
       "      <th>1</th>\n",
       "      <td>2003-12-02</td>\n",
       "      <td>112.008532</td>\n",
       "      <td>110.500532</td>\n",
       "      <td>110.639316</td>\n",
       "      <td>111.823016</td>\n",
       "    </tr>\n",
       "    <tr>\n",
       "      <th>2</th>\n",
       "      <td>2003-12-03</td>\n",
       "      <td>112.202814</td>\n",
       "      <td>111.712284</td>\n",
       "      <td>111.832477</td>\n",
       "      <td>112.137524</td>\n",
       "    </tr>\n",
       "    <tr>\n",
       "      <th>3</th>\n",
       "      <td>2003-12-04</td>\n",
       "      <td>112.332259</td>\n",
       "      <td>111.406851</td>\n",
       "      <td>112.110343</td>\n",
       "      <td>111.748717</td>\n",
       "    </tr>\n",
       "    <tr>\n",
       "      <th>4</th>\n",
       "      <td>2003-12-05</td>\n",
       "      <td>112.766375</td>\n",
       "      <td>111.609834</td>\n",
       "      <td>111.721723</td>\n",
       "      <td>112.729259</td>\n",
       "    </tr>\n",
       "  </tbody>\n",
       "</table>\n",
       "</div>"
      ],
      "text/plain": [
       "        Date        High         Low        Open       Close\n",
       "0 2003-12-01  111.370639  110.482062  111.314347  110.676377\n",
       "1 2003-12-02  112.008532  110.500532  110.639316  111.823016\n",
       "2 2003-12-03  112.202814  111.712284  111.832477  112.137524\n",
       "3 2003-12-04  112.332259  111.406851  112.110343  111.748717\n",
       "4 2003-12-05  112.766375  111.609834  111.721723  112.729259"
      ]
     },
     "execution_count": 763,
     "metadata": {},
     "output_type": "execute_result"
    }
   ],
   "source": [
    "df_train.head()"
   ]
  },
  {
   "cell_type": "code",
   "execution_count": 764,
   "id": "76b90fff-1164-4658-9e98-b04a27913fbb",
   "metadata": {},
   "outputs": [
    {
     "data": {
      "text/html": [
       "<div>\n",
       "<style scoped>\n",
       "    .dataframe tbody tr th:only-of-type {\n",
       "        vertical-align: middle;\n",
       "    }\n",
       "\n",
       "    .dataframe tbody tr th {\n",
       "        vertical-align: top;\n",
       "    }\n",
       "\n",
       "    .dataframe thead th {\n",
       "        text-align: right;\n",
       "    }\n",
       "</style>\n",
       "<table border=\"1\" class=\"dataframe\">\n",
       "  <thead>\n",
       "    <tr style=\"text-align: right;\">\n",
       "      <th></th>\n",
       "      <th>High</th>\n",
       "      <th>Low</th>\n",
       "      <th>Open</th>\n",
       "      <th>Close</th>\n",
       "    </tr>\n",
       "  </thead>\n",
       "  <tbody>\n",
       "    <tr>\n",
       "      <th>count</th>\n",
       "      <td>2074.000000</td>\n",
       "      <td>2074.000000</td>\n",
       "      <td>2074.000000</td>\n",
       "      <td>2074.000000</td>\n",
       "    </tr>\n",
       "    <tr>\n",
       "      <th>mean</th>\n",
       "      <td>124.078238</td>\n",
       "      <td>122.910559</td>\n",
       "      <td>123.526205</td>\n",
       "      <td>123.529490</td>\n",
       "    </tr>\n",
       "    <tr>\n",
       "      <th>std</th>\n",
       "      <td>9.210193</td>\n",
       "      <td>9.493319</td>\n",
       "      <td>9.188003</td>\n",
       "      <td>9.184970</td>\n",
       "    </tr>\n",
       "    <tr>\n",
       "      <th>min</th>\n",
       "      <td>108.520946</td>\n",
       "      <td>6.743457</td>\n",
       "      <td>107.993884</td>\n",
       "      <td>107.998923</td>\n",
       "    </tr>\n",
       "    <tr>\n",
       "      <th>25%</th>\n",
       "      <td>117.002707</td>\n",
       "      <td>115.863246</td>\n",
       "      <td>116.408944</td>\n",
       "      <td>116.427990</td>\n",
       "    </tr>\n",
       "    <tr>\n",
       "      <th>50%</th>\n",
       "      <td>123.242134</td>\n",
       "      <td>121.951219</td>\n",
       "      <td>122.590435</td>\n",
       "      <td>122.573382</td>\n",
       "    </tr>\n",
       "    <tr>\n",
       "      <th>75%</th>\n",
       "      <td>130.814157</td>\n",
       "      <td>129.393252</td>\n",
       "      <td>130.201913</td>\n",
       "      <td>130.179930</td>\n",
       "    </tr>\n",
       "    <tr>\n",
       "      <th>max</th>\n",
       "      <td>148.260942</td>\n",
       "      <td>146.834717</td>\n",
       "      <td>147.832063</td>\n",
       "      <td>147.888796</td>\n",
       "    </tr>\n",
       "  </tbody>\n",
       "</table>\n",
       "</div>"
      ],
      "text/plain": [
       "              High          Low         Open        Close\n",
       "count  2074.000000  2074.000000  2074.000000  2074.000000\n",
       "mean    124.078238   122.910559   123.526205   123.529490\n",
       "std       9.210193     9.493319     9.188003     9.184970\n",
       "min     108.520946     6.743457   107.993884   107.998923\n",
       "25%     117.002707   115.863246   116.408944   116.427990\n",
       "50%     123.242134   121.951219   122.590435   122.573382\n",
       "75%     130.814157   129.393252   130.201913   130.179930\n",
       "max     148.260942   146.834717   147.832063   147.888796"
      ]
     },
     "execution_count": 764,
     "metadata": {},
     "output_type": "execute_result"
    }
   ],
   "source": [
    "#データの確認\n",
    "df_train.describe()"
   ]
  },
  {
   "cell_type": "code",
   "execution_count": 765,
   "id": "7cea939b-e54c-488b-9e8c-5b2ec3edfc5f",
   "metadata": {},
   "outputs": [
    {
     "data": {
      "text/html": [
       "<div>\n",
       "<style scoped>\n",
       "    .dataframe tbody tr th:only-of-type {\n",
       "        vertical-align: middle;\n",
       "    }\n",
       "\n",
       "    .dataframe tbody tr th {\n",
       "        vertical-align: top;\n",
       "    }\n",
       "\n",
       "    .dataframe thead th {\n",
       "        text-align: right;\n",
       "    }\n",
       "</style>\n",
       "<table border=\"1\" class=\"dataframe\">\n",
       "  <thead>\n",
       "    <tr style=\"text-align: right;\">\n",
       "      <th></th>\n",
       "      <th>High</th>\n",
       "      <th>Low</th>\n",
       "      <th>Open</th>\n",
       "      <th>Close</th>\n",
       "    </tr>\n",
       "  </thead>\n",
       "  <tbody>\n",
       "    <tr>\n",
       "      <th>count</th>\n",
       "      <td>1246.000000</td>\n",
       "      <td>1246.000000</td>\n",
       "      <td>1246.000000</td>\n",
       "      <td>1246.000000</td>\n",
       "    </tr>\n",
       "    <tr>\n",
       "      <th>mean</th>\n",
       "      <td>111.424603</td>\n",
       "      <td>110.675657</td>\n",
       "      <td>111.069958</td>\n",
       "      <td>111.070373</td>\n",
       "    </tr>\n",
       "    <tr>\n",
       "      <th>std</th>\n",
       "      <td>9.206534</td>\n",
       "      <td>9.270658</td>\n",
       "      <td>9.215541</td>\n",
       "      <td>9.214999</td>\n",
       "    </tr>\n",
       "    <tr>\n",
       "      <th>min</th>\n",
       "      <td>96.767439</td>\n",
       "      <td>70.352906</td>\n",
       "      <td>96.364197</td>\n",
       "      <td>96.357173</td>\n",
       "    </tr>\n",
       "    <tr>\n",
       "      <th>25%</th>\n",
       "      <td>103.722807</td>\n",
       "      <td>103.064503</td>\n",
       "      <td>103.422443</td>\n",
       "      <td>103.422154</td>\n",
       "    </tr>\n",
       "    <tr>\n",
       "      <th>50%</th>\n",
       "      <td>108.456692</td>\n",
       "      <td>107.796669</td>\n",
       "      <td>108.091687</td>\n",
       "      <td>108.082215</td>\n",
       "    </tr>\n",
       "    <tr>\n",
       "      <th>75%</th>\n",
       "      <td>120.690221</td>\n",
       "      <td>119.751722</td>\n",
       "      <td>120.218867</td>\n",
       "      <td>120.219641</td>\n",
       "    </tr>\n",
       "    <tr>\n",
       "      <th>max</th>\n",
       "      <td>129.417693</td>\n",
       "      <td>128.691531</td>\n",
       "      <td>128.851618</td>\n",
       "      <td>128.858797</td>\n",
       "    </tr>\n",
       "  </tbody>\n",
       "</table>\n",
       "</div>"
      ],
      "text/plain": [
       "              High          Low         Open        Close\n",
       "count  1246.000000  1246.000000  1246.000000  1246.000000\n",
       "mean    111.424603   110.675657   111.069958   111.070373\n",
       "std       9.206534     9.270658     9.215541     9.214999\n",
       "min      96.767439    70.352906    96.364197    96.357173\n",
       "25%     103.722807   103.064503   103.422443   103.422154\n",
       "50%     108.456692   107.796669   108.091687   108.082215\n",
       "75%     120.690221   119.751722   120.218867   120.219641\n",
       "max     129.417693   128.691531   128.851618   128.858797"
      ]
     },
     "execution_count": 765,
     "metadata": {},
     "output_type": "execute_result"
    }
   ],
   "source": [
    "#データの確認\n",
    "df_test.describe()"
   ]
  },
  {
   "cell_type": "code",
   "execution_count": 766,
   "id": "53a008b3-0eac-447d-bc02-653b63a9cb5b",
   "metadata": {},
   "outputs": [
    {
     "data": {
      "text/html": [
       "<div>\n",
       "<style scoped>\n",
       "    .dataframe tbody tr th:only-of-type {\n",
       "        vertical-align: middle;\n",
       "    }\n",
       "\n",
       "    .dataframe tbody tr th {\n",
       "        vertical-align: top;\n",
       "    }\n",
       "\n",
       "    .dataframe thead th {\n",
       "        text-align: right;\n",
       "    }\n",
       "</style>\n",
       "<table border=\"1\" class=\"dataframe\">\n",
       "  <thead>\n",
       "    <tr style=\"text-align: right;\">\n",
       "      <th></th>\n",
       "      <th>High</th>\n",
       "      <th>Low</th>\n",
       "      <th>Open</th>\n",
       "      <th>Close</th>\n",
       "    </tr>\n",
       "  </thead>\n",
       "  <tbody>\n",
       "    <tr>\n",
       "      <th>count</th>\n",
       "      <td>10.000000</td>\n",
       "      <td>10.000000</td>\n",
       "      <td>10.000000</td>\n",
       "      <td>10.000000</td>\n",
       "    </tr>\n",
       "    <tr>\n",
       "      <th>mean</th>\n",
       "      <td>103.334161</td>\n",
       "      <td>102.926054</td>\n",
       "      <td>103.071625</td>\n",
       "      <td>103.074446</td>\n",
       "    </tr>\n",
       "    <tr>\n",
       "      <th>std</th>\n",
       "      <td>0.361769</td>\n",
       "      <td>0.337125</td>\n",
       "      <td>0.340458</td>\n",
       "      <td>0.340053</td>\n",
       "    </tr>\n",
       "    <tr>\n",
       "      <th>min</th>\n",
       "      <td>102.720708</td>\n",
       "      <td>102.515795</td>\n",
       "      <td>102.629538</td>\n",
       "      <td>102.632956</td>\n",
       "    </tr>\n",
       "    <tr>\n",
       "      <th>25%</th>\n",
       "      <td>103.155731</td>\n",
       "      <td>102.769785</td>\n",
       "      <td>102.843781</td>\n",
       "      <td>102.842064</td>\n",
       "    </tr>\n",
       "    <tr>\n",
       "      <th>50%</th>\n",
       "      <td>103.281038</td>\n",
       "      <td>102.817198</td>\n",
       "      <td>103.000376</td>\n",
       "      <td>103.011844</td>\n",
       "    </tr>\n",
       "    <tr>\n",
       "      <th>75%</th>\n",
       "      <td>103.464673</td>\n",
       "      <td>102.943638</td>\n",
       "      <td>103.359891</td>\n",
       "      <td>103.364806</td>\n",
       "    </tr>\n",
       "    <tr>\n",
       "      <th>max</th>\n",
       "      <td>103.979324</td>\n",
       "      <td>103.606639</td>\n",
       "      <td>103.641461</td>\n",
       "      <td>103.621249</td>\n",
       "    </tr>\n",
       "  </tbody>\n",
       "</table>\n",
       "</div>"
      ],
      "text/plain": [
       "             High         Low        Open       Close\n",
       "count   10.000000   10.000000   10.000000   10.000000\n",
       "mean   103.334161  102.926054  103.071625  103.074446\n",
       "std      0.361769    0.337125    0.340458    0.340053\n",
       "min    102.720708  102.515795  102.629538  102.632956\n",
       "25%    103.155731  102.769785  102.843781  102.842064\n",
       "50%    103.281038  102.817198  103.000376  103.011844\n",
       "75%    103.464673  102.943638  103.359891  103.364806\n",
       "max    103.979324  103.606639  103.641461  103.621249"
      ]
     },
     "execution_count": 766,
     "metadata": {},
     "output_type": "execute_result"
    }
   ],
   "source": [
    "#データの確認\n",
    "df_latest.describe()"
   ]
  },
  {
   "cell_type": "code",
   "execution_count": 767,
   "id": "ff9f9180-63d6-439c-a3b6-9678dcd82ef9",
   "metadata": {},
   "outputs": [
    {
     "name": "stdout",
     "output_type": "stream",
     "text": [
      "欠損データ確認(df_train)\n",
      "Date     0\n",
      "High     0\n",
      "Low      0\n",
      "Open     0\n",
      "Close    0\n",
      "dtype: int64\n",
      "\n",
      "欠損データを確認(df_test)\n",
      "Date     0\n",
      "High     0\n",
      "Low      0\n",
      "Open     0\n",
      "Close    0\n",
      "dtype: int64\n",
      "\n"
     ]
    }
   ],
   "source": [
    "#欠損値の確認\n",
    "print(f'欠損データ確認(df_train)\\n{df_train.isnull().sum()}\\n')\n",
    "print(f'欠損データを確認(df_test)\\n{df_test.isnull().sum()}\\n')"
   ]
  },
  {
   "cell_type": "markdown",
   "id": "bb1d6d20-44c1-4117-b827-daacdf15c766",
   "metadata": {},
   "source": [
    "##　配列の型などを調べるための関数"
   ]
  },
  {
   "cell_type": "code",
   "execution_count": 768,
   "id": "d174b86d-c0f8-4ea9-9670-ab083c337a2a",
   "metadata": {},
   "outputs": [],
   "source": [
    "# 変数名をそのままprint関数内で表示させる関数\n",
    "def chkprint(*args):\n",
    "    for obj in args:\n",
    "        for k, v in globals().items():\n",
    "            if id(v) == id(obj):\n",
    "                target = k\n",
    "                break          \n",
    "    return target\n",
    "\n",
    "# データがどのデータ型か、列数、行数を表示する関数\n",
    "def typeInfo(targetData):\n",
    "    if (type(targetData) is pd.core.frame.DataFrame):\n",
    "        print(\"{} は DataFrame型\".format(chkprint(targetData)))\n",
    "        print(\"{} の行数, 列数・・・{}\\n\".format(chkprint(targetData), targetData.shape))     # shapeの表示内容は、(行数, 列数)となる\n",
    "    if (type(targetData) is list):\n",
    "        print(\"{} は list型\".format(chkprint(targetData)))\n",
    "        print(\"{} の行数, 列数・・・{}\\n\".format(chkprint(targetData), pd.DataFrame(targetData).shape))    # shapeの表示内容は、(行数, 列数)となる\n",
    "    if (type(targetData) is np.ndarray):\n",
    "        print(\"{} は ndarray型\".format(chkprint(targetData)))\n",
    "        print(\"{} の行数, 列数・・・{}\\n\".format(chkprint(targetData), targetData.shape))     # shapeの表示内容は、(行数, 列数)となる\n",
    "    if (type(targetData) is pd.core.series.Series):\n",
    "        print(\"{} は Series型\".format(chkprint(targetData)))\n",
    "        print(\"{} の行数, 列数・・・{}\\n\".format(chkprint(targetData), targetData.shape))     # shapeの表示内容は、(行数, 列数)となる"
   ]
  },
  {
   "cell_type": "markdown",
   "id": "b8daff79-41e9-4b9e-9c3b-cb6856a3d546",
   "metadata": {},
   "source": [
    "## Trainデータを学習用と検証用に分割\n",
    "#### (train:2003/12/1-2011/12/14 →これを8:2に分割する| test:2011/12/15-2019/12/31)"
   ]
  },
  {
   "cell_type": "code",
   "execution_count": 769,
   "id": "3d7b24b3-74fa-45be-a4a9-6e746c33313d",
   "metadata": {},
   "outputs": [],
   "source": [
    "# 不要\n",
    "# Trainデータを学習用と検証用に分割\n",
    "# 今回は①学習用：8割、②検証用：2割にTrainデータを分割して、①の予測モデルで\n",
    "# ②が正しく評価できるのかを確認した上で、testデータへの予測モデルの適用を行う"
   ]
  },
  {
   "cell_type": "code",
   "execution_count": 770,
   "id": "bc0c2e46-645b-4ae4-bb7e-56594743302d",
   "metadata": {},
   "outputs": [],
   "source": [
    "# 不要\n",
    "# train_test_splitというDataFrameを分けてくれる関数がsklearnにあるのでそれを使う\n",
    "# from sklearn.model_selection import train_test_split\n",
    "\n",
    "# df_train, df_validation = train_test_split(df_train, train_size=0.8, test_size=0.2, shuffle=False)"
   ]
  },
  {
   "cell_type": "code",
   "execution_count": 771,
   "id": "4369f120-d765-4eda-b9a0-c05d5e42ba7d",
   "metadata": {},
   "outputs": [],
   "source": [
    "# 不要\n",
    "# # 分割後のサイズ\n",
    "# print(f'①学習用データのサイズ(df_train)：{len(df_train)}')\n",
    "# print(f'②検証用データのサイズ(df_validation)：{len(df_validation)}')\n",
    "# print(f'元々のdf_trainのサイズが8:2に分割された\\n')\n",
    "\n",
    "# # 分割後の詳細\n",
    "# print(f'分割後のサマリ(df_train)\\n{df_train.describe()}\\n')\n",
    "# print(f'分割後のサマリ(df_validation)\\n{df_validation.describe()}\\n')"
   ]
  },
  {
   "cell_type": "markdown",
   "id": "d7dfd235-6e7e-4edf-9c77-57c361aaa484",
   "metadata": {},
   "source": [
    "## *Train/test/latestデータの縦結合(直接今回の課題とは関係なし)"
   ]
  },
  {
   "cell_type": "code",
   "execution_count": 772,
   "id": "c795d972-8f7f-42bc-80cd-8e20d17ff5cf",
   "metadata": {},
   "outputs": [],
   "source": [
    "# df_Merged=pd.concat([df_train,df_test,df_latest])\n",
    "df_Merged = pd.DataFrame(np.concatenate([df_train.values, df_test.values, df_latest.values]), columns=df_train.columns)"
   ]
  },
  {
   "cell_type": "code",
   "execution_count": 773,
   "id": "4149f652-b151-4388-86ac-d2f5f136d350",
   "metadata": {},
   "outputs": [
    {
     "data": {
      "text/html": [
       "<div>\n",
       "<style scoped>\n",
       "    .dataframe tbody tr th:only-of-type {\n",
       "        vertical-align: middle;\n",
       "    }\n",
       "\n",
       "    .dataframe tbody tr th {\n",
       "        vertical-align: top;\n",
       "    }\n",
       "\n",
       "    .dataframe thead th {\n",
       "        text-align: right;\n",
       "    }\n",
       "</style>\n",
       "<table border=\"1\" class=\"dataframe\">\n",
       "  <thead>\n",
       "    <tr style=\"text-align: right;\">\n",
       "      <th></th>\n",
       "      <th>Date</th>\n",
       "      <th>High</th>\n",
       "      <th>Low</th>\n",
       "      <th>Open</th>\n",
       "      <th>Close</th>\n",
       "    </tr>\n",
       "  </thead>\n",
       "  <tbody>\n",
       "    <tr>\n",
       "      <th>0</th>\n",
       "      <td>2003-12-01</td>\n",
       "      <td>111.370639</td>\n",
       "      <td>110.482062</td>\n",
       "      <td>111.314347</td>\n",
       "      <td>110.676377</td>\n",
       "    </tr>\n",
       "    <tr>\n",
       "      <th>1</th>\n",
       "      <td>2003-12-02</td>\n",
       "      <td>112.008532</td>\n",
       "      <td>110.500532</td>\n",
       "      <td>110.639316</td>\n",
       "      <td>111.823016</td>\n",
       "    </tr>\n",
       "    <tr>\n",
       "      <th>2</th>\n",
       "      <td>2003-12-03</td>\n",
       "      <td>112.202814</td>\n",
       "      <td>111.712284</td>\n",
       "      <td>111.832477</td>\n",
       "      <td>112.137524</td>\n",
       "    </tr>\n",
       "    <tr>\n",
       "      <th>3</th>\n",
       "      <td>2003-12-04</td>\n",
       "      <td>112.332259</td>\n",
       "      <td>111.406851</td>\n",
       "      <td>112.110343</td>\n",
       "      <td>111.748717</td>\n",
       "    </tr>\n",
       "    <tr>\n",
       "      <th>4</th>\n",
       "      <td>2003-12-05</td>\n",
       "      <td>112.766375</td>\n",
       "      <td>111.609834</td>\n",
       "      <td>111.721723</td>\n",
       "      <td>112.729259</td>\n",
       "    </tr>\n",
       "    <tr>\n",
       "      <th>...</th>\n",
       "      <td>...</td>\n",
       "      <td>...</td>\n",
       "      <td>...</td>\n",
       "      <td>...</td>\n",
       "      <td>...</td>\n",
       "    </tr>\n",
       "    <tr>\n",
       "      <th>3325</th>\n",
       "      <td>2019-12-19</td>\n",
       "      <td>103.067513</td>\n",
       "      <td>102.766359</td>\n",
       "      <td>102.822331</td>\n",
       "      <td>102.822331</td>\n",
       "    </tr>\n",
       "    <tr>\n",
       "      <th>3326</th>\n",
       "      <td>2019-12-26</td>\n",
       "      <td>102.720708</td>\n",
       "      <td>102.515795</td>\n",
       "      <td>102.629538</td>\n",
       "      <td>102.632956</td>\n",
       "    </tr>\n",
       "    <tr>\n",
       "      <th>3327</th>\n",
       "      <td>2019-12-27</td>\n",
       "      <td>103.421288</td>\n",
       "      <td>102.67499</td>\n",
       "      <td>102.686502</td>\n",
       "      <td>102.685356</td>\n",
       "    </tr>\n",
       "    <tr>\n",
       "      <th>3328</th>\n",
       "      <td>2019-12-30</td>\n",
       "      <td>103.791471</td>\n",
       "      <td>103.429382</td>\n",
       "      <td>103.429382</td>\n",
       "      <td>103.436318</td>\n",
       "    </tr>\n",
       "    <tr>\n",
       "      <th>3329</th>\n",
       "      <td>2019-12-31</td>\n",
       "      <td>103.979324</td>\n",
       "      <td>103.606639</td>\n",
       "      <td>103.641461</td>\n",
       "      <td>103.621249</td>\n",
       "    </tr>\n",
       "  </tbody>\n",
       "</table>\n",
       "<p>3330 rows × 5 columns</p>\n",
       "</div>"
      ],
      "text/plain": [
       "           Date        High         Low        Open       Close\n",
       "0    2003-12-01  111.370639  110.482062  111.314347  110.676377\n",
       "1    2003-12-02  112.008532  110.500532  110.639316  111.823016\n",
       "2    2003-12-03  112.202814  111.712284  111.832477  112.137524\n",
       "3    2003-12-04  112.332259  111.406851  112.110343  111.748717\n",
       "4    2003-12-05  112.766375  111.609834  111.721723  112.729259\n",
       "...         ...         ...         ...         ...         ...\n",
       "3325 2019-12-19  103.067513  102.766359  102.822331  102.822331\n",
       "3326 2019-12-26  102.720708  102.515795  102.629538  102.632956\n",
       "3327 2019-12-27  103.421288   102.67499  102.686502  102.685356\n",
       "3328 2019-12-30  103.791471  103.429382  103.429382  103.436318\n",
       "3329 2019-12-31  103.979324  103.606639  103.641461  103.621249\n",
       "\n",
       "[3330 rows x 5 columns]"
      ]
     },
     "execution_count": 773,
     "metadata": {},
     "output_type": "execute_result"
    }
   ],
   "source": [
    "df_Merged"
   ]
  },
  {
   "cell_type": "code",
   "execution_count": 774,
   "id": "6a29bd61-a43a-45fd-a1db-1e76783b8215",
   "metadata": {},
   "outputs": [
    {
     "name": "stdout",
     "output_type": "stream",
     "text": [
      "<class 'pandas.core.frame.DataFrame'>\n",
      "RangeIndex: 3330 entries, 0 to 3329\n",
      "Data columns (total 5 columns):\n",
      " #   Column  Non-Null Count  Dtype         \n",
      "---  ------  --------------  -----         \n",
      " 0   Date    3330 non-null   datetime64[ns]\n",
      " 1   High    3330 non-null   object        \n",
      " 2   Low     3330 non-null   object        \n",
      " 3   Open    3330 non-null   object        \n",
      " 4   Close   3330 non-null   object        \n",
      "dtypes: datetime64[ns](1), object(4)\n",
      "memory usage: 130.2+ KB\n"
     ]
    }
   ],
   "source": [
    "df_Merged.info()"
   ]
  },
  {
   "cell_type": "code",
   "execution_count": null,
   "id": "0b735007-6b11-4a6f-9e7c-92f7096b68a5",
   "metadata": {},
   "outputs": [],
   "source": []
  },
  {
   "cell_type": "code",
   "execution_count": null,
   "id": "9b2f07cb-5352-4a71-adb4-809876b30766",
   "metadata": {},
   "outputs": [],
   "source": []
  },
  {
   "cell_type": "code",
   "execution_count": null,
   "id": "61f2215c-ec75-4c7a-8473-1d072eeaedf5",
   "metadata": {},
   "outputs": [],
   "source": []
  },
  {
   "cell_type": "markdown",
   "id": "98046edc-d7e6-4ebe-99b5-aba997bf9928",
   "metadata": {},
   "source": [
    "##　LSTMモデルへ訓練させるための前処理"
   ]
  },
  {
   "cell_type": "code",
   "execution_count": null,
   "id": "1f7648c3-ab46-48f5-a127-d7c487ee54ed",
   "metadata": {},
   "outputs": [],
   "source": []
  },
  {
   "cell_type": "code",
   "execution_count": 775,
   "id": "5e9a590f-91d7-4e21-9a15-97337650d61d",
   "metadata": {},
   "outputs": [],
   "source": [
    "# 多項式特徴量を適用してみる\n",
    "df_train['Close']=df_train['Close']**2\n"
   ]
  },
  {
   "cell_type": "code",
   "execution_count": null,
   "id": "d81ba1df-e0fb-4d6d-8d0b-86c32e893ddc",
   "metadata": {},
   "outputs": [],
   "source": []
  },
  {
   "cell_type": "code",
   "execution_count": 776,
   "id": "6ab9e7c4-fadc-4428-b3d8-73d1f845386d",
   "metadata": {},
   "outputs": [],
   "source": [
    "##　LSTMモデルへ訓練させるための前処理"
   ]
  },
  {
   "cell_type": "code",
   "execution_count": 777,
   "id": "490de5d6-ec84-4808-ba49-a198c1d9523e",
   "metadata": {},
   "outputs": [],
   "source": [
    "# windowを設定\n",
    "window_len=6\n",
    "# window_len=6 #11/6の中間報告でのアドバイスを受け修正しようとしたが、後に出てくる未来予測のところでエラーが出るため一旦保留"
   ]
  },
  {
   "cell_type": "code",
   "execution_count": null,
   "id": "231909a5-3252-43c5-b43c-9efadcb299ee",
   "metadata": {},
   "outputs": [],
   "source": []
  },
  {
   "cell_type": "code",
   "execution_count": 778,
   "id": "d9b2e854-58f3-4c35-bf80-f955ec00f65c",
   "metadata": {},
   "outputs": [],
   "source": [
    "# # Closeの単価だけ抽出\n",
    "# df_train=df_train['Close']\n",
    "# df_test=df_test['Close']\n",
    "# df_latest=df_latest['Close']"
   ]
  },
  {
   "cell_type": "code",
   "execution_count": 779,
   "id": "c0a418ea-b9b7-42e0-a559-6e30a000acd9",
   "metadata": {},
   "outputs": [],
   "source": [
    "# Dateそぎ落とし\n",
    "# del df_train['Date']\n",
    "# del df_test['Date']\n",
    "# del df_latest['Date']"
   ]
  },
  {
   "cell_type": "code",
   "execution_count": 780,
   "id": "a85e43d5-3358-4cc6-96c5-3b6f0c93a5ba",
   "metadata": {},
   "outputs": [],
   "source": [
    "# Dateをインデックスに指定\n",
    "df_train.set_index('Date',inplace=True)\n",
    "df_test.set_index('Date',inplace=True)\n",
    "df_latest.set_index('Date',inplace=True)"
   ]
  },
  {
   "cell_type": "code",
   "execution_count": 781,
   "id": "4ff1869f-149e-4bc3-b6e7-e80e712c7507",
   "metadata": {},
   "outputs": [
    {
     "data": {
      "text/plain": [
       "[<matplotlib.lines.Line2D at 0x7f890a0c3c70>,\n",
       " <matplotlib.lines.Line2D at 0x7f890c5569a0>,\n",
       " <matplotlib.lines.Line2D at 0x7f890c556c10>,\n",
       " <matplotlib.lines.Line2D at 0x7f8907e50e20>]"
      ]
     },
     "execution_count": 781,
     "metadata": {},
     "output_type": "execute_result"
    },
    {
     "data": {
      "image/png": "[encoded data removed]",
      "text/plain": [
       "<Figure size 2160x720 with 1 Axes>"
      ]
     },
     "metadata": {
      "needs_background": "light"
     },
     "output_type": "display_data"
    }
   ],
   "source": [
    "fig = plt.subplots(figsize=(30,10))\n",
    "plt.plot(df_train)"
   ]
  },
  {
   "cell_type": "code",
   "execution_count": 782,
   "id": "0695a4ff-f7a4-410d-a11d-17dfe011099a",
   "metadata": {},
   "outputs": [
    {
     "name": "stdout",
     "output_type": "stream",
     "text": [
      "単価抽出後のサマリ(df_train)\n",
      "              High          Low         Open         Close\n",
      "count  2074.000000  2074.000000  2074.000000   2074.000000\n",
      "mean    124.078238   122.910559   123.526205  15343.857776\n",
      "std       9.210193     9.493319     9.188003   2314.279286\n",
      "min     108.520946     6.743457   107.993884  11663.767447\n",
      "25%     117.002707   115.863246   116.408944  13555.476925\n",
      "50%     123.242134   121.951219   122.590435  15024.234077\n",
      "75%     130.814157   129.393252   130.201913  16946.814362\n",
      "max     148.260942   146.834717   147.832063  21871.096080\n",
      "\n",
      "単価抽出後のサマリ(df_test)\n",
      "              High          Low         Open        Close\n",
      "count  1246.000000  1246.000000  1246.000000  1246.000000\n",
      "mean    111.424603   110.675657   111.069958   111.070373\n",
      "std       9.206534     9.270658     9.215541     9.214999\n",
      "min      96.767439    70.352906    96.364197    96.357173\n",
      "25%     103.722807   103.064503   103.422443   103.422154\n",
      "50%     108.456692   107.796669   108.091687   108.082215\n",
      "75%     120.690221   119.751722   120.218867   120.219641\n",
      "max     129.417693   128.691531   128.851618   128.858797\n",
      "\n",
      "単価抽出後のサマリ(df_latest)\n",
      "             High         Low        Open       Close\n",
      "count   10.000000   10.000000   10.000000   10.000000\n",
      "mean   103.334161  102.926054  103.071625  103.074446\n",
      "std      0.361769    0.337125    0.340458    0.340053\n",
      "min    102.720708  102.515795  102.629538  102.632956\n",
      "25%    103.155731  102.769785  102.843781  102.842064\n",
      "50%    103.281038  102.817198  103.000376  103.011844\n",
      "75%    103.464673  102.943638  103.359891  103.364806\n",
      "max    103.979324  103.606639  103.641461  103.621249\n",
      "\n"
     ]
    }
   ],
   "source": [
    "# 分割後の詳細\n",
    "print(f'単価抽出後のサマリ(df_train)\\n{df_train.describe()}\\n')\n",
    "print(f'単価抽出後のサマリ(df_test)\\n{df_test.describe()}\\n')\n",
    "print(f'単価抽出後のサマリ(df_latest)\\n{df_latest.describe()}\\n')"
   ]
  },
  {
   "cell_type": "code",
   "execution_count": 783,
   "id": "20fc0bc9-af10-42be-907d-5a109e96fbe7",
   "metadata": {},
   "outputs": [
    {
     "data": {
      "text/html": [
       "<div>\n",
       "<style scoped>\n",
       "    .dataframe tbody tr th:only-of-type {\n",
       "        vertical-align: middle;\n",
       "    }\n",
       "\n",
       "    .dataframe tbody tr th {\n",
       "        vertical-align: top;\n",
       "    }\n",
       "\n",
       "    .dataframe thead th {\n",
       "        text-align: right;\n",
       "    }\n",
       "</style>\n",
       "<table border=\"1\" class=\"dataframe\">\n",
       "  <thead>\n",
       "    <tr style=\"text-align: right;\">\n",
       "      <th></th>\n",
       "      <th>High</th>\n",
       "      <th>Low</th>\n",
       "      <th>Open</th>\n",
       "      <th>Close</th>\n",
       "    </tr>\n",
       "    <tr>\n",
       "      <th>Date</th>\n",
       "      <th></th>\n",
       "      <th></th>\n",
       "      <th></th>\n",
       "      <th></th>\n",
       "    </tr>\n",
       "  </thead>\n",
       "  <tbody>\n",
       "    <tr>\n",
       "      <th>2003-12-01</th>\n",
       "      <td>111.370639</td>\n",
       "      <td>110.482062</td>\n",
       "      <td>111.314347</td>\n",
       "      <td>12249.260452</td>\n",
       "    </tr>\n",
       "    <tr>\n",
       "      <th>2003-12-02</th>\n",
       "      <td>112.008532</td>\n",
       "      <td>110.500532</td>\n",
       "      <td>110.639316</td>\n",
       "      <td>12504.386931</td>\n",
       "    </tr>\n",
       "    <tr>\n",
       "      <th>2003-12-03</th>\n",
       "      <td>112.202814</td>\n",
       "      <td>111.712284</td>\n",
       "      <td>111.832477</td>\n",
       "      <td>12574.824331</td>\n",
       "    </tr>\n",
       "    <tr>\n",
       "      <th>2003-12-04</th>\n",
       "      <td>112.332259</td>\n",
       "      <td>111.406851</td>\n",
       "      <td>112.110343</td>\n",
       "      <td>12487.775780</td>\n",
       "    </tr>\n",
       "    <tr>\n",
       "      <th>2003-12-05</th>\n",
       "      <td>112.766375</td>\n",
       "      <td>111.609834</td>\n",
       "      <td>111.721723</td>\n",
       "      <td>12707.885730</td>\n",
       "    </tr>\n",
       "  </tbody>\n",
       "</table>\n",
       "</div>"
      ],
      "text/plain": [
       "                  High         Low        Open         Close\n",
       "Date                                                        \n",
       "2003-12-01  111.370639  110.482062  111.314347  12249.260452\n",
       "2003-12-02  112.008532  110.500532  110.639316  12504.386931\n",
       "2003-12-03  112.202814  111.712284  111.832477  12574.824331\n",
       "2003-12-04  112.332259  111.406851  112.110343  12487.775780\n",
       "2003-12-05  112.766375  111.609834  111.721723  12707.885730"
      ]
     },
     "execution_count": 783,
     "metadata": {},
     "output_type": "execute_result"
    }
   ],
   "source": [
    "df_train.head()"
   ]
  },
  {
   "cell_type": "code",
   "execution_count": 784,
   "id": "ff4ffc71-da95-4b5b-ae19-5d6d12e20204",
   "metadata": {},
   "outputs": [],
   "source": [
    "# LSTMへの入力用に処理の関数\n",
    "\n",
    "def data_maker(data):\n",
    "  data_lstm_in=[]\n",
    "  if len(data)==window_len:\n",
    "    temp = data[:window_len].copy()\n",
    "    temp = temp / temp.iloc[0] - 1\n",
    "    data_lstm_in.append(temp)\n",
    "  for i in range(len(data) - window_len): #今回のLSTMで生成する時系列データ数(train総数-10個のモデル)\n",
    "      temp = data[i:(i + window_len)].copy() #windowの単位で行を取得。参照渡しでなく値渡し。\n",
    "      temp = temp / temp.iloc[0] - 1\n",
    "      data_lstm_in.append(temp)\n",
    "  return data_lstm_in"
   ]
  },
  {
   "cell_type": "code",
   "execution_count": 785,
   "id": "51d3588b-01c5-447c-96bb-1e54ca4cbe64",
   "metadata": {},
   "outputs": [],
   "source": [
    "#関数の実行(Trainデータ)\n",
    "train_lstm_in = data_maker(df_train)"
   ]
  },
  {
   "cell_type": "code",
   "execution_count": 786,
   "id": "ba2c6512-656c-4c30-a186-40f7d4cb2806",
   "metadata": {},
   "outputs": [
    {
     "name": "stdout",
     "output_type": "stream",
     "text": [
      "train_lstm_in_配列数 : 2068\n",
      "\n",
      "train_lstm_in[0]\n",
      "                High       Low      Open     Close\n",
      "Date                                              \n",
      "2003-12-01  0.000000  0.000000  0.000000  0.000000\n",
      "2003-12-02  0.005728  0.000167 -0.006064  0.020828\n",
      "2003-12-03  0.007472  0.011135  0.004655  0.026578\n",
      "2003-12-04  0.008634  0.008370  0.007151  0.019472\n",
      "2003-12-05  0.012532  0.010208  0.003660  0.037441\n",
      "2003-12-08  0.016610  0.017587  0.011134  0.043078\n",
      "\n",
      "train_lstm_in[1]\n",
      "                High       Low      Open     Close\n",
      "Date                                              \n",
      "2003-12-02  0.000000  0.000000  0.000000  0.000000\n",
      "2003-12-03  0.001735  0.010966  0.010784  0.005633\n",
      "2003-12-04  0.002890  0.008202  0.013296 -0.001328\n",
      "2003-12-05  0.006766  0.010039  0.009783  0.016274\n",
      "2003-12-08  0.010820  0.017417  0.017303  0.021796\n",
      "2003-12-09  0.013873  0.021090  0.021741  0.026809\n",
      "\n",
      "train_lstm_in[-1]\n",
      "                High       Low      Open     Close\n",
      "Date                                              \n",
      "2011-12-06  0.000000  0.000000  0.000000  0.000000\n",
      "2011-12-07  0.002058  0.001001  0.002039  0.003786\n",
      "2011-12-08  0.002382 -0.002196  0.001220  0.002548\n",
      "2011-12-09  0.000376 -0.004066 -0.002936 -0.006156\n",
      "2011-12-12 -0.003505 -0.009684 -0.001030 -0.002245\n",
      "2011-12-13 -0.014396 -0.018012 -0.016365 -0.031957\n",
      "\n"
     ]
    }
   ],
   "source": [
    "# 配列抜粋\n",
    "print(f'train_lstm_in_配列数 : {len(train_lstm_in)}\\n')\n",
    "print(f'train_lstm_in[0]\\n{train_lstm_in[0]}\\n')\n",
    "print(f'train_lstm_in[1]\\n{train_lstm_in[1]}\\n')\n",
    "print(f'train_lstm_in[-1]\\n{train_lstm_in[-1]}\\n')"
   ]
  },
  {
   "cell_type": "code",
   "execution_count": 787,
   "id": "7170b76f-5829-4554-9535-62d5b5b16c45",
   "metadata": {},
   "outputs": [],
   "source": [
    "lstm_train_out = (df_train['Open'][window_len:].values / df_train['Open'][:-window_len].values)-1"
   ]
  },
  {
   "cell_type": "code",
   "execution_count": 788,
   "id": "95e40aa7-684b-426b-9961-0117f9b03970",
   "metadata": {},
   "outputs": [
    {
     "data": {
      "text/plain": [
       "array([ 0.01554517,  0.02408164,  0.00835086, ..., -0.00716682,\n",
       "       -0.01876104, -0.02665515])"
      ]
     },
     "execution_count": 788,
     "metadata": {},
     "output_type": "execute_result"
    }
   ],
   "source": [
    "lstm_train_out"
   ]
  },
  {
   "cell_type": "code",
   "execution_count": 789,
   "id": "d2e58329-224a-4784-b46d-fe1cac235725",
   "metadata": {},
   "outputs": [],
   "source": [
    "#関数の実行(Testデータ)\n",
    "test_lstm_in = data_maker(df_test)"
   ]
  },
  {
   "cell_type": "code",
   "execution_count": 790,
   "id": "b76e3681-6591-44c0-82ff-fdcc8107c1a3",
   "metadata": {},
   "outputs": [
    {
     "name": "stdout",
     "output_type": "stream",
     "text": [
      "test_lstm_in_配列数 : 1240\n",
      "\n",
      "test_lstm_in[0]\n",
      "                High       Low      Open     Close\n",
      "Date                                              \n",
      "2011-12-15  0.000000  0.000000  0.000000  0.000000\n",
      "2011-12-16  0.002682  0.003395  0.003284  0.003205\n",
      "2011-12-19 -0.000613  0.001701  0.003741  0.003768\n",
      "2011-12-20  0.006356  0.002625  0.001587  0.001522\n",
      "2011-12-21  0.011123  0.005055  0.007748  0.007696\n",
      "2011-12-22  0.005366  0.004675  0.003898  0.004003\n",
      "\n",
      "test_lstm_in[1]\n",
      "                High       Low      Open     Close\n",
      "Date                                              \n",
      "2011-12-16  0.000000  0.000000  0.000000  0.000000\n",
      "2011-12-19 -0.003286 -0.001688  0.000456  0.000561\n",
      "2011-12-20  0.003664 -0.000767 -0.001691 -0.001678\n",
      "2011-12-21  0.008418  0.001655  0.004450  0.004476\n",
      "2011-12-22  0.002676  0.001276  0.000613  0.000795\n",
      "2011-12-29 -0.010705 -0.011202 -0.008001 -0.007860\n",
      "\n",
      "test_lstm_in[-1]\n",
      "                High       Low      Open     Close\n",
      "Date                                              \n",
      "2019-12-17  0.000000  0.000000  0.000000  0.000000\n",
      "2019-12-18 -0.001940 -0.001756  0.001294  0.001294\n",
      "2019-12-19 -0.002752 -0.001889 -0.001901 -0.001890\n",
      "2019-12-26 -0.006108 -0.004322 -0.003772 -0.003728\n",
      "2019-12-27  0.000671 -0.002776 -0.003219 -0.003219\n",
      "2019-12-30  0.004253  0.004551  0.003992  0.004070\n",
      "\n"
     ]
    }
   ],
   "source": [
    "# 配列抜粋(Testデータ)\n",
    "print(f'test_lstm_in_配列数 : {len(test_lstm_in)}\\n')\n",
    "print(f'test_lstm_in[0]\\n{test_lstm_in[0]}\\n')\n",
    "print(f'test_lstm_in[1]\\n{test_lstm_in[1]}\\n')\n",
    "print(f'test_lstm_in[-1]\\n{test_lstm_in[-1]}\\n')"
   ]
  },
  {
   "cell_type": "code",
   "execution_count": 791,
   "id": "e4fe251e-edaa-4fb7-a3a4-cec17f355c3f",
   "metadata": {},
   "outputs": [],
   "source": [
    "lstm_test_out = (df_test['Open'][window_len:].values / df_test['Open'][:-window_len].values)-1"
   ]
  },
  {
   "cell_type": "code",
   "execution_count": 792,
   "id": "8c545549-2377-4fe9-a15b-f8a56958c30a",
   "metadata": {},
   "outputs": [
    {
     "data": {
      "text/plain": [
       "array([-0.00474374, -0.00597099, -0.00581912, ..., -0.00734906,\n",
       "        0.0050652 ,  0.00605043])"
      ]
     },
     "execution_count": 792,
     "metadata": {},
     "output_type": "execute_result"
    }
   ],
   "source": [
    "lstm_test_out"
   ]
  },
  {
   "cell_type": "code",
   "execution_count": null,
   "id": "2d1a9d83-322b-4050-a0bf-c474bc6bc89f",
   "metadata": {},
   "outputs": [],
   "source": []
  },
  {
   "cell_type": "code",
   "execution_count": 793,
   "id": "9086466a-a5b8-407f-aa11-8f8f4ab3933f",
   "metadata": {},
   "outputs": [],
   "source": [
    "# #関数の実行(Latestデータ)\n",
    "# latest_lstm_in = data_maker(df_latest)"
   ]
  },
  {
   "cell_type": "code",
   "execution_count": 794,
   "id": "278b4092-6140-40f6-b923-00acad181de3",
   "metadata": {},
   "outputs": [],
   "source": [
    "# # 配列抜粋\n",
    "# print(f'latest_lstm_in_配列数 : {len(latest_lstm_in)}\\n')\n",
    "# print(f'latest_lstm_in\\n{latest_lstm_in[0]}\\n')\n",
    "# #print(f'latest_lstm_in\\n{latest_lstm_in[1]}\\n')\n",
    "# # print(f'latest_lstm_in\\n{latest_lstm_in[-1]}\\n')"
   ]
  },
  {
   "cell_type": "markdown",
   "id": "0e5cb290-36cb-43f4-8516-b931e725a7b0",
   "metadata": {},
   "source": [
    "## Numpy配列への変換"
   ]
  },
  {
   "cell_type": "code",
   "execution_count": 795,
   "id": "b61cbcb6-4597-49ac-9c01-38ba5056fe68",
   "metadata": {},
   "outputs": [],
   "source": [
    "# PandasのデータフレームからNumpy配列へ変換。リスト内包表記という記法がここでは使われている。\n",
    "train_lstm_in = [np.array(train_lstm_input) for train_lstm_input in train_lstm_in]\n",
    "train_lstm_in = np.array(train_lstm_in)\n",
    "\n",
    "test_lstm_in = [np.array(test_lstm_input) for test_lstm_input in test_lstm_in]\n",
    "test_lstm_in = np.array(test_lstm_in)"
   ]
  },
  {
   "cell_type": "code",
   "execution_count": 796,
   "id": "c25996dd-34e9-482f-ab14-f7ad4df8a9cb",
   "metadata": {},
   "outputs": [],
   "source": [
    "# # 11/6 latestデータのnumpyへの置き換え\n",
    "# latest_lstm_in = [np.array(test_lstm_input) for test_lstm_input in latest_lstm_in]\n",
    "# latest_lstm_in = np.array(latest_lstm_in)"
   ]
  },
  {
   "cell_type": "code",
   "execution_count": 797,
   "id": "f2118607-ee45-47ac-8d13-b1420ff3486f",
   "metadata": {},
   "outputs": [
    {
     "name": "stdout",
     "output_type": "stream",
     "text": [
      "train_lstm_in.shape[0] : 2068\n",
      "train_lstm_in.shape[1] : 6\n",
      "train_lstm_in.shape[2] : 4\n"
     ]
    }
   ],
   "source": [
    "print(f'train_lstm_in.shape[0] : {train_lstm_in.shape[0]}')\n",
    "print(f'train_lstm_in.shape[1] : {train_lstm_in.shape[1]}')\n",
    "print(f'train_lstm_in.shape[2] : {train_lstm_in.shape[2]}')"
   ]
  },
  {
   "cell_type": "code",
   "execution_count": null,
   "id": "ba83b6c2-aba9-4d3a-a57e-6a68cf46e62a",
   "metadata": {},
   "outputs": [],
   "source": [
    "\n"
   ]
  },
  {
   "cell_type": "code",
   "execution_count": 798,
   "id": "7b7619ca-9825-4f40-9815-9831338ea3b2",
   "metadata": {},
   "outputs": [
    {
     "data": {
      "text/plain": [
       "array([[[ 0.        ,  0.        ,  0.        ,  0.        ],\n",
       "        [ 0.00572766,  0.00016718, -0.00606419,  0.02082791],\n",
       "        [ 0.00747212,  0.01113504,  0.00465466,  0.02657825],\n",
       "        [ 0.00863441,  0.0083705 ,  0.00715088,  0.01947181],\n",
       "        [ 0.01253235,  0.01020774,  0.00365969,  0.03744106],\n",
       "        [ 0.0166098 ,  0.01758695,  0.01113381,  0.04307777]],\n",
       "\n",
       "       [[ 0.        ,  0.        ,  0.        ,  0.        ],\n",
       "        [ 0.00173453,  0.01096603,  0.01078424,  0.00563302],\n",
       "        [ 0.0028902 ,  0.00820195,  0.0132957 , -0.00132843],\n",
       "        [ 0.00676594,  0.01003888,  0.00978321,  0.01627419],\n",
       "        [ 0.01082017,  0.01741687,  0.01730293,  0.02179589],\n",
       "        [ 0.0138729 ,  0.02109034,  0.02174121,  0.02680869]],\n",
       "\n",
       "       [[ 0.        ,  0.        ,  0.        ,  0.        ],\n",
       "        [ 0.00115366, -0.0027341 ,  0.00248466, -0.00692245],\n",
       "        [ 0.0050227 , -0.00091709, -0.00099035,  0.01058157],\n",
       "        [ 0.0090699 ,  0.00638086,  0.00644914,  0.01607234],\n",
       "        [ 0.01211735,  0.01001449,  0.01084006,  0.02105706],\n",
       "        [ 0.01121115,  0.00704181,  0.01315552,  0.01124715]],\n",
       "\n",
       "       ...,\n",
       "\n",
       "       [[ 0.        ,  0.        ,  0.        ,  0.        ],\n",
       "        [-0.00399136, -0.00136702, -0.00371663, -0.00709923],\n",
       "        [-0.00835044, -0.00592309, -0.00614357, -0.0118786 ],\n",
       "        [-0.00630941, -0.00492755, -0.00411743, -0.00813767],\n",
       "        [-0.00598845, -0.00810638, -0.00493152, -0.00936059],\n",
       "        [-0.00797753, -0.00996455, -0.00906152, -0.01796148]],\n",
       "\n",
       "       [[ 0.        ,  0.        ,  0.        ,  0.        ],\n",
       "        [-0.00437655, -0.0045623 , -0.002436  , -0.00481354],\n",
       "        [-0.00232734, -0.00356541, -0.0004023 , -0.00104586],\n",
       "        [-0.00200509, -0.00674858, -0.00121942, -0.00227752],\n",
       "        [-0.00400214, -0.0086093 , -0.00536483, -0.01093991],\n",
       "        [-0.00786619, -0.01420185, -0.00346307, -0.00704786]],\n",
       "\n",
       "       [[ 0.        ,  0.        ,  0.        ,  0.        ],\n",
       "        [ 0.00205822,  0.00100146,  0.00203867,  0.00378591],\n",
       "        [ 0.00238188, -0.0021963 ,  0.00121955,  0.00254829],\n",
       "        [ 0.00037605, -0.00406554, -0.00293598, -0.006156  ],\n",
       "        [-0.00350498, -0.00968373, -0.00102958, -0.00224513],\n",
       "        [-0.01439606, -0.01801248, -0.01636491, -0.03195687]]])"
      ]
     },
     "execution_count": 798,
     "metadata": {},
     "output_type": "execute_result"
    }
   ],
   "source": [
    "train_lstm_in"
   ]
  },
  {
   "cell_type": "markdown",
   "id": "8e920fb1-738b-4a2e-adae-22277451439c",
   "metadata": {},
   "source": [
    "## モデルの定義"
   ]
  },
  {
   "cell_type": "code",
   "execution_count": 799,
   "id": "f72edeeb-f600-4470-b058-9fec754d6d63",
   "metadata": {},
   "outputs": [],
   "source": [
    "# モデルの定義\n",
    "from keras.models import Sequential\n",
    "from keras.layers import Activation, Dense\n",
    "from keras.layers import LSTM\n",
    "from keras.layers import Dropout"
   ]
  },
  {
   "cell_type": "code",
   "execution_count": 800,
   "id": "c60224ae-815e-45cf-84de-66bc7610cb75",
   "metadata": {},
   "outputs": [],
   "source": [
    "# LSTMのモデルを設定\n",
    "def build_model(inputs, output_size, neurons, activ_func=\"linear\",\n",
    "                dropout=0.25, loss=\"mae\", optimizer=\"adam\"):\n",
    "    model = Sequential()\n",
    " \n",
    "    model.add(LSTM(neurons, input_shape=(inputs.shape[1], inputs.shape[2]))) #バッチ数、時系列データ数、特徴量数\n",
    "    model.add(Dropout(dropout)) \n",
    "    model.add(Dense(units=output_size))\n",
    "    model.add(Activation(activ_func))\n",
    " \n",
    "    model.compile(loss=loss, optimizer=optimizer)\n",
    "    return model"
   ]
  },
  {
   "cell_type": "code",
   "execution_count": null,
   "id": "334500b5-270c-41b8-9349-4a1697674a01",
   "metadata": {},
   "outputs": [],
   "source": []
  },
  {
   "cell_type": "markdown",
   "id": "8725a249-19e4-48ed-86af-adccc81492c3",
   "metadata": {},
   "source": [
    "## データの学習と予測"
   ]
  },
  {
   "cell_type": "code",
   "execution_count": 801,
   "id": "1e66be32-c774-435c-85e3-12f5166bee35",
   "metadata": {},
   "outputs": [
    {
     "name": "stdout",
     "output_type": "stream",
     "text": [
      "Epoch 1/15\n",
      "2068/2068 - 4s - loss: 0.0070\n",
      "Epoch 2/15\n",
      "2068/2068 - 3s - loss: 0.0057\n",
      "Epoch 3/15\n",
      "2068/2068 - 3s - loss: 0.0052\n",
      "Epoch 4/15\n",
      "2068/2068 - 3s - loss: 0.0050\n",
      "Epoch 5/15\n",
      "2068/2068 - 3s - loss: 0.0047\n",
      "Epoch 6/15\n",
      "2068/2068 - 3s - loss: 0.0044\n",
      "Epoch 7/15\n",
      "2068/2068 - 3s - loss: 0.0041\n",
      "Epoch 8/15\n",
      "2068/2068 - 3s - loss: 0.0042\n",
      "Epoch 9/15\n",
      "2068/2068 - 3s - loss: 0.0042\n",
      "Epoch 10/15\n",
      "2068/2068 - 3s - loss: 0.0040\n",
      "Epoch 11/15\n",
      "2068/2068 - 3s - loss: 0.0041\n",
      "Epoch 12/15\n",
      "2068/2068 - 3s - loss: 0.0040\n",
      "Epoch 13/15\n",
      "2068/2068 - 3s - loss: 0.0038\n",
      "Epoch 14/15\n",
      "2068/2068 - 3s - loss: 0.0039\n",
      "Epoch 15/15\n",
      "2068/2068 - 3s - loss: 0.0038\n"
     ]
    }
   ],
   "source": [
    "np.random.seed(202)\n",
    " \n",
    "# 初期モデルの構築\n",
    "yen_model = build_model(train_lstm_in, output_size=1, neurons = 20)\n",
    "\n",
    "# データを流してフィッティングさせる\n",
    "yen_history = yen_model.fit(train_lstm_in, lstm_train_out, \n",
    "                            epochs=15, batch_size=1, verbose=2, shuffle=False)\n",
    "# 11/5 epochs=50からepochs=10に変更\n",
    "# 11/5 shuffle=TrueからFalseに変更"
   ]
  },
  {
   "cell_type": "code",
   "execution_count": 802,
   "id": "bebaf562-4cb9-4198-9c69-496fe3c5bd1a",
   "metadata": {},
   "outputs": [
    {
     "data": {
      "image/png": "[encoded data removed]",
      "text/plain": [
       "<Figure size 432x288 with 1 Axes>"
      ]
     },
     "metadata": {
      "needs_background": "light"
     },
     "output_type": "display_data"
    }
   ],
   "source": [
    "# MAEをプロットしてみよう\n",
    "fig, ax1 = plt.subplots(1,1)\n",
    " \n",
    "ax1.plot(yen_history.epoch, yen_history.history['loss'])\n",
    "ax1.set_title('TrainingError')\n",
    " \n",
    "if yen_model.loss == 'mae':\n",
    "    ax1.set_ylabel('Mean Absolute Error (MAE)',fontsize=12)\n",
    "else:\n",
    "    ax1.set_ylabel('Model Loss',fontsize=12)\n",
    "ax1.set_xlabel('# Epochs',fontsize=12)\n",
    "plt.show()"
   ]
  },
  {
   "cell_type": "code",
   "execution_count": 803,
   "id": "a3457ec5-1a28-4b3b-a8cb-94b54f0fb806",
   "metadata": {},
   "outputs": [],
   "source": [
    "#作成したモデルを使用し予測。\n",
    "train_pred = yen_model.predict(train_lstm_in)\n",
    "# test_pred = yen_model.predict(X_test)"
   ]
  },
  {
   "cell_type": "code",
   "execution_count": 804,
   "id": "a277c3e2-e59c-4c36-bb3d-3e9edd5df5a3",
   "metadata": {},
   "outputs": [
    {
     "data": {
      "text/plain": [
       "array([[ 0.0110768 ],\n",
       "       [ 0.01454872],\n",
       "       [ 0.00362936],\n",
       "       ...,\n",
       "       [-0.01014664],\n",
       "       [-0.00681623],\n",
       "       [-0.01795904]], dtype=float32)"
      ]
     },
     "execution_count": 804,
     "metadata": {},
     "output_type": "execute_result"
    }
   ],
   "source": [
    "train_pred"
   ]
  },
  {
   "cell_type": "code",
   "execution_count": 805,
   "id": "7052f331-66f7-4d7d-a408-07152a513a1a",
   "metadata": {},
   "outputs": [
    {
     "data": {
      "text/plain": [
       "array([[ 0.0110768 ,  0.01454872,  0.00362936, ..., -0.01014664,\n",
       "        -0.00681623, -0.01795904]], dtype=float32)"
      ]
     },
     "execution_count": 805,
     "metadata": {},
     "output_type": "execute_result"
    }
   ],
   "source": [
    "np.transpose(train_pred)"
   ]
  },
  {
   "cell_type": "code",
   "execution_count": 806,
   "id": "616523f3-4f40-4f70-9b9a-0c58b4e05bb5",
   "metadata": {},
   "outputs": [
    {
     "data": {
      "text/plain": [
       "2068"
      ]
     },
     "execution_count": 806,
     "metadata": {},
     "output_type": "execute_result"
    }
   ],
   "source": [
    "len(train_pred)"
   ]
  },
  {
   "cell_type": "code",
   "execution_count": 807,
   "id": "9669d2c4-68b3-498d-a2db-1cb102c11d9a",
   "metadata": {},
   "outputs": [
    {
     "data": {
      "text/plain": [
       "array([ 0.01554517,  0.02408164,  0.00835086, ..., -0.00716682,\n",
       "       -0.01876104, -0.02665515])"
      ]
     },
     "execution_count": 807,
     "metadata": {},
     "output_type": "execute_result"
    }
   ],
   "source": [
    "lstm_train_out"
   ]
  },
  {
   "cell_type": "code",
   "execution_count": 808,
   "id": "134e2a7a-ab10-4218-afbc-2c19bd861c78",
   "metadata": {},
   "outputs": [
    {
     "data": {
      "text/plain": [
       "2068"
      ]
     },
     "execution_count": 808,
     "metadata": {},
     "output_type": "execute_result"
    }
   ],
   "source": [
    "len(lstm_train_out)"
   ]
  },
  {
   "cell_type": "code",
   "execution_count": 809,
   "id": "01c299f7-6b83-4a45-a482-d1573f5f6863",
   "metadata": {},
   "outputs": [],
   "source": [
    "# yen_model.score(train_pred, lstm_train_out) "
   ]
  },
  {
   "cell_type": "code",
   "execution_count": 810,
   "id": "b6421859-81b3-49f8-b68a-c4f11585a77e",
   "metadata": {},
   "outputs": [
    {
     "data": {
      "image/png": "[encoded data removed]",
      "text/plain": [
       "<Figure size 2160x720 with 1 Axes>"
      ]
     },
     "metadata": {
      "needs_background": "light"
     },
     "output_type": "display_data"
    }
   ],
   "source": [
    "fig,ax = plt.subplots(figsize=(30,10))\n",
    "# plt.plot(train_pred)\n",
    "\n",
    "ax.plot(train_pred)\n",
    "ax.plot(lstm_train_out)\n",
    "plt.show()"
   ]
  },
  {
   "cell_type": "code",
   "execution_count": 811,
   "id": "a74f04e9-605a-4aa8-8f7b-d92a954dd203",
   "metadata": {},
   "outputs": [
    {
     "data": {
      "text/plain": [
       "array([[1.0110768 , 1.0145488 , 1.0036293 , ..., 0.9898534 , 0.9931838 ,\n",
       "        0.98204094]], dtype=float32)"
      ]
     },
     "execution_count": 811,
     "metadata": {},
     "output_type": "execute_result"
    }
   ],
   "source": [
    "# 配列には変化量が入っているので１００倍\n",
    "np.transpose(train_pred+1)"
   ]
  },
  {
   "cell_type": "code",
   "execution_count": 812,
   "id": "da440ce9-7ee9-4895-82a7-84352ae991de",
   "metadata": {},
   "outputs": [
    {
     "data": {
      "text/plain": [
       "array([112.54735474, 112.24898275, 112.23835376, ..., 123.31008455,\n",
       "       123.26512739, 121.58527131])"
      ]
     },
     "execution_count": 812,
     "metadata": {},
     "output_type": "execute_result"
    }
   ],
   "source": [
    "#予測データ(変化量)を単価に直したもの\n",
    "Pred_Train_Price_Array=(np.transpose(train_pred+1)* df_train['Open'].values[:-window_len])[0]\n",
    "(np.transpose(train_pred+1)* df_train['Open'].values[:-window_len])[0]"
   ]
  },
  {
   "cell_type": "code",
   "execution_count": 813,
   "id": "fe2c95ca-ea22-42b7-b1b2-db6887790b28",
   "metadata": {},
   "outputs": [
    {
     "data": {
      "text/plain": [
       "array([113.04474801, 113.30369174, 112.76637495, ..., 123.68128955,\n",
       "       121.78264081, 120.50861955])"
      ]
     },
     "execution_count": 813,
     "metadata": {},
     "output_type": "execute_result"
    }
   ],
   "source": [
    "#正解データ(変化量)を単価に直したもの\n",
    "Actual_Train_Price_Array=(1+lstm_train_out)* df_train['Open'].values[:-window_len]\n",
    "(1+lstm_train_out)* df_train['Open'].values[:-window_len]"
   ]
  },
  {
   "cell_type": "code",
   "execution_count": 814,
   "id": "3527a580-2a30-41c9-8ca9-806d0a22f327",
   "metadata": {},
   "outputs": [
    {
     "data": {
      "image/png": "[encoded data removed]",
      "text/plain": [
       "<Figure size 2160x720 with 1 Axes>"
      ]
     },
     "metadata": {
      "needs_background": "light"
     },
     "output_type": "display_data"
    }
   ],
   "source": [
    "fig,ax = plt.subplots(figsize=(30,10))\n",
    "\n",
    "# 予測データと正解データの併記\n",
    "ax.plot(Pred_Train_Price_Array)\n",
    "ax.plot(Actual_Train_Price_Array)\n",
    "plt.show()"
   ]
  },
  {
   "cell_type": "code",
   "execution_count": 815,
   "id": "e304df35-fe5a-4423-9f05-505634b48966",
   "metadata": {},
   "outputs": [],
   "source": [
    "# #元のdf_trainデータ\n",
    "# fig,ax = plt.subplots(figsize=(30,10))\n",
    "# # plt.plot(train_pred)\n",
    "\n",
    "# # ax.plot(np.transpose(train_pred+1)* df_train['Open'].values[:-window_len])\n",
    "# ax.plot(df_train['Open'])\n",
    "# # ax.set_xlim(datetime.datetime(2003,12,1), datetime.datetime(2011,12,14)) # 範囲指定\n",
    "# plt.show()"
   ]
  },
  {
   "cell_type": "code",
   "execution_count": null,
   "id": "f7e7b139-9992-4764-9f2a-9f3db775515e",
   "metadata": {},
   "outputs": [],
   "source": []
  },
  {
   "cell_type": "markdown",
   "id": "206c3561-5dcd-48ac-afb9-5f3050f3322c",
   "metadata": {},
   "source": [
    "## テストデータへの転用"
   ]
  },
  {
   "cell_type": "code",
   "execution_count": 816,
   "id": "a548ab85-b6fe-4278-a3ac-7107d1f3792b",
   "metadata": {},
   "outputs": [],
   "source": [
    "#作成したモデルを使用し予測。\n",
    "test_pred = yen_model.predict(test_lstm_in)"
   ]
  },
  {
   "cell_type": "code",
   "execution_count": 817,
   "id": "30284cdb-ec75-463e-9421-254ae3ef0ae6",
   "metadata": {},
   "outputs": [
    {
     "data": {
      "text/plain": [
       "array([[ 0.00137494],\n",
       "       [-0.00851345],\n",
       "       [-0.00586678],\n",
       "       ...,\n",
       "       [-0.00755237],\n",
       "       [-0.00231986],\n",
       "       [ 0.00044616]], dtype=float32)"
      ]
     },
     "execution_count": 817,
     "metadata": {},
     "output_type": "execute_result"
    }
   ],
   "source": [
    "test_pred"
   ]
  },
  {
   "cell_type": "code",
   "execution_count": 818,
   "id": "be52a5ac-4dc3-4a04-8db2-527cb75e24fe",
   "metadata": {},
   "outputs": [
    {
     "data": {
      "text/plain": [
       "1240"
      ]
     },
     "execution_count": 818,
     "metadata": {},
     "output_type": "execute_result"
    }
   ],
   "source": [
    "len(test_pred)"
   ]
  },
  {
   "cell_type": "code",
   "execution_count": 819,
   "id": "ba262037-c353-4795-bd62-78ab751869af",
   "metadata": {},
   "outputs": [
    {
     "data": {
      "text/plain": [
       "array([[ 0.00137494, -0.00851345, -0.00586678, ..., -0.00755237,\n",
       "        -0.00231986,  0.00044616]], dtype=float32)"
      ]
     },
     "execution_count": 819,
     "metadata": {},
     "output_type": "execute_result"
    }
   ],
   "source": [
    "np.transpose(test_pred)"
   ]
  },
  {
   "cell_type": "code",
   "execution_count": 820,
   "id": "b2d6c45a-b1ac-4324-a5ae-0a53ea435f8c",
   "metadata": {},
   "outputs": [
    {
     "data": {
      "text/plain": [
       "1240"
      ]
     },
     "execution_count": 820,
     "metadata": {},
     "output_type": "execute_result"
    }
   ],
   "source": [
    "len(lstm_test_out)"
   ]
  },
  {
   "cell_type": "code",
   "execution_count": 821,
   "id": "c54f3c61-cba3-44f6-b4bb-5ac823cb5c3f",
   "metadata": {},
   "outputs": [
    {
     "data": {
      "text/plain": [
       "array([120.29816763, 119.5013489 , 119.87501539, ..., 102.6654685 ,\n",
       "       102.66939745, 103.06412392])"
      ]
     },
     "execution_count": 821,
     "metadata": {},
     "output_type": "execute_result"
    }
   ],
   "source": [
    "# 予測データ(変化量)を単価に直したもの\n",
    "Pred_Price_Array=(np.transpose(test_pred+1)* df_test['Open'].values[:-window_len])[0]\n",
    "(np.transpose(test_pred+1)* df_test['Open'].values[:-window_len])[0]"
   ]
  },
  {
   "cell_type": "code",
   "execution_count": 822,
   "id": "89bbf46d-32f4-4a34-a238-f192918bfe9f",
   "metadata": {},
   "outputs": [
    {
     "name": "stdout",
     "output_type": "stream",
     "text": [
      "Pred_Price_Array は ndarray型\n",
      "Pred_Price_Array の行数, 列数・・・(1240,)\n",
      "\n"
     ]
    }
   ],
   "source": [
    "typeInfo(Pred_Price_Array)"
   ]
  },
  {
   "cell_type": "code",
   "execution_count": 823,
   "id": "0db18c71-1de7-4c41-930c-18d7b5c3250f",
   "metadata": {},
   "outputs": [
    {
     "data": {
      "text/plain": [
       "array([119.56311047, 119.80778545, 119.88076121, ..., 102.68650234,\n",
       "       103.42938185, 103.64146143])"
      ]
     },
     "execution_count": 823,
     "metadata": {},
     "output_type": "execute_result"
    }
   ],
   "source": [
    "# 正解データ(変化量)を単価に直したもの\n",
    "Actual_Price_Array=(1+lstm_test_out)* df_test['Open'].values[:-window_len]\n",
    "(1+lstm_test_out)* df_test['Open'].values[:-window_len]"
   ]
  },
  {
   "cell_type": "code",
   "execution_count": 824,
   "id": "36871558-98fa-4db0-8553-b00087ee6b67",
   "metadata": {},
   "outputs": [
    {
     "name": "stdout",
     "output_type": "stream",
     "text": [
      "Actual_Price_Array は ndarray型\n",
      "Actual_Price_Array の行数, 列数・・・(1240,)\n",
      "\n"
     ]
    }
   ],
   "source": [
    "typeInfo(Actual_Price_Array)"
   ]
  },
  {
   "cell_type": "code",
   "execution_count": 825,
   "id": "40704368-bd00-416b-b49f-4db67235e3dd",
   "metadata": {},
   "outputs": [
    {
     "data": {
      "image/png": "[encoded data removed]",
      "text/plain": [
       "<Figure size 2160x720 with 1 Axes>"
      ]
     },
     "metadata": {
      "needs_background": "light"
     },
     "output_type": "display_data"
    }
   ],
   "source": [
    "fig,ax = plt.subplots(figsize=(30,10))\n",
    "# fig,ax = plt.subplots()\n",
    "\n",
    "# 正解データと予測データの併記\n",
    "ax.plot(Pred_Price_Array)\n",
    "ax.plot(Actual_Price_Array)\n",
    "plt.show()"
   ]
  },
  {
   "cell_type": "code",
   "execution_count": null,
   "id": "cb7405fe-39ea-4f2a-bba5-a083adde1360",
   "metadata": {},
   "outputs": [],
   "source": []
  },
  {
   "cell_type": "code",
   "execution_count": 826,
   "id": "3ad85ed4-e7ed-4d03-a8c2-0b37af2aa980",
   "metadata": {},
   "outputs": [
    {
     "data": {
      "text/plain": [
       "array([119.56311047, 121.24310762, 122.63025343, 122.26716101,\n",
       "       121.35922045, 117.78788537, 116.3244006 , 113.28843057,\n",
       "       114.44478422, 116.57215208, 119.55538064, 119.92739379,\n",
       "       119.81864691, 122.54901856, 123.66309524, 122.04775959,\n",
       "       119.37023968, 120.7414186 , 119.17032272, 123.64987403,\n",
       "       121.15576386, 123.75575393, 121.35285795, 126.01836622,\n",
       "       124.81615186, 125.6759271 , 127.20547378, 126.61519498,\n",
       "       127.09534854, 127.62668878, 127.7906692 , 126.760948  ,\n",
       "       125.21659225, 125.83322525, 123.99630487, 119.80624169,\n",
       "       115.76391637, 115.65535694, 115.0511843 , 112.5687626 ,\n",
       "       103.05258304, 105.25956482, 100.14074236,  99.99459237,\n",
       "       105.85704416, 103.76585543, 102.94363767, 101.37097597,\n",
       "       103.220478  , 103.79846185, 101.98119134,  97.8929171 ,\n",
       "       101.43545002,  99.89092886, 102.8966853 , 104.30291861,\n",
       "       104.53394234, 104.68182355, 103.9793244 , 102.18511105,\n",
       "       102.56125927, 103.23659927, 103.93258154, 101.60369784,\n",
       "        98.15364718,  96.71685845,  99.08096194,  98.29759181,\n",
       "        99.36620474,  98.15364718, 101.08405709, 103.62172335,\n",
       "       105.50930113, 109.15226668, 110.02343267, 108.53240281,\n",
       "       107.76112914, 109.61013496, 109.71415132, 113.86437446,\n",
       "       114.10315007, 113.29536647, 114.45045203, 109.35874462,\n",
       "       108.66501182, 108.50567371, 107.33100444, 107.18921006,\n",
       "       106.84131265, 104.94905949, 104.49852407, 105.57432652,\n",
       "       105.11483729, 104.92285967, 105.01578301, 104.38766003,\n",
       "       103.63332361, 104.46075708, 104.16667074, 103.64493489,\n",
       "       102.09712774, 103.17672342, 101.80609584, 102.62953758])"
      ]
     },
     "execution_count": 826,
     "metadata": {},
     "output_type": "execute_result"
    }
   ],
   "source": [
    "Actual_Price_Array[::12]"
   ]
  },
  {
   "cell_type": "code",
   "execution_count": 827,
   "id": "fbbba25f-0dbc-4eda-8053-e5720231a137",
   "metadata": {},
   "outputs": [
    {
     "data": {
      "text/plain": [
       "1240"
      ]
     },
     "execution_count": 827,
     "metadata": {},
     "output_type": "execute_result"
    }
   ],
   "source": [
    "len(Pred_Price_Array)"
   ]
  },
  {
   "cell_type": "code",
   "execution_count": 828,
   "id": "d578c6b3-7e67-4f19-a8b6-e03f8ac33895",
   "metadata": {},
   "outputs": [
    {
     "data": {
      "text/plain": [
       "array([120.29816763, 119.30896463, 118.20954641, 120.96695555,\n",
       "       120.85854522, 122.94839945, 120.52497775, 122.75272527,\n",
       "       121.26390916, 121.85975478, 119.99223533, 116.58782221,\n",
       "       115.51859932, 116.7070452 , 115.42340882, 113.34836591,\n",
       "       112.81882345, 113.79358221, 115.63312554, 118.34991531,\n",
       "       119.40618689, 119.01206163, 120.15636434, 118.22857412,\n",
       "       118.34184404, 119.62458419, 121.71475801, 120.95354248,\n",
       "       123.07742989, 125.04336901, 123.38977681, 120.81538189,\n",
       "       120.55933032, 118.40966919, 120.42117423, 120.12570071,\n",
       "       120.284039  , 119.3045856 , 121.67473855, 122.55275256,\n",
       "       119.36409496, 121.1113953 , 122.29662823, 123.27699492,\n",
       "       122.51333504, 122.30522367, 124.74317705, 125.33178265,\n",
       "       127.15210563, 123.7672395 , 124.7499538 , 126.19282703,\n",
       "       126.40235209, 125.99772351, 125.32362075, 125.10691098,\n",
       "       126.19681708, 126.99060247, 128.32209619, 127.17974628,\n",
       "       127.46412612, 127.72525512, 127.39219232, 126.0317476 ,\n",
       "       125.89095223, 125.33088815, 125.58727194, 125.04790463,\n",
       "       123.89260356, 123.58424068, 121.39278422, 119.53862526,\n",
       "       117.509687  , 116.52847141, 117.19024066, 115.21678634,\n",
       "       114.77570076, 113.72068938, 113.60427565, 110.8340169 ,\n",
       "       107.77496672, 103.98087357, 104.99506448, 103.81408859,\n",
       "        97.80295629, 100.2470357 ,  98.81157854, 100.11468923,\n",
       "       103.31164077, 102.49642125, 102.5888984 , 104.60952895,\n",
       "       101.49335856, 100.72412239, 101.09678257, 102.13841755,\n",
       "       103.70299883, 104.19212968, 103.58147245, 104.46596331,\n",
       "       102.75553986,  99.90833193,  98.28166577,  99.51673879,\n",
       "       100.65805802, 100.60559695, 100.73891335, 100.07843108,\n",
       "       103.46024857, 101.40655784, 102.53995089, 103.39910632,\n",
       "       105.27675454, 103.96673602, 105.33398483, 103.78231521,\n",
       "       104.02844005, 104.40611942, 102.48272505, 102.06958251,\n",
       "       102.50407834, 102.92638414, 103.60614236, 103.58881879,\n",
       "       103.5265958 , 103.40549768, 100.68578675, 102.19881399,\n",
       "        98.43641984,  97.99807299,  96.69712267,  96.91502832,\n",
       "        97.80137823,  98.83587599,  98.51212842,  97.67431798,\n",
       "        98.38123768,  99.92217924,  97.9737813 ,  99.54323735,\n",
       "       101.05809709, 102.75657091, 103.73761222, 103.35815439,\n",
       "       104.86567625, 105.96028674, 108.53066043, 108.72257259,\n",
       "       110.2024415 , 110.24384395, 109.5940606 , 108.49408672,\n",
       "       108.72249746, 107.26147258, 108.20021101, 109.25757341,\n",
       "       109.10307172, 110.73679411, 112.37625621, 114.35329882,\n",
       "       114.06503952, 113.15129844, 114.3566273 , 114.08590498,\n",
       "       113.86316363, 113.22850095, 109.88753828, 108.77684391,\n",
       "       107.80743991, 107.24327828, 107.56642939, 107.69668724,\n",
       "       107.84490501, 105.28563207, 107.53129002, 107.05922637,\n",
       "       108.34734332, 106.32488671, 106.05657217, 105.43373186,\n",
       "       104.96747695, 104.63615116, 104.90214694, 105.65487333,\n",
       "       105.44082598, 105.31275914, 104.75618141, 104.9856112 ,\n",
       "       104.18252013, 104.2731832 , 103.75913813, 103.68176289,\n",
       "       103.35483555, 103.07836093, 103.60093874, 103.97810939,\n",
       "       104.40650184, 103.73332633, 102.33546304, 103.01958906,\n",
       "       102.32764918, 101.6035906 , 102.6323318 , 102.41808262,\n",
       "       102.13954814, 102.12644383, 102.7081057 ])"
      ]
     },
     "execution_count": 828,
     "metadata": {},
     "output_type": "execute_result"
    }
   ],
   "source": [
    "Pred_Price_Array_7=Pred_Price_Array[::6]\n",
    "Pred_Price_Array_7"
   ]
  },
  {
   "cell_type": "code",
   "execution_count": 829,
   "id": "b0a0a581-eaec-4898-a51f-478a0cef9e52",
   "metadata": {},
   "outputs": [
    {
     "data": {
      "text/plain": [
       "207"
      ]
     },
     "execution_count": 829,
     "metadata": {},
     "output_type": "execute_result"
    }
   ],
   "source": [
    "len(Pred_Price_Array_7)"
   ]
  },
  {
   "cell_type": "code",
   "execution_count": 830,
   "id": "eb3dcd58-0983-436c-87c8-22e64159857c",
   "metadata": {},
   "outputs": [
    {
     "data": {
      "text/plain": [
       "array([120.13923079, 120.52431077, 120.59187233, ..., 102.68535554,\n",
       "       103.43631774, 103.6212492 ])"
      ]
     },
     "execution_count": 830,
     "metadata": {},
     "output_type": "execute_result"
    }
   ],
   "source": [
    "df_test_Close_array=df_test['Close'].values\n",
    "df_test_Close_array"
   ]
  },
  {
   "cell_type": "code",
   "execution_count": 831,
   "id": "19a4535f-6e01-4a1f-b2b8-439f97e247e5",
   "metadata": {},
   "outputs": [
    {
     "data": {
      "text/plain": [
       "array([120.62017828, 119.61567551, 119.0108633 , 121.82273448,\n",
       "       120.78713596, 123.21832687, 120.4583922 , 123.26759487,\n",
       "       121.35922045, 122.40306705, 119.66364235, 116.19142771,\n",
       "       116.30831242, 117.29647338, 115.77551663, 113.56660515,\n",
       "       113.23295444, 113.6782521 , 115.91478586, 119.35484618,\n",
       "       119.1549623 , 118.94046783, 119.92739379, 118.02985877,\n",
       "       119.00167793, 119.91185695, 122.44843155, 120.55258363,\n",
       "       123.69617581, 125.9017241 , 123.51448625, 120.80449224,\n",
       "       120.36435515, 118.54718387, 121.31147414, 120.3173697 ,\n",
       "       120.56829691, 119.55693543, 122.52141833, 122.4289912 ,\n",
       "       119.39642847, 121.27329916, 122.2106263 , 123.52438837,\n",
       "       122.43547499, 123.01513493, 124.74713475, 125.39992481,\n",
       "       127.69893676, 123.46831679, 125.35913646, 126.78527325,\n",
       "       126.52513862, 125.76307237, 125.13020784, 124.76564884,\n",
       "       126.72448218, 127.43679523, 128.69565457, 127.20721602,\n",
       "       128.07731241, 128.02591622, 127.28598088, 126.06645435,\n",
       "       126.19716674, 125.73572576, 125.69300771, 125.17253995,\n",
       "       124.21775728, 123.86181027, 121.43250495, 119.88076121,\n",
       "       117.2266072 , 116.91841751, 117.25930184, 115.26767462,\n",
       "       114.46886688, 113.72018725, 113.09036613, 110.50450146,\n",
       "       106.9858858 , 104.60842878, 105.45036256, 103.24813336,\n",
       "        96.95508271, 100.68575591,  98.14115375, 100.53800702,\n",
       "       103.54516387, 101.68523043, 102.75038093, 105.19971102,\n",
       "       101.70422971, 100.17977744, 101.46325976, 102.61018544,\n",
       "       103.72978657, 104.9323979 , 103.6159122 , 105.17219901,\n",
       "       101.93848431,  99.28407669,  98.42938483, 100.67697853,\n",
       "       100.54676235, 100.39942145, 101.01009995, 100.1396507 ,\n",
       "       103.84040803, 101.04651064, 103.30347717, 103.22969645,\n",
       "       105.47801793, 103.91507089, 105.33868253, 103.80079955,\n",
       "       104.99670655, 104.97883201, 102.96196431, 102.24157959,\n",
       "       103.30463499, 103.29424769, 103.59502733, 103.98048222,\n",
       "       103.96296054, 103.57182682, 100.66383451, 102.68650234,\n",
       "        97.90431887,  97.8835994 ,  96.66227549,  97.3745665 ,\n",
       "        98.31535608,  99.10431683,  98.23078007,  97.61296719,\n",
       "        98.88288647, 100.35803765,  97.8835994 , 100.58393389,\n",
       "       101.42766505, 103.64493489, 104.34763253, 103.67630631,\n",
       "       105.66356689, 106.13762259, 109.37296927, 108.92605066,\n",
       "       110.66579133, 110.62476039, 109.66472894, 108.61014217,\n",
       "       108.77234727, 107.41700292, 108.56935382, 109.45450187,\n",
       "       109.53226328, 111.5869531 , 113.50946397, 114.7884804 ,\n",
       "       114.27230209, 113.13047081, 114.62916434, 114.77281123,\n",
       "       114.358477  , 113.23295444, 109.77795273, 109.04418141,\n",
       "       108.46749872, 107.19418317, 107.84782231, 107.79253364,\n",
       "       108.12896311, 104.94786859, 108.14412504, 107.26378471,\n",
       "       108.80945265, 106.43928438, 106.1266619 , 105.80618829,\n",
       "       105.19492537, 104.92167979, 105.22244841, 106.02083713,\n",
       "       105.60566485, 105.77714354, 104.84556139, 105.38668245,\n",
       "       104.4088757 , 104.29233283, 104.21947837, 103.82525712,\n",
       "       103.51735413, 103.18823546, 103.8683942 , 103.95594746,\n",
       "       104.41358417, 103.8742274 , 102.4136427 , 103.07555199,\n",
       "       102.54420072, 101.63718641, 102.97456801, 102.40117133,\n",
       "       102.479451  , 102.51806706, 102.82233119])"
      ]
     },
     "execution_count": 831,
     "metadata": {},
     "output_type": "execute_result"
    }
   ],
   "source": [
    "df_test_Close_array6=df_test_Close_array[5::6]\n",
    "df_test_Close_array6"
   ]
  },
  {
   "cell_type": "code",
   "execution_count": 832,
   "id": "8b1fd3b2-010c-4d8f-9588-6242b80fe7d4",
   "metadata": {},
   "outputs": [
    {
     "data": {
      "text/plain": [
       "207"
      ]
     },
     "execution_count": 832,
     "metadata": {},
     "output_type": "execute_result"
    }
   ],
   "source": [
    "len(df_test_Close_array6)"
   ]
  },
  {
   "cell_type": "code",
   "execution_count": 833,
   "id": "bfb25300-baa0-49c9-84e7-8ca5b5bb0bb7",
   "metadata": {},
   "outputs": [
    {
     "data": {
      "text/plain": [
       "array([-3.22010648e-01, -3.06710878e-01, -8.01316893e-01, -8.55778925e-01,\n",
       "        7.14092592e-02, -2.69927418e-01,  6.65855499e-02, -5.14869606e-01,\n",
       "       -9.53112857e-02, -5.43312274e-01,  3.28592980e-01,  3.96394502e-01,\n",
       "       -7.89713098e-01, -5.89428185e-01, -3.52107806e-01, -2.18239241e-01,\n",
       "       -4.14130989e-01,  1.15330107e-01, -2.81660322e-01, -1.00493087e+00,\n",
       "        2.51224594e-01,  7.15937947e-02,  2.28970545e-01,  1.98715347e-01,\n",
       "       -6.59833888e-01, -2.87272757e-01, -7.33673543e-01,  4.00958846e-01,\n",
       "       -6.18745928e-01, -8.58355092e-01, -1.24709439e-01,  1.08896579e-02,\n",
       "        1.94975171e-01, -1.37514685e-01, -8.90299910e-01, -1.91668991e-01,\n",
       "       -2.84257913e-01, -2.52349827e-01, -8.46679779e-01,  1.23761362e-01,\n",
       "       -3.23335096e-02, -1.61903859e-01,  8.60019278e-02, -2.47393456e-01,\n",
       "        7.78600480e-02, -7.09911263e-01, -3.95769387e-03, -6.81421638e-02,\n",
       "       -5.46831132e-01,  2.98922703e-01, -6.09182663e-01, -5.92446227e-01,\n",
       "       -1.22786525e-01,  2.34651141e-01,  1.93412915e-01,  3.41262137e-01,\n",
       "       -5.27665099e-01, -4.46192764e-01, -3.73558377e-01, -2.74697450e-02,\n",
       "       -6.13186293e-01, -3.00661103e-01,  1.06211443e-01, -3.47067483e-02,\n",
       "       -3.06214509e-01, -4.04837615e-01, -1.05735763e-01, -1.24635320e-01,\n",
       "       -3.25153722e-01, -2.77569591e-01, -3.97207325e-02, -3.42135949e-01,\n",
       "        2.83079801e-01, -3.89946104e-01, -6.90611855e-02, -5.08882885e-02,\n",
       "        3.06833873e-01,  5.02128907e-04,  5.13909529e-01,  3.29515440e-01,\n",
       "        7.89080924e-01, -6.27555205e-01, -4.55298088e-01,  5.65955227e-01,\n",
       "        8.47873572e-01, -4.38720206e-01,  6.70424790e-01, -4.23317788e-01,\n",
       "       -2.33523098e-01,  8.11190818e-01, -1.61482535e-01, -5.90182077e-01,\n",
       "       -2.10871150e-01,  5.44344942e-01, -3.66477188e-01, -4.71767894e-01,\n",
       "       -2.67877442e-02, -7.40268225e-01, -3.44397494e-02, -7.06235704e-01,\n",
       "        8.17055548e-01,  6.24255239e-01, -1.47719060e-01, -1.16023974e+00,\n",
       "        1.11295675e-01,  2.06175499e-01, -2.71186601e-01, -6.12196248e-02,\n",
       "       -3.80159455e-01,  3.60047206e-01, -7.63526275e-01,  1.69409871e-01,\n",
       "       -2.01263387e-01,  5.16651328e-02, -4.69770110e-03, -1.84843378e-02,\n",
       "       -9.68266494e-01, -5.72712589e-01, -4.79239262e-01, -1.71997081e-01,\n",
       "       -8.00556653e-01, -3.67863542e-01,  1.11150308e-02, -3.91663436e-01,\n",
       "       -4.36364743e-01, -1.66329132e-01,  2.19522403e-02, -4.87688352e-01,\n",
       "        5.32100975e-01,  1.14473594e-01,  3.48471750e-02, -4.59538178e-01,\n",
       "       -5.13977846e-01, -2.68440838e-01,  2.81348353e-01,  6.13507915e-02,\n",
       "       -5.01648790e-01, -4.35858406e-01,  9.01818980e-02, -1.04069654e+00,\n",
       "       -3.69567970e-01, -8.88363983e-01, -6.10020307e-01, -3.18151916e-01,\n",
       "       -7.97890637e-01, -1.77335858e-01, -8.42308837e-01, -2.03478074e-01,\n",
       "       -4.63349830e-01, -3.80916442e-01, -7.06683348e-02, -1.16055454e-01,\n",
       "       -4.98498117e-02, -1.55530333e-01, -3.69142814e-01, -1.96928461e-01,\n",
       "       -4.29191561e-01, -8.50158990e-01, -1.13320775e+00, -4.35181586e-01,\n",
       "       -2.07262575e-01,  2.08276229e-02, -2.72537036e-01, -6.86906256e-01,\n",
       "       -4.95313362e-01, -4.45349335e-03,  1.09585547e-01, -2.67337492e-01,\n",
       "       -6.60058810e-01,  4.90951091e-02, -2.81392922e-01, -9.58463968e-02,\n",
       "       -2.84058102e-01,  3.37763484e-01, -6.12835023e-01, -2.04558341e-01,\n",
       "       -4.62109335e-01, -1.14397669e-01, -7.00897230e-02, -3.72456424e-01,\n",
       "       -2.27448418e-01, -2.85528637e-01, -3.20301472e-01, -3.65963794e-01,\n",
       "       -1.64838866e-01, -4.64384394e-01, -8.93799719e-02, -4.01071252e-01,\n",
       "       -2.26355571e-01, -1.91496282e-02, -4.60340240e-01, -1.43494237e-01,\n",
       "       -1.62518582e-01, -1.09874528e-01, -2.67455454e-01,  2.21619304e-02,\n",
       "       -7.08233447e-03, -1.40901076e-01, -7.81796634e-02, -5.59629309e-02,\n",
       "       -2.16551533e-01, -3.35958097e-02, -3.42236208e-01,  1.69112920e-02,\n",
       "       -3.39902858e-01, -3.91623234e-01, -1.14225489e-01])"
      ]
     },
     "execution_count": 833,
     "metadata": {},
     "output_type": "execute_result"
    }
   ],
   "source": [
    "Dif_Array=Pred_Price_Array_7-df_test_Close_array6\n",
    "Dif_Array"
   ]
  },
  {
   "cell_type": "code",
   "execution_count": 834,
   "id": "fc0b32c3-14c2-4147-8495-fb2f6438630c",
   "metadata": {},
   "outputs": [
    {
     "data": {
      "text/plain": [
       "0     -0.322011\n",
       "1     -0.306711\n",
       "2     -0.801317\n",
       "3     -0.855779\n",
       "4      0.071409\n",
       "         ...   \n",
       "202   -0.342236\n",
       "203    0.016911\n",
       "204   -0.339903\n",
       "205   -0.391623\n",
       "206   -0.114225\n",
       "Length: 207, dtype: float64"
      ]
     },
     "execution_count": 834,
     "metadata": {},
     "output_type": "execute_result"
    }
   ],
   "source": [
    "Df_Dif_Array = pd.Series(Dif_Array)\n",
    "Df_Dif_Array"
   ]
  },
  {
   "cell_type": "code",
   "execution_count": 835,
   "id": "8411e60b-fb25-4c6c-95b9-36c2a4baa2f0",
   "metadata": {},
   "outputs": [],
   "source": [
    "def p_judge(x):\n",
    "    if x < 0:\n",
    "        return 0\n",
    "    else:\n",
    "        return 1"
   ]
  },
  {
   "cell_type": "code",
   "execution_count": null,
   "id": "ca0bbd59-92a5-4285-a4ec-40b96e49dc05",
   "metadata": {},
   "outputs": [],
   "source": []
  },
  {
   "cell_type": "code",
   "execution_count": 836,
   "id": "e7650a64-ee92-46c1-8585-4f2856243a5c",
   "metadata": {},
   "outputs": [
    {
     "data": {
      "text/plain": [
       "0      0\n",
       "1      0\n",
       "2      0\n",
       "3      0\n",
       "4      1\n",
       "      ..\n",
       "202    0\n",
       "203    1\n",
       "204    0\n",
       "205    0\n",
       "206    0\n",
       "Length: 207, dtype: int64"
      ]
     },
     "execution_count": 836,
     "metadata": {},
     "output_type": "execute_result"
    }
   ],
   "source": [
    "Df_sub=Df_Dif_Array.apply(p_judge)\n",
    "Df_sub"
   ]
  },
  {
   "cell_type": "code",
   "execution_count": 837,
   "id": "745a78d1-24cf-45b3-9e3b-cc4e724d4788",
   "metadata": {},
   "outputs": [
    {
     "data": {
      "text/plain": [
       "count    207.000000\n",
       "mean       0.251208\n",
       "std        0.434759\n",
       "min        0.000000\n",
       "25%        0.000000\n",
       "50%        0.000000\n",
       "75%        0.500000\n",
       "max        1.000000\n",
       "dtype: float64"
      ]
     },
     "execution_count": 837,
     "metadata": {},
     "output_type": "execute_result"
    }
   ],
   "source": [
    "Df_sub.describe()"
   ]
  },
  {
   "cell_type": "code",
   "execution_count": null,
   "id": "07446e81-fc1c-40bf-ac7a-0dcd71bfbaae",
   "metadata": {},
   "outputs": [],
   "source": []
  },
  {
   "cell_type": "code",
   "execution_count": 838,
   "id": "358e708a-3ee2-412c-984c-5716a9f0a26b",
   "metadata": {},
   "outputs": [
    {
     "data": {
      "text/html": [
       "<div>\n",
       "<style scoped>\n",
       "    .dataframe tbody tr th:only-of-type {\n",
       "        vertical-align: middle;\n",
       "    }\n",
       "\n",
       "    .dataframe tbody tr th {\n",
       "        vertical-align: top;\n",
       "    }\n",
       "\n",
       "    .dataframe thead th {\n",
       "        text-align: right;\n",
       "    }\n",
       "</style>\n",
       "<table border=\"1\" class=\"dataframe\">\n",
       "  <thead>\n",
       "    <tr style=\"text-align: right;\">\n",
       "      <th></th>\n",
       "      <th>Date</th>\n",
       "      <th>1</th>\n",
       "    </tr>\n",
       "  </thead>\n",
       "  <tbody>\n",
       "    <tr>\n",
       "      <th>0</th>\n",
       "      <td>2011-12-22</td>\n",
       "      <td>0</td>\n",
       "    </tr>\n",
       "    <tr>\n",
       "      <th>1</th>\n",
       "      <td>2012-01-05</td>\n",
       "      <td>0</td>\n",
       "    </tr>\n",
       "    <tr>\n",
       "      <th>2</th>\n",
       "      <td>2012-01-19</td>\n",
       "      <td>0</td>\n",
       "    </tr>\n",
       "    <tr>\n",
       "      <th>3</th>\n",
       "      <td>2012-02-02</td>\n",
       "      <td>0</td>\n",
       "    </tr>\n",
       "    <tr>\n",
       "      <th>4</th>\n",
       "      <td>2012-02-16</td>\n",
       "      <td>1</td>\n",
       "    </tr>\n",
       "    <tr>\n",
       "      <th>...</th>\n",
       "      <td>...</td>\n",
       "      <td>...</td>\n",
       "    </tr>\n",
       "    <tr>\n",
       "      <th>202</th>\n",
       "      <td>2019-10-23</td>\n",
       "      <td>0</td>\n",
       "    </tr>\n",
       "    <tr>\n",
       "      <th>203</th>\n",
       "      <td>2019-11-07</td>\n",
       "      <td>1</td>\n",
       "    </tr>\n",
       "    <tr>\n",
       "      <th>204</th>\n",
       "      <td>2019-11-21</td>\n",
       "      <td>0</td>\n",
       "    </tr>\n",
       "    <tr>\n",
       "      <th>205</th>\n",
       "      <td>2019-12-05</td>\n",
       "      <td>0</td>\n",
       "    </tr>\n",
       "    <tr>\n",
       "      <th>206</th>\n",
       "      <td>2019-12-19</td>\n",
       "      <td>0</td>\n",
       "    </tr>\n",
       "  </tbody>\n",
       "</table>\n",
       "<p>207 rows × 2 columns</p>\n",
       "</div>"
      ],
      "text/plain": [
       "           Date  1\n",
       "0    2011-12-22  0\n",
       "1    2012-01-05  0\n",
       "2    2012-01-19  0\n",
       "3    2012-02-02  0\n",
       "4    2012-02-16  1\n",
       "..          ... ..\n",
       "202  2019-10-23  0\n",
       "203  2019-11-07  1\n",
       "204  2019-11-21  0\n",
       "205  2019-12-05  0\n",
       "206  2019-12-19  0\n",
       "\n",
       "[207 rows x 2 columns]"
      ]
     },
     "execution_count": 838,
     "metadata": {},
     "output_type": "execute_result"
    }
   ],
   "source": [
    "df_submit[1]=Df_sub\n",
    "df_submit"
   ]
  },
  {
   "cell_type": "code",
   "execution_count": 839,
   "id": "4629f9f9-bd52-40c1-8c9e-d46e3c3dcb11",
   "metadata": {},
   "outputs": [
    {
     "data": {
      "text/html": [
       "<div>\n",
       "<style scoped>\n",
       "    .dataframe tbody tr th:only-of-type {\n",
       "        vertical-align: middle;\n",
       "    }\n",
       "\n",
       "    .dataframe tbody tr th {\n",
       "        vertical-align: top;\n",
       "    }\n",
       "\n",
       "    .dataframe thead th {\n",
       "        text-align: right;\n",
       "    }\n",
       "</style>\n",
       "<table border=\"1\" class=\"dataframe\">\n",
       "  <thead>\n",
       "    <tr style=\"text-align: right;\">\n",
       "      <th></th>\n",
       "      <th>y</th>\n",
       "    </tr>\n",
       "    <tr>\n",
       "      <th>Date</th>\n",
       "      <th></th>\n",
       "    </tr>\n",
       "  </thead>\n",
       "  <tbody>\n",
       "    <tr>\n",
       "      <th>2011-12-22</th>\n",
       "      <td>0</td>\n",
       "    </tr>\n",
       "    <tr>\n",
       "      <th>2012-01-05</th>\n",
       "      <td>0</td>\n",
       "    </tr>\n",
       "    <tr>\n",
       "      <th>2012-01-19</th>\n",
       "      <td>0</td>\n",
       "    </tr>\n",
       "    <tr>\n",
       "      <th>2012-02-02</th>\n",
       "      <td>0</td>\n",
       "    </tr>\n",
       "    <tr>\n",
       "      <th>2012-02-16</th>\n",
       "      <td>1</td>\n",
       "    </tr>\n",
       "    <tr>\n",
       "      <th>...</th>\n",
       "      <td>...</td>\n",
       "    </tr>\n",
       "    <tr>\n",
       "      <th>2019-10-23</th>\n",
       "      <td>0</td>\n",
       "    </tr>\n",
       "    <tr>\n",
       "      <th>2019-11-07</th>\n",
       "      <td>1</td>\n",
       "    </tr>\n",
       "    <tr>\n",
       "      <th>2019-11-21</th>\n",
       "      <td>0</td>\n",
       "    </tr>\n",
       "    <tr>\n",
       "      <th>2019-12-05</th>\n",
       "      <td>0</td>\n",
       "    </tr>\n",
       "    <tr>\n",
       "      <th>2019-12-19</th>\n",
       "      <td>0</td>\n",
       "    </tr>\n",
       "  </tbody>\n",
       "</table>\n",
       "<p>207 rows × 1 columns</p>\n",
       "</div>"
      ],
      "text/plain": [
       "            y\n",
       "Date         \n",
       "2011-12-22  0\n",
       "2012-01-05  0\n",
       "2012-01-19  0\n",
       "2012-02-02  0\n",
       "2012-02-16  1\n",
       "...        ..\n",
       "2019-10-23  0\n",
       "2019-11-07  1\n",
       "2019-11-21  0\n",
       "2019-12-05  0\n",
       "2019-12-19  0\n",
       "\n",
       "[207 rows x 1 columns]"
      ]
     },
     "execution_count": 839,
     "metadata": {},
     "output_type": "execute_result"
    }
   ],
   "source": [
    "# 指定の様式（インデックスはDate、カラム名は「y」のみ）をお守りください。\n",
    "df_submit = df_submit.set_index(\"Date\") #indexにDateを指定する。\n",
    "df_submit = df_submit.rename(columns={1: 'y'}) #カラム名「1」を「y」に変更する。\n",
    "df_submit.to_csv('y_submit.csv') #投稿するファイルを書き出す。\n",
    "df_submit #投稿する中身を確認する。"
   ]
  },
  {
   "cell_type": "code",
   "execution_count": null,
   "id": "acbbcb75-ba6a-420f-8197-2be9eb57d341",
   "metadata": {},
   "outputs": [],
   "source": []
  },
  {
   "cell_type": "code",
   "execution_count": null,
   "id": "3c964f06-bb16-48b0-b35a-b975180744c6",
   "metadata": {},
   "outputs": [],
   "source": []
  },
  {
   "cell_type": "code",
   "execution_count": null,
   "id": "150e2302-0a61-4ecd-bc93-1d9a4f1ad309",
   "metadata": {},
   "outputs": [],
   "source": []
  },
  {
   "cell_type": "code",
   "execution_count": null,
   "id": "7dd94eda-8f28-47f5-b3c1-7084259beee9",
   "metadata": {},
   "outputs": [],
   "source": []
  },
  {
   "cell_type": "code",
   "execution_count": null,
   "id": "119713a2-2448-4796-8231-35e96a564359",
   "metadata": {},
   "outputs": [],
   "source": []
  },
  {
   "cell_type": "code",
   "execution_count": null,
   "id": "97c2a0b5-874d-4dc9-9c80-c9d2e0c70857",
   "metadata": {},
   "outputs": [],
   "source": []
  },
  {
   "cell_type": "code",
   "execution_count": null,
   "id": "bdb25d5b-8d61-4352-961e-e2156100f487",
   "metadata": {},
   "outputs": [],
   "source": []
  },
  {
   "cell_type": "code",
   "execution_count": null,
   "id": "ff86ab65-6a26-45dd-8d79-23ab0b3b5985",
   "metadata": {},
   "outputs": [],
   "source": []
  },
  {
   "cell_type": "code",
   "execution_count": null,
   "id": "2fa80ba1-2caa-4a3e-80a1-c385a623ea39",
   "metadata": {},
   "outputs": [],
   "source": []
  },
  {
   "cell_type": "code",
   "execution_count": null,
   "id": "78969735-4213-47ec-b94d-2bbb0a97afa0",
   "metadata": {},
   "outputs": [],
   "source": []
  },
  {
   "cell_type": "code",
   "execution_count": null,
   "id": "363e7464-9af3-4b80-b3c3-06fe395ec6fa",
   "metadata": {},
   "outputs": [],
   "source": []
  },
  {
   "cell_type": "code",
   "execution_count": null,
   "id": "c9756564-244f-4058-a0b8-981616872280",
   "metadata": {},
   "outputs": [],
   "source": []
  },
  {
   "cell_type": "code",
   "execution_count": null,
   "id": "c5aa9467-e5e4-4d63-80b2-9769f1217368",
   "metadata": {},
   "outputs": [],
   "source": []
  },
  {
   "cell_type": "code",
   "execution_count": null,
   "id": "a2607a1f-898a-4d35-8c4a-6a92670ddf99",
   "metadata": {},
   "outputs": [],
   "source": []
  },
  {
   "cell_type": "code",
   "execution_count": null,
   "id": "8bd4e73a-da01-4ea7-9c54-076c4c5ac7a1",
   "metadata": {},
   "outputs": [],
   "source": []
  },
  {
   "cell_type": "code",
   "execution_count": null,
   "id": "fec9e916-ab1f-415c-8c92-317e725691e3",
   "metadata": {},
   "outputs": [],
   "source": []
  },
  {
   "cell_type": "code",
   "execution_count": null,
   "id": "f0387e63-9011-46a5-b118-55e292115d44",
   "metadata": {},
   "outputs": [],
   "source": []
  },
  {
   "cell_type": "code",
   "execution_count": null,
   "id": "fd06341e-a7a2-4673-9e95-5084c4c995a7",
   "metadata": {},
   "outputs": [],
   "source": []
  },
  {
   "cell_type": "code",
   "execution_count": null,
   "id": "65b3b2e2-a301-4750-b250-b0997b5e15de",
   "metadata": {},
   "outputs": [],
   "source": []
  },
  {
   "cell_type": "code",
   "execution_count": null,
   "id": "2a0748ec-9f1e-482b-aade-2967dc87c438",
   "metadata": {},
   "outputs": [],
   "source": []
  },
  {
   "cell_type": "code",
   "execution_count": null,
   "id": "efacc5be-52f8-4619-8a1a-9c0245ab4524",
   "metadata": {},
   "outputs": [],
   "source": []
  },
  {
   "cell_type": "code",
   "execution_count": null,
   "id": "f58934da-b994-4964-9c9d-96c19668dc46",
   "metadata": {},
   "outputs": [],
   "source": []
  },
  {
   "cell_type": "code",
   "execution_count": null,
   "id": "497711b2-a91d-4824-873c-6aedde39a38d",
   "metadata": {},
   "outputs": [],
   "source": []
  },
  {
   "cell_type": "code",
   "execution_count": null,
   "id": "675b2ad0-6d4a-4fb4-83d5-d8909ff465a4",
   "metadata": {},
   "outputs": [],
   "source": []
  },
  {
   "cell_type": "code",
   "execution_count": null,
   "id": "8ce9092d-c7d7-4151-a049-75ff46886507",
   "metadata": {},
   "outputs": [],
   "source": []
  },
  {
   "cell_type": "code",
   "execution_count": null,
   "id": "36bfc9a2-b468-4668-973f-8ee6b702dc81",
   "metadata": {},
   "outputs": [],
   "source": []
  },
  {
   "cell_type": "code",
   "execution_count": null,
   "id": "78cb6088-8fbd-432a-a2ac-f547f3abed94",
   "metadata": {},
   "outputs": [],
   "source": []
  },
  {
   "cell_type": "code",
   "execution_count": null,
   "id": "6dfb8ee8-2941-4d4c-be0d-a330c264f68f",
   "metadata": {},
   "outputs": [],
   "source": []
  },
  {
   "cell_type": "code",
   "execution_count": null,
   "id": "dacfa976-a7d7-422b-bdcd-56a37c63ff02",
   "metadata": {},
   "outputs": [],
   "source": []
  },
  {
   "cell_type": "code",
   "execution_count": null,
   "id": "b71e97c5-16c5-4875-af84-3e3bce34cf0f",
   "metadata": {},
   "outputs": [],
   "source": []
  },
  {
   "cell_type": "code",
   "execution_count": null,
   "id": "c0873c88-d477-4c18-8f8e-e26f7a601184",
   "metadata": {},
   "outputs": [],
   "source": []
  },
  {
   "cell_type": "code",
   "execution_count": null,
   "id": "f71199b5-2268-46ad-b1d4-beb01a03f526",
   "metadata": {},
   "outputs": [],
   "source": []
  },
  {
   "cell_type": "code",
   "execution_count": null,
   "id": "1c4cdaff-e504-4377-93dd-da5c0d560d32",
   "metadata": {},
   "outputs": [],
   "source": []
  }
 ],
 "metadata": {
  "kernelspec": {
   "display_name": "Python 3",
   "language": "python",
   "name": "python3"
  },
  "language_info": {
   "codemirror_mode": {
    "name": "ipython",
    "version": 3
   },
   "file_extension": ".py",
   "mimetype": "text/x-python",
   "name": "python",
   "nbconvert_exporter": "python",
   "pygments_lexer": "ipython3",
   "version": "3.8.8"
  }
 },
 "nbformat": 4,
 "nbformat_minor": 5
}
