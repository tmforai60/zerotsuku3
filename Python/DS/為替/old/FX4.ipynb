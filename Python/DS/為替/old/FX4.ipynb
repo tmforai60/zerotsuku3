{
 "cells": [
  {
   "cell_type": "code",
   "execution_count": 262,
   "id": "4864a99e-110a-495c-a9f0-684fca0c97ce",
   "metadata": {},
   "outputs": [],
   "source": [
    "# ライブラリの取得\n",
    "import pandas as pd\n",
    "import numpy as np\n",
    "%matplotlib inline\n",
    "import matplotlib.pyplot as plt\n",
    "import seaborn as sns\n",
    "# sns.set(font=\"IPAexGothic\",style=\"white\")　多分いらなそう\n",
    "# import oandapy\n",
    "import configparser\n",
    "import datetime\n",
    "from datetime import datetime, timedelta\n",
    "\n",
    "import warnings\n",
    "warnings.simplefilter('ignore')\n",
    "\n",
    "# CSVデータの読み込み\n",
    "import os\n",
    "working_directory=os.getcwd()\n",
    "#print(working_directory)\n",
    "path_train=working_directory+'/train_finance.csv'\n",
    "# path_test=working_directory+'/test_finance.csv'\n",
    "path_test=working_directory+'/test_finance_last10elminate.csv'\n",
    "path_latest=working_directory+'/test_latest.csv'\n",
    "path_submit=working_directory+'/submit_finance.csv'\n",
    "\n",
    "#データフレームの生成\n",
    "df_train=pd.read_csv(path_train)\n",
    "df_test=pd.read_csv(path_test)\n",
    "df_latest=pd.read_csv(path_latest)\n",
    "df_submit=pd.read_csv(path_submit)"
   ]
  },
  {
   "cell_type": "code",
   "execution_count": 263,
   "id": "cda3ee1f-2d6e-41d0-873b-b64a30a6b21c",
   "metadata": {},
   "outputs": [
    {
     "name": "stdout",
     "output_type": "stream",
     "text": [
      "<class 'pandas.core.frame.DataFrame'>\n",
      "RangeIndex: 2074 entries, 0 to 2073\n",
      "Data columns (total 5 columns):\n",
      " #   Column  Non-Null Count  Dtype  \n",
      "---  ------  --------------  -----  \n",
      " 0   Date    2074 non-null   object \n",
      " 1   High    2074 non-null   float64\n",
      " 2   Low     2074 non-null   float64\n",
      " 3   Open    2074 non-null   float64\n",
      " 4   Close   2074 non-null   float64\n",
      "dtypes: float64(4), object(1)\n",
      "memory usage: 81.1+ KB\n"
     ]
    }
   ],
   "source": [
    "#データの確認\n",
    "df_train.info()"
   ]
  },
  {
   "cell_type": "code",
   "execution_count": 264,
   "id": "146a3528-e6c1-472b-8cd9-2e05a050fa99",
   "metadata": {},
   "outputs": [
    {
     "name": "stdout",
     "output_type": "stream",
     "text": [
      "<class 'pandas.core.frame.DataFrame'>\n",
      "RangeIndex: 1236 entries, 0 to 1235\n",
      "Data columns (total 5 columns):\n",
      " #   Column  Non-Null Count  Dtype  \n",
      "---  ------  --------------  -----  \n",
      " 0   Date    1236 non-null   object \n",
      " 1   High    1236 non-null   float64\n",
      " 2   Low     1236 non-null   float64\n",
      " 3   Open    1236 non-null   float64\n",
      " 4   Close   1236 non-null   float64\n",
      "dtypes: float64(4), object(1)\n",
      "memory usage: 48.4+ KB\n"
     ]
    }
   ],
   "source": [
    "#データの確認\n",
    "df_test.info()"
   ]
  },
  {
   "cell_type": "code",
   "execution_count": 265,
   "id": "8ea6a89a-4d2b-4ed9-8e79-5fd8744dc710",
   "metadata": {},
   "outputs": [],
   "source": [
    "# Dateがobject型になっているので日付型に変換\n",
    "df_train['Date']=pd.to_datetime(df_train['Date'],format='%Y/%m/%d')\n",
    "df_test['Date']=pd.to_datetime(df_test['Date'],format='%Y/%m/%d')\n",
    "df_latest['Date']=pd.to_datetime(df_latest['Date'],format='%Y/%m/%d')"
   ]
  },
  {
   "cell_type": "code",
   "execution_count": 266,
   "id": "7b361acc-8505-4ed0-86e7-407131ef93a8",
   "metadata": {},
   "outputs": [
    {
     "name": "stdout",
     "output_type": "stream",
     "text": [
      "<class 'pandas.core.frame.DataFrame'>\n",
      "RangeIndex: 2074 entries, 0 to 2073\n",
      "Data columns (total 5 columns):\n",
      " #   Column  Non-Null Count  Dtype         \n",
      "---  ------  --------------  -----         \n",
      " 0   Date    2074 non-null   datetime64[ns]\n",
      " 1   High    2074 non-null   float64       \n",
      " 2   Low     2074 non-null   float64       \n",
      " 3   Open    2074 non-null   float64       \n",
      " 4   Close   2074 non-null   float64       \n",
      "dtypes: datetime64[ns](1), float64(4)\n",
      "memory usage: 81.1 KB\n"
     ]
    }
   ],
   "source": [
    "# Dateが日付型に変更されたかどうかの確認\n",
    "df_train.info()"
   ]
  },
  {
   "cell_type": "code",
   "execution_count": 267,
   "id": "f971f30a-5bbb-42ba-bf00-b73a0e714957",
   "metadata": {},
   "outputs": [
    {
     "name": "stdout",
     "output_type": "stream",
     "text": [
      "<class 'pandas.core.frame.DataFrame'>\n",
      "RangeIndex: 1236 entries, 0 to 1235\n",
      "Data columns (total 5 columns):\n",
      " #   Column  Non-Null Count  Dtype         \n",
      "---  ------  --------------  -----         \n",
      " 0   Date    1236 non-null   datetime64[ns]\n",
      " 1   High    1236 non-null   float64       \n",
      " 2   Low     1236 non-null   float64       \n",
      " 3   Open    1236 non-null   float64       \n",
      " 4   Close   1236 non-null   float64       \n",
      "dtypes: datetime64[ns](1), float64(4)\n",
      "memory usage: 48.4 KB\n"
     ]
    }
   ],
   "source": [
    "# Dateが日付型に変更されたかどうかの確認\n",
    "df_test.info()"
   ]
  },
  {
   "cell_type": "code",
   "execution_count": 268,
   "id": "c3d01ae3-29c4-4664-bf9c-f5d5487f5061",
   "metadata": {},
   "outputs": [
    {
     "name": "stdout",
     "output_type": "stream",
     "text": [
      "<class 'pandas.core.frame.DataFrame'>\n",
      "RangeIndex: 10 entries, 0 to 9\n",
      "Data columns (total 5 columns):\n",
      " #   Column  Non-Null Count  Dtype         \n",
      "---  ------  --------------  -----         \n",
      " 0   Date    10 non-null     datetime64[ns]\n",
      " 1   High    10 non-null     float64       \n",
      " 2   Low     10 non-null     float64       \n",
      " 3   Open    10 non-null     float64       \n",
      " 4   Close   10 non-null     float64       \n",
      "dtypes: datetime64[ns](1), float64(4)\n",
      "memory usage: 528.0 bytes\n"
     ]
    }
   ],
   "source": [
    "# Dateが日付型に変更されたかどうかの確認\n",
    "df_latest.info()"
   ]
  },
  {
   "cell_type": "code",
   "execution_count": 269,
   "id": "0b70002f-c2d3-4590-84fe-02ca7555b0a7",
   "metadata": {},
   "outputs": [
    {
     "data": {
      "text/html": [
       "<div>\n",
       "<style scoped>\n",
       "    .dataframe tbody tr th:only-of-type {\n",
       "        vertical-align: middle;\n",
       "    }\n",
       "\n",
       "    .dataframe tbody tr th {\n",
       "        vertical-align: top;\n",
       "    }\n",
       "\n",
       "    .dataframe thead th {\n",
       "        text-align: right;\n",
       "    }\n",
       "</style>\n",
       "<table border=\"1\" class=\"dataframe\">\n",
       "  <thead>\n",
       "    <tr style=\"text-align: right;\">\n",
       "      <th></th>\n",
       "      <th>Date</th>\n",
       "      <th>High</th>\n",
       "      <th>Low</th>\n",
       "      <th>Open</th>\n",
       "      <th>Close</th>\n",
       "    </tr>\n",
       "  </thead>\n",
       "  <tbody>\n",
       "    <tr>\n",
       "      <th>0</th>\n",
       "      <td>2003-12-01</td>\n",
       "      <td>111.370639</td>\n",
       "      <td>110.482062</td>\n",
       "      <td>111.314347</td>\n",
       "      <td>110.676377</td>\n",
       "    </tr>\n",
       "    <tr>\n",
       "      <th>1</th>\n",
       "      <td>2003-12-02</td>\n",
       "      <td>112.008532</td>\n",
       "      <td>110.500532</td>\n",
       "      <td>110.639316</td>\n",
       "      <td>111.823016</td>\n",
       "    </tr>\n",
       "    <tr>\n",
       "      <th>2</th>\n",
       "      <td>2003-12-03</td>\n",
       "      <td>112.202814</td>\n",
       "      <td>111.712284</td>\n",
       "      <td>111.832477</td>\n",
       "      <td>112.137524</td>\n",
       "    </tr>\n",
       "    <tr>\n",
       "      <th>3</th>\n",
       "      <td>2003-12-04</td>\n",
       "      <td>112.332259</td>\n",
       "      <td>111.406851</td>\n",
       "      <td>112.110343</td>\n",
       "      <td>111.748717</td>\n",
       "    </tr>\n",
       "    <tr>\n",
       "      <th>4</th>\n",
       "      <td>2003-12-05</td>\n",
       "      <td>112.766375</td>\n",
       "      <td>111.609834</td>\n",
       "      <td>111.721723</td>\n",
       "      <td>112.729259</td>\n",
       "    </tr>\n",
       "  </tbody>\n",
       "</table>\n",
       "</div>"
      ],
      "text/plain": [
       "        Date        High         Low        Open       Close\n",
       "0 2003-12-01  111.370639  110.482062  111.314347  110.676377\n",
       "1 2003-12-02  112.008532  110.500532  110.639316  111.823016\n",
       "2 2003-12-03  112.202814  111.712284  111.832477  112.137524\n",
       "3 2003-12-04  112.332259  111.406851  112.110343  111.748717\n",
       "4 2003-12-05  112.766375  111.609834  111.721723  112.729259"
      ]
     },
     "execution_count": 269,
     "metadata": {},
     "output_type": "execute_result"
    }
   ],
   "source": [
    "df_train.head()"
   ]
  },
  {
   "cell_type": "code",
   "execution_count": 270,
   "id": "76b90fff-1164-4658-9e98-b04a27913fbb",
   "metadata": {},
   "outputs": [
    {
     "data": {
      "text/html": [
       "<div>\n",
       "<style scoped>\n",
       "    .dataframe tbody tr th:only-of-type {\n",
       "        vertical-align: middle;\n",
       "    }\n",
       "\n",
       "    .dataframe tbody tr th {\n",
       "        vertical-align: top;\n",
       "    }\n",
       "\n",
       "    .dataframe thead th {\n",
       "        text-align: right;\n",
       "    }\n",
       "</style>\n",
       "<table border=\"1\" class=\"dataframe\">\n",
       "  <thead>\n",
       "    <tr style=\"text-align: right;\">\n",
       "      <th></th>\n",
       "      <th>High</th>\n",
       "      <th>Low</th>\n",
       "      <th>Open</th>\n",
       "      <th>Close</th>\n",
       "    </tr>\n",
       "  </thead>\n",
       "  <tbody>\n",
       "    <tr>\n",
       "      <th>count</th>\n",
       "      <td>2074.000000</td>\n",
       "      <td>2074.000000</td>\n",
       "      <td>2074.000000</td>\n",
       "      <td>2074.000000</td>\n",
       "    </tr>\n",
       "    <tr>\n",
       "      <th>mean</th>\n",
       "      <td>124.078238</td>\n",
       "      <td>122.910559</td>\n",
       "      <td>123.526205</td>\n",
       "      <td>123.529490</td>\n",
       "    </tr>\n",
       "    <tr>\n",
       "      <th>std</th>\n",
       "      <td>9.210193</td>\n",
       "      <td>9.493319</td>\n",
       "      <td>9.188003</td>\n",
       "      <td>9.184970</td>\n",
       "    </tr>\n",
       "    <tr>\n",
       "      <th>min</th>\n",
       "      <td>108.520946</td>\n",
       "      <td>6.743457</td>\n",
       "      <td>107.993884</td>\n",
       "      <td>107.998923</td>\n",
       "    </tr>\n",
       "    <tr>\n",
       "      <th>25%</th>\n",
       "      <td>117.002707</td>\n",
       "      <td>115.863246</td>\n",
       "      <td>116.408944</td>\n",
       "      <td>116.427990</td>\n",
       "    </tr>\n",
       "    <tr>\n",
       "      <th>50%</th>\n",
       "      <td>123.242134</td>\n",
       "      <td>121.951219</td>\n",
       "      <td>122.590435</td>\n",
       "      <td>122.573382</td>\n",
       "    </tr>\n",
       "    <tr>\n",
       "      <th>75%</th>\n",
       "      <td>130.814157</td>\n",
       "      <td>129.393252</td>\n",
       "      <td>130.201913</td>\n",
       "      <td>130.179930</td>\n",
       "    </tr>\n",
       "    <tr>\n",
       "      <th>max</th>\n",
       "      <td>148.260942</td>\n",
       "      <td>146.834717</td>\n",
       "      <td>147.832063</td>\n",
       "      <td>147.888796</td>\n",
       "    </tr>\n",
       "  </tbody>\n",
       "</table>\n",
       "</div>"
      ],
      "text/plain": [
       "              High          Low         Open        Close\n",
       "count  2074.000000  2074.000000  2074.000000  2074.000000\n",
       "mean    124.078238   122.910559   123.526205   123.529490\n",
       "std       9.210193     9.493319     9.188003     9.184970\n",
       "min     108.520946     6.743457   107.993884   107.998923\n",
       "25%     117.002707   115.863246   116.408944   116.427990\n",
       "50%     123.242134   121.951219   122.590435   122.573382\n",
       "75%     130.814157   129.393252   130.201913   130.179930\n",
       "max     148.260942   146.834717   147.832063   147.888796"
      ]
     },
     "execution_count": 270,
     "metadata": {},
     "output_type": "execute_result"
    }
   ],
   "source": [
    "#データの確認\n",
    "df_train.describe()"
   ]
  },
  {
   "cell_type": "code",
   "execution_count": 271,
   "id": "7cea939b-e54c-488b-9e8c-5b2ec3edfc5f",
   "metadata": {},
   "outputs": [
    {
     "data": {
      "text/html": [
       "<div>\n",
       "<style scoped>\n",
       "    .dataframe tbody tr th:only-of-type {\n",
       "        vertical-align: middle;\n",
       "    }\n",
       "\n",
       "    .dataframe tbody tr th {\n",
       "        vertical-align: top;\n",
       "    }\n",
       "\n",
       "    .dataframe thead th {\n",
       "        text-align: right;\n",
       "    }\n",
       "</style>\n",
       "<table border=\"1\" class=\"dataframe\">\n",
       "  <thead>\n",
       "    <tr style=\"text-align: right;\">\n",
       "      <th></th>\n",
       "      <th>High</th>\n",
       "      <th>Low</th>\n",
       "      <th>Open</th>\n",
       "      <th>Close</th>\n",
       "    </tr>\n",
       "  </thead>\n",
       "  <tbody>\n",
       "    <tr>\n",
       "      <th>count</th>\n",
       "      <td>1236.000000</td>\n",
       "      <td>1236.000000</td>\n",
       "      <td>1236.000000</td>\n",
       "      <td>1236.000000</td>\n",
       "    </tr>\n",
       "    <tr>\n",
       "      <th>mean</th>\n",
       "      <td>111.490059</td>\n",
       "      <td>110.738356</td>\n",
       "      <td>111.134670</td>\n",
       "      <td>111.135065</td>\n",
       "    </tr>\n",
       "    <tr>\n",
       "      <th>std</th>\n",
       "      <td>9.214735</td>\n",
       "      <td>9.281701</td>\n",
       "      <td>9.224468</td>\n",
       "      <td>9.223940</td>\n",
       "    </tr>\n",
       "    <tr>\n",
       "      <th>min</th>\n",
       "      <td>96.767439</td>\n",
       "      <td>70.352906</td>\n",
       "      <td>96.364197</td>\n",
       "      <td>96.357173</td>\n",
       "    </tr>\n",
       "    <tr>\n",
       "      <th>25%</th>\n",
       "      <td>103.778958</td>\n",
       "      <td>103.142761</td>\n",
       "      <td>103.477977</td>\n",
       "      <td>103.472478</td>\n",
       "    </tr>\n",
       "    <tr>\n",
       "      <th>50%</th>\n",
       "      <td>108.639479</td>\n",
       "      <td>107.891858</td>\n",
       "      <td>108.202341</td>\n",
       "      <td>108.196006</td>\n",
       "    </tr>\n",
       "    <tr>\n",
       "      <th>75%</th>\n",
       "      <td>120.711486</td>\n",
       "      <td>119.859603</td>\n",
       "      <td>120.326373</td>\n",
       "      <td>120.329122</td>\n",
       "    </tr>\n",
       "    <tr>\n",
       "      <th>max</th>\n",
       "      <td>129.417693</td>\n",
       "      <td>128.691530</td>\n",
       "      <td>128.851619</td>\n",
       "      <td>128.858797</td>\n",
       "    </tr>\n",
       "  </tbody>\n",
       "</table>\n",
       "</div>"
      ],
      "text/plain": [
       "              High          Low         Open        Close\n",
       "count  1236.000000  1236.000000  1236.000000  1236.000000\n",
       "mean    111.490059   110.738356   111.134670   111.135065\n",
       "std       9.214735     9.281701     9.224468     9.223940\n",
       "min      96.767439    70.352906    96.364197    96.357173\n",
       "25%     103.778958   103.142761   103.477977   103.472478\n",
       "50%     108.639479   107.891858   108.202341   108.196006\n",
       "75%     120.711486   119.859603   120.326373   120.329122\n",
       "max     129.417693   128.691530   128.851619   128.858797"
      ]
     },
     "execution_count": 271,
     "metadata": {},
     "output_type": "execute_result"
    }
   ],
   "source": [
    "#データの確認\n",
    "df_test.describe()"
   ]
  },
  {
   "cell_type": "code",
   "execution_count": 272,
   "id": "ff9f9180-63d6-439c-a3b6-9678dcd82ef9",
   "metadata": {},
   "outputs": [
    {
     "name": "stdout",
     "output_type": "stream",
     "text": [
      "欠損データ確認(df_train)\n",
      "Date     0\n",
      "High     0\n",
      "Low      0\n",
      "Open     0\n",
      "Close    0\n",
      "dtype: int64\n",
      "\n",
      "欠損データを確認(df_test)\n",
      "Date     0\n",
      "High     0\n",
      "Low      0\n",
      "Open     0\n",
      "Close    0\n",
      "dtype: int64\n",
      "\n"
     ]
    }
   ],
   "source": [
    "#欠損値の確認\n",
    "print(f'欠損データ確認(df_train)\\n{df_train.isnull().sum()}\\n')\n",
    "print(f'欠損データを確認(df_test)\\n{df_test.isnull().sum()}\\n')"
   ]
  },
  {
   "cell_type": "markdown",
   "id": "b8daff79-41e9-4b9e-9c3b-cb6856a3d546",
   "metadata": {},
   "source": [
    "## Trainデータを学習用と検証用に分割\n",
    "#### (しようとしたが今回はそもそもtrain:2003/12/1-2011/12/14 | test:2011/12/15-2019/12/31に分かれてるので分割不要。前者を学習用、後者を検証用に使う)"
   ]
  },
  {
   "cell_type": "code",
   "execution_count": 273,
   "id": "3d7b24b3-74fa-45be-a4a9-6e746c33313d",
   "metadata": {},
   "outputs": [],
   "source": [
    "# 不要\n",
    "# Trainデータを学習用と検証用に分割\n",
    "# 今回は①学習用：8割、②検証用：2割にTrainデータを分割して、①の予測モデルで\n",
    "# ②が正しく評価できるのかを確認した上で、testデータへの予測モデルの適用を行う"
   ]
  },
  {
   "cell_type": "code",
   "execution_count": 274,
   "id": "bc0c2e46-645b-4ae4-bb7e-56594743302d",
   "metadata": {},
   "outputs": [],
   "source": [
    "# 不要\n",
    "# # train_test_splitというDataFrameを分けてくれる関数がsklearnにあるのでそれを使う\n",
    "# from sklearn.model_selection import train_test_split\n",
    "\n",
    "# df_train, df_validation = train_test_split(df_train, train_size=0.8, test_size=0.2, shuffle=False)"
   ]
  },
  {
   "cell_type": "code",
   "execution_count": 275,
   "id": "4369f120-d765-4eda-b9a0-c05d5e42ba7d",
   "metadata": {},
   "outputs": [],
   "source": [
    "# 不要\n",
    "# # 分割後のサイズ\n",
    "# print(f'①学習用データのサイズ(df_train)：{len(df_train)}')\n",
    "# print(f'②検証用データのサイズ(df_validation)：{len(df_validation)}')\n",
    "# print(f'元々のdf_trainのサイズが8:2に分割された\\n')\n",
    "\n",
    "# # 分割後の詳細\n",
    "# print(f'分割後のサマリ(df_train)\\n{df_train.describe()}\\n')\n",
    "# print(f'分割後のサマリ(df_validation)\\n{df_validation.describe()}\\n')"
   ]
  },
  {
   "cell_type": "markdown",
   "id": "98046edc-d7e6-4ebe-99b5-aba997bf9928",
   "metadata": {},
   "source": [
    "##　LSTMモデルへ訓練させるための前処理"
   ]
  },
  {
   "cell_type": "code",
   "execution_count": 276,
   "id": "6ab9e7c4-fadc-4428-b3d8-73d1f845386d",
   "metadata": {},
   "outputs": [],
   "source": [
    "##　LSTMモデルへ訓練させるための前処理"
   ]
  },
  {
   "cell_type": "code",
   "execution_count": 277,
   "id": "490de5d6-ec84-4808-ba49-a198c1d9523e",
   "metadata": {},
   "outputs": [],
   "source": [
    "# windowを設定\n",
    "window_len=10"
   ]
  },
  {
   "cell_type": "code",
   "execution_count": null,
   "id": "231909a5-3252-43c5-b43c-9efadcb299ee",
   "metadata": {},
   "outputs": [],
   "source": []
  },
  {
   "cell_type": "code",
   "execution_count": 278,
   "id": "d9b2e854-58f3-4c35-bf80-f955ec00f65c",
   "metadata": {},
   "outputs": [],
   "source": [
    "# # Closeの単価だけ抽出\n",
    "# df_train=df_train['Close']\n",
    "# df_test=df_test['Close']\n",
    "# df_latest=df_latest['Close']"
   ]
  },
  {
   "cell_type": "code",
   "execution_count": 279,
   "id": "c0a418ea-b9b7-42e0-a559-6e30a000acd9",
   "metadata": {},
   "outputs": [],
   "source": [
    "# Dateそぎ落とし\n",
    "del df_train['Date']\n",
    "del df_test['Date']\n",
    "del df_latest['Date']"
   ]
  },
  {
   "cell_type": "code",
   "execution_count": 280,
   "id": "0695a4ff-f7a4-410d-a11d-17dfe011099a",
   "metadata": {},
   "outputs": [
    {
     "name": "stdout",
     "output_type": "stream",
     "text": [
      "単価抽出後のサマリ(df_train)\n",
      "              High          Low         Open        Close\n",
      "count  2074.000000  2074.000000  2074.000000  2074.000000\n",
      "mean    124.078238   122.910559   123.526205   123.529490\n",
      "std       9.210193     9.493319     9.188003     9.184970\n",
      "min     108.520946     6.743457   107.993884   107.998923\n",
      "25%     117.002707   115.863246   116.408944   116.427990\n",
      "50%     123.242134   121.951219   122.590435   122.573382\n",
      "75%     130.814157   129.393252   130.201913   130.179930\n",
      "max     148.260942   146.834717   147.832063   147.888796\n",
      "\n",
      "単価抽出後のサマリ(df_test)\n",
      "              High          Low         Open        Close\n",
      "count  1236.000000  1236.000000  1236.000000  1236.000000\n",
      "mean    111.490059   110.738356   111.134670   111.135065\n",
      "std       9.214735     9.281701     9.224468     9.223940\n",
      "min      96.767439    70.352906    96.364197    96.357173\n",
      "25%     103.778958   103.142761   103.477977   103.472478\n",
      "50%     108.639479   107.891858   108.202341   108.196006\n",
      "75%     120.711486   119.859603   120.326373   120.329122\n",
      "max     129.417693   128.691530   128.851619   128.858797\n",
      "\n",
      "単価抽出後のサマリ(df_latest)\n",
      "             High         Low        Open       Close\n",
      "count   10.000000   10.000000   10.000000   10.000000\n",
      "mean   103.334161  102.926054  103.071625  103.074446\n",
      "std      0.361769    0.337125    0.340458    0.340053\n",
      "min    102.720708  102.515795  102.629538  102.632956\n",
      "25%    103.155731  102.769785  102.843781  102.842064\n",
      "50%    103.281038  102.817198  103.000376  103.011844\n",
      "75%    103.464673  102.943638  103.359891  103.364806\n",
      "max    103.979324  103.606639  103.641461  103.621249\n",
      "\n"
     ]
    }
   ],
   "source": [
    "# 分割後の詳細\n",
    "print(f'単価抽出後のサマリ(df_train)\\n{df_train.describe()}\\n')\n",
    "print(f'単価抽出後のサマリ(df_test)\\n{df_test.describe()}\\n')\n",
    "print(f'単価抽出後のサマリ(df_latest)\\n{df_latest.describe()}\\n')"
   ]
  },
  {
   "cell_type": "code",
   "execution_count": 281,
   "id": "20fc0bc9-af10-42be-907d-5a109e96fbe7",
   "metadata": {},
   "outputs": [
    {
     "data": {
      "text/html": [
       "<div>\n",
       "<style scoped>\n",
       "    .dataframe tbody tr th:only-of-type {\n",
       "        vertical-align: middle;\n",
       "    }\n",
       "\n",
       "    .dataframe tbody tr th {\n",
       "        vertical-align: top;\n",
       "    }\n",
       "\n",
       "    .dataframe thead th {\n",
       "        text-align: right;\n",
       "    }\n",
       "</style>\n",
       "<table border=\"1\" class=\"dataframe\">\n",
       "  <thead>\n",
       "    <tr style=\"text-align: right;\">\n",
       "      <th></th>\n",
       "      <th>High</th>\n",
       "      <th>Low</th>\n",
       "      <th>Open</th>\n",
       "      <th>Close</th>\n",
       "    </tr>\n",
       "  </thead>\n",
       "  <tbody>\n",
       "    <tr>\n",
       "      <th>0</th>\n",
       "      <td>111.370639</td>\n",
       "      <td>110.482062</td>\n",
       "      <td>111.314347</td>\n",
       "      <td>110.676377</td>\n",
       "    </tr>\n",
       "    <tr>\n",
       "      <th>1</th>\n",
       "      <td>112.008532</td>\n",
       "      <td>110.500532</td>\n",
       "      <td>110.639316</td>\n",
       "      <td>111.823016</td>\n",
       "    </tr>\n",
       "    <tr>\n",
       "      <th>2</th>\n",
       "      <td>112.202814</td>\n",
       "      <td>111.712284</td>\n",
       "      <td>111.832477</td>\n",
       "      <td>112.137524</td>\n",
       "    </tr>\n",
       "    <tr>\n",
       "      <th>3</th>\n",
       "      <td>112.332259</td>\n",
       "      <td>111.406851</td>\n",
       "      <td>112.110343</td>\n",
       "      <td>111.748717</td>\n",
       "    </tr>\n",
       "    <tr>\n",
       "      <th>4</th>\n",
       "      <td>112.766375</td>\n",
       "      <td>111.609834</td>\n",
       "      <td>111.721723</td>\n",
       "      <td>112.729259</td>\n",
       "    </tr>\n",
       "  </tbody>\n",
       "</table>\n",
       "</div>"
      ],
      "text/plain": [
       "         High         Low        Open       Close\n",
       "0  111.370639  110.482062  111.314347  110.676377\n",
       "1  112.008532  110.500532  110.639316  111.823016\n",
       "2  112.202814  111.712284  111.832477  112.137524\n",
       "3  112.332259  111.406851  112.110343  111.748717\n",
       "4  112.766375  111.609834  111.721723  112.729259"
      ]
     },
     "execution_count": 281,
     "metadata": {},
     "output_type": "execute_result"
    }
   ],
   "source": [
    "df_train.head()"
   ]
  },
  {
   "cell_type": "code",
   "execution_count": 282,
   "id": "ff4ffc71-da95-4b5b-ae19-5d6d12e20204",
   "metadata": {},
   "outputs": [],
   "source": [
    "# LSTMへの入力用に処理の関数\n",
    "\n",
    "def data_maker(data):\n",
    "  data_lstm_in=[]\n",
    "  if len(data)==window_len:\n",
    "    temp = data[:window_len].copy()\n",
    "    temp = temp / temp.iloc[0] - 1\n",
    "    data_lstm_in.append(temp)\n",
    "  for i in range(len(data) - window_len): #今回のLSTMで生成する時系列データ数(train総数-10個のモデル)\n",
    "      temp = data[i:(i + window_len)].copy() #windowの単位で行を取得。参照渡しでなく値渡し。\n",
    "      temp = temp / temp.iloc[0] - 1\n",
    "      data_lstm_in.append(temp)\n",
    "  return data_lstm_in"
   ]
  },
  {
   "cell_type": "code",
   "execution_count": null,
   "id": "13e179af-b4f5-4013-9eef-ceb4b4ed3894",
   "metadata": {},
   "outputs": [],
   "source": []
  },
  {
   "cell_type": "code",
   "execution_count": 283,
   "id": "51d3588b-01c5-447c-96bb-1e54ca4cbe64",
   "metadata": {},
   "outputs": [],
   "source": [
    "#関数の実行\n",
    "train_lstm_in = data_maker(df_train)"
   ]
  },
  {
   "cell_type": "code",
   "execution_count": 290,
   "id": "ba2c6512-656c-4c30-a186-40f7d4cb2806",
   "metadata": {},
   "outputs": [
    {
     "data": {
      "text/html": [
       "<div>\n",
       "<style scoped>\n",
       "    .dataframe tbody tr th:only-of-type {\n",
       "        vertical-align: middle;\n",
       "    }\n",
       "\n",
       "    .dataframe tbody tr th {\n",
       "        vertical-align: top;\n",
       "    }\n",
       "\n",
       "    .dataframe thead th {\n",
       "        text-align: right;\n",
       "    }\n",
       "</style>\n",
       "<table border=\"1\" class=\"dataframe\">\n",
       "  <thead>\n",
       "    <tr style=\"text-align: right;\">\n",
       "      <th></th>\n",
       "      <th>High</th>\n",
       "      <th>Low</th>\n",
       "      <th>Open</th>\n",
       "      <th>Close</th>\n",
       "    </tr>\n",
       "  </thead>\n",
       "  <tbody>\n",
       "    <tr>\n",
       "      <th>1</th>\n",
       "      <td>0.000000</td>\n",
       "      <td>0.000000</td>\n",
       "      <td>0.000000</td>\n",
       "      <td>0.000000</td>\n",
       "    </tr>\n",
       "    <tr>\n",
       "      <th>2</th>\n",
       "      <td>0.001735</td>\n",
       "      <td>0.010966</td>\n",
       "      <td>0.010784</td>\n",
       "      <td>0.002813</td>\n",
       "    </tr>\n",
       "    <tr>\n",
       "      <th>3</th>\n",
       "      <td>0.002890</td>\n",
       "      <td>0.008202</td>\n",
       "      <td>0.013296</td>\n",
       "      <td>-0.000664</td>\n",
       "    </tr>\n",
       "    <tr>\n",
       "      <th>4</th>\n",
       "      <td>0.006766</td>\n",
       "      <td>0.010039</td>\n",
       "      <td>0.009783</td>\n",
       "      <td>0.008104</td>\n",
       "    </tr>\n",
       "    <tr>\n",
       "      <th>5</th>\n",
       "      <td>0.010820</td>\n",
       "      <td>0.017417</td>\n",
       "      <td>0.017303</td>\n",
       "      <td>0.010839</td>\n",
       "    </tr>\n",
       "    <tr>\n",
       "      <th>6</th>\n",
       "      <td>0.013873</td>\n",
       "      <td>0.021090</td>\n",
       "      <td>0.021741</td>\n",
       "      <td>0.013316</td>\n",
       "    </tr>\n",
       "    <tr>\n",
       "      <th>7</th>\n",
       "      <td>0.012965</td>\n",
       "      <td>0.018085</td>\n",
       "      <td>0.024082</td>\n",
       "      <td>0.008436</td>\n",
       "    </tr>\n",
       "    <tr>\n",
       "      <th>8</th>\n",
       "      <td>0.010400</td>\n",
       "      <td>0.014814</td>\n",
       "      <td>0.019225</td>\n",
       "      <td>0.011173</td>\n",
       "    </tr>\n",
       "    <tr>\n",
       "      <th>9</th>\n",
       "      <td>0.016268</td>\n",
       "      <td>0.022350</td>\n",
       "      <td>0.022241</td>\n",
       "      <td>0.015717</td>\n",
       "    </tr>\n",
       "    <tr>\n",
       "      <th>10</th>\n",
       "      <td>0.017834</td>\n",
       "      <td>0.019424</td>\n",
       "      <td>0.018890</td>\n",
       "      <td>0.019108</td>\n",
       "    </tr>\n",
       "  </tbody>\n",
       "</table>\n",
       "</div>"
      ],
      "text/plain": [
       "        High       Low      Open     Close\n",
       "1   0.000000  0.000000  0.000000  0.000000\n",
       "2   0.001735  0.010966  0.010784  0.002813\n",
       "3   0.002890  0.008202  0.013296 -0.000664\n",
       "4   0.006766  0.010039  0.009783  0.008104\n",
       "5   0.010820  0.017417  0.017303  0.010839\n",
       "6   0.013873  0.021090  0.021741  0.013316\n",
       "7   0.012965  0.018085  0.024082  0.008436\n",
       "8   0.010400  0.014814  0.019225  0.011173\n",
       "9   0.016268  0.022350  0.022241  0.015717\n",
       "10  0.017834  0.019424  0.018890  0.019108"
      ]
     },
     "execution_count": 290,
     "metadata": {},
     "output_type": "execute_result"
    }
   ],
   "source": [
    "train_lstm_in[1]"
   ]
  },
  {
   "cell_type": "code",
   "execution_count": 291,
   "id": "7170b76f-5829-4554-9535-62d5b5b16c45",
   "metadata": {},
   "outputs": [],
   "source": [
    "lstm_train_out = (df_train['Open'][window_len:].values / df_train['Open'][:-window_len].values)-1"
   ]
  },
  {
   "cell_type": "code",
   "execution_count": 292,
   "id": "bfd3c0d2-6d78-440b-b5df-c1218410103b",
   "metadata": {},
   "outputs": [],
   "source": [
    "# print(f'df_train[window_len:]\\n{df_train['Open'][window_len:]}\\n')\n",
    "# print(f'df_train[:-window_len]\\n{df_train['Open'][:-window_len]}\\n')\n",
    "# print(f'df_train_tail\\n{df_train.tail(10)}\\n')"
   ]
  },
  {
   "cell_type": "code",
   "execution_count": null,
   "id": "24633f6a-5c4c-465f-9901-7bc935a5cb45",
   "metadata": {},
   "outputs": [],
   "source": []
  },
  {
   "cell_type": "code",
   "execution_count": 293,
   "id": "d2e58329-224a-4784-b46d-fe1cac235725",
   "metadata": {},
   "outputs": [],
   "source": [
    "test_lstm_in = data_maker(df_test)"
   ]
  },
  {
   "cell_type": "code",
   "execution_count": 294,
   "id": "3575f822-83cd-4bd2-8ea9-e15a9267b1b6",
   "metadata": {},
   "outputs": [
    {
     "data": {
      "text/plain": [
       "1226"
      ]
     },
     "execution_count": 294,
     "metadata": {},
     "output_type": "execute_result"
    }
   ],
   "source": [
    "len(test_lstm_in)"
   ]
  },
  {
   "cell_type": "code",
   "execution_count": 295,
   "id": "25003ad4-d4d4-4956-9b01-773f3adcfce3",
   "metadata": {},
   "outputs": [
    {
     "data": {
      "text/html": [
       "<div>\n",
       "<style scoped>\n",
       "    .dataframe tbody tr th:only-of-type {\n",
       "        vertical-align: middle;\n",
       "    }\n",
       "\n",
       "    .dataframe tbody tr th {\n",
       "        vertical-align: top;\n",
       "    }\n",
       "\n",
       "    .dataframe thead th {\n",
       "        text-align: right;\n",
       "    }\n",
       "</style>\n",
       "<table border=\"1\" class=\"dataframe\">\n",
       "  <thead>\n",
       "    <tr style=\"text-align: right;\">\n",
       "      <th></th>\n",
       "      <th>High</th>\n",
       "      <th>Low</th>\n",
       "      <th>Open</th>\n",
       "      <th>Close</th>\n",
       "    </tr>\n",
       "  </thead>\n",
       "  <tbody>\n",
       "    <tr>\n",
       "      <th>1</th>\n",
       "      <td>0.000000</td>\n",
       "      <td>0.000000</td>\n",
       "      <td>0.000000</td>\n",
       "      <td>0.000000</td>\n",
       "    </tr>\n",
       "    <tr>\n",
       "      <th>2</th>\n",
       "      <td>-0.003286</td>\n",
       "      <td>-0.001688</td>\n",
       "      <td>0.000456</td>\n",
       "      <td>0.000561</td>\n",
       "    </tr>\n",
       "    <tr>\n",
       "      <th>3</th>\n",
       "      <td>0.003664</td>\n",
       "      <td>-0.000767</td>\n",
       "      <td>-0.001691</td>\n",
       "      <td>-0.001678</td>\n",
       "    </tr>\n",
       "    <tr>\n",
       "      <th>4</th>\n",
       "      <td>0.008418</td>\n",
       "      <td>0.001655</td>\n",
       "      <td>0.004450</td>\n",
       "      <td>0.004476</td>\n",
       "    </tr>\n",
       "    <tr>\n",
       "      <th>5</th>\n",
       "      <td>0.002676</td>\n",
       "      <td>0.001276</td>\n",
       "      <td>0.000613</td>\n",
       "      <td>0.000795</td>\n",
       "    </tr>\n",
       "    <tr>\n",
       "      <th>6</th>\n",
       "      <td>-0.010705</td>\n",
       "      <td>-0.011202</td>\n",
       "      <td>-0.008001</td>\n",
       "      <td>-0.007860</td>\n",
       "    </tr>\n",
       "    <tr>\n",
       "      <th>7</th>\n",
       "      <td>-0.006732</td>\n",
       "      <td>-0.007757</td>\n",
       "      <td>-0.005971</td>\n",
       "      <td>-0.005649</td>\n",
       "    </tr>\n",
       "    <tr>\n",
       "      <th>8</th>\n",
       "      <td>-0.009179</td>\n",
       "      <td>-0.006487</td>\n",
       "      <td>-0.005366</td>\n",
       "      <td>-0.005340</td>\n",
       "    </tr>\n",
       "    <tr>\n",
       "      <th>9</th>\n",
       "      <td>-0.001385</td>\n",
       "      <td>-0.005433</td>\n",
       "      <td>-0.007193</td>\n",
       "      <td>-0.006807</td>\n",
       "    </tr>\n",
       "    <tr>\n",
       "      <th>10</th>\n",
       "      <td>-0.000771</td>\n",
       "      <td>-0.008064</td>\n",
       "      <td>0.001841</td>\n",
       "      <td>0.002024</td>\n",
       "    </tr>\n",
       "  </tbody>\n",
       "</table>\n",
       "</div>"
      ],
      "text/plain": [
       "        High       Low      Open     Close\n",
       "1   0.000000  0.000000  0.000000  0.000000\n",
       "2  -0.003286 -0.001688  0.000456  0.000561\n",
       "3   0.003664 -0.000767 -0.001691 -0.001678\n",
       "4   0.008418  0.001655  0.004450  0.004476\n",
       "5   0.002676  0.001276  0.000613  0.000795\n",
       "6  -0.010705 -0.011202 -0.008001 -0.007860\n",
       "7  -0.006732 -0.007757 -0.005971 -0.005649\n",
       "8  -0.009179 -0.006487 -0.005366 -0.005340\n",
       "9  -0.001385 -0.005433 -0.007193 -0.006807\n",
       "10 -0.000771 -0.008064  0.001841  0.002024"
      ]
     },
     "execution_count": 295,
     "metadata": {},
     "output_type": "execute_result"
    }
   ],
   "source": [
    "test_lstm_in[1]"
   ]
  },
  {
   "cell_type": "code",
   "execution_count": 296,
   "id": "ff2c17f1-3399-4311-b680-6d4fbf1ff0e6",
   "metadata": {},
   "outputs": [
    {
     "data": {
      "text/plain": [
       "1226"
      ]
     },
     "execution_count": 296,
     "metadata": {},
     "output_type": "execute_result"
    }
   ],
   "source": [
    "len(test_lstm_in)"
   ]
  },
  {
   "cell_type": "code",
   "execution_count": 297,
   "id": "b5ae74d1-3540-47bb-a655-9477eda2ed34",
   "metadata": {},
   "outputs": [
    {
     "data": {
      "text/html": [
       "<div>\n",
       "<style scoped>\n",
       "    .dataframe tbody tr th:only-of-type {\n",
       "        vertical-align: middle;\n",
       "    }\n",
       "\n",
       "    .dataframe tbody tr th {\n",
       "        vertical-align: top;\n",
       "    }\n",
       "\n",
       "    .dataframe thead th {\n",
       "        text-align: right;\n",
       "    }\n",
       "</style>\n",
       "<table border=\"1\" class=\"dataframe\">\n",
       "  <thead>\n",
       "    <tr style=\"text-align: right;\">\n",
       "      <th></th>\n",
       "      <th>High</th>\n",
       "      <th>Low</th>\n",
       "      <th>Open</th>\n",
       "      <th>Close</th>\n",
       "    </tr>\n",
       "  </thead>\n",
       "  <tbody>\n",
       "    <tr>\n",
       "      <th>0</th>\n",
       "      <td>0.000000</td>\n",
       "      <td>0.000000</td>\n",
       "      <td>0.000000</td>\n",
       "      <td>0.000000</td>\n",
       "    </tr>\n",
       "    <tr>\n",
       "      <th>1</th>\n",
       "      <td>0.002682</td>\n",
       "      <td>0.003395</td>\n",
       "      <td>0.003284</td>\n",
       "      <td>0.003205</td>\n",
       "    </tr>\n",
       "    <tr>\n",
       "      <th>2</th>\n",
       "      <td>-0.000613</td>\n",
       "      <td>0.001701</td>\n",
       "      <td>0.003741</td>\n",
       "      <td>0.003768</td>\n",
       "    </tr>\n",
       "    <tr>\n",
       "      <th>3</th>\n",
       "      <td>0.006356</td>\n",
       "      <td>0.002625</td>\n",
       "      <td>0.001587</td>\n",
       "      <td>0.001522</td>\n",
       "    </tr>\n",
       "    <tr>\n",
       "      <th>4</th>\n",
       "      <td>0.011123</td>\n",
       "      <td>0.005055</td>\n",
       "      <td>0.007748</td>\n",
       "      <td>0.007696</td>\n",
       "    </tr>\n",
       "    <tr>\n",
       "      <th>5</th>\n",
       "      <td>0.005366</td>\n",
       "      <td>0.004675</td>\n",
       "      <td>0.003898</td>\n",
       "      <td>0.004003</td>\n",
       "    </tr>\n",
       "    <tr>\n",
       "      <th>6</th>\n",
       "      <td>-0.008051</td>\n",
       "      <td>-0.007845</td>\n",
       "      <td>-0.004744</td>\n",
       "      <td>-0.004680</td>\n",
       "    </tr>\n",
       "    <tr>\n",
       "      <th>7</th>\n",
       "      <td>-0.004068</td>\n",
       "      <td>-0.004388</td>\n",
       "      <td>-0.002707</td>\n",
       "      <td>-0.002462</td>\n",
       "    </tr>\n",
       "    <tr>\n",
       "      <th>8</th>\n",
       "      <td>-0.006521</td>\n",
       "      <td>-0.003114</td>\n",
       "      <td>-0.002100</td>\n",
       "      <td>-0.002151</td>\n",
       "    </tr>\n",
       "    <tr>\n",
       "      <th>9</th>\n",
       "      <td>0.001294</td>\n",
       "      <td>-0.002057</td>\n",
       "      <td>-0.003933</td>\n",
       "      <td>-0.003623</td>\n",
       "    </tr>\n",
       "  </tbody>\n",
       "</table>\n",
       "</div>"
      ],
      "text/plain": [
       "       High       Low      Open     Close\n",
       "0  0.000000  0.000000  0.000000  0.000000\n",
       "1  0.002682  0.003395  0.003284  0.003205\n",
       "2 -0.000613  0.001701  0.003741  0.003768\n",
       "3  0.006356  0.002625  0.001587  0.001522\n",
       "4  0.011123  0.005055  0.007748  0.007696\n",
       "5  0.005366  0.004675  0.003898  0.004003\n",
       "6 -0.008051 -0.007845 -0.004744 -0.004680\n",
       "7 -0.004068 -0.004388 -0.002707 -0.002462\n",
       "8 -0.006521 -0.003114 -0.002100 -0.002151\n",
       "9  0.001294 -0.002057 -0.003933 -0.003623"
      ]
     },
     "execution_count": 297,
     "metadata": {},
     "output_type": "execute_result"
    }
   ],
   "source": [
    "test_lstm_in[0]"
   ]
  },
  {
   "cell_type": "code",
   "execution_count": null,
   "id": "72e28048-b780-47d8-b56d-b19163eb02a8",
   "metadata": {},
   "outputs": [],
   "source": []
  },
  {
   "cell_type": "code",
   "execution_count": 298,
   "id": "e4fe251e-edaa-4fb7-a3a4-cec17f355c3f",
   "metadata": {},
   "outputs": [],
   "source": [
    "lstm_test_out = (df_test['Open'][window_len:].values / df_test['Open'][:-window_len].values)-1"
   ]
  },
  {
   "cell_type": "code",
   "execution_count": 300,
   "id": "67fd86f3-be15-47ba-a998-e2307bd07364",
   "metadata": {},
   "outputs": [],
   "source": [
    "# print(f'df_test[window_len:]\\n{df_test['Open'][window_len:]}\\n')\n",
    "# print(f'df_test[:-window_len]\\n{df_test['Open'][:-window_len]}\\n')\n",
    "# print(f'df_test_tail\\n{df_test.tail(10)}\\n')"
   ]
  },
  {
   "cell_type": "code",
   "execution_count": 301,
   "id": "8c545549-2377-4fe9-a15b-f8a56958c30a",
   "metadata": {},
   "outputs": [
    {
     "data": {
      "text/plain": [
       "array([ 0.00513026, -0.00760332, -0.02393378, ...,  0.00048736,\n",
       "        0.00663805,  0.00541945])"
      ]
     },
     "execution_count": 301,
     "metadata": {},
     "output_type": "execute_result"
    }
   ],
   "source": [
    "lstm_test_out"
   ]
  },
  {
   "cell_type": "code",
   "execution_count": null,
   "id": "2d1a9d83-322b-4050-a0bf-c474bc6bc89f",
   "metadata": {},
   "outputs": [],
   "source": []
  },
  {
   "cell_type": "code",
   "execution_count": 302,
   "id": "9086466a-a5b8-407f-aa11-8f8f4ab3933f",
   "metadata": {},
   "outputs": [],
   "source": [
    "latest_lstm_in = data_maker(df_latest)"
   ]
  },
  {
   "cell_type": "code",
   "execution_count": 303,
   "id": "278b4092-6140-40f6-b923-00acad181de3",
   "metadata": {},
   "outputs": [
    {
     "data": {
      "text/plain": [
       "1"
      ]
     },
     "execution_count": 303,
     "metadata": {},
     "output_type": "execute_result"
    }
   ],
   "source": [
    "len(latest_lstm_in)"
   ]
  },
  {
   "cell_type": "code",
   "execution_count": 304,
   "id": "f80e4eef-b86f-480c-b718-4a38831fe573",
   "metadata": {},
   "outputs": [
    {
     "data": {
      "text/html": [
       "<div>\n",
       "<style scoped>\n",
       "    .dataframe tbody tr th:only-of-type {\n",
       "        vertical-align: middle;\n",
       "    }\n",
       "\n",
       "    .dataframe tbody tr th {\n",
       "        vertical-align: top;\n",
       "    }\n",
       "\n",
       "    .dataframe thead th {\n",
       "        text-align: right;\n",
       "    }\n",
       "</style>\n",
       "<table border=\"1\" class=\"dataframe\">\n",
       "  <thead>\n",
       "    <tr style=\"text-align: right;\">\n",
       "      <th></th>\n",
       "      <th>High</th>\n",
       "      <th>Low</th>\n",
       "      <th>Open</th>\n",
       "      <th>Close</th>\n",
       "    </tr>\n",
       "  </thead>\n",
       "  <tbody>\n",
       "    <tr>\n",
       "      <th>0</th>\n",
       "      <td>0.000000</td>\n",
       "      <td>0.000000</td>\n",
       "      <td>0.000000</td>\n",
       "      <td>0.000000</td>\n",
       "    </tr>\n",
       "    <tr>\n",
       "      <th>1</th>\n",
       "      <td>0.003009</td>\n",
       "      <td>0.000634</td>\n",
       "      <td>0.004507</td>\n",
       "      <td>0.004508</td>\n",
       "    </tr>\n",
       "    <tr>\n",
       "      <th>2</th>\n",
       "      <td>0.000402</td>\n",
       "      <td>0.001046</td>\n",
       "      <td>-0.000723</td>\n",
       "      <td>-0.001023</td>\n",
       "    </tr>\n",
       "    <tr>\n",
       "      <th>3</th>\n",
       "      <td>0.001777</td>\n",
       "      <td>0.001714</td>\n",
       "      <td>0.000345</td>\n",
       "      <td>0.000100</td>\n",
       "    </tr>\n",
       "    <tr>\n",
       "      <th>4</th>\n",
       "      <td>-0.000167</td>\n",
       "      <td>-0.000044</td>\n",
       "      <td>0.001639</td>\n",
       "      <td>0.001394</td>\n",
       "    </tr>\n",
       "    <tr>\n",
       "      <th>5</th>\n",
       "      <td>-0.000981</td>\n",
       "      <td>-0.000178</td>\n",
       "      <td>-0.001556</td>\n",
       "      <td>-0.001790</td>\n",
       "    </tr>\n",
       "    <tr>\n",
       "      <th>6</th>\n",
       "      <td>-0.004342</td>\n",
       "      <td>-0.002616</td>\n",
       "      <td>-0.003428</td>\n",
       "      <td>-0.003628</td>\n",
       "    </tr>\n",
       "    <tr>\n",
       "      <th>7</th>\n",
       "      <td>0.002449</td>\n",
       "      <td>-0.001067</td>\n",
       "      <td>-0.002875</td>\n",
       "      <td>-0.003119</td>\n",
       "    </tr>\n",
       "    <tr>\n",
       "      <th>8</th>\n",
       "      <td>0.006037</td>\n",
       "      <td>0.006273</td>\n",
       "      <td>0.004338</td>\n",
       "      <td>0.004171</td>\n",
       "    </tr>\n",
       "    <tr>\n",
       "      <th>9</th>\n",
       "      <td>0.007858</td>\n",
       "      <td>0.007997</td>\n",
       "      <td>0.006398</td>\n",
       "      <td>0.005966</td>\n",
       "    </tr>\n",
       "  </tbody>\n",
       "</table>\n",
       "</div>"
      ],
      "text/plain": [
       "       High       Low      Open     Close\n",
       "0  0.000000  0.000000  0.000000  0.000000\n",
       "1  0.003009  0.000634  0.004507  0.004508\n",
       "2  0.000402  0.001046 -0.000723 -0.001023\n",
       "3  0.001777  0.001714  0.000345  0.000100\n",
       "4 -0.000167 -0.000044  0.001639  0.001394\n",
       "5 -0.000981 -0.000178 -0.001556 -0.001790\n",
       "6 -0.004342 -0.002616 -0.003428 -0.003628\n",
       "7  0.002449 -0.001067 -0.002875 -0.003119\n",
       "8  0.006037  0.006273  0.004338  0.004171\n",
       "9  0.007858  0.007997  0.006398  0.005966"
      ]
     },
     "execution_count": 304,
     "metadata": {},
     "output_type": "execute_result"
    }
   ],
   "source": [
    "latest_lstm_in[0]"
   ]
  },
  {
   "cell_type": "markdown",
   "id": "0e5cb290-36cb-43f4-8516-b931e725a7b0",
   "metadata": {},
   "source": [
    "## Numpy配列への変換"
   ]
  },
  {
   "cell_type": "code",
   "execution_count": 305,
   "id": "e584c209-398f-4ca0-bed0-65ca67a33a9b",
   "metadata": {},
   "outputs": [],
   "source": [
    "# 変数名をそのままprint関数内で表示させる関数\n",
    "def chkprint(*args):\n",
    "    for obj in args:\n",
    "        for k, v in globals().items():\n",
    "            if id(v) == id(obj):\n",
    "                target = k\n",
    "                break          \n",
    "    return target\n",
    "\n",
    "# データがどのデータ型か、列数、行数を表示する関数\n",
    "def typeInfo(targetData):\n",
    "    if (type(targetData) is pd.core.frame.DataFrame):\n",
    "        print(\"{} は DataFrame型\".format(chkprint(targetData)))\n",
    "        print(\"{} の行数, 列数・・・{}\\n\".format(chkprint(targetData), targetData.shape))     # shapeの表示内容は、(行数, 列数)となる\n",
    "    if (type(targetData) is list):\n",
    "        print(\"{} は list型\".format(chkprint(targetData)))\n",
    "        print(\"{} の行数, 列数・・・{}\\n\".format(chkprint(targetData), pd.DataFrame(targetData).shape))    # shapeの表示内容は、(行数, 列数)となる\n",
    "    if (type(targetData) is np.ndarray):\n",
    "        print(\"{} は ndarray型\".format(chkprint(targetData)))\n",
    "        print(\"{} の行数, 列数・・・{}\\n\".format(chkprint(targetData), targetData.shape))     # shapeの表示内容は、(行数, 列数)となる\n",
    "    if (type(targetData) is pd.core.series.Series):\n",
    "        print(\"{} は Series型\".format(chkprint(targetData)))\n",
    "        print(\"{} の行数, 列数・・・{}\\n\".format(chkprint(targetData), targetData.shape))     # shapeの表示内容は、(行数, 列数)となる"
   ]
  },
  {
   "cell_type": "code",
   "execution_count": null,
   "id": "7963bf32-5487-468a-b435-b96c654f134e",
   "metadata": {},
   "outputs": [],
   "source": []
  },
  {
   "cell_type": "code",
   "execution_count": 306,
   "id": "b61cbcb6-4597-49ac-9c01-38ba5056fe68",
   "metadata": {},
   "outputs": [],
   "source": [
    "# PandasのデータフレームからNumpy配列へ変換しましょう\n",
    "train_lstm_in = [np.array(train_lstm_input) for train_lstm_input in train_lstm_in]\n",
    "train_lstm_in = np.array(train_lstm_in)\n",
    "\n",
    "test_lstm_in = [np.array(test_lstm_input) for test_lstm_input in test_lstm_in]\n",
    "test_lstm_in = np.array(test_lstm_in)"
   ]
  },
  {
   "cell_type": "code",
   "execution_count": null,
   "id": "18d0f441-48ef-4b68-b313-9812a91aa7c9",
   "metadata": {},
   "outputs": [],
   "source": []
  },
  {
   "cell_type": "code",
   "execution_count": null,
   "id": "f2118607-ee45-47ac-8d13-b1420ff3486f",
   "metadata": {},
   "outputs": [],
   "source": []
  },
  {
   "cell_type": "code",
   "execution_count": 307,
   "id": "80888c79-6e04-42cd-a0ba-ec149d626708",
   "metadata": {},
   "outputs": [],
   "source": [
    "# # PandasのデータフレームからNumpy配列へ変換しましょう\n",
    "# def pd_to_np(data_lstm_in):\n",
    "#   data_lstm_in = [np.array(data_lstm_input) for data_lstm_input in data_lstm_in]  #array のリスト\n",
    "#   data_lstm_in = np.array(data_lstm_in) #np.array\n",
    "#   return data_lstm_in\n",
    "\n",
    "# train_lstm_in = pd_to_np(train_lstm_in)\n",
    "# test_lstm_in = pd_to_np(test_lstm_in)\n",
    "# latest_lstm_in = pd_to_np(latest_lstm_in)"
   ]
  },
  {
   "cell_type": "code",
   "execution_count": null,
   "id": "ba83b6c2-aba9-4d3a-a57e-6a68cf46e62a",
   "metadata": {},
   "outputs": [],
   "source": []
  },
  {
   "cell_type": "code",
   "execution_count": 308,
   "id": "7b7619ca-9825-4f40-9815-9831338ea3b2",
   "metadata": {},
   "outputs": [
    {
     "data": {
      "text/plain": [
       "array([[[ 0.        ,  0.        ,  0.        ,  0.        ],\n",
       "        [ 0.00572766,  0.00016718, -0.00606419,  0.01036029],\n",
       "        [ 0.00747212,  0.01113504,  0.00465466,  0.01320198],\n",
       "        ...,\n",
       "        [ 0.01876704,  0.01825526,  0.01787141,  0.01888387],\n",
       "        [ 0.01618683,  0.01498399,  0.01304439,  0.02164884],\n",
       "        [ 0.02208933,  0.0225208 ,  0.01604186,  0.02624016]],\n",
       "\n",
       "       [[ 0.        ,  0.        ,  0.        ,  0.        ],\n",
       "        [ 0.00173453,  0.01096603,  0.01078424,  0.00281255],\n",
       "        [ 0.0028902 ,  0.00820195,  0.0132957 , -0.00066443],\n",
       "        ...,\n",
       "        [ 0.0103996 ,  0.01481434,  0.01922516,  0.0111728 ],\n",
       "        [ 0.0162685 ,  0.02234989,  0.02224093,  0.01571704],\n",
       "        [ 0.01783419,  0.01942404,  0.01888969,  0.01910834]],\n",
       "\n",
       "       [[ 0.        ,  0.        ,  0.        ,  0.        ],\n",
       "        [ 0.00115366, -0.0027341 ,  0.00248466, -0.00346723],\n",
       "        [ 0.0050227 , -0.00091709, -0.00099035,  0.00527686],\n",
       "        ...,\n",
       "        [ 0.0145088 ,  0.01126037,  0.01133445,  0.0128683 ],\n",
       "        [ 0.01607178,  0.00836626,  0.00801897,  0.01625008],\n",
       "        [ 0.01887207,  0.01887577,  0.01853266,  0.01641282]],\n",
       "\n",
       "       ...,\n",
       "\n",
       "       [[ 0.        ,  0.        ,  0.        ,  0.        ],\n",
       "        [ 0.00302336,  0.0008106 , -0.00019972,  0.00026629],\n",
       "        [ 0.0094802 , -0.00104789,  0.00102584,  0.00079942],\n",
       "        ...,\n",
       "        [ 0.00415673,  0.00567521,  0.00764483,  0.00740348],\n",
       "        [ 0.00448107,  0.00246251,  0.00682113,  0.00678224],\n",
       "        [ 0.00247105,  0.00058454,  0.00264235,  0.00240219]],\n",
       "\n",
       "       [[ 0.        ,  0.        ,  0.        ,  0.        ],\n",
       "        [ 0.00643738, -0.00185698,  0.00122581,  0.00053298],\n",
       "        [ 0.00621968,  0.00985024,  0.01012207,  0.00953173],\n",
       "        ...,\n",
       "        [ 0.00145332,  0.00165057,  0.00702225,  0.00651422],\n",
       "        [-0.00055065, -0.00022588,  0.00284264,  0.00213533],\n",
       "        [-0.00442809, -0.00586572,  0.00476009,  0.00410514]],\n",
       "\n",
       "       [[ 0.        ,  0.        ,  0.        ,  0.        ],\n",
       "        [-0.00021631,  0.011729  ,  0.00888537,  0.00899396],\n",
       "        [ 0.00104251,  0.01171543,  0.010774  ,  0.01071963],\n",
       "        ...,\n",
       "        [-0.00694333,  0.00163414,  0.00161485,  0.00160149],\n",
       "        [-0.01079597, -0.00401619,  0.00352996,  0.00357026],\n",
       "        [-0.02160737, -0.01239261, -0.01187537, -0.01148513]]])"
      ]
     },
     "execution_count": 308,
     "metadata": {},
     "output_type": "execute_result"
    }
   ],
   "source": [
    "train_lstm_in"
   ]
  },
  {
   "cell_type": "code",
   "execution_count": null,
   "id": "9c0e49e7-3fd0-4d26-9867-28f86f13ffe5",
   "metadata": {},
   "outputs": [],
   "source": []
  },
  {
   "cell_type": "code",
   "execution_count": 309,
   "id": "a5a002f0-356d-46a2-8a50-6cc2486192ad",
   "metadata": {},
   "outputs": [
    {
     "name": "stdout",
     "output_type": "stream",
     "text": [
      "_ は ndarray型\n",
      "_ の行数, 列数・・・(2064, 10, 4)\n",
      "\n"
     ]
    }
   ],
   "source": [
    "typeInfo(train_lstm_in)"
   ]
  },
  {
   "cell_type": "code",
   "execution_count": null,
   "id": "6aacb4f7-c276-4bef-848b-d9aec5356c12",
   "metadata": {},
   "outputs": [],
   "source": []
  },
  {
   "cell_type": "markdown",
   "id": "8e920fb1-738b-4a2e-adae-22277451439c",
   "metadata": {},
   "source": [
    "## モデルの定義"
   ]
  },
  {
   "cell_type": "code",
   "execution_count": 310,
   "id": "f72edeeb-f600-4470-b058-9fec754d6d63",
   "metadata": {},
   "outputs": [],
   "source": [
    "# モデルの定義\n",
    "from keras.models import Sequential\n",
    "from keras.layers import Activation, Dense\n",
    "from keras.layers import LSTM\n",
    "from keras.layers import Dropout"
   ]
  },
  {
   "cell_type": "code",
   "execution_count": 311,
   "id": "c60224ae-815e-45cf-84de-66bc7610cb75",
   "metadata": {},
   "outputs": [],
   "source": [
    "# LSTMのモデルを設定\n",
    "def build_model(inputs, output_size, neurons, activ_func=\"linear\",\n",
    "                dropout=0.25, loss=\"mae\", optimizer=\"adam\"):\n",
    "    model = Sequential()\n",
    " \n",
    "    model.add(LSTM(neurons, input_shape=(inputs.shape[1], inputs.shape[2])))\n",
    "    model.add(Dropout(dropout)) \n",
    "    model.add(Dense(units=output_size))\n",
    "    model.add(Activation(activ_func))\n",
    " \n",
    "    model.compile(loss=loss, optimizer=optimizer)\n",
    "    return model"
   ]
  },
  {
   "cell_type": "code",
   "execution_count": null,
   "id": "8840259e-0a11-462f-bd5f-4f06c1c543cf",
   "metadata": {},
   "outputs": [],
   "source": []
  },
  {
   "cell_type": "markdown",
   "id": "8725a249-19e4-48ed-86af-adccc81492c3",
   "metadata": {},
   "source": [
    "## データの学習と予測"
   ]
  },
  {
   "cell_type": "code",
   "execution_count": 312,
   "id": "1e66be32-c774-435c-85e3-12f5166bee35",
   "metadata": {},
   "outputs": [
    {
     "name": "stdout",
     "output_type": "stream",
     "text": [
      "Epoch 1/10\n",
      "2064/2064 - 4s - loss: 0.0080\n",
      "Epoch 2/10\n",
      "2064/2064 - 4s - loss: 0.0063\n",
      "Epoch 3/10\n",
      "2064/2064 - 4s - loss: 0.0058\n",
      "Epoch 4/10\n",
      "2064/2064 - 4s - loss: 0.0054\n",
      "Epoch 5/10\n",
      "2064/2064 - 4s - loss: 0.0053\n",
      "Epoch 6/10\n",
      "2064/2064 - 4s - loss: 0.0051\n",
      "Epoch 7/10\n",
      "2064/2064 - 4s - loss: 0.0052\n",
      "Epoch 8/10\n",
      "2064/2064 - 4s - loss: 0.0047\n",
      "Epoch 9/10\n",
      "2064/2064 - 4s - loss: 0.0049\n",
      "Epoch 10/10\n",
      "2064/2064 - 4s - loss: 0.0047\n"
     ]
    }
   ],
   "source": [
    "np.random.seed(202)\n",
    " \n",
    "# 初期モデルの構築\n",
    "yen_model = build_model(train_lstm_in, output_size=1, neurons = 20)\n",
    "\n",
    "# データを流してフィッティングさせましょう\n",
    "yen_history = yen_model.fit(train_lstm_in, lstm_train_out, \n",
    "                            epochs=10, batch_size=1, verbose=2, shuffle=False)\n",
    "# 11/5 epochs=50からepochs=10に変更\n",
    "# 11/5 shuffle=TrueからFalseに変更"
   ]
  },
  {
   "cell_type": "code",
   "execution_count": null,
   "id": "6eac1c92-2678-45b3-8174-187fd68e1427",
   "metadata": {},
   "outputs": [],
   "source": []
  },
  {
   "cell_type": "code",
   "execution_count": 313,
   "id": "0fb31fd7-3df2-4097-b69b-7d9b1b96700d",
   "metadata": {},
   "outputs": [
    {
     "data": {
      "text/plain": [
       "10"
      ]
     },
     "execution_count": 313,
     "metadata": {},
     "output_type": "execute_result"
    }
   ],
   "source": [
    "len(df_latest)"
   ]
  },
  {
   "cell_type": "code",
   "execution_count": 315,
   "id": "db1dcf6c-9f13-4475-b808-7f38675fce23",
   "metadata": {},
   "outputs": [],
   "source": [
    "length=len(df_latest)"
   ]
  },
  {
   "cell_type": "code",
   "execution_count": null,
   "id": "55cfe6fb-8975-4a0d-aa2e-5a6fe5874efe",
   "metadata": {},
   "outputs": [],
   "source": []
  },
  {
   "cell_type": "code",
   "execution_count": 316,
   "id": "daef8d1b-9d74-4355-b8ad-e8c74aa83e08",
   "metadata": {},
   "outputs": [
    {
     "ename": "ValueError",
     "evalue": "in user code:\n\n    /Users/naokimaruoka/opt/anaconda3/lib/python3.8/site-packages/keras/engine/training.py:1586 predict_function  *\n        return step_function(self, iterator)\n    /Users/naokimaruoka/opt/anaconda3/lib/python3.8/site-packages/keras/engine/training.py:1576 step_function  **\n        outputs = model.distribute_strategy.run(run_step, args=(data,))\n    /Users/naokimaruoka/opt/anaconda3/lib/python3.8/site-packages/tensorflow/python/distribute/distribute_lib.py:1286 run\n        return self._extended.call_for_each_replica(fn, args=args, kwargs=kwargs)\n    /Users/naokimaruoka/opt/anaconda3/lib/python3.8/site-packages/tensorflow/python/distribute/distribute_lib.py:2849 call_for_each_replica\n        return self._call_for_each_replica(fn, args, kwargs)\n    /Users/naokimaruoka/opt/anaconda3/lib/python3.8/site-packages/tensorflow/python/distribute/distribute_lib.py:3632 _call_for_each_replica\n        return fn(*args, **kwargs)\n    /Users/naokimaruoka/opt/anaconda3/lib/python3.8/site-packages/keras/engine/training.py:1569 run_step  **\n        outputs = model.predict_step(data)\n    /Users/naokimaruoka/opt/anaconda3/lib/python3.8/site-packages/keras/engine/training.py:1537 predict_step\n        return self(x, training=False)\n    /Users/naokimaruoka/opt/anaconda3/lib/python3.8/site-packages/keras/engine/base_layer.py:1020 __call__\n        input_spec.assert_input_compatibility(self.input_spec, inputs, self.name)\n    /Users/naokimaruoka/opt/anaconda3/lib/python3.8/site-packages/keras/engine/input_spec.py:214 assert_input_compatibility\n        raise ValueError('Input ' + str(input_index) + ' of layer ' +\n\n    ValueError: Input 0 of layer sequential_7 is incompatible with the layer: expected ndim=3, found ndim=2. Full shape received: (None, 4)\n",
     "output_type": "error",
     "traceback": [
      "\u001b[0;31m---------------------------------------------------------------------------\u001b[0m",
      "\u001b[0;31mValueError\u001b[0m                                Traceback (most recent call last)",
      "\u001b[0;32m<ipython-input-316-b062b0fd49f8>\u001b[0m in \u001b[0;36m<module>\u001b[0;34m\u001b[0m\n\u001b[1;32m      3\u001b[0m \u001b[0mfuture_array\u001b[0m \u001b[0;34m=\u001b[0m \u001b[0mnp\u001b[0m\u001b[0;34m.\u001b[0m\u001b[0marray\u001b[0m\u001b[0;34m(\u001b[0m\u001b[0mempty\u001b[0m\u001b[0;34m)\u001b[0m\u001b[0;34m\u001b[0m\u001b[0;34m\u001b[0m\u001b[0m\n\u001b[1;32m      4\u001b[0m \u001b[0;32mfor\u001b[0m \u001b[0mi\u001b[0m \u001b[0;32min\u001b[0m \u001b[0mrange\u001b[0m\u001b[0;34m(\u001b[0m\u001b[0mlength\u001b[0m\u001b[0;34m)\u001b[0m\u001b[0;34m:\u001b[0m\u001b[0;34m\u001b[0m\u001b[0;34m\u001b[0m\u001b[0m\n\u001b[0;32m----> 5\u001b[0;31m   \u001b[0mpred\u001b[0m \u001b[0;34m=\u001b[0m \u001b[0;34m(\u001b[0m\u001b[0;34m(\u001b[0m\u001b[0;34m(\u001b[0m\u001b[0mnp\u001b[0m\u001b[0;34m.\u001b[0m\u001b[0mtranspose\u001b[0m\u001b[0;34m(\u001b[0m\u001b[0myen_model\u001b[0m\u001b[0;34m.\u001b[0m\u001b[0mpredict\u001b[0m\u001b[0;34m(\u001b[0m\u001b[0mlatest_lstm_in\u001b[0m\u001b[0;34m)\u001b[0m\u001b[0;34m)\u001b[0m\u001b[0;34m+\u001b[0m\u001b[0;36m1\u001b[0m\u001b[0;34m)\u001b[0m \u001b[0;34m*\u001b[0m \u001b[0mlatest\u001b[0m\u001b[0;34m[\u001b[0m\u001b[0;34m'Open'\u001b[0m\u001b[0;34m]\u001b[0m\u001b[0;34m.\u001b[0m\u001b[0mvalues\u001b[0m\u001b[0;34m[\u001b[0m\u001b[0;36m0\u001b[0m\u001b[0;34m]\u001b[0m\u001b[0;34m)\u001b[0m\u001b[0;34m[\u001b[0m\u001b[0;36m0\u001b[0m\u001b[0;34m]\u001b[0m\u001b[0;34m)\u001b[0m\u001b[0;34m[\u001b[0m\u001b[0;36m0\u001b[0m\u001b[0;34m]\u001b[0m\u001b[0;34m\u001b[0m\u001b[0;34m\u001b[0m\u001b[0m\n\u001b[0m\u001b[1;32m      6\u001b[0m   \u001b[0mfuture_array\u001b[0m\u001b[0;34m=\u001b[0m \u001b[0mnp\u001b[0m\u001b[0;34m.\u001b[0m\u001b[0mappend\u001b[0m\u001b[0;34m(\u001b[0m\u001b[0mfuture_array\u001b[0m\u001b[0;34m,\u001b[0m\u001b[0mpred\u001b[0m\u001b[0;34m)\u001b[0m\u001b[0;34m\u001b[0m\u001b[0;34m\u001b[0m\u001b[0m\n\u001b[1;32m      7\u001b[0m   \u001b[0mdata\u001b[0m \u001b[0;34m=\u001b[0m\u001b[0;34m{\u001b[0m\u001b[0;34m'Open'\u001b[0m\u001b[0;34m:\u001b[0m\u001b[0;34m[\u001b[0m\u001b[0mpred\u001b[0m\u001b[0;34m]\u001b[0m\u001b[0;34m}\u001b[0m\u001b[0;34m\u001b[0m\u001b[0;34m\u001b[0m\u001b[0m\n",
      "\u001b[0;32m~/opt/anaconda3/lib/python3.8/site-packages/keras/engine/training.py\u001b[0m in \u001b[0;36mpredict\u001b[0;34m(self, x, batch_size, verbose, steps, callbacks, max_queue_size, workers, use_multiprocessing)\u001b[0m\n\u001b[1;32m   1749\u001b[0m           \u001b[0;32mfor\u001b[0m \u001b[0mstep\u001b[0m \u001b[0;32min\u001b[0m \u001b[0mdata_handler\u001b[0m\u001b[0;34m.\u001b[0m\u001b[0msteps\u001b[0m\u001b[0;34m(\u001b[0m\u001b[0;34m)\u001b[0m\u001b[0;34m:\u001b[0m\u001b[0;34m\u001b[0m\u001b[0;34m\u001b[0m\u001b[0m\n\u001b[1;32m   1750\u001b[0m             \u001b[0mcallbacks\u001b[0m\u001b[0;34m.\u001b[0m\u001b[0mon_predict_batch_begin\u001b[0m\u001b[0;34m(\u001b[0m\u001b[0mstep\u001b[0m\u001b[0;34m)\u001b[0m\u001b[0;34m\u001b[0m\u001b[0;34m\u001b[0m\u001b[0m\n\u001b[0;32m-> 1751\u001b[0;31m             \u001b[0mtmp_batch_outputs\u001b[0m \u001b[0;34m=\u001b[0m \u001b[0mself\u001b[0m\u001b[0;34m.\u001b[0m\u001b[0mpredict_function\u001b[0m\u001b[0;34m(\u001b[0m\u001b[0miterator\u001b[0m\u001b[0;34m)\u001b[0m\u001b[0;34m\u001b[0m\u001b[0;34m\u001b[0m\u001b[0m\n\u001b[0m\u001b[1;32m   1752\u001b[0m             \u001b[0;32mif\u001b[0m \u001b[0mdata_handler\u001b[0m\u001b[0;34m.\u001b[0m\u001b[0mshould_sync\u001b[0m\u001b[0;34m:\u001b[0m\u001b[0;34m\u001b[0m\u001b[0;34m\u001b[0m\u001b[0m\n\u001b[1;32m   1753\u001b[0m               \u001b[0mcontext\u001b[0m\u001b[0;34m.\u001b[0m\u001b[0masync_wait\u001b[0m\u001b[0;34m(\u001b[0m\u001b[0;34m)\u001b[0m\u001b[0;34m\u001b[0m\u001b[0;34m\u001b[0m\u001b[0m\n",
      "\u001b[0;32m~/opt/anaconda3/lib/python3.8/site-packages/tensorflow/python/eager/def_function.py\u001b[0m in \u001b[0;36m__call__\u001b[0;34m(self, *args, **kwds)\u001b[0m\n\u001b[1;32m    883\u001b[0m \u001b[0;34m\u001b[0m\u001b[0m\n\u001b[1;32m    884\u001b[0m       \u001b[0;32mwith\u001b[0m \u001b[0mOptionalXlaContext\u001b[0m\u001b[0;34m(\u001b[0m\u001b[0mself\u001b[0m\u001b[0;34m.\u001b[0m\u001b[0m_jit_compile\u001b[0m\u001b[0;34m)\u001b[0m\u001b[0;34m:\u001b[0m\u001b[0;34m\u001b[0m\u001b[0;34m\u001b[0m\u001b[0m\n\u001b[0;32m--> 885\u001b[0;31m         \u001b[0mresult\u001b[0m \u001b[0;34m=\u001b[0m \u001b[0mself\u001b[0m\u001b[0;34m.\u001b[0m\u001b[0m_call\u001b[0m\u001b[0;34m(\u001b[0m\u001b[0;34m*\u001b[0m\u001b[0margs\u001b[0m\u001b[0;34m,\u001b[0m \u001b[0;34m**\u001b[0m\u001b[0mkwds\u001b[0m\u001b[0;34m)\u001b[0m\u001b[0;34m\u001b[0m\u001b[0;34m\u001b[0m\u001b[0m\n\u001b[0m\u001b[1;32m    886\u001b[0m \u001b[0;34m\u001b[0m\u001b[0m\n\u001b[1;32m    887\u001b[0m       \u001b[0mnew_tracing_count\u001b[0m \u001b[0;34m=\u001b[0m \u001b[0mself\u001b[0m\u001b[0;34m.\u001b[0m\u001b[0mexperimental_get_tracing_count\u001b[0m\u001b[0;34m(\u001b[0m\u001b[0;34m)\u001b[0m\u001b[0;34m\u001b[0m\u001b[0;34m\u001b[0m\u001b[0m\n",
      "\u001b[0;32m~/opt/anaconda3/lib/python3.8/site-packages/tensorflow/python/eager/def_function.py\u001b[0m in \u001b[0;36m_call\u001b[0;34m(self, *args, **kwds)\u001b[0m\n\u001b[1;32m    931\u001b[0m       \u001b[0;31m# This is the first call of __call__, so we have to initialize.\u001b[0m\u001b[0;34m\u001b[0m\u001b[0;34m\u001b[0m\u001b[0;34m\u001b[0m\u001b[0m\n\u001b[1;32m    932\u001b[0m       \u001b[0minitializers\u001b[0m \u001b[0;34m=\u001b[0m \u001b[0;34m[\u001b[0m\u001b[0;34m]\u001b[0m\u001b[0;34m\u001b[0m\u001b[0;34m\u001b[0m\u001b[0m\n\u001b[0;32m--> 933\u001b[0;31m       \u001b[0mself\u001b[0m\u001b[0;34m.\u001b[0m\u001b[0m_initialize\u001b[0m\u001b[0;34m(\u001b[0m\u001b[0margs\u001b[0m\u001b[0;34m,\u001b[0m \u001b[0mkwds\u001b[0m\u001b[0;34m,\u001b[0m \u001b[0madd_initializers_to\u001b[0m\u001b[0;34m=\u001b[0m\u001b[0minitializers\u001b[0m\u001b[0;34m)\u001b[0m\u001b[0;34m\u001b[0m\u001b[0;34m\u001b[0m\u001b[0m\n\u001b[0m\u001b[1;32m    934\u001b[0m     \u001b[0;32mfinally\u001b[0m\u001b[0;34m:\u001b[0m\u001b[0;34m\u001b[0m\u001b[0;34m\u001b[0m\u001b[0m\n\u001b[1;32m    935\u001b[0m       \u001b[0;31m# At this point we know that the initialization is complete (or less\u001b[0m\u001b[0;34m\u001b[0m\u001b[0;34m\u001b[0m\u001b[0;34m\u001b[0m\u001b[0m\n",
      "\u001b[0;32m~/opt/anaconda3/lib/python3.8/site-packages/tensorflow/python/eager/def_function.py\u001b[0m in \u001b[0;36m_initialize\u001b[0;34m(self, args, kwds, add_initializers_to)\u001b[0m\n\u001b[1;32m    757\u001b[0m     \u001b[0mself\u001b[0m\u001b[0;34m.\u001b[0m\u001b[0m_graph_deleter\u001b[0m \u001b[0;34m=\u001b[0m \u001b[0mFunctionDeleter\u001b[0m\u001b[0;34m(\u001b[0m\u001b[0mself\u001b[0m\u001b[0;34m.\u001b[0m\u001b[0m_lifted_initializer_graph\u001b[0m\u001b[0;34m)\u001b[0m\u001b[0;34m\u001b[0m\u001b[0;34m\u001b[0m\u001b[0m\n\u001b[1;32m    758\u001b[0m     self._concrete_stateful_fn = (\n\u001b[0;32m--> 759\u001b[0;31m         self._stateful_fn._get_concrete_function_internal_garbage_collected(  # pylint: disable=protected-access\n\u001b[0m\u001b[1;32m    760\u001b[0m             *args, **kwds))\n\u001b[1;32m    761\u001b[0m \u001b[0;34m\u001b[0m\u001b[0m\n",
      "\u001b[0;32m~/opt/anaconda3/lib/python3.8/site-packages/tensorflow/python/eager/function.py\u001b[0m in \u001b[0;36m_get_concrete_function_internal_garbage_collected\u001b[0;34m(self, *args, **kwargs)\u001b[0m\n\u001b[1;32m   3064\u001b[0m       \u001b[0margs\u001b[0m\u001b[0;34m,\u001b[0m \u001b[0mkwargs\u001b[0m \u001b[0;34m=\u001b[0m \u001b[0;32mNone\u001b[0m\u001b[0;34m,\u001b[0m \u001b[0;32mNone\u001b[0m\u001b[0;34m\u001b[0m\u001b[0;34m\u001b[0m\u001b[0m\n\u001b[1;32m   3065\u001b[0m     \u001b[0;32mwith\u001b[0m \u001b[0mself\u001b[0m\u001b[0;34m.\u001b[0m\u001b[0m_lock\u001b[0m\u001b[0;34m:\u001b[0m\u001b[0;34m\u001b[0m\u001b[0;34m\u001b[0m\u001b[0m\n\u001b[0;32m-> 3066\u001b[0;31m       \u001b[0mgraph_function\u001b[0m\u001b[0;34m,\u001b[0m \u001b[0m_\u001b[0m \u001b[0;34m=\u001b[0m \u001b[0mself\u001b[0m\u001b[0;34m.\u001b[0m\u001b[0m_maybe_define_function\u001b[0m\u001b[0;34m(\u001b[0m\u001b[0margs\u001b[0m\u001b[0;34m,\u001b[0m \u001b[0mkwargs\u001b[0m\u001b[0;34m)\u001b[0m\u001b[0;34m\u001b[0m\u001b[0;34m\u001b[0m\u001b[0m\n\u001b[0m\u001b[1;32m   3067\u001b[0m     \u001b[0;32mreturn\u001b[0m \u001b[0mgraph_function\u001b[0m\u001b[0;34m\u001b[0m\u001b[0;34m\u001b[0m\u001b[0m\n\u001b[1;32m   3068\u001b[0m \u001b[0;34m\u001b[0m\u001b[0m\n",
      "\u001b[0;32m~/opt/anaconda3/lib/python3.8/site-packages/tensorflow/python/eager/function.py\u001b[0m in \u001b[0;36m_maybe_define_function\u001b[0;34m(self, args, kwargs)\u001b[0m\n\u001b[1;32m   3461\u001b[0m \u001b[0;34m\u001b[0m\u001b[0m\n\u001b[1;32m   3462\u001b[0m           \u001b[0mself\u001b[0m\u001b[0;34m.\u001b[0m\u001b[0m_function_cache\u001b[0m\u001b[0;34m.\u001b[0m\u001b[0mmissed\u001b[0m\u001b[0;34m.\u001b[0m\u001b[0madd\u001b[0m\u001b[0;34m(\u001b[0m\u001b[0mcall_context_key\u001b[0m\u001b[0;34m)\u001b[0m\u001b[0;34m\u001b[0m\u001b[0;34m\u001b[0m\u001b[0m\n\u001b[0;32m-> 3463\u001b[0;31m           \u001b[0mgraph_function\u001b[0m \u001b[0;34m=\u001b[0m \u001b[0mself\u001b[0m\u001b[0;34m.\u001b[0m\u001b[0m_create_graph_function\u001b[0m\u001b[0;34m(\u001b[0m\u001b[0margs\u001b[0m\u001b[0;34m,\u001b[0m \u001b[0mkwargs\u001b[0m\u001b[0;34m)\u001b[0m\u001b[0;34m\u001b[0m\u001b[0;34m\u001b[0m\u001b[0m\n\u001b[0m\u001b[1;32m   3464\u001b[0m           \u001b[0mself\u001b[0m\u001b[0;34m.\u001b[0m\u001b[0m_function_cache\u001b[0m\u001b[0;34m.\u001b[0m\u001b[0mprimary\u001b[0m\u001b[0;34m[\u001b[0m\u001b[0mcache_key\u001b[0m\u001b[0;34m]\u001b[0m \u001b[0;34m=\u001b[0m \u001b[0mgraph_function\u001b[0m\u001b[0;34m\u001b[0m\u001b[0;34m\u001b[0m\u001b[0m\n\u001b[1;32m   3465\u001b[0m \u001b[0;34m\u001b[0m\u001b[0m\n",
      "\u001b[0;32m~/opt/anaconda3/lib/python3.8/site-packages/tensorflow/python/eager/function.py\u001b[0m in \u001b[0;36m_create_graph_function\u001b[0;34m(self, args, kwargs, override_flat_arg_shapes)\u001b[0m\n\u001b[1;32m   3296\u001b[0m     \u001b[0marg_names\u001b[0m \u001b[0;34m=\u001b[0m \u001b[0mbase_arg_names\u001b[0m \u001b[0;34m+\u001b[0m \u001b[0mmissing_arg_names\u001b[0m\u001b[0;34m\u001b[0m\u001b[0;34m\u001b[0m\u001b[0m\n\u001b[1;32m   3297\u001b[0m     graph_function = ConcreteFunction(\n\u001b[0;32m-> 3298\u001b[0;31m         func_graph_module.func_graph_from_py_func(\n\u001b[0m\u001b[1;32m   3299\u001b[0m             \u001b[0mself\u001b[0m\u001b[0;34m.\u001b[0m\u001b[0m_name\u001b[0m\u001b[0;34m,\u001b[0m\u001b[0;34m\u001b[0m\u001b[0;34m\u001b[0m\u001b[0m\n\u001b[1;32m   3300\u001b[0m             \u001b[0mself\u001b[0m\u001b[0;34m.\u001b[0m\u001b[0m_python_function\u001b[0m\u001b[0;34m,\u001b[0m\u001b[0;34m\u001b[0m\u001b[0;34m\u001b[0m\u001b[0m\n",
      "\u001b[0;32m~/opt/anaconda3/lib/python3.8/site-packages/tensorflow/python/framework/func_graph.py\u001b[0m in \u001b[0;36mfunc_graph_from_py_func\u001b[0;34m(name, python_func, args, kwargs, signature, func_graph, autograph, autograph_options, add_control_dependencies, arg_names, op_return_value, collections, capture_by_value, override_flat_arg_shapes, acd_record_initial_resource_uses)\u001b[0m\n\u001b[1;32m   1005\u001b[0m         \u001b[0m_\u001b[0m\u001b[0;34m,\u001b[0m \u001b[0moriginal_func\u001b[0m \u001b[0;34m=\u001b[0m \u001b[0mtf_decorator\u001b[0m\u001b[0;34m.\u001b[0m\u001b[0munwrap\u001b[0m\u001b[0;34m(\u001b[0m\u001b[0mpython_func\u001b[0m\u001b[0;34m)\u001b[0m\u001b[0;34m\u001b[0m\u001b[0;34m\u001b[0m\u001b[0m\n\u001b[1;32m   1006\u001b[0m \u001b[0;34m\u001b[0m\u001b[0m\n\u001b[0;32m-> 1007\u001b[0;31m       \u001b[0mfunc_outputs\u001b[0m \u001b[0;34m=\u001b[0m \u001b[0mpython_func\u001b[0m\u001b[0;34m(\u001b[0m\u001b[0;34m*\u001b[0m\u001b[0mfunc_args\u001b[0m\u001b[0;34m,\u001b[0m \u001b[0;34m**\u001b[0m\u001b[0mfunc_kwargs\u001b[0m\u001b[0;34m)\u001b[0m\u001b[0;34m\u001b[0m\u001b[0;34m\u001b[0m\u001b[0m\n\u001b[0m\u001b[1;32m   1008\u001b[0m \u001b[0;34m\u001b[0m\u001b[0m\n\u001b[1;32m   1009\u001b[0m       \u001b[0;31m# invariant: `func_outputs` contains only Tensors, CompositeTensors,\u001b[0m\u001b[0;34m\u001b[0m\u001b[0;34m\u001b[0m\u001b[0;34m\u001b[0m\u001b[0m\n",
      "\u001b[0;32m~/opt/anaconda3/lib/python3.8/site-packages/tensorflow/python/eager/def_function.py\u001b[0m in \u001b[0;36mwrapped_fn\u001b[0;34m(*args, **kwds)\u001b[0m\n\u001b[1;32m    666\u001b[0m         \u001b[0;31m# the function a weak reference to itself to avoid a reference cycle.\u001b[0m\u001b[0;34m\u001b[0m\u001b[0;34m\u001b[0m\u001b[0;34m\u001b[0m\u001b[0m\n\u001b[1;32m    667\u001b[0m         \u001b[0;32mwith\u001b[0m \u001b[0mOptionalXlaContext\u001b[0m\u001b[0;34m(\u001b[0m\u001b[0mcompile_with_xla\u001b[0m\u001b[0;34m)\u001b[0m\u001b[0;34m:\u001b[0m\u001b[0;34m\u001b[0m\u001b[0;34m\u001b[0m\u001b[0m\n\u001b[0;32m--> 668\u001b[0;31m           \u001b[0mout\u001b[0m \u001b[0;34m=\u001b[0m \u001b[0mweak_wrapped_fn\u001b[0m\u001b[0;34m(\u001b[0m\u001b[0;34m)\u001b[0m\u001b[0;34m.\u001b[0m\u001b[0m__wrapped__\u001b[0m\u001b[0;34m(\u001b[0m\u001b[0;34m*\u001b[0m\u001b[0margs\u001b[0m\u001b[0;34m,\u001b[0m \u001b[0;34m**\u001b[0m\u001b[0mkwds\u001b[0m\u001b[0;34m)\u001b[0m\u001b[0;34m\u001b[0m\u001b[0;34m\u001b[0m\u001b[0m\n\u001b[0m\u001b[1;32m    669\u001b[0m         \u001b[0;32mreturn\u001b[0m \u001b[0mout\u001b[0m\u001b[0;34m\u001b[0m\u001b[0;34m\u001b[0m\u001b[0m\n\u001b[1;32m    670\u001b[0m \u001b[0;34m\u001b[0m\u001b[0m\n",
      "\u001b[0;32m~/opt/anaconda3/lib/python3.8/site-packages/tensorflow/python/framework/func_graph.py\u001b[0m in \u001b[0;36mwrapper\u001b[0;34m(*args, **kwargs)\u001b[0m\n\u001b[1;32m    992\u001b[0m           \u001b[0;32mexcept\u001b[0m \u001b[0mException\u001b[0m \u001b[0;32mas\u001b[0m \u001b[0me\u001b[0m\u001b[0;34m:\u001b[0m  \u001b[0;31m# pylint:disable=broad-except\u001b[0m\u001b[0;34m\u001b[0m\u001b[0;34m\u001b[0m\u001b[0m\n\u001b[1;32m    993\u001b[0m             \u001b[0;32mif\u001b[0m \u001b[0mhasattr\u001b[0m\u001b[0;34m(\u001b[0m\u001b[0me\u001b[0m\u001b[0;34m,\u001b[0m \u001b[0;34m\"ag_error_metadata\"\u001b[0m\u001b[0;34m)\u001b[0m\u001b[0;34m:\u001b[0m\u001b[0;34m\u001b[0m\u001b[0;34m\u001b[0m\u001b[0m\n\u001b[0;32m--> 994\u001b[0;31m               \u001b[0;32mraise\u001b[0m \u001b[0me\u001b[0m\u001b[0;34m.\u001b[0m\u001b[0mag_error_metadata\u001b[0m\u001b[0;34m.\u001b[0m\u001b[0mto_exception\u001b[0m\u001b[0;34m(\u001b[0m\u001b[0me\u001b[0m\u001b[0;34m)\u001b[0m\u001b[0;34m\u001b[0m\u001b[0;34m\u001b[0m\u001b[0m\n\u001b[0m\u001b[1;32m    995\u001b[0m             \u001b[0;32melse\u001b[0m\u001b[0;34m:\u001b[0m\u001b[0;34m\u001b[0m\u001b[0;34m\u001b[0m\u001b[0m\n\u001b[1;32m    996\u001b[0m               \u001b[0;32mraise\u001b[0m\u001b[0;34m\u001b[0m\u001b[0;34m\u001b[0m\u001b[0m\n",
      "\u001b[0;31mValueError\u001b[0m: in user code:\n\n    /Users/naokimaruoka/opt/anaconda3/lib/python3.8/site-packages/keras/engine/training.py:1586 predict_function  *\n        return step_function(self, iterator)\n    /Users/naokimaruoka/opt/anaconda3/lib/python3.8/site-packages/keras/engine/training.py:1576 step_function  **\n        outputs = model.distribute_strategy.run(run_step, args=(data,))\n    /Users/naokimaruoka/opt/anaconda3/lib/python3.8/site-packages/tensorflow/python/distribute/distribute_lib.py:1286 run\n        return self._extended.call_for_each_replica(fn, args=args, kwargs=kwargs)\n    /Users/naokimaruoka/opt/anaconda3/lib/python3.8/site-packages/tensorflow/python/distribute/distribute_lib.py:2849 call_for_each_replica\n        return self._call_for_each_replica(fn, args, kwargs)\n    /Users/naokimaruoka/opt/anaconda3/lib/python3.8/site-packages/tensorflow/python/distribute/distribute_lib.py:3632 _call_for_each_replica\n        return fn(*args, **kwargs)\n    /Users/naokimaruoka/opt/anaconda3/lib/python3.8/site-packages/keras/engine/training.py:1569 run_step  **\n        outputs = model.predict_step(data)\n    /Users/naokimaruoka/opt/anaconda3/lib/python3.8/site-packages/keras/engine/training.py:1537 predict_step\n        return self(x, training=False)\n    /Users/naokimaruoka/opt/anaconda3/lib/python3.8/site-packages/keras/engine/base_layer.py:1020 __call__\n        input_spec.assert_input_compatibility(self.input_spec, inputs, self.name)\n    /Users/naokimaruoka/opt/anaconda3/lib/python3.8/site-packages/keras/engine/input_spec.py:214 assert_input_compatibility\n        raise ValueError('Input ' + str(input_index) + ' of layer ' +\n\n    ValueError: Input 0 of layer sequential_7 is incompatible with the layer: expected ndim=3, found ndim=2. Full shape received: (None, 4)\n"
     ]
    }
   ],
   "source": [
    "# #未来の値\n",
    "empty = []\n",
    "future_array = np.array(empty)\n",
    "for i in range(length):\n",
    "  pred = (((np.transpose(yen_model.predict(latest_lstm_in))+1) * latest['Open'].values[0])[0])[0]\n",
    "  future_array= np.append(future_array,pred)\n",
    "  data ={'Open':[pred]}\n",
    "  df1 = pd.DataFrame(data)\n",
    "  latest =pd.concat([latest,df1],axis=0)\n",
    "  latest.index = range(0,window_len+1)\n",
    "  latest = latest.drop(0,axis=0)\n",
    "  latest_lstm_in =pd_to_np(latest_lstm_in)"
   ]
  },
  {
   "cell_type": "code",
   "execution_count": null,
   "id": "92267aa0-3a34-4bc4-84a6-c09096ac1a20",
   "metadata": {},
   "outputs": [],
   "source": []
  },
  {
   "cell_type": "code",
   "execution_count": 318,
   "id": "2633ed8b-753c-4e9e-a4d5-f9787be63791",
   "metadata": {},
   "outputs": [
    {
     "ename": "KeyError",
     "evalue": "'Date'",
     "output_type": "error",
     "traceback": [
      "\u001b[0;31m---------------------------------------------------------------------------\u001b[0m",
      "\u001b[0;31mKeyError\u001b[0m                                  Traceback (most recent call last)",
      "\u001b[0;32m~/opt/anaconda3/lib/python3.8/site-packages/pandas/core/indexes/base.py\u001b[0m in \u001b[0;36mget_loc\u001b[0;34m(self, key, method, tolerance)\u001b[0m\n\u001b[1;32m   3079\u001b[0m             \u001b[0;32mtry\u001b[0m\u001b[0;34m:\u001b[0m\u001b[0;34m\u001b[0m\u001b[0;34m\u001b[0m\u001b[0m\n\u001b[0;32m-> 3080\u001b[0;31m                 \u001b[0;32mreturn\u001b[0m \u001b[0mself\u001b[0m\u001b[0;34m.\u001b[0m\u001b[0m_engine\u001b[0m\u001b[0;34m.\u001b[0m\u001b[0mget_loc\u001b[0m\u001b[0;34m(\u001b[0m\u001b[0mcasted_key\u001b[0m\u001b[0;34m)\u001b[0m\u001b[0;34m\u001b[0m\u001b[0;34m\u001b[0m\u001b[0m\n\u001b[0m\u001b[1;32m   3081\u001b[0m             \u001b[0;32mexcept\u001b[0m \u001b[0mKeyError\u001b[0m \u001b[0;32mas\u001b[0m \u001b[0merr\u001b[0m\u001b[0;34m:\u001b[0m\u001b[0;34m\u001b[0m\u001b[0;34m\u001b[0m\u001b[0m\n",
      "\u001b[0;32mpandas/_libs/index.pyx\u001b[0m in \u001b[0;36mpandas._libs.index.IndexEngine.get_loc\u001b[0;34m()\u001b[0m\n",
      "\u001b[0;32mpandas/_libs/index.pyx\u001b[0m in \u001b[0;36mpandas._libs.index.IndexEngine.get_loc\u001b[0;34m()\u001b[0m\n",
      "\u001b[0;32mpandas/_libs/hashtable_class_helper.pxi\u001b[0m in \u001b[0;36mpandas._libs.hashtable.PyObjectHashTable.get_item\u001b[0;34m()\u001b[0m\n",
      "\u001b[0;32mpandas/_libs/hashtable_class_helper.pxi\u001b[0m in \u001b[0;36mpandas._libs.hashtable.PyObjectHashTable.get_item\u001b[0;34m()\u001b[0m\n",
      "\u001b[0;31mKeyError\u001b[0m: 'Date'",
      "\nThe above exception was the direct cause of the following exception:\n",
      "\u001b[0;31mKeyError\u001b[0m                                  Traceback (most recent call last)",
      "\u001b[0;32m<ipython-input-318-75a88d4f3b73>\u001b[0m in \u001b[0;36m<module>\u001b[0;34m\u001b[0m\n\u001b[1;32m      2\u001b[0m \u001b[0;34m\u001b[0m\u001b[0m\n\u001b[1;32m      3\u001b[0m \u001b[0;34m\u001b[0m\u001b[0m\n\u001b[0;32m----> 4\u001b[0;31m plt.plot(df_train[df_train['Date']< split_date]['Date'][window_len:].astype(datetime),\n\u001b[0m\u001b[1;32m      5\u001b[0m          df_train['Open'][window_len:], label='Actual', color='blue')\n\u001b[1;32m      6\u001b[0m plt.plot(df[df['Date']< split_date]['Date'][window_len:].astype(datetime),\n",
      "\u001b[0;32m~/opt/anaconda3/lib/python3.8/site-packages/pandas/core/frame.py\u001b[0m in \u001b[0;36m__getitem__\u001b[0;34m(self, key)\u001b[0m\n\u001b[1;32m   3022\u001b[0m             \u001b[0;32mif\u001b[0m \u001b[0mself\u001b[0m\u001b[0;34m.\u001b[0m\u001b[0mcolumns\u001b[0m\u001b[0;34m.\u001b[0m\u001b[0mnlevels\u001b[0m \u001b[0;34m>\u001b[0m \u001b[0;36m1\u001b[0m\u001b[0;34m:\u001b[0m\u001b[0;34m\u001b[0m\u001b[0;34m\u001b[0m\u001b[0m\n\u001b[1;32m   3023\u001b[0m                 \u001b[0;32mreturn\u001b[0m \u001b[0mself\u001b[0m\u001b[0;34m.\u001b[0m\u001b[0m_getitem_multilevel\u001b[0m\u001b[0;34m(\u001b[0m\u001b[0mkey\u001b[0m\u001b[0;34m)\u001b[0m\u001b[0;34m\u001b[0m\u001b[0;34m\u001b[0m\u001b[0m\n\u001b[0;32m-> 3024\u001b[0;31m             \u001b[0mindexer\u001b[0m \u001b[0;34m=\u001b[0m \u001b[0mself\u001b[0m\u001b[0;34m.\u001b[0m\u001b[0mcolumns\u001b[0m\u001b[0;34m.\u001b[0m\u001b[0mget_loc\u001b[0m\u001b[0;34m(\u001b[0m\u001b[0mkey\u001b[0m\u001b[0;34m)\u001b[0m\u001b[0;34m\u001b[0m\u001b[0;34m\u001b[0m\u001b[0m\n\u001b[0m\u001b[1;32m   3025\u001b[0m             \u001b[0;32mif\u001b[0m \u001b[0mis_integer\u001b[0m\u001b[0;34m(\u001b[0m\u001b[0mindexer\u001b[0m\u001b[0;34m)\u001b[0m\u001b[0;34m:\u001b[0m\u001b[0;34m\u001b[0m\u001b[0;34m\u001b[0m\u001b[0m\n\u001b[1;32m   3026\u001b[0m                 \u001b[0mindexer\u001b[0m \u001b[0;34m=\u001b[0m \u001b[0;34m[\u001b[0m\u001b[0mindexer\u001b[0m\u001b[0;34m]\u001b[0m\u001b[0;34m\u001b[0m\u001b[0;34m\u001b[0m\u001b[0m\n",
      "\u001b[0;32m~/opt/anaconda3/lib/python3.8/site-packages/pandas/core/indexes/base.py\u001b[0m in \u001b[0;36mget_loc\u001b[0;34m(self, key, method, tolerance)\u001b[0m\n\u001b[1;32m   3080\u001b[0m                 \u001b[0;32mreturn\u001b[0m \u001b[0mself\u001b[0m\u001b[0;34m.\u001b[0m\u001b[0m_engine\u001b[0m\u001b[0;34m.\u001b[0m\u001b[0mget_loc\u001b[0m\u001b[0;34m(\u001b[0m\u001b[0mcasted_key\u001b[0m\u001b[0;34m)\u001b[0m\u001b[0;34m\u001b[0m\u001b[0;34m\u001b[0m\u001b[0m\n\u001b[1;32m   3081\u001b[0m             \u001b[0;32mexcept\u001b[0m \u001b[0mKeyError\u001b[0m \u001b[0;32mas\u001b[0m \u001b[0merr\u001b[0m\u001b[0;34m:\u001b[0m\u001b[0;34m\u001b[0m\u001b[0;34m\u001b[0m\u001b[0m\n\u001b[0;32m-> 3082\u001b[0;31m                 \u001b[0;32mraise\u001b[0m \u001b[0mKeyError\u001b[0m\u001b[0;34m(\u001b[0m\u001b[0mkey\u001b[0m\u001b[0;34m)\u001b[0m \u001b[0;32mfrom\u001b[0m \u001b[0merr\u001b[0m\u001b[0;34m\u001b[0m\u001b[0;34m\u001b[0m\u001b[0m\n\u001b[0m\u001b[1;32m   3083\u001b[0m \u001b[0;34m\u001b[0m\u001b[0m\n\u001b[1;32m   3084\u001b[0m         \u001b[0;32mif\u001b[0m \u001b[0mtolerance\u001b[0m \u001b[0;32mis\u001b[0m \u001b[0;32mnot\u001b[0m \u001b[0;32mNone\u001b[0m\u001b[0;34m:\u001b[0m\u001b[0;34m\u001b[0m\u001b[0;34m\u001b[0m\u001b[0m\n",
      "\u001b[0;31mKeyError\u001b[0m: 'Date'"
     ]
    }
   ],
   "source": [
    "# plt.figure(figsize=(10,8))\n",
    "\n",
    "\n",
    "plt.plot(df_train[df_train['Date']< split_date]['Date'][window_len:].astype(datetime),\n",
    "         df_train['Open'][window_len:], label='Actual', color='blue')\n",
    "plt.plot(df[df['Date']< split_date]['Date'][window_len:].astype(datetime),\n",
    "         ((np.transpose(yen_model.predict(train_lstm_in))+1) * train['Open'].values[:-window_len])[0], \n",
    "         label='Predicted', color='red')\n",
    "plt.show()"
   ]
  },
  {
   "cell_type": "code",
   "execution_count": null,
   "id": "19d5405c-ff18-43f5-a4c1-2284b429ca53",
   "metadata": {},
   "outputs": [],
   "source": []
  },
  {
   "cell_type": "code",
   "execution_count": null,
   "id": "5cacde92-4eae-4265-bacd-4a03b45cea2a",
   "metadata": {},
   "outputs": [],
   "source": []
  }
 ],
 "metadata": {
  "kernelspec": {
   "display_name": "Python 3",
   "language": "python",
   "name": "python3"
  },
  "language_info": {
   "codemirror_mode": {
    "name": "ipython",
    "version": 3
   },
   "file_extension": ".py",
   "mimetype": "text/x-python",
   "name": "python",
   "nbconvert_exporter": "python",
   "pygments_lexer": "ipython3",
   "version": "3.8.8"
  }
 },
 "nbformat": 4,
 "nbformat_minor": 5
}
