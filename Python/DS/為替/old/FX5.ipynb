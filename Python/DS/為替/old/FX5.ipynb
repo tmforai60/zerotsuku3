{
 "cells": [
  {
   "cell_type": "code",
   "execution_count": 74,
   "id": "4864a99e-110a-495c-a9f0-684fca0c97ce",
   "metadata": {},
   "outputs": [],
   "source": [
    "# ライブラリの取得\n",
    "import pandas as pd\n",
    "import numpy as np\n",
    "%matplotlib inline\n",
    "import matplotlib.pyplot as plt\n",
    "import seaborn as sns\n",
    "# sns.set(font=\"IPAexGothic\",style=\"white\")　多分いらなそう\n",
    "# import oandapy\n",
    "import configparser\n",
    "import datetime\n",
    "from datetime import datetime, timedelta\n",
    "\n",
    "import warnings\n",
    "warnings.simplefilter('ignore')\n",
    "\n",
    "# CSVデータの読み込み\n",
    "import os\n",
    "working_directory=os.getcwd()\n",
    "#print(working_directory)\n",
    "path_train=working_directory+'/train_finance.csv'\n",
    "# path_test=working_directory+'/test_finance.csv'\n",
    "path_test=working_directory+'/test_finance_last10elminate.csv'\n",
    "path_latest=working_directory+'/test_latest.csv'\n",
    "path_submit=working_directory+'/submit_finance.csv'\n",
    "\n",
    "#データフレームの生成\n",
    "df_train=pd.read_csv(path_train)\n",
    "df_test=pd.read_csv(path_test)\n",
    "df_latest=pd.read_csv(path_latest)\n",
    "df_submit=pd.read_csv(path_submit)"
   ]
  },
  {
   "cell_type": "code",
   "execution_count": 75,
   "id": "cda3ee1f-2d6e-41d0-873b-b64a30a6b21c",
   "metadata": {},
   "outputs": [
    {
     "name": "stdout",
     "output_type": "stream",
     "text": [
      "<class 'pandas.core.frame.DataFrame'>\n",
      "RangeIndex: 2074 entries, 0 to 2073\n",
      "Data columns (total 5 columns):\n",
      " #   Column  Non-Null Count  Dtype  \n",
      "---  ------  --------------  -----  \n",
      " 0   Date    2074 non-null   object \n",
      " 1   High    2074 non-null   float64\n",
      " 2   Low     2074 non-null   float64\n",
      " 3   Open    2074 non-null   float64\n",
      " 4   Close   2074 non-null   float64\n",
      "dtypes: float64(4), object(1)\n",
      "memory usage: 81.1+ KB\n"
     ]
    }
   ],
   "source": [
    "#データの確認\n",
    "df_train.info()"
   ]
  },
  {
   "cell_type": "code",
   "execution_count": 76,
   "id": "146a3528-e6c1-472b-8cd9-2e05a050fa99",
   "metadata": {},
   "outputs": [
    {
     "name": "stdout",
     "output_type": "stream",
     "text": [
      "<class 'pandas.core.frame.DataFrame'>\n",
      "RangeIndex: 1236 entries, 0 to 1235\n",
      "Data columns (total 5 columns):\n",
      " #   Column  Non-Null Count  Dtype  \n",
      "---  ------  --------------  -----  \n",
      " 0   Date    1236 non-null   object \n",
      " 1   High    1236 non-null   float64\n",
      " 2   Low     1236 non-null   float64\n",
      " 3   Open    1236 non-null   float64\n",
      " 4   Close   1236 non-null   float64\n",
      "dtypes: float64(4), object(1)\n",
      "memory usage: 48.4+ KB\n"
     ]
    }
   ],
   "source": [
    "#データの確認\n",
    "df_test.info()"
   ]
  },
  {
   "cell_type": "code",
   "execution_count": 77,
   "id": "8ea6a89a-4d2b-4ed9-8e79-5fd8744dc710",
   "metadata": {},
   "outputs": [],
   "source": [
    "# Dateがobject型になっているので日付型に変換\n",
    "df_train['Date']=pd.to_datetime(df_train['Date'],format='%Y/%m/%d')\n",
    "df_test['Date']=pd.to_datetime(df_test['Date'],format='%Y/%m/%d')\n",
    "df_latest['Date']=pd.to_datetime(df_latest['Date'],format='%Y/%m/%d')"
   ]
  },
  {
   "cell_type": "code",
   "execution_count": 78,
   "id": "7b361acc-8505-4ed0-86e7-407131ef93a8",
   "metadata": {},
   "outputs": [
    {
     "name": "stdout",
     "output_type": "stream",
     "text": [
      "<class 'pandas.core.frame.DataFrame'>\n",
      "RangeIndex: 2074 entries, 0 to 2073\n",
      "Data columns (total 5 columns):\n",
      " #   Column  Non-Null Count  Dtype         \n",
      "---  ------  --------------  -----         \n",
      " 0   Date    2074 non-null   datetime64[ns]\n",
      " 1   High    2074 non-null   float64       \n",
      " 2   Low     2074 non-null   float64       \n",
      " 3   Open    2074 non-null   float64       \n",
      " 4   Close   2074 non-null   float64       \n",
      "dtypes: datetime64[ns](1), float64(4)\n",
      "memory usage: 81.1 KB\n"
     ]
    }
   ],
   "source": [
    "# Dateが日付型に変更されたかどうかの確認\n",
    "df_train.info()"
   ]
  },
  {
   "cell_type": "code",
   "execution_count": 79,
   "id": "f971f30a-5bbb-42ba-bf00-b73a0e714957",
   "metadata": {},
   "outputs": [
    {
     "name": "stdout",
     "output_type": "stream",
     "text": [
      "<class 'pandas.core.frame.DataFrame'>\n",
      "RangeIndex: 1236 entries, 0 to 1235\n",
      "Data columns (total 5 columns):\n",
      " #   Column  Non-Null Count  Dtype         \n",
      "---  ------  --------------  -----         \n",
      " 0   Date    1236 non-null   datetime64[ns]\n",
      " 1   High    1236 non-null   float64       \n",
      " 2   Low     1236 non-null   float64       \n",
      " 3   Open    1236 non-null   float64       \n",
      " 4   Close   1236 non-null   float64       \n",
      "dtypes: datetime64[ns](1), float64(4)\n",
      "memory usage: 48.4 KB\n"
     ]
    }
   ],
   "source": [
    "# Dateが日付型に変更されたかどうかの確認\n",
    "df_test.info()"
   ]
  },
  {
   "cell_type": "code",
   "execution_count": 80,
   "id": "c3d01ae3-29c4-4664-bf9c-f5d5487f5061",
   "metadata": {},
   "outputs": [
    {
     "name": "stdout",
     "output_type": "stream",
     "text": [
      "<class 'pandas.core.frame.DataFrame'>\n",
      "RangeIndex: 10 entries, 0 to 9\n",
      "Data columns (total 5 columns):\n",
      " #   Column  Non-Null Count  Dtype         \n",
      "---  ------  --------------  -----         \n",
      " 0   Date    10 non-null     datetime64[ns]\n",
      " 1   High    10 non-null     float64       \n",
      " 2   Low     10 non-null     float64       \n",
      " 3   Open    10 non-null     float64       \n",
      " 4   Close   10 non-null     float64       \n",
      "dtypes: datetime64[ns](1), float64(4)\n",
      "memory usage: 528.0 bytes\n"
     ]
    }
   ],
   "source": [
    "# Dateが日付型に変更されたかどうかの確認\n",
    "df_latest.info()"
   ]
  },
  {
   "cell_type": "code",
   "execution_count": 81,
   "id": "0b70002f-c2d3-4590-84fe-02ca7555b0a7",
   "metadata": {},
   "outputs": [
    {
     "data": {
      "text/html": [
       "<div>\n",
       "<style scoped>\n",
       "    .dataframe tbody tr th:only-of-type {\n",
       "        vertical-align: middle;\n",
       "    }\n",
       "\n",
       "    .dataframe tbody tr th {\n",
       "        vertical-align: top;\n",
       "    }\n",
       "\n",
       "    .dataframe thead th {\n",
       "        text-align: right;\n",
       "    }\n",
       "</style>\n",
       "<table border=\"1\" class=\"dataframe\">\n",
       "  <thead>\n",
       "    <tr style=\"text-align: right;\">\n",
       "      <th></th>\n",
       "      <th>Date</th>\n",
       "      <th>High</th>\n",
       "      <th>Low</th>\n",
       "      <th>Open</th>\n",
       "      <th>Close</th>\n",
       "    </tr>\n",
       "  </thead>\n",
       "  <tbody>\n",
       "    <tr>\n",
       "      <th>0</th>\n",
       "      <td>2003-12-01</td>\n",
       "      <td>111.370639</td>\n",
       "      <td>110.482062</td>\n",
       "      <td>111.314347</td>\n",
       "      <td>110.676377</td>\n",
       "    </tr>\n",
       "    <tr>\n",
       "      <th>1</th>\n",
       "      <td>2003-12-02</td>\n",
       "      <td>112.008532</td>\n",
       "      <td>110.500532</td>\n",
       "      <td>110.639316</td>\n",
       "      <td>111.823016</td>\n",
       "    </tr>\n",
       "    <tr>\n",
       "      <th>2</th>\n",
       "      <td>2003-12-03</td>\n",
       "      <td>112.202814</td>\n",
       "      <td>111.712284</td>\n",
       "      <td>111.832477</td>\n",
       "      <td>112.137524</td>\n",
       "    </tr>\n",
       "    <tr>\n",
       "      <th>3</th>\n",
       "      <td>2003-12-04</td>\n",
       "      <td>112.332259</td>\n",
       "      <td>111.406851</td>\n",
       "      <td>112.110343</td>\n",
       "      <td>111.748717</td>\n",
       "    </tr>\n",
       "    <tr>\n",
       "      <th>4</th>\n",
       "      <td>2003-12-05</td>\n",
       "      <td>112.766375</td>\n",
       "      <td>111.609834</td>\n",
       "      <td>111.721723</td>\n",
       "      <td>112.729259</td>\n",
       "    </tr>\n",
       "  </tbody>\n",
       "</table>\n",
       "</div>"
      ],
      "text/plain": [
       "        Date        High         Low        Open       Close\n",
       "0 2003-12-01  111.370639  110.482062  111.314347  110.676377\n",
       "1 2003-12-02  112.008532  110.500532  110.639316  111.823016\n",
       "2 2003-12-03  112.202814  111.712284  111.832477  112.137524\n",
       "3 2003-12-04  112.332259  111.406851  112.110343  111.748717\n",
       "4 2003-12-05  112.766375  111.609834  111.721723  112.729259"
      ]
     },
     "execution_count": 81,
     "metadata": {},
     "output_type": "execute_result"
    }
   ],
   "source": [
    "df_train.head()"
   ]
  },
  {
   "cell_type": "code",
   "execution_count": 82,
   "id": "76b90fff-1164-4658-9e98-b04a27913fbb",
   "metadata": {},
   "outputs": [
    {
     "data": {
      "text/html": [
       "<div>\n",
       "<style scoped>\n",
       "    .dataframe tbody tr th:only-of-type {\n",
       "        vertical-align: middle;\n",
       "    }\n",
       "\n",
       "    .dataframe tbody tr th {\n",
       "        vertical-align: top;\n",
       "    }\n",
       "\n",
       "    .dataframe thead th {\n",
       "        text-align: right;\n",
       "    }\n",
       "</style>\n",
       "<table border=\"1\" class=\"dataframe\">\n",
       "  <thead>\n",
       "    <tr style=\"text-align: right;\">\n",
       "      <th></th>\n",
       "      <th>High</th>\n",
       "      <th>Low</th>\n",
       "      <th>Open</th>\n",
       "      <th>Close</th>\n",
       "    </tr>\n",
       "  </thead>\n",
       "  <tbody>\n",
       "    <tr>\n",
       "      <th>count</th>\n",
       "      <td>2074.000000</td>\n",
       "      <td>2074.000000</td>\n",
       "      <td>2074.000000</td>\n",
       "      <td>2074.000000</td>\n",
       "    </tr>\n",
       "    <tr>\n",
       "      <th>mean</th>\n",
       "      <td>124.078238</td>\n",
       "      <td>122.910559</td>\n",
       "      <td>123.526205</td>\n",
       "      <td>123.529490</td>\n",
       "    </tr>\n",
       "    <tr>\n",
       "      <th>std</th>\n",
       "      <td>9.210193</td>\n",
       "      <td>9.493319</td>\n",
       "      <td>9.188003</td>\n",
       "      <td>9.184970</td>\n",
       "    </tr>\n",
       "    <tr>\n",
       "      <th>min</th>\n",
       "      <td>108.520946</td>\n",
       "      <td>6.743457</td>\n",
       "      <td>107.993884</td>\n",
       "      <td>107.998923</td>\n",
       "    </tr>\n",
       "    <tr>\n",
       "      <th>25%</th>\n",
       "      <td>117.002707</td>\n",
       "      <td>115.863246</td>\n",
       "      <td>116.408944</td>\n",
       "      <td>116.427990</td>\n",
       "    </tr>\n",
       "    <tr>\n",
       "      <th>50%</th>\n",
       "      <td>123.242134</td>\n",
       "      <td>121.951219</td>\n",
       "      <td>122.590435</td>\n",
       "      <td>122.573382</td>\n",
       "    </tr>\n",
       "    <tr>\n",
       "      <th>75%</th>\n",
       "      <td>130.814157</td>\n",
       "      <td>129.393252</td>\n",
       "      <td>130.201913</td>\n",
       "      <td>130.179930</td>\n",
       "    </tr>\n",
       "    <tr>\n",
       "      <th>max</th>\n",
       "      <td>148.260942</td>\n",
       "      <td>146.834717</td>\n",
       "      <td>147.832063</td>\n",
       "      <td>147.888796</td>\n",
       "    </tr>\n",
       "  </tbody>\n",
       "</table>\n",
       "</div>"
      ],
      "text/plain": [
       "              High          Low         Open        Close\n",
       "count  2074.000000  2074.000000  2074.000000  2074.000000\n",
       "mean    124.078238   122.910559   123.526205   123.529490\n",
       "std       9.210193     9.493319     9.188003     9.184970\n",
       "min     108.520946     6.743457   107.993884   107.998923\n",
       "25%     117.002707   115.863246   116.408944   116.427990\n",
       "50%     123.242134   121.951219   122.590435   122.573382\n",
       "75%     130.814157   129.393252   130.201913   130.179930\n",
       "max     148.260942   146.834717   147.832063   147.888796"
      ]
     },
     "execution_count": 82,
     "metadata": {},
     "output_type": "execute_result"
    }
   ],
   "source": [
    "#データの確認\n",
    "df_train.describe()"
   ]
  },
  {
   "cell_type": "code",
   "execution_count": 83,
   "id": "7cea939b-e54c-488b-9e8c-5b2ec3edfc5f",
   "metadata": {},
   "outputs": [
    {
     "data": {
      "text/html": [
       "<div>\n",
       "<style scoped>\n",
       "    .dataframe tbody tr th:only-of-type {\n",
       "        vertical-align: middle;\n",
       "    }\n",
       "\n",
       "    .dataframe tbody tr th {\n",
       "        vertical-align: top;\n",
       "    }\n",
       "\n",
       "    .dataframe thead th {\n",
       "        text-align: right;\n",
       "    }\n",
       "</style>\n",
       "<table border=\"1\" class=\"dataframe\">\n",
       "  <thead>\n",
       "    <tr style=\"text-align: right;\">\n",
       "      <th></th>\n",
       "      <th>High</th>\n",
       "      <th>Low</th>\n",
       "      <th>Open</th>\n",
       "      <th>Close</th>\n",
       "    </tr>\n",
       "  </thead>\n",
       "  <tbody>\n",
       "    <tr>\n",
       "      <th>count</th>\n",
       "      <td>1236.000000</td>\n",
       "      <td>1236.000000</td>\n",
       "      <td>1236.000000</td>\n",
       "      <td>1236.000000</td>\n",
       "    </tr>\n",
       "    <tr>\n",
       "      <th>mean</th>\n",
       "      <td>111.490059</td>\n",
       "      <td>110.738356</td>\n",
       "      <td>111.134670</td>\n",
       "      <td>111.135065</td>\n",
       "    </tr>\n",
       "    <tr>\n",
       "      <th>std</th>\n",
       "      <td>9.214735</td>\n",
       "      <td>9.281701</td>\n",
       "      <td>9.224468</td>\n",
       "      <td>9.223940</td>\n",
       "    </tr>\n",
       "    <tr>\n",
       "      <th>min</th>\n",
       "      <td>96.767439</td>\n",
       "      <td>70.352906</td>\n",
       "      <td>96.364197</td>\n",
       "      <td>96.357173</td>\n",
       "    </tr>\n",
       "    <tr>\n",
       "      <th>25%</th>\n",
       "      <td>103.778958</td>\n",
       "      <td>103.142761</td>\n",
       "      <td>103.477977</td>\n",
       "      <td>103.472478</td>\n",
       "    </tr>\n",
       "    <tr>\n",
       "      <th>50%</th>\n",
       "      <td>108.639479</td>\n",
       "      <td>107.891858</td>\n",
       "      <td>108.202341</td>\n",
       "      <td>108.196006</td>\n",
       "    </tr>\n",
       "    <tr>\n",
       "      <th>75%</th>\n",
       "      <td>120.711486</td>\n",
       "      <td>119.859603</td>\n",
       "      <td>120.326373</td>\n",
       "      <td>120.329122</td>\n",
       "    </tr>\n",
       "    <tr>\n",
       "      <th>max</th>\n",
       "      <td>129.417693</td>\n",
       "      <td>128.691530</td>\n",
       "      <td>128.851619</td>\n",
       "      <td>128.858797</td>\n",
       "    </tr>\n",
       "  </tbody>\n",
       "</table>\n",
       "</div>"
      ],
      "text/plain": [
       "              High          Low         Open        Close\n",
       "count  1236.000000  1236.000000  1236.000000  1236.000000\n",
       "mean    111.490059   110.738356   111.134670   111.135065\n",
       "std       9.214735     9.281701     9.224468     9.223940\n",
       "min      96.767439    70.352906    96.364197    96.357173\n",
       "25%     103.778958   103.142761   103.477977   103.472478\n",
       "50%     108.639479   107.891858   108.202341   108.196006\n",
       "75%     120.711486   119.859603   120.326373   120.329122\n",
       "max     129.417693   128.691530   128.851619   128.858797"
      ]
     },
     "execution_count": 83,
     "metadata": {},
     "output_type": "execute_result"
    }
   ],
   "source": [
    "#データの確認\n",
    "df_test.describe()"
   ]
  },
  {
   "cell_type": "code",
   "execution_count": 84,
   "id": "ff9f9180-63d6-439c-a3b6-9678dcd82ef9",
   "metadata": {},
   "outputs": [
    {
     "name": "stdout",
     "output_type": "stream",
     "text": [
      "欠損データ確認(df_train)\n",
      "Date     0\n",
      "High     0\n",
      "Low      0\n",
      "Open     0\n",
      "Close    0\n",
      "dtype: int64\n",
      "\n",
      "欠損データを確認(df_test)\n",
      "Date     0\n",
      "High     0\n",
      "Low      0\n",
      "Open     0\n",
      "Close    0\n",
      "dtype: int64\n",
      "\n"
     ]
    }
   ],
   "source": [
    "#欠損値の確認\n",
    "print(f'欠損データ確認(df_train)\\n{df_train.isnull().sum()}\\n')\n",
    "print(f'欠損データを確認(df_test)\\n{df_test.isnull().sum()}\\n')"
   ]
  },
  {
   "cell_type": "markdown",
   "id": "b8daff79-41e9-4b9e-9c3b-cb6856a3d546",
   "metadata": {},
   "source": [
    "## Trainデータを学習用と検証用に分割\n",
    "#### (しようとしたが今回はそもそもtrain:2003/12/1-2011/12/14 | test:2011/12/15-2019/12/31に分かれてるので分割不要。前者を学習用、後者を検証用に使う)"
   ]
  },
  {
   "cell_type": "code",
   "execution_count": 85,
   "id": "3d7b24b3-74fa-45be-a4a9-6e746c33313d",
   "metadata": {},
   "outputs": [],
   "source": [
    "# 不要\n",
    "# Trainデータを学習用と検証用に分割\n",
    "# 今回は①学習用：8割、②検証用：2割にTrainデータを分割して、①の予測モデルで\n",
    "# ②が正しく評価できるのかを確認した上で、testデータへの予測モデルの適用を行う"
   ]
  },
  {
   "cell_type": "code",
   "execution_count": 86,
   "id": "bc0c2e46-645b-4ae4-bb7e-56594743302d",
   "metadata": {},
   "outputs": [],
   "source": [
    "# 不要\n",
    "# # train_test_splitというDataFrameを分けてくれる関数がsklearnにあるのでそれを使う\n",
    "# from sklearn.model_selection import train_test_split\n",
    "\n",
    "# df_train, df_validation = train_test_split(df_train, train_size=0.8, test_size=0.2, shuffle=False)"
   ]
  },
  {
   "cell_type": "code",
   "execution_count": 87,
   "id": "4369f120-d765-4eda-b9a0-c05d5e42ba7d",
   "metadata": {},
   "outputs": [],
   "source": [
    "# 不要\n",
    "# # 分割後のサイズ\n",
    "# print(f'①学習用データのサイズ(df_train)：{len(df_train)}')\n",
    "# print(f'②検証用データのサイズ(df_validation)：{len(df_validation)}')\n",
    "# print(f'元々のdf_trainのサイズが8:2に分割された\\n')\n",
    "\n",
    "# # 分割後の詳細\n",
    "# print(f'分割後のサマリ(df_train)\\n{df_train.describe()}\\n')\n",
    "# print(f'分割後のサマリ(df_validation)\\n{df_validation.describe()}\\n')"
   ]
  },
  {
   "cell_type": "markdown",
   "id": "98046edc-d7e6-4ebe-99b5-aba997bf9928",
   "metadata": {},
   "source": [
    "##　LSTMモデルへ訓練させるための前処理"
   ]
  },
  {
   "cell_type": "code",
   "execution_count": 88,
   "id": "6ab9e7c4-fadc-4428-b3d8-73d1f845386d",
   "metadata": {},
   "outputs": [],
   "source": [
    "##　LSTMモデルへ訓練させるための前処理"
   ]
  },
  {
   "cell_type": "code",
   "execution_count": 89,
   "id": "490de5d6-ec84-4808-ba49-a198c1d9523e",
   "metadata": {},
   "outputs": [],
   "source": [
    "# windowを設定\n",
    "window_len=10"
   ]
  },
  {
   "cell_type": "code",
   "execution_count": null,
   "id": "231909a5-3252-43c5-b43c-9efadcb299ee",
   "metadata": {},
   "outputs": [],
   "source": []
  },
  {
   "cell_type": "code",
   "execution_count": 90,
   "id": "d9b2e854-58f3-4c35-bf80-f955ec00f65c",
   "metadata": {},
   "outputs": [],
   "source": [
    "# # Closeの単価だけ抽出\n",
    "# df_train=df_train['Close']\n",
    "# df_test=df_test['Close']\n",
    "# df_latest=df_latest['Close']"
   ]
  },
  {
   "cell_type": "code",
   "execution_count": 91,
   "id": "c0a418ea-b9b7-42e0-a559-6e30a000acd9",
   "metadata": {},
   "outputs": [],
   "source": [
    "# Dateそぎ落とし\n",
    "del df_train['Date']\n",
    "del df_test['Date']\n",
    "del df_latest['Date']"
   ]
  },
  {
   "cell_type": "code",
   "execution_count": 92,
   "id": "0695a4ff-f7a4-410d-a11d-17dfe011099a",
   "metadata": {},
   "outputs": [
    {
     "name": "stdout",
     "output_type": "stream",
     "text": [
      "単価抽出後のサマリ(df_train)\n",
      "              High          Low         Open        Close\n",
      "count  2074.000000  2074.000000  2074.000000  2074.000000\n",
      "mean    124.078238   122.910559   123.526205   123.529490\n",
      "std       9.210193     9.493319     9.188003     9.184970\n",
      "min     108.520946     6.743457   107.993884   107.998923\n",
      "25%     117.002707   115.863246   116.408944   116.427990\n",
      "50%     123.242134   121.951219   122.590435   122.573382\n",
      "75%     130.814157   129.393252   130.201913   130.179930\n",
      "max     148.260942   146.834717   147.832063   147.888796\n",
      "\n",
      "単価抽出後のサマリ(df_test)\n",
      "              High          Low         Open        Close\n",
      "count  1236.000000  1236.000000  1236.000000  1236.000000\n",
      "mean    111.490059   110.738356   111.134670   111.135065\n",
      "std       9.214735     9.281701     9.224468     9.223940\n",
      "min      96.767439    70.352906    96.364197    96.357173\n",
      "25%     103.778958   103.142761   103.477977   103.472478\n",
      "50%     108.639479   107.891858   108.202341   108.196006\n",
      "75%     120.711486   119.859603   120.326373   120.329122\n",
      "max     129.417693   128.691530   128.851619   128.858797\n",
      "\n",
      "単価抽出後のサマリ(df_latest)\n",
      "             High         Low        Open       Close\n",
      "count   10.000000   10.000000   10.000000   10.000000\n",
      "mean   103.334161  102.926054  103.071625  103.074446\n",
      "std      0.361769    0.337125    0.340458    0.340053\n",
      "min    102.720708  102.515795  102.629538  102.632956\n",
      "25%    103.155731  102.769785  102.843781  102.842064\n",
      "50%    103.281038  102.817198  103.000376  103.011844\n",
      "75%    103.464673  102.943638  103.359891  103.364806\n",
      "max    103.979324  103.606639  103.641461  103.621249\n",
      "\n"
     ]
    }
   ],
   "source": [
    "# 分割後の詳細\n",
    "print(f'単価抽出後のサマリ(df_train)\\n{df_train.describe()}\\n')\n",
    "print(f'単価抽出後のサマリ(df_test)\\n{df_test.describe()}\\n')\n",
    "print(f'単価抽出後のサマリ(df_latest)\\n{df_latest.describe()}\\n')"
   ]
  },
  {
   "cell_type": "code",
   "execution_count": 93,
   "id": "20fc0bc9-af10-42be-907d-5a109e96fbe7",
   "metadata": {},
   "outputs": [
    {
     "data": {
      "text/html": [
       "<div>\n",
       "<style scoped>\n",
       "    .dataframe tbody tr th:only-of-type {\n",
       "        vertical-align: middle;\n",
       "    }\n",
       "\n",
       "    .dataframe tbody tr th {\n",
       "        vertical-align: top;\n",
       "    }\n",
       "\n",
       "    .dataframe thead th {\n",
       "        text-align: right;\n",
       "    }\n",
       "</style>\n",
       "<table border=\"1\" class=\"dataframe\">\n",
       "  <thead>\n",
       "    <tr style=\"text-align: right;\">\n",
       "      <th></th>\n",
       "      <th>High</th>\n",
       "      <th>Low</th>\n",
       "      <th>Open</th>\n",
       "      <th>Close</th>\n",
       "    </tr>\n",
       "  </thead>\n",
       "  <tbody>\n",
       "    <tr>\n",
       "      <th>0</th>\n",
       "      <td>111.370639</td>\n",
       "      <td>110.482062</td>\n",
       "      <td>111.314347</td>\n",
       "      <td>110.676377</td>\n",
       "    </tr>\n",
       "    <tr>\n",
       "      <th>1</th>\n",
       "      <td>112.008532</td>\n",
       "      <td>110.500532</td>\n",
       "      <td>110.639316</td>\n",
       "      <td>111.823016</td>\n",
       "    </tr>\n",
       "    <tr>\n",
       "      <th>2</th>\n",
       "      <td>112.202814</td>\n",
       "      <td>111.712284</td>\n",
       "      <td>111.832477</td>\n",
       "      <td>112.137524</td>\n",
       "    </tr>\n",
       "    <tr>\n",
       "      <th>3</th>\n",
       "      <td>112.332259</td>\n",
       "      <td>111.406851</td>\n",
       "      <td>112.110343</td>\n",
       "      <td>111.748717</td>\n",
       "    </tr>\n",
       "    <tr>\n",
       "      <th>4</th>\n",
       "      <td>112.766375</td>\n",
       "      <td>111.609834</td>\n",
       "      <td>111.721723</td>\n",
       "      <td>112.729259</td>\n",
       "    </tr>\n",
       "  </tbody>\n",
       "</table>\n",
       "</div>"
      ],
      "text/plain": [
       "         High         Low        Open       Close\n",
       "0  111.370639  110.482062  111.314347  110.676377\n",
       "1  112.008532  110.500532  110.639316  111.823016\n",
       "2  112.202814  111.712284  111.832477  112.137524\n",
       "3  112.332259  111.406851  112.110343  111.748717\n",
       "4  112.766375  111.609834  111.721723  112.729259"
      ]
     },
     "execution_count": 93,
     "metadata": {},
     "output_type": "execute_result"
    }
   ],
   "source": [
    "df_train.head()"
   ]
  },
  {
   "cell_type": "code",
   "execution_count": 94,
   "id": "ff4ffc71-da95-4b5b-ae19-5d6d12e20204",
   "metadata": {},
   "outputs": [],
   "source": [
    "# LSTMへの入力用に処理の関数\n",
    "\n",
    "def data_maker(data):\n",
    "  data_lstm_in=[]\n",
    "  if len(data)==window_len:\n",
    "    temp = data[:window_len].copy()\n",
    "    temp = temp / temp.iloc[0] - 1\n",
    "    data_lstm_in.append(temp)\n",
    "  for i in range(len(data) - window_len): #今回のLSTMで生成する時系列データ数(train総数-10個のモデル)\n",
    "      temp = data[i:(i + window_len)].copy() #windowの単位で行を取得。参照渡しでなく値渡し。\n",
    "      temp = temp / temp.iloc[0] - 1\n",
    "      data_lstm_in.append(temp)\n",
    "  return data_lstm_in"
   ]
  },
  {
   "cell_type": "code",
   "execution_count": 95,
   "id": "51d3588b-01c5-447c-96bb-1e54ca4cbe64",
   "metadata": {},
   "outputs": [],
   "source": [
    "#関数の実行(Trainデータ)\n",
    "train_lstm_in = data_maker(df_train)"
   ]
  },
  {
   "cell_type": "code",
   "execution_count": 96,
   "id": "ba2c6512-656c-4c30-a186-40f7d4cb2806",
   "metadata": {},
   "outputs": [
    {
     "name": "stdout",
     "output_type": "stream",
     "text": [
      "train_lstm_in_配列数 : 2064\n",
      "\n",
      "train_lstm_in[0]\n",
      "       High       Low      Open     Close\n",
      "0  0.000000  0.000000  0.000000  0.000000\n",
      "1  0.005728  0.000167 -0.006064  0.010360\n",
      "2  0.007472  0.011135  0.004655  0.013202\n",
      "3  0.008634  0.008370  0.007151  0.009689\n",
      "4  0.012532  0.010208  0.003660  0.018549\n",
      "5  0.016610  0.017587  0.011134  0.021312\n",
      "6  0.019680  0.021261  0.015545  0.023814\n",
      "7  0.018767  0.018255  0.017871  0.018884\n",
      "8  0.016187  0.014984  0.013044  0.021649\n",
      "9  0.022089  0.022521  0.016042  0.026240\n",
      "\n",
      "train_lstm_in[1]\n",
      "        High       Low      Open     Close\n",
      "1   0.000000  0.000000  0.000000  0.000000\n",
      "2   0.001735  0.010966  0.010784  0.002813\n",
      "3   0.002890  0.008202  0.013296 -0.000664\n",
      "4   0.006766  0.010039  0.009783  0.008104\n",
      "5   0.010820  0.017417  0.017303  0.010839\n",
      "6   0.013873  0.021090  0.021741  0.013316\n",
      "7   0.012965  0.018085  0.024082  0.008436\n",
      "8   0.010400  0.014814  0.019225  0.011173\n",
      "9   0.016268  0.022350  0.022241  0.015717\n",
      "10  0.017834  0.019424  0.018890  0.019108\n",
      "\n",
      "train_lstm_in[-1]\n",
      "          High       Low      Open     Close\n",
      "2063  0.000000  0.000000  0.000000  0.000000\n",
      "2064 -0.000216  0.011729  0.008885  0.008994\n",
      "2065  0.001043  0.011715  0.010774  0.010720\n",
      "2066 -0.002953  0.010332  0.007017  0.007126\n",
      "2067 -0.007317  0.005723  0.004564  0.004699\n",
      "2068 -0.005273  0.006730  0.006612  0.006599\n",
      "2069 -0.004952  0.003514  0.005789  0.005978\n",
      "2070 -0.006943  0.001634  0.001615  0.001601\n",
      "2071 -0.010796 -0.004016  0.003530  0.003570\n",
      "2072 -0.021607 -0.012393 -0.011875 -0.011485\n",
      "\n"
     ]
    }
   ],
   "source": [
    "# 配列抜粋\n",
    "print(f'train_lstm_in_配列数 : {len(train_lstm_in)}\\n')\n",
    "print(f'train_lstm_in[0]\\n{train_lstm_in[0]}\\n')\n",
    "print(f'train_lstm_in[1]\\n{train_lstm_in[1]}\\n')\n",
    "print(f'train_lstm_in[-1]\\n{train_lstm_in[-1]}\\n')"
   ]
  },
  {
   "cell_type": "code",
   "execution_count": 97,
   "id": "7170b76f-5829-4554-9535-62d5b5b16c45",
   "metadata": {},
   "outputs": [],
   "source": [
    "lstm_train_out = (df_train['Open'][window_len:].values / df_train['Open'][:-window_len].values)-1"
   ]
  },
  {
   "cell_type": "code",
   "execution_count": 98,
   "id": "95e40aa7-684b-426b-9961-0117f9b03970",
   "metadata": {},
   "outputs": [
    {
     "data": {
      "text/plain": [
       "array([ 0.01271095,  0.02951676,  0.01902212, ...,  0.00455942,\n",
       "       -0.01066412, -0.02221258])"
      ]
     },
     "execution_count": 98,
     "metadata": {},
     "output_type": "execute_result"
    }
   ],
   "source": [
    "lstm_train_out"
   ]
  },
  {
   "cell_type": "code",
   "execution_count": 99,
   "id": "d2e58329-224a-4784-b46d-fe1cac235725",
   "metadata": {},
   "outputs": [],
   "source": [
    "#関数の実行(Testデータ)\n",
    "test_lstm_in = data_maker(df_test)"
   ]
  },
  {
   "cell_type": "code",
   "execution_count": 100,
   "id": "b76e3681-6591-44c0-82ff-fdcc8107c1a3",
   "metadata": {},
   "outputs": [
    {
     "name": "stdout",
     "output_type": "stream",
     "text": [
      "test_lstm_in_配列数 : 1226\n",
      "\n",
      "test_lstm_in[0]\n",
      "       High       Low      Open     Close\n",
      "0  0.000000  0.000000  0.000000  0.000000\n",
      "1  0.002682  0.003395  0.003284  0.003205\n",
      "2 -0.000613  0.001701  0.003741  0.003768\n",
      "3  0.006356  0.002625  0.001587  0.001522\n",
      "4  0.011123  0.005055  0.007748  0.007696\n",
      "5  0.005366  0.004675  0.003898  0.004003\n",
      "6 -0.008051 -0.007845 -0.004744 -0.004680\n",
      "7 -0.004068 -0.004388 -0.002707 -0.002462\n",
      "8 -0.006521 -0.003114 -0.002100 -0.002151\n",
      "9  0.001294 -0.002057 -0.003933 -0.003623\n",
      "\n",
      "test_lstm_in[1]\n",
      "        High       Low      Open     Close\n",
      "1   0.000000  0.000000  0.000000  0.000000\n",
      "2  -0.003286 -0.001688  0.000456  0.000561\n",
      "3   0.003664 -0.000767 -0.001691 -0.001678\n",
      "4   0.008418  0.001655  0.004450  0.004476\n",
      "5   0.002676  0.001276  0.000613  0.000795\n",
      "6  -0.010705 -0.011202 -0.008001 -0.007860\n",
      "7  -0.006732 -0.007757 -0.005971 -0.005649\n",
      "8  -0.009179 -0.006487 -0.005366 -0.005340\n",
      "9  -0.001385 -0.005433 -0.007193 -0.006807\n",
      "10 -0.000771 -0.008064  0.001841  0.002024\n",
      "\n",
      "test_lstm_in[-1]\n",
      "          High       Low      Open     Close\n",
      "1225  0.000000  0.000000  0.000000  0.000000\n",
      "1226  0.003181  0.003515  0.002819  0.003140\n",
      "1227  0.002660  0.004448  0.004473  0.004706\n",
      "1228  0.002438  0.003482  0.005208  0.005399\n",
      "1229  0.003673  0.004403  0.005085  0.005296\n",
      "1230 -0.003306 -0.001243 -0.001530 -0.001420\n",
      "1231 -0.002635 -0.002943 -0.001057 -0.000793\n",
      "1232  0.003016 -0.001045 -0.000474 -0.000132\n",
      "1233  0.003328  0.004648  0.004818  0.005318\n",
      "1234  0.005212  0.004781  0.005341  0.005875\n",
      "\n"
     ]
    }
   ],
   "source": [
    "# 配列抜粋(Testデータ)\n",
    "print(f'test_lstm_in_配列数 : {len(test_lstm_in)}\\n')\n",
    "print(f'test_lstm_in[0]\\n{test_lstm_in[0]}\\n')\n",
    "print(f'test_lstm_in[1]\\n{test_lstm_in[1]}\\n')\n",
    "print(f'test_lstm_in[-1]\\n{test_lstm_in[-1]}\\n')"
   ]
  },
  {
   "cell_type": "code",
   "execution_count": 101,
   "id": "e4fe251e-edaa-4fb7-a3a4-cec17f355c3f",
   "metadata": {},
   "outputs": [],
   "source": [
    "lstm_test_out = (df_test['Open'][window_len:].values / df_test['Open'][:-window_len].values)-1"
   ]
  },
  {
   "cell_type": "code",
   "execution_count": 102,
   "id": "8c545549-2377-4fe9-a15b-f8a56958c30a",
   "metadata": {},
   "outputs": [
    {
     "data": {
      "text/plain": [
       "array([ 0.00513026, -0.00760332, -0.02393378, ...,  0.00048736,\n",
       "        0.00663805,  0.00541945])"
      ]
     },
     "execution_count": 102,
     "metadata": {},
     "output_type": "execute_result"
    }
   ],
   "source": [
    "lstm_test_out"
   ]
  },
  {
   "cell_type": "code",
   "execution_count": null,
   "id": "2d1a9d83-322b-4050-a0bf-c474bc6bc89f",
   "metadata": {},
   "outputs": [],
   "source": []
  },
  {
   "cell_type": "code",
   "execution_count": 103,
   "id": "9086466a-a5b8-407f-aa11-8f8f4ab3933f",
   "metadata": {},
   "outputs": [],
   "source": [
    "#関数の実行(Latestデータ)\n",
    "latest_lstm_in = data_maker(df_latest)"
   ]
  },
  {
   "cell_type": "code",
   "execution_count": 104,
   "id": "278b4092-6140-40f6-b923-00acad181de3",
   "metadata": {},
   "outputs": [
    {
     "name": "stdout",
     "output_type": "stream",
     "text": [
      "latest_lstm_in_配列数 : 1\n",
      "\n",
      "latest_lstm_in\n",
      "       High       Low      Open     Close\n",
      "0  0.000000  0.000000  0.000000  0.000000\n",
      "1  0.003009  0.000634  0.004507  0.004508\n",
      "2  0.000402  0.001046 -0.000723 -0.001023\n",
      "3  0.001777  0.001714  0.000345  0.000100\n",
      "4 -0.000167 -0.000044  0.001639  0.001394\n",
      "5 -0.000981 -0.000178 -0.001556 -0.001790\n",
      "6 -0.004342 -0.002616 -0.003428 -0.003628\n",
      "7  0.002449 -0.001067 -0.002875 -0.003119\n",
      "8  0.006037  0.006273  0.004338  0.004171\n",
      "9  0.007858  0.007997  0.006398  0.005966\n",
      "\n"
     ]
    }
   ],
   "source": [
    "# 配列抜粋\n",
    "print(f'latest_lstm_in_配列数 : {len(latest_lstm_in)}\\n')\n",
    "print(f'latest_lstm_in\\n{latest_lstm_in[0]}\\n')\n",
    "#print(f'latest_lstm_in\\n{latest_lstm_in[1]}\\n')\n",
    "# print(f'latest_lstm_in\\n{latest_lstm_in[-1]}\\n')"
   ]
  },
  {
   "cell_type": "markdown",
   "id": "0e5cb290-36cb-43f4-8516-b931e725a7b0",
   "metadata": {},
   "source": [
    "## Numpy配列への変換"
   ]
  },
  {
   "cell_type": "code",
   "execution_count": 105,
   "id": "b61cbcb6-4597-49ac-9c01-38ba5056fe68",
   "metadata": {},
   "outputs": [],
   "source": [
    "# PandasのデータフレームからNumpy配列へ変換\n",
    "train_lstm_in = [np.array(train_lstm_input) for train_lstm_input in train_lstm_in]\n",
    "train_lstm_in = np.array(train_lstm_in)\n",
    "\n",
    "test_lstm_in = [np.array(test_lstm_input) for test_lstm_input in test_lstm_in]\n",
    "test_lstm_in = np.array(test_lstm_in)"
   ]
  },
  {
   "cell_type": "code",
   "execution_count": 106,
   "id": "f2118607-ee45-47ac-8d13-b1420ff3486f",
   "metadata": {},
   "outputs": [
    {
     "name": "stdout",
     "output_type": "stream",
     "text": [
      "train_lstm_in.shape[0] : 2064\n",
      "train_lstm_in.shape[1] : 10\n",
      "train_lstm_in.shape[2] : 4\n"
     ]
    }
   ],
   "source": [
    "print(f'train_lstm_in.shape[0] : {train_lstm_in.shape[0]}')\n",
    "print(f'train_lstm_in.shape[1] : {train_lstm_in.shape[1]}')\n",
    "print(f'train_lstm_in.shape[2] : {train_lstm_in.shape[2]}')"
   ]
  },
  {
   "cell_type": "code",
   "execution_count": null,
   "id": "ba83b6c2-aba9-4d3a-a57e-6a68cf46e62a",
   "metadata": {},
   "outputs": [],
   "source": []
  },
  {
   "cell_type": "code",
   "execution_count": 120,
   "id": "7b7619ca-9825-4f40-9815-9831338ea3b2",
   "metadata": {},
   "outputs": [
    {
     "data": {
      "text/plain": [
       "array([[[ 0.        ,  0.        ,  0.        ,  0.        ],\n",
       "        [ 0.00572766,  0.00016718, -0.00606419,  0.01036029],\n",
       "        [ 0.00747212,  0.01113504,  0.00465466,  0.01320198],\n",
       "        ...,\n",
       "        [ 0.01876704,  0.01825526,  0.01787141,  0.01888387],\n",
       "        [ 0.01618683,  0.01498399,  0.01304439,  0.02164884],\n",
       "        [ 0.02208933,  0.0225208 ,  0.01604186,  0.02624016]],\n",
       "\n",
       "       [[ 0.        ,  0.        ,  0.        ,  0.        ],\n",
       "        [ 0.00173453,  0.01096603,  0.01078424,  0.00281255],\n",
       "        [ 0.0028902 ,  0.00820195,  0.0132957 , -0.00066443],\n",
       "        ...,\n",
       "        [ 0.0103996 ,  0.01481434,  0.01922516,  0.0111728 ],\n",
       "        [ 0.0162685 ,  0.02234989,  0.02224093,  0.01571704],\n",
       "        [ 0.01783419,  0.01942404,  0.01888969,  0.01910834]],\n",
       "\n",
       "       [[ 0.        ,  0.        ,  0.        ,  0.        ],\n",
       "        [ 0.00115366, -0.0027341 ,  0.00248466, -0.00346723],\n",
       "        [ 0.0050227 , -0.00091709, -0.00099035,  0.00527686],\n",
       "        ...,\n",
       "        [ 0.0145088 ,  0.01126037,  0.01133445,  0.0128683 ],\n",
       "        [ 0.01607178,  0.00836626,  0.00801897,  0.01625008],\n",
       "        [ 0.01887207,  0.01887577,  0.01853266,  0.01641282]],\n",
       "\n",
       "       ...,\n",
       "\n",
       "       [[ 0.        ,  0.        ,  0.        ,  0.        ],\n",
       "        [ 0.00302336,  0.0008106 , -0.00019972,  0.00026629],\n",
       "        [ 0.0094802 , -0.00104789,  0.00102584,  0.00079942],\n",
       "        ...,\n",
       "        [ 0.00415673,  0.00567521,  0.00764483,  0.00740348],\n",
       "        [ 0.00448107,  0.00246251,  0.00682113,  0.00678224],\n",
       "        [ 0.00247105,  0.00058454,  0.00264235,  0.00240219]],\n",
       "\n",
       "       [[ 0.        ,  0.        ,  0.        ,  0.        ],\n",
       "        [ 0.00643738, -0.00185698,  0.00122581,  0.00053298],\n",
       "        [ 0.00621968,  0.00985024,  0.01012207,  0.00953173],\n",
       "        ...,\n",
       "        [ 0.00145332,  0.00165057,  0.00702225,  0.00651422],\n",
       "        [-0.00055065, -0.00022588,  0.00284264,  0.00213533],\n",
       "        [-0.00442809, -0.00586572,  0.00476009,  0.00410514]],\n",
       "\n",
       "       [[ 0.        ,  0.        ,  0.        ,  0.        ],\n",
       "        [-0.00021631,  0.011729  ,  0.00888537,  0.00899396],\n",
       "        [ 0.00104251,  0.01171543,  0.010774  ,  0.01071963],\n",
       "        ...,\n",
       "        [-0.00694333,  0.00163414,  0.00161485,  0.00160149],\n",
       "        [-0.01079597, -0.00401619,  0.00352996,  0.00357026],\n",
       "        [-0.02160737, -0.01239261, -0.01187537, -0.01148513]]])"
      ]
     },
     "execution_count": 120,
     "metadata": {},
     "output_type": "execute_result"
    }
   ],
   "source": [
    "train_lstm_in"
   ]
  },
  {
   "cell_type": "code",
   "execution_count": 108,
   "id": "9c0e49e7-3fd0-4d26-9867-28f86f13ffe5",
   "metadata": {},
   "outputs": [],
   "source": [
    "# # 変数名をそのままprint関数内で表示させる関数\n",
    "# def chkprint(*args):\n",
    "#     for obj in args:\n",
    "#         for k, v in globals().items():\n",
    "#             if id(v) == id(obj):\n",
    "#                 target = k\n",
    "#                 break          \n",
    "#     return target\n",
    "\n",
    "# # データがどのデータ型か、列数、行数を表示する関数\n",
    "# def typeInfo(targetData):\n",
    "#     if (type(targetData) is pd.core.frame.DataFrame):\n",
    "#         print(\"{} は DataFrame型\".format(chkprint(targetData)))\n",
    "#         print(\"{} の行数, 列数・・・{}\\n\".format(chkprint(targetData), targetData.shape))     # shapeの表示内容は、(行数, 列数)となる\n",
    "#     if (type(targetData) is list):\n",
    "#         print(\"{} は list型\".format(chkprint(targetData)))\n",
    "#         print(\"{} の行数, 列数・・・{}\\n\".format(chkprint(targetData), pd.DataFrame(targetData).shape))    # shapeの表示内容は、(行数, 列数)となる\n",
    "#     if (type(targetData) is np.ndarray):\n",
    "#         print(\"{} は ndarray型\".format(chkprint(targetData)))\n",
    "#         print(\"{} の行数, 列数・・・{}\\n\".format(chkprint(targetData), targetData.shape))     # shapeの表示内容は、(行数, 列数)となる\n",
    "#     if (type(targetData) is pd.core.series.Series):\n",
    "#         print(\"{} は Series型\".format(chkprint(targetData)))\n",
    "#         print(\"{} の行数, 列数・・・{}\\n\".format(chkprint(targetData), targetData.shape))     # shapeの表示内容は、(行数, 列数)となる"
   ]
  },
  {
   "cell_type": "code",
   "execution_count": 109,
   "id": "a5a002f0-356d-46a2-8a50-6cc2486192ad",
   "metadata": {},
   "outputs": [],
   "source": [
    "# typeInfo(train_lstm_in)"
   ]
  },
  {
   "cell_type": "markdown",
   "id": "8e920fb1-738b-4a2e-adae-22277451439c",
   "metadata": {},
   "source": [
    "## モデルの定義"
   ]
  },
  {
   "cell_type": "code",
   "execution_count": 110,
   "id": "f72edeeb-f600-4470-b058-9fec754d6d63",
   "metadata": {},
   "outputs": [],
   "source": [
    "# モデルの定義\n",
    "from keras.models import Sequential\n",
    "from keras.layers import Activation, Dense\n",
    "from keras.layers import LSTM\n",
    "from keras.layers import Dropout"
   ]
  },
  {
   "cell_type": "code",
   "execution_count": 111,
   "id": "c60224ae-815e-45cf-84de-66bc7610cb75",
   "metadata": {},
   "outputs": [],
   "source": [
    "# LSTMのモデルを設定\n",
    "def build_model(inputs, output_size, neurons, activ_func=\"linear\",\n",
    "                dropout=0.25, loss=\"mae\", optimizer=\"adam\"):\n",
    "    model = Sequential()\n",
    " \n",
    "    model.add(LSTM(neurons, input_shape=(inputs.shape[1], inputs.shape[2]))) #バッチ数、時系列データ数、特徴量数\n",
    "    model.add(Dropout(dropout)) \n",
    "    model.add(Dense(units=output_size))\n",
    "    model.add(Activation(activ_func))\n",
    " \n",
    "    model.compile(loss=loss, optimizer=optimizer)\n",
    "    return model"
   ]
  },
  {
   "cell_type": "code",
   "execution_count": null,
   "id": "334500b5-270c-41b8-9349-4a1697674a01",
   "metadata": {},
   "outputs": [],
   "source": []
  },
  {
   "cell_type": "markdown",
   "id": "8725a249-19e4-48ed-86af-adccc81492c3",
   "metadata": {},
   "source": [
    "## データの学習と予測"
   ]
  },
  {
   "cell_type": "code",
   "execution_count": 112,
   "id": "1e66be32-c774-435c-85e3-12f5166bee35",
   "metadata": {},
   "outputs": [
    {
     "name": "stdout",
     "output_type": "stream",
     "text": [
      "Epoch 1/10\n",
      "2064/2064 - 5s - loss: 0.0082\n",
      "Epoch 2/10\n",
      "2064/2064 - 4s - loss: 0.0064\n",
      "Epoch 3/10\n",
      "2064/2064 - 4s - loss: 0.0059\n",
      "Epoch 4/10\n",
      "2064/2064 - 4s - loss: 0.0052\n",
      "Epoch 5/10\n",
      "2064/2064 - 4s - loss: 0.0052\n",
      "Epoch 6/10\n",
      "2064/2064 - 4s - loss: 0.0049\n",
      "Epoch 7/10\n",
      "2064/2064 - 4s - loss: 0.0051\n",
      "Epoch 8/10\n",
      "2064/2064 - 4s - loss: 0.0048\n",
      "Epoch 9/10\n",
      "2064/2064 - 4s - loss: 0.0046\n",
      "Epoch 10/10\n",
      "2064/2064 - 4s - loss: 0.0045\n"
     ]
    }
   ],
   "source": [
    "np.random.seed(202)\n",
    " \n",
    "# 初期モデルの構築\n",
    "yen_model = build_model(train_lstm_in, output_size=1, neurons = 20)\n",
    "\n",
    "# データを流してフィッティングさせる\n",
    "yen_history = yen_model.fit(train_lstm_in, lstm_train_out, \n",
    "                            epochs=10, batch_size=1, verbose=2, shuffle=False)\n",
    "# 11/5 epochs=50からepochs=10に変更\n",
    "# 11/5 shuffle=TrueからFalseに変更"
   ]
  },
  {
   "cell_type": "code",
   "execution_count": 121,
   "id": "6eac1c92-2678-45b3-8174-187fd68e1427",
   "metadata": {},
   "outputs": [
    {
     "data": {
      "image/png": "[encoded data removed]",
      "text/plain": [
       "<Figure size 432x288 with 1 Axes>"
      ]
     },
     "metadata": {
      "needs_background": "light"
     },
     "output_type": "display_data"
    }
   ],
   "source": [
    "# MAEをプロットしてみよう\n",
    "fig, ax1 = plt.subplots(1,1)\n",
    " \n",
    "ax1.plot(yen_history.epoch, yen_history.history['loss'])\n",
    "ax1.set_title('TrainingError')\n",
    " \n",
    "if yen_model.loss == 'mae':\n",
    "    ax1.set_ylabel('Mean Absolute Error (MAE)',fontsize=12)\n",
    "else:\n",
    "    ax1.set_ylabel('Model Loss',fontsize=12)\n",
    "ax1.set_xlabel('# Epochs',fontsize=12)\n",
    "plt.show()"
   ]
  },
  {
   "cell_type": "code",
   "execution_count": null,
   "id": "64bcaaad-08ac-44c1-93f8-dd53bd7da551",
   "metadata": {},
   "outputs": [],
   "source": []
  },
  {
   "cell_type": "code",
   "execution_count": null,
   "id": "0776868f-afbc-49b6-96c2-e1291768f36d",
   "metadata": {},
   "outputs": [],
   "source": []
  },
  {
   "cell_type": "code",
   "execution_count": null,
   "id": "4c8a0415-e496-41d9-a0b2-6714059981fe",
   "metadata": {},
   "outputs": [],
   "source": []
  },
  {
   "cell_type": "code",
   "execution_count": 113,
   "id": "0fb31fd7-3df2-4097-b69b-7d9b1b96700d",
   "metadata": {},
   "outputs": [
    {
     "data": {
      "text/plain": [
       "10"
      ]
     },
     "execution_count": 113,
     "metadata": {},
     "output_type": "execute_result"
    }
   ],
   "source": [
    "len(df_latest)"
   ]
  },
  {
   "cell_type": "code",
   "execution_count": 114,
   "id": "db1dcf6c-9f13-4475-b808-7f38675fce23",
   "metadata": {},
   "outputs": [],
   "source": [
    "length=len(df_latest)"
   ]
  },
  {
   "cell_type": "markdown",
   "id": "b963772c-f2fb-4a54-b1a9-fbad270c87a7",
   "metadata": {},
   "source": [
    "## ここから先は以下のエラーがまだ未解決"
   ]
  },
  {
   "cell_type": "markdown",
   "id": "f2e572c5-da59-49ad-bfe4-46668402d644",
   "metadata": {},
   "source": [
    "### ValueError: Input 0 of layer sequential is incompatible with the layer: expected ndim=3, found ndim=2. Full shape received: (None, 4)"
   ]
  },
  {
   "cell_type": "code",
   "execution_count": 118,
   "id": "daef8d1b-9d74-4355-b8ad-e8c74aa83e08",
   "metadata": {},
   "outputs": [],
   "source": [
    "# #未来の値\n",
    "empty = []\n",
    "future_array = np.array(empty)\n",
    "for i in range(length):\n",
    "  pred = (((np.transpose(yen_model.predict(latest_lstm_in))+1) * latest['Open'].values[0])[0])[0]\n",
    "  future_array= np.append(future_array,pred)\n",
    "  data ={'Open':[pred]}\n",
    "  df1 = pd.DataFrame(data)\n",
    "  latest =pd.concat([latest,df1],axis=0)\n",
    "  latest.index = range(0,window_len+1)\n",
    "  latest = latest.drop(0,axis=0)\n",
    "  latest_lstm_in =pd_to_np(latest_lstm_in)"
   ]
  },
  {
   "cell_type": "code",
   "execution_count": null,
   "id": "92267aa0-3a34-4bc4-84a6-c09096ac1a20",
   "metadata": {},
   "outputs": [],
   "source": []
  },
  {
   "cell_type": "code",
   "execution_count": 119,
   "id": "2633ed8b-753c-4e9e-a4d5-f9787be63791",
   "metadata": {},
   "outputs": [],
   "source": [
    "# # plt.figure(figsize=(10,8))\n",
    "\n",
    "\n",
    "# plt.plot(df_train[df_train['Date']< split_date]['Date'][window_len:].astype(datetime),\n",
    "#          df_train['Open'][window_len:], label='Actual', color='blue')\n",
    "# plt.plot(df[df['Date']< split_date]['Date'][window_len:].astype(datetime),\n",
    "#          ((np.transpose(yen_model.predict(train_lstm_in))+1) * train['Open'].values[:-window_len])[0], \n",
    "#          label='Predicted', color='red')\n",
    "# plt.show()"
   ]
  },
  {
   "cell_type": "code",
   "execution_count": null,
   "id": "19d5405c-ff18-43f5-a4c1-2284b429ca53",
   "metadata": {},
   "outputs": [],
   "source": []
  },
  {
   "cell_type": "code",
   "execution_count": null,
   "id": "5cacde92-4eae-4265-bacd-4a03b45cea2a",
   "metadata": {},
   "outputs": [],
   "source": []
  },
  {
   "cell_type": "code",
   "execution_count": null,
   "id": "3dbd492d-20c6-4b2d-bb36-6e1fcef32389",
   "metadata": {},
   "outputs": [],
   "source": []
  },
  {
   "cell_type": "code",
   "execution_count": null,
   "id": "efe24dfb-450d-4b9d-bc34-492e96bb921d",
   "metadata": {},
   "outputs": [],
   "source": []
  },
  {
   "cell_type": "code",
   "execution_count": null,
   "id": "a2c3d2d8-4045-46f7-b434-7a1ea7ccbbe2",
   "metadata": {},
   "outputs": [],
   "source": []
  },
  {
   "cell_type": "code",
   "execution_count": null,
   "id": "abb814a7-d747-4a03-aab6-3456ef599139",
   "metadata": {},
   "outputs": [],
   "source": []
  },
  {
   "cell_type": "code",
   "execution_count": null,
   "id": "e3e89f40-507d-4058-8f86-8a13e177cbd8",
   "metadata": {},
   "outputs": [],
   "source": []
  }
 ],
 "metadata": {
  "kernelspec": {
   "display_name": "Python 3",
   "language": "python",
   "name": "python3"
  },
  "language_info": {
   "codemirror_mode": {
    "name": "ipython",
    "version": 3
   },
   "file_extension": ".py",
   "mimetype": "text/x-python",
   "name": "python",
   "nbconvert_exporter": "python",
   "pygments_lexer": "ipython3",
   "version": "3.8.8"
  }
 },
 "nbformat": 4,
 "nbformat_minor": 5
}
