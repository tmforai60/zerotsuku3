{
 "cells": [
  {
   "cell_type": "code",
   "execution_count": 2243,
   "id": "4864a99e-110a-495c-a9f0-684fca0c97ce",
   "metadata": {},
   "outputs": [],
   "source": [
    "# ライブラリの取得\n",
    "import pandas as pd\n",
    "import numpy as np\n",
    "%matplotlib inline\n",
    "import matplotlib.pyplot as plt\n",
    "import seaborn as sns\n",
    "# sns.set(font=\"IPAexGothic\",style=\"white\")　多分いらなそう\n",
    "# import oandapy\n",
    "import configparser\n",
    "import datetime\n",
    "from datetime import datetime, timedelta\n",
    "\n",
    "import warnings\n",
    "warnings.simplefilter('ignore')\n",
    "\n",
    "# CSVデータの読み込み\n",
    "import os\n",
    "working_directory=os.getcwd()\n",
    "#print(working_directory)\n",
    "path_train=working_directory+'/train_finance.csv'\n",
    "path_test=working_directory+'/test_finance.csv'\n",
    "# path_test=working_directory+'/test_finance_last10elminate.csv'\n",
    "path_latest=working_directory+'/test_latest.csv'\n",
    "path_submit=working_directory+'/submit_finance.csv'\n",
    "\n",
    "#データフレームの生成\n",
    "df_train=pd.read_csv(path_train)\n",
    "df_test=pd.read_csv(path_test)\n",
    "df_latest=pd.read_csv(path_latest)\n",
    "df_submit=pd.read_csv(path_submit)"
   ]
  },
  {
   "cell_type": "code",
   "execution_count": 2244,
   "id": "8ea6a89a-4d2b-4ed9-8e79-5fd8744dc710",
   "metadata": {},
   "outputs": [],
   "source": [
    "# Dateがobject型になっているので日付型に変換\n",
    "df_train['Date']=pd.to_datetime(df_train['Date'],format='%Y/%m/%d')\n",
    "df_test['Date']=pd.to_datetime(df_test['Date'],format='%Y/%m/%d')\n",
    "df_latest['Date']=pd.to_datetime(df_latest['Date'],format='%Y/%m/%d')"
   ]
  },
  {
   "cell_type": "code",
   "execution_count": 2245,
   "id": "7b361acc-8505-4ed0-86e7-407131ef93a8",
   "metadata": {},
   "outputs": [
    {
     "name": "stdout",
     "output_type": "stream",
     "text": [
      "<class 'pandas.core.frame.DataFrame'>\n",
      "RangeIndex: 2074 entries, 0 to 2073\n",
      "Data columns (total 5 columns):\n",
      " #   Column  Non-Null Count  Dtype         \n",
      "---  ------  --------------  -----         \n",
      " 0   Date    2074 non-null   datetime64[ns]\n",
      " 1   High    2074 non-null   float64       \n",
      " 2   Low     2074 non-null   float64       \n",
      " 3   Open    2074 non-null   float64       \n",
      " 4   Close   2074 non-null   float64       \n",
      "dtypes: datetime64[ns](1), float64(4)\n",
      "memory usage: 81.1 KB\n"
     ]
    }
   ],
   "source": [
    "# Dateが日付型に変更されたかどうかの確認\n",
    "df_train.info()"
   ]
  },
  {
   "cell_type": "code",
   "execution_count": 2246,
   "id": "f971f30a-5bbb-42ba-bf00-b73a0e714957",
   "metadata": {},
   "outputs": [
    {
     "name": "stdout",
     "output_type": "stream",
     "text": [
      "<class 'pandas.core.frame.DataFrame'>\n",
      "RangeIndex: 1246 entries, 0 to 1245\n",
      "Data columns (total 5 columns):\n",
      " #   Column  Non-Null Count  Dtype         \n",
      "---  ------  --------------  -----         \n",
      " 0   Date    1246 non-null   datetime64[ns]\n",
      " 1   High    1246 non-null   float64       \n",
      " 2   Low     1246 non-null   float64       \n",
      " 3   Open    1246 non-null   float64       \n",
      " 4   Close   1246 non-null   float64       \n",
      "dtypes: datetime64[ns](1), float64(4)\n",
      "memory usage: 48.8 KB\n"
     ]
    }
   ],
   "source": [
    "# Dateが日付型に変更されたかどうかの確認\n",
    "df_test.info()"
   ]
  },
  {
   "cell_type": "code",
   "execution_count": 2247,
   "id": "76b90fff-1164-4658-9e98-b04a27913fbb",
   "metadata": {},
   "outputs": [
    {
     "data": {
      "text/html": [
       "<div>\n",
       "<style scoped>\n",
       "    .dataframe tbody tr th:only-of-type {\n",
       "        vertical-align: middle;\n",
       "    }\n",
       "\n",
       "    .dataframe tbody tr th {\n",
       "        vertical-align: top;\n",
       "    }\n",
       "\n",
       "    .dataframe thead th {\n",
       "        text-align: right;\n",
       "    }\n",
       "</style>\n",
       "<table border=\"1\" class=\"dataframe\">\n",
       "  <thead>\n",
       "    <tr style=\"text-align: right;\">\n",
       "      <th></th>\n",
       "      <th>High</th>\n",
       "      <th>Low</th>\n",
       "      <th>Open</th>\n",
       "      <th>Close</th>\n",
       "    </tr>\n",
       "  </thead>\n",
       "  <tbody>\n",
       "    <tr>\n",
       "      <th>count</th>\n",
       "      <td>2074.000000</td>\n",
       "      <td>2074.000000</td>\n",
       "      <td>2074.000000</td>\n",
       "      <td>2074.000000</td>\n",
       "    </tr>\n",
       "    <tr>\n",
       "      <th>mean</th>\n",
       "      <td>124.078238</td>\n",
       "      <td>122.910559</td>\n",
       "      <td>123.526205</td>\n",
       "      <td>123.529490</td>\n",
       "    </tr>\n",
       "    <tr>\n",
       "      <th>std</th>\n",
       "      <td>9.210193</td>\n",
       "      <td>9.493319</td>\n",
       "      <td>9.188003</td>\n",
       "      <td>9.184970</td>\n",
       "    </tr>\n",
       "    <tr>\n",
       "      <th>min</th>\n",
       "      <td>108.520946</td>\n",
       "      <td>6.743457</td>\n",
       "      <td>107.993884</td>\n",
       "      <td>107.998923</td>\n",
       "    </tr>\n",
       "    <tr>\n",
       "      <th>25%</th>\n",
       "      <td>117.002707</td>\n",
       "      <td>115.863246</td>\n",
       "      <td>116.408944</td>\n",
       "      <td>116.427990</td>\n",
       "    </tr>\n",
       "    <tr>\n",
       "      <th>50%</th>\n",
       "      <td>123.242134</td>\n",
       "      <td>121.951219</td>\n",
       "      <td>122.590435</td>\n",
       "      <td>122.573382</td>\n",
       "    </tr>\n",
       "    <tr>\n",
       "      <th>75%</th>\n",
       "      <td>130.814157</td>\n",
       "      <td>129.393252</td>\n",
       "      <td>130.201913</td>\n",
       "      <td>130.179930</td>\n",
       "    </tr>\n",
       "    <tr>\n",
       "      <th>max</th>\n",
       "      <td>148.260942</td>\n",
       "      <td>146.834717</td>\n",
       "      <td>147.832063</td>\n",
       "      <td>147.888796</td>\n",
       "    </tr>\n",
       "  </tbody>\n",
       "</table>\n",
       "</div>"
      ],
      "text/plain": [
       "              High          Low         Open        Close\n",
       "count  2074.000000  2074.000000  2074.000000  2074.000000\n",
       "mean    124.078238   122.910559   123.526205   123.529490\n",
       "std       9.210193     9.493319     9.188003     9.184970\n",
       "min     108.520946     6.743457   107.993884   107.998923\n",
       "25%     117.002707   115.863246   116.408944   116.427990\n",
       "50%     123.242134   121.951219   122.590435   122.573382\n",
       "75%     130.814157   129.393252   130.201913   130.179930\n",
       "max     148.260942   146.834717   147.832063   147.888796"
      ]
     },
     "execution_count": 2247,
     "metadata": {},
     "output_type": "execute_result"
    }
   ],
   "source": [
    "#データの確認\n",
    "df_train.describe()"
   ]
  },
  {
   "cell_type": "markdown",
   "id": "096e0c85-d7f2-4b9d-aa4f-ef71af78fe6f",
   "metadata": {},
   "source": [
    "### Train異常値処理"
   ]
  },
  {
   "cell_type": "code",
   "execution_count": 2248,
   "id": "d13dadaa-240d-4506-b8fc-176a8606da83",
   "metadata": {},
   "outputs": [],
   "source": [
    "# Trainデータ異常値\n",
    "df_train[(df_train['Low']<10)]\n",
    "no=df_train[(df_train['Low']<10)].index\n",
    "# print(f'欠損データ確認(df_train)\\n{typeInfo(no)}\\n')"
   ]
  },
  {
   "cell_type": "code",
   "execution_count": 2249,
   "id": "a69a0e56-fefb-43da-9982-d1bcb698d7d0",
   "metadata": {},
   "outputs": [
    {
     "name": "stdout",
     "output_type": "stream",
     "text": [
      "異常値▲1日\n",
      "           Date        High         Low        Open       Close\n",
      "1114 2008-03-14  145.059359  143.736202  144.513188  144.465784\n",
      "\n",
      "異常値当日\n",
      "           Date        High       Low        Open       Close\n",
      "1115 2008-03-17  147.103265  6.743457  145.669288  145.669288\n",
      "\n",
      "異常値+1日\n",
      "           Date        High         Low        Open      Close\n",
      "1116 2008-03-18  146.409411  144.456764  145.660125  144.83676\n",
      "\n"
     ]
    }
   ],
   "source": [
    "# df_train.iloc[no:no+1] #インデックス指定されてるものでないとilocの範囲指定に使えない\n",
    "print(f'異常値▲1日\\n{df_train.iloc[no-1]}\\n')\n",
    "print(f'異常値当日\\n{df_train.iloc[no]}\\n')\n",
    "print(f'異常値+1日\\n{df_train.iloc[no+1]}\\n')"
   ]
  },
  {
   "cell_type": "code",
   "execution_count": 2250,
   "id": "4718b811-4d45-474b-9387-80d1b7730bed",
   "metadata": {},
   "outputs": [
    {
     "name": "stdout",
     "output_type": "stream",
     "text": [
      "1\n",
      "1115    6.743457\n",
      "Name: Low, dtype: float64\n",
      "\n",
      "1\n",
      "6.743457186967135\n",
      "\n"
     ]
    }
   ],
   "source": [
    "# 様々な記法一覧\n",
    "print(f'1\\n{df_train.iloc[no,2]}\\n')\n",
    "print(f'1\\n{df_train.iloc[1115].Low}\\n')\n",
    "# print(f'1\\n{df_train.at[df_train.index[1115],'Low']}\\n')"
   ]
  },
  {
   "cell_type": "code",
   "execution_count": 2251,
   "id": "8968ec2a-720a-4387-8e63-60eaba100838",
   "metadata": {},
   "outputs": [
    {
     "data": {
      "text/plain": [
       "144.09648299217224"
      ]
     },
     "execution_count": 2251,
     "metadata": {},
     "output_type": "execute_result"
    }
   ],
   "source": [
    "ave =(df_train['Low'][1114]+df_train['Low'][1116]) /2\n",
    "ave"
   ]
  },
  {
   "cell_type": "code",
   "execution_count": 2252,
   "id": "1e11d5a3-ad05-462a-a802-ef2e6bfdfcbc",
   "metadata": {},
   "outputs": [
    {
     "data": {
      "text/plain": [
       "144.09648299217224"
      ]
     },
     "execution_count": 2252,
     "metadata": {},
     "output_type": "execute_result"
    }
   ],
   "source": [
    "df_train['Low'][1115]=ave\n",
    "df_train['Low'][1115]"
   ]
  },
  {
   "cell_type": "code",
   "execution_count": 2253,
   "id": "27928e00-d8a3-487f-82d2-5a25f7bcbc98",
   "metadata": {},
   "outputs": [
    {
     "data": {
      "text/html": [
       "<div>\n",
       "<style scoped>\n",
       "    .dataframe tbody tr th:only-of-type {\n",
       "        vertical-align: middle;\n",
       "    }\n",
       "\n",
       "    .dataframe tbody tr th {\n",
       "        vertical-align: top;\n",
       "    }\n",
       "\n",
       "    .dataframe thead th {\n",
       "        text-align: right;\n",
       "    }\n",
       "</style>\n",
       "<table border=\"1\" class=\"dataframe\">\n",
       "  <thead>\n",
       "    <tr style=\"text-align: right;\">\n",
       "      <th></th>\n",
       "      <th>High</th>\n",
       "      <th>Low</th>\n",
       "      <th>Open</th>\n",
       "      <th>Close</th>\n",
       "    </tr>\n",
       "  </thead>\n",
       "  <tbody>\n",
       "    <tr>\n",
       "      <th>count</th>\n",
       "      <td>2074.000000</td>\n",
       "      <td>2074.000000</td>\n",
       "      <td>2074.000000</td>\n",
       "      <td>2074.000000</td>\n",
       "    </tr>\n",
       "    <tr>\n",
       "      <th>mean</th>\n",
       "      <td>124.078238</td>\n",
       "      <td>122.976785</td>\n",
       "      <td>123.526205</td>\n",
       "      <td>123.529490</td>\n",
       "    </tr>\n",
       "    <tr>\n",
       "      <th>std</th>\n",
       "      <td>9.210193</td>\n",
       "      <td>9.155624</td>\n",
       "      <td>9.188003</td>\n",
       "      <td>9.184970</td>\n",
       "    </tr>\n",
       "    <tr>\n",
       "      <th>min</th>\n",
       "      <td>108.520946</td>\n",
       "      <td>107.748581</td>\n",
       "      <td>107.993884</td>\n",
       "      <td>107.998923</td>\n",
       "    </tr>\n",
       "    <tr>\n",
       "      <th>25%</th>\n",
       "      <td>117.002707</td>\n",
       "      <td>115.876669</td>\n",
       "      <td>116.408944</td>\n",
       "      <td>116.427990</td>\n",
       "    </tr>\n",
       "    <tr>\n",
       "      <th>50%</th>\n",
       "      <td>123.242134</td>\n",
       "      <td>121.954434</td>\n",
       "      <td>122.590435</td>\n",
       "      <td>122.573382</td>\n",
       "    </tr>\n",
       "    <tr>\n",
       "      <th>75%</th>\n",
       "      <td>130.814157</td>\n",
       "      <td>129.426294</td>\n",
       "      <td>130.201913</td>\n",
       "      <td>130.179930</td>\n",
       "    </tr>\n",
       "    <tr>\n",
       "      <th>max</th>\n",
       "      <td>148.260942</td>\n",
       "      <td>146.834717</td>\n",
       "      <td>147.832063</td>\n",
       "      <td>147.888796</td>\n",
       "    </tr>\n",
       "  </tbody>\n",
       "</table>\n",
       "</div>"
      ],
      "text/plain": [
       "              High          Low         Open        Close\n",
       "count  2074.000000  2074.000000  2074.000000  2074.000000\n",
       "mean    124.078238   122.976785   123.526205   123.529490\n",
       "std       9.210193     9.155624     9.188003     9.184970\n",
       "min     108.520946   107.748581   107.993884   107.998923\n",
       "25%     117.002707   115.876669   116.408944   116.427990\n",
       "50%     123.242134   121.954434   122.590435   122.573382\n",
       "75%     130.814157   129.426294   130.201913   130.179930\n",
       "max     148.260942   146.834717   147.832063   147.888796"
      ]
     },
     "execution_count": 2253,
     "metadata": {},
     "output_type": "execute_result"
    }
   ],
   "source": [
    "df_train.describe()"
   ]
  },
  {
   "cell_type": "code",
   "execution_count": null,
   "id": "1b97e789-56ac-4d7f-b9ec-1cdf3bc81d64",
   "metadata": {},
   "outputs": [],
   "source": []
  },
  {
   "cell_type": "code",
   "execution_count": 2254,
   "id": "7cea939b-e54c-488b-9e8c-5b2ec3edfc5f",
   "metadata": {},
   "outputs": [
    {
     "data": {
      "text/html": [
       "<div>\n",
       "<style scoped>\n",
       "    .dataframe tbody tr th:only-of-type {\n",
       "        vertical-align: middle;\n",
       "    }\n",
       "\n",
       "    .dataframe tbody tr th {\n",
       "        vertical-align: top;\n",
       "    }\n",
       "\n",
       "    .dataframe thead th {\n",
       "        text-align: right;\n",
       "    }\n",
       "</style>\n",
       "<table border=\"1\" class=\"dataframe\">\n",
       "  <thead>\n",
       "    <tr style=\"text-align: right;\">\n",
       "      <th></th>\n",
       "      <th>High</th>\n",
       "      <th>Low</th>\n",
       "      <th>Open</th>\n",
       "      <th>Close</th>\n",
       "    </tr>\n",
       "  </thead>\n",
       "  <tbody>\n",
       "    <tr>\n",
       "      <th>count</th>\n",
       "      <td>1246.000000</td>\n",
       "      <td>1246.000000</td>\n",
       "      <td>1246.000000</td>\n",
       "      <td>1246.000000</td>\n",
       "    </tr>\n",
       "    <tr>\n",
       "      <th>mean</th>\n",
       "      <td>111.424603</td>\n",
       "      <td>110.675657</td>\n",
       "      <td>111.069958</td>\n",
       "      <td>111.070373</td>\n",
       "    </tr>\n",
       "    <tr>\n",
       "      <th>std</th>\n",
       "      <td>9.206534</td>\n",
       "      <td>9.270658</td>\n",
       "      <td>9.215541</td>\n",
       "      <td>9.214999</td>\n",
       "    </tr>\n",
       "    <tr>\n",
       "      <th>min</th>\n",
       "      <td>96.767439</td>\n",
       "      <td>70.352906</td>\n",
       "      <td>96.364197</td>\n",
       "      <td>96.357173</td>\n",
       "    </tr>\n",
       "    <tr>\n",
       "      <th>25%</th>\n",
       "      <td>103.722807</td>\n",
       "      <td>103.064503</td>\n",
       "      <td>103.422443</td>\n",
       "      <td>103.422154</td>\n",
       "    </tr>\n",
       "    <tr>\n",
       "      <th>50%</th>\n",
       "      <td>108.456692</td>\n",
       "      <td>107.796669</td>\n",
       "      <td>108.091687</td>\n",
       "      <td>108.082215</td>\n",
       "    </tr>\n",
       "    <tr>\n",
       "      <th>75%</th>\n",
       "      <td>120.690221</td>\n",
       "      <td>119.751722</td>\n",
       "      <td>120.218867</td>\n",
       "      <td>120.219641</td>\n",
       "    </tr>\n",
       "    <tr>\n",
       "      <th>max</th>\n",
       "      <td>129.417693</td>\n",
       "      <td>128.691531</td>\n",
       "      <td>128.851618</td>\n",
       "      <td>128.858797</td>\n",
       "    </tr>\n",
       "  </tbody>\n",
       "</table>\n",
       "</div>"
      ],
      "text/plain": [
       "              High          Low         Open        Close\n",
       "count  1246.000000  1246.000000  1246.000000  1246.000000\n",
       "mean    111.424603   110.675657   111.069958   111.070373\n",
       "std       9.206534     9.270658     9.215541     9.214999\n",
       "min      96.767439    70.352906    96.364197    96.357173\n",
       "25%     103.722807   103.064503   103.422443   103.422154\n",
       "50%     108.456692   107.796669   108.091687   108.082215\n",
       "75%     120.690221   119.751722   120.218867   120.219641\n",
       "max     129.417693   128.691531   128.851618   128.858797"
      ]
     },
     "execution_count": 2254,
     "metadata": {},
     "output_type": "execute_result"
    }
   ],
   "source": [
    "#データの確認\n",
    "df_test.describe()"
   ]
  },
  {
   "cell_type": "markdown",
   "id": "de448434-fef7-4a69-b2ea-038baf52c032",
   "metadata": {},
   "source": [
    "## 単純移動平均の追加"
   ]
  },
  {
   "cell_type": "code",
   "execution_count": 2255,
   "id": "574165e7-65e5-42a9-ac80-7ccf0b9182bb",
   "metadata": {},
   "outputs": [],
   "source": [
    "#　移動平均の期間\n",
    "span01=6\n",
    "span02=6\n",
    "span03=12"
   ]
  },
  {
   "cell_type": "code",
   "execution_count": 2256,
   "id": "bda26016-a71c-4e9d-8047-10ff5f5ecbab",
   "metadata": {},
   "outputs": [],
   "source": [
    "df_train['SMA01']=df_train['Close'].rolling(window=span01).mean()\n",
    "df_test['SMA01']=df_test['Close'].rolling(window=span01).mean()\n",
    "\n",
    "# df_train['SMA02']=df_train['Close'].rolling(window=span01).mean()\n",
    "# df_test['SMA02']=df_test['Close'].rolling(window=span01).mean()\n",
    "\n",
    "# df_train['SMA03']=df_train['Close'].rolling(window=span01).mean()\n",
    "# df_test['SMA03']=df_test['Close'].rolling(window=span01).mean()"
   ]
  },
  {
   "cell_type": "code",
   "execution_count": null,
   "id": "bd10db65-db4c-4b3c-bb69-37a419b4c8c1",
   "metadata": {},
   "outputs": [],
   "source": []
  },
  {
   "cell_type": "code",
   "execution_count": 2257,
   "id": "236ea96e-c66e-425d-9492-7804c865b819",
   "metadata": {},
   "outputs": [
    {
     "name": "stdout",
     "output_type": "stream",
     "text": [
      "train\n",
      "           Date        High         Low        Open       Close       SMA01\n",
      "0    2003-12-01  111.370639  110.482062  111.314347  110.676377         NaN\n",
      "1    2003-12-02  112.008532  110.500532  110.639316  111.823016         NaN\n",
      "2    2003-12-03  112.202814  111.712284  111.832477  112.137524         NaN\n",
      "3    2003-12-04  112.332259  111.406851  112.110343  111.748717         NaN\n",
      "4    2003-12-05  112.766375  111.609834  111.721723  112.729259         NaN\n",
      "...         ...         ...         ...         ...         ...         ...\n",
      "2069 2011-12-08  124.476855  123.126484  123.959751  123.984661  124.154053\n",
      "2070 2011-12-09  124.227770  122.895824  123.445260  123.445260  124.002202\n",
      "2071 2011-12-12  123.745819  122.202555  123.681290  123.687906  123.855345\n",
      "2072 2011-12-13  122.393352  121.174807  121.782641  121.832361  123.473057\n",
      "2073 2011-12-14  120.796608  119.824855  120.508620  120.427021  122.906395\n",
      "\n",
      "[2074 rows x 6 columns]\n",
      "\n",
      "test\n",
      "           Date        High         Low        Open       Close       SMA01\n",
      "0    2011-12-15  120.703596  119.907182  120.132990  120.139231         NaN\n",
      "1    2011-12-16  121.027367  120.314249  120.527453  120.524311         NaN\n",
      "2    2011-12-19  120.629617  120.111145  120.582444  120.591872         NaN\n",
      "3    2011-12-20  121.470779  120.221987  120.323633  120.322078         NaN\n",
      "4    2011-12-21  122.046150  120.513328  121.063789  121.063789         NaN\n",
      "...         ...         ...         ...         ...         ...         ...\n",
      "1241 2019-12-19  103.067513  102.766359  102.822331  102.822331  103.061430\n",
      "1242 2019-12-26  102.720708  102.515796  102.629538  102.632956  102.999143\n",
      "1243 2019-12-27  103.421288  102.674990  102.686502  102.685356  102.868197\n",
      "1244 2019-12-30  103.791471  103.429382  103.429382  103.436318  102.957373\n",
      "1245 2019-12-31  103.979324  103.606639  103.641461  103.621249  103.058080\n",
      "\n",
      "[1246 rows x 6 columns]\n",
      "\n"
     ]
    }
   ],
   "source": [
    "# \n",
    "print(f'train\\n{df_train}\\n')\n",
    "print(f'test\\n{df_test}\\n')"
   ]
  },
  {
   "cell_type": "code",
   "execution_count": 2258,
   "id": "ae9c8e51-1da9-42da-ab69-939fcabd98b6",
   "metadata": {},
   "outputs": [],
   "source": [
    "# 移動平均1日目を取り合えす終値で埋める\n",
    "df_train['SMA01'][0]=df_train['Close'][0]\n",
    "df_test['SMA01'][0]=df_test['Close'][0]\n",
    "\n",
    "# df_train['SMA02'][0]=df_train['Close'][0]\n",
    "# df_test['SMA02'][0]=df_test['Close'][0]\n",
    "\n",
    "# df_train['SMA03'][0]=df_train['Close'][0]\n",
    "# df_test['SMA03'][0]=df_test['Close'][0]"
   ]
  },
  {
   "cell_type": "code",
   "execution_count": 2259,
   "id": "5cdf214f-a636-4b2b-8144-7748b2206ee9",
   "metadata": {},
   "outputs": [
    {
     "name": "stdout",
     "output_type": "stream",
     "text": [
      "train\n",
      "           Date        High         Low        Open       Close       SMA01\n",
      "0    2003-12-01  111.370639  110.482062  111.314347  110.676377  110.676377\n",
      "1    2003-12-02  112.008532  110.500532  110.639316  111.823016         NaN\n",
      "2    2003-12-03  112.202814  111.712284  111.832477  112.137524         NaN\n",
      "3    2003-12-04  112.332259  111.406851  112.110343  111.748717         NaN\n",
      "4    2003-12-05  112.766375  111.609834  111.721723  112.729259         NaN\n",
      "...         ...         ...         ...         ...         ...         ...\n",
      "2069 2011-12-08  124.476855  123.126484  123.959751  123.984661  124.154053\n",
      "2070 2011-12-09  124.227770  122.895824  123.445260  123.445260  124.002202\n",
      "2071 2011-12-12  123.745819  122.202555  123.681290  123.687906  123.855345\n",
      "2072 2011-12-13  122.393352  121.174807  121.782641  121.832361  123.473057\n",
      "2073 2011-12-14  120.796608  119.824855  120.508620  120.427021  122.906395\n",
      "\n",
      "[2074 rows x 6 columns]\n",
      "\n",
      "test\n",
      "           Date        High         Low        Open       Close       SMA01\n",
      "0    2011-12-15  120.703596  119.907182  120.132990  120.139231  120.139231\n",
      "1    2011-12-16  121.027367  120.314249  120.527453  120.524311         NaN\n",
      "2    2011-12-19  120.629617  120.111145  120.582444  120.591872         NaN\n",
      "3    2011-12-20  121.470779  120.221987  120.323633  120.322078         NaN\n",
      "4    2011-12-21  122.046150  120.513328  121.063789  121.063789         NaN\n",
      "...         ...         ...         ...         ...         ...         ...\n",
      "1241 2019-12-19  103.067513  102.766359  102.822331  102.822331  103.061430\n",
      "1242 2019-12-26  102.720708  102.515796  102.629538  102.632956  102.999143\n",
      "1243 2019-12-27  103.421288  102.674990  102.686502  102.685356  102.868197\n",
      "1244 2019-12-30  103.791471  103.429382  103.429382  103.436318  102.957373\n",
      "1245 2019-12-31  103.979324  103.606639  103.641461  103.621249  103.058080\n",
      "\n",
      "[1246 rows x 6 columns]\n",
      "\n"
     ]
    }
   ],
   "source": [
    "# 結果\n",
    "print(f'train\\n{df_train}\\n')\n",
    "print(f'test\\n{df_test}\\n')"
   ]
  },
  {
   "cell_type": "code",
   "execution_count": 2260,
   "id": "79d2d0c2-e21f-4267-b4cd-52ed44579ceb",
   "metadata": {},
   "outputs": [],
   "source": [
    "#線形補間\n",
    "df_train=df_train.interpolate()\n",
    "df_test=df_test.interpolate()"
   ]
  },
  {
   "cell_type": "code",
   "execution_count": 2261,
   "id": "77821a81-14fa-49b4-bfe0-b347a203ada9",
   "metadata": {},
   "outputs": [
    {
     "name": "stdout",
     "output_type": "stream",
     "text": [
      "train\n",
      "           Date        High         Low        Open       Close       SMA01\n",
      "0    2003-12-01  111.370639  110.482062  111.314347  110.676377  110.676377\n",
      "1    2003-12-02  112.008532  110.500532  110.639316  111.823016  110.946101\n",
      "2    2003-12-03  112.202814  111.712284  111.832477  112.137524  111.215825\n",
      "3    2003-12-04  112.332259  111.406851  112.110343  111.748717  111.485549\n",
      "4    2003-12-05  112.766375  111.609834  111.721723  112.729259  111.755273\n",
      "...         ...         ...         ...         ...         ...         ...\n",
      "2069 2011-12-08  124.476855  123.126484  123.959751  123.984661  124.154053\n",
      "2070 2011-12-09  124.227770  122.895824  123.445260  123.445260  124.002202\n",
      "2071 2011-12-12  123.745819  122.202555  123.681290  123.687906  123.855345\n",
      "2072 2011-12-13  122.393352  121.174807  121.782641  121.832361  123.473057\n",
      "2073 2011-12-14  120.796608  119.824855  120.508620  120.427021  122.906395\n",
      "\n",
      "[2074 rows x 6 columns]\n",
      "\n",
      "test\n",
      "           Date        High         Low        Open       Close       SMA01\n",
      "0    2011-12-15  120.703596  119.907182  120.132990  120.139231  120.139231\n",
      "1    2011-12-16  121.027367  120.314249  120.527453  120.524311  120.220100\n",
      "2    2011-12-19  120.629617  120.111145  120.582444  120.591872  120.300969\n",
      "3    2011-12-20  121.470779  120.221987  120.323633  120.322078  120.381838\n",
      "4    2011-12-21  122.046150  120.513328  121.063789  121.063789  120.462707\n",
      "...         ...         ...         ...         ...         ...         ...\n",
      "1241 2019-12-19  103.067513  102.766359  102.822331  102.822331  103.061430\n",
      "1242 2019-12-26  102.720708  102.515796  102.629538  102.632956  102.999143\n",
      "1243 2019-12-27  103.421288  102.674990  102.686502  102.685356  102.868197\n",
      "1244 2019-12-30  103.791471  103.429382  103.429382  103.436318  102.957373\n",
      "1245 2019-12-31  103.979324  103.606639  103.641461  103.621249  103.058080\n",
      "\n",
      "[1246 rows x 6 columns]\n",
      "\n"
     ]
    }
   ],
   "source": [
    "# 結果\n",
    "print(f'train\\n{df_train}\\n')\n",
    "print(f'test\\n{df_test}\\n')"
   ]
  },
  {
   "cell_type": "code",
   "execution_count": null,
   "id": "0543dfd9-1910-432f-b1f6-09f6bd154dd7",
   "metadata": {},
   "outputs": [],
   "source": []
  },
  {
   "cell_type": "markdown",
   "id": "9ae40957-fb61-41b4-91f0-1d9a927c3a9c",
   "metadata": {},
   "source": [
    "## 指数移動平滑平均(EMA)の追加"
   ]
  },
  {
   "cell_type": "code",
   "execution_count": 2262,
   "id": "5a3b9ef6-60b3-4369-89b9-cffe0967221f",
   "metadata": {},
   "outputs": [],
   "source": [
    "# # EMA関数\n",
    "# def EMA(df,span):\n",
    "#     df[\"EMA\"] = df[\"Close\"].ewm(span=span).mean()\n",
    "#     return df"
   ]
  },
  {
   "cell_type": "code",
   "execution_count": 2263,
   "id": "9d10678b-e4d6-4bc4-9680-1a1cf65725b3",
   "metadata": {},
   "outputs": [],
   "source": [
    "# EMAを計算する\n",
    "# df_train = EMA(df_train,span01)\n",
    "# df_test = EMA(df_test,span01)"
   ]
  },
  {
   "cell_type": "code",
   "execution_count": 2264,
   "id": "6700a257-fa97-4fba-b76d-1bd4cf8c9b84",
   "metadata": {},
   "outputs": [],
   "source": [
    "df_train['EMA01']=df_train['Close'].ewm(span=span01, adjust=False).mean()\n",
    "df_test['EMA01']=df_test['Close'].ewm(span=span01, adjust=False).mean()\n",
    "\n",
    "# df_train['EMA02']=df_train['Close'].ewm(span=span02, adjust=False).mean()\n",
    "# df_test['EMA02']=df_test['Close'].ewm(span=span02, adjust=False).mean()\n",
    "\n",
    "# df_train['EMA03']=df_train['Close'].ewm(span=span03, adjust=False).mean()\n",
    "# df_test['EMA03']=df_test['Close'].ewm(span=span03, adjust=False).mean()"
   ]
  },
  {
   "cell_type": "code",
   "execution_count": null,
   "id": "cc47b9cf-180c-4b9c-8261-d3cf2f9349b5",
   "metadata": {},
   "outputs": [],
   "source": []
  },
  {
   "cell_type": "code",
   "execution_count": 2265,
   "id": "6638bd50-61a9-4a31-aa5c-f6a897bb7ccd",
   "metadata": {},
   "outputs": [
    {
     "name": "stdout",
     "output_type": "stream",
     "text": [
      "train\n",
      "           Date        High         Low        Open       Close       SMA01  \\\n",
      "0    2003-12-01  111.370639  110.482062  111.314347  110.676377  110.676377   \n",
      "1    2003-12-02  112.008532  110.500532  110.639316  111.823016  110.946101   \n",
      "2    2003-12-03  112.202814  111.712284  111.832477  112.137524  111.215825   \n",
      "3    2003-12-04  112.332259  111.406851  112.110343  111.748717  111.485549   \n",
      "4    2003-12-05  112.766375  111.609834  111.721723  112.729259  111.755273   \n",
      "...         ...         ...         ...         ...         ...         ...   \n",
      "2069 2011-12-08  124.476855  123.126484  123.959751  123.984661  124.154053   \n",
      "2070 2011-12-09  124.227770  122.895824  123.445260  123.445260  124.002202   \n",
      "2071 2011-12-12  123.745819  122.202555  123.681290  123.687906  123.855345   \n",
      "2072 2011-12-13  122.393352  121.174807  121.782641  121.832361  123.473057   \n",
      "2073 2011-12-14  120.796608  119.824855  120.508620  120.427021  122.906395   \n",
      "\n",
      "           EMA01  \n",
      "0     110.676377  \n",
      "1     111.003988  \n",
      "2     111.327856  \n",
      "3     111.448102  \n",
      "4     111.814147  \n",
      "...          ...  \n",
      "2069  124.002936  \n",
      "2070  123.843600  \n",
      "2071  123.799116  \n",
      "2072  123.237186  \n",
      "2073  122.434282  \n",
      "\n",
      "[2074 rows x 7 columns]\n",
      "\n",
      "test\n",
      "           Date        High         Low        Open       Close       SMA01  \\\n",
      "0    2011-12-15  120.703596  119.907182  120.132990  120.139231  120.139231   \n",
      "1    2011-12-16  121.027367  120.314249  120.527453  120.524311  120.220100   \n",
      "2    2011-12-19  120.629617  120.111145  120.582444  120.591872  120.300969   \n",
      "3    2011-12-20  121.470779  120.221987  120.323633  120.322078  120.381838   \n",
      "4    2011-12-21  122.046150  120.513328  121.063789  121.063789  120.462707   \n",
      "...         ...         ...         ...         ...         ...         ...   \n",
      "1241 2019-12-19  103.067513  102.766359  102.822331  102.822331  103.061430   \n",
      "1242 2019-12-26  102.720708  102.515796  102.629538  102.632956  102.999143   \n",
      "1243 2019-12-27  103.421288  102.674990  102.686502  102.685356  102.868197   \n",
      "1244 2019-12-30  103.791471  103.429382  103.429382  103.436318  102.957373   \n",
      "1245 2019-12-31  103.979324  103.606639  103.641461  103.621249  103.058080   \n",
      "\n",
      "           EMA01  \n",
      "0     120.139231  \n",
      "1     120.249254  \n",
      "2     120.347145  \n",
      "3     120.339983  \n",
      "4     120.546785  \n",
      "...          ...  \n",
      "1241  102.921666  \n",
      "1242  102.839178  \n",
      "1243  102.795228  \n",
      "1244  102.978397  \n",
      "1245  103.162069  \n",
      "\n",
      "[1246 rows x 7 columns]\n",
      "\n"
     ]
    }
   ],
   "source": [
    "# 結果\n",
    "print(f'train\\n{df_train}\\n')\n",
    "print(f'test\\n{df_test}\\n')"
   ]
  },
  {
   "cell_type": "code",
   "execution_count": null,
   "id": "f558328f-7c56-4ca3-a6a2-30572ac31790",
   "metadata": {},
   "outputs": [],
   "source": []
  },
  {
   "cell_type": "markdown",
   "id": "3c1128de-a2e9-400b-a2c3-fb3335831407",
   "metadata": {},
   "source": [
    "## RSIの追加"
   ]
  },
  {
   "cell_type": "code",
   "execution_count": 2266,
   "id": "e433eab3-432b-46cf-b467-b17188ccbacb",
   "metadata": {},
   "outputs": [],
   "source": [
    "# RSI関数\n",
    "def RSI(df,span):\n",
    "    #　終値の差分\n",
    "    df_diff=df.diff()\n",
    "    \n",
    "    # 値上幅と値下幅\n",
    "    df_up, df_down = df_diff.copy(), df_diff.copy()\n",
    "    df_up[df_up < 0] = 0\n",
    "    df_down[df_down > 0] = 0\n",
    "    df_down = df_down * -1\n",
    "    \n",
    "    # 移動平均\n",
    "    up_sma_01 = df_up.rolling(window=span01, center=False).mean()\n",
    "    down_sma_01 = df_down.abs().rolling(window=span01, center=False).mean()\n",
    "\n",
    "    # RSI\n",
    "    df = up_sma_01 / (up_sma_01 + down_sma_01) * 100\n",
    "\n",
    "    return df"
   ]
  },
  {
   "cell_type": "code",
   "execution_count": 2267,
   "id": "6a7e14f7-ffde-4b59-adc8-cec09a7ea0bb",
   "metadata": {},
   "outputs": [],
   "source": [
    "df_train['RSI01']=RSI(df_train['Close'],span01)\n",
    "df_test['RSI01']=RSI(df_test['Close'],span01)"
   ]
  },
  {
   "cell_type": "code",
   "execution_count": null,
   "id": "745a6f04-d08b-4561-9824-74e7ae799d13",
   "metadata": {},
   "outputs": [],
   "source": []
  },
  {
   "cell_type": "code",
   "execution_count": 2268,
   "id": "7e8ef28a-a0a8-404e-9016-906fa3000f60",
   "metadata": {},
   "outputs": [],
   "source": [
    "# df_train.to_csv('IdoHeikin.csv')"
   ]
  },
  {
   "cell_type": "code",
   "execution_count": null,
   "id": "a36fc9a7-40c2-41a7-b8d4-72ed11e6fb50",
   "metadata": {},
   "outputs": [],
   "source": []
  },
  {
   "cell_type": "code",
   "execution_count": null,
   "id": "78f260d0-4cba-4cbc-8252-64faa7d0eb85",
   "metadata": {},
   "outputs": [],
   "source": []
  },
  {
   "cell_type": "code",
   "execution_count": 2269,
   "id": "e3dab164-6135-42d2-a68d-76a118a7c96b",
   "metadata": {},
   "outputs": [],
   "source": [
    "# # 結果\n",
    "# print(f'train\\n{df_train}\\n')\n",
    "# print(f'test\\n{df_test}\\n')"
   ]
  },
  {
   "cell_type": "code",
   "execution_count": 2270,
   "id": "9232e7a4-1381-4f5e-80b6-6cd44fb985e9",
   "metadata": {},
   "outputs": [],
   "source": [
    "#ブランクは取り敢えず50で埋める\n",
    "df_train['RSI01']=df_train['RSI01'].fillna(50)\n",
    "df_test['RSI01']=df_test['RSI01'].fillna(50)"
   ]
  },
  {
   "cell_type": "code",
   "execution_count": 2271,
   "id": "5e5c49cd-d90d-4b34-be94-0624eae9da42",
   "metadata": {},
   "outputs": [],
   "source": [
    "# # 最初の行除外\n",
    "# df_train=df_train[span01:]"
   ]
  },
  {
   "cell_type": "code",
   "execution_count": 2272,
   "id": "9723401c-eb7f-4287-ab91-961b5d4e872a",
   "metadata": {},
   "outputs": [
    {
     "name": "stdout",
     "output_type": "stream",
     "text": [
      "train\n",
      "           Date        High         Low        Open       Close       SMA01  \\\n",
      "0    2003-12-01  111.370639  110.482062  111.314347  110.676377  110.676377   \n",
      "1    2003-12-02  112.008532  110.500532  110.639316  111.823016  110.946101   \n",
      "2    2003-12-03  112.202814  111.712284  111.832477  112.137524  111.215825   \n",
      "3    2003-12-04  112.332259  111.406851  112.110343  111.748717  111.485549   \n",
      "4    2003-12-05  112.766375  111.609834  111.721723  112.729259  111.755273   \n",
      "...         ...         ...         ...         ...         ...         ...   \n",
      "2069 2011-12-08  124.476855  123.126484  123.959751  123.984661  124.154053   \n",
      "2070 2011-12-09  124.227770  122.895824  123.445260  123.445260  124.002202   \n",
      "2071 2011-12-12  123.745819  122.202555  123.681290  123.687906  123.855345   \n",
      "2072 2011-12-13  122.393352  121.174807  121.782641  121.832361  123.473057   \n",
      "2073 2011-12-14  120.796608  119.824855  120.508620  120.427021  122.906395   \n",
      "\n",
      "           EMA01      RSI01  \n",
      "0     110.676377  50.000000  \n",
      "1     111.003988  50.000000  \n",
      "2     111.327856  50.000000  \n",
      "3     111.448102  50.000000  \n",
      "4     111.814147  50.000000  \n",
      "...          ...        ...  \n",
      "2069  124.002936  65.518266  \n",
      "2070  123.843600  24.759281  \n",
      "2071  123.799116  25.987872  \n",
      "2072  123.237186  14.683341  \n",
      "2073  122.434282  10.952360  \n",
      "\n",
      "[2074 rows x 8 columns]\n",
      "\n",
      "test\n",
      "           Date        High         Low        Open       Close       SMA01  \\\n",
      "0    2011-12-15  120.703596  119.907182  120.132990  120.139231  120.139231   \n",
      "1    2011-12-16  121.027367  120.314249  120.527453  120.524311  120.220100   \n",
      "2    2011-12-19  120.629617  120.111145  120.582444  120.591872  120.300969   \n",
      "3    2011-12-20  121.470779  120.221987  120.323633  120.322078  120.381838   \n",
      "4    2011-12-21  122.046150  120.513328  121.063789  121.063789  120.462707   \n",
      "...         ...         ...         ...         ...         ...         ...   \n",
      "1241 2019-12-19  103.067513  102.766359  102.822331  102.822331  103.061430   \n",
      "1242 2019-12-26  102.720708  102.515796  102.629538  102.632956  102.999143   \n",
      "1243 2019-12-27  103.421288  102.674990  102.686502  102.685356  102.868197   \n",
      "1244 2019-12-30  103.791471  103.429382  103.429382  103.436318  102.957373   \n",
      "1245 2019-12-31  103.979324  103.606639  103.641461  103.621249  103.058080   \n",
      "\n",
      "           EMA01      RSI01  \n",
      "0     120.139231  50.000000  \n",
      "1     120.249254  50.000000  \n",
      "2     120.347145  50.000000  \n",
      "3     120.339983  50.000000  \n",
      "4     120.546785  50.000000  \n",
      "...          ...        ...  \n",
      "1241  102.921666  57.245490  \n",
      "1242  102.839178  39.621382  \n",
      "1243  102.795228  21.707606  \n",
      "1244  102.978397  67.043435  \n",
      "1245  103.162069  68.434651  \n",
      "\n",
      "[1246 rows x 8 columns]\n",
      "\n"
     ]
    }
   ],
   "source": [
    "# 結果\n",
    "print(f'train\\n{df_train}\\n')\n",
    "print(f'test\\n{df_test}\\n')"
   ]
  },
  {
   "cell_type": "code",
   "execution_count": 2273,
   "id": "c04dd78e-fa7b-454a-bdc9-f5cbe5a5acb4",
   "metadata": {},
   "outputs": [],
   "source": [
    " df_train.to_csv('IdoHeikin.csv')"
   ]
  },
  {
   "cell_type": "code",
   "execution_count": 2274,
   "id": "178a5a39-49cb-4a89-8f40-296f70cb05cc",
   "metadata": {},
   "outputs": [],
   "source": [
    "# del df_train['RSI01']\n",
    "# del df_test['RSI01']"
   ]
  },
  {
   "cell_type": "code",
   "execution_count": null,
   "id": "10fa73cf-f11a-4acb-9147-97e1e5d3ece7",
   "metadata": {},
   "outputs": [],
   "source": []
  },
  {
   "cell_type": "markdown",
   "id": "607678fa-c337-4bfb-8d54-1f747835c56b",
   "metadata": {},
   "source": [
    "## MACEの追加"
   ]
  },
  {
   "cell_type": "code",
   "execution_count": 2275,
   "id": "bd2eb2ae-b357-4e60-9a39-4683d8cbdb0a",
   "metadata": {},
   "outputs": [],
   "source": [
    "# # MACE関数\n",
    "# def macd(df):\n",
    "#     FastEMA_period = 12  # 短期EMAの期間\n",
    "#     SlowEMA_period = 26  # 長期EMAの期間\n",
    "# #     SignalSMA_period = 9  # SMAを取る期間\n",
    "#     SignalSMA_period = span01  # SMAを取る期間\n",
    "    \n",
    "#     df[\"MACD\"] = df[\"Close\"].ewm(span=FastEMA_period).mean() - df[\"Close\"].ewm(span=SlowEMA_period).mean()\n",
    "#     df[\"Signal\"] = df[\"MACD\"].rolling(SignalSMA_period).mean()\n",
    "#     return df"
   ]
  },
  {
   "cell_type": "code",
   "execution_count": 2276,
   "id": "184a7b0d-e2a5-4ac7-97b3-982ea0a39d0c",
   "metadata": {},
   "outputs": [],
   "source": [
    "# # MACDを計算する\n",
    "# df_train = macd(df_train)\n",
    "# df_test = macd(df_test)"
   ]
  },
  {
   "cell_type": "code",
   "execution_count": 2277,
   "id": "8213bf35-f90d-4985-bf2e-dd6f31d637eb",
   "metadata": {},
   "outputs": [],
   "source": [
    "# df_train.head(20)"
   ]
  },
  {
   "cell_type": "code",
   "execution_count": null,
   "id": "0c3d474b-d1c1-4c65-a0b7-2003d6f44aa7",
   "metadata": {},
   "outputs": [],
   "source": []
  },
  {
   "cell_type": "code",
   "execution_count": 2278,
   "id": "b7579017-8a74-44e6-85be-c0ddb36fb9aa",
   "metadata": {},
   "outputs": [],
   "source": [
    "# df_test"
   ]
  },
  {
   "cell_type": "code",
   "execution_count": 2279,
   "id": "ebd76287-e784-4aed-b17d-7aedadc857fc",
   "metadata": {},
   "outputs": [],
   "source": [
    "# import mpl_finance as mpf\n",
    "# # import mplfinance as mpf\n",
    "# # import matplotlib.finance\n",
    "# # from matplotlib.finance import candlestick_ohlc\n",
    " \n",
    "# # チャート定義\n",
    "# fig, ax = plt.subplots(2, figsize=(20, 10), sharex=True, gridspec_kw={'height_ratios': [3, 1]})\n",
    " \n",
    "# # ローソク足チャートをプロット\n",
    "# mpl_finance.candlestick_ohlc(ax[0], df.values, width=0.5, colorup='r', colordown='b')\n",
    " \n",
    "# # MACDをプロット\n",
    "# ax[1].plot(df_train[\"index\"], df_train[\"MACD\"], label=\"MACD\")\n",
    "# ax[1].plot(df_train[\"index\"], df_train[\"Signal\"], label=\"Signal\")\n",
    " \n",
    "# # X軸を調整\n",
    "# plt.xticks([x for x in range(len(df))], [x.strftime('%Y-%m-%d') for x in df.index])\n",
    "# fig.autofmt_xdate()\n",
    " \n",
    "# # 凡例表示, グリッド表示\n",
    "# for a in ax:\n",
    "#     a.legend()\n",
    "#     a.grid()\n",
    " \n",
    "# # グラフを表示\n",
    "# plt.show()"
   ]
  },
  {
   "cell_type": "code",
   "execution_count": null,
   "id": "e396b5ef-5ea3-46ea-8b4e-40ace98272c3",
   "metadata": {},
   "outputs": [],
   "source": []
  },
  {
   "cell_type": "markdown",
   "id": "14731667-b3ed-4ec0-8704-d056ffbfcba9",
   "metadata": {},
   "source": []
  },
  {
   "cell_type": "code",
   "execution_count": 2280,
   "id": "c210c666-4596-4414-baca-964da2549928",
   "metadata": {},
   "outputs": [],
   "source": [
    "# df_train=df_train[span01-1:]\n",
    "# df_train"
   ]
  },
  {
   "cell_type": "markdown",
   "id": "add20621-0022-4f3a-8e70-63e157bc847c",
   "metadata": {},
   "source": [
    "## 多項式特徴量/多項式回帰/交互作用特徴量"
   ]
  },
  {
   "cell_type": "code",
   "execution_count": 2281,
   "id": "795c7acc-a443-4867-9498-021b45c02c2b",
   "metadata": {},
   "outputs": [],
   "source": [
    "# EMAに多項式特徴量を適用してみる\n",
    "# df_train[\"EMA\"] = df_train[\"EMA\"] **2\n",
    "# df_test[\"EMA\"] = df_test[\"EMA\"] **2"
   ]
  },
  {
   "cell_type": "code",
   "execution_count": null,
   "id": "5523d98e-5226-41b5-a79c-454f14fc06c0",
   "metadata": {},
   "outputs": [],
   "source": []
  },
  {
   "cell_type": "code",
   "execution_count": 2282,
   "id": "5e5de7d4-09b4-4398-8212-8d830a377052",
   "metadata": {},
   "outputs": [
    {
     "name": "stdout",
     "output_type": "stream",
     "text": [
      "train\n",
      "           Date        High         Low        Open       Close       SMA01  \\\n",
      "0    2003-12-01  111.370639  110.482062  111.314347  110.676377  110.676377   \n",
      "1    2003-12-02  112.008532  110.500532  110.639316  111.823016  110.946101   \n",
      "2    2003-12-03  112.202814  111.712284  111.832477  112.137524  111.215825   \n",
      "3    2003-12-04  112.332259  111.406851  112.110343  111.748717  111.485549   \n",
      "4    2003-12-05  112.766375  111.609834  111.721723  112.729259  111.755273   \n",
      "...         ...         ...         ...         ...         ...         ...   \n",
      "2069 2011-12-08  124.476855  123.126484  123.959751  123.984661  124.154053   \n",
      "2070 2011-12-09  124.227770  122.895824  123.445260  123.445260  124.002202   \n",
      "2071 2011-12-12  123.745819  122.202555  123.681290  123.687906  123.855345   \n",
      "2072 2011-12-13  122.393352  121.174807  121.782641  121.832361  123.473057   \n",
      "2073 2011-12-14  120.796608  119.824855  120.508620  120.427021  122.906395   \n",
      "\n",
      "           EMA01      RSI01  \n",
      "0     110.676377  50.000000  \n",
      "1     111.003988  50.000000  \n",
      "2     111.327856  50.000000  \n",
      "3     111.448102  50.000000  \n",
      "4     111.814147  50.000000  \n",
      "...          ...        ...  \n",
      "2069  124.002936  65.518266  \n",
      "2070  123.843600  24.759281  \n",
      "2071  123.799116  25.987872  \n",
      "2072  123.237186  14.683341  \n",
      "2073  122.434282  10.952360  \n",
      "\n",
      "[2074 rows x 8 columns]\n",
      "\n",
      "test\n",
      "           Date        High         Low        Open       Close       SMA01  \\\n",
      "0    2011-12-15  120.703596  119.907182  120.132990  120.139231  120.139231   \n",
      "1    2011-12-16  121.027367  120.314249  120.527453  120.524311  120.220100   \n",
      "2    2011-12-19  120.629617  120.111145  120.582444  120.591872  120.300969   \n",
      "3    2011-12-20  121.470779  120.221987  120.323633  120.322078  120.381838   \n",
      "4    2011-12-21  122.046150  120.513328  121.063789  121.063789  120.462707   \n",
      "...         ...         ...         ...         ...         ...         ...   \n",
      "1241 2019-12-19  103.067513  102.766359  102.822331  102.822331  103.061430   \n",
      "1242 2019-12-26  102.720708  102.515796  102.629538  102.632956  102.999143   \n",
      "1243 2019-12-27  103.421288  102.674990  102.686502  102.685356  102.868197   \n",
      "1244 2019-12-30  103.791471  103.429382  103.429382  103.436318  102.957373   \n",
      "1245 2019-12-31  103.979324  103.606639  103.641461  103.621249  103.058080   \n",
      "\n",
      "           EMA01      RSI01  \n",
      "0     120.139231  50.000000  \n",
      "1     120.249254  50.000000  \n",
      "2     120.347145  50.000000  \n",
      "3     120.339983  50.000000  \n",
      "4     120.546785  50.000000  \n",
      "...          ...        ...  \n",
      "1241  102.921666  57.245490  \n",
      "1242  102.839178  39.621382  \n",
      "1243  102.795228  21.707606  \n",
      "1244  102.978397  67.043435  \n",
      "1245  103.162069  68.434651  \n",
      "\n",
      "[1246 rows x 8 columns]\n",
      "\n"
     ]
    }
   ],
   "source": [
    "# 結果\n",
    "print(f'train\\n{df_train}\\n')\n",
    "print(f'test\\n{df_test}\\n')"
   ]
  },
  {
   "cell_type": "code",
   "execution_count": null,
   "id": "430babb6-72fd-4379-8826-92f923040fa5",
   "metadata": {},
   "outputs": [],
   "source": []
  },
  {
   "cell_type": "code",
   "execution_count": 2283,
   "id": "79db908a-c56e-4c1c-905d-9a76a116602e",
   "metadata": {},
   "outputs": [
    {
     "name": "stdout",
     "output_type": "stream",
     "text": [
      "欠損データ確認(df_train)\n",
      "Date     0\n",
      "High     0\n",
      "Low      0\n",
      "Open     0\n",
      "Close    0\n",
      "SMA01    0\n",
      "EMA01    0\n",
      "RSI01    0\n",
      "dtype: int64\n",
      "\n",
      "欠損データを確認(df_test)\n",
      "Date     0\n",
      "High     0\n",
      "Low      0\n",
      "Open     0\n",
      "Close    0\n",
      "SMA01    0\n",
      "EMA01    0\n",
      "RSI01    0\n",
      "dtype: int64\n",
      "\n"
     ]
    }
   ],
   "source": [
    "#欠損値の確認\n",
    "print(f'欠損データ確認(df_train)\\n{df_train.isnull().sum()}\\n')\n",
    "print(f'欠損データを確認(df_test)\\n{df_test.isnull().sum()}\\n')"
   ]
  },
  {
   "cell_type": "code",
   "execution_count": null,
   "id": "b57a0eb0-073d-4293-bc9d-e378b28f250f",
   "metadata": {},
   "outputs": [],
   "source": []
  },
  {
   "cell_type": "markdown",
   "id": "bb1d6d20-44c1-4117-b827-daacdf15c766",
   "metadata": {},
   "source": [
    "##　配列の型などを調べるための関数"
   ]
  },
  {
   "cell_type": "code",
   "execution_count": 2284,
   "id": "d174b86d-c0f8-4ea9-9670-ab083c337a2a",
   "metadata": {},
   "outputs": [],
   "source": [
    "# 変数名をそのままprint関数内で表示させる関数\n",
    "def chkprint(*args):\n",
    "    for obj in args:\n",
    "        for k, v in globals().items():\n",
    "            if id(v) == id(obj):\n",
    "                target = k\n",
    "                break          \n",
    "    return target\n",
    "\n",
    "# データがどのデータ型か、列数、行数を表示する関数\n",
    "def typeInfo(targetData):\n",
    "    if (type(targetData) is pd.core.frame.DataFrame):\n",
    "        print(\"{} は DataFrame型\".format(chkprint(targetData)))\n",
    "        print(\"{} の行数, 列数・・・{}\\n\".format(chkprint(targetData), targetData.shape))     # shapeの表示内容は、(行数, 列数)となる\n",
    "    if (type(targetData) is list):\n",
    "        print(\"{} は list型\".format(chkprint(targetData)))\n",
    "        print(\"{} の行数, 列数・・・{}\\n\".format(chkprint(targetData), pd.DataFrame(targetData).shape))    # shapeの表示内容は、(行数, 列数)となる\n",
    "    if (type(targetData) is np.ndarray):\n",
    "        print(\"{} は ndarray型\".format(chkprint(targetData)))\n",
    "        print(\"{} の行数, 列数・・・{}\\n\".format(chkprint(targetData), targetData.shape))     # shapeの表示内容は、(行数, 列数)となる\n",
    "    if (type(targetData) is pd.core.series.Series):\n",
    "        print(\"{} は Series型\".format(chkprint(targetData)))\n",
    "        print(\"{} の行数, 列数・・・{}\\n\".format(chkprint(targetData), targetData.shape))     # shapeの表示内容は、(行数, 列数)となる"
   ]
  },
  {
   "cell_type": "markdown",
   "id": "b8daff79-41e9-4b9e-9c3b-cb6856a3d546",
   "metadata": {},
   "source": [
    "## Trainデータを学習用と検証用に分割\n",
    "#### (train:2003/12/1-2011/12/14 →これを8:2に分割する| test:2011/12/15-2019/12/31)"
   ]
  },
  {
   "cell_type": "code",
   "execution_count": 2285,
   "id": "3d7b24b3-74fa-45be-a4a9-6e746c33313d",
   "metadata": {},
   "outputs": [],
   "source": [
    "# 不要\n",
    "# Trainデータを学習用と検証用に分割\n",
    "# 今回は①学習用：8割、②検証用：2割にTrainデータを分割して、①の予測モデルで\n",
    "# ②が正しく評価できるのかを確認した上で、testデータへの予測モデルの適用を行う"
   ]
  },
  {
   "cell_type": "code",
   "execution_count": 2286,
   "id": "bc0c2e46-645b-4ae4-bb7e-56594743302d",
   "metadata": {},
   "outputs": [],
   "source": [
    "# 不要\n",
    "# train_test_splitというDataFrameを分けてくれる関数がsklearnにあるのでそれを使う\n",
    "# from sklearn.model_selection import train_test_split\n",
    "\n",
    "# df_train, df_validation = train_test_split(df_train, train_size=0.8, test_size=0.2, shuffle=False)"
   ]
  },
  {
   "cell_type": "code",
   "execution_count": 2287,
   "id": "4369f120-d765-4eda-b9a0-c05d5e42ba7d",
   "metadata": {},
   "outputs": [],
   "source": [
    "# 不要\n",
    "# # 分割後のサイズ\n",
    "# print(f'①学習用データのサイズ(df_train)：{len(df_train)}')\n",
    "# print(f'②検証用データのサイズ(df_validation)：{len(df_validation)}')\n",
    "# print(f'元々のdf_trainのサイズが8:2に分割された\\n')\n",
    "\n",
    "# # 分割後の詳細\n",
    "# print(f'分割後のサマリ(df_train)\\n{df_train.describe()}\\n')\n",
    "# print(f'分割後のサマリ(df_validation)\\n{df_validation.describe()}\\n')"
   ]
  },
  {
   "cell_type": "markdown",
   "id": "d7dfd235-6e7e-4edf-9c77-57c361aaa484",
   "metadata": {},
   "source": [
    "## *Train/test/latestデータの縦結合(直接今回の課題とは関係なし)"
   ]
  },
  {
   "cell_type": "code",
   "execution_count": 2288,
   "id": "c795d972-8f7f-42bc-80cd-8e20d17ff5cf",
   "metadata": {},
   "outputs": [
    {
     "ename": "ValueError",
     "evalue": "all the input array dimensions for the concatenation axis must match exactly, but along dimension 1, the array at index 0 has size 8 and the array at index 2 has size 5",
     "output_type": "error",
     "traceback": [
      "\u001b[0;31m---------------------------------------------------------------------------\u001b[0m",
      "\u001b[0;31mValueError\u001b[0m                                Traceback (most recent call last)",
      "\u001b[0;32m<ipython-input-2288-41fd1efab22c>\u001b[0m in \u001b[0;36m<module>\u001b[0;34m\u001b[0m\n\u001b[1;32m      1\u001b[0m \u001b[0;31m# df_Merged=pd.concat([df_train,df_test,df_latest])\u001b[0m\u001b[0;34m\u001b[0m\u001b[0;34m\u001b[0m\u001b[0;34m\u001b[0m\u001b[0m\n\u001b[0;32m----> 2\u001b[0;31m \u001b[0mdf_Merged\u001b[0m \u001b[0;34m=\u001b[0m \u001b[0mpd\u001b[0m\u001b[0;34m.\u001b[0m\u001b[0mDataFrame\u001b[0m\u001b[0;34m(\u001b[0m\u001b[0mnp\u001b[0m\u001b[0;34m.\u001b[0m\u001b[0mconcatenate\u001b[0m\u001b[0;34m(\u001b[0m\u001b[0;34m[\u001b[0m\u001b[0mdf_train\u001b[0m\u001b[0;34m.\u001b[0m\u001b[0mvalues\u001b[0m\u001b[0;34m,\u001b[0m \u001b[0mdf_test\u001b[0m\u001b[0;34m.\u001b[0m\u001b[0mvalues\u001b[0m\u001b[0;34m,\u001b[0m \u001b[0mdf_latest\u001b[0m\u001b[0;34m.\u001b[0m\u001b[0mvalues\u001b[0m\u001b[0;34m]\u001b[0m\u001b[0;34m)\u001b[0m\u001b[0;34m,\u001b[0m \u001b[0mcolumns\u001b[0m\u001b[0;34m=\u001b[0m\u001b[0mdf_train\u001b[0m\u001b[0;34m.\u001b[0m\u001b[0mcolumns\u001b[0m\u001b[0;34m)\u001b[0m\u001b[0;34m\u001b[0m\u001b[0;34m\u001b[0m\u001b[0m\n\u001b[0m",
      "\u001b[0;32m<__array_function__ internals>\u001b[0m in \u001b[0;36mconcatenate\u001b[0;34m(*args, **kwargs)\u001b[0m\n",
      "\u001b[0;31mValueError\u001b[0m: all the input array dimensions for the concatenation axis must match exactly, but along dimension 1, the array at index 0 has size 8 and the array at index 2 has size 5"
     ]
    }
   ],
   "source": [
    "# df_Merged=pd.concat([df_train,df_test,df_latest])\n",
    "df_Merged = pd.DataFrame(np.concatenate([df_train.values, df_test.values, df_latest.values]), columns=df_train.columns)"
   ]
  },
  {
   "cell_type": "code",
   "execution_count": 2289,
   "id": "4149f652-b151-4388-86ac-d2f5f136d350",
   "metadata": {},
   "outputs": [
    {
     "ename": "NameError",
     "evalue": "name 'df_Merged' is not defined",
     "output_type": "error",
     "traceback": [
      "\u001b[0;31m---------------------------------------------------------------------------\u001b[0m",
      "\u001b[0;31mNameError\u001b[0m                                 Traceback (most recent call last)",
      "\u001b[0;32m<ipython-input-2289-27301ad58e22>\u001b[0m in \u001b[0;36m<module>\u001b[0;34m\u001b[0m\n\u001b[0;32m----> 1\u001b[0;31m \u001b[0mdf_Merged\u001b[0m\u001b[0;34m\u001b[0m\u001b[0;34m\u001b[0m\u001b[0m\n\u001b[0m",
      "\u001b[0;31mNameError\u001b[0m: name 'df_Merged' is not defined"
     ]
    }
   ],
   "source": [
    "df_Merged"
   ]
  },
  {
   "cell_type": "code",
   "execution_count": 2290,
   "id": "6a29bd61-a43a-45fd-a1db-1e76783b8215",
   "metadata": {},
   "outputs": [
    {
     "ename": "NameError",
     "evalue": "name 'df_Merged' is not defined",
     "output_type": "error",
     "traceback": [
      "\u001b[0;31m---------------------------------------------------------------------------\u001b[0m",
      "\u001b[0;31mNameError\u001b[0m                                 Traceback (most recent call last)",
      "\u001b[0;32m<ipython-input-2290-8cae20ace4c8>\u001b[0m in \u001b[0;36m<module>\u001b[0;34m\u001b[0m\n\u001b[0;32m----> 1\u001b[0;31m \u001b[0mdf_Merged\u001b[0m\u001b[0;34m.\u001b[0m\u001b[0minfo\u001b[0m\u001b[0;34m(\u001b[0m\u001b[0;34m)\u001b[0m\u001b[0;34m\u001b[0m\u001b[0;34m\u001b[0m\u001b[0m\n\u001b[0m",
      "\u001b[0;31mNameError\u001b[0m: name 'df_Merged' is not defined"
     ]
    }
   ],
   "source": [
    "df_Merged.info()"
   ]
  },
  {
   "cell_type": "markdown",
   "id": "98046edc-d7e6-4ebe-99b5-aba997bf9928",
   "metadata": {},
   "source": [
    "##　LSTMモデルへ訓練させるための前処理"
   ]
  },
  {
   "cell_type": "code",
   "execution_count": 2291,
   "id": "6ab9e7c4-fadc-4428-b3d8-73d1f845386d",
   "metadata": {},
   "outputs": [],
   "source": [
    "##　LSTMモデルへ訓練させるための前処理"
   ]
  },
  {
   "cell_type": "code",
   "execution_count": 2292,
   "id": "490de5d6-ec84-4808-ba49-a198c1d9523e",
   "metadata": {},
   "outputs": [],
   "source": [
    "# windowを設定\n",
    "window_len=6\n",
    "# window_len=6 #11/6の中間報告でのアドバイスを受け修正しようとしたが、後に出てくる未来予測のところでエラーが出るため一旦保留"
   ]
  },
  {
   "cell_type": "code",
   "execution_count": null,
   "id": "231909a5-3252-43c5-b43c-9efadcb299ee",
   "metadata": {},
   "outputs": [],
   "source": []
  },
  {
   "cell_type": "code",
   "execution_count": 2293,
   "id": "d9b2e854-58f3-4c35-bf80-f955ec00f65c",
   "metadata": {},
   "outputs": [],
   "source": [
    "# # Closeの単価だけ抽出\n",
    "# df_train=df_train['Close']\n",
    "# df_test=df_test['Close']\n",
    "# df_latest=df_latest['Close']"
   ]
  },
  {
   "cell_type": "code",
   "execution_count": 2294,
   "id": "c0a418ea-b9b7-42e0-a559-6e30a000acd9",
   "metadata": {},
   "outputs": [],
   "source": [
    "# Dateそぎ落とし\n",
    "# del df_train['High','Low','Open','Close']\n",
    "# del df_test['High','Low','Open','Close']\n",
    "# del df_latest['Date']"
   ]
  },
  {
   "cell_type": "code",
   "execution_count": 2295,
   "id": "a85e43d5-3358-4cc6-96c5-3b6f0c93a5ba",
   "metadata": {},
   "outputs": [],
   "source": [
    "# Dateをインデックスに指定\n",
    "df_train.set_index('Date',inplace=True)\n",
    "df_test.set_index('Date',inplace=True)\n",
    "df_latest.set_index('Date',inplace=True)"
   ]
  },
  {
   "cell_type": "code",
   "execution_count": 2296,
   "id": "4ff1869f-149e-4bc3-b6e7-e80e712c7507",
   "metadata": {},
   "outputs": [
    {
     "data": {
      "text/plain": [
       "[<matplotlib.lines.Line2D at 0x7fb0912dad60>,\n",
       " <matplotlib.lines.Line2D at 0x7fb079c7b2e0>,\n",
       " <matplotlib.lines.Line2D at 0x7fb07c9b3820>,\n",
       " <matplotlib.lines.Line2D at 0x7fb07be5f730>,\n",
       " <matplotlib.lines.Line2D at 0x7fb07be5f2e0>,\n",
       " <matplotlib.lines.Line2D at 0x7fb07c0e2ca0>,\n",
       " <matplotlib.lines.Line2D at 0x7fb07c0e2c70>]"
      ]
     },
     "execution_count": 2296,
     "metadata": {},
     "output_type": "execute_result"
    },
    {
     "data": {
      "image/png": "[encoded data removed]",
      "text/plain": [
       "<Figure size 2160x720 with 1 Axes>"
      ]
     },
     "metadata": {
      "needs_background": "light"
     },
     "output_type": "display_data"
    }
   ],
   "source": [
    "fig = plt.subplots(figsize=(30,10))\n",
    "plt.plot(df_train)"
   ]
  },
  {
   "cell_type": "code",
   "execution_count": 2297,
   "id": "0695a4ff-f7a4-410d-a11d-17dfe011099a",
   "metadata": {},
   "outputs": [
    {
     "name": "stdout",
     "output_type": "stream",
     "text": [
      "単価抽出後のサマリ(df_train)\n",
      "              High          Low         Open        Close        SMA01  \\\n",
      "count  2074.000000  2074.000000  2074.000000  2074.000000  2074.000000   \n",
      "mean    124.078238   122.976785   123.526205   123.529490   123.515970   \n",
      "std       9.210193     9.155624     9.188003     9.184970     9.141672   \n",
      "min     108.520946   107.748581   107.993884   107.998923   108.316820   \n",
      "25%     117.002707   115.876669   116.408944   116.427990   116.564712   \n",
      "50%     123.242134   121.954434   122.590435   122.573382   122.595971   \n",
      "75%     130.814157   129.426294   130.201913   130.179930   130.032894   \n",
      "max     148.260942   146.834717   147.832063   147.888796   147.025652   \n",
      "\n",
      "             EMA01        RSI01  \n",
      "count  2074.000000  2074.000000  \n",
      "mean    123.515317    52.328602  \n",
      "std       9.124043    24.353755  \n",
      "min     108.479788     0.000000  \n",
      "25%     116.597826    35.047650  \n",
      "50%     122.608192    52.130723  \n",
      "75%     129.999944    71.108546  \n",
      "max     146.934929   100.000000  \n",
      "\n",
      "単価抽出後のサマリ(df_test)\n",
      "              High          Low         Open        Close        SMA01  \\\n",
      "count  1246.000000  1246.000000  1246.000000  1246.000000  1246.000000   \n",
      "mean    111.424603   110.675657   111.069958   111.070373   111.104449   \n",
      "std       9.206534     9.270658     9.215541     9.214999     9.191832   \n",
      "min      96.767439    70.352906    96.364197    96.357173    96.600661   \n",
      "25%     103.722807   103.064503   103.422443   103.422154   103.506378   \n",
      "50%     108.456692   107.796669   108.091687   108.082215   108.085734   \n",
      "75%     120.690221   119.751722   120.218867   120.219641   120.219547   \n",
      "max     129.417693   128.691531   128.851618   128.858797   128.418676   \n",
      "\n",
      "             EMA01        RSI01  \n",
      "count  1246.000000  1246.000000  \n",
      "mean    111.104436    48.849742  \n",
      "std       9.180600    24.675768  \n",
      "min      96.768696     0.000000  \n",
      "25%     103.455898    30.234499  \n",
      "50%     108.081378    48.878264  \n",
      "75%     120.243367    67.948158  \n",
      "max     128.426946   100.000000  \n",
      "\n"
     ]
    }
   ],
   "source": [
    "# 分割後の詳細\n",
    "print(f'単価抽出後のサマリ(df_train)\\n{df_train.describe()}\\n')\n",
    "print(f'単価抽出後のサマリ(df_test)\\n{df_test.describe()}\\n')\n",
    "# print(f'単価抽出後のサマリ(df_latest)\\n{df_latest.describe()}\\n')"
   ]
  },
  {
   "cell_type": "code",
   "execution_count": 2298,
   "id": "20fc0bc9-af10-42be-907d-5a109e96fbe7",
   "metadata": {},
   "outputs": [
    {
     "data": {
      "text/html": [
       "<div>\n",
       "<style scoped>\n",
       "    .dataframe tbody tr th:only-of-type {\n",
       "        vertical-align: middle;\n",
       "    }\n",
       "\n",
       "    .dataframe tbody tr th {\n",
       "        vertical-align: top;\n",
       "    }\n",
       "\n",
       "    .dataframe thead th {\n",
       "        text-align: right;\n",
       "    }\n",
       "</style>\n",
       "<table border=\"1\" class=\"dataframe\">\n",
       "  <thead>\n",
       "    <tr style=\"text-align: right;\">\n",
       "      <th></th>\n",
       "      <th>High</th>\n",
       "      <th>Low</th>\n",
       "      <th>Open</th>\n",
       "      <th>Close</th>\n",
       "      <th>SMA01</th>\n",
       "      <th>EMA01</th>\n",
       "      <th>RSI01</th>\n",
       "    </tr>\n",
       "    <tr>\n",
       "      <th>Date</th>\n",
       "      <th></th>\n",
       "      <th></th>\n",
       "      <th></th>\n",
       "      <th></th>\n",
       "      <th></th>\n",
       "      <th></th>\n",
       "      <th></th>\n",
       "    </tr>\n",
       "  </thead>\n",
       "  <tbody>\n",
       "    <tr>\n",
       "      <th>2003-12-01</th>\n",
       "      <td>111.370639</td>\n",
       "      <td>110.482062</td>\n",
       "      <td>111.314347</td>\n",
       "      <td>110.676377</td>\n",
       "      <td>110.676377</td>\n",
       "      <td>110.676377</td>\n",
       "      <td>50.0</td>\n",
       "    </tr>\n",
       "    <tr>\n",
       "      <th>2003-12-02</th>\n",
       "      <td>112.008532</td>\n",
       "      <td>110.500532</td>\n",
       "      <td>110.639316</td>\n",
       "      <td>111.823016</td>\n",
       "      <td>110.946101</td>\n",
       "      <td>111.003988</td>\n",
       "      <td>50.0</td>\n",
       "    </tr>\n",
       "    <tr>\n",
       "      <th>2003-12-03</th>\n",
       "      <td>112.202814</td>\n",
       "      <td>111.712284</td>\n",
       "      <td>111.832477</td>\n",
       "      <td>112.137524</td>\n",
       "      <td>111.215825</td>\n",
       "      <td>111.327856</td>\n",
       "      <td>50.0</td>\n",
       "    </tr>\n",
       "    <tr>\n",
       "      <th>2003-12-04</th>\n",
       "      <td>112.332259</td>\n",
       "      <td>111.406851</td>\n",
       "      <td>112.110343</td>\n",
       "      <td>111.748717</td>\n",
       "      <td>111.485549</td>\n",
       "      <td>111.448102</td>\n",
       "      <td>50.0</td>\n",
       "    </tr>\n",
       "    <tr>\n",
       "      <th>2003-12-05</th>\n",
       "      <td>112.766375</td>\n",
       "      <td>111.609834</td>\n",
       "      <td>111.721723</td>\n",
       "      <td>112.729259</td>\n",
       "      <td>111.755273</td>\n",
       "      <td>111.814147</td>\n",
       "      <td>50.0</td>\n",
       "    </tr>\n",
       "  </tbody>\n",
       "</table>\n",
       "</div>"
      ],
      "text/plain": [
       "                  High         Low        Open       Close       SMA01  \\\n",
       "Date                                                                     \n",
       "2003-12-01  111.370639  110.482062  111.314347  110.676377  110.676377   \n",
       "2003-12-02  112.008532  110.500532  110.639316  111.823016  110.946101   \n",
       "2003-12-03  112.202814  111.712284  111.832477  112.137524  111.215825   \n",
       "2003-12-04  112.332259  111.406851  112.110343  111.748717  111.485549   \n",
       "2003-12-05  112.766375  111.609834  111.721723  112.729259  111.755273   \n",
       "\n",
       "                 EMA01  RSI01  \n",
       "Date                           \n",
       "2003-12-01  110.676377   50.0  \n",
       "2003-12-02  111.003988   50.0  \n",
       "2003-12-03  111.327856   50.0  \n",
       "2003-12-04  111.448102   50.0  \n",
       "2003-12-05  111.814147   50.0  "
      ]
     },
     "execution_count": 2298,
     "metadata": {},
     "output_type": "execute_result"
    }
   ],
   "source": [
    "df_train.head()"
   ]
  },
  {
   "cell_type": "code",
   "execution_count": 2299,
   "id": "ff4ffc71-da95-4b5b-ae19-5d6d12e20204",
   "metadata": {},
   "outputs": [],
   "source": [
    "# LSTMへの入力用に処理の関数\n",
    "\n",
    "def data_maker(data):\n",
    "  data_lstm_in=[]\n",
    "  if len(data)==window_len:\n",
    "    temp = data[:window_len].copy()\n",
    "    temp = temp / temp.iloc[0] - 1\n",
    "    data_lstm_in.append(temp)\n",
    "  for i in range(len(data) - window_len): #今回のLSTMで生成する時系列データ数(train総数-10個のモデル)\n",
    "      temp = data[i:(i + window_len)].copy() #windowの単位で行を取得。参照渡しでなく値渡し。\n",
    "      temp = temp / temp.iloc[0] - 1\n",
    "      data_lstm_in.append(temp)\n",
    "  return data_lstm_in"
   ]
  },
  {
   "cell_type": "code",
   "execution_count": 2300,
   "id": "51d3588b-01c5-447c-96bb-1e54ca4cbe64",
   "metadata": {},
   "outputs": [],
   "source": [
    "#関数の実行(Trainデータ)\n",
    "train_lstm_in = data_maker(df_train)"
   ]
  },
  {
   "cell_type": "code",
   "execution_count": 2301,
   "id": "ba2c6512-656c-4c30-a186-40f7d4cb2806",
   "metadata": {},
   "outputs": [
    {
     "name": "stdout",
     "output_type": "stream",
     "text": [
      "train_lstm_in_配列数 : 2068\n",
      "\n",
      "train_lstm_in[0]\n",
      "                High       Low      Open     Close     SMA01     EMA01  RSI01\n",
      "Date                                                                         \n",
      "2003-12-01  0.000000  0.000000  0.000000  0.000000  0.000000  0.000000    0.0\n",
      "2003-12-02  0.005728  0.000167 -0.006064  0.010360  0.002437  0.002960    0.0\n",
      "2003-12-03  0.007472  0.011135  0.004655  0.013202  0.004874  0.005886    0.0\n",
      "2003-12-04  0.008634  0.008370  0.007151  0.009689  0.007311  0.006973    0.0\n",
      "2003-12-05  0.012532  0.010208  0.003660  0.018549  0.009748  0.010280    0.0\n",
      "2003-12-08  0.016610  0.017587  0.011134  0.021312  0.012185  0.013432    0.0\n",
      "\n",
      "train_lstm_in[1]\n",
      "                High       Low      Open     Close     SMA01     EMA01  \\\n",
      "Date                                                                     \n",
      "2003-12-02  0.000000  0.000000  0.000000  0.000000  0.000000  0.000000   \n",
      "2003-12-03  0.001735  0.010966  0.010784  0.002813  0.002431  0.002918   \n",
      "2003-12-04  0.002890  0.008202  0.013296 -0.000664  0.004862  0.004001   \n",
      "2003-12-05  0.006766  0.010039  0.009783  0.008104  0.007293  0.007298   \n",
      "2003-12-08  0.010820  0.017417  0.017303  0.010839  0.009725  0.010441   \n",
      "2003-12-09  0.013873  0.021090  0.021741  0.013316  0.013684  0.013399   \n",
      "\n",
      "               RSI01  \n",
      "Date                  \n",
      "2003-12-02  0.000000  \n",
      "2003-12-03  0.000000  \n",
      "2003-12-04  0.000000  \n",
      "2003-12-05  0.000000  \n",
      "2003-12-08  0.000000  \n",
      "2003-12-09  0.772178  \n",
      "\n",
      "train_lstm_in[-1]\n",
      "                High       Low      Open     Close     SMA01     EMA01  \\\n",
      "Date                                                                     \n",
      "2011-12-06  0.000000  0.000000  0.000000  0.000000  0.000000  0.000000   \n",
      "2011-12-07  0.002058  0.001001  0.002039  0.001891  0.001182  0.000164   \n",
      "2011-12-08  0.002382 -0.002196  0.001220  0.001273  0.002174  0.000105   \n",
      "2011-12-09  0.000376 -0.004066 -0.002936 -0.003083  0.000948 -0.001180   \n",
      "2011-12-12 -0.003505 -0.009684 -0.001030 -0.001123 -0.000237 -0.001539   \n",
      "2011-12-13 -0.014396 -0.018012 -0.016365 -0.016108 -0.003323 -0.006071   \n",
      "\n",
      "               RSI01  \n",
      "Date                  \n",
      "2011-12-06  0.000000  \n",
      "2011-12-07  0.044547  \n",
      "2011-12-08 -0.002340  \n",
      "2011-12-09 -0.622986  \n",
      "2011-12-12 -0.604278  \n",
      "2011-12-13 -0.776414  \n",
      "\n"
     ]
    }
   ],
   "source": [
    "# 配列抜粋\n",
    "print(f'train_lstm_in_配列数 : {len(train_lstm_in)}\\n')\n",
    "print(f'train_lstm_in[0]\\n{train_lstm_in[0]}\\n')\n",
    "print(f'train_lstm_in[1]\\n{train_lstm_in[1]}\\n')\n",
    "print(f'train_lstm_in[-1]\\n{train_lstm_in[-1]}\\n')"
   ]
  },
  {
   "cell_type": "code",
   "execution_count": 2302,
   "id": "7170b76f-5829-4554-9535-62d5b5b16c45",
   "metadata": {},
   "outputs": [],
   "source": [
    "lstm_train_out = (df_train['Open'][window_len:].values / df_train['Open'][:-window_len].values)-1"
   ]
  },
  {
   "cell_type": "code",
   "execution_count": 2303,
   "id": "95e40aa7-684b-426b-9961-0117f9b03970",
   "metadata": {},
   "outputs": [
    {
     "data": {
      "text/plain": [
       "array([ 0.01554517,  0.02408164,  0.00835086, ..., -0.00716682,\n",
       "       -0.01876104, -0.02665515])"
      ]
     },
     "execution_count": 2303,
     "metadata": {},
     "output_type": "execute_result"
    }
   ],
   "source": [
    "lstm_train_out"
   ]
  },
  {
   "cell_type": "code",
   "execution_count": 2304,
   "id": "d2e58329-224a-4784-b46d-fe1cac235725",
   "metadata": {},
   "outputs": [],
   "source": [
    "#関数の実行(Testデータ)\n",
    "test_lstm_in = data_maker(df_test)"
   ]
  },
  {
   "cell_type": "code",
   "execution_count": 2305,
   "id": "b76e3681-6591-44c0-82ff-fdcc8107c1a3",
   "metadata": {},
   "outputs": [
    {
     "name": "stdout",
     "output_type": "stream",
     "text": [
      "test_lstm_in_配列数 : 1240\n",
      "\n",
      "test_lstm_in[0]\n",
      "                High       Low      Open     Close     SMA01     EMA01  RSI01\n",
      "Date                                                                         \n",
      "2011-12-15  0.000000  0.000000  0.000000  0.000000  0.000000  0.000000    0.0\n",
      "2011-12-16  0.002682  0.003395  0.003284  0.003205  0.000673  0.000916    0.0\n",
      "2011-12-19 -0.000613  0.001701  0.003741  0.003768  0.001346  0.001731    0.0\n",
      "2011-12-20  0.006356  0.002625  0.001587  0.001522  0.002019  0.001671    0.0\n",
      "2011-12-21  0.011123  0.005055  0.007748  0.007696  0.002693  0.003392    0.0\n",
      "2011-12-22  0.005366  0.004675  0.003898  0.004003  0.003366  0.003567    0.0\n",
      "\n",
      "test_lstm_in[1]\n",
      "                High       Low      Open     Close     SMA01     EMA01  \\\n",
      "Date                                                                     \n",
      "2011-12-16  0.000000  0.000000  0.000000  0.000000  0.000000  0.000000   \n",
      "2011-12-19 -0.003286 -0.001688  0.000456  0.000561  0.000673  0.000814   \n",
      "2011-12-20  0.003664 -0.000767 -0.001691 -0.001678  0.001345  0.000755   \n",
      "2011-12-21  0.008418  0.001655  0.004450  0.004476  0.002018  0.002474   \n",
      "2011-12-22  0.002676  0.001276  0.000613  0.000795  0.002691  0.002649   \n",
      "2011-12-29 -0.010705 -0.011202 -0.008001 -0.007860  0.001911  0.000295   \n",
      "\n",
      "               RSI01  \n",
      "Date                  \n",
      "2011-12-16  0.000000  \n",
      "2011-12-19  0.000000  \n",
      "2011-12-20  0.000000  \n",
      "2011-12-21  0.000000  \n",
      "2011-12-22  0.000000  \n",
      "2011-12-29 -0.190519  \n",
      "\n",
      "test_lstm_in[-1]\n",
      "                High       Low      Open     Close     SMA01     EMA01  \\\n",
      "Date                                                                     \n",
      "2019-12-17  0.000000  0.000000  0.000000  0.000000  0.000000  0.000000   \n",
      "2019-12-18 -0.001940 -0.001756  0.001294  0.001294  0.000991  0.000734   \n",
      "2019-12-19 -0.002752 -0.001889 -0.001901 -0.001890  0.001484  0.000348   \n",
      "2019-12-26 -0.006108 -0.004322 -0.003772 -0.003728  0.000878 -0.000454   \n",
      "2019-12-27  0.000671 -0.002776 -0.003219 -0.003219 -0.000394 -0.000881   \n",
      "2019-12-30  0.004253  0.004551  0.003992  0.004070  0.000472  0.000899   \n",
      "\n",
      "               RSI01  \n",
      "Date                  \n",
      "2019-12-17  0.000000  \n",
      "2019-12-18  0.022373  \n",
      "2019-12-19 -0.127347  \n",
      "2019-12-26 -0.396010  \n",
      "2019-12-27 -0.669088  \n",
      "2019-12-30  0.022013  \n",
      "\n"
     ]
    }
   ],
   "source": [
    "# 配列抜粋(Testデータ)\n",
    "print(f'test_lstm_in_配列数 : {len(test_lstm_in)}\\n')\n",
    "print(f'test_lstm_in[0]\\n{test_lstm_in[0]}\\n')\n",
    "print(f'test_lstm_in[1]\\n{test_lstm_in[1]}\\n')\n",
    "print(f'test_lstm_in[-1]\\n{test_lstm_in[-1]}\\n')"
   ]
  },
  {
   "cell_type": "code",
   "execution_count": 2306,
   "id": "e4fe251e-edaa-4fb7-a3a4-cec17f355c3f",
   "metadata": {},
   "outputs": [],
   "source": [
    "lstm_test_out = (df_test['Open'][window_len:].values / df_test['Open'][:-window_len].values)-1"
   ]
  },
  {
   "cell_type": "code",
   "execution_count": 2307,
   "id": "8c545549-2377-4fe9-a15b-f8a56958c30a",
   "metadata": {},
   "outputs": [
    {
     "data": {
      "text/plain": [
       "array([-0.00474374, -0.00597099, -0.00581912, ..., -0.00734906,\n",
       "        0.0050652 ,  0.00605043])"
      ]
     },
     "execution_count": 2307,
     "metadata": {},
     "output_type": "execute_result"
    }
   ],
   "source": [
    "lstm_test_out"
   ]
  },
  {
   "cell_type": "code",
   "execution_count": null,
   "id": "2d1a9d83-322b-4050-a0bf-c474bc6bc89f",
   "metadata": {},
   "outputs": [],
   "source": []
  },
  {
   "cell_type": "code",
   "execution_count": 2308,
   "id": "9086466a-a5b8-407f-aa11-8f8f4ab3933f",
   "metadata": {},
   "outputs": [],
   "source": [
    "# #関数の実行(Latestデータ)\n",
    "# latest_lstm_in = data_maker(df_latest)"
   ]
  },
  {
   "cell_type": "code",
   "execution_count": 2309,
   "id": "278b4092-6140-40f6-b923-00acad181de3",
   "metadata": {},
   "outputs": [],
   "source": [
    "# # 配列抜粋\n",
    "# print(f'latest_lstm_in_配列数 : {len(latest_lstm_in)}\\n')\n",
    "# print(f'latest_lstm_in\\n{latest_lstm_in[0]}\\n')\n",
    "# #print(f'latest_lstm_in\\n{latest_lstm_in[1]}\\n')\n",
    "# # print(f'latest_lstm_in\\n{latest_lstm_in[-1]}\\n')"
   ]
  },
  {
   "cell_type": "markdown",
   "id": "0e5cb290-36cb-43f4-8516-b931e725a7b0",
   "metadata": {},
   "source": [
    "## Numpy配列への変換"
   ]
  },
  {
   "cell_type": "code",
   "execution_count": 2310,
   "id": "b61cbcb6-4597-49ac-9c01-38ba5056fe68",
   "metadata": {},
   "outputs": [],
   "source": [
    "# PandasのデータフレームからNumpy配列へ変換。リスト内包表記という記法がここでは使われている。\n",
    "train_lstm_in = [np.array(train_lstm_input) for train_lstm_input in train_lstm_in]\n",
    "train_lstm_in = np.array(train_lstm_in)\n",
    "\n",
    "test_lstm_in = [np.array(test_lstm_input) for test_lstm_input in test_lstm_in]\n",
    "test_lstm_in = np.array(test_lstm_in)"
   ]
  },
  {
   "cell_type": "code",
   "execution_count": 2311,
   "id": "c25996dd-34e9-482f-ab14-f7ad4df8a9cb",
   "metadata": {},
   "outputs": [],
   "source": [
    "# # 11/6 latestデータのnumpyへの置き換え\n",
    "# latest_lstm_in = [np.array(test_lstm_input) for test_lstm_input in latest_lstm_in]\n",
    "# latest_lstm_in = np.array(latest_lstm_in)"
   ]
  },
  {
   "cell_type": "code",
   "execution_count": 2312,
   "id": "f2118607-ee45-47ac-8d13-b1420ff3486f",
   "metadata": {},
   "outputs": [
    {
     "name": "stdout",
     "output_type": "stream",
     "text": [
      "train_lstm_in.shape[0] : 2068\n",
      "train_lstm_in.shape[1] : 6\n",
      "train_lstm_in.shape[2] : 7\n"
     ]
    }
   ],
   "source": [
    "print(f'train_lstm_in.shape[0] : {train_lstm_in.shape[0]}')\n",
    "print(f'train_lstm_in.shape[1] : {train_lstm_in.shape[1]}')\n",
    "print(f'train_lstm_in.shape[2] : {train_lstm_in.shape[2]}')"
   ]
  },
  {
   "cell_type": "code",
   "execution_count": null,
   "id": "ba83b6c2-aba9-4d3a-a57e-6a68cf46e62a",
   "metadata": {},
   "outputs": [],
   "source": [
    "\n"
   ]
  },
  {
   "cell_type": "code",
   "execution_count": 2313,
   "id": "7b7619ca-9825-4f40-9815-9831338ea3b2",
   "metadata": {},
   "outputs": [
    {
     "data": {
      "text/plain": [
       "array([[[ 0.00000000e+00,  0.00000000e+00,  0.00000000e+00, ...,\n",
       "          0.00000000e+00,  0.00000000e+00,  0.00000000e+00],\n",
       "        [ 5.72765665e-03,  1.67176363e-04, -6.06418905e-03, ...,\n",
       "          2.43705088e-03,  2.96008189e-03,  0.00000000e+00],\n",
       "        [ 7.47212212e-03,  1.11350437e-02,  4.65465663e-03, ...,\n",
       "          4.87410175e-03,  5.88633786e-03,  0.00000000e+00],\n",
       "        [ 8.63440602e-03,  8.37049556e-03,  7.15088317e-03, ...,\n",
       "          7.31115263e-03,  6.97280396e-03,  0.00000000e+00],\n",
       "        [ 1.25323492e-02,  1.02077388e-02,  3.65969257e-03, ...,\n",
       "          9.74820350e-03,  1.02801473e-02,  0.00000000e+00],\n",
       "        [ 1.66097984e-02,  1.75869534e-02,  1.11338103e-02, ...,\n",
       "          1.21852544e-02,  1.34320443e-02,  0.00000000e+00]],\n",
       "\n",
       "       [[ 0.00000000e+00,  0.00000000e+00,  0.00000000e+00, ...,\n",
       "          0.00000000e+00,  0.00000000e+00,  0.00000000e+00],\n",
       "        [ 1.73453067e-03,  1.09660340e-02,  1.07842434e-02, ...,\n",
       "          2.43112610e-03,  2.91761957e-03,  0.00000000e+00],\n",
       "        [ 2.89019532e-03,  8.20194802e-03,  1.32956999e-02, ...,\n",
       "          4.86225220e-03,  4.00087914e-03,  0.00000000e+00],\n",
       "        [ 6.76593956e-03,  1.00388842e-02,  9.78320885e-03, ...,\n",
       "          7.29337829e-03,  7.29846140e-03,  0.00000000e+00],\n",
       "        [ 1.08201675e-02,  1.74168654e-02,  1.73029276e-02, ...,\n",
       "          9.72450439e-03,  1.04410561e-02,  0.00000000e+00],\n",
       "        [ 1.38728982e-02,  2.10903386e-02,  2.17412061e-02, ...,\n",
       "          1.36838442e-02,  1.33985557e-02,  7.72178071e-01]],\n",
       "\n",
       "       [[ 0.00000000e+00,  0.00000000e+00,  0.00000000e+00, ...,\n",
       "          0.00000000e+00,  0.00000000e+00,  0.00000000e+00],\n",
       "        [ 1.15366359e-03, -2.73410375e-03,  2.48466129e-03, ...,\n",
       "          2.42523006e-03,  1.08010822e-03,  0.00000000e+00],\n",
       "        [ 5.02269687e-03, -9.17092960e-04, -9.90354300e-04, ...,\n",
       "          4.85046011e-03,  4.36809738e-03,  0.00000000e+00],\n",
       "        [ 9.06990480e-03,  6.38085861e-03,  6.44913514e-03, ...,\n",
       "          7.27569017e-03,  7.50154984e-03,  0.00000000e+00],\n",
       "        [ 1.21173496e-02,  1.00144854e-02,  1.08400608e-02, ...,\n",
       "          1.12254277e-02,  1.04504457e-02,  7.72178071e-01],\n",
       "        [ 1.12111453e-02,  7.04180517e-03,  1.31555218e-02, ...,\n",
       "          1.26391336e-02,  1.11564520e-02,  3.35445445e-01]],\n",
       "\n",
       "       ...,\n",
       "\n",
       "       [[ 0.00000000e+00,  0.00000000e+00,  0.00000000e+00, ...,\n",
       "          0.00000000e+00,  0.00000000e+00,  0.00000000e+00],\n",
       "        [-3.99136285e-03, -1.36702309e-03, -3.71662973e-03, ...,\n",
       "          1.09748789e-03,  2.29163679e-04, -1.22797465e-01],\n",
       "        [-8.35044391e-03, -5.92308570e-03, -6.14357443e-03, ...,\n",
       "          2.01086206e-03, -2.96178806e-04, -1.78220549e-01],\n",
       "        [-6.30941410e-03, -4.92755462e-03, -4.11743233e-03, ...,\n",
       "          3.19570958e-03, -1.31959930e-04, -1.41612870e-01],\n",
       "        [-5.98845315e-03, -8.10637854e-03, -4.93151834e-03, ...,\n",
       "          4.18892186e-03, -1.90900211e-04, -1.80143797e-01],\n",
       "        [-7.97753044e-03, -9.96454925e-03, -9.06152001e-03, ...,\n",
       "          2.96071410e-03, -1.47559289e-03, -6.90177246e-01]],\n",
       "\n",
       "       [[ 0.00000000e+00,  0.00000000e+00,  0.00000000e+00, ...,\n",
       "          0.00000000e+00,  0.00000000e+00,  0.00000000e+00],\n",
       "        [-4.37654946e-03, -4.56229937e-03, -2.43599840e-03, ...,\n",
       "          9.12372844e-04, -5.25222123e-04, -6.31816281e-02],\n",
       "        [-2.32734051e-03, -3.56540551e-03, -4.02297788e-04, ...,\n",
       "          2.09592144e-03, -3.61040871e-04, -2.14493281e-02],\n",
       "        [-2.00509336e-03, -6.74858091e-03, -1.21942075e-03, ...,\n",
       "          3.08804487e-03, -4.19967649e-04, -6.53741066e-02],\n",
       "        [-4.00214160e-03, -8.60929526e-03, -5.36482936e-03, ...,\n",
       "          1.86118358e-03, -1.70436599e-03, -6.46805907e-01],\n",
       "        [-7.86618990e-03, -1.42018458e-02, -3.46306608e-03, ...,\n",
       "          6.74665314e-04, -2.06294915e-03, -6.29279902e-01]],\n",
       "\n",
       "       [[ 0.00000000e+00,  0.00000000e+00,  0.00000000e+00, ...,\n",
       "          0.00000000e+00,  0.00000000e+00,  0.00000000e+00],\n",
       "        [ 2.05821684e-03,  1.00146283e-03,  2.03866680e-03, ...,\n",
       "          1.18246974e-03,  1.64267529e-04,  4.45468419e-02],\n",
       "        [ 2.38188052e-03, -2.19630173e-03,  1.21954847e-03, ...,\n",
       "          2.17368881e-03,  1.05309785e-04, -2.34034542e-03],\n",
       "        [ 3.76053683e-04, -4.06554412e-03, -2.93598301e-03, ...,\n",
       "          9.47945860e-04, -1.17976351e-03, -6.22985519e-01],\n",
       "        [-3.50498016e-03, -9.68372647e-03, -1.02957572e-03, ...,\n",
       "         -2.37490849e-04, -1.53853510e-03, -6.04277511e-01],\n",
       "        [-1.43960631e-02, -1.80124801e-02, -1.63649101e-02, ...,\n",
       "         -3.32332907e-03, -6.07059827e-03, -7.76413844e-01]]])"
      ]
     },
     "execution_count": 2313,
     "metadata": {},
     "output_type": "execute_result"
    }
   ],
   "source": [
    "train_lstm_in"
   ]
  },
  {
   "cell_type": "markdown",
   "id": "8e920fb1-738b-4a2e-adae-22277451439c",
   "metadata": {},
   "source": [
    "## モデルの定義"
   ]
  },
  {
   "cell_type": "code",
   "execution_count": 2314,
   "id": "f72edeeb-f600-4470-b058-9fec754d6d63",
   "metadata": {},
   "outputs": [],
   "source": [
    "# モデルの定義\n",
    "from keras.models import Sequential\n",
    "from keras.layers import Activation, Dense\n",
    "from keras.layers import LSTM\n",
    "from keras.layers import Dropout"
   ]
  },
  {
   "cell_type": "code",
   "execution_count": 2315,
   "id": "c60224ae-815e-45cf-84de-66bc7610cb75",
   "metadata": {},
   "outputs": [],
   "source": [
    "# LSTMのモデルを設定\n",
    "def build_model(inputs, output_size, neurons, activ_func=\"linear\",\n",
    "                dropout=0.25, loss=\"mae\", optimizer=\"adam\"):\n",
    "    model = Sequential()\n",
    " \n",
    "    model.add(LSTM(neurons, input_shape=(inputs.shape[1], inputs.shape[2]))) #バッチ数、時系列データ数、特徴量数\n",
    "    model.add(Dropout(dropout)) \n",
    "    model.add(Dense(units=output_size))\n",
    "    model.add(Activation(activ_func))\n",
    " \n",
    "    model.compile(loss=loss, optimizer=optimizer)\n",
    "    return model"
   ]
  },
  {
   "cell_type": "code",
   "execution_count": null,
   "id": "334500b5-270c-41b8-9349-4a1697674a01",
   "metadata": {},
   "outputs": [],
   "source": []
  },
  {
   "cell_type": "markdown",
   "id": "8725a249-19e4-48ed-86af-adccc81492c3",
   "metadata": {},
   "source": [
    "## データの学習と予測"
   ]
  },
  {
   "cell_type": "code",
   "execution_count": 2316,
   "id": "1e66be32-c774-435c-85e3-12f5166bee35",
   "metadata": {},
   "outputs": [
    {
     "name": "stdout",
     "output_type": "stream",
     "text": [
      "Epoch 1/25\n",
      "2068/2068 - 4s - loss: nan\n",
      "Epoch 2/25\n",
      "2068/2068 - 3s - loss: nan\n",
      "Epoch 3/25\n",
      "2068/2068 - 3s - loss: nan\n",
      "Epoch 4/25\n",
      "2068/2068 - 3s - loss: nan\n",
      "Epoch 5/25\n",
      "2068/2068 - 3s - loss: nan\n",
      "Epoch 6/25\n",
      "2068/2068 - 3s - loss: nan\n",
      "Epoch 7/25\n",
      "2068/2068 - 3s - loss: nan\n",
      "Epoch 8/25\n",
      "2068/2068 - 3s - loss: nan\n",
      "Epoch 9/25\n",
      "2068/2068 - 3s - loss: nan\n",
      "Epoch 10/25\n",
      "2068/2068 - 3s - loss: nan\n",
      "Epoch 11/25\n",
      "2068/2068 - 3s - loss: nan\n",
      "Epoch 12/25\n",
      "2068/2068 - 3s - loss: nan\n",
      "Epoch 13/25\n",
      "2068/2068 - 3s - loss: nan\n",
      "Epoch 14/25\n",
      "2068/2068 - 3s - loss: nan\n",
      "Epoch 15/25\n",
      "2068/2068 - 3s - loss: nan\n",
      "Epoch 16/25\n",
      "2068/2068 - 3s - loss: nan\n",
      "Epoch 17/25\n",
      "2068/2068 - 3s - loss: nan\n",
      "Epoch 18/25\n",
      "2068/2068 - 3s - loss: nan\n",
      "Epoch 19/25\n",
      "2068/2068 - 3s - loss: nan\n",
      "Epoch 20/25\n",
      "2068/2068 - 3s - loss: nan\n",
      "Epoch 21/25\n",
      "2068/2068 - 3s - loss: nan\n",
      "Epoch 22/25\n",
      "2068/2068 - 3s - loss: nan\n",
      "Epoch 23/25\n",
      "2068/2068 - 3s - loss: nan\n",
      "Epoch 24/25\n",
      "2068/2068 - 3s - loss: nan\n",
      "Epoch 25/25\n",
      "2068/2068 - 3s - loss: nan\n"
     ]
    }
   ],
   "source": [
    "np.random.seed(202)\n",
    " \n",
    "# 初期モデルの構築\n",
    "yen_model = build_model(train_lstm_in, output_size=1, neurons = 20)\n",
    "\n",
    "# データを流してフィッティングさせる\n",
    "yen_history = yen_model.fit(train_lstm_in, lstm_train_out, \n",
    "                            epochs=25, batch_size=1, verbose=2, shuffle=False)\n",
    "# 11/5 epochs=50からepochs=10に変更\n",
    "# 11/5 shuffle=TrueからFalseに変更"
   ]
  },
  {
   "cell_type": "code",
   "execution_count": 2317,
   "id": "bebaf562-4cb9-4198-9c69-496fe3c5bd1a",
   "metadata": {},
   "outputs": [
    {
     "data": {
      "image/png": "[encoded data removed]",
      "text/plain": [
       "<Figure size 432x288 with 1 Axes>"
      ]
     },
     "metadata": {
      "needs_background": "light"
     },
     "output_type": "display_data"
    }
   ],
   "source": [
    "# MAEをプロットしてみよう\n",
    "fig, ax1 = plt.subplots(1,1)\n",
    " \n",
    "ax1.plot(yen_history.epoch, yen_history.history['loss'])\n",
    "ax1.set_title('TrainingError')\n",
    " \n",
    "if yen_model.loss == 'mae':\n",
    "    ax1.set_ylabel('Mean Absolute Error (MAE)',fontsize=12)\n",
    "else:\n",
    "    ax1.set_ylabel('Model Loss',fontsize=12)\n",
    "ax1.set_xlabel('# Epochs',fontsize=12)\n",
    "plt.show()"
   ]
  },
  {
   "cell_type": "code",
   "execution_count": 2318,
   "id": "a3457ec5-1a28-4b3b-a8cb-94b54f0fb806",
   "metadata": {},
   "outputs": [],
   "source": [
    "#作成したモデルを使用し予測。\n",
    "train_pred = yen_model.predict(train_lstm_in)\n",
    "# test_pred = yen_model.predict(X_test)"
   ]
  },
  {
   "cell_type": "code",
   "execution_count": 2319,
   "id": "a277c3e2-e59c-4c36-bb3d-3e9edd5df5a3",
   "metadata": {},
   "outputs": [
    {
     "data": {
      "text/plain": [
       "array([[nan],\n",
       "       [nan],\n",
       "       [nan],\n",
       "       ...,\n",
       "       [nan],\n",
       "       [nan],\n",
       "       [nan]], dtype=float32)"
      ]
     },
     "execution_count": 2319,
     "metadata": {},
     "output_type": "execute_result"
    }
   ],
   "source": [
    "train_pred"
   ]
  },
  {
   "cell_type": "code",
   "execution_count": 2320,
   "id": "7052f331-66f7-4d7d-a408-07152a513a1a",
   "metadata": {},
   "outputs": [
    {
     "data": {
      "text/plain": [
       "array([[nan, nan, nan, ..., nan, nan, nan]], dtype=float32)"
      ]
     },
     "execution_count": 2320,
     "metadata": {},
     "output_type": "execute_result"
    }
   ],
   "source": [
    "np.transpose(train_pred)"
   ]
  },
  {
   "cell_type": "code",
   "execution_count": 2321,
   "id": "616523f3-4f40-4f70-9b9a-0c58b4e05bb5",
   "metadata": {},
   "outputs": [
    {
     "data": {
      "text/plain": [
       "2068"
      ]
     },
     "execution_count": 2321,
     "metadata": {},
     "output_type": "execute_result"
    }
   ],
   "source": [
    "len(train_pred)"
   ]
  },
  {
   "cell_type": "code",
   "execution_count": 2322,
   "id": "9669d2c4-68b3-498d-a2db-1cb102c11d9a",
   "metadata": {},
   "outputs": [
    {
     "data": {
      "text/plain": [
       "array([ 0.01554517,  0.02408164,  0.00835086, ..., -0.00716682,\n",
       "       -0.01876104, -0.02665515])"
      ]
     },
     "execution_count": 2322,
     "metadata": {},
     "output_type": "execute_result"
    }
   ],
   "source": [
    "lstm_train_out"
   ]
  },
  {
   "cell_type": "code",
   "execution_count": 2323,
   "id": "134e2a7a-ab10-4218-afbc-2c19bd861c78",
   "metadata": {},
   "outputs": [
    {
     "data": {
      "text/plain": [
       "2068"
      ]
     },
     "execution_count": 2323,
     "metadata": {},
     "output_type": "execute_result"
    }
   ],
   "source": [
    "len(lstm_train_out)"
   ]
  },
  {
   "cell_type": "code",
   "execution_count": 2324,
   "id": "01c299f7-6b83-4a45-a482-d1573f5f6863",
   "metadata": {},
   "outputs": [],
   "source": [
    "# yen_model.score(train_pred, lstm_train_out) "
   ]
  },
  {
   "cell_type": "code",
   "execution_count": 2325,
   "id": "b6421859-81b3-49f8-b68a-c4f11585a77e",
   "metadata": {},
   "outputs": [
    {
     "data": {
      "image/png": "[encoded data removed]",
      "text/plain": [
       "<Figure size 2160x720 with 1 Axes>"
      ]
     },
     "metadata": {
      "needs_background": "light"
     },
     "output_type": "display_data"
    }
   ],
   "source": [
    "fig,ax = plt.subplots(figsize=(30,10))\n",
    "# plt.plot(train_pred)\n",
    "\n",
    "ax.plot(train_pred)\n",
    "ax.plot(lstm_train_out)\n",
    "plt.show()"
   ]
  },
  {
   "cell_type": "code",
   "execution_count": 2326,
   "id": "a74f04e9-605a-4aa8-8f7b-d92a954dd203",
   "metadata": {},
   "outputs": [
    {
     "data": {
      "text/plain": [
       "array([[nan, nan, nan, ..., nan, nan, nan]], dtype=float32)"
      ]
     },
     "execution_count": 2326,
     "metadata": {},
     "output_type": "execute_result"
    }
   ],
   "source": [
    "# 配列には変化量が入っているので１００倍\n",
    "np.transpose(train_pred+1)"
   ]
  },
  {
   "cell_type": "code",
   "execution_count": 2327,
   "id": "da440ce9-7ee9-4895-82a7-84352ae991de",
   "metadata": {},
   "outputs": [
    {
     "data": {
      "text/plain": [
       "array([nan, nan, nan, ..., nan, nan, nan])"
      ]
     },
     "execution_count": 2327,
     "metadata": {},
     "output_type": "execute_result"
    }
   ],
   "source": [
    "#予測データ(変化量)を単価に直したもの\n",
    "Pred_Train_Price_Array=(np.transpose(train_pred+1)* df_train['Open'].values[:-window_len])[0]\n",
    "(np.transpose(train_pred+1)* df_train['Open'].values[:-window_len])[0]"
   ]
  },
  {
   "cell_type": "code",
   "execution_count": 2328,
   "id": "fe2c95ca-ea22-42b7-b1b2-db6887790b28",
   "metadata": {},
   "outputs": [
    {
     "data": {
      "text/plain": [
       "array([113.04474801, 113.30369174, 112.76637495, ..., 123.68128955,\n",
       "       121.78264081, 120.50861955])"
      ]
     },
     "execution_count": 2328,
     "metadata": {},
     "output_type": "execute_result"
    }
   ],
   "source": [
    "#正解データ(変化量)を単価に直したもの\n",
    "Actual_Train_Price_Array=(1+lstm_train_out)* df_train['Open'].values[:-window_len]\n",
    "(1+lstm_train_out)* df_train['Open'].values[:-window_len]"
   ]
  },
  {
   "cell_type": "code",
   "execution_count": 2329,
   "id": "3527a580-2a30-41c9-8ca9-806d0a22f327",
   "metadata": {},
   "outputs": [
    {
     "data": {
      "image/png": "[encoded data removed]",
      "text/plain": [
       "<Figure size 2160x720 with 1 Axes>"
      ]
     },
     "metadata": {
      "needs_background": "light"
     },
     "output_type": "display_data"
    }
   ],
   "source": [
    "fig,ax = plt.subplots(figsize=(30,10))\n",
    "\n",
    "# 予測データと正解データの併記\n",
    "ax.plot(Pred_Train_Price_Array)\n",
    "ax.plot(Actual_Train_Price_Array)\n",
    "plt.show()"
   ]
  },
  {
   "cell_type": "code",
   "execution_count": 2330,
   "id": "e304df35-fe5a-4423-9f05-505634b48966",
   "metadata": {},
   "outputs": [],
   "source": [
    "# #元のdf_trainデータ\n",
    "# fig,ax = plt.subplots(figsize=(30,10))\n",
    "# # plt.plot(train_pred)\n",
    "\n",
    "# # ax.plot(np.transpose(train_pred+1)* df_train['Open'].values[:-window_len])\n",
    "# ax.plot(df_train['Open'])\n",
    "# # ax.set_xlim(datetime.datetime(2003,12,1), datetime.datetime(2011,12,14)) # 範囲指定\n",
    "# plt.show()"
   ]
  },
  {
   "cell_type": "code",
   "execution_count": null,
   "id": "f7e7b139-9992-4764-9f2a-9f3db775515e",
   "metadata": {},
   "outputs": [],
   "source": []
  },
  {
   "cell_type": "markdown",
   "id": "206c3561-5dcd-48ac-afb9-5f3050f3322c",
   "metadata": {},
   "source": [
    "## テストデータへの転用"
   ]
  },
  {
   "cell_type": "code",
   "execution_count": 2331,
   "id": "a548ab85-b6fe-4278-a3ac-7107d1f3792b",
   "metadata": {},
   "outputs": [],
   "source": [
    "#作成したモデルを使用し予測。\n",
    "test_pred = yen_model.predict(test_lstm_in)"
   ]
  },
  {
   "cell_type": "code",
   "execution_count": 2332,
   "id": "30284cdb-ec75-463e-9421-254ae3ef0ae6",
   "metadata": {},
   "outputs": [
    {
     "data": {
      "text/plain": [
       "array([[nan],\n",
       "       [nan],\n",
       "       [nan],\n",
       "       ...,\n",
       "       [nan],\n",
       "       [nan],\n",
       "       [nan]], dtype=float32)"
      ]
     },
     "execution_count": 2332,
     "metadata": {},
     "output_type": "execute_result"
    }
   ],
   "source": [
    "test_pred"
   ]
  },
  {
   "cell_type": "code",
   "execution_count": 2333,
   "id": "be52a5ac-4dc3-4a04-8db2-527cb75e24fe",
   "metadata": {},
   "outputs": [
    {
     "data": {
      "text/plain": [
       "1240"
      ]
     },
     "execution_count": 2333,
     "metadata": {},
     "output_type": "execute_result"
    }
   ],
   "source": [
    "len(test_pred)"
   ]
  },
  {
   "cell_type": "code",
   "execution_count": 2334,
   "id": "ba262037-c353-4795-bd62-78ab751869af",
   "metadata": {},
   "outputs": [
    {
     "data": {
      "text/plain": [
       "array([[nan, nan, nan, ..., nan, nan, nan]], dtype=float32)"
      ]
     },
     "execution_count": 2334,
     "metadata": {},
     "output_type": "execute_result"
    }
   ],
   "source": [
    "np.transpose(test_pred)"
   ]
  },
  {
   "cell_type": "code",
   "execution_count": 2335,
   "id": "b2d6c45a-b1ac-4324-a5ae-0a53ea435f8c",
   "metadata": {},
   "outputs": [
    {
     "data": {
      "text/plain": [
       "1240"
      ]
     },
     "execution_count": 2335,
     "metadata": {},
     "output_type": "execute_result"
    }
   ],
   "source": [
    "len(lstm_test_out)"
   ]
  },
  {
   "cell_type": "code",
   "execution_count": 2336,
   "id": "c54f3c61-cba3-44f6-b4bb-5ac823cb5c3f",
   "metadata": {},
   "outputs": [
    {
     "data": {
      "text/plain": [
       "array([nan, nan, nan, ..., nan, nan, nan])"
      ]
     },
     "execution_count": 2336,
     "metadata": {},
     "output_type": "execute_result"
    }
   ],
   "source": [
    "# 予測データ(変化量)を単価に直したもの\n",
    "Pred_Price_Array=(np.transpose(test_pred+1)* df_test['Open'].values[:-window_len])[0]\n",
    "(np.transpose(test_pred+1)* df_test['Open'].values[:-window_len])[0]"
   ]
  },
  {
   "cell_type": "code",
   "execution_count": 2337,
   "id": "89bbf46d-32f4-4a34-a238-f192918bfe9f",
   "metadata": {},
   "outputs": [
    {
     "name": "stdout",
     "output_type": "stream",
     "text": [
      "Pred_Price_Array は ndarray型\n",
      "Pred_Price_Array の行数, 列数・・・(1240,)\n",
      "\n"
     ]
    }
   ],
   "source": [
    "typeInfo(Pred_Price_Array)"
   ]
  },
  {
   "cell_type": "code",
   "execution_count": 2338,
   "id": "0db18c71-1de7-4c41-930c-18d7b5c3250f",
   "metadata": {},
   "outputs": [
    {
     "data": {
      "text/plain": [
       "array([119.56311047, 119.80778545, 119.88076121, ..., 102.68650234,\n",
       "       103.42938185, 103.64146143])"
      ]
     },
     "execution_count": 2338,
     "metadata": {},
     "output_type": "execute_result"
    }
   ],
   "source": [
    "# 正解データ(変化量)を単価に直したもの\n",
    "Actual_Price_Array=(1+lstm_test_out)* df_test['Open'].values[:-window_len]\n",
    "(1+lstm_test_out)* df_test['Open'].values[:-window_len]"
   ]
  },
  {
   "cell_type": "code",
   "execution_count": 2339,
   "id": "36871558-98fa-4db0-8553-b00087ee6b67",
   "metadata": {},
   "outputs": [
    {
     "name": "stdout",
     "output_type": "stream",
     "text": [
      "Actual_Price_Array は ndarray型\n",
      "Actual_Price_Array の行数, 列数・・・(1240,)\n",
      "\n"
     ]
    }
   ],
   "source": [
    "typeInfo(Actual_Price_Array)"
   ]
  },
  {
   "cell_type": "code",
   "execution_count": 2340,
   "id": "40704368-bd00-416b-b49f-4db67235e3dd",
   "metadata": {},
   "outputs": [
    {
     "data": {
      "image/png": "[encoded data removed]",
      "text/plain": [
       "<Figure size 2160x720 with 1 Axes>"
      ]
     },
     "metadata": {
      "needs_background": "light"
     },
     "output_type": "display_data"
    }
   ],
   "source": [
    "fig,ax = plt.subplots(figsize=(30,10))\n",
    "# fig,ax = plt.subplots()\n",
    "\n",
    "# 正解データと予測データの併記\n",
    "ax.plot(Pred_Price_Array)\n",
    "ax.plot(Actual_Price_Array)\n",
    "plt.show()"
   ]
  },
  {
   "cell_type": "code",
   "execution_count": null,
   "id": "cb7405fe-39ea-4f2a-bba5-a083adde1360",
   "metadata": {},
   "outputs": [],
   "source": []
  },
  {
   "cell_type": "code",
   "execution_count": 2341,
   "id": "3ad85ed4-e7ed-4d03-a8c2-0b37af2aa980",
   "metadata": {},
   "outputs": [],
   "source": [
    "# Actual_Price_Array[::12]"
   ]
  },
  {
   "cell_type": "code",
   "execution_count": 2342,
   "id": "fbbba25f-0dbc-4eda-8053-e5720231a137",
   "metadata": {},
   "outputs": [
    {
     "data": {
      "text/plain": [
       "1240"
      ]
     },
     "execution_count": 2342,
     "metadata": {},
     "output_type": "execute_result"
    }
   ],
   "source": [
    "len(Pred_Price_Array)"
   ]
  },
  {
   "cell_type": "code",
   "execution_count": 2343,
   "id": "d578c6b3-7e67-4f19-a8b6-e03f8ac33895",
   "metadata": {},
   "outputs": [
    {
     "data": {
      "text/plain": [
       "array([nan, nan, nan, nan, nan, nan, nan, nan, nan, nan, nan, nan, nan,\n",
       "       nan, nan, nan, nan, nan, nan, nan, nan, nan, nan, nan, nan, nan,\n",
       "       nan, nan, nan, nan, nan, nan, nan, nan, nan, nan, nan, nan, nan,\n",
       "       nan, nan, nan, nan, nan, nan, nan, nan, nan, nan, nan, nan, nan,\n",
       "       nan, nan, nan, nan, nan, nan, nan, nan, nan, nan, nan, nan, nan,\n",
       "       nan, nan, nan, nan, nan, nan, nan, nan, nan, nan, nan, nan, nan,\n",
       "       nan, nan, nan, nan, nan, nan, nan, nan, nan, nan, nan, nan, nan,\n",
       "       nan, nan, nan, nan, nan, nan, nan, nan, nan, nan, nan, nan, nan,\n",
       "       nan, nan, nan, nan, nan, nan, nan, nan, nan, nan, nan, nan, nan,\n",
       "       nan, nan, nan, nan, nan, nan, nan, nan, nan, nan, nan, nan, nan,\n",
       "       nan, nan, nan, nan, nan, nan, nan, nan, nan, nan, nan, nan, nan,\n",
       "       nan, nan, nan, nan, nan, nan, nan, nan, nan, nan, nan, nan, nan,\n",
       "       nan, nan, nan, nan, nan, nan, nan, nan, nan, nan, nan, nan, nan,\n",
       "       nan, nan, nan, nan, nan, nan, nan, nan, nan, nan, nan, nan, nan,\n",
       "       nan, nan, nan, nan, nan, nan, nan, nan, nan, nan, nan, nan, nan,\n",
       "       nan, nan, nan, nan, nan, nan, nan, nan, nan, nan, nan, nan])"
      ]
     },
     "execution_count": 2343,
     "metadata": {},
     "output_type": "execute_result"
    }
   ],
   "source": [
    "Pred_Price_Array_7=Pred_Price_Array[::6]\n",
    "Pred_Price_Array_7"
   ]
  },
  {
   "cell_type": "code",
   "execution_count": 2344,
   "id": "b0a0a581-eaec-4898-a51f-478a0cef9e52",
   "metadata": {},
   "outputs": [
    {
     "data": {
      "text/plain": [
       "207"
      ]
     },
     "execution_count": 2344,
     "metadata": {},
     "output_type": "execute_result"
    }
   ],
   "source": [
    "len(Pred_Price_Array_7)"
   ]
  },
  {
   "cell_type": "code",
   "execution_count": 2345,
   "id": "eb3dcd58-0983-436c-87c8-22e64159857c",
   "metadata": {},
   "outputs": [
    {
     "data": {
      "text/plain": [
       "array([120.13923079, 120.52431077, 120.59187233, ..., 102.68535554,\n",
       "       103.43631774, 103.6212492 ])"
      ]
     },
     "execution_count": 2345,
     "metadata": {},
     "output_type": "execute_result"
    }
   ],
   "source": [
    "df_test_Close_array=df_test['Close'].values\n",
    "df_test_Close_array"
   ]
  },
  {
   "cell_type": "code",
   "execution_count": 2346,
   "id": "19a4535f-6e01-4a1f-b2b8-439f97e247e5",
   "metadata": {},
   "outputs": [
    {
     "data": {
      "text/plain": [
       "array([120.62017828, 119.61567551, 119.0108633 , 121.82273448,\n",
       "       120.78713596, 123.21832687, 120.4583922 , 123.26759487,\n",
       "       121.35922045, 122.40306705, 119.66364235, 116.19142771,\n",
       "       116.30831242, 117.29647338, 115.77551663, 113.56660515,\n",
       "       113.23295444, 113.6782521 , 115.91478586, 119.35484618,\n",
       "       119.1549623 , 118.94046783, 119.92739379, 118.02985877,\n",
       "       119.00167793, 119.91185695, 122.44843155, 120.55258363,\n",
       "       123.69617581, 125.9017241 , 123.51448625, 120.80449224,\n",
       "       120.36435515, 118.54718387, 121.31147414, 120.3173697 ,\n",
       "       120.56829691, 119.55693543, 122.52141833, 122.4289912 ,\n",
       "       119.39642847, 121.27329916, 122.2106263 , 123.52438837,\n",
       "       122.43547499, 123.01513493, 124.74713475, 125.39992481,\n",
       "       127.69893676, 123.46831679, 125.35913646, 126.78527325,\n",
       "       126.52513862, 125.76307237, 125.13020784, 124.76564884,\n",
       "       126.72448218, 127.43679523, 128.69565457, 127.20721602,\n",
       "       128.07731241, 128.02591622, 127.28598088, 126.06645435,\n",
       "       126.19716674, 125.73572576, 125.69300771, 125.17253995,\n",
       "       124.21775728, 123.86181027, 121.43250495, 119.88076121,\n",
       "       117.2266072 , 116.91841751, 117.25930184, 115.26767462,\n",
       "       114.46886688, 113.72018725, 113.09036613, 110.50450146,\n",
       "       106.9858858 , 104.60842878, 105.45036256, 103.24813336,\n",
       "        96.95508271, 100.68575591,  98.14115375, 100.53800702,\n",
       "       103.54516387, 101.68523043, 102.75038093, 105.19971102,\n",
       "       101.70422971, 100.17977744, 101.46325976, 102.61018544,\n",
       "       103.72978657, 104.9323979 , 103.6159122 , 105.17219901,\n",
       "       101.93848431,  99.28407669,  98.42938483, 100.67697853,\n",
       "       100.54676235, 100.39942145, 101.01009995, 100.1396507 ,\n",
       "       103.84040803, 101.04651064, 103.30347717, 103.22969645,\n",
       "       105.47801793, 103.91507089, 105.33868253, 103.80079955,\n",
       "       104.99670655, 104.97883201, 102.96196431, 102.24157959,\n",
       "       103.30463499, 103.29424769, 103.59502733, 103.98048222,\n",
       "       103.96296054, 103.57182682, 100.66383451, 102.68650234,\n",
       "        97.90431887,  97.8835994 ,  96.66227549,  97.3745665 ,\n",
       "        98.31535608,  99.10431683,  98.23078007,  97.61296719,\n",
       "        98.88288647, 100.35803765,  97.8835994 , 100.58393389,\n",
       "       101.42766505, 103.64493489, 104.34763253, 103.67630631,\n",
       "       105.66356689, 106.13762259, 109.37296927, 108.92605066,\n",
       "       110.66579133, 110.62476039, 109.66472894, 108.61014217,\n",
       "       108.77234727, 107.41700292, 108.56935382, 109.45450187,\n",
       "       109.53226328, 111.5869531 , 113.50946397, 114.7884804 ,\n",
       "       114.27230209, 113.13047081, 114.62916434, 114.77281123,\n",
       "       114.358477  , 113.23295444, 109.77795273, 109.04418141,\n",
       "       108.46749872, 107.19418317, 107.84782231, 107.79253364,\n",
       "       108.12896311, 104.94786859, 108.14412504, 107.26378471,\n",
       "       108.80945265, 106.43928438, 106.1266619 , 105.80618829,\n",
       "       105.19492537, 104.92167979, 105.22244841, 106.02083713,\n",
       "       105.60566485, 105.77714354, 104.84556139, 105.38668245,\n",
       "       104.4088757 , 104.29233283, 104.21947837, 103.82525712,\n",
       "       103.51735413, 103.18823546, 103.8683942 , 103.95594746,\n",
       "       104.41358417, 103.8742274 , 102.4136427 , 103.07555199,\n",
       "       102.54420072, 101.63718641, 102.97456801, 102.40117133,\n",
       "       102.479451  , 102.51806706, 102.82233119])"
      ]
     },
     "execution_count": 2346,
     "metadata": {},
     "output_type": "execute_result"
    }
   ],
   "source": [
    "df_test_Close_array6=df_test_Close_array[5::6]\n",
    "df_test_Close_array6"
   ]
  },
  {
   "cell_type": "code",
   "execution_count": 2347,
   "id": "8b1fd3b2-010c-4d8f-9588-6242b80fe7d4",
   "metadata": {},
   "outputs": [
    {
     "data": {
      "text/plain": [
       "207"
      ]
     },
     "execution_count": 2347,
     "metadata": {},
     "output_type": "execute_result"
    }
   ],
   "source": [
    "len(df_test_Close_array6)"
   ]
  },
  {
   "cell_type": "code",
   "execution_count": 2348,
   "id": "bfb25300-baa0-49c9-84e7-8ca5b5bb0bb7",
   "metadata": {},
   "outputs": [
    {
     "data": {
      "text/plain": [
       "array([nan, nan, nan, nan, nan, nan, nan, nan, nan, nan, nan, nan, nan,\n",
       "       nan, nan, nan, nan, nan, nan, nan, nan, nan, nan, nan, nan, nan,\n",
       "       nan, nan, nan, nan, nan, nan, nan, nan, nan, nan, nan, nan, nan,\n",
       "       nan, nan, nan, nan, nan, nan, nan, nan, nan, nan, nan, nan, nan,\n",
       "       nan, nan, nan, nan, nan, nan, nan, nan, nan, nan, nan, nan, nan,\n",
       "       nan, nan, nan, nan, nan, nan, nan, nan, nan, nan, nan, nan, nan,\n",
       "       nan, nan, nan, nan, nan, nan, nan, nan, nan, nan, nan, nan, nan,\n",
       "       nan, nan, nan, nan, nan, nan, nan, nan, nan, nan, nan, nan, nan,\n",
       "       nan, nan, nan, nan, nan, nan, nan, nan, nan, nan, nan, nan, nan,\n",
       "       nan, nan, nan, nan, nan, nan, nan, nan, nan, nan, nan, nan, nan,\n",
       "       nan, nan, nan, nan, nan, nan, nan, nan, nan, nan, nan, nan, nan,\n",
       "       nan, nan, nan, nan, nan, nan, nan, nan, nan, nan, nan, nan, nan,\n",
       "       nan, nan, nan, nan, nan, nan, nan, nan, nan, nan, nan, nan, nan,\n",
       "       nan, nan, nan, nan, nan, nan, nan, nan, nan, nan, nan, nan, nan,\n",
       "       nan, nan, nan, nan, nan, nan, nan, nan, nan, nan, nan, nan, nan,\n",
       "       nan, nan, nan, nan, nan, nan, nan, nan, nan, nan, nan, nan])"
      ]
     },
     "execution_count": 2348,
     "metadata": {},
     "output_type": "execute_result"
    }
   ],
   "source": [
    "Dif_Array=Pred_Price_Array_7-df_test_Close_array6\n",
    "Dif_Array"
   ]
  },
  {
   "cell_type": "code",
   "execution_count": 2349,
   "id": "fc0b32c3-14c2-4147-8495-fb2f6438630c",
   "metadata": {},
   "outputs": [
    {
     "data": {
      "text/plain": [
       "0     NaN\n",
       "1     NaN\n",
       "2     NaN\n",
       "3     NaN\n",
       "4     NaN\n",
       "       ..\n",
       "202   NaN\n",
       "203   NaN\n",
       "204   NaN\n",
       "205   NaN\n",
       "206   NaN\n",
       "Length: 207, dtype: float64"
      ]
     },
     "execution_count": 2349,
     "metadata": {},
     "output_type": "execute_result"
    }
   ],
   "source": [
    "Df_Dif_Array = pd.Series(Dif_Array)\n",
    "Df_Dif_Array"
   ]
  },
  {
   "cell_type": "code",
   "execution_count": 2350,
   "id": "8411e60b-fb25-4c6c-95b9-36c2a4baa2f0",
   "metadata": {},
   "outputs": [],
   "source": [
    "def p_judge(x):\n",
    "    if x < 0:\n",
    "        return 0\n",
    "    else:\n",
    "        return 1"
   ]
  },
  {
   "cell_type": "code",
   "execution_count": null,
   "id": "ca0bbd59-92a5-4285-a4ec-40b96e49dc05",
   "metadata": {},
   "outputs": [],
   "source": []
  },
  {
   "cell_type": "code",
   "execution_count": 2351,
   "id": "e7650a64-ee92-46c1-8585-4f2856243a5c",
   "metadata": {},
   "outputs": [
    {
     "data": {
      "text/plain": [
       "0      1\n",
       "1      1\n",
       "2      1\n",
       "3      1\n",
       "4      1\n",
       "      ..\n",
       "202    1\n",
       "203    1\n",
       "204    1\n",
       "205    1\n",
       "206    1\n",
       "Length: 207, dtype: int64"
      ]
     },
     "execution_count": 2351,
     "metadata": {},
     "output_type": "execute_result"
    }
   ],
   "source": [
    "Df_sub=Df_Dif_Array.apply(p_judge)\n",
    "Df_sub"
   ]
  },
  {
   "cell_type": "code",
   "execution_count": 2352,
   "id": "745a78d1-24cf-45b3-9e3b-cc4e724d4788",
   "metadata": {},
   "outputs": [
    {
     "data": {
      "text/plain": [
       "count    207.0\n",
       "mean       1.0\n",
       "std        0.0\n",
       "min        1.0\n",
       "25%        1.0\n",
       "50%        1.0\n",
       "75%        1.0\n",
       "max        1.0\n",
       "dtype: float64"
      ]
     },
     "execution_count": 2352,
     "metadata": {},
     "output_type": "execute_result"
    }
   ],
   "source": [
    "Df_sub.describe()"
   ]
  },
  {
   "cell_type": "code",
   "execution_count": null,
   "id": "07446e81-fc1c-40bf-ac7a-0dcd71bfbaae",
   "metadata": {},
   "outputs": [],
   "source": []
  },
  {
   "cell_type": "code",
   "execution_count": 2353,
   "id": "358e708a-3ee2-412c-984c-5716a9f0a26b",
   "metadata": {},
   "outputs": [
    {
     "data": {
      "text/html": [
       "<div>\n",
       "<style scoped>\n",
       "    .dataframe tbody tr th:only-of-type {\n",
       "        vertical-align: middle;\n",
       "    }\n",
       "\n",
       "    .dataframe tbody tr th {\n",
       "        vertical-align: top;\n",
       "    }\n",
       "\n",
       "    .dataframe thead th {\n",
       "        text-align: right;\n",
       "    }\n",
       "</style>\n",
       "<table border=\"1\" class=\"dataframe\">\n",
       "  <thead>\n",
       "    <tr style=\"text-align: right;\">\n",
       "      <th></th>\n",
       "      <th>Date</th>\n",
       "      <th>1</th>\n",
       "    </tr>\n",
       "  </thead>\n",
       "  <tbody>\n",
       "    <tr>\n",
       "      <th>0</th>\n",
       "      <td>2011-12-22</td>\n",
       "      <td>1</td>\n",
       "    </tr>\n",
       "    <tr>\n",
       "      <th>1</th>\n",
       "      <td>2012-01-05</td>\n",
       "      <td>1</td>\n",
       "    </tr>\n",
       "    <tr>\n",
       "      <th>2</th>\n",
       "      <td>2012-01-19</td>\n",
       "      <td>1</td>\n",
       "    </tr>\n",
       "    <tr>\n",
       "      <th>3</th>\n",
       "      <td>2012-02-02</td>\n",
       "      <td>1</td>\n",
       "    </tr>\n",
       "    <tr>\n",
       "      <th>4</th>\n",
       "      <td>2012-02-16</td>\n",
       "      <td>1</td>\n",
       "    </tr>\n",
       "    <tr>\n",
       "      <th>...</th>\n",
       "      <td>...</td>\n",
       "      <td>...</td>\n",
       "    </tr>\n",
       "    <tr>\n",
       "      <th>202</th>\n",
       "      <td>2019-10-23</td>\n",
       "      <td>1</td>\n",
       "    </tr>\n",
       "    <tr>\n",
       "      <th>203</th>\n",
       "      <td>2019-11-07</td>\n",
       "      <td>1</td>\n",
       "    </tr>\n",
       "    <tr>\n",
       "      <th>204</th>\n",
       "      <td>2019-11-21</td>\n",
       "      <td>1</td>\n",
       "    </tr>\n",
       "    <tr>\n",
       "      <th>205</th>\n",
       "      <td>2019-12-05</td>\n",
       "      <td>1</td>\n",
       "    </tr>\n",
       "    <tr>\n",
       "      <th>206</th>\n",
       "      <td>2019-12-19</td>\n",
       "      <td>1</td>\n",
       "    </tr>\n",
       "  </tbody>\n",
       "</table>\n",
       "<p>207 rows × 2 columns</p>\n",
       "</div>"
      ],
      "text/plain": [
       "           Date  1\n",
       "0    2011-12-22  1\n",
       "1    2012-01-05  1\n",
       "2    2012-01-19  1\n",
       "3    2012-02-02  1\n",
       "4    2012-02-16  1\n",
       "..          ... ..\n",
       "202  2019-10-23  1\n",
       "203  2019-11-07  1\n",
       "204  2019-11-21  1\n",
       "205  2019-12-05  1\n",
       "206  2019-12-19  1\n",
       "\n",
       "[207 rows x 2 columns]"
      ]
     },
     "execution_count": 2353,
     "metadata": {},
     "output_type": "execute_result"
    }
   ],
   "source": [
    "df_submit[1]=Df_sub\n",
    "df_submit"
   ]
  },
  {
   "cell_type": "code",
   "execution_count": 2354,
   "id": "4629f9f9-bd52-40c1-8c9e-d46e3c3dcb11",
   "metadata": {},
   "outputs": [
    {
     "data": {
      "text/html": [
       "<div>\n",
       "<style scoped>\n",
       "    .dataframe tbody tr th:only-of-type {\n",
       "        vertical-align: middle;\n",
       "    }\n",
       "\n",
       "    .dataframe tbody tr th {\n",
       "        vertical-align: top;\n",
       "    }\n",
       "\n",
       "    .dataframe thead th {\n",
       "        text-align: right;\n",
       "    }\n",
       "</style>\n",
       "<table border=\"1\" class=\"dataframe\">\n",
       "  <thead>\n",
       "    <tr style=\"text-align: right;\">\n",
       "      <th></th>\n",
       "      <th>y</th>\n",
       "    </tr>\n",
       "    <tr>\n",
       "      <th>Date</th>\n",
       "      <th></th>\n",
       "    </tr>\n",
       "  </thead>\n",
       "  <tbody>\n",
       "    <tr>\n",
       "      <th>2011-12-22</th>\n",
       "      <td>1</td>\n",
       "    </tr>\n",
       "    <tr>\n",
       "      <th>2012-01-05</th>\n",
       "      <td>1</td>\n",
       "    </tr>\n",
       "    <tr>\n",
       "      <th>2012-01-19</th>\n",
       "      <td>1</td>\n",
       "    </tr>\n",
       "    <tr>\n",
       "      <th>2012-02-02</th>\n",
       "      <td>1</td>\n",
       "    </tr>\n",
       "    <tr>\n",
       "      <th>2012-02-16</th>\n",
       "      <td>1</td>\n",
       "    </tr>\n",
       "    <tr>\n",
       "      <th>...</th>\n",
       "      <td>...</td>\n",
       "    </tr>\n",
       "    <tr>\n",
       "      <th>2019-10-23</th>\n",
       "      <td>1</td>\n",
       "    </tr>\n",
       "    <tr>\n",
       "      <th>2019-11-07</th>\n",
       "      <td>1</td>\n",
       "    </tr>\n",
       "    <tr>\n",
       "      <th>2019-11-21</th>\n",
       "      <td>1</td>\n",
       "    </tr>\n",
       "    <tr>\n",
       "      <th>2019-12-05</th>\n",
       "      <td>1</td>\n",
       "    </tr>\n",
       "    <tr>\n",
       "      <th>2019-12-19</th>\n",
       "      <td>1</td>\n",
       "    </tr>\n",
       "  </tbody>\n",
       "</table>\n",
       "<p>207 rows × 1 columns</p>\n",
       "</div>"
      ],
      "text/plain": [
       "            y\n",
       "Date         \n",
       "2011-12-22  1\n",
       "2012-01-05  1\n",
       "2012-01-19  1\n",
       "2012-02-02  1\n",
       "2012-02-16  1\n",
       "...        ..\n",
       "2019-10-23  1\n",
       "2019-11-07  1\n",
       "2019-11-21  1\n",
       "2019-12-05  1\n",
       "2019-12-19  1\n",
       "\n",
       "[207 rows x 1 columns]"
      ]
     },
     "execution_count": 2354,
     "metadata": {},
     "output_type": "execute_result"
    }
   ],
   "source": [
    "# 指定の様式（インデックスはDate、カラム名は「y」のみ）をお守りください。\n",
    "df_submit = df_submit.set_index(\"Date\") #indexにDateを指定する。\n",
    "df_submit = df_submit.rename(columns={1: 'y'}) #カラム名「1」を「y」に変更する。\n",
    "df_submit.to_csv('y_submit.csv') #投稿するファイルを書き出す。\n",
    "df_submit #投稿する中身を確認する。"
   ]
  },
  {
   "cell_type": "code",
   "execution_count": null,
   "id": "acbbcb75-ba6a-420f-8197-2be9eb57d341",
   "metadata": {},
   "outputs": [],
   "source": []
  },
  {
   "cell_type": "code",
   "execution_count": null,
   "id": "3c964f06-bb16-48b0-b35a-b975180744c6",
   "metadata": {},
   "outputs": [],
   "source": []
  },
  {
   "cell_type": "code",
   "execution_count": null,
   "id": "150e2302-0a61-4ecd-bc93-1d9a4f1ad309",
   "metadata": {},
   "outputs": [],
   "source": []
  },
  {
   "cell_type": "code",
   "execution_count": null,
   "id": "7dd94eda-8f28-47f5-b3c1-7084259beee9",
   "metadata": {},
   "outputs": [],
   "source": []
  },
  {
   "cell_type": "code",
   "execution_count": null,
   "id": "119713a2-2448-4796-8231-35e96a564359",
   "metadata": {},
   "outputs": [],
   "source": []
  },
  {
   "cell_type": "code",
   "execution_count": null,
   "id": "97c2a0b5-874d-4dc9-9c80-c9d2e0c70857",
   "metadata": {},
   "outputs": [],
   "source": []
  },
  {
   "cell_type": "code",
   "execution_count": null,
   "id": "bdb25d5b-8d61-4352-961e-e2156100f487",
   "metadata": {},
   "outputs": [],
   "source": []
  },
  {
   "cell_type": "code",
   "execution_count": null,
   "id": "ff86ab65-6a26-45dd-8d79-23ab0b3b5985",
   "metadata": {},
   "outputs": [],
   "source": []
  },
  {
   "cell_type": "code",
   "execution_count": null,
   "id": "2fa80ba1-2caa-4a3e-80a1-c385a623ea39",
   "metadata": {},
   "outputs": [],
   "source": []
  },
  {
   "cell_type": "code",
   "execution_count": null,
   "id": "78969735-4213-47ec-b94d-2bbb0a97afa0",
   "metadata": {},
   "outputs": [],
   "source": []
  },
  {
   "cell_type": "code",
   "execution_count": null,
   "id": "363e7464-9af3-4b80-b3c3-06fe395ec6fa",
   "metadata": {},
   "outputs": [],
   "source": []
  },
  {
   "cell_type": "code",
   "execution_count": null,
   "id": "c9756564-244f-4058-a0b8-981616872280",
   "metadata": {},
   "outputs": [],
   "source": []
  },
  {
   "cell_type": "code",
   "execution_count": null,
   "id": "c5aa9467-e5e4-4d63-80b2-9769f1217368",
   "metadata": {},
   "outputs": [],
   "source": []
  },
  {
   "cell_type": "code",
   "execution_count": null,
   "id": "a2607a1f-898a-4d35-8c4a-6a92670ddf99",
   "metadata": {},
   "outputs": [],
   "source": []
  },
  {
   "cell_type": "code",
   "execution_count": null,
   "id": "8bd4e73a-da01-4ea7-9c54-076c4c5ac7a1",
   "metadata": {},
   "outputs": [],
   "source": []
  },
  {
   "cell_type": "code",
   "execution_count": null,
   "id": "fec9e916-ab1f-415c-8c92-317e725691e3",
   "metadata": {},
   "outputs": [],
   "source": []
  },
  {
   "cell_type": "code",
   "execution_count": null,
   "id": "f0387e63-9011-46a5-b118-55e292115d44",
   "metadata": {},
   "outputs": [],
   "source": []
  },
  {
   "cell_type": "code",
   "execution_count": null,
   "id": "569b91f1-6b32-4b5d-80fa-8df700e83652",
   "metadata": {},
   "outputs": [],
   "source": []
  },
  {
   "cell_type": "code",
   "execution_count": null,
   "id": "51e8fd92-406c-4554-90ff-92351f9564b0",
   "metadata": {},
   "outputs": [],
   "source": []
  },
  {
   "cell_type": "code",
   "execution_count": null,
   "id": "f921dbe4-9973-487f-b726-4f6a3a3d9afe",
   "metadata": {},
   "outputs": [],
   "source": []
  },
  {
   "cell_type": "code",
   "execution_count": null,
   "id": "fd06341e-a7a2-4673-9e95-5084c4c995a7",
   "metadata": {},
   "outputs": [],
   "source": []
  },
  {
   "cell_type": "code",
   "execution_count": null,
   "id": "ed5ddaa1-cf22-4d16-8361-62285069e01f",
   "metadata": {},
   "outputs": [],
   "source": []
  },
  {
   "cell_type": "code",
   "execution_count": null,
   "id": "cc112a6c-3593-40cb-933e-057418fe80ef",
   "metadata": {},
   "outputs": [],
   "source": []
  },
  {
   "cell_type": "code",
   "execution_count": null,
   "id": "a0076e6b-3402-49b7-ad48-25a1a42ff636",
   "metadata": {},
   "outputs": [],
   "source": []
  },
  {
   "cell_type": "code",
   "execution_count": null,
   "id": "196034a4-5ae2-4db5-8503-f8a3a9df1d9b",
   "metadata": {},
   "outputs": [],
   "source": []
  },
  {
   "cell_type": "code",
   "execution_count": null,
   "id": "b2dd4153-1e07-47d9-bdb7-8a6722ee6af9",
   "metadata": {},
   "outputs": [],
   "source": []
  },
  {
   "cell_type": "code",
   "execution_count": null,
   "id": "f5a14a27-436a-4491-af99-29fe86fa2cf0",
   "metadata": {},
   "outputs": [],
   "source": []
  },
  {
   "cell_type": "code",
   "execution_count": null,
   "id": "03edf4bd-69a0-472c-bd46-2aa316b10126",
   "metadata": {},
   "outputs": [],
   "source": []
  },
  {
   "cell_type": "code",
   "execution_count": null,
   "id": "836541f8-5673-44fa-8fae-0444dee0396e",
   "metadata": {},
   "outputs": [],
   "source": []
  },
  {
   "cell_type": "code",
   "execution_count": null,
   "id": "0aa173c7-801c-440b-a6a5-a856be4c8bcb",
   "metadata": {},
   "outputs": [],
   "source": []
  },
  {
   "cell_type": "code",
   "execution_count": null,
   "id": "bc59133a-ab65-494a-ae2e-466bdb863282",
   "metadata": {},
   "outputs": [],
   "source": []
  },
  {
   "cell_type": "code",
   "execution_count": null,
   "id": "748d61ba-b2a0-48df-80b2-da7c38fffa38",
   "metadata": {},
   "outputs": [],
   "source": []
  },
  {
   "cell_type": "code",
   "execution_count": null,
   "id": "cf7347a7-5bc8-4b7a-acaa-7bddc22ab8e7",
   "metadata": {},
   "outputs": [],
   "source": []
  },
  {
   "cell_type": "code",
   "execution_count": null,
   "id": "c2e0ad87-5891-4e75-936b-f257e58be504",
   "metadata": {},
   "outputs": [],
   "source": []
  },
  {
   "cell_type": "code",
   "execution_count": null,
   "id": "18152a24-b096-4b23-9fbe-1fa91ded685a",
   "metadata": {},
   "outputs": [],
   "source": []
  },
  {
   "cell_type": "code",
   "execution_count": null,
   "id": "c4e6c494-dfe4-47cd-a91a-4adef0dc7290",
   "metadata": {},
   "outputs": [],
   "source": []
  },
  {
   "cell_type": "code",
   "execution_count": null,
   "id": "90e680d8-3a63-4fe9-b6df-860fe27060bf",
   "metadata": {},
   "outputs": [],
   "source": []
  },
  {
   "cell_type": "code",
   "execution_count": null,
   "id": "5fd27ead-04af-45a7-a95e-3ab5ca0ec21e",
   "metadata": {},
   "outputs": [],
   "source": []
  },
  {
   "cell_type": "code",
   "execution_count": null,
   "id": "73c05802-84b3-454c-a1e5-7d680a7112d0",
   "metadata": {},
   "outputs": [],
   "source": []
  },
  {
   "cell_type": "code",
   "execution_count": null,
   "id": "8ad3b8c7-7e8a-42cc-90f6-ac6889bb221b",
   "metadata": {},
   "outputs": [],
   "source": []
  },
  {
   "cell_type": "code",
   "execution_count": null,
   "id": "67b90c1b-a26d-4448-bb21-67d99cf6534c",
   "metadata": {},
   "outputs": [],
   "source": []
  },
  {
   "cell_type": "code",
   "execution_count": null,
   "id": "fb800f80-ec1d-4f01-a87b-0b5c7c33dedc",
   "metadata": {},
   "outputs": [],
   "source": []
  },
  {
   "cell_type": "code",
   "execution_count": null,
   "id": "cc85d166-2fbc-4cc0-b4f6-f29c6b0d2c65",
   "metadata": {},
   "outputs": [],
   "source": []
  },
  {
   "cell_type": "code",
   "execution_count": null,
   "id": "40b7f064-6380-4245-ae3d-d0f101cee9d7",
   "metadata": {},
   "outputs": [],
   "source": []
  },
  {
   "cell_type": "code",
   "execution_count": null,
   "id": "1b167df4-c0fa-41e1-8ec9-243f8aba198f",
   "metadata": {},
   "outputs": [],
   "source": []
  },
  {
   "cell_type": "code",
   "execution_count": null,
   "id": "31a7f9ea-dd67-4ad0-9f53-ba5b412a69c3",
   "metadata": {},
   "outputs": [],
   "source": []
  },
  {
   "cell_type": "code",
   "execution_count": null,
   "id": "efe0e9c7-319a-49d6-ba2e-7bbb2b183ff6",
   "metadata": {},
   "outputs": [],
   "source": []
  },
  {
   "cell_type": "code",
   "execution_count": null,
   "id": "55d8a579-9e1d-49a5-8fb6-b79cd56f4555",
   "metadata": {},
   "outputs": [],
   "source": []
  },
  {
   "cell_type": "code",
   "execution_count": null,
   "id": "026067f8-21fb-4695-bcba-da8fb560f6ac",
   "metadata": {},
   "outputs": [],
   "source": []
  },
  {
   "cell_type": "code",
   "execution_count": null,
   "id": "6268f0c4-49ad-47c2-84b7-a5b372638ba7",
   "metadata": {},
   "outputs": [],
   "source": []
  },
  {
   "cell_type": "code",
   "execution_count": null,
   "id": "81e9fe38-183e-4e93-b73f-14f76192fe6f",
   "metadata": {},
   "outputs": [],
   "source": []
  },
  {
   "cell_type": "code",
   "execution_count": null,
   "id": "b9412c22-bb3e-49c5-85c3-57931bb14deb",
   "metadata": {},
   "outputs": [],
   "source": []
  },
  {
   "cell_type": "code",
   "execution_count": null,
   "id": "d76e989e-2052-4e9d-bdbb-770704d825c8",
   "metadata": {},
   "outputs": [],
   "source": []
  },
  {
   "cell_type": "code",
   "execution_count": null,
   "id": "acd52a24-15ce-4f0a-9c5d-d28990e7ccf3",
   "metadata": {},
   "outputs": [],
   "source": []
  }
 ],
 "metadata": {
  "kernelspec": {
   "display_name": "Python 3",
   "language": "python",
   "name": "python3"
  },
  "language_info": {
   "codemirror_mode": {
    "name": "ipython",
    "version": 3
   },
   "file_extension": ".py",
   "mimetype": "text/x-python",
   "name": "python",
   "nbconvert_exporter": "python",
   "pygments_lexer": "ipython3",
   "version": "3.8.8"
  }
 },
 "nbformat": 4,
 "nbformat_minor": 5
}
