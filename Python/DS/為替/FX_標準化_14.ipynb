{
 "cells": [
  {
   "cell_type": "code",
   "execution_count": 1,
   "id": "4864a99e-110a-495c-a9f0-684fca0c97ce",
   "metadata": {},
   "outputs": [],
   "source": [
    "# ライブラリの取得\n",
    "import pandas as pd\n",
    "import numpy as np\n",
    "%matplotlib inline\n",
    "import matplotlib.pyplot as plt\n",
    "import seaborn as sns\n",
    "# sns.set(font=\"IPAexGothic\",style=\"white\")　多分いらなそう\n",
    "# import oandapy\n",
    "import configparser\n",
    "import datetime\n",
    "from datetime import datetime, timedelta\n",
    "\n",
    "import warnings\n",
    "warnings.simplefilter('ignore')\n",
    "\n",
    "# CSVデータの読み込み\n",
    "import os\n",
    "working_directory=os.getcwd()\n",
    "#print(working_directory)\n",
    "path_train=working_directory+'/train_finance.csv'\n",
    "path_test=working_directory+'/test_finance.csv'\n",
    "# path_test=working_directory+'/test_finance_last10elminate.csv'\n",
    "path_latest=working_directory+'/test_latest.csv'\n",
    "path_submit=working_directory+'/submit_finance.csv'\n",
    "\n",
    "#データフレームの生成\n",
    "df_train=pd.read_csv(path_train)\n",
    "df_test=pd.read_csv(path_test)\n",
    "df_latest=pd.read_csv(path_latest)\n",
    "df_submit=pd.read_csv(path_submit)"
   ]
  },
  {
   "cell_type": "code",
   "execution_count": 2,
   "id": "8ea6a89a-4d2b-4ed9-8e79-5fd8744dc710",
   "metadata": {},
   "outputs": [],
   "source": [
    "# Dateがobject型になっているので日付型に変換\n",
    "df_train['Date']=pd.to_datetime(df_train['Date'],format='%Y/%m/%d')\n",
    "df_test['Date']=pd.to_datetime(df_test['Date'],format='%Y/%m/%d')\n",
    "df_latest['Date']=pd.to_datetime(df_latest['Date'],format='%Y/%m/%d')"
   ]
  },
  {
   "cell_type": "code",
   "execution_count": 3,
   "id": "76b90fff-1164-4658-9e98-b04a27913fbb",
   "metadata": {},
   "outputs": [
    {
     "data": {
      "text/html": [
       "<div>\n",
       "<style scoped>\n",
       "    .dataframe tbody tr th:only-of-type {\n",
       "        vertical-align: middle;\n",
       "    }\n",
       "\n",
       "    .dataframe tbody tr th {\n",
       "        vertical-align: top;\n",
       "    }\n",
       "\n",
       "    .dataframe thead th {\n",
       "        text-align: right;\n",
       "    }\n",
       "</style>\n",
       "<table border=\"1\" class=\"dataframe\">\n",
       "  <thead>\n",
       "    <tr style=\"text-align: right;\">\n",
       "      <th></th>\n",
       "      <th>High</th>\n",
       "      <th>Low</th>\n",
       "      <th>Open</th>\n",
       "      <th>Close</th>\n",
       "    </tr>\n",
       "  </thead>\n",
       "  <tbody>\n",
       "    <tr>\n",
       "      <th>count</th>\n",
       "      <td>2074.000000</td>\n",
       "      <td>2074.000000</td>\n",
       "      <td>2074.000000</td>\n",
       "      <td>2074.000000</td>\n",
       "    </tr>\n",
       "    <tr>\n",
       "      <th>mean</th>\n",
       "      <td>124.078238</td>\n",
       "      <td>122.910559</td>\n",
       "      <td>123.526205</td>\n",
       "      <td>123.529490</td>\n",
       "    </tr>\n",
       "    <tr>\n",
       "      <th>std</th>\n",
       "      <td>9.210193</td>\n",
       "      <td>9.493319</td>\n",
       "      <td>9.188003</td>\n",
       "      <td>9.184970</td>\n",
       "    </tr>\n",
       "    <tr>\n",
       "      <th>min</th>\n",
       "      <td>108.520946</td>\n",
       "      <td>6.743457</td>\n",
       "      <td>107.993884</td>\n",
       "      <td>107.998923</td>\n",
       "    </tr>\n",
       "    <tr>\n",
       "      <th>25%</th>\n",
       "      <td>117.002707</td>\n",
       "      <td>115.863246</td>\n",
       "      <td>116.408944</td>\n",
       "      <td>116.427990</td>\n",
       "    </tr>\n",
       "    <tr>\n",
       "      <th>50%</th>\n",
       "      <td>123.242134</td>\n",
       "      <td>121.951219</td>\n",
       "      <td>122.590435</td>\n",
       "      <td>122.573382</td>\n",
       "    </tr>\n",
       "    <tr>\n",
       "      <th>75%</th>\n",
       "      <td>130.814157</td>\n",
       "      <td>129.393252</td>\n",
       "      <td>130.201913</td>\n",
       "      <td>130.179930</td>\n",
       "    </tr>\n",
       "    <tr>\n",
       "      <th>max</th>\n",
       "      <td>148.260942</td>\n",
       "      <td>146.834717</td>\n",
       "      <td>147.832063</td>\n",
       "      <td>147.888796</td>\n",
       "    </tr>\n",
       "  </tbody>\n",
       "</table>\n",
       "</div>"
      ],
      "text/plain": [
       "              High          Low         Open        Close\n",
       "count  2074.000000  2074.000000  2074.000000  2074.000000\n",
       "mean    124.078238   122.910559   123.526205   123.529490\n",
       "std       9.210193     9.493319     9.188003     9.184970\n",
       "min     108.520946     6.743457   107.993884   107.998923\n",
       "25%     117.002707   115.863246   116.408944   116.427990\n",
       "50%     123.242134   121.951219   122.590435   122.573382\n",
       "75%     130.814157   129.393252   130.201913   130.179930\n",
       "max     148.260942   146.834717   147.832063   147.888796"
      ]
     },
     "execution_count": 3,
     "metadata": {},
     "output_type": "execute_result"
    }
   ],
   "source": [
    "#データの確認\n",
    "df_train.describe()"
   ]
  },
  {
   "cell_type": "markdown",
   "id": "096e0c85-d7f2-4b9d-aa4f-ef71af78fe6f",
   "metadata": {},
   "source": [
    "### Train異常値処理"
   ]
  },
  {
   "cell_type": "code",
   "execution_count": 4,
   "id": "d13dadaa-240d-4506-b8fc-176a8606da83",
   "metadata": {},
   "outputs": [],
   "source": [
    "# Trainデータ異常値\n",
    "df_train[(df_train['Low']<10)]\n",
    "no=df_train[(df_train['Low']<10)].index\n",
    "# print(f'欠損データ確認(df_train)\\n{typeInfo(no)}\\n')"
   ]
  },
  {
   "cell_type": "code",
   "execution_count": 5,
   "id": "a69a0e56-fefb-43da-9982-d1bcb698d7d0",
   "metadata": {},
   "outputs": [
    {
     "name": "stdout",
     "output_type": "stream",
     "text": [
      "異常値▲1日\n",
      "           Date        High         Low        Open       Close\n",
      "1114 2008-03-14  145.059359  143.736202  144.513188  144.465784\n",
      "\n",
      "異常値当日\n",
      "           Date        High       Low        Open       Close\n",
      "1115 2008-03-17  147.103265  6.743457  145.669288  145.669288\n",
      "\n",
      "異常値+1日\n",
      "           Date        High         Low        Open      Close\n",
      "1116 2008-03-18  146.409411  144.456764  145.660125  144.83676\n",
      "\n"
     ]
    }
   ],
   "source": [
    "# df_train.iloc[no:no+1] #インデックス指定されてるものでないとilocの範囲指定に使えない\n",
    "print(f'異常値▲1日\\n{df_train.iloc[no-1]}\\n')\n",
    "print(f'異常値当日\\n{df_train.iloc[no]}\\n')\n",
    "print(f'異常値+1日\\n{df_train.iloc[no+1]}\\n')"
   ]
  },
  {
   "cell_type": "code",
   "execution_count": 6,
   "id": "8968ec2a-720a-4387-8e63-60eaba100838",
   "metadata": {},
   "outputs": [
    {
     "data": {
      "text/plain": [
       "144.09648299217224"
      ]
     },
     "execution_count": 6,
     "metadata": {},
     "output_type": "execute_result"
    }
   ],
   "source": [
    "ave =(df_train['Low'][1114]+df_train['Low'][1116]) /2\n",
    "ave"
   ]
  },
  {
   "cell_type": "code",
   "execution_count": 7,
   "id": "1e11d5a3-ad05-462a-a802-ef2e6bfdfcbc",
   "metadata": {},
   "outputs": [
    {
     "data": {
      "text/plain": [
       "144.09648299217224"
      ]
     },
     "execution_count": 7,
     "metadata": {},
     "output_type": "execute_result"
    }
   ],
   "source": [
    "df_train['Low'][1115]=ave\n",
    "df_train['Low'][1115]"
   ]
  },
  {
   "cell_type": "code",
   "execution_count": 8,
   "id": "27928e00-d8a3-487f-82d2-5a25f7bcbc98",
   "metadata": {},
   "outputs": [
    {
     "data": {
      "text/html": [
       "<div>\n",
       "<style scoped>\n",
       "    .dataframe tbody tr th:only-of-type {\n",
       "        vertical-align: middle;\n",
       "    }\n",
       "\n",
       "    .dataframe tbody tr th {\n",
       "        vertical-align: top;\n",
       "    }\n",
       "\n",
       "    .dataframe thead th {\n",
       "        text-align: right;\n",
       "    }\n",
       "</style>\n",
       "<table border=\"1\" class=\"dataframe\">\n",
       "  <thead>\n",
       "    <tr style=\"text-align: right;\">\n",
       "      <th></th>\n",
       "      <th>High</th>\n",
       "      <th>Low</th>\n",
       "      <th>Open</th>\n",
       "      <th>Close</th>\n",
       "    </tr>\n",
       "  </thead>\n",
       "  <tbody>\n",
       "    <tr>\n",
       "      <th>count</th>\n",
       "      <td>2074.000000</td>\n",
       "      <td>2074.000000</td>\n",
       "      <td>2074.000000</td>\n",
       "      <td>2074.000000</td>\n",
       "    </tr>\n",
       "    <tr>\n",
       "      <th>mean</th>\n",
       "      <td>124.078238</td>\n",
       "      <td>122.976785</td>\n",
       "      <td>123.526205</td>\n",
       "      <td>123.529490</td>\n",
       "    </tr>\n",
       "    <tr>\n",
       "      <th>std</th>\n",
       "      <td>9.210193</td>\n",
       "      <td>9.155624</td>\n",
       "      <td>9.188003</td>\n",
       "      <td>9.184970</td>\n",
       "    </tr>\n",
       "    <tr>\n",
       "      <th>min</th>\n",
       "      <td>108.520946</td>\n",
       "      <td>107.748581</td>\n",
       "      <td>107.993884</td>\n",
       "      <td>107.998923</td>\n",
       "    </tr>\n",
       "    <tr>\n",
       "      <th>25%</th>\n",
       "      <td>117.002707</td>\n",
       "      <td>115.876669</td>\n",
       "      <td>116.408944</td>\n",
       "      <td>116.427990</td>\n",
       "    </tr>\n",
       "    <tr>\n",
       "      <th>50%</th>\n",
       "      <td>123.242134</td>\n",
       "      <td>121.954434</td>\n",
       "      <td>122.590435</td>\n",
       "      <td>122.573382</td>\n",
       "    </tr>\n",
       "    <tr>\n",
       "      <th>75%</th>\n",
       "      <td>130.814157</td>\n",
       "      <td>129.426294</td>\n",
       "      <td>130.201913</td>\n",
       "      <td>130.179930</td>\n",
       "    </tr>\n",
       "    <tr>\n",
       "      <th>max</th>\n",
       "      <td>148.260942</td>\n",
       "      <td>146.834717</td>\n",
       "      <td>147.832063</td>\n",
       "      <td>147.888796</td>\n",
       "    </tr>\n",
       "  </tbody>\n",
       "</table>\n",
       "</div>"
      ],
      "text/plain": [
       "              High          Low         Open        Close\n",
       "count  2074.000000  2074.000000  2074.000000  2074.000000\n",
       "mean    124.078238   122.976785   123.526205   123.529490\n",
       "std       9.210193     9.155624     9.188003     9.184970\n",
       "min     108.520946   107.748581   107.993884   107.998923\n",
       "25%     117.002707   115.876669   116.408944   116.427990\n",
       "50%     123.242134   121.954434   122.590435   122.573382\n",
       "75%     130.814157   129.426294   130.201913   130.179930\n",
       "max     148.260942   146.834717   147.832063   147.888796"
      ]
     },
     "execution_count": 8,
     "metadata": {},
     "output_type": "execute_result"
    }
   ],
   "source": [
    "df_train.describe()"
   ]
  },
  {
   "cell_type": "code",
   "execution_count": null,
   "id": "1b97e789-56ac-4d7f-b9ec-1cdf3bc81d64",
   "metadata": {},
   "outputs": [],
   "source": []
  },
  {
   "cell_type": "code",
   "execution_count": 9,
   "id": "7cea939b-e54c-488b-9e8c-5b2ec3edfc5f",
   "metadata": {},
   "outputs": [
    {
     "data": {
      "text/html": [
       "<div>\n",
       "<style scoped>\n",
       "    .dataframe tbody tr th:only-of-type {\n",
       "        vertical-align: middle;\n",
       "    }\n",
       "\n",
       "    .dataframe tbody tr th {\n",
       "        vertical-align: top;\n",
       "    }\n",
       "\n",
       "    .dataframe thead th {\n",
       "        text-align: right;\n",
       "    }\n",
       "</style>\n",
       "<table border=\"1\" class=\"dataframe\">\n",
       "  <thead>\n",
       "    <tr style=\"text-align: right;\">\n",
       "      <th></th>\n",
       "      <th>High</th>\n",
       "      <th>Low</th>\n",
       "      <th>Open</th>\n",
       "      <th>Close</th>\n",
       "    </tr>\n",
       "  </thead>\n",
       "  <tbody>\n",
       "    <tr>\n",
       "      <th>count</th>\n",
       "      <td>1246.000000</td>\n",
       "      <td>1246.000000</td>\n",
       "      <td>1246.000000</td>\n",
       "      <td>1246.000000</td>\n",
       "    </tr>\n",
       "    <tr>\n",
       "      <th>mean</th>\n",
       "      <td>111.424603</td>\n",
       "      <td>110.675657</td>\n",
       "      <td>111.069958</td>\n",
       "      <td>111.070373</td>\n",
       "    </tr>\n",
       "    <tr>\n",
       "      <th>std</th>\n",
       "      <td>9.206534</td>\n",
       "      <td>9.270658</td>\n",
       "      <td>9.215541</td>\n",
       "      <td>9.214999</td>\n",
       "    </tr>\n",
       "    <tr>\n",
       "      <th>min</th>\n",
       "      <td>96.767439</td>\n",
       "      <td>70.352906</td>\n",
       "      <td>96.364197</td>\n",
       "      <td>96.357173</td>\n",
       "    </tr>\n",
       "    <tr>\n",
       "      <th>25%</th>\n",
       "      <td>103.722807</td>\n",
       "      <td>103.064503</td>\n",
       "      <td>103.422443</td>\n",
       "      <td>103.422154</td>\n",
       "    </tr>\n",
       "    <tr>\n",
       "      <th>50%</th>\n",
       "      <td>108.456692</td>\n",
       "      <td>107.796669</td>\n",
       "      <td>108.091687</td>\n",
       "      <td>108.082215</td>\n",
       "    </tr>\n",
       "    <tr>\n",
       "      <th>75%</th>\n",
       "      <td>120.690221</td>\n",
       "      <td>119.751722</td>\n",
       "      <td>120.218867</td>\n",
       "      <td>120.219641</td>\n",
       "    </tr>\n",
       "    <tr>\n",
       "      <th>max</th>\n",
       "      <td>129.417693</td>\n",
       "      <td>128.691531</td>\n",
       "      <td>128.851618</td>\n",
       "      <td>128.858797</td>\n",
       "    </tr>\n",
       "  </tbody>\n",
       "</table>\n",
       "</div>"
      ],
      "text/plain": [
       "              High          Low         Open        Close\n",
       "count  1246.000000  1246.000000  1246.000000  1246.000000\n",
       "mean    111.424603   110.675657   111.069958   111.070373\n",
       "std       9.206534     9.270658     9.215541     9.214999\n",
       "min      96.767439    70.352906    96.364197    96.357173\n",
       "25%     103.722807   103.064503   103.422443   103.422154\n",
       "50%     108.456692   107.796669   108.091687   108.082215\n",
       "75%     120.690221   119.751722   120.218867   120.219641\n",
       "max     129.417693   128.691531   128.851618   128.858797"
      ]
     },
     "execution_count": 9,
     "metadata": {},
     "output_type": "execute_result"
    }
   ],
   "source": [
    "#データの確認\n",
    "df_test.describe()"
   ]
  },
  {
   "cell_type": "markdown",
   "id": "c68c8289-597f-4195-a5de-acfe3df9b912",
   "metadata": {},
   "source": [
    "## 目的変数の追加"
   ]
  },
  {
   "cell_type": "code",
   "execution_count": 10,
   "id": "f9a57ae5-a6db-4399-b968-86b643049205",
   "metadata": {},
   "outputs": [
    {
     "data": {
      "text/html": [
       "<div>\n",
       "<style scoped>\n",
       "    .dataframe tbody tr th:only-of-type {\n",
       "        vertical-align: middle;\n",
       "    }\n",
       "\n",
       "    .dataframe tbody tr th {\n",
       "        vertical-align: top;\n",
       "    }\n",
       "\n",
       "    .dataframe thead th {\n",
       "        text-align: right;\n",
       "    }\n",
       "</style>\n",
       "<table border=\"1\" class=\"dataframe\">\n",
       "  <thead>\n",
       "    <tr style=\"text-align: right;\">\n",
       "      <th></th>\n",
       "      <th>Date</th>\n",
       "      <th>High</th>\n",
       "      <th>Low</th>\n",
       "      <th>Open</th>\n",
       "      <th>Close</th>\n",
       "      <th>Up</th>\n",
       "    </tr>\n",
       "  </thead>\n",
       "  <tbody>\n",
       "    <tr>\n",
       "      <th>0</th>\n",
       "      <td>2003-12-01</td>\n",
       "      <td>111.370639</td>\n",
       "      <td>110.482062</td>\n",
       "      <td>111.314347</td>\n",
       "      <td>110.676377</td>\n",
       "      <td>0</td>\n",
       "    </tr>\n",
       "    <tr>\n",
       "      <th>1</th>\n",
       "      <td>2003-12-02</td>\n",
       "      <td>112.008532</td>\n",
       "      <td>110.500532</td>\n",
       "      <td>110.639316</td>\n",
       "      <td>111.823016</td>\n",
       "      <td>1</td>\n",
       "    </tr>\n",
       "    <tr>\n",
       "      <th>2</th>\n",
       "      <td>2003-12-03</td>\n",
       "      <td>112.202814</td>\n",
       "      <td>111.712284</td>\n",
       "      <td>111.832477</td>\n",
       "      <td>112.137524</td>\n",
       "      <td>0</td>\n",
       "    </tr>\n",
       "    <tr>\n",
       "      <th>3</th>\n",
       "      <td>2003-12-04</td>\n",
       "      <td>112.332259</td>\n",
       "      <td>111.406851</td>\n",
       "      <td>112.110343</td>\n",
       "      <td>111.748717</td>\n",
       "      <td>0</td>\n",
       "    </tr>\n",
       "    <tr>\n",
       "      <th>4</th>\n",
       "      <td>2003-12-05</td>\n",
       "      <td>112.766375</td>\n",
       "      <td>111.609834</td>\n",
       "      <td>111.721723</td>\n",
       "      <td>112.729259</td>\n",
       "      <td>0</td>\n",
       "    </tr>\n",
       "    <tr>\n",
       "      <th>5</th>\n",
       "      <td>2003-12-08</td>\n",
       "      <td>113.220483</td>\n",
       "      <td>112.425105</td>\n",
       "      <td>112.553700</td>\n",
       "      <td>113.035088</td>\n",
       "      <td>1</td>\n",
       "    </tr>\n",
       "    <tr>\n",
       "      <th>6</th>\n",
       "      <td>2003-12-09</td>\n",
       "      <td>113.562415</td>\n",
       "      <td>112.831025</td>\n",
       "      <td>113.044748</td>\n",
       "      <td>113.312017</td>\n",
       "      <td>0</td>\n",
       "    </tr>\n",
       "    <tr>\n",
       "      <th>7</th>\n",
       "      <td>2003-12-10</td>\n",
       "      <td>113.460736</td>\n",
       "      <td>112.498941</td>\n",
       "      <td>113.303692</td>\n",
       "      <td>112.766375</td>\n",
       "      <td>1</td>\n",
       "    </tr>\n",
       "    <tr>\n",
       "      <th>8</th>\n",
       "      <td>2003-12-11</td>\n",
       "      <td>113.173376</td>\n",
       "      <td>112.137524</td>\n",
       "      <td>112.766375</td>\n",
       "      <td>113.072392</td>\n",
       "      <td>1</td>\n",
       "    </tr>\n",
       "    <tr>\n",
       "      <th>9</th>\n",
       "      <td>2003-12-12</td>\n",
       "      <td>113.830743</td>\n",
       "      <td>112.970206</td>\n",
       "      <td>113.100037</td>\n",
       "      <td>113.580543</td>\n",
       "      <td>0</td>\n",
       "    </tr>\n",
       "  </tbody>\n",
       "</table>\n",
       "</div>"
      ],
      "text/plain": [
       "        Date        High         Low        Open       Close  Up\n",
       "0 2003-12-01  111.370639  110.482062  111.314347  110.676377   0\n",
       "1 2003-12-02  112.008532  110.500532  110.639316  111.823016   1\n",
       "2 2003-12-03  112.202814  111.712284  111.832477  112.137524   0\n",
       "3 2003-12-04  112.332259  111.406851  112.110343  111.748717   0\n",
       "4 2003-12-05  112.766375  111.609834  111.721723  112.729259   0\n",
       "5 2003-12-08  113.220483  112.425105  112.553700  113.035088   1\n",
       "6 2003-12-09  113.562415  112.831025  113.044748  113.312017   0\n",
       "7 2003-12-10  113.460736  112.498941  113.303692  112.766375   1\n",
       "8 2003-12-11  113.173376  112.137524  112.766375  113.072392   1\n",
       "9 2003-12-12  113.830743  112.970206  113.100037  113.580543   0"
      ]
     },
     "execution_count": 10,
     "metadata": {},
     "output_type": "execute_result"
    }
   ],
   "source": [
    "#翌日始値と当日終値の差のカラム（shift）を作成\n",
    "df_train[\"Shift\"]=df_train[\"Open\"].shift(-1)\n",
    "\n",
    "#目的変数の作成\n",
    "df_train[\"Diff\"]=df_train[\"Shift\"]-df_train[\"Close\"]\n",
    "df_train[\"Up\"]=df_train[\"Diff\"].apply(lambda x:1 if x>=0 else 0)\n",
    "df_train=df_train.dropna()\n",
    "df_train=df_train[[\"Date\",\"High\",\"Low\",\"Open\",\"Close\",\"Up\"]]\n",
    "df_train.head(10)"
   ]
  },
  {
   "cell_type": "markdown",
   "id": "f774aa72-004a-499f-88ff-92996db2020f",
   "metadata": {},
   "source": [
    "##　差分の追加"
   ]
  },
  {
   "cell_type": "code",
   "execution_count": 11,
   "id": "ba975de7-1bfe-411d-a11a-5c5f642e9207",
   "metadata": {},
   "outputs": [],
   "source": [
    "# df_train['Body'] = df_train['Open'] - df_train['Close']\n",
    "# df_test['Body'] = df_test['Open'] - df_test['Close']"
   ]
  },
  {
   "cell_type": "code",
   "execution_count": 12,
   "id": "b226774c-8be8-43d3-93c6-18f43050b558",
   "metadata": {},
   "outputs": [
    {
     "data": {
      "text/html": [
       "<div>\n",
       "<style scoped>\n",
       "    .dataframe tbody tr th:only-of-type {\n",
       "        vertical-align: middle;\n",
       "    }\n",
       "\n",
       "    .dataframe tbody tr th {\n",
       "        vertical-align: top;\n",
       "    }\n",
       "\n",
       "    .dataframe thead th {\n",
       "        text-align: right;\n",
       "    }\n",
       "</style>\n",
       "<table border=\"1\" class=\"dataframe\">\n",
       "  <thead>\n",
       "    <tr style=\"text-align: right;\">\n",
       "      <th></th>\n",
       "      <th>Date</th>\n",
       "      <th>High</th>\n",
       "      <th>Low</th>\n",
       "      <th>Open</th>\n",
       "      <th>Close</th>\n",
       "      <th>Up</th>\n",
       "    </tr>\n",
       "  </thead>\n",
       "  <tbody>\n",
       "    <tr>\n",
       "      <th>0</th>\n",
       "      <td>2003-12-01</td>\n",
       "      <td>111.370639</td>\n",
       "      <td>110.482062</td>\n",
       "      <td>111.314347</td>\n",
       "      <td>110.676377</td>\n",
       "      <td>0</td>\n",
       "    </tr>\n",
       "    <tr>\n",
       "      <th>1</th>\n",
       "      <td>2003-12-02</td>\n",
       "      <td>112.008532</td>\n",
       "      <td>110.500532</td>\n",
       "      <td>110.639316</td>\n",
       "      <td>111.823016</td>\n",
       "      <td>1</td>\n",
       "    </tr>\n",
       "    <tr>\n",
       "      <th>2</th>\n",
       "      <td>2003-12-03</td>\n",
       "      <td>112.202814</td>\n",
       "      <td>111.712284</td>\n",
       "      <td>111.832477</td>\n",
       "      <td>112.137524</td>\n",
       "      <td>0</td>\n",
       "    </tr>\n",
       "    <tr>\n",
       "      <th>3</th>\n",
       "      <td>2003-12-04</td>\n",
       "      <td>112.332259</td>\n",
       "      <td>111.406851</td>\n",
       "      <td>112.110343</td>\n",
       "      <td>111.748717</td>\n",
       "      <td>0</td>\n",
       "    </tr>\n",
       "    <tr>\n",
       "      <th>4</th>\n",
       "      <td>2003-12-05</td>\n",
       "      <td>112.766375</td>\n",
       "      <td>111.609834</td>\n",
       "      <td>111.721723</td>\n",
       "      <td>112.729259</td>\n",
       "      <td>0</td>\n",
       "    </tr>\n",
       "  </tbody>\n",
       "</table>\n",
       "</div>"
      ],
      "text/plain": [
       "        Date        High         Low        Open       Close  Up\n",
       "0 2003-12-01  111.370639  110.482062  111.314347  110.676377   0\n",
       "1 2003-12-02  112.008532  110.500532  110.639316  111.823016   1\n",
       "2 2003-12-03  112.202814  111.712284  111.832477  112.137524   0\n",
       "3 2003-12-04  112.332259  111.406851  112.110343  111.748717   0\n",
       "4 2003-12-05  112.766375  111.609834  111.721723  112.729259   0"
      ]
     },
     "execution_count": 12,
     "metadata": {},
     "output_type": "execute_result"
    }
   ],
   "source": [
    "df_train.head()"
   ]
  },
  {
   "cell_type": "code",
   "execution_count": 13,
   "id": "cf53ab06-d040-4203-abb7-6e74e396c1d0",
   "metadata": {},
   "outputs": [
    {
     "data": {
      "text/html": [
       "<div>\n",
       "<style scoped>\n",
       "    .dataframe tbody tr th:only-of-type {\n",
       "        vertical-align: middle;\n",
       "    }\n",
       "\n",
       "    .dataframe tbody tr th {\n",
       "        vertical-align: top;\n",
       "    }\n",
       "\n",
       "    .dataframe thead th {\n",
       "        text-align: right;\n",
       "    }\n",
       "</style>\n",
       "<table border=\"1\" class=\"dataframe\">\n",
       "  <thead>\n",
       "    <tr style=\"text-align: right;\">\n",
       "      <th></th>\n",
       "      <th>Date</th>\n",
       "      <th>High</th>\n",
       "      <th>Low</th>\n",
       "      <th>Open</th>\n",
       "      <th>Close</th>\n",
       "    </tr>\n",
       "  </thead>\n",
       "  <tbody>\n",
       "    <tr>\n",
       "      <th>0</th>\n",
       "      <td>2011-12-15</td>\n",
       "      <td>120.703596</td>\n",
       "      <td>119.907182</td>\n",
       "      <td>120.132990</td>\n",
       "      <td>120.139231</td>\n",
       "    </tr>\n",
       "    <tr>\n",
       "      <th>1</th>\n",
       "      <td>2011-12-16</td>\n",
       "      <td>121.027367</td>\n",
       "      <td>120.314249</td>\n",
       "      <td>120.527453</td>\n",
       "      <td>120.524311</td>\n",
       "    </tr>\n",
       "    <tr>\n",
       "      <th>2</th>\n",
       "      <td>2011-12-19</td>\n",
       "      <td>120.629617</td>\n",
       "      <td>120.111145</td>\n",
       "      <td>120.582444</td>\n",
       "      <td>120.591872</td>\n",
       "    </tr>\n",
       "    <tr>\n",
       "      <th>3</th>\n",
       "      <td>2011-12-20</td>\n",
       "      <td>121.470779</td>\n",
       "      <td>120.221987</td>\n",
       "      <td>120.323633</td>\n",
       "      <td>120.322078</td>\n",
       "    </tr>\n",
       "    <tr>\n",
       "      <th>4</th>\n",
       "      <td>2011-12-21</td>\n",
       "      <td>122.046150</td>\n",
       "      <td>120.513328</td>\n",
       "      <td>121.063789</td>\n",
       "      <td>121.063789</td>\n",
       "    </tr>\n",
       "  </tbody>\n",
       "</table>\n",
       "</div>"
      ],
      "text/plain": [
       "        Date        High         Low        Open       Close\n",
       "0 2011-12-15  120.703596  119.907182  120.132990  120.139231\n",
       "1 2011-12-16  121.027367  120.314249  120.527453  120.524311\n",
       "2 2011-12-19  120.629617  120.111145  120.582444  120.591872\n",
       "3 2011-12-20  121.470779  120.221987  120.323633  120.322078\n",
       "4 2011-12-21  122.046150  120.513328  121.063789  121.063789"
      ]
     },
     "execution_count": 13,
     "metadata": {},
     "output_type": "execute_result"
    }
   ],
   "source": [
    "df_test.head()"
   ]
  },
  {
   "cell_type": "code",
   "execution_count": null,
   "id": "7cd96f53-2e1f-497e-8a51-5f195c7f0b65",
   "metadata": {},
   "outputs": [],
   "source": []
  },
  {
   "cell_type": "markdown",
   "id": "de448434-fef7-4a69-b2ea-038baf52c032",
   "metadata": {},
   "source": [
    "## 単純移動平均の追加"
   ]
  },
  {
   "cell_type": "code",
   "execution_count": 14,
   "id": "574165e7-65e5-42a9-ac80-7ccf0b9182bb",
   "metadata": {},
   "outputs": [],
   "source": [
    "#　移動平均の期間\n",
    "span01=6\n",
    "# span02=6\n",
    "# span03=12"
   ]
  },
  {
   "cell_type": "code",
   "execution_count": 15,
   "id": "bda26016-a71c-4e9d-8047-10ff5f5ecbab",
   "metadata": {},
   "outputs": [],
   "source": [
    "df_train['SMA01']=df_train['Close'].rolling(window=span01).mean()\n",
    "df_test['SMA01']=df_test['Close'].rolling(window=span01).mean()\n",
    "\n",
    "# df_train['SMA02']=df_train['Close'].rolling(window=span01).mean()\n",
    "# df_test['SMA02']=df_test['Close'].rolling(window=span01).mean()\n",
    "\n",
    "# df_train['SMA03']=df_train['Close'].rolling(window=span01).mean()\n",
    "# df_test['SMA03']=df_test['Close'].rolling(window=span01).mean()"
   ]
  },
  {
   "cell_type": "code",
   "execution_count": null,
   "id": "bd10db65-db4c-4b3c-bb69-37a419b4c8c1",
   "metadata": {},
   "outputs": [],
   "source": []
  },
  {
   "cell_type": "code",
   "execution_count": 16,
   "id": "236ea96e-c66e-425d-9492-7804c865b819",
   "metadata": {},
   "outputs": [
    {
     "name": "stdout",
     "output_type": "stream",
     "text": [
      "train\n",
      "           Date        High         Low        Open       Close  Up  \\\n",
      "0    2003-12-01  111.370639  110.482062  111.314347  110.676377   0   \n",
      "1    2003-12-02  112.008532  110.500532  110.639316  111.823016   1   \n",
      "2    2003-12-03  112.202814  111.712284  111.832477  112.137524   0   \n",
      "3    2003-12-04  112.332259  111.406851  112.110343  111.748717   0   \n",
      "4    2003-12-05  112.766375  111.609834  111.721723  112.729259   0   \n",
      "...         ...         ...         ...         ...         ...  ..   \n",
      "2068 2011-12-07  124.436662  123.521080  124.061165  124.061165   0   \n",
      "2069 2011-12-08  124.476855  123.126484  123.959751  123.984661   0   \n",
      "2070 2011-12-09  124.227770  122.895824  123.445260  123.445260   1   \n",
      "2071 2011-12-12  123.745819  122.202555  123.681290  123.687906   0   \n",
      "2072 2011-12-13  122.393352  121.174807  121.782641  121.832361   0   \n",
      "\n",
      "           SMA01  \n",
      "0            NaN  \n",
      "1            NaN  \n",
      "2            NaN  \n",
      "3            NaN  \n",
      "4            NaN  \n",
      "...          ...  \n",
      "2068  124.031256  \n",
      "2069  124.154053  \n",
      "2070  124.002202  \n",
      "2071  123.855345  \n",
      "2072  123.473057  \n",
      "\n",
      "[2073 rows x 7 columns]\n",
      "\n",
      "test\n",
      "           Date        High         Low        Open       Close       SMA01\n",
      "0    2011-12-15  120.703596  119.907182  120.132990  120.139231         NaN\n",
      "1    2011-12-16  121.027367  120.314249  120.527453  120.524311         NaN\n",
      "2    2011-12-19  120.629617  120.111145  120.582444  120.591872         NaN\n",
      "3    2011-12-20  121.470779  120.221987  120.323633  120.322078         NaN\n",
      "4    2011-12-21  122.046150  120.513328  121.063789  121.063789         NaN\n",
      "...         ...         ...         ...         ...         ...         ...\n",
      "1241 2019-12-19  103.067513  102.766359  102.822331  102.822331  103.061430\n",
      "1242 2019-12-26  102.720708  102.515796  102.629538  102.632956  102.999143\n",
      "1243 2019-12-27  103.421288  102.674990  102.686502  102.685356  102.868197\n",
      "1244 2019-12-30  103.791471  103.429382  103.429382  103.436318  102.957373\n",
      "1245 2019-12-31  103.979324  103.606639  103.641461  103.621249  103.058080\n",
      "\n",
      "[1246 rows x 6 columns]\n",
      "\n"
     ]
    }
   ],
   "source": [
    "# \n",
    "print(f'train\\n{df_train}\\n')\n",
    "print(f'test\\n{df_test}\\n')"
   ]
  },
  {
   "cell_type": "code",
   "execution_count": 17,
   "id": "ae9c8e51-1da9-42da-ab69-939fcabd98b6",
   "metadata": {},
   "outputs": [],
   "source": [
    "# 移動平均1日目を取り合えす終値で埋める\n",
    "df_train['SMA01'][0]=df_train['Close'][0]\n",
    "df_test['SMA01'][0]=df_test['Close'][0]\n",
    "\n",
    "# df_train['SMA02'][0]=df_train['Close'][0]\n",
    "# df_test['SMA02'][0]=df_test['Close'][0]\n",
    "\n",
    "# df_train['SMA03'][0]=df_train['Close'][0]\n",
    "# df_test['SMA03'][0]=df_test['Close'][0]"
   ]
  },
  {
   "cell_type": "code",
   "execution_count": 18,
   "id": "5cdf214f-a636-4b2b-8144-7748b2206ee9",
   "metadata": {},
   "outputs": [
    {
     "name": "stdout",
     "output_type": "stream",
     "text": [
      "train\n",
      "           Date        High         Low        Open       Close  Up  \\\n",
      "0    2003-12-01  111.370639  110.482062  111.314347  110.676377   0   \n",
      "1    2003-12-02  112.008532  110.500532  110.639316  111.823016   1   \n",
      "2    2003-12-03  112.202814  111.712284  111.832477  112.137524   0   \n",
      "3    2003-12-04  112.332259  111.406851  112.110343  111.748717   0   \n",
      "4    2003-12-05  112.766375  111.609834  111.721723  112.729259   0   \n",
      "...         ...         ...         ...         ...         ...  ..   \n",
      "2068 2011-12-07  124.436662  123.521080  124.061165  124.061165   0   \n",
      "2069 2011-12-08  124.476855  123.126484  123.959751  123.984661   0   \n",
      "2070 2011-12-09  124.227770  122.895824  123.445260  123.445260   1   \n",
      "2071 2011-12-12  123.745819  122.202555  123.681290  123.687906   0   \n",
      "2072 2011-12-13  122.393352  121.174807  121.782641  121.832361   0   \n",
      "\n",
      "           SMA01  \n",
      "0     110.676377  \n",
      "1            NaN  \n",
      "2            NaN  \n",
      "3            NaN  \n",
      "4            NaN  \n",
      "...          ...  \n",
      "2068  124.031256  \n",
      "2069  124.154053  \n",
      "2070  124.002202  \n",
      "2071  123.855345  \n",
      "2072  123.473057  \n",
      "\n",
      "[2073 rows x 7 columns]\n",
      "\n",
      "test\n",
      "           Date        High         Low        Open       Close       SMA01\n",
      "0    2011-12-15  120.703596  119.907182  120.132990  120.139231  120.139231\n",
      "1    2011-12-16  121.027367  120.314249  120.527453  120.524311         NaN\n",
      "2    2011-12-19  120.629617  120.111145  120.582444  120.591872         NaN\n",
      "3    2011-12-20  121.470779  120.221987  120.323633  120.322078         NaN\n",
      "4    2011-12-21  122.046150  120.513328  121.063789  121.063789         NaN\n",
      "...         ...         ...         ...         ...         ...         ...\n",
      "1241 2019-12-19  103.067513  102.766359  102.822331  102.822331  103.061430\n",
      "1242 2019-12-26  102.720708  102.515796  102.629538  102.632956  102.999143\n",
      "1243 2019-12-27  103.421288  102.674990  102.686502  102.685356  102.868197\n",
      "1244 2019-12-30  103.791471  103.429382  103.429382  103.436318  102.957373\n",
      "1245 2019-12-31  103.979324  103.606639  103.641461  103.621249  103.058080\n",
      "\n",
      "[1246 rows x 6 columns]\n",
      "\n"
     ]
    }
   ],
   "source": [
    "# 結果\n",
    "print(f'train\\n{df_train}\\n')\n",
    "print(f'test\\n{df_test}\\n')"
   ]
  },
  {
   "cell_type": "code",
   "execution_count": 19,
   "id": "79d2d0c2-e21f-4267-b4cd-52ed44579ceb",
   "metadata": {},
   "outputs": [],
   "source": [
    "#線形補間\n",
    "df_train=df_train.interpolate()\n",
    "df_test=df_test.interpolate()"
   ]
  },
  {
   "cell_type": "code",
   "execution_count": 20,
   "id": "77821a81-14fa-49b4-bfe0-b347a203ada9",
   "metadata": {},
   "outputs": [
    {
     "name": "stdout",
     "output_type": "stream",
     "text": [
      "train\n",
      "           Date        High         Low        Open       Close  Up  \\\n",
      "0    2003-12-01  111.370639  110.482062  111.314347  110.676377   0   \n",
      "1    2003-12-02  112.008532  110.500532  110.639316  111.823016   1   \n",
      "2    2003-12-03  112.202814  111.712284  111.832477  112.137524   0   \n",
      "3    2003-12-04  112.332259  111.406851  112.110343  111.748717   0   \n",
      "4    2003-12-05  112.766375  111.609834  111.721723  112.729259   0   \n",
      "...         ...         ...         ...         ...         ...  ..   \n",
      "2068 2011-12-07  124.436662  123.521080  124.061165  124.061165   0   \n",
      "2069 2011-12-08  124.476855  123.126484  123.959751  123.984661   0   \n",
      "2070 2011-12-09  124.227770  122.895824  123.445260  123.445260   1   \n",
      "2071 2011-12-12  123.745819  122.202555  123.681290  123.687906   0   \n",
      "2072 2011-12-13  122.393352  121.174807  121.782641  121.832361   0   \n",
      "\n",
      "           SMA01  \n",
      "0     110.676377  \n",
      "1     110.946101  \n",
      "2     111.215825  \n",
      "3     111.485549  \n",
      "4     111.755273  \n",
      "...          ...  \n",
      "2068  124.031256  \n",
      "2069  124.154053  \n",
      "2070  124.002202  \n",
      "2071  123.855345  \n",
      "2072  123.473057  \n",
      "\n",
      "[2073 rows x 7 columns]\n",
      "\n",
      "test\n",
      "           Date        High         Low        Open       Close       SMA01\n",
      "0    2011-12-15  120.703596  119.907182  120.132990  120.139231  120.139231\n",
      "1    2011-12-16  121.027367  120.314249  120.527453  120.524311  120.220100\n",
      "2    2011-12-19  120.629617  120.111145  120.582444  120.591872  120.300969\n",
      "3    2011-12-20  121.470779  120.221987  120.323633  120.322078  120.381838\n",
      "4    2011-12-21  122.046150  120.513328  121.063789  121.063789  120.462707\n",
      "...         ...         ...         ...         ...         ...         ...\n",
      "1241 2019-12-19  103.067513  102.766359  102.822331  102.822331  103.061430\n",
      "1242 2019-12-26  102.720708  102.515796  102.629538  102.632956  102.999143\n",
      "1243 2019-12-27  103.421288  102.674990  102.686502  102.685356  102.868197\n",
      "1244 2019-12-30  103.791471  103.429382  103.429382  103.436318  102.957373\n",
      "1245 2019-12-31  103.979324  103.606639  103.641461  103.621249  103.058080\n",
      "\n",
      "[1246 rows x 6 columns]\n",
      "\n"
     ]
    }
   ],
   "source": [
    "# 結果\n",
    "print(f'train\\n{df_train}\\n')\n",
    "print(f'test\\n{df_test}\\n')"
   ]
  },
  {
   "cell_type": "markdown",
   "id": "654067ef-9793-41d9-be50-353bdbc2996d",
   "metadata": {},
   "source": [
    "## ボリンジャーバンド"
   ]
  },
  {
   "cell_type": "code",
   "execution_count": 21,
   "id": "07925b56-e2ad-47c0-a30c-daca98bf653c",
   "metadata": {},
   "outputs": [],
   "source": [
    "df_train['mean'] = df_train['Close'].rolling(window=span01).mean()\n",
    "df_train['std'] = df_train['Close'].rolling(window=span01).std()\n",
    "df_train['upper'] = df_train['mean'] + (df_train['std'] * 2)\n",
    "df_train['lower'] = df_train['mean'] - (df_train['std'] * 2)\n",
    "\n",
    "df_test['mean'] = df_test['Close'].rolling(window=span01).mean()\n",
    "df_test['std'] = df_test['Close'].rolling(window=span01).std()\n",
    "df_test['upper'] = df_test['mean'] + (df_test['std'] * 2)\n",
    "df_test['lower'] = df_test['mean'] - (df_test['std'] * 2)"
   ]
  },
  {
   "cell_type": "code",
   "execution_count": 22,
   "id": "fe88c473-c7a7-46cf-a6bc-5b3ac9de8130",
   "metadata": {},
   "outputs": [],
   "source": [
    "# bband = pd.DataFrame()\n",
    "# bband['Close'] = df_train['Close']\n",
    "# bband['mean'] = df_train['Close'].rolling(window=span01).mean()\n",
    "# bband['std'] = df_train['Close'].rolling(window=span01).std()\n",
    "# bband['upper'] = bband['mean'] + (bband['std'] * 2)\n",
    "# bband['lower'] = bband['mean'] - (bband['std'] * 2)"
   ]
  },
  {
   "cell_type": "code",
   "execution_count": 23,
   "id": "8b8c40cf-4ea9-4f53-b768-d5558c192718",
   "metadata": {},
   "outputs": [
    {
     "data": {
      "text/html": [
       "<div>\n",
       "<style scoped>\n",
       "    .dataframe tbody tr th:only-of-type {\n",
       "        vertical-align: middle;\n",
       "    }\n",
       "\n",
       "    .dataframe tbody tr th {\n",
       "        vertical-align: top;\n",
       "    }\n",
       "\n",
       "    .dataframe thead th {\n",
       "        text-align: right;\n",
       "    }\n",
       "</style>\n",
       "<table border=\"1\" class=\"dataframe\">\n",
       "  <thead>\n",
       "    <tr style=\"text-align: right;\">\n",
       "      <th></th>\n",
       "      <th>Date</th>\n",
       "      <th>High</th>\n",
       "      <th>Low</th>\n",
       "      <th>Open</th>\n",
       "      <th>Close</th>\n",
       "      <th>Up</th>\n",
       "      <th>SMA01</th>\n",
       "      <th>mean</th>\n",
       "      <th>std</th>\n",
       "      <th>upper</th>\n",
       "      <th>lower</th>\n",
       "    </tr>\n",
       "  </thead>\n",
       "  <tbody>\n",
       "    <tr>\n",
       "      <th>18</th>\n",
       "      <td>2003-12-25</td>\n",
       "      <td>115.348160</td>\n",
       "      <td>115.098423</td>\n",
       "      <td>115.227460</td>\n",
       "      <td>115.144273</td>\n",
       "      <td>1</td>\n",
       "      <td>114.866415</td>\n",
       "      <td>114.866415</td>\n",
       "      <td>0.259252</td>\n",
       "      <td>115.384918</td>\n",
       "      <td>114.347912</td>\n",
       "    </tr>\n",
       "    <tr>\n",
       "      <th>19</th>\n",
       "      <td>2003-12-26</td>\n",
       "      <td>115.356794</td>\n",
       "      <td>114.949671</td>\n",
       "      <td>115.162908</td>\n",
       "      <td>114.995399</td>\n",
       "      <td>1</td>\n",
       "      <td>114.880224</td>\n",
       "      <td>114.880224</td>\n",
       "      <td>0.264356</td>\n",
       "      <td>115.408937</td>\n",
       "      <td>114.351511</td>\n",
       "    </tr>\n",
       "    <tr>\n",
       "      <th>20</th>\n",
       "      <td>2003-12-29</td>\n",
       "      <td>115.698759</td>\n",
       "      <td>114.976819</td>\n",
       "      <td>115.013991</td>\n",
       "      <td>115.476325</td>\n",
       "      <td>1</td>\n",
       "      <td>115.032777</td>\n",
       "      <td>115.032777</td>\n",
       "      <td>0.304376</td>\n",
       "      <td>115.641529</td>\n",
       "      <td>114.424024</td>\n",
       "    </tr>\n",
       "    <tr>\n",
       "      <th>21</th>\n",
       "      <td>2003-12-30</td>\n",
       "      <td>116.207494</td>\n",
       "      <td>115.467680</td>\n",
       "      <td>115.495071</td>\n",
       "      <td>116.077697</td>\n",
       "      <td>1</td>\n",
       "      <td>115.264014</td>\n",
       "      <td>115.264014</td>\n",
       "      <td>0.472642</td>\n",
       "      <td>116.209297</td>\n",
       "      <td>114.318730</td>\n",
       "    </tr>\n",
       "    <tr>\n",
       "      <th>22</th>\n",
       "      <td>2003-12-31</td>\n",
       "      <td>117.002707</td>\n",
       "      <td>115.903164</td>\n",
       "      <td>116.087908</td>\n",
       "      <td>116.457671</td>\n",
       "      <td>1</td>\n",
       "      <td>115.556920</td>\n",
       "      <td>115.556920</td>\n",
       "      <td>0.584663</td>\n",
       "      <td>116.726247</td>\n",
       "      <td>114.387594</td>\n",
       "    </tr>\n",
       "    <tr>\n",
       "      <th>23</th>\n",
       "      <td>2004-01-01</td>\n",
       "      <td>116.623592</td>\n",
       "      <td>115.384129</td>\n",
       "      <td>116.457671</td>\n",
       "      <td>116.382942</td>\n",
       "      <td>1</td>\n",
       "      <td>115.755718</td>\n",
       "      <td>115.755718</td>\n",
       "      <td>0.635583</td>\n",
       "      <td>117.026884</td>\n",
       "      <td>114.484552</td>\n",
       "    </tr>\n",
       "    <tr>\n",
       "      <th>24</th>\n",
       "      <td>2004-01-02</td>\n",
       "      <td>116.809152</td>\n",
       "      <td>115.874130</td>\n",
       "      <td>116.382942</td>\n",
       "      <td>116.382942</td>\n",
       "      <td>1</td>\n",
       "      <td>115.962163</td>\n",
       "      <td>115.962163</td>\n",
       "      <td>0.597270</td>\n",
       "      <td>117.156703</td>\n",
       "      <td>114.767623</td>\n",
       "    </tr>\n",
       "  </tbody>\n",
       "</table>\n",
       "</div>"
      ],
      "text/plain": [
       "         Date        High         Low        Open       Close  Up       SMA01  \\\n",
       "18 2003-12-25  115.348160  115.098423  115.227460  115.144273   1  114.866415   \n",
       "19 2003-12-26  115.356794  114.949671  115.162908  114.995399   1  114.880224   \n",
       "20 2003-12-29  115.698759  114.976819  115.013991  115.476325   1  115.032777   \n",
       "21 2003-12-30  116.207494  115.467680  115.495071  116.077697   1  115.264014   \n",
       "22 2003-12-31  117.002707  115.903164  116.087908  116.457671   1  115.556920   \n",
       "23 2004-01-01  116.623592  115.384129  116.457671  116.382942   1  115.755718   \n",
       "24 2004-01-02  116.809152  115.874130  116.382942  116.382942   1  115.962163   \n",
       "\n",
       "          mean       std       upper       lower  \n",
       "18  114.866415  0.259252  115.384918  114.347912  \n",
       "19  114.880224  0.264356  115.408937  114.351511  \n",
       "20  115.032777  0.304376  115.641529  114.424024  \n",
       "21  115.264014  0.472642  116.209297  114.318730  \n",
       "22  115.556920  0.584663  116.726247  114.387594  \n",
       "23  115.755718  0.635583  117.026884  114.484552  \n",
       "24  115.962163  0.597270  117.156703  114.767623  "
      ]
     },
     "execution_count": 23,
     "metadata": {},
     "output_type": "execute_result"
    }
   ],
   "source": [
    "df_train[18:25]"
   ]
  },
  {
   "cell_type": "code",
   "execution_count": 24,
   "id": "0daa1328-912f-42c3-bef8-458c7bb6341a",
   "metadata": {},
   "outputs": [
    {
     "data": {
      "text/plain": [
       "[<matplotlib.lines.Line2D at 0x7ff0f6a6ba00>,\n",
       " <matplotlib.lines.Line2D at 0x7ff0f6a6baf0>,\n",
       " <matplotlib.lines.Line2D at 0x7ff0f6a6bbb0>,\n",
       " <matplotlib.lines.Line2D at 0x7ff0f6a6bc70>,\n",
       " <matplotlib.lines.Line2D at 0x7ff0f6a6bd30>]"
      ]
     },
     "execution_count": 24,
     "metadata": {},
     "output_type": "execute_result"
    },
    {
     "data": {
      "image/png": "[encoded data removed]",
      "text/plain": [
       "<Figure size 2160x720 with 1 Axes>"
      ]
     },
     "metadata": {
      "needs_background": "light"
     },
     "output_type": "display_data"
    }
   ],
   "source": [
    "bband=df_train\n",
    "drop = ['Date', 'High','Low', 'Open', 'SMA01', 'std',]\n",
    "bband = df_train.drop(columns=drop,axis=1) \n",
    "\n",
    "fig = plt.subplots(figsize=(30,10))\n",
    "# plt.title('Bollinger Band')\n",
    "# plt.ylabel('USD/JPY')\n",
    "plt.plot(bband)\n",
    "# plt.legend()"
   ]
  },
  {
   "cell_type": "code",
   "execution_count": 25,
   "id": "fb179fb7-f225-425e-83ab-9c189cdd6ff7",
   "metadata": {},
   "outputs": [
    {
     "data": {
      "text/html": [
       "<div>\n",
       "<style scoped>\n",
       "    .dataframe tbody tr th:only-of-type {\n",
       "        vertical-align: middle;\n",
       "    }\n",
       "\n",
       "    .dataframe tbody tr th {\n",
       "        vertical-align: top;\n",
       "    }\n",
       "\n",
       "    .dataframe thead th {\n",
       "        text-align: right;\n",
       "    }\n",
       "</style>\n",
       "<table border=\"1\" class=\"dataframe\">\n",
       "  <thead>\n",
       "    <tr style=\"text-align: right;\">\n",
       "      <th></th>\n",
       "      <th>Date</th>\n",
       "      <th>High</th>\n",
       "      <th>Low</th>\n",
       "      <th>Open</th>\n",
       "      <th>Close</th>\n",
       "      <th>Up</th>\n",
       "      <th>SMA01</th>\n",
       "      <th>mean</th>\n",
       "      <th>std</th>\n",
       "      <th>upper</th>\n",
       "      <th>lower</th>\n",
       "    </tr>\n",
       "  </thead>\n",
       "  <tbody>\n",
       "    <tr>\n",
       "      <th>0</th>\n",
       "      <td>2003-12-01</td>\n",
       "      <td>111.370639</td>\n",
       "      <td>110.482062</td>\n",
       "      <td>111.314347</td>\n",
       "      <td>110.676377</td>\n",
       "      <td>0</td>\n",
       "      <td>110.676377</td>\n",
       "      <td>NaN</td>\n",
       "      <td>NaN</td>\n",
       "      <td>NaN</td>\n",
       "      <td>NaN</td>\n",
       "    </tr>\n",
       "    <tr>\n",
       "      <th>1</th>\n",
       "      <td>2003-12-02</td>\n",
       "      <td>112.008532</td>\n",
       "      <td>110.500532</td>\n",
       "      <td>110.639316</td>\n",
       "      <td>111.823016</td>\n",
       "      <td>1</td>\n",
       "      <td>110.946101</td>\n",
       "      <td>NaN</td>\n",
       "      <td>NaN</td>\n",
       "      <td>NaN</td>\n",
       "      <td>NaN</td>\n",
       "    </tr>\n",
       "    <tr>\n",
       "      <th>2</th>\n",
       "      <td>2003-12-03</td>\n",
       "      <td>112.202814</td>\n",
       "      <td>111.712284</td>\n",
       "      <td>111.832477</td>\n",
       "      <td>112.137524</td>\n",
       "      <td>0</td>\n",
       "      <td>111.215825</td>\n",
       "      <td>NaN</td>\n",
       "      <td>NaN</td>\n",
       "      <td>NaN</td>\n",
       "      <td>NaN</td>\n",
       "    </tr>\n",
       "    <tr>\n",
       "      <th>3</th>\n",
       "      <td>2003-12-04</td>\n",
       "      <td>112.332259</td>\n",
       "      <td>111.406851</td>\n",
       "      <td>112.110343</td>\n",
       "      <td>111.748717</td>\n",
       "      <td>0</td>\n",
       "      <td>111.485549</td>\n",
       "      <td>NaN</td>\n",
       "      <td>NaN</td>\n",
       "      <td>NaN</td>\n",
       "      <td>NaN</td>\n",
       "    </tr>\n",
       "    <tr>\n",
       "      <th>4</th>\n",
       "      <td>2003-12-05</td>\n",
       "      <td>112.766375</td>\n",
       "      <td>111.609834</td>\n",
       "      <td>111.721723</td>\n",
       "      <td>112.729259</td>\n",
       "      <td>0</td>\n",
       "      <td>111.755273</td>\n",
       "      <td>NaN</td>\n",
       "      <td>NaN</td>\n",
       "      <td>NaN</td>\n",
       "      <td>NaN</td>\n",
       "    </tr>\n",
       "    <tr>\n",
       "      <th>...</th>\n",
       "      <td>...</td>\n",
       "      <td>...</td>\n",
       "      <td>...</td>\n",
       "      <td>...</td>\n",
       "      <td>...</td>\n",
       "      <td>...</td>\n",
       "      <td>...</td>\n",
       "      <td>...</td>\n",
       "      <td>...</td>\n",
       "      <td>...</td>\n",
       "      <td>...</td>\n",
       "    </tr>\n",
       "    <tr>\n",
       "      <th>2068</th>\n",
       "      <td>2011-12-07</td>\n",
       "      <td>124.436662</td>\n",
       "      <td>123.521080</td>\n",
       "      <td>124.061165</td>\n",
       "      <td>124.061165</td>\n",
       "      <td>0</td>\n",
       "      <td>124.031256</td>\n",
       "      <td>124.031256</td>\n",
       "      <td>0.460481</td>\n",
       "      <td>124.952218</td>\n",
       "      <td>123.110295</td>\n",
       "    </tr>\n",
       "    <tr>\n",
       "      <th>2069</th>\n",
       "      <td>2011-12-08</td>\n",
       "      <td>124.476855</td>\n",
       "      <td>123.126484</td>\n",
       "      <td>123.959751</td>\n",
       "      <td>123.984661</td>\n",
       "      <td>0</td>\n",
       "      <td>124.154053</td>\n",
       "      <td>124.154053</td>\n",
       "      <td>0.267667</td>\n",
       "      <td>124.689388</td>\n",
       "      <td>123.618718</td>\n",
       "    </tr>\n",
       "    <tr>\n",
       "      <th>2070</th>\n",
       "      <td>2011-12-09</td>\n",
       "      <td>124.227770</td>\n",
       "      <td>122.895824</td>\n",
       "      <td>123.445260</td>\n",
       "      <td>123.445260</td>\n",
       "      <td>1</td>\n",
       "      <td>124.002202</td>\n",
       "      <td>124.002202</td>\n",
       "      <td>0.369144</td>\n",
       "      <td>124.740490</td>\n",
       "      <td>123.263915</td>\n",
       "    </tr>\n",
       "    <tr>\n",
       "      <th>2071</th>\n",
       "      <td>2011-12-12</td>\n",
       "      <td>123.745819</td>\n",
       "      <td>122.202555</td>\n",
       "      <td>123.681290</td>\n",
       "      <td>123.687906</td>\n",
       "      <td>0</td>\n",
       "      <td>123.855345</td>\n",
       "      <td>123.855345</td>\n",
       "      <td>0.256670</td>\n",
       "      <td>124.368685</td>\n",
       "      <td>123.342005</td>\n",
       "    </tr>\n",
       "    <tr>\n",
       "      <th>2072</th>\n",
       "      <td>2011-12-13</td>\n",
       "      <td>122.393352</td>\n",
       "      <td>121.174807</td>\n",
       "      <td>121.782641</td>\n",
       "      <td>121.832361</td>\n",
       "      <td>0</td>\n",
       "      <td>123.473057</td>\n",
       "      <td>123.473057</td>\n",
       "      <td>0.833270</td>\n",
       "      <td>125.139596</td>\n",
       "      <td>121.806517</td>\n",
       "    </tr>\n",
       "  </tbody>\n",
       "</table>\n",
       "<p>2073 rows × 11 columns</p>\n",
       "</div>"
      ],
      "text/plain": [
       "           Date        High         Low        Open       Close  Up  \\\n",
       "0    2003-12-01  111.370639  110.482062  111.314347  110.676377   0   \n",
       "1    2003-12-02  112.008532  110.500532  110.639316  111.823016   1   \n",
       "2    2003-12-03  112.202814  111.712284  111.832477  112.137524   0   \n",
       "3    2003-12-04  112.332259  111.406851  112.110343  111.748717   0   \n",
       "4    2003-12-05  112.766375  111.609834  111.721723  112.729259   0   \n",
       "...         ...         ...         ...         ...         ...  ..   \n",
       "2068 2011-12-07  124.436662  123.521080  124.061165  124.061165   0   \n",
       "2069 2011-12-08  124.476855  123.126484  123.959751  123.984661   0   \n",
       "2070 2011-12-09  124.227770  122.895824  123.445260  123.445260   1   \n",
       "2071 2011-12-12  123.745819  122.202555  123.681290  123.687906   0   \n",
       "2072 2011-12-13  122.393352  121.174807  121.782641  121.832361   0   \n",
       "\n",
       "           SMA01        mean       std       upper       lower  \n",
       "0     110.676377         NaN       NaN         NaN         NaN  \n",
       "1     110.946101         NaN       NaN         NaN         NaN  \n",
       "2     111.215825         NaN       NaN         NaN         NaN  \n",
       "3     111.485549         NaN       NaN         NaN         NaN  \n",
       "4     111.755273         NaN       NaN         NaN         NaN  \n",
       "...          ...         ...       ...         ...         ...  \n",
       "2068  124.031256  124.031256  0.460481  124.952218  123.110295  \n",
       "2069  124.154053  124.154053  0.267667  124.689388  123.618718  \n",
       "2070  124.002202  124.002202  0.369144  124.740490  123.263915  \n",
       "2071  123.855345  123.855345  0.256670  124.368685  123.342005  \n",
       "2072  123.473057  123.473057  0.833270  125.139596  121.806517  \n",
       "\n",
       "[2073 rows x 11 columns]"
      ]
     },
     "execution_count": 25,
     "metadata": {},
     "output_type": "execute_result"
    }
   ],
   "source": [
    "df_train"
   ]
  },
  {
   "cell_type": "code",
   "execution_count": 26,
   "id": "8b2efeca-89c3-451c-859f-cde1172b310f",
   "metadata": {},
   "outputs": [],
   "source": [
    "# mean/std削除＋1日目を取り合えす終値で埋める\n",
    "drop = ['mean', 'std',]\n",
    "df_train = df_train.drop(columns=drop,axis=1) \n",
    "df_train['lower'][0]=df_train['Close'][0]\n",
    "df_train['upper'][0]=df_train['Close'][0]\n",
    "\n",
    "df_test = df_test.drop(columns=drop,axis=1) \n",
    "df_test['lower'][0]=df_test['Close'][0]\n",
    "df_test['upper'][0]=df_test['Close'][0]"
   ]
  },
  {
   "cell_type": "code",
   "execution_count": 27,
   "id": "e917d695-0f0f-48ca-ae0a-525287b2fe5f",
   "metadata": {},
   "outputs": [],
   "source": [
    "#線形補間\n",
    "df_train=df_train.interpolate()\n",
    "df_test=df_test.interpolate()"
   ]
  },
  {
   "cell_type": "code",
   "execution_count": 28,
   "id": "523eab18-9a03-4378-a2c8-78b20418419d",
   "metadata": {},
   "outputs": [
    {
     "name": "stdout",
     "output_type": "stream",
     "text": [
      "train\n",
      "           Date        High         Low        Open       Close  Up  \\\n",
      "0    2003-12-01  111.370639  110.482062  111.314347  110.676377   0   \n",
      "1    2003-12-02  112.008532  110.500532  110.639316  111.823016   1   \n",
      "2    2003-12-03  112.202814  111.712284  111.832477  112.137524   0   \n",
      "3    2003-12-04  112.332259  111.406851  112.110343  111.748717   0   \n",
      "4    2003-12-05  112.766375  111.609834  111.721723  112.729259   0   \n",
      "...         ...         ...         ...         ...         ...  ..   \n",
      "2068 2011-12-07  124.436662  123.521080  124.061165  124.061165   0   \n",
      "2069 2011-12-08  124.476855  123.126484  123.959751  123.984661   0   \n",
      "2070 2011-12-09  124.227770  122.895824  123.445260  123.445260   1   \n",
      "2071 2011-12-12  123.745819  122.202555  123.681290  123.687906   0   \n",
      "2072 2011-12-13  122.393352  121.174807  121.782641  121.832361   0   \n",
      "\n",
      "           SMA01       upper       lower  \n",
      "0     110.676377  110.676377  110.676377  \n",
      "1     110.946101  111.279080  110.613123  \n",
      "2     111.215825  111.881782  110.549868  \n",
      "3     111.485549  112.484485  110.486613  \n",
      "4     111.755273  113.087187  110.423359  \n",
      "...          ...         ...         ...  \n",
      "2068  124.031256  124.952218  123.110295  \n",
      "2069  124.154053  124.689388  123.618718  \n",
      "2070  124.002202  124.740490  123.263915  \n",
      "2071  123.855345  124.368685  123.342005  \n",
      "2072  123.473057  125.139596  121.806517  \n",
      "\n",
      "[2073 rows x 9 columns]\n",
      "\n",
      "test\n",
      "           Date        High         Low        Open       Close       SMA01  \\\n",
      "0    2011-12-15  120.703596  119.907182  120.132990  120.139231  120.139231   \n",
      "1    2011-12-16  121.027367  120.314249  120.527453  120.524311  120.220100   \n",
      "2    2011-12-19  120.629617  120.111145  120.582444  120.591872  120.300969   \n",
      "3    2011-12-20  121.470779  120.221987  120.323633  120.322078  120.381838   \n",
      "4    2011-12-21  122.046150  120.513328  121.063789  121.063789  120.462707   \n",
      "...         ...         ...         ...         ...         ...         ...   \n",
      "1241 2019-12-19  103.067513  102.766359  102.822331  102.822331  103.061430   \n",
      "1242 2019-12-26  102.720708  102.515796  102.629538  102.632956  102.999143   \n",
      "1243 2019-12-27  103.421288  102.674990  102.686502  102.685356  102.868197   \n",
      "1244 2019-12-30  103.791471  103.429382  103.429382  103.436318  102.957373   \n",
      "1245 2019-12-31  103.979324  103.606639  103.641461  103.621249  103.058080   \n",
      "\n",
      "           upper       lower  \n",
      "0     120.139231  120.139231  \n",
      "1     120.345543  120.094657  \n",
      "2     120.551855  120.050083  \n",
      "3     120.758168  120.005509  \n",
      "4     120.964480  119.960935  \n",
      "...          ...         ...  \n",
      "1241  103.520523  102.602337  \n",
      "1242  103.579331  102.418955  \n",
      "1243  103.261824  102.474571  \n",
      "1244  103.569014  102.345733  \n",
      "1245  103.879763  102.236397  \n",
      "\n",
      "[1246 rows x 8 columns]\n",
      "\n"
     ]
    }
   ],
   "source": [
    "# 結果\n",
    "print(f'train\\n{df_train}\\n')\n",
    "print(f'test\\n{df_test}\\n')"
   ]
  },
  {
   "cell_type": "code",
   "execution_count": null,
   "id": "9a9bf7e3-8e8a-4501-bd3e-0529d186658c",
   "metadata": {},
   "outputs": [],
   "source": []
  },
  {
   "cell_type": "code",
   "execution_count": null,
   "id": "5e1d9108-152a-4e39-b371-5e07767f783a",
   "metadata": {},
   "outputs": [],
   "source": []
  },
  {
   "cell_type": "markdown",
   "id": "9ae40957-fb61-41b4-91f0-1d9a927c3a9c",
   "metadata": {},
   "source": [
    "## 指数移動平滑平均(EMA)の追加"
   ]
  },
  {
   "cell_type": "code",
   "execution_count": 29,
   "id": "5a3b9ef6-60b3-4369-89b9-cffe0967221f",
   "metadata": {},
   "outputs": [],
   "source": [
    "# # EMA関数\n",
    "# def EMA(df,span):\n",
    "#     df[\"EMA\"] = df[\"Close\"].ewm(span=span).mean()\n",
    "#     return df"
   ]
  },
  {
   "cell_type": "code",
   "execution_count": 30,
   "id": "9d10678b-e4d6-4bc4-9680-1a1cf65725b3",
   "metadata": {},
   "outputs": [],
   "source": [
    "# EMAを計算する\n",
    "# df_train = EMA(df_train,span01)\n",
    "# df_test = EMA(df_test,span01)"
   ]
  },
  {
   "cell_type": "code",
   "execution_count": 31,
   "id": "6700a257-fa97-4fba-b76d-1bd4cf8c9b84",
   "metadata": {},
   "outputs": [],
   "source": [
    "df_train['EMA01']=df_train['Close'].ewm(span=span01, adjust=False).mean()\n",
    "df_test['EMA01']=df_test['Close'].ewm(span=span01, adjust=False).mean()\n",
    "\n",
    "# df_train['EMA02']=df_train['Close'].ewm(span=span02, adjust=False).mean()\n",
    "# df_test['EMA02']=df_test['Close'].ewm(span=span02, adjust=False).mean()\n",
    "\n",
    "# df_train['EMA03']=df_train['Close'].ewm(span=span03, adjust=False).mean()\n",
    "# df_test['EMA03']=df_test['Close'].ewm(span=span03, adjust=False).mean()"
   ]
  },
  {
   "cell_type": "code",
   "execution_count": null,
   "id": "cc47b9cf-180c-4b9c-8261-d3cf2f9349b5",
   "metadata": {},
   "outputs": [],
   "source": []
  },
  {
   "cell_type": "code",
   "execution_count": 32,
   "id": "6638bd50-61a9-4a31-aa5c-f6a897bb7ccd",
   "metadata": {},
   "outputs": [
    {
     "name": "stdout",
     "output_type": "stream",
     "text": [
      "train\n",
      "           Date        High         Low        Open       Close  Up  \\\n",
      "0    2003-12-01  111.370639  110.482062  111.314347  110.676377   0   \n",
      "1    2003-12-02  112.008532  110.500532  110.639316  111.823016   1   \n",
      "2    2003-12-03  112.202814  111.712284  111.832477  112.137524   0   \n",
      "3    2003-12-04  112.332259  111.406851  112.110343  111.748717   0   \n",
      "4    2003-12-05  112.766375  111.609834  111.721723  112.729259   0   \n",
      "...         ...         ...         ...         ...         ...  ..   \n",
      "2068 2011-12-07  124.436662  123.521080  124.061165  124.061165   0   \n",
      "2069 2011-12-08  124.476855  123.126484  123.959751  123.984661   0   \n",
      "2070 2011-12-09  124.227770  122.895824  123.445260  123.445260   1   \n",
      "2071 2011-12-12  123.745819  122.202555  123.681290  123.687906   0   \n",
      "2072 2011-12-13  122.393352  121.174807  121.782641  121.832361   0   \n",
      "\n",
      "           SMA01       upper       lower       EMA01  \n",
      "0     110.676377  110.676377  110.676377  110.676377  \n",
      "1     110.946101  111.279080  110.613123  111.003988  \n",
      "2     111.215825  111.881782  110.549868  111.327856  \n",
      "3     111.485549  112.484485  110.486613  111.448102  \n",
      "4     111.755273  113.087187  110.423359  111.814147  \n",
      "...          ...         ...         ...         ...  \n",
      "2068  124.031256  124.952218  123.110295  124.010246  \n",
      "2069  124.154053  124.689388  123.618718  124.002936  \n",
      "2070  124.002202  124.740490  123.263915  123.843600  \n",
      "2071  123.855345  124.368685  123.342005  123.799116  \n",
      "2072  123.473057  125.139596  121.806517  123.237186  \n",
      "\n",
      "[2073 rows x 10 columns]\n",
      "\n",
      "test\n",
      "           Date        High         Low        Open       Close       SMA01  \\\n",
      "0    2011-12-15  120.703596  119.907182  120.132990  120.139231  120.139231   \n",
      "1    2011-12-16  121.027367  120.314249  120.527453  120.524311  120.220100   \n",
      "2    2011-12-19  120.629617  120.111145  120.582444  120.591872  120.300969   \n",
      "3    2011-12-20  121.470779  120.221987  120.323633  120.322078  120.381838   \n",
      "4    2011-12-21  122.046150  120.513328  121.063789  121.063789  120.462707   \n",
      "...         ...         ...         ...         ...         ...         ...   \n",
      "1241 2019-12-19  103.067513  102.766359  102.822331  102.822331  103.061430   \n",
      "1242 2019-12-26  102.720708  102.515796  102.629538  102.632956  102.999143   \n",
      "1243 2019-12-27  103.421288  102.674990  102.686502  102.685356  102.868197   \n",
      "1244 2019-12-30  103.791471  103.429382  103.429382  103.436318  102.957373   \n",
      "1245 2019-12-31  103.979324  103.606639  103.641461  103.621249  103.058080   \n",
      "\n",
      "           upper       lower       EMA01  \n",
      "0     120.139231  120.139231  120.139231  \n",
      "1     120.345543  120.094657  120.249254  \n",
      "2     120.551855  120.050083  120.347145  \n",
      "3     120.758168  120.005509  120.339983  \n",
      "4     120.964480  119.960935  120.546785  \n",
      "...          ...         ...         ...  \n",
      "1241  103.520523  102.602337  102.921666  \n",
      "1242  103.579331  102.418955  102.839178  \n",
      "1243  103.261824  102.474571  102.795228  \n",
      "1244  103.569014  102.345733  102.978397  \n",
      "1245  103.879763  102.236397  103.162069  \n",
      "\n",
      "[1246 rows x 9 columns]\n",
      "\n"
     ]
    }
   ],
   "source": [
    "# 結果\n",
    "print(f'train\\n{df_train}\\n')\n",
    "print(f'test\\n{df_test}\\n')"
   ]
  },
  {
   "cell_type": "markdown",
   "id": "b542333f-a397-4df5-993c-37f64d2fd8a3",
   "metadata": {},
   "source": [
    "##　ピボットポイント"
   ]
  },
  {
   "cell_type": "code",
   "execution_count": 33,
   "id": "f7f58fb3-4347-4aa7-b24d-4458e6626585",
   "metadata": {},
   "outputs": [],
   "source": [
    "## PPをShiftしてるが使い方合ってるか不明\n",
    "df_train['PP'] = ((df_train['High'].shift(1) + df_train['Low'].shift(1) + df_train['Close'].shift(1)) / 3)\n",
    "df_train['R1'] = (2 * df_train['PP'] - df_train['Low'])\n",
    "df_train['S1'] = (2 * df_train['PP'] - df_train['High'])\n",
    "df_train['R2'] = (df_train['PP'] + df_train['High'] - df_train['Low'])\n",
    "df_train['S2'] = (df_train['PP'] - df_train['High'] + df_train['Low'])\n",
    "df_train['R3'] = (df_train['High'] + 2 * (df_train['PP'] -df_train['Low']))\n",
    "df_train['S3'] = (df_train['Low'] - 2 * (df_train['High'] - df_train['PP']))\n",
    "\n",
    "## PPをShiftしてるが使い方合ってるか不明\n",
    "df_test['PP'] = ((df_test['High'].shift(1) + df_test['Low'].shift(1) + df_test['Close'].shift(1)) / 3)\n",
    "df_test['R1'] = (2 * df_test['PP'] - df_test['Low'])\n",
    "df_test['S1'] = (2 * df_test['PP'] - df_test['High'])\n",
    "df_test['R2'] = (df_test['PP'] + df_test['High'] - df_test['Low'])\n",
    "df_test['S2'] = (df_test['PP'] - df_train['High'] + df_test['Low'])\n",
    "df_test['R3'] = (df_test['High'] + 2 * (df_test['PP'] -df_test['Low']))\n",
    "df_test['S3'] = (df_test['Low'] - 2 * (df_test['High'] - df_test['PP']))"
   ]
  },
  {
   "cell_type": "code",
   "execution_count": 34,
   "id": "0a2c147d-ee22-4dc5-aa5a-150e19991297",
   "metadata": {},
   "outputs": [],
   "source": [
    "# df_train['Close'].shift(1)"
   ]
  },
  {
   "cell_type": "code",
   "execution_count": 35,
   "id": "73073b34-079b-45b0-a302-913ec493e55e",
   "metadata": {},
   "outputs": [],
   "source": [
    "# 1日目を取り合えす終値で埋める\n",
    "df_train['PP'][0]=df_train['Close'][0]\n",
    "df_train['R1'][0]=df_train['Close'][0]\n",
    "df_train['S1'][0]=df_train['Close'][0]\n",
    "df_train['R2'][0]=df_train['Close'][0]\n",
    "df_train['S2'][0]=df_train['Close'][0]\n",
    "df_train['R3'][0]=df_train['Close'][0]\n",
    "df_train['S3'][0]=df_train['Close'][0]\n",
    "\n",
    "\n",
    "df_test['PP'][0]=df_test['Close'][0]\n",
    "df_test['R1'][0]=df_test['Close'][0]\n",
    "df_test['S1'][0]=df_test['Close'][0]\n",
    "df_test['R2'][0]=df_test['Close'][0]\n",
    "df_test['S2'][0]=df_test['Close'][0]\n",
    "df_test['R3'][0]=df_test['Close'][0]\n",
    "df_test['S3'][0]=df_test['Close'][0]"
   ]
  },
  {
   "cell_type": "code",
   "execution_count": 36,
   "id": "bd791bb3-ac11-46c3-a55e-7b0619ca8186",
   "metadata": {},
   "outputs": [],
   "source": [
    "#線形補間\n",
    "df_train=df_train.interpolate()\n",
    "df_test=df_test.interpolate()"
   ]
  },
  {
   "cell_type": "code",
   "execution_count": 37,
   "id": "ca81d2b0-3a57-42da-b502-07dc32c96f5a",
   "metadata": {},
   "outputs": [
    {
     "name": "stdout",
     "output_type": "stream",
     "text": [
      "train\n",
      "           Date        High         Low        Open       Close  Up  \\\n",
      "0    2003-12-01  111.370639  110.482062  111.314347  110.676377   0   \n",
      "1    2003-12-02  112.008532  110.500532  110.639316  111.823016   1   \n",
      "2    2003-12-03  112.202814  111.712284  111.832477  112.137524   0   \n",
      "3    2003-12-04  112.332259  111.406851  112.110343  111.748717   0   \n",
      "4    2003-12-05  112.766375  111.609834  111.721723  112.729259   0   \n",
      "...         ...         ...         ...         ...         ...  ..   \n",
      "2068 2011-12-07  124.436662  123.521080  124.061165  124.061165   0   \n",
      "2069 2011-12-08  124.476855  123.126484  123.959751  123.984661   0   \n",
      "2070 2011-12-09  124.227770  122.895824  123.445260  123.445260   1   \n",
      "2071 2011-12-12  123.745819  122.202555  123.681290  123.687906   0   \n",
      "2072 2011-12-13  122.393352  121.174807  121.782641  121.832361   0   \n",
      "\n",
      "           SMA01       upper       lower       EMA01          PP          R1  \\\n",
      "0     110.676377  110.676377  110.676377  110.676377  110.676377  110.676377   \n",
      "1     110.946101  111.279080  110.613123  111.003988  110.843026  111.185520   \n",
      "2     111.215825  111.881782  110.549868  111.327856  111.444027  111.175769   \n",
      "3     111.485549  112.484485  110.486613  111.448102  112.017541  112.628230   \n",
      "4     111.755273  113.087187  110.423359  111.814147  111.829276  112.048718   \n",
      "...          ...         ...         ...         ...         ...         ...   \n",
      "2068  124.031256  124.952218  123.110295  124.010246  123.801854  124.082627   \n",
      "2069  124.154053  124.689388  123.618718  124.002936  124.006303  124.886121   \n",
      "2070  124.002202  124.740490  123.263915  123.843600  123.862667  124.829509   \n",
      "2071  123.855345  124.368685  123.342005  123.799116  123.522951  124.843348   \n",
      "2072  123.473057  125.139596  121.806517  123.237186  123.212093  125.249379   \n",
      "\n",
      "              S1          R2          S2          R3          S3  \n",
      "0     110.676377  110.676377  110.676377  110.676377  110.676377  \n",
      "1     109.677520  112.351026  109.335026  112.693520  108.169520  \n",
      "2     110.685239  111.934556  110.953497  111.666299  110.194709  \n",
      "3     111.702823  112.942948  111.092134  113.553638  110.777416  \n",
      "4     110.892176  112.985817  110.672735  113.205259  109.735635  \n",
      "...          ...         ...         ...         ...         ...  \n",
      "2068  123.167045  124.717436  122.886271  124.998209  122.251462  \n",
      "2069  123.535750  125.356674  122.655931  126.236492  122.185378  \n",
      "2070  123.497564  125.194612  122.530721  126.161454  122.165618  \n",
      "2071  123.300084  125.066215  121.979687  126.386612  121.756820  \n",
      "2072  124.030834  124.430638  121.993548  126.467924  122.812289  \n",
      "\n",
      "[2073 rows x 17 columns]\n",
      "\n",
      "test\n",
      "           Date        High         Low        Open       Close       SMA01  \\\n",
      "0    2011-12-15  120.703596  119.907182  120.132990  120.139231  120.139231   \n",
      "1    2011-12-16  121.027367  120.314249  120.527453  120.524311  120.220100   \n",
      "2    2011-12-19  120.629617  120.111145  120.582444  120.591872  120.300969   \n",
      "3    2011-12-20  121.470779  120.221987  120.323633  120.322078  120.381838   \n",
      "4    2011-12-21  122.046150  120.513328  121.063789  121.063789  120.462707   \n",
      "...         ...         ...         ...         ...         ...         ...   \n",
      "1241 2019-12-19  103.067513  102.766359  102.822331  102.822331  103.061430   \n",
      "1242 2019-12-26  102.720708  102.515796  102.629538  102.632956  102.999143   \n",
      "1243 2019-12-27  103.421288  102.674990  102.686502  102.685356  102.868197   \n",
      "1244 2019-12-30  103.791471  103.429382  103.429382  103.436318  102.957373   \n",
      "1245 2019-12-31  103.979324  103.606639  103.641461  103.621249  103.058080   \n",
      "\n",
      "           upper       lower       EMA01          PP          R1          S1  \\\n",
      "0     120.139231  120.139231  120.139231  120.139231  120.139231  120.139231   \n",
      "1     120.345543  120.094657  120.249254  120.250003  120.185757  119.472639   \n",
      "2     120.551855  120.050083  120.347145  120.621976  121.132806  120.614334   \n",
      "3     120.758168  120.005509  120.339983  120.444212  120.666436  119.417644   \n",
      "4     120.964480  119.960935  120.546785  120.671615  120.829902  119.297080   \n",
      "...          ...         ...         ...         ...         ...         ...   \n",
      "1241  103.520523  102.602337  102.921666  103.027251  103.288142  102.986988   \n",
      "1242  103.579331  102.418955  102.839178  102.885401  103.255007  103.050095   \n",
      "1243  103.261824  102.474571  102.795228  102.623153  102.571316  101.825018   \n",
      "1244  103.569014  102.345733  102.978397  102.927211  102.425041  102.062952   \n",
      "1245  103.879763  102.236397  103.162069  103.552390  103.498142  103.125456   \n",
      "\n",
      "              R2          S2          R3          S3  \n",
      "0     120.139231  120.139231  120.139231  120.139231  \n",
      "1     120.963121  128.555720  120.898875  118.759521  \n",
      "2     121.140448  128.530307  121.651278  120.095862  \n",
      "3     121.693003  128.333941  121.915228  118.168852  \n",
      "4     122.204437  128.418568  122.362723  117.764258  \n",
      "...          ...         ...         ...         ...  \n",
      "1241  103.328405   79.308267  103.589297  102.685833  \n",
      "1242  103.090313   78.398330  103.459919  102.845183  \n",
      "1243  103.369451   66.085258  103.317614  101.078720  \n",
      "1244  103.289300   78.856559  102.787130  101.700863  \n",
      "1245  103.925076   81.027251  103.870827  102.752770  \n",
      "\n",
      "[1246 rows x 16 columns]\n",
      "\n"
     ]
    }
   ],
   "source": [
    "# 結果\n",
    "print(f'train\\n{df_train}\\n')\n",
    "print(f'test\\n{df_test}\\n')"
   ]
  },
  {
   "cell_type": "code",
   "execution_count": null,
   "id": "31a93742-af71-4f13-829f-17d2d847ddeb",
   "metadata": {},
   "outputs": [],
   "source": []
  },
  {
   "cell_type": "markdown",
   "id": "3c1128de-a2e9-400b-a2c3-fb3335831407",
   "metadata": {},
   "source": [
    "## RSIの追加"
   ]
  },
  {
   "cell_type": "code",
   "execution_count": 38,
   "id": "e433eab3-432b-46cf-b467-b17188ccbacb",
   "metadata": {},
   "outputs": [],
   "source": [
    "# # RSI関数\n",
    "# def RSI(df,span):\n",
    "#     #　終値の差分\n",
    "#     df_diff=df.diff()\n",
    "    \n",
    "#     # 値上幅と値下幅\n",
    "#     df_up, df_down = df_diff.copy(), df_diff.copy()\n",
    "#     df_up[df_up < 0] = 0\n",
    "#     df_down[df_down > 0] = 0\n",
    "#     df_down = df_down * -1\n",
    "    \n",
    "#     # 移動平均\n",
    "#     up_sma_01 = df_up.rolling(window=span01, center=False).mean()\n",
    "#     down_sma_01 = df_down.abs().rolling(window=span01, center=False).mean()\n",
    "\n",
    "#     # RSI\n",
    "#     df = up_sma_01 / (up_sma_01 + down_sma_01) * 100\n",
    "\n",
    "#     return df"
   ]
  },
  {
   "cell_type": "code",
   "execution_count": 39,
   "id": "6a7e14f7-ffde-4b59-adc8-cec09a7ea0bb",
   "metadata": {},
   "outputs": [],
   "source": [
    "# df_train['RSI01']=RSI(df_train['Close'],span01)\n",
    "# df_test['RSI01']=RSI(df_test['Close'],span01)"
   ]
  },
  {
   "cell_type": "code",
   "execution_count": null,
   "id": "745a6f04-d08b-4561-9824-74e7ae799d13",
   "metadata": {},
   "outputs": [],
   "source": []
  },
  {
   "cell_type": "code",
   "execution_count": 40,
   "id": "7e8ef28a-a0a8-404e-9016-906fa3000f60",
   "metadata": {},
   "outputs": [],
   "source": [
    "# df_train.to_csv('IdoHeikin.csv')"
   ]
  },
  {
   "cell_type": "code",
   "execution_count": null,
   "id": "a36fc9a7-40c2-41a7-b8d4-72ed11e6fb50",
   "metadata": {},
   "outputs": [],
   "source": []
  },
  {
   "cell_type": "code",
   "execution_count": null,
   "id": "78f260d0-4cba-4cbc-8252-64faa7d0eb85",
   "metadata": {},
   "outputs": [],
   "source": []
  },
  {
   "cell_type": "code",
   "execution_count": 41,
   "id": "e3dab164-6135-42d2-a68d-76a118a7c96b",
   "metadata": {},
   "outputs": [],
   "source": [
    "# # 結果\n",
    "# print(f'train\\n{df_train}\\n')\n",
    "# print(f'test\\n{df_test}\\n')"
   ]
  },
  {
   "cell_type": "code",
   "execution_count": 42,
   "id": "9232e7a4-1381-4f5e-80b6-6cd44fb985e9",
   "metadata": {},
   "outputs": [],
   "source": [
    "# #ブランクは取り敢えず50で埋める\n",
    "# df_train['RSI01']=df_train['RSI01'].fillna(50)\n",
    "# df_test['RSI01']=df_test['RSI01'].fillna(50)"
   ]
  },
  {
   "cell_type": "code",
   "execution_count": 43,
   "id": "5e5c49cd-d90d-4b34-be94-0624eae9da42",
   "metadata": {},
   "outputs": [],
   "source": [
    "# # 最初の行除外\n",
    "# df_train=df_train[span01:]"
   ]
  },
  {
   "cell_type": "code",
   "execution_count": 44,
   "id": "9723401c-eb7f-4287-ab91-961b5d4e872a",
   "metadata": {},
   "outputs": [],
   "source": [
    "# # 結果\n",
    "# print(f'train\\n{df_train}\\n')\n",
    "# print(f'test\\n{df_test}\\n')"
   ]
  },
  {
   "cell_type": "code",
   "execution_count": 45,
   "id": "c04dd78e-fa7b-454a-bdc9-f5cbe5a5acb4",
   "metadata": {},
   "outputs": [],
   "source": [
    "#  df_train.to_csv('IdoHeikin.csv')"
   ]
  },
  {
   "cell_type": "code",
   "execution_count": 46,
   "id": "178a5a39-49cb-4a89-8f40-296f70cb05cc",
   "metadata": {},
   "outputs": [],
   "source": [
    "# del df_train['RSI01']\n",
    "# del df_test['RSI01']"
   ]
  },
  {
   "cell_type": "code",
   "execution_count": null,
   "id": "10fa73cf-f11a-4acb-9147-97e1e5d3ece7",
   "metadata": {},
   "outputs": [],
   "source": []
  },
  {
   "cell_type": "markdown",
   "id": "607678fa-c337-4bfb-8d54-1f747835c56b",
   "metadata": {},
   "source": [
    "## MACEの追加"
   ]
  },
  {
   "cell_type": "code",
   "execution_count": 47,
   "id": "bd2eb2ae-b357-4e60-9a39-4683d8cbdb0a",
   "metadata": {},
   "outputs": [],
   "source": [
    "# # MACE関数\n",
    "# def macd(df):\n",
    "#     FastEMA_period = 12  # 短期EMAの期間\n",
    "#     SlowEMA_period = 26  # 長期EMAの期間\n",
    "# #     SignalSMA_period = 9  # SMAを取る期間\n",
    "#     SignalSMA_period = span01  # SMAを取る期間\n",
    "    \n",
    "#     df[\"MACD\"] = df[\"Close\"].ewm(span=FastEMA_period).mean() - df[\"Close\"].ewm(span=SlowEMA_period).mean()\n",
    "#     df[\"Signal\"] = df[\"MACD\"].rolling(SignalSMA_period).mean()\n",
    "#     return df"
   ]
  },
  {
   "cell_type": "code",
   "execution_count": 48,
   "id": "184a7b0d-e2a5-4ac7-97b3-982ea0a39d0c",
   "metadata": {},
   "outputs": [],
   "source": [
    "# # MACDを計算する\n",
    "# df_train = macd(df_train)\n",
    "# df_test = macd(df_test)"
   ]
  },
  {
   "cell_type": "code",
   "execution_count": 49,
   "id": "8213bf35-f90d-4985-bf2e-dd6f31d637eb",
   "metadata": {},
   "outputs": [],
   "source": [
    "# df_train.head(20)"
   ]
  },
  {
   "cell_type": "code",
   "execution_count": null,
   "id": "0c3d474b-d1c1-4c65-a0b7-2003d6f44aa7",
   "metadata": {},
   "outputs": [],
   "source": []
  },
  {
   "cell_type": "code",
   "execution_count": 50,
   "id": "b7579017-8a74-44e6-85be-c0ddb36fb9aa",
   "metadata": {},
   "outputs": [],
   "source": [
    "# df_test"
   ]
  },
  {
   "cell_type": "code",
   "execution_count": 51,
   "id": "ebd76287-e784-4aed-b17d-7aedadc857fc",
   "metadata": {},
   "outputs": [],
   "source": [
    "# import mpl_finance as mpf\n",
    "# # import mplfinance as mpf\n",
    "# # import matplotlib.finance\n",
    "# # from matplotlib.finance import candlestick_ohlc\n",
    " \n",
    "# # チャート定義\n",
    "# fig, ax = plt.subplots(2, figsize=(20, 10), sharex=True, gridspec_kw={'height_ratios': [3, 1]})\n",
    " \n",
    "# # ローソク足チャートをプロット\n",
    "# mpl_finance.candlestick_ohlc(ax[0], df.values, width=0.5, colorup='r', colordown='b')\n",
    " \n",
    "# # MACDをプロット\n",
    "# ax[1].plot(df_train[\"index\"], df_train[\"MACD\"], label=\"MACD\")\n",
    "# ax[1].plot(df_train[\"index\"], df_train[\"Signal\"], label=\"Signal\")\n",
    " \n",
    "# # X軸を調整\n",
    "# plt.xticks([x for x in range(len(df))], [x.strftime('%Y-%m-%d') for x in df.index])\n",
    "# fig.autofmt_xdate()\n",
    " \n",
    "# # 凡例表示, グリッド表示\n",
    "# for a in ax:\n",
    "#     a.legend()\n",
    "#     a.grid()\n",
    " \n",
    "# # グラフを表示\n",
    "# plt.show()"
   ]
  },
  {
   "cell_type": "code",
   "execution_count": null,
   "id": "e396b5ef-5ea3-46ea-8b4e-40ace98272c3",
   "metadata": {},
   "outputs": [],
   "source": []
  },
  {
   "cell_type": "markdown",
   "id": "14731667-b3ed-4ec0-8704-d056ffbfcba9",
   "metadata": {},
   "source": []
  },
  {
   "cell_type": "code",
   "execution_count": 52,
   "id": "c210c666-4596-4414-baca-964da2549928",
   "metadata": {},
   "outputs": [],
   "source": [
    "# df_train=df_train[span01-1:]\n",
    "# df_train"
   ]
  },
  {
   "cell_type": "markdown",
   "id": "add20621-0022-4f3a-8e70-63e157bc847c",
   "metadata": {},
   "source": [
    "## 多項式特徴量/多項式回帰/交互作用特徴量"
   ]
  },
  {
   "cell_type": "code",
   "execution_count": 53,
   "id": "795c7acc-a443-4867-9498-021b45c02c2b",
   "metadata": {},
   "outputs": [],
   "source": [
    "# EMAに多項式特徴量を適用してみる\n",
    "# df_train[\"EMA\"] = df_train[\"EMA\"] **2\n",
    "# df_test[\"EMA\"] = df_test[\"EMA\"] **2"
   ]
  },
  {
   "cell_type": "code",
   "execution_count": null,
   "id": "b57a0eb0-073d-4293-bc9d-e378b28f250f",
   "metadata": {},
   "outputs": [],
   "source": []
  },
  {
   "cell_type": "markdown",
   "id": "33d7add4-0877-43bc-be00-68aa12e1ba5d",
   "metadata": {},
   "source": [
    "## フィールド削除"
   ]
  },
  {
   "cell_type": "code",
   "execution_count": 54,
   "id": "29eb02e6-b4b2-4356-9520-4568471a5b98",
   "metadata": {},
   "outputs": [],
   "source": [
    "# mean/std削除＋1日目を取り合えす終値で埋める\n",
    "drop = ['upper', 'lower', 'PP','R1','S1','R2','S2','R3','S3','SMA01']\n",
    "df_train = df_train.drop(columns=drop,axis=1) \n",
    "\n",
    "df_test = df_test.drop(columns=drop,axis=1) "
   ]
  },
  {
   "cell_type": "code",
   "execution_count": null,
   "id": "689da734-e8ff-4535-a5e1-a143ebd76fff",
   "metadata": {},
   "outputs": [],
   "source": []
  },
  {
   "cell_type": "markdown",
   "id": "449b9143-061b-4b70-accd-3f78b78fe989",
   "metadata": {},
   "source": [
    "## Dateをインデックスに"
   ]
  },
  {
   "cell_type": "code",
   "execution_count": 55,
   "id": "9833aa5c-0287-4ba8-a989-11b7e917d489",
   "metadata": {},
   "outputs": [],
   "source": [
    "# Dateをインデックスに指定\n",
    "df_train.set_index('Date',inplace=True)\n",
    "df_test.set_index('Date',inplace=True)"
   ]
  },
  {
   "cell_type": "code",
   "execution_count": null,
   "id": "54816dcc-738d-41b7-9868-2ec775e0ebdf",
   "metadata": {},
   "outputs": [],
   "source": []
  },
  {
   "cell_type": "markdown",
   "id": "bd58fed2-b94c-48f1-ab15-8204c83faaf1",
   "metadata": {},
   "source": [
    "## 説明変数（株価を上下させる原因）と目的変数（結果どうなるか）にデータを分割"
   ]
  },
  {
   "cell_type": "code",
   "execution_count": 56,
   "id": "19726c36-11af-43ab-83af-91f129c71a7c",
   "metadata": {},
   "outputs": [
    {
     "name": "stdout",
     "output_type": "stream",
     "text": [
      "                  High         Low        Open       Close       EMA01\n",
      "Date                                                                  \n",
      "2003-12-01  111.370639  110.482062  111.314347  110.676377  110.676377\n",
      "2003-12-02  112.008532  110.500532  110.639316  111.823016  111.003988\n",
      "2003-12-03  112.202814  111.712284  111.832477  112.137524  111.327856\n",
      "2003-12-04  112.332259  111.406851  112.110343  111.748717  111.448102\n",
      "2003-12-05  112.766375  111.609834  111.721723  112.729259  111.814147\n",
      "Date\n",
      "2003-12-01    0\n",
      "2003-12-02    1\n",
      "2003-12-03    0\n",
      "2003-12-04    0\n",
      "2003-12-05    0\n",
      "Name: Up, dtype: int64\n"
     ]
    }
   ],
   "source": [
    "# 説明変数をX_dataに格納\n",
    "X_data = df_train.drop(columns=['Up'], inplace=False)\n",
    "\n",
    "# 目的変数をy_dataに格納\n",
    "y_data = df_train['Up']\n",
    "\n",
    "# X_dataとy_dataの先頭5行を確認\n",
    "print(X_data.head())\n",
    "print(y_data.head())"
   ]
  },
  {
   "cell_type": "code",
   "execution_count": 57,
   "id": "8bfd5c69-76e8-4b78-aef2-6e1bef67778f",
   "metadata": {},
   "outputs": [
    {
     "name": "stdout",
     "output_type": "stream",
     "text": [
      "(2073, 5)\n",
      "(2073,)\n"
     ]
    }
   ],
   "source": [
    "print(X_data.shape)\n",
    "print(y_data.shape)"
   ]
  },
  {
   "cell_type": "code",
   "execution_count": 58,
   "id": "5e7f5e47-d883-4ed0-94bb-69f77f0d1c2d",
   "metadata": {},
   "outputs": [
    {
     "name": "stdout",
     "output_type": "stream",
     "text": [
      "                  High         Low        Open       Close       EMA01\n",
      "Date                                                                  \n",
      "2011-12-15  120.703596  119.907182  120.132990  120.139231  120.139231\n",
      "2011-12-16  121.027367  120.314249  120.527453  120.524311  120.249254\n",
      "2011-12-19  120.629617  120.111145  120.582444  120.591872  120.347145\n",
      "2011-12-20  121.470779  120.221987  120.323633  120.322078  120.339983\n",
      "2011-12-21  122.046150  120.513328  121.063789  121.063789  120.546785\n",
      "(1246, 5)\n"
     ]
    }
   ],
   "source": [
    "# 評価用（Test)データ\n",
    "# 説明変数をX_testに格納\n",
    "X_test = df_test\n",
    "print(X_test.head())\n",
    "print(X_test.shape)"
   ]
  },
  {
   "cell_type": "code",
   "execution_count": null,
   "id": "597164f7-eacb-4ab8-a162-2976c430ae3e",
   "metadata": {},
   "outputs": [],
   "source": []
  },
  {
   "cell_type": "code",
   "execution_count": null,
   "id": "699e35c9-6be4-4d02-b7a6-2851b8289382",
   "metadata": {},
   "outputs": [],
   "source": []
  },
  {
   "cell_type": "markdown",
   "id": "b75bb808-41d0-4e20-9cb4-571cc1e46b9b",
   "metadata": {},
   "source": [
    "## 学習データ（train）と検証データ(val)にデータを分割"
   ]
  },
  {
   "cell_type": "code",
   "execution_count": 59,
   "id": "774a8553-70e2-429d-9055-b9afec4b5e6a",
   "metadata": {},
   "outputs": [],
   "source": [
    "# train_test_splitのインポート\n",
    "from sklearn.model_selection import train_test_split\n",
    "# 学習データと検証データに75:25の割合で2分割する\n",
    "X_train, X_val, y_train, y_val = train_test_split(X_data, y_data, test_size=0.25, shuffle=False)"
   ]
  },
  {
   "cell_type": "code",
   "execution_count": 60,
   "id": "5a1f23d5-b4bb-456c-9529-fc0ed50bc59c",
   "metadata": {},
   "outputs": [
    {
     "data": {
      "image/png": "[encoded data removed]",
      "text/plain": [
       "<Figure size 432x288 with 1 Axes>"
      ]
     },
     "metadata": {
      "needs_background": "light"
     },
     "output_type": "display_data"
    }
   ],
   "source": [
    "# 学習データのCloseの描画\n",
    "X_train['Close'].plot(kind='line')\n",
    "# 検証データのCloseの描画\n",
    "X_val['Close'].plot(kind='line')\n",
    "# 評価データのCloseの描画\n",
    "X_test['Close'].plot(kind='line')\n",
    "# 折れ線グラフの凡例を表示\n",
    "plt.legend(['Train', 'Val', 'Test'])\n",
    "# 描画の実行\n",
    "plt.show()"
   ]
  },
  {
   "cell_type": "code",
   "execution_count": null,
   "id": "194630d8-809d-40ab-8156-680c30461a4f",
   "metadata": {},
   "outputs": [],
   "source": []
  },
  {
   "cell_type": "markdown",
   "id": "13a7ea21-c337-45df-8dd3-001261453a57",
   "metadata": {},
   "source": [
    "## 6日分ごとにデータを抽出する"
   ]
  },
  {
   "cell_type": "code",
   "execution_count": 61,
   "id": "e8e665af-cb0c-413f-8081-1ccb29f90a8c",
   "metadata": {},
   "outputs": [],
   "source": [
    "# # 関数get_tの定義\n",
    "# def get_t(X, num_date):\n",
    "#     X_t_list = []\n",
    "#     for i in range(0, len(X) - num_date, 6): #Index(start,end,step)\n",
    "#         X_t = X.iloc[i:i+num_date, :]\n",
    "#         X_t_list.append(X_t)\n",
    "#     return X_t_list"
   ]
  },
  {
   "cell_type": "code",
   "execution_count": 62,
   "id": "44dda716-b915-4df4-9a33-74190dd9aa36",
   "metadata": {},
   "outputs": [],
   "source": [
    "# # 期間の設定\n",
    "# num_date = 6\n",
    "# # 関数get_tの呼び出し\n",
    "# X_t_list = get_t(X=X_train, num_date=num_date)"
   ]
  },
  {
   "cell_type": "code",
   "execution_count": null,
   "id": "ef7af1be-5581-4985-873b-089ce3db28d9",
   "metadata": {},
   "outputs": [],
   "source": []
  },
  {
   "cell_type": "markdown",
   "id": "4d5f99a3-a65a-463d-a6cf-969372007e09",
   "metadata": {},
   "source": [
    "### Trainは6日おきにする必要がないと思う(むしろ学習数が減る)ので修正"
   ]
  },
  {
   "cell_type": "markdown",
   "id": "dc2acc81-7e3a-43dc-82c6-655bf78c63e5",
   "metadata": {},
   "source": [
    "##　学習用Trainデータ準備"
   ]
  },
  {
   "cell_type": "code",
   "execution_count": 85,
   "id": "77159da9-7edf-4d45-8eed-871fa10aa1ae",
   "metadata": {},
   "outputs": [],
   "source": [
    "# 関数get_tの定義\n",
    "def get_t(X, num_date):\n",
    "    X_t_list = []\n",
    "    for i in range(0, len(X) - num_date+1): #Index(start,end,step)\n",
    "        X_t = X.iloc[i:i+num_date, :]\n",
    "        X_t_list.append(X_t)\n",
    "    return X_t_list"
   ]
  },
  {
   "cell_type": "code",
   "execution_count": 86,
   "id": "0fc6146b-a203-45b9-922c-1958f7e96dbf",
   "metadata": {},
   "outputs": [],
   "source": [
    "# 期間の設定\n",
    "num_date = 6\n",
    "# 関数get_tの呼び出し\n",
    "X_t_list = get_t(X=X_train, num_date=num_date)"
   ]
  },
  {
   "cell_type": "code",
   "execution_count": null,
   "id": "af9b6a1d-be2f-4de2-a09f-f0b250ec74b1",
   "metadata": {},
   "outputs": [],
   "source": []
  },
  {
   "cell_type": "code",
   "execution_count": null,
   "id": "35b83c6e-44c2-4661-941b-b534e6b20b2c",
   "metadata": {},
   "outputs": [],
   "source": []
  },
  {
   "cell_type": "code",
   "execution_count": 87,
   "id": "63cc397e-3f3a-47c0-bc54-bc06a73ae5e1",
   "metadata": {},
   "outputs": [
    {
     "name": "stdout",
     "output_type": "stream",
     "text": [
      "X_t_list_配列数 : 1549\n",
      "\n",
      "X_t_list[0]\n",
      "                  High         Low        Open       Close       EMA01\n",
      "Date                                                                  \n",
      "2003-12-01  111.370639  110.482062  111.314347  110.676377  110.676377\n",
      "2003-12-02  112.008532  110.500532  110.639316  111.823016  111.003988\n",
      "2003-12-03  112.202814  111.712284  111.832477  112.137524  111.327856\n",
      "2003-12-04  112.332259  111.406851  112.110343  111.748717  111.448102\n",
      "2003-12-05  112.766375  111.609834  111.721723  112.729259  111.814147\n",
      "2003-12-08  113.220483  112.425105  112.553700  113.035088  112.162987\n",
      "\n",
      "X_t_list[1]\n",
      "                  High         Low        Open       Close       EMA01\n",
      "Date                                                                  \n",
      "2003-12-02  112.008532  110.500532  110.639316  111.823016  111.003988\n",
      "2003-12-03  112.202814  111.712284  111.832477  112.137524  111.327856\n",
      "2003-12-04  112.332259  111.406851  112.110343  111.748717  111.448102\n",
      "2003-12-05  112.766375  111.609834  111.721723  112.729259  111.814147\n",
      "2003-12-08  113.220483  112.425105  112.553700  113.035088  112.162987\n",
      "2003-12-09  113.562415  112.831025  113.044748  113.312017  112.491281\n",
      "\n",
      "X_t_list[-1]\n",
      "                  High         Low        Open       Close       EMA01\n",
      "Date                                                                  \n",
      "2009-12-09  136.696810  135.771855  135.919482  136.326120  137.246200\n",
      "2009-12-10  136.529345  135.873556  136.328127  136.247807  136.960945\n",
      "2009-12-11  136.686720  134.967534  136.251821  135.226003  136.465247\n",
      "2009-12-14  135.835645  135.150932  135.309091  135.576823  136.211412\n",
      "2009-12-15  135.596704  134.199943  135.568883  134.514153  135.726481\n",
      "2009-12-16  134.939966  134.207739  134.494592  134.365655  135.337673\n",
      "\n"
     ]
    }
   ],
   "source": [
    "# 配列抜粋\n",
    "print(f'X_t_list_配列数 : {len(X_t_list)}\\n')\n",
    "print(f'X_t_list[0]\\n{X_t_list[0]}\\n')\n",
    "print(f'X_t_list[1]\\n{X_t_list[1]}\\n')\n",
    "print(f'X_t_list[-1]\\n{X_t_list[-1]}\\n')"
   ]
  },
  {
   "cell_type": "code",
   "execution_count": 88,
   "id": "0d1a6b63-de43-40a2-912a-333ffc9df247",
   "metadata": {},
   "outputs": [
    {
     "name": "stdout",
     "output_type": "stream",
     "text": [
      "y_train_t_配列 : 1\n",
      "\n",
      "y_train_t\n",
      "Date\n",
      "2003-12-08    1\n",
      "2003-12-09    0\n",
      "2003-12-10    1\n",
      "2003-12-11    1\n",
      "2003-12-12    0\n",
      "             ..\n",
      "2009-12-10    1\n",
      "2009-12-11    1\n",
      "2009-12-14    0\n",
      "2009-12-15    0\n",
      "2009-12-16    0\n",
      "Name: Up, Length: 1549, dtype: int64\n",
      "\n"
     ]
    }
   ],
   "source": [
    "### 答えデータ\n",
    "# 目的変数の変形\n",
    "y_train_t = y_train[num_date-1::]\n",
    "# 目的変数の型の表示\n",
    "print(f'y_train_t_配列 : {len(y_train_t.shape)}\\n')\n",
    "# 配列の中身\n",
    "print(f'y_train_t\\n{y_train_t}\\n')"
   ]
  },
  {
   "cell_type": "code",
   "execution_count": null,
   "id": "acc8050e-2800-463e-b795-6b098b6112e1",
   "metadata": {},
   "outputs": [],
   "source": []
  },
  {
   "cell_type": "code",
   "execution_count": null,
   "id": "3dc873d4-0874-4e37-a28c-0dbaef82afcd",
   "metadata": {},
   "outputs": [],
   "source": []
  },
  {
   "cell_type": "code",
   "execution_count": null,
   "id": "85825b66-1ca9-4050-917f-240d1b58f547",
   "metadata": {},
   "outputs": [],
   "source": []
  },
  {
   "cell_type": "markdown",
   "id": "5bf6b480-62a8-4ffb-8e63-7f97601bb878",
   "metadata": {},
   "source": [
    "## Numpy配列への変換"
   ]
  },
  {
   "cell_type": "code",
   "execution_count": 66,
   "id": "3d6c1919-9971-4e5d-b79e-9be1f1a7139d",
   "metadata": {},
   "outputs": [],
   "source": [
    "# # NumPy配列にしてスピードアップ\n",
    "# # 関数get_tの定義\n",
    "# def get_t(X, num_date):\n",
    "#     # 入力データをNumPy配列に変換\n",
    "#     X = np.array(X)\n",
    "#     X_t_list = []\n",
    "#     for i in range(0, len(X) - num_date, 6):\n",
    "#         X_t = X[i:i+num_date, :]\n",
    "#         X_t_list.append(X_t)\n",
    "#     # Numpy配列のreturn\n",
    "#     return np.array(X_t_list)\n",
    "\n",
    "# # 期間の設定\n",
    "# num_date = 6\n",
    "# # get_tの呼び出し\n",
    "# X_array_data = get_t(X=X_train, num_date=num_date)\n",
    "# # 学習データの1件目を表示\n",
    "# print(X_array_data[0])\n",
    "# # 学習データの2件目を表示\n",
    "# print(X_array_data[1])\n",
    "# # 学習データの最後から2件目を表示\n",
    "# print(X_array_data[-2])\n",
    "# # 学習データの最後から1件目を表示\n",
    "# print(X_array_data[-1])"
   ]
  },
  {
   "cell_type": "markdown",
   "id": "4fdd6d0b-be5b-42f1-9a21-028bffc2054c",
   "metadata": {},
   "source": [
    "####　微修正版"
   ]
  },
  {
   "cell_type": "code",
   "execution_count": 67,
   "id": "815ace5c-39f3-428a-9cc7-e032863afc72",
   "metadata": {},
   "outputs": [],
   "source": [
    "# NumPy配列にしてスピードアップ\n",
    "# 関数get_tの定義\n",
    "def get_t(X, num_date):\n",
    "    # 入力データをNumPy配列に変換\n",
    "    X = np.array(X)\n",
    "    X_t_list = []\n",
    "    for i in range(0, len(X) - num_date):\n",
    "        X_t = X[i:i+num_date, :]\n",
    "        X_t_list.append(X_t)\n",
    "    # Numpy配列のreturn\n",
    "    return np.array(X_t_list)"
   ]
  },
  {
   "cell_type": "code",
   "execution_count": 68,
   "id": "7ecedc99-b184-4635-966b-eb9ffa200cba",
   "metadata": {},
   "outputs": [],
   "source": [
    "# 期間の設定\n",
    "num_date = 6\n",
    "# get_tの呼び出し\n",
    "X_array_data = get_t(X=X_train, num_date=num_date)"
   ]
  },
  {
   "cell_type": "code",
   "execution_count": 69,
   "id": "edb1f0fa-2dbd-468f-8144-2a027fe36a03",
   "metadata": {},
   "outputs": [
    {
     "name": "stdout",
     "output_type": "stream",
     "text": [
      "X_array_data_配列数 : 1548\n",
      "\n",
      "X_array_data[0]\n",
      "[[111.3706392  110.4820618  111.31434709 110.67637712 110.67637712]\n",
      " [112.00853199 110.50053179 110.63931584 111.82301611 111.00398826]\n",
      " [112.20281422 111.71228439 111.83247715 112.13752419 111.32785567]\n",
      " [112.33225852 111.40685141 112.11034298 111.74871713 111.4481018 ]\n",
      " [112.76637495 111.60983384 111.72172338 112.72925854 111.81414658]\n",
      " [113.22048306 112.42510468 112.55369991 113.03508848 112.16298712]]\n",
      "\n",
      "X_array_data[1]\n",
      "[[112.00853199 110.50053179 110.63931584 111.82301611 111.00398826]\n",
      " [112.20281422 111.71228439 111.83247715 112.13752419 111.32785567]\n",
      " [112.33225852 111.40685141 112.11034298 111.74871713 111.4481018 ]\n",
      " [112.76637495 111.60983384 111.72172338 112.72925854 111.81414658]\n",
      " [113.22048306 112.42510468 112.55369991 113.03508848 112.16298712]\n",
      " [113.56241494 112.83102542 113.04474801 113.31201702 112.49128138]]\n",
      "\n",
      "X_array_data[-1]\n",
      "[[137.50965476 135.76586723 137.21388131 135.9474355  137.61423177]\n",
      " [136.69680983 135.77185482 135.91948241 136.3261199  137.24619981]\n",
      " [136.52934492 135.87355554 136.32812679 136.24780715 136.96094476]\n",
      " [136.68672025 134.96753365 136.25182092 135.22600323 136.46524718]\n",
      " [135.8356452  135.15093237 135.30909061 135.57682276 136.21141163]\n",
      " [135.59670419 134.19994295 135.56888342 134.5141533  135.72648068]]\n",
      "\n"
     ]
    }
   ],
   "source": [
    "# 配列抜粋\n",
    "print(f'X_array_data_配列数 : {len(X_array_data)}\\n')\n",
    "print(f'X_array_data[0]\\n{X_array_data[0]}\\n')\n",
    "print(f'X_array_data[1]\\n{X_array_data[1]}\\n')\n",
    "print(f'X_array_data[-1]\\n{X_array_data[-1]}\\n')"
   ]
  },
  {
   "cell_type": "code",
   "execution_count": null,
   "id": "b0cb6201-9191-4cfe-a8f1-699eb23c1977",
   "metadata": {},
   "outputs": [],
   "source": []
  },
  {
   "cell_type": "code",
   "execution_count": 71,
   "id": "8dbbb22b-95dc-4081-89f7-c91648cbf79f",
   "metadata": {},
   "outputs": [
    {
     "data": {
      "text/html": [
       "<div>\n",
       "<style scoped>\n",
       "    .dataframe tbody tr th:only-of-type {\n",
       "        vertical-align: middle;\n",
       "    }\n",
       "\n",
       "    .dataframe tbody tr th {\n",
       "        vertical-align: top;\n",
       "    }\n",
       "\n",
       "    .dataframe thead th {\n",
       "        text-align: right;\n",
       "    }\n",
       "</style>\n",
       "<table border=\"1\" class=\"dataframe\">\n",
       "  <thead>\n",
       "    <tr style=\"text-align: right;\">\n",
       "      <th></th>\n",
       "      <th>High</th>\n",
       "      <th>Low</th>\n",
       "      <th>Open</th>\n",
       "      <th>Close</th>\n",
       "      <th>EMA01</th>\n",
       "    </tr>\n",
       "    <tr>\n",
       "      <th>Date</th>\n",
       "      <th></th>\n",
       "      <th></th>\n",
       "      <th></th>\n",
       "      <th></th>\n",
       "      <th></th>\n",
       "    </tr>\n",
       "  </thead>\n",
       "  <tbody>\n",
       "    <tr>\n",
       "      <th>2003-12-01</th>\n",
       "      <td>111.370639</td>\n",
       "      <td>110.482062</td>\n",
       "      <td>111.314347</td>\n",
       "      <td>110.676377</td>\n",
       "      <td>110.676377</td>\n",
       "    </tr>\n",
       "    <tr>\n",
       "      <th>2003-12-02</th>\n",
       "      <td>112.008532</td>\n",
       "      <td>110.500532</td>\n",
       "      <td>110.639316</td>\n",
       "      <td>111.823016</td>\n",
       "      <td>111.003988</td>\n",
       "    </tr>\n",
       "    <tr>\n",
       "      <th>2003-12-03</th>\n",
       "      <td>112.202814</td>\n",
       "      <td>111.712284</td>\n",
       "      <td>111.832477</td>\n",
       "      <td>112.137524</td>\n",
       "      <td>111.327856</td>\n",
       "    </tr>\n",
       "    <tr>\n",
       "      <th>2003-12-04</th>\n",
       "      <td>112.332259</td>\n",
       "      <td>111.406851</td>\n",
       "      <td>112.110343</td>\n",
       "      <td>111.748717</td>\n",
       "      <td>111.448102</td>\n",
       "    </tr>\n",
       "    <tr>\n",
       "      <th>2003-12-05</th>\n",
       "      <td>112.766375</td>\n",
       "      <td>111.609834</td>\n",
       "      <td>111.721723</td>\n",
       "      <td>112.729259</td>\n",
       "      <td>111.814147</td>\n",
       "    </tr>\n",
       "    <tr>\n",
       "      <th>...</th>\n",
       "      <td>...</td>\n",
       "      <td>...</td>\n",
       "      <td>...</td>\n",
       "      <td>...</td>\n",
       "      <td>...</td>\n",
       "    </tr>\n",
       "    <tr>\n",
       "      <th>2009-12-10</th>\n",
       "      <td>136.529345</td>\n",
       "      <td>135.873556</td>\n",
       "      <td>136.328127</td>\n",
       "      <td>136.247807</td>\n",
       "      <td>136.960945</td>\n",
       "    </tr>\n",
       "    <tr>\n",
       "      <th>2009-12-11</th>\n",
       "      <td>136.686720</td>\n",
       "      <td>134.967534</td>\n",
       "      <td>136.251821</td>\n",
       "      <td>135.226003</td>\n",
       "      <td>136.465247</td>\n",
       "    </tr>\n",
       "    <tr>\n",
       "      <th>2009-12-14</th>\n",
       "      <td>135.835645</td>\n",
       "      <td>135.150932</td>\n",
       "      <td>135.309091</td>\n",
       "      <td>135.576823</td>\n",
       "      <td>136.211412</td>\n",
       "    </tr>\n",
       "    <tr>\n",
       "      <th>2009-12-15</th>\n",
       "      <td>135.596704</td>\n",
       "      <td>134.199943</td>\n",
       "      <td>135.568883</td>\n",
       "      <td>134.514153</td>\n",
       "      <td>135.726481</td>\n",
       "    </tr>\n",
       "    <tr>\n",
       "      <th>2009-12-16</th>\n",
       "      <td>134.939966</td>\n",
       "      <td>134.207739</td>\n",
       "      <td>134.494592</td>\n",
       "      <td>134.365655</td>\n",
       "      <td>135.337673</td>\n",
       "    </tr>\n",
       "  </tbody>\n",
       "</table>\n",
       "<p>1554 rows × 5 columns</p>\n",
       "</div>"
      ],
      "text/plain": [
       "                  High         Low        Open       Close       EMA01\n",
       "Date                                                                  \n",
       "2003-12-01  111.370639  110.482062  111.314347  110.676377  110.676377\n",
       "2003-12-02  112.008532  110.500532  110.639316  111.823016  111.003988\n",
       "2003-12-03  112.202814  111.712284  111.832477  112.137524  111.327856\n",
       "2003-12-04  112.332259  111.406851  112.110343  111.748717  111.448102\n",
       "2003-12-05  112.766375  111.609834  111.721723  112.729259  111.814147\n",
       "...                ...         ...         ...         ...         ...\n",
       "2009-12-10  136.529345  135.873556  136.328127  136.247807  136.960945\n",
       "2009-12-11  136.686720  134.967534  136.251821  135.226003  136.465247\n",
       "2009-12-14  135.835645  135.150932  135.309091  135.576823  136.211412\n",
       "2009-12-15  135.596704  134.199943  135.568883  134.514153  135.726481\n",
       "2009-12-16  134.939966  134.207739  134.494592  134.365655  135.337673\n",
       "\n",
       "[1554 rows x 5 columns]"
      ]
     },
     "execution_count": 71,
     "metadata": {},
     "output_type": "execute_result"
    }
   ],
   "source": [
    "# X_train"
   ]
  },
  {
   "cell_type": "markdown",
   "id": "8bd31e05-f473-4876-8779-6e8caad3a090",
   "metadata": {},
   "source": [
    "## データの標準化"
   ]
  },
  {
   "cell_type": "code",
   "execution_count": 93,
   "id": "c24c324c-2e27-4b4a-8d8f-e1e01fdf07cc",
   "metadata": {},
   "outputs": [],
   "source": [
    "# # データの標準化\n",
    "# from sklearn.preprocessing import StandardScaler\n",
    "# # 関数get_standardized_tの定義\n",
    "# def get_standardized_t(X, num_date):\n",
    "#     X = np.array(X)\n",
    "#     X_t_list = []\n",
    "#     for i in range(0, len(X) - num_date, 6):\n",
    "#         X_t = X[i:i+num_date]\n",
    "#         scaler = StandardScaler()\n",
    "#         X_standardized = scaler.fit_transform(X_t)\n",
    "#         X_t_list.append(X_standardized)\n",
    "#     return np.array(X_t_list)\n",
    "\n",
    "# # 期間の設定\n",
    "# num_date = 6\n",
    "# # 関数get_standardized_tの呼び出し\n",
    "# X_array_data = get_standardized_t(X=X_train, num_date=num_date)\n",
    "# # 学習データの1件目を表示\n",
    "# print(X_array_data[0])\n",
    "# # 学習データの2件目を表示\n",
    "# print(X_array_data[1])\n",
    "# # 学習データの最後から2件目を表示\n",
    "# print(X_array_data[-2])\n",
    "# # 学習データの最後から1件目を表示\n",
    "# print(X_array_data[-1])"
   ]
  },
  {
   "cell_type": "markdown",
   "id": "9b54fc0c-ff04-4ecc-8c49-0e208389a22a",
   "metadata": {},
   "source": [
    "#### 微修正"
   ]
  },
  {
   "cell_type": "code",
   "execution_count": 94,
   "id": "429e2985-60e4-4ef4-8a25-914f1571429d",
   "metadata": {},
   "outputs": [],
   "source": [
    "# データの標準化\n",
    "from sklearn.preprocessing import StandardScaler\n",
    "# 関数get_standardized_tの定義\n",
    "def get_standardized_t(X, num_date):\n",
    "    X = np.array(X)\n",
    "    X_t_list = []\n",
    "    for i in range(0, len(X) - num_date):\n",
    "        X_t = X[i:i+num_date]\n",
    "        scaler = StandardScaler()\n",
    "        X_standardized = scaler.fit_transform(X_t)\n",
    "        X_t_list.append(X_standardized)\n",
    "    return np.array(X_t_list)"
   ]
  },
  {
   "cell_type": "code",
   "execution_count": 95,
   "id": "4ebc9895-1246-43c0-8081-7559451ad252",
   "metadata": {},
   "outputs": [],
   "source": [
    "# 期間の設定\n",
    "num_date = 6\n",
    "# 関数get_standardized_tの呼び出し\n",
    "X_array_data = get_standardized_t(X=X_train, num_date=num_date)"
   ]
  },
  {
   "cell_type": "code",
   "execution_count": null,
   "id": "29850257-0664-41f5-a675-a288903e77f9",
   "metadata": {},
   "outputs": [],
   "source": []
  },
  {
   "cell_type": "code",
   "execution_count": 96,
   "id": "84cda841-5966-4219-8000-42226e97cd38",
   "metadata": {},
   "outputs": [
    {
     "name": "stdout",
     "output_type": "stream",
     "text": [
      "X_array_data_配列数 : 1548\n",
      "\n",
      "X_array_data[0]\n",
      "[[-1.62984809 -1.27210819 -0.63075207 -1.77469591 -1.48772019]\n",
      " [-0.53107815 -1.24522662 -1.74836406 -0.26579362 -0.81932415]\n",
      " [-0.19642712  0.51838102  0.2270873   0.14807855 -0.15856611]\n",
      " [ 0.02654061  0.07384809  0.68713442 -0.36356624  0.08676144]\n",
      " [ 0.77430589  0.36927255  0.04371838  0.92676245  0.83357025]\n",
      " [ 1.55650685  1.55583315  1.42117603  1.32921476  1.54527876]]\n",
      "\n",
      "X_array_data[1]\n",
      "[[-1.20412777 -1.67538658 -1.79502953 -1.07255906 -1.38996179]\n",
      " [-0.8568361  -0.04745198 -0.20193481 -0.54651412 -0.75059053]\n",
      " [-0.6254463  -0.45778732  0.16906832 -1.19683123 -0.5132035 ]\n",
      " [ 0.15056402 -0.18508965 -0.34981193  0.44321834  0.20943331]\n",
      " [ 0.96231074  0.91018972  0.7610332   0.95474826  0.89810593]\n",
      " [ 1.5735354   1.45552581  1.41667474  1.41793781  1.54621657]]\n",
      "\n",
      "X_array_data[-1]\n",
      "[[ 1.65276739  0.8052188   1.81890094  0.48881946  1.42613772]\n",
      " [ 0.35329982  0.81531397 -0.29202183  1.09038322  0.8494562 ]\n",
      " [ 0.08557935  0.98678321  0.3744008   0.96597853  0.40248058]\n",
      " [ 0.33716995 -0.54078594  0.24996019 -0.65722065 -0.37424445]\n",
      " [-1.02341481 -0.23157241 -1.28745681 -0.09992197 -0.77198781]\n",
      " [-1.40540169 -1.83495763 -0.86378328 -1.78803861 -1.53184225]]\n",
      "\n"
     ]
    }
   ],
   "source": [
    "# 配列抜粋\n",
    "print(f'X_array_data_配列数 : {len(X_array_data)}\\n')\n",
    "print(f'X_array_data[0]\\n{X_array_data[0]}\\n')\n",
    "print(f'X_array_data[1]\\n{X_array_data[1]}\\n')\n",
    "print(f'X_array_data[-1]\\n{X_array_data[-1]}\\n')"
   ]
  },
  {
   "cell_type": "code",
   "execution_count": 97,
   "id": "986ed8a8-6890-4e25-8ed5-f7109b726d94",
   "metadata": {},
   "outputs": [],
   "source": [
    "# 目的変数の変形\n",
    "y_train_t = y_train[num_date::]"
   ]
  },
  {
   "cell_type": "code",
   "execution_count": 98,
   "id": "3e93cfd6-2e7d-4c25-a2b5-bbebb53ea919",
   "metadata": {},
   "outputs": [
    {
     "name": "stdout",
     "output_type": "stream",
     "text": [
      "y_train_t_配列 : 1\n",
      "\n",
      "y_train_t\n",
      "Date\n",
      "2003-12-09    0\n",
      "2003-12-10    1\n",
      "2003-12-11    1\n",
      "2003-12-12    0\n",
      "2003-12-15    0\n",
      "             ..\n",
      "2009-12-10    1\n",
      "2009-12-11    1\n",
      "2009-12-14    0\n",
      "2009-12-15    0\n",
      "2009-12-16    0\n",
      "Name: Up, Length: 1548, dtype: int64\n",
      "\n"
     ]
    }
   ],
   "source": [
    "# 目的変数の型の表示\n",
    "print(f'y_train_t_配列 : {len(y_train_t.shape)}\\n')\n",
    "\n",
    "# 配列の中身\n",
    "print(f'y_train_t\\n{y_train_t}\\n')"
   ]
  },
  {
   "cell_type": "code",
   "execution_count": 99,
   "id": "20823944-7b04-4da6-8663-1e86f710774b",
   "metadata": {},
   "outputs": [],
   "source": [
    "y_train_array_t=np.array(y_train_t)"
   ]
  },
  {
   "cell_type": "code",
   "execution_count": 100,
   "id": "e032b287-f4b3-402f-b6dd-9d6d3615b399",
   "metadata": {},
   "outputs": [
    {
     "name": "stdout",
     "output_type": "stream",
     "text": [
      "y_train_array_t : 1548\n",
      "\n",
      "y_train_array_t\n",
      "[0 1 1 ... 0 0 0]\n",
      "\n"
     ]
    }
   ],
   "source": [
    "# 目的変数の型の表示\n",
    "print(f'y_train_array_t : {len(y_train_array_t)}\\n')\n",
    "\n",
    "# 配列の中身\n",
    "print(f'y_train_array_t\\n{y_train_array_t}\\n')"
   ]
  },
  {
   "cell_type": "markdown",
   "id": "71297ee8-de8c-4252-b810-961a6efe5135",
   "metadata": {},
   "source": [
    "## testデータも同様に標準化・配列化"
   ]
  },
  {
   "cell_type": "code",
   "execution_count": 106,
   "id": "80bc4fad-9bc6-4723-87c9-6fe40dd1a2e8",
   "metadata": {},
   "outputs": [],
   "source": [
    "# 期間の設定\n",
    "num_date = 6\n",
    "# 関数get_standardized_tの呼び出し\n",
    "test_array_data = get_standardized_t(X=df_test, num_date=num_date)"
   ]
  },
  {
   "cell_type": "code",
   "execution_count": 108,
   "id": "48fdf68c-acbe-45ce-9291-71e01a3ba2e7",
   "metadata": {},
   "outputs": [
    {
     "name": "stdout",
     "output_type": "stream",
     "text": [
      "test_array_data配列数 : 1240\n",
      "\n",
      "test_array_data[0]\n",
      "[[-1.03258059 -1.6809803  -1.41569797 -1.41239643 -1.48098472]\n",
      " [-0.36554069  0.2809975  -0.03891638 -0.0672961  -0.75934497]\n",
      " [-1.18499428 -0.69791866  0.15301636  0.16869925 -0.11727764]\n",
      " [ 0.5479873  -0.16368416 -0.75030293 -0.77370295 -0.16425231]\n",
      " [ 1.73337915  1.24051497  1.83303397  1.81712314  1.1921599 ]\n",
      " [ 0.30174912  1.02107066  0.21886695  0.2675731   1.32969974]]\n",
      "\n",
      "test_array_data[1]\n",
      "[[-0.0212557   0.40991603  0.18549107  0.16576657 -1.1343442 ]\n",
      " [-0.5680626   0.02283655  0.30717002  0.31622607 -0.34126826]\n",
      " [ 0.58832537  0.23408162 -0.26550427 -0.2846051  -0.39929095]\n",
      " [ 1.37931639  0.78932495  1.37224515  1.36718333  1.27613755]\n",
      " [ 0.42401499  0.70255307  0.3489171   0.37926337  1.44602556]\n",
      " [-1.80233846 -2.15871222 -1.94831907 -1.94383423 -0.84725969]]\n",
      "\n",
      "test_array_data[-1]\n",
      "[[ 0.30614459  0.3673075   0.22290896  0.21361889 -0.17127527]\n",
      " [-0.30032015 -0.25755935  0.70251278  0.69095342  0.99430675]\n",
      " [-0.55405029 -0.3049428  -0.48187253 -0.48372006  0.38127576]\n",
      " [-1.60281713 -1.17114884 -1.1757404  -1.16206041 -0.89139019]\n",
      " [ 0.51579125 -0.62080705 -0.97072316 -0.97436545 -1.56945405]\n",
      " [ 1.63525173  1.98715054  1.70291436  1.71557361  1.25653699]]\n",
      "\n"
     ]
    }
   ],
   "source": [
    "# 配列抜粋\n",
    "print(f'test_array_data配列数 : {len(test_array_data)}\\n')\n",
    "print(f'test_array_data[0]\\n{test_array_data[0]}\\n')\n",
    "print(f'test_array_data[1]\\n{test_array_data[1]}\\n')\n",
    "print(f'test_array_data[-1]\\n{test_array_data[-1]}\\n')"
   ]
  },
  {
   "cell_type": "code",
   "execution_count": null,
   "id": "fa1dbcf7-3ee0-4c42-a036-07acb3156aff",
   "metadata": {},
   "outputs": [],
   "source": []
  },
  {
   "cell_type": "code",
   "execution_count": null,
   "id": "f62a39a0-00e2-4738-b83a-75e2cc7b77c7",
   "metadata": {},
   "outputs": [],
   "source": []
  },
  {
   "cell_type": "markdown",
   "id": "6aa6a1a9-fd7c-4e50-8296-280abb48a066",
   "metadata": {},
   "source": [
    "##　モデルの定義"
   ]
  },
  {
   "cell_type": "code",
   "execution_count": 101,
   "id": "e7f23de8-40e5-4e0d-b1e2-91a82bdc5cd6",
   "metadata": {},
   "outputs": [],
   "source": [
    "# モデルの定義\n",
    "from keras.models import Sequential\n",
    "from keras.layers import Activation, Dense\n",
    "from keras.layers import LSTM\n",
    "from keras.layers import Dropout"
   ]
  },
  {
   "cell_type": "code",
   "execution_count": 103,
   "id": "74bb40cf-e114-467f-8635-316e27fa7a17",
   "metadata": {},
   "outputs": [],
   "source": [
    "# LSTMのモデルを設定\n",
    "def build_model(inputs, output_size, neurons, activ_func=\"linear\",\n",
    "                dropout=0.25, loss=\"mae\", optimizer=\"adam\"):\n",
    "    model = Sequential()\n",
    " \n",
    "    model.add(LSTM(neurons, input_shape=(inputs.shape[1], inputs.shape[2]))) #バッチ数、時系列データ数、特徴量数\n",
    "    model.add(Dropout(dropout)) \n",
    "    model.add(Dense(units=output_size))\n",
    "    model.add(Activation(activ_func))\n",
    " \n",
    "    model.compile(loss=loss, optimizer=optimizer)\n",
    "    return model"
   ]
  },
  {
   "cell_type": "code",
   "execution_count": null,
   "id": "45a8e3cc-1071-4e9b-a087-56f9a7ba2660",
   "metadata": {},
   "outputs": [],
   "source": []
  },
  {
   "cell_type": "markdown",
   "id": "1fc75e6d-af32-4baf-a923-0daaefaa3398",
   "metadata": {},
   "source": [
    "## データの学習と予測"
   ]
  },
  {
   "cell_type": "code",
   "execution_count": 104,
   "id": "5ffaddb5-d841-4cf6-9c69-2a107e6a4e0e",
   "metadata": {},
   "outputs": [
    {
     "name": "stdout",
     "output_type": "stream",
     "text": [
      "Epoch 1/25\n",
      "1548/1548 - 3s - loss: 0.4772\n",
      "Epoch 2/25\n",
      "1548/1548 - 2s - loss: 0.4637\n",
      "Epoch 3/25\n",
      "1548/1548 - 2s - loss: 0.4512\n",
      "Epoch 4/25\n",
      "1548/1548 - 2s - loss: 0.4493\n",
      "Epoch 5/25\n",
      "1548/1548 - 2s - loss: 0.4487\n",
      "Epoch 6/25\n",
      "1548/1548 - 2s - loss: 0.4487\n",
      "Epoch 7/25\n",
      "1548/1548 - 2s - loss: 0.4477\n",
      "Epoch 8/25\n",
      "1548/1548 - 2s - loss: 0.4438\n",
      "Epoch 9/25\n",
      "1548/1548 - 2s - loss: 0.4373\n",
      "Epoch 10/25\n",
      "1548/1548 - 2s - loss: 0.4397\n",
      "Epoch 11/25\n",
      "1548/1548 - 2s - loss: 0.4384\n",
      "Epoch 12/25\n",
      "1548/1548 - 2s - loss: 0.4388\n",
      "Epoch 13/25\n",
      "1548/1548 - 2s - loss: 0.4345\n",
      "Epoch 14/25\n",
      "1548/1548 - 2s - loss: 0.4327\n",
      "Epoch 15/25\n",
      "1548/1548 - 2s - loss: 0.4303\n",
      "Epoch 16/25\n",
      "1548/1548 - 2s - loss: 0.4298\n",
      "Epoch 17/25\n",
      "1548/1548 - 2s - loss: 0.4269\n",
      "Epoch 18/25\n",
      "1548/1548 - 2s - loss: 0.4262\n",
      "Epoch 19/25\n",
      "1548/1548 - 2s - loss: 0.4236\n",
      "Epoch 20/25\n",
      "1548/1548 - 2s - loss: 0.4228\n",
      "Epoch 21/25\n",
      "1548/1548 - 2s - loss: 0.4194\n",
      "Epoch 22/25\n",
      "1548/1548 - 2s - loss: 0.4186\n",
      "Epoch 23/25\n",
      "1548/1548 - 2s - loss: 0.4178\n",
      "Epoch 24/25\n",
      "1548/1548 - 2s - loss: 0.4162\n",
      "Epoch 25/25\n",
      "1548/1548 - 2s - loss: 0.4142\n"
     ]
    }
   ],
   "source": [
    "np.random.seed(202)\n",
    " \n",
    "# 初期モデルの構築\n",
    "yen_model = build_model(X_array_data, output_size=1, neurons = 20)\n",
    "\n",
    "# データを流してフィッティングさせる\n",
    "yen_history = yen_model.fit(X_array_data, y_train_t, \n",
    "                            epochs=25, batch_size=1, verbose=2, shuffle=False)\n",
    "# 11/5 epochs=50からepochs=10に変更\n",
    "# 11/5 shuffle=TrueからFalseに変更"
   ]
  },
  {
   "cell_type": "code",
   "execution_count": 105,
   "id": "85a228e4-df6b-43f4-bb5a-59a68564b30d",
   "metadata": {},
   "outputs": [
    {
     "data": {
      "image/png": "[encoded data removed]",
      "text/plain": [
       "<Figure size 432x288 with 1 Axes>"
      ]
     },
     "metadata": {
      "needs_background": "light"
     },
     "output_type": "display_data"
    }
   ],
   "source": [
    "# MAEをプロットしてみよう\n",
    "fig, ax1 = plt.subplots(1,1)\n",
    " \n",
    "ax1.plot(yen_history.epoch, yen_history.history['loss'])\n",
    "ax1.set_title('TrainingError')\n",
    " \n",
    "if yen_model.loss == 'mae':\n",
    "    ax1.set_ylabel('Mean Absolute Error (MAE)',fontsize=12)\n",
    "else:\n",
    "    ax1.set_ylabel('Model Loss',fontsize=12)\n",
    "ax1.set_xlabel('# Epochs',fontsize=12)\n",
    "plt.show()"
   ]
  },
  {
   "cell_type": "code",
   "execution_count": 117,
   "id": "94b14a11-834a-4f5e-970f-7901192d5390",
   "metadata": {},
   "outputs": [],
   "source": [
    "#作成したモデルを使用し予測。\n",
    "train_pred = yen_model.predict(test_array_data)"
   ]
  },
  {
   "cell_type": "code",
   "execution_count": 118,
   "id": "a2a9691d-5d3f-4b2c-9fed-50e1eac1d1c0",
   "metadata": {},
   "outputs": [
    {
     "data": {
      "text/plain": [
       "array([[0.88986605],\n",
       "       [0.8664258 ],\n",
       "       [0.9276768 ],\n",
       "       ...,\n",
       "       [0.7651892 ],\n",
       "       [0.8083412 ],\n",
       "       [0.96485794]], dtype=float32)"
      ]
     },
     "execution_count": 118,
     "metadata": {},
     "output_type": "execute_result"
    }
   ],
   "source": [
    "train_pred"
   ]
  },
  {
   "cell_type": "code",
   "execution_count": 120,
   "id": "920576c8-3e3a-4bda-94ca-bf598c8bea5c",
   "metadata": {},
   "outputs": [
    {
     "data": {
      "text/plain": [
       "1240"
      ]
     },
     "execution_count": 120,
     "metadata": {},
     "output_type": "execute_result"
    }
   ],
   "source": [
    "len(train_pred)"
   ]
  },
  {
   "cell_type": "code",
   "execution_count": 124,
   "id": "1837b766-bdd4-4d89-94a7-3fc3ae4d135f",
   "metadata": {},
   "outputs": [
    {
     "data": {
      "text/plain": [
       "207"
      ]
     },
     "execution_count": 124,
     "metadata": {},
     "output_type": "execute_result"
    }
   ],
   "source": [
    "train_pred_Interval=train_pred[::6]\n",
    "len(train_pred_Interval)"
   ]
  },
  {
   "cell_type": "code",
   "execution_count": 126,
   "id": "7934aa33-4b92-479f-b58f-73cc511da4aa",
   "metadata": {},
   "outputs": [],
   "source": [
    "# 変数名をそのままprint関数内で表示させる関数\n",
    "def chkprint(*args):\n",
    "    for obj in args:\n",
    "        for k, v in globals().items():\n",
    "            if id(v) == id(obj):\n",
    "                target = k\n",
    "                break          \n",
    "    return target\n",
    "\n",
    "# データがどのデータ型か、列数、行数を表示する関数\n",
    "def typeInfo(targetData):\n",
    "    if (type(targetData) is pd.core.frame.DataFrame):\n",
    "        print(\"{} は DataFrame型\".format(chkprint(targetData)))\n",
    "        print(\"{} の行数, 列数・・・{}\\n\".format(chkprint(targetData), targetData.shape))     # shapeの表示内容は、(行数, 列数)となる\n",
    "    if (type(targetData) is list):\n",
    "        print(\"{} は list型\".format(chkprint(targetData)))\n",
    "        print(\"{} の行数, 列数・・・{}\\n\".format(chkprint(targetData), pd.DataFrame(targetData).shape))    # shapeの表示内容は、(行数, 列数)となる\n",
    "    if (type(targetData) is np.ndarray):\n",
    "        print(\"{} は ndarray型\".format(chkprint(targetData)))\n",
    "        print(\"{} の行数, 列数・・・{}\\n\".format(chkprint(targetData), targetData.shape))     # shapeの表示内容は、(行数, 列数)となる\n",
    "    if (type(targetData) is pd.core.series.Series):\n",
    "        print(\"{} は Series型\".format(chkprint(targetData)))\n",
    "        print(\"{} の行数, 列数・・・{}\\n\".format(chkprint(targetData), targetData.shape))     # shapeの表示内容は、(行数, 列数)となる"
   ]
  },
  {
   "cell_type": "code",
   "execution_count": 127,
   "id": "238b9a68-9e1b-4f28-9834-6bd5bffe5c2e",
   "metadata": {},
   "outputs": [
    {
     "name": "stdout",
     "output_type": "stream",
     "text": [
      "train_pred_Interval は ndarray型\n",
      "train_pred_Interval の行数, 列数・・・(207, 1)\n",
      "\n"
     ]
    }
   ],
   "source": [
    "typeInfo(train_pred_Interval)"
   ]
  },
  {
   "cell_type": "code",
   "execution_count": 131,
   "id": "5ef94f80-278b-4da0-93d4-a601c49b1f55",
   "metadata": {},
   "outputs": [
    {
     "data": {
      "text/plain": [
       "array([0.88986605, 1.0682687 , 0.9959466 , 0.42360422, 0.9183289 ,\n",
       "       0.98906493, 0.9697865 , 0.9864445 , 0.77310914, 0.9558474 ,\n",
       "       0.96459806, 0.98791194, 0.99469215, 0.96616775, 1.0536473 ,\n",
       "       0.958344  , 1.0829831 , 0.54461706, 1.0151992 , 0.9766298 ,\n",
       "       0.8343193 , 0.97152156, 0.8975758 , 0.92950296, 0.968004  ,\n",
       "       1.032862  , 0.9816171 , 0.8264212 , 0.9753313 , 0.9632203 ,\n",
       "       0.9437732 , 0.99080276, 0.76241827, 0.9320617 , 0.989346  ,\n",
       "       0.7734852 , 1.0335047 , 0.97788006, 0.9773199 , 0.8175634 ,\n",
       "       0.99475837, 0.8018164 , 1.0228187 , 0.9220347 , 1.0127743 ,\n",
       "       0.9933642 , 0.66381633, 0.7434628 , 0.9730752 , 0.8617861 ,\n",
       "       0.9745206 , 0.9670731 , 0.9491679 , 0.9623004 , 0.94888043,\n",
       "       0.9784212 , 0.94098186, 0.9475831 , 0.8152525 , 0.9064636 ,\n",
       "       0.9936314 , 0.974464  , 0.9944789 , 0.9577399 , 0.97814345,\n",
       "       1.0005091 , 0.9751849 , 0.92858976, 0.9487065 , 0.7085757 ,\n",
       "       0.9987904 , 0.90365374, 0.9563212 , 0.95712304, 0.90343225,\n",
       "       0.9320109 , 0.989771  , 0.9493127 , 0.9659188 , 0.9789236 ,\n",
       "       0.9268865 , 1.0298443 , 0.97341484, 0.92909354, 0.9264533 ,\n",
       "       0.96727854, 0.95361555, 0.9198342 , 0.8984591 , 0.90741575,\n",
       "       0.9552558 , 0.97050124, 1.0034381 , 0.95450264, 0.9543992 ,\n",
       "       0.9667909 , 0.972759  , 0.983564  , 0.84905726, 0.9739496 ,\n",
       "       0.9804843 , 0.93716234, 1.029394  , 0.9888809 , 0.92820054,\n",
       "       0.9711845 , 0.743009  , 0.905693  , 1.0063142 , 0.9096554 ,\n",
       "       0.99443126, 0.8456892 , 0.772792  , 0.9708474 , 0.9170755 ,\n",
       "       0.9571556 , 1.0189335 , 0.9613868 , 1.0075723 , 1.0525616 ,\n",
       "       0.98943174, 0.94510823, 0.8791449 , 0.99452645, 0.98475707,\n",
       "       0.98559904, 0.9685665 , 0.98158896, 0.9434371 , 0.9778174 ,\n",
       "       0.9495927 , 0.9625561 , 0.98405886, 0.9793265 , 0.92560273,\n",
       "       0.46425447, 0.9530092 , 0.9569008 , 0.98516697, 0.9665074 ,\n",
       "       0.95729977, 0.9687506 , 0.92725176, 0.94590694, 0.9759135 ,\n",
       "       0.83774066, 0.98250145, 0.89857036, 0.95692426, 1.0027384 ,\n",
       "       0.9651582 , 0.7898543 , 0.66583145, 0.9332287 , 0.9382081 ,\n",
       "       1.0204663 , 0.95988905, 0.98099303, 0.973841  , 0.9530363 ,\n",
       "       0.86194897, 0.91982013, 0.9281774 , 0.97725034, 0.99262476,\n",
       "       0.9619011 , 0.9700943 , 0.82816976, 0.96841484, 0.9565572 ,\n",
       "       0.88437617, 0.7197876 , 0.8160251 , 0.9484377 , 0.9623571 ,\n",
       "       0.79522985, 0.9579826 , 0.8764747 , 0.91895866, 0.990323  ,\n",
       "       0.97043306, 0.81986195, 0.8653775 , 0.9631679 , 0.9613285 ,\n",
       "       0.9615864 , 0.95303524, 0.9641293 , 0.8841555 , 0.9543538 ,\n",
       "       0.990332  , 0.92321986, 0.8947881 , 0.94976366, 0.9609913 ,\n",
       "       0.7596632 , 0.94043094, 0.9619445 , 1.0288529 , 1.011449  ,\n",
       "       1.0142192 , 0.97783995, 1.0147241 , 0.95621103, 0.99148697,\n",
       "       0.98249245, 0.36505693], dtype=float32)"
      ]
     },
     "execution_count": 131,
     "metadata": {},
     "output_type": "execute_result"
    }
   ],
   "source": [
    "np.ravel(train_pred_Interval)"
   ]
  },
  {
   "cell_type": "code",
   "execution_count": null,
   "id": "f1729535-61bf-4620-b1d9-552a1b6b569a",
   "metadata": {},
   "outputs": [],
   "source": []
  },
  {
   "cell_type": "code",
   "execution_count": 129,
   "id": "bfb9679b-571b-4949-b00a-023d61a39580",
   "metadata": {},
   "outputs": [
    {
     "name": "stdout",
     "output_type": "stream",
     "text": [
      "train_pred_Interval_Trans は ndarray型\n",
      "train_pred_Interval_Trans の行数, 列数・・・(1, 207)\n",
      "\n"
     ]
    }
   ],
   "source": [
    "train_pred_Interval_Trans=np.transpose(train_pred_Interval)\n",
    "typeInfo(train_pred_Interval_Trans)"
   ]
  },
  {
   "cell_type": "code",
   "execution_count": 125,
   "id": "7910c818-4f23-4e5d-8c53-c207f8cd4ff7",
   "metadata": {},
   "outputs": [
    {
     "ename": "ValueError",
     "evalue": "Data must be 1-dimensional",
     "output_type": "error",
     "traceback": [
      "\u001b[0;31m---------------------------------------------------------------------------\u001b[0m",
      "\u001b[0;31mValueError\u001b[0m                                Traceback (most recent call last)",
      "\u001b[0;32m<ipython-input-125-bdcbe4d35b2f>\u001b[0m in \u001b[0;36m<module>\u001b[0;34m\u001b[0m\n\u001b[0;32m----> 1\u001b[0;31m \u001b[0mDf_Array\u001b[0m \u001b[0;34m=\u001b[0m \u001b[0mpd\u001b[0m\u001b[0;34m.\u001b[0m\u001b[0mSeries\u001b[0m\u001b[0;34m(\u001b[0m\u001b[0mtrain_pred_Interval\u001b[0m\u001b[0;34m)\u001b[0m\u001b[0;34m\u001b[0m\u001b[0;34m\u001b[0m\u001b[0m\n\u001b[0m\u001b[1;32m      2\u001b[0m \u001b[0mDf__Array\u001b[0m\u001b[0;34m\u001b[0m\u001b[0;34m\u001b[0m\u001b[0m\n",
      "\u001b[0;32m~/opt/anaconda3/lib/python3.8/site-packages/pandas/core/series.py\u001b[0m in \u001b[0;36m__init__\u001b[0;34m(self, data, index, dtype, name, copy, fastpath)\u001b[0m\n\u001b[1;32m    362\u001b[0m                     \u001b[0mdata\u001b[0m \u001b[0;34m=\u001b[0m \u001b[0mdata\u001b[0m\u001b[0;34m.\u001b[0m\u001b[0mcopy\u001b[0m\u001b[0;34m(\u001b[0m\u001b[0;34m)\u001b[0m\u001b[0;34m\u001b[0m\u001b[0;34m\u001b[0m\u001b[0m\n\u001b[1;32m    363\u001b[0m             \u001b[0;32melse\u001b[0m\u001b[0;34m:\u001b[0m\u001b[0;34m\u001b[0m\u001b[0;34m\u001b[0m\u001b[0m\n\u001b[0;32m--> 364\u001b[0;31m                 \u001b[0mdata\u001b[0m \u001b[0;34m=\u001b[0m \u001b[0msanitize_array\u001b[0m\u001b[0;34m(\u001b[0m\u001b[0mdata\u001b[0m\u001b[0;34m,\u001b[0m \u001b[0mindex\u001b[0m\u001b[0;34m,\u001b[0m \u001b[0mdtype\u001b[0m\u001b[0;34m,\u001b[0m \u001b[0mcopy\u001b[0m\u001b[0;34m,\u001b[0m \u001b[0mraise_cast_failure\u001b[0m\u001b[0;34m=\u001b[0m\u001b[0;32mTrue\u001b[0m\u001b[0;34m)\u001b[0m\u001b[0;34m\u001b[0m\u001b[0;34m\u001b[0m\u001b[0m\n\u001b[0m\u001b[1;32m    365\u001b[0m \u001b[0;34m\u001b[0m\u001b[0m\n\u001b[1;32m    366\u001b[0m                 \u001b[0mdata\u001b[0m \u001b[0;34m=\u001b[0m \u001b[0mSingleBlockManager\u001b[0m\u001b[0;34m.\u001b[0m\u001b[0mfrom_array\u001b[0m\u001b[0;34m(\u001b[0m\u001b[0mdata\u001b[0m\u001b[0;34m,\u001b[0m \u001b[0mindex\u001b[0m\u001b[0;34m)\u001b[0m\u001b[0;34m\u001b[0m\u001b[0;34m\u001b[0m\u001b[0m\n",
      "\u001b[0;32m~/opt/anaconda3/lib/python3.8/site-packages/pandas/core/construction.py\u001b[0m in \u001b[0;36msanitize_array\u001b[0;34m(data, index, dtype, copy, raise_cast_failure)\u001b[0m\n\u001b[1;32m    527\u001b[0m     \u001b[0;32melif\u001b[0m \u001b[0msubarr\u001b[0m\u001b[0;34m.\u001b[0m\u001b[0mndim\u001b[0m \u001b[0;34m>\u001b[0m \u001b[0;36m1\u001b[0m\u001b[0;34m:\u001b[0m\u001b[0;34m\u001b[0m\u001b[0;34m\u001b[0m\u001b[0m\n\u001b[1;32m    528\u001b[0m         \u001b[0;32mif\u001b[0m \u001b[0misinstance\u001b[0m\u001b[0;34m(\u001b[0m\u001b[0mdata\u001b[0m\u001b[0;34m,\u001b[0m \u001b[0mnp\u001b[0m\u001b[0;34m.\u001b[0m\u001b[0mndarray\u001b[0m\u001b[0;34m)\u001b[0m\u001b[0;34m:\u001b[0m\u001b[0;34m\u001b[0m\u001b[0;34m\u001b[0m\u001b[0m\n\u001b[0;32m--> 529\u001b[0;31m             \u001b[0;32mraise\u001b[0m \u001b[0mValueError\u001b[0m\u001b[0;34m(\u001b[0m\u001b[0;34m\"Data must be 1-dimensional\"\u001b[0m\u001b[0;34m)\u001b[0m\u001b[0;34m\u001b[0m\u001b[0;34m\u001b[0m\u001b[0m\n\u001b[0m\u001b[1;32m    530\u001b[0m         \u001b[0;32melse\u001b[0m\u001b[0;34m:\u001b[0m\u001b[0;34m\u001b[0m\u001b[0;34m\u001b[0m\u001b[0m\n\u001b[1;32m    531\u001b[0m             \u001b[0msubarr\u001b[0m \u001b[0;34m=\u001b[0m \u001b[0mcom\u001b[0m\u001b[0;34m.\u001b[0m\u001b[0masarray_tuplesafe\u001b[0m\u001b[0;34m(\u001b[0m\u001b[0mdata\u001b[0m\u001b[0;34m,\u001b[0m \u001b[0mdtype\u001b[0m\u001b[0;34m=\u001b[0m\u001b[0mdtype\u001b[0m\u001b[0;34m)\u001b[0m\u001b[0;34m\u001b[0m\u001b[0;34m\u001b[0m\u001b[0m\n",
      "\u001b[0;31mValueError\u001b[0m: Data must be 1-dimensional"
     ]
    }
   ],
   "source": [
    "Df_Array = pd.Series(train_pred_Interval)\n",
    "Df__Array"
   ]
  },
  {
   "cell_type": "code",
   "execution_count": null,
   "id": "ac3a9c5f-d36b-441e-b435-5eba6f11d3e6",
   "metadata": {},
   "outputs": [],
   "source": []
  },
  {
   "cell_type": "code",
   "execution_count": null,
   "id": "49fe7ebc-756e-4c56-b1dd-aa01df295bcf",
   "metadata": {},
   "outputs": [],
   "source": []
  },
  {
   "cell_type": "code",
   "execution_count": 112,
   "id": "4c1ba6e7-9229-4e69-92c2-f908e2bba157",
   "metadata": {},
   "outputs": [
    {
     "name": "stdout",
     "output_type": "stream",
     "text": [
      "丸め込んだ予測結果の先頭10件\n",
      "[[1]\n",
      " [1]\n",
      " [1]\n",
      " [1]\n",
      " [1]\n",
      " [1]\n",
      " [1]\n",
      " [1]\n",
      " [1]\n",
      " [1]]\n"
     ]
    }
   ],
   "source": [
    "# 評価データの予測結果を0もしくは1に丸め込み（0.5を境にして、1に近いほど株価が上昇、0に近いほど株価が上昇しない）\n",
    "predict = np.where(train_pred < 0.5, 0, 1)\n",
    "\n",
    "# 丸め込んだ予測結果の先頭10件を確認\n",
    "print('丸め込んだ予測結果の先頭10件')\n",
    "print(predict[:10])"
   ]
  },
  {
   "cell_type": "code",
   "execution_count": 115,
   "id": "2fe743a3-62ef-41c1-ba00-ac8318a1549c",
   "metadata": {},
   "outputs": [
    {
     "ename": "ValueError",
     "evalue": "Data must be 1-dimensional",
     "output_type": "error",
     "traceback": [
      "\u001b[0;31m---------------------------------------------------------------------------\u001b[0m",
      "\u001b[0;31mValueError\u001b[0m                                Traceback (most recent call last)",
      "\u001b[0;32m<ipython-input-115-3f2b97601cea>\u001b[0m in \u001b[0;36m<module>\u001b[0;34m\u001b[0m\n\u001b[1;32m      1\u001b[0m \u001b[0;31m#ndarray型から行列に変換する。\u001b[0m\u001b[0;34m\u001b[0m\u001b[0;34m\u001b[0m\u001b[0;34m\u001b[0m\u001b[0m\n\u001b[0;32m----> 2\u001b[0;31m \u001b[0my_submit\u001b[0m \u001b[0;34m=\u001b[0m \u001b[0mpd\u001b[0m\u001b[0;34m.\u001b[0m\u001b[0mSeries\u001b[0m\u001b[0;34m(\u001b[0m\u001b[0mpredict\u001b[0m\u001b[0;34m)\u001b[0m\u001b[0;34m\u001b[0m\u001b[0;34m\u001b[0m\u001b[0m\n\u001b[0m\u001b[1;32m      3\u001b[0m \u001b[0my_submit\u001b[0m\u001b[0;34m\u001b[0m\u001b[0;34m\u001b[0m\u001b[0m\n",
      "\u001b[0;32m~/opt/anaconda3/lib/python3.8/site-packages/pandas/core/series.py\u001b[0m in \u001b[0;36m__init__\u001b[0;34m(self, data, index, dtype, name, copy, fastpath)\u001b[0m\n\u001b[1;32m    362\u001b[0m                     \u001b[0mdata\u001b[0m \u001b[0;34m=\u001b[0m \u001b[0mdata\u001b[0m\u001b[0;34m.\u001b[0m\u001b[0mcopy\u001b[0m\u001b[0;34m(\u001b[0m\u001b[0;34m)\u001b[0m\u001b[0;34m\u001b[0m\u001b[0;34m\u001b[0m\u001b[0m\n\u001b[1;32m    363\u001b[0m             \u001b[0;32melse\u001b[0m\u001b[0;34m:\u001b[0m\u001b[0;34m\u001b[0m\u001b[0;34m\u001b[0m\u001b[0m\n\u001b[0;32m--> 364\u001b[0;31m                 \u001b[0mdata\u001b[0m \u001b[0;34m=\u001b[0m \u001b[0msanitize_array\u001b[0m\u001b[0;34m(\u001b[0m\u001b[0mdata\u001b[0m\u001b[0;34m,\u001b[0m \u001b[0mindex\u001b[0m\u001b[0;34m,\u001b[0m \u001b[0mdtype\u001b[0m\u001b[0;34m,\u001b[0m \u001b[0mcopy\u001b[0m\u001b[0;34m,\u001b[0m \u001b[0mraise_cast_failure\u001b[0m\u001b[0;34m=\u001b[0m\u001b[0;32mTrue\u001b[0m\u001b[0;34m)\u001b[0m\u001b[0;34m\u001b[0m\u001b[0;34m\u001b[0m\u001b[0m\n\u001b[0m\u001b[1;32m    365\u001b[0m \u001b[0;34m\u001b[0m\u001b[0m\n\u001b[1;32m    366\u001b[0m                 \u001b[0mdata\u001b[0m \u001b[0;34m=\u001b[0m \u001b[0mSingleBlockManager\u001b[0m\u001b[0;34m.\u001b[0m\u001b[0mfrom_array\u001b[0m\u001b[0;34m(\u001b[0m\u001b[0mdata\u001b[0m\u001b[0;34m,\u001b[0m \u001b[0mindex\u001b[0m\u001b[0;34m)\u001b[0m\u001b[0;34m\u001b[0m\u001b[0;34m\u001b[0m\u001b[0m\n",
      "\u001b[0;32m~/opt/anaconda3/lib/python3.8/site-packages/pandas/core/construction.py\u001b[0m in \u001b[0;36msanitize_array\u001b[0;34m(data, index, dtype, copy, raise_cast_failure)\u001b[0m\n\u001b[1;32m    527\u001b[0m     \u001b[0;32melif\u001b[0m \u001b[0msubarr\u001b[0m\u001b[0;34m.\u001b[0m\u001b[0mndim\u001b[0m \u001b[0;34m>\u001b[0m \u001b[0;36m1\u001b[0m\u001b[0;34m:\u001b[0m\u001b[0;34m\u001b[0m\u001b[0;34m\u001b[0m\u001b[0m\n\u001b[1;32m    528\u001b[0m         \u001b[0;32mif\u001b[0m \u001b[0misinstance\u001b[0m\u001b[0;34m(\u001b[0m\u001b[0mdata\u001b[0m\u001b[0;34m,\u001b[0m \u001b[0mnp\u001b[0m\u001b[0;34m.\u001b[0m\u001b[0mndarray\u001b[0m\u001b[0;34m)\u001b[0m\u001b[0;34m:\u001b[0m\u001b[0;34m\u001b[0m\u001b[0;34m\u001b[0m\u001b[0m\n\u001b[0;32m--> 529\u001b[0;31m             \u001b[0;32mraise\u001b[0m \u001b[0mValueError\u001b[0m\u001b[0;34m(\u001b[0m\u001b[0;34m\"Data must be 1-dimensional\"\u001b[0m\u001b[0;34m)\u001b[0m\u001b[0;34m\u001b[0m\u001b[0;34m\u001b[0m\u001b[0m\n\u001b[0m\u001b[1;32m    530\u001b[0m         \u001b[0;32melse\u001b[0m\u001b[0;34m:\u001b[0m\u001b[0;34m\u001b[0m\u001b[0;34m\u001b[0m\u001b[0m\n\u001b[1;32m    531\u001b[0m             \u001b[0msubarr\u001b[0m \u001b[0;34m=\u001b[0m \u001b[0mcom\u001b[0m\u001b[0;34m.\u001b[0m\u001b[0masarray_tuplesafe\u001b[0m\u001b[0;34m(\u001b[0m\u001b[0mdata\u001b[0m\u001b[0;34m,\u001b[0m \u001b[0mdtype\u001b[0m\u001b[0;34m=\u001b[0m\u001b[0mdtype\u001b[0m\u001b[0;34m)\u001b[0m\u001b[0;34m\u001b[0m\u001b[0;34m\u001b[0m\u001b[0m\n",
      "\u001b[0;31mValueError\u001b[0m: Data must be 1-dimensional"
     ]
    }
   ],
   "source": [
    "#ndarray型から行列に変換する。\n",
    "y_submit = pd.Series(predict)\n",
    "y_submit"
   ]
  },
  {
   "cell_type": "code",
   "execution_count": 114,
   "id": "f12c3e6c-a0c0-4a2e-8a3c-4472563d9120",
   "metadata": {},
   "outputs": [
    {
     "ename": "AttributeError",
     "evalue": "'numpy.ndarray' object has no attribute 'reset_index'",
     "output_type": "error",
     "traceback": [
      "\u001b[0;31m---------------------------------------------------------------------------\u001b[0m",
      "\u001b[0;31mAttributeError\u001b[0m                            Traceback (most recent call last)",
      "\u001b[0;32m<ipython-input-114-33309e8feeb8>\u001b[0m in \u001b[0;36m<module>\u001b[0;34m\u001b[0m\n\u001b[1;32m      1\u001b[0m \u001b[0;31m#6番目毎のデータ結果のみ取り出す。\u001b[0m\u001b[0;34m\u001b[0m\u001b[0;34m\u001b[0m\u001b[0;34m\u001b[0m\u001b[0m\n\u001b[0;32m----> 2\u001b[0;31m \u001b[0my_submit\u001b[0m \u001b[0;34m=\u001b[0m \u001b[0mtrain_pred\u001b[0m\u001b[0;34m[\u001b[0m\u001b[0;36m5\u001b[0m\u001b[0;34m:\u001b[0m\u001b[0;34m:\u001b[0m\u001b[0;36m6\u001b[0m\u001b[0;34m]\u001b[0m\u001b[0;34m.\u001b[0m\u001b[0mreset_index\u001b[0m\u001b[0;34m(\u001b[0m\u001b[0mdrop\u001b[0m\u001b[0;34m=\u001b[0m\u001b[0;32mTrue\u001b[0m\u001b[0;34m)\u001b[0m\u001b[0;34m\u001b[0m\u001b[0;34m\u001b[0m\u001b[0m\n\u001b[0m\u001b[1;32m      3\u001b[0m \u001b[0my_submit\u001b[0m\u001b[0;34m.\u001b[0m\u001b[0mshape\u001b[0m\u001b[0;34m\u001b[0m\u001b[0;34m\u001b[0m\u001b[0m\n",
      "\u001b[0;31mAttributeError\u001b[0m: 'numpy.ndarray' object has no attribute 'reset_index'"
     ]
    }
   ],
   "source": [
    "#6番目毎のデータ結果のみ取り出す。\n",
    "y_submit = train_pred[5::6].reset_index(drop=True)\n",
    "y_submit.shape"
   ]
  },
  {
   "cell_type": "code",
   "execution_count": null,
   "id": "25f9bcd9-e9e4-4513-b450-58067caa5cb1",
   "metadata": {},
   "outputs": [],
   "source": []
  },
  {
   "cell_type": "code",
   "execution_count": null,
   "id": "bd307a83-eb10-47de-9e5a-288aa1e36938",
   "metadata": {},
   "outputs": [],
   "source": []
  },
  {
   "cell_type": "code",
   "execution_count": null,
   "id": "2f306632-f8b7-47cb-88b7-10fd4522749c",
   "metadata": {},
   "outputs": [],
   "source": []
  },
  {
   "cell_type": "code",
   "execution_count": 148,
   "id": "fcb5ee18-b90d-4705-bdfe-f54b0ee32844",
   "metadata": {},
   "outputs": [
    {
     "name": "stdout",
     "output_type": "stream",
     "text": [
      "(259, 6, 5)\n",
      "(86, 6, 5)\n",
      "(207, 6, 5)\n"
     ]
    }
   ],
   "source": [
    "# 学習データ、検証データ、評価データの説明変数の変形と変換\n",
    "# 関数get_standardized_tの定義\n",
    "def get_standardized_t(X, num_date):\n",
    "    X = np.array(X)\n",
    "    X_t_list = []\n",
    "    for i in range(0, len(X) - num_date + 1, 6):\n",
    "        X_t = X[i:i+num_date]\n",
    "        scaler = StandardScaler()\n",
    "        X_standardized = scaler.fit_transform(X_t)\n",
    "        X_t_list.append(X_standardized)\n",
    "    return np.array(X_t_list)\n",
    "\n",
    "# 期間の設定\n",
    "num_date = 6\n",
    "# 学習用、検証用、評価用データの加工\n",
    "X_train_t =  get_standardized_t(X=X_train, num_date=num_date)\n",
    "X_val_t = get_standardized_t(X=X_val, num_date=num_date)\n",
    "X_test_t = get_standardized_t(X=X_test, num_date=num_date)\n",
    "# 学習用、検証用、評価用データの形の表示\n",
    "print(X_train_t.shape)\n",
    "print(X_val_t.shape)\n",
    "print(X_test_t.shape)"
   ]
  },
  {
   "cell_type": "markdown",
   "id": "fc9046bd-9bd9-4149-b775-1a35122536d2",
   "metadata": {},
   "source": [
    "####　微修正"
   ]
  },
  {
   "cell_type": "code",
   "execution_count": null,
   "id": "989be4c2-76c4-4877-9e2b-d176301a286e",
   "metadata": {},
   "outputs": [],
   "source": [
    "# 学習データ、検証データ、評価データの説明変数の変形と変換\n",
    "# 関数get_standardized_tの定義\n",
    "def get_standardized_t(X, num_date):\n",
    "    X = np.array(X)\n",
    "    X_t_list = []\n",
    "    for i in range(0, len(X) - num_date + 1, 6):\n",
    "        X_t = X[i:i+num_date]\n",
    "        scaler = StandardScaler()\n",
    "        X_standardized = scaler.fit_transform(X_t)\n",
    "        X_t_list.append(X_standardized)\n",
    "    return np.array(X_t_list)"
   ]
  },
  {
   "cell_type": "code",
   "execution_count": null,
   "id": "9a584329-1ab3-4d7c-affd-cb590d645bfd",
   "metadata": {},
   "outputs": [],
   "source": [
    "# 期間の設定\n",
    "num_date = 6\n",
    "# 学習用、検証用、評価用データの加工\n",
    "X_train_t =  get_standardized_t(X=X_train, num_date=num_date)\n",
    "X_val_t = get_standardized_t(X=X_val, num_date=num_date)\n",
    "X_test_t = get_standardized_t(X=X_test, num_date=num_date)"
   ]
  },
  {
   "cell_type": "code",
   "execution_count": null,
   "id": "4ea459bd-fc24-4132-845c-8dbbb5ab9fda",
   "metadata": {},
   "outputs": [],
   "source": []
  },
  {
   "cell_type": "code",
   "execution_count": null,
   "id": "b183a1d7-fb67-471b-81e1-4eee3acdcfd1",
   "metadata": {},
   "outputs": [],
   "source": []
  },
  {
   "cell_type": "code",
   "execution_count": null,
   "id": "fdfd2342-b307-4c01-89fd-31e5c46e1644",
   "metadata": {},
   "outputs": [],
   "source": []
  },
  {
   "cell_type": "code",
   "execution_count": 149,
   "id": "eee21420-6534-4c89-9122-0dc9b24d0bfc",
   "metadata": {},
   "outputs": [
    {
     "name": "stdout",
     "output_type": "stream",
     "text": [
      "(259,)\n",
      "(86,)\n",
      "0.5366795366795367\n",
      "0.5581395348837209\n"
     ]
    },
    {
     "data": {
      "text/plain": [
       "Date\n",
       "2003-12-08    1\n",
       "2003-12-16    0\n",
       "2003-12-24    1\n",
       "2004-01-01    1\n",
       "2004-01-09    0\n",
       "Name: Up, dtype: int64"
      ]
     },
     "execution_count": 149,
     "metadata": {},
     "output_type": "execute_result"
    }
   ],
   "source": [
    "# 学習データ、検証データの目的変数の変形\n",
    "\n",
    "# 目的変数の変形\n",
    "y_train_t = y_train[5::6]\n",
    "y_val_t = y_val[5::6]\n",
    "# 目的変数の形の表示\n",
    "print(y_train_t.shape)\n",
    "print(y_val_t.shape)\n",
    "# 目的変数の平均値の表示\n",
    "print(y_train_t.mean())\n",
    "print(y_val_t.mean())\n",
    "y_train_t.head()"
   ]
  },
  {
   "cell_type": "code",
   "execution_count": null,
   "id": "9b1582d3-c229-45a0-a77d-7fb3d391efa6",
   "metadata": {},
   "outputs": [],
   "source": [
    "# 目的変数の型の表示\n",
    "print(f'y_train_t_配列 : {len(y_train_t.shape)}\\n')\n",
    "print(f'y_val_t_配列 : {len(y_val_t.shape)}\\n')\n",
    "\n",
    "# 配列の中身\n",
    "print(f'y_train_t\\n{y_train_t}\\n')\n",
    "print(f'y_val_t\\n{y_val_t}\\n')"
   ]
  },
  {
   "cell_type": "code",
   "execution_count": null,
   "id": "d7a47cf5-4986-4de3-80e6-0c653ca158b2",
   "metadata": {},
   "outputs": [],
   "source": []
  },
  {
   "cell_type": "code",
   "execution_count": null,
   "id": "f93cd74d-b810-4522-8027-b52c7bcbd4ff",
   "metadata": {},
   "outputs": [],
   "source": []
  },
  {
   "cell_type": "markdown",
   "id": "044717e9-1f02-4b88-9e26-a6997b2d9227",
   "metadata": {},
   "source": [
    "## モデル作成"
   ]
  },
  {
   "cell_type": "code",
   "execution_count": 150,
   "id": "1409ff25-3828-4029-afba-3813e0dd91c3",
   "metadata": {},
   "outputs": [],
   "source": [
    "# Sequentialのインポート\n",
    "from keras.models import Sequential\n",
    "# Dense、LSTMのインポート\n",
    "from keras.layers import Dense, LSTM"
   ]
  },
  {
   "cell_type": "code",
   "execution_count": 151,
   "id": "709a765d-f84f-4987-8368-f7fd2cdb3b04",
   "metadata": {},
   "outputs": [],
   "source": [
    "# ネットワークの各層のサイズの定義\n",
    "num_l1 = 100\n",
    "num_l2 = 20\n",
    "num_output = 1\n",
    "\n",
    "# 以下、ネットワークを構築\n",
    "model = Sequential()\n",
    "# 第1層\n",
    "model.add(LSTM(units=num_l1,\n",
    "                activation='tanh',\n",
    "                batch_input_shape=(None, X_train_t.shape[1], X_train_t.shape[2])))\n",
    "# 第2層\n",
    "model.add(Dense(num_l2, activation='relu'))\n",
    "# 出力層\n",
    "model.add(Dense(num_output, activation='sigmoid'))\n",
    "# ネットワークのコンパイル\n",
    "model.compile(loss='binary_crossentropy', optimizer='adam', metrics=['accuracy'])"
   ]
  },
  {
   "cell_type": "code",
   "execution_count": 152,
   "id": "689bdc66-8640-4689-b72c-7d97b03fa7b1",
   "metadata": {},
   "outputs": [
    {
     "name": "stdout",
     "output_type": "stream",
     "text": [
      "Epoch 1/80\n",
      "11/11 [==============================] - 2s 37ms/step - loss: 0.6909 - accuracy: 0.5367 - val_loss: 0.6799 - val_accuracy: 0.6163\n",
      "Epoch 2/80\n",
      "11/11 [==============================] - 0s 5ms/step - loss: 0.6866 - accuracy: 0.5521 - val_loss: 0.6733 - val_accuracy: 0.6395\n",
      "Epoch 3/80\n",
      "11/11 [==============================] - 0s 4ms/step - loss: 0.6822 - accuracy: 0.5753 - val_loss: 0.6711 - val_accuracy: 0.6395\n",
      "Epoch 4/80\n",
      "11/11 [==============================] - 0s 4ms/step - loss: 0.6799 - accuracy: 0.5907 - val_loss: 0.6678 - val_accuracy: 0.6163\n",
      "Epoch 5/80\n",
      "11/11 [==============================] - 0s 4ms/step - loss: 0.6749 - accuracy: 0.5907 - val_loss: 0.6589 - val_accuracy: 0.6279\n",
      "Epoch 6/80\n",
      "11/11 [==============================] - 0s 4ms/step - loss: 0.6714 - accuracy: 0.5946 - val_loss: 0.6580 - val_accuracy: 0.6163\n",
      "Epoch 7/80\n",
      "11/11 [==============================] - 0s 4ms/step - loss: 0.6675 - accuracy: 0.6023 - val_loss: 0.6564 - val_accuracy: 0.6163\n",
      "Epoch 8/80\n",
      "11/11 [==============================] - 0s 4ms/step - loss: 0.6652 - accuracy: 0.5869 - val_loss: 0.6539 - val_accuracy: 0.6047\n",
      "Epoch 9/80\n",
      "11/11 [==============================] - 0s 4ms/step - loss: 0.6621 - accuracy: 0.5946 - val_loss: 0.6519 - val_accuracy: 0.6163\n",
      "Epoch 10/80\n",
      "11/11 [==============================] - 0s 5ms/step - loss: 0.6614 - accuracy: 0.5946 - val_loss: 0.6533 - val_accuracy: 0.6163\n",
      "Epoch 11/80\n",
      "11/11 [==============================] - 0s 4ms/step - loss: 0.6641 - accuracy: 0.5985 - val_loss: 0.6502 - val_accuracy: 0.6047\n",
      "Epoch 12/80\n",
      "11/11 [==============================] - 0s 5ms/step - loss: 0.6549 - accuracy: 0.6100 - val_loss: 0.6553 - val_accuracy: 0.5814\n",
      "Epoch 13/80\n",
      "11/11 [==============================] - 0s 4ms/step - loss: 0.6526 - accuracy: 0.5946 - val_loss: 0.6509 - val_accuracy: 0.6047\n",
      "Epoch 14/80\n",
      "11/11 [==============================] - 0s 5ms/step - loss: 0.6537 - accuracy: 0.6062 - val_loss: 0.6469 - val_accuracy: 0.6279\n",
      "Epoch 15/80\n",
      "11/11 [==============================] - 0s 5ms/step - loss: 0.6518 - accuracy: 0.5946 - val_loss: 0.6529 - val_accuracy: 0.6163\n",
      "Epoch 16/80\n",
      "11/11 [==============================] - 0s 4ms/step - loss: 0.6519 - accuracy: 0.6023 - val_loss: 0.6467 - val_accuracy: 0.6279\n",
      "Epoch 17/80\n",
      "11/11 [==============================] - 0s 4ms/step - loss: 0.6479 - accuracy: 0.6023 - val_loss: 0.6615 - val_accuracy: 0.5698\n",
      "Epoch 18/80\n",
      "11/11 [==============================] - 0s 4ms/step - loss: 0.6492 - accuracy: 0.5946 - val_loss: 0.6466 - val_accuracy: 0.6279\n",
      "Epoch 19/80\n",
      "11/11 [==============================] - 0s 4ms/step - loss: 0.6430 - accuracy: 0.6062 - val_loss: 0.6560 - val_accuracy: 0.6163\n",
      "Epoch 20/80\n",
      "11/11 [==============================] - 0s 4ms/step - loss: 0.6436 - accuracy: 0.6178 - val_loss: 0.6505 - val_accuracy: 0.5930\n",
      "Epoch 21/80\n",
      "11/11 [==============================] - 0s 4ms/step - loss: 0.6412 - accuracy: 0.6255 - val_loss: 0.6512 - val_accuracy: 0.5930\n",
      "Epoch 22/80\n",
      "11/11 [==============================] - 0s 4ms/step - loss: 0.6450 - accuracy: 0.5907 - val_loss: 0.6611 - val_accuracy: 0.6047\n",
      "Epoch 23/80\n",
      "11/11 [==============================] - 0s 4ms/step - loss: 0.6471 - accuracy: 0.6332 - val_loss: 0.6472 - val_accuracy: 0.5814\n",
      "Epoch 24/80\n",
      "11/11 [==============================] - 0s 4ms/step - loss: 0.6376 - accuracy: 0.6216 - val_loss: 0.6612 - val_accuracy: 0.6047\n",
      "Epoch 25/80\n",
      "11/11 [==============================] - 0s 4ms/step - loss: 0.6370 - accuracy: 0.6023 - val_loss: 0.6502 - val_accuracy: 0.6047\n",
      "Epoch 26/80\n",
      "11/11 [==============================] - 0s 4ms/step - loss: 0.6371 - accuracy: 0.6293 - val_loss: 0.6501 - val_accuracy: 0.6163\n",
      "Epoch 27/80\n",
      "11/11 [==============================] - 0s 4ms/step - loss: 0.6324 - accuracy: 0.6371 - val_loss: 0.6697 - val_accuracy: 0.6047\n",
      "Epoch 28/80\n",
      "11/11 [==============================] - 0s 5ms/step - loss: 0.6304 - accuracy: 0.6216 - val_loss: 0.6509 - val_accuracy: 0.6163\n",
      "Epoch 29/80\n",
      "11/11 [==============================] - 0s 4ms/step - loss: 0.6273 - accuracy: 0.6178 - val_loss: 0.6639 - val_accuracy: 0.6163\n",
      "Epoch 30/80\n",
      "11/11 [==============================] - 0s 5ms/step - loss: 0.6278 - accuracy: 0.6178 - val_loss: 0.6691 - val_accuracy: 0.6047\n",
      "Epoch 31/80\n",
      "11/11 [==============================] - 0s 5ms/step - loss: 0.6241 - accuracy: 0.6332 - val_loss: 0.6650 - val_accuracy: 0.5930\n",
      "Epoch 32/80\n",
      "11/11 [==============================] - 0s 5ms/step - loss: 0.6212 - accuracy: 0.6409 - val_loss: 0.6698 - val_accuracy: 0.6047\n",
      "Epoch 33/80\n",
      "11/11 [==============================] - 0s 5ms/step - loss: 0.6252 - accuracy: 0.6178 - val_loss: 0.6676 - val_accuracy: 0.5930\n",
      "Epoch 34/80\n",
      "11/11 [==============================] - 0s 5ms/step - loss: 0.6182 - accuracy: 0.6409 - val_loss: 0.6850 - val_accuracy: 0.5814\n",
      "Epoch 35/80\n",
      "11/11 [==============================] - 0s 5ms/step - loss: 0.6185 - accuracy: 0.6332 - val_loss: 0.6762 - val_accuracy: 0.5930\n",
      "Epoch 36/80\n",
      "11/11 [==============================] - 0s 5ms/step - loss: 0.6140 - accuracy: 0.6255 - val_loss: 0.6790 - val_accuracy: 0.6047\n",
      "Epoch 37/80\n",
      "11/11 [==============================] - 0s 5ms/step - loss: 0.6137 - accuracy: 0.6448 - val_loss: 0.6776 - val_accuracy: 0.6279\n",
      "Epoch 38/80\n",
      "11/11 [==============================] - 0s 4ms/step - loss: 0.6173 - accuracy: 0.6371 - val_loss: 0.6803 - val_accuracy: 0.5930\n",
      "Epoch 39/80\n",
      "11/11 [==============================] - 0s 5ms/step - loss: 0.6166 - accuracy: 0.6525 - val_loss: 0.6764 - val_accuracy: 0.6047\n",
      "Epoch 40/80\n",
      "11/11 [==============================] - 0s 4ms/step - loss: 0.6086 - accuracy: 0.6525 - val_loss: 0.6859 - val_accuracy: 0.6512\n",
      "Epoch 41/80\n",
      "11/11 [==============================] - 0s 4ms/step - loss: 0.6081 - accuracy: 0.6641 - val_loss: 0.6833 - val_accuracy: 0.6163\n",
      "Epoch 42/80\n",
      "11/11 [==============================] - 0s 4ms/step - loss: 0.6065 - accuracy: 0.6255 - val_loss: 0.6967 - val_accuracy: 0.6512\n",
      "Epoch 43/80\n",
      "11/11 [==============================] - 0s 4ms/step - loss: 0.6053 - accuracy: 0.6486 - val_loss: 0.7027 - val_accuracy: 0.6163\n",
      "Epoch 44/80\n",
      "11/11 [==============================] - 0s 4ms/step - loss: 0.6005 - accuracy: 0.6178 - val_loss: 0.7054 - val_accuracy: 0.6047\n",
      "Epoch 45/80\n",
      "11/11 [==============================] - 0s 4ms/step - loss: 0.5895 - accuracy: 0.6602 - val_loss: 0.7137 - val_accuracy: 0.6279\n",
      "Epoch 46/80\n",
      "11/11 [==============================] - 0s 4ms/step - loss: 0.5970 - accuracy: 0.6293 - val_loss: 0.7067 - val_accuracy: 0.6395\n",
      "Epoch 47/80\n",
      "11/11 [==============================] - 0s 5ms/step - loss: 0.5901 - accuracy: 0.6525 - val_loss: 0.7255 - val_accuracy: 0.6512\n",
      "Epoch 48/80\n",
      "11/11 [==============================] - 0s 4ms/step - loss: 0.5825 - accuracy: 0.6680 - val_loss: 0.7221 - val_accuracy: 0.6047\n",
      "Epoch 49/80\n",
      "11/11 [==============================] - 0s 5ms/step - loss: 0.5846 - accuracy: 0.6641 - val_loss: 0.7449 - val_accuracy: 0.6279\n",
      "Epoch 50/80\n",
      "11/11 [==============================] - 0s 4ms/step - loss: 0.5740 - accuracy: 0.6795 - val_loss: 0.7342 - val_accuracy: 0.5930\n",
      "Epoch 51/80\n",
      "11/11 [==============================] - 0s 4ms/step - loss: 0.5712 - accuracy: 0.6988 - val_loss: 0.7432 - val_accuracy: 0.6744\n",
      "Epoch 52/80\n",
      "11/11 [==============================] - 0s 4ms/step - loss: 0.5711 - accuracy: 0.6757 - val_loss: 0.7634 - val_accuracy: 0.5930\n",
      "Epoch 53/80\n",
      "11/11 [==============================] - 0s 5ms/step - loss: 0.5666 - accuracy: 0.6795 - val_loss: 0.7601 - val_accuracy: 0.6279\n",
      "Epoch 54/80\n",
      "11/11 [==============================] - 0s 4ms/step - loss: 0.5671 - accuracy: 0.6834 - val_loss: 0.7616 - val_accuracy: 0.6279\n",
      "Epoch 55/80\n",
      "11/11 [==============================] - 0s 4ms/step - loss: 0.5597 - accuracy: 0.7027 - val_loss: 0.7646 - val_accuracy: 0.6279\n",
      "Epoch 56/80\n",
      "11/11 [==============================] - 0s 4ms/step - loss: 0.5607 - accuracy: 0.6911 - val_loss: 0.7721 - val_accuracy: 0.5814\n",
      "Epoch 57/80\n",
      "11/11 [==============================] - 0s 4ms/step - loss: 0.5504 - accuracy: 0.7181 - val_loss: 0.7916 - val_accuracy: 0.6279\n",
      "Epoch 58/80\n",
      "11/11 [==============================] - 0s 4ms/step - loss: 0.5447 - accuracy: 0.7297 - val_loss: 0.7788 - val_accuracy: 0.5698\n",
      "Epoch 59/80\n",
      "11/11 [==============================] - 0s 4ms/step - loss: 0.5524 - accuracy: 0.7066 - val_loss: 0.7929 - val_accuracy: 0.6512\n",
      "Epoch 60/80\n",
      "11/11 [==============================] - 0s 4ms/step - loss: 0.5362 - accuracy: 0.6911 - val_loss: 0.8110 - val_accuracy: 0.6163\n",
      "Epoch 61/80\n",
      "11/11 [==============================] - 0s 4ms/step - loss: 0.5292 - accuracy: 0.7297 - val_loss: 0.8441 - val_accuracy: 0.5930\n",
      "Epoch 62/80\n",
      "11/11 [==============================] - 0s 4ms/step - loss: 0.5281 - accuracy: 0.7066 - val_loss: 0.8297 - val_accuracy: 0.5581\n",
      "Epoch 63/80\n",
      "11/11 [==============================] - 0s 4ms/step - loss: 0.5281 - accuracy: 0.7143 - val_loss: 0.8431 - val_accuracy: 0.6279\n",
      "Epoch 64/80\n",
      "11/11 [==============================] - 0s 4ms/step - loss: 0.5296 - accuracy: 0.7336 - val_loss: 0.8306 - val_accuracy: 0.5930\n",
      "Epoch 65/80\n",
      "11/11 [==============================] - 0s 4ms/step - loss: 0.5093 - accuracy: 0.7490 - val_loss: 0.8755 - val_accuracy: 0.5581\n",
      "Epoch 66/80\n",
      "11/11 [==============================] - 0s 5ms/step - loss: 0.5011 - accuracy: 0.7452 - val_loss: 0.8729 - val_accuracy: 0.6163\n",
      "Epoch 67/80\n",
      "11/11 [==============================] - 0s 5ms/step - loss: 0.4927 - accuracy: 0.7375 - val_loss: 0.9118 - val_accuracy: 0.5581\n",
      "Epoch 68/80\n",
      "11/11 [==============================] - 0s 4ms/step - loss: 0.5205 - accuracy: 0.6988 - val_loss: 0.9170 - val_accuracy: 0.5814\n",
      "Epoch 69/80\n",
      "11/11 [==============================] - 0s 5ms/step - loss: 0.4807 - accuracy: 0.7529 - val_loss: 0.8997 - val_accuracy: 0.6047\n",
      "Epoch 70/80\n",
      "11/11 [==============================] - 0s 4ms/step - loss: 0.4773 - accuracy: 0.7568 - val_loss: 0.9737 - val_accuracy: 0.5349\n",
      "Epoch 71/80\n",
      "11/11 [==============================] - 0s 4ms/step - loss: 0.4639 - accuracy: 0.7490 - val_loss: 0.9655 - val_accuracy: 0.5349\n",
      "Epoch 72/80\n",
      "11/11 [==============================] - 0s 4ms/step - loss: 0.4519 - accuracy: 0.7876 - val_loss: 0.9920 - val_accuracy: 0.5233\n",
      "Epoch 73/80\n",
      "11/11 [==============================] - 0s 4ms/step - loss: 0.4521 - accuracy: 0.7413 - val_loss: 1.0151 - val_accuracy: 0.5930\n",
      "Epoch 74/80\n",
      "11/11 [==============================] - 0s 4ms/step - loss: 0.4513 - accuracy: 0.7992 - val_loss: 1.0160 - val_accuracy: 0.5349\n",
      "Epoch 75/80\n",
      "11/11 [==============================] - 0s 4ms/step - loss: 0.4284 - accuracy: 0.7838 - val_loss: 1.0538 - val_accuracy: 0.5233\n",
      "Epoch 76/80\n",
      "11/11 [==============================] - 0s 4ms/step - loss: 0.4235 - accuracy: 0.7876 - val_loss: 1.0693 - val_accuracy: 0.5465\n",
      "Epoch 77/80\n",
      "11/11 [==============================] - 0s 4ms/step - loss: 0.4197 - accuracy: 0.7799 - val_loss: 1.0919 - val_accuracy: 0.5116\n",
      "Epoch 78/80\n",
      "11/11 [==============================] - 0s 4ms/step - loss: 0.4057 - accuracy: 0.8185 - val_loss: 1.1515 - val_accuracy: 0.4767\n",
      "Epoch 79/80\n",
      "11/11 [==============================] - 0s 4ms/step - loss: 0.4221 - accuracy: 0.7876 - val_loss: 1.1008 - val_accuracy: 0.5116\n",
      "Epoch 80/80\n",
      "11/11 [==============================] - 0s 4ms/step - loss: 0.3973 - accuracy: 0.8031 - val_loss: 1.1394 - val_accuracy: 0.5000\n"
     ]
    }
   ],
   "source": [
    "# モデルの学習の実行（学習の完了までには数秒から数十秒ほど時間がかかります。）\n",
    "result = model.fit(x=X_train_t, y=y_train_t, epochs=30, batch_size=24, validation_data=(X_val_t, y_val_t))"
   ]
  },
  {
   "cell_type": "code",
   "execution_count": 153,
   "id": "c10bf59d-ed3a-40d3-a7aa-0a3f3fe9ec18",
   "metadata": {},
   "outputs": [
    {
     "data": {
      "image/png": "[encoded data removed]",
      "text/plain": [
       "<Figure size 432x288 with 1 Axes>"
      ]
     },
     "metadata": {
      "needs_background": "light"
     },
     "output_type": "display_data"
    }
   ],
   "source": [
    "# matplotlibのインポート\n",
    "from matplotlib import pyplot as plt\n",
    "\n",
    "# 折れ線グラフによる学習データの損失の描画\n",
    "plt.plot(result.history['loss'])\n",
    "\n",
    "# 折れ線グラフによる検証データの損失の描画\n",
    "plt.plot(result.history['val_loss'])\n",
    "\n",
    "# 凡例の指定\n",
    "plt.legend(['Train', 'Val'])\n",
    "\n",
    "# グラフの軸タイトルの指定\n",
    "plt.xlabel('Epoch')\n",
    "plt.ylabel('Loss')\n",
    "\n",
    "# 描画の実行\n",
    "plt.show()"
   ]
  },
  {
   "cell_type": "code",
   "execution_count": 154,
   "id": "20f179e1-348a-4ba5-9021-2e8f84cc4a6a",
   "metadata": {},
   "outputs": [
    {
     "data": {
      "image/png": "[encoded data removed]",
      "text/plain": [
       "<Figure size 432x288 with 1 Axes>"
      ]
     },
     "metadata": {
      "needs_background": "light"
     },
     "output_type": "display_data"
    }
   ],
   "source": [
    "# matplotlibのインポート\n",
    "from matplotlib import pyplot as plt\n",
    "\n",
    "# 折れ線グラフによる学習データの正解率の描画\n",
    "plt.plot(result.history['accuracy'])\n",
    "\n",
    "# 折れ線グラフによる検証データの正解率の描画\n",
    "plt.plot(result.history['val_accuracy'])\n",
    "\n",
    "# 凡例の指定\n",
    "plt.legend(['Train', 'Val'])\n",
    "\n",
    "# グラフの軸タイトルの指定\n",
    "plt.xlabel('Epoch')\n",
    "plt.ylabel('Accuracy')\n",
    "\n",
    "# 描画の実行\n",
    "plt.show()"
   ]
  },
  {
   "cell_type": "markdown",
   "id": "9cbcc730-69fa-430d-9800-37e8144ad15d",
   "metadata": {},
   "source": [
    "## 学習済みモデルを使って、評価（test）データの予測をする！"
   ]
  },
  {
   "cell_type": "code",
   "execution_count": 155,
   "id": "9fd0a419-7a26-41b8-9a4b-c1bfec335fb2",
   "metadata": {},
   "outputs": [
    {
     "name": "stdout",
     "output_type": "stream",
     "text": [
      "予測結果の先頭10件\n",
      "[[0.4750624 ]\n",
      " [0.29761112]\n",
      " [0.97881424]\n",
      " [0.23509273]\n",
      " [0.54273427]\n",
      " [0.49799502]\n",
      " [0.5616262 ]\n",
      " [0.506594  ]\n",
      " [0.7435405 ]\n",
      " [0.4699557 ]]\n"
     ]
    }
   ],
   "source": [
    "# 評価データの予測結果の算出\n",
    "pred_data = model.predict(X_test_t)\n",
    "\n",
    "# 予測結果の先頭10件を確認\n",
    "print('予測結果の先頭10件')\n",
    "print(pred_data[:10])"
   ]
  },
  {
   "cell_type": "code",
   "execution_count": 156,
   "id": "f6a6d91c-79a6-4a44-8a04-e111ad57422c",
   "metadata": {},
   "outputs": [
    {
     "name": "stdout",
     "output_type": "stream",
     "text": [
      "丸め込んだ予測結果の先頭10件\n",
      "[[0]\n",
      " [0]\n",
      " [1]\n",
      " [0]\n",
      " [1]\n",
      " [0]\n",
      " [1]\n",
      " [1]\n",
      " [1]\n",
      " [0]]\n"
     ]
    }
   ],
   "source": [
    "# 評価データの予測結果を0もしくは1に丸め込み（0.5を境にして、1に近いほど株価が上昇、0に近いほど株価が上昇しない）\n",
    "predict = np.where(pred_data < 0.5, 0, 1)\n",
    "\n",
    "# 丸め込んだ予測結果の先頭10件を確認\n",
    "print('丸め込んだ予測結果の先頭10件')\n",
    "print(predict[:10])"
   ]
  },
  {
   "cell_type": "markdown",
   "id": "8159b3d3-2e74-464c-a3cc-9af898e636cb",
   "metadata": {},
   "source": [
    "## 提出用フォーマットのdf_sampleに予測結果を連結する"
   ]
  },
  {
   "cell_type": "code",
   "execution_count": 157,
   "id": "acd1975e-8c78-45ce-be14-374876bacf08",
   "metadata": {},
   "outputs": [
    {
     "data": {
      "text/html": [
       "<div>\n",
       "<style scoped>\n",
       "    .dataframe tbody tr th:only-of-type {\n",
       "        vertical-align: middle;\n",
       "    }\n",
       "\n",
       "    .dataframe tbody tr th {\n",
       "        vertical-align: top;\n",
       "    }\n",
       "\n",
       "    .dataframe thead th {\n",
       "        text-align: right;\n",
       "    }\n",
       "</style>\n",
       "<table border=\"1\" class=\"dataframe\">\n",
       "  <thead>\n",
       "    <tr style=\"text-align: right;\">\n",
       "      <th></th>\n",
       "      <th>Date</th>\n",
       "    </tr>\n",
       "  </thead>\n",
       "  <tbody>\n",
       "    <tr>\n",
       "      <th>0</th>\n",
       "      <td>2011-12-22</td>\n",
       "    </tr>\n",
       "    <tr>\n",
       "      <th>1</th>\n",
       "      <td>2012-01-05</td>\n",
       "    </tr>\n",
       "    <tr>\n",
       "      <th>2</th>\n",
       "      <td>2012-01-19</td>\n",
       "    </tr>\n",
       "    <tr>\n",
       "      <th>3</th>\n",
       "      <td>2012-02-02</td>\n",
       "    </tr>\n",
       "    <tr>\n",
       "      <th>4</th>\n",
       "      <td>2012-02-16</td>\n",
       "    </tr>\n",
       "    <tr>\n",
       "      <th>...</th>\n",
       "      <td>...</td>\n",
       "    </tr>\n",
       "    <tr>\n",
       "      <th>202</th>\n",
       "      <td>2019-10-23</td>\n",
       "    </tr>\n",
       "    <tr>\n",
       "      <th>203</th>\n",
       "      <td>2019-11-07</td>\n",
       "    </tr>\n",
       "    <tr>\n",
       "      <th>204</th>\n",
       "      <td>2019-11-21</td>\n",
       "    </tr>\n",
       "    <tr>\n",
       "      <th>205</th>\n",
       "      <td>2019-12-05</td>\n",
       "    </tr>\n",
       "    <tr>\n",
       "      <th>206</th>\n",
       "      <td>2019-12-19</td>\n",
       "    </tr>\n",
       "  </tbody>\n",
       "</table>\n",
       "<p>207 rows × 1 columns</p>\n",
       "</div>"
      ],
      "text/plain": [
       "           Date\n",
       "0    2011-12-22\n",
       "1    2012-01-05\n",
       "2    2012-01-19\n",
       "3    2012-02-02\n",
       "4    2012-02-16\n",
       "..          ...\n",
       "202  2019-10-23\n",
       "203  2019-11-07\n",
       "204  2019-11-21\n",
       "205  2019-12-05\n",
       "206  2019-12-19\n",
       "\n",
       "[207 rows x 1 columns]"
      ]
     },
     "execution_count": 157,
     "metadata": {},
     "output_type": "execute_result"
    }
   ],
   "source": [
    "df_submit"
   ]
  },
  {
   "cell_type": "code",
   "execution_count": null,
   "id": "e01098ce-2d99-4288-b201-839c40ac016e",
   "metadata": {},
   "outputs": [],
   "source": []
  },
  {
   "cell_type": "code",
   "execution_count": 158,
   "id": "0f61a83e-e529-45a7-800d-ccaaaec5a8c7",
   "metadata": {},
   "outputs": [],
   "source": [
    "# データフレームに変換\n",
    "predict_df = pd.DataFrame(predict)"
   ]
  },
  {
   "cell_type": "code",
   "execution_count": 159,
   "id": "73558904-5964-4a44-91f0-c186e38d25ef",
   "metadata": {},
   "outputs": [],
   "source": [
    "# 予測結果とdf_sampleを連結\n",
    "predict_data = pd.concat([df_submit , predict_df] , axis=1) "
   ]
  },
  {
   "cell_type": "code",
   "execution_count": 160,
   "id": "cce2eb36-8dc9-41d8-8d80-70cb2dc2151d",
   "metadata": {},
   "outputs": [
    {
     "data": {
      "text/html": [
       "<div>\n",
       "<style scoped>\n",
       "    .dataframe tbody tr th:only-of-type {\n",
       "        vertical-align: middle;\n",
       "    }\n",
       "\n",
       "    .dataframe tbody tr th {\n",
       "        vertical-align: top;\n",
       "    }\n",
       "\n",
       "    .dataframe thead th {\n",
       "        text-align: right;\n",
       "    }\n",
       "</style>\n",
       "<table border=\"1\" class=\"dataframe\">\n",
       "  <thead>\n",
       "    <tr style=\"text-align: right;\">\n",
       "      <th></th>\n",
       "      <th>Date</th>\n",
       "      <th>0</th>\n",
       "    </tr>\n",
       "  </thead>\n",
       "  <tbody>\n",
       "    <tr>\n",
       "      <th>0</th>\n",
       "      <td>2011-12-22</td>\n",
       "      <td>0</td>\n",
       "    </tr>\n",
       "    <tr>\n",
       "      <th>1</th>\n",
       "      <td>2012-01-05</td>\n",
       "      <td>0</td>\n",
       "    </tr>\n",
       "    <tr>\n",
       "      <th>2</th>\n",
       "      <td>2012-01-19</td>\n",
       "      <td>1</td>\n",
       "    </tr>\n",
       "    <tr>\n",
       "      <th>3</th>\n",
       "      <td>2012-02-02</td>\n",
       "      <td>0</td>\n",
       "    </tr>\n",
       "    <tr>\n",
       "      <th>4</th>\n",
       "      <td>2012-02-16</td>\n",
       "      <td>1</td>\n",
       "    </tr>\n",
       "    <tr>\n",
       "      <th>...</th>\n",
       "      <td>...</td>\n",
       "      <td>...</td>\n",
       "    </tr>\n",
       "    <tr>\n",
       "      <th>202</th>\n",
       "      <td>2019-10-23</td>\n",
       "      <td>0</td>\n",
       "    </tr>\n",
       "    <tr>\n",
       "      <th>203</th>\n",
       "      <td>2019-11-07</td>\n",
       "      <td>0</td>\n",
       "    </tr>\n",
       "    <tr>\n",
       "      <th>204</th>\n",
       "      <td>2019-11-21</td>\n",
       "      <td>1</td>\n",
       "    </tr>\n",
       "    <tr>\n",
       "      <th>205</th>\n",
       "      <td>2019-12-05</td>\n",
       "      <td>0</td>\n",
       "    </tr>\n",
       "    <tr>\n",
       "      <th>206</th>\n",
       "      <td>2019-12-19</td>\n",
       "      <td>0</td>\n",
       "    </tr>\n",
       "  </tbody>\n",
       "</table>\n",
       "<p>207 rows × 2 columns</p>\n",
       "</div>"
      ],
      "text/plain": [
       "           Date  0\n",
       "0    2011-12-22  0\n",
       "1    2012-01-05  0\n",
       "2    2012-01-19  1\n",
       "3    2012-02-02  0\n",
       "4    2012-02-16  1\n",
       "..          ... ..\n",
       "202  2019-10-23  0\n",
       "203  2019-11-07  0\n",
       "204  2019-11-21  1\n",
       "205  2019-12-05  0\n",
       "206  2019-12-19  0\n",
       "\n",
       "[207 rows x 2 columns]"
      ]
     },
     "execution_count": 160,
     "metadata": {},
     "output_type": "execute_result"
    }
   ],
   "source": [
    "predict_data"
   ]
  },
  {
   "cell_type": "code",
   "execution_count": 161,
   "id": "346baf86-88f2-4b8a-a6a5-32e3f315d5de",
   "metadata": {},
   "outputs": [],
   "source": [
    "# 指定の様式（インデックスはDate、カラム名は「y」のみ）をお守りください。\n",
    "df_submit = predict_data.set_index(\"Date\") #indexにDateを指定する。\n"
   ]
  },
  {
   "cell_type": "code",
   "execution_count": 162,
   "id": "1e974ae1-edba-433a-8689-39c84d2a6bd5",
   "metadata": {},
   "outputs": [
    {
     "data": {
      "text/html": [
       "<div>\n",
       "<style scoped>\n",
       "    .dataframe tbody tr th:only-of-type {\n",
       "        vertical-align: middle;\n",
       "    }\n",
       "\n",
       "    .dataframe tbody tr th {\n",
       "        vertical-align: top;\n",
       "    }\n",
       "\n",
       "    .dataframe thead th {\n",
       "        text-align: right;\n",
       "    }\n",
       "</style>\n",
       "<table border=\"1\" class=\"dataframe\">\n",
       "  <thead>\n",
       "    <tr style=\"text-align: right;\">\n",
       "      <th></th>\n",
       "      <th>Date</th>\n",
       "      <th>y</th>\n",
       "    </tr>\n",
       "  </thead>\n",
       "  <tbody>\n",
       "    <tr>\n",
       "      <th>0</th>\n",
       "      <td>2011-12-22</td>\n",
       "      <td>0</td>\n",
       "    </tr>\n",
       "    <tr>\n",
       "      <th>1</th>\n",
       "      <td>2012-01-05</td>\n",
       "      <td>0</td>\n",
       "    </tr>\n",
       "    <tr>\n",
       "      <th>2</th>\n",
       "      <td>2012-01-19</td>\n",
       "      <td>1</td>\n",
       "    </tr>\n",
       "    <tr>\n",
       "      <th>3</th>\n",
       "      <td>2012-02-02</td>\n",
       "      <td>0</td>\n",
       "    </tr>\n",
       "    <tr>\n",
       "      <th>4</th>\n",
       "      <td>2012-02-16</td>\n",
       "      <td>1</td>\n",
       "    </tr>\n",
       "    <tr>\n",
       "      <th>...</th>\n",
       "      <td>...</td>\n",
       "      <td>...</td>\n",
       "    </tr>\n",
       "    <tr>\n",
       "      <th>202</th>\n",
       "      <td>2019-10-23</td>\n",
       "      <td>0</td>\n",
       "    </tr>\n",
       "    <tr>\n",
       "      <th>203</th>\n",
       "      <td>2019-11-07</td>\n",
       "      <td>0</td>\n",
       "    </tr>\n",
       "    <tr>\n",
       "      <th>204</th>\n",
       "      <td>2019-11-21</td>\n",
       "      <td>1</td>\n",
       "    </tr>\n",
       "    <tr>\n",
       "      <th>205</th>\n",
       "      <td>2019-12-05</td>\n",
       "      <td>0</td>\n",
       "    </tr>\n",
       "    <tr>\n",
       "      <th>206</th>\n",
       "      <td>2019-12-19</td>\n",
       "      <td>0</td>\n",
       "    </tr>\n",
       "  </tbody>\n",
       "</table>\n",
       "<p>207 rows × 2 columns</p>\n",
       "</div>"
      ],
      "text/plain": [
       "           Date  y\n",
       "0    2011-12-22  0\n",
       "1    2012-01-05  0\n",
       "2    2012-01-19  1\n",
       "3    2012-02-02  0\n",
       "4    2012-02-16  1\n",
       "..          ... ..\n",
       "202  2019-10-23  0\n",
       "203  2019-11-07  0\n",
       "204  2019-11-21  1\n",
       "205  2019-12-05  0\n",
       "206  2019-12-19  0\n",
       "\n",
       "[207 rows x 2 columns]"
      ]
     },
     "execution_count": 162,
     "metadata": {},
     "output_type": "execute_result"
    }
   ],
   "source": [
    "df_submit = predict_data.rename(columns={0: 'y'}) #カラム名「1」を「y」に変更する。\n",
    "df_submit.to_csv('y_submit.csv') #投稿するファイルを書き出す。\n",
    "df_submit #投稿する中身を確認する。"
   ]
  },
  {
   "cell_type": "code",
   "execution_count": null,
   "id": "dcc707b3-58b7-4010-9d0d-aec999e60683",
   "metadata": {},
   "outputs": [],
   "source": []
  },
  {
   "cell_type": "code",
   "execution_count": null,
   "id": "8f557fe9-b5f5-47a4-a739-ca676bc10aaa",
   "metadata": {},
   "outputs": [],
   "source": []
  },
  {
   "cell_type": "code",
   "execution_count": null,
   "id": "231909a5-3252-43c5-b43c-9efadcb299ee",
   "metadata": {},
   "outputs": [],
   "source": []
  },
  {
   "cell_type": "code",
   "execution_count": null,
   "id": "ca0bbd59-92a5-4285-a4ec-40b96e49dc05",
   "metadata": {},
   "outputs": [],
   "source": []
  },
  {
   "cell_type": "code",
   "execution_count": null,
   "id": "07446e81-fc1c-40bf-ac7a-0dcd71bfbaae",
   "metadata": {},
   "outputs": [],
   "source": []
  },
  {
   "cell_type": "code",
   "execution_count": null,
   "id": "3c964f06-bb16-48b0-b35a-b975180744c6",
   "metadata": {},
   "outputs": [],
   "source": []
  },
  {
   "cell_type": "code",
   "execution_count": null,
   "id": "150e2302-0a61-4ecd-bc93-1d9a4f1ad309",
   "metadata": {},
   "outputs": [],
   "source": []
  },
  {
   "cell_type": "code",
   "execution_count": null,
   "id": "7dd94eda-8f28-47f5-b3c1-7084259beee9",
   "metadata": {},
   "outputs": [],
   "source": []
  },
  {
   "cell_type": "code",
   "execution_count": null,
   "id": "119713a2-2448-4796-8231-35e96a564359",
   "metadata": {},
   "outputs": [],
   "source": []
  },
  {
   "cell_type": "code",
   "execution_count": null,
   "id": "97c2a0b5-874d-4dc9-9c80-c9d2e0c70857",
   "metadata": {},
   "outputs": [],
   "source": []
  },
  {
   "cell_type": "code",
   "execution_count": null,
   "id": "bdb25d5b-8d61-4352-961e-e2156100f487",
   "metadata": {},
   "outputs": [],
   "source": []
  },
  {
   "cell_type": "code",
   "execution_count": null,
   "id": "ff86ab65-6a26-45dd-8d79-23ab0b3b5985",
   "metadata": {},
   "outputs": [],
   "source": []
  },
  {
   "cell_type": "code",
   "execution_count": null,
   "id": "2fa80ba1-2caa-4a3e-80a1-c385a623ea39",
   "metadata": {},
   "outputs": [],
   "source": []
  },
  {
   "cell_type": "code",
   "execution_count": null,
   "id": "78969735-4213-47ec-b94d-2bbb0a97afa0",
   "metadata": {},
   "outputs": [],
   "source": []
  },
  {
   "cell_type": "code",
   "execution_count": null,
   "id": "363e7464-9af3-4b80-b3c3-06fe395ec6fa",
   "metadata": {},
   "outputs": [],
   "source": []
  },
  {
   "cell_type": "code",
   "execution_count": null,
   "id": "c9756564-244f-4058-a0b8-981616872280",
   "metadata": {},
   "outputs": [],
   "source": []
  },
  {
   "cell_type": "code",
   "execution_count": null,
   "id": "c5aa9467-e5e4-4d63-80b2-9769f1217368",
   "metadata": {},
   "outputs": [],
   "source": []
  },
  {
   "cell_type": "code",
   "execution_count": null,
   "id": "a2607a1f-898a-4d35-8c4a-6a92670ddf99",
   "metadata": {},
   "outputs": [],
   "source": []
  },
  {
   "cell_type": "code",
   "execution_count": null,
   "id": "8bd4e73a-da01-4ea7-9c54-076c4c5ac7a1",
   "metadata": {},
   "outputs": [],
   "source": []
  },
  {
   "cell_type": "code",
   "execution_count": null,
   "id": "fec9e916-ab1f-415c-8c92-317e725691e3",
   "metadata": {},
   "outputs": [],
   "source": []
  },
  {
   "cell_type": "code",
   "execution_count": null,
   "id": "f0387e63-9011-46a5-b118-55e292115d44",
   "metadata": {},
   "outputs": [],
   "source": []
  },
  {
   "cell_type": "code",
   "execution_count": null,
   "id": "569b91f1-6b32-4b5d-80fa-8df700e83652",
   "metadata": {},
   "outputs": [],
   "source": []
  },
  {
   "cell_type": "code",
   "execution_count": null,
   "id": "51e8fd92-406c-4554-90ff-92351f9564b0",
   "metadata": {},
   "outputs": [],
   "source": []
  },
  {
   "cell_type": "code",
   "execution_count": null,
   "id": "f921dbe4-9973-487f-b726-4f6a3a3d9afe",
   "metadata": {},
   "outputs": [],
   "source": []
  },
  {
   "cell_type": "code",
   "execution_count": null,
   "id": "ed5ddaa1-cf22-4d16-8361-62285069e01f",
   "metadata": {},
   "outputs": [],
   "source": []
  },
  {
   "cell_type": "code",
   "execution_count": null,
   "id": "cc112a6c-3593-40cb-933e-057418fe80ef",
   "metadata": {},
   "outputs": [],
   "source": []
  },
  {
   "cell_type": "code",
   "execution_count": null,
   "id": "a0076e6b-3402-49b7-ad48-25a1a42ff636",
   "metadata": {},
   "outputs": [],
   "source": []
  },
  {
   "cell_type": "code",
   "execution_count": null,
   "id": "196034a4-5ae2-4db5-8503-f8a3a9df1d9b",
   "metadata": {},
   "outputs": [],
   "source": []
  },
  {
   "cell_type": "code",
   "execution_count": null,
   "id": "f5a14a27-436a-4491-af99-29fe86fa2cf0",
   "metadata": {},
   "outputs": [],
   "source": []
  },
  {
   "cell_type": "code",
   "execution_count": null,
   "id": "03edf4bd-69a0-472c-bd46-2aa316b10126",
   "metadata": {},
   "outputs": [],
   "source": []
  },
  {
   "cell_type": "code",
   "execution_count": null,
   "id": "836541f8-5673-44fa-8fae-0444dee0396e",
   "metadata": {},
   "outputs": [],
   "source": []
  },
  {
   "cell_type": "code",
   "execution_count": null,
   "id": "0aa173c7-801c-440b-a6a5-a856be4c8bcb",
   "metadata": {},
   "outputs": [],
   "source": []
  },
  {
   "cell_type": "code",
   "execution_count": null,
   "id": "bc59133a-ab65-494a-ae2e-466bdb863282",
   "metadata": {},
   "outputs": [],
   "source": []
  },
  {
   "cell_type": "code",
   "execution_count": null,
   "id": "748d61ba-b2a0-48df-80b2-da7c38fffa38",
   "metadata": {},
   "outputs": [],
   "source": []
  },
  {
   "cell_type": "code",
   "execution_count": null,
   "id": "cf7347a7-5bc8-4b7a-acaa-7bddc22ab8e7",
   "metadata": {},
   "outputs": [],
   "source": []
  },
  {
   "cell_type": "code",
   "execution_count": null,
   "id": "c2e0ad87-5891-4e75-936b-f257e58be504",
   "metadata": {},
   "outputs": [],
   "source": []
  },
  {
   "cell_type": "code",
   "execution_count": null,
   "id": "18152a24-b096-4b23-9fbe-1fa91ded685a",
   "metadata": {},
   "outputs": [],
   "source": []
  },
  {
   "cell_type": "code",
   "execution_count": null,
   "id": "c4e6c494-dfe4-47cd-a91a-4adef0dc7290",
   "metadata": {},
   "outputs": [],
   "source": []
  },
  {
   "cell_type": "code",
   "execution_count": null,
   "id": "90e680d8-3a63-4fe9-b6df-860fe27060bf",
   "metadata": {},
   "outputs": [],
   "source": []
  },
  {
   "cell_type": "code",
   "execution_count": null,
   "id": "5fd27ead-04af-45a7-a95e-3ab5ca0ec21e",
   "metadata": {},
   "outputs": [],
   "source": []
  },
  {
   "cell_type": "code",
   "execution_count": null,
   "id": "73c05802-84b3-454c-a1e5-7d680a7112d0",
   "metadata": {},
   "outputs": [],
   "source": []
  },
  {
   "cell_type": "code",
   "execution_count": null,
   "id": "8ad3b8c7-7e8a-42cc-90f6-ac6889bb221b",
   "metadata": {},
   "outputs": [],
   "source": []
  },
  {
   "cell_type": "code",
   "execution_count": null,
   "id": "67b90c1b-a26d-4448-bb21-67d99cf6534c",
   "metadata": {},
   "outputs": [],
   "source": []
  },
  {
   "cell_type": "code",
   "execution_count": null,
   "id": "fb800f80-ec1d-4f01-a87b-0b5c7c33dedc",
   "metadata": {},
   "outputs": [],
   "source": []
  },
  {
   "cell_type": "code",
   "execution_count": null,
   "id": "cc85d166-2fbc-4cc0-b4f6-f29c6b0d2c65",
   "metadata": {},
   "outputs": [],
   "source": []
  },
  {
   "cell_type": "code",
   "execution_count": null,
   "id": "40b7f064-6380-4245-ae3d-d0f101cee9d7",
   "metadata": {},
   "outputs": [],
   "source": []
  },
  {
   "cell_type": "code",
   "execution_count": null,
   "id": "1b167df4-c0fa-41e1-8ec9-243f8aba198f",
   "metadata": {},
   "outputs": [],
   "source": []
  },
  {
   "cell_type": "code",
   "execution_count": null,
   "id": "31a7f9ea-dd67-4ad0-9f53-ba5b412a69c3",
   "metadata": {},
   "outputs": [],
   "source": []
  },
  {
   "cell_type": "code",
   "execution_count": null,
   "id": "efe0e9c7-319a-49d6-ba2e-7bbb2b183ff6",
   "metadata": {},
   "outputs": [],
   "source": []
  },
  {
   "cell_type": "code",
   "execution_count": null,
   "id": "55d8a579-9e1d-49a5-8fb6-b79cd56f4555",
   "metadata": {},
   "outputs": [],
   "source": []
  },
  {
   "cell_type": "code",
   "execution_count": null,
   "id": "026067f8-21fb-4695-bcba-da8fb560f6ac",
   "metadata": {},
   "outputs": [],
   "source": []
  },
  {
   "cell_type": "code",
   "execution_count": null,
   "id": "6268f0c4-49ad-47c2-84b7-a5b372638ba7",
   "metadata": {},
   "outputs": [],
   "source": []
  },
  {
   "cell_type": "code",
   "execution_count": null,
   "id": "81e9fe38-183e-4e93-b73f-14f76192fe6f",
   "metadata": {},
   "outputs": [],
   "source": []
  },
  {
   "cell_type": "code",
   "execution_count": null,
   "id": "b9412c22-bb3e-49c5-85c3-57931bb14deb",
   "metadata": {},
   "outputs": [],
   "source": []
  },
  {
   "cell_type": "code",
   "execution_count": null,
   "id": "d76e989e-2052-4e9d-bdbb-770704d825c8",
   "metadata": {},
   "outputs": [],
   "source": []
  },
  {
   "cell_type": "code",
   "execution_count": null,
   "id": "acd52a24-15ce-4f0a-9c5d-d28990e7ccf3",
   "metadata": {},
   "outputs": [],
   "source": []
  },
  {
   "cell_type": "code",
   "execution_count": null,
   "id": "088c718b-3ef2-4109-af86-de17f2b5e5d3",
   "metadata": {},
   "outputs": [],
   "source": []
  },
  {
   "cell_type": "code",
   "execution_count": null,
   "id": "0e7cbbb0-2791-46f9-b765-a37298fe3ef6",
   "metadata": {},
   "outputs": [],
   "source": []
  },
  {
   "cell_type": "code",
   "execution_count": null,
   "id": "6d620642-5344-470a-8e53-e6d3206c66d6",
   "metadata": {},
   "outputs": [],
   "source": []
  },
  {
   "cell_type": "code",
   "execution_count": null,
   "id": "533adbe7-7806-4e6a-9c5a-3fb8a45c7028",
   "metadata": {},
   "outputs": [],
   "source": []
  }
 ],
 "metadata": {
  "kernelspec": {
   "display_name": "Python 3",
   "language": "python",
   "name": "python3"
  },
  "language_info": {
   "codemirror_mode": {
    "name": "ipython",
    "version": 3
   },
   "file_extension": ".py",
   "mimetype": "text/x-python",
   "name": "python",
   "nbconvert_exporter": "python",
   "pygments_lexer": "ipython3",
   "version": "3.8.8"
  }
 },
 "nbformat": 4,
 "nbformat_minor": 5
}
