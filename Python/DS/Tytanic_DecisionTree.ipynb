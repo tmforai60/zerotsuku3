{
 "cells": [
  {
   "cell_type": "code",
   "execution_count": 196,
   "id": "0a58ae91-5ee5-46b7-97fe-1857b7743db9",
   "metadata": {},
   "outputs": [
    {
     "name": "stdout",
     "output_type": "stream",
     "text": [
      "/Users/naokimaruoka/Dropbox/00.Self-Dev/Programming/GitHub/Python\n"
     ]
    }
   ],
   "source": [
    "import pandas as pd\n",
    "\n",
    "import os\n",
    "working_directory=os.getcwd()\n",
    "print(working_directory)"
   ]
  },
  {
   "cell_type": "code",
   "execution_count": 197,
   "id": "fe73730f-01df-47ef-81bc-57fc8d474b80",
   "metadata": {},
   "outputs": [],
   "source": [
    "import warnings\n",
    "warnings.simplefilter('ignore')"
   ]
  },
  {
   "cell_type": "code",
   "execution_count": 198,
   "id": "22f25803-390d-4711-b18c-04ff6bc24291",
   "metadata": {},
   "outputs": [],
   "source": [
    "path_train=working_directory+'/train.csv'\n",
    "path_test=working_directory+'/test.csv'\n",
    "path_submit=working_directory+'/submit.csv'\n",
    "df_train=pd.read_csv(path_train)\n",
    "df_test=pd.read_csv(path_test)\n",
    "df_submit=pd.read_csv(path_submit)"
   ]
  },
  {
   "cell_type": "markdown",
   "id": "e2b9f521-b980-46e9-acf3-7507e9ee503b",
   "metadata": {},
   "source": [
    "# Trainデータの事前チェック"
   ]
  },
  {
   "cell_type": "code",
   "execution_count": 199,
   "id": "220bf9d9-051b-44f3-a707-79b4caa7427c",
   "metadata": {},
   "outputs": [
    {
     "data": {
      "text/html": [
       "<div>\n",
       "<style scoped>\n",
       "    .dataframe tbody tr th:only-of-type {\n",
       "        vertical-align: middle;\n",
       "    }\n",
       "\n",
       "    .dataframe tbody tr th {\n",
       "        vertical-align: top;\n",
       "    }\n",
       "\n",
       "    .dataframe thead th {\n",
       "        text-align: right;\n",
       "    }\n",
       "</style>\n",
       "<table border=\"1\" class=\"dataframe\">\n",
       "  <thead>\n",
       "    <tr style=\"text-align: right;\">\n",
       "      <th></th>\n",
       "      <th>ID</th>\n",
       "      <th>survived</th>\n",
       "      <th>pclass</th>\n",
       "      <th>sex</th>\n",
       "      <th>age</th>\n",
       "      <th>sibsp</th>\n",
       "      <th>parch</th>\n",
       "      <th>fare</th>\n",
       "      <th>embarked</th>\n",
       "    </tr>\n",
       "  </thead>\n",
       "  <tbody>\n",
       "    <tr>\n",
       "      <th>0</th>\n",
       "      <td>1</td>\n",
       "      <td>0</td>\n",
       "      <td>3</td>\n",
       "      <td>male</td>\n",
       "      <td>22.0</td>\n",
       "      <td>1</td>\n",
       "      <td>0</td>\n",
       "      <td>7.2500</td>\n",
       "      <td>S</td>\n",
       "    </tr>\n",
       "    <tr>\n",
       "      <th>1</th>\n",
       "      <td>3</td>\n",
       "      <td>1</td>\n",
       "      <td>3</td>\n",
       "      <td>female</td>\n",
       "      <td>26.0</td>\n",
       "      <td>0</td>\n",
       "      <td>0</td>\n",
       "      <td>7.9250</td>\n",
       "      <td>S</td>\n",
       "    </tr>\n",
       "    <tr>\n",
       "      <th>2</th>\n",
       "      <td>4</td>\n",
       "      <td>1</td>\n",
       "      <td>1</td>\n",
       "      <td>female</td>\n",
       "      <td>35.0</td>\n",
       "      <td>1</td>\n",
       "      <td>0</td>\n",
       "      <td>53.1000</td>\n",
       "      <td>S</td>\n",
       "    </tr>\n",
       "    <tr>\n",
       "      <th>3</th>\n",
       "      <td>5</td>\n",
       "      <td>0</td>\n",
       "      <td>3</td>\n",
       "      <td>male</td>\n",
       "      <td>35.0</td>\n",
       "      <td>0</td>\n",
       "      <td>0</td>\n",
       "      <td>8.0500</td>\n",
       "      <td>S</td>\n",
       "    </tr>\n",
       "    <tr>\n",
       "      <th>4</th>\n",
       "      <td>7</td>\n",
       "      <td>0</td>\n",
       "      <td>1</td>\n",
       "      <td>male</td>\n",
       "      <td>54.0</td>\n",
       "      <td>0</td>\n",
       "      <td>0</td>\n",
       "      <td>51.8625</td>\n",
       "      <td>S</td>\n",
       "    </tr>\n",
       "  </tbody>\n",
       "</table>\n",
       "</div>"
      ],
      "text/plain": [
       "   ID  survived  pclass     sex   age  sibsp  parch     fare embarked\n",
       "0   1         0       3    male  22.0      1      0   7.2500        S\n",
       "1   3         1       3  female  26.0      0      0   7.9250        S\n",
       "2   4         1       1  female  35.0      1      0  53.1000        S\n",
       "3   5         0       3    male  35.0      0      0   8.0500        S\n",
       "4   7         0       1    male  54.0      0      0  51.8625        S"
      ]
     },
     "execution_count": 199,
     "metadata": {},
     "output_type": "execute_result"
    }
   ],
   "source": [
    "df_train.head()"
   ]
  },
  {
   "cell_type": "code",
   "execution_count": 200,
   "id": "f751d34e-bd90-43c8-8c36-f176d90dfd71",
   "metadata": {},
   "outputs": [
    {
     "data": {
      "text/plain": [
       "ID            0\n",
       "survived      0\n",
       "pclass        0\n",
       "sex           0\n",
       "age         133\n",
       "sibsp         0\n",
       "parch         0\n",
       "fare          0\n",
       "embarked      2\n",
       "dtype: int64"
      ]
     },
     "execution_count": 200,
     "metadata": {},
     "output_type": "execute_result"
    }
   ],
   "source": [
    "df_train.isnull().sum()"
   ]
  },
  {
   "cell_type": "code",
   "execution_count": 201,
   "id": "7069efd2-8d26-4c6e-a7d6-e407a8a494eb",
   "metadata": {},
   "outputs": [
    {
     "name": "stdout",
     "output_type": "stream",
     "text": [
      "<class 'pandas.core.frame.DataFrame'>\n",
      "RangeIndex: 668 entries, 0 to 667\n",
      "Data columns (total 9 columns):\n",
      " #   Column    Non-Null Count  Dtype  \n",
      "---  ------    --------------  -----  \n",
      " 0   ID        668 non-null    int64  \n",
      " 1   survived  668 non-null    int64  \n",
      " 2   pclass    668 non-null    int64  \n",
      " 3   sex       668 non-null    object \n",
      " 4   age       535 non-null    float64\n",
      " 5   sibsp     668 non-null    int64  \n",
      " 6   parch     668 non-null    int64  \n",
      " 7   fare      668 non-null    float64\n",
      " 8   embarked  666 non-null    object \n",
      "dtypes: float64(2), int64(5), object(2)\n",
      "memory usage: 47.1+ KB\n"
     ]
    }
   ],
   "source": [
    "df_train.info()"
   ]
  },
  {
   "cell_type": "markdown",
   "id": "1543c1a6-16a3-4336-a48e-dd856f51a4f1",
   "metadata": {},
   "source": [
    "#　特徴量エンジニアリング"
   ]
  },
  {
   "cell_type": "markdown",
   "id": "d6842098-79eb-4750-945d-cf543b2e009d",
   "metadata": {},
   "source": [
    "## Trainデータの補正"
   ]
  },
  {
   "cell_type": "code",
   "execution_count": 202,
   "id": "5e0bb6e6-525b-4619-8a03-602bfc047068",
   "metadata": {},
   "outputs": [
    {
     "data": {
      "text/plain": [
       "array(['S', 'C', 'Q', nan], dtype=object)"
      ]
     },
     "execution_count": 202,
     "metadata": {},
     "output_type": "execute_result"
    }
   ],
   "source": [
    "df_train['embarked'].unique()"
   ]
  },
  {
   "cell_type": "code",
   "execution_count": 203,
   "id": "ae9d0a99-fdba-41f4-8d47-b78b30397c1f",
   "metadata": {},
   "outputs": [],
   "source": [
    "df_train.embarked=df_train.embarked.replace(['S','C','Q'],[0,1,2])"
   ]
  },
  {
   "cell_type": "code",
   "execution_count": 204,
   "id": "cef749d7-3102-48d1-b63f-0a3678448b06",
   "metadata": {},
   "outputs": [],
   "source": [
    "df_train.sex=df_train.sex.replace(['male','female'],[0,1])"
   ]
  },
  {
   "cell_type": "code",
   "execution_count": 205,
   "id": "1313c4b8-1c3e-4415-96d2-0774e0d51cd9",
   "metadata": {},
   "outputs": [],
   "source": [
    "df_train['age'].fillna(df_train.age.median(),inplace=True)"
   ]
  },
  {
   "cell_type": "code",
   "execution_count": 206,
   "id": "f8bb33d5-58fd-4ae7-8136-29ef100ed095",
   "metadata": {},
   "outputs": [],
   "source": [
    "df_train['embarked'].fillna(df_train.embarked.median(),inplace=True)"
   ]
  },
  {
   "cell_type": "code",
   "execution_count": 207,
   "id": "bd948582-8b70-410b-b1b4-fb8deddc4155",
   "metadata": {},
   "outputs": [
    {
     "name": "stdout",
     "output_type": "stream",
     "text": [
      "<class 'pandas.core.frame.DataFrame'>\n",
      "RangeIndex: 668 entries, 0 to 667\n",
      "Data columns (total 9 columns):\n",
      " #   Column    Non-Null Count  Dtype  \n",
      "---  ------    --------------  -----  \n",
      " 0   ID        668 non-null    int64  \n",
      " 1   survived  668 non-null    int64  \n",
      " 2   pclass    668 non-null    int64  \n",
      " 3   sex       668 non-null    int64  \n",
      " 4   age       668 non-null    float64\n",
      " 5   sibsp     668 non-null    int64  \n",
      " 6   parch     668 non-null    int64  \n",
      " 7   fare      668 non-null    float64\n",
      " 8   embarked  668 non-null    float64\n",
      "dtypes: float64(3), int64(6)\n",
      "memory usage: 47.1 KB\n"
     ]
    }
   ],
   "source": [
    "df_train.info()"
   ]
  },
  {
   "cell_type": "code",
   "execution_count": 208,
   "id": "d3fe70e4-28c8-486f-8900-6b2e26b1aba5",
   "metadata": {},
   "outputs": [
    {
     "data": {
      "text/plain": [
       "ID          0\n",
       "survived    0\n",
       "pclass      0\n",
       "sex         0\n",
       "age         0\n",
       "sibsp       0\n",
       "parch       0\n",
       "fare        0\n",
       "embarked    0\n",
       "dtype: int64"
      ]
     },
     "execution_count": 208,
     "metadata": {},
     "output_type": "execute_result"
    }
   ],
   "source": [
    "df_train.isnull().sum()"
   ]
  },
  {
   "cell_type": "markdown",
   "id": "2cc95f93-a940-49c7-98dc-5c3c8b54bdcd",
   "metadata": {},
   "source": [
    "## testデータの補正"
   ]
  },
  {
   "cell_type": "code",
   "execution_count": 209,
   "id": "07289c02-8d2d-4949-85d1-a4bfc584c400",
   "metadata": {},
   "outputs": [],
   "source": [
    "df_test.embarked=df_test.embarked.replace(['S','C','Q'],[0,1,2])"
   ]
  },
  {
   "cell_type": "code",
   "execution_count": 210,
   "id": "925627f9-61c3-411f-a71b-586562c3f1b4",
   "metadata": {},
   "outputs": [],
   "source": [
    "df_test.sex=df_test.sex.replace(['male','female'],[0,1])"
   ]
  },
  {
   "cell_type": "code",
   "execution_count": 211,
   "id": "cba04c23-5528-4d77-bfde-c837aef33119",
   "metadata": {},
   "outputs": [],
   "source": [
    "df_test['age'].fillna(df_test.age.median(),inplace=True)"
   ]
  },
  {
   "cell_type": "code",
   "execution_count": 212,
   "id": "5027a017-1048-4856-b81e-a4fa23665414",
   "metadata": {},
   "outputs": [],
   "source": [
    "df_test['embarked'].fillna(df_test.embarked.median(),inplace=True)"
   ]
  },
  {
   "cell_type": "code",
   "execution_count": 213,
   "id": "d8f4f793-4f7b-41bd-8837-b22a70c83a05",
   "metadata": {},
   "outputs": [
    {
     "name": "stdout",
     "output_type": "stream",
     "text": [
      "<class 'pandas.core.frame.DataFrame'>\n",
      "RangeIndex: 223 entries, 0 to 222\n",
      "Data columns (total 8 columns):\n",
      " #   Column    Non-Null Count  Dtype  \n",
      "---  ------    --------------  -----  \n",
      " 0   ID        223 non-null    int64  \n",
      " 1   pclass    223 non-null    int64  \n",
      " 2   sex       223 non-null    int64  \n",
      " 3   age       223 non-null    float64\n",
      " 4   sibsp     223 non-null    int64  \n",
      " 5   parch     223 non-null    int64  \n",
      " 6   fare      223 non-null    float64\n",
      " 7   embarked  223 non-null    int64  \n",
      "dtypes: float64(2), int64(6)\n",
      "memory usage: 14.1 KB\n"
     ]
    }
   ],
   "source": [
    "df_test.info()"
   ]
  },
  {
   "cell_type": "code",
   "execution_count": null,
   "id": "b8b333ee-43c5-49dd-b16a-4c76472b3a20",
   "metadata": {},
   "outputs": [],
   "source": []
  },
  {
   "cell_type": "markdown",
   "id": "ae2e9852-acfe-4fca-880c-7faed31f0823",
   "metadata": {},
   "source": [
    "# モデリング"
   ]
  },
  {
   "cell_type": "code",
   "execution_count": 214,
   "id": "e380c736-74cf-4dc6-9f4c-b6108a0b5373",
   "metadata": {},
   "outputs": [],
   "source": [
    "# scikit-learnのインポート\n",
    "from sklearn import tree"
   ]
  },
  {
   "cell_type": "code",
   "execution_count": 215,
   "id": "bcd2be38-8d2f-4d0e-be65-a1a9acf26bf2",
   "metadata": {},
   "outputs": [],
   "source": [
    "# trainの目的変数と説明変数の値を取得\n",
    "target=df_train[\"survived\"].values\n",
    "features_one=df_train[[\"pclass\",\"sex\",\"age\",\"sibsp\",\"parch\",\"fare\"]].values\n",
    "# features_one=df_train[[\"pclass\",\"sex\",\"age\",\"fare\"]].values"
   ]
  },
  {
   "cell_type": "code",
   "execution_count": 216,
   "id": "18e8e7c1-4773-442d-9792-9f222aa72f11",
   "metadata": {},
   "outputs": [],
   "source": [
    "#　決定木の作成\n",
    "my_tree_one=tree.DecisionTreeClassifier()\n",
    "my_tree_one=my_tree_one.fit(features_one,target)"
   ]
  },
  {
   "cell_type": "code",
   "execution_count": 217,
   "id": "315e4e44-f300-4219-a205-7b80e4bfa4a6",
   "metadata": {},
   "outputs": [],
   "source": [
    "# testの説明変数の値を取得\n",
    "test_features=df_test[[\"pclass\",\"sex\",\"age\",\"sibsp\",\"parch\",\"fare\"]].values\n",
    "# test_features=df_test[[\"pclass\",\"sex\",\"age\",\"fare\"]].values"
   ]
  },
  {
   "cell_type": "code",
   "execution_count": 218,
   "id": "b75388ff-4969-4716-b498-98a48f56de84",
   "metadata": {},
   "outputs": [],
   "source": [
    "# testの説明変数を使ってmy_tree_oneのモデルで予測\n",
    "my_prediction=my_tree_one.predict(test_features)"
   ]
  },
  {
   "cell_type": "code",
   "execution_count": 219,
   "id": "c59bd1a6-c47d-49fd-964f-f9236ccf2448",
   "metadata": {},
   "outputs": [
    {
     "data": {
      "text/plain": [
       "(223,)"
      ]
     },
     "execution_count": 219,
     "metadata": {},
     "output_type": "execute_result"
    }
   ],
   "source": [
    "#予測データのサイズを確認\n",
    "my_prediction.shape"
   ]
  },
  {
   "cell_type": "code",
   "execution_count": 220,
   "id": "0163b6d5-1583-484f-ae83-6929bde76865",
   "metadata": {},
   "outputs": [
    {
     "name": "stdout",
     "output_type": "stream",
     "text": [
      "[1 0 1 1 1 1 0 1 1 1 0 0 0 0 0 0 1 0 0 0 0 1 1 0 0 0 1 0 1 1 0 0 0 0 1 0 0\n",
      " 0 0 0 1 1 0 0 0 0 0 0 1 0 1 0 0 0 0 1 0 0 0 1 0 1 0 0 1 0 1 0 0 1 0 1 1 0\n",
      " 1 0 1 1 1 1 0 1 1 1 0 0 0 0 1 1 0 1 0 0 0 1 0 0 1 1 0 1 1 1 1 0 0 0 0 0 1\n",
      " 1 1 1 0 0 0 1 0 1 0 0 1 1 0 1 0 0 0 1 1 0 1 1 0 0 1 1 0 0 0 0 0 1 0 1 0 0\n",
      " 1 0 1 0 0 0 1 0 0 0 1 0 0 1 1 0 0 0 1 0 0 0 0 0 0 1 0 0 0 0 1 0 1 0 0 1 0\n",
      " 0 0 1 0 1 1 1 1 0 0 0 0 1 0 0 1 0 1 1 1 0 0 0 0 0 0 0 0 1 1 0 1 1 0 1 0 1\n",
      " 0]\n"
     ]
    }
   ],
   "source": [
    "#予測データの中身を確認\n",
    "print(my_prediction)"
   ]
  },
  {
   "cell_type": "markdown",
   "id": "e0d7efa9-ec1d-434d-908f-6cf211821586",
   "metadata": {},
   "source": [
    "#　予測結果の投稿"
   ]
  },
  {
   "cell_type": "code",
   "execution_count": 221,
   "id": "e8cd3e5f-73f9-4cb3-aecb-d08db84011ff",
   "metadata": {},
   "outputs": [],
   "source": [
    "df_submit['y']=my_prediction"
   ]
  },
  {
   "cell_type": "code",
   "execution_count": 222,
   "id": "d0f522e5-a90e-4c45-b10a-b46f92eeb024",
   "metadata": {},
   "outputs": [
    {
     "data": {
      "text/html": [
       "<div>\n",
       "<style scoped>\n",
       "    .dataframe tbody tr th:only-of-type {\n",
       "        vertical-align: middle;\n",
       "    }\n",
       "\n",
       "    .dataframe tbody tr th {\n",
       "        vertical-align: top;\n",
       "    }\n",
       "\n",
       "    .dataframe thead th {\n",
       "        text-align: right;\n",
       "    }\n",
       "</style>\n",
       "<table border=\"1\" class=\"dataframe\">\n",
       "  <thead>\n",
       "    <tr style=\"text-align: right;\">\n",
       "      <th></th>\n",
       "      <th>ID</th>\n",
       "      <th>y</th>\n",
       "    </tr>\n",
       "  </thead>\n",
       "  <tbody>\n",
       "    <tr>\n",
       "      <th>0</th>\n",
       "      <td>2</td>\n",
       "      <td>1</td>\n",
       "    </tr>\n",
       "    <tr>\n",
       "      <th>1</th>\n",
       "      <td>6</td>\n",
       "      <td>0</td>\n",
       "    </tr>\n",
       "    <tr>\n",
       "      <th>2</th>\n",
       "      <td>9</td>\n",
       "      <td>1</td>\n",
       "    </tr>\n",
       "    <tr>\n",
       "      <th>3</th>\n",
       "      <td>11</td>\n",
       "      <td>1</td>\n",
       "    </tr>\n",
       "    <tr>\n",
       "      <th>4</th>\n",
       "      <td>15</td>\n",
       "      <td>1</td>\n",
       "    </tr>\n",
       "    <tr>\n",
       "      <th>...</th>\n",
       "      <td>...</td>\n",
       "      <td>...</td>\n",
       "    </tr>\n",
       "    <tr>\n",
       "      <th>218</th>\n",
       "      <td>878</td>\n",
       "      <td>0</td>\n",
       "    </tr>\n",
       "    <tr>\n",
       "      <th>219</th>\n",
       "      <td>881</td>\n",
       "      <td>1</td>\n",
       "    </tr>\n",
       "    <tr>\n",
       "      <th>220</th>\n",
       "      <td>884</td>\n",
       "      <td>0</td>\n",
       "    </tr>\n",
       "    <tr>\n",
       "      <th>221</th>\n",
       "      <td>888</td>\n",
       "      <td>1</td>\n",
       "    </tr>\n",
       "    <tr>\n",
       "      <th>222</th>\n",
       "      <td>891</td>\n",
       "      <td>0</td>\n",
       "    </tr>\n",
       "  </tbody>\n",
       "</table>\n",
       "<p>223 rows × 2 columns</p>\n",
       "</div>"
      ],
      "text/plain": [
       "      ID  y\n",
       "0      2  1\n",
       "1      6  0\n",
       "2      9  1\n",
       "3     11  1\n",
       "4     15  1\n",
       "..   ... ..\n",
       "218  878  0\n",
       "219  881  1\n",
       "220  884  0\n",
       "221  888  1\n",
       "222  891  0\n",
       "\n",
       "[223 rows x 2 columns]"
      ]
     },
     "execution_count": 222,
     "metadata": {},
     "output_type": "execute_result"
    }
   ],
   "source": [
    "df_submit"
   ]
  },
  {
   "cell_type": "code",
   "execution_count": 224,
   "id": "86ed9bac-b71e-41e4-9ef2-b69f3ab76742",
   "metadata": {},
   "outputs": [],
   "source": [
    "df_submit.to_csv('submission3.csv')"
   ]
  },
  {
   "cell_type": "code",
   "execution_count": null,
   "id": "5a47f921-a6f4-4334-b57e-f33d41d580a2",
   "metadata": {},
   "outputs": [],
   "source": []
  },
  {
   "cell_type": "markdown",
   "id": "de88d8ab-1617-4012-92ca-591c45b4c2eb",
   "metadata": {},
   "source": [
    "# 精度改善方法\n",
    "・欠損値の埋め方\n",
    "・異常値の確認\n",
    "・新しい特徴量を作る\n",
    "・特徴量を正規化と標準化してみる\n",
    "・特徴量エンジニアリングとはなんなのか\n",
    "・他の機械学習モデルを試す"
   ]
  },
  {
   "cell_type": "code",
   "execution_count": null,
   "id": "6736d101-c602-4ef4-942c-a2bd6b048153",
   "metadata": {},
   "outputs": [],
   "source": []
  },
  {
   "cell_type": "code",
   "execution_count": null,
   "id": "2e0fbf80-e722-480b-bc78-da8bb7e21a29",
   "metadata": {},
   "outputs": [],
   "source": []
  },
  {
   "cell_type": "code",
   "execution_count": null,
   "id": "deae2880-33d9-42d0-8f52-1705930b5dcc",
   "metadata": {},
   "outputs": [],
   "source": []
  },
  {
   "cell_type": "code",
   "execution_count": null,
   "id": "9a2d1aca-65e9-4770-b97b-a92dc5ea66c0",
   "metadata": {},
   "outputs": [],
   "source": []
  },
  {
   "cell_type": "code",
   "execution_count": null,
   "id": "7420d41c-1ff6-4d16-89f4-46e0892ee47e",
   "metadata": {},
   "outputs": [],
   "source": []
  },
  {
   "cell_type": "code",
   "execution_count": null,
   "id": "ff05279a-aac3-4885-931f-472fd1801e87",
   "metadata": {},
   "outputs": [],
   "source": []
  },
  {
   "cell_type": "code",
   "execution_count": null,
   "id": "d757ac00-393e-46e1-9193-293cf689311b",
   "metadata": {},
   "outputs": [],
   "source": []
  }
 ],
 "metadata": {
  "kernelspec": {
   "display_name": "Python 3",
   "language": "python",
   "name": "python3"
  },
  "language_info": {
   "codemirror_mode": {
    "name": "ipython",
    "version": 3
   },
   "file_extension": ".py",
   "mimetype": "text/x-python",
   "name": "python",
   "nbconvert_exporter": "python",
   "pygments_lexer": "ipython3",
   "version": "3.8.8"
  }
 },
 "nbformat": 4,
 "nbformat_minor": 5
}
