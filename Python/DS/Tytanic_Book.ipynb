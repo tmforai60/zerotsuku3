{
 "cells": [
  {
   "cell_type": "code",
   "execution_count": 37,
   "id": "dd81ce39-956c-4ecc-98a6-bf38e4eee9de",
   "metadata": {},
   "outputs": [
    {
     "name": "stdout",
     "output_type": "stream",
     "text": [
      "/Users/naokimaruoka/Dropbox/00.Self-Dev/Programming/GitHub/Python/DS\n"
     ]
    }
   ],
   "source": [
    "import pandas as pd\n",
    "import numpy as np\n",
    "%matplotlib inline\n",
    "import matplotlib.pyplot as plt\n",
    "import seaborn as sns\n",
    "# sns.set(font=\"IPAexGothic\",style=\"white\")\n",
    "from sklearn.model_selection import train_test_split\n",
    "\n",
    "import warnings\n",
    "warnings.simplefilter('ignore')\n",
    "\n",
    "import os\n",
    "working_directory=os.getcwd()\n",
    "print(working_directory)"
   ]
  },
  {
   "cell_type": "code",
   "execution_count": 38,
   "id": "6fb30a2c-bb2e-4fe4-8d22-5c7975352ed7",
   "metadata": {},
   "outputs": [],
   "source": [
    "path_train=working_directory+'/train.csv'\n",
    "path_test=working_directory+'/test.csv'\n",
    "path_submit=working_directory+'/submit.csv'\n",
    "df_train=pd.read_csv(path_train)\n",
    "df_test=pd.read_csv(path_test)\n",
    "df_submit=pd.read_csv(path_submit)"
   ]
  },
  {
   "cell_type": "code",
   "execution_count": 39,
   "id": "7e638cbc-022f-4d5e-8914-5ac19d65c4a5",
   "metadata": {},
   "outputs": [
    {
     "name": "stdout",
     "output_type": "stream",
     "text": [
      "▼df_train\n",
      "      ID  survived  pclass     sex   age  sibsp  parch     fare embarked\n",
      "0      1         0       3    male  22.0      1      0   7.2500        S\n",
      "1      3         1       3  female  26.0      0      0   7.9250        S\n",
      "2      4         1       1  female  35.0      1      0  53.1000        S\n",
      "3      5         0       3    male  35.0      0      0   8.0500        S\n",
      "4      7         0       1    male  54.0      0      0  51.8625        S\n",
      "..   ...       ...     ...     ...   ...    ...    ...      ...      ...\n",
      "663  885         0       3    male  25.0      0      0   7.0500        S\n",
      "664  886         0       3  female  39.0      0      5  29.1250        Q\n",
      "665  887         0       2    male  27.0      0      0  13.0000        S\n",
      "666  889         0       3  female   NaN      1      2  23.4500        S\n",
      "667  890         1       1    male  26.0      0      0  30.0000        C\n",
      "\n",
      "[668 rows x 9 columns]\n",
      "\n",
      "▼df_test\n",
      "      ID  pclass     sex   age  sibsp  parch     fare embarked\n",
      "0      2       1  female  38.0      1      0  71.2833        C\n",
      "1      6       3    male   NaN      0      0   8.4583        Q\n",
      "2      9       3  female  27.0      0      2  11.1333        S\n",
      "3     11       3  female   4.0      1      1  16.7000        S\n",
      "4     15       3  female  14.0      0      0   7.8542        S\n",
      "..   ...     ...     ...   ...    ...    ...      ...      ...\n",
      "218  878       3    male  19.0      0      0   7.8958        S\n",
      "219  881       2  female  25.0      0      1  26.0000        S\n",
      "220  884       2    male  28.0      0      0  10.5000        S\n",
      "221  888       1  female  19.0      0      0  30.0000        S\n",
      "222  891       3    male  32.0      0      0   7.7500        Q\n",
      "\n",
      "[223 rows x 8 columns]\n",
      "\n"
     ]
    }
   ],
   "source": [
    "print(f'▼df_train\\n{df_train}\\n')\n",
    "print(f'▼df_test\\n{df_test}\\n')"
   ]
  },
  {
   "cell_type": "markdown",
   "id": "af4d4626-e4b5-49c7-94d3-7c0e9ff39569",
   "metadata": {},
   "source": [
    "## 正解データのチェック"
   ]
  },
  {
   "cell_type": "code",
   "execution_count": 40,
   "id": "37224480-4038-4d12-8e2e-20e8524dcefc",
   "metadata": {},
   "outputs": [
    {
     "data": {
      "text/plain": [
       "0    410\n",
       "1    258\n",
       "Name: survived, dtype: int64"
      ]
     },
     "execution_count": 40,
     "metadata": {},
     "output_type": "execute_result"
    }
   ],
   "source": [
    "df_train['survived'].value_counts()"
   ]
  },
  {
   "cell_type": "markdown",
   "id": "8d43ee02-1431-4170-9c23-3011388e9e26",
   "metadata": {},
   "source": [
    "##　1.欠損値の処理"
   ]
  },
  {
   "cell_type": "code",
   "execution_count": 41,
   "id": "ef612498-8a5e-4d7f-a631-2d5a862313b8",
   "metadata": {},
   "outputs": [
    {
     "name": "stdout",
     "output_type": "stream",
     "text": [
      "▼df_train\n",
      "ID            0\n",
      "survived      0\n",
      "pclass        0\n",
      "sex           0\n",
      "age         133\n",
      "sibsp         0\n",
      "parch         0\n",
      "fare          0\n",
      "embarked      2\n",
      "dtype: int64\n",
      "\n",
      "▼df_test\n",
      "ID           0\n",
      "pclass       0\n",
      "sex          0\n",
      "age         44\n",
      "sibsp        0\n",
      "parch        0\n",
      "fare         0\n",
      "embarked     0\n",
      "dtype: int64\n",
      "\n"
     ]
    }
   ],
   "source": [
    "# 欠損値の確認\n",
    "print(f'▼df_train\\n{df_train.isnull().sum()}\\n')\n",
    "print(f'▼df_test\\n{df_test.isnull().sum()}\\n')"
   ]
  },
  {
   "cell_type": "code",
   "execution_count": 42,
   "id": "598404e8-66fa-4bee-a1ff-8561ededd011",
   "metadata": {},
   "outputs": [],
   "source": [
    "# df_train.describe()"
   ]
  },
  {
   "cell_type": "code",
   "execution_count": 43,
   "id": "dc2c353a-a56a-4509-9959-ce7ff32f0d9c",
   "metadata": {},
   "outputs": [],
   "source": [
    "# 欠損値の穴埋め\n",
    "df_train['age']=df_train['age'].fillna(df_train['age'].mean()) #平均値で補填\n",
    "df_train['embarked']=df_train['embarked'].fillna(df_train['embarked'].mode()[0]) #最頻値で補填。mode()は最頻値を配列で返すのでインデックス0で拾う"
   ]
  },
  {
   "cell_type": "code",
   "execution_count": 44,
   "id": "7ab84948-0382-4585-ae21-7b7587b677ea",
   "metadata": {},
   "outputs": [
    {
     "name": "stdout",
     "output_type": "stream",
     "text": [
      "▼df_train\n",
      "ID          0\n",
      "survived    0\n",
      "pclass      0\n",
      "sex         0\n",
      "age         0\n",
      "sibsp       0\n",
      "parch       0\n",
      "fare        0\n",
      "embarked    0\n",
      "dtype: int64\n",
      "\n",
      "▼df_train\n",
      "               ID    survived      pclass         age       sibsp       parch  \\\n",
      "count  668.000000  668.000000  668.000000  668.000000  668.000000  668.000000   \n",
      "mean   445.911677    0.386228    2.305389   29.900000    0.534431    0.392216   \n",
      "std    259.966783    0.487249    0.837377   12.963311    1.161739    0.822509   \n",
      "min      1.000000    0.000000    1.000000    0.670000    0.000000    0.000000   \n",
      "25%    216.250000    0.000000    2.000000   22.750000    0.000000    0.000000   \n",
      "50%    445.500000    0.000000    3.000000   29.900000    0.000000    0.000000   \n",
      "75%    674.500000    1.000000    3.000000   36.000000    1.000000    0.000000   \n",
      "max    890.000000    1.000000    3.000000   80.000000    8.000000    6.000000   \n",
      "\n",
      "             fare  \n",
      "count  668.000000  \n",
      "mean    32.373621  \n",
      "std     50.632021  \n",
      "min      0.000000  \n",
      "25%      7.925000  \n",
      "50%     14.500000  \n",
      "75%     31.275000  \n",
      "max    512.329200  \n",
      "\n"
     ]
    }
   ],
   "source": [
    "# 欠損値の確認\n",
    "print(f'▼df_train\\n{df_train.isnull().sum()}\\n')\n",
    "# print(f'▼df_test\\n{df_test.isnull().sum()}\\n')\n",
    "\n",
    "#　欠損値補填前のサマリ\n",
    "print(f'▼df_train\\n{df_train.describe()}\\n')\n",
    "# print(f'▼df_test\\n{df_test.describe()}\\n')"
   ]
  },
  {
   "cell_type": "markdown",
   "id": "d3069d79-15ca-4c41-8319-9f8877d463f7",
   "metadata": {},
   "source": [
    "## 1.外れ値の処理(今回は不要。決定木を使う場合は多少外れ値があってもOK)"
   ]
  },
  {
   "cell_type": "code",
   "execution_count": null,
   "id": "6fcff164-22d1-4ed8-9eea-6362aaaa75ac",
   "metadata": {},
   "outputs": [],
   "source": []
  },
  {
   "cell_type": "code",
   "execution_count": null,
   "id": "20c7c87c-2c9f-4af7-82d7-3998fda8bfc5",
   "metadata": {},
   "outputs": [],
   "source": []
  },
  {
   "cell_type": "code",
   "execution_count": null,
   "id": "9c220e88-470c-49e1-9ef6-e2ab2be5cf89",
   "metadata": {},
   "outputs": [],
   "source": []
  },
  {
   "cell_type": "code",
   "execution_count": null,
   "id": "9dc766a9-a7b1-43a9-8097-9b6fcff8c22f",
   "metadata": {},
   "outputs": [],
   "source": []
  },
  {
   "cell_type": "code",
   "execution_count": null,
   "id": "bc52b60b-f83d-4d8b-bfd4-93f8953881b3",
   "metadata": {},
   "outputs": [],
   "source": []
  },
  {
   "cell_type": "code",
   "execution_count": null,
   "id": "65e2beb8-13a9-4499-a07f-10e5eb31273c",
   "metadata": {},
   "outputs": [],
   "source": []
  },
  {
   "cell_type": "code",
   "execution_count": null,
   "id": "b1a2797d-9264-4ac1-8205-9990a05486a4",
   "metadata": {},
   "outputs": [],
   "source": []
  },
  {
   "cell_type": "code",
   "execution_count": null,
   "id": "6cbe7de6-470a-4cd6-a715-7dfbd1166931",
   "metadata": {},
   "outputs": [],
   "source": []
  },
  {
   "cell_type": "code",
   "execution_count": null,
   "id": "b53949b0-3ee3-4615-a23e-ae506f15e757",
   "metadata": {},
   "outputs": [],
   "source": []
  }
 ],
 "metadata": {
  "kernelspec": {
   "display_name": "Python 3",
   "language": "python",
   "name": "python3"
  },
  "language_info": {
   "codemirror_mode": {
    "name": "ipython",
    "version": 3
   },
   "file_extension": ".py",
   "mimetype": "text/x-python",
   "name": "python",
   "nbconvert_exporter": "python",
   "pygments_lexer": "ipython3",
   "version": "3.8.8"
  }
 },
 "nbformat": 4,
 "nbformat_minor": 5
}
