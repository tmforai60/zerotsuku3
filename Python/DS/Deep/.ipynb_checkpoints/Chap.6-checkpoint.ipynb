{
 "cells": [
  {
   "cell_type": "markdown",
   "id": "65761060-c268-41eb-b411-33588fcfbdbd",
   "metadata": {},
   "source": [
    "# 6章　学習に関するテクニック"
   ]
  },
  {
   "cell_type": "markdown",
   "id": "0428c13e-e0a8-4de6-883a-de08671e6714",
   "metadata": {},
   "source": [
    "## 6.1 パラメータの更新"
   ]
  },
  {
   "cell_type": "markdown",
   "id": "e6dee3da-f367-4f4e-8e24-ae56b7122378",
   "metadata": {},
   "source": [
    "### 6.1.1 冒険家の話"
   ]
  },
  {
   "cell_type": "markdown",
   "id": "ed130a4c-c772-454c-98bd-25c26ba0a84d",
   "metadata": {},
   "source": [
    "### 6.1.2 SGD"
   ]
  },
  {
   "cell_type": "markdown",
   "id": "f2c24659-10e8-40f8-8f1a-2d73f9ca1840",
   "metadata": {},
   "source": [
    "### 6.1.3 SGDの欠点"
   ]
  },
  {
   "cell_type": "markdown",
   "id": "84a6a03f-2732-4b55-bf98-941cb6fa538b",
   "metadata": {},
   "source": [
    "### 6.1.4 Momentum"
   ]
  },
  {
   "cell_type": "markdown",
   "id": "c797ea80-9f24-4afc-976c-c070adf844b7",
   "metadata": {},
   "source": [
    "### 6.1.5 AdaGrad"
   ]
  },
  {
   "cell_type": "markdown",
   "id": "e56f74cc-92be-4253-8c4b-0faba936aae1",
   "metadata": {},
   "source": [
    "### 6.1.6 Adam"
   ]
  },
  {
   "cell_type": "markdown",
   "id": "8cad731f-0c80-4777-9ba3-5112639c686a",
   "metadata": {},
   "source": [
    "### 6.1.7 どの更新手法を用いるか?"
   ]
  },
  {
   "cell_type": "markdown",
   "id": "3f688931-6bd6-4e8f-a8b4-bf1949d87e5b",
   "metadata": {},
   "source": [
    "### 6.1.8 MNISTデータセットによる更新手法の比較"
   ]
  },
  {
   "cell_type": "markdown",
   "id": "09712cc3-ad1f-496c-bc80-36727fcd42db",
   "metadata": {},
   "source": [
    "## 6.2 重みの初期値"
   ]
  },
  {
   "cell_type": "markdown",
   "id": "11520127-6760-4a8f-8a27-6717c9748856",
   "metadata": {},
   "source": [
    "### 6.2.1 重みの初期値を0にする?"
   ]
  },
  {
   "cell_type": "markdown",
   "id": "01442b91-ec65-443f-836e-e094f319d310",
   "metadata": {},
   "source": [
    "### 6.2.2 隠れ層のアクティベーション分布"
   ]
  },
  {
   "cell_type": "markdown",
   "id": "10af88ae-56f3-41f4-ac4e-a23e28dd5e46",
   "metadata": {},
   "source": [
    "### 6.2.3 ReLUの場合の重みの初期値"
   ]
  },
  {
   "cell_type": "markdown",
   "id": "ed8121b7-add3-4c8c-a0fa-383218c5bb40",
   "metadata": {},
   "source": [
    "### 6.2.4 MNISTデータセットによる重み初期値の比較"
   ]
  },
  {
   "cell_type": "markdown",
   "id": "98a8001c-7dc0-4259-8e30-c35c57d1345c",
   "metadata": {},
   "source": [
    "## 6.3 Batch Normalization"
   ]
  },
  {
   "cell_type": "markdown",
   "id": "81b2a87a-40ea-466f-845b-8b8b9d6c1bfa",
   "metadata": {},
   "source": [
    "### 6.3.1 Batch Normalizationのアルゴリズム"
   ]
  },
  {
   "cell_type": "markdown",
   "id": "07967d2a-46d8-46ac-b45a-eb73968a148c",
   "metadata": {},
   "source": [
    "### 6.3.2 Batch NOrmalizationの評価"
   ]
  },
  {
   "cell_type": "markdown",
   "id": "4ef70849-c190-4864-9d5e-b7bd38bc0964",
   "metadata": {},
   "source": [
    "## 6.4 正則化"
   ]
  },
  {
   "cell_type": "markdown",
   "id": "e0737f76-1537-4804-aab9-266ad5cbfaa3",
   "metadata": {},
   "source": [
    "### 6.4.1 過学習"
   ]
  },
  {
   "cell_type": "markdown",
   "id": "a72439b0-a552-4d21-a35a-ac1c24bf6a4f",
   "metadata": {},
   "source": [
    "### 6.4.2 Weight decay"
   ]
  },
  {
   "cell_type": "markdown",
   "id": "4bd33baf-1379-4be5-8d48-367cd703a664",
   "metadata": {},
   "source": [
    "### 6.4.3 Dropout"
   ]
  },
  {
   "cell_type": "markdown",
   "id": "5f501ff7-2855-4360-8384-2c85d04378fc",
   "metadata": {},
   "source": [
    "## 6.5 ハイパーパラメータの検証"
   ]
  },
  {
   "cell_type": "markdown",
   "id": "ea7a1345-087d-47a0-bfda-09d72a6df5ec",
   "metadata": {},
   "source": [
    "### 6.5.1 検証データ"
   ]
  },
  {
   "cell_type": "markdown",
   "id": "01c0631b-717f-4429-8c42-a11d11934904",
   "metadata": {},
   "source": [
    "### 6.5.2 ハイパーパラメータの最適化"
   ]
  },
  {
   "cell_type": "markdown",
   "id": "a77a2939-c92d-48ce-8803-edd1d81de4b8",
   "metadata": {},
   "source": [
    "### 6.5.3 ハイパーパラメータ最適化の実装"
   ]
  },
  {
   "cell_type": "markdown",
   "id": "3c0df84c-0fa3-42bc-b3fc-929faa3c5b8b",
   "metadata": {},
   "source": [
    "## 6.6 まとめ"
   ]
  },
  {
   "cell_type": "markdown",
   "id": "b4e754c3-f1a0-42ea-a0b2-93c4844e1754",
   "metadata": {},
   "source": []
  },
  {
   "cell_type": "markdown",
   "id": "53e8a954-b84e-48c7-acc9-3b65a72509e4",
   "metadata": {},
   "source": []
  },
  {
   "cell_type": "markdown",
   "id": "7f73ede3-5296-4ab7-8991-583e386691f3",
   "metadata": {},
   "source": []
  },
  {
   "cell_type": "markdown",
   "id": "04fac0d8-bbe9-4125-a089-4e180b874536",
   "metadata": {},
   "source": []
  }
 ],
 "metadata": {
  "kernelspec": {
   "display_name": "Python 3",
   "language": "python",
   "name": "python3"
  },
  "language_info": {
   "codemirror_mode": {
    "name": "ipython",
    "version": 3
   },
   "file_extension": ".py",
   "mimetype": "text/x-python",
   "name": "python",
   "nbconvert_exporter": "python",
   "pygments_lexer": "ipython3",
   "version": "3.8.8"
  }
 },
 "nbformat": 4,
 "nbformat_minor": 5
}
