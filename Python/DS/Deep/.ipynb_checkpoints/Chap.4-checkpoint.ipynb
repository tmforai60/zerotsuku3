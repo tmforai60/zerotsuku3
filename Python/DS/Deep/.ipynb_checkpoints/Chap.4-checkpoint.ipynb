{
 "cells": [
  {
   "cell_type": "markdown",
   "id": "eeb10419-31a8-4da8-87d5-c285c05a174d",
   "metadata": {},
   "source": [
    "# 4章 ニューラルネットワークの学習"
   ]
  },
  {
   "cell_type": "markdown",
   "id": "90feb033-12fc-4dcc-a76c-51e73f78629d",
   "metadata": {},
   "source": [
    "## 4.1 データから学習する"
   ]
  },
  {
   "cell_type": "markdown",
   "id": "2a1564cb-71e5-49f4-a754-cf9a19f219cd",
   "metadata": {},
   "source": [
    "### 4.1.1 データ駆動"
   ]
  },
  {
   "cell_type": "markdown",
   "id": "4fd9d5c7-f2ee-449a-a785-e604f3a9af79",
   "metadata": {},
   "source": [
    "### 4.1.2 訓練データとテストデータ"
   ]
  },
  {
   "cell_type": "markdown",
   "id": "1a9439c1-9aea-4ed6-b256-709d7dca544b",
   "metadata": {},
   "source": [
    "## 4.2 損失関数"
   ]
  },
  {
   "cell_type": "markdown",
   "id": "9b6b2961-4ced-408b-b4cc-e43b7c8a756c",
   "metadata": {},
   "source": [
    "### 4.2.1 2乗和誤差"
   ]
  },
  {
   "cell_type": "markdown",
   "id": "a7829c25-0c08-47e3-8fdf-8d2ca0b84ae2",
   "metadata": {},
   "source": [
    "### 4.2.2 交差エントロピー誤差"
   ]
  },
  {
   "cell_type": "markdown",
   "id": "f4592775-be7c-495f-92ed-3b8c13830f0d",
   "metadata": {},
   "source": [
    "### 4.2.3 交差エントロピー誤差"
   ]
  },
  {
   "cell_type": "markdown",
   "id": "9d634c11-a4cd-4f8b-a084-596ce3882735",
   "metadata": {},
   "source": [
    "### 4.2.4 [バッチ対応版]交差エントロピー誤差の実装"
   ]
  },
  {
   "cell_type": "markdown",
   "id": "e15c00e3-28f8-4f49-b717-c10d2e0db59b",
   "metadata": {},
   "source": [
    "### 4.2.5 なぜ損失関数を設定するのか?"
   ]
  },
  {
   "cell_type": "markdown",
   "id": "4033b06c-db02-4408-8505-f2d093d9021d",
   "metadata": {},
   "source": [
    "## 4.3 数値微分"
   ]
  },
  {
   "cell_type": "markdown",
   "id": "8bc25f56-1749-47c2-ac6b-f55c243d6ce7",
   "metadata": {},
   "source": [
    "### 4.3.1 微分"
   ]
  },
  {
   "cell_type": "markdown",
   "id": "f2630a07-a4b6-4400-8fcc-713ff5513f79",
   "metadata": {},
   "source": []
  },
  {
   "cell_type": "markdown",
   "id": "73807b05-9634-406c-a3bf-c02215c01e35",
   "metadata": {},
   "source": []
  },
  {
   "cell_type": "markdown",
   "id": "3ba974cd-5183-4383-9d98-33669f0340f6",
   "metadata": {},
   "source": []
  },
  {
   "cell_type": "markdown",
   "id": "9caa31c2-f08e-4560-8101-adace61f2eea",
   "metadata": {},
   "source": []
  },
  {
   "cell_type": "markdown",
   "id": "c73d4ec3-aeb0-48bf-943a-077c444c8868",
   "metadata": {},
   "source": []
  },
  {
   "cell_type": "markdown",
   "id": "8be249e6-e0f6-4b75-b075-d53cecfc7149",
   "metadata": {},
   "source": []
  },
  {
   "cell_type": "markdown",
   "id": "a7c2c90a-b8eb-4e9b-a6c6-eb8acb8883e9",
   "metadata": {},
   "source": []
  },
  {
   "cell_type": "markdown",
   "id": "27e0791f-b5f8-4ea2-ac74-c85809185bb1",
   "metadata": {},
   "source": []
  },
  {
   "cell_type": "markdown",
   "id": "1aceb247-1a54-4186-bbb3-f96fa910e67d",
   "metadata": {},
   "source": []
  },
  {
   "cell_type": "markdown",
   "id": "b8d1bc6d-0f3b-4cd2-9964-eeb580a9c362",
   "metadata": {},
   "source": []
  },
  {
   "cell_type": "markdown",
   "id": "e4bb6e41-66f3-40c1-a6be-799161320e17",
   "metadata": {},
   "source": []
  },
  {
   "cell_type": "markdown",
   "id": "ca5fc733-2450-4973-8556-f803b8857edd",
   "metadata": {},
   "source": []
  },
  {
   "cell_type": "markdown",
   "id": "2d8bf683-94e9-46e2-ad5f-88ce26a072cc",
   "metadata": {},
   "source": []
  },
  {
   "cell_type": "markdown",
   "id": "c98c721d-4b0c-4513-a967-23328f54dfcd",
   "metadata": {},
   "source": []
  }
 ],
 "metadata": {
  "kernelspec": {
   "display_name": "Python 3",
   "language": "python",
   "name": "python3"
  },
  "language_info": {
   "codemirror_mode": {
    "name": "ipython",
    "version": 3
   },
   "file_extension": ".py",
   "mimetype": "text/x-python",
   "name": "python",
   "nbconvert_exporter": "python",
   "pygments_lexer": "ipython3",
   "version": "3.8.8"
  }
 },
 "nbformat": 4,
 "nbformat_minor": 5
}
