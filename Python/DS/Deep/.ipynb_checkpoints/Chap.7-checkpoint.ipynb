{
 "cells": [
  {
   "cell_type": "markdown",
   "id": "a594b2a2-56ca-4d7b-bd1d-7469710fe8d6",
   "metadata": {},
   "source": [
    "# 7章 畳み込みニューラルネットワーク"
   ]
  },
  {
   "cell_type": "markdown",
   "id": "f1be888c-5e66-4901-967c-f1907466110f",
   "metadata": {},
   "source": [
    "## 7.1 全体の構造"
   ]
  },
  {
   "cell_type": "markdown",
   "id": "678a8220-947c-4ff0-a612-e306b414ebb7",
   "metadata": {},
   "source": [
    "## 7.2 畳み込み層"
   ]
  },
  {
   "cell_type": "markdown",
   "id": "f5b261bd-ea7e-469d-81db-cfceb7bf0bbc",
   "metadata": {},
   "source": [
    "### 7.2.1 全結合層の問題点"
   ]
  },
  {
   "cell_type": "markdown",
   "id": "7c2004c4-3847-4961-a825-34a094bf2b43",
   "metadata": {},
   "source": [
    "### 7.2.2 畳み込み演算"
   ]
  },
  {
   "cell_type": "markdown",
   "id": "5348c753-6236-4e67-bb64-916f29802465",
   "metadata": {},
   "source": [
    "### 7.2.3 パディング"
   ]
  },
  {
   "cell_type": "markdown",
   "id": "9aa23a83-2984-465f-b1e1-edda0159f615",
   "metadata": {},
   "source": [
    "### 7.2.4 ストライド"
   ]
  },
  {
   "cell_type": "markdown",
   "id": "fbca9802-185c-4542-96bf-f64d710a0b62",
   "metadata": {},
   "source": [
    "### 7.2.6 ブロックで考える"
   ]
  },
  {
   "cell_type": "markdown",
   "id": "ef705562-9500-4495-a356-27f7563dfb5a",
   "metadata": {},
   "source": [
    "### 7.2.7 バッチ処理"
   ]
  },
  {
   "cell_type": "markdown",
   "id": "6897ad8d-1089-44f9-b424-0fbec68a7b44",
   "metadata": {},
   "source": [
    "## 7.3 プーリング層"
   ]
  },
  {
   "cell_type": "markdown",
   "id": "bac54b67-9a5d-4d44-b2a0-b01aaaf22948",
   "metadata": {},
   "source": [
    "### 7.3.1 プーリング層の特徴"
   ]
  },
  {
   "cell_type": "markdown",
   "id": "bb9427b0-07fb-4453-a0b3-d31a107f623b",
   "metadata": {},
   "source": [
    "### 7.4 Convolution/Poolingレイヤの実装"
   ]
  },
  {
   "cell_type": "markdown",
   "id": "557273d5-601b-4703-b325-9007f1f2c833",
   "metadata": {},
   "source": [
    "### 7.4.1 4次元配列"
   ]
  },
  {
   "cell_type": "markdown",
   "id": "4f0665a1-4d66-41f1-9c07-32939e857ba7",
   "metadata": {},
   "source": [
    "### 7.4.2 im2coによる展開"
   ]
  },
  {
   "cell_type": "markdown",
   "id": "53f99f30-18e2-4e11-82d8-d4b5823e3356",
   "metadata": {},
   "source": [
    "### 7.4.3 Convolutionレイヤの実装"
   ]
  },
  {
   "cell_type": "markdown",
   "id": "c5abf6f4-9554-499f-9332-001f1a9924b1",
   "metadata": {},
   "source": [
    "### 7.4.4 Poolingレイヤの実装"
   ]
  },
  {
   "cell_type": "markdown",
   "id": "438c9e26-92d2-40f4-98ef-31491fb702c2",
   "metadata": {},
   "source": [
    "## 7.5　CNNの実装"
   ]
  },
  {
   "cell_type": "markdown",
   "id": "8c68c38a-776b-4498-8c0e-370bd4c33cb9",
   "metadata": {},
   "source": [
    "## 7.6 CNNの可視化"
   ]
  },
  {
   "cell_type": "markdown",
   "id": "a508066a-c594-4fb2-958a-6d8f4984f9e7",
   "metadata": {},
   "source": [
    "### 7.6.1 1層目の重みの可視化"
   ]
  },
  {
   "cell_type": "markdown",
   "id": "13defc67-00d5-4107-9b2d-8b7537557106",
   "metadata": {},
   "source": [
    "### 7.6.2 階層構造による情報抽出"
   ]
  },
  {
   "cell_type": "markdown",
   "id": "dc7b8e92-04d8-45b0-b190-b059550be20f",
   "metadata": {},
   "source": [
    "## 7.7 代表的なCNN"
   ]
  },
  {
   "cell_type": "markdown",
   "id": "4bc95e89-de6e-4e19-bc46-e976ee1765bf",
   "metadata": {},
   "source": [
    "### 7.7.1 LeNet"
   ]
  },
  {
   "cell_type": "markdown",
   "id": "61a64daa-f777-4763-bdb9-3b0569fe4309",
   "metadata": {},
   "source": [
    "### 7.7.2 AlexNet"
   ]
  },
  {
   "cell_type": "markdown",
   "id": "6485c88d-60e5-4297-aa3d-3565aa456be7",
   "metadata": {},
   "source": [
    "## 7.8 まとめ"
   ]
  },
  {
   "cell_type": "markdown",
   "id": "8d4a65ce-e636-47ce-b97f-7e64411efbdd",
   "metadata": {},
   "source": []
  },
  {
   "cell_type": "markdown",
   "id": "004ddeb9-b383-4c61-82d1-ab9297e7f3b3",
   "metadata": {},
   "source": []
  },
  {
   "cell_type": "markdown",
   "id": "c57794c5-2c0c-4a28-9a57-dbaf53a7c941",
   "metadata": {},
   "source": []
  },
  {
   "cell_type": "markdown",
   "id": "07908710-0ffb-4695-a5c8-c828fbab669f",
   "metadata": {},
   "source": []
  }
 ],
 "metadata": {
  "kernelspec": {
   "display_name": "Python 3",
   "language": "python",
   "name": "python3"
  },
  "language_info": {
   "codemirror_mode": {
    "name": "ipython",
    "version": 3
   },
   "file_extension": ".py",
   "mimetype": "text/x-python",
   "name": "python",
   "nbconvert_exporter": "python",
   "pygments_lexer": "ipython3",
   "version": "3.8.8"
  }
 },
 "nbformat": 4,
 "nbformat_minor": 5
}
