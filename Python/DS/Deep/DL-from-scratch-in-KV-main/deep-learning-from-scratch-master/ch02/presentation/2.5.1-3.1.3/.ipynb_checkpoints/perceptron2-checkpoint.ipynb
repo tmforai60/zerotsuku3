{
 "cells": [
  {
   "cell_type": "markdown",
   "metadata": {
    "id": "AfEFV6nS07hI"
   },
   "source": [
    "# 2章パーセプトロン"
   ]
  },
  {
   "cell_type": "markdown",
   "metadata": {},
   "source": [
    "## 2.1 パーセプトロンとは"
   ]
  },
  {
   "attachments": {
    "346cc45c-f7b2-41c8-9737-d7c5ff01d80d.png": {
     "image/png": "[encoded data removed]"
    }
   },
   "cell_type": "markdown",
   "metadata": {},
   "source": [
    "![スクリーンショット 2022-01-19 14.40.33.png](attachment:346cc45c-f7b2-41c8-9737-d7c5ff01d80d.png)"
   ]
  },
  {
   "cell_type": "markdown",
   "metadata": {},
   "source": [
    "## 2.2 単純な論理回路"
   ]
  },
  {
   "cell_type": "markdown",
   "metadata": {},
   "source": [
    "### 2.2.1 ANDゲート"
   ]
  },
  {
   "cell_type": "markdown",
   "metadata": {},
   "source": [
    "| x1 | x2 | y |\n",
    "| :--- | :---: | ---: |\n",
    "| 0 | 0 | 0 |\n",
    "| 1 | 0 | 0 |\n",
    "| 0 | 1 | 0 |\n",
    "| 1 | 1 | 1 |"
   ]
  },
  {
   "cell_type": "code",
   "execution_count": 10,
   "metadata": {},
   "outputs": [],
   "source": [
    "def AND(x1,x2):\n",
    "    w1,w2,theta = 0.5,0.5,0.7\n",
    "    tmp = x1*w1 + x2*w2\n",
    "    if tmp <= theta:\n",
    "        return 0\n",
    "    elif tmp > theta:\n",
    "        return 1"
   ]
  },
  {
   "cell_type": "code",
   "execution_count": 11,
   "metadata": {},
   "outputs": [
    {
     "name": "stdout",
     "output_type": "stream",
     "text": [
      "AND(0,0)→0\n",
      "AND(1,0)→0\n",
      "AND(0,1)→0\n",
      "AND(1,1)→1\n"
     ]
    }
   ],
   "source": [
    "print(f'AND(0,0)→{AND(0,0)}')\n",
    "print(f'AND(1,0)→{AND(1,0)}')\n",
    "print(f'AND(0,1)→{AND(0,1)}')\n",
    "print(f'AND(1,1)→{AND(1,1)}')"
   ]
  },
  {
   "cell_type": "markdown",
   "metadata": {},
   "source": [
    "### 2.2.2 NANDゲート"
   ]
  },
  {
   "cell_type": "markdown",
   "metadata": {},
   "source": [
    "| x1 | x2 | y |\n",
    "| :--- | :---: | ---: |\n",
    "| 0 | 0 | 1 |\n",
    "| 1 | 0 | 1 |\n",
    "| 0 | 1 | 1 |\n",
    "| 1 | 1 | 0 |"
   ]
  },
  {
   "cell_type": "markdown",
   "metadata": {},
   "source": [
    "### 2.2.2 ORゲート"
   ]
  },
  {
   "cell_type": "markdown",
   "metadata": {},
   "source": [
    "| x1 | x2 | y |\n",
    "| :--- | :---: | ---: |\n",
    "| 0 | 0 | 1 |\n",
    "| 1 | 0 | 1 |\n",
    "| 0 | 1 | 1 |\n",
    "| 1 | 1 | 1 |"
   ]
  },
  {
   "cell_type": "markdown",
   "metadata": {},
   "source": [
    "## a"
   ]
  },
  {
   "cell_type": "code",
   "execution_count": 4,
   "metadata": {
    "id": "WdBhU5DE07hU"
   },
   "outputs": [],
   "source": []
  },
  {
   "cell_type": "code",
   "execution_count": 5,
   "metadata": {
    "id": "WdBhU5DE07hU"
   },
   "outputs": [
    {
     "name": "stdout",
     "output_type": "stream",
     "text": [
      "AND(0,0)→0\n",
      "AND(1,0)→0\n",
      "AND(0,1)→0\n",
      "AND(1,1)→1\n"
     ]
    }
   ],
   "source": []
  },
  {
   "cell_type": "code",
   "execution_count": 3,
   "metadata": {
    "id": "WdBhU5DE07hU"
   },
   "outputs": [],
   "source": [
    "import numpy as np\n",
    "x = np.array([0,1])      # 入力\n",
    "w=np.array([0.5,0.5])    # 重み\n",
    "b = -0.7                  # バイアス"
   ]
  },
  {
   "cell_type": "code",
   "execution_count": 4,
   "metadata": {
    "id": "WdBhU5DE07hU"
   },
   "outputs": [
    {
     "data": {
      "text/plain": [
       "array([0. , 0.5])"
      ]
     },
     "execution_count": 4,
     "metadata": {},
     "output_type": "execute_result"
    }
   ],
   "source": [
    "w*x"
   ]
  },
  {
   "cell_type": "code",
   "execution_count": 5,
   "metadata": {},
   "outputs": [
    {
     "data": {
      "text/plain": [
       "0.5"
      ]
     },
     "execution_count": 5,
     "metadata": {},
     "output_type": "execute_result"
    }
   ],
   "source": [
    "np.sum(w*x)"
   ]
  },
  {
   "cell_type": "code",
   "execution_count": 6,
   "metadata": {},
   "outputs": [
    {
     "data": {
      "text/plain": [
       "-0.19999999999999996"
      ]
     },
     "execution_count": 6,
     "metadata": {},
     "output_type": "execute_result"
    }
   ],
   "source": [
    "np.sum(w*x) + b"
   ]
  },
  {
   "cell_type": "code",
   "execution_count": 7,
   "metadata": {
    "id": "KFMNayHs07hb"
   },
   "outputs": [],
   "source": [
    "def AND(x1,x2):\n",
    "  x = np.array([x1,x2])\n",
    "  w = np.array([0.5,0.5])\n",
    "  b = -0.7\n",
    "  tmp = np.sum(w*x) + b\n",
    "\n",
    "  if tmp <= 0:\n",
    "    return 0\n",
    "  else:\n",
    "    return 1"
   ]
  },
  {
   "cell_type": "code",
   "execution_count": 8,
   "metadata": {},
   "outputs": [],
   "source": [
    "def NAND(x1,x2):\n",
    "  x = np.array([x1,x2])\n",
    "  w = np.array([-0.5,-0.5])\n",
    "  b = 0.7\n",
    "  tmp = np.sum(w*x) + b\n",
    "\n",
    "  if tmp <= 0:\n",
    "    return 0\n",
    "  else:\n",
    "    return 1"
   ]
  },
  {
   "cell_type": "code",
   "execution_count": 9,
   "metadata": {},
   "outputs": [],
   "source": [
    "def OR(x1,x2):\n",
    "  x = np.array([x1,x2])\n",
    "  w = np.array([0.5,0.5])\n",
    "  b = -0.2\n",
    "  tmp = np.sum(w*x) + b\n",
    "\n",
    "  if tmp <= 0:\n",
    "    return 0\n",
    "  else:\n",
    "    return 1"
   ]
  },
  {
   "cell_type": "markdown",
   "metadata": {},
   "source": [
    "-今回から-"
   ]
  },
  {
   "cell_type": "markdown",
   "metadata": {},
   "source": [
    "XORゲートの実装"
   ]
  },
  {
   "cell_type": "code",
   "execution_count": 10,
   "metadata": {},
   "outputs": [],
   "source": [
    "def XOR(x1,x2):\n",
    "  s1 = NAND(x1,x2)\n",
    "  s2 = OR(x1,x2)\n",
    "  y = AND(s1, s2)\n",
    "  return y"
   ]
  },
  {
   "cell_type": "code",
   "execution_count": 13,
   "metadata": {},
   "outputs": [
    {
     "name": "stdout",
     "output_type": "stream",
     "text": [
      "XOR(0,0)→0\n",
      "XOR(1,0)→1\n",
      "XOR(0,1)→1\n",
      "XOR(1,1)→0\n"
     ]
    }
   ],
   "source": [
    "print(f'XOR(0,0)→{XOR(0,0)}')\n",
    "print(f'XOR(1,0)→{XOR(1,0)}')\n",
    "print(f'XOR(0,1)→{XOR(0,1)}')\n",
    "print(f'XOR(1,1)→{XOR(1,1)}')"
   ]
  },
  {
   "cell_type": "code",
   "execution_count": null,
   "metadata": {},
   "outputs": [],
   "source": []
  }
 ],
 "metadata": {
  "colab": {
   "name": "signate_titanic_Kokichi_sample.ipynb のコピー",
   "provenance": []
  },
  "kernelspec": {
   "display_name": "Python 3",
   "language": "python",
   "name": "python3"
  },
  "language_info": {
   "codemirror_mode": {
    "name": "ipython",
    "version": 3
   },
   "file_extension": ".py",
   "mimetype": "text/x-python",
   "name": "python",
   "nbconvert_exporter": "python",
   "pygments_lexer": "ipython3",
   "version": "3.8.8"
  },
  "toc-autonumbering": false,
  "toc-showcode": false,
  "toc-showmarkdowntxt": false,
  "toc-showtags": false
 },
 "nbformat": 4,
 "nbformat_minor": 4
}
