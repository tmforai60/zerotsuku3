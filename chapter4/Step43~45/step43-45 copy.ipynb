{
 "cells": [
  {
   "cell_type": "markdown",
   "metadata": {},
   "source": [
    "## ステップ43： ニューラルネットワーク"
   ]
  },
  {
   "cell_type": "code",
   "execution_count": 1,
   "metadata": {},
   "outputs": [],
   "source": [
    "# if '__file__' in globals():\n",
    "#     import os, sys\n",
    "#     sys.path.append(os.path.join(os.path.dirname(__file__), '..'))\n",
    "import numpy as np\n",
    "import matplotlib.pyplot as plt\n",
    "from dezero import Variable\n",
    "import dezero.functions as F"
   ]
  },
  {
   "cell_type": "markdown",
   "metadata": {},
   "source": [
    "線形回帰（step42）の実装は（損失関数を除くと）「行列の積」と「足し算」のみ  \n",
    "　　→線形変換(linear transformation)またはアフィン変換(affine transformation)と呼ばれる\n",
    "\n",
    "$y = F.matmul(x, W) + b$\n"
   ]
  },
  {
   "cell_type": "markdown",
   "metadata": {},
   "source": [
    "![picture 2](images/9c28528f7f341c68fc42f6b5106bad78eaafcb785ea9c330f429df4000556bd0.jpg)  \n"
   ]
  },
  {
   "cell_type": "markdown",
   "metadata": {},
   "source": [
    "1. 左図はDeZeroのmatmul関数とadd関数を使った実装方式  \n",
    "                → 計算過程のtがずっとメモリに存在することになり望ましくない\n",
    "\n",
    "2. 右図はFunctionクラスを継承してLinearクラスを実装する方法"
   ]
  },
  {
   "cell_type": "markdown",
   "metadata": {},
   "source": [
    "#### 1.の実装形式を採用しながらメモリ効率を改善する手法"
   ]
  },
  {
   "cell_type": "code",
   "execution_count": 2,
   "metadata": {},
   "outputs": [],
   "source": [
    "def linear_simple(x, W, b=None):\n",
    "    x, W = as_variable(x), as_variable(W)\n",
    "    t = matmul(x, W)\n",
    "\n",
    "    if b is None:\n",
    "        return t\n",
    "\n",
    "    y = t + b\n",
    "    t.data = None # tのデータを削除（参照カウント０）\n",
    "    return y"
   ]
  },
  {
   "cell_type": "markdown",
   "metadata": {},
   "source": [
    "上では手動で不要なインスタンスは即座に消去をしたが、ChainerのAggressive Buffer Releaseなど、自動化する仕組みも存在する。\n",
    "ここで作ったlinear_simple()関数はdezero/functions.pyへと追加する。"
   ]
  },
  {
   "cell_type": "markdown",
   "metadata": {},
   "source": [
    "### 非線形なデータセット\n",
    "- 線形変換で非線形なデータセットはうまく表現できない。\n",
    "- ニューラルネットワークは非線形な変換を行う活性化関数があるため非線形のデータセットに対応できる余地がある。"
   ]
  },
  {
   "cell_type": "code",
   "execution_count": 3,
   "metadata": {},
   "outputs": [
    {
     "data": {
      "text/plain": [
       "((100, 1),\n",
       " array([[0.5488135 ],\n",
       "        [0.71518937],\n",
       "        [0.60276338],\n",
       "        [0.54488318],\n",
       "        [0.4236548 ],\n",
       "        [0.64589411],\n",
       "        [0.43758721],\n",
       "        [0.891773  ],\n",
       "        [0.96366276],\n",
       "        [0.38344152],\n",
       "        [0.79172504],\n",
       "        [0.52889492],\n",
       "        [0.56804456],\n",
       "        [0.92559664],\n",
       "        [0.07103606],\n",
       "        [0.0871293 ],\n",
       "        [0.0202184 ],\n",
       "        [0.83261985],\n",
       "        [0.77815675],\n",
       "        [0.87001215],\n",
       "        [0.97861834],\n",
       "        [0.79915856],\n",
       "        [0.46147936],\n",
       "        [0.78052918],\n",
       "        [0.11827443],\n",
       "        [0.63992102],\n",
       "        [0.14335329],\n",
       "        [0.94466892],\n",
       "        [0.52184832],\n",
       "        [0.41466194],\n",
       "        [0.26455561],\n",
       "        [0.77423369],\n",
       "        [0.45615033],\n",
       "        [0.56843395],\n",
       "        [0.0187898 ],\n",
       "        [0.6176355 ],\n",
       "        [0.61209572],\n",
       "        [0.616934  ],\n",
       "        [0.94374808],\n",
       "        [0.6818203 ],\n",
       "        [0.3595079 ],\n",
       "        [0.43703195],\n",
       "        [0.6976312 ],\n",
       "        [0.06022547],\n",
       "        [0.66676672],\n",
       "        [0.67063787],\n",
       "        [0.21038256],\n",
       "        [0.1289263 ],\n",
       "        [0.31542835],\n",
       "        [0.36371077],\n",
       "        [0.57019677],\n",
       "        [0.43860151],\n",
       "        [0.98837384],\n",
       "        [0.10204481],\n",
       "        [0.20887676],\n",
       "        [0.16130952],\n",
       "        [0.65310833],\n",
       "        [0.2532916 ],\n",
       "        [0.46631077],\n",
       "        [0.24442559],\n",
       "        [0.15896958],\n",
       "        [0.11037514],\n",
       "        [0.65632959],\n",
       "        [0.13818295],\n",
       "        [0.19658236],\n",
       "        [0.36872517],\n",
       "        [0.82099323],\n",
       "        [0.09710128],\n",
       "        [0.83794491],\n",
       "        [0.09609841],\n",
       "        [0.97645947],\n",
       "        [0.4686512 ],\n",
       "        [0.97676109],\n",
       "        [0.60484552],\n",
       "        [0.73926358],\n",
       "        [0.03918779],\n",
       "        [0.28280696],\n",
       "        [0.12019656],\n",
       "        [0.2961402 ],\n",
       "        [0.11872772],\n",
       "        [0.31798318],\n",
       "        [0.41426299],\n",
       "        [0.0641475 ],\n",
       "        [0.69247212],\n",
       "        [0.56660145],\n",
       "        [0.26538949],\n",
       "        [0.52324805],\n",
       "        [0.09394051],\n",
       "        [0.5759465 ],\n",
       "        [0.9292962 ],\n",
       "        [0.31856895],\n",
       "        [0.66741038],\n",
       "        [0.13179786],\n",
       "        [0.7163272 ],\n",
       "        [0.28940609],\n",
       "        [0.18319136],\n",
       "        [0.58651293],\n",
       "        [0.02010755],\n",
       "        [0.82894003],\n",
       "        [0.00469548]]))"
      ]
     },
     "execution_count": 3,
     "metadata": {},
     "output_type": "execute_result"
    }
   ],
   "source": [
    "# データセットの用意\n",
    "np.random.seed(0)\n",
    "x = np.random.rand(100, 1)\n",
    "y = np.sin(2 * np.pi * x) + np.random.rand(100, 1)\n",
    "\n",
    "x.shape, x"
   ]
  },
  {
   "cell_type": "code",
   "execution_count": 4,
   "metadata": {},
   "outputs": [
    {
     "data": {
      "image/png": "[encoded data removed]",
      "text/plain": [
       "<Figure size 640x480 with 1 Axes>"
      ]
     },
     "metadata": {},
     "output_type": "display_data"
    }
   ],
   "source": [
    "# データセットの可視化\n",
    "plt.scatter(x, y)\n",
    "plt.show()"
   ]
  },
  {
   "cell_type": "markdown",
   "metadata": {},
   "source": [
    "### ニューラルネットワークの実装"
   ]
  },
  {
   "cell_type": "code",
   "execution_count": 5,
   "metadata": {},
   "outputs": [],
   "source": [
    "# シグモイド関数の実装\n",
    "def sigmoid_simple(x):\n",
    "    x = as_variable(x)\n",
    "    y = 1 / (1 + exp(-x))\n",
    "    return y"
   ]
  },
  {
   "cell_type": "markdown",
   "metadata": {},
   "source": [
    "- 一般的なニューラルネットワークは、「線形変換→活性化関数→線形変換→活性化関数→線形変換→…」という形で連続して変換を行う。"
   ]
  },
  {
   "cell_type": "code",
   "execution_count": 6,
   "metadata": {},
   "outputs": [],
   "source": [
    "# 2層のニューラルネットワーク実装の流れの例\n",
    "\n",
    "# W1, b1 = Variable(...), Variable(...)\n",
    "# W2, b2 = Variable(...), Variable(...)\n",
    "\n",
    "def predict(x):\n",
    "    y = F.linear(x, W1, b1) # もしくはF.linear_simple(...)\n",
    "    y = F.sigmoid(y) # もしくはF.sigmoid_simple(...)\n",
    "    y = F.linear(y, W2, b2)\n",
    "    return y"
   ]
  },
  {
   "cell_type": "markdown",
   "metadata": {},
   "source": [
    "![picture 3](images/fb06ae7a21a50281a3766b46f3e93d953ab28ea5690f215db43d721e24a42359.png)  \n"
   ]
  },
  {
   "cell_type": "code",
   "execution_count": 7,
   "metadata": {},
   "outputs": [
    {
     "name": "stdout",
     "output_type": "stream",
     "text": [
      "variable(0.8722647600522339)\n",
      "variable(0.2206454099239167)\n",
      "variable(0.21865140900097102)\n",
      "variable(0.21555997987741296)\n",
      "variable(0.2086467963117385)\n",
      "variable(0.1914762895568438)\n",
      "variable(0.16153631060840962)\n",
      "variable(0.11918660293845741)\n",
      "variable(0.09373966143793573)\n",
      "variable(0.09003987891653659)\n"
     ]
    }
   ],
   "source": [
    "# 2層のニューラルネット\n",
    "import numpy as np\n",
    "from dezero import Variable\n",
    "import dezero.functions as F\n",
    "\n",
    "\n",
    "# データセット\n",
    "np.random.seed(3)\n",
    "x = np.random.rand(100, 1)\n",
    "y = np.sin(2 * np.pi * x) + np.random.rand(100, 1)\n",
    "\n",
    "# ①重みの初期化\n",
    "I, H, O = 1, 10, 1\n",
    "W1 = Variable(0.01 * np.random.randn(I, H)) # 平均0、標準偏差1の正規分布の乱数\n",
    "b1 = Variable(np.zeros(H))\n",
    "W2 = Variable(0.01 * np.random.randn(H, O)) # 平均0、標準偏差1の正規分布の乱数\n",
    "b2 = Variable(np.zeros(O))\n",
    "\n",
    "# ②ニューラルネットの推論\n",
    "def predict(x):\n",
    "    y = F.linear(x, W1, b1)\n",
    "    y = F.sigmoid(y)\n",
    "    y = F.linear(y, W2, b2)\n",
    "    return y\n",
    "\n",
    "lr = 0.2\n",
    "iters = 10000\n",
    "\n",
    "# ③ニューラルネットワークの学習\n",
    "for i in range(iters):\n",
    "    y_pred = predict(x)\n",
    "    loss = F.mean_squared_error(y, y_pred)\n",
    "\n",
    "    W1.cleargrad()\n",
    "    b1.cleargrad()\n",
    "    W2.cleargrad()\n",
    "    b2.cleargrad()\n",
    "    loss.backward()\n",
    "    \n",
    "\n",
    "    W1.data -= lr * W1.grad.data\n",
    "    b1.data -= lr * b1.grad.data\n",
    "    W2.data -= lr * W2.grad.data\n",
    "    b2.data -= lr * b2.grad.data\n",
    "\n",
    "    if i % 1000 == 0:\n",
    "        print(loss)"
   ]
  },
  {
   "cell_type": "code",
   "execution_count": 8,
   "metadata": {},
   "outputs": [
    {
     "data": {
      "image/png": "[encoded data removed]",
      "text/plain": [
       "<Figure size 640x480 with 1 Axes>"
      ]
     },
     "metadata": {},
     "output_type": "display_data"
    }
   ],
   "source": [
    "# Plot\n",
    "plt.scatter(x, y, s=10)\n",
    "plt.xlabel('x')\n",
    "plt.ylabel('y')\n",
    "t = np.arange(0, 1, .01)[:, np.newaxis]\n",
    "y_pred = predict(t)\n",
    "plt.plot(t, y_pred.data, color='r')\n",
    "plt.show()"
   ]
  },
  {
   "cell_type": "markdown",
   "metadata": {},
   "source": [
    "この実装方法のままより深い層からなるニューラルネットワークを実装することも可能。  \n",
    "ただし、層が増えるとパラメータの勾配をリセットしたりパラメータを更新したりする作業[③ニューラルネットワークを学習]が煩わしくなる。"
   ]
  },
  {
   "cell_type": "markdown",
   "metadata": {},
   "source": [
    "### Step44: パラメータをまとめるレイヤ"
   ]
  },
  {
   "cell_type": "markdown",
   "metadata": {},
   "source": [
    "パラメータの管理を自動化するためParameterとLayerという2つのクラスを実装する。"
   ]
  },
  {
   "cell_type": "markdown",
   "metadata": {},
   "source": [
    "#### Parameterクラスの実装"
   ]
  },
  {
   "cell_type": "code",
   "execution_count": 9,
   "metadata": {},
   "outputs": [],
   "source": [
    "class Parameter(Variable):\n",
    "    pass"
   ]
  },
  {
   "cell_type": "code",
   "execution_count": 10,
   "metadata": {},
   "outputs": [
    {
     "name": "stdout",
     "output_type": "stream",
     "text": [
      "True\n",
      "False\n",
      "False\n"
     ]
    }
   ],
   "source": [
    "'''ParameterインスタンスとVariableインスタンスは全く同じ機能を持つが区別可能'''\n",
    "\n",
    "import numpy as np\n",
    "from dezero import Variable, Parameter\n",
    "\n",
    "x = Variable(np.array(1.0))\n",
    "p = Parameter(np.array(2.0))\n",
    "y = x * p\n",
    "\n",
    "print(isinstance(p, Parameter))\n",
    "print(isinstance(x, Parameter))\n",
    "print(isinstance(y, Parameter))"
   ]
  },
  {
   "cell_type": "markdown",
   "metadata": {},
   "source": [
    "#### Layerクラスの実装\n",
    "- パラメータを保持しパラメータを使った変換を行うクラス"
   ]
  },
  {
   "cell_type": "code",
   "execution_count": 11,
   "metadata": {},
   "outputs": [],
   "source": [
    "class Layer:\n",
    "    def __init__(self):\n",
    "        self._params = set()\n",
    "    \n",
    "    def __setattr__(self, name, value): # 属性がインスタンスで代入される際に呼び出される\n",
    "        if isinstance(value, Parameter):\n",
    "            self._params.add(name)\n",
    "        super().__setattr__(name, value)"
   ]
  },
  {
   "cell_type": "markdown",
   "metadata": {},
   "source": [
    "__setattr__はオブジェクトのあらゆるアクセスで呼び出されるために、super().__setattr__を使い、無限ループを回避する。  \n",
    "参考サイト：「__getattr__, ___getattribute__, __setattr__について」　https://qiita.com/virusyun/items/db64737d1c60cdcbd25e"
   ]
  },
  {
   "cell_type": "code",
   "execution_count": 12,
   "metadata": {},
   "outputs": [
    {
     "name": "stdout",
     "output_type": "stream",
     "text": [
      "{'p1', 'p2'}\n",
      "----------\n",
      "p1 variable(1)\n",
      "p2 variable(2)\n"
     ]
    }
   ],
   "source": [
    "layer = Layer()\n",
    "\n",
    "layer.p1 = Parameter(np.array(1))\n",
    "layer.p2 = Parameter(np.array(2))\n",
    "layer.p3 = Variable(np.array(3))\n",
    "layer.p4 = 'test'\n",
    "\n",
    "print(layer._params)\n",
    "print('----------')\n",
    "\n",
    "for name in layer._params:\n",
    "    print(name, layer.__dict__[name]) # __dict__にはすべてのインスタンス変数が辞書形式で格納"
   ]
  },
  {
   "cell_type": "code",
   "execution_count": 13,
   "metadata": {},
   "outputs": [],
   "source": [
    "import weakref\n",
    "\n",
    "class Layer:\n",
    "    def __init__(self):\n",
    "        self._params = set()\n",
    "    \n",
    "    def __setattr__(self, name, value): # 属性がインスタンスで代入される際に呼び出される\n",
    "        if isinstance(value, Parameter):\n",
    "            self._params.add(name)\n",
    "        super().__setattr__(name, value)\n",
    "    \n",
    "    # -----以下を追加-----\n",
    "\n",
    "    def __call__(self, *inputs):\n",
    "        outputs = self.forward(*inputs)\n",
    "        if not isinstance(outputs, tuple):\n",
    "            outputs = (outputs,)\n",
    "        self.inputs = [weakref.ref(x) for x in inputs]\n",
    "        self.outputs = [weakref.ref(y) for y in outputs]\n",
    "        return outputs if len(outputs) > 1 else outputs[0]\n",
    "    \n",
    "    def forward(self, inputs):\n",
    "        raise NotImplementedError()\n",
    "    \n",
    "    def params(self):\n",
    "        for name in self._params:\n",
    "            yield self.__dict__[name]\n",
    "    \n",
    "    def cleargrads(self):\n",
    "        for param in self.params():\n",
    "            param.cleargrad()"
   ]
  },
  {
   "cell_type": "markdown",
   "metadata": {},
   "source": [
    "Layerクラスの役割\n",
    "1. 属性代入時にパラメータの名前を保存\n",
    "2. (__call__) forward実行（inputsとoutputsの保存）\n",
    "3. パラメータをyieldする\n",
    "3. 保存済のパラメータの勾配を削除"
   ]
  },
  {
   "cell_type": "code",
   "execution_count": 14,
   "metadata": {},
   "outputs": [
    {
     "name": "stdout",
     "output_type": "stream",
     "text": [
      "1\n",
      "2\n",
      "3\n"
     ]
    }
   ],
   "source": [
    "# yieldについて\n",
    "def one_three():\n",
    "    yield 1\n",
    "    yield 2\n",
    "    yield 3\n",
    "\n",
    "generator = one_three()\n",
    "\n",
    "print(next(generator))\n",
    "print(next(generator))\n",
    "print(next(generator))\n",
    "# print(next(generator))\n"
   ]
  },
  {
   "cell_type": "markdown",
   "metadata": {},
   "source": [
    "### Linearクラス（レイヤ）の実装"
   ]
  },
  {
   "cell_type": "code",
   "execution_count": 15,
   "metadata": {},
   "outputs": [],
   "source": [
    "# Linearクラス（改良前）\n",
    "import dezero.functions as F\n",
    "from dezero.core import Parameter\n",
    "\n",
    "\n",
    "class Linear(Layer):\n",
    "    def __init__(self, in_size, out_size, nobias=False, dtype=np.float32):\n",
    "        super().__init__()\n",
    "\n",
    "        I, O = in_size, out_size\n",
    "        W_data = np.random.randn(I, O).astype(dtype) * np.sqrt(1 / I) # LeCunの初期値\n",
    "        self.W = Parameter(W_data, name='W')\n",
    "        if nobias:\n",
    "            self.b = None\n",
    "        else:\n",
    "            self.b = Parameter(np.zeros(0, dtype=dtype), name='b')\n",
    "        \n",
    "    def forward(self, x):\n",
    "        y = F.linear(x, self.W, self.b)\n",
    "        return y"
   ]
  },
  {
   "cell_type": "markdown",
   "metadata": {},
   "source": [
    "![picture 2](../images/ac3d497f3db6ee48528ec2e9212683b288e3c073334a339dc419983d02345e34.png)  \n"
   ]
  },
  {
   "cell_type": "code",
   "execution_count": 16,
   "metadata": {},
   "outputs": [],
   "source": [
    "# Linearクラス（改良後）\n",
    "'''重みの生成をforwardメソッドの中で行うことでLinearクラスのin_sizeを自動で決めることができる'''\n",
    "\n",
    "class Linear(Layer):\n",
    "    def __init__(self, out_size, nobias=False, dtype=np.float32, in_size=None):\n",
    "        super().__init__()\n",
    "        self.in_size = in_size\n",
    "        self.out_size = out_size\n",
    "        self.dtype = dtype\n",
    "    \n",
    "        self.W = Parameter(None, name='W')\n",
    "        if self.in_size is not None: # in_size\n",
    "            self._init_W()\n",
    "        \n",
    "        if nobias:\n",
    "            self.b = None\n",
    "        else:\n",
    "            self.b = Parameter(np.zeros(out_size, dtype=dtype), name='b')\n",
    "    \n",
    "    def _init_W(self): # in_sizeが指定されている場合はそれに合わせて重みパラメータを作成\n",
    "        I, O = self.in_size, self.out_size\n",
    "        W_data = np.random.randn(I, O).astype(self.dtype) * np.sqrt(1 / I)\n",
    "        self.W.data = W_data\n",
    "    \n",
    "    def forward(self, x): # in_sizeが指定されていない場合はここで作成し、重みパラメータを作成後、線形変換\n",
    "        if self.W.data is None:\n",
    "            self.in_size = x.shape[1]\n",
    "            self._init_W()\n",
    "        \n",
    "        y = F.linear(x, self.W, self.b)\n",
    "        return y"
   ]
  },
  {
   "cell_type": "markdown",
   "metadata": {},
   "source": [
    "#### Linearクラスを利用してsin関数のデータセットへの回帰を解く"
   ]
  },
  {
   "cell_type": "code",
   "execution_count": 17,
   "metadata": {},
   "outputs": [
    {
     "name": "stdout",
     "output_type": "stream",
     "text": [
      "variable(0.8165178492839196)\n",
      "variable(0.24990280802148895)\n",
      "variable(0.24609876581126014)\n",
      "variable(0.2372159081431807)\n",
      "variable(0.20793216413350174)\n",
      "variable(0.12311905720649353)\n",
      "variable(0.0788816650635515)\n",
      "variable(0.07655073683421636)\n",
      "variable(0.07637803086238222)\n",
      "variable(0.07618764131185568)\n"
     ]
    }
   ],
   "source": [
    "import dezero.layers as L\n",
    "\n",
    "np.random.seed(0)\n",
    "x = np.random.rand(100, 1)\n",
    "y = np.sin(2 * np.pi * x) + np.random.rand(100, 1)\n",
    "\n",
    "l1 = L.Linear(10)\n",
    "l2 = L.Linear(1)\n",
    "\n",
    "def predict(x):\n",
    "    y = l1(x)\n",
    "    y = F.sigmoid(y)\n",
    "    y = l2(y)\n",
    "    return y\n",
    "\n",
    "lr = 0.2\n",
    "iters = 10000\n",
    "\n",
    "for i in range(iters):\n",
    "    y_pred = predict(x)\n",
    "    loss = F.mean_squared_error(y, y_pred)\n",
    "\n",
    "    '''以下、パラメータごとでなくlayer単位でパラメータを処理できるようになった'''\n",
    "\n",
    "    l1.cleargrads()\n",
    "    l2.cleargrads()\n",
    "    loss.backward()\n",
    "\n",
    "    for l in [l1, l2]:\n",
    "        for p in l.params():\n",
    "            p.data -= lr * p.grad.data\n",
    "    if i % 1000 == 0:\n",
    "        print(loss)"
   ]
  },
  {
   "cell_type": "markdown",
   "metadata": {},
   "source": [
    "パラメータの管理をLinearインスタンスで行うことで、パラメータの勾配をリセットする処理やパラメータを更新する作業が前よりもすっきりした。\n",
    "しかし、ここではLinearクラスを個別に扱っているため、ネットワークが深くなると大変。複数のLayerを1つのクラスにまとめて管理したい。"
   ]
  },
  {
   "cell_type": "markdown",
   "metadata": {},
   "source": [
    "### Step45: レイヤをまとめるレイヤ"
   ]
  },
  {
   "cell_type": "markdown",
   "metadata": {},
   "source": [
    "#### Layerクラスの拡張\n",
    "- Layerクラスが別のLayerも保持できるように拡張する"
   ]
  },
  {
   "cell_type": "markdown",
   "metadata": {},
   "source": [
    "![picture 1](images/abc2a60d3e78c67659cb02f3589e77e0df9436fd9c421c5c60691f0c45e2f82f.jpg)  \n"
   ]
  },
  {
   "cell_type": "markdown",
   "metadata": {},
   "source": [
    "- 目標：一番上のLayerからその中にあるパラメータをすべて取り出せるようにすること"
   ]
  },
  {
   "cell_type": "code",
   "execution_count": 18,
   "metadata": {},
   "outputs": [],
   "source": [
    "# Layerクラスの変更\n",
    "\n",
    "class Layer:\n",
    "    def __init__(self):\n",
    "        self._params = set() # ParameterとLayerの両インスタンスの名前が保持される\n",
    "    \n",
    "    def __setattr__(self, name, value):\n",
    "        if isinstance(value, (Parameter, Layer)): # ①Layerも追加する\n",
    "            self._params.add(name)\n",
    "        super().__setattr__(name, value)\n",
    "    \n",
    "    def params(self):\n",
    "        for name in self._params:\n",
    "            obj = self.__dict__[name]\n",
    "\n",
    "            if isinstance(obj, Layer): # ②Layerからパラメータを取り出す\n",
    "                yield from obj.params()\n",
    "            else:\n",
    "                yield obj\n"
   ]
  },
  {
   "cell_type": "markdown",
   "metadata": {},
   "source": [
    "- Layerクラスを継承して、1つのクラスとしてモデルを定義する方法"
   ]
  },
  {
   "cell_type": "code",
   "execution_count": 19,
   "metadata": {},
   "outputs": [],
   "source": [
    "class TwoLayerNet(Layer):\n",
    "    def __init__(self, hidden_size, out_size):\n",
    "        super().__init__()\n",
    "        self.l1 = L.Linear(hidden_size)\n",
    "        self.l2 = L.Linear(out_size)\n",
    "    \n",
    "    def forward(self, x):\n",
    "        y = F.sigmoid(self.l1(x))\n",
    "        y = self.l2(y)\n",
    "        return y"
   ]
  },
  {
   "cell_type": "markdown",
   "metadata": {},
   "source": [
    "#### Modelクラスの作成"
   ]
  },
  {
   "cell_type": "code",
   "execution_count": 20,
   "metadata": {},
   "outputs": [
    {
     "data": {
      "image/png": "[encoded data removed]",
      "text/plain": [
       "<IPython.core.display.Image object>"
      ]
     },
     "execution_count": 20,
     "metadata": {},
     "output_type": "execute_result"
    }
   ],
   "source": [
    "from dezero import Layer\n",
    "from dezero import utils\n",
    "from dezero import Variable, Model\n",
    "\n",
    "class Model(Layer):\n",
    "    def plot(self, *inputs, to_file='model.png'):\n",
    "        y = self.forward(*inputs)\n",
    "        return utils.plot_dot_graph(y, verbose=True, to_file=to_file)\n",
    "\n",
    "class TwoLayerNet(Model):\n",
    "    def __init__(self, hidden_size, out_size):\n",
    "        super().__init__()\n",
    "        self.l1 = L.Linear(hidden_size)\n",
    "        self.l2 = L.Linear(out_size)\n",
    "    \n",
    "    def forward(self, x):\n",
    "        y = F.sigmoid(self.l1(x))\n",
    "        y = self.l2(y)\n",
    "        return y\n",
    "\n",
    "x = Variable(np.random.randn(5, 10), name='x')\n",
    "model = TwoLayerNet(100, 10)\n",
    "model.plot(x)"
   ]
  },
  {
   "cell_type": "markdown",
   "metadata": {},
   "source": [
    "#### Modelを使って問題を解く"
   ]
  },
  {
   "cell_type": "code",
   "execution_count": 21,
   "metadata": {},
   "outputs": [
    {
     "name": "stdout",
     "output_type": "stream",
     "text": [
      "variable(0.8165178492839196)\n",
      "variable(0.24990280802148895)\n",
      "variable(0.24609876581126014)\n",
      "variable(0.2372159081431807)\n",
      "variable(0.20793216413350174)\n",
      "variable(0.12311905720649353)\n",
      "variable(0.0788816650635515)\n",
      "variable(0.07655073683421636)\n",
      "variable(0.07637803086238222)\n",
      "variable(0.07618764131185568)\n"
     ]
    }
   ],
   "source": [
    "\n",
    "# データセットの作成\n",
    "np.random.seed(0)\n",
    "x = np.random.rand(100, 1)\n",
    "y = np.sin(2 * np.pi * x) + np.random.rand(100, 1)\n",
    "\n",
    "# ハイパーパラメータの設定\n",
    "lr = 0.2\n",
    "max_iter = 10000\n",
    "hidden_size = 10\n",
    "\n",
    "# モデルの定義\n",
    "class TwoLayerNet(Model):\n",
    "    def __init__(self, hidden_size, out_size):\n",
    "        super().__init__()\n",
    "        self.l1 = L.Linear(hidden_size)\n",
    "        self.l2 = L.Linear(out_size)\n",
    "    \n",
    "    def forward(self, x):\n",
    "        y = F.sigmoid(self.l1(x))\n",
    "        y = self.l2(y)\n",
    "        return y\n",
    "\n",
    "model = TwoLayerNet(hidden_size, 1)\n",
    "\n",
    "# 学習の開始\n",
    "for i in range(max_iter):\n",
    "    y_pred = model(x)\n",
    "    loss = F.mean_squared_error(y, y_pred)\n",
    "\n",
    "    model.cleargrads()\n",
    "    loss.backward()\n",
    "\n",
    "    for p in model.params():\n",
    "        p.data -= lr * p.grad.data\n",
    "    if i % 1000 == 0:\n",
    "        print(loss)"
   ]
  },
  {
   "cell_type": "markdown",
   "metadata": {},
   "source": [
    "こうして私たちはパラメータの管理から解放された。"
   ]
  },
  {
   "cell_type": "markdown",
   "metadata": {},
   "source": [
    "### MLPクラス"
   ]
  },
  {
   "cell_type": "markdown",
   "metadata": {},
   "source": [
    "より一般化した全結合層を実装したい"
   ]
  },
  {
   "cell_type": "code",
   "execution_count": 22,
   "metadata": {},
   "outputs": [],
   "source": [
    "import dezero.functions as F\n",
    "\n",
    "class MLP(Model):\n",
    "    def __init__(self, fc_output_sizes, activation=F.sigmoid):\n",
    "        super().__init__()\n",
    "        self.activation = activation\n",
    "        self.layers = []\n",
    "\n",
    "        for i, out_size in enumerate(fc_output_sizes):\n",
    "            layer = L.Linear(out_size)\n",
    "            setattr(self, 'l' + str(i), layer) # setattr(オブジェクト, 追加したい属性, 値)\n",
    "            self.layers.append(layer)\n",
    "        \n",
    "    def forward(self, x):\n",
    "        for l in self.layers[:-1]:\n",
    "            x = self.activation(l(x))\n",
    "        return self.layers[-1](x)\n",
    "\n",
    "\n",
    "\n"
   ]
  },
  {
   "cell_type": "code",
   "execution_count": 23,
   "metadata": {},
   "outputs": [],
   "source": [
    "model = MLP((10, 1)) # 2層\n",
    "model = MLP((10, 20, 30, 40, 1)) #5層"
   ]
  }
 ],
 "metadata": {
  "kernelspec": {
   "display_name": "Python 3.8.13 ('dezero')",
   "language": "python",
   "name": "python3"
  },
  "language_info": {
   "codemirror_mode": {
    "name": "ipython",
    "version": 3
   },
   "file_extension": ".py",
   "mimetype": "text/x-python",
   "name": "python",
   "nbconvert_exporter": "python",
   "pygments_lexer": "ipython3",
   "version": "3.8.13"
  },
  "orig_nbformat": 4,
  "vscode": {
   "interpreter": {
    "hash": "486bb19047ee15ee513d2d0568ab33733d59300e393032f759f63d4576dad5af"
   }
  }
 },
 "nbformat": 4,
 "nbformat_minor": 2
}
