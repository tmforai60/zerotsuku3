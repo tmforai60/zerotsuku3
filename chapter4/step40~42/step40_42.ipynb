{
 "cells": [
  {
   "cell_type": "markdown",
   "id": "7adc40ee-6a46-4fce-aae2-6c5c0f5ca3e3",
   "metadata": {},
   "source": [
    "### Setup"
   ]
  },
  {
   "cell_type": "code",
   "execution_count": 1,
   "id": "ea7c1365-9f22-41a6-a917-6ddf94e659c2",
   "metadata": {},
   "outputs": [],
   "source": [
    "if '__file__' in globals():\n",
    "    import os, sys\n",
    "#     sys.path.append(os.path.join(os.path.dirname(__file__), '..'))\n",
    "    sys.path.append(os.path.join(os.path.dirname(os.path.abspath('__file__')), '..'))\n",
    "import numpy as np\n",
    "from dezero import Variable\n",
    "import dezero.functions as F"
   ]
  },
  {
   "cell_type": "code",
   "execution_count": 2,
   "id": "b89d16e5-e7bd-48b9-ad6d-2cf778d84238",
   "metadata": {},
   "outputs": [
    {
     "name": "stdout",
     "output_type": "stream",
     "text": [
      "variable([[11 22 33]\n",
      "          [44 55 66]])\n"
     ]
    }
   ],
   "source": [
    "x = Variable(np.array([[1, 2, 3], [4, 5, 6]]))\n",
    "c = Variable(np.array([[10, 20, 30], [40, 50, 60]]))\n",
    "y = x + c\n",
    "print(y)"
   ]
  },
  {
   "cell_type": "code",
   "execution_count": 3,
   "id": "0967bda4-f697-483e-894d-2721b01e5018",
   "metadata": {},
   "outputs": [],
   "source": [
    "# x = Variable(np.array([[1, 2, 3], [4, 5, 6]]))\n",
    "# c = Variable(np.array([[10, 20, 30], [40, 50, 60]]))\n",
    "# t = x + c\n",
    "# y = F.sum(t)\n",
    "\n",
    "# y.backward(retain_grad=True)\n",
    "# print(y.grad)\n",
    "# print(t.grad)\n",
    "# print(x.grad)\n",
    "# print(c.grad)"
   ]
  },
  {
   "cell_type": "code",
   "execution_count": 4,
   "id": "034b63eb-fe97-41a3-bb0e-e61b0314f5a3",
   "metadata": {},
   "outputs": [],
   "source": [
    "# x = Variable(np.array([[1, 2, 3], [4, 5, 6]]))\n",
    "# y = F.reshape(x, (6,))\n",
    "# y.backward(retain_grad=True)\n",
    "# print(x.grad)"
   ]
  },
  {
   "cell_type": "markdown",
   "id": "51aedebe-c541-40db-9bde-64d8960075fb",
   "metadata": {},
   "source": [
    "## ステップ40 ブロードキャストを行う関数"
   ]
  },
  {
   "cell_type": "markdown",
   "id": "f7d4b717-41c2-4601-a3b6-171c335160f8",
   "metadata": {},
   "source": [
    "### 40.1 broadcast_to 関数とsum_to 関数\n",
    "まずは、NumPy のnp.broadcast_to(x, shape) について見ていきましょう。"
   ]
  },
  {
   "cell_type": "code",
   "execution_count": 5,
   "id": "a21adc59-2e4f-47bf-9ece-5ae4a21dfc9f",
   "metadata": {},
   "outputs": [
    {
     "name": "stdout",
     "output_type": "stream",
     "text": [
      "[[1 2 3]\n",
      " [1 2 3]]\n"
     ]
    }
   ],
   "source": [
    "x = np.array([1, 2, 3])\n",
    "y = np.broadcast_to(x, (2, 3))\n",
    "print(y)"
   ]
  },
  {
   "cell_type": "markdown",
   "id": "f6bbe5aa-f80b-4cc0-a8e1-7891f26130b0",
   "metadata": {},
   "source": [
    "上記のように、元は(3,) の形状の1 次元配列で、要素がコピーされて(2, 3) の\n",
    "形状になります。それでは、ブロードキャスト（つまりは、「要素のコピー」）を行っ\n",
    "た場合、その逆伝播はどうなるでしょうか。"
   ]
  },
  {
   "cell_type": "markdown",
   "id": "8387b269-0dd8-4065-8fb3-e202d6ae2ae0",
   "metadata": {},
   "source": [
    "「要素のコピー」を行った場合、逆伝播では勾配の「和」を求めます。np.broadcast_to のような関数の場合は、図40-1 のようになります。"
   ]
  },
  {
   "cell_type": "markdown",
   "id": "02ff8708-07c4-4d56-be75-47aea0f4ec9e",
   "metadata": {},
   "source": [
    "![40_1](fig/40_1.png)"
   ]
  },
  {
   "cell_type": "markdown",
   "id": "7670c509-c357-4024-84db-b2c5d973a53c",
   "metadata": {},
   "source": [
    "図40-1 のとおり、broadcast_to 関数の逆伝播は、入力x の形状になるように勾配の和を求めます。それには、sum_to(x, shape) という関数があればシンプルに解決できます。sum_to 関数は、x の要素の和を求めてshape の形状にします。そのような関数があれば、図40-1 のように、順伝播と逆伝播の関係が作られます。sum_to(x, shape) 関数は、x の要素の和を求めてshape の形状にする関数\n",
    "です。しかし、そのような関数はNumPy にはありません。そこでDeZero ではdezero/utils.py に、NumPy 版のsum_to 関数を用意しています。その関数を使えば、次のような計算を行うことができます。"
   ]
  },
  {
   "cell_type": "code",
   "execution_count": 6,
   "id": "5631548d-343c-4150-92a4-0ab0b51d59d8",
   "metadata": {},
   "outputs": [
    {
     "name": "stdout",
     "output_type": "stream",
     "text": [
      "1×3 :\n",
      " [[5 7 9]]\n",
      "\n",
      "2×1 :\n",
      " [[ 6]\n",
      " [15]]\n"
     ]
    }
   ],
   "source": [
    "import numpy as np\n",
    "from dezero.utils import sum_to\n",
    "x = np.array([[1, 2, 3], [4, 5, 6]])\n",
    "y = sum_to(x, (1, 3))\n",
    "print(f'1×3 :\\n {y}\\n')\n",
    "\n",
    "y = sum_to(x, (2, 1))\n",
    "print(f'2×1 :\\n {y}')"
   ]
  },
  {
   "cell_type": "markdown",
   "id": "a2b1f9c4-ca08-48af-a353-4649191124cf",
   "metadata": {},
   "source": [
    "上記のように、sum_to(x, shape) 関数は、shape の形状になるように和を取り\n",
    "ます。できることはnp.sum 関数と同じですが、引数の与え方が異なります。"
   ]
  },
  {
   "cell_type": "markdown",
   "id": "5af47ae8-3464-4a24-8f4a-2f4ec2c291cd",
   "metadata": {},
   "source": [
    "続いて、sum_to 関数の逆伝播について考えます。sum_to(x, shape) は、x の\n",
    "要素の和を求めてshape の形状にします。その逆伝播には、図40-2 のように、\n",
    "broadcast_to 関数がそのまま利用できます。"
   ]
  },
  {
   "cell_type": "markdown",
   "id": "e7b5e7e4-6d5b-4350-8515-ff0263a2d455",
   "metadata": {},
   "source": [
    "![40_2](fig/40_2.png)"
   ]
  },
  {
   "cell_type": "markdown",
   "id": "4f0cae02-ed86-416f-bea1-0e432ff71d4d",
   "metadata": {},
   "source": [
    "図40-2 のように、sum_to 関数の逆伝播はbroadcast_to 関数を使って、入力x\n",
    "の形状になるように勾配の要素を複製します。以上が、NumPy 版のbroadcast_to\n",
    "関数とsum_to 関数についてです。それでは続いて、DeZero 版のbroadcast_to\n",
    "関数とsum_to 関数を実装します"
   ]
  },
  {
   "cell_type": "markdown",
   "id": "2e17a379-62ba-429c-8f81-80fb3ab1d4a5",
   "metadata": {},
   "source": [
    "### 40.2 DeZero のbroadcast_to とsum_to 関数"
   ]
  },
  {
   "cell_type": "markdown",
   "id": "2961945c-f601-4f64-b372-640272486344",
   "metadata": {},
   "source": [
    "まずは、DeZero のBroadcastTo クラスとbroadcast_to 関数を次に示します。"
   ]
  },
  {
   "cell_type": "markdown",
   "id": "66be0464-f9b3-4f07-b7ab-5a250df5bf1f",
   "metadata": {},
   "source": [
    "``` python\n",
    "class BroadcastTo(Function):\n",
    "    def __init__(self, shape):\n",
    "        self.shape = shape\n",
    "    def forward(self, x):\n",
    "        self.x_shape = x.shape\n",
    "        y = np.broadcast_to(x, self.shape)\n",
    "        return y\n",
    "    def backward(self, gy):\n",
    "        gx = sum_to(gy, self.x_shape)\n",
    "        return gx\n",
    "\n",
    "def broadcast_to(x, shape):\n",
    "    if x.shape == shape:\n",
    "        return as_variable(x)\n",
    "    return BroadcastTo(shape)(x)\n",
    "```"
   ]
  },
  {
   "cell_type": "markdown",
   "id": "2b8a6265-a05e-4916-8bbf-93192da7aa6a",
   "metadata": {},
   "source": [
    "ここでは、逆伝播のコードに注目しましょう。逆伝播では、入力x の形状になるよ\n",
    "うに、DeZero のsum_to 関数を利用しています。そのsum_to 関数は、これから実\n",
    "装します。それでは続いて、SumTo クラスとsum_to 関数を示します"
   ]
  },
  {
   "cell_type": "markdown",
   "id": "cfb776d4-afc7-49c7-92a1-a981d3c1987a",
   "metadata": {},
   "source": [
    "```python\n",
    "class SumTo(Function):\n",
    "    def __init__(self, shape):\n",
    "        self.shape = shape\n",
    "\n",
    "    def forward(self, x):\n",
    "        self.x_shape = x.shape\n",
    "        y = utils.sum_to(x, self.shape)\n",
    "        return y\n",
    "\n",
    "    def backward(self, gy):\n",
    "        gx = broadcast_to(gy, self.x_shape)\n",
    "        return gx\n",
    "\n",
    "\n",
    "def sum_to(x, shape):\n",
    "    if x.shape == shape:\n",
    "        return as_variable(x)\n",
    "    return SumTo(shape)(x)\n",
    "```"
   ]
  },
  {
   "cell_type": "markdown",
   "id": "09cad0b8-297f-43bd-b450-9dade05c5e54",
   "metadata": {},
   "source": [
    "ここでも注目すべきは、逆伝播のコードです。逆伝播では、入力x の形状になるよ\n",
    "うに、勾配の要素を複製します。それを行うにあたって、先ほど実装したDeZero の\n",
    "broadcast_to 関数を使用します。そのように、broadcast_to 関数とsum_to 関\n",
    "数は、相互に依存し合う関係になっています。以上で、DeZero 版のbroadcast_to\n",
    "関数とsum_to 関数は完成です。"
   ]
  },
  {
   "cell_type": "markdown",
   "id": "d3090a4e-040f-49aa-9c30-e048560b3e3d",
   "metadata": {},
   "source": [
    "### 40.3 ブロードキャストへの対応"
   ]
  },
  {
   "cell_type": "markdown",
   "id": "cb813777-7f64-44b3-ace8-57152f01d21d",
   "metadata": {},
   "source": [
    "本ステップでsum_to という関数を実装したのには、1 つ理由があります。それは、NumPy のブロードキャストに対応するためです。ブロードキャストとは、形状の異なる多次元配列どうしの演算を可能にするNumPy の機能です。例として、次のコードを見てみましょう"
   ]
  },
  {
   "cell_type": "code",
   "execution_count": 7,
   "id": "a3eec519-6e75-4aa3-a1ec-4a12ea65f738",
   "metadata": {},
   "outputs": [
    {
     "name": "stdout",
     "output_type": "stream",
     "text": [
      "[11 12 13]\n"
     ]
    }
   ],
   "source": [
    "x0 = np.array([1, 2, 3])\n",
    "x1 = np.array([10])\n",
    "y = x0 + x1\n",
    "print(y)"
   ]
  },
  {
   "cell_type": "markdown",
   "id": "25905ff3-26b8-4b30-a382-4bac942a8d1f",
   "metadata": {},
   "source": [
    "ここで、x0 とx1 の形状は異なります。この計算が行われるとき、x1 がx0 の形状\n",
    "に合うように要素がコピーされます。ここで重要な点は、NumPy のブロードキャス\n",
    "トという機能は、私たちの見えないところで行われるということです。そして、この\n",
    "ブロードキャストは、私たちのDeZero においても行われます。たとえば、次の例を\n",
    "見てみましょう。"
   ]
  },
  {
   "cell_type": "code",
   "execution_count": 8,
   "id": "bc7f7466-9b7d-4f4c-9a9f-796d446ae16f",
   "metadata": {},
   "outputs": [
    {
     "name": "stdout",
     "output_type": "stream",
     "text": [
      "variable([11 12 13])\n"
     ]
    }
   ],
   "source": [
    "x0 = Variable(np.array([1, 2, 3]))\n",
    "x1 = Variable(np.array([10]))\n",
    "y = x0 + x1\n",
    "print(y)"
   ]
  },
  {
   "cell_type": "markdown",
   "id": "cc284169-cd63-4fc6-a30d-5735171c86a6",
   "metadata": {},
   "source": [
    "上記のように、順伝播では、ndarray インスタンスに対しての実装を行っているた\n",
    "め、ブロードキャストが発生します。もちろん、順伝播でブロードキャストが行われ\n",
    "た場合、その逆伝播では、ブロードキャストの逆伝播が行われなければなりません。\n",
    "しかし、現状のDeZero では、ブロードキャストの逆伝播は何も行われていません。\n",
    "NumPy のブロードキャストは、broadcast_to 関数で行われます。そして、\n",
    "broadcast_to 関数の逆伝播は、sum_to 関数に対応します。その点を考慮すれば、\n",
    "DeZero のAdd クラスは、次のように修正できます。"
   ]
  },
  {
   "cell_type": "markdown",
   "id": "b199bd11-5189-4836-be74-401848a327a8",
   "metadata": {},
   "source": [
    "```python\n",
    "class Add(Function):\n",
    "    def forward(self, x0, x1):\n",
    "        self.x0_shape, self.x1_shape = x0.shape, x1.shape\n",
    "        y = x0 + x1\n",
    "        return y\n",
    "\n",
    "    def backward(self, gy):\n",
    "        gx0, gx1 = gy, gy\n",
    "        if self.x0_shape != self.x1_shape:  # for broadcaset\n",
    "            gx0 = dezero.functions.sum_to(gx0, self.x0_shape)\n",
    "            gx1 = dezero.functions.sum_to(gx1, self.x1_shape)\n",
    "        return gx0, gx1\n",
    "```"
   ]
  },
  {
   "cell_type": "markdown",
   "id": "15b00581-c884-462e-926a-c196e2563b3a",
   "metadata": {},
   "source": [
    "順伝播のときにブロードキャストが発生していれば、入力時のx0 とx1 の形状が\n",
    "異なっているはずです。その場合は、ブロードキャスト用の逆伝播の計算を行いま\n",
    "す。それには、勾配gx0 はx0 の形状になるように和を求めます。同様に、勾配gx1\n",
    "はx1 の形状になるように和を求めます。\n",
    "上の修正は、dezero/core.py にあるAdd クラスに行います。同様に、Mul、Sub、\n",
    "Div クラスなど、四則演算に対応するクラスにはすべて、同じ修正を施します。これ\n",
    "で、ブロードキャストへの対応ができました。以上の修正によって、次のコードを書\n",
    "くことができます。"
   ]
  },
  {
   "cell_type": "code",
   "execution_count": 9,
   "id": "92ad3011-3fa7-4f50-8cfc-88b60dfe2b30",
   "metadata": {},
   "outputs": [
    {
     "name": "stdout",
     "output_type": "stream",
     "text": [
      "variable([11 12 13])\n",
      "variable([1 1 1])\n",
      "variable([3])\n"
     ]
    }
   ],
   "source": [
    "import numpy as np\n",
    "from dezero import Variable\n",
    "x0 = Variable(np.array([1, 2, 3]))\n",
    "x1 = Variable(np.array([10]))\n",
    "y = x0 + x1\n",
    "print(y)\n",
    "y.backward()\n",
    "print(x0.grad)\n",
    "print(x1.grad)"
   ]
  },
  {
   "cell_type": "markdown",
   "id": "4c1a725c-eae7-4bdd-b31d-c0bd191b37c2",
   "metadata": {},
   "source": [
    "上の例では、x0 + x1 においてブロードキャストが発生しています。しかし今回\n",
    "は、そのブロードキャストの逆伝播がDeZero の関数として正しく行われています。\n",
    "実際、x1 の勾配は3 と正しい結果です。以上で、DeZero はブロードキャストにも対\n",
    "応できました。"
   ]
  },
  {
   "cell_type": "markdown",
   "id": "14b646c1-c78a-4a4f-a7da-bf9eb4b69edb",
   "metadata": {},
   "source": [
    "## ステップ41 行列の積"
   ]
  },
  {
   "cell_type": "markdown",
   "id": "5bb1a1c9-df63-44b6-92b7-326672329757",
   "metadata": {},
   "source": [
    "本ステップのテーマは、「ベクトルの内積」と「行列の積」です。まずはその2 つの\n",
    "計算方法を示し、それをDeZeroの関数として実装します。本ステップが終われば、\n",
    "テンソルを扱う最低限の関数は出揃います。そうすれば、いよいよ実践的な問題を解くことができます"
   ]
  },
  {
   "cell_type": "markdown",
   "id": "98a3601b-646e-46f1-a714-610bbad091bf",
   "metadata": {},
   "source": [
    "### 41.1 ベクトルの内積と行列の積"
   ]
  },
  {
   "cell_type": "markdown",
   "id": "370a3bc8-0b0d-47cd-88b7-b149f22db0c0",
   "metadata": {},
   "source": [
    "それでは、「ベクトルの内積」と「行列の積」について説明します。まずは、ベ\n",
    "クトルの内積について説明します。ここでは2 つのベクトル$a = (a_1, · · · , a_n)$ と\n",
    "$b = (b_1, · · · , b_n)$ があることを仮定します。このときベクトルの内積は、式(41.1)\n",
    "のように定義されます。"
   ]
  },
  {
   "cell_type": "markdown",
   "id": "61e096cc-b7ed-458c-8bba-b656d2fea3c4",
   "metadata": {},
   "source": [
    "$ab = a_1b_1 + a_2b_2 + · · · + a_nb_n$　　　　(41.1)"
   ]
  },
  {
   "cell_type": "markdown",
   "id": "8c14776b-5599-4e91-8365-fd3ef14ecd24",
   "metadata": {},
   "source": [
    "式(41.1) のとおり、2 つのベクトル間の対応する要素の積を足し合わせたものがベ\n",
    "クトルの内積です。"
   ]
  },
  {
   "cell_type": "markdown",
   "id": "17296a74-eff9-4f16-b68d-473c0404e568",
   "metadata": {},
   "source": [
    "続いて「行列の積」です。行列の積は、図41-1 の手順に従って計算します。"
   ]
  },
  {
   "cell_type": "markdown",
   "id": "291b76ca-8b22-4f71-a6ee-7dd9c5a33eae",
   "metadata": {},
   "source": [
    "![41_1](fig/41_1.png)"
   ]
  },
  {
   "cell_type": "markdown",
   "id": "82687cd4-74b1-46c0-9cad-b0eab58afd21",
   "metadata": {},
   "source": [
    "図41-1 のとおり、行列の積では、左側の行列の「横方向に並ぶベクトル」と右側\n",
    "の行列の「縦方向に並ぶベクトル」の間で内積が計算されます。そして、その結果が\n",
    "新しい行列の対応する要素に格納されます。たとえば、a の1 行目とb の1 列目の\n",
    "結果は1 行1 列目の要素へ、a の2 行目とb の1 列目は2 行1 列目の要素へ、... と\n",
    "なります。\n",
    "それでは、ベクトルの内積と行列の積をNumPy を使って実装してみます。それ\n",
    "には、np.dot 関数が利用できます。"
   ]
  },
  {
   "cell_type": "code",
   "execution_count": 10,
   "id": "8cad0a64-6ba8-445f-8c7a-84f68cbf5870",
   "metadata": {},
   "outputs": [
    {
     "name": "stdout",
     "output_type": "stream",
     "text": [
      "32\n",
      "[[19 22]\n",
      " [43 50]]\n"
     ]
    }
   ],
   "source": [
    "import numpy as np\n",
    "# ベクトルの内積\n",
    "a = np.array([1, 2, 3])\n",
    "b = np.array([4, 5, 6])\n",
    "c = np.dot(a, b)\n",
    "print(c)\n",
    "\n",
    "# 行列の積\n",
    "a = np.array([[1, 2], [3, 4]])\n",
    "b = np.array([[5, 6], [7, 8]])\n",
    "c = np.dot(a,b)\n",
    "print(c)"
   ]
  },
  {
   "cell_type": "markdown",
   "id": "431fb88c-7830-46b6-bfff-600ae29bd7dd",
   "metadata": {},
   "source": [
    "ここで示したように、ベクトルの内積と行列の積の計算には、ともにnp.dot 関数\n",
    "が使えます。np.dot(x, y) の引数が2 つとも1 次元配列の場合はベクトルの内積を計算し、引数が2 次元配列の場合は行列の積を計算します。"
   ]
  },
  {
   "cell_type": "markdown",
   "id": "6a2d7df7-d0e5-4254-b438-dc3da1f92826",
   "metadata": {},
   "source": [
    "### 41.2 行列の形状チェック"
   ]
  },
  {
   "cell_type": "markdown",
   "id": "db4cb635-7cba-4ff1-b60f-1b66f1b6a847",
   "metadata": {},
   "source": [
    "行列やベクトルを使った計算においては、その「形状」に注意を払うことが重要です。たとえば、行列の積の計算では、図41-2 のように形状が推移します。"
   ]
  },
  {
   "cell_type": "markdown",
   "id": "40e24fed-d33a-4b88-acbf-a549e195c464",
   "metadata": {},
   "source": [
    "![41_2](fig/41_2.png)"
   ]
  },
  {
   "cell_type": "markdown",
   "id": "20dbcef0-1d23-4781-8d95-7cb964c1c31d",
   "metadata": {},
   "source": [
    "図41-2 の例では、3 × 2 の行列a と2 × 4 の行列b の積によって、3 × 4 の行列c\n",
    "が生成されます。このとき、図が示すように、行列a とb の対応する次元（軸）の\n",
    "要素数は一致させる必要があります。そして、結果となる行列c は、行列a の行数と\n",
    "行列b の列数から構成されます。"
   ]
  },
  {
   "cell_type": "markdown",
   "id": "60f6b19c-3a70-440b-94d8-84a043853759",
   "metadata": {},
   "source": [
    "行列の積などの計算では、行列の形状に注目し、その推移を見ていくことが重要です。本書では、そのような形状に注目した確認作業を「形状チェック」と呼ぶことにします。"
   ]
  },
  {
   "cell_type": "markdown",
   "id": "99a792a9-15b6-4e4b-a8e2-2b1bb44733c0",
   "metadata": {},
   "source": [
    "#### 行列の積の逆伝播"
   ]
  },
  {
   "cell_type": "markdown",
   "id": "2b081a23-67ad-43cb-a755-62e523601ed5",
   "metadata": {},
   "source": [
    "続いて、行列の積の逆伝播について説明します。行列の積の逆伝播は、やや複雑に\n",
    "なるため、ここでは正攻法的な説明を行い、その後で直感的な理解が得られる説明を\n",
    "行います。ちなみに、行列の積の計算は、DeZero ではMatMul クラスとmatmul 関\n",
    "数として実装します。matmul とは「matrix multiply」の略です。\n",
    "さて、行列の積の逆伝播を説明するにあたり、y = xW という計算を考えます。\n",
    "ここで、x、W、y の形状は、それぞれ1 × D、D × H、1 × H とします。このと\n",
    "き、計算グラフは図41-3 のようになります。"
   ]
  },
  {
   "cell_type": "markdown",
   "id": "ebe38e42-cf4c-4325-a755-acb5cd8de660",
   "metadata": {},
   "source": [
    "![41_3](fig/41_3.png)"
   ]
  },
  {
   "cell_type": "markdown",
   "id": "e45f9875-034e-4e94-a483-38e8e60adcc0",
   "metadata": {},
   "source": [
    "繰り返しになりますが、私たちは、最終的にスカラを出力する計算を扱います。そのため、ここでは最終的にLというスカラを出力する計算を考えます（このLの各変数に関する微分を、逆伝播で求めます）。このとき、x のi 番目の要素に関する微分$\\frac{\\partial L}{\\partial x_i}$は、次のように求められます。"
   ]
  },
  {
   "cell_type": "markdown",
   "id": "9ee6c078-3d28-4770-824d-76793f83ef58",
   "metadata": {},
   "source": [
    "$\\frac{\\partial L}{\\partial x_i} = \\sum_{j}\\frac{\\partial L}{\\partial y_j}\\frac{\\partial y_j}{\\partial x_i} \\hspace{10mm}$ \n",
    "(41.2)"
   ]
  },
  {
   "cell_type": "markdown",
   "id": "cfee97c9-c108-4b77-b2f4-3702ad975601",
   "metadata": {},
   "source": [
    "式(41.2) の$\\frac{\\partial L}{\\partial x_i}$は、$x_i$を（少しだけ）変化させたときに、L がどれだけ変化するかという「変化の割合」を表します。ここで$x_i$ を変化させたときには、ベクトルyのすべての要素も変化します。そして、y の各要素の変化を通じて、最終的にL が変化することになります。そのため、$x_i$ からL に至るチェインルールの経路は複数あり、その総和が$\\frac{\\partial L}{\\partial x_i}$となります。\n",
    "さて式(41.2) ですが、これはまだ簡単にできます。それには、$\\frac{\\partial L}{\\partial x_i}= W_{ij}$が成り立つことを利用します。それを式(41.2) に代入すれば、次の式(41.3) が導けます。"
   ]
  },
  {
   "cell_type": "markdown",
   "id": "cb554f5f-3d1c-4a7e-aa88-74d20d1054f7",
   "metadata": {},
   "source": [
    "$\\frac{\\partial L}{\\partial x_i} = \\sum_{j}\\frac{\\partial L}{\\partial y_j}\\frac{\\partial y_j}{\\partial x_i}= \\sum_{j}\\frac{\\partial L}{\\partial y_j}W_{ij} \\hspace{10mm}$ \n",
    "(41.3)"
   ]
  },
  {
   "cell_type": "markdown",
   "id": "3c65a8d1-93c3-44b9-a008-765add2f12f3",
   "metadata": {},
   "source": [
    "式(41.3) から、$\\frac{\\partial L}{\\partial x_i}$\n",
    "は、「ベクトル$\\frac{\\partial L}{\\partial y}$」と「Wのi 行目のベクトル」の内積に\n",
    "よって求められることが分かります。この関係から、次の式が導けます。"
   ]
  },
  {
   "cell_type": "markdown",
   "id": "61a28c62-189e-482f-bfb0-03c069a5ac4c",
   "metadata": {},
   "source": [
    "$\n",
    "\\frac{\\partial L}{\\partial x} = \\frac{\\partial L}{\\partial y}W^T \\hspace{10mm}\n",
    "$\n",
    "(41.4)"
   ]
  },
  {
   "cell_type": "markdown",
   "id": "b999e9cd-122c-4486-b038-53993b39e86d",
   "metadata": {},
   "source": [
    "式(41.4) が示すように、$\\frac{\\partial L}{\\partial x}$は行列の積によって一度に求められます。このとき、行列（とベクトル）の形状に注目すると、図41-4 のようになります。"
   ]
  },
  {
   "cell_type": "markdown",
   "id": "43a66191-81f5-457d-9a13-4483925799e0",
   "metadata": {},
   "source": [
    "![41_4](fig/41_4.png)"
   ]
  },
  {
   "cell_type": "markdown",
   "id": "8f589fdc-d03d-4953-8861-710f2122f411",
   "metadata": {},
   "source": [
    "図41-4 を見ると、行列の「形状チェック」をクリアしていることが分かります。\n",
    "これによって、式(41.4) は行列の計算として成立することが確認できます。また、\n",
    "その逆手を取って――つまり、その整合性が成り立つようにして――、逆伝播の数\n",
    "式（実装）を導出することも考えられます†2。その方法を説明するにあたって、再度\n",
    "y = xW という行列の積の計算を考えます。ただし今度は、x の形状は、N × D で\n",
    "あるとします。つまり、x、W、y の形状はそれぞれN ×D、D ×H、N ×H とし\n",
    "ます。このとき、逆伝播の計算グラフは図41-5 のようになります。"
   ]
  },
  {
   "cell_type": "markdown",
   "id": "4b6df020-3eba-42b8-8b9d-69f6df5161ff",
   "metadata": {},
   "source": [
    "![41_5](fig/41_5.png)"
   ]
  },
  {
   "cell_type": "markdown",
   "id": "347fe293-c3c3-4ed0-97f1-25ed381b891a",
   "metadata": {},
   "source": [
    "それでは$\\frac{\\partial L}{\\partial x}$と$\\frac{\\partial L}{\\partial W}$を導出しましょう。行列の形状に注目し、その整合性が保たれ\n",
    "るように行列の積を組み立てることにします。そうすると、図41-6 の式が導けます。"
   ]
  },
  {
   "cell_type": "markdown",
   "id": "97476042-5093-4a22-954d-eee93a86f633",
   "metadata": {},
   "source": [
    "![41_6](fig/41_6.png)"
   ]
  },
  {
   "cell_type": "markdown",
   "id": "0378ad82-28a8-4270-b8fe-705c5feb1e1e",
   "metadata": {},
   "source": [
    "図41-6 の式は、図41-4 の式と同じように、各行列の要素を計算して両辺を比較す\n",
    "れば導けます。また、行列の積の形状チェックも満たしていることを確認できます。\n",
    "この数式があれば、DeZero の関数として「行列の積」を実装することは簡単です。\n",
    "それは次のように実装できます。"
   ]
  },
  {
   "cell_type": "markdown",
   "id": "96eaf80a-3e19-4d19-8cf6-be77502fb5b0",
   "metadata": {},
   "source": [
    "```python\n",
    "\n",
    "class MatMul(Function):\n",
    "    def forward(self, x, W):\n",
    "        y = x.dot(W)\n",
    "        return y\n",
    "\n",
    "    def backward(self, gy):\n",
    "        x, W = self.inputs\n",
    "        gx = matmul(gy, W.T)\n",
    "        gW = matmul(x.T, gy)\n",
    "        return gx, gW\n",
    "\n",
    "\n",
    "def matmul(x, W):\n",
    "    return MatMul()(x, W)\n",
    "\n",
    "```"
   ]
  },
  {
   "cell_type": "markdown",
   "id": "050f9d9d-2a5b-42b2-87f9-088bfc5cee27",
   "metadata": {},
   "source": [
    "逆伝播では、図41-6 の数式に従い、それをDeZero の関数としてコーディングし\n",
    "ます。なお、順伝播ではnp.dot(x, W) の代わりに、x.dot(W) として実装しまし\n",
    "た。そのように、ndarray インスタンスのメソッドとしても利用できます。"
   ]
  },
  {
   "cell_type": "markdown",
   "id": "732c974b-ed1b-4cc8-a88c-d25b5af115cb",
   "metadata": {},
   "source": [
    "上のコードの逆伝播で使用するmatmul 関数は、今まさに実装している関数で\n",
    "す。また、転置を行う操作（W.T とx.T）では、DeZero のtranspose 関\n",
    "数が呼ばれます（それはステップ38 で実装しました）。"
   ]
  },
  {
   "cell_type": "markdown",
   "id": "bb2a5269-32d9-4474-a846-186ceaae97c3",
   "metadata": {},
   "source": [
    "これで、次のようにDeZero のmatmul 関数を使って計算できます。そして、微分\n",
    "も求めることができます。"
   ]
  },
  {
   "cell_type": "code",
   "execution_count": 11,
   "id": "f5259dd8-f4b0-4fb8-a6fe-3c84226e9896",
   "metadata": {},
   "outputs": [
    {
     "name": "stdout",
     "output_type": "stream",
     "text": [
      "(2, 3)\n",
      "(3, 4)\n"
     ]
    }
   ],
   "source": [
    "import numpy as np\n",
    "from dezero import Variable\n",
    "import dezero.functions as F\n",
    "\n",
    "x = Variable(np.random.randn(2, 3))\n",
    "w = Variable(np.random.randn(3, 4))\n",
    "y = F.matmul(x, w)\n",
    "y.backward()\n",
    "\n",
    "# print(x.grad)\n",
    "# print(w.grad)\n",
    "print(x.grad.shape)\n",
    "print(w.grad.shape)"
   ]
  },
  {
   "cell_type": "markdown",
   "id": "688a4c23-df4a-42ce-94d8-2d753d5b18c6",
   "metadata": {},
   "source": [
    "ここでは、NumPy の多次元配列をランダムに生成し、それを使って計算を行って\n",
    "います。上のコードは、エラーなく実行できます。また、x.grad.shape とx.shape\n",
    "が等しいこと、そして、w.grad.shape とW.shape が等しいことが確認できます。\n",
    "以上でDeZero 版の行列の積は完成です。"
   ]
  },
  {
   "cell_type": "markdown",
   "id": "64744a59-f32c-4368-b3ab-2a32c1cdf474",
   "metadata": {},
   "source": [
    "## ステップ42 線形回帰"
   ]
  },
  {
   "cell_type": "markdown",
   "id": "0e93ec33-ece8-4a90-8b15-7ab63428105a",
   "metadata": {},
   "source": [
    "機械学習は「データ」を使って問題を解きます。人が問題の解決法を考えるのでは\n",
    "なく、集められた「データ」から問題の解決法をコンピュータに見つけさせます（学習させます）。このように、「データ」から解法を見つけることが機械学習の本質です。これから私たちは、DeZero を使って機械学習の問題に挑みます。ここでは、機械学習の中で最も基本となる「線形回帰」を実装します。"
   ]
  },
  {
   "cell_type": "markdown",
   "id": "27872f3b-f283-4558-a4b3-1b6fc64a2830",
   "metadata": {},
   "source": [
    "### 42.1 トイ・データセット"
   ]
  },
  {
   "cell_type": "markdown",
   "id": "4b2b08be-d634-4dd5-88d7-949cc511af19",
   "metadata": {},
   "source": [
    "本ステップでは、実験用に小さなデータセットを作ります。そのような小さなデー\n",
    "タセットは「トイ・データセット」と呼ばれます。ここでは再現性を考慮して、次の\n",
    "ように、乱数のシードを固定してデータを生成します。"
   ]
  },
  {
   "cell_type": "code",
   "execution_count": 12,
   "id": "a036706d-e053-4ce3-9536-3b5c6851e239",
   "metadata": {},
   "outputs": [],
   "source": [
    "import numpy as np\n",
    "np.random.seed(0)\n",
    "x = np.random.rand(100, 1)\n",
    "y = 5 + 2 * x + np.random.rand(100, 1)"
   ]
  },
  {
   "cell_type": "markdown",
   "id": "e21a32a6-ff30-49c7-8550-b10f5f67efee",
   "metadata": {},
   "source": [
    "上記のように、x とy の2 つの変数からなるデータセットを作ります。このとき、\n",
    "点群は直線上にあり、y にはノイズとして乱数が加算されています。この(x, y) の\n",
    "点をプロットすると、図42-1 のようになります。"
   ]
  },
  {
   "cell_type": "code",
   "execution_count": 13,
   "id": "2f44358b-98ec-4b31-b4c9-56dc26bccb58",
   "metadata": {},
   "outputs": [
    {
     "data": {
      "text/plain": [
       "<matplotlib.collections.PathCollection at 0x7f9333465340>"
      ]
     },
     "execution_count": 13,
     "metadata": {},
     "output_type": "execute_result"
    },
    {
     "data": {
      "image/png": "[encoded data removed]",
      "text/plain": [
       "<Figure size 432x288 with 1 Axes>"
      ]
     },
     "metadata": {
      "needs_background": "light"
     },
     "output_type": "display_data"
    }
   ],
   "source": [
    "import matplotlib.pyplot as plt\n",
    "plt.scatter(x,y)"
   ]
  },
  {
   "cell_type": "markdown",
   "id": "db877895-7a31-4e86-aa47-2a072e21d10b",
   "metadata": {},
   "source": [
    "図42-1 のように、x とy は「線形」の関係にありますが、そこにはノイズが含まれています。私たちの目標は、x の値からy の値を予測できるモデル（数式）を作ることです。"
   ]
  },
  {
   "cell_type": "markdown",
   "id": "cb20d533-08f3-427e-b572-539f17520741",
   "metadata": {},
   "source": [
    "実数値であるy を、x の値から予測することは「回帰（regression）」と呼ば\n",
    "れます。さらに、その予測するモデルを「線形」として（直線として）予測する\n",
    "とき、それは「線形回帰」と呼ばれます。"
   ]
  },
  {
   "cell_type": "markdown",
   "id": "e0724319-4796-42ca-b15d-47df5eb717c1",
   "metadata": {
    "tags": []
   },
   "source": [
    "### 42.2 線形回帰の理論"
   ]
  },
  {
   "cell_type": "markdown",
   "id": "dbda31aa-5d6a-44ec-9473-a66b602fa931",
   "metadata": {},
   "source": [
    "これからの目標は、与えられたデータに適合するような関数を見つけることです。\n",
    "ここでは、y とx の関係は線形であることを仮定しているため、y = Wx + b とい\n",
    "う式で表せます（ここでW はスカラとします）。このy = Wx + b という直線は、\n",
    "図42-2 のように表されます。"
   ]
  },
  {
   "cell_type": "markdown",
   "id": "509017a2-3feb-443b-9182-2706a2811190",
   "metadata": {},
   "source": [
    "![42_2](fig/42_2.png)"
   ]
  },
  {
   "cell_type": "markdown",
   "id": "627c94a3-e2e3-4e36-8160-3c3829f63a1f",
   "metadata": {},
   "source": [
    "図42-2 のとおり、私たちの目標は、データに合うような直線y = Wx + b を見つ\n",
    "けることです。そのためには、データと予測値の差――これを「残差（residual）」と\n",
    "呼びます――をできるかぎり減らすことが求められます。ここでは、私たちの予測値\n",
    "（モデル）とデータとの誤差を表す指標を、次の式で定義します。"
   ]
  },
  {
   "cell_type": "markdown",
   "id": "97107258-5d0d-454f-bfa0-4b7ed29eda1b",
   "metadata": {},
   "source": [
    "$ L = \\frac{1}{N}\\sum_{i=1}^{N}(f(x_i)-y_i)^2 \\hspace{10mm}$ \n",
    "(42.1)"
   ]
  },
  {
   "cell_type": "markdown",
   "id": "4088ba14-e84c-49b3-a9e8-0ad22a785bb4",
   "metadata": {},
   "source": [
    "式(42.1) では、全部でN 個の点があるとして、$(x_i, y_i)$ の各点において2 乗誤差\n",
    "を求め、それらを足し合わせます。そして、その平均を求めるために$\\frac{1}{N}$ を掛けます。\n",
    "この式は、平均2 乗誤差（mean squared error）と呼ばれます。なお、式(42.1) では、$\\frac{1}{N}$ ... としましたが、$\\frac{1}{2N}$ ... と定義するケースもあります。ただし、どちらの場合であっても、勾配降下法で解く場合は学習率の値を調整することで同じ問題設定にな\n",
    "ります。"
   ]
  },
  {
   "cell_type": "markdown",
   "id": "9f3aeb1f-a220-46a0-b1f8-f8aa607bf854",
   "metadata": {},
   "source": [
    "モデルの“悪さ” を評価する関数は、損失関数（loss function）と呼ばれます。\n",
    "そのため、線形回帰は「損失関数として平均2 乗誤差を用いる」と表現できます。"
   ]
  },
  {
   "cell_type": "markdown",
   "id": "f8a8a8d6-469f-4e34-b421-4a68f3b7fda1",
   "metadata": {},
   "source": [
    "私たちの目標は、式(42.1) で表される損失関数の出力を最小化するWとbを見つけることです。これは関数の最適化に関する問題です。そして、私たちはすでに（ステップ28で）、そのような問題を勾配降下法を使って解いてきました。ここでも、勾配降下法を使って式(42.1) を最小化するパラメータを見つけます。"
   ]
  },
  {
   "cell_type": "markdown",
   "id": "c361e397-27bc-48ed-9a82-5d7355937609",
   "metadata": {},
   "source": [
    "### 42.3 線形回帰の実装"
   ]
  },
  {
   "cell_type": "markdown",
   "id": "83148a97-87b4-4903-b08b-ceb1a65c4d3e",
   "metadata": {},
   "source": [
    "それでは、DeZero を使って線形回帰を実装します。ここでは、コードを前半と後\n",
    "半の2 つのパートに分けて掲載します。まずは前半のコードを示します。"
   ]
  },
  {
   "cell_type": "code",
   "execution_count": 14,
   "id": "e7231ec0-51dd-46de-97a8-97f7b612217d",
   "metadata": {},
   "outputs": [],
   "source": [
    "# Generate toy dataset\n",
    "np.random.seed(0)\n",
    "x = np.random.rand(100, 1)\n",
    "y = 5 + 2 * x + np.random.rand(100, 1)\n",
    "x, y = Variable(x), Variable(y)\n",
    "\n",
    "W = Variable(np.zeros((1, 1)))\n",
    "b = Variable(np.zeros(1))\n",
    "\n",
    "def predict(x):\n",
    "    y = F.matmul(x, W) + b\n",
    "    return y"
   ]
  },
  {
   "cell_type": "markdown",
   "id": "0b6daa4b-be27-4fd5-a2e5-9d4cd84a76fe",
   "metadata": {},
   "source": [
    "また、上のコードではpredict 関数を定義します。そこでは、行列の積のmatmul\n",
    "関数を使って計算を行います。行列の積を使うことで、複数のデータ（上の例では\n",
    "100 個のデータ）に対して、まとめて計算を行うことができます。このときの形状の\n",
    "推移は、図42-3 のようになります。"
   ]
  },
  {
   "cell_type": "markdown",
   "id": "2d9c538c-19e8-4139-a6a8-a3c27e9f0015",
   "metadata": {},
   "source": [
    "![42_3](fig/42_3.png)"
   ]
  },
  {
   "cell_type": "markdown",
   "id": "71d0409b-f024-4fcb-a8d3-5caaa81e85ae",
   "metadata": {},
   "source": [
    "図42-3 のように、対応する次元の要素数が一致していることが分かります。そし\n",
    "て、結果となるy の形状は(100, 1) になります。つまり、100 個のデータを持つx\n",
    "について、すべてのデータそれぞれに対してW の掛け算が行われたことになります。\n",
    "これで、一度の計算で、すべてのデータの予測値が求められます。なお、ここではx\n",
    "のデータの次元は1 ですが、これがD の場合は、W の形状を(D, 1) とすれば、正し\n",
    "い計算が行えます。たとえばD=4 の場合、図42-4 のように行列の積の計算が行われ\n",
    "ます。"
   ]
  },
  {
   "cell_type": "markdown",
   "id": "fa3d62ba-eaef-47ec-b7ff-202e737c781e",
   "metadata": {},
   "source": [
    "![42_4](fig/42_4.png)"
   ]
  },
  {
   "cell_type": "markdown",
   "id": "81856509-00ca-4e23-bd5b-3d7e23c701f9",
   "metadata": {},
   "source": [
    "図42-4 のように、x.shape[1] とW.shape[0] を一致させることで、行列の積の\n",
    "計算が正しく行われます。このとき、100個のデータそれぞれに対して、W による\n",
    "「ベクトルの内積」の計算が行われます。"
   ]
  },
  {
   "cell_type": "code",
   "execution_count": 15,
   "id": "5ade4582-869d-4e6d-b431-7b14e0f756df",
   "metadata": {},
   "outputs": [],
   "source": [
    "# if '__file__' in globals():\n",
    "#     import os, sys\n",
    "# #     sys.path.append(os.path.join(os.path.dirname(__file__), '..'))\n",
    "#     sys.path.append(os.path.join(os.path.dirname(os.path.abspath('__file__')), '..'))\n",
    "# import numpy as np\n",
    "# from dezero import Variable\n",
    "# import dezero.functions as F\n"
   ]
  },
  {
   "cell_type": "code",
   "execution_count": 16,
   "id": "673bba99-e632-4c5b-9678-13a56617d9b9",
   "metadata": {},
   "outputs": [
    {
     "name": "stdout",
     "output_type": "stream",
     "text": [
      "variable([[0.64433458]]) variable([1.29473389]) variable(42.296340129442335)\n",
      "variable([[1.12672345]]) variable([2.26959351]) variable(23.97380754378544)\n",
      "variable([[1.48734571]]) variable([3.00386712]) variable(13.609686745040522)\n",
      "variable([[1.75641886]]) variable([3.557186]) variable(7.747049961219976)\n",
      "variable([[1.95666851]]) variable([3.97439789]) variable(4.43057410592155)\n",
      "variable([[2.10518573]]) variable([4.28923203]) variable(2.554280381353593)\n",
      "variable([[2.21482401]]) variable([4.52705574]) variable(1.492599869047195)\n",
      "variable([[2.29524981]]) variable([4.70694745]) variable(0.8916952181756939)\n",
      "variable([[2.35373273]]) variable([4.84325585]) variable(0.5514270962227455)\n",
      "variable([[2.39573972]]) variable([4.9467725]) variable(0.3585915308319281)\n",
      "variable([[2.425382]]) variable([5.02561369]) variable(0.24915731977561134)\n",
      "variable([[2.44575118]]) variable([5.08588371]) variable(0.1869065876539789)\n",
      "variable([[2.45917205]]) variable([5.13217364]) variable(0.1513533629631488)\n",
      "variable([[2.4673927]]) variable([5.16793652]) variable(0.13091003006317087)\n",
      "variable([[2.47172747]]) variable([5.19576949]) variable(0.11902210735018467)\n",
      "variable([[2.47316455]]) variable([5.21762597]) variable(0.11198198322254362)\n",
      "variable([[2.47244676]]) variable([5.23497527]) variable(0.10769231158094321)\n",
      "variable([[2.47013247]]) variable([5.24892259]) variable(0.10496655795675108)\n",
      "variable([[2.46664127]]) variable([5.26029927]) variable(0.10313337115761934)\n",
      "variable([[2.46228843]]) variable([5.26973075]) variable(0.10181280604960243)\n",
      "variable([[2.45731071]]) variable([5.27768752]) variable(0.10078974954301652)\n",
      "variable([[2.4518859]]) variable([5.28452363]) variable(0.09994232708821599)\n",
      "variable([[2.44614738]]) variable([5.29050548]) variable(0.09920140749444821)\n",
      "variable([[2.44019517]]) variable([5.29583359]) variable(0.09852769772358984)\n",
      "variable([[2.4341042]]) variable([5.30065891]) variable(0.09789878700703991)\n",
      "variable([[2.4279305]]) variable([5.30509512]) variable(0.09730181854646197)\n",
      "variable([[2.42171596]]) variable([5.30922787]) variable(0.0967293443169877)\n",
      "variable([[2.41549177]]) variable([5.3131217]) variable(0.09617698031441604)\n",
      "variable([[2.40928112]]) variable([5.31682532]) variable(0.09564208018092028)\n",
      "variable([[2.40310116]]) variable([5.32037549]) variable(0.09512298485383605)\n",
      "variable([[2.39696452]]) variable([5.3238]) variable(0.09461859803040694)\n",
      "variable([[2.39088043]]) variable([5.32711987]) variable(0.09412814592514404)\n",
      "variable([[2.38485555]]) variable([5.33035108]) variable(0.09365104127065577)\n",
      "variable([[2.37889464]]) variable([5.33350575]) variable(0.09318680628411545)\n",
      "variable([[2.37300101]]) variable([5.33659314]) variable(0.09273502898904006)\n",
      "variable([[2.3671769]]) variable([5.33962035]) variable(0.09229533840647547)\n",
      "variable([[2.36142374]]) variable([5.34259283]) variable(0.09186739042193233)\n",
      "variable([[2.35574235]]) variable([5.34551483]) variable(0.09145085969346782)\n",
      "variable([[2.35013309]]) variable([5.34838966]) variable(0.09104543497939387)\n",
      "variable([[2.34459602]]) variable([5.35121993]) variable(0.09065081640275062)\n",
      "variable([[2.33913091]]) variable([5.35400772]) variable(0.0902667138137311)\n",
      "variable([[2.33373736]]) variable([5.35675472]) variable(0.08989284577554084)\n",
      "variable([[2.32841486]]) variable([5.35946234]) variable(0.0895289389052284)\n",
      "variable([[2.32316275]]) variable([5.36213172]) variable(0.08917472741757472)\n",
      "variable([[2.31798034]]) variable([5.36476385]) variable(0.08882995278605695)\n",
      "variable([[2.31286689]]) variable([5.3673596]) variable(0.08849436347219049)\n",
      "variable([[2.30782159]]) variable([5.36991973]) variable(0.08816771469564999)\n",
      "variable([[2.30284363]]) variable([5.3724449]) variable(0.08784976822950144)\n",
      "variable([[2.29793221]]) variable([5.37493575]) variable(0.08754029221162851)\n",
      "variable([[2.29308646]]) variable([5.37739285]) variable(0.08723906096725743)\n",
      "variable([[2.28830557]]) variable([5.37981674]) variable(0.08694585483964615)\n",
      "variable([[2.2835887]]) variable([5.38220792]) variable(0.0866604600272269)\n",
      "variable([[2.278935]]) variable([5.38456689]) variable(0.08638266842618712)\n",
      "variable([[2.27434366]]) variable([5.38689411]) variable(0.0861122774778659)\n",
      "variable([[2.26981384]]) variable([5.38919004]) variable(0.08584909002056745)\n",
      "variable([[2.26534474]]) variable([5.39145512]) variable(0.08559291414552149)\n",
      "variable([[2.26093555]]) variable([5.39368978]) variable(0.08534356305679344)\n",
      "variable([[2.25658547]]) variable([5.39589443]) variable(0.08510085493499035)\n",
      "variable([[2.25229371]]) variable([5.39806949]) variable(0.08486461280463413)\n",
      "variable([[2.2480595]]) variable([5.40021536]) variable(0.08463466440508784)\n",
      "variable([[2.24388206]]) variable([5.40233244]) variable(0.08441084206493275)\n",
      "variable([[2.23976064]]) variable([5.40442111]) variable(0.08419298257969864)\n",
      "variable([[2.23569448]]) variable([5.40648177]) variable(0.08398092709285435)\n",
      "variable([[2.23168285]]) variable([5.40851479]) variable(0.08377452097997208)\n",
      "variable([[2.22772501]]) variable([5.41052054]) variable(0.08357361373597812)\n",
      "variable([[2.22382025]]) variable([5.41249938]) variable(0.08337805886540826)\n",
      "variable([[2.21996785]]) variable([5.41445169]) variable(0.08318771377558704)\n",
      "variable([[2.21616712]]) variable([5.41637782]) variable(0.08300243967265336)\n",
      "variable([[2.21241735]]) variable([5.41827811]) variable(0.08282210146035615)\n",
      "variable([[2.20871786]]) variable([5.42015291]) variable(0.08264656764154595)\n",
      "variable([[2.20506799]]) variable([5.42200258]) variable(0.08247571022229121)\n",
      "variable([[2.20146706]]) variable([5.42382744]) variable(0.08230940461854906)\n",
      "variable([[2.19791443]]) variable([5.42562782]) variable(0.08214752956532231)\n",
      "variable([[2.19440943]]) variable([5.42740407]) variable(0.08198996702823673)\n",
      "variable([[2.19095144]]) variable([5.42915649]) variable(0.08183660211747391)\n",
      "variable([[2.18753983]]) variable([5.43088541]) variable(0.08168732300399718)\n",
      "variable([[2.18417396]]) variable([5.43259114]) variable(0.08154202083800904)\n",
      "variable([[2.18085323]]) variable([5.434274]) variable(0.08140058966958151)\n",
      "variable([[2.17757703]]) variable([5.4359343]) variable(0.08126292637140048)\n",
      "variable([[2.17434477]]) variable([5.43757232]) variable(0.0811289305635685)\n",
      "variable([[2.17115586]]) variable([5.43918838]) variable(0.08099850454041051)\n",
      "variable([[2.16800971]]) variable([5.44078277]) variable(0.0808715531992303)\n",
      "variable([[2.16490575]]) variable([5.44235578]) variable(0.08074798397096412)\n",
      "variable([[2.16184341]]) variable([5.44390769]) variable(0.08062770675268231)\n",
      "variable([[2.15882214]]) variable([5.44543879]) variable(0.08051063384188899)\n",
      "variable([[2.15584139]]) variable([5.44694936]) variable(0.08039667987257197)\n",
      "variable([[2.15290062]]) variable([5.44843967]) variable(0.08028576175295649)\n",
      "variable([[2.14999928]]) variable([5.44990999]) variable(0.08017779860491725)\n",
      "variable([[2.14713684]]) variable([5.4513606]) variable(0.08007271170500452)\n",
      "variable([[2.1443128]]) variable([5.45279175]) variable(0.07997042442704135)\n",
      "variable([[2.14152662]]) variable([5.45420371]) variable(0.07987086218625004)\n",
      "variable([[2.13877781]]) variable([5.45559674]) variable(0.07977395238486742)\n",
      "variable([[2.13606587]]) variable([5.45697108]) variable(0.07967962435920853)\n",
      "variable([[2.13339029]]) variable([5.458327]) variable(0.07958780932814088)\n",
      "variable([[2.13075059]]) variable([5.45966473]) variable(0.07949844034293135)\n",
      "variable([[2.12814629]]) variable([5.46098452]) variable(0.07941145223842926)\n",
      "variable([[2.12557692]]) variable([5.46228661]) variable(0.07932678158554966)\n",
      "variable([[2.123042]]) variable([5.46357124]) variable(0.07924436664502324)\n",
      "variable([[2.12054108]]) variable([5.46483864]) variable(0.07916414732237737)\n",
      "variable([[2.11807369]]) variable([5.46608905]) variable(0.07908606512411756)\n"
     ]
    },
    {
     "data": {
      "image/png": "[encoded data removed]",
      "text/plain": [
       "<Figure size 432x288 with 1 Axes>"
      ]
     },
     "metadata": {
      "needs_background": "light"
     },
     "output_type": "display_data"
    }
   ],
   "source": [
    "import matplotlib.pyplot as plt\n",
    "\n",
    "def mean_squared_error(x0, x1):\n",
    "    diff = x0 - x1\n",
    "    return F.sum(diff ** 2) / len(diff)\n",
    "\n",
    "\n",
    "lr = 0.1\n",
    "iters = 100\n",
    "\n",
    "for i in range(iters):\n",
    "    y_pred = predict(x)\n",
    "    loss = mean_squared_error(y, y_pred)\n",
    "\n",
    "    W.cleargrad()\n",
    "    b.cleargrad()\n",
    "    loss.backward()\n",
    "\n",
    "    # Update .data attribute (No need grads when updating params)\n",
    "    W.data -= lr * W.grad.data\n",
    "    b.data -= lr * b.grad.data\n",
    "    print(W, b, loss)\n",
    "\n",
    "    \n",
    "plt.scatter(x.data, y.data, s=10)\n",
    "plt.xlabel('x')\n",
    "plt.ylabel('y')\n",
    "y_pred = predict(x)\n",
    "plt.plot(x.data, y_pred.data, color='r')\n",
    "plt.show()"
   ]
  },
  {
   "cell_type": "markdown",
   "id": "4c4ee460-6ad4-40aa-a47a-ff53a6a8fef6",
   "metadata": {},
   "source": [
    "ここでは、平均2 乗誤差を求める関数をmean_squared_error(x0, x1) と\n",
    "して実装します。それは式(42.1) を、DeZero の関数を使って実装するだけで\n",
    "す。その次に、勾配降下法によってパラメータを更新します。その実装はすで\n",
    "にステップ28 で行いました。ここでの注意点は、パラメータを更新するときは、\n",
    "W.data -= lr * W.grad.data のように、インスタンス変数のdata に対して計\n",
    "算を行うことです。パラメータの更新は、単にデータを更新するだけなので、計算グ\n",
    "ラフを作る必要はありません。\n",
    "それでは、上のコードを実行してみましょう。そうすると、損失関数の出力\n",
    "値が減っていくことが分かります。そして最終的には、W = [[2.11807369]]、\n",
    "b = [5.46608905] という値が得られます。参考までに、このパラメータによって\n",
    "得られる直線のグラフは図42-5 のようになります。"
   ]
  },
  {
   "cell_type": "markdown",
   "id": "acd40a4f-bf8c-4882-894f-419bd7b2a06f",
   "metadata": {},
   "source": [
    "図42-5 のとおり、データにフィット（適合）したモデルを得ることができました。\n",
    "私たちは、DeZero を使って正しく線形回帰を実装できたのです！ これで線形回帰\n",
    "の実装は終了です。最後に、DeZero のmean_squared_error 関数について補足し\n",
    "ます。"
   ]
  },
  {
   "cell_type": "markdown",
   "id": "bc0e2945-40c7-487e-abea-df9557719f72",
   "metadata": {},
   "source": [
    "### 42.4 【補足】DeZero のmean_squared_error 関数"
   ]
  },
  {
   "cell_type": "markdown",
   "id": "5440ab11-39ec-42a6-a611-a2f7c6caf756",
   "metadata": {},
   "source": [
    "先ほど私たちは、平均2 乗誤差を求める関数を実装しました。そのコードを抜粋す\n",
    "ると、次のようになります。"
   ]
  },
  {
   "cell_type": "markdown",
   "id": "3a43790a-83f0-4e3e-a9ec-8d0a95941573",
   "metadata": {},
   "source": [
    "```python\n",
    "def mean_squared_error(x0, x1):\n",
    "    diff = x0 - x1\n",
    "    y = F.sum(diff ** 2) / len(diff)\n",
    "    return y\n",
    "```"
   ]
  },
  {
   "cell_type": "markdown",
   "id": "440a6d46-7dfa-4f25-a707-9fda2fbc3ca4",
   "metadata": {},
   "source": [
    "この関数は正しい計算を行います。そして、DeZero の関数を使って計算している\n",
    "ので、微分も求めることができます。しかし、この実装方式には改良点があります。\n",
    "それを説明するにあたって、図42-6 の計算グラフを見てみましょう。"
   ]
  },
  {
   "cell_type": "markdown",
   "id": "140eb78e-0a7f-453a-91a0-e910c4855159",
   "metadata": {},
   "source": [
    "![42_6](fig/42_6.png)"
   ]
  },
  {
   "cell_type": "markdown",
   "id": "54cd61b7-0f91-4a03-aaa7-90269a9825c3",
   "metadata": {},
   "source": [
    "図42-6 は、上のmean_squared_error 関数によって作られる計算グラフです。\n",
    "ここで注目してほしい点は、途中にある変数です。そこには無名の変数が3 つ存在し\n",
    "ます。それらは計算グラフに記録されているため、計算グラフが存在する間はメモリ\n",
    "に生き続けます。そして、それらの変数のデータ（ndarray インスタンス）も同様に\n",
    "生き続けます。"
   ]
  },
  {
   "cell_type": "markdown",
   "id": "d84c9cfb-2088-4170-acc3-0474d2b10c43",
   "metadata": {},
   "source": [
    "DeZero で微分を求めるには、順伝播を行い、その後に逆伝播を行います。\n",
    "図42-6 に存在する変数たち（そして、その変数が参照するデータたち）は、順\n",
    "伝播と逆伝播の間中はメモリ上に存在し続けることになります。"
   ]
  },
  {
   "cell_type": "markdown",
   "id": "b27401b5-a1ca-4fa7-89ab-b631ed13b725",
   "metadata": {},
   "source": [
    "ここでメモリの使用量に問題がない場合は、上の実装方式で問題ありません。ただ\n",
    "し、第3 者に使ってもらう関数としては、より良い実装方式が考えられます。それ\n",
    "は、Function クラスを継承して実装する方式です。つまりは、MeanSquaredErrorというDeZero の関数クラスを実装するのです。実際のコードを示すと、次のように\n",
    "なります。"
   ]
  },
  {
   "cell_type": "markdown",
   "id": "fb5131fd-61ee-4ec8-97d0-1703122a3ed7",
   "metadata": {},
   "source": [
    "```python\n",
    "class MeanSquaredError(Function):\n",
    "    def forward(self, x0, x1):\n",
    "        diff = x0 - x1\n",
    "        y = (diff ** 2).sum() / len(diff)\n",
    "        return y\n",
    "\n",
    "    def backward(self, gy):\n",
    "        x0, x1 = self.inputs\n",
    "        diff = x0 - x1\n",
    "        gx0 = gy * diff * (2. / len(diff))\n",
    "        gx1 = -gx0\n",
    "        return gx0, gx1\n",
    "\n",
    "\n",
    "def mean_squared_error(x0, x1):\n",
    "    return MeanSquaredError()(x0, x1)\n",
    "```"
   ]
  },
  {
   "cell_type": "markdown",
   "id": "ded97b8b-d971-4222-8862-affa77b4af95",
   "metadata": {},
   "source": [
    "まずは順伝播でndarray インスタンスに対して実装を行います。そのコードは、\n",
    "先ほどDeZero 版の関数で実装したコードとほとんど同じです。この処理単位をひと\n",
    "まとめにして、その逆伝播のコードをbackward に実装します。逆伝播の実装は、数\n",
    "式で微分を求めて、それをコーディングします。ここでは、その説明は省略します。\n",
    "この新しい実装方式によるmean_squared_error 関数も、旧式のそれと同じ結\n",
    "果が得られます。ただし、メモリ効率の良い実装になります。なぜなら、新しい\n",
    "mean_squared_error 関数では、図42-7 のような計算グラフが作られるからです。"
   ]
  },
  {
   "cell_type": "markdown",
   "id": "c59e1d04-1b7a-4a81-aca3-727c384623b4",
   "metadata": {},
   "source": [
    "![42_7](fig/42_7.png)"
   ]
  },
  {
   "cell_type": "markdown",
   "id": "46d774e4-a56e-4acc-8d9a-e39dde76cecd",
   "metadata": {},
   "source": [
    "が計算グラフに存在しません。その途中のデータは、MeanSquaredError クラスの\n",
    "forward メソッドの中でのみ使用されます。より正確に言うと、それらはndarray\n",
    "インスタンスとして使用され、forward メソッドのスコープを抜けるとすぐにメモ\n",
    "リから消去されるのです。\n",
    "以上の理由から、dezero/functions.py にあるmean_squared_error 関\n",
    "数は、新しい方式で実装されています。旧式版の実装は、参考のために、\n",
    "mean_squared_error_simple という名前で―― 最後に_simple という名前\n",
    "を付けて―― 、dezero/functions.py に追加しています。以上がDeZero の\n",
    "mean_squared_error 関数についての補足です。"
   ]
  },
  {
   "cell_type": "code",
   "execution_count": null,
   "id": "72f9b8b8-19fd-46aa-8dbf-8515127bda32",
   "metadata": {},
   "outputs": [],
   "source": []
  },
  {
   "cell_type": "code",
   "execution_count": null,
   "id": "01c8e2f7-9eb1-4343-97c0-60f1ec8bfd71",
   "metadata": {},
   "outputs": [],
   "source": []
  }
 ],
 "metadata": {
  "kernelspec": {
   "display_name": "Python 3",
   "language": "python",
   "name": "python3"
  },
  "language_info": {
   "codemirror_mode": {
    "name": "ipython",
    "version": 3
   },
   "file_extension": ".py",
   "mimetype": "text/x-python",
   "name": "python",
   "nbconvert_exporter": "python",
   "pygments_lexer": "ipython3",
   "version": "3.8.8"
  }
 },
 "nbformat": 4,
 "nbformat_minor": 5
}
