{
 "cells": [
  {
   "cell_type": "markdown",
   "metadata": {},
   "source": [
    "# chapter4\n",
    "これまではスカラを扱ってきたが機械学習で中心となるのはテンソル(ベクトルや行列)なのでDeZeroでテンソルを扱えるように拡張していく\\\n",
    "→基本的にはNumPyの機能をVariableでも使えるように実装していく流れ"
   ]
  },
  {
   "cell_type": "markdown",
   "metadata": {},
   "source": [
    "## Step37\n",
    "### 37.1\n",
    "これまではスカラを想定\\\n",
    "sin関数を例に用いて、テンソルが入力された場合Variableがどんな計算になるのかをみる"
   ]
  },
  {
   "cell_type": "markdown",
   "metadata": {},
   "source": [
    "```python\n",
    "class Sin(Function):\n",
    "    def forward(self, x):\n",
    "        y = np.sin(x)\n",
    "        return y\n",
    "    \n",
    "    def backward(self, gy):\n",
    "        x = self.inputs[0].data\n",
    "        gx = gy * np.cos(x)\n",
    "        return gx\n",
    "\n",
    "def sin(x):\n",
    "    return Sin()(x)"
   ]
  },
  {
   "cell_type": "code",
   "execution_count": 1,
   "metadata": {},
   "outputs": [
    {
     "name": "stderr",
     "output_type": "stream",
     "text": [
      "/Volumes/yason01_ssd/data/05_輪読会/zerotsuku3/chapter4/step37~39/dezero/datasets.py:234: SyntaxWarning: \"is\" with a literal. Did you mean \"==\"?\n",
      "  return fine_labels if label_type is 'fine' else coarse_labels\n"
     ]
    },
    {
     "name": "stdout",
     "output_type": "stream",
     "text": [
      "variable(0.8414709848078965)\n"
     ]
    }
   ],
   "source": [
    "import numpy as np\n",
    "import dezero.functions as F\n",
    "from dezero import Variable\n",
    "\n",
    "x = Variable(np.array(1.0))\n",
    "y = F.sin(x)\n",
    "print(y)"
   ]
  },
  {
   "cell_type": "markdown",
   "metadata": {},
   "source": [
    "入力がテンソルの場合"
   ]
  },
  {
   "cell_type": "code",
   "execution_count": 106,
   "metadata": {},
   "outputs": [
    {
     "name": "stdout",
     "output_type": "stream",
     "text": [
      "variable([[ 0.84147098  0.90929743  0.14112001]\n",
      "          [-0.7568025  -0.95892427 -0.2794155 ]])\n"
     ]
    }
   ],
   "source": [
    "x = Variable(np.array([[1, 2, 3], [4, 5, 6]]))\n",
    "y = F.sin(x)\n",
    "print(y)"
   ]
  },
  {
   "cell_type": "markdown",
   "metadata": {},
   "source": [
    "xの各要素に対してsin関数が適用されている\\\n",
    "→出力はxと同じshape"
   ]
  },
  {
   "cell_type": "markdown",
   "metadata": {},
   "source": [
    "続いてテンソル同士の足し算をみる"
   ]
  },
  {
   "cell_type": "code",
   "execution_count": 107,
   "metadata": {},
   "outputs": [
    {
     "name": "stdout",
     "output_type": "stream",
     "text": [
      "variable([[11 22 33]\n",
      "          [44 55 66]])\n"
     ]
    }
   ],
   "source": [
    "x = Variable(np.array([[1, 2, 3], [4, 5, 6]]))\n",
    "c = Variable(np.array([[10, 20, 30], [40, 50, 60]]))\n",
    "y = x + c\n",
    "print(y)"
   ]
  },
  {
   "cell_type": "markdown",
   "metadata": {},
   "source": [
    "要素の同じ場所同士の計算になっている\\\n",
    "→出力はxとcと同じshape"
   ]
  },
  {
   "cell_type": "code",
   "execution_count": 108,
   "metadata": {},
   "outputs": [],
   "source": [
    "d = Variable(np.array([[10, 20], [30, 40]]))\n",
    "# z = x + d\n",
    "# print(z) #error"
   ]
  },
  {
   "cell_type": "markdown",
   "metadata": {},
   "source": [
    "NumPyにshapeが違うもの同士の計算を助けるブロードキャストという機能があるが解説はStep40"
   ]
  },
  {
   "cell_type": "markdown",
   "metadata": {},
   "source": [
    "### 37.2"
   ]
  },
  {
   "cell_type": "markdown",
   "metadata": {},
   "source": [
    "ここではテンソルでのバックプロパゲーションも正しく動作することを確認する\\\n",
    "\\\n",
    "下記、Step39のsum関数を使う→Step39で解説\\\n",
    "これはテンソルの全ての要素の和をとり、1つのスカラを出力する"
   ]
  },
  {
   "cell_type": "markdown",
   "metadata": {},
   "source": [
    "dezero/functions.py"
   ]
  },
  {
   "cell_type": "markdown",
   "metadata": {},
   "source": [
    "```python\n",
    "class Sum(Function):\n",
    "    def __init__(self, axis, keepdims):\n",
    "        self.axis = axis\n",
    "        self.keepdims = keepdims\n",
    "    \n",
    "    def forward(self, x):\n",
    "        self.x_shape = x.shape\n",
    "        y = x.sum(axis=self.axis, keepdims=self.keepdims)\n",
    "        return y\n",
    "    \n",
    "    def backward(self, gy):\n",
    "        gy = utils.reshape_sum_backward(gy, self.x_shape, self.axis, self.keepdims)\n",
    "        gx = broadcast_to(gy, self.x_shape)\n",
    "        return gx\n",
    "\n",
    "def sum(x, axis=None, keepdims=False):\n",
    "    return Sum(axis, keepdims)(x)"
   ]
  },
  {
   "cell_type": "code",
   "execution_count": 109,
   "metadata": {},
   "outputs": [
    {
     "name": "stdout",
     "output_type": "stream",
     "text": [
      "variable([[11 22 33]\n",
      "          [44 55 66]])\n",
      "variable(231)\n"
     ]
    }
   ],
   "source": [
    "x = Variable(np.array([[1, 2, 3], [4, 5, 6]]))\n",
    "c = Variable(np.array([[10, 20, 30], [40, 50, 60]]))\n",
    "t = x + c\n",
    "y = F.sum(t)\n",
    "print(t)\n",
    "print(y)"
   ]
  },
  {
   "cell_type": "code",
   "execution_count": 110,
   "metadata": {},
   "outputs": [
    {
     "name": "stdout",
     "output_type": "stream",
     "text": [
      "variable(1)\n",
      "variable([[1 1 1]\n",
      "          [1 1 1]])\n",
      "variable([[1 1 1]\n",
      "          [1 1 1]])\n",
      "variable([[1 1 1]\n",
      "          [1 1 1]])\n"
     ]
    }
   ],
   "source": [
    "y.backward(retain_grad=True)\n",
    "print(y.grad)\n",
    "print(t.grad)\n",
    "print(x.grad)\n",
    "print(c.grad)"
   ]
  },
  {
   "cell_type": "code",
   "execution_count": 111,
   "metadata": {},
   "outputs": [
    {
     "name": "stdout",
     "output_type": "stream",
     "text": [
      "variable(231)\n",
      "variable([[11 22 33]\n",
      "          [44 55 66]])\n",
      "variable([[1 2 3]\n",
      "          [4 5 6]])\n",
      "variable([[10 20 30]\n",
      "          [40 50 60]])\n"
     ]
    }
   ],
   "source": [
    "print(y)\n",
    "print(t)\n",
    "print(x)\n",
    "print(c)"
   ]
  },
  {
   "cell_type": "markdown",
   "metadata": {},
   "source": [
    "注目ポイントは\\\n",
    "要素ごとの逆伝播になっていること→この後の補足で見ていく\\\n",
    "微分前と後でshapeが同じになっていること→Step38で見ていく"
   ]
  },
  {
   "cell_type": "markdown",
   "metadata": {},
   "source": [
    "### 37.3 【補足】テンソルを使用したときのバックプロパゲーション  "
   ]
  },
  {
   "cell_type": "markdown",
   "metadata": {},
   "source": [
    "ここでの問題は「テンソルのバックプロパゲーションは要素ごとの微分」ということを証明していく\\\n",
    "\\\n",
    "まず前提の確認としてx, yを次のようにおくと"
   ]
  },
  {
   "cell_type": "markdown",
   "metadata": {},
   "source": [
    "### $$y = (y_1 \\quad y_2 \\quad y_3 \\quad ... \\quad y_n)$$\n",
    "### $$x = (x_1 \\quad x_2 \\quad x_3 \\quad ... \\quad x_n)$$"
   ]
  },
  {
   "cell_type": "markdown",
   "metadata": {},
   "source": [
    "### $$\\frac{∂y}{∂x}=\\begin{pmatrix}\\frac{∂y_1}{∂x_1}&\\frac{∂y_1}{∂x_2}&...&\\frac{∂y_1}{∂x_n}\\\\\\frac{∂y_2}{∂x_1}&\\frac{∂y_2}{∂x_2}&...&\\frac{∂y_2}{∂x_n}\\\\...&...&...&...\\\\\\frac{∂y_n}{∂x_1}&\\frac{∂y_n}{∂x_2}&...&\\frac{∂y_n}{∂x_n}\\\\\\end{pmatrix}$$"
   ]
  },
  {
   "cell_type": "markdown",
   "metadata": {},
   "source": [
    "yをスカラとすると1×nのヤコビ行列(ベクトル)と考えることができる"
   ]
  },
  {
   "cell_type": "markdown",
   "metadata": {},
   "source": [
    "### $$\\frac{∂y}{∂x} = (\\frac{∂y}{∂x_1} \\quad \\frac{∂y}{∂x_2} \\quad ... \\quad \\frac{∂y}{∂x_n})$$"
   ]
  },
  {
   "cell_type": "markdown",
   "metadata": {},
   "source": [
    "では次の合成関数について考える"
   ]
  },
  {
   "cell_type": "markdown",
   "metadata": {},
   "source": [
    "### $$y = F(x)$$"
   ]
  },
  {
   "cell_type": "markdown",
   "metadata": {},
   "source": [
    "### $$x → A() → a → B() → b → C() → y$$"
   ]
  },
  {
   "cell_type": "markdown",
   "metadata": {},
   "source": [
    "チェインルールにより次の式で表すことができる"
   ]
  },
  {
   "cell_type": "markdown",
   "metadata": {},
   "source": [
    "### $$\\frac{∂y}{∂x} = \\frac{∂y}{∂b}\\frac{∂b}{∂a}\\frac{∂a}{∂x}$$"
   ]
  },
  {
   "cell_type": "markdown",
   "metadata": {},
   "source": [
    "上記の式の右辺のそれぞれは、前提確認した内容よりヤコビ行列の積である\\\n",
    "ここで行列の積は結合法則(どっちから先に計算しても答えが同じ)が成り立つので"
   ]
  },
  {
   "cell_type": "markdown",
   "metadata": {},
   "source": [
    "### $$①\\qquad\\frac{∂y}{∂x} = \\frac{∂y}{∂b}(\\frac{∂b}{∂a}\\frac{∂a}{∂x})$$\n",
    "### $$②\\qquad\\frac{∂y}{∂x} = (\\frac{∂y}{∂b}\\frac{∂b}{∂a})\\frac{∂a}{∂x}$$"
   ]
  },
  {
   "cell_type": "markdown",
   "metadata": {},
   "source": [
    "上記の2パターンの選択肢があることになる\\\n",
    "行列のshapeに注目してみるとyはスカラ、a,b,c,xは要素数nのベクトルなので"
   ]
  },
  {
   "cell_type": "markdown",
   "metadata": {},
   "source": [
    "### $$(1×n) = (1×n)(n×n)(n×n)$$"
   ]
  },
  {
   "cell_type": "markdown",
   "metadata": {},
   "source": [
    "行列の積のshapeには下記のような特性がある\n",
    "### $$(2×3) × (3×4) = (2×4)$$"
   ]
  },
  {
   "cell_type": "markdown",
   "metadata": {},
   "source": [
    "結局①と②の違いは楽に計算できるかどうか→②の方が計算効率が良い\n",
    "### $$①\\qquad(n×n) × (n×n) → (1×n) × (n×n) → (1×n)$$\n",
    "### $$②\\qquad(1×n) × (n×n) → (1×n) × (n×n) → (1×n)$$"
   ]
  },
  {
   "cell_type": "markdown",
   "metadata": {},
   "source": [
    "$$$$"
   ]
  },
  {
   "cell_type": "markdown",
   "metadata": {},
   "source": [
    "$$$$"
   ]
  },
  {
   "cell_type": "markdown",
   "metadata": {},
   "source": [
    "結果がわかれば、わざわざ行列の積の計算をしなくてもOK\\\n",
    "要素で先に計算を進められるところを探すと\\\n",
    "x1はa1、x2はa2、…、xnはanにしか影響を与えないため次のような対角行列になる"
   ]
  },
  {
   "cell_type": "markdown",
   "metadata": {},
   "source": [
    "### $$\\frac{∂a}{∂x}=\\begin{pmatrix}\\frac{∂a_1}{∂x_1}&0&...&0\\\\0&\\frac{∂a_2}{∂x_2}&...&0\\\\...&...&...&...\\\\0&0&...&\\frac{∂y_n}{∂x_n}\\\\\\end{pmatrix}$$"
   ]
  },
  {
   "cell_type": "markdown",
   "metadata": {},
   "source": [
    "### $$\\frac{∂y}{∂a}\\frac{∂a}{∂x}=(\\frac{∂y}{∂a_1} \\quad \\frac{∂y}{∂a_2} \\quad ... \\quad \\frac{∂y}{∂a_n})  \\begin{pmatrix}\\frac{∂a_1}{∂x_1} & 0 & ... & 0\\\\ 0 & \\frac{∂a_2}{∂x_2} & ... & 0\\\\ ... & ... & ... & ...\\\\ 0 & 0 & ... & \\frac{∂y_n}{∂x_n}\\\\ \\end{pmatrix}$$"
   ]
  },
  {
   "cell_type": "markdown",
   "metadata": {},
   "source": [
    "### $$=( \\frac{∂y}{∂a_1} \\frac{∂a_1}{∂x_1} \\quad \\frac{∂y}{∂a_2} \\frac{∂a_2}{∂x_2} \\quad ... \\quad \\frac{∂y}{∂a_n} \\frac{∂a_n}{∂x_n})$$"
   ]
  },
  {
   "cell_type": "markdown",
   "metadata": {},
   "source": [
    "つまり要素ごとに微分を求めて、その微分を要素ごとにかけることで求められる"
   ]
  },
  {
   "cell_type": "markdown",
   "metadata": {},
   "source": [
    "$$$$"
   ]
  },
  {
   "cell_type": "markdown",
   "metadata": {},
   "source": [
    "$$$$"
   ]
  },
  {
   "cell_type": "markdown",
   "metadata": {},
   "source": [
    "$$$$"
   ]
  },
  {
   "cell_type": "markdown",
   "metadata": {},
   "source": [
    "## Step38"
   ]
  },
  {
   "cell_type": "markdown",
   "metadata": {},
   "source": [
    "テンソルでの実行について、要素ごとに計算を行うものは使えることがわかった\\\n",
    "なので要素ごとに計算を行わない関数について実装をしていく"
   ]
  },
  {
   "cell_type": "markdown",
   "metadata": {},
   "source": [
    "### 38.1 reshapeの実装"
   ]
  },
  {
   "cell_type": "code",
   "execution_count": 112,
   "metadata": {},
   "outputs": [
    {
     "name": "stdout",
     "output_type": "stream",
     "text": [
      "[1 2 3 4 5 6]\n"
     ]
    }
   ],
   "source": [
    "import numpy as np\n",
    "\n",
    "x = np.array([[1, 2, 3], [4, 5, 6]])\n",
    "y = np.reshape(x, (6,))\n",
    "print(y)"
   ]
  },
  {
   "cell_type": "code",
   "execution_count": 113,
   "metadata": {},
   "outputs": [
    {
     "name": "stdout",
     "output_type": "stream",
     "text": [
      "(2, 3)\n",
      "(6,)\n"
     ]
    }
   ],
   "source": [
    "print(x.shape)\n",
    "print(y.shape)"
   ]
  },
  {
   "cell_type": "markdown",
   "metadata": {},
   "source": [
    "NumPyは形を変えるだけだが、DeZeroでは逆伝播も考慮する必要がある"
   ]
  },
  {
   "cell_type": "markdown",
   "metadata": {},
   "source": [
    "dezero/fuctions.py"
   ]
  },
  {
   "cell_type": "markdown",
   "metadata": {},
   "source": [
    "```python\n",
    "class Reshape(Function):\n",
    "    def __init__(self, shape):\n",
    "        self.shape = shape\n",
    "    \n",
    "    def forward(self, x):\n",
    "        self.x_shape = x.shape\n",
    "        y = x.reshape(self.shape)\n",
    "        return y\n",
    "    \n",
    "    def backward(self, gy):\n",
    "        return reshape(gy, self.x_shape)\n",
    "\n",
    "def reshape(x, shape):\n",
    "    if x.shape == shape:\n",
    "        return as_variable(x)\n",
    "    return Reshape(shape)(x)"
   ]
  },
  {
   "cell_type": "code",
   "execution_count": 114,
   "metadata": {},
   "outputs": [
    {
     "name": "stdout",
     "output_type": "stream",
     "text": [
      "variable([[1 2 3]\n",
      "          [4 5 6]])\n",
      "variable([[1 1 1]\n",
      "          [1 1 1]])\n",
      "variable([1 2 3 4 5 6])\n",
      "variable([1 1 1 1 1 1])\n"
     ]
    }
   ],
   "source": [
    "import numpy as np\n",
    "from dezero import Variable\n",
    "import dezero.functions as F\n",
    "\n",
    "x = Variable(np.array([[1, 2, 3], [4, 5, 6]]))\n",
    "y = F.reshape(x, (6,))\n",
    "y.backward(retain_grad=True)\n",
    "print(x)\n",
    "print(x.grad)\n",
    "print(y)\n",
    "print(y.grad)"
   ]
  },
  {
   "cell_type": "markdown",
   "metadata": {},
   "source": [
    "### 38.2 reshapeをより使いやすく\n",
    "NumPyのreshapeでは下記のような使い方ができる"
   ]
  },
  {
   "cell_type": "code",
   "execution_count": 115,
   "metadata": {},
   "outputs": [
    {
     "name": "stdout",
     "output_type": "stream",
     "text": [
      "[[[0.13786097 0.48894349 0.48505895]\n",
      "  [0.83786424 0.44833111 0.18961326]]]\n",
      "\n",
      "[[0.13786097 0.48894349 0.48505895]\n",
      " [0.83786424 0.44833111 0.18961326]]\n",
      "\n",
      "[[0.13786097 0.48894349 0.48505895]\n",
      " [0.83786424 0.44833111 0.18961326]]\n",
      "\n",
      "[[0.13786097 0.48894349 0.48505895]\n",
      " [0.83786424 0.44833111 0.18961326]]\n"
     ]
    }
   ],
   "source": [
    "x = np.random.rand(1, 2, 3)\n",
    "print(x)\n",
    "print()\n",
    "\n",
    "y = x.reshape((2, 3)) #タプル\n",
    "print(y)\n",
    "print()\n",
    "\n",
    "y = x.reshape([2, 3]) #リスト\n",
    "print(y)\n",
    "print()\n",
    "\n",
    "y= x.reshape(2, 3) #そのまま\n",
    "print(y)"
   ]
  },
  {
   "cell_type": "markdown",
   "metadata": {},
   "source": [
    "NumPyのように柔軟な引数を設定し、さらにVariableから直接reshapeを実行できるようにする"
   ]
  },
  {
   "cell_type": "markdown",
   "metadata": {},
   "source": [
    "dezero/core.py"
   ]
  },
  {
   "cell_type": "markdown",
   "metadata": {},
   "source": [
    "```python\n",
    "class Variable:\n",
    "    ...\n",
    "\n",
    "    def reshape(self, *shape):\n",
    "        if len(shape)==1 and isinstance(shape[0], (tuple, list)):\n",
    "            shape = shape[0]\n",
    "        return dezero.fuctions.reshape(self, shape)"
   ]
  },
  {
   "cell_type": "code",
   "execution_count": 116,
   "metadata": {},
   "outputs": [
    {
     "name": "stdout",
     "output_type": "stream",
     "text": [
      "variable([[[ 1.32640131 -0.29508255  1.09494033]\n",
      "           [ 0.08091145  1.42464873  0.27643882]]])\n",
      "\n",
      "variable([[ 1.32640131 -0.29508255  1.09494033]\n",
      "          [ 0.08091145  1.42464873  0.27643882]])\n",
      "\n",
      "variable([[ 1.32640131 -0.29508255  1.09494033]\n",
      "          [ 0.08091145  1.42464873  0.27643882]])\n",
      "\n",
      "variable([[ 1.32640131 -0.29508255  1.09494033]\n",
      "          [ 0.08091145  1.42464873  0.27643882]])\n"
     ]
    }
   ],
   "source": [
    "x = Variable(np.random.randn(1, 2, 3))\n",
    "print(x)\n",
    "print()\n",
    "\n",
    "y = x.reshape((2, 3))\n",
    "print(y)\n",
    "print()\n",
    "\n",
    "y = x.reshape([2, 3])\n",
    "print(y)\n",
    "print()\n",
    "\n",
    "y = x.reshape(2, 3)\n",
    "print(y)"
   ]
  },
  {
   "cell_type": "markdown",
   "metadata": {},
   "source": [
    "### 38.3 行列の転置\n",
    "NumPyでは下記のように実装できる"
   ]
  },
  {
   "cell_type": "code",
   "execution_count": 117,
   "metadata": {},
   "outputs": [
    {
     "name": "stdout",
     "output_type": "stream",
     "text": [
      "[[1 2 3]\n",
      " [4 5 6]]\n",
      "(2, 3)\n",
      "\n",
      "[[1 4]\n",
      " [2 5]\n",
      " [3 6]]\n",
      "(3, 2)\n"
     ]
    }
   ],
   "source": [
    "x = np.array([[1, 2, 3], [4, 5, 6]])\n",
    "y = np.transpose(x)\n",
    "print(x)\n",
    "print(x.shape)\n",
    "print()\n",
    "print(y)\n",
    "print(y.shape)"
   ]
  },
  {
   "cell_type": "markdown",
   "metadata": {},
   "source": [
    "dezero/functions.py"
   ]
  },
  {
   "cell_type": "markdown",
   "metadata": {},
   "source": [
    "```python\n",
    "class Transpose(Function):\n",
    "    def forward(self, x):\n",
    "        y = np.transpose(x)\n",
    "        return y\n",
    "    \n",
    "    def backward(self, gy):\n",
    "        gx = transpose(gy)\n",
    "        return gx\n",
    "\n",
    "def transpose(x):\n",
    "    return Transpose()(x)"
   ]
  },
  {
   "cell_type": "code",
   "execution_count": 118,
   "metadata": {},
   "outputs": [
    {
     "name": "stdout",
     "output_type": "stream",
     "text": [
      "variable([[1 2 3]\n",
      "          [4 5 6]])\n",
      "variable([[1 1 1]\n",
      "          [1 1 1]])\n",
      "variable([[1 4]\n",
      "          [2 5]\n",
      "          [3 6]])\n",
      "variable([[1 1]\n",
      "          [1 1]\n",
      "          [1 1]])\n"
     ]
    }
   ],
   "source": [
    "x = Variable(np.array([[1, 2, 3], [4, 5, 6]]))\n",
    "y = F.transpose(x)\n",
    "y.backward(retain_grad=True)\n",
    "print(x)\n",
    "print(x.grad)\n",
    "print(y)\n",
    "print(y.grad)"
   ]
  },
  {
   "cell_type": "markdown",
   "metadata": {},
   "source": [
    "dezero/core.py"
   ]
  },
  {
   "cell_type": "markdown",
   "metadata": {},
   "source": [
    "```python\n",
    "class Variable:\n",
    "    ...\n",
    "\n",
    "    def transpose(self):\n",
    "        return dezero.functions.transpose(self)\n",
    "    \n",
    "    @property\n",
    "    def T(self):\n",
    "        return dezero.functions.transpose(self)"
   ]
  },
  {
   "cell_type": "code",
   "execution_count": 119,
   "metadata": {},
   "outputs": [
    {
     "name": "stdout",
     "output_type": "stream",
     "text": [
      "variable([[0.90403417 0.27543661 0.0813162 ]\n",
      "          [0.05733018 0.76421896 0.26333158]])\n",
      "\n",
      "variable([[0.90403417 0.05733018]\n",
      "          [0.27543661 0.76421896]\n",
      "          [0.0813162  0.26333158]])\n",
      "\n",
      "variable([[0.90403417 0.05733018]\n",
      "          [0.27543661 0.76421896]\n",
      "          [0.0813162  0.26333158]])\n"
     ]
    }
   ],
   "source": [
    "x = Variable(np.random.rand(2, 3))\n",
    "print(x)\n",
    "print()\n",
    "y = x.transpose()\n",
    "print(y)\n",
    "print()\n",
    "\n",
    "y = x.T\n",
    "print(y)"
   ]
  },
  {
   "cell_type": "markdown",
   "metadata": {},
   "source": [
    "### 38.4 補足\n",
    "NumPyのtransposeにはデータの順番をインデックス番号の指定でも入れ替えることができる"
   ]
  },
  {
   "cell_type": "code",
   "execution_count": 120,
   "metadata": {},
   "outputs": [],
   "source": [
    "x = np.random.rand(1, 2, 3, 4)\n",
    "y = x.transpose(1, 0, 3, 2)"
   ]
  },
  {
   "cell_type": "code",
   "execution_count": 121,
   "metadata": {},
   "outputs": [
    {
     "name": "stdout",
     "output_type": "stream",
     "text": [
      "(1, 2, 3, 4)\n",
      "[[[[0.68351663 0.99728663 0.99334428 0.34694907]\n",
      "   [0.61680196 0.42726231 0.57509879 0.34815371]\n",
      "   [0.8604593  0.37267718 0.46107891 0.70091219]]\n",
      "\n",
      "  [[0.30203624 0.62865941 0.23951689 0.02147002]\n",
      "   [0.56705124 0.24271007 0.25969397 0.73536797]\n",
      "   [0.9968003  0.6008376  0.34978126 0.79782717]]]]\n"
     ]
    }
   ],
   "source": [
    "print(x.shape)\n",
    "print(x)"
   ]
  },
  {
   "cell_type": "code",
   "execution_count": 122,
   "metadata": {},
   "outputs": [
    {
     "name": "stdout",
     "output_type": "stream",
     "text": [
      "(2, 1, 4, 3)\n",
      "[[[[0.68351663 0.61680196 0.8604593 ]\n",
      "   [0.99728663 0.42726231 0.37267718]\n",
      "   [0.99334428 0.57509879 0.46107891]\n",
      "   [0.34694907 0.34815371 0.70091219]]]\n",
      "\n",
      "\n",
      " [[[0.30203624 0.56705124 0.9968003 ]\n",
      "   [0.62865941 0.24271007 0.6008376 ]\n",
      "   [0.23951689 0.25969397 0.34978126]\n",
      "   [0.02147002 0.73536797 0.79782717]]]]\n"
     ]
    }
   ],
   "source": [
    "print(y.shape)\n",
    "print(y)"
   ]
  },
  {
   "cell_type": "markdown",
   "metadata": {},
   "source": [
    "dezero/functions.py"
   ]
  },
  {
   "cell_type": "markdown",
   "metadata": {},
   "source": [
    "```python\n",
    "class Transpose(Function):\n",
    "    def __init__(self, axes=None):\n",
    "        self.axes = axes\n",
    "\n",
    "    def forward(self, x):\n",
    "        y = x.transpose(self.axes)\n",
    "        return y\n",
    "\n",
    "    def backward(self, gy):\n",
    "        if self.axes is None:\n",
    "            return transpose(gy)\n",
    "\n",
    "        axes_len = len(self.axes)\n",
    "        inv_axes = tuple(np.argsort([ax % axes_len for ax in self.axes]))\n",
    "        return transpose(gy, inv_axes)"
   ]
  },
  {
   "cell_type": "markdown",
   "metadata": {},
   "source": [
    "$$$$"
   ]
  },
  {
   "cell_type": "markdown",
   "metadata": {},
   "source": [
    "$$$$"
   ]
  },
  {
   "cell_type": "markdown",
   "metadata": {},
   "source": [
    "$$$$"
   ]
  },
  {
   "cell_type": "markdown",
   "metadata": {},
   "source": [
    "## Step39"
   ]
  },
  {
   "cell_type": "markdown",
   "metadata": {},
   "source": [
    "Step37でちらっとでてきたsum関数を実装する"
   ]
  },
  {
   "cell_type": "markdown",
   "metadata": {},
   "source": [
    "### 39.1"
   ]
  },
  {
   "cell_type": "markdown",
   "metadata": {},
   "source": [
    "dezero/core_simple.py"
   ]
  },
  {
   "cell_type": "markdown",
   "metadata": {},
   "source": [
    "```python\n",
    "class Add(Function):\n",
    "    def forward(self, x0, x1):\n",
    "        y = x0 + x1\n",
    "        return y\n",
    "\n",
    "    def backward(self, gy):\n",
    "        return gy, gy\n",
    "\n",
    "\n",
    "def add(x0, x1):\n",
    "    x1 = as_array(x1)\n",
    "    return Add()(x0, x1)"
   ]
  },
  {
   "cell_type": "markdown",
   "metadata": {},
   "source": [
    "ベクトルの足し算でも使えるようにsum関数を実装する"
   ]
  },
  {
   "cell_type": "markdown",
   "metadata": {},
   "source": [
    "### 39.2"
   ]
  },
  {
   "cell_type": "markdown",
   "metadata": {},
   "source": [
    "指定された形状に要素をコピーするbroadcast_toをStep40から先取り"
   ]
  },
  {
   "cell_type": "markdown",
   "metadata": {},
   "source": [
    "dezero/functions.py"
   ]
  },
  {
   "cell_type": "markdown",
   "metadata": {},
   "source": [
    "```python\n",
    "class BroadcastTo(Function):\n",
    "    def __init__(self, shape):\n",
    "        self.shape = shape\n",
    "    \n",
    "    def forward(self, x):\n",
    "        self.x_shape = x.shape\n",
    "        y = np.broadcast_to(x, self.shape)\n",
    "        return y\n",
    "    \n",
    "    def backward(self, gy):\n",
    "        gx = sum_to(gy, self.x_shape)\n",
    "        return gx\n",
    "\n",
    "def broadcast_to(x, shape):\n",
    "    if x.shape == shape:\n",
    "        return as_variable(x)\n",
    "    return BroadcastTo(shape)(x)"
   ]
  },
  {
   "cell_type": "markdown",
   "metadata": {},
   "source": [
    "dezero/functions.py"
   ]
  },
  {
   "cell_type": "markdown",
   "metadata": {},
   "source": [
    "```python\n",
    "class Sum(Function):\n",
    "    def forward(self, x):\n",
    "        self.x_shape = x.shape\n",
    "        y = x.sum()\n",
    "        return y\n",
    "    \n",
    "    def backward(self, gy):\n",
    "        gx = broadcast_to(gy, self.x_shape)\n",
    "        return gx\n",
    "\n",
    "def sum(x):\n",
    "    return Sum()(x)"
   ]
  },
  {
   "cell_type": "code",
   "execution_count": 123,
   "metadata": {},
   "outputs": [
    {
     "name": "stdout",
     "output_type": "stream",
     "text": [
      "variable([1 2 3 4 5 6])\n",
      "variable([1 1 1 1 1 1])\n",
      "\n",
      "variable(21)\n",
      "variable(1)\n"
     ]
    }
   ],
   "source": [
    "import numpy as np\n",
    "from dezero import Variable\n",
    "import dezero.functions as F\n",
    "\n",
    "# 入力が1次元の場合\n",
    "x = Variable(np.array([1, 2, 3, 4, 5, 6]))\n",
    "y = F.sum(x)\n",
    "y.backward(retain_grad=True)\n",
    "print(x)\n",
    "print(x.grad)\n",
    "print()\n",
    "print(y)\n",
    "print(y.grad)"
   ]
  },
  {
   "cell_type": "code",
   "execution_count": 124,
   "metadata": {},
   "outputs": [
    {
     "name": "stdout",
     "output_type": "stream",
     "text": [
      "variable([[1 2 3]\n",
      "          [4 5 6]])\n",
      "variable([[1 1 1]\n",
      "          [1 1 1]])\n",
      "\n",
      "variable(21)\n",
      "variable(1)\n"
     ]
    }
   ],
   "source": [
    "# 入力が2次元の場合\n",
    "x = Variable(np.array([[1, 2, 3], [4, 5, 6]]))\n",
    "y = F.sum(x)\n",
    "y.backward(retain_grad=True)\n",
    "print(x)\n",
    "print(x.grad)\n",
    "print()\n",
    "print(y)\n",
    "print(y.grad)"
   ]
  },
  {
   "cell_type": "markdown",
   "metadata": {},
   "source": [
    "### 39.3 さらに機能を拡張"
   ]
  },
  {
   "cell_type": "markdown",
   "metadata": {},
   "source": [
    "NumPyのsum機能は和を求める際に軸を指定できるなど、高機能である"
   ]
  },
  {
   "cell_type": "markdown",
   "metadata": {},
   "source": [
    "#### axis\n",
    "足し算の軸の方向を指定"
   ]
  },
  {
   "cell_type": "code",
   "execution_count": 125,
   "metadata": {},
   "outputs": [
    {
     "name": "stdout",
     "output_type": "stream",
     "text": [
      "[5 7 9]\n",
      "(2, 3)  ->  (3,)\n"
     ]
    }
   ],
   "source": [
    "import numpy as np\n",
    "\n",
    "# 行方向の足し算\n",
    "x = np.array([[1, 2, 3], [4, 5, 6]])\n",
    "y = np.sum(x, axis=0) #デフォルトはNone\n",
    "print(y)\n",
    "print(x.shape, ' -> ', y.shape)"
   ]
  },
  {
   "cell_type": "code",
   "execution_count": 126,
   "metadata": {},
   "outputs": [
    {
     "name": "stdout",
     "output_type": "stream",
     "text": [
      "[ 6 15]\n",
      "(2, 3)  ->  (2,)\n"
     ]
    }
   ],
   "source": [
    "# 列方向の足し算\n",
    "x = np.array([[1, 2, 3], [4, 5, 6]])\n",
    "y = np.sum(x, axis=1)\n",
    "print(y)\n",
    "print(x.shape, ' -> ', y.shape)"
   ]
  },
  {
   "cell_type": "markdown",
   "metadata": {},
   "source": [
    "#### keepdims\n",
    "入力と出力を同じ次元に保つかどうか"
   ]
  },
  {
   "cell_type": "code",
   "execution_count": 127,
   "metadata": {},
   "outputs": [
    {
     "name": "stdout",
     "output_type": "stream",
     "text": [
      "[[21]]\n",
      "(1, 1)\n"
     ]
    }
   ],
   "source": [
    "import numpy as np\n",
    "x = np.array([[1, 2, 3], [4, 5, 6]])\n",
    "y = np.sum(x, keepdims=True)\n",
    "print(y)\n",
    "print(y.shape)"
   ]
  },
  {
   "cell_type": "code",
   "execution_count": 128,
   "metadata": {},
   "outputs": [
    {
     "name": "stdout",
     "output_type": "stream",
     "text": [
      "21\n",
      "()\n"
     ]
    }
   ],
   "source": [
    "x = np.array([[1, 2, 3], [4, 5, 6]])\n",
    "y = np.sum(x, keepdims=False)\n",
    "print(y)\n",
    "print(y.shape)"
   ]
  },
  {
   "cell_type": "markdown",
   "metadata": {},
   "source": [
    "dezero/functions.py"
   ]
  },
  {
   "cell_type": "markdown",
   "metadata": {},
   "source": [
    "```python\n",
    "class Sum(Function):\n",
    "    def __init__(self, axis, keepdims):\n",
    "        self.axis = axis\n",
    "        self.keepdims = keepdims\n",
    "    \n",
    "    def forward(self, x):\n",
    "        self.x_shape = x.shape\n",
    "        y = x.sum(axis=self.axis, keepdims=self.keepdims)\n",
    "        return y\n",
    "    \n",
    "    def backward(self, gy):\n",
    "        gy = utils.reshape_sum_backward(gy, self.x_shape, self.axis, self.keepdims)\n",
    "        gx = broadcast_to(gy, self.x_shape)\n",
    "        return gx\n",
    "\n",
    "def sum(x, axis=None, keepdims=False):\n",
    "    return Sum(axis, keepdims)(x)"
   ]
  },
  {
   "cell_type": "markdown",
   "metadata": {},
   "source": [
    "broadcast_toについてはStep40で実装予定\\\n",
    "utils.reshape_sum_backwardについてはサソリマークで注意書きされているがNumPy関連の問題への対応なので説明は省略"
   ]
  },
  {
   "cell_type": "markdown",
   "metadata": {},
   "source": [
    "Variableのメソッドとして使用できるようにcore.pyにも追記"
   ]
  },
  {
   "cell_type": "markdown",
   "metadata": {},
   "source": [
    "dezero/core.py"
   ]
  },
  {
   "cell_type": "markdown",
   "metadata": {},
   "source": [
    "```python\n",
    "class Variable:\n",
    "    ...\n",
    "    def sum(self, axis=None, keepdims=False):\n",
    "        return dezero.functions.sum(self, axis, keepdims)"
   ]
  },
  {
   "cell_type": "code",
   "execution_count": 129,
   "metadata": {},
   "outputs": [
    {
     "name": "stdout",
     "output_type": "stream",
     "text": [
      "variable([5 7 9])\n",
      "variable([1 1 1])\n",
      "\n",
      "variable([[1 2 3]\n",
      "          [4 5 6]])\n",
      "variable([[1 1 1]\n",
      "          [1 1 1]])\n"
     ]
    }
   ],
   "source": [
    "x = Variable(np.array([[1, 2, 3], [4, 5, 6]]))\n",
    "y = F.sum(x, axis=0)\n",
    "y.backward(retain_grad=True)\n",
    "print(y)\n",
    "print(y.grad)\n",
    "print()\n",
    "print(x)\n",
    "print(x.grad)"
   ]
  },
  {
   "cell_type": "code",
   "execution_count": 130,
   "metadata": {},
   "outputs": [
    {
     "name": "stdout",
     "output_type": "stream",
     "text": [
      "variable([[[[ 2.83872847e-01  1.14374700e+00 -6.98194110e-01  2.54586628e-01\n",
      "             -2.46439872e-01]\n",
      "            [-7.34161161e-01 -9.21126990e-01 -1.22118448e+00  3.74027512e-01\n",
      "             -5.75123476e-01]\n",
      "            [ 7.20868891e-02  1.91964095e-01  1.27598162e+00 -6.17067937e-02\n",
      "             -6.85872141e-01]\n",
      "            [-3.46311885e-01 -1.81035918e+00  6.55874815e-02 -1.43031028e+00\n",
      "             -9.17710277e-01]]\n",
      "         \n",
      "           [[ 6.73235967e-01  4.32489765e-01  3.55907399e-02 -9.47901839e-01\n",
      "              8.11712306e-01]\n",
      "            [-1.61597382e+00  2.06240647e+00  2.55862344e+00  1.71651357e+00\n",
      "             -2.01825926e-01]\n",
      "            [-1.97834353e+00 -8.82116269e-01  8.56137493e-02  1.07260402e+00\n",
      "              4.96702305e-01]\n",
      "            [ 6.07711948e-01 -9.20848480e-01  4.47766403e-01  2.19526914e-01\n",
      "             -5.44340288e-01]]\n",
      "         \n",
      "           [[ 1.34895361e+00 -1.18377267e+00 -9.07738645e-01  7.00663318e-01\n",
      "             -4.49025052e-01]\n",
      "            [ 1.47534683e-01 -3.03030751e-01  5.70607281e-01 -2.82936362e-03\n",
      "              1.71805292e+00]\n",
      "            [ 1.64959189e+00 -9.99656555e-01 -4.20080314e-01  8.18038777e-01\n",
      "              6.97705611e-01]\n",
      "            [-7.26039462e-01  5.35171370e-01  6.01989568e-03  4.04361335e-02\n",
      "             -5.49086880e-01]]]\n",
      "         \n",
      "         \n",
      "          [[[-8.47194620e-01  9.03924169e-01  3.03682470e-01 -6.46760987e-01\n",
      "              1.41419678e+00]\n",
      "            [-4.41110379e-01  1.41772670e-01 -5.29209181e-01  5.47668108e-01\n",
      "             -4.75072852e-01]\n",
      "            [ 5.55632537e-01 -2.69808162e-01  9.59577156e-01  6.45712705e-01\n",
      "              1.08798193e-01]\n",
      "            [ 1.09429514e+00 -4.88891047e-01 -1.93767830e-01  1.81730043e-01\n",
      "              1.01263603e-02]]\n",
      "         \n",
      "           [[ 1.32985273e+00  4.00944116e-01 -1.01869865e+00 -9.33710096e-01\n",
      "             -4.18099805e-01]\n",
      "            [-1.35081276e-01  6.48972112e-02 -1.46897176e+00 -1.41398721e+00\n",
      "              3.43895982e-01]\n",
      "            [ 8.33167364e-01  3.48841217e-01 -6.08583220e-01  8.48163827e-01\n",
      "              1.61797425e+00]\n",
      "            [-4.18430523e-01 -1.62840214e+00  1.50866552e+00  1.61490342e+00\n",
      "              3.20759224e+00]]\n",
      "         \n",
      "           [[ 1.85522120e-01 -1.10818169e+00  9.68070599e-01  1.26021923e-01\n",
      "              1.28996547e+00]\n",
      "            [-5.24732522e-01  1.71576695e-01 -1.30403401e-02 -9.98685308e-01\n",
      "              1.28099596e+00]\n",
      "            [-1.04535925e+00 -1.81859498e+00  8.33817230e-01 -1.00570052e-01\n",
      "              3.01477797e-01]\n",
      "            [ 5.47214935e-01  3.09976945e-01 -6.02110936e-01 -1.09127948e+00\n",
      "              5.31248457e-01]]]])\n",
      "\n",
      "variable([[[[7.12758474]]]])\n",
      "(1, 1, 1, 1)\n"
     ]
    }
   ],
   "source": [
    "x = Variable(np.random.randn(2, 3, 4, 5))\n",
    "y = x.sum(keepdims=True)\n",
    "print(x)\n",
    "print()\n",
    "print(y)\n",
    "print(y.shape)"
   ]
  }
 ],
 "metadata": {
  "kernelspec": {
   "display_name": "Python 3.9.7 ('.kaggle_')",
   "language": "python",
   "name": "python3"
  },
  "language_info": {
   "codemirror_mode": {
    "name": "ipython",
    "version": 3
   },
   "file_extension": ".py",
   "mimetype": "text/x-python",
   "name": "python",
   "nbconvert_exporter": "python",
   "pygments_lexer": "ipython3",
   "version": "3.9.7"
  },
  "orig_nbformat": 4,
  "vscode": {
   "interpreter": {
    "hash": "2267c7f86544334f90fd828bd0d523f9563b963bbe28c7d2d8efd515b9a10ad6"
   }
  }
 },
 "nbformat": 4,
 "nbformat_minor": 2
}
