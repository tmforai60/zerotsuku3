{
 "cells": [
  {
   "cell_type": "markdown",
   "metadata": {},
   "source": [
    "# STEP23 パッケージとしてまとめる"
   ]
  },
  {
   "cell_type": "markdown",
   "metadata": {},
   "source": [
    "ファイル構成の説明\\\n",
    "https://github.com/oreilly-japan/deep-learning-from-scratch-3"
   ]
  },
  {
   "cell_type": "markdown",
   "metadata": {},
   "source": [
    "## 23.5"
   ]
  },
  {
   "cell_type": "code",
   "execution_count": 21,
   "metadata": {},
   "outputs": [],
   "source": [
    "import numpy as np\n",
    "from dezero import Variable\n",
    "# import dezero.Variable\n",
    "\n",
    "\n",
    "from matplotlib import pyplot as plt\n",
    "import matplotlib.pyplot as plt"
   ]
  },
  {
   "cell_type": "code",
   "execution_count": 22,
   "metadata": {},
   "outputs": [
    {
     "name": "stdout",
     "output_type": "stream",
     "text": [
      "variable(16.0)\n",
      "8.0\n"
     ]
    }
   ],
   "source": [
    "x = Variable(np.array(1.0))\n",
    "y = (x + 3) ** 2\n",
    "y.backward()\n",
    "\n",
    "print(y)\n",
    "print(x.grad)"
   ]
  },
  {
   "cell_type": "markdown",
   "metadata": {},
   "source": [
    "# STEP24 複雑な関数の微分"
   ]
  },
  {
   "cell_type": "markdown",
   "metadata": {},
   "source": [
    "さまざまな最適化手法の良さを評価するテスト関数というものを微分していきましょう"
   ]
  },
  {
   "cell_type": "code",
   "execution_count": 23,
   "metadata": {},
   "outputs": [
    {
     "name": "stdout",
     "output_type": "stream",
     "text": [
      "variable(2.0)\n",
      "2.0 2.0\n"
     ]
    }
   ],
   "source": [
    "# sphere\n",
    "import numpy as np\n",
    "from dezero import Variable\n",
    "\n",
    "def sphere(x, y):\n",
    "    z = x**2 + y**2\n",
    "    return z\n",
    "\n",
    "x = Variable(np.array(1.0))\n",
    "y = Variable(np.array(1.0))\n",
    "z = sphere(x, y)\n",
    "print(z)\n",
    "z.backward()\n",
    "print(x.grad, y.grad)"
   ]
  },
  {
   "cell_type": "code",
   "execution_count": 24,
   "metadata": {},
   "outputs": [
    {
     "name": "stdout",
     "output_type": "stream",
     "text": [
      "x0:variable(2.0)\n",
      "x1:0.26\n",
      "x0:variable(1.0)\n",
      "x1:0.48\n",
      "x0:variable(0.48)\n",
      "x1:variable(1.0)\n",
      "_-_-_-_-_-_-_-_-_-_-_-_-_-_-_-_-_-_-_-_-\n",
      "variable(0.040000000000000036)\n",
      "0.040000000000000036 0.040000000000000036\n"
     ]
    }
   ],
   "source": [
    "# matyas\n",
    "def matyas(x, y):\n",
    "    z = 0.26*(x**2 + y**2) - 0.48*x*y\n",
    "    return z\n",
    "\n",
    "x = Variable(np.array(1.0))\n",
    "y = Variable(np.array(1.0))\n",
    "z = matyas(x, y)\n",
    "print('_-_-_-_-_-_-_-_-_-_-_-_-_-_-_-_-_-_-_-_-')\n",
    "print(z)\n",
    "z.backward()\n",
    "print(x.grad, y.grad)"
   ]
  },
  {
   "cell_type": "code",
   "execution_count": 25,
   "metadata": {},
   "outputs": [
    {
     "name": "stdout",
     "output_type": "stream",
     "text": [
      "x0:variable(1.0)\n",
      "x1:14\n",
      "x0:variable(1.0)\n",
      "x1:3\n",
      "x0:variable(1.0)\n",
      "x1:14\n",
      "x0:variable(1.0)\n",
      "x1:6\n",
      "x0:variable(6.0)\n",
      "x1:variable(1.0)\n",
      "x0:variable(1.0)\n",
      "x1:3\n",
      "x0:variable(9.0)\n",
      "x1:variable(3.0)\n",
      "x0:variable(1.0)\n",
      "x1:2\n",
      "x0:variable(1.0)\n",
      "x1:3\n",
      "x0:variable(1.0)\n",
      "x1:32\n",
      "x0:variable(1.0)\n",
      "x1:12\n",
      "x0:variable(1.0)\n",
      "x1:48\n",
      "x0:variable(1.0)\n",
      "x1:36\n",
      "x0:variable(36.0)\n",
      "x1:variable(1.0)\n",
      "x0:variable(1.0)\n",
      "x1:27\n",
      "x0:variable(1.0)\n",
      "x1:variable(37.0)\n",
      "x0:variable(28.0)\n",
      "x1:variable(67.0)\n",
      "_-_-_-_-_-_-_-_-_-_-_-_-_-_-_-_-_-_-_-_-\n",
      "variable(1876.0)\n",
      "-5376.0 8064.0\n"
     ]
    }
   ],
   "source": [
    "def goldstein(x, y):\n",
    "    z = (1 + (x + y + 1)**2 * (19 - 14*x + 3*x**2 - 14*y + 6*x*y + 3*y**2)) * (30 + (2*x - 3*y)**2 * (18 - 32*x + 12*x**2 + 48*y - 36*x*y + 27*y**2))\n",
    "    return z\n",
    "\n",
    "x = Variable(np.array(1.0))\n",
    "y = Variable(np.array(1.0))\n",
    "z = goldstein(x, y)\n",
    "print('_-_-_-_-_-_-_-_-_-_-_-_-_-_-_-_-_-_-_-_-')\n",
    "print(z)\n",
    "z.backward()\n",
    "print(x.grad, y.grad)"
   ]
  },
  {
   "cell_type": "code",
   "execution_count": null,
   "metadata": {},
   "outputs": [],
   "source": []
  }
 ],
 "metadata": {
  "kernelspec": {
   "display_name": "Python 3.9.7 ('.kaggle_')",
   "language": "python",
   "name": "python3"
  },
  "language_info": {
   "codemirror_mode": {
    "name": "ipython",
    "version": 3
   },
   "file_extension": ".py",
   "mimetype": "text/x-python",
   "name": "python",
   "nbconvert_exporter": "python",
   "pygments_lexer": "ipython3",
   "version": "3.9.7"
  },
  "orig_nbformat": 4,
  "vscode": {
   "interpreter": {
    "hash": "2267c7f86544334f90fd828bd0d523f9563b963bbe28c7d2d8efd515b9a10ad6"
   }
  }
 },
 "nbformat": 4,
 "nbformat_minor": 2
}
