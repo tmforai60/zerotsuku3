{
 "cells": [
  {
   "cell_type": "markdown",
   "id": "4362ec90-7271-4766-82a4-53ae94ce4eaa",
   "metadata": {},
   "source": [
    "# STEP18 メモリ使用量をへらすモード\n",
    "\n",
    "- STEP1:これまでDeZeroの変数と関数を作った\n",
    "- STEP2:関数としてSquareを作った\n",
    "- STEP3:別の新しい関数を実装し複数の関数を組み合わせて計算を行う\n",
    "- STEP4:数値微分でいったん微分を計算してみる\n",
    "- STEP5:バックプロパゲーションの仕組み\n",
    "- STEP6:VariableとFunctionクラスを拡張して、バックプロパゲーションを用いて微分を求められるように実装\n",
    "- STEP7:順伝搬がどのような計算であっても自動的に逆伝搬を計算できるようにする, 具体的にはVariableクラスを拡張し使用した関数情報を保持できるようにする\n",
    "- STEP8:処理効率の改善するために、backwardメソッドをwhileループに置き換える。Variable関数のみの書き換えでOK\n",
    "- STEP9:pythonの関数として使えるようにする, y.grad=np.array(1.0)を省略する, ndarrayだけ扱う\n",
    "- STEP10:DeepLearningのフレームワークのテスト方法について説明\n",
    "- STEP11:関数に対して可変長入出力に対応する\n",
    "- STEP12:11の拡張\n",
    "- STEP13:逆伝搬に関しても関数に対して可変長入出力に対応する\n",
    "- STEP14:同じ変数を繰り返し使うと発生する問題に対応する y = add(x, x)\n",
    "- STEP15:さまざまなトポロジーの計算グラフに対応すること\n",
    "- STEP16:さまざまなトポロジーの計算グラフに対応すること\n",
    "- STEP17:パフォーマンス改善テクニック: pythonのメモリ管理について学ぶ\n",
    "- STEP18:メモリ削減テクニックとして不要な微分値は保持しない方法の導入, 逆伝搬の必要がないモードを準備"
   ]
  },
  {
   "cell_type": "code",
   "execution_count": 1,
   "id": "291490fc-6048-4860-b8d4-3a926c1db0e1",
   "metadata": {},
   "outputs": [],
   "source": [
    "#DIR = \"deep-learning-from-scratch-3/steps/\"\n",
    "#! diff $DIR/step17.py $DIR/step18.py -y"
   ]
  },
  {
   "cell_type": "markdown",
   "id": "434d7a07-dcf3-48fe-b4d6-cd99317938eb",
   "metadata": {},
   "source": [
    "## 各種コンポーネント"
   ]
  },
  {
   "cell_type": "code",
   "execution_count": 2,
   "id": "3e7a8e23-edca-4cf5-9625-625b3dd158ee",
   "metadata": {},
   "outputs": [],
   "source": [
    "import weakref\n",
    "import numpy as np\n",
    "import contextlib\n",
    "\n",
    "\n",
    "class Config:\n",
    "    enable_backprop = True\n",
    "\n",
    "\n",
    "@contextlib.contextmanager\n",
    "def using_config(name, value):\n",
    "    old_value = getattr(Config, name)\n",
    "    setattr(Config, name, value)\n",
    "    try:\n",
    "        yield\n",
    "    finally:\n",
    "        setattr(Config, name, old_value)\n",
    "\n",
    "\n",
    "def no_grad():\n",
    "    return using_config('enable_backprop', False)\n",
    "\n",
    "\n",
    "class Variable:\n",
    "    def __init__(self, data):\n",
    "        if data is not None:\n",
    "            if not isinstance(data, np.ndarray):\n",
    "                raise TypeError('{} is not supported'.format(type(data)))\n",
    "\n",
    "        self.data = data\n",
    "        self.grad = None\n",
    "        self.creator = None\n",
    "        self.generation = 0\n",
    "\n",
    "    def set_creator(self, func):\n",
    "        self.creator = func\n",
    "        self.generation = func.generation + 1\n",
    "\n",
    "    def cleargrad(self):\n",
    "        self.grad = None\n",
    "\n",
    "    def backward(self, retain_grad=False):\n",
    "        if self.grad is None:\n",
    "            self.grad = np.ones_like(self.data)\n",
    "\n",
    "        funcs = []\n",
    "        seen_set = set()\n",
    "\n",
    "        def add_func(f):\n",
    "            if f not in seen_set:\n",
    "                funcs.append(f)\n",
    "                seen_set.add(f)\n",
    "                funcs.sort(key=lambda x: x.generation)\n",
    "\n",
    "        add_func(self.creator)\n",
    "\n",
    "        while funcs:\n",
    "            f = funcs.pop()\n",
    "            gys = [output().grad for output in f.outputs]  # output is weakref\n",
    "            gxs = f.backward(*gys)\n",
    "            if not isinstance(gxs, tuple):\n",
    "                gxs = (gxs,)\n",
    "\n",
    "            for x, gx in zip(f.inputs, gxs):\n",
    "                if x.grad is None:\n",
    "                    x.grad = gx\n",
    "                else:\n",
    "                    x.grad = x.grad + gx\n",
    "\n",
    "                if x.creator is not None:\n",
    "                    add_func(x.creator)\n",
    "\n",
    "            if not retain_grad:\n",
    "                for y in f.outputs:\n",
    "                    y().grad = None  # y is weakref\n",
    "\n",
    "\n",
    "def as_array(x):\n",
    "    if np.isscalar(x):\n",
    "        return np.array(x)\n",
    "    return x\n",
    "\n",
    "\n",
    "class Function:\n",
    "    def __call__(self, *inputs):\n",
    "        xs = [x.data for x in inputs]\n",
    "        ys = self.forward(*xs)\n",
    "        if not isinstance(ys, tuple):\n",
    "            ys = (ys,)\n",
    "        outputs = [Variable(as_array(y)) for y in ys]\n",
    "\n",
    "        if Config.enable_backprop:\n",
    "            self.generation = max([x.generation for x in inputs])\n",
    "            for output in outputs:\n",
    "                output.set_creator(self)\n",
    "            self.inputs = inputs\n",
    "            self.outputs = [weakref.ref(output) for output in outputs]\n",
    "\n",
    "        return outputs if len(outputs) > 1 else outputs[0]\n",
    "\n",
    "    def forward(self, xs):\n",
    "        raise NotImplementedError()\n",
    "\n",
    "    def backward(self, gys):\n",
    "        raise NotImplementedError()\n",
    "\n",
    "\n",
    "class Square(Function):\n",
    "    def forward(self, x):\n",
    "        y = x ** 2\n",
    "        return y\n",
    "\n",
    "    def backward(self, gy):\n",
    "        x = self.inputs[0].data\n",
    "        gx = 2 * x * gy\n",
    "        return gx\n",
    "\n",
    "\n",
    "def square(x):\n",
    "    return Square()(x)\n",
    "\n",
    "\n",
    "class Add(Function):\n",
    "    def forward(self, x0, x1):\n",
    "        y = x0 + x1\n",
    "        return y\n",
    "\n",
    "    def backward(self, gy):\n",
    "        return gy, gy\n",
    "\n",
    "\n",
    "def add(x0, x1):\n",
    "    return Add()(x0, x1)"
   ]
  },
  {
   "cell_type": "markdown",
   "id": "a1c2ef17-8365-4b97-a08d-2e5073cdac98",
   "metadata": {},
   "source": [
    "## Test: 不要な微分は保持しない"
   ]
  },
  {
   "cell_type": "markdown",
   "id": "d46f80c0-2db7-432d-9619-dfd266bdd42c",
   "metadata": {},
   "source": [
    "入力層以外の微分値は値を保持していないことを確認する"
   ]
  },
  {
   "cell_type": "markdown",
   "id": "1f43e8fc-586f-4da9-9216-9003d69343ec",
   "metadata": {},
   "source": [
    "![](https://docs.google.com/drawings/d/e/2PACX-1vSmNihw0cI_PwaKQpXYzcqBnMYtY5huSQkua6_Q3-vkHQDHCuf8Vr6kb0WD3dgw7crH9_5Q20IcRzer/pub?w=934&h=428)"
   ]
  },
  {
   "cell_type": "code",
   "execution_count": 3,
   "id": "c2c23bfd-243a-4b5e-b8cf-4ebd4d5c1cc4",
   "metadata": {},
   "outputs": [],
   "source": [
    "x0 = Variable(np.array(1.0))\n",
    "x1 = Variable(np.array(1.0))\n",
    "t = add(x0, x1)\n",
    "y = add(x0, t)\n",
    "y.backward()"
   ]
  },
  {
   "cell_type": "code",
   "execution_count": 4,
   "id": "90b78404-671b-4a31-83ab-10b8c6d9bb3c",
   "metadata": {},
   "outputs": [
    {
     "name": "stdout",
     "output_type": "stream",
     "text": [
      "None None\n",
      "2.0 1.0\n"
     ]
    }
   ],
   "source": [
    "# 途中の層\n",
    "print(y.grad, t.grad)    # None None\n",
    "# 入力層\n",
    "print(x0.grad, x1.grad)  # 2.0 1.0"
   ]
  },
  {
   "cell_type": "markdown",
   "id": "3d5ffc13-22f8-4356-a27a-a95d48b149ed",
   "metadata": {},
   "source": [
    "## Test: with 文により逆伝搬なしモードに切り替える\n",
    "\n",
    "バックプロパゲーションが不要なとき、メモリを節約する"
   ]
  },
  {
   "cell_type": "markdown",
   "id": "8dfc01b5-4639-4659-a3ac-6dd0b5004854",
   "metadata": {},
   "source": [
    "追加したコードを再掲\n",
    "\n",
    "```python\n",
    "class Config:\n",
    "    enable_backprop = True\n",
    "\n",
    "@contextlib.contextmanager\n",
    "def using_config(name, value):\n",
    "    old_value = getattr(Config, name)\n",
    "    setattr(Config, name, value)\n",
    "    try:\n",
    "        yield\n",
    "    finally:\n",
    "        setattr(Config, name, old_value)\n",
    "\n",
    "def no_grad():\n",
    "    return using_config('enable_backprop', False)\n",
    "```"
   ]
  },
  {
   "cell_type": "code",
   "execution_count": 5,
   "id": "789d9060-f25e-4107-a6db-7ec0a6ae7aa5",
   "metadata": {},
   "outputs": [],
   "source": [
    "with using_config('enable_backprop', False):\n",
    "    x = Variable(np.array(2.0))\n",
    "    y = square(x)"
   ]
  },
  {
   "cell_type": "code",
   "execution_count": 6,
   "id": "825e668c-343c-417f-a418-557ce3e9ebd8",
   "metadata": {},
   "outputs": [
    {
     "name": "stdout",
     "output_type": "stream",
     "text": [
      "0\n"
     ]
    }
   ],
   "source": [
    "#y.backward()\n",
    "print(y.generation)"
   ]
  },
  {
   "cell_type": "markdown",
   "id": "716cfab6-02ba-4854-accd-8bf929dad750",
   "metadata": {},
   "source": [
    "上記のように記述するのが面倒なときは下記でもよい。同じ意味"
   ]
  },
  {
   "cell_type": "code",
   "execution_count": 7,
   "id": "62829ca0-5271-4eee-9d85-0c1476480875",
   "metadata": {},
   "outputs": [],
   "source": [
    "with no_grad():\n",
    "    x = Variable(np.array(2.0))\n",
    "    y = square(x)"
   ]
  },
  {
   "cell_type": "markdown",
   "id": "35e5f912-07e1-4231-acd3-0b1206c42c18",
   "metadata": {},
   "source": [
    "# 付録1"
   ]
  },
  {
   "cell_type": "markdown",
   "id": "d924223e-79a4-4706-9bf1-829b78bd706d",
   "metadata": {},
   "source": [
    "## [DeZero] with文による切り替え"
   ]
  },
  {
   "cell_type": "markdown",
   "id": "cdcb0361-dd63-4037-8c34-2a00568740ab",
   "metadata": {},
   "source": [
    "自分で `f.close` をちゃんと書く必要あり。めんどくさい"
   ]
  },
  {
   "cell_type": "code",
   "execution_count": 8,
   "id": "186b8d46-388b-4657-9328-82396d42168e",
   "metadata": {},
   "outputs": [
    {
     "data": {
      "text/plain": [
       "<function TextIOWrapper.close()>"
      ]
     },
     "execution_count": 8,
     "metadata": {},
     "output_type": "execute_result"
    }
   ],
   "source": [
    "f = open('sample.txt', 'w')\n",
    "f.write('hello world')\n",
    "f.close"
   ]
  },
  {
   "cell_type": "markdown",
   "id": "ddc63242-c32f-4005-bc00-0a06f8be8fba",
   "metadata": {},
   "source": [
    "`with` 文を使うとこの手間を省ける"
   ]
  },
  {
   "cell_type": "code",
   "execution_count": 9,
   "id": "6dd57c94-d6e4-4bda-9bda-a86734375de2",
   "metadata": {},
   "outputs": [],
   "source": [
    "with open('sample.txt', 'w') as f:\n",
    "    f.write('hello world')"
   ]
  },
  {
   "cell_type": "markdown",
   "id": "2f80966d-e650-421f-9f9f-e3b152126c73",
   "metadata": {},
   "source": [
    "この`with` 文の仕組みを使って「逆伝搬無効モード」へと切り替えることを考える"
   ]
  },
  {
   "cell_type": "markdown",
   "id": "69054059-59d9-4b52-b6f6-4415d5e927db",
   "metadata": {},
   "source": [
    "## [DeZero] withを使ったモード切り替えのサンプル, やりたいことは with+openのような前処理/後処理が可能なwith+<自作関数>"
   ]
  },
  {
   "cell_type": "markdown",
   "id": "d1795fdf-5b97-4d24-8c5b-73c1e33441f4",
   "metadata": {},
   "source": [
    "参考: https://qiita.com/QUANON/items/c5868b6c65f8062f5876\n",
    "\n",
    "通常, try, exept等を使って例外処理を行うが、ここでは、withを使ったモード切り替えに応用する\n",
    "\n",
    "- 例外処理の基本: try, except(今回は使わない)\n",
    "- 終了時に常に行う処理: finally\n"
   ]
  },
  {
   "cell_type": "code",
   "execution_count": 10,
   "id": "61049a19-1796-4188-a033-34e163010b94",
   "metadata": {},
   "outputs": [
    {
     "name": "stdout",
     "output_type": "stream",
     "text": [
      "start\n",
      "process...\n",
      "done\n"
     ]
    }
   ],
   "source": [
    "import contextlib\n",
    "@contextlib.contextmanager\n",
    "def config_test():\n",
    "    print('start')    # 前処理\n",
    "    try:\n",
    "        yield\n",
    "    finally:\n",
    "        print('done') # 後処理\n",
    "\n",
    "with config_test():\n",
    "    print('process...')"
   ]
  },
  {
   "cell_type": "markdown",
   "id": "b5577697-2085-4be4-822a-ede4dedb0ac2",
   "metadata": {},
   "source": [
    "ちなみに、以下のようにも書ける"
   ]
  },
  {
   "cell_type": "code",
   "execution_count": 35,
   "id": "7a68bebc-80df-49cf-a5b6-381de67688ec",
   "metadata": {},
   "outputs": [
    {
     "name": "stdout",
     "output_type": "stream",
     "text": [
      "start\n",
      "process...\n",
      "done\n"
     ]
    }
   ],
   "source": [
    "class config_test():\n",
    "\n",
    "    def __enter__(self):\n",
    "        print('start')    # 前処理\n",
    "\n",
    "    def __exit__(self, type, value, traceback):\n",
    "        print('done') # 後処理\n",
    "\n",
    "with config_test():\n",
    "    print('process...')"
   ]
  },
  {
   "cell_type": "markdown",
   "id": "9f7c2e22-8593-4ea0-b42e-9f84bda0a05b",
   "metadata": {},
   "source": [
    "# 付録2 Pythonプログラミングの補足"
   ]
  },
  {
   "cell_type": "markdown",
   "id": "78929162-b661-46f5-ae3b-4cf0385d48de",
   "metadata": {},
   "source": [
    "## with 文と @contextlib.contextmanager が便利\n",
    "\n",
    "https://qiita.com/QUANON/items/c5868b6c65f8062f5876"
   ]
  },
  {
   "cell_type": "markdown",
   "id": "78280c79-d4b4-4b65-80b7-15cd4b6fd438",
   "metadata": {},
   "source": [
    "### `try/finally` を使って必ず、ファイルがcloseされることを保証するコード"
   ]
  },
  {
   "cell_type": "markdown",
   "id": "b9a20e55-38b0-4baa-af56-079962701ad6",
   "metadata": {},
   "source": [
    "0割でわざとエラーを出しているが、必ずfinallyを通ってファイルがcloseされる"
   ]
  },
  {
   "cell_type": "code",
   "execution_count": 12,
   "id": "f8c6fbd2-b979-49be-a41e-2a3e541d9029",
   "metadata": {},
   "outputs": [
    {
     "ename": "ZeroDivisionError",
     "evalue": "division by zero",
     "output_type": "error",
     "traceback": [
      "\u001b[0;31m---------------------------------------------------------------------------\u001b[0m",
      "\u001b[0;31mZeroDivisionError\u001b[0m                         Traceback (most recent call last)",
      "\u001b[0;32m/var/folders/4g/ntwrfp2d5f5584q4p_h__2xh0000gn/T/ipykernel_58978/624134406.py\u001b[0m in \u001b[0;36m<module>\u001b[0;34m\u001b[0m\n\u001b[1;32m      5\u001b[0m \u001b[0;32mtry\u001b[0m\u001b[0;34m:\u001b[0m\u001b[0;34m\u001b[0m\u001b[0;34m\u001b[0m\u001b[0m\n\u001b[1;32m      6\u001b[0m     \u001b[0mf\u001b[0m \u001b[0;34m=\u001b[0m \u001b[0mopen\u001b[0m\u001b[0;34m(\u001b[0m\u001b[0;34m'sample.txt'\u001b[0m\u001b[0;34m,\u001b[0m \u001b[0;34m'r'\u001b[0m\u001b[0;34m)\u001b[0m\u001b[0;34m\u001b[0m\u001b[0;34m\u001b[0m\u001b[0m\n\u001b[0;32m----> 7\u001b[0;31m     \u001b[0mdivide_by_zero\u001b[0m\u001b[0;34m(\u001b[0m\u001b[0mlen\u001b[0m\u001b[0;34m(\u001b[0m\u001b[0mf\u001b[0m\u001b[0;34m.\u001b[0m\u001b[0mread\u001b[0m\u001b[0;34m(\u001b[0m\u001b[0;34m)\u001b[0m\u001b[0;34m)\u001b[0m\u001b[0;34m)\u001b[0m\u001b[0;34m\u001b[0m\u001b[0;34m\u001b[0m\u001b[0m\n\u001b[0m\u001b[1;32m      8\u001b[0m \u001b[0;32mfinally\u001b[0m\u001b[0;34m:\u001b[0m\u001b[0;34m\u001b[0m\u001b[0;34m\u001b[0m\u001b[0m\n\u001b[1;32m      9\u001b[0m     \u001b[0;32mif\u001b[0m \u001b[0mf\u001b[0m\u001b[0;34m:\u001b[0m\u001b[0;34m\u001b[0m\u001b[0;34m\u001b[0m\u001b[0m\n",
      "\u001b[0;32m/var/folders/4g/ntwrfp2d5f5584q4p_h__2xh0000gn/T/ipykernel_58978/624134406.py\u001b[0m in \u001b[0;36mdivide_by_zero\u001b[0;34m(n)\u001b[0m\n\u001b[1;32m      1\u001b[0m \u001b[0;32mdef\u001b[0m \u001b[0mdivide_by_zero\u001b[0m\u001b[0;34m(\u001b[0m\u001b[0mn\u001b[0m\u001b[0;34m)\u001b[0m\u001b[0;34m:\u001b[0m\u001b[0;34m\u001b[0m\u001b[0;34m\u001b[0m\u001b[0m\n\u001b[0;32m----> 2\u001b[0;31m     \u001b[0;32mreturn\u001b[0m \u001b[0mn\u001b[0m \u001b[0;34m/\u001b[0m \u001b[0;36m0\u001b[0m\u001b[0;34m\u001b[0m\u001b[0;34m\u001b[0m\u001b[0m\n\u001b[0m\u001b[1;32m      3\u001b[0m \u001b[0;34m\u001b[0m\u001b[0m\n\u001b[1;32m      4\u001b[0m \u001b[0mf\u001b[0m \u001b[0;34m=\u001b[0m \u001b[0;32mNone\u001b[0m\u001b[0;34m\u001b[0m\u001b[0;34m\u001b[0m\u001b[0m\n\u001b[1;32m      5\u001b[0m \u001b[0;32mtry\u001b[0m\u001b[0;34m:\u001b[0m\u001b[0;34m\u001b[0m\u001b[0;34m\u001b[0m\u001b[0m\n",
      "\u001b[0;31mZeroDivisionError\u001b[0m: division by zero"
     ]
    }
   ],
   "source": [
    "def divide_by_zero(n):\n",
    "    return n / 0\n",
    "\n",
    "f = None\n",
    "try:\n",
    "    f = open('sample.txt', 'r')\n",
    "    divide_by_zero(len(f.read()))\n",
    "finally:\n",
    "    if f:\n",
    "        f.close()"
   ]
  },
  {
   "cell_type": "markdown",
   "id": "9e4dab9a-cd53-4223-a4a8-83a2df7ac6f6",
   "metadata": {},
   "source": [
    "以下でファイルがクローズされたことを確認できる"
   ]
  },
  {
   "cell_type": "code",
   "execution_count": 13,
   "id": "d0eb5273-276d-4d0d-bc5a-08048267c934",
   "metadata": {},
   "outputs": [
    {
     "name": "stdout",
     "output_type": "stream",
     "text": [
      "True\n"
     ]
    }
   ],
   "source": [
    "print(f.closed)"
   ]
  },
  {
   "cell_type": "markdown",
   "id": "a8ab72bd-f03f-4b25-8846-08cd0e8cb3c8",
   "metadata": {},
   "source": [
    "### 上記をwith文を使って書き換えてみる"
   ]
  },
  {
   "cell_type": "code",
   "execution_count": 14,
   "id": "be556026-b690-4ff5-ba8a-1de28c7a6eed",
   "metadata": {},
   "outputs": [
    {
     "ename": "FileNotFoundError",
     "evalue": "[Errno 2] No such file or directory: 'hidamari.txt'",
     "output_type": "error",
     "traceback": [
      "\u001b[0;31m---------------------------------------------------------------------------\u001b[0m",
      "\u001b[0;31mFileNotFoundError\u001b[0m                         Traceback (most recent call last)",
      "\u001b[0;32m/var/folders/4g/ntwrfp2d5f5584q4p_h__2xh0000gn/T/ipykernel_58978/2587930383.py\u001b[0m in \u001b[0;36m<module>\u001b[0;34m\u001b[0m\n\u001b[0;32m----> 1\u001b[0;31m \u001b[0;32mwith\u001b[0m \u001b[0mopen\u001b[0m\u001b[0;34m(\u001b[0m\u001b[0;34m'hidamari.txt'\u001b[0m\u001b[0;34m,\u001b[0m \u001b[0;34m'r'\u001b[0m\u001b[0;34m)\u001b[0m \u001b[0;32mas\u001b[0m \u001b[0mf\u001b[0m\u001b[0;34m:\u001b[0m\u001b[0;34m\u001b[0m\u001b[0;34m\u001b[0m\u001b[0m\n\u001b[0m\u001b[1;32m      2\u001b[0m     \u001b[0mdivide_by_zero\u001b[0m\u001b[0;34m(\u001b[0m\u001b[0mlen\u001b[0m\u001b[0;34m(\u001b[0m\u001b[0mf\u001b[0m\u001b[0;34m.\u001b[0m\u001b[0mread\u001b[0m\u001b[0;34m(\u001b[0m\u001b[0;34m)\u001b[0m\u001b[0;34m)\u001b[0m\u001b[0;34m)\u001b[0m\u001b[0;34m\u001b[0m\u001b[0;34m\u001b[0m\u001b[0m\n",
      "\u001b[0;31mFileNotFoundError\u001b[0m: [Errno 2] No such file or directory: 'hidamari.txt'"
     ]
    }
   ],
   "source": [
    "with open('hidamari.txt', 'r') as f:\n",
    "    divide_by_zero(len(f.read()))"
   ]
  },
  {
   "cell_type": "code",
   "execution_count": 15,
   "id": "2c9d2a2c-ee85-4f05-baf0-99f8e8a929c0",
   "metadata": {},
   "outputs": [
    {
     "name": "stdout",
     "output_type": "stream",
     "text": [
      "True\n"
     ]
    }
   ],
   "source": [
    "print(f.closed)"
   ]
  },
  {
   "cell_type": "markdown",
   "id": "0624886b-bb04-4ca8-ac12-30fd6f98f236",
   "metadata": {},
   "source": [
    "### with+open を with+<自作関数> でもやってみたい。どうすればよいか？"
   ]
  },
  {
   "cell_type": "markdown",
   "id": "e2e7cc29-5eee-405b-99aa-c8bb70ac7c7c",
   "metadata": {},
   "source": [
    "まずはopenを自作してみて理解する。\n",
    "\n",
    "- クラス中で `__enter__` メソッド、 `__exit__` メソッドを定義すると、`with` 構文に対応する独自クラスを作成できます。\n",
    "- 一般には `__enter__` メソッドでリソースを確保するような処理、`__exit__` メソッドでリソースを解放するような処理を実装します。\n",
    "\n",
    "このwith文に渡されるオブジェクトをコンテキストマネージャと呼びます。\n",
    "\n",
    "以下の with文の `f` にはコンテキストマネージャの `__enter__` の返り値がバインドされます。\n",
    "そして withブロックを抜けたときに `__exit__` が呼び出されるという仕組みです。__enter__ が前処理、__exit__ が後処理のイメージ\n",
    "\n",
    "https://techacademy.jp/magazine/31663"
   ]
  },
  {
   "cell_type": "code",
   "execution_count": 16,
   "id": "bc01e40a-c5be-4e5f-b7fc-2ad09d28a528",
   "metadata": {},
   "outputs": [],
   "source": [
    "class Reading:\n",
    "    def __init__(self, filename):\n",
    "        self.filename = filename\n",
    "\n",
    "    def __enter__(self):\n",
    "        self.file = open(self.filename, 'r')\n",
    "\n",
    "        return self.file\n",
    "\n",
    "    def __exit__(self, type, value, traceback):\n",
    "        self.file.close()"
   ]
  },
  {
   "cell_type": "code",
   "execution_count": 17,
   "id": "d87ab231-1b54-4684-a21b-112dc6f4c4e2",
   "metadata": {},
   "outputs": [
    {
     "ename": "ZeroDivisionError",
     "evalue": "division by zero",
     "output_type": "error",
     "traceback": [
      "\u001b[0;31m---------------------------------------------------------------------------\u001b[0m",
      "\u001b[0;31mZeroDivisionError\u001b[0m                         Traceback (most recent call last)",
      "\u001b[0;32m/var/folders/4g/ntwrfp2d5f5584q4p_h__2xh0000gn/T/ipykernel_58978/1525633442.py\u001b[0m in \u001b[0;36m<module>\u001b[0;34m\u001b[0m\n\u001b[1;32m      1\u001b[0m \u001b[0;32mwith\u001b[0m \u001b[0mReading\u001b[0m\u001b[0;34m(\u001b[0m\u001b[0;34m'sample.txt'\u001b[0m\u001b[0;34m)\u001b[0m \u001b[0;32mas\u001b[0m \u001b[0mf\u001b[0m\u001b[0;34m:\u001b[0m\u001b[0;34m\u001b[0m\u001b[0;34m\u001b[0m\u001b[0m\n\u001b[0;32m----> 2\u001b[0;31m     \u001b[0mdivide_by_zero\u001b[0m\u001b[0;34m(\u001b[0m\u001b[0mlen\u001b[0m\u001b[0;34m(\u001b[0m\u001b[0mf\u001b[0m\u001b[0;34m.\u001b[0m\u001b[0mread\u001b[0m\u001b[0;34m(\u001b[0m\u001b[0;34m)\u001b[0m\u001b[0;34m)\u001b[0m\u001b[0;34m)\u001b[0m\u001b[0;34m\u001b[0m\u001b[0;34m\u001b[0m\u001b[0m\n\u001b[0m",
      "\u001b[0;32m/var/folders/4g/ntwrfp2d5f5584q4p_h__2xh0000gn/T/ipykernel_58978/624134406.py\u001b[0m in \u001b[0;36mdivide_by_zero\u001b[0;34m(n)\u001b[0m\n\u001b[1;32m      1\u001b[0m \u001b[0;32mdef\u001b[0m \u001b[0mdivide_by_zero\u001b[0m\u001b[0;34m(\u001b[0m\u001b[0mn\u001b[0m\u001b[0;34m)\u001b[0m\u001b[0;34m:\u001b[0m\u001b[0;34m\u001b[0m\u001b[0;34m\u001b[0m\u001b[0m\n\u001b[0;32m----> 2\u001b[0;31m     \u001b[0;32mreturn\u001b[0m \u001b[0mn\u001b[0m \u001b[0;34m/\u001b[0m \u001b[0;36m0\u001b[0m\u001b[0;34m\u001b[0m\u001b[0;34m\u001b[0m\u001b[0m\n\u001b[0m\u001b[1;32m      3\u001b[0m \u001b[0;34m\u001b[0m\u001b[0m\n\u001b[1;32m      4\u001b[0m \u001b[0mf\u001b[0m \u001b[0;34m=\u001b[0m \u001b[0;32mNone\u001b[0m\u001b[0;34m\u001b[0m\u001b[0;34m\u001b[0m\u001b[0m\n\u001b[1;32m      5\u001b[0m \u001b[0;32mtry\u001b[0m\u001b[0;34m:\u001b[0m\u001b[0;34m\u001b[0m\u001b[0;34m\u001b[0m\u001b[0m\n",
      "\u001b[0;31mZeroDivisionError\u001b[0m: division by zero"
     ]
    }
   ],
   "source": [
    "with Reading('sample.txt') as f:\n",
    "    divide_by_zero(len(f.read()))"
   ]
  },
  {
   "cell_type": "code",
   "execution_count": 18,
   "id": "cfddb905-1034-4707-a733-c5ae9973640d",
   "metadata": {},
   "outputs": [
    {
     "name": "stdout",
     "output_type": "stream",
     "text": [
      "True\n"
     ]
    }
   ],
   "source": [
    "print(f.closed)"
   ]
  },
  {
   "cell_type": "markdown",
   "id": "99c88e2f-7572-4881-98e2-27c284e89bb7",
   "metadata": {},
   "source": [
    "### 毎回 __enter__, __exit__を書くのは大変, `@contextlib.contextmanager` で同様のことができる"
   ]
  },
  {
   "cell_type": "markdown",
   "id": "3dd82416-0aaa-49a8-8cff-5edde950fb10",
   "metadata": {},
   "source": [
    "- `with` ブロック内で発生した例外は `yield` を実行している箇所で再送出されます。\n",
    "- `with` ブロック内でユーザがどんなコードを実行するのかはコンテキストマネージャからは予想できません。\n",
    "- そのため `yield` は `try/finally` で囲っておく必要があります。"
   ]
  },
  {
   "cell_type": "code",
   "execution_count": 19,
   "id": "cb1e09d3-2f1e-4376-98ce-a853310e3a3e",
   "metadata": {},
   "outputs": [],
   "source": [
    "import contextlib\n",
    "\n",
    "@contextlib.contextmanager\n",
    "def reading(filename):\n",
    "    file = open(filename, 'r')\n",
    "    try:\n",
    "        yield file\n",
    "    finally:\n",
    "        file.close()"
   ]
  },
  {
   "cell_type": "code",
   "execution_count": 20,
   "id": "93fda493-9d75-43ff-bf2a-16758c36a84f",
   "metadata": {},
   "outputs": [
    {
     "name": "stdout",
     "output_type": "stream",
     "text": [
      "hello world\n"
     ]
    }
   ],
   "source": [
    "with reading('sample.txt') as f:\n",
    "    print(f.read())"
   ]
  },
  {
   "cell_type": "code",
   "execution_count": 21,
   "id": "51df3a55-c0e4-424a-a50f-aec3fe97c0ff",
   "metadata": {},
   "outputs": [
    {
     "name": "stdout",
     "output_type": "stream",
     "text": [
      "True\n"
     ]
    }
   ],
   "source": [
    "print(f.closed)"
   ]
  },
  {
   "cell_type": "markdown",
   "id": "15fa54f4-b641-4167-9355-81b97357d069",
   "metadata": {},
   "source": [
    "## yield"
   ]
  },
  {
   "cell_type": "markdown",
   "id": "e2e3d27b-7eac-4fa3-98d7-f33d9e5592f0",
   "metadata": {},
   "source": [
    "### yieldとは\n",
    "\n",
    "- https://www.sejuku.net/blog/23716\n",
    "- http://ailaby.com/yield/\n",
    "\n",
    "関数を一時的に実行停止させることが出来る機能を持つ文である\n"
   ]
  },
  {
   "cell_type": "markdown",
   "id": "c9309cb7-c991-4cbc-8ad6-103433be3d93",
   "metadata": {},
   "source": [
    "### yieldを使うメリット\n",
    "\n",
    "例えば、return文でそのまま値を返す関数を作ったとします。一度に大きなリストが返ってくるような関数だと、たくさんのメモリを一度に消費してしまうことになります。\n",
    "\n",
    "そのようなときは、yieldを使う事でその莫大な量の戻り値を小分けにして返すことが出来ます。これによって関数の実行をその都度中断し、少量ずつデータを返す事でメモリの消費量を抑えることが出来るようになります。"
   ]
  },
  {
   "cell_type": "markdown",
   "id": "7c883945-f6cd-487d-bc8a-0e90c9bcaf6e",
   "metadata": {},
   "source": [
    "### yieldの基本的な使い方"
   ]
  },
  {
   "cell_type": "code",
   "execution_count": 22,
   "id": "5b0230d7-ecca-4085-a4e5-1683f5b14458",
   "metadata": {},
   "outputs": [
    {
     "name": "stdout",
     "output_type": "stream",
     "text": [
      "one\n",
      "two\n",
      "three\n"
     ]
    }
   ],
   "source": [
    "def myfunc():\n",
    "    yield 'one'\n",
    "    yield 'two'\n",
    "    yield 'three'\n",
    "for x in myfunc():\n",
    "    print(x)"
   ]
  },
  {
   "cell_type": "code",
   "execution_count": 23,
   "id": "512c4d98-4b33-45fe-b635-a49901904709",
   "metadata": {},
   "outputs": [],
   "source": [
    "x = myfunc()"
   ]
  },
  {
   "cell_type": "code",
   "execution_count": 24,
   "id": "1c68d4b9-72c6-48f0-b519-68af49a71f3f",
   "metadata": {},
   "outputs": [
    {
     "data": {
      "text/plain": [
       "'one'"
      ]
     },
     "execution_count": 24,
     "metadata": {},
     "output_type": "execute_result"
    }
   ],
   "source": [
    "x.__next__()"
   ]
  },
  {
   "cell_type": "code",
   "execution_count": 25,
   "id": "599bfe2a-a708-4a01-a26e-2fb1ad0976b0",
   "metadata": {},
   "outputs": [
    {
     "data": {
      "text/plain": [
       "'two'"
      ]
     },
     "execution_count": 25,
     "metadata": {},
     "output_type": "execute_result"
    }
   ],
   "source": [
    "x.__next__()"
   ]
  },
  {
   "cell_type": "code",
   "execution_count": 26,
   "id": "061b9180-b06f-4dfc-9745-5de8e5fab433",
   "metadata": {},
   "outputs": [
    {
     "data": {
      "text/plain": [
       "'three'"
      ]
     },
     "execution_count": 26,
     "metadata": {},
     "output_type": "execute_result"
    }
   ],
   "source": [
    "x.__next__()"
   ]
  },
  {
   "cell_type": "code",
   "execution_count": 27,
   "id": "2d06ed95-8f35-40ee-b62d-2963b2e55010",
   "metadata": {},
   "outputs": [
    {
     "name": "stdout",
     "output_type": "stream",
     "text": [
      "0\n",
      "2\n",
      "4\n",
      "6\n",
      "8\n"
     ]
    }
   ],
   "source": [
    "def myfunc2(x:int):\n",
    "    # 0からxまでの値を2倍して返す\n",
    "    for x_ in range(x):\n",
    "        yield x_*2\n",
    "        \n",
    "for i in myfunc2(5):\n",
    "    print(i)"
   ]
  },
  {
   "cell_type": "code",
   "execution_count": 28,
   "id": "faa1c718-753b-46f5-a836-4f11cc666a2a",
   "metadata": {},
   "outputs": [
    {
     "name": "stdout",
     "output_type": "stream",
     "text": [
      "one\n",
      "two\n",
      "three\n"
     ]
    }
   ],
   "source": [
    "def myfunc():\n",
    "    yield 'one'\n",
    "    yield 'two'\n",
    "    yield 'three'\n",
    "\n",
    "generator = myfunc()\n",
    " \n",
    "print(next(generator))\n",
    "print(next(generator))\n",
    "print(next(generator))"
   ]
  },
  {
   "cell_type": "markdown",
   "id": "1d3e690d-c8cc-4891-92bf-cd2c016a3a7f",
   "metadata": {},
   "source": [
    "## getattr()"
   ]
  },
  {
   "cell_type": "markdown",
   "id": "20c25133-ce7e-442c-94b2-3b460f31e6c0",
   "metadata": {},
   "source": [
    "https://techacademy.jp/magazine/31147\n",
    "\n",
    "- オブジェクトで指定された属性を呼び出す関数です。\n",
    "    - 属性とは、クラスのメンバ変数とメソッドのことを指します。\n",
    "- getattr()関数を使用することで..\n",
    "    - オブジェクトのメンバ変数の値を取得することができます。\n",
    "    - オブジェクトのメソッドを呼び出すことができます。\n",
    "\n"
   ]
  },
  {
   "cell_type": "code",
   "execution_count": 29,
   "id": "7cb7963e-f589-4c91-b8c9-88905f43161f",
   "metadata": {},
   "outputs": [],
   "source": [
    "class hello():\n",
    "    def __init__(self):\n",
    "        self.x = 1\n",
    "        self.y = 2\n",
    "    def plus(self):\n",
    "        return self.x + self.y\n",
    "    def minus(self):\n",
    "        return self.y - self.x\n",
    "    def args(self, s):\n",
    "        return \"I got {}\".format(s)\n",
    "\n",
    "cl = hello() "
   ]
  },
  {
   "cell_type": "code",
   "execution_count": 30,
   "id": "6aa4b673-622f-40ec-bfe6-e03a7b0b2337",
   "metadata": {},
   "outputs": [
    {
     "name": "stdout",
     "output_type": "stream",
     "text": [
      "1\n",
      "3\n",
      "1\n",
      "None\n",
      "I got Hello World\n"
     ]
    }
   ],
   "source": [
    "print(getattr(cl, \"x\"))\n",
    "print(getattr(cl, \"plus\")())\n",
    "print(getattr(cl, \"minus\")())\n",
    "print(getattr(cl, \"multi\", \"None\"))\n",
    "print(getattr(cl, \"args\")(\"Hello World\"))"
   ]
  },
  {
   "cell_type": "markdown",
   "id": "67d5d9e1-128b-4161-b92b-1a080b85ac7a",
   "metadata": {},
   "source": [
    "## setattr()"
   ]
  },
  {
   "cell_type": "code",
   "execution_count": 31,
   "id": "19068a52-12ad-4b73-97bb-9a41f4f83d11",
   "metadata": {},
   "outputs": [],
   "source": [
    "class User():\n",
    "    pass\n",
    " \n",
    "obj = User()\n",
    "setattr(obj, \"name\", \"Kuro\")"
   ]
  },
  {
   "cell_type": "code",
   "execution_count": 32,
   "id": "42defa9e-fc8b-4a69-be37-6ad08b557de3",
   "metadata": {},
   "outputs": [
    {
     "name": "stdout",
     "output_type": "stream",
     "text": [
      "Kuro\n"
     ]
    }
   ],
   "source": [
    "print(obj.name)"
   ]
  },
  {
   "cell_type": "code",
   "execution_count": 33,
   "id": "a751fcd1-f711-4340-8028-f2e7a46d327f",
   "metadata": {},
   "outputs": [],
   "source": [
    "class User():\n",
    "    def __init__(self, attrs):\n",
    "        for k, v in attrs.items():\n",
    "            setattr(self, k, v)\n",
    " \n",
    "obj = User({\"name\": \"Kuro\", \"age\": 30, \"memo\": \"very cool!\"})"
   ]
  },
  {
   "cell_type": "code",
   "execution_count": 34,
   "id": "1363d1aa-a43b-4ee7-83b6-a95d42be0139",
   "metadata": {},
   "outputs": [
    {
     "name": "stdout",
     "output_type": "stream",
     "text": [
      "Kuro\n",
      "30\n",
      "very cool!\n"
     ]
    }
   ],
   "source": [
    "print(obj.name)\n",
    "# Kuro\n",
    "print(obj.age)\n",
    "# 30\n",
    "print(obj.memo)\n",
    "# very cool!"
   ]
  }
 ],
 "metadata": {
  "kernelspec": {
   "display_name": "Python 3 (ipykernel)",
   "language": "python",
   "name": "python3"
  },
  "language_info": {
   "codemirror_mode": {
    "name": "ipython",
    "version": 3
   },
   "file_extension": ".py",
   "mimetype": "text/x-python",
   "name": "python",
   "nbconvert_exporter": "python",
   "pygments_lexer": "ipython3",
   "version": "3.9.6"
  }
 },
 "nbformat": 4,
 "nbformat_minor": 5
}
