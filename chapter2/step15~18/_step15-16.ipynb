{
 "cells": [
  {
   "cell_type": "markdown",
   "id": "4362ec90-7271-4766-82a4-53ae94ce4eaa",
   "metadata": {},
   "source": [
    "# STEP15, 16: 複雑な計算グラフ\n",
    "\n",
    "- STEP1:これまでDeZeroの変数と関数を作った\n",
    "- STEP2:関数としてSquareを作った\n",
    "- STEP3:別の新しい関数を実装し複数の関数を組み合わせて計算を行う\n",
    "- STEP4:数値微分でいったん微分を計算してみる\n",
    "- STEP5:バックプロパゲーションの仕組み\n",
    "- STEP6:VariableとFunctionクラスを拡張して、バックプロパゲーションを用いて微分を求められるように実装\n",
    "- STEP7:順伝搬がどのような計算であっても自動的に逆伝搬を計算できるようにする, 具体的にはVariableクラスを拡張し使用した関数情報を保持できるようにする\n",
    "- STEP8:処理効率の改善するために、backwardメソッドをwhileループに置き換える。Variable関数のみの書き換えでOK\n",
    "- STEP9:pythonの関数として使えるようにする, y.grad=np.array(1.0)を省略する, ndarrayだけ扱う\n",
    "- STEP10:DeepLearningのフレームワークのテスト方法について説明\n",
    "- STEP11:関数に対して可変長入出力に対応する\n",
    "- STEP12:11の拡張\n",
    "- STEP13:逆伝搬に関しても関数に対して可変長入出力に対応する\n",
    "- STEP14:同じ変数を繰り返し使うと発生する問題に対応する y = add(x, x)\n",
    "- STEP15:さまざまなトポロジーの計算グラフに対応すること(説明)\n",
    "- STEP16:さまざまなトポロジーの計算グラフに対応すること(実装)"
   ]
  },
  {
   "cell_type": "code",
   "execution_count": 1,
   "id": "291490fc-6048-4860-b8d4-3a926c1db0e1",
   "metadata": {},
   "outputs": [],
   "source": [
    "#DIR = \"deep-learning-from-scratch-3/steps/\"\n",
    "#! diff $DIR/step14.py $DIR/step16.py -y"
   ]
  },
  {
   "cell_type": "markdown",
   "id": "e432771f-55b7-4402-ab60-6fea5db0c787",
   "metadata": {},
   "source": [
    "## STEP15, 16の説明で使うモデル"
   ]
  },
  {
   "cell_type": "markdown",
   "id": "4f0322be-5e94-41c6-b156-7897790a764a",
   "metadata": {},
   "source": [
    "![](https://docs.google.com/drawings/d/e/2PACX-1vQbIDXMxsjyJH2qgyFbi_SRQnuhhBZg-sL4KNTVo07WOOEoqWbgMTZO8Pw1mIIk-uf-4Y_l-QO7qRC6/pub?w=960&h=779)"
   ]
  },
  {
   "cell_type": "markdown",
   "id": "3408814c-0d81-476e-8b18-59d68a5cdbc0",
   "metadata": {},
   "source": [
    "## STEP14のコードを用いて課題を確認する"
   ]
  },
  {
   "cell_type": "markdown",
   "id": "aa836831-0778-4f8c-88a7-91d50d7f5115",
   "metadata": {},
   "source": [
    "### STEP14 ソースコード"
   ]
  },
  {
   "cell_type": "code",
   "execution_count": 2,
   "id": "29c4d74e-f5ac-4f58-b87b-e0ea9e2b7f1b",
   "metadata": {},
   "outputs": [],
   "source": [
    "import numpy as np\n",
    "\n",
    "\n",
    "class Variable:\n",
    "    def __init__(self, data):\n",
    "        if data is not None:\n",
    "            if not isinstance(data, np.ndarray):\n",
    "                raise TypeError('{} is not supported'.format(type(data)))\n",
    "\n",
    "        self.data = data\n",
    "        self.grad = None\n",
    "        self.creator = None\n",
    "\n",
    "    def set_creator(self, func):\n",
    "        self.creator = func\n",
    "\n",
    "    def cleargrad(self):\n",
    "        self.grad = None\n",
    "\n",
    "    def backward(self):\n",
    "        if self.grad is None:\n",
    "            self.grad = np.ones_like(self.data)\n",
    "\n",
    "        funcs = [self.creator]\n",
    "        #icount = 0 # added by Daisuke Nagao\n",
    "        while funcs:\n",
    "            #print(f\"---- while {icount}回目 ----\") # added by Daisuke Nagao\n",
    "            #print(f\"funcs_before = {funcs}\") # added by Daisuke Nagao\n",
    "            f = funcs.pop()\n",
    "            #print(f\"funcs_after  = {funcs}\") # added by Daisuke Nagao\n",
    "            gys = [output.grad for output in f.outputs]\n",
    "            gxs = f.backward(*gys)\n",
    "            if not isinstance(gxs, tuple):\n",
    "                gxs = (gxs,)\n",
    "\n",
    "            for x, gx in zip(f.inputs, gxs):\n",
    "                if x.grad is None:\n",
    "                    x.grad = gx\n",
    "                else:\n",
    "                    x.grad = x.grad + gx\n",
    "\n",
    "                if x.creator is not None:\n",
    "                    funcs.append(x.creator)\n",
    "            #icount += 1 # added by Daisuke Nagao\n",
    "\n",
    "\n",
    "def as_array(x):\n",
    "    if np.isscalar(x):\n",
    "        return np.array(x)\n",
    "    return x\n",
    "\n",
    "\n",
    "class Function:\n",
    "    def __call__(self, *inputs):\n",
    "        xs = [x.data for x in inputs]\n",
    "        ys = self.forward(*xs)\n",
    "        if not isinstance(ys, tuple):\n",
    "            ys = (ys,)\n",
    "        outputs = [Variable(as_array(y)) for y in ys]\n",
    "\n",
    "        for output in outputs:\n",
    "            output.set_creator(self)\n",
    "        self.inputs = inputs\n",
    "        self.outputs = outputs\n",
    "        return outputs if len(outputs) > 1 else outputs[0]\n",
    "\n",
    "    def forward(self, xs):\n",
    "        raise NotImplementedError()\n",
    "\n",
    "    def backward(self, gys):\n",
    "        raise NotImplementedError()\n",
    "\n",
    "class Square(Function):\n",
    "    def forward(self, x):\n",
    "        y = x ** 2\n",
    "        return y\n",
    "\n",
    "    def backward(self, gy):\n",
    "        x = self.inputs[0].data\n",
    "        gx = 2 * x * gy\n",
    "        return gx\n",
    "\n",
    "def square(x):\n",
    "    return Square()(x)\n",
    "\n",
    "class Add(Function):\n",
    "    def forward(self, x0, x1):\n",
    "        y = x0 + x1\n",
    "        return y\n",
    "\n",
    "    def backward(self, gy):\n",
    "        return gy, gy\n",
    "\n",
    "\n",
    "def add(x0, x1):\n",
    "    return Add()(x0, x1)"
   ]
  },
  {
   "cell_type": "code",
   "execution_count": 3,
   "id": "4e7f7490-afa9-4b8b-90cc-42250c940a21",
   "metadata": {},
   "outputs": [
    {
     "name": "stdout",
     "output_type": "stream",
     "text": [
      "x: 2\n",
      "a: 4\n",
      "b: 16\n",
      "c: 16\n",
      "y: 32\n",
      "y.grad 1\n",
      "c.grad 1\n",
      "b.grad 1\n",
      "a.grad 16\n",
      "x.grad 96\n"
     ]
    }
   ],
   "source": [
    "# わかりやすさのため、一旦、下記をコメントアウト, 使用する関数のClassを指定する方法でテストを実行する\n",
    "#x = Variable(np.array(2))\n",
    "#a = square(x); print(\"a:\", a.data)\n",
    "#b = square(a); print(\"b:\", b.data)\n",
    "#c = square(a); print(\"c:\", c.data)\n",
    "#y = add(b ,c); print(\"y:\", y.data)\n",
    "#y.backward()\n",
    "\n",
    "A = Square()\n",
    "B = Square()\n",
    "C = Square()\n",
    "D = Add()\n",
    "\n",
    "x = Variable(np.array(2))\n",
    "a = A(x) \n",
    "b = B(a)                 \n",
    "c = C(a)                 \n",
    "y = D(b, c)\n",
    "\n",
    "print(\"x:\", x.data)\n",
    "print(\"a:\", a.data)\n",
    "print(\"b:\", b.data)\n",
    "print(\"c:\", c.data)\n",
    "print(\"y:\", y.data)\n",
    "\n",
    "y.backward()\n",
    "\n",
    "print(\"y.grad\", y.grad)\n",
    "print(\"c.grad\", c.grad)\n",
    "print(\"b.grad\", b.grad)\n",
    "print(\"a.grad\", a.grad)\n",
    "print(\"x.grad\", x.grad)"
   ]
  },
  {
   "cell_type": "markdown",
   "id": "5059b5a1-73cd-4c34-b979-809ec45dd18d",
   "metadata": {},
   "source": [
    "### ソースコードのコメントアウトを外して上記のテストをもう一度行う"
   ]
  },
  {
   "cell_type": "markdown",
   "id": "32bf6df0-9380-41c8-b23e-441bacd131ea",
   "metadata": {},
   "source": [
    "オブジェクトのhashは下記を実行し一致するものを探す"
   ]
  },
  {
   "cell_type": "code",
   "execution_count": 4,
   "id": "9caff34a-4058-4d86-93e2-35d8aa23a96f",
   "metadata": {},
   "outputs": [
    {
     "name": "stdout",
     "output_type": "stream",
     "text": [
      "A: <__main__.Square object at 0x10421c190>\n",
      "B: <__main__.Square object at 0x10421c520>\n",
      "C: <__main__.Square object at 0x10421c1f0>\n",
      "D: <__main__.Add object at 0x10421c2b0> 272768043\n"
     ]
    }
   ],
   "source": [
    "print(\"A:\", A)\n",
    "print(\"B:\", B)\n",
    "print(\"C:\", C)\n",
    "print(\"D:\", D, D.__hash__())"
   ]
  },
  {
   "cell_type": "markdown",
   "id": "d15b980d-a5c5-4f8a-a450-838a62e23b9d",
   "metadata": {
    "tags": []
   },
   "source": [
    "## STEP16: 改善版"
   ]
  },
  {
   "cell_type": "markdown",
   "id": "ba9822d7-9dfe-42ca-b3be-3f4587344c35",
   "metadata": {},
   "source": [
    "### STEP16ソースコード"
   ]
  },
  {
   "cell_type": "code",
   "execution_count": 5,
   "id": "303a6699-68ca-4d99-b67e-53223670e936",
   "metadata": {},
   "outputs": [],
   "source": [
    "import numpy as np\n",
    "\n",
    "class Variable:\n",
    "    def __init__(self, data):\n",
    "        if data is not None:\n",
    "            if not isinstance(data, np.ndarray):\n",
    "                raise TypeError('{} is not supported'.format(type(data)))\n",
    "\n",
    "        self.data = data\n",
    "        self.grad = None\n",
    "        self.creator = None\n",
    "        self.generation = 0\n",
    "\n",
    "    def set_creator(self, func):\n",
    "        self.creator = func\n",
    "        self.generation = func.generation + 1\n",
    "\n",
    "    def cleargrad(self):\n",
    "        self.grad = None\n",
    "\n",
    "    def backward(self):\n",
    "        if self.grad is None:\n",
    "            self.grad = np.ones_like(self.data)\n",
    "\n",
    "        funcs = []\n",
    "        seen_set = set()\n",
    "\n",
    "        def add_func(f):\n",
    "            if f not in seen_set:\n",
    "                funcs.append(f)\n",
    "                seen_set.add(f)\n",
    "                funcs.sort(key=lambda x: x.generation)\n",
    "\n",
    "        add_func(self.creator)\n",
    "\n",
    "        #icount = 0 # added by Daisuke Nagao\n",
    "        while funcs:\n",
    "            #print(f\"---- while {icount}回目 ----\") # added by Daisuke Nagao\n",
    "            #print(f\"funcs_before = {funcs}\") # added by Daisuke Nagao\n",
    "            f = funcs.pop()\n",
    "            #print(f\"funcs_after  = {funcs}\") # added by Daisuke Nagao\n",
    "            gys = [output.grad for output in f.outputs]\n",
    "            gxs = f.backward(*gys)\n",
    "            if not isinstance(gxs, tuple):\n",
    "                gxs = (gxs,)\n",
    "\n",
    "            for x, gx in zip(f.inputs, gxs):\n",
    "                if x.grad is None:\n",
    "                    x.grad = gx\n",
    "                else:\n",
    "                    x.grad = x.grad + gx\n",
    "\n",
    "                if x.creator is not None:\n",
    "                    add_func(x.creator)\n",
    "            #icount += 1 # added by Daisuke Nagao\n",
    "\n",
    "\n",
    "def as_array(x):\n",
    "    if np.isscalar(x):\n",
    "        return np.array(x)\n",
    "    return x\n",
    "\n",
    "\n",
    "class Function:\n",
    "    def __call__(self, *inputs):\n",
    "        xs = [x.data for x in inputs]\n",
    "        ys = self.forward(*xs)\n",
    "        if not isinstance(ys, tuple):\n",
    "            ys = (ys,)\n",
    "        outputs = [Variable(as_array(y)) for y in ys]\n",
    "\n",
    "        self.generation = max([x.generation for x in inputs])\n",
    "        for output in outputs:\n",
    "            output.set_creator(self)\n",
    "        self.inputs = inputs\n",
    "        self.outputs = outputs\n",
    "        return outputs if len(outputs) > 1 else outputs[0]\n",
    "\n",
    "    def forward(self, xs):\n",
    "        raise NotImplementedError()\n",
    "\n",
    "    def backward(self, gys):\n",
    "        raise NotImplementedError()\n",
    "\n",
    "\n",
    "class Square(Function):\n",
    "    def forward(self, x):\n",
    "        y = x ** 2\n",
    "        return y\n",
    "\n",
    "    def backward(self, gy):\n",
    "        x = self.inputs[0].data\n",
    "        gx = 2 * x * gy\n",
    "        return gx\n",
    "\n",
    "\n",
    "def square(x):\n",
    "    return Square()(x)\n",
    "\n",
    "\n",
    "class Add(Function):\n",
    "    def forward(self, x0, x1):\n",
    "        y = x0 + x1\n",
    "        return y\n",
    "\n",
    "    def backward(self, gy):\n",
    "        return gy, gy\n",
    "\n",
    "\n",
    "def add(x0, x1):\n",
    "    return Add()(x0, x1)"
   ]
  },
  {
   "cell_type": "code",
   "execution_count": 6,
   "id": "9bc15493-48cc-4b50-ba2a-c9ccd835c109",
   "metadata": {},
   "outputs": [
    {
     "name": "stdout",
     "output_type": "stream",
     "text": [
      "x: 2\n",
      "a: 4\n",
      "b: 16\n",
      "c: 16\n",
      "y: 32\n",
      "y.grad 1\n",
      "c.grad 1\n",
      "b.grad 1\n",
      "a.grad 16\n",
      "x.grad 64\n"
     ]
    }
   ],
   "source": [
    "# わかりやすさのため、一旦、下記をコメントアウト, 使用する関数のClassを指定する方法でテストを実行する\n",
    "#x = Variable(np.array(2))\n",
    "#a = square(x); print(\"a:\", a.data)\n",
    "#b = square(a); print(\"b:\", b.data)\n",
    "#c = square(a); print(\"c:\", c.data)\n",
    "#y = add(b ,c); print(\"y:\", y.data)\n",
    "#y.backward()\n",
    "\n",
    "A = Square()\n",
    "B = Square()\n",
    "C = Square()\n",
    "D = Add()\n",
    "\n",
    "x = Variable(np.array(2))\n",
    "a = A(x) \n",
    "b = B(a)                 \n",
    "c = C(a)                 \n",
    "y = D(b, c)\n",
    "\n",
    "print(\"x:\", x.data)\n",
    "print(\"a:\", a.data)\n",
    "print(\"b:\", b.data)\n",
    "print(\"c:\", c.data)\n",
    "print(\"y:\", y.data)\n",
    "\n",
    "y.backward()\n",
    "\n",
    "print(\"y.grad\", y.grad)\n",
    "print(\"c.grad\", c.grad)\n",
    "print(\"b.grad\", b.grad)\n",
    "print(\"a.grad\", a.grad)\n",
    "print(\"x.grad\", x.grad)"
   ]
  },
  {
   "cell_type": "markdown",
   "id": "6385aee3-423f-4196-8e0c-e11bba632a1e",
   "metadata": {},
   "source": [
    "### ソースコードのコメントアウトを外して上記のテストをもう一度行う"
   ]
  },
  {
   "cell_type": "code",
   "execution_count": 7,
   "id": "84f0844d-65f9-4bf1-84f3-e6bfa6ffb946",
   "metadata": {},
   "outputs": [
    {
     "name": "stdout",
     "output_type": "stream",
     "text": [
      "A: <__main__.Square object at 0x10421cf10>\n",
      "B: <__main__.Square object at 0x10421ce50>\n",
      "C: <__main__.Square object at 0x10421c3a0>\n",
      "D: <__main__.Add object at 0x10421ccd0>\n"
     ]
    }
   ],
   "source": [
    "print(\"A:\", A)\n",
    "print(\"B:\", B)\n",
    "print(\"C:\", C)\n",
    "print(\"D:\", D)"
   ]
  }
 ],
 "metadata": {
  "kernelspec": {
   "display_name": "Python 3 (ipykernel)",
   "language": "python",
   "name": "python3"
  },
  "language_info": {
   "codemirror_mode": {
    "name": "ipython",
    "version": 3
   },
   "file_extension": ".py",
   "mimetype": "text/x-python",
   "name": "python",
   "nbconvert_exporter": "python",
   "pygments_lexer": "ipython3",
   "version": "3.9.6"
  }
 },
 "nbformat": 4,
 "nbformat_minor": 5
}
