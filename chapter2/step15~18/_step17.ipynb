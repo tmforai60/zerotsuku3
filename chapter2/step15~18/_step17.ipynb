{
 "cells": [
  {
   "cell_type": "markdown",
   "id": "4362ec90-7271-4766-82a4-53ae94ce4eaa",
   "metadata": {},
   "source": [
    "# STEP17 メモリ管理と循環参照\n",
    "\n",
    "- STEP1:これまでDeZeroの変数と関数を作った\n",
    "- STEP2:関数としてSquareを作った\n",
    "- STEP3:別の新しい関数を実装し複数の関数を組み合わせて計算を行う\n",
    "- STEP4:数値微分でいったん微分を計算してみる\n",
    "- STEP5:バックプロパゲーションの仕組み\n",
    "- STEP6:VariableとFunctionクラスを拡張して、バックプロパゲーションを用いて微分を求められるように実装\n",
    "- STEP7:順伝搬がどのような計算であっても自動的に逆伝搬を計算できるようにする, 具体的にはVariableクラスを拡張し使用した関数情報を保持できるようにする\n",
    "- STEP8:処理効率の改善するために、backwardメソッドをwhileループに置き換える。Variable関数のみの書き換えでOK\n",
    "- STEP9:pythonの関数として使えるようにする, y.grad=np.array(1.0)を省略する, ndarrayだけ扱う\n",
    "- STEP10:DeepLearningのフレームワークのテスト方法について説明\n",
    "- STEP11:関数に対して可変長入出力に対応する\n",
    "- STEP12:11の拡張\n",
    "- STEP13:逆伝搬に関しても関数に対して可変長入出力に対応する\n",
    "- STEP14:同じ変数を繰り返し使うと発生する問題に対応する y = add(x, x)\n",
    "- STEP15:さまざまなトポロジーの計算グラフに対応すること\n",
    "- STEP16:さまざまなトポロジーの計算グラフに対応すること\n",
    "- STEP17:パフォーマンス改善テクニック: pythonのメモリ管理について学ぶ, weakrefをいれ循環参照を防ぐ => メモリ改善"
   ]
  },
  {
   "cell_type": "code",
   "execution_count": 25,
   "id": "291490fc-6048-4860-b8d4-3a926c1db0e1",
   "metadata": {},
   "outputs": [],
   "source": [
    "#DIR = \"deep-learning-from-scratch-3/steps/\"\n",
    "#! diff $DIR/step16.py $DIR/step17.py -y"
   ]
  },
  {
   "cell_type": "markdown",
   "id": "68a01b22-2fb6-4db7-aefb-162068de8b99",
   "metadata": {},
   "source": [
    "## 事前準備: 使用メモリ測定ライブラリー\n",
    "\n",
    "- https://pyteyon.hatenablog.com/entry/2020/04/29/150000"
   ]
  },
  {
   "cell_type": "code",
   "execution_count": null,
   "id": "bab9db66-5bf2-4020-93d4-22f3a2a5f3ec",
   "metadata": {},
   "outputs": [],
   "source": [
    "#pip install memory-profiler"
   ]
  },
  {
   "cell_type": "markdown",
   "id": "857a59ed-f8a4-408b-86e7-a743afcaddf4",
   "metadata": {},
   "source": [
    "## STEP17適用前のメモリ"
   ]
  },
  {
   "cell_type": "markdown",
   "id": "a060144b-945f-4af0-8178-dc5614e17b40",
   "metadata": {},
   "source": [
    "### テストプログラムの作成 (改善前)"
   ]
  },
  {
   "cell_type": "code",
   "execution_count": 14,
   "id": "c4844fb0-94a3-4538-a1e6-abbc163f2dce",
   "metadata": {},
   "outputs": [
    {
     "name": "stdout",
     "output_type": "stream",
     "text": [
      "Overwriting test_step17_before.py\n"
     ]
    }
   ],
   "source": [
    "%%writefile test_step17_before.py\n",
    "import numpy as np\n",
    "from memory_profiler import profile\n",
    "\n",
    "class Variable:\n",
    "    def __init__(self, data):\n",
    "        if data is not None:\n",
    "            if not isinstance(data, np.ndarray):\n",
    "                raise TypeError('{} is not supported'.format(type(data)))\n",
    "\n",
    "        self.data = data\n",
    "        self.grad = None\n",
    "        self.creator = None\n",
    "        self.generation = 0\n",
    "\n",
    "    def set_creator(self, func):\n",
    "        self.creator = func\n",
    "        self.generation = func.generation + 1\n",
    "\n",
    "    def cleargrad(self):\n",
    "        self.grad = None\n",
    "\n",
    "    def backward(self):\n",
    "        if self.grad is None:\n",
    "            self.grad = np.ones_like(self.data)\n",
    "\n",
    "        funcs = []\n",
    "        seen_set = set()\n",
    "\n",
    "        def add_func(f):\n",
    "            if f not in seen_set:\n",
    "                funcs.append(f)\n",
    "                seen_set.add(f)\n",
    "                funcs.sort(key=lambda x: x.generation)\n",
    "\n",
    "        add_func(self.creator)\n",
    "\n",
    "        while funcs:\n",
    "            f = funcs.pop()\n",
    "            gys = [output.grad for output in f.outputs]\n",
    "            gxs = f.backward(*gys)\n",
    "            if not isinstance(gxs, tuple):\n",
    "                gxs = (gxs,)\n",
    "\n",
    "            for x, gx in zip(f.inputs, gxs):\n",
    "                if x.grad is None:\n",
    "                    x.grad = gx\n",
    "                else:\n",
    "                    x.grad = x.grad + gx\n",
    "\n",
    "                if x.creator is not None:\n",
    "                    add_func(x.creator)\n",
    "\n",
    "\n",
    "def as_array(x):\n",
    "    if np.isscalar(x):\n",
    "        return np.array(x)\n",
    "    return x\n",
    "\n",
    "#@profile\n",
    "class Function:\n",
    "    def __call__(self, *inputs):\n",
    "        xs = [x.data for x in inputs]\n",
    "        ys = self.forward(*xs)\n",
    "        if not isinstance(ys, tuple):\n",
    "            ys = (ys,)\n",
    "        outputs = [Variable(as_array(y)) for y in ys]\n",
    "\n",
    "        self.generation = max([x.generation for x in inputs])\n",
    "        for output in outputs:\n",
    "            output.set_creator(self)\n",
    "        self.inputs = inputs\n",
    "        self.outputs = outputs\n",
    "        return outputs if len(outputs) > 1 else outputs[0]\n",
    "\n",
    "    def forward(self, xs):\n",
    "        raise NotImplementedError()\n",
    "\n",
    "    def backward(self, gys):\n",
    "        raise NotImplementedError()\n",
    "\n",
    "\n",
    "class Square(Function):\n",
    "    def forward(self, x):\n",
    "        y = x ** 2\n",
    "        return y\n",
    "\n",
    "    def backward(self, gy):\n",
    "        x = self.inputs[0].data\n",
    "        gx = 2 * x * gy\n",
    "        return gx\n",
    "\n",
    "\n",
    "def square(x):\n",
    "    return Square()(x)\n",
    "\n",
    "\n",
    "class Add(Function):\n",
    "    def forward(self, x0, x1):\n",
    "        y = x0 + x1\n",
    "        return y\n",
    "\n",
    "    def backward(self, gy):\n",
    "        return gy, gy\n",
    "\n",
    "\n",
    "def add(x0, x1):\n",
    "    return Add()(x0, x1)\n",
    "\n",
    "\n",
    "for i in range(1000):\n",
    "    x = Variable(np.random.randn(100000))  # big data\n",
    "    y = square(square(square(x)))"
   ]
  },
  {
   "cell_type": "markdown",
   "id": "14eba82c-1441-4a22-95dc-517718bc0518",
   "metadata": {},
   "source": [
    "### テスト (改善前)"
   ]
  },
  {
   "cell_type": "code",
   "execution_count": 15,
   "id": "9ca6585f-8855-41d0-a63d-892a5a1b66a4",
   "metadata": {},
   "outputs": [
    {
     "name": "stdout",
     "output_type": "stream",
     "text": [
      "-rw-r--r--  1 daisuke  staff  2586  7 31 13:19 test_step17_before.py\n",
      "mprof: Sampling memory every 0.1s\n",
      "running new process\n",
      "running as a Python program...\n",
      "Using last profile data.\n",
      "mprofile_20220731131931.dat\t539.438 MiB\n"
     ]
    }
   ],
   "source": [
    "! ls -l test_step17_before.py\n",
    "! mprof run test_step17_before.py\n",
    "! mprof peak"
   ]
  },
  {
   "cell_type": "markdown",
   "id": "64137eed-43d4-4186-af5f-f512b73abc24",
   "metadata": {},
   "source": [
    "### テストプログラムの作成 (改善後)"
   ]
  },
  {
   "cell_type": "code",
   "execution_count": 16,
   "id": "b80044c9-c75a-459d-99a5-ca9ec5c57836",
   "metadata": {},
   "outputs": [
    {
     "name": "stdout",
     "output_type": "stream",
     "text": [
      "Overwriting test_step17_after.py\n"
     ]
    }
   ],
   "source": [
    "%%writefile test_step17_after.py\n",
    "import weakref\n",
    "import numpy as np\n",
    "\n",
    "class Variable:\n",
    "    def __init__(self, data):\n",
    "        if data is not None:\n",
    "            if not isinstance(data, np.ndarray):\n",
    "                raise TypeError('{} is not supported'.format(type(data)))\n",
    "\n",
    "        self.data = data\n",
    "        self.grad = None\n",
    "        self.creator = None\n",
    "        self.generation = 0\n",
    "\n",
    "    def set_creator(self, func):\n",
    "        self.creator = func\n",
    "        self.generation = func.generation + 1\n",
    "\n",
    "    def cleargrad(self):\n",
    "        self.grad = None\n",
    "\n",
    "    def backward(self):\n",
    "        if self.grad is None:\n",
    "            self.grad = np.ones_like(self.data)\n",
    "\n",
    "        funcs = []\n",
    "        seen_set = set()\n",
    "\n",
    "        def add_func(f):\n",
    "            if f not in seen_set:\n",
    "                funcs.append(f)\n",
    "                seen_set.add(f)\n",
    "                funcs.sort(key=lambda x: x.generation)\n",
    "\n",
    "        add_func(self.creator)\n",
    "\n",
    "        while funcs:\n",
    "            f = funcs.pop()\n",
    "            gys = [output().grad for output in f.outputs]  # output is weakref\n",
    "            gxs = f.backward(*gys)\n",
    "            if not isinstance(gxs, tuple):\n",
    "                gxs = (gxs,)\n",
    "\n",
    "            for x, gx in zip(f.inputs, gxs):\n",
    "                if x.grad is None:\n",
    "                    x.grad = gx\n",
    "                else:\n",
    "                    x.grad = x.grad + gx\n",
    "\n",
    "                if x.creator is not None:\n",
    "                    add_func(x.creator)\n",
    "\n",
    "\n",
    "def as_array(x):\n",
    "    if np.isscalar(x):\n",
    "        return np.array(x)\n",
    "    return x\n",
    "\n",
    "\n",
    "class Function:\n",
    "    def __call__(self, *inputs):\n",
    "        xs = [x.data for x in inputs]\n",
    "        ys = self.forward(*xs)\n",
    "        if not isinstance(ys, tuple):\n",
    "            ys = (ys,)\n",
    "        outputs = [Variable(as_array(y)) for y in ys]\n",
    "\n",
    "        self.generation = max([x.generation for x in inputs])\n",
    "        for output in outputs:\n",
    "            output.set_creator(self)\n",
    "        self.inputs = inputs\n",
    "        self.outputs = [weakref.ref(output) for output in outputs]\n",
    "        return outputs if len(outputs) > 1 else outputs[0]\n",
    "\n",
    "    def forward(self, xs):\n",
    "        raise NotImplementedError()\n",
    "\n",
    "    def backward(self, gys):\n",
    "        raise NotImplementedError()\n",
    "\n",
    "\n",
    "class Square(Function):\n",
    "    def forward(self, x):\n",
    "        y = x ** 2\n",
    "        return y\n",
    "\n",
    "    def backward(self, gy):\n",
    "        x = self.inputs[0].data\n",
    "        gx = 2 * x * gy\n",
    "        return gx\n",
    "\n",
    "\n",
    "def square(x):\n",
    "    return Square()(x)\n",
    "\n",
    "\n",
    "for i in range(1000):\n",
    "    x = Variable(np.random.randn(100000))  # big data\n",
    "    y = square(square(square(x)))"
   ]
  },
  {
   "cell_type": "markdown",
   "id": "46fa8b96-32ca-4040-bef0-00c1807c642a",
   "metadata": {},
   "source": [
    "### テスト (改善後)"
   ]
  },
  {
   "cell_type": "code",
   "execution_count": 17,
   "id": "86d44f33-3094-4e4f-b375-96d637385b63",
   "metadata": {},
   "outputs": [
    {
     "name": "stdout",
     "output_type": "stream",
     "text": [
      "-rw-r--r--  1 daisuke  staff  2429  7 31 13:19 test_step17_after.py\n",
      "mprof: Sampling memory every 0.1s\n",
      "running new process\n",
      "running as a Python program...\n",
      "Using last profile data.\n",
      "mprofile_20220731131942.dat\t75.484 MiB\n"
     ]
    }
   ],
   "source": [
    "! ls -l test_step17_after.py\n",
    "! mprof run test_step17_after.py\n",
    "! mprof peak"
   ]
  },
  {
   "cell_type": "markdown",
   "id": "35e5f912-07e1-4231-acd3-0b1206c42c18",
   "metadata": {},
   "source": [
    "# 補足"
   ]
  },
  {
   "cell_type": "markdown",
   "id": "03d799ef-7162-4fee-81dc-2c40f2038b37",
   "metadata": {},
   "source": [
    "## 参照カウント\n",
    "\n",
    "https://www.sejuku.net/blog/90518\n",
    "\n",
    "プログラム中でオブジェクトへの参照がない場合に、そのオブジェクトの割当を解除（メモリを開放）します。\n",
    "ここでいう参照カウントとは「そのオブジェクトが参照されている数」を記録した数字です。これはオブジェクトごとに用意されています。\n",
    "参照カウントが増えるのは以下の処理を行ったときです。\n",
    "\n",
    "- 代入演算子を使ったとき: b = a (bはaを参照している)\n",
    "- 引数渡しをしたとき: f(a)\n",
    "- オブジェクトをコンテナ型オブジェクトに追加したとき: test_list.append(a)\n",
    "\n",
    "参照カウントが1以上のとき、メモリは確保されたままになります。逆に0になったとき、GCはそれを不要だと判断します。\n",
    "参照カウントについては`sys.getrefcount()`で実際に確認することができます。これはobject の参照数を返します。 object は (一時的に) getrefcount() からも参照されるため、参照数は予想される数よりも 1 多くなります。\n",
    "\n",
    "\n",
    "```python\n",
    "sys.getrefcount(object)¶\n",
    "```\n"
   ]
  },
  {
   "cell_type": "markdown",
   "id": "8102f7f9-bdf2-4224-82df-ac8dd754b029",
   "metadata": {},
   "source": [
    "### 参照カウントの基本的な挙動"
   ]
  },
  {
   "cell_type": "markdown",
   "id": "86196eca-6fbc-40b5-b5e9-1a759f47ac8c",
   "metadata": {},
   "source": [
    "STEP3-1が4になる理由は以下の通り\n",
    "\n",
    "1. 変数a自身の参照\n",
    "2. bがaを参照\n",
    "3. aがf関数の引数\n",
    "4. Pythonの関数スタックが参照"
   ]
  },
  {
   "cell_type": "code",
   "execution_count": 19,
   "id": "07355820-66a2-4fcd-bfe1-f056e10f3b0c",
   "metadata": {},
   "outputs": [
    {
     "name": "stdout",
     "output_type": "stream",
     "text": [
      "STEP1: 1\n",
      "STEP2: 2\n",
      "STEP3-1: 4\n",
      "STEP3-2: 2\n",
      "STEP4: 3\n",
      "STEP5: 33706\n"
     ]
    }
   ],
   "source": [
    "import sys\n",
    "class obj:\n",
    "    pass\n",
    "\n",
    "def f(x):\n",
    "    print(\"STEP3-1:\", sys.getrefcount(x) - 1)\n",
    "\n",
    "\n",
    "a = obj();        print(\"STEP1:\",   sys.getrefcount(a) - 1)\n",
    "b = a;            print(\"STEP2:\",   sys.getrefcount(a) - 1)\n",
    "f(a);             print(\"STEP3-2:\", sys.getrefcount(a) - 1)\n",
    "test_list = [a];  print(\"STEP4:\",   sys.getrefcount(a) - 1)\n",
    "\n",
    "# Noneにしても、0にならないことに注意\n",
    "a = None;         print(\"STEP5:\",   sys.getrefcount(a) - 1)"
   ]
  },
  {
   "cell_type": "markdown",
   "id": "91326930-4eb7-4375-ba41-470b5c2d2eb2",
   "metadata": {
    "tags": []
   },
   "source": [
    "### 参照カウント方式のメモリ管理 (getrefcountを利用する場合、教科書どおりの挙動を観測できない)"
   ]
  },
  {
   "cell_type": "code",
   "execution_count": 21,
   "id": "58080655-33fa-43f0-a2a0-0a20094593f1",
   "metadata": {},
   "outputs": [
    {
     "name": "stdout",
     "output_type": "stream",
     "text": [
      "STEP0 a: 1, b: 1, c: 1\n",
      "STEP1 a: 1, b: 2, c: 1\n",
      "STEP2 a: 1, b: 2, c: 2\n",
      "STEP3 a: 33727, b: 33727, c: 33727\n",
      "33730\n"
     ]
    }
   ],
   "source": [
    "import sys\n",
    "class obj:\n",
    "    pass\n",
    "\n",
    "def f(x):\n",
    "    print(\"STEP3-1:\", sys.getrefcount(x) - 1)\n",
    "\n",
    "a = obj()\n",
    "b = obj()\n",
    "c = obj()\n",
    "\n",
    "print(f\"STEP0 a: {sys.getrefcount(a) - 1}, b: {sys.getrefcount(b) - 1}, c: {sys.getrefcount(c) - 1}\")\n",
    "\n",
    "a.b = b;          print(f\"STEP1 a: {sys.getrefcount(a) - 1}, b: {sys.getrefcount(b) - 1}, c: {sys.getrefcount(c) - 1}\")\n",
    "b.c = c;          print(f\"STEP2 a: {sys.getrefcount(a) - 1}, b: {sys.getrefcount(b) - 1}, c: {sys.getrefcount(c) - 1}\")\n",
    "a = b = c = None; print(f\"STEP3 a: {sys.getrefcount(a) - 1}, b: {sys.getrefcount(b) - 1}, c: {sys.getrefcount(c) - 1}\")\n",
    "\n",
    "print(sys.getrefcount(None))"
   ]
  },
  {
   "cell_type": "markdown",
   "id": "4183641a-71cd-4a77-b184-544e7ec2cdb0",
   "metadata": {
    "tags": []
   },
   "source": [
    "### そこで aのみ `a = None` とし、部分的に挙動を確認する\n",
    "\n",
    "`a = None` とすると bの参照カウントが1となる"
   ]
  },
  {
   "cell_type": "markdown",
   "id": "bd5190fb-eda9-41a4-a03a-6c362a00a66b",
   "metadata": {},
   "source": [
    "![](https://docs.google.com/drawings/d/e/2PACX-1vShs9FAFOfb9Fswa6MWy2Qj5pR6Qv3MajQuj7Z31SHGvQMcmz39J9mCEYvFK3PvKCM5sGaQx7LNYj3a/pub?w=162&h=149)"
   ]
  },
  {
   "cell_type": "code",
   "execution_count": 1,
   "id": "c1d56888-870c-4ca7-9d9f-1d1f0e3c1a48",
   "metadata": {},
   "outputs": [
    {
     "name": "stdout",
     "output_type": "stream",
     "text": [
      "a: 33715, b: 1, c: 2\n",
      "33695\n"
     ]
    }
   ],
   "source": [
    "import sys\n",
    "class obj:\n",
    "    pass\n",
    "\n",
    "def f(x):\n",
    "    print(\"STEP3-1:\", sys.getrefcount(x) - 1)\n",
    "\n",
    "a = obj()\n",
    "b = obj()\n",
    "c = obj()\n",
    "\n",
    "\n",
    "a.b = b\n",
    "b.c = c\n",
    "a = None\n",
    "print(f\"a: {sys.getrefcount(a) - 1}, b: {sys.getrefcount(b) - 1}, c: {sys.getrefcount(c) - 1}\")\n",
    "\n",
    "print(sys.getrefcount(None))"
   ]
  },
  {
   "cell_type": "markdown",
   "id": "459e7eae-d85c-4a23-9c18-73ef3dd4c508",
   "metadata": {},
   "source": [
    "## 循環参照"
   ]
  },
  {
   "cell_type": "markdown",
   "id": "8a12bdf8-edce-4cab-b20a-7c4069c69373",
   "metadata": {
    "tags": []
   },
   "source": [
    "### 教科書どおり動かしても観測できない"
   ]
  },
  {
   "cell_type": "code",
   "execution_count": 22,
   "id": "2cdb3309-a508-48cf-bd89-22c0dc849729",
   "metadata": {},
   "outputs": [
    {
     "name": "stdout",
     "output_type": "stream",
     "text": [
      "STEP0 a: 1, b: 1, c: 1\n",
      "STEP1 a: 1, b: 2, c: 1\n",
      "STEP2 a: 1, b: 2, c: 2\n",
      "STEP3 a: 2, b: 2, c: 2\n",
      "STEP4 a: 33744, b: 33744, c: 33744\n",
      "33747\n"
     ]
    }
   ],
   "source": [
    "import sys\n",
    "class obj:\n",
    "    pass\n",
    "\n",
    "def f(x):\n",
    "    print(\"STEP3-1:\", sys.getrefcount(x) - 1)\n",
    "\n",
    "a = obj()\n",
    "b = obj()\n",
    "c = obj()\n",
    "\n",
    "print(f\"STEP0 a: {sys.getrefcount(a) - 1}, b: {sys.getrefcount(b) - 1}, c: {sys.getrefcount(c) - 1}\")\n",
    "\n",
    "a.b = b;          print(f\"STEP1 a: {sys.getrefcount(a) - 1}, b: {sys.getrefcount(b) - 1}, c: {sys.getrefcount(c) - 1}\")\n",
    "b.c = c;          print(f\"STEP2 a: {sys.getrefcount(a) - 1}, b: {sys.getrefcount(b) - 1}, c: {sys.getrefcount(c) - 1}\")\n",
    "c.a = a;          print(f\"STEP3 a: {sys.getrefcount(a) - 1}, b: {sys.getrefcount(b) - 1}, c: {sys.getrefcount(c) - 1}\")\n",
    "a = b = c = None; print(f\"STEP4 a: {sys.getrefcount(a) - 1}, b: {sys.getrefcount(b) - 1}, c: {sys.getrefcount(c) - 1}\")\n",
    "\n",
    "print(sys.getrefcount(None))"
   ]
  },
  {
   "cell_type": "markdown",
   "id": "47d588e1-3786-4ba1-82e3-d54e86e8b0e1",
   "metadata": {
    "tags": []
   },
   "source": [
    "### aのみを `a=None` とすることで 循環参照を観測してみる\n",
    "\n",
    "bの参照カウントが2となり、aの参照が無くなっていないことが分かる"
   ]
  },
  {
   "cell_type": "code",
   "execution_count": 23,
   "id": "6906a33d-0890-4460-92e2-3b6e38c4995e",
   "metadata": {},
   "outputs": [
    {
     "name": "stdout",
     "output_type": "stream",
     "text": [
      "a: 2, b: 2, c: 2\n",
      "a: 33710, b: 2, c: 2\n",
      "33713\n"
     ]
    }
   ],
   "source": [
    "import sys\n",
    "class obj:\n",
    "    pass\n",
    "\n",
    "def f(x):\n",
    "    print(\"STEP3-1:\", sys.getrefcount(x) - 1)\n",
    "\n",
    "a = obj()\n",
    "b = obj()\n",
    "c = obj()\n",
    "\n",
    "\n",
    "a.b = b\n",
    "b.c = c\n",
    "c.a = a\n",
    "\n",
    "print(f\"a: {sys.getrefcount(a) - 1}, b: {sys.getrefcount(b) - 1}, c: {sys.getrefcount(c) - 1}\")\n",
    "\n",
    "a = None\n",
    "\n",
    "print(f\"a: {sys.getrefcount(a) - 1}, b: {sys.getrefcount(b) - 1}, c: {sys.getrefcount(c) - 1}\")\n",
    "\n",
    "print(sys.getrefcount(None))"
   ]
  },
  {
   "cell_type": "markdown",
   "id": "d4066894-2fbc-40c6-ba68-99c352aa40a6",
   "metadata": {},
   "source": [
    "## weakref実験"
   ]
  },
  {
   "cell_type": "markdown",
   "id": "5f7bb509-8085-4a35-8ccc-b4c1431d285b",
   "metadata": {},
   "source": [
    "### weakrefなし"
   ]
  },
  {
   "cell_type": "code",
   "execution_count": 27,
   "id": "00f24b82-6255-45aa-a353-7f27e6fc1319",
   "metadata": {},
   "outputs": [
    {
     "name": "stdout",
     "output_type": "stream",
     "text": [
      "b: [1 2 3]\n",
      "b(after a = none): [1 2 3]\n"
     ]
    }
   ],
   "source": [
    "import sys\n",
    "import weakref\n",
    "import numpy as np\n",
    "a = np.array([1, 2, 3])\n",
    "b = a\n",
    "print(\"b:\", b)\n",
    "#print(\"b():\", b())\n",
    "a = None\n",
    "print(\"b(after a = none):\", b)"
   ]
  },
  {
   "cell_type": "markdown",
   "id": "39b02b8a-2a2f-4731-95db-477b0fef1979",
   "metadata": {},
   "source": [
    "### weakrefあり"
   ]
  },
  {
   "cell_type": "code",
   "execution_count": 28,
   "id": "b09dfc8f-6890-487e-a797-97cbabc80517",
   "metadata": {},
   "outputs": [
    {
     "name": "stdout",
     "output_type": "stream",
     "text": [
      "b: <weakref at 0x104c812c0; to 'numpy.ndarray' at 0x103ef6b10>\n",
      "b(): [1 2 3]\n",
      "b(after a = none): <weakref at 0x104c812c0; dead>\n",
      "b()(after a = none): None\n"
     ]
    }
   ],
   "source": [
    "import sys\n",
    "import weakref\n",
    "import numpy as np\n",
    "a = np.array([1, 2, 3])\n",
    "b = weakref.ref(a)\n",
    "print(\"b:\", b)\n",
    "print(\"b():\", b())\n",
    "a = None\n",
    "print(\"b(after a = none):\", b)\n",
    "print(\"b()(after a = none):\", b())"
   ]
  },
  {
   "cell_type": "markdown",
   "id": "63e9e908-70d7-4655-8bdb-e53ed31bc331",
   "metadata": {},
   "source": [
    "### 循環参照があるときのweakrefの挙動"
   ]
  },
  {
   "cell_type": "markdown",
   "id": "b9c0e187-b4e8-49e4-8962-4bb7a79d556a",
   "metadata": {},
   "source": [
    "`b`のカウントが`2`ではなくて`1`になっていることを確認できる"
   ]
  },
  {
   "cell_type": "code",
   "execution_count": 36,
   "id": "df7abf53-51ee-4487-9fbf-d1fe7334f106",
   "metadata": {},
   "outputs": [
    {
     "name": "stdout",
     "output_type": "stream",
     "text": [
      "a: 2, b: 1, c: 2\n",
      "a: 36918, b: 1, c: 2\n",
      "36921\n"
     ]
    }
   ],
   "source": [
    "import sys\n",
    "import weakref\n",
    "class obj:\n",
    "    pass\n",
    "\n",
    "def f(x):\n",
    "    print(\"STEP3-1:\", sys.getrefcount(x) - 1)\n",
    "\n",
    "a = obj()\n",
    "b = obj()\n",
    "c = obj()\n",
    "\n",
    "#a.b = b\n",
    "a.b = weakref.ref(b)\n",
    "b.c = c\n",
    "c.a = a\n",
    "\n",
    "print(f\"a: {sys.getrefcount(a) - 1}, b: {sys.getrefcount(b) - 1}, c: {sys.getrefcount(c) - 1}\")\n",
    "\n",
    "a = None\n",
    "\n",
    "print(f\"a: {sys.getrefcount(a) - 1}, b: {sys.getrefcount(b) - 1}, c: {sys.getrefcount(c) - 1}\")\n",
    "\n",
    "print(sys.getrefcount(None))"
   ]
  },
  {
   "cell_type": "code",
   "execution_count": 75,
   "id": "15b8094d-bb89-4f94-81bb-00092ceb81fc",
   "metadata": {},
   "outputs": [
    {
     "name": "stdout",
     "output_type": "stream",
     "text": [
      "f: 2, v: 1\n",
      "f: 1, v: 37436\n",
      "37439\n"
     ]
    }
   ],
   "source": [
    "import sys\n",
    "import weakref\n",
    "class obj:\n",
    "    pass\n",
    "\n",
    "def f(x):\n",
    "    print(\"STEP3-1:\", sys.getrefcount(x) - 1)\n",
    "\n",
    "f = obj()\n",
    "v = obj()\n",
    "\n",
    "f.v = weakref.ref(v)\n",
    "#f.v = v\n",
    "v.f = f\n",
    "\n",
    "print(f\"f: {sys.getrefcount(f) - 1}, v: {sys.getrefcount(v) - 1}\")\n",
    "\n",
    "v = None\n",
    "\n",
    "print(f\"f: {sys.getrefcount(f) - 1}, v: {sys.getrefcount(v) - 1}\")\n",
    "\n",
    "print(sys.getrefcount(None))"
   ]
  }
 ],
 "metadata": {
  "kernelspec": {
   "display_name": "Python 3 (ipykernel)",
   "language": "python",
   "name": "python3"
  },
  "language_info": {
   "codemirror_mode": {
    "name": "ipython",
    "version": 3
   },
   "file_extension": ".py",
   "mimetype": "text/x-python",
   "name": "python",
   "nbconvert_exporter": "python",
   "pygments_lexer": "ipython3",
   "version": "3.9.6"
  }
 },
 "nbformat": 4,
 "nbformat_minor": 5
}
