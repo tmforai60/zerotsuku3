{
 "cells": [
  {
   "cell_type": "markdown",
   "metadata": {},
   "source": [
    "# Step19 ~ 21 Variableをnumpy.arrayライクに使えるようにする"
   ]
  },
  {
   "cell_type": "markdown",
   "metadata": {},
   "source": [
    "## インスタンス変数とメソッドを作成する"
   ]
  },
  {
   "cell_type": "markdown",
   "metadata": {},
   "source": [
    "### インスタンス変数"
   ]
  },
  {
   "cell_type": "markdown",
   "metadata": {},
   "source": [
    "まずは現状のVariableクラスの使い勝手を確認しましょう。<br>\n",
    "numpy.arrayとshapeと同じ情報を取得してみます。"
   ]
  },
  {
   "cell_type": "code",
   "execution_count": null,
   "metadata": {},
   "outputs": [],
   "source": [
    "import numpy as np\n",
    "from Core import Variable\n",
    "\n",
    "x = Variable(np.array(([1.0, 2.0], [3.0, 4.0])))"
   ]
  },
  {
   "cell_type": "markdown",
   "metadata": {},
   "source": [
    "↓のセルにxに格納された配列のshapeを取り出してみましょう。"
   ]
  },
  {
   "cell_type": "code",
   "execution_count": null,
   "metadata": {},
   "outputs": [],
   "source": [
    "# 期待値：(2, 2)"
   ]
  },
  {
   "cell_type": "markdown",
   "metadata": {},
   "source": [
    "これでもshapeの情報を取得できるのですが、numpy.arrayよりひと手間多くなります。<br>\n",
    "そこでnumpy.arrayと同じように取得できるようにVariableクラスを改良しましょう。\n",
    "\n",
    "具体的には**インスタンス変数shapeを追加**します。<br>\n",
    "以下をCore.pyのVariableクラスの中に追加します。\n",
    "\n",
    "インスタンス変数を定義する場合は@propertyを付けます。"
   ]
  },
  {
   "cell_type": "code",
   "execution_count": null,
   "metadata": {},
   "outputs": [],
   "source": [
    "@property\n",
    "def shape(self):\n",
    "    return self.data.shape"
   ]
  },
  {
   "cell_type": "markdown",
   "metadata": {},
   "source": [
    "すると以下ようにアクセスできるようになります。"
   ]
  },
  {
   "cell_type": "code",
   "execution_count": null,
   "metadata": {},
   "outputs": [],
   "source": [
    "import numpy as np\n",
    "from Core import Variable\n",
    "\n",
    "x = Variable(np.array(([1.0, 2.0], [3.0, 4.0])))\n",
    "\n",
    "x.shape"
   ]
  },
  {
   "cell_type": "markdown",
   "metadata": {},
   "source": [
    "次は**dtype**を追加してみます。以下をVariableクラスに追加します。"
   ]
  },
  {
   "cell_type": "code",
   "execution_count": null,
   "metadata": {},
   "outputs": [],
   "source": [
    "@property\n",
    "def dtype(self):\n",
    "    return self.data.dtype"
   ]
  },
  {
   "cell_type": "markdown",
   "metadata": {},
   "source": [
    "以下のようにアクセスできるようになります。"
   ]
  },
  {
   "cell_type": "code",
   "execution_count": null,
   "metadata": {},
   "outputs": [],
   "source": [
    "import numpy as np\n",
    "from Core import Variable\n",
    "\n",
    "x = Variable(np.array(([1.0, 2.0], [3.0, 4.0])))\n",
    "\n",
    "x.dtype"
   ]
  },
  {
   "cell_type": "markdown",
   "metadata": {},
   "source": [
    "ここで@propertyについて説明します。<br>\n",
    "以下の変数**data**の書き方でもインスタンス変数の定義出来ました。<br>"
   ]
  },
  {
   "cell_type": "code",
   "execution_count": null,
   "metadata": {},
   "outputs": [],
   "source": [
    "class Variable:\n",
    "    def __init__(self, data):\n",
    "        if data is not None:\n",
    "            if not isinstance(data, np.ndarray):\n",
    "                raise TypeError(\"{} is not supported\".format(type(data)))\n",
    "\n",
    "        self.data = data\n",
    "        self.grad = None\n",
    "        self.creator = None\n",
    "        self.generation = 0"
   ]
  },
  {
   "cell_type": "markdown",
   "metadata": {},
   "source": [
    "両者の違いは更新の可否です。\n",
    "shapeは更新できませんが、nameは更新可能です。"
   ]
  },
  {
   "cell_type": "code",
   "execution_count": null,
   "metadata": {},
   "outputs": [],
   "source": [
    "x.shape = (1, 3)"
   ]
  },
  {
   "cell_type": "code",
   "execution_count": null,
   "metadata": {},
   "outputs": [],
   "source": [
    "x.data = np.array(1.0)\n",
    "x.data"
   ]
  },
  {
   "cell_type": "markdown",
   "metadata": {},
   "source": [
    "これは@propertyがオブジェクト指向プログラミングで言うgetterに対応しているからです。<br>\n",
    "setterが無ければgetterで取得できる値を更新させることはできません。\n",
    "\n",
    "`@プロパティ`は**デコレータ**と呼ばれます。<br>\n",
    "デコレータはメソッドやクラスに特定の機能を追加するために使用します。\n",
    "\n",
    "shapeは参照のみが可能なインスタンス変数としたいので@propertyによって実装します。<br>"
   ]
  },
  {
   "cell_type": "markdown",
   "metadata": {},
   "source": [
    "*ちなみに参照渡しなのかと思って確認してみたら一見すると矛盾する結果が返ってきて不明です。*"
   ]
  },
  {
   "cell_type": "code",
   "execution_count": null,
   "metadata": {},
   "outputs": [],
   "source": [
    "# idが違うので値渡し？\n",
    "print(id(x.shape))\n",
    "print(id(x.data.shape))\n",
    "\n",
    "# 比較するとTrueなので参照渡し？\n",
    "isEqualId = id(x.shape) == id(x.data.shape)\n",
    "print(isEqualId)"
   ]
  },
  {
   "cell_type": "markdown",
   "metadata": {},
   "source": [
    "### 組込み関数"
   ]
  },
  {
   "cell_type": "markdown",
   "metadata": {},
   "source": [
    "Pythonの組込み関数の使い勝手を変えることもできます。<br>\n",
    "そのためには組込み関数を使う際に呼び出される特殊メソッドをオーバーライドします。\n",
    "今回はprint関数の出力をいじってみましょう。\n",
    "\n",
    "まずは現在のprintを確認しましょう。"
   ]
  },
  {
   "cell_type": "code",
   "execution_count": null,
   "metadata": {},
   "outputs": [],
   "source": [
    "x = Variable(np.array(([1.0, 2.0], [3.0, 4.0])))\n",
    "print(x)"
   ]
  },
  {
   "cell_type": "markdown",
   "metadata": {},
   "source": [
    "Variableクラスのインスタンスであることが出力されます。<br>\n",
    "printもnumpy.arrayのような出力が得られるように改良しましょう。\n",
    "\n",
    "print関数を実行すると、引数に渡したオブジェクトの特殊メソッド`__repr__`が呼び出されます。<br>\n",
    "このメソッドをオーバーロードして使いやすくしましょう。\n",
    "以下をVariableクラスに追加します。"
   ]
  },
  {
   "cell_type": "code",
   "execution_count": null,
   "metadata": {},
   "outputs": [],
   "source": [
    "def __repr__(self):\n",
    "    if self.data is None:\n",
    "        return \"variable(None)\"\n",
    "    p = str(self.data).replace(\"\\n\", \"\\n\" + \" \" * 9)\n",
    "    return \"variable(\" + p + \")\""
   ]
  },
  {
   "cell_type": "code",
   "execution_count": null,
   "metadata": {},
   "outputs": [],
   "source": [
    "import numpy as np\n",
    "from Core import Variable\n",
    "\n",
    "x = Variable(np.array(([1.0, 2.0], [3.0, 4.0])))\n",
    "\n",
    "print(x)"
   ]
  },
  {
   "cell_type": "markdown",
   "metadata": {},
   "source": [
    "### Step19演習"
   ]
  },
  {
   "cell_type": "code",
   "execution_count": null,
   "metadata": {},
   "outputs": [],
   "source": [
    "\"\"\"\n",
    "以下を実装してください。\n",
    "1. ndim ← numpy.arrayの同名メソッドと同じ値を出力する。\n",
    "\n",
    "2. name ← Variableクラスのインスタンスの名前を格納する。デフォルトはNone。更新可とする。\n",
    "\n",
    "3. size ← numpy.arrayの同名メソッドと同じ値を出力する。\n",
    "\n",
    "4. len ← len関数をVariableに対して使用した場合、len関数をVariable.dataに対して使用した結果を返す。\n",
    "   ※len関数に対応する特殊メソッドは__len__\n",
    "\n",
    "\"\"\"\n",
    "\n",
    "import numpy as np\n",
    "from Core import Variable\n",
    "\n",
    "data = np.array(([1.0, 2.0], [3.0, 4.0]))\n",
    "x = Variable(data)\n",
    "\n",
    "\n",
    "print(\"# 1.ndim #########################\")\n",
    "print(f\"想定: {data.ndim}\")\n",
    "\n",
    "# print(x.ndim)\n",
    "\n",
    "\n",
    "print(\"\\n\\n# 2.name #########################\")\n",
    "name = \"x\"\n",
    "# x = Variable(np.array(([1.0, 2.0],[3.0,4.0])), name)\n",
    "print(f\"想定: {name}\")\n",
    "\n",
    "# print(x.name)\n",
    "\n",
    "\n",
    "print(\"\\n\\n# 3.size #########################\")\n",
    "print(f\"想定: {data.size}\")\n",
    "\n",
    "# print(x.size)\n",
    "\n",
    "\n",
    "print(\"\\n\\n# 4.len ##########################\")\n",
    "print(f\"想定: {len(data)}\")\n",
    "\n",
    "# print(len(x))"
   ]
  },
  {
   "cell_type": "markdown",
   "metadata": {},
   "source": [
    "## 演算子のオーバーロード"
   ]
  },
  {
   "cell_type": "markdown",
   "metadata": {},
   "source": [
    "### Variable同士の計算"
   ]
  },
  {
   "cell_type": "markdown",
   "metadata": {},
   "source": [
    "次に演算についてもnumpy.arrayライクに動かせるようにします。<br>\n",
    "まずは掛け算について考えてみましょう。\n",
    "\n",
    "掛け算レイヤの順伝播と逆伝播のイメージは以下です：<br>\n",
    "![MulClass](./fig/MulClass.png)"
   ]
  },
  {
   "cell_type": "markdown",
   "metadata": {},
   "source": [
    "これをクラスとして実装すると以下になります。\n",
    "\n",
    "Core.pyにコピーして動作確認します。"
   ]
  },
  {
   "cell_type": "code",
   "execution_count": null,
   "metadata": {},
   "outputs": [],
   "source": [
    "# 乗算\n",
    "class Mul(Function):\n",
    "    def forward(self, x0, x1):\n",
    "        y = x0 * x1\n",
    "        return y\n",
    "\n",
    "    def backward(self, gy):\n",
    "        x0, x1 = self.inputs[0].data, self.inputs[1].data\n",
    "        return gy * x1, gy * x0\n",
    "\n",
    "\n",
    "# 関数として呼び出せるようにしておく\n",
    "def mul(x0, x1):\n",
    "    return Mul()(x0, x1)"
   ]
  },
  {
   "cell_type": "markdown",
   "metadata": {},
   "source": [
    "まずは動作確認"
   ]
  },
  {
   "cell_type": "code",
   "execution_count": null,
   "metadata": {},
   "outputs": [],
   "source": [
    "from Core import mul\n",
    "\n",
    "x = Variable(np.array(2.0))\n",
    "y = Variable(np.array(3.0))\n",
    "\n",
    "z = mul(x, y)\n",
    "print(z)\n",
    "z.backward()\n",
    "print(x.grad, y.grad)"
   ]
  },
  {
   "cell_type": "markdown",
   "metadata": {},
   "source": [
    "この関数でVariableの*演算子をオーバーロードします。\n",
    "以下をVariable内にコピーします。"
   ]
  },
  {
   "cell_type": "code",
   "execution_count": null,
   "metadata": {},
   "outputs": [],
   "source": [
    "# *演算子のオーバーロード\n",
    "def __mul__(self, other):\n",
    "    return mul(self, other)"
   ]
  },
  {
   "cell_type": "markdown",
   "metadata": {},
   "source": [
    "ちなみにmulメソッドには以下のように入力が渡されます。\n",
    "\n",
    "![mul](./fig/mul.png)"
   ]
  },
  {
   "cell_type": "markdown",
   "metadata": {},
   "source": [
    "先ほどmulを直接呼び出したところを*演算子に書き換えて実行してみましょう。"
   ]
  },
  {
   "cell_type": "code",
   "execution_count": null,
   "metadata": {},
   "outputs": [],
   "source": [
    "import numpy as np\n",
    "from Core import Variable, mul\n",
    "\n",
    "x = Variable(np.array(2.0))\n",
    "y = Variable(np.array(3.0))\n",
    "\n",
    "z = x * y\n",
    "z = mul(x, y)\n",
    "print(z)\n",
    "z.backward()\n",
    "print(x.grad, y.grad)"
   ]
  },
  {
   "cell_type": "markdown",
   "metadata": {},
   "source": [
    "また、Pythonではオブジェクトを代入するが出来るので以下のようにオーバーロードすることもできます。"
   ]
  },
  {
   "cell_type": "code",
   "execution_count": null,
   "metadata": {},
   "outputs": [],
   "source": [
    "Variable.__mul__ = mul"
   ]
  },
  {
   "cell_type": "markdown",
   "metadata": {},
   "source": [
    "これで掛け算を自然な書き方で実装できるようになりました。"
   ]
  },
  {
   "cell_type": "markdown",
   "metadata": {},
   "source": [
    "### VariableとNumpyのデータ型の計算"
   ]
  },
  {
   "cell_type": "markdown",
   "metadata": {},
   "source": [
    "次はVariableとNumpyのデータ型との計算も自然な書き方で実装できるようにしましょう。\n",
    "\n",
    "現状ではVariable同士でなければうまくいきません。"
   ]
  },
  {
   "cell_type": "code",
   "execution_count": null,
   "metadata": {},
   "outputs": [],
   "source": [
    "x = Variable(np.array(2.0))\n",
    "y = Variable(np.array(3.0))\n",
    "\n",
    "# Variable同士\n",
    "print(x * y)\n",
    "\n",
    "# Variableとnumpy.array\n",
    "print(x * np.array(3.0))"
   ]
  },
  {
   "cell_type": "markdown",
   "metadata": {},
   "source": [
    "ということは（numpy.arrayなどの）Variable以外のデータ型が入力されたときは裏側でVariableに変換すればうまく計算できそうです。\n",
    "\n",
    "この方針でVariableを改良します。"
   ]
  },
  {
   "cell_type": "markdown",
   "metadata": {},
   "source": [
    "まずはnumpy.arrayに対応させます。\n",
    "Variable型に変換する処理は以下の関数を使います。"
   ]
  },
  {
   "cell_type": "code",
   "execution_count": null,
   "metadata": {},
   "outputs": [],
   "source": [
    "def as_variable(obj):\n",
    "    if isinstance(obj, Variable):\n",
    "        return obj\n",
    "    return Variable(obj)"
   ]
  },
  {
   "cell_type": "markdown",
   "metadata": {},
   "source": [
    "これをCore.pyにコピーして動作確認します。"
   ]
  },
  {
   "cell_type": "code",
   "execution_count": null,
   "metadata": {},
   "outputs": [],
   "source": [
    "import numpy as np\n",
    "from Core import Variable, as_variable\n",
    "\n",
    "x = Variable(np.array(2.0))\n",
    "print(as_variable(x))\n",
    "\n",
    "y = np.array(2.0)\n",
    "print(as_variable(y))"
   ]
  },
  {
   "cell_type": "markdown",
   "metadata": {},
   "source": [
    "Variable型に変換出来ていることが分かります。\n",
    "\n",
    "この関数をFunctionに組み込みましょう。<br>\n",
    "__call__メソッドの冒頭で入力をVariable型に統一するようにします。"
   ]
  },
  {
   "cell_type": "code",
   "execution_count": null,
   "metadata": {},
   "outputs": [],
   "source": [
    "def __call__(self, *inputs):\n",
    "    inputs = [as_variable(x) for x in inputs]  # ←これを追加\n",
    "\n",
    "    xs = [x.data for x in inputs]\n",
    "    ys = self.forward(*xs)"
   ]
  },
  {
   "cell_type": "markdown",
   "metadata": {},
   "source": [
    "ではnumpy.arrayも計算できるようになったことを確認しましょう。<br>\n",
    "さきほどエラーになった計算をもう一度実行します。"
   ]
  },
  {
   "cell_type": "code",
   "execution_count": null,
   "metadata": {},
   "outputs": [],
   "source": [
    "import numpy as np\n",
    "from Core import Variable\n",
    "\n",
    "x = Variable(np.array(2.0))\n",
    "y = Variable(np.array(3.0))\n",
    "\n",
    "# Variable同士\n",
    "print(x * y)\n",
    "\n",
    "# Variableとnumpy.array\n",
    "print(x * np.array(3.0))"
   ]
  },
  {
   "cell_type": "markdown",
   "metadata": {},
   "source": [
    "これでnumpy.arrayとは計算できるようになりました。<br>"
   ]
  },
  {
   "cell_type": "markdown",
   "metadata": {},
   "source": [
    "### Variableとfloatやintのデータ型の計算"
   ]
  },
  {
   "cell_type": "markdown",
   "metadata": {},
   "source": [
    "次はintやfloatと計算できるようにします。\n",
    "\n",
    "現状ではどうなるのか確認しましょう。"
   ]
  },
  {
   "cell_type": "code",
   "execution_count": null,
   "metadata": {},
   "outputs": [],
   "source": [
    "import numpy as np\n",
    "from Core import Variable\n",
    "\n",
    "x = Variable(np.array(2.0))\n",
    "y = 3.0\n",
    "\n",
    "# Variableとfloat\n",
    "print(x * y)"
   ]
  },
  {
   "cell_type": "markdown",
   "metadata": {},
   "source": [
    "これを処理できるように実装を変更します。<br>\n",
    "実は既に作成した関数を使って対応することが出来ます。\n",
    "\n",
    "numpy.arrayまでは対応できたので、floatがnumpy.arrayに変換できれば計算できるようになります。<br>\n",
    "そこでas_array関数を使いnumpy.arrayに変換します。<br>\n",
    "mulの入力にas_array関数を適用してからMulクラスに渡すようにします。"
   ]
  },
  {
   "cell_type": "code",
   "execution_count": null,
   "metadata": {},
   "outputs": [],
   "source": [
    "def mul(x0, x1):\n",
    "    x1 = as_array(x1)\n",
    "    return Mul()(x0, x1)"
   ]
  },
  {
   "cell_type": "markdown",
   "metadata": {},
   "source": [
    "計算できるようになったことを確認します。"
   ]
  },
  {
   "cell_type": "code",
   "execution_count": null,
   "metadata": {},
   "outputs": [],
   "source": [
    "import numpy as np\n",
    "from Core import Variable\n",
    "\n",
    "x = Variable(np.array(2.0))\n",
    "y = 3.0\n",
    "\n",
    "# Variableとfloat\n",
    "print(x * y)"
   ]
  },
  {
   "cell_type": "markdown",
   "metadata": {},
   "source": [
    "Variableと他の型が自然に計算できるようになりました。\n",
    "\n",
    "が、実はまだ不完全です。<br>\n",
    "問題は掛け算の左項と右項を入れ替えたときに起こります。\n"
   ]
  },
  {
   "cell_type": "code",
   "execution_count": null,
   "metadata": {},
   "outputs": [],
   "source": [
    "# 左項と右項を入れ替えた場合\n",
    "print(y * x)"
   ]
  },
  {
   "cell_type": "markdown",
   "metadata": {},
   "source": [
    "floatとVariableが*演算子をサポートしていないというエラーになります。\n",
    "\n",
    "なぜこのようなエラーになるのか順番に見ていきます。"
   ]
  },
  {
   "cell_type": "markdown",
   "metadata": {},
   "source": [
    "この計算を処理する際、以下の流れで処理しようとします。\n",
    "\n",
    "(1). まず*演算子の左項の__mul__メソッドが呼ばれます。<br>\n",
    "が、floatの__mul__メソッドを見ると実装がありません。"
   ]
  },
  {
   "cell_type": "code",
   "execution_count": null,
   "metadata": {},
   "outputs": [],
   "source": [
    "# floatの__mul__メソッド\n",
    "def __mul__(self, __x: float) -> float:\n",
    "    ...  # ...は任意処理を表現する特殊な定数"
   ]
  },
  {
   "cell_type": "markdown",
   "metadata": {},
   "source": [
    "(2). 次にVariableのメソッドが呼ばれます。<br>\n",
    "右項にある場合、__mul__ではなく__rmul__メソッドが呼ばれます。<br>\n",
    "このメソッドはVariableに未実装なので結果として掛け算を処理できずエラーになっているのです。\n",
    "\n",
    "以上の考察からVariableに__rmul__メソッドを実装すればうまくいきそうです。<br>\n",
    "※floatの__mul__を実装することもできるでしょうが、Variableクラスの掛け算を改良しているのでVariableの__rmul__を実装する方が無難です。<br>\n",
    "そもそも組込み型の実装を変えることは影響範囲が膨大になるので避けるべきかと思います。\n",
    "\n",
    "__rmul__は自身（self）が右項、相手（other）が左項です。<br>\n",
    "![rmul](./fig/rmul.png)"
   ]
  },
  {
   "cell_type": "markdown",
   "metadata": {},
   "source": [
    "掛け算は交換法則が成り立つので左項と右項の区別を付けなくても問題ありません。<br>\n",
    "そこでmulを__rmul__にそのまま使用します。\n",
    "\n",
    "以下をCore.py内のVariableクラスの定義以降にコピーしましょう。"
   ]
  },
  {
   "cell_type": "code",
   "execution_count": null,
   "metadata": {},
   "outputs": [],
   "source": [
    "Variable.__rmul__ = mul"
   ]
  },
  {
   "cell_type": "markdown",
   "metadata": {},
   "source": [
    "では不具合の解消を確認してみましょう。"
   ]
  },
  {
   "cell_type": "code",
   "execution_count": null,
   "metadata": {},
   "outputs": [],
   "source": [
    "import numpy as np\n",
    "from Core import Variable\n",
    "\n",
    "x = Variable(np.array(2.0))\n",
    "y = 3.0\n",
    "\n",
    "print(y * x)"
   ]
  },
  {
   "cell_type": "markdown",
   "metadata": {},
   "source": [
    "最後に左項がnumpy.arrayのときの問題点を解消してこのステップを終わりにします。\n",
    "\n",
    "現状では掛け算の順序によって計算結果が異なります。"
   ]
  },
  {
   "cell_type": "code",
   "execution_count": null,
   "metadata": {},
   "outputs": [],
   "source": [
    "x = Variable(np.array([2.0]))\n",
    "y = np.array([3.0])"
   ]
  },
  {
   "cell_type": "code",
   "execution_count": null,
   "metadata": {},
   "outputs": [],
   "source": [
    "x * y"
   ]
  },
  {
   "cell_type": "code",
   "execution_count": null,
   "metadata": {},
   "outputs": [],
   "source": [
    "y * x"
   ]
  },
  {
   "cell_type": "markdown",
   "metadata": {},
   "source": [
    "これは呼び出される演算子の優先度が原因です。<br>\n",
    "先述の通り*演算子の処理では先に左項の__mul__メソッドが呼ばれるため、どちらを左項に置くかで結果が異なります。<br>\n",
    "\n",
    "これを解消するためにはVariableの優先度を上げてnumpy.arrayの__mul__ではなくVariableの__rmul__が呼ばれるようにします。<br>\n",
    "優先度は__array_priority__を指定します。デフォルトは0.0なので整数値に指定すればVariableのメソッドを優先するようになります。\n",
    "\n",
    "以下をVariableクラス内に追加しましょう。"
   ]
  },
  {
   "cell_type": "code",
   "execution_count": null,
   "metadata": {},
   "outputs": [],
   "source": [
    "__array_priority__ = 1.0"
   ]
  },
  {
   "cell_type": "code",
   "execution_count": null,
   "metadata": {},
   "outputs": [],
   "source": [
    "import numpy as np\n",
    "from Core import Variable\n",
    "\n",
    "x = Variable(np.array([2.0]))\n",
    "y = np.array([3.0])\n",
    "y * x"
   ]
  },
  {
   "cell_type": "markdown",
   "metadata": {},
   "source": [
    "### Step20・21演習"
   ]
  },
  {
   "cell_type": "code",
   "execution_count": null,
   "metadata": {},
   "outputs": [],
   "source": [
    "\"\"\"\n",
    "演習1\n",
    "\n",
    "以下の計算ができるようにしてください。\n",
    "* 以前のステップで作成した加算用のクラスを使用して構いません。\n",
    "* +演算子の特殊メソッドは__add__です。\n",
    "\"\"\"\n",
    "import numpy as np\n",
    "from Core import Variable\n",
    "\n",
    "# a = Variable(np.array(2.0))\n",
    "# b = Variable(np.array(3.0))\n",
    "# c = np.array(4.0)\n",
    "\n",
    "# d = c + (a + b)\n",
    "# print(d)  # 期待値:Variable(9.0)\n",
    "\n",
    "\"\"\"\n",
    "演習2\n",
    "\n",
    "mul関数では2つ目の引数x1にのみas_array関数を適用しています。\n",
    "以下の計算では左項がfloat型なのでエラーになりそうですが、問題なく実行されます。\n",
    "1つ目の引数x0にas_array関数を適用しなくてよい理由を説明してください。\n",
    "\n",
    "# mul関数の実装 #################\n",
    "def mul(x0, x1):\n",
    "    x1 = as_array(x1)\n",
    "    return Mul()(x0, x1)\n",
    "\"\"\"\n",
    "\n",
    "x = Variable(np.array(2.0))\n",
    "y = 3.0\n",
    "\n",
    "print(y * x)"
   ]
  }
 ],
 "metadata": {
  "kernelspec": {
   "display_name": "Python 3.7.6 ('base')",
   "language": "python",
   "name": "python3"
  },
  "language_info": {
   "codemirror_mode": {
    "name": "ipython",
    "version": 3
   },
   "file_extension": ".py",
   "mimetype": "text/x-python",
   "name": "python",
   "nbconvert_exporter": "python",
   "pygments_lexer": "ipython3",
   "version": "3.7.6"
  },
  "orig_nbformat": 4,
  "vscode": {
   "interpreter": {
    "hash": "86c3969cb8e4d6528009ba441e3b227910147fcb8261d5b261fbcbb462fd60ef"
   }
  }
 },
 "nbformat": 4,
 "nbformat_minor": 2
}
