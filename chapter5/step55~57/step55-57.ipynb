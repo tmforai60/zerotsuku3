{
 "cells": [
  {
   "cell_type": "markdown",
   "metadata": {},
   "source": [
    "# ステップ55 CNNのメカニズム(1)\n",
    "ここでは実装することを目的に画像で用いられるCNNについてメカニズムを解説\\\n",
    "「なぜCNNは画像を処理できるのか」「なぜ特徴量の抽出ができるのか」という理論的なところの解説はない"
   ]
  },
  {
   "cell_type": "markdown",
   "metadata": {},
   "source": [
    "## 55.1 CNNのネットワーク構造\n",
    "これまでのDeepLearning同様、レイヤの積み重ねからなる\\\n",
    "異なる点は、畳み込み層とプーリング層が登場する点のみ\\\n",
    "図55-1のように上記の層を含むネットワークをCNNという"
   ]
  },
  {
   "cell_type": "markdown",
   "metadata": {},
   "source": [
    "## 55.2 畳み込み演算\n",
    "CNNで使われる畳み込み層の処理である「畳み込み演算」を確認\\\n",
    "図55-3をみて計算方法について思い出そう\n",
    "\n",
    "ちなみに、下記2点確認\n",
    "- フィルタとカーネルは同じ意味で使われる\n",
    "- カーネルが縦横の2方向に移動する畳み込み演算は「2次元の畳み込み層」、1方向は1次元、3方向は3次元と考える"
   ]
  },
  {
   "cell_type": "markdown",
   "metadata": {},
   "source": [
    "畳み込み層にもバイアスが存在→図55-4\\\n",
    "バイアスの値は1つでその数値カーネルのすべての値に計算される"
   ]
  },
  {
   "cell_type": "markdown",
   "metadata": {},
   "source": [
    "## 55.3 パディング\n",
    "図55-5のように画像データの周囲に固定のデータを埋める処理のこと\\\n",
    "使用する主な理由は出力サイズの調整\\\n",
    "出力サイズを小さくしていく畳み込み層ではある一定のサイズを超えて小さいデータは計算できなくなってしまうので\\\n",
    "入力データを大きくして、出力サイズを保つ目的がある"
   ]
  },
  {
   "cell_type": "markdown",
   "metadata": {},
   "source": [
    "## 55.4 ストライド\n",
    "カーネルの移動間隔(マス数)→図55-6\\\n",
    "縦横でストライドが異なることもある(正方形でない画像などに適用)"
   ]
  },
  {
   "cell_type": "markdown",
   "metadata": {},
   "source": [
    "## 55.5 出力サイズの計算方法"
   ]
  },
  {
   "cell_type": "code",
   "execution_count": null,
   "metadata": {},
   "outputs": [],
   "source": [
    "def get_conv_outsize(input_size, kernel_size, stride, pad):\n",
    "    return (input_size + pad * 2 - kernel_size) // stride + 1"
   ]
  },
  {
   "cell_type": "code",
   "execution_count": null,
   "metadata": {},
   "outputs": [],
   "source": [
    "H, W = 4, 4\n",
    "KH, KW = 3, 3\n",
    "SH, SW = 1, 1\n",
    "PH, PW = 1, 1"
   ]
  },
  {
   "cell_type": "code",
   "execution_count": null,
   "metadata": {},
   "outputs": [],
   "source": [
    "OH = get_conv_outsize(H, KH, SH, PH)\n",
    "OW = get_conv_outsize(W, KW, SW, PW)\n",
    "print(OH, OW)"
   ]
  },
  {
   "cell_type": "markdown",
   "metadata": {},
   "source": [
    "# ステップ56 CNNのメカニズム(2)\n",
    "ここでは縦横に加えて、カラー画像などで登場するチャンネルを持つ3次元データについて扱う\\\n",
    "その後にプーリングについて解説"
   ]
  },
  {
   "cell_type": "markdown",
   "metadata": {},
   "source": [
    "## 56.1 3階テンソル\n",
    "やることは2次元データの畳み込み層と同じ→図56-1\\\n",
    "◆注意点◆\n",
    "- 図のカーネルは3枚あるということではなく、3次元のカーネルであるということ\n",
    "- カーネルの縦横のサイズは自由だがチャンネル数は入力データに合わせる必要がある\n",
    "- データは3次元でもカーネルの移動方向が縦横のみなので2次元の畳み込みとして扱う→出力のチャンネルは1である"
   ]
  },
  {
   "cell_type": "code",
   "execution_count": null,
   "metadata": {},
   "outputs": [],
   "source": [
    "import matplotlib.pyplot as plt\n",
    "%matplotlib inline\n",
    "plt.figure(figsize=(10, 5))\n",
    "img = plt.imread('56-1.jpg')\n",
    "plt.imshow(img)\n",
    "plt.gca().axes.xaxis.set_visible(False)\n",
    "plt.gca().axes.yaxis.set_visible(False)\n",
    "plt.show()"
   ]
  },
  {
   "cell_type": "markdown",
   "metadata": {},
   "source": [
    "## 56.2 ブロックで考える\n",
    "出力(特徴マップ)のチャンネルを複数持たせたいときはカーネルの種類の情報を増やしshapeを(OC, C, KH, KW)とする→図56-3\\\n",
    "何層目にあるかにもよるが利用時はOCが数百であるこも稀ではない\\\n",
    "バイアスが存在→図56-4\\\n",
    "バイアスはチャンネルごとに1つ数値を持ち、チャンネルごとに計算する"
   ]
  },
  {
   "cell_type": "markdown",
   "metadata": {},
   "source": [
    "## 56.3 ミニバッチ処理\n",
    "ここにさらにミニバッチの情報を追加\\\n",
    "いくつかの入力データをまとめて学習する→図56-5\\\n",
    "何枚の画像があるかという情報が追加されるだけで、畳み込み層自体の演算は変わらない\n"
   ]
  },
  {
   "cell_type": "code",
   "execution_count": null,
   "metadata": {},
   "outputs": [],
   "source": [
    "plt.figure(figsize=(10, 5))\n",
    "img = plt.imread('56-5.jpg')\n",
    "plt.imshow(img)\n",
    "plt.gca().axes.xaxis.set_visible(False)\n",
    "plt.gca().axes.yaxis.set_visible(False)\n",
    "plt.show()"
   ]
  },
  {
   "cell_type": "markdown",
   "metadata": {},
   "source": [
    "## 56.4 プーリング層\n",
    "縦・横方向のサイズを小さくする処理→計算負荷考慮、過学習抑制\n",
    "- マックスプーリング(画像において一般的なマックスプーリングを本書では使用)\n",
    "- アベレージプーリング\n",
    "カーネルサイズ(プーリングの演算を行う範囲)とストライドを決める(一般的には両者は同じサイズ)\n",
    "\n",
    "計算方法については図56-6\n",
    "\n",
    "◆特徴◆\n",
    "- 学習するパラメータがない→対象領域から最大値をとるだけだから\n",
    "- チャンネルごとに独立して計算するのでチャンネル数は変化しない→図56−7\n",
    "- 小さなズレに対しては同じような値を返すので、小さすぎる変化は同じものとして見ることができる(過学習の抑制)→図56-8"
   ]
  },
  {
   "cell_type": "markdown",
   "metadata": {},
   "source": [
    "# ステップ57 Comv2d関数とpooling関数\n",
    "ステップ55、ステップ56を実装していく\\\n",
    "カーネルをずらしながら計算するので、通常であればfor文を重ねて使うコードになるが、\\\n",
    "時間を使うべきはそこじゃないのでim2colという関数を利用しCNNを実装する"
   ]
  },
  {
   "cell_type": "markdown",
   "metadata": {},
   "source": [
    "## 57.1 im2colによる展開\n",
    "im2colの処理について見てみる→図57−1\\\n",
    "図ではカーネルを適用するサイズの画像データを取り出し、取り出した画像データ(多次元)を数値の並び(1次元)にリシェイプしている\\\n",
    "Dezeroに実装するim2colはリシェイプするかどうかを引数(to_matrix)で設定できるようにする\\\n",
    "畳み込み層、プーリング層の計算はこの手法が用いられるので処理流れについて理解が重要"
   ]
  },
  {
   "cell_type": "code",
   "execution_count": null,
   "metadata": {},
   "outputs": [],
   "source": [
    "plt.figure(figsize=(10, 5))\n",
    "img = plt.imread('57-1.jpg')\n",
    "plt.imshow(img)\n",
    "plt.gca().axes.xaxis.set_visible(False)\n",
    "plt.gca().axes.yaxis.set_visible(False)\n",
    "plt.show()"
   ]
  },
  {
   "cell_type": "markdown",
   "metadata": {},
   "source": [
    "続いて、カーネルも数値のならびにリシェイプし、行列の積を計算→図57−2\\\n",
    "入力データをim2colしたもの：(OH✕OW, C✕KH✕KW)\\\n",
    "カーネルを1列に展開したもの：(C✕KH✕KW, OC)\\\n",
    "出力データ：(OH✕OW, OC)→チャンネルごとに幅と高さが1列に展開された状態で出力\\\n",
    "あとはリシェイプで演算完了"
   ]
  },
  {
   "cell_type": "code",
   "execution_count": null,
   "metadata": {},
   "outputs": [],
   "source": [
    "plt.figure(figsize=(10, 5))\n",
    "img = plt.imread('57-2.jpg')\n",
    "plt.imshow(img)\n",
    "plt.gca().axes.xaxis.set_visible(False)\n",
    "plt.gca().axes.yaxis.set_visible(False)\n",
    "plt.show()"
   ]
  },
  {
   "cell_type": "markdown",
   "metadata": {},
   "source": [
    "## 57.2 conv2d関数の実装\n",
    "まずはim2colの処理内容を把握するがコードの中身は確認しない(見る場合はdezero/function_conv.py)\\\n",
    "im2col使ってみる"
   ]
  },
  {
   "cell_type": "code",
   "execution_count": null,
   "metadata": {},
   "outputs": [],
   "source": [
    "import numpy as np\n",
    "import dezero.functions as F \n",
    "\n",
    "x1 = np.random.rand(1, 3, 7, 7) #7✕7のカラー画像データが1枚\n",
    "col1 = F.im2col(x1, kernel_size=5, stride=1, pad=0, to_matrix=True)\n",
    "print(col1.shape)\n",
    "\n",
    "x2 = np.random.rand(10, 3, 7, 7) #7✕7のカラー画像データが10枚\n",
    "kernel_size = (5, 5)\n",
    "stride = (1, 1)\n",
    "pad = (0, 0)\n",
    "col2 = F.im2col(x2, kernel_size, stride, pad, to_matrix=True)\n",
    "print(col2.shape)"
   ]
  },
  {
   "cell_type": "markdown",
   "metadata": {},
   "source": [
    "kernel_sizeが5なので、入力値(x1)を(3, 5, 5)のサイズに切り分けていくと9つのデータに分けられる\\\n",
    "3✕5✕5=75なので75個の数値の並びが9行できることになる\\\n",
    "いま、9行で1枚の画像なので、それが10枚あれば90行となる"
   ]
  },
  {
   "cell_type": "markdown",
   "metadata": {},
   "source": [
    "#### pair関数について\n",
    "intでもtupleでも対応できるようにする関数を実装"
   ]
  },
  {
   "cell_type": "markdown",
   "metadata": {},
   "source": [
    "dezero/utils.py\n",
    "```python\n",
    "def pair(x):\n",
    "    if isinstance(x, int):\n",
    "        return (x, x)\n",
    "    elif isinstance(x, tuple):\n",
    "        assert len(x) == 2\n",
    "        return x\n",
    "    else:\n",
    "        raise ValueError"
   ]
  },
  {
   "cell_type": "code",
   "execution_count": null,
   "metadata": {},
   "outputs": [],
   "source": [
    "from dezero.utils import pair\n",
    "print(pair(1))\n",
    "print(pair((1, 2)))\n"
   ]
  },
  {
   "cell_type": "code",
   "execution_count": null,
   "metadata": {},
   "outputs": [],
   "source": [
    "# error\n",
    "\n",
    "# print(pair((1,)))\n",
    "# print(pair([1, 2]))\n",
    "# print(pair((1, 2, 3)))"
   ]
  },
  {
   "cell_type": "markdown",
   "metadata": {},
   "source": [
    "#### 畳み込みの計算を行う関数の実装"
   ]
  },
  {
   "cell_type": "markdown",
   "metadata": {},
   "source": [
    "dezero/functions_conv.py\n",
    "```python\n",
    "from dezero.utils import pair, get_conv_outsize\n",
    "\n",
    "def conv2d_simple(x, W, b=None, stride=1, pad=0):\n",
    "    x, W = as_variable(x), as_variable(W) #variable型に変換\n",
    "\n",
    "    Weight = W #重み(Weight)と幅(Width)がかぶるため\n",
    "    N, C, H, W = x.shape\n",
    "    OC, C, KH, KW = Weight.shape #OC:特徴マップを何枚出力するか(何種類のカーネルを使うか)\n",
    "    SH, SW = pair(stride)\n",
    "    PH, PW = pair(pad)\n",
    "    OH = get_conv_outsize(H, KH, SH, PH) #高さについて出力サイズを計算\n",
    "    OW = get_conv_outsize(W, KW, SW, PW) #幅について出力サイズを計算\n",
    "\n",
    "    col = im2col(x, (KH, KW), stride, pad, to_matrix=True) #行方向に特徴マップの枚数、列方向に特徴(数値)の羅列 \n",
    "    Weight = Weight.reshape(OC, -1).transpose() #行方向にカーネルの数値、列方向にOC\n",
    "    t = linear(col, Weight, b)\n",
    "    y = t.reshape(N, OH, OW, OC).transpose(0, 3, 1, 2) #transposeは図57-3のように並び替え\n",
    "    return y"
   ]
  },
  {
   "cell_type": "code",
   "execution_count": null,
   "metadata": {},
   "outputs": [],
   "source": [
    "from dezero import Variable\n",
    "\n",
    "N, C, H, W = 1, 5, 15, 15\n",
    "OC, (KH, KW) = 8, (3, 3)\n",
    "x = Variable(np.random.randn(N, C, H, W))\n",
    "W = np.random.randn(OC, C, KH, KW)\n",
    "y = F.conv2d_simple(x, W, b=None, stride=1, pad=1)\n",
    "y.backward()\n",
    "print(y.shape)\n",
    "print(x.grad.shape)"
   ]
  },
  {
   "cell_type": "markdown",
   "metadata": {},
   "source": [
    "ちなみにfunction_conv.pyではconv2d_simpleではなく\\\n",
    "Functionクラスを継承してConv2dクラスとして実装されている"
   ]
  },
  {
   "cell_type": "markdown",
   "metadata": {},
   "source": [
    "参考までに\\\n",
    "dezero/functions_conv.py\n",
    "```python\n",
    "class Conv2d(Function):\n",
    "    def __init__(self, stride=1, pad=0):\n",
    "        super().__init__()\n",
    "        self.stride = pair(stride)\n",
    "        self.pad = pair(pad)\n",
    "\n",
    "    def forward(self, x, W, b):\n",
    "        xp = cuda.get_array_module(x)\n",
    "\n",
    "        KH, KW = W.shape[2:]\n",
    "        col = im2col_array(x, (KH, KW), self.stride, self.pad, to_matrix=False)\n",
    "\n",
    "        y = xp.tensordot(col, W, ((1, 2, 3), (1, 2, 3)))\n",
    "        if b is not None:\n",
    "            y += b\n",
    "        y = xp.rollaxis(y, 3, 1)\n",
    "        # y = np.transpose(y, (0, 3, 1, 2))\n",
    "        return y\n",
    "\n",
    "    def backward(self, gy):\n",
    "        x, W, b = self.inputs\n",
    "        # ==== gx ====\n",
    "        gx = deconv2d(gy, W, b=None, stride=self.stride, pad=self.pad,\n",
    "                      outsize=(x.shape[2], x.shape[3]))\n",
    "        # ==== gW ====\n",
    "        gW = Conv2DGradW(self)(x, gy)\n",
    "        # ==== gb ====\n",
    "        gb = None\n",
    "        if b.data is not None:\n",
    "            gb = gy.sum(axis=(0, 2, 3))\n",
    "        return gx, gW, gb\n",
    "\n",
    "\n",
    "def conv2d(x, W, b=None, stride=1, pad=0):\n",
    "    return Conv2d(stride, pad)(x, W, b)\n",
    "\n",
    "\n",
    "class Deconv2d(Function):\n",
    "    def __init__(self, stride=1, pad=0, outsize=None):\n",
    "        super().__init__()\n",
    "        self.stride = pair(stride)\n",
    "        self.pad = pair(pad)\n",
    "        self.outsize = outsize\n",
    "\n",
    "    def forward(self, x, W, b):\n",
    "        xp = cuda.get_array_module(x)\n",
    "\n",
    "        Weight = W\n",
    "        SH, SW = self.stride\n",
    "        PH, PW = self.pad\n",
    "        C, OC, KH, KW = Weight.shape\n",
    "        N, C, H, W = x.shape\n",
    "        if self.outsize is None:\n",
    "            out_h = get_deconv_outsize(H, KH, SH, PH)\n",
    "            out_w = get_deconv_outsize(W, KW, SW, PW)\n",
    "        else:\n",
    "            out_h, out_w = pair(self.outsize)\n",
    "        img_shape = (N, OC, out_h, out_w)\n",
    "\n",
    "        gcol = xp.tensordot(Weight, x, (0, 1))\n",
    "        gcol = xp.rollaxis(gcol, 3)\n",
    "        y = col2im_array(gcol, img_shape, (KH, KW), self.stride, self.pad,\n",
    "                         to_matrix=False)\n",
    "        # b, k, h, w\n",
    "        if b is not None:\n",
    "            self.no_bias = True\n",
    "            y += b.reshape((1, b.size, 1, 1))\n",
    "        return y\n",
    "\n",
    "    def backward(self, gy):\n",
    "        x, W, b = self.inputs\n",
    "\n",
    "        # ==== gx ====\n",
    "        gx = conv2d(gy, W, b=None, stride=self.stride, pad=self.pad)\n",
    "        # ==== gW ====\n",
    "        f = Conv2DGradW(self)\n",
    "        gW = f(gy, x)\n",
    "        # ==== gb ====\n",
    "        gb = None\n",
    "        if b.data is not None:\n",
    "            gb = gy.sum(axis=(0, 2, 3))\n",
    "        return gx, gW, gb\n",
    "\n",
    "\n",
    "def deconv2d(x, W, b=None, stride=1, pad=0, outsize=None):\n",
    "    return Deconv2d(stride, pad, outsize)(x, W, b)\n",
    "\n",
    "\n",
    "class Conv2DGradW(Function):\n",
    "    def __init__(self, conv2d):\n",
    "        W = conv2d.inputs[1]\n",
    "        kh, kw = W.shape[2:]\n",
    "        self.kernel_size = (kh, kw)\n",
    "        self.stride = conv2d.stride\n",
    "        self.pad = conv2d.pad\n",
    "\n",
    "    def forward(self, x, gy):\n",
    "        xp = cuda.get_array_module(x)\n",
    "\n",
    "        col = im2col_array(x, self.kernel_size, self.stride, self.pad,\n",
    "                           to_matrix=False)\n",
    "        gW = xp.tensordot(gy, col, ((0, 2, 3), (0, 4, 5)))\n",
    "        return gW\n",
    "\n",
    "    def backward(self, gys):\n",
    "        x, gy = self.inputs\n",
    "        gW, = self.outputs\n",
    "\n",
    "        xh, xw = x.shape[2:]\n",
    "        gx = deconv2d(gy, gW, stride=self.stride, pad=self.pad,\n",
    "                      outsize=(xh, xw))\n",
    "        ggy = conv2d(x, gW, stride=self.stride, pad=self.pad)\n",
    "        return gx, ggy"
   ]
  },
  {
   "cell_type": "markdown",
   "metadata": {},
   "source": [
    "## 57.3 Conv2dレイヤの実装\n",
    "これまでのconvの処理をLayerとして実装\\\n",
    "注意すべきはin_channelがNoneかどうか\\\n",
    "Noneでない場合は、入力されたin_channelに従って重みのサイズを決定し初期化\\\n",
    "Noneの場合は、forward処理で入力値から自動で取得する"
   ]
  },
  {
   "cell_type": "markdown",
   "metadata": {},
   "source": [
    "```python\n",
    "class Conv2d(Layer):\n",
    "    def __init__(self, out_channels, kernel_size, stride=1,\n",
    "                 pad=0, nobias=False, dtype=np.float32, in_channels=None):\n",
    "     \n",
    "        super().__init__()\n",
    "        self.in_channels = in_channels\n",
    "        self.out_channels = out_channels\n",
    "        self.kernel_size = kernel_size\n",
    "        self.stride = stride\n",
    "        self.pad = pad\n",
    "        self.dtype = dtype\n",
    "\n",
    "        self.W = Parameter(None, name='W')\n",
    "        if in_channels is not None:\n",
    "            self._init_W()\n",
    "\n",
    "        if nobias:\n",
    "            self.b = None\n",
    "        else:\n",
    "            self.b = Parameter(np.zeros(out_channels, dtype=dtype), name='b')\n",
    "\n",
    "    def _init_W(self, xp=np):\n",
    "        C, OC = self.in_channels, self.out_channels\n",
    "        KH, KW = pair(self.kernel_size)\n",
    "        scale = np.sqrt(1 / (C * KH * KW))\n",
    "        W_data = xp.random.randn(OC, C, KH, KW).astype(self.dtype) * scale\n",
    "        self.W.data = W_data\n",
    "\n",
    "    def forward(self, x):\n",
    "        if self.W.data is None:\n",
    "            self.in_channels = x.shape[1]\n",
    "            xp = cuda.get_array_module(x)\n",
    "            self._init_W(xp)\n",
    "\n",
    "        y = F.conv2d(x, self.W, self.b, self.stride, self.pad)\n",
    "        return y"
   ]
  },
  {
   "cell_type": "markdown",
   "metadata": {},
   "source": [
    "## 57.4 pooling関数の実装\n",
    "conv2d同様im2colで展開して計算\\\n",
    "conv2dではチャンネル方向も含め対象の3次元データを1列に並べたが\\\n",
    "poolingではチャンネルごとに独立して並べる→図57-4\\\n",
    "※カーネルサイズ、ストライドは2✕2の例\\\n",
    "※チャンネルごとに行方向に並べられている\n"
   ]
  },
  {
   "cell_type": "code",
   "execution_count": null,
   "metadata": {},
   "outputs": [],
   "source": [
    "plt.figure(figsize=(10, 5))\n",
    "img = plt.imread('57-4.jpg')\n",
    "plt.imshow(img)\n",
    "plt.gca().axes.xaxis.set_visible(False)\n",
    "plt.gca().axes.yaxis.set_visible(False)\n",
    "plt.show()"
   ]
  },
  {
   "cell_type": "markdown",
   "metadata": {},
   "source": [
    "このように展開することで、あとは行ごとの最大値(平均値)を取得するだけになる→図57-5"
   ]
  },
  {
   "cell_type": "code",
   "execution_count": null,
   "metadata": {},
   "outputs": [],
   "source": [
    "plt.figure(figsize=(10, 5))\n",
    "img = plt.imread('57-4.jpg')\n",
    "plt.imshow(img)\n",
    "plt.gca().axes.xaxis.set_visible(False)\n",
    "plt.gca().axes.yaxis.set_visible(False)\n",
    "plt.show()"
   ]
  },
  {
   "cell_type": "markdown",
   "metadata": {},
   "source": [
    "dezero/functions_conv.py\n",
    "```python\n",
    "def pooling_simple(x, kernel_size, stride=1, pad=0):\n",
    "    x = as_variable(x)\n",
    "\n",
    "    N, C, H, W = x.shape\n",
    "    KH, KW = pair(kernel_size)\n",
    "    PH, PW = pair(pad)\n",
    "    SH, SW = pair(stride)\n",
    "    OH = get_conv_outsize(H, KH, SH, PH)\n",
    "    OW = get_conv_outsize(W, KW, SW, PW)\n",
    "\n",
    "    col = im2col(x, kernel_size, stride, pad, to_matrix=True)\n",
    "    col = col.reshape(-1, KH * KW)\n",
    "    y = col.max(axis=1)\n",
    "    y = y.reshape(N, OH, OW, C).transpose(0, 3, 1, 2)\n",
    "    return y\n"
   ]
  },
  {
   "cell_type": "markdown",
   "metadata": {},
   "source": [
    "参考までに、、、\n",
    "```python\n",
    "class Pooling(Function):\n",
    "    def __init__(self, kernel_size, stride=1, pad=0):\n",
    "        super().__init__()\n",
    "        self.kernel_size = kernel_size\n",
    "        self.stride = stride\n",
    "        self.pad = pad\n",
    "\n",
    "    def forward(self, x):\n",
    "        col = im2col_array(x, self.kernel_size, self.stride, self.pad,\n",
    "                           to_matrix=False)\n",
    "\n",
    "        N, C, KH, KW, OH, OW = col.shape\n",
    "        col = col.reshape(N, C, KH * KW, OH, OW)\n",
    "        self.indexes = col.argmax(axis=2)\n",
    "        y = col.max(axis=2)\n",
    "        return y\n",
    "\n",
    "    def backward(self, gy):\n",
    "        return Pooling2DGrad(self)(gy)\n",
    "\n",
    "\n",
    "class Pooling2DGrad(Function):\n",
    "    def __init__(self, mpool2d):\n",
    "        self.mpool2d = mpool2d\n",
    "        self.kernel_size = mpool2d.kernel_size\n",
    "        self.stride = mpool2d.stride\n",
    "        self.pad = mpool2d.pad\n",
    "        self.input_shape = mpool2d.inputs[0].shape\n",
    "        self.dtype = mpool2d.inputs[0].dtype\n",
    "        self.indexes = mpool2d.indexes\n",
    "\n",
    "    def forward(self, gy):\n",
    "        xp = cuda.get_array_module(gy)\n",
    "\n",
    "        N, C, OH, OW = gy.shape\n",
    "        N, C, H, W = self.input_shape\n",
    "        KH, KW = pair(self.kernel_size)\n",
    "\n",
    "        gcol = xp.zeros((N * C * OH * OW * KH * KW), dtype=self.dtype)\n",
    "\n",
    "        indexes = (self.indexes.ravel()\n",
    "                   + xp.arange(0, self.indexes.size * KH * KW, KH * KW))\n",
    "        \n",
    "        gcol[indexes] = gy.ravel()\n",
    "        gcol = gcol.reshape(N, C, OH, OW, KH, KW)\n",
    "        gcol = xp.swapaxes(gcol, 2, 4)\n",
    "        gcol = xp.swapaxes(gcol, 3, 5)\n",
    "\n",
    "        gx = col2im_array(gcol, (N, C, H, W), self.kernel_size, self.stride,\n",
    "                          self.pad, to_matrix=False)\n",
    "        return gx\n",
    "\n",
    "    def backward(self, ggx):\n",
    "        f = Pooling2DWithIndexes(self.mpool2d)\n",
    "        return f(ggx)\n",
    "\n",
    "\n",
    "class Pooling2DWithIndexes(Function):\n",
    "    def __init__(self, mpool2d):\n",
    "        self.kernel_size = mpool2d.kernel_size\n",
    "        self.stride = mpool2d.stride\n",
    "        self.pad = mpool2d.pad\n",
    "        self.input_shpae = mpool2d.inputs[0].shape\n",
    "        self.dtype = mpool2d.inputs[0].dtype\n",
    "        self.indexes = mpool2d.indexes\n",
    "\n",
    "    def forward(self, x):\n",
    "        col = im2col_array(x, self.kernel_size, self.stride, self.pad,\n",
    "                           to_matrix=False)\n",
    "        N, C, KH, KW, OH, OW = col.shape\n",
    "        col = col.reshape(N, C, KH * KW, OH, OW)\n",
    "        col = col.transpose(0, 1, 3, 4, 2).reshape(-1, KH * KW)\n",
    "        indexes = self.indexes.ravel()\n",
    "        col = col[np.arange(len(indexes)), indexes]\n",
    "        return col.reshape(N, C, OH, OW)\n",
    "\n",
    "\n",
    "def pooling(x, kernel_size, stride=1, pad=0):\n",
    "    return Pooling(kernel_size, stride, pad)(x)"
   ]
  },
  {
   "cell_type": "markdown",
   "metadata": {},
   "source": []
  }
 ],
 "metadata": {
  "kernelspec": {
   "display_name": "Python 3.9.13",
   "language": "python",
   "name": "python3"
  },
  "language_info": {
   "codemirror_mode": {
    "name": "ipython",
    "version": 3
   },
   "file_extension": ".py",
   "mimetype": "text/x-python",
   "name": "python",
   "nbconvert_exporter": "python",
   "pygments_lexer": "ipython3",
   "version": "3.9.13"
  },
  "orig_nbformat": 4,
  "vscode": {
   "interpreter": {
    "hash": "83b288150e23b31d9b915c3a982202dfca53d1993a132fa098fe73118440dfc1"
   }
  }
 },
 "nbformat": 4,
 "nbformat_minor": 2
}
