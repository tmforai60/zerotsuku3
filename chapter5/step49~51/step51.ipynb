{
 "cells": [
  {
   "cell_type": "markdown",
   "id": "1ff4fd51-08e8-4244-88eb-ba5cc72f203d",
   "metadata": {},
   "source": [
    "# STEP51 MNISTの学習"
   ]
  },
  {
   "cell_type": "markdown",
   "id": "ffec3e53",
   "metadata": {},
   "source": [
    "## このステップの概要\n",
    "\n",
    "### 前のステップ, STEP49, STEP50で学んだこと\n",
    "\n",
    "STEP49とSTEP50でデータセットを容易にあつかえる仕組みを作ってきた.\n",
    "\n",
    "- STEP49: Datasetクラスによるデータセットの取り扱いが共通化された\n",
    "    - 巨大なデータをあつかう仕組み\n",
    "    - 前処理\n",
    "- STEP50: DaloaderクラスによってDatasetからミニバッチを作れるようになった\n",
    "\n",
    "### STEP51の目的\n",
    "\n",
    "データセットを扱える仕組みを新しいデータセットであるMNISTに対して実際に適用してみる。\n",
    "MNISTを取り扱う中で、活性化関数であるReLuを取り入れ作成できるモデルを改良する。\n",
    "\n",
    "- 51.1 MNISTデータセット\n",
    "    - `datasets.py` に MNISTクラスを用意する\n",
    "- 51.2 MNISTの学習\n",
    "    - MNISTの学習を行ってみる\n",
    "- 51.3 モデルの改良\n",
    "    - 活性化関数 `ReLu` の適用\n",
    "\n"
   ]
  },
  {
   "cell_type": "markdown",
   "id": "91764a4e-abd4-476b-8f52-05918573edaa",
   "metadata": {},
   "source": [
    "これまで何をやったか、まとめています。目次より、少し詳しい情報となっています。\n",
    "\n",
    "https://qiita.com/daikumatan/private/1c4ba888ed1928c55fb2"
   ]
  },
  {
   "cell_type": "markdown",
   "id": "fa4964c0",
   "metadata": {},
   "source": [
    "#### 少しだけコードを振り返る"
   ]
  },
  {
   "cell_type": "code",
   "execution_count": 1,
   "id": "4f8311dc",
   "metadata": {},
   "outputs": [
    {
     "name": "stdout",
     "output_type": "stream",
     "text": [
      "train data size: 300 <class 'dezero.datasets.Spiral'>\n",
      " test data size 300 <class 'dezero.datasets.Spiral'>\n",
      "0 [-0.13981389 -0.00721657] 1\n",
      "1 [0.37049392 0.5820947 ] 1\n",
      "2 [ 0.1374263  -0.17179643] 2\n",
      "3 [0.3031688 0.06472  ] 0\n",
      "4 [-0.20848857  0.53050214] 1\n",
      "5 [-0.7074377 -0.13391  ] 2\n",
      "6 [ 0.49455667 -0.3739167 ] 0\n",
      "7 [0.23201972 0.13808277] 0\n",
      "8 [-0.15886047 -0.01906173] 1\n",
      "9 [ 0.00491708 -0.33996445] 2\n",
      "10 [-0.12995958 -0.00324155] 1\n",
      "11 [-0.23974584  0.25499398] 1\n",
      "12 [-0.33211905 -0.42578977] 2\n",
      "13 [-0.14406797  0.65432745] 1\n",
      "14 [-0.08773611  0.4820813 ] 1\n",
      "15 [-0.84679544  0.35963517] 2\n",
      "16 [0.34992874 0.6062589 ] 1\n",
      "17 [-0.2656141  -0.39981142] 2\n",
      "18 [ 0.03873516 -0.28740144] 2\n",
      "19 [-0.17989218  0.00622921] 1\n",
      "20 [-0.26522237 -0.45886502] 2\n",
      "21 [-0.01586872  0.5397668 ] 1\n",
      "22 [0.15063146 0.1868426 ] 0\n",
      "23 [-0.7781106   0.05425706] 2\n",
      "24 [-0.10568184 -0.03051801] 1\n",
      "25 [0.17171463 0.18169777] 0\n",
      "26 [-0.05060399 -0.427012  ] 2\n",
      "27 [-0.5878122  -0.22666465] 2\n",
      "28 [ 0.42734203 -0.10477977] 0\n",
      "29 [0.01999407 0.00048688] 2\n",
      "30 [-0.65559965 -0.6454371 ] 0\n",
      "31 [0.09332082 0.11743604] 0\n",
      "32 [-0.04677129 -0.01767616] 1\n",
      "33 [-0.58700913 -0.79719526] 0\n",
      "34 [0.18987328 0.11112218] 0\n",
      "35 [-0.27497035 -0.40557528] 2\n",
      "36 [-0.6626818  -0.19223109] 2\n",
      "37 [0.89618134 0.08281892] 1\n",
      "38 [-0.28567183  0.14419296] 1\n",
      "39 [-0.6956357  -0.22133903] 2\n",
      "40 [-0.73952246 -0.02658003] 2\n",
      "41 [0.6405069  0.60344917] 1\n",
      "42 [0.3396491  0.01544307] 0\n",
      "43 [-0.00640535 -0.759973  ] 0\n",
      "44 [-0.29891637 -0.75282735] 0\n",
      "45 [-0.19354802  0.4392484 ] 1\n",
      "46 [ 0.43733358 -0.10601573] 0\n",
      "47 [0.9365552  0.08040111] 1\n",
      "48 [-0.41539234 -0.43295404] 2\n",
      "49 [-0.15145358  0.3375823 ] 1\n",
      "50 [0.13898164 0.15742968] 0\n",
      "51 [-0.21861286  0.35862017] 1\n",
      "52 [0.31354076 0.58076864] 1\n",
      "53 [-0.597431    0.78941506] 2\n",
      "54 [0.21005045 0.15322797] 0\n",
      "55 [-0.7109096   0.34453964] 2\n",
      "56 [0.02253613 0.05560686] 0\n",
      "57 [-0.30824462 -0.8028607 ] 0\n",
      "58 [-0.08318522  0.5031702 ] 1\n",
      "59 [-0.7474886   0.44515252] 2\n",
      "60 [ 0.15577695 -0.25638554] 2\n",
      "61 [0.34734264 0.5494116 ] 1\n",
      "62 [-0.66352814 -0.25264674] 2\n",
      "63 [-0.05139323 -0.03096346] 1\n",
      "64 [-0.6793856 -0.7062827] 0\n",
      "65 [-0.01549666 -0.78984797] 0\n",
      "66 [0.44608194 0.6029187 ] 1\n",
      "67 [0.06264956 0.6067743 ] 1\n",
      "68 [-0.17036279 -0.75091714] 0\n",
      "69 [0.01425096 0.03737526] 0\n",
      "70 [-0.00570804  0.5299693 ] 1\n",
      "71 [-0.32124844  0.07549458] 1\n",
      "72 [ 0.13273749 -0.19995189] 2\n",
      "73 [0.5703474 0.5609847] 1\n",
      "74 [ 0.09690688 -0.24126554] 2\n",
      "75 [ 0.091654  -0.1664318] 2\n",
      "76 [-0.77509767  0.23520966] 2\n",
      "77 [0.662295  0.3070266] 1\n",
      "78 [ 0.46213728 -0.36678216] 0\n",
      "79 [ 0.07434364 -0.02954696] 2\n",
      "80 [ 0.43561164 -0.45512912] 0\n",
      "81 [-0.1952649   0.39429888] 1\n",
      "82 [0.27190292 0.18699946] 0\n",
      "83 [-0.6833807 -0.6883972] 0\n",
      "84 [-0.26835942  0.3858539 ] 1\n",
      "85 [-0.19780748 -0.85748017] 0\n",
      "86 [-0.5675895 -0.3560086] 2\n",
      "87 [-0.61125225 -0.29794413] 2\n",
      "88 [-0.24501143  0.04969303] 1\n",
      "89 [-0.40200278 -0.3898638 ] 2\n",
      "90 [-0.08871835 -0.0151345 ] 1\n",
      "91 [0.08284235 0.10018555] 0\n",
      "92 [-0.39722073 -0.8519482 ] 0\n",
      "93 [0.14116073 0.18158647] 0\n",
      "94 [-0.00038604  0.02999752] 0\n",
      "95 [-0.18813577 -0.79812586] 0\n",
      "96 [0.00094191 0.04999113] 0\n",
      "97 [-0.23457344 -0.4415601 ] 2\n",
      "98 [ 0.04370912 -0.738708  ] 0\n",
      "99 [ 0.10349102 -0.74282545] 0\n",
      "100 [-0.11388239 -0.86251426] 0\n",
      "101 [ 0.42404062 -0.3502707 ] 0\n",
      "102 [-0.6302627   0.72413325] 2\n",
      "103 [0.27577567 0.56643426] 1\n",
      "104 [0.02032876 0.08767407] 0\n",
      "105 [-0.4918118 -0.3608617] 2\n",
      "106 [ 0.4752903  -0.06707557] 0\n",
      "107 [0.8451174 0.2065832] 1\n",
      "108 [0.07829762 0.13953309] 0\n",
      "109 [ 0.9336293  -0.29788658] 1\n",
      "110 [ 0.3282343  -0.54941994] 0\n",
      "111 [ 0.38677302 -0.34757248] 0\n",
      "112 [ 0.13424662 -0.21089771] 2\n",
      "113 [ 0.1625132  -0.68087405] 0\n",
      "114 [-0.80911016  0.1331945 ] 2\n",
      "115 [ 0.42443117 -0.33385354] 0\n",
      "116 [-0.02386156 -0.01818313] 1\n",
      "117 [ 0.12092289 -0.70977294] 0\n",
      "118 [-0.28640968 -0.78966415] 0\n",
      "119 [-0.7281537  -0.51175404] 0\n",
      "120 [-0.76282126  0.10489876] 2\n",
      "121 [-0.73185277  0.20491832] 2\n",
      "122 [-0.18253154  0.05274695] 1\n",
      "123 [0.86612016 0.20478243] 1\n",
      "124 [ 0.1811798  -0.70715904] 0\n",
      "125 [-0.11285946 -0.04077674] 1\n",
      "126 [ 0.36761343 -0.48678574] 0\n",
      "127 [0.12399456 0.11629853] 0\n",
      "128 [ 0.08069741 -0.03984881] 2\n",
      "129 [0.6468091 0.5040218] 1\n",
      "130 [0.00512668 0.01933176] 0\n",
      "131 [-0.10498876  0.44785863] 1\n",
      "132 [-0.08959205 -0.04442143] 1\n",
      "133 [0.73510563 0.4064723 ] 1\n",
      "134 [0.29977617 0.11195645] 0\n",
      "135 [ 0.09220015 -0.05999277] 2\n",
      "136 [-0.5757059   0.78068095] 2\n",
      "137 [-0.07488721  0.51457936] 1\n",
      "138 [0.13923591 0.12928016] 0\n",
      "139 [0.13235243 0.6261652 ] 1\n",
      "140 [0.9177843 0.3139619] 1\n",
      "141 [0.90872765 0.27697313] 1\n",
      "142 [-0.33446026 -0.3981662 ] 2\n",
      "143 [-0.14677872  0.42538926] 1\n",
      "144 [ 0.9508962  -0.13189542] 1\n",
      "145 [0.8146705  0.27552122] 1\n",
      "146 [-0.16978921  0.00846301] 1\n",
      "147 [0.83352554 0.3651509 ] 1\n",
      "148 [-0.57954365 -0.27153113] 2\n",
      "149 [ 0.2805128 -0.4846778] 0\n",
      "150 [ 0.02211946 -0.2690924 ] 2\n",
      "151 [-0.01839967 -0.00783914] 1\n",
      "152 [ 0.08143438 -0.05803829] 2\n",
      "153 [-0.81171393  0.4113642 ] 2\n",
      "154 [ 0.044994   -0.31682098] 2\n",
      "155 [0.37874952 0.03080279] 0\n",
      "156 [ 0.42675576 -0.05272124] 0\n",
      "157 [-0.7121174   0.42636698] 2\n",
      "158 [ 0.5008086  -0.17346679] 0\n",
      "159 [-0.23335491  0.11465377] 1\n",
      "160 [0.08061991 0.1609361 ] 0\n",
      "161 [ 0.30444184 -0.5855896 ] 0\n",
      "162 [-0.74082303 -0.59471107] 0\n",
      "163 [ 0.98899543 -0.04458715] 1\n",
      "164 [-0.65090775  0.62154573] 2\n",
      "165 [ 0.46965688 -0.19880246] 0\n",
      "166 [-0.07588156 -0.02533749] 1\n",
      "167 [-0.08034188 -0.45292956] 2\n",
      "168 [ 0.00979881 -0.00199584] 2\n",
      "169 [0.6181036 0.442208 ] 1\n",
      "170 [ 0.41908243 -0.02774712] 0\n",
      "171 [-0.29238784  0.06715166] 1\n",
      "172 [ 0.4547784  -0.06911298] 0\n",
      "173 [ 0.01946609 -0.35947332] 2\n",
      "174 [ 0.36989382 -0.00886326] 0\n",
      "175 [-0. -0.] 1\n",
      "176 [-0.00116657 -0.8299992 ] 0\n",
      "177 [0.7107062  0.42871517] 1\n",
      "178 [0.05984409 0.0801167 ] 0\n",
      "179 [ 0.10375305 -0.26006788] 2\n",
      "180 [-0.7847296   0.29966557] 2\n",
      "181 [-0.30477002 -0.4816796 ] 2\n",
      "182 [ 0.03268636 -0.2074406 ] 2\n",
      "183 [0.23121913 0.1579168 ] 0\n",
      "184 [-0.84386814  0.282819  ] 2\n",
      "185 [0.15359965 0.12809038] 0\n",
      "186 [0.5055555  0.59398115] 1\n",
      "187 [-0.22394885  0.05241101] 1\n",
      "188 [ 0.3977565  -0.04230585] 0\n",
      "189 [-0.03843534 -0.6688967 ] 0\n",
      "190 [-0.12524168  0.41135693] 1\n",
      "191 [ 0.09373958 -0.07491923] 2\n",
      "192 [0.31820756 0.6680898 ] 1\n",
      "193 [0.05652277 0.5772393 ] 1\n",
      "194 [-0.2891464   0.26171428] 1\n",
      "195 [-0.0468118 -0.3871804] 2\n",
      "196 [-0.5865638 -0.2800766] 2\n",
      "197 [-0.74176145  0.11086001] 2\n",
      "198 [-0.15293403 -0.4444223 ] 2\n",
      "199 [-0.30727252  0.14554588] 1\n",
      "200 [0.12535559 0.58675885] 1\n",
      "201 [ 0.05059152 -0.30584392] 2\n",
      "202 [-0.2701724  0.1053892] 1\n",
      "203 [-0.7848798  0.154802 ] 2\n",
      "204 [-0.0271639  -0.02936192] 1\n",
      "205 [ 0.36799538 -0.5836775 ] 0\n",
      "206 [ 0.13791645 -0.76771027] 0\n",
      "207 [-0.8496624  -0.02395374] 2\n",
      "208 [-0.9223507   0.18129861] 2\n",
      "209 [ 0.00246038 -0.37999204] 2\n",
      "210 [-0.0401785 -0.7989904] 0\n",
      "211 [-0.21432792  0.04963413] 1\n",
      "212 [ 0.10637081 -0.10576035] 2\n",
      "213 [ 0.5306231  -0.20818052] 0\n",
      "214 [-0.25087747  0.09980225] 1\n",
      "215 [-0.02893586  0.58929   ] 1\n",
      "216 [0.30133522 0.541846  ] 1\n",
      "217 [-0.26706883  0.27032247] 1\n",
      "218 [-0.00837021 -0.00547171] 1\n",
      "219 [ 0. -0.] 2\n",
      "220 [-0.1008854  -0.35598052] 2\n",
      "221 [-0.2475858   0.32680464] 1\n",
      "222 [ 0.11015151 -0.14236097] 2\n",
      "223 [ 0.38932335 -0.02296369] 0\n",
      "224 [-0.00097699  0.00995216] 0\n",
      "225 [ 0.13746658 -0.08187149] 2\n",
      "226 [ 0.4326635 -0.5245973] 0\n",
      "227 [-0.43632174 -0.8212937 ] 0\n",
      "228 [ 0.27801412 -0.58754414] 0\n",
      "229 [ 0.1297094  -0.15223493] 2\n",
      "230 [0.00652849 0.0696949 ] 0\n",
      "231 [-0.06727856 -0.0193286 ] 1\n",
      "232 [-0.19585939 -0.88867265] 0\n",
      "233 [ 0.09607905 -0.08757178] 2\n",
      "234 [0.10985696 0.08678392] 0\n",
      "235 [-0.6003261  -0.27424175] 2\n",
      "236 [0.6741878 0.517659 ] 1\n",
      "237 [0.6052991 0.5382499] 1\n",
      "238 [-0.14900257  0.529432  ] 1\n",
      "239 [-0.3786127  -0.34169054] 2\n",
      "240 [-0.13840458  0.37529212] 1\n",
      "241 [-0.13912046  0.48025566] 1\n",
      "242 [-0.14588465 -0.0348951 ] 1\n",
      "243 [-0.7831353 -0.5552469] 0\n",
      "244 [-0.52873564 -0.7283122 ] 0\n",
      "245 [-0.2772819   0.03891963] 1\n",
      "246 [0.36321253 0.62167245] 1\n",
      "247 [ 0.43358243 -0.18140091] 0\n",
      "248 [-0.23986334  0.00809829] 1\n",
      "249 [-0.6994348  0.0281238] 2\n",
      "250 [-0.09433582 -0.38871682] 2\n",
      "251 [-0.2739722   0.14504905] 1\n",
      "252 [ 0.10108227 -0.13668348] 2\n",
      "253 [0.25992823 0.1497909 ] 0\n",
      "254 [ 0.02616625 -0.01467403] 2\n",
      "255 [-0.17861071  0.11044552] 1\n",
      "256 [ 0.10326176 -0.09453575] 2\n",
      "257 [-0.4507611 -0.3649855] 2\n",
      "258 [-0.74260926  0.47215626] 2\n",
      "259 [-0.01749143 -0.3295361 ] 2\n",
      "260 [ 0.2889293  -0.40806845] 0\n",
      "261 [-0.7118476   0.48256913] 2\n",
      "262 [-0.  0.] 0\n",
      "263 [0.5026432 0.4579845] 1\n",
      "264 [ 0.3952812  -0.45138982] 0\n",
      "265 [-0.21264821 -0.39658636] 2\n",
      "266 [0.34195596 0.07460645] 0\n",
      "267 [-0.07018702 -0.7065223 ] 0\n",
      "268 [0.06190507 0.09092724] 0\n",
      "269 [0.2721572 0.7416404] 1\n",
      "270 [-0.04843636 -0.34663224] 2\n",
      "271 [0.49350116 0.51044744] 1\n",
      "272 [0.9229654  0.11417017] 1\n",
      "273 [-0.16242598 -0.40892273] 2\n",
      "274 [-0.00198436  0.5599965 ] 1\n",
      "275 [-0.03366692 -0.40861538] 2\n",
      "276 [-0.19678791  0.03570037] 1\n",
      "277 [ 0.39779076 -0.09931022] 0\n",
      "278 [0.91857535 0.05117972] 1\n",
      "279 [ 0.04958905 -0.00639738] 2\n",
      "280 [-0.5489099  -0.28826708] 2\n",
      "281 [-0.41255736 -0.36372572] 2\n",
      "282 [0.35615346 0.05248545] 0\n",
      "283 [ 0.05997716 -0.00165524] 2\n",
      "284 [-0.14541428 -0.8374692 ] 0\n",
      "285 [ 0.03845111 -0.01102326] 2\n",
      "286 [0.03228098 0.11557655] 0\n",
      "287 [0.6075539  0.47305202] 1\n",
      "288 [0.2517982  0.14386679] 0\n",
      "289 [-0.24811222  0.26084542] 1\n",
      "290 [ 0.15010694 -0.17426391] 2\n",
      "291 [ 0.06216975 -0.03217021] 2\n",
      "292 [-0.45640576  0.83318293] 2\n",
      "293 [ 0.4110389 -0.4092029] 0\n",
      "294 [-0.20607458  0.95808834] 2\n",
      "295 [-0.56674325 -0.16401847] 2\n",
      "296 [-0.83592904  0.4075814 ] 2\n",
      "297 [ 0.43614882 -0.22332534] 0\n",
      "298 [-0.18852998 -0.37530845] 2\n",
      "299 [0.02506495 0.07597202] 0\n"
     ]
    }
   ],
   "source": [
    "from dezero.datasets import Spiral\n",
    "from dezero.dataloaders import DataLoader\n",
    "\n",
    "batch_size = 10\n",
    "max_eporch = 1\n",
    "\n",
    "# train=True|False はテストデータ作成時の乱数のseed値が変わるだけ\n",
    "train_set = Spiral(train=True)\n",
    "test_set = Spiral(train=False)\n",
    "\n",
    "# `__len__`をオーバーライドしているからサイズを求めることができる\n",
    "# typeは dezero.datasets.Spiral とクラス名になる\n",
    "print(\"train data size:\", len(train_set), type(train_set))\n",
    "print(\" test data size\", len(test_set), type(test_set))\n",
    "\n",
    "# 一方`__getitem__`をオーバーライドしているので、下記のような使い方ができる\n",
    "#　このとき、各配列には、trainデータと、ラベル情報がタプルでセットになった状態で保存される\n",
    "for i, (x, t) in enumerate(train_set):\n",
    "    #print(i, val)\n",
    "    # これで、データとラベルを分離できる\n",
    "    print(i, x, t)"
   ]
  },
  {
   "cell_type": "code",
   "execution_count": 2,
   "id": "44204058",
   "metadata": {},
   "outputs": [],
   "source": [
    "# これで、バッチ用データ生成の準備完了\n",
    "train_loader = DataLoader(train_set, batch_size)\n",
    "test_loader = DataLoader(test_set, batch_size, shuffle=False)"
   ]
  },
  {
   "cell_type": "markdown",
   "id": "0a9d067e",
   "metadata": {},
   "source": [
    "Spiralクラスは`Dataset()`クラスを継承。具体的な処理は`prepare()` メソッドをオーバーロードする\n",
    "\n",
    "```python\n",
    "class Spiral(Dataset):\n",
    "    def prepare(self):\n",
    "        self.data, self.label = get_spiral(self.train)\n",
    "```"
   ]
  },
  {
   "cell_type": "markdown",
   "id": "69805e19",
   "metadata": {},
   "source": [
    "親クラスである`Dataset()`クラスのコンストラクター引数と返り値に注目してみる\n",
    "\n",
    "```python\n",
    "class Dataset:\n",
    "    def __init__(self, train=True, transform=None, target_transform=None):\n",
    "        \"\"\"\n",
    "        Args:\n",
    "            train (boolean): True | False\n",
    "            transform (function): Fucntion Object for data\n",
    "            target_transform (function):  Fucntion Object for data\n",
    "        \"\"\"\n",
    "          :\n",
    "        (省略)\n",
    "          :\n",
    "    def __getitem__(self, index):\n",
    "          :\n",
    "        (省略)\n",
    "          :\n",
    "        if self.label is None:\n",
    "            return self.transform(self.data[index]), None\n",
    "        else:\n",
    "            return self.transform(self.data[index]),\\\n",
    "                   self.target_transform(self.label[index])\n",
    "```"
   ]
  },
  {
   "cell_type": "markdown",
   "id": "92c5c696",
   "metadata": {},
   "source": [
    "DatasetLoaderのコンストラクターでデータセットを受け取る\n",
    "\n",
    "```python\n",
    "class DataLoader:\n",
    "    def __init__(self, dataset, batch_size, shuffle=True, gpu=False):\n",
    "            \"\"\"\n",
    "            引数をインスタンス変数に格納する。\n",
    "            その後resetメソッドを呼び出し、イタレーションの回数を0に設定する。必要に応じてShuffleする。\n",
    "            \"\"\"\n",
    "          :\n",
    "        (省略)\n",
    "          :\n",
    "def __next__(self):\n",
    "          :\n",
    "        (省略)\n",
    "          :\n",
    "        x = np.array([example[0] for example in batch])\n",
    "        t = np.array([example[1] for example in batch])\n",
    "        self.iteration += 1\n",
    "        return x, t\n",
    "```\n",
    "\n",
    "\n"
   ]
  },
  {
   "cell_type": "markdown",
   "id": "e5c24913-968e-4254-9b4e-94849f89025e",
   "metadata": {},
   "source": [
    "## 事前準備"
   ]
  },
  {
   "cell_type": "code",
   "execution_count": 3,
   "id": "976650b4",
   "metadata": {},
   "outputs": [],
   "source": [
    "if '__file__' in globals():\n",
    "    import os, sys\n",
    "    sys.path.append(os.path.join(os.path.dirname(__file__), '..'))\n",
    "import math\n",
    "import numpy as np\n",
    "import matplotlib.pyplot as plt\n",
    "import dezero\n",
    "from dezero import optimizers\n",
    "from dezero import Variable\n",
    "from dezero import as_variable, as_array\n",
    "import dezero.functions as F\n",
    "from dezero import optimizers\n",
    "from dezero import DataLoader\n",
    "from dezero.models import MLP"
   ]
  },
  {
   "cell_type": "markdown",
   "id": "ba226769-c423-4604-9c7a-75af57733b98",
   "metadata": {
    "tags": []
   },
   "source": [
    "## 51.1 MNISTデータセット"
   ]
  },
  {
   "cell_type": "markdown",
   "id": "607da2b7",
   "metadata": {},
   "source": [
    "### MNISTクラスの実装"
   ]
  },
  {
   "cell_type": "markdown",
   "id": "f0359743",
   "metadata": {},
   "source": [
    "- MNISTとは、手書き数字の画像のパブリックデータセットであり、Deep LearningのHello Worldとしてよく使われるデータである\n",
    "- `datasets.py` にMNISTクラスを作成し、データのダウンロードおよび前処理するクラスを実現する"
   ]
  },
  {
   "cell_type": "markdown",
   "id": "8e862610",
   "metadata": {},
   "source": [
    "```python\n",
    "class MNIST(Dataset):\n",
    "\n",
    "    def __init__(self, train=True,\n",
    "                 transform=Compose([Flatten(),             # [前処理] 28*28のフラットなベクトルに変換\n",
    "                                    ToFloat(),             # [前処理] Floatに変換\n",
    "                                    Normalize(0., 255.)]), # [前処理] 標準化の実施\n",
    "                 target_transform=None):                   # ラベルに対する前処理はなし\n",
    "        # 上記で前処理関数を設定したので、親クラスの初期化メソッドを行っている\n",
    "        super().__init__(train, transform, target_transform)\n",
    "\n",
    "    def prepare(self):\n",
    "        '''\n",
    "        Datasetクラスの`prepare()`メソッドをオーバーライド\n",
    "        '''\n",
    "        url = 'http://yann.lecun.com/exdb/mnist/'\n",
    "        train_files = {'target': 'train-images-idx3-ubyte.gz',\n",
    "                       'label': 'train-labels-idx1-ubyte.gz'}\n",
    "        test_files = {'target': 't10k-images-idx3-ubyte.gz',\n",
    "                      'label': 't10k-labels-idx1-ubyte.gz'}\n",
    "\n",
    "        files = train_files if self.train else test_files\n",
    "        data_path = get_file(url + files['target'])\n",
    "        label_path = get_file(url + files['label'])\n",
    "\n",
    "        self.data = self._load_data(data_path)     # Datasetクラスのインスタンス変数を設定, 親クラスのインスタンス変数\n",
    "        self.label = self._load_label(label_path)  # Datasetクラスのインスタンス変数を設定, 親クラスのインスタンス変数\n",
    "\n",
    "    def _load_label(self, filepath):\n",
    "        with gzip.open(filepath, 'rb') as f:\n",
    "            labels = np.frombuffer(f.read(), np.uint8, offset=8)\n",
    "        return labels\n",
    "\n",
    "    def _load_data(self, filepath):\n",
    "        with gzip.open(filepath, 'rb') as f:\n",
    "            data = np.frombuffer(f.read(), np.uint8, offset=16)\n",
    "        data = data.reshape(-1, 1, 28, 28)\n",
    "        return data\n",
    "\n",
    "    # 画像表示用の関数\n",
    "    def show(self, row=10, col=10):\n",
    "        H, W = 28, 28\n",
    "        img = np.zeros((H * row, W * col))\n",
    "        for r in range(row):\n",
    "            for c in range(col):\n",
    "                img[r * H:(r + 1) * H, c * W:(c + 1) * W] = self.data[\n",
    "                    np.random.randint(0, len(self.data) - 1)].reshape(H, W)\n",
    "        plt.imshow(img, cmap='gray', interpolation='nearest')\n",
    "        plt.axis('off')\n",
    "        plt.show()\n",
    "\n",
    "    @staticmethod\n",
    "    def labels():\n",
    "        return {0: '0', 1: '1', 2: '2', 3: '3', 4: '4', 5: '5', 6: '6', 7: '7', 8: '8', 9: '9'}\n",
    "```"
   ]
  },
  {
   "cell_type": "markdown",
   "id": "65765f68",
   "metadata": {},
   "source": [
    "### MNIST クラスのテスト利用"
   ]
  },
  {
   "cell_type": "markdown",
   "id": "0d50c3a0",
   "metadata": {},
   "source": [
    "以下の２つのデータを作成する。\n",
    "\n",
    "- 訓練用のデータ\n",
    "- テスト用のデータ\n",
    "\n",
    "このとき `transform=None` として前処理なしで作成した"
   ]
  },
  {
   "cell_type": "code",
   "execution_count": 26,
   "id": "e13a3441",
   "metadata": {},
   "outputs": [
    {
     "name": "stdout",
     "output_type": "stream",
     "text": [
      "number of images (train): 60000\n",
      "number of images ( test): 10000\n"
     ]
    }
   ],
   "source": [
    "import dezero\n",
    "\n",
    "train_set = dezero.datasets.MNIST(train=True, transform=None)\n",
    "test_set = dezero.datasets.MNIST(train=False, transform=None)\n",
    "print(\"number of images (train):\", len(train_set))\n",
    "print(\"number of images ( test):\", len(test_set))"
   ]
  },
  {
   "cell_type": "markdown",
   "id": "f23b9cd8",
   "metadata": {},
   "source": [
    "試しに0番目のデータを取り出してみる。データは(data, label)のように対になっている。\n",
    "\n",
    "- `x`: 訓練データ, (1, 28, 28) の形状 (高さ、幅が28x28)\n",
    "- `t`: ラベルデータ"
   ]
  },
  {
   "cell_type": "code",
   "execution_count": 27,
   "id": "7ef11e86",
   "metadata": {},
   "outputs": [
    {
     "name": "stdout",
     "output_type": "stream",
     "text": [
      "<class 'numpy.ndarray'> (1, 28, 28)\n",
      "5\n"
     ]
    }
   ],
   "source": [
    "x, t = train_set[0]\n",
    "print(type(x), x.shape)\n",
    "print(t)"
   ]
  },
  {
   "cell_type": "markdown",
   "id": "571cbf92",
   "metadata": {},
   "source": [
    "### 可視化"
   ]
  },
  {
   "cell_type": "code",
   "execution_count": 28,
   "id": "86f82cdd",
   "metadata": {},
   "outputs": [
    {
     "data": {
      "image/png": "[encoded data removed]",
      "text/plain": [
       "<Figure size 640x480 with 1 Axes>"
      ]
     },
     "metadata": {},
     "output_type": "display_data"
    },
    {
     "name": "stdout",
     "output_type": "stream",
     "text": [
      "label: 5\n"
     ]
    }
   ],
   "source": [
    "import matplotlib.pyplot as plt\n",
    "x, t = train_set[0]\n",
    "plt.imshow(x.reshape(28, 28), cmap='gray')\n",
    "plt.axis('off')\n",
    "plt.show()\n",
    "print('label:', t)"
   ]
  },
  {
   "cell_type": "markdown",
   "id": "d58286d5",
   "metadata": {},
   "source": [
    "### 入力データの前処理\n",
    "\n",
    "- 入力データを1列に並べる\n",
    "    - (1, 28, 28) => (784, )\n",
    "- データ型を`np.float32` に並べる\n",
    "- 255で割る => 値が0から1の間に変換される\n",
    "\n",
    "**Note**\n",
    "\n",
    "MNISTクラスはこの処理をデフォルトとして設定済みである。以下はそのpythonコードの抜粋\n",
    "\n",
    "```python\n",
    "class MNIST(Dataset):\n",
    "    def __init__(self, train=True,\n",
    "                 transform=Compose([Flatten(),             # [前処理] 28*28をフラットなベクトルに変換\n",
    "                                    ToFloat(),             # [前処理] Floatに変換\n",
    "                                    Normalize(0., 255.)]), # [前処理] 標準化の実施\n",
    "                 target_transform=None):                   # ラベルに対する前処理はなし\n",
    "```\n",
    "\n"
   ]
  },
  {
   "cell_type": "code",
   "execution_count": 29,
   "id": "3e99d318",
   "metadata": {},
   "outputs": [],
   "source": [
    "def f(x):\n",
    "    '''\n",
    "    俺々前処理関数。この関数オブジェクトをMNISTクラスの関数オブジェクトとして渡す\n",
    "    '''\n",
    "    x = x.flatten()           # データの1次元化\n",
    "    x = x.astype(np.float32)  # 型変換(float64より負荷を軽減する)\n",
    "    x /= 255.0                # ノーマライズ。値を0から1へ\n",
    "    return x\n",
    "\n",
    "train_set = dezero.datasets.MNIST(train=True, transform=f) # 関数オブジェクトを渡す\n",
    "test_set = dezero.datasets.MNIST(train=False, transform=f) # 関数オブジェクトを渡す"
   ]
  },
  {
   "cell_type": "markdown",
   "id": "30682e21",
   "metadata": {
    "tags": []
   },
   "source": [
    "## 51.2 MNISTの学習"
   ]
  },
  {
   "cell_type": "markdown",
   "id": "79822ca9",
   "metadata": {},
   "source": [
    "### 前のステップからの変更点と重要ポイント\n",
    "\n",
    "- ポイント\n",
    "    - Spiralのときとほとんどコードを変更せずに学習できている。\n",
    "    - Dataset, DatasetLoaderクラスを使うことでこれが実現できていることに注目する\n",
    "- 前のステップからのコードの変更点\n",
    "    - MNISTデータセットを使うようにした\n",
    "    - ハイパーパラメータの値を変国した"
   ]
  },
  {
   "cell_type": "markdown",
   "id": "035c7b8f",
   "metadata": {},
   "source": [
    "![nn1](./STEP51.2.drawio.svg)"
   ]
  },
  {
   "cell_type": "markdown",
   "id": "db41bd88",
   "metadata": {},
   "source": [
    "### 学習用のコード\n",
    "\n",
    "\n",
    "このあとに活性化関数を変更し精度を上げていく。そのため現在精度は86%くらいになることをメモしておこう。"
   ]
  },
  {
   "cell_type": "code",
   "execution_count": 30,
   "id": "5bc1814e",
   "metadata": {},
   "outputs": [
    {
     "name": "stdout",
     "output_type": "stream",
     "text": [
      "epoch: 1\n",
      "train loss: 1.9101, accuracy: 0.5536\n",
      "test loss: 1.5355, accuracy: 0.7490\n",
      "epoch: 2\n",
      "train loss: 1.2813, accuracy: 0.7702\n",
      "test loss: 1.0454, accuracy: 0.8147\n",
      "epoch: 3\n",
      "train loss: 0.9245, accuracy: 0.8183\n",
      "test loss: 0.7927, accuracy: 0.8374\n",
      "epoch: 4\n",
      "train loss: 0.7406, accuracy: 0.8400\n",
      "test loss: 0.6585, accuracy: 0.8594\n",
      "epoch: 5\n",
      "train loss: 0.6365, accuracy: 0.8535\n",
      "test loss: 0.5793, accuracy: 0.8641\n"
     ]
    }
   ],
   "source": [
    "max_epoch = 5\n",
    "batch_size = 100\n",
    "hidden_size = 1000\n",
    "\n",
    "train_set = dezero.datasets.MNIST(train=True)\n",
    "test_set = dezero.datasets.MNIST(train=False)\n",
    "train_loader = DataLoader(train_set, batch_size)\n",
    "test_loader = DataLoader(test_set, batch_size, shuffle=False)\n",
    "\n",
    "model = MLP((hidden_size, 10))\n",
    "optimizer = optimizers.SGD().setup(model)\n",
    "#model = MLP((hidden_size, hidden_size, 10), activation=F.relu)\n",
    "#optimizer = optimizers.Adam().setup(model)\n",
    "\n",
    "for epoch in range(max_epoch):\n",
    "    sum_loss, sum_acc = 0, 0\n",
    "\n",
    "    for x, t in train_loader:\n",
    "        y = model(x)\n",
    "        loss = F.softmax_cross_entropy(y, t)\n",
    "        acc = F.accuracy(y, t)\n",
    "        model.cleargrads()\n",
    "        loss.backward()\n",
    "        optimizer.update()\n",
    "\n",
    "        sum_loss += float(loss.data) * len(t)\n",
    "        sum_acc += float(acc.data) * len(t)\n",
    "\n",
    "    print('epoch: {}'.format(epoch+1))\n",
    "    print('train loss: {:.4f}, accuracy: {:.4f}'.format(\n",
    "        sum_loss / len(train_set), sum_acc / len(train_set)))\n",
    "\n",
    "    sum_loss, sum_acc = 0, 0\n",
    "    with dezero.no_grad():\n",
    "        for x, t in test_loader:\n",
    "            y = model(x)\n",
    "            loss = F.softmax_cross_entropy(y, t)\n",
    "            acc = F.accuracy(y, t)\n",
    "            sum_loss += float(loss.data) * len(t)\n",
    "            sum_acc += float(acc.data) * len(t)\n",
    "\n",
    "    print('test loss: {:.4f}, accuracy: {:.4f}'.format(\n",
    "        sum_loss / len(test_set), sum_acc / len(test_set)))"
   ]
  },
  {
   "cell_type": "markdown",
   "id": "67fd545d",
   "metadata": {
    "tags": []
   },
   "source": [
    "## 51.3 モデルの改良"
   ]
  },
  {
   "cell_type": "markdown",
   "id": "4c4096ab",
   "metadata": {},
   "source": [
    "先程利用したニューラルネットワークの活性化関数は、シグモイド関数であった。これを`ReLu`に変更し精度を上げていく(勾配消失問題への対応)"
   ]
  },
  {
   "cell_type": "markdown",
   "id": "6aa6206e",
   "metadata": {},
   "source": [
    "### 活性化関す `ReLU` のグラフ形状\n",
    "\n",
    "以下のコードは実践機械学習からの抜粋であり、Leaky Reluのプログラムだが、`alpha = 0` とすることで`ReLU`になる"
   ]
  },
  {
   "cell_type": "code",
   "execution_count": 31,
   "id": "d2a44e0e",
   "metadata": {},
   "outputs": [
    {
     "data": {
      "image/png": "[encoded data removed]",
      "text/plain": [
       "<Figure size 640x480 with 1 Axes>"
      ]
     },
     "metadata": {},
     "output_type": "display_data"
    }
   ],
   "source": [
    "# alpha = 0 でReLu\n",
    "def leaky_relu(z, alpha=0.01):\n",
    "    return np.maximum(alpha*z, z)\n",
    "z = np.linspace(-5, 5, 200)\n",
    "plt.plot(z, leaky_relu(z, 0.00), \"b-\", linewidth=2)\n",
    "plt.plot([-5, 5], [0, 0], 'k-')\n",
    "plt.plot([0, 0], [-0.5, 4.2], 'k-')\n",
    "plt.grid(True)\n",
    "props = dict(facecolor='black', shrink=0.1)\n",
    "plt.title(\"ReLU activation function\", fontsize=14)\n",
    "plt.axis([-5, 5, -0.5, 4.2])\n",
    "plt.show()"
   ]
  },
  {
   "cell_type": "markdown",
   "id": "b7d18a5b",
   "metadata": {},
   "source": [
    "### DeZeroへの実装"
   ]
  },
  {
   "cell_type": "markdown",
   "id": "8fabe503",
   "metadata": {},
   "source": [
    "```python\n",
    "class ReLU(Function):\n",
    "    def forward(self, x):\n",
    "        y = np.maximum(x, 0.0)\n",
    "        return y\n",
    "\n",
    "    def backward(self, gy):\n",
    "        x, = self.inputs\n",
    "        mask = x.data > 0\n",
    "        gx = gy * mask\n",
    "        return gx\n",
    "\n",
    "\n",
    "def relu(x):\n",
    "    return ReLU()(x)\n",
    "```"
   ]
  },
  {
   "cell_type": "markdown",
   "id": "8178db01",
   "metadata": {},
   "source": [
    "### 活性化関数, ReLUの適用とOptimizerをadamへ変更"
   ]
  },
  {
   "cell_type": "markdown",
   "id": "95629f1a",
   "metadata": {},
   "source": [
    "### 51.2との変更点\n",
    "\n",
    "変更点\n",
    "\n",
    "- 活性化関数とシグモイドからReLUに変更\n",
    "- OptimizerをSGDからADAMに変更\n",
    "- 隠れそうを1層追加\n",
    "\n",
    "5エポックで97%程度の精度がでていることがわかる"
   ]
  },
  {
   "cell_type": "markdown",
   "id": "93f83292",
   "metadata": {},
   "source": [
    "![nn2-2](./STEP51.3.drawio.svg)"
   ]
  },
  {
   "cell_type": "code",
   "execution_count": 32,
   "id": "d96393bf",
   "metadata": {},
   "outputs": [
    {
     "name": "stdout",
     "output_type": "stream",
     "text": [
      "epoch: 1\n",
      "train loss: 0.1915, accuracy: 0.9418\n",
      "test loss: 0.0898, accuracy: 0.9717\n",
      "epoch: 2\n",
      "train loss: 0.0729, accuracy: 0.9771\n",
      "test loss: 0.0759, accuracy: 0.9778\n",
      "epoch: 3\n",
      "train loss: 0.0486, accuracy: 0.9844\n",
      "test loss: 0.0843, accuracy: 0.9748\n",
      "epoch: 4\n",
      "train loss: 0.0365, accuracy: 0.9877\n",
      "test loss: 0.0739, accuracy: 0.9791\n",
      "epoch: 5\n",
      "train loss: 0.0254, accuracy: 0.9917\n",
      "test loss: 0.0782, accuracy: 0.9814\n"
     ]
    }
   ],
   "source": [
    "max_epoch = 5\n",
    "batch_size = 100\n",
    "hidden_size = 1000\n",
    "\n",
    "train_set = dezero.datasets.MNIST(train=True)\n",
    "test_set = dezero.datasets.MNIST(train=False)\n",
    "train_loader = DataLoader(train_set, batch_size)\n",
    "test_loader = DataLoader(test_set, batch_size, shuffle=False)\n",
    "\n",
    "#model = MLP((hidden_size, 10))\n",
    "#optimizer = optimizers.SGD().setup(model)\n",
    "# 隠れ層が1層増えていることに注意\n",
    "model = MLP((hidden_size, hidden_size, 10), activation=F.relu)\n",
    "optimizer = optimizers.Adam().setup(model)\n",
    "\n",
    "for epoch in range(max_epoch):\n",
    "    sum_loss, sum_acc = 0, 0\n",
    "\n",
    "    for x, t in train_loader:\n",
    "        y = model(x)\n",
    "        loss = F.softmax_cross_entropy(y, t)\n",
    "        acc = F.accuracy(y, t)\n",
    "        model.cleargrads()\n",
    "        loss.backward()\n",
    "        optimizer.update()\n",
    "\n",
    "        sum_loss += float(loss.data) * len(t)\n",
    "        sum_acc += float(acc.data) * len(t)\n",
    "\n",
    "    print('epoch: {}'.format(epoch+1))\n",
    "    print('train loss: {:.4f}, accuracy: {:.4f}'.format(\n",
    "        sum_loss / len(train_set), sum_acc / len(train_set)))\n",
    "\n",
    "    sum_loss, sum_acc = 0, 0\n",
    "    with dezero.no_grad():\n",
    "        for x, t in test_loader:\n",
    "            y = model(x)\n",
    "            loss = F.softmax_cross_entropy(y, t)\n",
    "            acc = F.accuracy(y, t)\n",
    "            sum_loss += float(loss.data) * len(t)\n",
    "            sum_acc += float(acc.data) * len(t)\n",
    "\n",
    "    print('test loss: {:.4f}, accuracy: {:.4f}'.format(\n",
    "        sum_loss / len(test_set), sum_acc / len(test_set)))"
   ]
  },
  {
   "cell_type": "code",
   "execution_count": null,
   "id": "2473473f",
   "metadata": {},
   "outputs": [],
   "source": []
  }
 ],
 "metadata": {
  "kernelspec": {
   "display_name": "Python 3 (ipykernel)",
   "language": "python",
   "name": "python3"
  },
  "language_info": {
   "codemirror_mode": {
    "name": "ipython",
    "version": 3
   },
   "file_extension": ".py",
   "mimetype": "text/x-python",
   "name": "python",
   "nbconvert_exporter": "python",
   "pygments_lexer": "ipython3",
   "version": "3.9.6"
  },
  "vscode": {
   "interpreter": {
    "hash": "c222fa9c04e7ed09ba82d4b2c90d6d09380978bc4549bc0b0460fb9c58f648a7"
   }
  }
 },
 "nbformat": 4,
 "nbformat_minor": 5
}
