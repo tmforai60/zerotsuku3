{
 "cells": [
  {
   "cell_type": "markdown",
   "id": "1ff4fd51-08e8-4244-88eb-ba5cc72f203d",
   "metadata": {},
   "source": [
    "# STEP33 ニュートン方を使った最適化(自動計算)"
   ]
  },
  {
   "cell_type": "markdown",
   "id": "15162bb9-4bc3-40bb-8319-b1611cf737ee",
   "metadata": {},
   "source": [
    "## これまでの流れ"
   ]
  },
  {
   "cell_type": "markdown",
   "id": "91764a4e-abd4-476b-8f52-05918573edaa",
   "metadata": {},
   "source": [
    "- STEP27:テイラー展開の微分\n",
    "- STEP28:ローゼンブロック関数を勾配降下法を理解する\n",
    "- STEP29:ニュートン法を用いた最適化, 勾配法は遅いのでニュートン法による収束高速化を目指す\n",
    "- STEP30:Back propagation の実装を見直して2階微分, 3階微分など高階微分に対応できるようにする(準備)\n",
    "- STEP31:Back propagation の実装を見直して2階微分, 3階微分など高階微分に対応できるようにする(理論)\n",
    "- STEP32:Back propagation の実装を見直して2階微分, 3階微分など高階微分に対応できるようにする(実装)\n",
    "- STEP33:ニュートン法は2階微分を使うので、STEP30〜STEP32までの成果を使って自動に最適化計算を行ってみる"
   ]
  },
  {
   "cell_type": "markdown",
   "id": "cc7e13ca-b58d-4e53-8692-27620ea9e97f",
   "metadata": {},
   "source": [
    "## STEP33の目的\n",
    "\n",
    "- STEP32で実装した機能を用いて、簡単な計算を２階微分を用いて計算する。続いてニュートン法を使った最適化を行う"
   ]
  },
  {
   "cell_type": "markdown",
   "id": "e5c24913-968e-4254-9b4e-94849f89025e",
   "metadata": {},
   "source": [
    "## 事前準備"
   ]
  },
  {
   "cell_type": "markdown",
   "id": "a89ee5e8-225f-43ff-8ae4-fe7e6e99f172",
   "metadata": {},
   "source": [
    "`dezero/__init__.py` の `is_simple_core = False` であることを確認すること"
   ]
  },
  {
   "cell_type": "code",
   "execution_count": 1,
   "id": "c0b8fcda-8135-4ea7-943b-ddfb12c8e648",
   "metadata": {},
   "outputs": [],
   "source": [
    "if '__file__' in globals():\n",
    "    import os, sys\n",
    "    sys.path.append(os.path.join(os.path.dirname(__file__), '..'))\n",
    "import numpy as np\n",
    "from dezero import Variable"
   ]
  },
  {
   "cell_type": "markdown",
   "id": "69bc16aa-75a5-417e-a075-a7457c7339ca",
   "metadata": {},
   "source": [
    "## 33.1 ２階微分を求める"
   ]
  },
  {
   "cell_type": "markdown",
   "id": "958149b5-2d02-4a56-ba55-7ff4ff392b23",
   "metadata": {},
   "source": [
    "ここでは、$y = x^4 - 2x^2$ を扱う (教科書の説明では\"+\"になっているがプログラムは\"-\"になっていることに注意。教科書の説明に間違いあり)\n",
    "\n",
    "このとき\n",
    "\n",
    "- $dy/dx = 4x^3 - 4x$\n",
    "- $d^2y/dx^2 = 12x^2 - 4$\n",
    "\n",
    "よって、$x = 2$ のとき\n",
    "\n",
    "- $ y = 16 - 8 = 8 $\n",
    "- $ dy/dx = 32 - 8 = 24 $\n",
    "- $ d^2y/dx^2 = 48 - 4 = 44$\n",
    "\n"
   ]
  },
  {
   "cell_type": "code",
   "execution_count": 2,
   "id": "f91d3ca0-6328-4058-9432-48e37f890146",
   "metadata": {
    "tags": []
   },
   "outputs": [
    {
     "data": {
      "text/plain": [
       "<function matplotlib.pyplot.show(close=None, block=None)>"
      ]
     },
     "execution_count": 2,
     "metadata": {},
     "output_type": "execute_result"
    },
    {
     "data": {
      "image/png": "[encoded data removed]",
      "text/plain": [
       "<Figure size 432x288 with 1 Axes>"
      ]
     },
     "metadata": {
      "needs_background": "light"
     },
     "output_type": "display_data"
    }
   ],
   "source": [
    "import numpy as np\n",
    "import matplotlib.pyplot as plt\n",
    "x = np.linspace(-2,2,200)\n",
    "y1 = x**4 - 2 * x**2\n",
    "y2 = 4*x**3 - 4 * x\n",
    "y3 = 12*x**2 - 4\n",
    "\n",
    "plt.plot(x, y1, label=\"y\")\n",
    "plt.plot(x, y2, label=\"y'\")\n",
    "plt.plot(x, y3, label=\"y''\")\n",
    "plt.xlabel(\"x\")\n",
    "plt.ylabel(\"y\")\n",
    "plt.legend()\n",
    "plt.grid()\n",
    "plt.show"
   ]
  },
  {
   "cell_type": "markdown",
   "id": "14ec2859-de9d-46ba-b1f6-a39c1e3c8501",
   "metadata": {},
   "source": [
    "### `x.cleargrad()`を入れないとx=2で２階微分が44にならず68になることに注意"
   ]
  },
  {
   "cell_type": "markdown",
   "id": "e2feaf6b-888c-4cdc-be37-255f4d063ed2",
   "metadata": {},
   "source": [
    "下記プログラムだと、1階微分の値と、2階微分の値の足し算となって68となっている\n",
    "\n",
    "- 1階微分 = 24\n",
    "- 2階微分 = 44"
   ]
  },
  {
   "cell_type": "code",
   "execution_count": 3,
   "id": "47ef485c-0ae3-49de-9dd0-edc73a7420af",
   "metadata": {},
   "outputs": [
    {
     "name": "stdout",
     "output_type": "stream",
     "text": [
      "variable(24.0)\n",
      "variable(68.0)\n"
     ]
    }
   ],
   "source": [
    "#\n",
    "# 対象となる関数の作成\n",
    "#\n",
    "def f(x):\n",
    "    y = x ** 4 - 2 * x ** 2\n",
    "    return y\n",
    "\n",
    "x = Variable(np.array(2.0))\n",
    "y = f(x)\n",
    "\n",
    "# 1回目逆伝搬\n",
    "y.backward(create_graph=True)\n",
    "print(x.grad)\n",
    "\n",
    "gx = x.grad\n",
    "\n",
    "# 2回目逆伝搬\n",
    "gx.backward()\n",
    "print(x.grad)"
   ]
  },
  {
   "cell_type": "markdown",
   "id": "5cb4c57c-e631-415f-95f3-3a3a6700d785",
   "metadata": {},
   "source": [
    "### 2回目の逆伝搬の前に`x.cleargrad()`をいれてやることで上記問題を解決する"
   ]
  },
  {
   "cell_type": "code",
   "execution_count": 4,
   "id": "fd89c559-65f7-4101-8ac1-11622a3a254b",
   "metadata": {},
   "outputs": [
    {
     "name": "stdout",
     "output_type": "stream",
     "text": [
      "variable(24.0)\n",
      "variable(44.0)\n"
     ]
    }
   ],
   "source": [
    "def f(x):\n",
    "    y = x ** 4 - 2 * x ** 2\n",
    "    return y\n",
    "\n",
    "x = Variable(np.array(2.0))\n",
    "y = f(x)\n",
    "\n",
    "# 1回目逆伝搬\n",
    "y.backward(create_graph=True)\n",
    "print(x.grad)\n",
    "\n",
    "gx = x.grad\n",
    "\n",
    "# ここで、現状のx.gradをきれいにしてやる\n",
    "x.cleargrad()\n",
    "\n",
    "# 2回目逆伝搬\n",
    "gx.backward()\n",
    "print(x.grad)"
   ]
  },
  {
   "cell_type": "markdown",
   "id": "609c15bb-a350-4ff8-95f6-ea8c494c65f4",
   "metadata": {},
   "source": [
    "## 33.2 ニュートン法による最適化"
   ]
  },
  {
   "cell_type": "markdown",
   "id": "2a386b9c-9b27-4a28-99e3-a311d4ce3160",
   "metadata": {},
   "source": [
    "### テーラー展開\n",
    "\n",
    "$$\n",
    "f\\left(x\\right)=\\sum_n^\\infty\\frac{f^{n}\\left(a\\right)}{n!}\\left(x-a\\right)^n=f\\left(a\\right)+f^\\prime\\left(a\\right)\\left(x-a\\right)+\\frac{f^{\\prime\\prime}\\left(a\\right)}{2!}\\left(x-a\\right)^2+\\frac{f^{\\prime\\prime\\prime}\\left(a\\right)}{3!}\\left(x-a\\right)^3+...\n",
    "$$\n",
    "\n",
    "### 2次の項で打ち切った場合\n",
    "\n",
    "$$\n",
    "f\\left(x\\right)=f\\left(a\\right)+f^\\prime\\left(a\\right)\\left(x-a\\right)+\\frac{f^{\\prime\\prime}\\left(a\\right)}{2!}\\left(x-a\\right)^2\n",
    "$$\n",
    "\n",
    "### この2次関数の傾きがゼロになる点を求める\n",
    "\n",
    "$$\n",
    "\\begin{align}\n",
    "& \\frac{\\text{d}}{\\text{d}x} \\left(f\\left(a\\right)+f^\\prime\\left(a\\right)\\left(x-a\\right)+\\frac{f^{\\prime\\prime}\\left(a\\right)}{2!}\\left(x-a\\right)^2 \\right) = 0 \\\\\n",
    "& f^\\prime\\left(a\\right)+f^{\\prime\\prime}\\left(a\\right)(x-a)=0 \\\\\n",
    "& x=a - \\frac{f^\\prime\\left(a\\right)}{f^{\\prime\\prime}\\left(a\\right)}\n",
    "\\end{align}\n",
    "$$\n",
    "\n",
    "### 一般的に書くと\n",
    "\n",
    "$$\n",
    "x_{next}\\leftarrow x_{now}-\\frac{f^\\prime\\left(x_{now}\\right)}{f^{\\prime\\prime}\\left(x_{now}\\right)}\n",
    "$$"
   ]
  },
  {
   "cell_type": "code",
   "execution_count": 5,
   "id": "25307644-76b9-4043-9c19-ddf9e002c8e4",
   "metadata": {},
   "outputs": [
    {
     "name": "stdout",
     "output_type": "stream",
     "text": [
      "0 variable(2.0)\n",
      "1 variable(1.4545454545454546)\n",
      "2 variable(1.1510467893775467)\n",
      "3 variable(1.0253259289766978)\n",
      "4 variable(1.0009084519430513)\n",
      "5 variable(1.0000012353089454)\n",
      "6 variable(1.000000000002289)\n",
      "7 variable(1.0)\n",
      "8 variable(1.0)\n",
      "9 variable(1.0)\n"
     ]
    }
   ],
   "source": [
    "# 想定した関数\n",
    "def f(x):\n",
    "    y = x ** 4 - 2 * x ** 2\n",
    "    return y\n",
    "\n",
    "# 入力\n",
    "x = Variable(np.array(2.0))\n",
    "iters = 10\n",
    "\n",
    "# グラフ化のための箱\n",
    "x_iter = []\n",
    "y_iter = []\n",
    "\n",
    "for i in range(iters):\n",
    "    print(i, x)\n",
    "    y = f(x)\n",
    "\n",
    "    x_iter.append(float(x.data))\n",
    "    y_iter.append(float(y.data))\n",
    "    x.cleargrad()\n",
    "    # 1階微分\n",
    "    y.backward(create_graph=True)\n",
    "\n",
    "    gx = x.grad\n",
    "    x.cleargrad()\n",
    "    \n",
    "    # 2階微分\n",
    "    gx.backward()\n",
    "    gx2 = x.grad\n",
    "\n",
    "    x.data -= gx.data / gx2.data\n",
    "    # 従来\n",
    "    # lr = 0.02\n",
    "    # x.data -= lr * gx.data"
   ]
  },
  {
   "cell_type": "code",
   "execution_count": 6,
   "id": "4d4d5efd-f398-447c-b8f4-af96c1398764",
   "metadata": {},
   "outputs": [
    {
     "data": {
      "text/plain": [
       "<function matplotlib.pyplot.show(close=None, block=None)>"
      ]
     },
     "execution_count": 6,
     "metadata": {},
     "output_type": "execute_result"
    },
    {
     "data": {
      "image/png": "[encoded data removed]",
      "text/plain": [
       "<Figure size 432x288 with 1 Axes>"
      ]
     },
     "metadata": {
      "needs_background": "light"
     },
     "output_type": "display_data"
    }
   ],
   "source": [
    "import numpy as np\n",
    "import matplotlib.pyplot as plt\n",
    "x = np.linspace(-2,2,200)\n",
    "#x = np.linspace(0.5,2,200)\n",
    "y1 = x**4 - 2 * x**2\n",
    "\n",
    "plt.plot(x, y1, label=\"y\")\n",
    "plt.scatter(x_iter, y_iter)\n",
    "plt.plot(x_iter, y_iter, label=\"convergence process\")\n",
    "plt.xlabel(\"x\")\n",
    "plt.ylabel(\"y\")\n",
    "plt.legend()\n",
    "plt.grid()\n",
    "plt.show"
   ]
  }
 ],
 "metadata": {
  "kernelspec": {
   "display_name": "Python 3 (ipykernel)",
   "language": "python",
   "name": "python3"
  },
  "language_info": {
   "codemirror_mode": {
    "name": "ipython",
    "version": 3
   },
   "file_extension": ".py",
   "mimetype": "text/x-python",
   "name": "python",
   "nbconvert_exporter": "python",
   "pygments_lexer": "ipython3",
   "version": "3.9.6"
  }
 },
 "nbformat": 4,
 "nbformat_minor": 5
}
