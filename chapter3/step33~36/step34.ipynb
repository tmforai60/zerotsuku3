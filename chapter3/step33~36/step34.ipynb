{
 "cells": [
  {
   "cell_type": "markdown",
   "id": "1ff4fd51-08e8-4244-88eb-ba5cc72f203d",
   "metadata": {},
   "source": [
    "# STEP34 sin関数の高階微分"
   ]
  },
  {
   "cell_type": "markdown",
   "id": "15162bb9-4bc3-40bb-8319-b1611cf737ee",
   "metadata": {},
   "source": [
    "## これまでの流れ"
   ]
  },
  {
   "cell_type": "markdown",
   "id": "91764a4e-abd4-476b-8f52-05918573edaa",
   "metadata": {},
   "source": [
    "- STEP27:テイラー展開の微分\n",
    "- STEP28:ローゼンブロック関数を勾配降下法を理解する\n",
    "- STEP29:ニュートン法を用いた最適化, 勾配法は遅いのでニュートン法による収束高速化を目指す\n",
    "- STEP30:Back propagation の実装を見直して2階微分, 3階微分など高階微分に対応できるようにする(準備)\n",
    "- STEP31:Back propagation の実装を見直して2階微分, 3階微分など高階微分に対応できるようにする(理論)\n",
    "- STEP32:Back propagation の実装を見直して2階微分, 3階微分など高階微分に対応できるようにする(実装)\n",
    "- STEP33:ニュートン法は2階微分を使うので、STEP30〜STEP32までの成果を使って自動に最適化計算を行ってみる\n",
    "- STEP34:sin関数の高階微分, 新しい関数としてsin関数/cos関数を実装する"
   ]
  },
  {
   "cell_type": "markdown",
   "id": "e5c24913-968e-4254-9b4e-94849f89025e",
   "metadata": {},
   "source": [
    "## 事前準備"
   ]
  },
  {
   "cell_type": "markdown",
   "id": "a945513e-f6f9-4a99-9560-3063a04df6a7",
   "metadata": {
    "tags": []
   },
   "source": [
    "### dezero パッケージ読み込み"
   ]
  },
  {
   "cell_type": "code",
   "execution_count": 3,
   "id": "c0b8fcda-8135-4ea7-943b-ddfb12c8e648",
   "metadata": {},
   "outputs": [],
   "source": [
    "if '__file__' in globals():\n",
    "    import os, sys\n",
    "    sys.path.append(os.path.join(os.path.dirname(__file__), '..'))\n",
    "import numpy as np\n",
    "import matplotlib.pyplot as plt\n",
    "from dezero import Variable\n",
    "#import dezero.functions as F"
   ]
  },
  {
   "cell_type": "markdown",
   "id": "69bc16aa-75a5-417e-a075-a7457c7339ca",
   "metadata": {},
   "source": [
    "## 34.1 sin関数の実装"
   ]
  },
  {
   "cell_type": "markdown",
   "id": "ea24064f-92e8-4421-811f-e73e35860b4f",
   "metadata": {},
   "source": [
    "### `dezero/functions.py`へsin関数を実装する\n",
    "\n",
    "- $y=\\sin \\left( x\\right)$　のとき、その微分は $\\frac{\\partial y}{\\partial x} = \\cos \\left(x\\right)$ となることを利用\n",
    "- 下記コメントのようにfoward計算は`ndarray`型, いっぽうbackwardは`Varaiable`型のため、`cos`関数の実装が別途必要になる"
   ]
  },
  {
   "cell_type": "markdown",
   "id": "7e7d36dd-b1a4-4cf6-8394-e987ec5eb8a2",
   "metadata": {},
   "source": [
    "```python\n",
    "class Sin(Function):\n",
    "    def forward(self, x):\n",
    "        y = np.sin(x)       # yはndarray\n",
    "        return y\n",
    "\n",
    "    def backward(self, gy):\n",
    "        x, = self.inputs\n",
    "        gx = gy * cos(x)    # gxはVariable\n",
    "        return gx\n",
    "\n",
    "\n",
    "def sin(x):\n",
    "    return Sin()(x)\n",
    "```"
   ]
  },
  {
   "cell_type": "markdown",
   "id": "16106ec4-7785-4d68-ba4a-dfee50a090a8",
   "metadata": {},
   "source": [
    "### 補足: Sin関数の引数にどのように値が渡ってくるか復習\n",
    "\n",
    "\n",
    "#### forward\n",
    "\n",
    "```python\n",
    "class Function:\n",
    "    def __call__(self, *inputs):\n",
    "        # 入力値はVariable型\n",
    "        inputs = [as_variable(x) for x in inputs]\n",
    "\n",
    "        # fowardにわたす前にndarray型にいったん変換\n",
    "        xs = [x.data for x in inputs]\n",
    "        \n",
    "        # ndarrayタイプのxsがforwardの引数として与えられる\n",
    "        ys = self.forward(*xs)\n",
    "        if not isinstance(ys, tuple):\n",
    "            ys = (ys,)\n",
    "        #出力はVariable型に変換\n",
    "        outputs = [Variable(as_array(y)) for y in ys]\n",
    "        \n",
    "        if Config.enable_backprop:\n",
    "            self.generation = max([x.generation for x in inputs])\n",
    "            for output in outputs:\n",
    "                output.set_creator(self)\n",
    "            # 関数の入力をVariable型でインスタンス変数として保存\n",
    "            self.inputs = inputs\n",
    "            # 関数の出力をVariable型でインスタンス変数として保存\n",
    "            self.outputs = [weakref.ref(output) for output in outputs]\n",
    "~~~~ (省略) ~~~~\n",
    "```\n",
    "\n",
    "#### backward\n",
    "\n",
    "```python\n",
    "class Variable:\n",
    "\n",
    "~~~~ (省略) ~~~~\n",
    "    \n",
    "    def backward(self, retain_grad=False, create_graph=False):\n",
    "        if self.grad is None:\n",
    "            self.grad = Variable(np.ones_like(self.data))\n",
    "\n",
    "~~~~ (省略) ~~~~\n",
    "\n",
    "        while funcs:\n",
    "            # 関数名取得\n",
    "            f = funcs.pop()\n",
    "            # 関数の出力を取得する。上記のforwardのとき関数の出力をVariable型として保存していることに注意\n",
    "            gys = [output().grad for output in f.outputs]  # output is weakref\n",
    "\n",
    "            with using_config('enable_backprop', create_graph):\n",
    "                # 微分値の計算.Variable型の値を引数として与えている\n",
    "                gxs = f.backward(*gys)\n",
    "                if not isinstance(gxs, tuple):\n",
    "                    gxs = (gxs,)\n",
    "            \n",
    "~~~~ (省略) ~~~~\n",
    "```"
   ]
  },
  {
   "cell_type": "markdown",
   "id": "7e89164b-2be5-473a-bdc5-a65729baf255",
   "metadata": {},
   "source": [
    "## 34.2 cos関数の実装"
   ]
  },
  {
   "cell_type": "markdown",
   "id": "6fb7ac0d-7bb4-4718-b9d1-1762b7adddcc",
   "metadata": {},
   "source": [
    "### `dezero/functions.py`へcos関数を実装する\n",
    "\n",
    "$y=\\cos \\left( x\\right)$　のとき、その微分は $\\frac{\\partial y}{\\partial x} = -\\sin \\left(x\\right)$ となることを利用"
   ]
  },
  {
   "cell_type": "markdown",
   "id": "d2819462-8752-46af-a1e9-1037d3f90bc2",
   "metadata": {},
   "source": [
    "```python\n",
    "class Cos(Function):\n",
    "    def forward(self, x):\n",
    "        y = np.cos(x)\n",
    "        return y\n",
    "\n",
    "    def backward(self, gy):\n",
    "        x, = self.inputs\n",
    "        gx = gy * -sin(x)\n",
    "        return gx\n",
    "\n",
    "\n",
    "def cos(x):\n",
    "    return Cos()(x)\n",
    "```"
   ]
  },
  {
   "cell_type": "markdown",
   "id": "faba13a9-1c41-418d-ae4d-ca0dfc0992e4",
   "metadata": {
    "tags": []
   },
   "source": [
    "## 34.3 sin関数の高階微分"
   ]
  },
  {
   "cell_type": "code",
   "execution_count": 2,
   "id": "baaa3767-22e0-402e-af25-b666c1abbd29",
   "metadata": {},
   "outputs": [],
   "source": [
    "import numpy as np\n",
    "from dezero import Variable\n",
    "import dezero.functions as F"
   ]
  },
  {
   "cell_type": "code",
   "execution_count": 5,
   "id": "2e2e9562-e1f3-4b94-b8a7-16b58f497334",
   "metadata": {},
   "outputs": [
    {
     "name": "stdout",
     "output_type": "stream",
     "text": [
      "1 order differential: variable(-0.8414709848078965)\n",
      "2 order differential: variable(-0.5403023058681398)\n",
      "3 order differential: variable(0.8414709848078965)\n"
     ]
    }
   ],
   "source": [
    "x = Variable(np.array(1.0))\n",
    "y = F.sin(x)\n",
    "y.backward(create_graph=True)\n",
    "\n",
    "for i in range(3):\n",
    "    gx = x.grad\n",
    "    x.cleargrad()\n",
    "    gx.backward(create_graph=True)\n",
    "    print(f\"{i+1} order differential: {x.grad}\")"
   ]
  },
  {
   "cell_type": "markdown",
   "id": "4dd07ee3-a8f9-4bb2-9e4c-26e0600bc51b",
   "metadata": {
    "tags": []
   },
   "source": [
    "## 34.3 sin関数の高階微分"
   ]
  },
  {
   "cell_type": "code",
   "execution_count": 14,
   "id": "c14bc6c1-9e80-4dbb-8b8d-d0ae5a198de9",
   "metadata": {},
   "outputs": [
    {
     "data": {
      "image/png": "[encoded data removed]",
      "text/plain": [
       "<Figure size 432x288 with 1 Axes>"
      ]
     },
     "metadata": {
      "needs_background": "light"
     },
     "output_type": "display_data"
    }
   ],
   "source": [
    "import numpy as np\n",
    "import matplotlib.pyplot as plt\n",
    "from dezero import Variable\n",
    "import dezero.functions as F\n",
    "\n",
    "# 入力値: -7から7までの200分割する\n",
    "x = Variable(np.linspace(-7, 7, 200))\n",
    "\n",
    "# 対象とする関数を定義\n",
    "y = F.sin(x)\n",
    "\n",
    "# 1階微分\n",
    "y.backward(create_graph=True)\n",
    "\n",
    "# yの元のデータを保存\n",
    "logs = [y.data.flatten()]\n",
    "\n",
    "#print(y.data)\n",
    "#print(logs)\n",
    "\n",
    "for i in range(3):\n",
    "    # N回目の微分値を保存 (N=1, 2, 3)\n",
    "    logs.append(x.grad.data.flatten())\n",
    "    gx = x.grad\n",
    "    x.cleargrad()\n",
    "    gx.backward(create_graph=True)\n",
    "\n",
    "labels = [\"y=sin(x)\", \"y'\", \"y''\", \"y'''\"]\n",
    "\n",
    "for i, v in enumerate(logs):\n",
    "    plt.plot(x.data, logs[i], label=labels[i])\n",
    "plt.legend(loc='lower right')\n",
    "plt.show()"
   ]
  }
 ],
 "metadata": {
  "kernelspec": {
   "display_name": "Python 3 (ipykernel)",
   "language": "python",
   "name": "python3"
  },
  "language_info": {
   "codemirror_mode": {
    "name": "ipython",
    "version": 3
   },
   "file_extension": ".py",
   "mimetype": "text/x-python",
   "name": "python",
   "nbconvert_exporter": "python",
   "pygments_lexer": "ipython3",
   "version": "3.9.6"
  }
 },
 "nbformat": 4,
 "nbformat_minor": 5
}
