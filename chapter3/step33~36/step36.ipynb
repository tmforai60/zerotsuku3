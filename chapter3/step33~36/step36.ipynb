{
 "cells": [
  {
   "cell_type": "markdown",
   "id": "1ff4fd51-08e8-4244-88eb-ba5cc72f203d",
   "metadata": {},
   "source": [
    "# STEP36 高階微分以外の用途"
   ]
  },
  {
   "cell_type": "markdown",
   "id": "15162bb9-4bc3-40bb-8319-b1611cf737ee",
   "metadata": {},
   "source": [
    "## これまでの流れ"
   ]
  },
  {
   "cell_type": "markdown",
   "id": "91764a4e-abd4-476b-8f52-05918573edaa",
   "metadata": {},
   "source": [
    "- STEP27:テイラー展開の微分\n",
    "- STEP28:ローゼンブロック関数を勾配降下法を理解する\n",
    "- STEP29:ニュートン法を用いた最適化, 勾配法は遅いのでニュートン法による収束高速化を目指す\n",
    "- STEP30:Back propagation の実装を見直して2階微分, 3階微分など高階微分に対応できるようにする(準備)\n",
    "- STEP31:Back propagation の実装を見直して2階微分, 3階微分など高階微分に対応できるようにする(理論)\n",
    "- STEP32:Back propagation の実装を見直して2階微分, 3階微分など高階微分に対応できるようにする(実装)\n",
    "- STEP33:ニュートン法は2階微分を使うので、STEP30〜STEP32までの成果を使って自動に最適化計算を行ってみる\n",
    "- STEP34:新しい関数としてsin関数/cos関数を実装する\n",
    "- STEP35:新しい関数としてtanhを追加する\n",
    "- STEP36:double backpropの活用例を理解する"
   ]
  },
  {
   "cell_type": "markdown",
   "id": "e5c24913-968e-4254-9b4e-94849f89025e",
   "metadata": {},
   "source": [
    "## 事前準備"
   ]
  },
  {
   "cell_type": "code",
   "execution_count": 2,
   "id": "c0b8fcda-8135-4ea7-943b-ddfb12c8e648",
   "metadata": {},
   "outputs": [],
   "source": [
    "if '__file__' in globals():\n",
    "    import os, sys\n",
    "    sys.path.append(os.path.join(os.path.dirname(__file__), '..'))\n",
    "import numpy as np\n",
    "from dezero import Variable"
   ]
  },
  {
   "cell_type": "markdown",
   "id": "69bc16aa-75a5-417e-a075-a7457c7339ca",
   "metadata": {},
   "source": [
    "## 36.1 double backpropの用途"
   ]
  },
  {
   "cell_type": "markdown",
   "id": "665e0b11-fbd3-4893-afa5-7f7fb840067a",
   "metadata": {},
   "source": [
    "### テスト関数の設定"
   ]
  },
  {
   "cell_type": "markdown",
   "id": "97c37e48-1f7c-4700-a1c8-91a201ba881b",
   "metadata": {},
   "source": [
    "次の２つの式が与えられたとき, z=2.0における $\\frac{\\partial z}{\\partial x}$ を求めよ"
   ]
  },
  {
   "cell_type": "markdown",
   "id": "18b5f07c-63e3-4b9f-b69e-6b5ed0ba5dce",
   "metadata": {},
   "source": [
    "$$\n",
    "\\begin{align}\n",
    "& y=x^2 \\\\\n",
    "& z = \\left( \\frac{\\partial y}{\\partial x} \\right)^3 + y\\\\\n",
    "\\end{align}\n",
    "$$"
   ]
  },
  {
   "cell_type": "markdown",
   "id": "78f2060a-f234-439a-8f54-6e750797769c",
   "metadata": {},
   "source": [
    "### 解析的に解いて正しい解を求めておく..."
   ]
  },
  {
   "cell_type": "markdown",
   "id": "efdca4ce-d4ea-42ae-8c88-bcdd2adcae11",
   "metadata": {},
   "source": [
    "上記を式変形し、zとxの関係に整理すると\n",
    "\n",
    "$$\n",
    "\\begin{align}\n",
    "& z = \\left( \\frac{\\partial y}{\\partial x} \\right)^3 + y = 8x^3 + x^2 \\\\\n",
    "& \\frac{\\partial z}{\\partial x} = 24x^2 + 2x\n",
    "\\end{align}\n",
    "$$"
   ]
  },
  {
   "cell_type": "markdown",
   "id": "7880b9f5-d2b0-4066-882a-5b7994b16bde",
   "metadata": {},
   "source": [
    "x = 2.0 ならば \n",
    "\n",
    "$$\n",
    "\\begin{align}\n",
    "& \\frac{\\partial z}{\\partial x} = 24 \\times 2^2 + 2 \\times 2 = 96 + 4 = 100\n",
    "\\end{align}\n",
    "$$"
   ]
  },
  {
   "cell_type": "markdown",
   "id": "302c0a86-d1a3-42e4-b2c2-a9b68fc8ec6b",
   "metadata": {},
   "source": [
    "### 上記の関数をDeZeroで解いてみる"
   ]
  },
  {
   "cell_type": "markdown",
   "id": "4dc76b68-807b-4f0b-b190-27524b35ca47",
   "metadata": {},
   "source": [
    "#### STEP1) $y = x^2$ と、その微分を計算する\n",
    "\n",
    "- `y.backward(create_graph=True)` の `create_graph=True` を指定することがポイント\n",
    "    - これにより逆伝搬のときに、新しい計算グラフが作成される"
   ]
  },
  {
   "cell_type": "markdown",
   "id": "e29a93bb-e302-4987-ad8e-aa35bab528e3",
   "metadata": {},
   "source": [
    "$ y=x^2 $ と $\\frac{dy}{dx}$を予め計算"
   ]
  },
  {
   "cell_type": "code",
   "execution_count": 3,
   "id": "aca92d73-a830-41f9-9bdb-a1ad15da6923",
   "metadata": {},
   "outputs": [],
   "source": [
    "x = Variable(np.array(2.0))\n",
    "y = x ** 2\n",
    "y.backward(create_graph=True)\n",
    "gx = x.grad\n",
    "x.cleargrad()"
   ]
  },
  {
   "cell_type": "markdown",
   "id": "19f222a8-a39b-48ac-9eb9-1cb06be87e73",
   "metadata": {},
   "source": [
    "#### STEP2) 上記で求めた微分値を使って、その微分を計算する\n",
    "\n",
    "$z = {g_x}^3 + y$ を計算"
   ]
  },
  {
   "cell_type": "code",
   "execution_count": 5,
   "id": "b8667360-036f-4b29-a556-1690f1dea5f6",
   "metadata": {},
   "outputs": [
    {
     "name": "stdout",
     "output_type": "stream",
     "text": [
      "variable(100.0)\n"
     ]
    }
   ],
   "source": [
    "z = gx ** 3 + y\n",
    "z.backward()\n",
    "print(x.grad)"
   ]
  },
  {
   "cell_type": "markdown",
   "id": "17024dc7-d387-4b3a-89eb-3bec9daa04f5",
   "metadata": {},
   "source": [
    "## 36.2 Deep Learningの研究での使用例"
   ]
  },
  {
   "cell_type": "markdown",
   "id": "cf734c01-0428-411a-9df3-b402117a9432",
   "metadata": {},
   "source": [
    "### WGAN-GPの論文における double backprop 活用例"
   ]
  },
  {
   "cell_type": "markdown",
   "id": "9f597be0-0f19-4216-95fa-99e96a0e2da7",
   "metadata": {},
   "source": [
    "以下のようなLの最適化で、**double backprop** を利用する例あり"
   ]
  },
  {
   "cell_type": "markdown",
   "id": "9b8f0f85-ce8b-48f7-8c93-c666715db11b",
   "metadata": {},
   "source": [
    "$$\n",
    "\\begin{align}\n",
    "L={\\underset{\\tilde{x}\\sim\\mathbb{P}_g}{\\mathbb{E}}}\\left[D\\left(\\tilde{\\mathbf{x}}\\right)\\right]\n",
    "-{\\underset{\\tilde{x}\\sim\\mathbb{P}_r}{\\mathbb{E}}}\\left[D\\left(\\mathbf{x}\\right)\\right]+\\lambda{\\underset{\\tilde{x}\\sim\\mathbb{P}_\\hat{\\omega}}{\\mathbb{E}}}\\left[\\left(\\parallel \\triangledown_\\hat{x} D\\left(\\tilde{\\mathbf{x}}\\right)\\parallel_2-1\\right)^2\\right]\n",
    "\\end{align}\n",
    "$$"
   ]
  },
  {
   "cell_type": "markdown",
   "id": "b38fc510-d2b0-4797-aaf7-e81d50bda6db",
   "metadata": {},
   "source": [
    "- $\\triangledown_\\hat{x} D\\left(\\tilde{\\mathbf{x}}\\right)$ は勾配であり、つまり微分である\n",
    "- この勾配は逆伝搬で計算できる\n",
    "- 計算した勾配を使って関数Lを計算する\n",
    "- 関数Lを最適化するために2回目の逆伝搬を行う"
   ]
  },
  {
   "cell_type": "markdown",
   "id": "96b91278-e185-4b4f-aa23-b9324dbb8984",
   "metadata": {},
   "source": [
    "### その他の論文におけるdouble backprop活用例"
   ]
  },
  {
   "cell_type": "markdown",
   "id": "d93a1431-e3fb-47c4-924c-8ed0d58cc2aa",
   "metadata": {},
   "source": [
    "- MAML\n",
    "- TRPO\n",
    "    - ヘッセ行列とベクトルの積を求める際に、double backpropを使う"
   ]
  },
  {
   "cell_type": "markdown",
   "id": "2ff172f6-b4d8-4c12-b550-671a7ff8d1e9",
   "metadata": {},
   "source": [
    "## コラム: ニュートン法とdouble backpropの補足\n",
    "\n",
    "以下を説明する\n",
    "\n",
    "- 入力がベクトルの場合のニュートン法\n",
    "- ニュートン法に変わる別の手法\n",
    "- double backpropの実用的な用途"
   ]
  },
  {
   "cell_type": "markdown",
   "id": "1f4b597e-f8c3-4dcd-8f4f-4604c9127922",
   "metadata": {},
   "source": [
    "### 多変数関数のニュートン法 (結局のところニュートン法は最適化には使われない)"
   ]
  },
  {
   "cell_type": "markdown",
   "id": "4c5f4081-663a-4716-ba3a-4fda50fc9a54",
   "metadata": {},
   "source": [
    "以下のような、多次元の入力変数 $\\mathbf x$ をもつ関数 $y$ を考える"
   ]
  },
  {
   "cell_type": "markdown",
   "id": "3311557f-dd04-4072-98e3-6439ed6723ae",
   "metadata": {},
   "source": [
    "$$\n",
    "\\begin{align}\n",
    "& y=f(\\mathbf x)\\\\\n",
    "& \\mathbf x = \\left(x_1,x_2,x_3,...,x_n\\right)\n",
    "\\end{align}\n",
    "$$"
   ]
  },
  {
   "cell_type": "markdown",
   "id": "31783907-358c-4df1-bd16-cc8d4ce8e38c",
   "metadata": {},
   "source": [
    "このとき多次元のニュートン法は以下のように表される。"
   ]
  },
  {
   "cell_type": "markdown",
   "id": "dfb3f209-c291-47c8-9de2-bf46fde2e8d3",
   "metadata": {},
   "source": [
    "$$\n",
    "\\begin{align}\n",
    "& \\mathbf x \\leftarrow \\mathbf x - \\left[\\triangledown^2f\\left(\\mathbf x\\right)\\right]^{-1}\\triangledown f\\left(\\mathbf x\\right)\n",
    "\\end{align}\n",
    "$$"
   ]
  },
  {
   "cell_type": "markdown",
   "id": "9679762e-4593-4d17-9195-fda219e13b61",
   "metadata": {},
   "source": [
    "ここで $\\left[\\triangledown^2f\\left(\\mathbf x\\right)\\right]^{-1}$ は $\\triangledown^2f\\left(\\mathbf x\\right)$ の逆行列であり\n",
    "$\\triangledown f\\left(\\mathbf x\\right)$, $\\triangledown^2f\\left(\\mathbf x\\right)$ はそれぞれ以下のように表現できる\n"
   ]
  },
  {
   "cell_type": "markdown",
   "id": "b12c44c6-84c2-45ed-a351-6b983a8c9e2e",
   "metadata": {},
   "source": [
    "$$\n",
    "\\begin{align}\n",
    "& \\triangledown f\\left(\\mathbf x\\right)=\\left(\\begin{array}{c}\\frac{\\partial f}{\\partial x_1}\\\\ \\frac{\\partial f}{\\partial x_2}\\\\:\\\\\\frac{\\partial f}{\\partial x_n}\\end{array}\\right)\n",
    "\\end{align}\n",
    "$$\n",
    "\n",
    "$$\n",
    "\\begin{align}\n",
    "& \\triangledown^2 f\\left(\\mathbf x\\right)=\\left(\\begin{array}{c}\\frac{\\partial^2 f}{\\partial {x_1}^2} & \\frac{\\partial^2 f}{\\partial x_1 \\partial x_2} & ...& \\frac{\\partial^2 f}{\\partial x_1 \\partial x_n}\\\\ \\frac{\\partial^2 f}{\\partial^2 x_2 \\partial x_1} & \\frac{\\partial^2 f}{\\partial{x_2}^2} & ... & \\frac{\\partial^2 f}{\\partial x_2 \\partial x_n}\\\\: & : &...&:\\\\\\frac{\\partial^2 f}{\\partial x_n \\partial x_1} & \\frac{\\partial^2 f}{\\partial x_n \\partial x_2} & ... & \\frac{\\partial^2 f}{\\partial {x_n}^2}\n",
    "\\end{array}\\right)\n",
    "\\end{align}\n",
    "$$"
   ]
  },
  {
   "cell_type": "markdown",
   "id": "8e713eff-d3a7-401b-bf0e-0e535cc0af64",
   "metadata": {},
   "source": [
    "### ニュートン法の問題点"
   ]
  },
  {
   "cell_type": "markdown",
   "id": "9a561118-1976-47a2-87e7-9c6feabd73ca",
   "metadata": {},
   "source": [
    "ヘッセ行列の逆行列を計算するのが大変。パラメータの数が100万個を超えると1M x 1M のヘッセ行列が必要になる。\n",
    "\n",
    "- メモリ不足の問題\n",
    "- 計算時間の問題\n",
    "\n",
    "ニュートン法に変わるアプローチ\n",
    "\n",
    "- 准ニュートン法: ヘッセ行列の逆行列を近似して使用する\n",
    "    - L-BFGS: 准ニュートン法で特に有名な手法 \n",
    "        -　勾配だけからヘッセ行列を近似\n",
    "        - PyTouchで実装されている\n",
    "- 現状の主流は以下であり准ニュートン法も使われる機会はあまりない\n",
    "    - SGD\n",
    "    - Momentum\n",
    "    - Adam"
   ]
  },
  {
   "cell_type": "markdown",
   "id": "98b9039d-8c71-495d-8dab-7338ba9d15e9",
   "metadata": {},
   "source": [
    "### double backpropの用途: ヘッセ行列と行列の積"
   ]
  },
  {
   "cell_type": "markdown",
   "id": "fc6335fd-5062-4ebe-8a1d-eef7548da21a",
   "metadata": {},
   "source": [
    "ヘッセ行列を求める計算コストは高いが、ヘッセ行列とベクトルの積の結果だけが必要であれば、double backpropを使い効率よく求めることができる"
   ]
  },
  {
   "cell_type": "markdown",
   "id": "5af6e376-af4a-4f73-9a76-e702a8f4269c",
   "metadata": {},
   "source": [
    "$$\n",
    "\\begin{align}\n",
    "\\triangledown^2f\\left(\\mathbf x\\right)\\mathbf v = \\triangledown \\left(  \\mathbf v^T f\\left( \\mathbf x\\right) \\right)\n",
    "\\end{align}\n",
    "$$"
   ]
  },
  {
   "cell_type": "markdown",
   "id": "fe88de7e-cb68-4ccb-8133-4faadda39fba",
   "metadata": {},
   "source": [
    "ここで、"
   ]
  },
  {
   "cell_type": "markdown",
   "id": "49dcf354-5704-4341-bb9c-5ba5e0de5f2c",
   "metadata": {},
   "source": [
    "\\begin{align}\n",
    "\\triangledown^2 f\\left(\\mathbf x\\right)\\mathbf v \n",
    "& =\\left(\\begin{array}{c}\\frac{\\partial^2 f}{\\partial {x_1}^2} & \\frac{\\partial^2 f}{\\partial x_1 \\partial x_2}\\\\ \\frac{\\partial^2 f}{\\partial x_2 \\partial x_1} & \\frac{\\partial^2 f}{\\partial{x_2}^2}\n",
    "\\end{array}\\right)\\left(\\begin{array}{c}v_1\\\\ v_2\\end{array}\\right) \\\\\n",
    "& =\\left(\\begin{array}{c}\\frac{\\partial^2 f}{\\partial {x_1}^2}v_1 + \\frac{\\partial^2 f}{\\partial x_1 \\partial x_2}v_2\\\\ \\frac{\\partial^2 f}{\\partial x_2 \\partial x_1}v_1 + \\frac{\\partial^2 f}{\\partial{x_2}^2}v_2\n",
    "\\end{array}\\right)\n",
    "\\end{align}"
   ]
  },
  {
   "cell_type": "markdown",
   "id": "42752d20-5299-41a2-95da-a78a971b6ccb",
   "metadata": {},
   "source": [
    "$$\n",
    "\\begin{align}\n",
    "\\triangledown \\left(  \\mathbf v^T f\\left( \\mathbf x\\right) \\right)\n",
    "& =\\triangledown \\left(v_1, v_2\\right) \n",
    "\\left(\\begin{array}\n",
    "{c}\\frac{\\partial f}{\\partial {x_1}} \\\\ \\ \\frac{\\partial f}{\\partial{x_2}}\n",
    "\\end{array}\\right) \\\\\n",
    "& =\\triangledown \\left(\n",
    "v_1\\frac{\\partial f}{\\partial {x_1}} + v_2\\frac{\\partial f}{\\partial{x_2}}\n",
    "\\right) \\\\\n",
    "& =\\left(\\begin{array}{c}\\frac{\\partial^2 f}{\\partial {x_1}^2}v_1 + \\frac{\\partial^2 f}{\\partial x_1 \\partial x_2}v_2\\\\ \\frac{\\partial^2 f}{\\partial x_2 \\partial x_1}v_1 + \\frac{\\partial^2 f}{\\partial{x_2}^2}v_2\n",
    "\\end{array}\\right)\n",
    "\\end{align}\n",
    "$$"
   ]
  },
  {
   "cell_type": "markdown",
   "id": "d9b6bc89-dc32-4211-adf5-1dc99a074bce",
   "metadata": {},
   "source": [
    "### 以下のコラムのコードは現状では動かない\n",
    "\n",
    "```python\n",
    "import numpy as np\n",
    "from dezero import Variable\n",
    "import dezero.functions as F\n",
    "import dezero.utils\n",
    "\n",
    "x = Variable(np.array([1.0, 2.0]))\n",
    "v = Variable(np.array([4.0, 5.0]))\n",
    "\n",
    "def f(x):\n",
    "    t = x ** 2\n",
    "    y = F.sum(t)\n",
    "    return y\n",
    "\n",
    "y = f(x)\n",
    "y.backward(create_graph=True)\n",
    "\n",
    "gx = x.grad\n",
    "x.cleargrad()\n",
    "\n",
    "z = F.matmul(v, gx)\n",
    "z.backward()\n",
    "print(x.grad)\n",
    "```"
   ]
  }
 ],
 "metadata": {
  "kernelspec": {
   "display_name": "Python 3 (ipykernel)",
   "language": "python",
   "name": "python3"
  },
  "language_info": {
   "codemirror_mode": {
    "name": "ipython",
    "version": 3
   },
   "file_extension": ".py",
   "mimetype": "text/x-python",
   "name": "python",
   "nbconvert_exporter": "python",
   "pygments_lexer": "ipython3",
   "version": "3.9.6"
  }
 },
 "nbformat": 4,
 "nbformat_minor": 5
}
